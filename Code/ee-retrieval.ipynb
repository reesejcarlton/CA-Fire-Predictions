{
 "cells": [
  {
   "cell_type": "code",
   "execution_count": null,
   "id": "9b6cf790",
   "metadata": {},
   "outputs": [],
   "source": []
  },
  {
   "cell_type": "markdown",
   "id": "b78ac25d",
   "metadata": {},
   "source": [
    "# EE Retrieval"
   ]
  },
  {
   "cell_type": "code",
   "execution_count": 491,
   "id": "4b2f31b4",
   "metadata": {},
   "outputs": [],
   "source": [
    "#### For this to work you need to replace w/ your own service account and credentials\n",
    "#### You may also need to install the earthengine-api\n",
    "#### ! pip install earthengine-api --upgrade\n",
    "\n",
    "# Service Account, eg \"[...]iam.gserviceaccount.com\"\n",
    "service_account = ''\n",
    "# Path to the service account key\n",
    "json_credentials = ''\n",
    "\n",
    "# Only need to initialize once in awhile\n",
    "auth_intialize = False"
   ]
  },
  {
   "cell_type": "code",
   "execution_count": 492,
   "id": "311ca269",
   "metadata": {},
   "outputs": [],
   "source": [
    "import ee\n",
    "import numpy as np\n",
    "import os\n",
    "import pandas as pd\n",
    "import requests\n",
    "\n",
    "from datetime import datetime\n",
    "from PIL import Image\n",
    "from tqdm import tqdm\n",
    "\n",
    "\n",
    "tqdm.pandas()"
   ]
  },
  {
   "cell_type": "code",
   "execution_count": 493,
   "id": "992d96d8",
   "metadata": {},
   "outputs": [],
   "source": [
    "if auth_intialize:\n",
    "    SCOPES = [\n",
    "        'https://www.googleapis.com/auth/earthengine',\n",
    "        'https://www.googleapis.com/auth/drive'\n",
    "    ]\n",
    "    ee.Authenticate(scopes=SCOPES)\n",
    "    credentials = ee.ServiceAccountCredentials(service_account, json_credentials)\n",
    "    ee.Initialize(credentials)"
   ]
  },
  {
   "cell_type": "markdown",
   "id": "7134b06a",
   "metadata": {},
   "source": [
    "## Check collections for images"
   ]
  },
  {
   "cell_type": "code",
   "execution_count": 494,
   "id": "81b1c370",
   "metadata": {},
   "outputs": [
    {
     "name": "stdout",
     "output_type": "stream",
     "text": [
      "COPERNICUS/S2_SR_HARMONIZED has 34 images available.\n",
      "COPERNICUS/S1_GRD has 23 images available.\n",
      "LANDSAT/LC08/C01/T1_SR has no images available for the specified date range: 2024-01-01 to 2024-04-02\n",
      "LANDSAT/LE07/C01/T1_SR has no images available for the specified date range: 2024-01-01 to 2024-04-02\n",
      "LANDSAT/LT05/C01/T1_SR has no images available for the specified date range: 2024-01-01 to 2024-04-02\n",
      "MODIS/006/MOD09GQ has no images available for the specified date range: 2024-01-01 to 2024-04-02\n",
      "MODIS/006/MOD13Q1 has no images available for the specified date range: 2024-01-01 to 2024-04-02\n",
      "NOAA/GOES/16/MCMIPF has 13203 images available.\n",
      "COPERNICUS/S5P/OFFL/L3_NO2 has 1286 images available.\n",
      "Available collections with images: ['COPERNICUS/S2_SR_HARMONIZED', 'COPERNICUS/S1_GRD', 'NOAA/GOES/16/MCMIPF', 'COPERNICUS/S5P/OFFL/L3_NO2']\n"
     ]
    }
   ],
   "source": [
    "# Example coordinates\n",
    "lat, lon = 37.868710, -122.274720\n",
    "point = ee.Geometry.Point([lon, lat])\n",
    "\n",
    "# Create a buffer around the point\n",
    "buffer_distance = 100\n",
    "roi = point.buffer(buffer_distance)\n",
    "\n",
    "# Define the date range of interest\n",
    "start_date = '2024-01-01'\n",
    "end_date = '2024-04-02'\n",
    "\n",
    "# List of image collections to check\n",
    "collections = [\n",
    "    'COPERNICUS/S2_SR_HARMONIZED',\n",
    "    'COPERNICUS/S1_GRD',\n",
    "    'LANDSAT/LC08/C01/T1_SR',\n",
    "    'LANDSAT/LE07/C01/T1_SR',\n",
    "    'LANDSAT/LT05/C01/T1_SR',\n",
    "    'MODIS/006/MOD09GQ',\n",
    "    'MODIS/006/MOD13Q1',\n",
    "    'NOAA/GOES/16/MCMIPF',\n",
    "    'COPERNICUS/S5P/OFFL/L3_NO2'\n",
    "]\n",
    "\n",
    "# Check each collection for images in the specified date range\n",
    "available_collections = []\n",
    "\n",
    "for collection_id in collections:\n",
    "    collection = ee.ImageCollection(collection_id).filterDate(start_date, end_date).filterBounds(roi)\n",
    "    count = collection.size().getInfo()\n",
    "    if count > 0:\n",
    "        available_collections.append(collection_id)\n",
    "        print(f\"{collection_id} has {count} images available.\")\n",
    "    else:\n",
    "        print(f\"{collection_id} has no images available for the specified date range: {start_date} to {end_date}\")\n",
    "\n",
    "if not available_collections:\n",
    "    print(\"No collections have images available for the specified date range and region.\")\n",
    "\n",
    "print(\"Available collections with images:\", available_collections)"
   ]
  },
  {
   "cell_type": "markdown",
   "id": "03bbdfe4",
   "metadata": {},
   "source": [
    "## Retrieve images"
   ]
  },
  {
   "cell_type": "code",
   "execution_count": 495,
   "id": "9ce65fb0",
   "metadata": {},
   "outputs": [],
   "source": [
    "def process_sentinel2(date1, date2, lon, lat, export_desc, base_dir=\"../Data\", buffer=2560, cloud_percentage=20, cloud_percentage_fallback=50, export=False):    \n",
    "    # Create point geometry\n",
    "    coordinates = ee.Geometry.Point([lon, lat])\n",
    "    \n",
    "    # Define region of interest\n",
    "    region = coordinates.buffer(buffer)\n",
    "\n",
    "    # Load Sentinel-2 collection\n",
    "    # Sentinel-2 has a max resolution of 10 m/pixel\n",
    "    # Also has a 5-day revisit time\n",
    "    # https://www.esa.int/Applications/Observing_the_Earth/Copernicus/Sentinel-2\n",
    "    sentinel2 = ee.ImageCollection('COPERNICUS/S2_HARMONIZED') \\\n",
    "                    .filterBounds(region) \\\n",
    "                    .filterDate(date1, date2) \\\n",
    "                    .filter(ee.Filter.lt('CLOUDY_PIXEL_PERCENTAGE', cloud_percentage))\n",
    "\n",
    "    # If cloud_percentage threshold is too low, try again w/ a less stringent threshold\n",
    "    if (sentinel2.size().getInfo() == 0):\n",
    "        sentinel2 = ee.ImageCollection('COPERNICUS/S2_HARMONIZED') \\\n",
    "                .filterBounds(region) \\\n",
    "                .filterDate(date1, date2) \\\n",
    "                .filter(ee.Filter.lt('CLOUDY_PIXEL_PERCENTAGE', cloud_percentage_fallback))\n",
    "\n",
    "    # Create a mosaic of filtered images\n",
    "    # https://developers.google.com/earth-engine/guides/ic_composite_mosaic\n",
    "    mosaic = sentinel2.median()\n",
    " \n",
    "    # Process and download true-color and NDVI images\n",
    "\n",
    "    # true-color images\n",
    "    # cast tc bands to the same data type\n",
    "    image_uint16 = mosaic.select(['B4', 'B3', 'B2']).uint16()\n",
    "    tc_params = {\n",
    "        'bands': ['B4', 'B3', 'B2'],\n",
    "        'min': 500,\n",
    "        'max': 4000,\n",
    "        'gamma': 1.4  # adjust for contrast\n",
    "    }\n",
    "    true_color_img = image_uint16.visualize(**tc_params)    \n",
    "\n",
    "    # ndvi images\n",
    "    ndvi_raw_img = mosaic.normalizedDifference(['B8', 'B4']).rename('NDVI')\n",
    "\n",
    "    # ndvi two-tone color\n",
    "    ndvi_color_params = {\n",
    "        'min': -1,\n",
    "        'max': 1,\n",
    "        'palette': ['darkblue', 'white']\n",
    "    }\n",
    "    # ndvi_color_img = ndvi_raw_img.visualize(**ndvi_color_params)    \n",
    "    \n",
    "    # ndvi grayscale\n",
    "    ndvi_bw_params = {\n",
    "        'min': -1,\n",
    "        'max': 1,\n",
    "        'palette': ['black', 'white']\n",
    "    }\n",
    "    ndvi_bw_img = ndvi_raw_img.visualize(**ndvi_bw_params)\n",
    "\n",
    "    image_dests = []\n",
    "    image_dests.append(download_cropped_image(image=true_color_img, region=region,\n",
    "                                              dirpath=f\"{base_dir}/exports/tc/\",\n",
    "                                              export_desc=f\"{export_desc}_tc\"))\n",
    "    # image_dests.append(download_image(ndvi_color_img, region, f\"{base_dir}/exports/{export_desc}_tc_ndvi_color\"))\n",
    "    image_dests.append(download_cropped_image(image=ndvi_bw_img, region=region, \n",
    "                                              dirpath=f\"{base_dir}/exports/ndvi/\",\n",
    "                                              export_desc=f\"{export_desc}_ndvi_bw\"))\n",
    "\n",
    "    # Export image to Google Drive\n",
    "    if export:\n",
    "        raise ValueError(\"Export to drive should be configured separately\")\n",
    "        # NOTE: comment out the error above if export to drive has been configured\n",
    "        export_task = ee.batch.Export.image.toDrive(\n",
    "            image=image_uint16.visualize(**visualization),\n",
    "            description=export_desc,\n",
    "            folder='EarthEngineExports',\n",
    "            scale=10,  # in meters\n",
    "            region=region.bounds().getInfo()['coordinates'],\n",
    "            fileFormat='GeoTIFF',\n",
    "            crs='EPSG:4326',\n",
    "            maxPixels=1e9\n",
    "        )\n",
    "\n",
    "        export_task.start()\n",
    "    \n",
    "    return image_dests"
   ]
  },
  {
   "cell_type": "markdown",
   "id": "fe17cc0a",
   "metadata": {},
   "source": [
    "## Download and crop images to standard size"
   ]
  },
  {
   "cell_type": "code",
   "execution_count": 496,
   "id": "d4fb263c",
   "metadata": {},
   "outputs": [],
   "source": [
    "def find_or_create_download_dirs(base_dir):\n",
    "    for dirpath in [f\"{base_dir}/exports\", f\"{base_dir}/exports/ndvi\", f\"{base_dir}/exports/tc\"]:\n",
    "        if not os.path.exists(dirpath):\n",
    "            os.makedirs(dirpath)\n",
    "            print(f\"Directory created at: {dirpath}\")"
   ]
  },
  {
   "cell_type": "code",
   "execution_count": 497,
   "id": "8d665600",
   "metadata": {},
   "outputs": [],
   "source": [
    "def download_cropped_image(image, region, dirpath, export_desc=None, scale=10, crop_size=512):\n",
    "    # Download image\n",
    "    url = image.getDownloadURL({\n",
    "        'scale': scale,\n",
    "        'region': region.bounds().getInfo()['coordinates'],\n",
    "        'format': 'GeoTIFF',\n",
    "        'crs': 'EPSG:4326'\n",
    "    })\n",
    "    response = requests.get(url, stream=True)\n",
    "\n",
    "    # Write to disk and crop\n",
    "    if response.status_code == 200:\n",
    "        export_raw_fpath = f\"{dirpath}{export_desc}.tif\"\n",
    "        # export raw image\n",
    "        with open(export_raw_fpath, 'wb') as f:\n",
    "            for chunk in response.iter_content(1024):\n",
    "                f.write(chunk)\n",
    "        # crop image to center square\n",
    "        final_image_size = crop_tif_as_center_square(export_raw_fpath)\n",
    "        print(f\"Image download: {export_raw_fpath} {final_image_size}\")\n",
    "        return export_raw_fpath\n",
    "    else:\n",
    "        print(f\"Failed to download image. HTTP status code: {response.status_code}\")\n",
    "        return None"
   ]
  },
  {
   "cell_type": "code",
   "execution_count": 498,
   "id": "d9ecc4c1",
   "metadata": {},
   "outputs": [],
   "source": [
    "def crop_center(img, crop_width, crop_height):\n",
    "    img_width, img_height = img.size\n",
    "    return img.crop((\n",
    "        (img_width - crop_width) // 2,\n",
    "        (img_height - crop_height) // 2,\n",
    "        (img_width + crop_width) // 2,\n",
    "        (img_height + crop_height) // 2\n",
    "    ))\n",
    "\n",
    "def crop_tif_as_center_square(fpath, crop_size=512):\n",
    "    img = Image.open(fpath)\n",
    "    cropped_img = crop_center(img, crop_size, crop_size)\n",
    "    cropped_img.save(fpath)\n",
    "    return cropped_img.size"
   ]
  },
  {
   "cell_type": "code",
   "execution_count": null,
   "id": "a0a9b41d",
   "metadata": {},
   "outputs": [],
   "source": []
  },
  {
   "cell_type": "markdown",
   "id": "ffd013bd",
   "metadata": {},
   "source": [
    "## Load wildfires dataset"
   ]
  },
  {
   "cell_type": "code",
   "execution_count": 499,
   "id": "0b0605b6",
   "metadata": {},
   "outputs": [
    {
     "data": {
      "text/html": [
       "<div>\n",
       "<style scoped>\n",
       "    .dataframe tbody tr th:only-of-type {\n",
       "        vertical-align: middle;\n",
       "    }\n",
       "\n",
       "    .dataframe tbody tr th {\n",
       "        vertical-align: top;\n",
       "    }\n",
       "\n",
       "    .dataframe thead th {\n",
       "        text-align: right;\n",
       "    }\n",
       "</style>\n",
       "<table border=\"1\" class=\"dataframe\">\n",
       "  <thead>\n",
       "    <tr style=\"text-align: right;\">\n",
       "      <th></th>\n",
       "      <th>AcresBurned</th>\n",
       "      <th>Active</th>\n",
       "      <th>AdminUnit</th>\n",
       "      <th>AirTankers</th>\n",
       "      <th>ArchiveYear</th>\n",
       "      <th>CalFireIncident</th>\n",
       "      <th>CanonicalUrl</th>\n",
       "      <th>ConditionStatement</th>\n",
       "      <th>ControlStatement</th>\n",
       "      <th>Counties</th>\n",
       "      <th>...</th>\n",
       "      <th>SearchKeywords</th>\n",
       "      <th>Started</th>\n",
       "      <th>Status</th>\n",
       "      <th>StructuresDamaged</th>\n",
       "      <th>StructuresDestroyed</th>\n",
       "      <th>StructuresEvacuated</th>\n",
       "      <th>StructuresThreatened</th>\n",
       "      <th>UniqueId</th>\n",
       "      <th>Updated</th>\n",
       "      <th>WaterTenders</th>\n",
       "    </tr>\n",
       "  </thead>\n",
       "  <tbody>\n",
       "    <tr>\n",
       "      <th>0</th>\n",
       "      <td>257314.0</td>\n",
       "      <td>False</td>\n",
       "      <td>Stanislaus National Forest/Yosemite National Park</td>\n",
       "      <td>NaN</td>\n",
       "      <td>2013</td>\n",
       "      <td>True</td>\n",
       "      <td>/incidents/2013/8/17/rim-fire/</td>\n",
       "      <td>NaN</td>\n",
       "      <td>NaN</td>\n",
       "      <td>Tuolumne</td>\n",
       "      <td>...</td>\n",
       "      <td>Rim Fire, Stanislaus National Forest, Yosemite...</td>\n",
       "      <td>2013-08-17T15:25:00Z</td>\n",
       "      <td>Finalized</td>\n",
       "      <td>NaN</td>\n",
       "      <td>NaN</td>\n",
       "      <td>NaN</td>\n",
       "      <td>NaN</td>\n",
       "      <td>5fb18d4d-213f-4d83-a179-daaf11939e78</td>\n",
       "      <td>2013-09-06T18:30:00Z</td>\n",
       "      <td>NaN</td>\n",
       "    </tr>\n",
       "    <tr>\n",
       "      <th>1</th>\n",
       "      <td>30274.0</td>\n",
       "      <td>False</td>\n",
       "      <td>USFS Angeles National Forest/Los Angeles Count...</td>\n",
       "      <td>NaN</td>\n",
       "      <td>2013</td>\n",
       "      <td>True</td>\n",
       "      <td>/incidents/2013/5/30/powerhouse-fire/</td>\n",
       "      <td>NaN</td>\n",
       "      <td>NaN</td>\n",
       "      <td>Los Angeles</td>\n",
       "      <td>...</td>\n",
       "      <td>Powerhouse Fire, May 2013, June 2013, Angeles ...</td>\n",
       "      <td>2013-05-30T15:28:00Z</td>\n",
       "      <td>Finalized</td>\n",
       "      <td>NaN</td>\n",
       "      <td>NaN</td>\n",
       "      <td>NaN</td>\n",
       "      <td>NaN</td>\n",
       "      <td>bf37805e-1cc2-4208-9972-753e47874c87</td>\n",
       "      <td>2013-06-08T18:30:00Z</td>\n",
       "      <td>NaN</td>\n",
       "    </tr>\n",
       "  </tbody>\n",
       "</table>\n",
       "<p>2 rows × 40 columns</p>\n",
       "</div>"
      ],
      "text/plain": [
       "   AcresBurned  Active                                          AdminUnit  \\\n",
       "0     257314.0   False  Stanislaus National Forest/Yosemite National Park   \n",
       "1      30274.0   False  USFS Angeles National Forest/Los Angeles Count...   \n",
       "\n",
       "   AirTankers  ArchiveYear  CalFireIncident  \\\n",
       "0         NaN         2013             True   \n",
       "1         NaN         2013             True   \n",
       "\n",
       "                            CanonicalUrl ConditionStatement ControlStatement  \\\n",
       "0         /incidents/2013/8/17/rim-fire/                NaN              NaN   \n",
       "1  /incidents/2013/5/30/powerhouse-fire/                NaN              NaN   \n",
       "\n",
       "      Counties  ...                                     SearchKeywords  \\\n",
       "0     Tuolumne  ...  Rim Fire, Stanislaus National Forest, Yosemite...   \n",
       "1  Los Angeles  ...  Powerhouse Fire, May 2013, June 2013, Angeles ...   \n",
       "\n",
       "                Started     Status  StructuresDamaged StructuresDestroyed  \\\n",
       "0  2013-08-17T15:25:00Z  Finalized                NaN                 NaN   \n",
       "1  2013-05-30T15:28:00Z  Finalized                NaN                 NaN   \n",
       "\n",
       "   StructuresEvacuated  StructuresThreatened  \\\n",
       "0                  NaN                   NaN   \n",
       "1                  NaN                   NaN   \n",
       "\n",
       "                               UniqueId               Updated  WaterTenders  \n",
       "0  5fb18d4d-213f-4d83-a179-daaf11939e78  2013-09-06T18:30:00Z           NaN  \n",
       "1  bf37805e-1cc2-4208-9972-753e47874c87  2013-06-08T18:30:00Z           NaN  \n",
       "\n",
       "[2 rows x 40 columns]"
      ]
     },
     "execution_count": 499,
     "metadata": {},
     "output_type": "execute_result"
    }
   ],
   "source": [
    "wildfires_df = pd.read_csv(\"../Data/California_Fire_Incidents.csv\")\n",
    "wildfires_df.head(2)"
   ]
  },
  {
   "cell_type": "code",
   "execution_count": 500,
   "id": "daa127c4",
   "metadata": {},
   "outputs": [
    {
     "name": "stdout",
     "output_type": "stream",
     "text": [
      "<class 'pandas.core.frame.DataFrame'>\n",
      "RangeIndex: 1636 entries, 0 to 1635\n",
      "Data columns (total 40 columns):\n",
      " #   Column                Non-Null Count  Dtype  \n",
      "---  ------                --------------  -----  \n",
      " 0   AcresBurned           1633 non-null   float64\n",
      " 1   Active                1636 non-null   bool   \n",
      " 2   AdminUnit             1636 non-null   object \n",
      " 3   AirTankers            28 non-null     float64\n",
      " 4   ArchiveYear           1636 non-null   int64  \n",
      " 5   CalFireIncident       1636 non-null   bool   \n",
      " 6   CanonicalUrl          1636 non-null   object \n",
      " 7   ConditionStatement    284 non-null    object \n",
      " 8   ControlStatement      105 non-null    object \n",
      " 9   Counties              1636 non-null   object \n",
      " 10  CountyIds             1636 non-null   object \n",
      " 11  CrewsInvolved         171 non-null    float64\n",
      " 12  Dozers                123 non-null    float64\n",
      " 13  Engines               191 non-null    float64\n",
      " 14  Extinguished          1577 non-null   object \n",
      " 15  Fatalities            21 non-null     float64\n",
      " 16  Featured              1636 non-null   bool   \n",
      " 17  Final                 1636 non-null   bool   \n",
      " 18  FuelType              12 non-null     object \n",
      " 19  Helicopters           84 non-null     float64\n",
      " 20  Injuries              120 non-null    float64\n",
      " 21  Latitude              1636 non-null   float64\n",
      " 22  Location              1636 non-null   object \n",
      " 23  Longitude             1636 non-null   float64\n",
      " 24  MajorIncident         1636 non-null   bool   \n",
      " 25  Name                  1636 non-null   object \n",
      " 26  PercentContained      1633 non-null   float64\n",
      " 27  PersonnelInvolved     204 non-null    float64\n",
      " 28  Public                1636 non-null   bool   \n",
      " 29  SearchDescription     1619 non-null   object \n",
      " 30  SearchKeywords        1433 non-null   object \n",
      " 31  Started               1636 non-null   object \n",
      " 32  Status                1636 non-null   object \n",
      " 33  StructuresDamaged     67 non-null     float64\n",
      " 34  StructuresDestroyed   175 non-null    float64\n",
      " 35  StructuresEvacuated   0 non-null      float64\n",
      " 36  StructuresThreatened  30 non-null     float64\n",
      " 37  UniqueId              1636 non-null   object \n",
      " 38  Updated               1636 non-null   object \n",
      " 39  WaterTenders          146 non-null    float64\n",
      "dtypes: bool(6), float64(17), int64(1), object(16)\n",
      "memory usage: 444.3+ KB\n"
     ]
    }
   ],
   "source": [
    "wildfires_df.info()"
   ]
  },
  {
   "cell_type": "code",
   "execution_count": 501,
   "id": "2768811c",
   "metadata": {},
   "outputs": [
    {
     "data": {
      "text/html": [
       "<div>\n",
       "<style scoped>\n",
       "    .dataframe tbody tr th:only-of-type {\n",
       "        vertical-align: middle;\n",
       "    }\n",
       "\n",
       "    .dataframe tbody tr th {\n",
       "        vertical-align: top;\n",
       "    }\n",
       "\n",
       "    .dataframe thead th {\n",
       "        text-align: right;\n",
       "    }\n",
       "</style>\n",
       "<table border=\"1\" class=\"dataframe\">\n",
       "  <thead>\n",
       "    <tr style=\"text-align: right;\">\n",
       "      <th></th>\n",
       "      <th>Longitude</th>\n",
       "      <th>Latitude</th>\n",
       "      <th>Counties</th>\n",
       "      <th>Location</th>\n",
       "    </tr>\n",
       "  </thead>\n",
       "  <tbody>\n",
       "    <tr>\n",
       "      <th>4</th>\n",
       "      <td>0.0</td>\n",
       "      <td>0.0</td>\n",
       "      <td>Ventura</td>\n",
       "      <td>Southbound Highway 101 at Camarillo Springs Ro...</td>\n",
       "    </tr>\n",
       "    <tr>\n",
       "      <th>27</th>\n",
       "      <td>0.0</td>\n",
       "      <td>0.0</td>\n",
       "      <td>Monterey</td>\n",
       "      <td>Pfeiffer Ridge Road and Highway 1 near Big Sur</td>\n",
       "    </tr>\n",
       "    <tr>\n",
       "      <th>44</th>\n",
       "      <td>0.0</td>\n",
       "      <td>0.0</td>\n",
       "      <td>Riverside</td>\n",
       "      <td>Rio Rancho Rd &amp; Calle Hermosa, Jurupa Valley</td>\n",
       "    </tr>\n",
       "    <tr>\n",
       "      <th>48</th>\n",
       "      <td>0.0</td>\n",
       "      <td>0.0</td>\n",
       "      <td>Lake</td>\n",
       "      <td>North of Highway 29, southeast of Kelseyville</td>\n",
       "    </tr>\n",
       "    <tr>\n",
       "      <th>56</th>\n",
       "      <td>0.0</td>\n",
       "      <td>0.0</td>\n",
       "      <td>Glenn</td>\n",
       "      <td>15 miles northwest of Elk Creek off County Roa...</td>\n",
       "    </tr>\n",
       "  </tbody>\n",
       "</table>\n",
       "</div>"
      ],
      "text/plain": [
       "    Longitude  Latitude   Counties  \\\n",
       "4         0.0       0.0    Ventura   \n",
       "27        0.0       0.0   Monterey   \n",
       "44        0.0       0.0  Riverside   \n",
       "48        0.0       0.0       Lake   \n",
       "56        0.0       0.0      Glenn   \n",
       "\n",
       "                                             Location  \n",
       "4   Southbound Highway 101 at Camarillo Springs Ro...  \n",
       "27     Pfeiffer Ridge Road and Highway 1 near Big Sur  \n",
       "44       Rio Rancho Rd & Calle Hermosa, Jurupa Valley  \n",
       "48      North of Highway 29, southeast of Kelseyville  \n",
       "56  15 miles northwest of Elk Creek off County Roa...  "
      ]
     },
     "execution_count": 501,
     "metadata": {},
     "output_type": "execute_result"
    }
   ],
   "source": [
    "# filter records w/ missing lon/lat\n",
    "missing_lonlat_df = wildfires_df[(wildfires_df[\"Longitude\"] == 0.0) | (wildfires_df[\"Latitude\"] == 0.0)]\n",
    "missing_lonlat_df.head(5)[[\"Longitude\", \"Latitude\", \"Counties\", \"Location\"]]"
   ]
  },
  {
   "cell_type": "code",
   "execution_count": 502,
   "id": "991f27a1",
   "metadata": {},
   "outputs": [
    {
     "data": {
      "text/html": [
       "<div>\n",
       "<style scoped>\n",
       "    .dataframe tbody tr th:only-of-type {\n",
       "        vertical-align: middle;\n",
       "    }\n",
       "\n",
       "    .dataframe tbody tr th {\n",
       "        vertical-align: top;\n",
       "    }\n",
       "\n",
       "    .dataframe thead th {\n",
       "        text-align: right;\n",
       "    }\n",
       "</style>\n",
       "<table border=\"1\" class=\"dataframe\">\n",
       "  <thead>\n",
       "    <tr style=\"text-align: right;\">\n",
       "      <th></th>\n",
       "      <th>AcresBurned</th>\n",
       "      <th>Active</th>\n",
       "      <th>AdminUnit</th>\n",
       "      <th>AirTankers</th>\n",
       "      <th>ArchiveYear</th>\n",
       "      <th>CalFireIncident</th>\n",
       "      <th>CanonicalUrl</th>\n",
       "      <th>ConditionStatement</th>\n",
       "      <th>ControlStatement</th>\n",
       "      <th>Counties</th>\n",
       "      <th>...</th>\n",
       "      <th>SearchKeywords</th>\n",
       "      <th>Started</th>\n",
       "      <th>Status</th>\n",
       "      <th>StructuresDamaged</th>\n",
       "      <th>StructuresDestroyed</th>\n",
       "      <th>StructuresEvacuated</th>\n",
       "      <th>StructuresThreatened</th>\n",
       "      <th>UniqueId</th>\n",
       "      <th>Updated</th>\n",
       "      <th>WaterTenders</th>\n",
       "    </tr>\n",
       "  </thead>\n",
       "  <tbody>\n",
       "    <tr>\n",
       "      <th>0</th>\n",
       "      <td>257314.0</td>\n",
       "      <td>False</td>\n",
       "      <td>Stanislaus National Forest/Yosemite National Park</td>\n",
       "      <td>NaN</td>\n",
       "      <td>2013</td>\n",
       "      <td>True</td>\n",
       "      <td>/incidents/2013/8/17/rim-fire/</td>\n",
       "      <td>NaN</td>\n",
       "      <td>NaN</td>\n",
       "      <td>Tuolumne</td>\n",
       "      <td>...</td>\n",
       "      <td>Rim Fire, Stanislaus National Forest, Yosemite...</td>\n",
       "      <td>2013-08-17T15:25:00Z</td>\n",
       "      <td>Finalized</td>\n",
       "      <td>NaN</td>\n",
       "      <td>NaN</td>\n",
       "      <td>NaN</td>\n",
       "      <td>NaN</td>\n",
       "      <td>5fb18d4d-213f-4d83-a179-daaf11939e78</td>\n",
       "      <td>2013-09-06T18:30:00Z</td>\n",
       "      <td>NaN</td>\n",
       "    </tr>\n",
       "    <tr>\n",
       "      <th>1</th>\n",
       "      <td>30274.0</td>\n",
       "      <td>False</td>\n",
       "      <td>USFS Angeles National Forest/Los Angeles Count...</td>\n",
       "      <td>NaN</td>\n",
       "      <td>2013</td>\n",
       "      <td>True</td>\n",
       "      <td>/incidents/2013/5/30/powerhouse-fire/</td>\n",
       "      <td>NaN</td>\n",
       "      <td>NaN</td>\n",
       "      <td>Los Angeles</td>\n",
       "      <td>...</td>\n",
       "      <td>Powerhouse Fire, May 2013, June 2013, Angeles ...</td>\n",
       "      <td>2013-05-30T15:28:00Z</td>\n",
       "      <td>Finalized</td>\n",
       "      <td>NaN</td>\n",
       "      <td>NaN</td>\n",
       "      <td>NaN</td>\n",
       "      <td>NaN</td>\n",
       "      <td>bf37805e-1cc2-4208-9972-753e47874c87</td>\n",
       "      <td>2013-06-08T18:30:00Z</td>\n",
       "      <td>NaN</td>\n",
       "    </tr>\n",
       "    <tr>\n",
       "      <th>2</th>\n",
       "      <td>27531.0</td>\n",
       "      <td>False</td>\n",
       "      <td>CAL FIRE Riverside Unit / San Bernardino Natio...</td>\n",
       "      <td>NaN</td>\n",
       "      <td>2013</td>\n",
       "      <td>True</td>\n",
       "      <td>/incidents/2013/7/15/mountain-fire/</td>\n",
       "      <td>NaN</td>\n",
       "      <td>NaN</td>\n",
       "      <td>Riverside</td>\n",
       "      <td>...</td>\n",
       "      <td>Mountain Fire, July 2013, Highway 243, Highway...</td>\n",
       "      <td>2013-07-15T13:43:00Z</td>\n",
       "      <td>Finalized</td>\n",
       "      <td>NaN</td>\n",
       "      <td>NaN</td>\n",
       "      <td>NaN</td>\n",
       "      <td>NaN</td>\n",
       "      <td>a3149fec-4d48-427c-8b2c-59e8b79d59db</td>\n",
       "      <td>2013-07-30T18:00:00Z</td>\n",
       "      <td>NaN</td>\n",
       "    </tr>\n",
       "    <tr>\n",
       "      <th>3</th>\n",
       "      <td>27440.0</td>\n",
       "      <td>False</td>\n",
       "      <td>Tahoe National Forest</td>\n",
       "      <td>NaN</td>\n",
       "      <td>2013</td>\n",
       "      <td>False</td>\n",
       "      <td>/incidents/2013/8/10/american-fire/</td>\n",
       "      <td>NaN</td>\n",
       "      <td>NaN</td>\n",
       "      <td>Placer</td>\n",
       "      <td>...</td>\n",
       "      <td>American Fire, August 2013, Deadwood Ridge, Fo...</td>\n",
       "      <td>2013-08-10T16:30:00Z</td>\n",
       "      <td>Finalized</td>\n",
       "      <td>NaN</td>\n",
       "      <td>NaN</td>\n",
       "      <td>NaN</td>\n",
       "      <td>NaN</td>\n",
       "      <td>8213f5c7-34fa-403b-a4bc-da2ace6e6625</td>\n",
       "      <td>2013-08-30T08:00:00Z</td>\n",
       "      <td>NaN</td>\n",
       "    </tr>\n",
       "    <tr>\n",
       "      <th>5</th>\n",
       "      <td>22992.0</td>\n",
       "      <td>False</td>\n",
       "      <td>Sierra National Forest</td>\n",
       "      <td>NaN</td>\n",
       "      <td>2013</td>\n",
       "      <td>False</td>\n",
       "      <td>/incidents/2013/7/22/aspen-fire/</td>\n",
       "      <td>NaN</td>\n",
       "      <td>NaN</td>\n",
       "      <td>Fresno</td>\n",
       "      <td>...</td>\n",
       "      <td>217  Aspen Fire, July 2013, Big Creek, Fresno ...</td>\n",
       "      <td>2013-07-22T22:15:00Z</td>\n",
       "      <td>Finalized</td>\n",
       "      <td>NaN</td>\n",
       "      <td>NaN</td>\n",
       "      <td>NaN</td>\n",
       "      <td>NaN</td>\n",
       "      <td>bee8c339-4f26-4b78-a5b4-a8a0ebdb8786</td>\n",
       "      <td>2013-09-24T20:15:00Z</td>\n",
       "      <td>NaN</td>\n",
       "    </tr>\n",
       "    <tr>\n",
       "      <th>...</th>\n",
       "      <td>...</td>\n",
       "      <td>...</td>\n",
       "      <td>...</td>\n",
       "      <td>...</td>\n",
       "      <td>...</td>\n",
       "      <td>...</td>\n",
       "      <td>...</td>\n",
       "      <td>...</td>\n",
       "      <td>...</td>\n",
       "      <td>...</td>\n",
       "      <td>...</td>\n",
       "      <td>...</td>\n",
       "      <td>...</td>\n",
       "      <td>...</td>\n",
       "      <td>...</td>\n",
       "      <td>...</td>\n",
       "      <td>...</td>\n",
       "      <td>...</td>\n",
       "      <td>...</td>\n",
       "      <td>...</td>\n",
       "      <td>...</td>\n",
       "    </tr>\n",
       "    <tr>\n",
       "      <th>1631</th>\n",
       "      <td>9.0</td>\n",
       "      <td>False</td>\n",
       "      <td>CAL FIRE / Riverside County Fire</td>\n",
       "      <td>NaN</td>\n",
       "      <td>2019</td>\n",
       "      <td>True</td>\n",
       "      <td>/incidents/2019/10/10/eagle-fire/</td>\n",
       "      <td>NaN</td>\n",
       "      <td>NaN</td>\n",
       "      <td>Riverside</td>\n",
       "      <td>...</td>\n",
       "      <td>NaN</td>\n",
       "      <td>2019-10-10T12:08:00Z</td>\n",
       "      <td>Finalized</td>\n",
       "      <td>NaN</td>\n",
       "      <td>NaN</td>\n",
       "      <td>NaN</td>\n",
       "      <td>NaN</td>\n",
       "      <td>6e93b252-99a3-4214-9921-238373b17535</td>\n",
       "      <td>2019-10-10T18:11:59.733Z</td>\n",
       "      <td>NaN</td>\n",
       "    </tr>\n",
       "    <tr>\n",
       "      <th>1632</th>\n",
       "      <td>2.0</td>\n",
       "      <td>False</td>\n",
       "      <td>CAL FIRE Nevada-Yuba-Placer Unit</td>\n",
       "      <td>NaN</td>\n",
       "      <td>2019</td>\n",
       "      <td>True</td>\n",
       "      <td>/incidents/2019/6/28/long-fire/</td>\n",
       "      <td>NaN</td>\n",
       "      <td>NaN</td>\n",
       "      <td>Nevada</td>\n",
       "      <td>...</td>\n",
       "      <td>NaN</td>\n",
       "      <td>2019-06-28T15:03:04Z</td>\n",
       "      <td>Finalized</td>\n",
       "      <td>NaN</td>\n",
       "      <td>NaN</td>\n",
       "      <td>NaN</td>\n",
       "      <td>NaN</td>\n",
       "      <td>b38c0563-b321-431b-9174-6336c5a0d449</td>\n",
       "      <td>2019-06-30T15:52:01.023Z</td>\n",
       "      <td>NaN</td>\n",
       "    </tr>\n",
       "    <tr>\n",
       "      <th>1633</th>\n",
       "      <td>NaN</td>\n",
       "      <td>False</td>\n",
       "      <td>Yolo County Fire Protection District</td>\n",
       "      <td>NaN</td>\n",
       "      <td>2019</td>\n",
       "      <td>False</td>\n",
       "      <td>/incidents/2019/11/25/cashe-fire/</td>\n",
       "      <td>NaN</td>\n",
       "      <td>NaN</td>\n",
       "      <td>Yolo</td>\n",
       "      <td>...</td>\n",
       "      <td>NaN</td>\n",
       "      <td>2019-11-25T12:02:02Z</td>\n",
       "      <td>Finalized</td>\n",
       "      <td>NaN</td>\n",
       "      <td>NaN</td>\n",
       "      <td>NaN</td>\n",
       "      <td>NaN</td>\n",
       "      <td>9c26f915-1b33-422d-b30a-9eb4da6fd729</td>\n",
       "      <td>2019-12-03T16:35:20.93Z</td>\n",
       "      <td>NaN</td>\n",
       "    </tr>\n",
       "    <tr>\n",
       "      <th>1634</th>\n",
       "      <td>NaN</td>\n",
       "      <td>False</td>\n",
       "      <td>Camp Pendleton Marine Corps Base</td>\n",
       "      <td>NaN</td>\n",
       "      <td>2019</td>\n",
       "      <td>False</td>\n",
       "      <td>/incidents/2019/10/22/oak-fire/</td>\n",
       "      <td>NaN</td>\n",
       "      <td>NaN</td>\n",
       "      <td>San Diego</td>\n",
       "      <td>...</td>\n",
       "      <td>NaN</td>\n",
       "      <td>2019-10-22T19:20:44Z</td>\n",
       "      <td>Finalized</td>\n",
       "      <td>NaN</td>\n",
       "      <td>NaN</td>\n",
       "      <td>NaN</td>\n",
       "      <td>NaN</td>\n",
       "      <td>7264a106-e0f4-41de-8fd0-3f9110431e28</td>\n",
       "      <td>2019-11-21T12:21:28.58Z</td>\n",
       "      <td>NaN</td>\n",
       "    </tr>\n",
       "    <tr>\n",
       "      <th>1635</th>\n",
       "      <td>NaN</td>\n",
       "      <td>False</td>\n",
       "      <td>Bureau of Indian Affairs</td>\n",
       "      <td>NaN</td>\n",
       "      <td>2019</td>\n",
       "      <td>False</td>\n",
       "      <td>/incidents/2019/10/14/johnson-fire/</td>\n",
       "      <td>As of 10:00 p.m. on 10/16, the fire is 90% con...</td>\n",
       "      <td>NaN</td>\n",
       "      <td>Riverside</td>\n",
       "      <td>...</td>\n",
       "      <td>NaN</td>\n",
       "      <td>2019-10-14T15:32:20Z</td>\n",
       "      <td>Inactive</td>\n",
       "      <td>NaN</td>\n",
       "      <td>NaN</td>\n",
       "      <td>NaN</td>\n",
       "      <td>NaN</td>\n",
       "      <td>8bf75401-999f-42bd-8c0a-8db508591545</td>\n",
       "      <td>2019-10-30T10:14:19.58Z</td>\n",
       "      <td>NaN</td>\n",
       "    </tr>\n",
       "  </tbody>\n",
       "</table>\n",
       "<p>1482 rows × 40 columns</p>\n",
       "</div>"
      ],
      "text/plain": [
       "      AcresBurned  Active                                          AdminUnit  \\\n",
       "0        257314.0   False  Stanislaus National Forest/Yosemite National Park   \n",
       "1         30274.0   False  USFS Angeles National Forest/Los Angeles Count...   \n",
       "2         27531.0   False  CAL FIRE Riverside Unit / San Bernardino Natio...   \n",
       "3         27440.0   False                              Tahoe National Forest   \n",
       "5         22992.0   False                             Sierra National Forest   \n",
       "...           ...     ...                                                ...   \n",
       "1631          9.0   False                   CAL FIRE / Riverside County Fire   \n",
       "1632          2.0   False                  CAL FIRE Nevada-Yuba-Placer Unit    \n",
       "1633          NaN   False               Yolo County Fire Protection District   \n",
       "1634          NaN   False                   Camp Pendleton Marine Corps Base   \n",
       "1635          NaN   False                           Bureau of Indian Affairs   \n",
       "\n",
       "      AirTankers  ArchiveYear  CalFireIncident  \\\n",
       "0            NaN         2013             True   \n",
       "1            NaN         2013             True   \n",
       "2            NaN         2013             True   \n",
       "3            NaN         2013            False   \n",
       "5            NaN         2013            False   \n",
       "...          ...          ...              ...   \n",
       "1631         NaN         2019             True   \n",
       "1632         NaN         2019             True   \n",
       "1633         NaN         2019            False   \n",
       "1634         NaN         2019            False   \n",
       "1635         NaN         2019            False   \n",
       "\n",
       "                               CanonicalUrl  \\\n",
       "0            /incidents/2013/8/17/rim-fire/   \n",
       "1     /incidents/2013/5/30/powerhouse-fire/   \n",
       "2       /incidents/2013/7/15/mountain-fire/   \n",
       "3       /incidents/2013/8/10/american-fire/   \n",
       "5          /incidents/2013/7/22/aspen-fire/   \n",
       "...                                     ...   \n",
       "1631      /incidents/2019/10/10/eagle-fire/   \n",
       "1632        /incidents/2019/6/28/long-fire/   \n",
       "1633      /incidents/2019/11/25/cashe-fire/   \n",
       "1634        /incidents/2019/10/22/oak-fire/   \n",
       "1635    /incidents/2019/10/14/johnson-fire/   \n",
       "\n",
       "                                     ConditionStatement ControlStatement  \\\n",
       "0                                                   NaN              NaN   \n",
       "1                                                   NaN              NaN   \n",
       "2                                                   NaN              NaN   \n",
       "3                                                   NaN              NaN   \n",
       "5                                                   NaN              NaN   \n",
       "...                                                 ...              ...   \n",
       "1631                                                NaN              NaN   \n",
       "1632                                                NaN              NaN   \n",
       "1633                                                NaN              NaN   \n",
       "1634                                                NaN              NaN   \n",
       "1635  As of 10:00 p.m. on 10/16, the fire is 90% con...              NaN   \n",
       "\n",
       "         Counties  ...                                     SearchKeywords  \\\n",
       "0        Tuolumne  ...  Rim Fire, Stanislaus National Forest, Yosemite...   \n",
       "1     Los Angeles  ...  Powerhouse Fire, May 2013, June 2013, Angeles ...   \n",
       "2       Riverside  ...  Mountain Fire, July 2013, Highway 243, Highway...   \n",
       "3          Placer  ...  American Fire, August 2013, Deadwood Ridge, Fo...   \n",
       "5          Fresno  ...  217  Aspen Fire, July 2013, Big Creek, Fresno ...   \n",
       "...           ...  ...                                                ...   \n",
       "1631    Riverside  ...                                                NaN   \n",
       "1632       Nevada  ...                                                NaN   \n",
       "1633         Yolo  ...                                                NaN   \n",
       "1634    San Diego  ...                                                NaN   \n",
       "1635    Riverside  ...                                                NaN   \n",
       "\n",
       "                   Started     Status  StructuresDamaged StructuresDestroyed  \\\n",
       "0     2013-08-17T15:25:00Z  Finalized                NaN                 NaN   \n",
       "1     2013-05-30T15:28:00Z  Finalized                NaN                 NaN   \n",
       "2     2013-07-15T13:43:00Z  Finalized                NaN                 NaN   \n",
       "3     2013-08-10T16:30:00Z  Finalized                NaN                 NaN   \n",
       "5     2013-07-22T22:15:00Z  Finalized                NaN                 NaN   \n",
       "...                    ...        ...                ...                 ...   \n",
       "1631  2019-10-10T12:08:00Z  Finalized                NaN                 NaN   \n",
       "1632  2019-06-28T15:03:04Z  Finalized                NaN                 NaN   \n",
       "1633  2019-11-25T12:02:02Z  Finalized                NaN                 NaN   \n",
       "1634  2019-10-22T19:20:44Z  Finalized                NaN                 NaN   \n",
       "1635  2019-10-14T15:32:20Z   Inactive                NaN                 NaN   \n",
       "\n",
       "      StructuresEvacuated  StructuresThreatened  \\\n",
       "0                     NaN                   NaN   \n",
       "1                     NaN                   NaN   \n",
       "2                     NaN                   NaN   \n",
       "3                     NaN                   NaN   \n",
       "5                     NaN                   NaN   \n",
       "...                   ...                   ...   \n",
       "1631                  NaN                   NaN   \n",
       "1632                  NaN                   NaN   \n",
       "1633                  NaN                   NaN   \n",
       "1634                  NaN                   NaN   \n",
       "1635                  NaN                   NaN   \n",
       "\n",
       "                                  UniqueId                   Updated  \\\n",
       "0     5fb18d4d-213f-4d83-a179-daaf11939e78      2013-09-06T18:30:00Z   \n",
       "1     bf37805e-1cc2-4208-9972-753e47874c87      2013-06-08T18:30:00Z   \n",
       "2     a3149fec-4d48-427c-8b2c-59e8b79d59db      2013-07-30T18:00:00Z   \n",
       "3     8213f5c7-34fa-403b-a4bc-da2ace6e6625      2013-08-30T08:00:00Z   \n",
       "5     bee8c339-4f26-4b78-a5b4-a8a0ebdb8786      2013-09-24T20:15:00Z   \n",
       "...                                    ...                       ...   \n",
       "1631  6e93b252-99a3-4214-9921-238373b17535  2019-10-10T18:11:59.733Z   \n",
       "1632  b38c0563-b321-431b-9174-6336c5a0d449  2019-06-30T15:52:01.023Z   \n",
       "1633  9c26f915-1b33-422d-b30a-9eb4da6fd729   2019-12-03T16:35:20.93Z   \n",
       "1634  7264a106-e0f4-41de-8fd0-3f9110431e28   2019-11-21T12:21:28.58Z   \n",
       "1635  8bf75401-999f-42bd-8c0a-8db508591545   2019-10-30T10:14:19.58Z   \n",
       "\n",
       "      WaterTenders  \n",
       "0              NaN  \n",
       "1              NaN  \n",
       "2              NaN  \n",
       "3              NaN  \n",
       "5              NaN  \n",
       "...            ...  \n",
       "1631           NaN  \n",
       "1632           NaN  \n",
       "1633           NaN  \n",
       "1634           NaN  \n",
       "1635           NaN  \n",
       "\n",
       "[1482 rows x 40 columns]"
      ]
     },
     "execution_count": 502,
     "metadata": {},
     "output_type": "execute_result"
    }
   ],
   "source": [
    "wildfires_df_cleaned = wildfires_df[~wildfires_df[\"UniqueId\"].isin(missing_lonlat_df[\"UniqueId\"])]\n",
    "wildfires_df_cleaned"
   ]
  },
  {
   "cell_type": "code",
   "execution_count": 503,
   "id": "9501f201",
   "metadata": {},
   "outputs": [
    {
     "data": {
      "text/html": [
       "<div>\n",
       "<style scoped>\n",
       "    .dataframe tbody tr th:only-of-type {\n",
       "        vertical-align: middle;\n",
       "    }\n",
       "\n",
       "    .dataframe tbody tr th {\n",
       "        vertical-align: top;\n",
       "    }\n",
       "\n",
       "    .dataframe thead th {\n",
       "        text-align: right;\n",
       "    }\n",
       "</style>\n",
       "<table border=\"1\" class=\"dataframe\">\n",
       "  <thead>\n",
       "    <tr style=\"text-align: right;\">\n",
       "      <th></th>\n",
       "      <th>Longitude</th>\n",
       "      <th>Latitude</th>\n",
       "      <th>Started</th>\n",
       "      <th>Location</th>\n",
       "      <th>Counties</th>\n",
       "    </tr>\n",
       "  </thead>\n",
       "  <tbody>\n",
       "    <tr>\n",
       "      <th>1631</th>\n",
       "      <td>-117.499619</td>\n",
       "      <td>33.827979</td>\n",
       "      <td>2019-10-10T12:08:00Z</td>\n",
       "      <td>Eagle Canyon Rd. and Cajalco Rd., southwest of...</td>\n",
       "      <td>Riverside</td>\n",
       "    </tr>\n",
       "    <tr>\n",
       "      <th>1632</th>\n",
       "      <td>-121.000556</td>\n",
       "      <td>39.409722</td>\n",
       "      <td>2019-06-28T15:03:04Z</td>\n",
       "      <td>Off of  Long Point Road and Old Mill Road, Sou...</td>\n",
       "      <td>Nevada</td>\n",
       "    </tr>\n",
       "    <tr>\n",
       "      <th>1633</th>\n",
       "      <td>-121.729691</td>\n",
       "      <td>38.734634</td>\n",
       "      <td>2019-11-25T12:02:02Z</td>\n",
       "      <td>County Road 102 and County Road 17, North of W...</td>\n",
       "      <td>Yolo</td>\n",
       "    </tr>\n",
       "    <tr>\n",
       "      <th>1634</th>\n",
       "      <td>-117.403719</td>\n",
       "      <td>33.351145</td>\n",
       "      <td>2019-10-22T19:20:44Z</td>\n",
       "      <td>Near Basilone Road and Las Pulgas Road, near C...</td>\n",
       "      <td>San Diego</td>\n",
       "    </tr>\n",
       "    <tr>\n",
       "      <th>1635</th>\n",
       "      <td>-116.058980</td>\n",
       "      <td>33.451480</td>\n",
       "      <td>2019-10-14T15:32:20Z</td>\n",
       "      <td>Johnson Street and Ave 82</td>\n",
       "      <td>Riverside</td>\n",
       "    </tr>\n",
       "  </tbody>\n",
       "</table>\n",
       "</div>"
      ],
      "text/plain": [
       "       Longitude   Latitude               Started  \\\n",
       "1631 -117.499619  33.827979  2019-10-10T12:08:00Z   \n",
       "1632 -121.000556  39.409722  2019-06-28T15:03:04Z   \n",
       "1633 -121.729691  38.734634  2019-11-25T12:02:02Z   \n",
       "1634 -117.403719  33.351145  2019-10-22T19:20:44Z   \n",
       "1635 -116.058980  33.451480  2019-10-14T15:32:20Z   \n",
       "\n",
       "                                               Location   Counties  \n",
       "1631  Eagle Canyon Rd. and Cajalco Rd., southwest of...  Riverside  \n",
       "1632  Off of  Long Point Road and Old Mill Road, Sou...     Nevada  \n",
       "1633  County Road 102 and County Road 17, North of W...       Yolo  \n",
       "1634  Near Basilone Road and Las Pulgas Road, near C...  San Diego  \n",
       "1635                          Johnson Street and Ave 82  Riverside  "
      ]
     },
     "execution_count": 503,
     "metadata": {},
     "output_type": "execute_result"
    }
   ],
   "source": [
    "wildfires_sm_df = wildfires_df_cleaned[['Longitude', 'Latitude', 'Started', 'Location', 'Counties']].copy()\n",
    "wildfires_sm_df.tail()"
   ]
  },
  {
   "cell_type": "code",
   "execution_count": 504,
   "id": "ad200d60",
   "metadata": {},
   "outputs": [],
   "source": [
    "# Convert started col to dt and sort by started\n",
    "wildfires_sm_df['Started'] = pd.to_datetime(wildfires_sm_df['Started'], format='ISO8601')\n",
    "wildfires_sm_df.sort_values(by=\"Started\", inplace=True)"
   ]
  },
  {
   "cell_type": "code",
   "execution_count": 505,
   "id": "16fdc7db",
   "metadata": {},
   "outputs": [],
   "source": [
    "# Get dt one day and one day + one week before fire started\n",
    "# This is to account for satellite revisit time and to avoid the date of the fire\n",
    "wildfires_sm_df['Day_Before_DT'] = wildfires_sm_df['Started'] - pd.Timedelta(days=1)\n",
    "wildfires_sm_df['Week_Before_DT'] = wildfires_sm_df['Day_Before_DT'] - pd.Timedelta(weeks=1)\n",
    "wildfires_sm_df['TwoWeek_Before_DT'] = wildfires_sm_df['Day_Before_DT'] - pd.Timedelta(weeks=2)\n",
    "wildfires_sm_df['FourWeek_Before_DT'] = wildfires_sm_df['Day_Before_DT'] - pd.Timedelta(weeks=4)\n",
    "\n",
    "wildfires_sm_df['Day_Before'] = wildfires_sm_df['Day_Before_DT'].dt.date.astype(str)\n",
    "wildfires_sm_df['Week_Before'] = wildfires_sm_df['Week_Before_DT'].dt.date.astype(str)\n",
    "wildfires_sm_df['TwoWeek_Before'] = wildfires_sm_df['TwoWeek_Before_DT'].dt.date.astype(str)\n",
    "wildfires_sm_df['FourWeek_Before'] = wildfires_sm_df['FourWeek_Before_DT'].dt.date.astype(str)"
   ]
  },
  {
   "cell_type": "code",
   "execution_count": 506,
   "id": "54faf5a5",
   "metadata": {},
   "outputs": [
    {
     "data": {
      "text/html": [
       "<div>\n",
       "<style scoped>\n",
       "    .dataframe tbody tr th:only-of-type {\n",
       "        vertical-align: middle;\n",
       "    }\n",
       "\n",
       "    .dataframe tbody tr th {\n",
       "        vertical-align: top;\n",
       "    }\n",
       "\n",
       "    .dataframe thead th {\n",
       "        text-align: right;\n",
       "    }\n",
       "</style>\n",
       "<table border=\"1\" class=\"dataframe\">\n",
       "  <thead>\n",
       "    <tr style=\"text-align: right;\">\n",
       "      <th></th>\n",
       "      <th>Longitude</th>\n",
       "      <th>Latitude</th>\n",
       "      <th>Started</th>\n",
       "      <th>Location</th>\n",
       "      <th>Counties</th>\n",
       "      <th>Day_Before_DT</th>\n",
       "      <th>Week_Before_DT</th>\n",
       "      <th>TwoWeek_Before_DT</th>\n",
       "      <th>FourWeek_Before_DT</th>\n",
       "      <th>Day_Before</th>\n",
       "      <th>Week_Before</th>\n",
       "      <th>TwoWeek_Before</th>\n",
       "      <th>FourWeek_Before</th>\n",
       "    </tr>\n",
       "  </thead>\n",
       "  <tbody>\n",
       "    <tr>\n",
       "      <th>1261</th>\n",
       "      <td>-122.767510</td>\n",
       "      <td>38.071350</td>\n",
       "      <td>1969-12-31 16:00:00+00:00</td>\n",
       "      <td>Platform Bridge Rd. and Point Reyes Station, n...</td>\n",
       "      <td>Marin</td>\n",
       "      <td>1969-12-30 16:00:00+00:00</td>\n",
       "      <td>1969-12-23 16:00:00+00:00</td>\n",
       "      <td>1969-12-16 16:00:00+00:00</td>\n",
       "      <td>1969-12-02 16:00:00+00:00</td>\n",
       "      <td>1969-12-30</td>\n",
       "      <td>1969-12-23</td>\n",
       "      <td>1969-12-16</td>\n",
       "      <td>1969-12-02</td>\n",
       "    </tr>\n",
       "    <tr>\n",
       "      <th>1019</th>\n",
       "      <td>-121.077610</td>\n",
       "      <td>37.218120</td>\n",
       "      <td>1969-12-31 16:00:00+00:00</td>\n",
       "      <td>Interstate 5 near Taglio Road, Gustine</td>\n",
       "      <td>Merced</td>\n",
       "      <td>1969-12-30 16:00:00+00:00</td>\n",
       "      <td>1969-12-23 16:00:00+00:00</td>\n",
       "      <td>1969-12-16 16:00:00+00:00</td>\n",
       "      <td>1969-12-02 16:00:00+00:00</td>\n",
       "      <td>1969-12-30</td>\n",
       "      <td>1969-12-23</td>\n",
       "      <td>1969-12-16</td>\n",
       "      <td>1969-12-02</td>\n",
       "    </tr>\n",
       "    <tr>\n",
       "      <th>41</th>\n",
       "      <td>-118.016510</td>\n",
       "      <td>36.602575</td>\n",
       "      <td>2013-02-24 08:16:00+00:00</td>\n",
       "      <td>south of Narrow Gauge Rd &amp; north of Hwy 136, e...</td>\n",
       "      <td>Inyo</td>\n",
       "      <td>2013-02-23 08:16:00+00:00</td>\n",
       "      <td>2013-02-16 08:16:00+00:00</td>\n",
       "      <td>2013-02-09 08:16:00+00:00</td>\n",
       "      <td>2013-01-26 08:16:00+00:00</td>\n",
       "      <td>2013-02-23</td>\n",
       "      <td>2013-02-16</td>\n",
       "      <td>2013-02-09</td>\n",
       "      <td>2013-01-26</td>\n",
       "    </tr>\n",
       "    <tr>\n",
       "      <th>147</th>\n",
       "      <td>-116.941311</td>\n",
       "      <td>34.288877</td>\n",
       "      <td>2013-04-20 17:30:00+00:00</td>\n",
       "      <td>west of Delamar Mountain, north of the communi...</td>\n",
       "      <td>San Bernardino</td>\n",
       "      <td>2013-04-19 17:30:00+00:00</td>\n",
       "      <td>2013-04-12 17:30:00+00:00</td>\n",
       "      <td>2013-04-05 17:30:00+00:00</td>\n",
       "      <td>2013-03-22 17:30:00+00:00</td>\n",
       "      <td>2013-04-19</td>\n",
       "      <td>2013-04-12</td>\n",
       "      <td>2013-04-05</td>\n",
       "      <td>2013-03-22</td>\n",
       "    </tr>\n",
       "    <tr>\n",
       "      <th>50</th>\n",
       "      <td>-119.635004</td>\n",
       "      <td>37.116295</td>\n",
       "      <td>2013-04-30 12:59:00+00:00</td>\n",
       "      <td>Between Road 210 and Road 200 near Fine Gold C...</td>\n",
       "      <td>Madera</td>\n",
       "      <td>2013-04-29 12:59:00+00:00</td>\n",
       "      <td>2013-04-22 12:59:00+00:00</td>\n",
       "      <td>2013-04-15 12:59:00+00:00</td>\n",
       "      <td>2013-04-01 12:59:00+00:00</td>\n",
       "      <td>2013-04-29</td>\n",
       "      <td>2013-04-22</td>\n",
       "      <td>2013-04-15</td>\n",
       "      <td>2013-04-01</td>\n",
       "    </tr>\n",
       "  </tbody>\n",
       "</table>\n",
       "</div>"
      ],
      "text/plain": [
       "       Longitude   Latitude                   Started  \\\n",
       "1261 -122.767510  38.071350 1969-12-31 16:00:00+00:00   \n",
       "1019 -121.077610  37.218120 1969-12-31 16:00:00+00:00   \n",
       "41   -118.016510  36.602575 2013-02-24 08:16:00+00:00   \n",
       "147  -116.941311  34.288877 2013-04-20 17:30:00+00:00   \n",
       "50   -119.635004  37.116295 2013-04-30 12:59:00+00:00   \n",
       "\n",
       "                                               Location        Counties  \\\n",
       "1261  Platform Bridge Rd. and Point Reyes Station, n...           Marin   \n",
       "1019             Interstate 5 near Taglio Road, Gustine          Merced   \n",
       "41    south of Narrow Gauge Rd & north of Hwy 136, e...            Inyo   \n",
       "147   west of Delamar Mountain, north of the communi...  San Bernardino   \n",
       "50    Between Road 210 and Road 200 near Fine Gold C...          Madera   \n",
       "\n",
       "                 Day_Before_DT            Week_Before_DT  \\\n",
       "1261 1969-12-30 16:00:00+00:00 1969-12-23 16:00:00+00:00   \n",
       "1019 1969-12-30 16:00:00+00:00 1969-12-23 16:00:00+00:00   \n",
       "41   2013-02-23 08:16:00+00:00 2013-02-16 08:16:00+00:00   \n",
       "147  2013-04-19 17:30:00+00:00 2013-04-12 17:30:00+00:00   \n",
       "50   2013-04-29 12:59:00+00:00 2013-04-22 12:59:00+00:00   \n",
       "\n",
       "             TwoWeek_Before_DT        FourWeek_Before_DT  Day_Before  \\\n",
       "1261 1969-12-16 16:00:00+00:00 1969-12-02 16:00:00+00:00  1969-12-30   \n",
       "1019 1969-12-16 16:00:00+00:00 1969-12-02 16:00:00+00:00  1969-12-30   \n",
       "41   2013-02-09 08:16:00+00:00 2013-01-26 08:16:00+00:00  2013-02-23   \n",
       "147  2013-04-05 17:30:00+00:00 2013-03-22 17:30:00+00:00  2013-04-19   \n",
       "50   2013-04-15 12:59:00+00:00 2013-04-01 12:59:00+00:00  2013-04-29   \n",
       "\n",
       "     Week_Before TwoWeek_Before FourWeek_Before  \n",
       "1261  1969-12-23     1969-12-16      1969-12-02  \n",
       "1019  1969-12-23     1969-12-16      1969-12-02  \n",
       "41    2013-02-16     2013-02-09      2013-01-26  \n",
       "147   2013-04-12     2013-04-05      2013-03-22  \n",
       "50    2013-04-22     2013-04-15      2013-04-01  "
      ]
     },
     "execution_count": 506,
     "metadata": {},
     "output_type": "execute_result"
    }
   ],
   "source": [
    "wildfires_sm_df.head()"
   ]
  },
  {
   "cell_type": "code",
   "execution_count": 507,
   "id": "93533498",
   "metadata": {},
   "outputs": [],
   "source": [
    "def retrieve_set(row, base_dir=\"../Data\"):\n",
    "    try:\n",
    "        process_sentinel2(date1=row['FourWeek_Before'], date2=row['Day_Before'], \n",
    "                          lon=row['Longitude'], lat=row['Latitude'], \n",
    "                          export_desc=f\"{row['FourWeek_Before']}-{row['Day_Before']}-{row['Longitude']}-{row['Latitude']}\",\n",
    "                          base_dir=base_dir)\n",
    "    except Exception as e:\n",
    "        print(f\"EXCEPTION - Row {row.name} @ ({row['Longitude']}, {row['Latitude']})\")\n",
    "        print(e)"
   ]
  },
  {
   "cell_type": "markdown",
   "id": "44f714d3",
   "metadata": {},
   "source": [
    "## Small export tests"
   ]
  },
  {
   "cell_type": "code",
   "execution_count": 509,
   "id": "8922e9e2",
   "metadata": {},
   "outputs": [
    {
     "name": "stdout",
     "output_type": "stream",
     "text": [
      "Directory created at: ./DebugTest/exports\n",
      "Directory created at: ./DebugTest/exports/ndvi\n",
      "Directory created at: ./DebugTest/exports/tc\n",
      "Image download: ./DebugTest/exports/tc/0724__test_v16_t1_tc.tif (512, 512)\n",
      "Image download: ./DebugTest/exports/ndvi/0724__test_v16_t1_ndvi_bw.tif (512, 512)\n",
      "Image download: ./DebugTest/exports/tc/0724__test_v16_t2_tc.tif (512, 512)\n",
      "Image download: ./DebugTest/exports/ndvi/0724__test_v16_t2_ndvi_bw.tif (512, 512)\n"
     ]
    }
   ],
   "source": [
    "def example_test(fname, base_dir):\n",
    "    find_or_create_download_dirs(base_dir=base_dir)\n",
    "\n",
    "    # Define date range\n",
    "    date1 = '2024-06-01'\n",
    "    date2 = '2024-06-30'\n",
    "\n",
    "    # Define coordinates\n",
    "\n",
    "    # Test 1\n",
    "    # Golden Gate Park, SF\n",
    "    lon1 = -122.476944\n",
    "    lat1 = 37.769722\n",
    "    \n",
    "    # Test 2\n",
    "    # Berkeley, CA\n",
    "    lon2 = -122.274720\n",
    "    lat2 = 37.868710\n",
    "\n",
    "    # Define buffer area\n",
    "    # (m around lat/lon)\n",
    "    buffer = 2560 \n",
    "\n",
    "    # Define cloud percentage\n",
    "    cloud_percentage = 20\n",
    "\n",
    "    # Specify export description\n",
    "    # related to export filename\n",
    "    export_desc = fname\n",
    "\n",
    "    process_sentinel2(date1, date2, lon1, lat1, export_desc + \"_t1\", base_dir, buffer, cloud_percentage)\n",
    "    process_sentinel2(date1, date2, lon2, lat2, export_desc + \"_t2\", base_dir, buffer, cloud_percentage)\n",
    "\n",
    "\n",
    "example_test(fname='0724__test_v16', base_dir=\"./DebugTest\")"
   ]
  },
  {
   "cell_type": "code",
   "execution_count": 515,
   "id": "818e775a",
   "metadata": {},
   "outputs": [
    {
     "name": "stdout",
     "output_type": "stream",
     "text": [
      "Directory created at: ./DebugTest/exports\n",
      "Directory created at: ./DebugTest/exports/ndvi\n",
      "Directory created at: ./DebugTest/exports/tc\n",
      "Image download: ./DebugTest/exports/tc/2016-04-11-2016-05-09--120.39993-35.61961_tc.tif (512, 512)\n",
      "Image download: ./DebugTest/exports/ndvi/2016-04-11-2016-05-09--120.39993-35.61961_ndvi_bw.tif (512, 512)\n"
     ]
    }
   ],
   "source": [
    "def test_for_cloudy_row(row_idx=508, base_dir=\"./DebugTest\"):\n",
    "    find_or_create_download_dirs(base_dir=base_dir)\n",
    "    df_one_row = wildfires_from_2016.loc[row_idx]\n",
    "    retrieve_set(df_one_row, base_dir)\n",
    "\n",
    "test_for_cloudy_row()"
   ]
  },
  {
   "cell_type": "code",
   "execution_count": 516,
   "id": "4514079c",
   "metadata": {},
   "outputs": [],
   "source": [
    "wildfires_from_2016 = wildfires_sm_df[wildfires_sm_df[\"Started\"].dt.year >= 2016]"
   ]
  },
  {
   "cell_type": "code",
   "execution_count": 517,
   "id": "727abb34",
   "metadata": {},
   "outputs": [
    {
     "name": "stderr",
     "output_type": "stream",
     "text": [
      "\r",
      "  0%|                                                                                                | 0/5 [00:00<?, ?it/s]"
     ]
    },
    {
     "name": "stdout",
     "output_type": "stream",
     "text": [
      "Image download: ./DebugTest/exports/tc/2016-03-21-2016-04-18--118.7892593-34.6888731_tc.tif (512, 512)\n"
     ]
    },
    {
     "name": "stderr",
     "output_type": "stream",
     "text": [
      "\r",
      " 40%|███████████████████████████████████▏                                                    | 2/5 [00:05<00:07,  2.51s/it]"
     ]
    },
    {
     "name": "stdout",
     "output_type": "stream",
     "text": [
      "Image download: ./DebugTest/exports/ndvi/2016-03-21-2016-04-18--118.7892593-34.6888731_ndvi_bw.tif (512, 512)\n",
      "Image download: ./DebugTest/exports/tc/2016-03-26-2016-04-23--121.08036-37.2171_tc.tif (512, 512)\n"
     ]
    },
    {
     "name": "stderr",
     "output_type": "stream",
     "text": [
      "\r",
      " 60%|████████████████████████████████████████████████████▊                                   | 3/5 [00:09<00:07,  3.50s/it]"
     ]
    },
    {
     "name": "stdout",
     "output_type": "stream",
     "text": [
      "Image download: ./DebugTest/exports/ndvi/2016-03-26-2016-04-23--121.08036-37.2171_ndvi_bw.tif (512, 512)\n",
      "Image download: ./DebugTest/exports/tc/2016-04-11-2016-05-09--120.39993-35.61961_tc.tif (512, 512)\n"
     ]
    },
    {
     "name": "stderr",
     "output_type": "stream",
     "text": [
      "\r",
      " 80%|██████████████████████████████████████████████████████████████████████▍                 | 4/5 [00:12<00:03,  3.30s/it]"
     ]
    },
    {
     "name": "stdout",
     "output_type": "stream",
     "text": [
      "Image download: ./DebugTest/exports/ndvi/2016-04-11-2016-05-09--120.39993-35.61961_ndvi_bw.tif (512, 512)\n"
     ]
    },
    {
     "name": "stderr",
     "output_type": "stream",
     "text": [
      "\r",
      "100%|████████████████████████████████████████████████████████████████████████████████████████| 5/5 [00:13<00:00,  2.44s/it]"
     ]
    },
    {
     "name": "stdout",
     "output_type": "stream",
     "text": [
      "EXCEPTION - Row 597 @ (-121.0381507, 35.8378273)\n",
      "Image.select: Band pattern 'B4' was applied to an Image with no bands. See https://developers.google.com/earth-engine/guides/debugging#no-bands\n"
     ]
    },
    {
     "name": "stderr",
     "output_type": "stream",
     "text": [
      "\r",
      "100%|████████████████████████████████████████████████████████████████████████████████████████| 5/5 [00:14<00:00,  2.88s/it]"
     ]
    },
    {
     "name": "stdout",
     "output_type": "stream",
     "text": [
      "EXCEPTION - Row 514 @ (-119.38248, 36.78769)\n",
      "Image.select: Band pattern 'B4' was applied to an Image with no bands. See https://developers.google.com/earth-engine/guides/debugging#no-bands\n"
     ]
    },
    {
     "name": "stderr",
     "output_type": "stream",
     "text": [
      "\n"
     ]
    },
    {
     "data": {
      "text/plain": [
       "615    None\n",
       "587    None\n",
       "508    None\n",
       "597    None\n",
       "514    None\n",
       "dtype: object"
      ]
     },
     "execution_count": 517,
     "metadata": {},
     "output_type": "execute_result"
    }
   ],
   "source": [
    "wildfires_from_2016[:5].progress_apply(lambda row: retrieve_set(row, \"./DebugTest\"), axis=1)"
   ]
  },
  {
   "cell_type": "markdown",
   "id": "8fb66734",
   "metadata": {},
   "source": [
    "## Export all"
   ]
  },
  {
   "cell_type": "code",
   "execution_count": 520,
   "id": "1891309b",
   "metadata": {},
   "outputs": [
    {
     "name": "stdout",
     "output_type": "stream",
     "text": [
      "Directory created at: ../Data/exports\n",
      "Directory created at: ../Data/exports/ndvi\n",
      "Directory created at: ../Data/exports/tc\n"
     ]
    },
    {
     "name": "stderr",
     "output_type": "stream",
     "text": [
      "  0%|                                                                                     | 2/1482 [00:00<10:56,  2.25it/s]"
     ]
    },
    {
     "name": "stdout",
     "output_type": "stream",
     "text": [
      "EXCEPTION - Row 1261 @ (-122.76751, 38.07135)\n",
      "Image.select: Band pattern 'B4' was applied to an Image with no bands. See https://developers.google.com/earth-engine/guides/debugging#no-bands\n"
     ]
    },
    {
     "name": "stderr",
     "output_type": "stream",
     "text": [
      "\r",
      "  0%|▏                                                                                    | 3/1482 [00:01<14:56,  1.65it/s]"
     ]
    },
    {
     "name": "stdout",
     "output_type": "stream",
     "text": [
      "EXCEPTION - Row 1019 @ (-121.07761, 37.21812)\n",
      "Image.select: Band pattern 'B4' was applied to an Image with no bands. See https://developers.google.com/earth-engine/guides/debugging#no-bands\n"
     ]
    },
    {
     "name": "stderr",
     "output_type": "stream",
     "text": [
      "\r",
      "  0%|▏                                                                                    | 4/1482 [00:02<16:56,  1.45it/s]"
     ]
    },
    {
     "name": "stdout",
     "output_type": "stream",
     "text": [
      "EXCEPTION - Row 41 @ (-118.01651, 36.602575)\n",
      "Image.select: Band pattern 'B4' was applied to an Image with no bands. See https://developers.google.com/earth-engine/guides/debugging#no-bands\n"
     ]
    },
    {
     "name": "stderr",
     "output_type": "stream",
     "text": [
      "\r",
      "  0%|▎                                                                                    | 5/1482 [00:03<17:00,  1.45it/s]"
     ]
    },
    {
     "name": "stdout",
     "output_type": "stream",
     "text": [
      "EXCEPTION - Row 147 @ (-116.941311, 34.288877)\n",
      "Image.select: Band pattern 'B4' was applied to an Image with no bands. See https://developers.google.com/earth-engine/guides/debugging#no-bands\n"
     ]
    },
    {
     "name": "stderr",
     "output_type": "stream",
     "text": [
      "\r",
      "  0%|▎                                                                                    | 6/1482 [00:03<17:28,  1.41it/s]"
     ]
    },
    {
     "name": "stdout",
     "output_type": "stream",
     "text": [
      "EXCEPTION - Row 50 @ (-119.635004, 37.116295)\n",
      "Image.select: Band pattern 'B4' was applied to an Image with no bands. See https://developers.google.com/earth-engine/guides/debugging#no-bands\n"
     ]
    },
    {
     "name": "stderr",
     "output_type": "stream",
     "text": [
      "\r",
      "  0%|▍                                                                                    | 7/1482 [00:04<18:14,  1.35it/s]"
     ]
    },
    {
     "name": "stdout",
     "output_type": "stream",
     "text": [
      "EXCEPTION - Row 106 @ (-122.350844, 38.441792)\n",
      "Image.select: Band pattern 'B4' was applied to an Image with no bands. See https://developers.google.com/earth-engine/guides/debugging#no-bands\n"
     ]
    },
    {
     "name": "stderr",
     "output_type": "stream",
     "text": [
      "\r",
      "  1%|▍                                                                                    | 8/1482 [00:05<18:48,  1.31it/s]"
     ]
    },
    {
     "name": "stdout",
     "output_type": "stream",
     "text": [
      "EXCEPTION - Row 77 @ (-122.655616, 38.638828)\n",
      "Image.select: Band pattern 'B4' was applied to an Image with no bands. See https://developers.google.com/earth-engine/guides/debugging#no-bands\n"
     ]
    },
    {
     "name": "stderr",
     "output_type": "stream",
     "text": [
      "\r",
      "  1%|▌                                                                                    | 9/1482 [00:06<20:44,  1.18it/s]"
     ]
    },
    {
     "name": "stdout",
     "output_type": "stream",
     "text": [
      "EXCEPTION - Row 12 @ (-121.595555, 40.190062)\n",
      "Image.select: Band pattern 'B4' was applied to an Image with no bands. See https://developers.google.com/earth-engine/guides/debugging#no-bands\n"
     ]
    },
    {
     "name": "stderr",
     "output_type": "stream",
     "text": [
      "\r",
      "  1%|▌                                                                                   | 10/1482 [00:07<19:51,  1.24it/s]"
     ]
    },
    {
     "name": "stdout",
     "output_type": "stream",
     "text": [
      "EXCEPTION - Row 16 @ (-116.941311, 34.288877)\n",
      "Image.select: Band pattern 'B4' was applied to an Image with no bands. See https://developers.google.com/earth-engine/guides/debugging#no-bands\n"
     ]
    },
    {
     "name": "stderr",
     "output_type": "stream",
     "text": [
      "\r",
      "  1%|▌                                                                                   | 11/1482 [00:08<19:50,  1.24it/s]"
     ]
    },
    {
     "name": "stdout",
     "output_type": "stream",
     "text": [
      "EXCEPTION - Row 57 @ (-122.560862, 39.514139)\n",
      "Image.select: Band pattern 'B4' was applied to an Image with no bands. See https://developers.google.com/earth-engine/guides/debugging#no-bands\n"
     ]
    },
    {
     "name": "stderr",
     "output_type": "stream",
     "text": [
      "\r",
      "  1%|▋                                                                                   | 12/1482 [00:08<19:54,  1.23it/s]"
     ]
    },
    {
     "name": "stdout",
     "output_type": "stream",
     "text": [
      "EXCEPTION - Row 43 @ (-120.937494, 37.160346)\n",
      "Image.select: Band pattern 'B4' was applied to an Image with no bands. See https://developers.google.com/earth-engine/guides/debugging#no-bands\n"
     ]
    },
    {
     "name": "stderr",
     "output_type": "stream",
     "text": [
      "\r",
      "  1%|▋                                                                                   | 13/1482 [00:09<19:14,  1.27it/s]"
     ]
    },
    {
     "name": "stdout",
     "output_type": "stream",
     "text": [
      "EXCEPTION - Row 35 @ (-116.855019, 33.894055)\n",
      "Image.select: Band pattern 'B4' was applied to an Image with no bands. See https://developers.google.com/earth-engine/guides/debugging#no-bands\n"
     ]
    },
    {
     "name": "stderr",
     "output_type": "stream",
     "text": [
      "\r",
      "  1%|▊                                                                                   | 14/1482 [00:10<20:09,  1.21it/s]"
     ]
    },
    {
     "name": "stdout",
     "output_type": "stream",
     "text": [
      "EXCEPTION - Row 105 @ (-117.4408, 34.1834)\n",
      "Image.select: Band pattern 'B4' was applied to an Image with no bands. See https://developers.google.com/earth-engine/guides/debugging#no-bands\n"
     ]
    },
    {
     "name": "stderr",
     "output_type": "stream",
     "text": [
      "\r",
      "  1%|▊                                                                                   | 15/1482 [00:11<19:39,  1.24it/s]"
     ]
    },
    {
     "name": "stdout",
     "output_type": "stream",
     "text": [
      "EXCEPTION - Row 13 @ (-118.9411, 34.7861)\n",
      "Image.select: Band pattern 'B4' was applied to an Image with no bands. See https://developers.google.com/earth-engine/guides/debugging#no-bands\n"
     ]
    },
    {
     "name": "stderr",
     "output_type": "stream",
     "text": [
      "\r",
      "  1%|▉                                                                                   | 16/1482 [00:12<18:59,  1.29it/s]"
     ]
    },
    {
     "name": "stdout",
     "output_type": "stream",
     "text": [
      "EXCEPTION - Row 14 @ (-118.9411, 34.7861)\n",
      "Image.select: Band pattern 'B4' was applied to an Image with no bands. See https://developers.google.com/earth-engine/guides/debugging#no-bands\n"
     ]
    },
    {
     "name": "stderr",
     "output_type": "stream",
     "text": [
      "\r",
      "  1%|▉                                                                                   | 17/1482 [00:12<19:00,  1.28it/s]"
     ]
    },
    {
     "name": "stdout",
     "output_type": "stream",
     "text": [
      "EXCEPTION - Row 136 @ (-116.161201, 33.655638)\n",
      "Image.select: Band pattern 'B4' was applied to an Image with no bands. See https://developers.google.com/earth-engine/guides/debugging#no-bands\n"
     ]
    },
    {
     "name": "stderr",
     "output_type": "stream",
     "text": [
      "\r",
      "  1%|█                                                                                   | 18/1482 [00:13<19:45,  1.23it/s]"
     ]
    },
    {
     "name": "stdout",
     "output_type": "stream",
     "text": [
      "EXCEPTION - Row 30 @ (-118.610044, 34.49149)\n",
      "Image.select: Band pattern 'B4' was applied to an Image with no bands. See https://developers.google.com/earth-engine/guides/debugging#no-bands\n"
     ]
    },
    {
     "name": "stderr",
     "output_type": "stream",
     "text": [
      "\r",
      "  1%|█                                                                                   | 19/1482 [00:14<19:25,  1.25it/s]"
     ]
    },
    {
     "name": "stdout",
     "output_type": "stream",
     "text": [
      "EXCEPTION - Row 96 @ (-119.7917, 37.1927)\n",
      "Image.select: Band pattern 'B4' was applied to an Image with no bands. See https://developers.google.com/earth-engine/guides/debugging#no-bands\n"
     ]
    },
    {
     "name": "stderr",
     "output_type": "stream",
     "text": [
      "\r",
      "  1%|█▏                                                                                  | 20/1482 [00:15<18:49,  1.29it/s]"
     ]
    },
    {
     "name": "stdout",
     "output_type": "stream",
     "text": [
      "EXCEPTION - Row 155 @ (-116.907213, 33.96201)\n",
      "Image.select: Band pattern 'B4' was applied to an Image with no bands. See https://developers.google.com/earth-engine/guides/debugging#no-bands\n"
     ]
    },
    {
     "name": "stderr",
     "output_type": "stream",
     "text": [
      "\r",
      "  1%|█▏                                                                                  | 21/1482 [00:15<18:25,  1.32it/s]"
     ]
    },
    {
     "name": "stdout",
     "output_type": "stream",
     "text": [
      "EXCEPTION - Row 141 @ (-120.91375, 35.49864)\n",
      "Image.select: Band pattern 'B4' was applied to an Image with no bands. See https://developers.google.com/earth-engine/guides/debugging#no-bands\n"
     ]
    },
    {
     "name": "stderr",
     "output_type": "stream",
     "text": [
      "\r",
      "  1%|█▏                                                                                  | 22/1482 [00:16<17:43,  1.37it/s]"
     ]
    },
    {
     "name": "stdout",
     "output_type": "stream",
     "text": [
      "EXCEPTION - Row 97 @ (-116.6534, 33.9582)\n",
      "Image.select: Band pattern 'B4' was applied to an Image with no bands. See https://developers.google.com/earth-engine/guides/debugging#no-bands\n"
     ]
    },
    {
     "name": "stderr",
     "output_type": "stream",
     "text": [
      "\r",
      "  2%|█▎                                                                                  | 23/1482 [00:17<17:50,  1.36it/s]"
     ]
    },
    {
     "name": "stdout",
     "output_type": "stream",
     "text": [
      "EXCEPTION - Row 88 @ (-116.900368, 32.564465)\n",
      "Image.select: Band pattern 'B4' was applied to an Image with no bands. See https://developers.google.com/earth-engine/guides/debugging#no-bands\n"
     ]
    },
    {
     "name": "stderr",
     "output_type": "stream",
     "text": [
      "\r",
      "  2%|█▎                                                                                  | 24/1482 [00:18<17:51,  1.36it/s]"
     ]
    },
    {
     "name": "stdout",
     "output_type": "stream",
     "text": [
      "EXCEPTION - Row 18 @ (-116.52579, 33.12111)\n",
      "Image.select: Band pattern 'B4' was applied to an Image with no bands. See https://developers.google.com/earth-engine/guides/debugging#no-bands\n"
     ]
    },
    {
     "name": "stderr",
     "output_type": "stream",
     "text": [
      "\r",
      "  2%|█▍                                                                                  | 25/1482 [00:18<17:38,  1.38it/s]"
     ]
    },
    {
     "name": "stdout",
     "output_type": "stream",
     "text": [
      "EXCEPTION - Row 80 @ (-117.187934, 33.963591)\n",
      "Image.select: Band pattern 'B4' was applied to an Image with no bands. See https://developers.google.com/earth-engine/guides/debugging#no-bands\n"
     ]
    },
    {
     "name": "stderr",
     "output_type": "stream",
     "text": [
      "\r",
      "  2%|█▍                                                                                  | 26/1482 [00:19<18:12,  1.33it/s]"
     ]
    },
    {
     "name": "stdout",
     "output_type": "stream",
     "text": [
      "EXCEPTION - Row 121 @ (-120.6368, 35.5123)\n",
      "Image.select: Band pattern 'B4' was applied to an Image with no bands. See https://developers.google.com/earth-engine/guides/debugging#no-bands\n"
     ]
    },
    {
     "name": "stderr",
     "output_type": "stream",
     "text": [
      "\r",
      "  2%|█▌                                                                                  | 27/1482 [00:20<19:18,  1.26it/s]"
     ]
    },
    {
     "name": "stdout",
     "output_type": "stream",
     "text": [
      "EXCEPTION - Row 25 @ (-116.5209, 33.04458)\n",
      "Image.select: Band pattern 'B4' was applied to an Image with no bands. See https://developers.google.com/earth-engine/guides/debugging#no-bands\n"
     ]
    },
    {
     "name": "stderr",
     "output_type": "stream",
     "text": [
      "\r",
      "  2%|█▌                                                                                  | 28/1482 [00:21<18:31,  1.31it/s]"
     ]
    },
    {
     "name": "stdout",
     "output_type": "stream",
     "text": [
      "EXCEPTION - Row 22 @ (-119.82429, 34.55048)\n",
      "Image.select: Band pattern 'B4' was applied to an Image with no bands. See https://developers.google.com/earth-engine/guides/debugging#no-bands\n"
     ]
    },
    {
     "name": "stderr",
     "output_type": "stream",
     "text": [
      "\r",
      "  2%|█▋                                                                                  | 29/1482 [00:21<17:56,  1.35it/s]"
     ]
    },
    {
     "name": "stdout",
     "output_type": "stream",
     "text": [
      "EXCEPTION - Row 75 @ (-118.58688, 34.419284)\n",
      "Image.select: Band pattern 'B4' was applied to an Image with no bands. See https://developers.google.com/earth-engine/guides/debugging#no-bands\n"
     ]
    },
    {
     "name": "stderr",
     "output_type": "stream",
     "text": [
      "\r",
      "  2%|█▋                                                                                  | 30/1482 [00:22<18:29,  1.31it/s]"
     ]
    },
    {
     "name": "stdout",
     "output_type": "stream",
     "text": [
      "EXCEPTION - Row 64 @ (-120.074655, 34.611824)\n",
      "Image.select: Band pattern 'B4' was applied to an Image with no bands. See https://developers.google.com/earth-engine/guides/debugging#no-bands\n"
     ]
    },
    {
     "name": "stderr",
     "output_type": "stream",
     "text": [
      "\r",
      "  2%|█▊                                                                                  | 31/1482 [00:23<18:20,  1.32it/s]"
     ]
    },
    {
     "name": "stdout",
     "output_type": "stream",
     "text": [
      "EXCEPTION - Row 46 @ (-120.90325, 38.04993)\n",
      "Image.select: Band pattern 'B4' was applied to an Image with no bands. See https://developers.google.com/earth-engine/guides/debugging#no-bands\n"
     ]
    },
    {
     "name": "stderr",
     "output_type": "stream",
     "text": [
      "\r",
      "  2%|█▊                                                                                  | 32/1482 [00:24<19:12,  1.26it/s]"
     ]
    },
    {
     "name": "stdout",
     "output_type": "stream",
     "text": [
      "EXCEPTION - Row 1 @ (-118.423176, 34.585595)\n",
      "Image.select: Band pattern 'B4' was applied to an Image with no bands. See https://developers.google.com/earth-engine/guides/debugging#no-bands\n"
     ]
    },
    {
     "name": "stderr",
     "output_type": "stream",
     "text": [
      "\r",
      "  2%|█▊                                                                                  | 33/1482 [00:25<18:09,  1.33it/s]"
     ]
    },
    {
     "name": "stdout",
     "output_type": "stream",
     "text": [
      "EXCEPTION - Row 37 @ (-120.05131, 35.15832)\n",
      "Image.select: Band pattern 'B4' was applied to an Image with no bands. See https://developers.google.com/earth-engine/guides/debugging#no-bands\n"
     ]
    },
    {
     "name": "stderr",
     "output_type": "stream",
     "text": [
      "\r",
      "  2%|█▉                                                                                  | 34/1482 [00:25<18:53,  1.28it/s]"
     ]
    },
    {
     "name": "stdout",
     "output_type": "stream",
     "text": [
      "EXCEPTION - Row 87 @ (-120.33313, 37.91529)\n",
      "Image.select: Band pattern 'B4' was applied to an Image with no bands. See https://developers.google.com/earth-engine/guides/debugging#no-bands\n"
     ]
    },
    {
     "name": "stderr",
     "output_type": "stream",
     "text": [
      "\r",
      "  2%|█▉                                                                                  | 35/1482 [00:26<18:37,  1.30it/s]"
     ]
    },
    {
     "name": "stdout",
     "output_type": "stream",
     "text": [
      "EXCEPTION - Row 47 @ (-121.576804, 39.434183)\n",
      "Image.select: Band pattern 'B4' was applied to an Image with no bands. See https://developers.google.com/earth-engine/guides/debugging#no-bands\n"
     ]
    },
    {
     "name": "stderr",
     "output_type": "stream",
     "text": [
      "\r",
      "  2%|██                                                                                  | 36/1482 [00:27<18:31,  1.30it/s]"
     ]
    },
    {
     "name": "stdout",
     "output_type": "stream",
     "text": [
      "EXCEPTION - Row 79 @ (-121.006939, 37.03776)\n",
      "Image.select: Band pattern 'B4' was applied to an Image with no bands. See https://developers.google.com/earth-engine/guides/debugging#no-bands\n"
     ]
    },
    {
     "name": "stderr",
     "output_type": "stream",
     "text": [
      "\r",
      "  2%|██                                                                                  | 37/1482 [00:28<19:17,  1.25it/s]"
     ]
    },
    {
     "name": "stdout",
     "output_type": "stream",
     "text": [
      "EXCEPTION - Row 146 @ (-122.703193, 38.99233)\n",
      "Image.select: Band pattern 'B4' was applied to an Image with no bands. See https://developers.google.com/earth-engine/guides/debugging#no-bands\n"
     ]
    },
    {
     "name": "stderr",
     "output_type": "stream",
     "text": [
      "\r",
      "  3%|██▏                                                                                 | 38/1482 [00:29<19:12,  1.25it/s]"
     ]
    },
    {
     "name": "stdout",
     "output_type": "stream",
     "text": [
      "EXCEPTION - Row 54 @ (-121.737213, 37.775057)\n",
      "Image.select: Band pattern 'B4' was applied to an Image with no bands. See https://developers.google.com/earth-engine/guides/debugging#no-bands\n"
     ]
    },
    {
     "name": "stderr",
     "output_type": "stream",
     "text": [
      "\r",
      "  3%|██▏                                                                                 | 39/1482 [00:30<20:48,  1.16it/s]"
     ]
    },
    {
     "name": "stdout",
     "output_type": "stream",
     "text": [
      "EXCEPTION - Row 127 @ (-117.1265, 33.96936)\n",
      "Image.select: Band pattern 'B4' was applied to an Image with no bands. See https://developers.google.com/earth-engine/guides/debugging#no-bands\n"
     ]
    },
    {
     "name": "stderr",
     "output_type": "stream",
     "text": [
      "\r",
      "  3%|██▎                                                                                 | 40/1482 [00:30<19:33,  1.23it/s]"
     ]
    },
    {
     "name": "stdout",
     "output_type": "stream",
     "text": [
      "EXCEPTION - Row 161 @ (-116.84137, 33.99647)\n",
      "Image.select: Band pattern 'B4' was applied to an Image with no bands. See https://developers.google.com/earth-engine/guides/debugging#no-bands\n"
     ]
    },
    {
     "name": "stderr",
     "output_type": "stream",
     "text": [
      "\r",
      "  3%|██▎                                                                                 | 41/1482 [00:31<19:58,  1.20it/s]"
     ]
    },
    {
     "name": "stdout",
     "output_type": "stream",
     "text": [
      "EXCEPTION - Row 149 @ (-122.0437, 38.4229)\n",
      "Image.select: Band pattern 'B4' was applied to an Image with no bands. See https://developers.google.com/earth-engine/guides/debugging#no-bands\n"
     ]
    },
    {
     "name": "stderr",
     "output_type": "stream",
     "text": [
      "\r",
      "  3%|██▍                                                                                 | 42/1482 [00:32<19:50,  1.21it/s]"
     ]
    },
    {
     "name": "stdout",
     "output_type": "stream",
     "text": [
      "EXCEPTION - Row 150 @ (-122.0437, 38.4229)\n",
      "Image.select: Band pattern 'B4' was applied to an Image with no bands. See https://developers.google.com/earth-engine/guides/debugging#no-bands\n"
     ]
    },
    {
     "name": "stderr",
     "output_type": "stream",
     "text": [
      "\r",
      "  3%|██▍                                                                                 | 43/1482 [00:33<19:47,  1.21it/s]"
     ]
    },
    {
     "name": "stdout",
     "output_type": "stream",
     "text": [
      "EXCEPTION - Row 148 @ (-122.0437, 38.4229)\n",
      "Image.select: Band pattern 'B4' was applied to an Image with no bands. See https://developers.google.com/earth-engine/guides/debugging#no-bands\n"
     ]
    },
    {
     "name": "stderr",
     "output_type": "stream",
     "text": [
      "\r",
      "  3%|██▍                                                                                 | 44/1482 [00:34<20:23,  1.18it/s]"
     ]
    },
    {
     "name": "stdout",
     "output_type": "stream",
     "text": [
      "EXCEPTION - Row 151 @ (-122.0437, 38.4229)\n",
      "Image.select: Band pattern 'B4' was applied to an Image with no bands. See https://developers.google.com/earth-engine/guides/debugging#no-bands\n"
     ]
    },
    {
     "name": "stderr",
     "output_type": "stream",
     "text": [
      "\r",
      "  3%|██▌                                                                                 | 45/1482 [00:34<19:30,  1.23it/s]"
     ]
    },
    {
     "name": "stdout",
     "output_type": "stream",
     "text": [
      "EXCEPTION - Row 104 @ (-119.75636, 37.169379)\n",
      "Image.select: Band pattern 'B4' was applied to an Image with no bands. See https://developers.google.com/earth-engine/guides/debugging#no-bands\n"
     ]
    },
    {
     "name": "stderr",
     "output_type": "stream",
     "text": [
      "\r",
      "  3%|██▌                                                                                 | 46/1482 [00:35<18:23,  1.30it/s]"
     ]
    },
    {
     "name": "stdout",
     "output_type": "stream",
     "text": [
      "EXCEPTION - Row 93 @ (-120.966016, 38.27783)\n",
      "Image.select: Band pattern 'B4' was applied to an Image with no bands. See https://developers.google.com/earth-engine/guides/debugging#no-bands\n"
     ]
    },
    {
     "name": "stderr",
     "output_type": "stream",
     "text": [
      "\r",
      "  3%|██▋                                                                                 | 47/1482 [00:36<18:11,  1.31it/s]"
     ]
    },
    {
     "name": "stdout",
     "output_type": "stream",
     "text": [
      "EXCEPTION - Row 55 @ (-121.380862, 38.729297)\n",
      "Image.select: Band pattern 'B4' was applied to an Image with no bands. See https://developers.google.com/earth-engine/guides/debugging#no-bands\n"
     ]
    },
    {
     "name": "stderr",
     "output_type": "stream",
     "text": [
      "\r",
      "  3%|██▋                                                                                 | 48/1482 [00:37<18:16,  1.31it/s]"
     ]
    },
    {
     "name": "stdout",
     "output_type": "stream",
     "text": [
      "EXCEPTION - Row 84 @ (-119.628389, 36.772425)\n",
      "Image.select: Band pattern 'B4' was applied to an Image with no bands. See https://developers.google.com/earth-engine/guides/debugging#no-bands\n"
     ]
    },
    {
     "name": "stderr",
     "output_type": "stream",
     "text": [
      "\r",
      "  3%|██▊                                                                                 | 49/1482 [00:37<18:26,  1.30it/s]"
     ]
    },
    {
     "name": "stdout",
     "output_type": "stream",
     "text": [
      "EXCEPTION - Row 140 @ (-119.558244, 36.763367)\n",
      "Image.select: Band pattern 'B4' was applied to an Image with no bands. See https://developers.google.com/earth-engine/guides/debugging#no-bands\n"
     ]
    },
    {
     "name": "stderr",
     "output_type": "stream",
     "text": [
      "\r",
      "  3%|██▊                                                                                 | 50/1482 [00:38<18:01,  1.32it/s]"
     ]
    },
    {
     "name": "stdout",
     "output_type": "stream",
     "text": [
      "EXCEPTION - Row 135 @ (-117.302057, 34.001745)\n",
      "Image.select: Band pattern 'B4' was applied to an Image with no bands. See https://developers.google.com/earth-engine/guides/debugging#no-bands\n"
     ]
    },
    {
     "name": "stderr",
     "output_type": "stream",
     "text": [
      "\r",
      "  3%|██▉                                                                                 | 51/1482 [00:39<17:23,  1.37it/s]"
     ]
    },
    {
     "name": "stdout",
     "output_type": "stream",
     "text": [
      "EXCEPTION - Row 23 @ (-119.91071, 37.58202)\n",
      "Image.select: Band pattern 'B4' was applied to an Image with no bands. See https://developers.google.com/earth-engine/guides/debugging#no-bands\n"
     ]
    },
    {
     "name": "stderr",
     "output_type": "stream",
     "text": [
      "\r",
      "  4%|██▉                                                                                 | 52/1482 [00:39<16:53,  1.41it/s]"
     ]
    },
    {
     "name": "stdout",
     "output_type": "stream",
     "text": [
      "EXCEPTION - Row 39 @ (-119.78106, 37.015575)\n",
      "Image.select: Band pattern 'B4' was applied to an Image with no bands. See https://developers.google.com/earth-engine/guides/debugging#no-bands\n"
     ]
    },
    {
     "name": "stderr",
     "output_type": "stream",
     "text": [
      "\r",
      "  4%|███                                                                                 | 53/1482 [00:40<16:54,  1.41it/s]"
     ]
    },
    {
     "name": "stdout",
     "output_type": "stream",
     "text": [
      "EXCEPTION - Row 123 @ (-119.463757, 37.03087)\n",
      "Image.select: Band pattern 'B4' was applied to an Image with no bands. See https://developers.google.com/earth-engine/guides/debugging#no-bands\n"
     ]
    },
    {
     "name": "stderr",
     "output_type": "stream",
     "text": [
      "\r",
      "  4%|███                                                                                 | 54/1482 [00:41<17:03,  1.39it/s]"
     ]
    },
    {
     "name": "stdout",
     "output_type": "stream",
     "text": [
      "EXCEPTION - Row 78 @ (-122.13802, 38.08744)\n",
      "Image.select: Band pattern 'B4' was applied to an Image with no bands. See https://developers.google.com/earth-engine/guides/debugging#no-bands\n"
     ]
    },
    {
     "name": "stderr",
     "output_type": "stream",
     "text": [
      "\r",
      "  4%|███                                                                                 | 55/1482 [00:42<17:13,  1.38it/s]"
     ]
    },
    {
     "name": "stdout",
     "output_type": "stream",
     "text": [
      "EXCEPTION - Row 154 @ (-122.81796, 38.98058)\n",
      "Image.select: Band pattern 'B4' was applied to an Image with no bands. See https://developers.google.com/earth-engine/guides/debugging#no-bands\n"
     ]
    },
    {
     "name": "stderr",
     "output_type": "stream",
     "text": [
      "\r",
      "  4%|███▏                                                                                | 56/1482 [00:42<17:39,  1.35it/s]"
     ]
    },
    {
     "name": "stdout",
     "output_type": "stream",
     "text": [
      "EXCEPTION - Row 73 @ (-119.2248, 36.7218)\n",
      "Image.select: Band pattern 'B4' was applied to an Image with no bands. See https://developers.google.com/earth-engine/guides/debugging#no-bands\n"
     ]
    },
    {
     "name": "stderr",
     "output_type": "stream",
     "text": [
      "\r",
      "  4%|███▏                                                                                | 57/1482 [00:43<17:31,  1.35it/s]"
     ]
    },
    {
     "name": "stdout",
     "output_type": "stream",
     "text": [
      "EXCEPTION - Row 33 @ (-117.048397, 34.071556)\n",
      "Image.select: Band pattern 'B4' was applied to an Image with no bands. See https://developers.google.com/earth-engine/guides/debugging#no-bands\n"
     ]
    },
    {
     "name": "stderr",
     "output_type": "stream",
     "text": [
      "\r",
      "  4%|███▎                                                                                | 58/1482 [00:44<19:30,  1.22it/s]"
     ]
    },
    {
     "name": "stdout",
     "output_type": "stream",
     "text": [
      "EXCEPTION - Row 85 @ (-120.8973, 36.1531)\n",
      "Image.select: Band pattern 'B4' was applied to an Image with no bands. See https://developers.google.com/earth-engine/guides/debugging#no-bands\n"
     ]
    },
    {
     "name": "stderr",
     "output_type": "stream",
     "text": [
      "\r",
      "  4%|███▎                                                                                | 59/1482 [00:45<17:55,  1.32it/s]"
     ]
    },
    {
     "name": "stdout",
     "output_type": "stream",
     "text": [
      "EXCEPTION - Row 38 @ (-121.91453, 37.96866)\n",
      "Image.select: Band pattern 'B4' was applied to an Image with no bands. See https://developers.google.com/earth-engine/guides/debugging#no-bands\n"
     ]
    },
    {
     "name": "stderr",
     "output_type": "stream",
     "text": [
      "\r",
      "  4%|███▍                                                                                | 60/1482 [00:45<17:22,  1.36it/s]"
     ]
    },
    {
     "name": "stdout",
     "output_type": "stream",
     "text": [
      "EXCEPTION - Row 49 @ (-121.74367, 39.90465)\n",
      "Image.select: Band pattern 'B4' was applied to an Image with no bands. See https://developers.google.com/earth-engine/guides/debugging#no-bands\n"
     ]
    },
    {
     "name": "stderr",
     "output_type": "stream",
     "text": [
      "\r",
      "  4%|███▍                                                                                | 61/1482 [00:46<17:34,  1.35it/s]"
     ]
    },
    {
     "name": "stdout",
     "output_type": "stream",
     "text": [
      "EXCEPTION - Row 36 @ (-121.035, 41.2415)\n",
      "Image.select: Band pattern 'B4' was applied to an Image with no bands. See https://developers.google.com/earth-engine/guides/debugging#no-bands\n"
     ]
    },
    {
     "name": "stderr",
     "output_type": "stream",
     "text": [
      "\r",
      "  4%|███▌                                                                                | 62/1482 [00:47<17:11,  1.38it/s]"
     ]
    },
    {
     "name": "stdout",
     "output_type": "stream",
     "text": [
      "EXCEPTION - Row 60 @ (-122.079871, 40.012398)\n",
      "Image.select: Band pattern 'B4' was applied to an Image with no bands. See https://developers.google.com/earth-engine/guides/debugging#no-bands\n"
     ]
    },
    {
     "name": "stderr",
     "output_type": "stream",
     "text": [
      "\r",
      "  4%|███▌                                                                                | 63/1482 [00:48<17:18,  1.37it/s]"
     ]
    },
    {
     "name": "stdout",
     "output_type": "stream",
     "text": [
      "EXCEPTION - Row 120 @ (-121.5869, 37.7393)\n",
      "Image.select: Band pattern 'B4' was applied to an Image with no bands. See https://developers.google.com/earth-engine/guides/debugging#no-bands\n"
     ]
    },
    {
     "name": "stderr",
     "output_type": "stream",
     "text": [
      "\r",
      "  4%|███▋                                                                                | 64/1482 [00:48<17:54,  1.32it/s]"
     ]
    },
    {
     "name": "stdout",
     "output_type": "stream",
     "text": [
      "EXCEPTION - Row 11 @ (-116.47381, 32.95435)\n",
      "Image.select: Band pattern 'B4' was applied to an Image with no bands. See https://developers.google.com/earth-engine/guides/debugging#no-bands\n"
     ]
    },
    {
     "name": "stderr",
     "output_type": "stream",
     "text": [
      "\r",
      "  4%|███▋                                                                                | 65/1482 [00:49<17:35,  1.34it/s]"
     ]
    },
    {
     "name": "stdout",
     "output_type": "stream",
     "text": [
      "EXCEPTION - Row 139 @ (-121.86216, 37.74241)\n",
      "Image.select: Band pattern 'B4' was applied to an Image with no bands. See https://developers.google.com/earth-engine/guides/debugging#no-bands\n"
     ]
    },
    {
     "name": "stderr",
     "output_type": "stream",
     "text": [
      "\r",
      "  4%|███▋                                                                                | 66/1482 [00:50<17:58,  1.31it/s]"
     ]
    },
    {
     "name": "stdout",
     "output_type": "stream",
     "text": [
      "EXCEPTION - Row 98 @ (-120.83417, 35.62743)\n",
      "Image.select: Band pattern 'B4' was applied to an Image with no bands. See https://developers.google.com/earth-engine/guides/debugging#no-bands\n"
     ]
    },
    {
     "name": "stderr",
     "output_type": "stream",
     "text": [
      "\r",
      "  5%|███▊                                                                                | 67/1482 [00:51<18:30,  1.27it/s]"
     ]
    },
    {
     "name": "stdout",
     "output_type": "stream",
     "text": [
      "EXCEPTION - Row 108 @ (-121.31634, 39.206)\n",
      "Image.select: Band pattern 'B4' was applied to an Image with no bands. See https://developers.google.com/earth-engine/guides/debugging#no-bands\n"
     ]
    },
    {
     "name": "stderr",
     "output_type": "stream",
     "text": [
      "\r",
      "  5%|███▊                                                                                | 68/1482 [00:52<18:13,  1.29it/s]"
     ]
    },
    {
     "name": "stdout",
     "output_type": "stream",
     "text": [
      "EXCEPTION - Row 32 @ (-120.298, 38.774)\n",
      "Image.select: Band pattern 'B4' was applied to an Image with no bands. See https://developers.google.com/earth-engine/guides/debugging#no-bands\n"
     ]
    },
    {
     "name": "stderr",
     "output_type": "stream",
     "text": [
      "\r",
      "  5%|███▉                                                                                | 69/1482 [00:52<17:24,  1.35it/s]"
     ]
    },
    {
     "name": "stdout",
     "output_type": "stream",
     "text": [
      "EXCEPTION - Row 126 @ (-122.7338, 40.373)\n",
      "Image.select: Band pattern 'B4' was applied to an Image with no bands. See https://developers.google.com/earth-engine/guides/debugging#no-bands\n"
     ]
    },
    {
     "name": "stderr",
     "output_type": "stream",
     "text": [
      "\r",
      "  5%|███▉                                                                                | 70/1482 [00:53<17:26,  1.35it/s]"
     ]
    },
    {
     "name": "stdout",
     "output_type": "stream",
     "text": [
      "EXCEPTION - Row 119 @ (-121.7804, 37.1438)\n",
      "Image.select: Band pattern 'B4' was applied to an Image with no bands. See https://developers.google.com/earth-engine/guides/debugging#no-bands\n"
     ]
    },
    {
     "name": "stderr",
     "output_type": "stream",
     "text": [
      "\r",
      "  5%|████                                                                                | 71/1482 [00:54<17:11,  1.37it/s]"
     ]
    },
    {
     "name": "stdout",
     "output_type": "stream",
     "text": [
      "EXCEPTION - Row 72 @ (-121.1955, 37.436)\n",
      "Image.select: Band pattern 'B4' was applied to an Image with no bands. See https://developers.google.com/earth-engine/guides/debugging#no-bands\n"
     ]
    },
    {
     "name": "stderr",
     "output_type": "stream",
     "text": [
      "\r",
      "  5%|████                                                                                | 72/1482 [00:54<17:08,  1.37it/s]"
     ]
    },
    {
     "name": "stdout",
     "output_type": "stream",
     "text": [
      "EXCEPTION - Row 2 @ (-116.72885, 33.7095)\n",
      "Image.select: Band pattern 'B4' was applied to an Image with no bands. See https://developers.google.com/earth-engine/guides/debugging#no-bands\n"
     ]
    },
    {
     "name": "stderr",
     "output_type": "stream",
     "text": [
      "\r",
      "  5%|████▏                                                                               | 73/1482 [00:55<17:02,  1.38it/s]"
     ]
    },
    {
     "name": "stdout",
     "output_type": "stream",
     "text": [
      "EXCEPTION - Row 71 @ (-117.164997, 33.990128)\n",
      "Image.select: Band pattern 'B4' was applied to an Image with no bands. See https://developers.google.com/earth-engine/guides/debugging#no-bands\n"
     ]
    },
    {
     "name": "stderr",
     "output_type": "stream",
     "text": [
      "\r",
      "  5%|████▏                                                                               | 74/1482 [00:56<16:53,  1.39it/s]"
     ]
    },
    {
     "name": "stdout",
     "output_type": "stream",
     "text": [
      "EXCEPTION - Row 29 @ (-118.9194, 34.882)\n",
      "Image.select: Band pattern 'B4' was applied to an Image with no bands. See https://developers.google.com/earth-engine/guides/debugging#no-bands\n"
     ]
    },
    {
     "name": "stderr",
     "output_type": "stream",
     "text": [
      "\r",
      "  5%|████▎                                                                               | 75/1482 [00:56<16:32,  1.42it/s]"
     ]
    },
    {
     "name": "stdout",
     "output_type": "stream",
     "text": [
      "EXCEPTION - Row 62 @ (-122.330879, 39.961309)\n",
      "Image.select: Band pattern 'B4' was applied to an Image with no bands. See https://developers.google.com/earth-engine/guides/debugging#no-bands\n"
     ]
    },
    {
     "name": "stderr",
     "output_type": "stream",
     "text": [
      "\r",
      "  5%|████▎                                                                               | 76/1482 [00:57<16:59,  1.38it/s]"
     ]
    },
    {
     "name": "stdout",
     "output_type": "stream",
     "text": [
      "EXCEPTION - Row 67 @ (-121.08438, 38.63987)\n",
      "Image.select: Band pattern 'B4' was applied to an Image with no bands. See https://developers.google.com/earth-engine/guides/debugging#no-bands\n"
     ]
    },
    {
     "name": "stderr",
     "output_type": "stream",
     "text": [
      "\r",
      "  5%|████▎                                                                               | 77/1482 [00:58<16:54,  1.38it/s]"
     ]
    },
    {
     "name": "stdout",
     "output_type": "stream",
     "text": [
      "EXCEPTION - Row 66 @ (-121.08438, 38.63987)\n",
      "Image.select: Band pattern 'B4' was applied to an Image with no bands. See https://developers.google.com/earth-engine/guides/debugging#no-bands\n"
     ]
    },
    {
     "name": "stderr",
     "output_type": "stream",
     "text": [
      "\r",
      "  5%|████▍                                                                               | 78/1482 [00:59<16:30,  1.42it/s]"
     ]
    },
    {
     "name": "stdout",
     "output_type": "stream",
     "text": [
      "EXCEPTION - Row 134 @ (-117.2508, 33.9634)\n",
      "Image.select: Band pattern 'B4' was applied to an Image with no bands. See https://developers.google.com/earth-engine/guides/debugging#no-bands\n"
     ]
    },
    {
     "name": "stderr",
     "output_type": "stream",
     "text": [
      "\r",
      "  5%|████▍                                                                               | 79/1482 [00:59<16:41,  1.40it/s]"
     ]
    },
    {
     "name": "stdout",
     "output_type": "stream",
     "text": [
      "EXCEPTION - Row 158 @ (-117.09306, 33.94528)\n",
      "Image.select: Band pattern 'B4' was applied to an Image with no bands. See https://developers.google.com/earth-engine/guides/debugging#no-bands\n"
     ]
    },
    {
     "name": "stderr",
     "output_type": "stream",
     "text": [
      "\r",
      "  5%|████▌                                                                               | 80/1482 [01:00<16:56,  1.38it/s]"
     ]
    },
    {
     "name": "stdout",
     "output_type": "stream",
     "text": [
      "EXCEPTION - Row 144 @ (-120.696362, 37.965364)\n",
      "Image.select: Band pattern 'B4' was applied to an Image with no bands. See https://developers.google.com/earth-engine/guides/debugging#no-bands\n"
     ]
    },
    {
     "name": "stderr",
     "output_type": "stream",
     "text": [
      "\r",
      "  5%|████▌                                                                               | 81/1482 [01:01<16:17,  1.43it/s]"
     ]
    },
    {
     "name": "stdout",
     "output_type": "stream",
     "text": [
      "EXCEPTION - Row 5 @ (-119.318, 37.279)\n",
      "Image.select: Band pattern 'B4' was applied to an Image with no bands. See https://developers.google.com/earth-engine/guides/debugging#no-bands\n"
     ]
    },
    {
     "name": "stderr",
     "output_type": "stream",
     "text": [
      "\r",
      "  6%|████▋                                                                               | 82/1482 [01:01<15:52,  1.47it/s]"
     ]
    },
    {
     "name": "stdout",
     "output_type": "stream",
     "text": [
      "EXCEPTION - Row 31 @ (-118.93388, 34.90327)\n",
      "Image.select: Band pattern 'B4' was applied to an Image with no bands. See https://developers.google.com/earth-engine/guides/debugging#no-bands\n"
     ]
    },
    {
     "name": "stderr",
     "output_type": "stream",
     "text": [
      "\r",
      "  6%|████▋                                                                               | 83/1482 [01:02<16:24,  1.42it/s]"
     ]
    },
    {
     "name": "stdout",
     "output_type": "stream",
     "text": [
      "EXCEPTION - Row 124 @ (-123.067671, 38.980846)\n",
      "Image.select: Band pattern 'B4' was applied to an Image with no bands. See https://developers.google.com/earth-engine/guides/debugging#no-bands\n"
     ]
    },
    {
     "name": "stderr",
     "output_type": "stream",
     "text": [
      "\r",
      "  6%|████▊                                                                               | 84/1482 [01:03<16:36,  1.40it/s]"
     ]
    },
    {
     "name": "stdout",
     "output_type": "stream",
     "text": [
      "EXCEPTION - Row 103 @ (-117.352, 34.316)\n",
      "Image.select: Band pattern 'B4' was applied to an Image with no bands. See https://developers.google.com/earth-engine/guides/debugging#no-bands\n"
     ]
    },
    {
     "name": "stderr",
     "output_type": "stream",
     "text": [
      "\r",
      "  6%|████▊                                                                               | 85/1482 [01:04<17:22,  1.34it/s]"
     ]
    },
    {
     "name": "stdout",
     "output_type": "stream",
     "text": [
      "EXCEPTION - Row 69 @ (-122.51253, 38.17693)\n",
      "Image.select: Band pattern 'B4' was applied to an Image with no bands. See https://developers.google.com/earth-engine/guides/debugging#no-bands\n"
     ]
    },
    {
     "name": "stderr",
     "output_type": "stream",
     "text": [
      "\r",
      "  6%|████▊                                                                               | 86/1482 [01:04<17:06,  1.36it/s]"
     ]
    },
    {
     "name": "stdout",
     "output_type": "stream",
     "text": [
      "EXCEPTION - Row 153 @ (-116.707335, 32.612773)\n",
      "Image.select: Band pattern 'B4' was applied to an Image with no bands. See https://developers.google.com/earth-engine/guides/debugging#no-bands\n"
     ]
    },
    {
     "name": "stderr",
     "output_type": "stream",
     "text": [
      "\r",
      "  6%|████▉                                                                               | 87/1482 [01:05<16:58,  1.37it/s]"
     ]
    },
    {
     "name": "stdout",
     "output_type": "stream",
     "text": [
      "EXCEPTION - Row 7 @ (-123.176, 41.32)\n",
      "Image.select: Band pattern 'B4' was applied to an Image with no bands. See https://developers.google.com/earth-engine/guides/debugging#no-bands\n"
     ]
    },
    {
     "name": "stderr",
     "output_type": "stream",
     "text": [
      "\r",
      "  6%|████▉                                                                               | 88/1482 [01:06<16:52,  1.38it/s]"
     ]
    },
    {
     "name": "stdout",
     "output_type": "stream",
     "text": [
      "EXCEPTION - Row 95 @ (-121.50354, 39.6612)\n",
      "Image.select: Band pattern 'B4' was applied to an Image with no bands. See https://developers.google.com/earth-engine/guides/debugging#no-bands\n"
     ]
    },
    {
     "name": "stderr",
     "output_type": "stream",
     "text": [
      "\r",
      "  6%|█████                                                                               | 89/1482 [01:06<16:12,  1.43it/s]"
     ]
    },
    {
     "name": "stdout",
     "output_type": "stream",
     "text": [
      "EXCEPTION - Row 160 @ (-123.376, 41.333)\n",
      "Image.select: Band pattern 'B4' was applied to an Image with no bands. See https://developers.google.com/earth-engine/guides/debugging#no-bands\n"
     ]
    },
    {
     "name": "stderr",
     "output_type": "stream",
     "text": [
      "\r",
      "  6%|█████                                                                               | 90/1482 [01:07<16:54,  1.37it/s]"
     ]
    },
    {
     "name": "stdout",
     "output_type": "stream",
     "text": [
      "EXCEPTION - Row 114 @ (-116.99895, 33.91027)\n",
      "Image.select: Band pattern 'B4' was applied to an Image with no bands. See https://developers.google.com/earth-engine/guides/debugging#no-bands\n"
     ]
    },
    {
     "name": "stderr",
     "output_type": "stream",
     "text": [
      "\r",
      "  6%|█████▏                                                                              | 91/1482 [01:08<16:49,  1.38it/s]"
     ]
    },
    {
     "name": "stdout",
     "output_type": "stream",
     "text": [
      "EXCEPTION - Row 26 @ (-120.02778, 38.25108)\n",
      "Image.select: Band pattern 'B4' was applied to an Image with no bands. See https://developers.google.com/earth-engine/guides/debugging#no-bands\n"
     ]
    },
    {
     "name": "stderr",
     "output_type": "stream",
     "text": [
      "\r",
      "  6%|█████▏                                                                              | 92/1482 [01:09<16:36,  1.39it/s]"
     ]
    },
    {
     "name": "stdout",
     "output_type": "stream",
     "text": [
      "EXCEPTION - Row 24 @ (-117.40288, 33.62236)\n",
      "Image.select: Band pattern 'B4' was applied to an Image with no bands. See https://developers.google.com/earth-engine/guides/debugging#no-bands\n"
     ]
    },
    {
     "name": "stderr",
     "output_type": "stream",
     "text": [
      "\r",
      "  6%|█████▎                                                                              | 93/1482 [01:10<17:26,  1.33it/s]"
     ]
    },
    {
     "name": "stdout",
     "output_type": "stream",
     "text": [
      "EXCEPTION - Row 113 @ (-116.61, 38.838)\n",
      "Image.select: Band pattern 'B4' was applied to an Image with no bands. See https://developers.google.com/earth-engine/guides/debugging#no-bands\n"
     ]
    },
    {
     "name": "stderr",
     "output_type": "stream",
     "text": [
      "\r",
      "  6%|█████▎                                                                              | 94/1482 [01:10<17:10,  1.35it/s]"
     ]
    },
    {
     "name": "stdout",
     "output_type": "stream",
     "text": [
      "EXCEPTION - Row 138 @ (-122.5906, 39.1591)\n",
      "Image.select: Band pattern 'B4' was applied to an Image with no bands. See https://developers.google.com/earth-engine/guides/debugging#no-bands\n"
     ]
    },
    {
     "name": "stderr",
     "output_type": "stream",
     "text": [
      "\r",
      "  6%|█████▍                                                                              | 95/1482 [01:11<16:58,  1.36it/s]"
     ]
    },
    {
     "name": "stdout",
     "output_type": "stream",
     "text": [
      "EXCEPTION - Row 6 @ (-116.90427, 33.86157)\n",
      "Image.select: Band pattern 'B4' was applied to an Image with no bands. See https://developers.google.com/earth-engine/guides/debugging#no-bands\n"
     ]
    },
    {
     "name": "stderr",
     "output_type": "stream",
     "text": [
      "\r",
      "  6%|█████▍                                                                              | 96/1482 [01:12<16:46,  1.38it/s]"
     ]
    },
    {
     "name": "stdout",
     "output_type": "stream",
     "text": [
      "EXCEPTION - Row 53 @ (-117.62, 34.35)\n",
      "Image.select: Band pattern 'B4' was applied to an Image with no bands. See https://developers.google.com/earth-engine/guides/debugging#no-bands\n"
     ]
    },
    {
     "name": "stderr",
     "output_type": "stream",
     "text": [
      "\r",
      "  7%|█████▍                                                                              | 97/1482 [01:12<17:28,  1.32it/s]"
     ]
    },
    {
     "name": "stdout",
     "output_type": "stream",
     "text": [
      "EXCEPTION - Row 92 @ (-120.958126, 40.88886)\n",
      "Image.select: Band pattern 'B4' was applied to an Image with no bands. See https://developers.google.com/earth-engine/guides/debugging#no-bands\n"
     ]
    },
    {
     "name": "stderr",
     "output_type": "stream",
     "text": [
      "\r",
      "  7%|█████▌                                                                              | 98/1482 [01:13<17:11,  1.34it/s]"
     ]
    },
    {
     "name": "stdout",
     "output_type": "stream",
     "text": [
      "EXCEPTION - Row 8 @ (-123.488, 41.035)\n",
      "Image.select: Band pattern 'B4' was applied to an Image with no bands. See https://developers.google.com/earth-engine/guides/debugging#no-bands\n"
     ]
    },
    {
     "name": "stderr",
     "output_type": "stream",
     "text": [
      "\r",
      "  7%|█████▌                                                                              | 99/1482 [01:14<16:19,  1.41it/s]"
     ]
    },
    {
     "name": "stdout",
     "output_type": "stream",
     "text": [
      "EXCEPTION - Row 3 @ (-120.65, 39.12)\n",
      "Image.select: Band pattern 'B4' was applied to an Image with no bands. See https://developers.google.com/earth-engine/guides/debugging#no-bands\n"
     ]
    },
    {
     "name": "stderr",
     "output_type": "stream",
     "text": [
      "\r",
      "  7%|█████▌                                                                             | 100/1482 [01:15<16:18,  1.41it/s]"
     ]
    },
    {
     "name": "stdout",
     "output_type": "stream",
     "text": [
      "EXCEPTION - Row 152 @ (-122.48259, 40.473356)\n",
      "Image.select: Band pattern 'B4' was applied to an Image with no bands. See https://developers.google.com/earth-engine/guides/debugging#no-bands\n"
     ]
    },
    {
     "name": "stderr",
     "output_type": "stream",
     "text": [
      "\r",
      "  7%|█████▋                                                                             | 101/1482 [01:15<16:21,  1.41it/s]"
     ]
    },
    {
     "name": "stdout",
     "output_type": "stream",
     "text": [
      "EXCEPTION - Row 118 @ (-122.578393, 41.923323)\n",
      "Image.select: Band pattern 'B4' was applied to an Image with no bands. See https://developers.google.com/earth-engine/guides/debugging#no-bands\n"
     ]
    },
    {
     "name": "stderr",
     "output_type": "stream",
     "text": [
      "\r",
      "  7%|█████▋                                                                             | 102/1482 [01:16<16:23,  1.40it/s]"
     ]
    },
    {
     "name": "stdout",
     "output_type": "stream",
     "text": [
      "EXCEPTION - Row 132 @ (-116.10815, 33.570291)\n",
      "Image.select: Band pattern 'B4' was applied to an Image with no bands. See https://developers.google.com/earth-engine/guides/debugging#no-bands\n"
     ]
    },
    {
     "name": "stderr",
     "output_type": "stream",
     "text": [
      "\r",
      "  7%|█████▊                                                                             | 103/1482 [01:17<16:29,  1.39it/s]"
     ]
    },
    {
     "name": "stdout",
     "output_type": "stream",
     "text": [
      "EXCEPTION - Row 82 @ (-120.839075, 38.682378)\n",
      "Image.select: Band pattern 'B4' was applied to an Image with no bands. See https://developers.google.com/earth-engine/guides/debugging#no-bands\n"
     ]
    },
    {
     "name": "stderr",
     "output_type": "stream",
     "text": [
      "\r",
      "  7%|█████▊                                                                             | 104/1482 [01:18<17:06,  1.34it/s]"
     ]
    },
    {
     "name": "stdout",
     "output_type": "stream",
     "text": [
      "EXCEPTION - Row 19 @ (-121.38236, 39.446268)\n",
      "Image.select: Band pattern 'B4' was applied to an Image with no bands. See https://developers.google.com/earth-engine/guides/debugging#no-bands\n"
     ]
    },
    {
     "name": "stderr",
     "output_type": "stream",
     "text": [
      "\r",
      "  7%|█████▉                                                                             | 105/1482 [01:18<16:53,  1.36it/s]"
     ]
    },
    {
     "name": "stdout",
     "output_type": "stream",
     "text": [
      "EXCEPTION - Row 110 @ (-122.491894, 39.013682)\n",
      "Image.select: Band pattern 'B4' was applied to an Image with no bands. See https://developers.google.com/earth-engine/guides/debugging#no-bands\n"
     ]
    },
    {
     "name": "stderr",
     "output_type": "stream",
     "text": [
      "\r",
      "  7%|█████▉                                                                             | 106/1482 [01:19<16:38,  1.38it/s]"
     ]
    },
    {
     "name": "stdout",
     "output_type": "stream",
     "text": [
      "EXCEPTION - Row 122 @ (-120.45233, 38.06231)\n",
      "Image.select: Band pattern 'B4' was applied to an Image with no bands. See https://developers.google.com/earth-engine/guides/debugging#no-bands\n"
     ]
    },
    {
     "name": "stderr",
     "output_type": "stream",
     "text": [
      "\r",
      "  7%|█████▉                                                                             | 107/1482 [01:20<16:33,  1.38it/s]"
     ]
    },
    {
     "name": "stdout",
     "output_type": "stream",
     "text": [
      "EXCEPTION - Row 0 @ (-120.086, 37.857)\n",
      "Image.select: Band pattern 'B4' was applied to an Image with no bands. See https://developers.google.com/earth-engine/guides/debugging#no-bands\n"
     ]
    },
    {
     "name": "stderr",
     "output_type": "stream",
     "text": [
      "\r",
      "  7%|██████                                                                             | 108/1482 [01:20<15:46,  1.45it/s]"
     ]
    },
    {
     "name": "stdout",
     "output_type": "stream",
     "text": [
      "EXCEPTION - Row 83 @ (-117.451, 34.287)\n",
      "Image.select: Band pattern 'B4' was applied to an Image with no bands. See https://developers.google.com/earth-engine/guides/debugging#no-bands\n"
     ]
    },
    {
     "name": "stderr",
     "output_type": "stream",
     "text": [
      "\r",
      "  7%|██████                                                                             | 109/1482 [01:21<15:23,  1.49it/s]"
     ]
    },
    {
     "name": "stdout",
     "output_type": "stream",
     "text": [
      "EXCEPTION - Row 34 @ (-120.764666, 40.00842)\n",
      "Image.select: Band pattern 'B4' was applied to an Image with no bands. See https://developers.google.com/earth-engine/guides/debugging#no-bands\n"
     ]
    },
    {
     "name": "stderr",
     "output_type": "stream",
     "text": [
      "\r",
      "  7%|██████▏                                                                            | 110/1482 [01:22<15:03,  1.52it/s]"
     ]
    },
    {
     "name": "stdout",
     "output_type": "stream",
     "text": [
      "EXCEPTION - Row 28 @ (-118.588, 35.707)\n",
      "Image.select: Band pattern 'B4' was applied to an Image with no bands. See https://developers.google.com/earth-engine/guides/debugging#no-bands\n"
     ]
    },
    {
     "name": "stderr",
     "output_type": "stream",
     "text": [
      "\r",
      "  7%|██████▏                                                                            | 111/1482 [01:22<14:49,  1.54it/s]"
     ]
    },
    {
     "name": "stdout",
     "output_type": "stream",
     "text": [
      "EXCEPTION - Row 61 @ (-121.3754, 40.5445)\n",
      "Image.select: Band pattern 'B4' was applied to an Image with no bands. See https://developers.google.com/earth-engine/guides/debugging#no-bands\n"
     ]
    },
    {
     "name": "stderr",
     "output_type": "stream",
     "text": [
      "\r",
      "  8%|██████▎                                                                            | 112/1482 [01:23<14:49,  1.54it/s]"
     ]
    },
    {
     "name": "stdout",
     "output_type": "stream",
     "text": [
      "EXCEPTION - Row 40 @ (-117.598, 34.302)\n",
      "Image.select: Band pattern 'B4' was applied to an Image with no bands. See https://developers.google.com/earth-engine/guides/debugging#no-bands\n"
     ]
    },
    {
     "name": "stderr",
     "output_type": "stream",
     "text": [
      "\r",
      "  8%|██████▎                                                                            | 113/1482 [01:23<15:10,  1.50it/s]"
     ]
    },
    {
     "name": "stdout",
     "output_type": "stream",
     "text": [
      "EXCEPTION - Row 9 @ (-121.85397, 40.04263)\n",
      "Image.select: Band pattern 'B4' was applied to an Image with no bands. See https://developers.google.com/earth-engine/guides/debugging#no-bands\n"
     ]
    },
    {
     "name": "stderr",
     "output_type": "stream",
     "text": [
      "\r",
      "  8%|██████▍                                                                            | 114/1482 [01:24<15:14,  1.50it/s]"
     ]
    },
    {
     "name": "stdout",
     "output_type": "stream",
     "text": [
      "EXCEPTION - Row 21 @ (-118.444, 36.208)\n",
      "Image.select: Band pattern 'B4' was applied to an Image with no bands. See https://developers.google.com/earth-engine/guides/debugging#no-bands\n"
     ]
    },
    {
     "name": "stderr",
     "output_type": "stream",
     "text": [
      "\r",
      "  8%|██████▍                                                                            | 115/1482 [01:25<15:47,  1.44it/s]"
     ]
    },
    {
     "name": "stdout",
     "output_type": "stream",
     "text": [
      "EXCEPTION - Row 137 @ (-120.84716, 38.89555)\n",
      "Image.select: Band pattern 'B4' was applied to an Image with no bands. See https://developers.google.com/earth-engine/guides/debugging#no-bands\n"
     ]
    },
    {
     "name": "stderr",
     "output_type": "stream",
     "text": [
      "\r",
      "  8%|██████▍                                                                            | 116/1482 [01:26<15:52,  1.43it/s]"
     ]
    },
    {
     "name": "stdout",
     "output_type": "stream",
     "text": [
      "EXCEPTION - Row 91 @ (-116.706, 33.642)\n",
      "Image.select: Band pattern 'B4' was applied to an Image with no bands. See https://developers.google.com/earth-engine/guides/debugging#no-bands\n"
     ]
    },
    {
     "name": "stderr",
     "output_type": "stream",
     "text": [
      "\r",
      "  8%|██████▌                                                                            | 117/1482 [01:26<16:49,  1.35it/s]"
     ]
    },
    {
     "name": "stdout",
     "output_type": "stream",
     "text": [
      "EXCEPTION - Row 115 @ (-121.107022, 39.333401)\n",
      "Image.select: Band pattern 'B4' was applied to an Image with no bands. See https://developers.google.com/earth-engine/guides/debugging#no-bands\n"
     ]
    },
    {
     "name": "stderr",
     "output_type": "stream",
     "text": [
      "\r",
      "  8%|██████▌                                                                            | 118/1482 [01:27<16:20,  1.39it/s]"
     ]
    },
    {
     "name": "stdout",
     "output_type": "stream",
     "text": [
      "EXCEPTION - Row 100 @ (-121.713938, 39.731878)\n",
      "Image.select: Band pattern 'B4' was applied to an Image with no bands. See https://developers.google.com/earth-engine/guides/debugging#no-bands\n"
     ]
    },
    {
     "name": "stderr",
     "output_type": "stream",
     "text": [
      "\r",
      "  8%|██████▋                                                                            | 119/1482 [01:28<15:25,  1.47it/s]"
     ]
    },
    {
     "name": "stdout",
     "output_type": "stream",
     "text": [
      "EXCEPTION - Row 90 @ (-120.375, 41.73325)\n",
      "Image.select: Band pattern 'B4' was applied to an Image with no bands. See https://developers.google.com/earth-engine/guides/debugging#no-bands\n"
     ]
    },
    {
     "name": "stderr",
     "output_type": "stream",
     "text": [
      "\r",
      "  8%|██████▋                                                                            | 120/1482 [01:28<15:03,  1.51it/s]"
     ]
    },
    {
     "name": "stdout",
     "output_type": "stream",
     "text": [
      "EXCEPTION - Row 128 @ (-122.427285, 37.667295)\n",
      "Image.select: Band pattern 'B4' was applied to an Image with no bands. See https://developers.google.com/earth-engine/guides/debugging#no-bands\n"
     ]
    },
    {
     "name": "stderr",
     "output_type": "stream",
     "text": [
      "\r",
      "  8%|██████▊                                                                            | 121/1482 [01:29<15:30,  1.46it/s]"
     ]
    },
    {
     "name": "stdout",
     "output_type": "stream",
     "text": [
      "EXCEPTION - Row 111 @ (-120.959, 41.569)\n",
      "Image.select: Band pattern 'B4' was applied to an Image with no bands. See https://developers.google.com/earth-engine/guides/debugging#no-bands\n"
     ]
    },
    {
     "name": "stderr",
     "output_type": "stream",
     "text": [
      "\r",
      "  8%|██████▊                                                                            | 122/1482 [01:30<15:43,  1.44it/s]"
     ]
    },
    {
     "name": "stdout",
     "output_type": "stream",
     "text": [
      "EXCEPTION - Row 76 @ (-118.459, 36.258)\n",
      "Image.select: Band pattern 'B4' was applied to an Image with no bands. See https://developers.google.com/earth-engine/guides/debugging#no-bands\n"
     ]
    },
    {
     "name": "stderr",
     "output_type": "stream",
     "text": [
      "\r",
      "  8%|██████▉                                                                            | 123/1482 [01:30<15:36,  1.45it/s]"
     ]
    },
    {
     "name": "stdout",
     "output_type": "stream",
     "text": [
      "EXCEPTION - Row 17 @ (-121.882582, 37.90757)\n",
      "Image.select: Band pattern 'B4' was applied to an Image with no bands. See https://developers.google.com/earth-engine/guides/debugging#no-bands\n"
     ]
    },
    {
     "name": "stderr",
     "output_type": "stream",
     "text": [
      "\r",
      "  8%|██████▉                                                                            | 124/1482 [01:31<15:21,  1.47it/s]"
     ]
    },
    {
     "name": "stdout",
     "output_type": "stream",
     "text": [
      "EXCEPTION - Row 10 @ (-122.535496, 40.498332)\n",
      "Image.select: Band pattern 'B4' was applied to an Image with no bands. See https://developers.google.com/earth-engine/guides/debugging#no-bands\n"
     ]
    },
    {
     "name": "stderr",
     "output_type": "stream",
     "text": [
      "\r",
      "  8%|███████                                                                            | 125/1482 [01:32<15:05,  1.50it/s]"
     ]
    },
    {
     "name": "stdout",
     "output_type": "stream",
     "text": [
      "EXCEPTION - Row 52 @ (-116.746023, 32.710918)\n",
      "Image.select: Band pattern 'B4' was applied to an Image with no bands. See https://developers.google.com/earth-engine/guides/debugging#no-bands\n"
     ]
    },
    {
     "name": "stderr",
     "output_type": "stream",
     "text": [
      "\r",
      "  9%|███████                                                                            | 126/1482 [01:32<15:12,  1.49it/s]"
     ]
    },
    {
     "name": "stdout",
     "output_type": "stream",
     "text": [
      "EXCEPTION - Row 107 @ (-117.106075, 34.003151)\n",
      "Image.select: Band pattern 'B4' was applied to an Image with no bands. See https://developers.google.com/earth-engine/guides/debugging#no-bands\n"
     ]
    },
    {
     "name": "stderr",
     "output_type": "stream",
     "text": [
      "\r",
      "  9%|███████                                                                            | 127/1482 [01:33<15:30,  1.46it/s]"
     ]
    },
    {
     "name": "stdout",
     "output_type": "stream",
     "text": [
      "EXCEPTION - Row 145 @ (-122.683, 38.9777)\n",
      "Image.select: Band pattern 'B4' was applied to an Image with no bands. See https://developers.google.com/earth-engine/guides/debugging#no-bands\n"
     ]
    },
    {
     "name": "stderr",
     "output_type": "stream",
     "text": [
      "\r",
      "  9%|███████▏                                                                           | 128/1482 [01:34<15:42,  1.44it/s]"
     ]
    },
    {
     "name": "stdout",
     "output_type": "stream",
     "text": [
      "EXCEPTION - Row 51 @ (-117.908, 34.149)\n",
      "Image.select: Band pattern 'B4' was applied to an Image with no bands. See https://developers.google.com/earth-engine/guides/debugging#no-bands\n"
     ]
    },
    {
     "name": "stderr",
     "output_type": "stream",
     "text": [
      "\r",
      "  9%|███████▏                                                                           | 129/1482 [01:35<15:30,  1.45it/s]"
     ]
    },
    {
     "name": "stdout",
     "output_type": "stream",
     "text": [
      "EXCEPTION - Row 94 @ (-120.8358, 35.4393)\n",
      "Image.select: Band pattern 'B4' was applied to an Image with no bands. See https://developers.google.com/earth-engine/guides/debugging#no-bands\n"
     ]
    },
    {
     "name": "stderr",
     "output_type": "stream",
     "text": [
      "\r",
      "  9%|███████▎                                                                           | 130/1482 [01:35<14:57,  1.51it/s]"
     ]
    },
    {
     "name": "stdout",
     "output_type": "stream",
     "text": [
      "EXCEPTION - Row 59 @ (-117.417, 34.2)\n",
      "Image.select: Band pattern 'B4' was applied to an Image with no bands. See https://developers.google.com/earth-engine/guides/debugging#no-bands\n"
     ]
    },
    {
     "name": "stderr",
     "output_type": "stream",
     "text": [
      "\r",
      "  9%|███████▎                                                                           | 131/1482 [01:36<14:58,  1.50it/s]"
     ]
    },
    {
     "name": "stdout",
     "output_type": "stream",
     "text": [
      "EXCEPTION - Row 89 @ (-122.966, 38.9252)\n",
      "Image.select: Band pattern 'B4' was applied to an Image with no bands. See https://developers.google.com/earth-engine/guides/debugging#no-bands\n"
     ]
    },
    {
     "name": "stderr",
     "output_type": "stream",
     "text": [
      "\r",
      "  9%|███████▍                                                                           | 132/1482 [01:37<15:18,  1.47it/s]"
     ]
    },
    {
     "name": "stdout",
     "output_type": "stream",
     "text": [
      "EXCEPTION - Row 42 @ (-122.289, 38.628)\n",
      "Image.select: Band pattern 'B4' was applied to an Image with no bands. See https://developers.google.com/earth-engine/guides/debugging#no-bands\n"
     ]
    },
    {
     "name": "stderr",
     "output_type": "stream",
     "text": [
      "\r",
      "  9%|███████▍                                                                           | 133/1482 [01:37<17:01,  1.32it/s]"
     ]
    },
    {
     "name": "stdout",
     "output_type": "stream",
     "text": [
      "EXCEPTION - Row 68 @ (-122.6503, 38.34599)\n",
      "Image.select: Band pattern 'B4' was applied to an Image with no bands. See https://developers.google.com/earth-engine/guides/debugging#no-bands\n"
     ]
    },
    {
     "name": "stderr",
     "output_type": "stream",
     "text": [
      "\r",
      "  9%|███████▌                                                                           | 134/1482 [01:38<16:39,  1.35it/s]"
     ]
    },
    {
     "name": "stdout",
     "output_type": "stream",
     "text": [
      "EXCEPTION - Row 45 @ (-121.497, 39.439)\n",
      "Image.select: Band pattern 'B4' was applied to an Image with no bands. See https://developers.google.com/earth-engine/guides/debugging#no-bands\n"
     ]
    },
    {
     "name": "stderr",
     "output_type": "stream",
     "text": [
      "\r",
      "  9%|███████▌                                                                           | 135/1482 [01:39<16:17,  1.38it/s]"
     ]
    },
    {
     "name": "stdout",
     "output_type": "stream",
     "text": [
      "EXCEPTION - Row 20 @ (-117.3092, 33.341)\n",
      "Image.select: Band pattern 'B4' was applied to an Image with no bands. See https://developers.google.com/earth-engine/guides/debugging#no-bands\n"
     ]
    },
    {
     "name": "stderr",
     "output_type": "stream",
     "text": [
      "\r",
      "  9%|███████▌                                                                           | 136/1482 [01:40<16:24,  1.37it/s]"
     ]
    },
    {
     "name": "stdout",
     "output_type": "stream",
     "text": [
      "EXCEPTION - Row 130 @ (-117.6649, 33.7655)\n",
      "Image.select: Band pattern 'B4' was applied to an Image with no bands. See https://developers.google.com/earth-engine/guides/debugging#no-bands\n"
     ]
    },
    {
     "name": "stderr",
     "output_type": "stream",
     "text": [
      "\r",
      "  9%|███████▋                                                                           | 137/1482 [01:40<16:17,  1.38it/s]"
     ]
    },
    {
     "name": "stdout",
     "output_type": "stream",
     "text": [
      "EXCEPTION - Row 65 @ (-122.08725, 38.67479)\n",
      "Image.select: Band pattern 'B4' was applied to an Image with no bands. See https://developers.google.com/earth-engine/guides/debugging#no-bands\n"
     ]
    },
    {
     "name": "stderr",
     "output_type": "stream",
     "text": [
      "\r",
      "  9%|███████▋                                                                           | 138/1482 [01:41<16:54,  1.33it/s]"
     ]
    },
    {
     "name": "stdout",
     "output_type": "stream",
     "text": [
      "EXCEPTION - Row 143 @ (-122.140914, 40.483662)\n",
      "Image.select: Band pattern 'B4' was applied to an Image with no bands. See https://developers.google.com/earth-engine/guides/debugging#no-bands\n"
     ]
    },
    {
     "name": "stderr",
     "output_type": "stream",
     "text": [
      "\r",
      "  9%|███████▊                                                                           | 139/1482 [01:42<15:53,  1.41it/s]"
     ]
    },
    {
     "name": "stdout",
     "output_type": "stream",
     "text": [
      "EXCEPTION - Row 116 @ (-120.751555, 35.457978)\n",
      "Image.select: Band pattern 'B4' was applied to an Image with no bands. See https://developers.google.com/earth-engine/guides/debugging#no-bands\n"
     ]
    },
    {
     "name": "stderr",
     "output_type": "stream",
     "text": [
      "\r",
      "  9%|███████▊                                                                           | 140/1482 [01:42<15:43,  1.42it/s]"
     ]
    },
    {
     "name": "stdout",
     "output_type": "stream",
     "text": [
      "EXCEPTION - Row 81 @ (-122.567525, 38.882214)\n",
      "Image.select: Band pattern 'B4' was applied to an Image with no bands. See https://developers.google.com/earth-engine/guides/debugging#no-bands\n"
     ]
    },
    {
     "name": "stderr",
     "output_type": "stream",
     "text": [
      "\r",
      " 10%|███████▉                                                                           | 141/1482 [01:43<15:12,  1.47it/s]"
     ]
    },
    {
     "name": "stdout",
     "output_type": "stream",
     "text": [
      "EXCEPTION - Row 112 @ (-119.13249, 34.384)\n",
      "Image.select: Band pattern 'B4' was applied to an Image with no bands. See https://developers.google.com/earth-engine/guides/debugging#no-bands\n"
     ]
    },
    {
     "name": "stderr",
     "output_type": "stream",
     "text": [
      "\r",
      " 10%|███████▉                                                                           | 142/1482 [01:44<15:15,  1.46it/s]"
     ]
    },
    {
     "name": "stdout",
     "output_type": "stream",
     "text": [
      "EXCEPTION - Row 63 @ (-122.311, 38.382)\n",
      "Image.select: Band pattern 'B4' was applied to an Image with no bands. See https://developers.google.com/earth-engine/guides/debugging#no-bands\n"
     ]
    },
    {
     "name": "stderr",
     "output_type": "stream",
     "text": [
      "\r",
      " 10%|████████                                                                           | 143/1482 [01:44<15:29,  1.44it/s]"
     ]
    },
    {
     "name": "stdout",
     "output_type": "stream",
     "text": [
      "EXCEPTION - Row 15 @ (-122.8498, 38.8167)\n",
      "Image.select: Band pattern 'B4' was applied to an Image with no bands. See https://developers.google.com/earth-engine/guides/debugging#no-bands\n"
     ]
    },
    {
     "name": "stderr",
     "output_type": "stream",
     "text": [
      "\r",
      " 10%|████████                                                                           | 144/1482 [01:45<15:37,  1.43it/s]"
     ]
    },
    {
     "name": "stdout",
     "output_type": "stream",
     "text": [
      "EXCEPTION - Row 99 @ (-123.1478, 39.0442)\n",
      "Image.select: Band pattern 'B4' was applied to an Image with no bands. See https://developers.google.com/earth-engine/guides/debugging#no-bands\n"
     ]
    },
    {
     "name": "stderr",
     "output_type": "stream",
     "text": [
      "\r",
      " 10%|████████                                                                           | 145/1482 [01:46<15:34,  1.43it/s]"
     ]
    },
    {
     "name": "stdout",
     "output_type": "stream",
     "text": [
      "EXCEPTION - Row 117 @ (-122.7656, 39.0448)\n",
      "Image.select: Band pattern 'B4' was applied to an Image with no bands. See https://developers.google.com/earth-engine/guides/debugging#no-bands\n"
     ]
    },
    {
     "name": "stderr",
     "output_type": "stream",
     "text": [
      "\r",
      " 10%|████████▏                                                                          | 146/1482 [01:47<15:00,  1.48it/s]"
     ]
    },
    {
     "name": "stdout",
     "output_type": "stream",
     "text": [
      "EXCEPTION - Row 156 @ (-122.5818, 38.9289)\n",
      "Image.select: Band pattern 'B4' was applied to an Image with no bands. See https://developers.google.com/earth-engine/guides/debugging#no-bands\n"
     ]
    },
    {
     "name": "stderr",
     "output_type": "stream",
     "text": [
      "\r",
      " 10%|████████▏                                                                          | 147/1482 [01:47<14:31,  1.53it/s]"
     ]
    },
    {
     "name": "stdout",
     "output_type": "stream",
     "text": [
      "EXCEPTION - Row 129 @ (-121.717706, 37.342186)\n",
      "Image.select: Band pattern 'B4' was applied to an Image with no bands. See https://developers.google.com/earth-engine/guides/debugging#no-bands\n"
     ]
    },
    {
     "name": "stderr",
     "output_type": "stream",
     "text": [
      "\r",
      " 10%|████████▎                                                                          | 148/1482 [01:48<14:11,  1.57it/s]"
     ]
    },
    {
     "name": "stdout",
     "output_type": "stream",
     "text": [
      "EXCEPTION - Row 197 @ (-121.790183, 40.134597)\n",
      "Image.select: Band pattern 'B4' was applied to an Image with no bands. See https://developers.google.com/earth-engine/guides/debugging#no-bands\n"
     ]
    },
    {
     "name": "stderr",
     "output_type": "stream",
     "text": [
      "\r",
      " 10%|████████▎                                                                          | 149/1482 [01:48<14:38,  1.52it/s]"
     ]
    },
    {
     "name": "stdout",
     "output_type": "stream",
     "text": [
      "EXCEPTION - Row 211 @ (-123.773779, 40.884415)\n",
      "Image.select: Band pattern 'B4' was applied to an Image with no bands. See https://developers.google.com/earth-engine/guides/debugging#no-bands\n"
     ]
    },
    {
     "name": "stderr",
     "output_type": "stream",
     "text": [
      "\r",
      " 10%|████████▍                                                                          | 150/1482 [01:49<15:41,  1.41it/s]"
     ]
    },
    {
     "name": "stdout",
     "output_type": "stream",
     "text": [
      "EXCEPTION - Row 188 @ (-117.8816, 34.1703)\n",
      "Image.select: Band pattern 'B4' was applied to an Image with no bands. See https://developers.google.com/earth-engine/guides/debugging#no-bands\n"
     ]
    },
    {
     "name": "stderr",
     "output_type": "stream",
     "text": [
      "\r",
      " 10%|████████▍                                                                          | 151/1482 [01:50<15:46,  1.41it/s]"
     ]
    },
    {
     "name": "stdout",
     "output_type": "stream",
     "text": [
      "EXCEPTION - Row 231 @ (-119.3415, 36.8266)\n",
      "Image.select: Band pattern 'B4' was applied to an Image with no bands. See https://developers.google.com/earth-engine/guides/debugging#no-bands\n"
     ]
    },
    {
     "name": "stderr",
     "output_type": "stream",
     "text": [
      "\r",
      " 10%|████████▌                                                                          | 152/1482 [01:51<15:46,  1.41it/s]"
     ]
    },
    {
     "name": "stdout",
     "output_type": "stream",
     "text": [
      "EXCEPTION - Row 227 @ (-116.49, 32.81)\n",
      "Image.select: Band pattern 'B4' was applied to an Image with no bands. See https://developers.google.com/earth-engine/guides/debugging#no-bands\n"
     ]
    },
    {
     "name": "stderr",
     "output_type": "stream",
     "text": [
      "\r",
      " 10%|████████▌                                                                          | 153/1482 [01:51<15:47,  1.40it/s]"
     ]
    },
    {
     "name": "stdout",
     "output_type": "stream",
     "text": [
      "EXCEPTION - Row 207 @ (-121.4819, 36.6313)\n",
      "Image.select: Band pattern 'B4' was applied to an Image with no bands. See https://developers.google.com/earth-engine/guides/debugging#no-bands\n"
     ]
    },
    {
     "name": "stderr",
     "output_type": "stream",
     "text": [
      "\r",
      " 10%|████████▌                                                                          | 154/1482 [01:52<15:26,  1.43it/s]"
     ]
    },
    {
     "name": "stdout",
     "output_type": "stream",
     "text": [
      "EXCEPTION - Row 253 @ (-116.1985, 33.5982)\n",
      "Image.select: Band pattern 'B4' was applied to an Image with no bands. See https://developers.google.com/earth-engine/guides/debugging#no-bands\n"
     ]
    },
    {
     "name": "stderr",
     "output_type": "stream",
     "text": [
      "\r",
      " 10%|████████▋                                                                          | 155/1482 [01:53<15:17,  1.45it/s]"
     ]
    },
    {
     "name": "stdout",
     "output_type": "stream",
     "text": [
      "EXCEPTION - Row 230 @ (-118.352, 37.399)\n",
      "Image.select: Band pattern 'B4' was applied to an Image with no bands. See https://developers.google.com/earth-engine/guides/debugging#no-bands\n"
     ]
    },
    {
     "name": "stderr",
     "output_type": "stream",
     "text": [
      "\r",
      " 11%|████████▋                                                                          | 156/1482 [01:53<15:24,  1.43it/s]"
     ]
    },
    {
     "name": "stdout",
     "output_type": "stream",
     "text": [
      "EXCEPTION - Row 186 @ (-117.547374, 34.169346)\n",
      "Image.select: Band pattern 'B4' was applied to an Image with no bands. See https://developers.google.com/earth-engine/guides/debugging#no-bands\n"
     ]
    },
    {
     "name": "stderr",
     "output_type": "stream",
     "text": [
      "\r",
      " 11%|████████▊                                                                          | 157/1482 [01:54<15:29,  1.43it/s]"
     ]
    },
    {
     "name": "stdout",
     "output_type": "stream",
     "text": [
      "EXCEPTION - Row 245 @ (-121.117, 36.103)\n",
      "Image.select: Band pattern 'B4' was applied to an Image with no bands. See https://developers.google.com/earth-engine/guides/debugging#no-bands\n"
     ]
    },
    {
     "name": "stderr",
     "output_type": "stream",
     "text": [
      "\r",
      " 11%|████████▊                                                                          | 158/1482 [01:55<15:07,  1.46it/s]"
     ]
    },
    {
     "name": "stdout",
     "output_type": "stream",
     "text": [
      "EXCEPTION - Row 265 @ (-116.222, 32.665)\n",
      "Image.select: Band pattern 'B4' was applied to an Image with no bands. See https://developers.google.com/earth-engine/guides/debugging#no-bands\n"
     ]
    },
    {
     "name": "stderr",
     "output_type": "stream",
     "text": [
      "\r",
      " 11%|████████▉                                                                          | 159/1482 [01:56<15:37,  1.41it/s]"
     ]
    },
    {
     "name": "stdout",
     "output_type": "stream",
     "text": [
      "EXCEPTION - Row 191 @ (-117.133, 33.003)\n",
      "Image.select: Band pattern 'B4' was applied to an Image with no bands. See https://developers.google.com/earth-engine/guides/debugging#no-bands\n"
     ]
    },
    {
     "name": "stderr",
     "output_type": "stream",
     "text": [
      "\r",
      " 11%|████████▉                                                                          | 160/1482 [01:56<15:57,  1.38it/s]"
     ]
    },
    {
     "name": "stdout",
     "output_type": "stream",
     "text": [
      "EXCEPTION - Row 199 @ (-120.454, 34.609)\n",
      "Image.select: Band pattern 'B4' was applied to an Image with no bands. See https://developers.google.com/earth-engine/guides/debugging#no-bands\n"
     ]
    },
    {
     "name": "stderr",
     "output_type": "stream",
     "text": [
      "\r",
      " 11%|█████████                                                                          | 161/1482 [01:57<15:14,  1.44it/s]"
     ]
    },
    {
     "name": "stdout",
     "output_type": "stream",
     "text": [
      "EXCEPTION - Row 176 @ (-117.284889, 33.3529)\n",
      "Image.select: Band pattern 'B4' was applied to an Image with no bands. See https://developers.google.com/earth-engine/guides/debugging#no-bands\n"
     ]
    },
    {
     "name": "stderr",
     "output_type": "stream",
     "text": [
      "\r",
      " 11%|█████████                                                                          | 162/1482 [01:58<15:16,  1.44it/s]"
     ]
    },
    {
     "name": "stdout",
     "output_type": "stream",
     "text": [
      "EXCEPTION - Row 201 @ (-117.279, 33.1109)\n",
      "Image.select: Band pattern 'B4' was applied to an Image with no bands. See https://developers.google.com/earth-engine/guides/debugging#no-bands\n"
     ]
    },
    {
     "name": "stderr",
     "output_type": "stream",
     "text": [
      "\r",
      " 11%|█████████▏                                                                         | 163/1482 [01:58<15:26,  1.42it/s]"
     ]
    },
    {
     "name": "stdout",
     "output_type": "stream",
     "text": [
      "EXCEPTION - Row 209 @ (-117.162, 33.312)\n",
      "Image.select: Band pattern 'B4' was applied to an Image with no bands. See https://developers.google.com/earth-engine/guides/debugging#no-bands\n"
     ]
    },
    {
     "name": "stderr",
     "output_type": "stream",
     "text": [
      "\r",
      " 11%|█████████▏                                                                         | 164/1482 [01:59<15:29,  1.42it/s]"
     ]
    },
    {
     "name": "stdout",
     "output_type": "stream",
     "text": [
      "EXCEPTION - Row 255 @ (-122.721, 40.39)\n",
      "Image.select: Band pattern 'B4' was applied to an Image with no bands. See https://developers.google.com/earth-engine/guides/debugging#no-bands\n"
     ]
    },
    {
     "name": "stderr",
     "output_type": "stream",
     "text": [
      "\r",
      " 11%|█████████▏                                                                         | 165/1482 [02:00<16:13,  1.35it/s]"
     ]
    },
    {
     "name": "stdout",
     "output_type": "stream",
     "text": [
      "EXCEPTION - Row 187 @ (-117.1599, 33.1137)\n",
      "Image.select: Band pattern 'B4' was applied to an Image with no bands. See https://developers.google.com/earth-engine/guides/debugging#no-bands\n"
     ]
    },
    {
     "name": "stderr",
     "output_type": "stream",
     "text": [
      "\r",
      " 11%|█████████▎                                                                         | 166/1482 [02:01<16:04,  1.37it/s]"
     ]
    },
    {
     "name": "stdout",
     "output_type": "stream",
     "text": [
      "EXCEPTION - Row 193 @ (-117.550567, 33.417572)\n",
      "Image.select: Band pattern 'B4' was applied to an Image with no bands. See https://developers.google.com/earth-engine/guides/debugging#no-bands\n"
     ]
    },
    {
     "name": "stderr",
     "output_type": "stream",
     "text": [
      "\r",
      " 11%|█████████▎                                                                         | 167/1482 [02:01<16:14,  1.35it/s]"
     ]
    },
    {
     "name": "stdout",
     "output_type": "stream",
     "text": [
      "EXCEPTION - Row 223 @ (-122.5983, 39.1647)\n",
      "Image.select: Band pattern 'B4' was applied to an Image with no bands. See https://developers.google.com/earth-engine/guides/debugging#no-bands\n"
     ]
    },
    {
     "name": "stderr",
     "output_type": "stream",
     "text": [
      "\r",
      " 11%|█████████▍                                                                         | 168/1482 [02:03<22:16,  1.02s/it]"
     ]
    },
    {
     "name": "stdout",
     "output_type": "stream",
     "text": [
      "EXCEPTION - Row 204 @ (-120.45087, 37.76617)\n",
      "Image.select: Band pattern 'B4' was applied to an Image with no bands. See https://developers.google.com/earth-engine/guides/debugging#no-bands\n"
     ]
    },
    {
     "name": "stderr",
     "output_type": "stream",
     "text": [
      "\r",
      " 11%|█████████▍                                                                         | 169/1482 [02:04<21:33,  1.02it/s]"
     ]
    },
    {
     "name": "stdout",
     "output_type": "stream",
     "text": [
      "EXCEPTION - Row 217 @ (-120.452, 37.787)\n",
      "Image.select: Band pattern 'B4' was applied to an Image with no bands. See https://developers.google.com/earth-engine/guides/debugging#no-bands\n"
     ]
    },
    {
     "name": "stderr",
     "output_type": "stream",
     "text": [
      "\r",
      " 11%|█████████▌                                                                         | 170/1482 [02:05<21:36,  1.01it/s]"
     ]
    },
    {
     "name": "stdout",
     "output_type": "stream",
     "text": [
      "EXCEPTION - Row 258 @ (-119.525506, 36.991825)\n",
      "Image.select: Band pattern 'B4' was applied to an Image with no bands. See https://developers.google.com/earth-engine/guides/debugging#no-bands\n"
     ]
    },
    {
     "name": "stderr",
     "output_type": "stream",
     "text": [
      "\r",
      " 12%|█████████▌                                                                         | 171/1482 [02:06<20:26,  1.07it/s]"
     ]
    },
    {
     "name": "stdout",
     "output_type": "stream",
     "text": [
      "EXCEPTION - Row 225 @ (-120.197, 37.7103)\n",
      "Image.select: Band pattern 'B4' was applied to an Image with no bands. See https://developers.google.com/earth-engine/guides/debugging#no-bands\n"
     ]
    },
    {
     "name": "stderr",
     "output_type": "stream",
     "text": [
      "\r",
      " 12%|█████████▋                                                                         | 172/1482 [02:07<19:16,  1.13it/s]"
     ]
    },
    {
     "name": "stdout",
     "output_type": "stream",
     "text": [
      "EXCEPTION - Row 269 @ (-119.241493, 36.742747)\n",
      "Image.select: Band pattern 'B4' was applied to an Image with no bands. See https://developers.google.com/earth-engine/guides/debugging#no-bands\n"
     ]
    },
    {
     "name": "stderr",
     "output_type": "stream",
     "text": [
      "\r",
      " 12%|█████████▋                                                                         | 173/1482 [02:07<17:33,  1.24it/s]"
     ]
    },
    {
     "name": "stdout",
     "output_type": "stream",
     "text": [
      "EXCEPTION - Row 249 @ (38.453, 121.999)\n",
      "Image.select: Band pattern 'B4' was applied to an Image with no bands. See https://developers.google.com/earth-engine/guides/debugging#no-bands\n"
     ]
    },
    {
     "name": "stderr",
     "output_type": "stream",
     "text": [
      "\r",
      " 12%|█████████▋                                                                         | 174/1482 [02:08<17:18,  1.26it/s]"
     ]
    },
    {
     "name": "stdout",
     "output_type": "stream",
     "text": [
      "EXCEPTION - Row 219 @ (-122.345078, 40.009827)\n",
      "Image.select: Band pattern 'B4' was applied to an Image with no bands. See https://developers.google.com/earth-engine/guides/debugging#no-bands\n"
     ]
    },
    {
     "name": "stderr",
     "output_type": "stream",
     "text": [
      "\r",
      " 12%|█████████▊                                                                         | 175/1482 [02:09<16:42,  1.30it/s]"
     ]
    },
    {
     "name": "stdout",
     "output_type": "stream",
     "text": [
      "EXCEPTION - Row 185 @ (-118.555527, 35.70683)\n",
      "Image.select: Band pattern 'B4' was applied to an Image with no bands. See https://developers.google.com/earth-engine/guides/debugging#no-bands\n"
     ]
    },
    {
     "name": "stderr",
     "output_type": "stream",
     "text": [
      "\r",
      " 12%|█████████▊                                                                         | 176/1482 [02:09<16:52,  1.29it/s]"
     ]
    },
    {
     "name": "stdout",
     "output_type": "stream",
     "text": [
      "EXCEPTION - Row 228 @ (38.178241, 120.679019)\n",
      "Image.select: Band pattern 'B4' was applied to an Image with no bands. See https://developers.google.com/earth-engine/guides/debugging#no-bands\n"
     ]
    },
    {
     "name": "stderr",
     "output_type": "stream",
     "text": [
      "\r",
      " 12%|█████████▉                                                                         | 177/1482 [02:10<16:53,  1.29it/s]"
     ]
    },
    {
     "name": "stdout",
     "output_type": "stream",
     "text": [
      "EXCEPTION - Row 238 @ (-120.66, 38.058)\n",
      "Image.select: Band pattern 'B4' was applied to an Image with no bands. See https://developers.google.com/earth-engine/guides/debugging#no-bands\n"
     ]
    },
    {
     "name": "stderr",
     "output_type": "stream",
     "text": [
      "\r",
      " 12%|█████████▉                                                                         | 178/1482 [02:11<16:46,  1.30it/s]"
     ]
    },
    {
     "name": "stdout",
     "output_type": "stream",
     "text": [
      "EXCEPTION - Row 273 @ (-123.24, 40.41)\n",
      "Image.select: Band pattern 'B4' was applied to an Image with no bands. See https://developers.google.com/earth-engine/guides/debugging#no-bands\n"
     ]
    },
    {
     "name": "stderr",
     "output_type": "stream",
     "text": [
      "\r",
      " 12%|██████████                                                                         | 179/1482 [02:12<17:01,  1.28it/s]"
     ]
    },
    {
     "name": "stdout",
     "output_type": "stream",
     "text": [
      "EXCEPTION - Row 180 @ (-122.454, 38.664)\n",
      "Image.select: Band pattern 'B4' was applied to an Image with no bands. See https://developers.google.com/earth-engine/guides/debugging#no-bands\n"
     ]
    },
    {
     "name": "stderr",
     "output_type": "stream",
     "text": [
      "\r",
      " 12%|██████████                                                                         | 180/1482 [02:12<15:58,  1.36it/s]"
     ]
    },
    {
     "name": "stdout",
     "output_type": "stream",
     "text": [
      "EXCEPTION - Row 181 @ (-122.454, 38.664)\n",
      "Image.select: Band pattern 'B4' was applied to an Image with no bands. See https://developers.google.com/earth-engine/guides/debugging#no-bands\n"
     ]
    },
    {
     "name": "stderr",
     "output_type": "stream",
     "text": [
      "\r",
      " 12%|██████████▏                                                                        | 181/1482 [02:13<17:20,  1.25it/s]"
     ]
    },
    {
     "name": "stdout",
     "output_type": "stream",
     "text": [
      "EXCEPTION - Row 190 @ (-120.79, 41.89)\n",
      "Image.select: Band pattern 'B4' was applied to an Image with no bands. See https://developers.google.com/earth-engine/guides/debugging#no-bands\n"
     ]
    },
    {
     "name": "stderr",
     "output_type": "stream",
     "text": [
      "\r",
      " 12%|██████████▏                                                                        | 182/1482 [02:14<18:58,  1.14it/s]"
     ]
    },
    {
     "name": "stdout",
     "output_type": "stream",
     "text": [
      "EXCEPTION - Row 220 @ (-116.576454, 33.078948)\n",
      "Image.select: Band pattern 'B4' was applied to an Image with no bands. See https://developers.google.com/earth-engine/guides/debugging#no-bands\n"
     ]
    },
    {
     "name": "stderr",
     "output_type": "stream",
     "text": [
      "\r",
      " 12%|██████████▏                                                                        | 183/1482 [02:15<17:54,  1.21it/s]"
     ]
    },
    {
     "name": "stdout",
     "output_type": "stream",
     "text": [
      "EXCEPTION - Row 192 @ (-120.904, 41.489)\n",
      "Image.select: Band pattern 'B4' was applied to an Image with no bands. See https://developers.google.com/earth-engine/guides/debugging#no-bands\n"
     ]
    },
    {
     "name": "stderr",
     "output_type": "stream",
     "text": [
      "\r",
      " 12%|██████████▎                                                                        | 184/1482 [02:16<17:13,  1.26it/s]"
     ]
    },
    {
     "name": "stdout",
     "output_type": "stream",
     "text": [
      "EXCEPTION - Row 173 @ (-122.104, 38.512)\n",
      "Image.select: Band pattern 'B4' was applied to an Image with no bands. See https://developers.google.com/earth-engine/guides/debugging#no-bands\n"
     ]
    },
    {
     "name": "stderr",
     "output_type": "stream",
     "text": [
      "\r",
      " 12%|██████████▎                                                                        | 185/1482 [02:17<16:28,  1.31it/s]"
     ]
    },
    {
     "name": "stdout",
     "output_type": "stream",
     "text": [
      "EXCEPTION - Row 244 @ (-121.3415, 40.5719)\n",
      "Image.select: Band pattern 'B4' was applied to an Image with no bands. See https://developers.google.com/earth-engine/guides/debugging#no-bands\n"
     ]
    },
    {
     "name": "stderr",
     "output_type": "stream",
     "text": [
      "\r",
      " 13%|██████████▍                                                                        | 186/1482 [02:17<16:34,  1.30it/s]"
     ]
    },
    {
     "name": "stdout",
     "output_type": "stream",
     "text": [
      "EXCEPTION - Row 257 @ (-121.0226, 35.8218)\n",
      "Image.select: Band pattern 'B4' was applied to an Image with no bands. See https://developers.google.com/earth-engine/guides/debugging#no-bands\n"
     ]
    },
    {
     "name": "stderr",
     "output_type": "stream",
     "text": [
      "\r",
      " 13%|██████████▍                                                                        | 187/1482 [02:18<16:32,  1.30it/s]"
     ]
    },
    {
     "name": "stdout",
     "output_type": "stream",
     "text": [
      "EXCEPTION - Row 259 @ (-121.2687, 39.1871)\n",
      "Image.select: Band pattern 'B4' was applied to an Image with no bands. See https://developers.google.com/earth-engine/guides/debugging#no-bands\n"
     ]
    },
    {
     "name": "stderr",
     "output_type": "stream",
     "text": [
      "\r",
      " 13%|██████████▌                                                                        | 188/1482 [02:19<17:30,  1.23it/s]"
     ]
    },
    {
     "name": "stdout",
     "output_type": "stream",
     "text": [
      "EXCEPTION - Row 224 @ (-122.2215, 40.6569)\n",
      "Image.select: Band pattern 'B4' was applied to an Image with no bands. See https://developers.google.com/earth-engine/guides/debugging#no-bands\n"
     ]
    },
    {
     "name": "stderr",
     "output_type": "stream",
     "text": [
      "\r",
      " 13%|██████████▌                                                                        | 189/1482 [02:20<17:07,  1.26it/s]"
     ]
    },
    {
     "name": "stdout",
     "output_type": "stream",
     "text": [
      "EXCEPTION - Row 264 @ (-120.703238, 38.608336)\n",
      "Image.select: Band pattern 'B4' was applied to an Image with no bands. See https://developers.google.com/earth-engine/guides/debugging#no-bands\n"
     ]
    },
    {
     "name": "stderr",
     "output_type": "stream",
     "text": [
      "\r",
      " 13%|██████████▋                                                                        | 190/1482 [02:20<16:46,  1.28it/s]"
     ]
    },
    {
     "name": "stdout",
     "output_type": "stream",
     "text": [
      "EXCEPTION - Row 189 @ (-118.15, 35.642)\n",
      "Image.select: Band pattern 'B4' was applied to an Image with no bands. See https://developers.google.com/earth-engine/guides/debugging#no-bands\n"
     ]
    },
    {
     "name": "stderr",
     "output_type": "stream",
     "text": [
      "\r",
      " 13%|██████████▋                                                                        | 191/1482 [02:21<17:41,  1.22it/s]"
     ]
    },
    {
     "name": "stdout",
     "output_type": "stream",
     "text": [
      "EXCEPTION - Row 171 @ (-122.750788, 40.4314)\n",
      "Image.select: Band pattern 'B4' was applied to an Image with no bands. See https://developers.google.com/earth-engine/guides/debugging#no-bands\n"
     ]
    },
    {
     "name": "stderr",
     "output_type": "stream",
     "text": [
      "\r",
      " 13%|██████████▊                                                                        | 192/1482 [02:23<19:46,  1.09it/s]"
     ]
    },
    {
     "name": "stdout",
     "output_type": "stream",
     "text": [
      "EXCEPTION - Row 241 @ (-121.5118, 37.5359)\n",
      "Image.select: Band pattern 'B4' was applied to an Image with no bands. See https://developers.google.com/earth-engine/guides/debugging#no-bands\n"
     ]
    },
    {
     "name": "stderr",
     "output_type": "stream",
     "text": [
      "\r",
      " 13%|██████████▊                                                                        | 193/1482 [02:23<18:44,  1.15it/s]"
     ]
    },
    {
     "name": "stdout",
     "output_type": "stream",
     "text": [
      "EXCEPTION - Row 246 @ (-121.6129, 39.4664)\n",
      "Image.select: Band pattern 'B4' was applied to an Image with no bands. See https://developers.google.com/earth-engine/guides/debugging#no-bands\n"
     ]
    },
    {
     "name": "stderr",
     "output_type": "stream",
     "text": [
      "\r",
      " 13%|██████████▊                                                                        | 194/1482 [02:24<18:04,  1.19it/s]"
     ]
    },
    {
     "name": "stdout",
     "output_type": "stream",
     "text": [
      "EXCEPTION - Row 183 @ (-120.7819, 38.5691)\n",
      "Image.select: Band pattern 'B4' was applied to an Image with no bands. See https://developers.google.com/earth-engine/guides/debugging#no-bands\n"
     ]
    },
    {
     "name": "stderr",
     "output_type": "stream",
     "text": [
      "\r",
      " 13%|██████████▉                                                                        | 195/1482 [02:25<17:46,  1.21it/s]"
     ]
    },
    {
     "name": "stdout",
     "output_type": "stream",
     "text": [
      "EXCEPTION - Row 182 @ (-120.7819, 38.5691)\n",
      "Image.select: Band pattern 'B4' was applied to an Image with no bands. See https://developers.google.com/earth-engine/guides/debugging#no-bands\n"
     ]
    },
    {
     "name": "stderr",
     "output_type": "stream",
     "text": [
      "\r",
      " 13%|██████████▉                                                                        | 196/1482 [02:26<17:02,  1.26it/s]"
     ]
    },
    {
     "name": "stdout",
     "output_type": "stream",
     "text": [
      "EXCEPTION - Row 170 @ (-121.2144, 41.1336)\n",
      "Image.select: Band pattern 'B4' was applied to an Image with no bands. See https://developers.google.com/earth-engine/guides/debugging#no-bands\n"
     ]
    },
    {
     "name": "stderr",
     "output_type": "stream",
     "text": [
      "\r",
      " 13%|███████████                                                                        | 197/1482 [02:26<16:34,  1.29it/s]"
     ]
    },
    {
     "name": "stdout",
     "output_type": "stream",
     "text": [
      "EXCEPTION - Row 164 @ (-121.368, 40.901)\n",
      "Image.select: Band pattern 'B4' was applied to an Image with no bands. See https://developers.google.com/earth-engine/guides/debugging#no-bands\n"
     ]
    },
    {
     "name": "stderr",
     "output_type": "stream",
     "text": [
      "\r",
      " 13%|███████████                                                                        | 198/1482 [02:27<15:48,  1.35it/s]"
     ]
    },
    {
     "name": "stdout",
     "output_type": "stream",
     "text": [
      "EXCEPTION - Row 174 @ (-122.805, 41.141)\n",
      "Image.select: Band pattern 'B4' was applied to an Image with no bands. See https://developers.google.com/earth-engine/guides/debugging#no-bands\n"
     ]
    },
    {
     "name": "stderr",
     "output_type": "stream",
     "text": [
      "\r",
      " 13%|███████████▏                                                                       | 199/1482 [02:28<16:01,  1.33it/s]"
     ]
    },
    {
     "name": "stdout",
     "output_type": "stream",
     "text": [
      "EXCEPTION - Row 165 @ (-122.345, 42.048)\n",
      "Image.select: Band pattern 'B4' was applied to an Image with no bands. See https://developers.google.com/earth-engine/guides/debugging#no-bands\n"
     ]
    },
    {
     "name": "stderr",
     "output_type": "stream",
     "text": [
      "\r",
      " 13%|███████████▏                                                                       | 200/1482 [02:28<15:34,  1.37it/s]"
     ]
    },
    {
     "name": "stdout",
     "output_type": "stream",
     "text": [
      "EXCEPTION - Row 175 @ (-122.127, 41.682)\n",
      "Image.select: Band pattern 'B4' was applied to an Image with no bands. See https://developers.google.com/earth-engine/guides/debugging#no-bands\n"
     ]
    },
    {
     "name": "stderr",
     "output_type": "stream",
     "text": [
      "\r",
      " 14%|███████████▎                                                                       | 201/1482 [02:29<15:13,  1.40it/s]"
     ]
    },
    {
     "name": "stdout",
     "output_type": "stream",
     "text": [
      "EXCEPTION - Row 167 @ (-121.562, 40.72)\n",
      "Image.select: Band pattern 'B4' was applied to an Image with no bands. See https://developers.google.com/earth-engine/guides/debugging#no-bands\n"
     ]
    },
    {
     "name": "stderr",
     "output_type": "stream",
     "text": [
      "\r",
      " 14%|███████████▎                                                                       | 202/1482 [02:31<21:43,  1.02s/it]"
     ]
    },
    {
     "name": "stdout",
     "output_type": "stream",
     "text": [
      "EXCEPTION - Row 278 @ (-123.374, 41.796)\n",
      "Image.select: Band pattern 'B4' was applied to an Image with no bands. See https://developers.google.com/earth-engine/guides/debugging#no-bands\n"
     ]
    },
    {
     "name": "stderr",
     "output_type": "stream",
     "text": [
      "\r",
      " 14%|███████████▎                                                                       | 203/1482 [02:32<19:59,  1.07it/s]"
     ]
    },
    {
     "name": "stdout",
     "output_type": "stream",
     "text": [
      "EXCEPTION - Row 233 @ (-121.266, 41.507)\n",
      "Image.select: Band pattern 'B4' was applied to an Image with no bands. See https://developers.google.com/earth-engine/guides/debugging#no-bands\n"
     ]
    },
    {
     "name": "stderr",
     "output_type": "stream",
     "text": [
      "\r",
      " 14%|███████████▍                                                                       | 204/1482 [02:32<18:00,  1.18it/s]"
     ]
    },
    {
     "name": "stdout",
     "output_type": "stream",
     "text": [
      "EXCEPTION - Row 222 @ (-117.771, 34.235)\n",
      "Image.select: Band pattern 'B4' was applied to an Image with no bands. See https://developers.google.com/earth-engine/guides/debugging#no-bands\n"
     ]
    },
    {
     "name": "stderr",
     "output_type": "stream",
     "text": [
      "\r",
      " 14%|███████████▍                                                                       | 205/1482 [02:33<17:29,  1.22it/s]"
     ]
    },
    {
     "name": "stdout",
     "output_type": "stream",
     "text": [
      "EXCEPTION - Row 271 @ (-116.89516, 32.59154)\n",
      "Image.select: Band pattern 'B4' was applied to an Image with no bands. See https://developers.google.com/earth-engine/guides/debugging#no-bands\n"
     ]
    },
    {
     "name": "stderr",
     "output_type": "stream",
     "text": [
      "\r",
      " 14%|███████████▌                                                                       | 206/1482 [02:34<17:33,  1.21it/s]"
     ]
    },
    {
     "name": "stdout",
     "output_type": "stream",
     "text": [
      "EXCEPTION - Row 216 @ (-117.867, 34.267)\n",
      "Image.select: Band pattern 'B4' was applied to an Image with no bands. See https://developers.google.com/earth-engine/guides/debugging#no-bands\n"
     ]
    },
    {
     "name": "stderr",
     "output_type": "stream",
     "text": [
      "\r",
      " 14%|███████████▌                                                                       | 207/1482 [02:35<17:58,  1.18it/s]"
     ]
    },
    {
     "name": "stdout",
     "output_type": "stream",
     "text": [
      "EXCEPTION - Row 239 @ (-120.0805, 39.3918)\n",
      "Image.select: Band pattern 'B4' was applied to an Image with no bands. See https://developers.google.com/earth-engine/guides/debugging#no-bands\n"
     ]
    },
    {
     "name": "stderr",
     "output_type": "stream",
     "text": [
      "\r",
      " 14%|███████████▋                                                                       | 208/1482 [02:35<16:42,  1.27it/s]"
     ]
    },
    {
     "name": "stdout",
     "output_type": "stream",
     "text": [
      "EXCEPTION - Row 200 @ (-119.6581, 37.3433)\n",
      "Image.select: Band pattern 'B4' was applied to an Image with no bands. See https://developers.google.com/earth-engine/guides/debugging#no-bands\n"
     ]
    },
    {
     "name": "stderr",
     "output_type": "stream",
     "text": [
      "\r",
      " 14%|███████████▋                                                                       | 209/1482 [02:36<16:56,  1.25it/s]"
     ]
    },
    {
     "name": "stdout",
     "output_type": "stream",
     "text": [
      "EXCEPTION - Row 184 @ (-118.4747, 35.7206)\n",
      "Image.select: Band pattern 'B4' was applied to an Image with no bands. See https://developers.google.com/earth-engine/guides/debugging#no-bands\n"
     ]
    },
    {
     "name": "stderr",
     "output_type": "stream",
     "text": [
      "\r",
      " 14%|███████████▊                                                                       | 210/1482 [02:37<15:57,  1.33it/s]"
     ]
    },
    {
     "name": "stdout",
     "output_type": "stream",
     "text": [
      "EXCEPTION - Row 202 @ (-122.946, 40.7412)\n",
      "Image.select: Band pattern 'B4' was applied to an Image with no bands. See https://developers.google.com/earth-engine/guides/debugging#no-bands\n"
     ]
    },
    {
     "name": "stderr",
     "output_type": "stream",
     "text": [
      "\r",
      " 14%|███████████▊                                                                       | 211/1482 [02:38<16:46,  1.26it/s]"
     ]
    },
    {
     "name": "stdout",
     "output_type": "stream",
     "text": [
      "EXCEPTION - Row 276 @ (18.4, 37.0)\n",
      "Image.select: Band pattern 'B4' was applied to an Image with no bands. See https://developers.google.com/earth-engine/guides/debugging#no-bands\n"
     ]
    },
    {
     "name": "stderr",
     "output_type": "stream",
     "text": [
      "\r",
      " 14%|███████████▊                                                                       | 212/1482 [02:39<16:46,  1.26it/s]"
     ]
    },
    {
     "name": "stdout",
     "output_type": "stream",
     "text": [
      "EXCEPTION - Row 268 @ (29.24, 40.0)\n",
      "Image.select: Band pattern 'B4' was applied to an Image with no bands. See https://developers.google.com/earth-engine/guides/debugging#no-bands\n"
     ]
    },
    {
     "name": "stderr",
     "output_type": "stream",
     "text": [
      "\r",
      " 14%|███████████▉                                                                       | 213/1482 [02:39<16:56,  1.25it/s]"
     ]
    },
    {
     "name": "stdout",
     "output_type": "stream",
     "text": [
      "EXCEPTION - Row 247 @ (-120.3434, 37.8316)\n",
      "Image.select: Band pattern 'B4' was applied to an Image with no bands. See https://developers.google.com/earth-engine/guides/debugging#no-bands\n"
     ]
    },
    {
     "name": "stderr",
     "output_type": "stream",
     "text": [
      "\r",
      " 14%|███████████▉                                                                       | 214/1482 [02:41<19:56,  1.06it/s]"
     ]
    },
    {
     "name": "stdout",
     "output_type": "stream",
     "text": [
      "EXCEPTION - Row 194 @ (-122.171, 40.7101)\n",
      "Image.select: Band pattern 'B4' was applied to an Image with no bands. See https://developers.google.com/earth-engine/guides/debugging#no-bands\n"
     ]
    },
    {
     "name": "stderr",
     "output_type": "stream",
     "text": [
      "\r",
      " 15%|████████████                                                                       | 215/1482 [02:41<18:08,  1.16it/s]"
     ]
    },
    {
     "name": "stdout",
     "output_type": "stream",
     "text": [
      "EXCEPTION - Row 266 @ (-122.384054, 38.695961)\n",
      "Image.select: Band pattern 'B4' was applied to an Image with no bands. See https://developers.google.com/earth-engine/guides/debugging#no-bands\n"
     ]
    },
    {
     "name": "stderr",
     "output_type": "stream",
     "text": [
      "\r",
      " 15%|████████████                                                                       | 216/1482 [02:42<18:28,  1.14it/s]"
     ]
    },
    {
     "name": "stdout",
     "output_type": "stream",
     "text": [
      "EXCEPTION - Row 196 @ (-117.601, 33.748)\n",
      "Image.select: Band pattern 'B4' was applied to an Image with no bands. See https://developers.google.com/earth-engine/guides/debugging#no-bands\n"
     ]
    },
    {
     "name": "stderr",
     "output_type": "stream",
     "text": [
      "\r",
      " 15%|████████████▏                                                                      | 217/1482 [02:43<18:06,  1.16it/s]"
     ]
    },
    {
     "name": "stdout",
     "output_type": "stream",
     "text": [
      "EXCEPTION - Row 221 @ (-123.753, 41.134)\n",
      "Image.select: Band pattern 'B4' was applied to an Image with no bands. See https://developers.google.com/earth-engine/guides/debugging#no-bands\n"
     ]
    },
    {
     "name": "stderr",
     "output_type": "stream",
     "text": [
      "\r",
      " 15%|████████████▏                                                                      | 218/1482 [02:44<17:23,  1.21it/s]"
     ]
    },
    {
     "name": "stdout",
     "output_type": "stream",
     "text": [
      "EXCEPTION - Row 218 @ (-120.999508, 39.113682)\n",
      "Image.select: Band pattern 'B4' was applied to an Image with no bands. See https://developers.google.com/earth-engine/guides/debugging#no-bands\n"
     ]
    },
    {
     "name": "stderr",
     "output_type": "stream",
     "text": [
      "\r",
      " 15%|████████████▎                                                                      | 219/1482 [02:45<17:36,  1.20it/s]"
     ]
    },
    {
     "name": "stdout",
     "output_type": "stream",
     "text": [
      "EXCEPTION - Row 162 @ (-120.629714, 38.805437)\n",
      "Image.select: Band pattern 'B4' was applied to an Image with no bands. See https://developers.google.com/earth-engine/guides/debugging#no-bands\n"
     ]
    },
    {
     "name": "stderr",
     "output_type": "stream",
     "text": [
      "\r",
      " 15%|████████████▎                                                                      | 220/1482 [02:45<16:48,  1.25it/s]"
     ]
    },
    {
     "name": "stdout",
     "output_type": "stream",
     "text": [
      "EXCEPTION - Row 236 @ (-120.028, 38.59)\n",
      "Image.select: Band pattern 'B4' was applied to an Image with no bands. See https://developers.google.com/earth-engine/guides/debugging#no-bands\n"
     ]
    },
    {
     "name": "stderr",
     "output_type": "stream",
     "text": [
      "\r",
      " 15%|████████████▍                                                                      | 221/1482 [02:46<16:39,  1.26it/s]"
     ]
    },
    {
     "name": "stdout",
     "output_type": "stream",
     "text": [
      "EXCEPTION - Row 212 @ (-119.604124, 37.311915)\n",
      "Image.select: Band pattern 'B4' was applied to an Image with no bands. See https://developers.google.com/earth-engine/guides/debugging#no-bands\n"
     ]
    },
    {
     "name": "stderr",
     "output_type": "stream",
     "text": [
      "\r",
      " 15%|████████████▍                                                                      | 222/1482 [02:47<16:40,  1.26it/s]"
     ]
    },
    {
     "name": "stdout",
     "output_type": "stream",
     "text": [
      "EXCEPTION - Row 203 @ (-122.37432, 41.42384)\n",
      "Image.select: Band pattern 'B4' was applied to an Image with no bands. See https://developers.google.com/earth-engine/guides/debugging#no-bands\n"
     ]
    },
    {
     "name": "stderr",
     "output_type": "stream",
     "text": [
      "\r",
      " 15%|████████████▍                                                                      | 223/1482 [02:48<17:04,  1.23it/s]"
     ]
    },
    {
     "name": "stdout",
     "output_type": "stream",
     "text": [
      "EXCEPTION - Row 270 @ (-120.1140659, 38.9195001)\n",
      "Image.select: Band pattern 'B4' was applied to an Image with no bands. See https://developers.google.com/earth-engine/guides/debugging#no-bands\n"
     ]
    },
    {
     "name": "stderr",
     "output_type": "stream",
     "text": [
      "\r",
      " 15%|████████████▌                                                                      | 224/1482 [02:49<20:54,  1.00it/s]"
     ]
    },
    {
     "name": "stdout",
     "output_type": "stream",
     "text": [
      "EXCEPTION - Row 213 @ (40.34, 37.0)\n",
      "Image.select: Band pattern 'B4' was applied to an Image with no bands. See https://developers.google.com/earth-engine/guides/debugging#no-bands\n"
     ]
    },
    {
     "name": "stderr",
     "output_type": "stream",
     "text": [
      "\r",
      " 15%|████████████▌                                                                      | 225/1482 [02:50<20:01,  1.05it/s]"
     ]
    },
    {
     "name": "stdout",
     "output_type": "stream",
     "text": [
      "EXCEPTION - Row 256 @ (-117.70643, 33.93869)\n",
      "Image.select: Band pattern 'B4' was applied to an Image with no bands. See https://developers.google.com/earth-engine/guides/debugging#no-bands\n"
     ]
    },
    {
     "name": "stderr",
     "output_type": "stream",
     "text": [
      "\r",
      " 15%|████████████▋                                                                      | 226/1482 [02:51<18:01,  1.16it/s]"
     ]
    },
    {
     "name": "stdout",
     "output_type": "stream",
     "text": [
      "EXCEPTION - Row 335 @ (-121.851, 41.485)\n",
      "Image.select: Band pattern 'B4' was applied to an Image with no bands. See https://developers.google.com/earth-engine/guides/debugging#no-bands\n"
     ]
    },
    {
     "name": "stderr",
     "output_type": "stream",
     "text": [
      "\r",
      " 15%|████████████▋                                                                      | 227/1482 [02:52<17:49,  1.17it/s]"
     ]
    },
    {
     "name": "stdout",
     "output_type": "stream",
     "text": [
      "EXCEPTION - Row 350 @ (-120.70166666667, 40.050833333333)\n",
      "Image.select: Band pattern 'B4' was applied to an Image with no bands. See https://developers.google.com/earth-engine/guides/debugging#no-bands\n"
     ]
    },
    {
     "name": "stderr",
     "output_type": "stream",
     "text": [
      "\r",
      " 15%|████████████▊                                                                      | 228/1482 [02:53<18:50,  1.11it/s]"
     ]
    },
    {
     "name": "stdout",
     "output_type": "stream",
     "text": [
      "EXCEPTION - Row 307 @ (-117.642759, 33.884313)\n",
      "Image.select: Band pattern 'B4' was applied to an Image with no bands. See https://developers.google.com/earth-engine/guides/debugging#no-bands\n"
     ]
    },
    {
     "name": "stderr",
     "output_type": "stream",
     "text": [
      "\r",
      " 15%|████████████▊                                                                      | 229/1482 [02:53<17:36,  1.19it/s]"
     ]
    },
    {
     "name": "stdout",
     "output_type": "stream",
     "text": [
      "EXCEPTION - Row 325 @ (-121.06963, 37.08312)\n",
      "Image.select: Band pattern 'B4' was applied to an Image with no bands. See https://developers.google.com/earth-engine/guides/debugging#no-bands\n"
     ]
    },
    {
     "name": "stderr",
     "output_type": "stream",
     "text": [
      "\r",
      " 16%|████████████▉                                                                      | 230/1482 [02:54<17:09,  1.22it/s]"
     ]
    },
    {
     "name": "stdout",
     "output_type": "stream",
     "text": [
      "EXCEPTION - Row 425 @ (-123.8292, 41.1513)\n",
      "Image.select: Band pattern 'B4' was applied to an Image with no bands. See https://developers.google.com/earth-engine/guides/debugging#no-bands\n"
     ]
    },
    {
     "name": "stderr",
     "output_type": "stream",
     "text": [
      "\r",
      " 16%|████████████▉                                                                      | 231/1482 [02:55<15:52,  1.31it/s]"
     ]
    },
    {
     "name": "stdout",
     "output_type": "stream",
     "text": [
      "EXCEPTION - Row 303 @ (-123.168, 40.924)\n",
      "Image.select: Band pattern 'B4' was applied to an Image with no bands. See https://developers.google.com/earth-engine/guides/debugging#no-bands\n"
     ]
    },
    {
     "name": "stderr",
     "output_type": "stream",
     "text": [
      "\r",
      " 16%|████████████▉                                                                      | 232/1482 [02:55<15:33,  1.34it/s]"
     ]
    },
    {
     "name": "stdout",
     "output_type": "stream",
     "text": [
      "EXCEPTION - Row 378 @ (-120.19482, 35.77937)\n",
      "Image.select: Band pattern 'B4' was applied to an Image with no bands. See https://developers.google.com/earth-engine/guides/debugging#no-bands\n"
     ]
    },
    {
     "name": "stderr",
     "output_type": "stream",
     "text": [
      "\r",
      " 16%|█████████████                                                                      | 233/1482 [02:56<15:31,  1.34it/s]"
     ]
    },
    {
     "name": "stdout",
     "output_type": "stream",
     "text": [
      "EXCEPTION - Row 403 @ (-122.3415, 38.5287)\n",
      "Image.select: Band pattern 'B4' was applied to an Image with no bands. See https://developers.google.com/earth-engine/guides/debugging#no-bands\n"
     ]
    },
    {
     "name": "stderr",
     "output_type": "stream",
     "text": [
      "\r",
      " 16%|█████████████                                                                      | 234/1482 [02:57<14:57,  1.39it/s]"
     ]
    },
    {
     "name": "stdout",
     "output_type": "stream",
     "text": [
      "EXCEPTION - Row 384 @ (-121.135426, 38.260777)\n",
      "Image.select: Band pattern 'B4' was applied to an Image with no bands. See https://developers.google.com/earth-engine/guides/debugging#no-bands\n"
     ]
    },
    {
     "name": "stderr",
     "output_type": "stream",
     "text": [
      "\r",
      " 16%|█████████████▏                                                                     | 235/1482 [02:58<15:40,  1.33it/s]"
     ]
    },
    {
     "name": "stdout",
     "output_type": "stream",
     "text": [
      "EXCEPTION - Row 389 @ (-122.552, 40.0133)\n",
      "Image.select: Band pattern 'B4' was applied to an Image with no bands. See https://developers.google.com/earth-engine/guides/debugging#no-bands\n"
     ]
    },
    {
     "name": "stderr",
     "output_type": "stream",
     "text": [
      "\r",
      " 16%|█████████████▏                                                                     | 236/1482 [02:59<18:01,  1.15it/s]"
     ]
    },
    {
     "name": "stdout",
     "output_type": "stream",
     "text": [
      "EXCEPTION - Row 283 @ (-116.89277777778, 34.160277777778)\n",
      "Image.select: Band pattern 'B4' was applied to an Image with no bands. See https://developers.google.com/earth-engine/guides/debugging#no-bands\n"
     ]
    },
    {
     "name": "stderr",
     "output_type": "stream",
     "text": [
      "\r",
      " 16%|█████████████▎                                                                     | 237/1482 [03:00<17:33,  1.18it/s]"
     ]
    },
    {
     "name": "stdout",
     "output_type": "stream",
     "text": [
      "EXCEPTION - Row 339 @ (-116.8534, 32.9421)\n",
      "Image.select: Band pattern 'B4' was applied to an Image with no bands. See https://developers.google.com/earth-engine/guides/debugging#no-bands\n"
     ]
    },
    {
     "name": "stderr",
     "output_type": "stream",
     "text": [
      "\r",
      " 16%|█████████████▎                                                                     | 238/1482 [03:00<16:04,  1.29it/s]"
     ]
    },
    {
     "name": "stdout",
     "output_type": "stream",
     "text": [
      "EXCEPTION - Row 346 @ (-121.26471, 39.2688)\n",
      "Image.select: Band pattern 'B4' was applied to an Image with no bands. See https://developers.google.com/earth-engine/guides/debugging#no-bands\n"
     ]
    },
    {
     "name": "stderr",
     "output_type": "stream",
     "text": [
      "\r",
      " 16%|█████████████▍                                                                     | 239/1482 [03:01<16:13,  1.28it/s]"
     ]
    },
    {
     "name": "stdout",
     "output_type": "stream",
     "text": [
      "EXCEPTION - Row 309 @ (-119.523943, 37.165767)\n",
      "Image.select: Band pattern 'B4' was applied to an Image with no bands. See https://developers.google.com/earth-engine/guides/debugging#no-bands\n"
     ]
    },
    {
     "name": "stderr",
     "output_type": "stream",
     "text": [
      "\r",
      " 16%|█████████████▍                                                                     | 240/1482 [03:02<16:12,  1.28it/s]"
     ]
    },
    {
     "name": "stdout",
     "output_type": "stream",
     "text": [
      "EXCEPTION - Row 381 @ (-121.033667, 40.875667)\n",
      "Image.select: Band pattern 'B4' was applied to an Image with no bands. See https://developers.google.com/earth-engine/guides/debugging#no-bands\n"
     ]
    },
    {
     "name": "stderr",
     "output_type": "stream",
     "text": [
      "\r",
      " 16%|█████████████▍                                                                     | 241/1482 [03:02<15:37,  1.32it/s]"
     ]
    },
    {
     "name": "stdout",
     "output_type": "stream",
     "text": [
      "EXCEPTION - Row 430 @ (-119.751944, 38.598056)\n",
      "Image.select: Band pattern 'B4' was applied to an Image with no bands. See https://developers.google.com/earth-engine/guides/debugging#no-bands\n"
     ]
    },
    {
     "name": "stderr",
     "output_type": "stream",
     "text": [
      "\r",
      " 16%|█████████████▌                                                                     | 242/1482 [03:03<15:05,  1.37it/s]"
     ]
    },
    {
     "name": "stdout",
     "output_type": "stream",
     "text": [
      "EXCEPTION - Row 351 @ (-119.6958, 37.072561)\n",
      "Image.select: Band pattern 'B4' was applied to an Image with no bands. See https://developers.google.com/earth-engine/guides/debugging#no-bands\n"
     ]
    },
    {
     "name": "stderr",
     "output_type": "stream",
     "text": [
      "\r",
      " 16%|█████████████▌                                                                     | 243/1482 [03:04<15:46,  1.31it/s]"
     ]
    },
    {
     "name": "stdout",
     "output_type": "stream",
     "text": [
      "EXCEPTION - Row 318 @ (-118.535793, 34.361007)\n",
      "Image.select: Band pattern 'B4' was applied to an Image with no bands. See https://developers.google.com/earth-engine/guides/debugging#no-bands\n"
     ]
    },
    {
     "name": "stderr",
     "output_type": "stream",
     "text": [
      "\r",
      " 16%|█████████████▋                                                                     | 244/1482 [03:05<15:00,  1.38it/s]"
     ]
    },
    {
     "name": "stdout",
     "output_type": "stream",
     "text": [
      "EXCEPTION - Row 364 @ (-117.243878, 34.165974)\n",
      "Image.select: Band pattern 'B4' was applied to an Image with no bands. See https://developers.google.com/earth-engine/guides/debugging#no-bands\n"
     ]
    },
    {
     "name": "stderr",
     "output_type": "stream",
     "text": [
      "\r",
      " 17%|█████████████▋                                                                     | 245/1482 [03:05<15:16,  1.35it/s]"
     ]
    },
    {
     "name": "stdout",
     "output_type": "stream",
     "text": [
      "EXCEPTION - Row 369 @ (-116.9454387, 32.6449163)\n",
      "Image.select: Band pattern 'B4' was applied to an Image with no bands. See https://developers.google.com/earth-engine/guides/debugging#no-bands\n"
     ]
    },
    {
     "name": "stderr",
     "output_type": "stream",
     "text": [
      "\r",
      " 17%|█████████████▊                                                                     | 246/1482 [03:06<15:14,  1.35it/s]"
     ]
    },
    {
     "name": "stdout",
     "output_type": "stream",
     "text": [
      "EXCEPTION - Row 426 @ (-122.181878, 38.519132)\n",
      "Image.select: Band pattern 'B4' was applied to an Image with no bands. See https://developers.google.com/earth-engine/guides/debugging#no-bands\n"
     ]
    },
    {
     "name": "stderr",
     "output_type": "stream",
     "text": [
      "\r",
      " 17%|█████████████▊                                                                     | 247/1482 [03:07<15:43,  1.31it/s]"
     ]
    },
    {
     "name": "stdout",
     "output_type": "stream",
     "text": [
      "EXCEPTION - Row 407 @ (-123.248214, 39.7806004)\n",
      "Image.select: Band pattern 'B4' was applied to an Image with no bands. See https://developers.google.com/earth-engine/guides/debugging#no-bands\n"
     ]
    },
    {
     "name": "stderr",
     "output_type": "stream",
     "text": [
      "\r",
      " 17%|█████████████▉                                                                     | 248/1482 [03:08<15:06,  1.36it/s]"
     ]
    },
    {
     "name": "stdout",
     "output_type": "stream",
     "text": [
      "EXCEPTION - Row 421 @ (-123.303, 39.0263)\n",
      "Image.select: Band pattern 'B4' was applied to an Image with no bands. See https://developers.google.com/earth-engine/guides/debugging#no-bands\n"
     ]
    },
    {
     "name": "stderr",
     "output_type": "stream",
     "text": [
      "\r",
      " 17%|█████████████▉                                                                     | 249/1482 [03:08<14:52,  1.38it/s]"
     ]
    },
    {
     "name": "stdout",
     "output_type": "stream",
     "text": [
      "EXCEPTION - Row 341 @ (-122.3638, 39.8448)\n",
      "Image.select: Band pattern 'B4' was applied to an Image with no bands. See https://developers.google.com/earth-engine/guides/debugging#no-bands\n"
     ]
    },
    {
     "name": "stderr",
     "output_type": "stream",
     "text": [
      "\r",
      " 17%|██████████████                                                                     | 250/1482 [03:09<14:35,  1.41it/s]"
     ]
    },
    {
     "name": "stdout",
     "output_type": "stream",
     "text": [
      "EXCEPTION - Row 347 @ (-122.0789, 38.4113)\n",
      "Image.select: Band pattern 'B4' was applied to an Image with no bands. See https://developers.google.com/earth-engine/guides/debugging#no-bands\n"
     ]
    },
    {
     "name": "stderr",
     "output_type": "stream",
     "text": [
      "\r",
      " 17%|██████████████                                                                     | 251/1482 [03:10<14:27,  1.42it/s]"
     ]
    },
    {
     "name": "stdout",
     "output_type": "stream",
     "text": [
      "EXCEPTION - Row 427 @ (-122.4397, 40.5953)\n",
      "Image.select: Band pattern 'B4' was applied to an Image with no bands. See https://developers.google.com/earth-engine/guides/debugging#no-bands\n"
     ]
    },
    {
     "name": "stderr",
     "output_type": "stream",
     "text": [
      "\r",
      " 17%|██████████████                                                                     | 252/1482 [03:10<14:41,  1.40it/s]"
     ]
    },
    {
     "name": "stdout",
     "output_type": "stream",
     "text": [
      "EXCEPTION - Row 366 @ (-121.0157, 35.7183)\n",
      "Image.select: Band pattern 'B4' was applied to an Image with no bands. See https://developers.google.com/earth-engine/guides/debugging#no-bands\n"
     ]
    },
    {
     "name": "stderr",
     "output_type": "stream",
     "text": [
      "\r",
      " 17%|██████████████▏                                                                    | 253/1482 [03:11<14:40,  1.40it/s]"
     ]
    },
    {
     "name": "stdout",
     "output_type": "stream",
     "text": [
      "EXCEPTION - Row 402 @ (-122.1578, 38.1029)\n",
      "Image.select: Band pattern 'B4' was applied to an Image with no bands. See https://developers.google.com/earth-engine/guides/debugging#no-bands\n"
     ]
    },
    {
     "name": "stderr",
     "output_type": "stream",
     "text": [
      "\r",
      " 17%|██████████████▏                                                                    | 254/1482 [03:12<14:36,  1.40it/s]"
     ]
    },
    {
     "name": "stdout",
     "output_type": "stream",
     "text": [
      "EXCEPTION - Row 424 @ (-117.43942, 33.986204)\n",
      "Image.select: Band pattern 'B4' was applied to an Image with no bands. See https://developers.google.com/earth-engine/guides/debugging#no-bands\n"
     ]
    },
    {
     "name": "stderr",
     "output_type": "stream",
     "text": [
      "\r",
      " 17%|██████████████▎                                                                    | 255/1482 [03:12<14:10,  1.44it/s]"
     ]
    },
    {
     "name": "stdout",
     "output_type": "stream",
     "text": [
      "EXCEPTION - Row 390 @ (-117.0487863, 34.0783472)\n",
      "Image.select: Band pattern 'B4' was applied to an Image with no bands. See https://developers.google.com/earth-engine/guides/debugging#no-bands\n"
     ]
    },
    {
     "name": "stderr",
     "output_type": "stream",
     "text": [
      "\r",
      " 17%|██████████████▎                                                                    | 256/1482 [03:13<14:10,  1.44it/s]"
     ]
    },
    {
     "name": "stdout",
     "output_type": "stream",
     "text": [
      "EXCEPTION - Row 330 @ (-117.7274, 33.7626)\n",
      "Image.select: Band pattern 'B4' was applied to an Image with no bands. See https://developers.google.com/earth-engine/guides/debugging#no-bands\n"
     ]
    },
    {
     "name": "stderr",
     "output_type": "stream",
     "text": [
      "\r",
      " 17%|██████████████▍                                                                    | 257/1482 [03:14<13:55,  1.47it/s]"
     ]
    },
    {
     "name": "stdout",
     "output_type": "stream",
     "text": [
      "EXCEPTION - Row 338 @ (-122.5029, 41.8048)\n",
      "Image.select: Band pattern 'B4' was applied to an Image with no bands. See https://developers.google.com/earth-engine/guides/debugging#no-bands\n"
     ]
    },
    {
     "name": "stderr",
     "output_type": "stream",
     "text": [
      "\r",
      " 17%|██████████████▍                                                                    | 258/1482 [03:15<14:13,  1.43it/s]"
     ]
    },
    {
     "name": "stdout",
     "output_type": "stream",
     "text": [
      "EXCEPTION - Row 415 @ (-116.73472, 33.21407)\n",
      "Image.select: Band pattern 'B4' was applied to an Image with no bands. See https://developers.google.com/earth-engine/guides/debugging#no-bands\n"
     ]
    },
    {
     "name": "stderr",
     "output_type": "stream",
     "text": [
      "\r",
      " 17%|██████████████▌                                                                    | 259/1482 [03:15<13:59,  1.46it/s]"
     ]
    },
    {
     "name": "stdout",
     "output_type": "stream",
     "text": [
      "EXCEPTION - Row 296 @ (-117.478, 34.339)\n",
      "Image.select: Band pattern 'B4' was applied to an Image with no bands. See https://developers.google.com/earth-engine/guides/debugging#no-bands\n"
     ]
    },
    {
     "name": "stderr",
     "output_type": "stream",
     "text": [
      "\r",
      " 18%|██████████████▌                                                                    | 260/1482 [03:16<14:10,  1.44it/s]"
     ]
    },
    {
     "name": "stdout",
     "output_type": "stream",
     "text": [
      "EXCEPTION - Row 334 @ (-117.683, 34.367)\n",
      "Image.select: Band pattern 'B4' was applied to an Image with no bands. See https://developers.google.com/earth-engine/guides/debugging#no-bands\n"
     ]
    },
    {
     "name": "stderr",
     "output_type": "stream",
     "text": [
      "\r",
      " 18%|██████████████▌                                                                    | 261/1482 [03:17<13:53,  1.46it/s]"
     ]
    },
    {
     "name": "stdout",
     "output_type": "stream",
     "text": [
      "EXCEPTION - Row 292 @ (-118.54, 36.24)\n",
      "Image.select: Band pattern 'B4' was applied to an Image with no bands. See https://developers.google.com/earth-engine/guides/debugging#no-bands\n"
     ]
    },
    {
     "name": "stderr",
     "output_type": "stream",
     "text": [
      "\r",
      " 18%|██████████████▋                                                                    | 262/1482 [03:17<13:51,  1.47it/s]"
     ]
    },
    {
     "name": "stdout",
     "output_type": "stream",
     "text": [
      "EXCEPTION - Row 414 @ (-121.5681, 36.8727)\n",
      "Image.select: Band pattern 'B4' was applied to an Image with no bands. See https://developers.google.com/earth-engine/guides/debugging#no-bands\n"
     ]
    },
    {
     "name": "stderr",
     "output_type": "stream",
     "text": [
      "\r",
      " 18%|██████████████▋                                                                    | 263/1482 [03:18<13:26,  1.51it/s]"
     ]
    },
    {
     "name": "stdout",
     "output_type": "stream",
     "text": [
      "EXCEPTION - Row 316 @ (-118.824235, 36.085212)\n",
      "Image.select: Band pattern 'B4' was applied to an Image with no bands. See https://developers.google.com/earth-engine/guides/debugging#no-bands\n"
     ]
    },
    {
     "name": "stderr",
     "output_type": "stream",
     "text": [
      "\r",
      " 18%|██████████████▊                                                                    | 264/1482 [03:19<15:00,  1.35it/s]"
     ]
    },
    {
     "name": "stdout",
     "output_type": "stream",
     "text": [
      "EXCEPTION - Row 420 @ (-121.891226, 41.999341)\n",
      "Image.select: Band pattern 'B4' was applied to an Image with no bands. See https://developers.google.com/earth-engine/guides/debugging#no-bands\n"
     ]
    },
    {
     "name": "stderr",
     "output_type": "stream",
     "text": [
      "\r",
      " 18%|██████████████▊                                                                    | 265/1482 [03:19<14:51,  1.37it/s]"
     ]
    },
    {
     "name": "stdout",
     "output_type": "stream",
     "text": [
      "EXCEPTION - Row 412 @ (-121.1548, 38.9361)\n",
      "Image.select: Band pattern 'B4' was applied to an Image with no bands. See https://developers.google.com/earth-engine/guides/debugging#no-bands\n"
     ]
    },
    {
     "name": "stderr",
     "output_type": "stream",
     "text": [
      "\r",
      " 18%|██████████████▉                                                                    | 266/1482 [03:20<14:45,  1.37it/s]"
     ]
    },
    {
     "name": "stdout",
     "output_type": "stream",
     "text": [
      "EXCEPTION - Row 374 @ (-120.404, 38.776)\n",
      "Image.select: Band pattern 'B4' was applied to an Image with no bands. See https://developers.google.com/earth-engine/guides/debugging#no-bands\n"
     ]
    },
    {
     "name": "stderr",
     "output_type": "stream",
     "text": [
      "\r",
      " 18%|██████████████▉                                                                    | 267/1482 [03:21<14:40,  1.38it/s]"
     ]
    },
    {
     "name": "stdout",
     "output_type": "stream",
     "text": [
      "EXCEPTION - Row 354 @ (-121.172117, 41.29226)\n",
      "Image.select: Band pattern 'B4' was applied to an Image with no bands. See https://developers.google.com/earth-engine/guides/debugging#no-bands\n"
     ]
    },
    {
     "name": "stderr",
     "output_type": "stream",
     "text": [
      "\r",
      " 18%|███████████████                                                                    | 268/1482 [03:22<14:29,  1.40it/s]"
     ]
    },
    {
     "name": "stdout",
     "output_type": "stream",
     "text": [
      "EXCEPTION - Row 371 @ (-121.101623, 40.856422)\n",
      "Image.select: Band pattern 'B4' was applied to an Image with no bands. See https://developers.google.com/earth-engine/guides/debugging#no-bands\n"
     ]
    },
    {
     "name": "stderr",
     "output_type": "stream",
     "text": [
      "\r",
      " 18%|███████████████                                                                    | 269/1482 [03:22<13:54,  1.45it/s]"
     ]
    },
    {
     "name": "stdout",
     "output_type": "stream",
     "text": [
      "EXCEPTION - Row 413 @ (-116.51684, 32.682547)\n",
      "Image.select: Band pattern 'B4' was applied to an Image with no bands. See https://developers.google.com/earth-engine/guides/debugging#no-bands\n"
     ]
    },
    {
     "name": "stderr",
     "output_type": "stream",
     "text": [
      "\r",
      " 18%|███████████████                                                                    | 270/1482 [03:23<14:08,  1.43it/s]"
     ]
    },
    {
     "name": "stdout",
     "output_type": "stream",
     "text": [
      "EXCEPTION - Row 343 @ (-116.868611, 33.383889)\n",
      "Image.select: Band pattern 'B4' was applied to an Image with no bands. See https://developers.google.com/earth-engine/guides/debugging#no-bands\n"
     ]
    },
    {
     "name": "stderr",
     "output_type": "stream",
     "text": [
      "\r",
      " 18%|███████████████▏                                                                   | 271/1482 [03:24<14:18,  1.41it/s]"
     ]
    },
    {
     "name": "stdout",
     "output_type": "stream",
     "text": [
      "EXCEPTION - Row 345 @ (-123.784067, 41.295667)\n",
      "Image.select: Band pattern 'B4' was applied to an Image with no bands. See https://developers.google.com/earth-engine/guides/debugging#no-bands\n"
     ]
    },
    {
     "name": "stderr",
     "output_type": "stream",
     "text": [
      "\r",
      " 18%|███████████████▏                                                                   | 272/1482 [03:24<14:15,  1.41it/s]"
     ]
    },
    {
     "name": "stdout",
     "output_type": "stream",
     "text": [
      "EXCEPTION - Row 293 @ (-119.50014, 37.279722)\n",
      "Image.select: Band pattern 'B4' was applied to an Image with no bands. See https://developers.google.com/earth-engine/guides/debugging#no-bands\n"
     ]
    },
    {
     "name": "stderr",
     "output_type": "stream",
     "text": [
      "\r",
      " 18%|███████████████▎                                                                   | 273/1482 [03:25<14:18,  1.41it/s]"
     ]
    },
    {
     "name": "stdout",
     "output_type": "stream",
     "text": [
      "EXCEPTION - Row 300 @ (-120.882313, 39.192088)\n",
      "Image.select: Band pattern 'B4' was applied to an Image with no bands. See https://developers.google.com/earth-engine/guides/debugging#no-bands\n"
     ]
    },
    {
     "name": "stderr",
     "output_type": "stream",
     "text": [
      "\r",
      " 18%|███████████████▎                                                                   | 274/1482 [03:26<13:48,  1.46it/s]"
     ]
    },
    {
     "name": "stdout",
     "output_type": "stream",
     "text": [
      "EXCEPTION - Row 401 @ (-121.20324, 37.24523)\n",
      "Image.select: Band pattern 'B4' was applied to an Image with no bands. See https://developers.google.com/earth-engine/guides/debugging#no-bands\n"
     ]
    },
    {
     "name": "stderr",
     "output_type": "stream",
     "text": [
      "\r",
      " 19%|███████████████▍                                                                   | 275/1482 [03:26<13:25,  1.50it/s]"
     ]
    },
    {
     "name": "stdout",
     "output_type": "stream",
     "text": [
      "EXCEPTION - Row 428 @ (-123.774, 40.1093)\n",
      "Image.select: Band pattern 'B4' was applied to an Image with no bands. See https://developers.google.com/earth-engine/guides/debugging#no-bands\n"
     ]
    },
    {
     "name": "stderr",
     "output_type": "stream",
     "text": [
      "\r",
      " 19%|███████████████▍                                                                   | 276/1482 [03:27<13:33,  1.48it/s]"
     ]
    },
    {
     "name": "stdout",
     "output_type": "stream",
     "text": [
      "EXCEPTION - Row 319 @ (-121.38794, 39.43963)\n",
      "Image.select: Band pattern 'B4' was applied to an Image with no bands. See https://developers.google.com/earth-engine/guides/debugging#no-bands\n"
     ]
    },
    {
     "name": "stderr",
     "output_type": "stream",
     "text": [
      "\r",
      " 19%|███████████████▌                                                                   | 277/1482 [03:28<13:27,  1.49it/s]"
     ]
    },
    {
     "name": "stdout",
     "output_type": "stream",
     "text": [
      "EXCEPTION - Row 281 @ (-122.4762475, 38.8863538)\n",
      "Image.select: Band pattern 'B4' was applied to an Image with no bands. See https://developers.google.com/earth-engine/guides/debugging#no-bands\n"
     ]
    },
    {
     "name": "stderr",
     "output_type": "stream",
     "text": [
      "\r",
      " 19%|███████████████▌                                                                   | 278/1482 [03:28<13:15,  1.51it/s]"
     ]
    },
    {
     "name": "stdout",
     "output_type": "stream",
     "text": [
      "EXCEPTION - Row 333 @ (-120.15644, 37.823)\n",
      "Image.select: Band pattern 'B4' was applied to an Image with no bands. See https://developers.google.com/earth-engine/guides/debugging#no-bands\n"
     ]
    },
    {
     "name": "stderr",
     "output_type": "stream",
     "text": [
      "\r",
      " 19%|███████████████▋                                                                   | 279/1482 [03:29<13:17,  1.51it/s]"
     ]
    },
    {
     "name": "stdout",
     "output_type": "stream",
     "text": [
      "EXCEPTION - Row 373 @ (-122.199227, 40.509552)\n",
      "Image.select: Band pattern 'B4' was applied to an Image with no bands. See https://developers.google.com/earth-engine/guides/debugging#no-bands\n"
     ]
    },
    {
     "name": "stderr",
     "output_type": "stream",
     "text": [
      "\r",
      " 19%|███████████████▋                                                                   | 280/1482 [03:30<13:33,  1.48it/s]"
     ]
    },
    {
     "name": "stdout",
     "output_type": "stream",
     "text": [
      "EXCEPTION - Row 331 @ (-122.439939, 40.415108)\n",
      "Image.select: Band pattern 'B4' was applied to an Image with no bands. See https://developers.google.com/earth-engine/guides/debugging#no-bands\n"
     ]
    },
    {
     "name": "stderr",
     "output_type": "stream",
     "text": [
      "\r",
      " 19%|███████████████▋                                                                   | 281/1482 [03:30<13:43,  1.46it/s]"
     ]
    },
    {
     "name": "stdout",
     "output_type": "stream",
     "text": [
      "EXCEPTION - Row 336 @ (-121.68113, 37.81629)\n",
      "Image.select: Band pattern 'B4' was applied to an Image with no bands. See https://developers.google.com/earth-engine/guides/debugging#no-bands\n"
     ]
    },
    {
     "name": "stderr",
     "output_type": "stream",
     "text": [
      "\r",
      " 19%|███████████████▊                                                                   | 282/1482 [03:31<13:53,  1.44it/s]"
     ]
    },
    {
     "name": "stdout",
     "output_type": "stream",
     "text": [
      "EXCEPTION - Row 368 @ (-118.9009, 36.49845)\n",
      "Image.select: Band pattern 'B4' was applied to an Image with no bands. See https://developers.google.com/earth-engine/guides/debugging#no-bands\n"
     ]
    },
    {
     "name": "stderr",
     "output_type": "stream",
     "text": [
      "\r",
      " 19%|███████████████▊                                                                   | 283/1482 [03:32<13:26,  1.49it/s]"
     ]
    },
    {
     "name": "stdout",
     "output_type": "stream",
     "text": [
      "EXCEPTION - Row 367 @ (-122.20109, 40.49865)\n",
      "Image.select: Band pattern 'B4' was applied to an Image with no bands. See https://developers.google.com/earth-engine/guides/debugging#no-bands\n"
     ]
    },
    {
     "name": "stderr",
     "output_type": "stream",
     "text": [
      "\r",
      " 19%|███████████████▉                                                                   | 284/1482 [03:32<13:27,  1.48it/s]"
     ]
    },
    {
     "name": "stdout",
     "output_type": "stream",
     "text": [
      "EXCEPTION - Row 394 @ (-123.36316, 39.43301)\n",
      "Image.select: Band pattern 'B4' was applied to an Image with no bands. See https://developers.google.com/earth-engine/guides/debugging#no-bands\n"
     ]
    },
    {
     "name": "stderr",
     "output_type": "stream",
     "text": [
      "\r",
      " 19%|███████████████▉                                                                   | 285/1482 [03:33<13:12,  1.51it/s]"
     ]
    },
    {
     "name": "stdout",
     "output_type": "stream",
     "text": [
      "EXCEPTION - Row 295 @ (-121.392, 41.399)\n",
      "Image.select: Band pattern 'B4' was applied to an Image with no bands. See https://developers.google.com/earth-engine/guides/debugging#no-bands\n"
     ]
    },
    {
     "name": "stderr",
     "output_type": "stream",
     "text": [
      "\r",
      " 19%|████████████████                                                                   | 286/1482 [03:34<14:13,  1.40it/s]"
     ]
    },
    {
     "name": "stdout",
     "output_type": "stream",
     "text": [
      "EXCEPTION - Row 279 @ (-118.905, 36.874)\n",
      "Image.select: Band pattern 'B4' was applied to an Image with no bands. See https://developers.google.com/earth-engine/guides/debugging#no-bands\n"
     ]
    },
    {
     "name": "stderr",
     "output_type": "stream",
     "text": [
      "\r",
      " 19%|████████████████                                                                   | 287/1482 [03:35<13:49,  1.44it/s]"
     ]
    },
    {
     "name": "stdout",
     "output_type": "stream",
     "text": [
      "EXCEPTION - Row 392 @ (-120.2903, 34.9522)\n",
      "Image.select: Band pattern 'B4' was applied to an Image with no bands. See https://developers.google.com/earth-engine/guides/debugging#no-bands\n"
     ]
    },
    {
     "name": "stderr",
     "output_type": "stream",
     "text": [
      "\r",
      " 19%|████████████████▏                                                                  | 288/1482 [03:35<13:17,  1.50it/s]"
     ]
    },
    {
     "name": "stdout",
     "output_type": "stream",
     "text": [
      "EXCEPTION - Row 372 @ (-121.93244, 40.67868)\n",
      "Image.select: Band pattern 'B4' was applied to an Image with no bands. See https://developers.google.com/earth-engine/guides/debugging#no-bands\n"
     ]
    },
    {
     "name": "stderr",
     "output_type": "stream",
     "text": [
      "\r",
      " 20%|████████████████▏                                                                  | 289/1482 [03:36<14:01,  1.42it/s]"
     ]
    },
    {
     "name": "stdout",
     "output_type": "stream",
     "text": [
      "EXCEPTION - Row 288 @ (-120.105, 40.938)\n",
      "Image.select: Band pattern 'B4' was applied to an Image with no bands. See https://developers.google.com/earth-engine/guides/debugging#no-bands\n"
     ]
    },
    {
     "name": "stderr",
     "output_type": "stream",
     "text": [
      "\r",
      " 20%|████████████████▏                                                                  | 290/1482 [03:37<13:57,  1.42it/s]"
     ]
    },
    {
     "name": "stdout",
     "output_type": "stream",
     "text": [
      "EXCEPTION - Row 385 @ (-122.40546, 40.3929)\n",
      "Image.select: Band pattern 'B4' was applied to an Image with no bands. See https://developers.google.com/earth-engine/guides/debugging#no-bands\n"
     ]
    },
    {
     "name": "stderr",
     "output_type": "stream",
     "text": [
      "\r",
      " 20%|████████████████▎                                                                  | 291/1482 [03:37<13:25,  1.48it/s]"
     ]
    },
    {
     "name": "stdout",
     "output_type": "stream",
     "text": [
      "EXCEPTION - Row 410 @ (-121.18735, 39.33303)\n",
      "Image.select: Band pattern 'B4' was applied to an Image with no bands. See https://developers.google.com/earth-engine/guides/debugging#no-bands\n"
     ]
    },
    {
     "name": "stderr",
     "output_type": "stream",
     "text": [
      "\r",
      " 20%|████████████████▎                                                                  | 292/1482 [03:38<13:11,  1.50it/s]"
     ]
    },
    {
     "name": "stdout",
     "output_type": "stream",
     "text": [
      "EXCEPTION - Row 359 @ (-121.7786799, 40.3506868)\n",
      "Image.select: Band pattern 'B4' was applied to an Image with no bands. See https://developers.google.com/earth-engine/guides/debugging#no-bands\n",
      "Image download: ../Data/exports/tc/2015-07-11-2015-08-08--117.2886249-33.4115972_tc.tif (512, 512)\n"
     ]
    },
    {
     "name": "stderr",
     "output_type": "stream",
     "text": [
      "\r",
      " 20%|████████████████▍                                                                  | 293/1482 [03:42<31:09,  1.57s/it]"
     ]
    },
    {
     "name": "stdout",
     "output_type": "stream",
     "text": [
      "Image download: ../Data/exports/ndvi/2015-07-11-2015-08-08--117.2886249-33.4115972_ndvi_bw.tif (512, 512)\n"
     ]
    },
    {
     "name": "stderr",
     "output_type": "stream",
     "text": [
      "\r",
      " 20%|████████████████▍                                                                  | 294/1482 [03:42<26:22,  1.33s/it]"
     ]
    },
    {
     "name": "stdout",
     "output_type": "stream",
     "text": [
      "EXCEPTION - Row 286 @ (-122.4867319, 38.8142503)\n",
      "Image.select: Band pattern 'B4' was applied to an Image with no bands. See https://developers.google.com/earth-engine/guides/debugging#no-bands\n"
     ]
    },
    {
     "name": "stderr",
     "output_type": "stream",
     "text": [
      "\r",
      " 20%|████████████████▌                                                                  | 295/1482 [03:43<22:19,  1.13s/it]"
     ]
    },
    {
     "name": "stdout",
     "output_type": "stream",
     "text": [
      "EXCEPTION - Row 287 @ (-122.4867319, 38.8142503)\n",
      "Image.select: Band pattern 'B4' was applied to an Image with no bands. See https://developers.google.com/earth-engine/guides/debugging#no-bands\n",
      "Image download: ../Data/exports/tc/2015-07-12-2015-08-09--116.5387-33.5736_tc.tif (512, 512)\n"
     ]
    },
    {
     "name": "stderr",
     "output_type": "stream",
     "text": [
      "\r",
      " 20%|████████████████▌                                                                  | 296/1482 [03:47<39:46,  2.01s/it]"
     ]
    },
    {
     "name": "stdout",
     "output_type": "stream",
     "text": [
      "Image download: ../Data/exports/ndvi/2015-07-12-2015-08-09--116.5387-33.5736_ndvi_bw.tif (512, 512)\n"
     ]
    },
    {
     "name": "stderr",
     "output_type": "stream",
     "text": [
      "\r",
      " 20%|████████████████▋                                                                  | 297/1482 [03:48<31:56,  1.62s/it]"
     ]
    },
    {
     "name": "stdout",
     "output_type": "stream",
     "text": [
      "EXCEPTION - Row 355 @ (-120.5577, 38.052)\n",
      "Image.select: Band pattern 'B4' was applied to an Image with no bands. See https://developers.google.com/earth-engine/guides/debugging#no-bands\n"
     ]
    },
    {
     "name": "stderr",
     "output_type": "stream",
     "text": [
      "\r",
      " 20%|████████████████▋                                                                  | 298/1482 [03:48<25:57,  1.32s/it]"
     ]
    },
    {
     "name": "stdout",
     "output_type": "stream",
     "text": [
      "EXCEPTION - Row 356 @ (-120.61691, 37.83618)\n",
      "Image.select: Band pattern 'B4' was applied to an Image with no bands. See https://developers.google.com/earth-engine/guides/debugging#no-bands\n"
     ]
    },
    {
     "name": "stderr",
     "output_type": "stream",
     "text": [
      "\r",
      " 20%|████████████████▋                                                                  | 299/1482 [03:49<21:53,  1.11s/it]"
     ]
    },
    {
     "name": "stdout",
     "output_type": "stream",
     "text": [
      "EXCEPTION - Row 299 @ (-120.6269, 35.3477)\n",
      "Image.select: Band pattern 'B4' was applied to an Image with no bands. See https://developers.google.com/earth-engine/guides/debugging#no-bands\n"
     ]
    },
    {
     "name": "stderr",
     "output_type": "stream",
     "text": [
      "\r",
      " 20%|████████████████▊                                                                  | 300/1482 [03:50<19:23,  1.02it/s]"
     ]
    },
    {
     "name": "stdout",
     "output_type": "stream",
     "text": [
      "EXCEPTION - Row 349 @ (-124.0720419, 40.1058823)\n",
      "Image.select: Band pattern 'B4' was applied to an Image with no bands. See https://developers.google.com/earth-engine/guides/debugging#no-bands\n"
     ]
    },
    {
     "name": "stderr",
     "output_type": "stream",
     "text": [
      "\r",
      " 20%|████████████████▊                                                                  | 301/1482 [03:51<18:07,  1.09it/s]"
     ]
    },
    {
     "name": "stdout",
     "output_type": "stream",
     "text": [
      "EXCEPTION - Row 298 @ (-121.3732, 37.3845)\n",
      "Image.select: Band pattern 'B4' was applied to an Image with no bands. See https://developers.google.com/earth-engine/guides/debugging#no-bands\n"
     ]
    },
    {
     "name": "stderr",
     "output_type": "stream",
     "text": [
      "\r",
      " 20%|████████████████▉                                                                  | 302/1482 [03:51<16:54,  1.16it/s]"
     ]
    },
    {
     "name": "stdout",
     "output_type": "stream",
     "text": [
      "EXCEPTION - Row 329 @ (-122.879272, 38.925764)\n",
      "Image.select: Band pattern 'B4' was applied to an Image with no bands. See https://developers.google.com/earth-engine/guides/debugging#no-bands\n",
      "Image download: ../Data/exports/tc/2015-07-25-2015-08-22--116.883-34.23_tc.tif (512, 512)\n"
     ]
    },
    {
     "name": "stderr",
     "output_type": "stream",
     "text": [
      "\r",
      " 20%|████████████████▉                                                                  | 303/1482 [03:57<44:45,  2.28s/it]"
     ]
    },
    {
     "name": "stdout",
     "output_type": "stream",
     "text": [
      "Image download: ../Data/exports/ndvi/2015-07-25-2015-08-22--116.883-34.23_ndvi_bw.tif (512, 512)\n"
     ]
    },
    {
     "name": "stderr",
     "output_type": "stream",
     "text": [
      "\r",
      " 21%|█████████████████                                                                  | 304/1482 [03:57<35:23,  1.80s/it]"
     ]
    },
    {
     "name": "stdout",
     "output_type": "stream",
     "text": [
      "EXCEPTION - Row 422 @ (-122.53428, 38.831478)\n",
      "Image.select: Band pattern 'B4' was applied to an Image with no bands. See https://developers.google.com/earth-engine/guides/debugging#no-bands\n"
     ]
    },
    {
     "name": "stderr",
     "output_type": "stream",
     "text": [
      "\r",
      " 21%|█████████████████                                                                  | 305/1482 [03:58<28:21,  1.45s/it]"
     ]
    },
    {
     "name": "stdout",
     "output_type": "stream",
     "text": [
      "EXCEPTION - Row 352 @ (-122.96174, 40.724898)\n",
      "Image.select: Band pattern 'B4' was applied to an Image with no bands. See https://developers.google.com/earth-engine/guides/debugging#no-bands\n"
     ]
    },
    {
     "name": "stderr",
     "output_type": "stream",
     "text": [
      "\r",
      " 21%|█████████████████▏                                                                 | 306/1482 [03:59<24:22,  1.24s/it]"
     ]
    },
    {
     "name": "stdout",
     "output_type": "stream",
     "text": [
      "EXCEPTION - Row 409 @ (-121.194256, 41.12362)\n",
      "Image.select: Band pattern 'B4' was applied to an Image with no bands. See https://developers.google.com/earth-engine/guides/debugging#no-bands\n"
     ]
    },
    {
     "name": "stderr",
     "output_type": "stream",
     "text": [
      "\r",
      " 21%|█████████████████▏                                                                 | 307/1482 [03:59<20:34,  1.05s/it]"
     ]
    },
    {
     "name": "stdout",
     "output_type": "stream",
     "text": [
      "EXCEPTION - Row 376 @ (-121.0, 26.42)\n",
      "Image.select: Band pattern 'B4' was applied to an Image with no bands. See https://developers.google.com/earth-engine/guides/debugging#no-bands\n"
     ]
    },
    {
     "name": "stderr",
     "output_type": "stream",
     "text": [
      "\r",
      " 21%|█████████████████▏                                                                 | 308/1482 [04:00<18:45,  1.04it/s]"
     ]
    },
    {
     "name": "stdout",
     "output_type": "stream",
     "text": [
      "EXCEPTION - Row 311 @ (-122.0, 55.23)\n",
      "Image.select: Band pattern 'B4' was applied to an Image with no bands. See https://developers.google.com/earth-engine/guides/debugging#no-bands\n"
     ]
    },
    {
     "name": "stderr",
     "output_type": "stream",
     "text": [
      "\r",
      " 21%|█████████████████▎                                                                 | 309/1482 [04:01<17:52,  1.09it/s]"
     ]
    },
    {
     "name": "stdout",
     "output_type": "stream",
     "text": [
      "EXCEPTION - Row 362 @ (-120.30188, 38.04684)\n",
      "Image.select: Band pattern 'B4' was applied to an Image with no bands. See https://developers.google.com/earth-engine/guides/debugging#no-bands\n",
      "Image download: ../Data/exports/tc/2015-08-10-2015-09-07-41.46-40.0_tc.tif (512, 512)\n"
     ]
    },
    {
     "name": "stderr",
     "output_type": "stream",
     "text": [
      "\r",
      " 21%|█████████████████▎                                                                 | 310/1482 [04:08<50:24,  2.58s/it]"
     ]
    },
    {
     "name": "stdout",
     "output_type": "stream",
     "text": [
      "Image download: ../Data/exports/ndvi/2015-08-10-2015-09-07-41.46-40.0_ndvi_bw.tif (512, 512)\n"
     ]
    },
    {
     "name": "stderr",
     "output_type": "stream",
     "text": [
      "\r",
      " 21%|█████████████████▍                                                                 | 311/1482 [04:08<39:27,  2.02s/it]"
     ]
    },
    {
     "name": "stdout",
     "output_type": "stream",
     "text": [
      "EXCEPTION - Row 400 @ (-120.553075, 40.400196)\n",
      "Image.select: Band pattern 'B4' was applied to an Image with no bands. See https://developers.google.com/earth-engine/guides/debugging#no-bands\n"
     ]
    },
    {
     "name": "stderr",
     "output_type": "stream",
     "text": [
      "\r",
      " 21%|█████████████████▍                                                                 | 312/1482 [04:09<31:47,  1.63s/it]"
     ]
    },
    {
     "name": "stdout",
     "output_type": "stream",
     "text": [
      "EXCEPTION - Row 340 @ (-120.553075, 40.400196)\n",
      "Image.select: Band pattern 'B4' was applied to an Image with no bands. See https://developers.google.com/earth-engine/guides/debugging#no-bands\n"
     ]
    },
    {
     "name": "stderr",
     "output_type": "stream",
     "text": [
      "\r",
      " 21%|█████████████████▌                                                                 | 313/1482 [04:10<27:34,  1.42s/it]"
     ]
    },
    {
     "name": "stdout",
     "output_type": "stream",
     "text": [
      "EXCEPTION - Row 308 @ (-121.3363, 39.5218)\n",
      "Image.select: Band pattern 'B4' was applied to an Image with no bands. See https://developers.google.com/earth-engine/guides/debugging#no-bands\n"
     ]
    },
    {
     "name": "stderr",
     "output_type": "stream",
     "text": [
      "\r",
      " 21%|█████████████████▌                                                                 | 314/1482 [04:11<24:03,  1.24s/it]"
     ]
    },
    {
     "name": "stdout",
     "output_type": "stream",
     "text": [
      "EXCEPTION - Row 361 @ (-122.52541, 40.47512)\n",
      "Image.select: Band pattern 'B4' was applied to an Image with no bands. See https://developers.google.com/earth-engine/guides/debugging#no-bands\n"
     ]
    },
    {
     "name": "stderr",
     "output_type": "stream",
     "text": [
      "\r",
      " 21%|█████████████████▋                                                                 | 315/1482 [04:11<21:00,  1.08s/it]"
     ]
    },
    {
     "name": "stdout",
     "output_type": "stream",
     "text": [
      "EXCEPTION - Row 306 @ (-121.589554, 36.3699644)\n",
      "Image.select: Band pattern 'B4' was applied to an Image with no bands. See https://developers.google.com/earth-engine/guides/debugging#no-bands\n"
     ]
    },
    {
     "name": "stderr",
     "output_type": "stream",
     "text": [
      "\r",
      " 21%|█████████████████▋                                                                 | 316/1482 [04:12<18:45,  1.04it/s]"
     ]
    },
    {
     "name": "stdout",
     "output_type": "stream",
     "text": [
      "EXCEPTION - Row 365 @ (-121.7556029, 36.5696373)\n",
      "Image.select: Band pattern 'B4' was applied to an Image with no bands. See https://developers.google.com/earth-engine/guides/debugging#no-bands\n"
     ]
    },
    {
     "name": "stderr",
     "output_type": "stream",
     "text": [
      "\r",
      " 21%|█████████████████▊                                                                 | 317/1482 [04:13<16:57,  1.14it/s]"
     ]
    },
    {
     "name": "stdout",
     "output_type": "stream",
     "text": [
      "EXCEPTION - Row 408 @ (-121.194, 39.081)\n",
      "Image.select: Band pattern 'B4' was applied to an Image with no bands. See https://developers.google.com/earth-engine/guides/debugging#no-bands\n"
     ]
    },
    {
     "name": "stderr",
     "output_type": "stream",
     "text": [
      "\r",
      " 21%|█████████████████▊                                                                 | 318/1482 [04:14<16:28,  1.18it/s]"
     ]
    },
    {
     "name": "stdout",
     "output_type": "stream",
     "text": [
      "EXCEPTION - Row 363 @ (-121.8938, 39.8707)\n",
      "Image.select: Band pattern 'B4' was applied to an Image with no bands. See https://developers.google.com/earth-engine/guides/debugging#no-bands\n",
      "Image download: ../Data/exports/tc/2015-09-13-2015-10-11--121.32734-36.70854_tc.tif (512, 512)\n"
     ]
    },
    {
     "name": "stderr",
     "output_type": "stream",
     "text": [
      "\r",
      " 22%|█████████████████▊                                                                 | 319/1482 [04:18<37:45,  1.95s/it]"
     ]
    },
    {
     "name": "stdout",
     "output_type": "stream",
     "text": [
      "Image download: ../Data/exports/ndvi/2015-09-13-2015-10-11--121.32734-36.70854_ndvi_bw.tif (512, 512)\n",
      "Image download: ../Data/exports/tc/2015-09-30-2015-10-28--119.63216-34.4828_tc.tif (512, 512)\n"
     ]
    },
    {
     "name": "stderr",
     "output_type": "stream",
     "text": [
      "\r",
      " 22%|█████████████████▉                                                                 | 320/1482 [04:22<50:47,  2.62s/it]"
     ]
    },
    {
     "name": "stdout",
     "output_type": "stream",
     "text": [
      "Image download: ../Data/exports/ndvi/2015-09-30-2015-10-28--119.63216-34.4828_ndvi_bw.tif (512, 512)\n",
      "Image download: ../Data/exports/tc/2015-10-09-2015-11-06--118.879444-34.15_tc.tif (512, 512)\n"
     ]
    },
    {
     "name": "stderr",
     "output_type": "stream",
     "text": [
      "\r",
      " 22%|█████████████████▌                                                               | 321/1482 [04:27<1:00:36,  3.13s/it]"
     ]
    },
    {
     "name": "stdout",
     "output_type": "stream",
     "text": [
      "Image download: ../Data/exports/ndvi/2015-10-09-2015-11-06--118.879444-34.15_ndvi_bw.tif (512, 512)\n",
      "Image download: ../Data/exports/tc/2016-03-21-2016-04-18--118.7892593-34.6888731_tc.tif (512, 512)\n"
     ]
    },
    {
     "name": "stderr",
     "output_type": "stream",
     "text": [
      "\r",
      " 22%|█████████████████▌                                                               | 322/1482 [04:31<1:07:11,  3.48s/it]"
     ]
    },
    {
     "name": "stdout",
     "output_type": "stream",
     "text": [
      "Image download: ../Data/exports/ndvi/2016-03-21-2016-04-18--118.7892593-34.6888731_ndvi_bw.tif (512, 512)\n",
      "Image download: ../Data/exports/tc/2016-03-26-2016-04-23--121.08036-37.2171_tc.tif (512, 512)\n"
     ]
    },
    {
     "name": "stderr",
     "output_type": "stream",
     "text": [
      "\r",
      " 22%|█████████████████▋                                                               | 323/1482 [04:35<1:13:34,  3.81s/it]"
     ]
    },
    {
     "name": "stdout",
     "output_type": "stream",
     "text": [
      "Image download: ../Data/exports/ndvi/2016-03-26-2016-04-23--121.08036-37.2171_ndvi_bw.tif (512, 512)\n",
      "Image download: ../Data/exports/tc/2016-04-11-2016-05-09--120.39993-35.61961_tc.tif (512, 512)\n"
     ]
    },
    {
     "name": "stderr",
     "output_type": "stream",
     "text": [
      "\r",
      " 22%|█████████████████▋                                                               | 324/1482 [04:39<1:13:52,  3.83s/it]"
     ]
    },
    {
     "name": "stdout",
     "output_type": "stream",
     "text": [
      "Image download: ../Data/exports/ndvi/2016-04-11-2016-05-09--120.39993-35.61961_ndvi_bw.tif (512, 512)\n"
     ]
    },
    {
     "name": "stderr",
     "output_type": "stream",
     "text": [
      "\r",
      " 22%|██████████████████▏                                                                | 325/1482 [04:40<56:03,  2.91s/it]"
     ]
    },
    {
     "name": "stdout",
     "output_type": "stream",
     "text": [
      "EXCEPTION - Row 597 @ (-121.0381507, 35.8378273)\n",
      "Image.select: Band pattern 'B4' was applied to an Image with no bands. See https://developers.google.com/earth-engine/guides/debugging#no-bands\n"
     ]
    },
    {
     "name": "stderr",
     "output_type": "stream",
     "text": [
      "\r",
      " 22%|██████████████████▎                                                                | 326/1482 [04:41<44:31,  2.31s/it]"
     ]
    },
    {
     "name": "stdout",
     "output_type": "stream",
     "text": [
      "EXCEPTION - Row 514 @ (-119.38248, 36.78769)\n",
      "Image.select: Band pattern 'B4' was applied to an Image with no bands. See https://developers.google.com/earth-engine/guides/debugging#no-bands\n",
      "Image download: ../Data/exports/tc/2016-04-18-2016-05-16--121.3090268-38.8390117_tc.tif (512, 512)\n"
     ]
    },
    {
     "name": "stderr",
     "output_type": "stream",
     "text": [
      "\r",
      " 22%|██████████████████▎                                                                | 327/1482 [04:45<56:24,  2.93s/it]"
     ]
    },
    {
     "name": "stdout",
     "output_type": "stream",
     "text": [
      "Image download: ../Data/exports/ndvi/2016-04-18-2016-05-16--121.3090268-38.8390117_ndvi_bw.tif (512, 512)\n",
      "Image download: ../Data/exports/tc/2016-04-23-2016-05-21--121.20059-36.38123_tc.tif (512, 512)\n"
     ]
    },
    {
     "name": "stderr",
     "output_type": "stream",
     "text": [
      "\r",
      " 22%|█████████████████▉                                                               | 328/1482 [04:50<1:05:20,  3.40s/it]"
     ]
    },
    {
     "name": "stdout",
     "output_type": "stream",
     "text": [
      "Image download: ../Data/exports/ndvi/2016-04-23-2016-05-21--121.20059-36.38123_ndvi_bw.tif (512, 512)\n",
      "Image download: ../Data/exports/tc/2016-04-24-2016-05-22--118.354-34.276_tc.tif (512, 512)\n"
     ]
    },
    {
     "name": "stderr",
     "output_type": "stream",
     "text": [
      "\r",
      " 22%|█████████████████▉                                                               | 329/1482 [04:54<1:11:47,  3.74s/it]"
     ]
    },
    {
     "name": "stdout",
     "output_type": "stream",
     "text": [
      "Image download: ../Data/exports/ndvi/2016-04-24-2016-05-22--118.354-34.276_ndvi_bw.tif (512, 512)\n",
      "Image download: ../Data/exports/tc/2016-04-26-2016-05-24--119.654-36.88286_tc.tif (512, 512)\n"
     ]
    },
    {
     "name": "stderr",
     "output_type": "stream",
     "text": [
      "\r",
      " 22%|██████████████████                                                               | 330/1482 [05:00<1:21:38,  4.25s/it]"
     ]
    },
    {
     "name": "stdout",
     "output_type": "stream",
     "text": [
      "Image download: ../Data/exports/ndvi/2016-04-26-2016-05-24--119.654-36.88286_ndvi_bw.tif (512, 512)\n",
      "Image download: ../Data/exports/tc/2016-04-28-2016-05-26--121.78973-39.33035_tc.tif (512, 512)\n"
     ]
    },
    {
     "name": "stderr",
     "output_type": "stream",
     "text": [
      "\r",
      " 22%|██████████████████                                                               | 331/1482 [05:06<1:32:12,  4.81s/it]"
     ]
    },
    {
     "name": "stdout",
     "output_type": "stream",
     "text": [
      "Image download: ../Data/exports/ndvi/2016-04-28-2016-05-26--121.78973-39.33035_ndvi_bw.tif (512, 512)\n",
      "Image download: ../Data/exports/tc/2016-04-30-2016-05-28--121.595093-39.624017_tc.tif (512, 512)\n"
     ]
    },
    {
     "name": "stderr",
     "output_type": "stream",
     "text": [
      "\r",
      " 22%|██████████████████▏                                                              | 332/1482 [05:10<1:26:18,  4.50s/it]"
     ]
    },
    {
     "name": "stdout",
     "output_type": "stream",
     "text": [
      "Image download: ../Data/exports/ndvi/2016-04-30-2016-05-28--121.595093-39.624017_ndvi_bw.tif (512, 512)\n",
      "Image download: ../Data/exports/tc/2016-05-01-2016-05-29--120.528836-37.927613_tc.tif (512, 512)\n"
     ]
    },
    {
     "name": "stderr",
     "output_type": "stream",
     "text": [
      "\r",
      " 22%|██████████████████▏                                                              | 333/1482 [05:15<1:29:03,  4.65s/it]"
     ]
    },
    {
     "name": "stdout",
     "output_type": "stream",
     "text": [
      "Image download: ../Data/exports/ndvi/2016-05-01-2016-05-29--120.528836-37.927613_ndvi_bw.tif (512, 512)\n",
      "Image download: ../Data/exports/tc/2016-05-02-2016-05-30--117.08829-33.41639_tc.tif (512, 512)\n"
     ]
    },
    {
     "name": "stderr",
     "output_type": "stream",
     "text": [
      "\r",
      " 23%|██████████████████▎                                                              | 334/1482 [05:18<1:23:52,  4.38s/it]"
     ]
    },
    {
     "name": "stdout",
     "output_type": "stream",
     "text": [
      "Image download: ../Data/exports/ndvi/2016-05-02-2016-05-30--117.08829-33.41639_ndvi_bw.tif (512, 512)\n",
      "Image download: ../Data/exports/tc/2016-05-03-2016-05-31--118.08591-35.84883_tc.tif (512, 512)\n"
     ]
    },
    {
     "name": "stderr",
     "output_type": "stream",
     "text": [
      "\r",
      " 23%|██████████████████▎                                                              | 335/1482 [05:23<1:27:00,  4.55s/it]"
     ]
    },
    {
     "name": "stdout",
     "output_type": "stream",
     "text": [
      "Image download: ../Data/exports/ndvi/2016-05-03-2016-05-31--118.08591-35.84883_ndvi_bw.tif (512, 512)\n",
      "Image download: ../Data/exports/tc/2016-05-05-2016-06-02--120.6955-38.64107_tc.tif (512, 512)\n"
     ]
    },
    {
     "name": "stderr",
     "output_type": "stream",
     "text": [
      "\r",
      " 23%|██████████████████▎                                                              | 336/1482 [05:28<1:28:33,  4.64s/it]"
     ]
    },
    {
     "name": "stdout",
     "output_type": "stream",
     "text": [
      "Image download: ../Data/exports/ndvi/2016-05-05-2016-06-02--120.6955-38.64107_ndvi_bw.tif (512, 512)\n",
      "Image download: ../Data/exports/tc/2016-05-05-2016-06-02--121.06452-38.3131_tc.tif (512, 512)\n"
     ]
    },
    {
     "name": "stderr",
     "output_type": "stream",
     "text": [
      "\r",
      " 23%|██████████████████▍                                                              | 337/1482 [05:32<1:25:32,  4.48s/it]"
     ]
    },
    {
     "name": "stdout",
     "output_type": "stream",
     "text": [
      "Image download: ../Data/exports/ndvi/2016-05-05-2016-06-02--121.06452-38.3131_ndvi_bw.tif (512, 512)\n",
      "Image download: ../Data/exports/tc/2016-05-05-2016-06-02--121.40304-36.80296_tc.tif (512, 512)\n"
     ]
    },
    {
     "name": "stderr",
     "output_type": "stream",
     "text": [
      "\r",
      " 23%|██████████████████▍                                                              | 338/1482 [05:36<1:22:24,  4.32s/it]"
     ]
    },
    {
     "name": "stdout",
     "output_type": "stream",
     "text": [
      "Image download: ../Data/exports/ndvi/2016-05-05-2016-06-02--121.40304-36.80296_ndvi_bw.tif (512, 512)\n",
      "Image download: ../Data/exports/tc/2016-05-06-2016-06-03--117.140883-33.476894_tc.tif (512, 512)\n"
     ]
    },
    {
     "name": "stderr",
     "output_type": "stream",
     "text": [
      "\r",
      " 23%|██████████████████▌                                                              | 339/1482 [05:40<1:18:59,  4.15s/it]"
     ]
    },
    {
     "name": "stdout",
     "output_type": "stream",
     "text": [
      "Image download: ../Data/exports/ndvi/2016-05-06-2016-06-03--117.140883-33.476894_ndvi_bw.tif (512, 512)\n",
      "Image download: ../Data/exports/tc/2016-05-06-2016-06-03--121.25029-36.01542_tc.tif (512, 512)\n"
     ]
    },
    {
     "name": "stderr",
     "output_type": "stream",
     "text": [
      "\r",
      " 23%|██████████████████▌                                                              | 340/1482 [05:44<1:18:40,  4.13s/it]"
     ]
    },
    {
     "name": "stdout",
     "output_type": "stream",
     "text": [
      "Image download: ../Data/exports/ndvi/2016-05-06-2016-06-03--121.25029-36.01542_ndvi_bw.tif (512, 512)\n",
      "Image download: ../Data/exports/tc/2016-05-06-2016-06-03--119.58206-35.01382_tc.tif (512, 512)\n"
     ]
    },
    {
     "name": "stderr",
     "output_type": "stream",
     "text": [
      "\r",
      " 23%|██████████████████▋                                                              | 341/1482 [05:49<1:20:03,  4.21s/it]"
     ]
    },
    {
     "name": "stdout",
     "output_type": "stream",
     "text": [
      "Image download: ../Data/exports/ndvi/2016-05-06-2016-06-03--119.58206-35.01382_ndvi_bw.tif (512, 512)\n",
      "Image download: ../Data/exports/tc/2016-05-09-2016-06-06--123.557-41.623_tc.tif (512, 512)\n"
     ]
    },
    {
     "name": "stderr",
     "output_type": "stream",
     "text": [
      "\r",
      " 23%|██████████████████▋                                                              | 342/1482 [05:53<1:19:56,  4.21s/it]"
     ]
    },
    {
     "name": "stdout",
     "output_type": "stream",
     "text": [
      "Image download: ../Data/exports/ndvi/2016-05-09-2016-06-06--123.557-41.623_ndvi_bw.tif (512, 512)\n",
      "Image download: ../Data/exports/tc/2016-05-09-2016-06-06--121.42238-37.17072_tc.tif (512, 512)\n"
     ]
    },
    {
     "name": "stderr",
     "output_type": "stream",
     "text": [
      "\r",
      " 23%|██████████████████▋                                                              | 343/1482 [05:57<1:21:24,  4.29s/it]"
     ]
    },
    {
     "name": "stdout",
     "output_type": "stream",
     "text": [
      "Image download: ../Data/exports/ndvi/2016-05-09-2016-06-06--121.42238-37.17072_ndvi_bw.tif (512, 512)\n",
      "Image download: ../Data/exports/tc/2016-05-13-2016-06-10--121.857-39.7947_tc.tif (512, 512)\n"
     ]
    },
    {
     "name": "stderr",
     "output_type": "stream",
     "text": [
      "\r",
      " 23%|██████████████████▊                                                              | 344/1482 [06:01<1:20:57,  4.27s/it]"
     ]
    },
    {
     "name": "stdout",
     "output_type": "stream",
     "text": [
      "Image download: ../Data/exports/ndvi/2016-05-13-2016-06-10--121.857-39.7947_ndvi_bw.tif (512, 512)\n",
      "Image download: ../Data/exports/tc/2016-05-13-2016-06-10--120.251-35.77135_tc.tif (512, 512)\n"
     ]
    },
    {
     "name": "stderr",
     "output_type": "stream",
     "text": [
      "\r",
      " 23%|██████████████████▊                                                              | 345/1482 [06:07<1:27:07,  4.60s/it]"
     ]
    },
    {
     "name": "stdout",
     "output_type": "stream",
     "text": [
      "Image download: ../Data/exports/ndvi/2016-05-13-2016-06-10--120.251-35.77135_ndvi_bw.tif (512, 512)\n",
      "Image download: ../Data/exports/tc/2016-05-13-2016-06-10--122.46777-40.61388_tc.tif (512, 512)\n"
     ]
    },
    {
     "name": "stderr",
     "output_type": "stream",
     "text": [
      "\r",
      " 23%|██████████████████▉                                                              | 346/1482 [06:12<1:32:36,  4.89s/it]"
     ]
    },
    {
     "name": "stdout",
     "output_type": "stream",
     "text": [
      "Image download: ../Data/exports/ndvi/2016-05-13-2016-06-10--122.46777-40.61388_ndvi_bw.tif (512, 512)\n",
      "Image download: ../Data/exports/tc/2016-05-14-2016-06-11--121.04993-36.49914_tc.tif (512, 512)\n"
     ]
    },
    {
     "name": "stderr",
     "output_type": "stream",
     "text": [
      "\r",
      " 23%|██████████████████▉                                                              | 347/1482 [06:17<1:31:04,  4.81s/it]"
     ]
    },
    {
     "name": "stdout",
     "output_type": "stream",
     "text": [
      "Image download: ../Data/exports/ndvi/2016-05-14-2016-06-11--121.04993-36.49914_ndvi_bw.tif (512, 512)\n",
      "Image download: ../Data/exports/tc/2016-05-17-2016-06-14--119.643-34.776_tc.tif (512, 512)\n"
     ]
    },
    {
     "name": "stderr",
     "output_type": "stream",
     "text": [
      "\r",
      " 23%|███████████████████                                                              | 348/1482 [06:22<1:29:29,  4.73s/it]"
     ]
    },
    {
     "name": "stdout",
     "output_type": "stream",
     "text": [
      "Image download: ../Data/exports/ndvi/2016-05-17-2016-06-14--119.643-34.776_ndvi_bw.tif (512, 512)\n",
      "Image download: ../Data/exports/tc/2016-05-19-2016-06-16--120.90265-38.26874_tc.tif (512, 512)\n"
     ]
    },
    {
     "name": "stderr",
     "output_type": "stream",
     "text": [
      "\r",
      " 24%|███████████████████                                                              | 349/1482 [06:25<1:20:43,  4.27s/it]"
     ]
    },
    {
     "name": "stdout",
     "output_type": "stream",
     "text": [
      "Image download: ../Data/exports/ndvi/2016-05-19-2016-06-16--120.90265-38.26874_ndvi_bw.tif (512, 512)\n",
      "Image download: ../Data/exports/tc/2016-05-20-2016-06-17--121.3306-36.2833_tc.tif (512, 512)\n"
     ]
    },
    {
     "name": "stderr",
     "output_type": "stream",
     "text": [
      "\r",
      " 24%|███████████████████▏                                                             | 350/1482 [06:29<1:19:12,  4.20s/it]"
     ]
    },
    {
     "name": "stdout",
     "output_type": "stream",
     "text": [
      "Image download: ../Data/exports/ndvi/2016-05-20-2016-06-17--121.3306-36.2833_ndvi_bw.tif (512, 512)\n",
      "Image download: ../Data/exports/tc/2016-05-21-2016-06-18--116.63028-32.60729_tc.tif (512, 512)\n"
     ]
    },
    {
     "name": "stderr",
     "output_type": "stream",
     "text": [
      "\r",
      " 24%|███████████████████▏                                                             | 351/1482 [06:34<1:24:22,  4.48s/it]"
     ]
    },
    {
     "name": "stdout",
     "output_type": "stream",
     "text": [
      "Image download: ../Data/exports/ndvi/2016-05-21-2016-06-18--116.63028-32.60729_ndvi_bw.tif (512, 512)\n"
     ]
    },
    {
     "name": "stderr",
     "output_type": "stream",
     "text": [
      "\r",
      " 24%|███████████████████▏                                                             | 352/1482 [06:35<1:03:05,  3.35s/it]"
     ]
    },
    {
     "name": "stdout",
     "output_type": "stream",
     "text": [
      "EXCEPTION - Row 520 @ (-121.6008, 39.595)\n",
      "Image.select: Band pattern 'B4' was applied to an Image with no bands. See https://developers.google.com/earth-engine/guides/debugging#no-bands\n",
      "Image download: ../Data/exports/tc/2016-05-23-2016-06-20--122.40142-39.93965_tc.tif (512, 512)\n"
     ]
    },
    {
     "name": "stderr",
     "output_type": "stream",
     "text": [
      "\r",
      " 24%|███████████████████▎                                                             | 353/1482 [06:39<1:08:23,  3.63s/it]"
     ]
    },
    {
     "name": "stdout",
     "output_type": "stream",
     "text": [
      "Image download: ../Data/exports/ndvi/2016-05-23-2016-06-20--122.40142-39.93965_ndvi_bw.tif (512, 512)\n"
     ]
    },
    {
     "name": "stderr",
     "output_type": "stream",
     "text": [
      "\r",
      " 24%|███████████████████▊                                                               | 354/1482 [06:40<51:51,  2.76s/it]"
     ]
    },
    {
     "name": "stdout",
     "output_type": "stream",
     "text": [
      "EXCEPTION - Row 532 @ (-121.37704, 38.86804)\n",
      "Image.select: Band pattern 'B4' was applied to an Image with no bands. See https://developers.google.com/earth-engine/guides/debugging#no-bands\n"
     ]
    },
    {
     "name": "stderr",
     "output_type": "stream",
     "text": [
      "\r",
      " 24%|███████████████████▉                                                               | 355/1482 [06:40<40:33,  2.16s/it]"
     ]
    },
    {
     "name": "stdout",
     "output_type": "stream",
     "text": [
      "EXCEPTION - Row 559 @ (-121.6051, 39.43351)\n",
      "Image.select: Band pattern 'B4' was applied to an Image with no bands. See https://developers.google.com/earth-engine/guides/debugging#no-bands\n",
      "Image download: ../Data/exports/tc/2016-05-25-2016-06-22--118.45628-35.6115_tc.tif (512, 512)\n"
     ]
    },
    {
     "name": "stderr",
     "output_type": "stream",
     "text": [
      "\r",
      " 24%|███████████████████▉                                                               | 356/1482 [06:45<55:10,  2.94s/it]"
     ]
    },
    {
     "name": "stdout",
     "output_type": "stream",
     "text": [
      "Image download: ../Data/exports/ndvi/2016-05-25-2016-06-22--118.45628-35.6115_ndvi_bw.tif (512, 512)\n"
     ]
    },
    {
     "name": "stderr",
     "output_type": "stream",
     "text": [
      "\r",
      " 24%|███████████████████▉                                                               | 357/1482 [06:46<43:08,  2.30s/it]"
     ]
    },
    {
     "name": "stdout",
     "output_type": "stream",
     "text": [
      "EXCEPTION - Row 554 @ (-120.9293, 36.1934)\n",
      "Image.select: Band pattern 'B4' was applied to an Image with no bands. See https://developers.google.com/earth-engine/guides/debugging#no-bands\n"
     ]
    },
    {
     "name": "stderr",
     "output_type": "stream",
     "text": [
      "\r",
      " 24%|████████████████████                                                               | 358/1482 [06:47<34:12,  1.83s/it]"
     ]
    },
    {
     "name": "stdout",
     "output_type": "stream",
     "text": [
      "EXCEPTION - Row 472 @ (-119.14, 37.97)\n",
      "Image.select: Band pattern 'B4' was applied to an Image with no bands. See https://developers.google.com/earth-engine/guides/debugging#no-bands\n",
      "Image download: ../Data/exports/tc/2016-05-27-2016-06-24--121.58677-37.74369_tc.tif (512, 512)\n"
     ]
    },
    {
     "name": "stderr",
     "output_type": "stream",
     "text": [
      "\r",
      " 24%|████████████████████                                                               | 359/1482 [06:51<50:06,  2.68s/it]"
     ]
    },
    {
     "name": "stdout",
     "output_type": "stream",
     "text": [
      "Image download: ../Data/exports/ndvi/2016-05-27-2016-06-24--121.58677-37.74369_ndvi_bw.tif (512, 512)\n",
      "Image download: ../Data/exports/tc/2016-05-27-2016-06-24--121.20155-37.07147_tc.tif (512, 512)\n"
     ]
    },
    {
     "name": "stderr",
     "output_type": "stream",
     "text": [
      "\r",
      " 24%|███████████████████▋                                                             | 360/1482 [06:56<1:01:32,  3.29s/it]"
     ]
    },
    {
     "name": "stdout",
     "output_type": "stream",
     "text": [
      "Image download: ../Data/exports/ndvi/2016-05-27-2016-06-24--121.20155-37.07147_ndvi_bw.tif (512, 512)\n",
      "Image download: ../Data/exports/tc/2016-05-28-2016-06-25--117.77395-33.57872_tc.tif (512, 512)\n"
     ]
    },
    {
     "name": "stderr",
     "output_type": "stream",
     "text": [
      "\r",
      " 24%|███████████████████▋                                                             | 361/1482 [07:00<1:04:24,  3.45s/it]"
     ]
    },
    {
     "name": "stdout",
     "output_type": "stream",
     "text": [
      "Image download: ../Data/exports/ndvi/2016-05-28-2016-06-25--117.77395-33.57872_ndvi_bw.tif (512, 512)\n",
      "Image download: ../Data/exports/tc/2016-05-28-2016-06-25--122.15457-38.69971_tc.tif (512, 512)\n"
     ]
    },
    {
     "name": "stderr",
     "output_type": "stream",
     "text": [
      "\r",
      " 24%|███████████████████▊                                                             | 362/1482 [07:04<1:05:35,  3.51s/it]"
     ]
    },
    {
     "name": "stdout",
     "output_type": "stream",
     "text": [
      "Image download: ../Data/exports/ndvi/2016-05-28-2016-06-25--122.15457-38.69971_ndvi_bw.tif (512, 512)\n",
      "Image download: ../Data/exports/tc/2016-05-28-2016-06-25--122.50373-39.12366_tc.tif (512, 512)\n"
     ]
    },
    {
     "name": "stderr",
     "output_type": "stream",
     "text": [
      "\r",
      " 24%|███████████████████▊                                                             | 363/1482 [07:08<1:08:30,  3.67s/it]"
     ]
    },
    {
     "name": "stdout",
     "output_type": "stream",
     "text": [
      "Image download: ../Data/exports/ndvi/2016-05-28-2016-06-25--122.50373-39.12366_ndvi_bw.tif (512, 512)\n",
      "Image download: ../Data/exports/tc/2016-05-29-2016-06-26--120.82266-35.70821_tc.tif (512, 512)\n"
     ]
    },
    {
     "name": "stderr",
     "output_type": "stream",
     "text": [
      "\r",
      " 25%|███████████████████▉                                                             | 364/1482 [07:12<1:14:20,  3.99s/it]"
     ]
    },
    {
     "name": "stdout",
     "output_type": "stream",
     "text": [
      "Image download: ../Data/exports/ndvi/2016-05-29-2016-06-26--120.82266-35.70821_ndvi_bw.tif (512, 512)\n",
      "Image download: ../Data/exports/tc/2016-05-29-2016-06-26--120.8678-38.22017_tc.tif (512, 512)\n"
     ]
    },
    {
     "name": "stderr",
     "output_type": "stream",
     "text": [
      "\r",
      " 25%|███████████████████▉                                                             | 365/1482 [07:17<1:17:25,  4.16s/it]"
     ]
    },
    {
     "name": "stdout",
     "output_type": "stream",
     "text": [
      "Image download: ../Data/exports/ndvi/2016-05-29-2016-06-26--120.8678-38.22017_ndvi_bw.tif (512, 512)\n",
      "Image download: ../Data/exports/tc/2016-05-30-2016-06-27--120.9375-38.96741_tc.tif (512, 512)\n"
     ]
    },
    {
     "name": "stderr",
     "output_type": "stream",
     "text": [
      "\r",
      " 25%|████████████████████                                                             | 366/1482 [07:21<1:16:07,  4.09s/it]"
     ]
    },
    {
     "name": "stdout",
     "output_type": "stream",
     "text": [
      "Image download: ../Data/exports/ndvi/2016-05-30-2016-06-27--120.9375-38.96741_ndvi_bw.tif (512, 512)\n",
      "Image download: ../Data/exports/tc/2016-05-30-2016-06-27--120.9375-38.96741_tc.tif (512, 512)\n"
     ]
    },
    {
     "name": "stderr",
     "output_type": "stream",
     "text": [
      "\r",
      " 25%|████████████████████                                                             | 367/1482 [07:25<1:13:49,  3.97s/it]"
     ]
    },
    {
     "name": "stdout",
     "output_type": "stream",
     "text": [
      "Image download: ../Data/exports/ndvi/2016-05-30-2016-06-27--120.9375-38.96741_ndvi_bw.tif (512, 512)\n",
      "Image download: ../Data/exports/tc/2016-05-30-2016-06-27--121.003611-38.385_tc.tif (512, 512)\n"
     ]
    },
    {
     "name": "stderr",
     "output_type": "stream",
     "text": [
      "\r",
      " 25%|████████████████████                                                             | 368/1482 [07:29<1:15:29,  4.07s/it]"
     ]
    },
    {
     "name": "stdout",
     "output_type": "stream",
     "text": [
      "Image download: ../Data/exports/ndvi/2016-05-30-2016-06-27--121.003611-38.385_ndvi_bw.tif (512, 512)\n",
      "Image download: ../Data/exports/tc/2016-06-01-2016-06-29--122.56939-40.0353_tc.tif (512, 512)\n"
     ]
    },
    {
     "name": "stderr",
     "output_type": "stream",
     "text": [
      "\r",
      " 25%|████████████████████▏                                                            | 369/1482 [07:33<1:17:57,  4.20s/it]"
     ]
    },
    {
     "name": "stdout",
     "output_type": "stream",
     "text": [
      "Image download: ../Data/exports/ndvi/2016-06-01-2016-06-29--122.56939-40.0353_ndvi_bw.tif (512, 512)\n",
      "Image download: ../Data/exports/tc/2016-06-01-2016-06-29--119.144-34.701_tc.tif (512, 512)\n"
     ]
    },
    {
     "name": "stderr",
     "output_type": "stream",
     "text": [
      "\r",
      " 25%|████████████████████▏                                                            | 370/1482 [07:39<1:25:49,  4.63s/it]"
     ]
    },
    {
     "name": "stdout",
     "output_type": "stream",
     "text": [
      "Image download: ../Data/exports/ndvi/2016-06-01-2016-06-29--119.144-34.701_ndvi_bw.tif (512, 512)\n"
     ]
    },
    {
     "name": "stderr",
     "output_type": "stream",
     "text": [
      "\r",
      " 25%|████████████████████▎                                                            | 371/1482 [07:40<1:04:09,  3.47s/it]"
     ]
    },
    {
     "name": "stdout",
     "output_type": "stream",
     "text": [
      "EXCEPTION - Row 584 @ (-118.15589, 36.58972)\n",
      "Image.select: Band pattern 'B4' was applied to an Image with no bands. See https://developers.google.com/earth-engine/guides/debugging#no-bands\n",
      "Image download: ../Data/exports/tc/2016-06-02-2016-06-30--122.2071-40.07846_tc.tif (512, 512)\n"
     ]
    },
    {
     "name": "stderr",
     "output_type": "stream",
     "text": [
      "\r",
      " 25%|████████████████████▎                                                            | 372/1482 [07:44<1:09:18,  3.75s/it]"
     ]
    },
    {
     "name": "stdout",
     "output_type": "stream",
     "text": [
      "Image download: ../Data/exports/ndvi/2016-06-02-2016-06-30--122.2071-40.07846_ndvi_bw.tif (512, 512)\n",
      "Image download: ../Data/exports/tc/2016-06-02-2016-06-30--118.63264-34.27619_tc.tif (512, 512)\n"
     ]
    },
    {
     "name": "stderr",
     "output_type": "stream",
     "text": [
      "\r",
      " 25%|████████████████████▍                                                            | 373/1482 [07:48<1:11:08,  3.85s/it]"
     ]
    },
    {
     "name": "stdout",
     "output_type": "stream",
     "text": [
      "Image download: ../Data/exports/ndvi/2016-06-02-2016-06-30--118.63264-34.27619_ndvi_bw.tif (512, 512)\n",
      "Image download: ../Data/exports/tc/2016-06-02-2016-06-30--118.72272-35.20993_tc.tif (512, 512)\n"
     ]
    },
    {
     "name": "stderr",
     "output_type": "stream",
     "text": [
      "\r",
      " 25%|████████████████████▍                                                            | 374/1482 [07:54<1:19:15,  4.29s/it]"
     ]
    },
    {
     "name": "stdout",
     "output_type": "stream",
     "text": [
      "Image download: ../Data/exports/ndvi/2016-06-02-2016-06-30--118.72272-35.20993_ndvi_bw.tif (512, 512)\n",
      "Image download: ../Data/exports/tc/2016-06-02-2016-06-30--120.452041-36.0749_tc.tif (512, 512)\n"
     ]
    },
    {
     "name": "stderr",
     "output_type": "stream",
     "text": [
      "\r",
      " 25%|████████████████████▍                                                            | 375/1482 [07:57<1:16:16,  4.13s/it]"
     ]
    },
    {
     "name": "stdout",
     "output_type": "stream",
     "text": [
      "Image download: ../Data/exports/ndvi/2016-06-02-2016-06-30--120.452041-36.0749_ndvi_bw.tif (512, 512)\n",
      "Image download: ../Data/exports/tc/2016-06-03-2016-07-01--120.61153-38.02845_tc.tif (512, 512)\n"
     ]
    },
    {
     "name": "stderr",
     "output_type": "stream",
     "text": [
      "\r",
      " 25%|████████████████████▌                                                            | 376/1482 [08:02<1:17:08,  4.18s/it]"
     ]
    },
    {
     "name": "stdout",
     "output_type": "stream",
     "text": [
      "Image download: ../Data/exports/ndvi/2016-06-03-2016-07-01--120.61153-38.02845_ndvi_bw.tif (512, 512)\n",
      "Image download: ../Data/exports/tc/2016-06-05-2016-07-03--119.65776-37.25601_tc.tif (512, 512)\n"
     ]
    },
    {
     "name": "stderr",
     "output_type": "stream",
     "text": [
      "\r",
      " 25%|████████████████████▌                                                            | 377/1482 [08:06<1:20:16,  4.36s/it]"
     ]
    },
    {
     "name": "stdout",
     "output_type": "stream",
     "text": [
      "Image download: ../Data/exports/ndvi/2016-06-05-2016-07-03--119.65776-37.25601_ndvi_bw.tif (512, 512)\n",
      "Image download: ../Data/exports/tc/2016-06-05-2016-07-03--120.62048-36.14161_tc.tif (512, 512)\n"
     ]
    },
    {
     "name": "stderr",
     "output_type": "stream",
     "text": [
      "\r",
      " 26%|████████████████████▋                                                            | 378/1482 [08:12<1:25:58,  4.67s/it]"
     ]
    },
    {
     "name": "stdout",
     "output_type": "stream",
     "text": [
      "Image download: ../Data/exports/ndvi/2016-06-05-2016-07-03--120.62048-36.14161_ndvi_bw.tif (512, 512)\n",
      "Image download: ../Data/exports/tc/2016-06-09-2016-07-07-118.9082-34.913_tc.tif (512, 512)\n"
     ]
    },
    {
     "name": "stderr",
     "output_type": "stream",
     "text": [
      "\r",
      " 26%|████████████████████▋                                                            | 379/1482 [08:16<1:24:26,  4.59s/it]"
     ]
    },
    {
     "name": "stdout",
     "output_type": "stream",
     "text": [
      "Image download: ../Data/exports/ndvi/2016-06-09-2016-07-07-118.9082-34.913_ndvi_bw.tif (512, 512)\n",
      "Image download: ../Data/exports/tc/2016-06-09-2016-07-07--122.72913-40.36873_tc.tif (512, 512)\n"
     ]
    },
    {
     "name": "stderr",
     "output_type": "stream",
     "text": [
      "\r",
      " 26%|████████████████████▊                                                            | 380/1482 [08:20<1:20:24,  4.38s/it]"
     ]
    },
    {
     "name": "stdout",
     "output_type": "stream",
     "text": [
      "Image download: ../Data/exports/ndvi/2016-06-09-2016-07-07--122.72913-40.36873_ndvi_bw.tif (512, 512)\n",
      "Image download: ../Data/exports/tc/2016-06-10-2016-07-08--118.57245-34.36763_tc.tif (512, 512)\n"
     ]
    },
    {
     "name": "stderr",
     "output_type": "stream",
     "text": [
      "\r",
      " 26%|████████████████████▊                                                            | 381/1482 [08:24<1:19:50,  4.35s/it]"
     ]
    },
    {
     "name": "stdout",
     "output_type": "stream",
     "text": [
      "Image download: ../Data/exports/ndvi/2016-06-10-2016-07-08--118.57245-34.36763_ndvi_bw.tif (512, 512)\n"
     ]
    },
    {
     "name": "stderr",
     "output_type": "stream",
     "text": [
      "\r",
      " 26%|█████████████████████▍                                                             | 382/1482 [08:25<59:45,  3.26s/it]"
     ]
    },
    {
     "name": "stdout",
     "output_type": "stream",
     "text": [
      "EXCEPTION - Row 528 @ (-120.841536, 5487.0)\n",
      "Image.select: Band pattern 'B4' was applied to an Image with no bands. See https://developers.google.com/earth-engine/guides/debugging#no-bands\n",
      "Image download: ../Data/exports/tc/2016-06-11-2016-07-09--121.103642-38.517772_tc.tif (512, 512)\n"
     ]
    },
    {
     "name": "stderr",
     "output_type": "stream",
     "text": [
      "\r",
      " 26%|████████████████████▉                                                            | 383/1482 [08:29<1:04:32,  3.52s/it]"
     ]
    },
    {
     "name": "stdout",
     "output_type": "stream",
     "text": [
      "Image download: ../Data/exports/ndvi/2016-06-11-2016-07-09--121.103642-38.517772_ndvi_bw.tif (512, 512)\n",
      "Image download: ../Data/exports/tc/2016-06-12-2016-07-10--116.58542-33.11645_tc.tif (512, 512)\n"
     ]
    },
    {
     "name": "stderr",
     "output_type": "stream",
     "text": [
      "\r",
      " 26%|████████████████████▉                                                            | 384/1482 [08:34<1:13:01,  3.99s/it]"
     ]
    },
    {
     "name": "stdout",
     "output_type": "stream",
     "text": [
      "Image download: ../Data/exports/ndvi/2016-06-12-2016-07-10--116.58542-33.11645_ndvi_bw.tif (512, 512)\n",
      "Image download: ../Data/exports/tc/2016-06-12-2016-07-10--119.39619-36.92244_tc.tif (512, 512)\n"
     ]
    },
    {
     "name": "stderr",
     "output_type": "stream",
     "text": [
      "\r",
      " 26%|█████████████████████                                                            | 385/1482 [08:39<1:15:50,  4.15s/it]"
     ]
    },
    {
     "name": "stdout",
     "output_type": "stream",
     "text": [
      "Image download: ../Data/exports/ndvi/2016-06-12-2016-07-10--119.39619-36.92244_ndvi_bw.tif (512, 512)\n",
      "Image download: ../Data/exports/tc/2016-06-13-2016-07-11--120.81394-38.08056_tc.tif (512, 512)\n"
     ]
    },
    {
     "name": "stderr",
     "output_type": "stream",
     "text": [
      "\r",
      " 26%|█████████████████████                                                            | 386/1482 [08:43<1:18:36,  4.30s/it]"
     ]
    },
    {
     "name": "stdout",
     "output_type": "stream",
     "text": [
      "Image download: ../Data/exports/ndvi/2016-06-13-2016-07-11--120.81394-38.08056_ndvi_bw.tif (512, 512)\n",
      "Image download: ../Data/exports/tc/2016-06-13-2016-07-11--120.67335-37.96311_tc.tif (512, 512)\n"
     ]
    },
    {
     "name": "stderr",
     "output_type": "stream",
     "text": [
      "\r",
      " 26%|█████████████████████▏                                                           | 387/1482 [08:49<1:25:19,  4.68s/it]"
     ]
    },
    {
     "name": "stdout",
     "output_type": "stream",
     "text": [
      "Image download: ../Data/exports/ndvi/2016-06-13-2016-07-11--120.67335-37.96311_ndvi_bw.tif (512, 512)\n",
      "Image download: ../Data/exports/tc/2016-06-14-2016-07-12--119.39619-36.92244_tc.tif (512, 512)\n"
     ]
    },
    {
     "name": "stderr",
     "output_type": "stream",
     "text": [
      "\r",
      " 26%|█████████████████████▏                                                           | 388/1482 [08:53<1:21:51,  4.49s/it]"
     ]
    },
    {
     "name": "stdout",
     "output_type": "stream",
     "text": [
      "Image download: ../Data/exports/ndvi/2016-06-14-2016-07-12--119.39619-36.92244_ndvi_bw.tif (512, 512)\n",
      "Image download: ../Data/exports/tc/2016-06-14-2016-07-12--118.21793-35.68313_tc.tif (512, 512)\n"
     ]
    },
    {
     "name": "stderr",
     "output_type": "stream",
     "text": [
      "\r",
      " 26%|█████████████████████▎                                                           | 389/1482 [08:58<1:21:57,  4.50s/it]"
     ]
    },
    {
     "name": "stdout",
     "output_type": "stream",
     "text": [
      "Image download: ../Data/exports/ndvi/2016-06-14-2016-07-12--118.21793-35.68313_ndvi_bw.tif (512, 512)\n",
      "Image download: ../Data/exports/tc/2016-06-16-2016-07-14--122.04726-38.8866_tc.tif (512, 512)\n"
     ]
    },
    {
     "name": "stderr",
     "output_type": "stream",
     "text": [
      "\r",
      " 26%|█████████████████████▎                                                           | 390/1482 [09:03<1:24:35,  4.65s/it]"
     ]
    },
    {
     "name": "stdout",
     "output_type": "stream",
     "text": [
      "Image download: ../Data/exports/ndvi/2016-06-16-2016-07-14--122.04726-38.8866_ndvi_bw.tif (512, 512)\n",
      "Image download: ../Data/exports/tc/2016-06-16-2016-07-14--119.5792-37.0099_tc.tif (512, 512)\n"
     ]
    },
    {
     "name": "stderr",
     "output_type": "stream",
     "text": [
      "\r",
      " 26%|█████████████████████▎                                                           | 391/1482 [09:08<1:26:04,  4.73s/it]"
     ]
    },
    {
     "name": "stdout",
     "output_type": "stream",
     "text": [
      "Image download: ../Data/exports/ndvi/2016-06-16-2016-07-14--119.5792-37.0099_ndvi_bw.tif (512, 512)\n",
      "Image download: ../Data/exports/tc/2016-06-16-2016-07-14--118.94811-35.60748_tc.tif (512, 512)\n"
     ]
    },
    {
     "name": "stderr",
     "output_type": "stream",
     "text": [
      "\r",
      " 26%|█████████████████████▍                                                           | 392/1482 [09:12<1:26:35,  4.77s/it]"
     ]
    },
    {
     "name": "stdout",
     "output_type": "stream",
     "text": [
      "Image download: ../Data/exports/ndvi/2016-06-16-2016-07-14--118.94811-35.60748_ndvi_bw.tif (512, 512)\n",
      "Image download: ../Data/exports/tc/2016-06-19-2016-07-17--116.7945-32.9612_tc.tif (512, 512)\n"
     ]
    },
    {
     "name": "stderr",
     "output_type": "stream",
     "text": [
      "\r",
      " 27%|█████████████████████▍                                                           | 393/1482 [09:17<1:27:51,  4.84s/it]"
     ]
    },
    {
     "name": "stdout",
     "output_type": "stream",
     "text": [
      "Image download: ../Data/exports/ndvi/2016-06-19-2016-07-17--116.7945-32.9612_ndvi_bw.tif (512, 512)\n",
      "Image download: ../Data/exports/tc/2016-06-20-2016-07-18--122.59328-41.96191_tc.tif (512, 512)\n"
     ]
    },
    {
     "name": "stderr",
     "output_type": "stream",
     "text": [
      "\r",
      " 27%|█████████████████████▌                                                           | 394/1482 [09:21<1:23:06,  4.58s/it]"
     ]
    },
    {
     "name": "stdout",
     "output_type": "stream",
     "text": [
      "Image download: ../Data/exports/ndvi/2016-06-20-2016-07-18--122.59328-41.96191_ndvi_bw.tif (512, 512)\n",
      "Image download: ../Data/exports/tc/2016-06-20-2016-07-18--122.7891-39.0863_tc.tif (512, 512)\n"
     ]
    },
    {
     "name": "stderr",
     "output_type": "stream",
     "text": [
      "\r",
      " 27%|█████████████████████▌                                                           | 395/1482 [09:26<1:25:37,  4.73s/it]"
     ]
    },
    {
     "name": "stdout",
     "output_type": "stream",
     "text": [
      "Image download: ../Data/exports/ndvi/2016-06-20-2016-07-18--122.7891-39.0863_ndvi_bw.tif (512, 512)\n",
      "Image download: ../Data/exports/tc/2016-06-22-2016-07-20--120.64241-37.98171_tc.tif (512, 512)\n"
     ]
    },
    {
     "name": "stderr",
     "output_type": "stream",
     "text": [
      "\r",
      " 27%|█████████████████████▋                                                           | 396/1482 [09:32<1:32:28,  5.11s/it]"
     ]
    },
    {
     "name": "stdout",
     "output_type": "stream",
     "text": [
      "Image download: ../Data/exports/ndvi/2016-06-22-2016-07-20--120.64241-37.98171_ndvi_bw.tif (512, 512)\n",
      "Image download: ../Data/exports/tc/2016-06-22-2016-07-20--117.35093-33.393_tc.tif (512, 512)\n"
     ]
    },
    {
     "name": "stderr",
     "output_type": "stream",
     "text": [
      "\r",
      " 27%|█████████████████████▋                                                           | 397/1482 [09:38<1:33:58,  5.20s/it]"
     ]
    },
    {
     "name": "stdout",
     "output_type": "stream",
     "text": [
      "Image download: ../Data/exports/ndvi/2016-06-22-2016-07-20--117.35093-33.393_ndvi_bw.tif (512, 512)\n",
      "Image download: ../Data/exports/tc/2016-06-22-2016-07-20--122.36924-41.71847_tc.tif (512, 512)\n"
     ]
    },
    {
     "name": "stderr",
     "output_type": "stream",
     "text": [
      "\r",
      " 27%|█████████████████████▊                                                           | 398/1482 [09:42<1:30:26,  5.01s/it]"
     ]
    },
    {
     "name": "stdout",
     "output_type": "stream",
     "text": [
      "Image download: ../Data/exports/ndvi/2016-06-22-2016-07-20--122.36924-41.71847_ndvi_bw.tif (512, 512)\n",
      "Image download: ../Data/exports/tc/2016-06-23-2016-07-21--121.89938-36.45994_tc.tif (512, 512)\n"
     ]
    },
    {
     "name": "stderr",
     "output_type": "stream",
     "text": [
      "\r",
      " 27%|█████████████████████▊                                                           | 399/1482 [09:47<1:27:33,  4.85s/it]"
     ]
    },
    {
     "name": "stdout",
     "output_type": "stream",
     "text": [
      "Image download: ../Data/exports/ndvi/2016-06-23-2016-07-21--121.89938-36.45994_ndvi_bw.tif (512, 512)\n",
      "Image download: ../Data/exports/tc/2016-06-23-2016-07-21--122.02564-38.33475_tc.tif (512, 512)\n"
     ]
    },
    {
     "name": "stderr",
     "output_type": "stream",
     "text": [
      "\r",
      " 27%|█████████████████████▊                                                           | 400/1482 [09:52<1:26:44,  4.81s/it]"
     ]
    },
    {
     "name": "stdout",
     "output_type": "stream",
     "text": [
      "Image download: ../Data/exports/ndvi/2016-06-23-2016-07-21--122.02564-38.33475_ndvi_bw.tif (512, 512)\n",
      "Image download: ../Data/exports/tc/2016-06-23-2016-07-21--121.00299-38.79549_tc.tif (512, 512)\n"
     ]
    },
    {
     "name": "stderr",
     "output_type": "stream",
     "text": [
      "\r",
      " 27%|█████████████████████▉                                                           | 401/1482 [09:56<1:26:46,  4.82s/it]"
     ]
    },
    {
     "name": "stdout",
     "output_type": "stream",
     "text": [
      "Image download: ../Data/exports/ndvi/2016-06-23-2016-07-21--121.00299-38.79549_ndvi_bw.tif (512, 512)\n",
      "Image download: ../Data/exports/tc/2016-06-23-2016-07-21--116.9571-33.00056_tc.tif (512, 512)\n"
     ]
    },
    {
     "name": "stderr",
     "output_type": "stream",
     "text": [
      "\r",
      " 27%|█████████████████████▉                                                           | 402/1482 [10:04<1:40:42,  5.59s/it]"
     ]
    },
    {
     "name": "stdout",
     "output_type": "stream",
     "text": [
      "Image download: ../Data/exports/ndvi/2016-06-23-2016-07-21--116.9571-33.00056_ndvi_bw.tif (512, 512)\n",
      "Image download: ../Data/exports/tc/2016-06-23-2016-07-21--120.81081-35.85093_tc.tif (512, 512)\n"
     ]
    },
    {
     "name": "stderr",
     "output_type": "stream",
     "text": [
      "\r",
      " 27%|██████████████████████                                                           | 403/1482 [10:08<1:31:45,  5.10s/it]"
     ]
    },
    {
     "name": "stdout",
     "output_type": "stream",
     "text": [
      "Image download: ../Data/exports/ndvi/2016-06-23-2016-07-21--120.81081-35.85093_ndvi_bw.tif (512, 512)\n",
      "Image download: ../Data/exports/tc/2016-06-25-2016-07-23--122.1885-38.01264_tc.tif (512, 512)\n"
     ]
    },
    {
     "name": "stderr",
     "output_type": "stream",
     "text": [
      "\r",
      " 27%|██████████████████████                                                           | 404/1482 [10:12<1:27:08,  4.85s/it]"
     ]
    },
    {
     "name": "stdout",
     "output_type": "stream",
     "text": [
      "Image download: ../Data/exports/ndvi/2016-06-25-2016-07-23--122.1885-38.01264_ndvi_bw.tif (512, 512)\n",
      "Image download: ../Data/exports/tc/2016-06-30-2016-07-28--119.4741-37.24006_tc.tif (512, 512)\n"
     ]
    },
    {
     "name": "stderr",
     "output_type": "stream",
     "text": [
      "\r",
      " 27%|██████████████████████▏                                                          | 405/1482 [10:17<1:25:06,  4.74s/it]"
     ]
    },
    {
     "name": "stdout",
     "output_type": "stream",
     "text": [
      "Image download: ../Data/exports/ndvi/2016-06-30-2016-07-28--119.4741-37.24006_ndvi_bw.tif (512, 512)\n",
      "Image download: ../Data/exports/tc/2016-07-01-2016-07-29--119.50507-37.01591_tc.tif (512, 512)\n"
     ]
    },
    {
     "name": "stderr",
     "output_type": "stream",
     "text": [
      "\r",
      " 27%|██████████████████████▏                                                          | 406/1482 [10:22<1:29:36,  5.00s/it]"
     ]
    },
    {
     "name": "stdout",
     "output_type": "stream",
     "text": [
      "Image download: ../Data/exports/ndvi/2016-07-01-2016-07-29--119.50507-37.01591_ndvi_bw.tif (512, 512)\n",
      "Image download: ../Data/exports/tc/2016-07-01-2016-07-29--120.69521-37.81434_tc.tif (512, 512)\n"
     ]
    },
    {
     "name": "stderr",
     "output_type": "stream",
     "text": [
      "\r",
      " 27%|██████████████████████▏                                                          | 407/1482 [10:28<1:36:28,  5.38s/it]"
     ]
    },
    {
     "name": "stdout",
     "output_type": "stream",
     "text": [
      "Image download: ../Data/exports/ndvi/2016-07-01-2016-07-29--120.69521-37.81434_ndvi_bw.tif (512, 512)\n",
      "Image download: ../Data/exports/tc/2016-07-01-2016-07-29--121.79669-37.41896_tc.tif (512, 512)\n"
     ]
    },
    {
     "name": "stderr",
     "output_type": "stream",
     "text": [
      "\r",
      " 28%|██████████████████████▎                                                          | 408/1482 [10:33<1:33:54,  5.25s/it]"
     ]
    },
    {
     "name": "stdout",
     "output_type": "stream",
     "text": [
      "Image download: ../Data/exports/ndvi/2016-07-01-2016-07-29--121.79669-37.41896_ndvi_bw.tif (512, 512)\n",
      "Image download: ../Data/exports/tc/2016-07-04-2016-08-01--121.7192-39.6708_tc.tif (512, 512)\n"
     ]
    },
    {
     "name": "stderr",
     "output_type": "stream",
     "text": [
      "\r",
      " 28%|██████████████████████▎                                                          | 409/1482 [10:38<1:32:07,  5.15s/it]"
     ]
    },
    {
     "name": "stdout",
     "output_type": "stream",
     "text": [
      "Image download: ../Data/exports/ndvi/2016-07-04-2016-08-01--121.7192-39.6708_ndvi_bw.tif (512, 512)\n",
      "Image download: ../Data/exports/tc/2016-07-04-2016-08-01--122.06788-38.52513_tc.tif (512, 512)\n"
     ]
    },
    {
     "name": "stderr",
     "output_type": "stream",
     "text": [
      "\r",
      " 28%|██████████████████████▍                                                          | 410/1482 [10:42<1:26:09,  4.82s/it]"
     ]
    },
    {
     "name": "stdout",
     "output_type": "stream",
     "text": [
      "Image download: ../Data/exports/ndvi/2016-07-04-2016-08-01--122.06788-38.52513_ndvi_bw.tif (512, 512)\n",
      "Image download: ../Data/exports/tc/2016-07-05-2016-08-02--122.26736-40.19611_tc.tif (512, 512)\n"
     ]
    },
    {
     "name": "stderr",
     "output_type": "stream",
     "text": [
      "\r",
      " 28%|██████████████████████▍                                                          | 411/1482 [10:47<1:26:21,  4.84s/it]"
     ]
    },
    {
     "name": "stdout",
     "output_type": "stream",
     "text": [
      "Image download: ../Data/exports/ndvi/2016-07-05-2016-08-02--122.26736-40.19611_ndvi_bw.tif (512, 512)\n",
      "Image download: ../Data/exports/tc/2016-07-06-2016-08-03--119.7738-37.3228_tc.tif (512, 512)\n"
     ]
    },
    {
     "name": "stderr",
     "output_type": "stream",
     "text": [
      "\r",
      " 28%|██████████████████████▌                                                          | 412/1482 [10:51<1:22:30,  4.63s/it]"
     ]
    },
    {
     "name": "stdout",
     "output_type": "stream",
     "text": [
      "Image download: ../Data/exports/ndvi/2016-07-06-2016-08-03--119.7738-37.3228_ndvi_bw.tif (512, 512)\n",
      "Image download: ../Data/exports/tc/2016-07-06-2016-08-03--118.60344-35.24504_tc.tif (512, 512)\n"
     ]
    },
    {
     "name": "stderr",
     "output_type": "stream",
     "text": [
      "\r",
      " 28%|██████████████████████▌                                                          | 413/1482 [10:58<1:30:45,  5.09s/it]"
     ]
    },
    {
     "name": "stdout",
     "output_type": "stream",
     "text": [
      "Image download: ../Data/exports/ndvi/2016-07-06-2016-08-03--118.60344-35.24504_ndvi_bw.tif (512, 512)\n",
      "Image download: ../Data/exports/tc/2016-07-07-2016-08-04--120.8657-38.2581_tc.tif (512, 512)\n"
     ]
    },
    {
     "name": "stderr",
     "output_type": "stream",
     "text": [
      "\r",
      " 28%|██████████████████████▋                                                          | 414/1482 [11:02<1:27:32,  4.92s/it]"
     ]
    },
    {
     "name": "stdout",
     "output_type": "stream",
     "text": [
      "Image download: ../Data/exports/ndvi/2016-07-07-2016-08-04--120.8657-38.2581_ndvi_bw.tif (512, 512)\n",
      "Image download: ../Data/exports/tc/2016-07-09-2016-08-06--117.27338-34.28771_tc.tif (512, 512)\n"
     ]
    },
    {
     "name": "stderr",
     "output_type": "stream",
     "text": [
      "\r",
      " 28%|██████████████████████▋                                                          | 415/1482 [11:07<1:29:21,  5.02s/it]"
     ]
    },
    {
     "name": "stdout",
     "output_type": "stream",
     "text": [
      "Image download: ../Data/exports/ndvi/2016-07-09-2016-08-06--117.27338-34.28771_ndvi_bw.tif (512, 512)\n",
      "Image download: ../Data/exports/tc/2016-07-11-2016-08-08--122.47091-40.61213_tc.tif (512, 512)\n"
     ]
    },
    {
     "name": "stderr",
     "output_type": "stream",
     "text": [
      "\r",
      " 28%|██████████████████████▋                                                          | 416/1482 [11:13<1:32:58,  5.23s/it]"
     ]
    },
    {
     "name": "stdout",
     "output_type": "stream",
     "text": [
      "Image download: ../Data/exports/ndvi/2016-07-11-2016-08-08--122.47091-40.61213_ndvi_bw.tif (512, 512)\n",
      "Image download: ../Data/exports/tc/2016-07-11-2016-08-08--120.51057-36.09974_tc.tif (512, 512)\n"
     ]
    },
    {
     "name": "stderr",
     "output_type": "stream",
     "text": [
      "\r",
      " 28%|██████████████████████▊                                                          | 417/1482 [11:17<1:27:55,  4.95s/it]"
     ]
    },
    {
     "name": "stdout",
     "output_type": "stream",
     "text": [
      "Image download: ../Data/exports/ndvi/2016-07-11-2016-08-08--120.51057-36.09974_ndvi_bw.tif (512, 512)\n",
      "Image download: ../Data/exports/tc/2016-07-11-2016-08-08--120.51057-36.09974_tc.tif (512, 512)\n"
     ]
    },
    {
     "name": "stderr",
     "output_type": "stream",
     "text": [
      "\r",
      " 28%|██████████████████████▊                                                          | 418/1482 [11:21<1:20:25,  4.54s/it]"
     ]
    },
    {
     "name": "stdout",
     "output_type": "stream",
     "text": [
      "Image download: ../Data/exports/ndvi/2016-07-11-2016-08-08--120.51057-36.09974_ndvi_bw.tif (512, 512)\n",
      "Image download: ../Data/exports/tc/2016-07-11-2016-08-08--122.26015-38.68403_tc.tif (512, 512)\n"
     ]
    },
    {
     "name": "stderr",
     "output_type": "stream",
     "text": [
      "\r",
      " 28%|██████████████████████▉                                                          | 419/1482 [11:25<1:19:09,  4.47s/it]"
     ]
    },
    {
     "name": "stdout",
     "output_type": "stream",
     "text": [
      "Image download: ../Data/exports/ndvi/2016-07-11-2016-08-08--122.26015-38.68403_ndvi_bw.tif (512, 512)\n",
      "Image download: ../Data/exports/tc/2016-07-12-2016-08-09--117.14547-33.22558_tc.tif (512, 512)\n"
     ]
    },
    {
     "name": "stderr",
     "output_type": "stream",
     "text": [
      "\r",
      " 28%|██████████████████████▉                                                          | 420/1482 [11:30<1:20:52,  4.57s/it]"
     ]
    },
    {
     "name": "stdout",
     "output_type": "stream",
     "text": [
      "Image download: ../Data/exports/ndvi/2016-07-12-2016-08-09--117.14547-33.22558_ndvi_bw.tif (512, 512)\n",
      "Image download: ../Data/exports/tc/2016-07-13-2016-08-10--124.05804-40.4572_tc.tif (512, 512)\n"
     ]
    },
    {
     "name": "stderr",
     "output_type": "stream",
     "text": [
      "\r",
      " 28%|███████████████████████                                                          | 421/1482 [11:35<1:21:54,  4.63s/it]"
     ]
    },
    {
     "name": "stdout",
     "output_type": "stream",
     "text": [
      "Image download: ../Data/exports/ndvi/2016-07-13-2016-08-10--124.05804-40.4572_ndvi_bw.tif (512, 512)\n",
      "Image download: ../Data/exports/tc/2016-07-14-2016-08-11--121.68577-37.06531_tc.tif (512, 512)\n"
     ]
    },
    {
     "name": "stderr",
     "output_type": "stream",
     "text": [
      "\r",
      " 28%|███████████████████████                                                          | 422/1482 [11:40<1:24:00,  4.76s/it]"
     ]
    },
    {
     "name": "stdout",
     "output_type": "stream",
     "text": [
      "Image download: ../Data/exports/ndvi/2016-07-14-2016-08-11--121.68577-37.06531_ndvi_bw.tif (512, 512)\n",
      "Image download: ../Data/exports/tc/2016-07-14-2016-08-11--123.77832-40.9878_tc.tif (512, 512)\n"
     ]
    },
    {
     "name": "stderr",
     "output_type": "stream",
     "text": [
      "\r",
      " 29%|███████████████████████                                                          | 423/1482 [11:44<1:22:07,  4.65s/it]"
     ]
    },
    {
     "name": "stdout",
     "output_type": "stream",
     "text": [
      "Image download: ../Data/exports/ndvi/2016-07-14-2016-08-11--123.77832-40.9878_ndvi_bw.tif (512, 512)\n",
      "Image download: ../Data/exports/tc/2016-07-15-2016-08-12--120.98316-35.70595_tc.tif (512, 512)\n"
     ]
    },
    {
     "name": "stderr",
     "output_type": "stream",
     "text": [
      "\r",
      " 29%|███████████████████████▏                                                         | 424/1482 [11:48<1:19:00,  4.48s/it]"
     ]
    },
    {
     "name": "stdout",
     "output_type": "stream",
     "text": [
      "Image download: ../Data/exports/ndvi/2016-07-15-2016-08-12--120.98316-35.70595_ndvi_bw.tif (512, 512)\n",
      "Image download: ../Data/exports/tc/2016-07-15-2016-08-12--122.60664-38.89741_tc.tif (512, 512)\n"
     ]
    },
    {
     "name": "stderr",
     "output_type": "stream",
     "text": [
      "\r",
      " 29%|███████████████████████▏                                                         | 425/1482 [11:53<1:19:35,  4.52s/it]"
     ]
    },
    {
     "name": "stdout",
     "output_type": "stream",
     "text": [
      "Image download: ../Data/exports/ndvi/2016-07-15-2016-08-12--122.60664-38.89741_ndvi_bw.tif (512, 512)\n",
      "Image download: ../Data/exports/tc/2016-07-18-2016-08-15--117.49342-34.30372_tc.tif (512, 512)\n"
     ]
    },
    {
     "name": "stderr",
     "output_type": "stream",
     "text": [
      "\r",
      " 29%|███████████████████████▎                                                         | 426/1482 [11:58<1:21:52,  4.65s/it]"
     ]
    },
    {
     "name": "stdout",
     "output_type": "stream",
     "text": [
      "Image download: ../Data/exports/ndvi/2016-07-18-2016-08-15--117.49342-34.30372_ndvi_bw.tif (512, 512)\n",
      "Image download: ../Data/exports/tc/2016-07-18-2016-08-15--118.5678-35.7506_tc.tif (512, 512)\n"
     ]
    },
    {
     "name": "stderr",
     "output_type": "stream",
     "text": [
      "\r",
      " 29%|███████████████████████▎                                                         | 427/1482 [12:03<1:24:14,  4.79s/it]"
     ]
    },
    {
     "name": "stdout",
     "output_type": "stream",
     "text": [
      "Image download: ../Data/exports/ndvi/2016-07-18-2016-08-15--118.5678-35.7506_ndvi_bw.tif (512, 512)\n",
      "Image download: ../Data/exports/tc/2016-07-20-2016-08-17--120.00606-38.57554_tc.tif (512, 512)\n"
     ]
    },
    {
     "name": "stderr",
     "output_type": "stream",
     "text": [
      "\r",
      " 29%|███████████████████████▍                                                         | 428/1482 [12:08<1:27:41,  4.99s/it]"
     ]
    },
    {
     "name": "stdout",
     "output_type": "stream",
     "text": [
      "Image download: ../Data/exports/ndvi/2016-07-20-2016-08-17--120.00606-38.57554_ndvi_bw.tif (512, 512)\n",
      "Image download: ../Data/exports/tc/2016-07-20-2016-08-17--121.38775-36.16965_tc.tif (512, 512)\n"
     ]
    },
    {
     "name": "stderr",
     "output_type": "stream",
     "text": [
      "\r",
      " 29%|███████████████████████▍                                                         | 429/1482 [12:13<1:27:17,  4.97s/it]"
     ]
    },
    {
     "name": "stdout",
     "output_type": "stream",
     "text": [
      "Image download: ../Data/exports/ndvi/2016-07-20-2016-08-17--121.38775-36.16965_ndvi_bw.tif (512, 512)\n",
      "Image download: ../Data/exports/tc/2016-07-22-2016-08-19--121.36665-37.62215_tc.tif (512, 512)\n"
     ]
    },
    {
     "name": "stderr",
     "output_type": "stream",
     "text": [
      "\r",
      " 29%|███████████████████████▌                                                         | 430/1482 [12:19<1:30:29,  5.16s/it]"
     ]
    },
    {
     "name": "stdout",
     "output_type": "stream",
     "text": [
      "Image download: ../Data/exports/ndvi/2016-07-22-2016-08-19--121.36665-37.62215_ndvi_bw.tif (512, 512)\n",
      "Image download: ../Data/exports/tc/2016-07-24-2016-08-21--123.82268-41.28486_tc.tif (512, 512)\n"
     ]
    },
    {
     "name": "stderr",
     "output_type": "stream",
     "text": [
      "\r",
      " 29%|███████████████████████▌                                                         | 431/1482 [12:24<1:30:03,  5.14s/it]"
     ]
    },
    {
     "name": "stdout",
     "output_type": "stream",
     "text": [
      "Image download: ../Data/exports/ndvi/2016-07-24-2016-08-21--123.82268-41.28486_ndvi_bw.tif (512, 512)\n",
      "Image download: ../Data/exports/tc/2016-07-24-2016-08-21--118.73906-36.1648_tc.tif (512, 512)\n"
     ]
    },
    {
     "name": "stderr",
     "output_type": "stream",
     "text": [
      "\r",
      " 29%|███████████████████████▌                                                         | 432/1482 [12:28<1:26:04,  4.92s/it]"
     ]
    },
    {
     "name": "stdout",
     "output_type": "stream",
     "text": [
      "Image download: ../Data/exports/ndvi/2016-07-24-2016-08-21--118.73906-36.1648_ndvi_bw.tif (512, 512)\n",
      "Image download: ../Data/exports/tc/2016-07-26-2016-08-23--122.611-41.7813_tc.tif (512, 512)\n"
     ]
    },
    {
     "name": "stderr",
     "output_type": "stream",
     "text": [
      "\r",
      " 29%|███████████████████████▋                                                         | 433/1482 [12:33<1:25:40,  4.90s/it]"
     ]
    },
    {
     "name": "stdout",
     "output_type": "stream",
     "text": [
      "Image download: ../Data/exports/ndvi/2016-07-26-2016-08-23--122.611-41.7813_ndvi_bw.tif (512, 512)\n",
      "Image download: ../Data/exports/tc/2016-07-28-2016-08-25--118.7212-35.2013_tc.tif (512, 512)\n"
     ]
    },
    {
     "name": "stderr",
     "output_type": "stream",
     "text": [
      "\r",
      " 29%|███████████████████████▋                                                         | 434/1482 [12:40<1:35:16,  5.45s/it]"
     ]
    },
    {
     "name": "stdout",
     "output_type": "stream",
     "text": [
      "Image download: ../Data/exports/ndvi/2016-07-28-2016-08-25--118.7212-35.2013_ndvi_bw.tif (512, 512)\n",
      "Image download: ../Data/exports/tc/2016-07-28-2016-08-25--121.71662-39.79547_tc.tif (512, 512)\n"
     ]
    },
    {
     "name": "stderr",
     "output_type": "stream",
     "text": [
      "\r",
      " 29%|███████████████████████▊                                                         | 435/1482 [12:44<1:29:40,  5.14s/it]"
     ]
    },
    {
     "name": "stdout",
     "output_type": "stream",
     "text": [
      "Image download: ../Data/exports/ndvi/2016-07-28-2016-08-25--121.71662-39.79547_ndvi_bw.tif (512, 512)\n",
      "Image download: ../Data/exports/tc/2016-07-29-2016-08-26--123.118-41.851_tc.tif (512, 512)\n"
     ]
    },
    {
     "name": "stderr",
     "output_type": "stream",
     "text": [
      "\r",
      " 29%|███████████████████████▊                                                         | 436/1482 [12:49<1:26:52,  4.98s/it]"
     ]
    },
    {
     "name": "stdout",
     "output_type": "stream",
     "text": [
      "Image download: ../Data/exports/ndvi/2016-07-29-2016-08-26--123.118-41.851_ndvi_bw.tif (512, 512)\n",
      "Image download: ../Data/exports/tc/2016-07-30-2016-08-27--120.6381-38.1874_tc.tif (512, 512)\n"
     ]
    },
    {
     "name": "stderr",
     "output_type": "stream",
     "text": [
      "\r",
      " 29%|███████████████████████▉                                                         | 437/1482 [12:54<1:28:04,  5.06s/it]"
     ]
    },
    {
     "name": "stdout",
     "output_type": "stream",
     "text": [
      "Image download: ../Data/exports/ndvi/2016-07-30-2016-08-27--120.6381-38.1874_ndvi_bw.tif (512, 512)\n",
      "Image download: ../Data/exports/tc/2016-07-30-2016-08-27--118.5097-35.4976_tc.tif (512, 512)\n"
     ]
    },
    {
     "name": "stderr",
     "output_type": "stream",
     "text": [
      "\r",
      " 30%|███████████████████████▉                                                         | 438/1482 [12:59<1:25:37,  4.92s/it]"
     ]
    },
    {
     "name": "stdout",
     "output_type": "stream",
     "text": [
      "Image download: ../Data/exports/ndvi/2016-07-30-2016-08-27--118.5097-35.4976_ndvi_bw.tif (512, 512)\n",
      "Image download: ../Data/exports/tc/2016-08-01-2016-08-29--123.4267011-39.8748511_tc.tif (512, 512)\n"
     ]
    },
    {
     "name": "stderr",
     "output_type": "stream",
     "text": [
      "\r",
      " 30%|███████████████████████▉                                                         | 439/1482 [13:03<1:19:01,  4.55s/it]"
     ]
    },
    {
     "name": "stdout",
     "output_type": "stream",
     "text": [
      "Image download: ../Data/exports/ndvi/2016-08-01-2016-08-29--123.4267011-39.8748511_ndvi_bw.tif (512, 512)\n",
      "Image download: ../Data/exports/tc/2016-08-01-2016-08-29--122.9148951-39.1408865_tc.tif (512, 512)\n"
     ]
    },
    {
     "name": "stderr",
     "output_type": "stream",
     "text": [
      "\r",
      " 30%|████████████████████████                                                         | 440/1482 [13:08<1:24:15,  4.85s/it]"
     ]
    },
    {
     "name": "stdout",
     "output_type": "stream",
     "text": [
      "Image download: ../Data/exports/ndvi/2016-08-01-2016-08-29--122.9148951-39.1408865_ndvi_bw.tif (512, 512)\n",
      "Image download: ../Data/exports/tc/2016-08-02-2016-08-30--117.5221-33.6542_tc.tif (512, 512)\n"
     ]
    },
    {
     "name": "stderr",
     "output_type": "stream",
     "text": [
      "\r",
      " 30%|████████████████████████                                                         | 441/1482 [13:13<1:22:30,  4.76s/it]"
     ]
    },
    {
     "name": "stdout",
     "output_type": "stream",
     "text": [
      "Image download: ../Data/exports/ndvi/2016-08-02-2016-08-30--117.5221-33.6542_ndvi_bw.tif (512, 512)\n",
      "Image download: ../Data/exports/tc/2016-08-03-2016-08-31--121.69784-37.11831_tc.tif (512, 512)\n"
     ]
    },
    {
     "name": "stderr",
     "output_type": "stream",
     "text": [
      "\r",
      " 30%|████████████████████████▏                                                        | 442/1482 [13:17<1:22:11,  4.74s/it]"
     ]
    },
    {
     "name": "stdout",
     "output_type": "stream",
     "text": [
      "Image download: ../Data/exports/ndvi/2016-08-03-2016-08-31--121.69784-37.11831_ndvi_bw.tif (512, 512)\n",
      "Image download: ../Data/exports/tc/2016-08-05-2016-09-02--119.34487-36.84479_tc.tif (512, 512)\n"
     ]
    },
    {
     "name": "stderr",
     "output_type": "stream",
     "text": [
      "\r",
      " 30%|████████████████████████▏                                                        | 443/1482 [13:23<1:24:15,  4.87s/it]"
     ]
    },
    {
     "name": "stdout",
     "output_type": "stream",
     "text": [
      "Image download: ../Data/exports/ndvi/2016-08-05-2016-09-02--119.34487-36.84479_ndvi_bw.tif (512, 512)\n",
      "Image download: ../Data/exports/tc/2016-08-05-2016-09-02--117.4415-34.25858_tc.tif (512, 512)\n"
     ]
    },
    {
     "name": "stderr",
     "output_type": "stream",
     "text": [
      "\r",
      " 30%|████████████████████████▎                                                        | 444/1482 [13:27<1:23:17,  4.81s/it]"
     ]
    },
    {
     "name": "stdout",
     "output_type": "stream",
     "text": [
      "Image download: ../Data/exports/ndvi/2016-08-05-2016-09-02--117.4415-34.25858_ndvi_bw.tif (512, 512)\n",
      "Image download: ../Data/exports/tc/2016-08-07-2016-09-04--121.571-39.6871_tc.tif (512, 512)\n"
     ]
    },
    {
     "name": "stderr",
     "output_type": "stream",
     "text": [
      "\r",
      " 30%|████████████████████████▎                                                        | 445/1482 [13:32<1:21:58,  4.74s/it]"
     ]
    },
    {
     "name": "stdout",
     "output_type": "stream",
     "text": [
      "Image download: ../Data/exports/ndvi/2016-08-07-2016-09-04--121.571-39.6871_ndvi_bw.tif (512, 512)\n",
      "Image download: ../Data/exports/tc/2016-08-09-2016-09-06--120.51887-39.39051_tc.tif (512, 512)\n"
     ]
    },
    {
     "name": "stderr",
     "output_type": "stream",
     "text": [
      "\r",
      " 30%|████████████████████████▍                                                        | 446/1482 [13:37<1:23:12,  4.82s/it]"
     ]
    },
    {
     "name": "stdout",
     "output_type": "stream",
     "text": [
      "Image download: ../Data/exports/ndvi/2016-08-09-2016-09-06--120.51887-39.39051_ndvi_bw.tif (512, 512)\n",
      "Image download: ../Data/exports/tc/2016-08-09-2016-09-06--117.3189-34.3183_tc.tif (512, 512)\n"
     ]
    },
    {
     "name": "stderr",
     "output_type": "stream",
     "text": [
      "\r",
      " 30%|████████████████████████▍                                                        | 447/1482 [13:41<1:21:34,  4.73s/it]"
     ]
    },
    {
     "name": "stdout",
     "output_type": "stream",
     "text": [
      "Image download: ../Data/exports/ndvi/2016-08-09-2016-09-06--117.3189-34.3183_ndvi_bw.tif (512, 512)\n",
      "Image download: ../Data/exports/tc/2016-08-12-2016-09-09--123.5044-39.7299_tc.tif (512, 512)\n"
     ]
    },
    {
     "name": "stderr",
     "output_type": "stream",
     "text": [
      "\r",
      " 30%|████████████████████████▍                                                        | 448/1482 [13:46<1:19:41,  4.62s/it]"
     ]
    },
    {
     "name": "stdout",
     "output_type": "stream",
     "text": [
      "Image download: ../Data/exports/ndvi/2016-08-12-2016-09-09--123.5044-39.7299_ndvi_bw.tif (512, 512)\n",
      "Image download: ../Data/exports/tc/2016-08-12-2016-09-09--122.4096-40.68192_tc.tif (512, 512)\n"
     ]
    },
    {
     "name": "stderr",
     "output_type": "stream",
     "text": [
      "\r",
      " 30%|████████████████████████▌                                                        | 449/1482 [13:50<1:17:29,  4.50s/it]"
     ]
    },
    {
     "name": "stdout",
     "output_type": "stream",
     "text": [
      "Image download: ../Data/exports/ndvi/2016-08-12-2016-09-09--122.4096-40.68192_ndvi_bw.tif (512, 512)\n",
      "Image download: ../Data/exports/tc/2016-08-13-2016-09-10--121.1309-38.558_tc.tif (512, 512)\n"
     ]
    },
    {
     "name": "stderr",
     "output_type": "stream",
     "text": [
      "\r",
      " 30%|████████████████████████▌                                                        | 450/1482 [13:55<1:17:43,  4.52s/it]"
     ]
    },
    {
     "name": "stdout",
     "output_type": "stream",
     "text": [
      "Image download: ../Data/exports/ndvi/2016-08-13-2016-09-10--121.1309-38.558_ndvi_bw.tif (512, 512)\n",
      "Image download: ../Data/exports/tc/2016-08-13-2016-09-10--120.7845-40.3915_tc.tif (512, 512)\n"
     ]
    },
    {
     "name": "stderr",
     "output_type": "stream",
     "text": [
      "\r",
      " 30%|████████████████████████▋                                                        | 451/1482 [13:58<1:13:37,  4.28s/it]"
     ]
    },
    {
     "name": "stdout",
     "output_type": "stream",
     "text": [
      "Image download: ../Data/exports/ndvi/2016-08-13-2016-09-10--120.7845-40.3915_ndvi_bw.tif (512, 512)\n",
      "Image download: ../Data/exports/tc/2016-08-13-2016-09-10--120.9066-41.4657_tc.tif (512, 512)\n"
     ]
    },
    {
     "name": "stderr",
     "output_type": "stream",
     "text": [
      "\r",
      " 30%|████████████████████████▋                                                        | 452/1482 [14:03<1:15:16,  4.39s/it]"
     ]
    },
    {
     "name": "stdout",
     "output_type": "stream",
     "text": [
      "Image download: ../Data/exports/ndvi/2016-08-13-2016-09-10--120.9066-41.4657_ndvi_bw.tif (512, 512)\n",
      "Image download: ../Data/exports/tc/2016-08-14-2016-09-11--122.7933-41.6314_tc.tif (512, 512)\n"
     ]
    },
    {
     "name": "stderr",
     "output_type": "stream",
     "text": [
      "\r",
      " 31%|████████████████████████▊                                                        | 453/1482 [14:07<1:13:05,  4.26s/it]"
     ]
    },
    {
     "name": "stdout",
     "output_type": "stream",
     "text": [
      "Image download: ../Data/exports/ndvi/2016-08-14-2016-09-11--122.7933-41.6314_ndvi_bw.tif (512, 512)\n",
      "Image download: ../Data/exports/tc/2016-08-15-2016-09-12--120.029626-37.75972_tc.tif (512, 512)\n"
     ]
    },
    {
     "name": "stderr",
     "output_type": "stream",
     "text": [
      "\r",
      " 31%|████████████████████████▊                                                        | 454/1482 [14:11<1:12:25,  4.23s/it]"
     ]
    },
    {
     "name": "stdout",
     "output_type": "stream",
     "text": [
      "Image download: ../Data/exports/ndvi/2016-08-15-2016-09-12--120.029626-37.75972_ndvi_bw.tif (512, 512)\n",
      "Image download: ../Data/exports/tc/2016-08-15-2016-09-12--122.1295-40.30594_tc.tif (512, 512)\n"
     ]
    },
    {
     "name": "stderr",
     "output_type": "stream",
     "text": [
      "\r",
      " 31%|████████████████████████▊                                                        | 455/1482 [14:15<1:12:53,  4.26s/it]"
     ]
    },
    {
     "name": "stdout",
     "output_type": "stream",
     "text": [
      "Image download: ../Data/exports/ndvi/2016-08-15-2016-09-12--122.1295-40.30594_ndvi_bw.tif (512, 512)\n",
      "Image download: ../Data/exports/tc/2016-08-18-2016-09-15--121.6998-39.8851_tc.tif (512, 512)\n"
     ]
    },
    {
     "name": "stderr",
     "output_type": "stream",
     "text": [
      "\r",
      " 31%|████████████████████████▉                                                        | 456/1482 [14:20<1:15:20,  4.41s/it]"
     ]
    },
    {
     "name": "stdout",
     "output_type": "stream",
     "text": [
      "Image download: ../Data/exports/ndvi/2016-08-18-2016-09-15--121.6998-39.8851_ndvi_bw.tif (512, 512)\n",
      "Image download: ../Data/exports/tc/2016-08-19-2016-09-16--121.05948-39.20427_tc.tif (512, 512)\n"
     ]
    },
    {
     "name": "stderr",
     "output_type": "stream",
     "text": [
      "\r",
      " 31%|████████████████████████▉                                                        | 457/1482 [14:25<1:15:37,  4.43s/it]"
     ]
    },
    {
     "name": "stdout",
     "output_type": "stream",
     "text": [
      "Image download: ../Data/exports/ndvi/2016-08-19-2016-09-16--121.05948-39.20427_ndvi_bw.tif (512, 512)\n",
      "Image download: ../Data/exports/tc/2016-08-19-2016-09-16--118.95309-37.75985_tc.tif (512, 512)\n"
     ]
    },
    {
     "name": "stderr",
     "output_type": "stream",
     "text": [
      "\r",
      " 31%|█████████████████████████                                                        | 458/1482 [14:29<1:15:40,  4.43s/it]"
     ]
    },
    {
     "name": "stdout",
     "output_type": "stream",
     "text": [
      "Image download: ../Data/exports/ndvi/2016-08-19-2016-09-16--118.95309-37.75985_ndvi_bw.tif (512, 512)\n",
      "Image download: ../Data/exports/tc/2016-08-19-2016-09-16--120.3178-41.2649_tc.tif (512, 512)\n"
     ]
    },
    {
     "name": "stderr",
     "output_type": "stream",
     "text": [
      "\r",
      " 31%|█████████████████████████                                                        | 459/1482 [14:34<1:20:53,  4.74s/it]"
     ]
    },
    {
     "name": "stdout",
     "output_type": "stream",
     "text": [
      "Image download: ../Data/exports/ndvi/2016-08-19-2016-09-16--120.3178-41.2649_ndvi_bw.tif (512, 512)\n",
      "Image download: ../Data/exports/tc/2016-08-19-2016-09-16--120.54421-34.63445_tc.tif (512, 512)\n"
     ]
    },
    {
     "name": "stderr",
     "output_type": "stream",
     "text": [
      "\r",
      " 31%|█████████████████████████▏                                                       | 460/1482 [14:39<1:20:08,  4.70s/it]"
     ]
    },
    {
     "name": "stdout",
     "output_type": "stream",
     "text": [
      "Image download: ../Data/exports/ndvi/2016-08-19-2016-09-16--120.54421-34.63445_ndvi_bw.tif (512, 512)\n",
      "Image download: ../Data/exports/tc/2016-08-22-2016-09-19--121.78003-39.188321_tc.tif (512, 512)\n"
     ]
    },
    {
     "name": "stderr",
     "output_type": "stream",
     "text": [
      "\r",
      " 31%|█████████████████████████▏                                                       | 461/1482 [14:44<1:23:27,  4.90s/it]"
     ]
    },
    {
     "name": "stdout",
     "output_type": "stream",
     "text": [
      "Image download: ../Data/exports/ndvi/2016-08-22-2016-09-19--121.78003-39.188321_ndvi_bw.tif (512, 512)\n",
      "Image download: ../Data/exports/tc/2016-08-24-2016-09-21--121.42647-39.4403_tc.tif (512, 512)\n"
     ]
    },
    {
     "name": "stderr",
     "output_type": "stream",
     "text": [
      "\r",
      " 31%|█████████████████████████▎                                                       | 462/1482 [14:48<1:18:33,  4.62s/it]"
     ]
    },
    {
     "name": "stdout",
     "output_type": "stream",
     "text": [
      "Image download: ../Data/exports/ndvi/2016-08-24-2016-09-21--121.42647-39.4403_ndvi_bw.tif (512, 512)\n",
      "Image download: ../Data/exports/tc/2016-08-24-2016-09-21--120.55297-34.75134_tc.tif (512, 512)\n"
     ]
    },
    {
     "name": "stderr",
     "output_type": "stream",
     "text": [
      "\r",
      " 31%|█████████████████████████▎                                                       | 463/1482 [14:52<1:15:47,  4.46s/it]"
     ]
    },
    {
     "name": "stdout",
     "output_type": "stream",
     "text": [
      "Image download: ../Data/exports/ndvi/2016-08-24-2016-09-21--120.55297-34.75134_ndvi_bw.tif (512, 512)\n",
      "Image download: ../Data/exports/tc/2016-08-25-2016-09-22--119.5327-36.6543_tc.tif (512, 512)\n"
     ]
    },
    {
     "name": "stderr",
     "output_type": "stream",
     "text": [
      "\r",
      " 31%|█████████████████████████▎                                                       | 464/1482 [14:57<1:17:57,  4.59s/it]"
     ]
    },
    {
     "name": "stdout",
     "output_type": "stream",
     "text": [
      "Image download: ../Data/exports/ndvi/2016-08-25-2016-09-22--119.5327-36.6543_ndvi_bw.tif (512, 512)\n",
      "Image download: ../Data/exports/tc/2016-08-25-2016-09-22--120.8416-38.5212_tc.tif (512, 512)\n"
     ]
    },
    {
     "name": "stderr",
     "output_type": "stream",
     "text": [
      "\r",
      " 31%|█████████████████████████▍                                                       | 465/1482 [15:02<1:17:55,  4.60s/it]"
     ]
    },
    {
     "name": "stdout",
     "output_type": "stream",
     "text": [
      "Image download: ../Data/exports/ndvi/2016-08-25-2016-09-22--120.8416-38.5212_ndvi_bw.tif (512, 512)\n",
      "Image download: ../Data/exports/tc/2016-08-27-2016-09-24--121.93923-40.0_tc.tif (512, 512)\n"
     ]
    },
    {
     "name": "stderr",
     "output_type": "stream",
     "text": [
      "\r",
      " 31%|█████████████████████████▍                                                       | 466/1482 [15:07<1:17:26,  4.57s/it]"
     ]
    },
    {
     "name": "stdout",
     "output_type": "stream",
     "text": [
      "Image download: ../Data/exports/ndvi/2016-08-27-2016-09-24--121.93923-40.0_ndvi_bw.tif (512, 512)\n",
      "Image download: ../Data/exports/tc/2016-08-27-2016-09-24--122.82895-38.80017_tc.tif (512, 512)\n"
     ]
    },
    {
     "name": "stderr",
     "output_type": "stream",
     "text": [
      "\r",
      " 32%|█████████████████████████▌                                                       | 467/1482 [15:12<1:19:34,  4.70s/it]"
     ]
    },
    {
     "name": "stdout",
     "output_type": "stream",
     "text": [
      "Image download: ../Data/exports/ndvi/2016-08-27-2016-09-24--122.82895-38.80017_ndvi_bw.tif (512, 512)\n",
      "Image download: ../Data/exports/tc/2016-08-28-2016-09-25--120.32484-37.79635_tc.tif (512, 512)\n"
     ]
    },
    {
     "name": "stderr",
     "output_type": "stream",
     "text": [
      "\r",
      " 32%|█████████████████████████▌                                                       | 468/1482 [15:19<1:34:31,  5.59s/it]"
     ]
    },
    {
     "name": "stdout",
     "output_type": "stream",
     "text": [
      "Image download: ../Data/exports/ndvi/2016-08-28-2016-09-25--120.32484-37.79635_ndvi_bw.tif (512, 512)\n",
      "Image download: ../Data/exports/tc/2016-08-28-2016-09-25--121.32-39.92_tc.tif (512, 512)\n"
     ]
    },
    {
     "name": "stderr",
     "output_type": "stream",
     "text": [
      "\r",
      " 32%|█████████████████████████▋                                                       | 469/1482 [15:23<1:26:37,  5.13s/it]"
     ]
    },
    {
     "name": "stdout",
     "output_type": "stream",
     "text": [
      "Image download: ../Data/exports/ndvi/2016-08-28-2016-09-25--121.32-39.92_ndvi_bw.tif (512, 512)\n",
      "Image download: ../Data/exports/tc/2016-08-28-2016-09-25--121.85318-37.10632_tc.tif (512, 512)\n"
     ]
    },
    {
     "name": "stderr",
     "output_type": "stream",
     "text": [
      "\r",
      " 32%|█████████████████████████▋                                                       | 470/1482 [15:28<1:24:54,  5.03s/it]"
     ]
    },
    {
     "name": "stdout",
     "output_type": "stream",
     "text": [
      "Image download: ../Data/exports/ndvi/2016-08-28-2016-09-25--121.85318-37.10632_ndvi_bw.tif (512, 512)\n",
      "Image download: ../Data/exports/tc/2016-09-11-2016-10-09--122.43172-38.40958_tc.tif (512, 512)\n"
     ]
    },
    {
     "name": "stderr",
     "output_type": "stream",
     "text": [
      "\r",
      " 32%|█████████████████████████▋                                                       | 471/1482 [15:33<1:22:31,  4.90s/it]"
     ]
    },
    {
     "name": "stdout",
     "output_type": "stream",
     "text": [
      "Image download: ../Data/exports/ndvi/2016-09-11-2016-10-09--122.43172-38.40958_ndvi_bw.tif (512, 512)\n",
      "Image download: ../Data/exports/tc/2016-09-12-2016-10-10--119.25959-36.94536_tc.tif (512, 512)\n"
     ]
    },
    {
     "name": "stderr",
     "output_type": "stream",
     "text": [
      "\r",
      " 32%|█████████████████████████▊                                                       | 472/1482 [15:38<1:23:48,  4.98s/it]"
     ]
    },
    {
     "name": "stdout",
     "output_type": "stream",
     "text": [
      "Image download: ../Data/exports/ndvi/2016-09-12-2016-10-10--119.25959-36.94536_ndvi_bw.tif (512, 512)\n",
      "Image download: ../Data/exports/tc/2016-09-15-2016-10-13--120.10744-38.93449_tc.tif (512, 512)\n"
     ]
    },
    {
     "name": "stderr",
     "output_type": "stream",
     "text": [
      "\r",
      " 32%|█████████████████████████▊                                                       | 473/1482 [15:43<1:25:05,  5.06s/it]"
     ]
    },
    {
     "name": "stdout",
     "output_type": "stream",
     "text": [
      "Image download: ../Data/exports/ndvi/2016-09-15-2016-10-13--120.10744-38.93449_ndvi_bw.tif (512, 512)\n",
      "Image download: ../Data/exports/tc/2016-09-21-2016-10-19--118.551-36.217_tc.tif (512, 512)\n"
     ]
    },
    {
     "name": "stderr",
     "output_type": "stream",
     "text": [
      "\r",
      " 32%|█████████████████████████▉                                                       | 474/1482 [15:48<1:24:28,  5.03s/it]"
     ]
    },
    {
     "name": "stdout",
     "output_type": "stream",
     "text": [
      "Image download: ../Data/exports/ndvi/2016-09-21-2016-10-19--118.551-36.217_ndvi_bw.tif (512, 512)\n",
      "Image download: ../Data/exports/tc/2016-09-30-2016-10-28--118.551-35.984_tc.tif (512, 512)\n"
     ]
    },
    {
     "name": "stderr",
     "output_type": "stream",
     "text": [
      "\r",
      " 32%|█████████████████████████▉                                                       | 475/1482 [15:52<1:19:48,  4.75s/it]"
     ]
    },
    {
     "name": "stdout",
     "output_type": "stream",
     "text": [
      "Image download: ../Data/exports/ndvi/2016-09-30-2016-10-28--118.551-35.984_ndvi_bw.tif (512, 512)\n",
      "Image download: ../Data/exports/tc/2016-10-15-2016-11-12--117.158475-33.254355_tc.tif (512, 512)\n"
     ]
    },
    {
     "name": "stderr",
     "output_type": "stream",
     "text": [
      "\r",
      " 32%|██████████████████████████                                                       | 476/1482 [15:56<1:17:16,  4.61s/it]"
     ]
    },
    {
     "name": "stdout",
     "output_type": "stream",
     "text": [
      "Image download: ../Data/exports/ndvi/2016-10-15-2016-11-12--117.158475-33.254355_ndvi_bw.tif (512, 512)\n",
      "Image download: ../Data/exports/tc/2016-10-16-2016-11-13--118.335-34.31_tc.tif (512, 512)\n"
     ]
    },
    {
     "name": "stderr",
     "output_type": "stream",
     "text": [
      "\r",
      " 32%|██████████████████████████                                                       | 477/1482 [16:00<1:14:06,  4.42s/it]"
     ]
    },
    {
     "name": "stdout",
     "output_type": "stream",
     "text": [
      "Image download: ../Data/exports/ndvi/2016-10-16-2016-11-13--118.335-34.31_ndvi_bw.tif (512, 512)\n"
     ]
    },
    {
     "name": "stderr",
     "output_type": "stream",
     "text": [
      "\r",
      " 32%|██████████████████████████▊                                                        | 478/1482 [16:01<55:57,  3.34s/it]"
     ]
    },
    {
     "name": "stdout",
     "output_type": "stream",
     "text": [
      "EXCEPTION - Row 1053 @ (-121.55633, 39.51158)\n",
      "Image.select: Band pattern 'B4' was applied to an Image with no bands. See https://developers.google.com/earth-engine/guides/debugging#no-bands\n",
      "Image download: ../Data/exports/tc/2017-03-05-2017-04-02--121.85645-40.48712_tc.tif (512, 512)\n"
     ]
    },
    {
     "name": "stderr",
     "output_type": "stream",
     "text": [
      "\r",
      " 32%|██████████████████████████▏                                                      | 479/1482 [16:05<1:00:08,  3.60s/it]"
     ]
    },
    {
     "name": "stdout",
     "output_type": "stream",
     "text": [
      "Image download: ../Data/exports/ndvi/2017-03-05-2017-04-02--121.85645-40.48712_ndvi_bw.tif (512, 512)\n",
      "Image download: ../Data/exports/tc/2017-03-05-2017-04-02--120.58342-41.16716_tc.tif (512, 512)\n"
     ]
    },
    {
     "name": "stderr",
     "output_type": "stream",
     "text": [
      "\r",
      " 32%|██████████████████████████▏                                                      | 480/1482 [16:10<1:04:55,  3.89s/it]"
     ]
    },
    {
     "name": "stdout",
     "output_type": "stream",
     "text": [
      "Image download: ../Data/exports/ndvi/2017-03-05-2017-04-02--120.58342-41.16716_ndvi_bw.tif (512, 512)\n",
      "Image download: ../Data/exports/tc/2017-03-15-2017-04-12--116.08003-33.56777_tc.tif (512, 512)\n"
     ]
    },
    {
     "name": "stderr",
     "output_type": "stream",
     "text": [
      "\r",
      " 32%|██████████████████████████▎                                                      | 481/1482 [16:14<1:05:17,  3.91s/it]"
     ]
    },
    {
     "name": "stdout",
     "output_type": "stream",
     "text": [
      "Image download: ../Data/exports/ndvi/2017-03-15-2017-04-12--116.08003-33.56777_ndvi_bw.tif (512, 512)\n"
     ]
    },
    {
     "name": "stderr",
     "output_type": "stream",
     "text": [
      "\r",
      " 33%|██████████████████████████▉                                                        | 482/1482 [16:15<49:31,  2.97s/it]"
     ]
    },
    {
     "name": "stdout",
     "output_type": "stream",
     "text": [
      "EXCEPTION - Row 657 @ (-120.26561, 36.07228)\n",
      "Image.select: Band pattern 'B4' was applied to an Image with no bands. See https://developers.google.com/earth-engine/guides/debugging#no-bands\n",
      "Image download: ../Data/exports/tc/2017-03-26-2017-04-23--121.34695-36.44141_tc.tif (512, 512)\n"
     ]
    },
    {
     "name": "stderr",
     "output_type": "stream",
     "text": [
      "\r",
      " 33%|███████████████████████████                                                        | 483/1482 [16:19<54:11,  3.26s/it]"
     ]
    },
    {
     "name": "stdout",
     "output_type": "stream",
     "text": [
      "Image download: ../Data/exports/ndvi/2017-03-26-2017-04-23--121.34695-36.44141_ndvi_bw.tif (512, 512)\n"
     ]
    },
    {
     "name": "stderr",
     "output_type": "stream",
     "text": [
      "\r",
      " 33%|███████████████████████████                                                        | 484/1482 [16:19<41:26,  2.49s/it]"
     ]
    },
    {
     "name": "stdout",
     "output_type": "stream",
     "text": [
      "EXCEPTION - Row 699 @ (-120.206592, 36.530836)\n",
      "Image.select: Band pattern 'B4' was applied to an Image with no bands. See https://developers.google.com/earth-engine/guides/debugging#no-bands\n",
      "Image download: ../Data/exports/tc/2017-03-31-2017-04-28--120.6585-36.5355_tc.tif (512, 512)\n"
     ]
    },
    {
     "name": "stderr",
     "output_type": "stream",
     "text": [
      "\r",
      " 33%|███████████████████████████▏                                                       | 485/1482 [16:24<50:28,  3.04s/it]"
     ]
    },
    {
     "name": "stdout",
     "output_type": "stream",
     "text": [
      "Image download: ../Data/exports/ndvi/2017-03-31-2017-04-28--120.6585-36.5355_ndvi_bw.tif (512, 512)\n",
      "Image download: ../Data/exports/tc/2017-04-01-2017-04-29--117.30693-34.00566_tc.tif (512, 512)\n"
     ]
    },
    {
     "name": "stderr",
     "output_type": "stream",
     "text": [
      "\r",
      " 33%|███████████████████████████▏                                                       | 486/1482 [16:28<57:13,  3.45s/it]"
     ]
    },
    {
     "name": "stdout",
     "output_type": "stream",
     "text": [
      "Image download: ../Data/exports/ndvi/2017-04-01-2017-04-29--117.30693-34.00566_ndvi_bw.tif (512, 512)\n",
      "Image download: ../Data/exports/tc/2017-04-01-2017-04-29--117.45646-34.30104_tc.tif (512, 512)\n"
     ]
    },
    {
     "name": "stderr",
     "output_type": "stream",
     "text": [
      "\r",
      " 33%|██████████████████████████▌                                                      | 487/1482 [16:33<1:06:13,  3.99s/it]"
     ]
    },
    {
     "name": "stdout",
     "output_type": "stream",
     "text": [
      "Image download: ../Data/exports/ndvi/2017-04-01-2017-04-29--117.45646-34.30104_ndvi_bw.tif (512, 512)\n",
      "Image download: ../Data/exports/tc/2017-04-01-2017-04-29--117.5048-33.7866_tc.tif (512, 512)\n"
     ]
    },
    {
     "name": "stderr",
     "output_type": "stream",
     "text": [
      "\r",
      " 33%|██████████████████████████▋                                                      | 488/1482 [16:37<1:04:41,  3.90s/it]"
     ]
    },
    {
     "name": "stdout",
     "output_type": "stream",
     "text": [
      "Image download: ../Data/exports/ndvi/2017-04-01-2017-04-29--117.5048-33.7866_ndvi_bw.tif (512, 512)\n",
      "Image download: ../Data/exports/tc/2017-04-02-2017-04-30--118.30601-35.71704_tc.tif (512, 512)\n"
     ]
    },
    {
     "name": "stderr",
     "output_type": "stream",
     "text": [
      "\r",
      " 33%|██████████████████████████▋                                                      | 489/1482 [16:41<1:06:24,  4.01s/it]"
     ]
    },
    {
     "name": "stdout",
     "output_type": "stream",
     "text": [
      "Image download: ../Data/exports/ndvi/2017-04-02-2017-04-30--118.30601-35.71704_ndvi_bw.tif (512, 512)\n"
     ]
    },
    {
     "name": "stderr",
     "output_type": "stream",
     "text": [
      "\r",
      " 33%|███████████████████████████▍                                                       | 490/1482 [16:42<49:50,  3.01s/it]"
     ]
    },
    {
     "name": "stdout",
     "output_type": "stream",
     "text": [
      "EXCEPTION - Row 789 @ (-120.22647, 35.78286)\n",
      "Image.select: Band pattern 'B4' was applied to an Image with no bands. See https://developers.google.com/earth-engine/guides/debugging#no-bands\n"
     ]
    },
    {
     "name": "stderr",
     "output_type": "stream",
     "text": [
      "\r",
      " 33%|███████████████████████████▍                                                       | 491/1482 [16:43<38:24,  2.33s/it]"
     ]
    },
    {
     "name": "stdout",
     "output_type": "stream",
     "text": [
      "EXCEPTION - Row 1017 @ (-120.3317, 35.6879)\n",
      "Image.select: Band pattern 'B4' was applied to an Image with no bands. See https://developers.google.com/earth-engine/guides/debugging#no-bands\n"
     ]
    },
    {
     "name": "stderr",
     "output_type": "stream",
     "text": [
      "\r",
      " 33%|███████████████████████████▌                                                       | 492/1482 [16:43<30:10,  1.83s/it]"
     ]
    },
    {
     "name": "stdout",
     "output_type": "stream",
     "text": [
      "EXCEPTION - Row 729 @ (-120.2445, 36.45491)\n",
      "Image.select: Band pattern 'B4' was applied to an Image with no bands. See https://developers.google.com/earth-engine/guides/debugging#no-bands\n",
      "Image download: ../Data/exports/tc/2017-04-13-2017-05-11--118.4683-35.60001_tc.tif (512, 512)\n"
     ]
    },
    {
     "name": "stderr",
     "output_type": "stream",
     "text": [
      "\r",
      " 33%|███████████████████████████▌                                                       | 493/1482 [16:48<41:43,  2.53s/it]"
     ]
    },
    {
     "name": "stdout",
     "output_type": "stream",
     "text": [
      "Image download: ../Data/exports/ndvi/2017-04-13-2017-05-11--118.4683-35.60001_ndvi_bw.tif (512, 512)\n",
      "Image download: ../Data/exports/tc/2017-04-13-2017-05-11--120.89261-36.96655_tc.tif (512, 512)\n"
     ]
    },
    {
     "name": "stderr",
     "output_type": "stream",
     "text": [
      "\r",
      " 33%|███████████████████████████▋                                                       | 494/1482 [16:52<51:16,  3.11s/it]"
     ]
    },
    {
     "name": "stdout",
     "output_type": "stream",
     "text": [
      "Image download: ../Data/exports/ndvi/2017-04-13-2017-05-11--120.89261-36.96655_ndvi_bw.tif (512, 512)\n",
      "Image download: ../Data/exports/tc/2017-04-15-2017-05-13--120.92482-35.77082_tc.tif (512, 512)\n"
     ]
    },
    {
     "name": "stderr",
     "output_type": "stream",
     "text": [
      "\r",
      " 33%|███████████████████████████▋                                                       | 495/1482 [16:56<57:17,  3.48s/it]"
     ]
    },
    {
     "name": "stdout",
     "output_type": "stream",
     "text": [
      "Image download: ../Data/exports/ndvi/2017-04-15-2017-05-13--120.92482-35.77082_ndvi_bw.tif (512, 512)\n",
      "Image download: ../Data/exports/tc/2017-04-15-2017-05-13--116.99229-33.88466_tc.tif (512, 512)\n"
     ]
    },
    {
     "name": "stderr",
     "output_type": "stream",
     "text": [
      "\r",
      " 33%|███████████████████████████                                                      | 496/1482 [17:01<1:01:53,  3.77s/it]"
     ]
    },
    {
     "name": "stdout",
     "output_type": "stream",
     "text": [
      "Image download: ../Data/exports/ndvi/2017-04-15-2017-05-13--116.99229-33.88466_ndvi_bw.tif (512, 512)\n",
      "Image download: ../Data/exports/tc/2017-04-15-2017-05-13--118.90004-35.05076_tc.tif (512, 512)\n"
     ]
    },
    {
     "name": "stderr",
     "output_type": "stream",
     "text": [
      "\r",
      " 34%|███████████████████████████▏                                                     | 497/1482 [17:05<1:03:47,  3.89s/it]"
     ]
    },
    {
     "name": "stdout",
     "output_type": "stream",
     "text": [
      "Image download: ../Data/exports/ndvi/2017-04-15-2017-05-13--118.90004-35.05076_ndvi_bw.tif (512, 512)\n",
      "Image download: ../Data/exports/tc/2017-04-16-2017-05-14--119.87525-35.21177_tc.tif (512, 512)\n"
     ]
    },
    {
     "name": "stderr",
     "output_type": "stream",
     "text": [
      "\r",
      " 34%|███████████████████████████▏                                                     | 498/1482 [17:09<1:04:46,  3.95s/it]"
     ]
    },
    {
     "name": "stdout",
     "output_type": "stream",
     "text": [
      "Image download: ../Data/exports/ndvi/2017-04-16-2017-05-14--119.87525-35.21177_ndvi_bw.tif (512, 512)\n",
      "Image download: ../Data/exports/tc/2017-04-16-2017-05-14--118.84466-35.41283_tc.tif (512, 512)\n"
     ]
    },
    {
     "name": "stderr",
     "output_type": "stream",
     "text": [
      "\r",
      " 34%|███████████████████████████▎                                                     | 499/1482 [17:13<1:04:58,  3.97s/it]"
     ]
    },
    {
     "name": "stdout",
     "output_type": "stream",
     "text": [
      "Image download: ../Data/exports/ndvi/2017-04-16-2017-05-14--118.84466-35.41283_ndvi_bw.tif (512, 512)\n",
      "Image download: ../Data/exports/tc/2017-04-17-2017-05-15--120.86682-36.1727_tc.tif (512, 512)\n"
     ]
    },
    {
     "name": "stderr",
     "output_type": "stream",
     "text": [
      "\r",
      " 34%|███████████████████████████▎                                                     | 500/1482 [17:17<1:04:26,  3.94s/it]"
     ]
    },
    {
     "name": "stdout",
     "output_type": "stream",
     "text": [
      "Image download: ../Data/exports/ndvi/2017-04-17-2017-05-15--120.86682-36.1727_ndvi_bw.tif (512, 512)\n",
      "Image download: ../Data/exports/tc/2017-04-18-2017-05-16--120.94328-36.2771_tc.tif (512, 512)\n"
     ]
    },
    {
     "name": "stderr",
     "output_type": "stream",
     "text": [
      "\r",
      " 34%|███████████████████████████▍                                                     | 501/1482 [17:21<1:02:52,  3.85s/it]"
     ]
    },
    {
     "name": "stdout",
     "output_type": "stream",
     "text": [
      "Image download: ../Data/exports/ndvi/2017-04-18-2017-05-16--120.94328-36.2771_ndvi_bw.tif (512, 512)\n",
      "Image download: ../Data/exports/tc/2017-04-18-2017-05-16--119.79315-36.90967_tc.tif (512, 512)\n"
     ]
    },
    {
     "name": "stderr",
     "output_type": "stream",
     "text": [
      "\r",
      " 34%|███████████████████████████▍                                                     | 502/1482 [17:24<1:02:03,  3.80s/it]"
     ]
    },
    {
     "name": "stdout",
     "output_type": "stream",
     "text": [
      "Image download: ../Data/exports/ndvi/2017-04-18-2017-05-16--119.79315-36.90967_ndvi_bw.tif (512, 512)\n"
     ]
    },
    {
     "name": "stderr",
     "output_type": "stream",
     "text": [
      "\r",
      " 34%|████████████████████████████▏                                                      | 503/1482 [17:25<47:02,  2.88s/it]"
     ]
    },
    {
     "name": "stdout",
     "output_type": "stream",
     "text": [
      "EXCEPTION - Row 750 @ (-120.76464, 35.34541)\n",
      "Image.select: Band pattern 'B4' was applied to an Image with no bands. See https://developers.google.com/earth-engine/guides/debugging#no-bands\n"
     ]
    },
    {
     "name": "stderr",
     "output_type": "stream",
     "text": [
      "\r",
      " 34%|████████████████████████████▏                                                      | 504/1482 [17:26<36:53,  2.26s/it]"
     ]
    },
    {
     "name": "stdout",
     "output_type": "stream",
     "text": [
      "EXCEPTION - Row 978 @ (-119.91508, 35.983)\n",
      "Image.select: Band pattern 'B4' was applied to an Image with no bands. See https://developers.google.com/earth-engine/guides/debugging#no-bands\n"
     ]
    },
    {
     "name": "stderr",
     "output_type": "stream",
     "text": [
      "\r",
      " 34%|████████████████████████████▎                                                      | 505/1482 [17:27<29:47,  1.83s/it]"
     ]
    },
    {
     "name": "stdout",
     "output_type": "stream",
     "text": [
      "EXCEPTION - Row 643 @ (-120.37116, 36.12089)\n",
      "Image.select: Band pattern 'B4' was applied to an Image with no bands. See https://developers.google.com/earth-engine/guides/debugging#no-bands\n",
      "Image download: ../Data/exports/tc/2017-04-19-2017-05-17--117.44148-33.97155_tc.tif (512, 512)\n"
     ]
    },
    {
     "name": "stderr",
     "output_type": "stream",
     "text": [
      "\r",
      " 34%|████████████████████████████▎                                                      | 506/1482 [17:31<40:55,  2.52s/it]"
     ]
    },
    {
     "name": "stdout",
     "output_type": "stream",
     "text": [
      "Image download: ../Data/exports/ndvi/2017-04-19-2017-05-17--117.44148-33.97155_ndvi_bw.tif (512, 512)\n",
      "Image download: ../Data/exports/tc/2017-04-20-2017-05-18--120.80411-35.85253_tc.tif (512, 512)\n"
     ]
    },
    {
     "name": "stderr",
     "output_type": "stream",
     "text": [
      "\r",
      " 34%|████████████████████████████▍                                                      | 507/1482 [17:35<50:50,  3.13s/it]"
     ]
    },
    {
     "name": "stdout",
     "output_type": "stream",
     "text": [
      "Image download: ../Data/exports/ndvi/2017-04-20-2017-05-18--120.80411-35.85253_ndvi_bw.tif (512, 512)\n",
      "Image download: ../Data/exports/tc/2017-04-20-2017-05-18--117.32348-33.3906_tc.tif (512, 512)\n"
     ]
    },
    {
     "name": "stderr",
     "output_type": "stream",
     "text": [
      "\r",
      " 34%|████████████████████████████▍                                                      | 508/1482 [17:40<56:25,  3.48s/it]"
     ]
    },
    {
     "name": "stdout",
     "output_type": "stream",
     "text": [
      "Image download: ../Data/exports/ndvi/2017-04-20-2017-05-18--117.32348-33.3906_ndvi_bw.tif (512, 512)\n",
      "Image download: ../Data/exports/tc/2017-04-20-2017-05-18--120.5828-36.60736_tc.tif (512, 512)\n"
     ]
    },
    {
     "name": "stderr",
     "output_type": "stream",
     "text": [
      "\r",
      " 34%|███████████████████████████▊                                                     | 509/1482 [17:44<1:00:07,  3.71s/it]"
     ]
    },
    {
     "name": "stdout",
     "output_type": "stream",
     "text": [
      "Image download: ../Data/exports/ndvi/2017-04-20-2017-05-18--120.5828-36.60736_ndvi_bw.tif (512, 512)\n",
      "Image download: ../Data/exports/tc/2017-04-21-2017-05-19--120.474-35.556667_tc.tif (512, 512)\n"
     ]
    },
    {
     "name": "stderr",
     "output_type": "stream",
     "text": [
      "\r",
      " 34%|███████████████████████████▊                                                     | 510/1482 [17:48<1:04:02,  3.95s/it]"
     ]
    },
    {
     "name": "stdout",
     "output_type": "stream",
     "text": [
      "Image download: ../Data/exports/ndvi/2017-04-21-2017-05-19--120.474-35.556667_ndvi_bw.tif (512, 512)\n",
      "Image download: ../Data/exports/tc/2017-04-21-2017-05-19--118.85896-35.4605_tc.tif (512, 512)\n"
     ]
    },
    {
     "name": "stderr",
     "output_type": "stream",
     "text": [
      "\r",
      " 34%|███████████████████████████▉                                                     | 511/1482 [17:53<1:05:54,  4.07s/it]"
     ]
    },
    {
     "name": "stdout",
     "output_type": "stream",
     "text": [
      "Image download: ../Data/exports/ndvi/2017-04-21-2017-05-19--118.85896-35.4605_ndvi_bw.tif (512, 512)\n",
      "Image download: ../Data/exports/tc/2017-04-21-2017-05-19--119.8036-34.9465_tc.tif (512, 512)\n"
     ]
    },
    {
     "name": "stderr",
     "output_type": "stream",
     "text": [
      "\r",
      " 35%|███████████████████████████▉                                                     | 512/1482 [17:57<1:07:28,  4.17s/it]"
     ]
    },
    {
     "name": "stdout",
     "output_type": "stream",
     "text": [
      "Image download: ../Data/exports/ndvi/2017-04-21-2017-05-19--119.8036-34.9465_ndvi_bw.tif (512, 512)\n",
      "Image download: ../Data/exports/tc/2017-04-21-2017-05-19--116.80527-32.65597_tc.tif (512, 512)\n"
     ]
    },
    {
     "name": "stderr",
     "output_type": "stream",
     "text": [
      "\r",
      " 35%|████████████████████████████                                                     | 513/1482 [18:01<1:08:05,  4.22s/it]"
     ]
    },
    {
     "name": "stdout",
     "output_type": "stream",
     "text": [
      "Image download: ../Data/exports/ndvi/2017-04-21-2017-05-19--116.80527-32.65597_ndvi_bw.tif (512, 512)\n",
      "Image download: ../Data/exports/tc/2017-04-22-2017-05-20--117.20507-33.96419_tc.tif (512, 512)\n"
     ]
    },
    {
     "name": "stderr",
     "output_type": "stream",
     "text": [
      "\r",
      " 35%|████████████████████████████                                                     | 514/1482 [18:06<1:08:16,  4.23s/it]"
     ]
    },
    {
     "name": "stdout",
     "output_type": "stream",
     "text": [
      "Image download: ../Data/exports/ndvi/2017-04-22-2017-05-20--117.20507-33.96419_ndvi_bw.tif (512, 512)\n",
      "Image download: ../Data/exports/tc/2017-04-23-2017-05-21--120.99552-36.35578_tc.tif (512, 512)\n"
     ]
    },
    {
     "name": "stderr",
     "output_type": "stream",
     "text": [
      "\r",
      " 35%|████████████████████████████▏                                                    | 515/1482 [18:10<1:07:28,  4.19s/it]"
     ]
    },
    {
     "name": "stdout",
     "output_type": "stream",
     "text": [
      "Image download: ../Data/exports/ndvi/2017-04-23-2017-05-21--120.99552-36.35578_ndvi_bw.tif (512, 512)\n",
      "Image download: ../Data/exports/tc/2017-04-24-2017-05-22--117.17773-33.94673_tc.tif (512, 512)\n"
     ]
    },
    {
     "name": "stderr",
     "output_type": "stream",
     "text": [
      "\r",
      " 35%|████████████████████████████▏                                                    | 516/1482 [18:19<1:31:45,  5.70s/it]"
     ]
    },
    {
     "name": "stdout",
     "output_type": "stream",
     "text": [
      "Image download: ../Data/exports/ndvi/2017-04-24-2017-05-22--117.17773-33.94673_ndvi_bw.tif (512, 512)\n",
      "Image download: ../Data/exports/tc/2017-04-25-2017-05-23--116.29296-32.679_tc.tif (512, 512)\n"
     ]
    },
    {
     "name": "stderr",
     "output_type": "stream",
     "text": [
      "\r",
      " 35%|████████████████████████████▎                                                    | 517/1482 [18:23<1:24:12,  5.24s/it]"
     ]
    },
    {
     "name": "stdout",
     "output_type": "stream",
     "text": [
      "Image download: ../Data/exports/ndvi/2017-04-25-2017-05-23--116.29296-32.679_ndvi_bw.tif (512, 512)\n",
      "Image download: ../Data/exports/tc/2017-04-26-2017-05-24--116.99651-33.88287_tc.tif (512, 512)\n"
     ]
    },
    {
     "name": "stderr",
     "output_type": "stream",
     "text": [
      "\r",
      " 35%|████████████████████████████▎                                                    | 518/1482 [18:28<1:22:17,  5.12s/it]"
     ]
    },
    {
     "name": "stdout",
     "output_type": "stream",
     "text": [
      "Image download: ../Data/exports/ndvi/2017-04-26-2017-05-24--116.99651-33.88287_ndvi_bw.tif (512, 512)\n",
      "Image download: ../Data/exports/tc/2017-04-26-2017-05-24--117.39818-33.34988_tc.tif (512, 512)\n"
     ]
    },
    {
     "name": "stderr",
     "output_type": "stream",
     "text": [
      "\r",
      " 35%|████████████████████████████▎                                                    | 519/1482 [18:32<1:16:09,  4.75s/it]"
     ]
    },
    {
     "name": "stdout",
     "output_type": "stream",
     "text": [
      "Image download: ../Data/exports/ndvi/2017-04-26-2017-05-24--117.39818-33.34988_ndvi_bw.tif (512, 512)\n",
      "Image download: ../Data/exports/tc/2017-04-29-2017-05-27--119.58292-36.96642_tc.tif (512, 512)\n"
     ]
    },
    {
     "name": "stderr",
     "output_type": "stream",
     "text": [
      "\r",
      " 35%|████████████████████████████▍                                                    | 520/1482 [18:37<1:18:24,  4.89s/it]"
     ]
    },
    {
     "name": "stdout",
     "output_type": "stream",
     "text": [
      "Image download: ../Data/exports/ndvi/2017-04-29-2017-05-27--119.58292-36.96642_ndvi_bw.tif (512, 512)\n",
      "Image download: ../Data/exports/tc/2017-04-29-2017-05-27--118.35296-34.87128_tc.tif (512, 512)\n"
     ]
    },
    {
     "name": "stderr",
     "output_type": "stream",
     "text": [
      "\r",
      " 35%|████████████████████████████▍                                                    | 521/1482 [18:42<1:17:58,  4.87s/it]"
     ]
    },
    {
     "name": "stdout",
     "output_type": "stream",
     "text": [
      "Image download: ../Data/exports/ndvi/2017-04-29-2017-05-27--118.35296-34.87128_ndvi_bw.tif (512, 512)\n",
      "Image download: ../Data/exports/tc/2017-04-29-2017-05-27--116.07429-33.58577_tc.tif (512, 512)\n"
     ]
    },
    {
     "name": "stderr",
     "output_type": "stream",
     "text": [
      "\r",
      " 35%|████████████████████████████▌                                                    | 522/1482 [18:47<1:17:20,  4.83s/it]"
     ]
    },
    {
     "name": "stdout",
     "output_type": "stream",
     "text": [
      "Image download: ../Data/exports/ndvi/2017-04-29-2017-05-27--116.07429-33.58577_ndvi_bw.tif (512, 512)\n",
      "Image download: ../Data/exports/tc/2017-04-29-2017-05-27--120.83484-38.19906_tc.tif (512, 512)\n"
     ]
    },
    {
     "name": "stderr",
     "output_type": "stream",
     "text": [
      "\r",
      " 35%|████████████████████████████▌                                                    | 523/1482 [18:51<1:14:44,  4.68s/it]"
     ]
    },
    {
     "name": "stdout",
     "output_type": "stream",
     "text": [
      "Image download: ../Data/exports/ndvi/2017-04-29-2017-05-27--120.83484-38.19906_ndvi_bw.tif (512, 512)\n",
      "Image download: ../Data/exports/tc/2017-04-29-2017-05-27--120.7109-36.61332_tc.tif (512, 512)\n"
     ]
    },
    {
     "name": "stderr",
     "output_type": "stream",
     "text": [
      "\r",
      " 35%|████████████████████████████▋                                                    | 524/1482 [19:01<1:41:14,  6.34s/it]"
     ]
    },
    {
     "name": "stdout",
     "output_type": "stream",
     "text": [
      "Image download: ../Data/exports/ndvi/2017-04-29-2017-05-27--120.7109-36.61332_ndvi_bw.tif (512, 512)\n",
      "Image download: ../Data/exports/tc/2017-04-30-2017-05-28--116.55326-34.04412_tc.tif (512, 512)\n"
     ]
    },
    {
     "name": "stderr",
     "output_type": "stream",
     "text": [
      "\r",
      " 35%|████████████████████████████▋                                                    | 525/1482 [19:06<1:34:57,  5.95s/it]"
     ]
    },
    {
     "name": "stdout",
     "output_type": "stream",
     "text": [
      "Image download: ../Data/exports/ndvi/2017-04-30-2017-05-28--116.55326-34.04412_ndvi_bw.tif (512, 512)\n",
      "Image download: ../Data/exports/tc/2017-04-30-2017-05-28--121.376-39.23205_tc.tif (512, 512)\n"
     ]
    },
    {
     "name": "stderr",
     "output_type": "stream",
     "text": [
      "\r",
      " 35%|████████████████████████████▋                                                    | 526/1482 [19:11<1:30:35,  5.69s/it]"
     ]
    },
    {
     "name": "stdout",
     "output_type": "stream",
     "text": [
      "Image download: ../Data/exports/ndvi/2017-04-30-2017-05-28--121.376-39.23205_ndvi_bw.tif (512, 512)\n",
      "Image download: ../Data/exports/tc/2017-05-02-2017-05-30--119.00334-35.89423_tc.tif (512, 512)\n"
     ]
    },
    {
     "name": "stderr",
     "output_type": "stream",
     "text": [
      "\r",
      " 36%|████████████████████████████▊                                                    | 527/1482 [19:16<1:26:01,  5.40s/it]"
     ]
    },
    {
     "name": "stdout",
     "output_type": "stream",
     "text": [
      "Image download: ../Data/exports/ndvi/2017-05-02-2017-05-30--119.00334-35.89423_ndvi_bw.tif (512, 512)\n",
      "Image download: ../Data/exports/tc/2017-05-03-2017-05-31--121.11113-38.33707_tc.tif (512, 512)\n"
     ]
    },
    {
     "name": "stderr",
     "output_type": "stream",
     "text": [
      "\r",
      " 36%|████████████████████████████▊                                                    | 528/1482 [19:21<1:24:49,  5.33s/it]"
     ]
    },
    {
     "name": "stdout",
     "output_type": "stream",
     "text": [
      "Image download: ../Data/exports/ndvi/2017-05-03-2017-05-31--121.11113-38.33707_ndvi_bw.tif (512, 512)\n",
      "Image download: ../Data/exports/tc/2017-05-03-2017-05-31--116.59719-33.94788_tc.tif (512, 512)\n"
     ]
    },
    {
     "name": "stderr",
     "output_type": "stream",
     "text": [
      "\r",
      " 36%|████████████████████████████▉                                                    | 529/1482 [19:26<1:21:49,  5.15s/it]"
     ]
    },
    {
     "name": "stdout",
     "output_type": "stream",
     "text": [
      "Image download: ../Data/exports/ndvi/2017-05-03-2017-05-31--116.59719-33.94788_ndvi_bw.tif (512, 512)\n",
      "Image download: ../Data/exports/tc/2017-05-04-2017-06-01--119.2877-35.188_tc.tif (512, 512)\n"
     ]
    },
    {
     "name": "stderr",
     "output_type": "stream",
     "text": [
      "\r",
      " 36%|████████████████████████████▉                                                    | 530/1482 [19:35<1:38:47,  6.23s/it]"
     ]
    },
    {
     "name": "stdout",
     "output_type": "stream",
     "text": [
      "Image download: ../Data/exports/ndvi/2017-05-04-2017-06-01--119.2877-35.188_ndvi_bw.tif (512, 512)\n",
      "Image download: ../Data/exports/tc/2017-05-05-2017-06-02--116.96079-33.82165_tc.tif (512, 512)\n"
     ]
    },
    {
     "name": "stderr",
     "output_type": "stream",
     "text": [
      "\r",
      " 36%|█████████████████████████████                                                    | 531/1482 [19:39<1:29:11,  5.63s/it]"
     ]
    },
    {
     "name": "stdout",
     "output_type": "stream",
     "text": [
      "Image download: ../Data/exports/ndvi/2017-05-05-2017-06-02--116.96079-33.82165_ndvi_bw.tif (512, 512)\n",
      "Image download: ../Data/exports/tc/2017-05-05-2017-06-02--120.53443-41.38247_tc.tif (512, 512)\n"
     ]
    },
    {
     "name": "stderr",
     "output_type": "stream",
     "text": [
      "\r",
      " 36%|█████████████████████████████                                                    | 532/1482 [19:44<1:24:18,  5.32s/it]"
     ]
    },
    {
     "name": "stdout",
     "output_type": "stream",
     "text": [
      "Image download: ../Data/exports/ndvi/2017-05-05-2017-06-02--120.53443-41.38247_ndvi_bw.tif (512, 512)\n",
      "Image download: ../Data/exports/tc/2017-05-05-2017-06-02--118.37539-34.29931_tc.tif (512, 512)\n"
     ]
    },
    {
     "name": "stderr",
     "output_type": "stream",
     "text": [
      "\r",
      " 36%|█████████████████████████████▏                                                   | 533/1482 [19:48<1:19:04,  5.00s/it]"
     ]
    },
    {
     "name": "stdout",
     "output_type": "stream",
     "text": [
      "Image download: ../Data/exports/ndvi/2017-05-05-2017-06-02--118.37539-34.29931_ndvi_bw.tif (512, 512)\n",
      "Image download: ../Data/exports/tc/2017-05-06-2017-06-03--120.1064-40.03392_tc.tif (512, 512)\n"
     ]
    },
    {
     "name": "stderr",
     "output_type": "stream",
     "text": [
      "\r",
      " 36%|█████████████████████████████▏                                                   | 534/1482 [19:53<1:18:23,  4.96s/it]"
     ]
    },
    {
     "name": "stdout",
     "output_type": "stream",
     "text": [
      "Image download: ../Data/exports/ndvi/2017-05-06-2017-06-03--120.1064-40.03392_ndvi_bw.tif (512, 512)\n",
      "Image download: ../Data/exports/tc/2017-05-06-2017-06-03--122.13088-40.38944_tc.tif (512, 512)\n"
     ]
    },
    {
     "name": "stderr",
     "output_type": "stream",
     "text": [
      "\r",
      " 36%|█████████████████████████████▏                                                   | 535/1482 [19:58<1:20:45,  5.12s/it]"
     ]
    },
    {
     "name": "stdout",
     "output_type": "stream",
     "text": [
      "Image download: ../Data/exports/ndvi/2017-05-06-2017-06-03--122.13088-40.38944_ndvi_bw.tif (512, 512)\n",
      "Image download: ../Data/exports/tc/2017-05-06-2017-06-03--116.88097-33.87107_tc.tif (512, 512)\n"
     ]
    },
    {
     "name": "stderr",
     "output_type": "stream",
     "text": [
      "\r",
      " 36%|█████████████████████████████▎                                                   | 536/1482 [20:02<1:15:24,  4.78s/it]"
     ]
    },
    {
     "name": "stdout",
     "output_type": "stream",
     "text": [
      "Image download: ../Data/exports/ndvi/2017-05-06-2017-06-03--116.88097-33.87107_ndvi_bw.tif (512, 512)\n",
      "Image download: ../Data/exports/tc/2017-05-06-2017-06-03--118.4642-35.60633_tc.tif (512, 512)\n"
     ]
    },
    {
     "name": "stderr",
     "output_type": "stream",
     "text": [
      "\r",
      " 36%|█████████████████████████████▎                                                   | 537/1482 [20:07<1:13:30,  4.67s/it]"
     ]
    },
    {
     "name": "stdout",
     "output_type": "stream",
     "text": [
      "Image download: ../Data/exports/ndvi/2017-05-06-2017-06-03--118.4642-35.60633_ndvi_bw.tif (512, 512)\n",
      "Image download: ../Data/exports/tc/2017-05-07-2017-06-04--122.2102-37.86549_tc.tif (512, 512)\n"
     ]
    },
    {
     "name": "stderr",
     "output_type": "stream",
     "text": [
      "\r",
      " 36%|█████████████████████████████▍                                                   | 538/1482 [20:11<1:10:06,  4.46s/it]"
     ]
    },
    {
     "name": "stdout",
     "output_type": "stream",
     "text": [
      "Image download: ../Data/exports/ndvi/2017-05-07-2017-06-04--122.2102-37.86549_ndvi_bw.tif (512, 512)\n",
      "Image download: ../Data/exports/tc/2017-05-07-2017-06-04--118.796513-35.564124_tc.tif (512, 512)\n"
     ]
    },
    {
     "name": "stderr",
     "output_type": "stream",
     "text": [
      "\r",
      " 36%|█████████████████████████████▍                                                   | 539/1482 [20:14<1:07:36,  4.30s/it]"
     ]
    },
    {
     "name": "stdout",
     "output_type": "stream",
     "text": [
      "Image download: ../Data/exports/ndvi/2017-05-07-2017-06-04--118.796513-35.564124_ndvi_bw.tif (512, 512)\n",
      "Image download: ../Data/exports/tc/2017-05-08-2017-06-05--121.64897-39.52499_tc.tif (512, 512)\n"
     ]
    },
    {
     "name": "stderr",
     "output_type": "stream",
     "text": [
      " 36%|██████████████████████████████▏                                                    | 539/1482 [28:55<50:36,  3.22s/it]\n"
     ]
    },
    {
     "ename": "KeyboardInterrupt",
     "evalue": "",
     "output_type": "error",
     "traceback": [
      "\u001b[0;31m---------------------------------------------------------------------------\u001b[0m",
      "\u001b[0;31mKeyboardInterrupt\u001b[0m                         Traceback (most recent call last)",
      "Cell \u001b[0;32mIn[520], line 3\u001b[0m\n\u001b[1;32m      1\u001b[0m base_dir \u001b[38;5;241m=\u001b[39m \u001b[38;5;124m\"\u001b[39m\u001b[38;5;124m../Data\u001b[39m\u001b[38;5;124m\"\u001b[39m\n\u001b[1;32m      2\u001b[0m find_or_create_download_dirs(base_dir\u001b[38;5;241m=\u001b[39mbase_dir)\n\u001b[0;32m----> 3\u001b[0m \u001b[43mwildfires_sm_df\u001b[49m\u001b[38;5;241;43m.\u001b[39;49m\u001b[43mprogress_apply\u001b[49m\u001b[43m(\u001b[49m\u001b[38;5;28;43;01mlambda\u001b[39;49;00m\u001b[43m \u001b[49m\u001b[43mrow\u001b[49m\u001b[43m:\u001b[49m\u001b[43m \u001b[49m\u001b[43mretrieve_set\u001b[49m\u001b[43m(\u001b[49m\u001b[43mrow\u001b[49m\u001b[43m,\u001b[49m\u001b[43m \u001b[49m\u001b[43mbase_dir\u001b[49m\u001b[43m)\u001b[49m\u001b[43m,\u001b[49m\u001b[43m \u001b[49m\u001b[43maxis\u001b[49m\u001b[38;5;241;43m=\u001b[39;49m\u001b[38;5;241;43m1\u001b[39;49m\u001b[43m)\u001b[49m\n",
      "File \u001b[0;32m~/.pyenv/versions/3.10.11/lib/python3.10/site-packages/tqdm/std.py:805\u001b[0m, in \u001b[0;36mtqdm.pandas.<locals>.inner_generator.<locals>.inner\u001b[0;34m(df, func, *args, **kwargs)\u001b[0m\n\u001b[1;32m    802\u001b[0m \u001b[38;5;66;03m# Apply the provided function (in **kwargs)\u001b[39;00m\n\u001b[1;32m    803\u001b[0m \u001b[38;5;66;03m# on the df using our wrapper (which provides bar updating)\u001b[39;00m\n\u001b[1;32m    804\u001b[0m \u001b[38;5;28;01mtry\u001b[39;00m:\n\u001b[0;32m--> 805\u001b[0m     \u001b[38;5;28;01mreturn\u001b[39;00m \u001b[38;5;28;43mgetattr\u001b[39;49m\u001b[43m(\u001b[49m\u001b[43mdf\u001b[49m\u001b[43m,\u001b[49m\u001b[43m \u001b[49m\u001b[43mdf_function\u001b[49m\u001b[43m)\u001b[49m\u001b[43m(\u001b[49m\u001b[43mwrapper\u001b[49m\u001b[43m,\u001b[49m\u001b[43m \u001b[49m\u001b[38;5;241;43m*\u001b[39;49m\u001b[38;5;241;43m*\u001b[39;49m\u001b[43mkwargs\u001b[49m\u001b[43m)\u001b[49m\n\u001b[1;32m    806\u001b[0m \u001b[38;5;28;01mfinally\u001b[39;00m:\n\u001b[1;32m    807\u001b[0m     t\u001b[38;5;241m.\u001b[39mclose()\n",
      "File \u001b[0;32m~/.pyenv/versions/3.10.11/lib/python3.10/site-packages/pandas/core/frame.py:9423\u001b[0m, in \u001b[0;36mDataFrame.apply\u001b[0;34m(self, func, axis, raw, result_type, args, **kwargs)\u001b[0m\n\u001b[1;32m   9412\u001b[0m \u001b[38;5;28;01mfrom\u001b[39;00m \u001b[38;5;21;01mpandas\u001b[39;00m\u001b[38;5;21;01m.\u001b[39;00m\u001b[38;5;21;01mcore\u001b[39;00m\u001b[38;5;21;01m.\u001b[39;00m\u001b[38;5;21;01mapply\u001b[39;00m \u001b[38;5;28;01mimport\u001b[39;00m frame_apply\n\u001b[1;32m   9414\u001b[0m op \u001b[38;5;241m=\u001b[39m frame_apply(\n\u001b[1;32m   9415\u001b[0m     \u001b[38;5;28mself\u001b[39m,\n\u001b[1;32m   9416\u001b[0m     func\u001b[38;5;241m=\u001b[39mfunc,\n\u001b[0;32m   (...)\u001b[0m\n\u001b[1;32m   9421\u001b[0m     kwargs\u001b[38;5;241m=\u001b[39mkwargs,\n\u001b[1;32m   9422\u001b[0m )\n\u001b[0;32m-> 9423\u001b[0m \u001b[38;5;28;01mreturn\u001b[39;00m \u001b[43mop\u001b[49m\u001b[38;5;241;43m.\u001b[39;49m\u001b[43mapply\u001b[49m\u001b[43m(\u001b[49m\u001b[43m)\u001b[49m\u001b[38;5;241m.\u001b[39m__finalize__(\u001b[38;5;28mself\u001b[39m, method\u001b[38;5;241m=\u001b[39m\u001b[38;5;124m\"\u001b[39m\u001b[38;5;124mapply\u001b[39m\u001b[38;5;124m\"\u001b[39m)\n",
      "File \u001b[0;32m~/.pyenv/versions/3.10.11/lib/python3.10/site-packages/pandas/core/apply.py:678\u001b[0m, in \u001b[0;36mFrameApply.apply\u001b[0;34m(self)\u001b[0m\n\u001b[1;32m    675\u001b[0m \u001b[38;5;28;01melif\u001b[39;00m \u001b[38;5;28mself\u001b[39m\u001b[38;5;241m.\u001b[39mraw:\n\u001b[1;32m    676\u001b[0m     \u001b[38;5;28;01mreturn\u001b[39;00m \u001b[38;5;28mself\u001b[39m\u001b[38;5;241m.\u001b[39mapply_raw()\n\u001b[0;32m--> 678\u001b[0m \u001b[38;5;28;01mreturn\u001b[39;00m \u001b[38;5;28;43mself\u001b[39;49m\u001b[38;5;241;43m.\u001b[39;49m\u001b[43mapply_standard\u001b[49m\u001b[43m(\u001b[49m\u001b[43m)\u001b[49m\n",
      "File \u001b[0;32m~/.pyenv/versions/3.10.11/lib/python3.10/site-packages/pandas/core/apply.py:798\u001b[0m, in \u001b[0;36mFrameApply.apply_standard\u001b[0;34m(self)\u001b[0m\n\u001b[1;32m    797\u001b[0m \u001b[38;5;28;01mdef\u001b[39;00m \u001b[38;5;21mapply_standard\u001b[39m(\u001b[38;5;28mself\u001b[39m):\n\u001b[0;32m--> 798\u001b[0m     results, res_index \u001b[38;5;241m=\u001b[39m \u001b[38;5;28;43mself\u001b[39;49m\u001b[38;5;241;43m.\u001b[39;49m\u001b[43mapply_series_generator\u001b[49m\u001b[43m(\u001b[49m\u001b[43m)\u001b[49m\n\u001b[1;32m    800\u001b[0m     \u001b[38;5;66;03m# wrap results\u001b[39;00m\n\u001b[1;32m    801\u001b[0m     \u001b[38;5;28;01mreturn\u001b[39;00m \u001b[38;5;28mself\u001b[39m\u001b[38;5;241m.\u001b[39mwrap_results(results, res_index)\n",
      "File \u001b[0;32m~/.pyenv/versions/3.10.11/lib/python3.10/site-packages/pandas/core/apply.py:814\u001b[0m, in \u001b[0;36mFrameApply.apply_series_generator\u001b[0;34m(self)\u001b[0m\n\u001b[1;32m    811\u001b[0m \u001b[38;5;28;01mwith\u001b[39;00m option_context(\u001b[38;5;124m\"\u001b[39m\u001b[38;5;124mmode.chained_assignment\u001b[39m\u001b[38;5;124m\"\u001b[39m, \u001b[38;5;28;01mNone\u001b[39;00m):\n\u001b[1;32m    812\u001b[0m     \u001b[38;5;28;01mfor\u001b[39;00m i, v \u001b[38;5;129;01min\u001b[39;00m \u001b[38;5;28menumerate\u001b[39m(series_gen):\n\u001b[1;32m    813\u001b[0m         \u001b[38;5;66;03m# ignore SettingWithCopy here in case the user mutates\u001b[39;00m\n\u001b[0;32m--> 814\u001b[0m         results[i] \u001b[38;5;241m=\u001b[39m \u001b[38;5;28;43mself\u001b[39;49m\u001b[38;5;241;43m.\u001b[39;49m\u001b[43mf\u001b[49m\u001b[43m(\u001b[49m\u001b[43mv\u001b[49m\u001b[43m)\u001b[49m\n\u001b[1;32m    815\u001b[0m         \u001b[38;5;28;01mif\u001b[39;00m \u001b[38;5;28misinstance\u001b[39m(results[i], ABCSeries):\n\u001b[1;32m    816\u001b[0m             \u001b[38;5;66;03m# If we have a view on v, we need to make a copy because\u001b[39;00m\n\u001b[1;32m    817\u001b[0m             \u001b[38;5;66;03m#  series_generator will swap out the underlying data\u001b[39;00m\n\u001b[1;32m    818\u001b[0m             results[i] \u001b[38;5;241m=\u001b[39m results[i]\u001b[38;5;241m.\u001b[39mcopy(deep\u001b[38;5;241m=\u001b[39m\u001b[38;5;28;01mFalse\u001b[39;00m)\n",
      "File \u001b[0;32m~/.pyenv/versions/3.10.11/lib/python3.10/site-packages/tqdm/std.py:800\u001b[0m, in \u001b[0;36mtqdm.pandas.<locals>.inner_generator.<locals>.inner.<locals>.wrapper\u001b[0;34m(*args, **kwargs)\u001b[0m\n\u001b[1;32m    794\u001b[0m \u001b[38;5;28;01mdef\u001b[39;00m \u001b[38;5;21mwrapper\u001b[39m(\u001b[38;5;241m*\u001b[39margs, \u001b[38;5;241m*\u001b[39m\u001b[38;5;241m*\u001b[39mkwargs):\n\u001b[1;32m    795\u001b[0m     \u001b[38;5;66;03m# update tbar correctly\u001b[39;00m\n\u001b[1;32m    796\u001b[0m     \u001b[38;5;66;03m# it seems `pandas apply` calls `func` twice\u001b[39;00m\n\u001b[1;32m    797\u001b[0m     \u001b[38;5;66;03m# on the first column/row to decide whether it can\u001b[39;00m\n\u001b[1;32m    798\u001b[0m     \u001b[38;5;66;03m# take a fast or slow code path; so stop when t.total==t.n\u001b[39;00m\n\u001b[1;32m    799\u001b[0m     t\u001b[38;5;241m.\u001b[39mupdate(n\u001b[38;5;241m=\u001b[39m\u001b[38;5;241m1\u001b[39m \u001b[38;5;28;01mif\u001b[39;00m \u001b[38;5;129;01mnot\u001b[39;00m t\u001b[38;5;241m.\u001b[39mtotal \u001b[38;5;129;01mor\u001b[39;00m t\u001b[38;5;241m.\u001b[39mn \u001b[38;5;241m<\u001b[39m t\u001b[38;5;241m.\u001b[39mtotal \u001b[38;5;28;01melse\u001b[39;00m \u001b[38;5;241m0\u001b[39m)\n\u001b[0;32m--> 800\u001b[0m     \u001b[38;5;28;01mreturn\u001b[39;00m \u001b[43mfunc\u001b[49m\u001b[43m(\u001b[49m\u001b[38;5;241;43m*\u001b[39;49m\u001b[43margs\u001b[49m\u001b[43m,\u001b[49m\u001b[43m \u001b[49m\u001b[38;5;241;43m*\u001b[39;49m\u001b[38;5;241;43m*\u001b[39;49m\u001b[43mkwargs\u001b[49m\u001b[43m)\u001b[49m\n",
      "Cell \u001b[0;32mIn[520], line 3\u001b[0m, in \u001b[0;36m<lambda>\u001b[0;34m(row)\u001b[0m\n\u001b[1;32m      1\u001b[0m base_dir \u001b[38;5;241m=\u001b[39m \u001b[38;5;124m\"\u001b[39m\u001b[38;5;124m../Data\u001b[39m\u001b[38;5;124m\"\u001b[39m\n\u001b[1;32m      2\u001b[0m find_or_create_download_dirs(base_dir\u001b[38;5;241m=\u001b[39mbase_dir)\n\u001b[0;32m----> 3\u001b[0m wildfires_sm_df\u001b[38;5;241m.\u001b[39mprogress_apply(\u001b[38;5;28;01mlambda\u001b[39;00m row: \u001b[43mretrieve_set\u001b[49m\u001b[43m(\u001b[49m\u001b[43mrow\u001b[49m\u001b[43m,\u001b[49m\u001b[43m \u001b[49m\u001b[43mbase_dir\u001b[49m\u001b[43m)\u001b[49m, axis\u001b[38;5;241m=\u001b[39m\u001b[38;5;241m1\u001b[39m)\n",
      "Cell \u001b[0;32mIn[507], line 3\u001b[0m, in \u001b[0;36mretrieve_set\u001b[0;34m(row, base_dir)\u001b[0m\n\u001b[1;32m      1\u001b[0m \u001b[38;5;28;01mdef\u001b[39;00m \u001b[38;5;21mretrieve_set\u001b[39m(row, base_dir\u001b[38;5;241m=\u001b[39m\u001b[38;5;124m\"\u001b[39m\u001b[38;5;124m../Data\u001b[39m\u001b[38;5;124m\"\u001b[39m):\n\u001b[1;32m      2\u001b[0m     \u001b[38;5;28;01mtry\u001b[39;00m:\n\u001b[0;32m----> 3\u001b[0m         \u001b[43mprocess_sentinel2\u001b[49m\u001b[43m(\u001b[49m\u001b[43mdate1\u001b[49m\u001b[38;5;241;43m=\u001b[39;49m\u001b[43mrow\u001b[49m\u001b[43m[\u001b[49m\u001b[38;5;124;43m'\u001b[39;49m\u001b[38;5;124;43mFourWeek_Before\u001b[39;49m\u001b[38;5;124;43m'\u001b[39;49m\u001b[43m]\u001b[49m\u001b[43m,\u001b[49m\u001b[43m \u001b[49m\u001b[43mdate2\u001b[49m\u001b[38;5;241;43m=\u001b[39;49m\u001b[43mrow\u001b[49m\u001b[43m[\u001b[49m\u001b[38;5;124;43m'\u001b[39;49m\u001b[38;5;124;43mDay_Before\u001b[39;49m\u001b[38;5;124;43m'\u001b[39;49m\u001b[43m]\u001b[49m\u001b[43m,\u001b[49m\u001b[43m \u001b[49m\n\u001b[1;32m      4\u001b[0m \u001b[43m                          \u001b[49m\u001b[43mlon\u001b[49m\u001b[38;5;241;43m=\u001b[39;49m\u001b[43mrow\u001b[49m\u001b[43m[\u001b[49m\u001b[38;5;124;43m'\u001b[39;49m\u001b[38;5;124;43mLongitude\u001b[39;49m\u001b[38;5;124;43m'\u001b[39;49m\u001b[43m]\u001b[49m\u001b[43m,\u001b[49m\u001b[43m \u001b[49m\u001b[43mlat\u001b[49m\u001b[38;5;241;43m=\u001b[39;49m\u001b[43mrow\u001b[49m\u001b[43m[\u001b[49m\u001b[38;5;124;43m'\u001b[39;49m\u001b[38;5;124;43mLatitude\u001b[39;49m\u001b[38;5;124;43m'\u001b[39;49m\u001b[43m]\u001b[49m\u001b[43m,\u001b[49m\u001b[43m \u001b[49m\n\u001b[1;32m      5\u001b[0m \u001b[43m                          \u001b[49m\u001b[43mexport_desc\u001b[49m\u001b[38;5;241;43m=\u001b[39;49m\u001b[38;5;124;43mf\u001b[39;49m\u001b[38;5;124;43m\"\u001b[39;49m\u001b[38;5;132;43;01m{\u001b[39;49;00m\u001b[43mrow\u001b[49m\u001b[43m[\u001b[49m\u001b[38;5;124;43m'\u001b[39;49m\u001b[38;5;124;43mFourWeek_Before\u001b[39;49m\u001b[38;5;124;43m'\u001b[39;49m\u001b[43m]\u001b[49m\u001b[38;5;132;43;01m}\u001b[39;49;00m\u001b[38;5;124;43m-\u001b[39;49m\u001b[38;5;132;43;01m{\u001b[39;49;00m\u001b[43mrow\u001b[49m\u001b[43m[\u001b[49m\u001b[38;5;124;43m'\u001b[39;49m\u001b[38;5;124;43mDay_Before\u001b[39;49m\u001b[38;5;124;43m'\u001b[39;49m\u001b[43m]\u001b[49m\u001b[38;5;132;43;01m}\u001b[39;49;00m\u001b[38;5;124;43m-\u001b[39;49m\u001b[38;5;132;43;01m{\u001b[39;49;00m\u001b[43mrow\u001b[49m\u001b[43m[\u001b[49m\u001b[38;5;124;43m'\u001b[39;49m\u001b[38;5;124;43mLongitude\u001b[39;49m\u001b[38;5;124;43m'\u001b[39;49m\u001b[43m]\u001b[49m\u001b[38;5;132;43;01m}\u001b[39;49;00m\u001b[38;5;124;43m-\u001b[39;49m\u001b[38;5;132;43;01m{\u001b[39;49;00m\u001b[43mrow\u001b[49m\u001b[43m[\u001b[49m\u001b[38;5;124;43m'\u001b[39;49m\u001b[38;5;124;43mLatitude\u001b[39;49m\u001b[38;5;124;43m'\u001b[39;49m\u001b[43m]\u001b[49m\u001b[38;5;132;43;01m}\u001b[39;49;00m\u001b[38;5;124;43m\"\u001b[39;49m\u001b[43m,\u001b[49m\n\u001b[1;32m      6\u001b[0m \u001b[43m                          \u001b[49m\u001b[43mbase_dir\u001b[49m\u001b[38;5;241;43m=\u001b[39;49m\u001b[43mbase_dir\u001b[49m\u001b[43m)\u001b[49m\n\u001b[1;32m      7\u001b[0m     \u001b[38;5;28;01mexcept\u001b[39;00m \u001b[38;5;167;01mException\u001b[39;00m \u001b[38;5;28;01mas\u001b[39;00m e:\n\u001b[1;32m      8\u001b[0m         \u001b[38;5;28mprint\u001b[39m(\u001b[38;5;124mf\u001b[39m\u001b[38;5;124m\"\u001b[39m\u001b[38;5;124mEXCEPTION - Row \u001b[39m\u001b[38;5;132;01m{\u001b[39;00mrow\u001b[38;5;241m.\u001b[39mname\u001b[38;5;132;01m}\u001b[39;00m\u001b[38;5;124m @ (\u001b[39m\u001b[38;5;132;01m{\u001b[39;00mrow[\u001b[38;5;124m'\u001b[39m\u001b[38;5;124mLongitude\u001b[39m\u001b[38;5;124m'\u001b[39m]\u001b[38;5;132;01m}\u001b[39;00m\u001b[38;5;124m, \u001b[39m\u001b[38;5;132;01m{\u001b[39;00mrow[\u001b[38;5;124m'\u001b[39m\u001b[38;5;124mLatitude\u001b[39m\u001b[38;5;124m'\u001b[39m]\u001b[38;5;132;01m}\u001b[39;00m\u001b[38;5;124m)\u001b[39m\u001b[38;5;124m\"\u001b[39m)\n",
      "Cell \u001b[0;32mIn[495], line 65\u001b[0m, in \u001b[0;36mprocess_sentinel2\u001b[0;34m(date1, date2, lon, lat, export_desc, base_dir, buffer, cloud_percentage, cloud_percentage_fallback, export)\u001b[0m\n\u001b[1;32m     61\u001b[0m image_dests\u001b[38;5;241m.\u001b[39mappend(download_cropped_image(image\u001b[38;5;241m=\u001b[39mtrue_color_img, region\u001b[38;5;241m=\u001b[39mregion,\n\u001b[1;32m     62\u001b[0m                                           dirpath\u001b[38;5;241m=\u001b[39m\u001b[38;5;124mf\u001b[39m\u001b[38;5;124m\"\u001b[39m\u001b[38;5;132;01m{\u001b[39;00mbase_dir\u001b[38;5;132;01m}\u001b[39;00m\u001b[38;5;124m/exports/tc/\u001b[39m\u001b[38;5;124m\"\u001b[39m,\n\u001b[1;32m     63\u001b[0m                                           export_desc\u001b[38;5;241m=\u001b[39m\u001b[38;5;124mf\u001b[39m\u001b[38;5;124m\"\u001b[39m\u001b[38;5;132;01m{\u001b[39;00mexport_desc\u001b[38;5;132;01m}\u001b[39;00m\u001b[38;5;124m_tc\u001b[39m\u001b[38;5;124m\"\u001b[39m))\n\u001b[1;32m     64\u001b[0m \u001b[38;5;66;03m# image_dests.append(download_image(ndvi_color_img, region, f\"{base_dir}/exports/{export_desc}_tc_ndvi_color\"))\u001b[39;00m\n\u001b[0;32m---> 65\u001b[0m image_dests\u001b[38;5;241m.\u001b[39mappend(\u001b[43mdownload_cropped_image\u001b[49m\u001b[43m(\u001b[49m\u001b[43mimage\u001b[49m\u001b[38;5;241;43m=\u001b[39;49m\u001b[43mndvi_bw_img\u001b[49m\u001b[43m,\u001b[49m\u001b[43m \u001b[49m\u001b[43mregion\u001b[49m\u001b[38;5;241;43m=\u001b[39;49m\u001b[43mregion\u001b[49m\u001b[43m,\u001b[49m\u001b[43m \u001b[49m\n\u001b[1;32m     66\u001b[0m \u001b[43m                                          \u001b[49m\u001b[43mdirpath\u001b[49m\u001b[38;5;241;43m=\u001b[39;49m\u001b[38;5;124;43mf\u001b[39;49m\u001b[38;5;124;43m\"\u001b[39;49m\u001b[38;5;132;43;01m{\u001b[39;49;00m\u001b[43mbase_dir\u001b[49m\u001b[38;5;132;43;01m}\u001b[39;49;00m\u001b[38;5;124;43m/exports/ndvi/\u001b[39;49m\u001b[38;5;124;43m\"\u001b[39;49m\u001b[43m,\u001b[49m\n\u001b[1;32m     67\u001b[0m \u001b[43m                                          \u001b[49m\u001b[43mexport_desc\u001b[49m\u001b[38;5;241;43m=\u001b[39;49m\u001b[38;5;124;43mf\u001b[39;49m\u001b[38;5;124;43m\"\u001b[39;49m\u001b[38;5;132;43;01m{\u001b[39;49;00m\u001b[43mexport_desc\u001b[49m\u001b[38;5;132;43;01m}\u001b[39;49;00m\u001b[38;5;124;43m_ndvi_bw\u001b[39;49m\u001b[38;5;124;43m\"\u001b[39;49m\u001b[43m)\u001b[49m)\n\u001b[1;32m     69\u001b[0m \u001b[38;5;66;03m# Export image to Google Drive\u001b[39;00m\n\u001b[1;32m     70\u001b[0m \u001b[38;5;28;01mif\u001b[39;00m export:\n",
      "Cell \u001b[0;32mIn[497], line 9\u001b[0m, in \u001b[0;36mdownload_cropped_image\u001b[0;34m(image, region, dirpath, export_desc, scale, crop_size)\u001b[0m\n\u001b[1;32m      1\u001b[0m \u001b[38;5;28;01mdef\u001b[39;00m \u001b[38;5;21mdownload_cropped_image\u001b[39m(image, region, dirpath, export_desc\u001b[38;5;241m=\u001b[39m\u001b[38;5;28;01mNone\u001b[39;00m, scale\u001b[38;5;241m=\u001b[39m\u001b[38;5;241m10\u001b[39m, crop_size\u001b[38;5;241m=\u001b[39m\u001b[38;5;241m512\u001b[39m):\n\u001b[1;32m      2\u001b[0m     \u001b[38;5;66;03m# Download image\u001b[39;00m\n\u001b[1;32m      3\u001b[0m     url \u001b[38;5;241m=\u001b[39m image\u001b[38;5;241m.\u001b[39mgetDownloadURL({\n\u001b[1;32m      4\u001b[0m         \u001b[38;5;124m'\u001b[39m\u001b[38;5;124mscale\u001b[39m\u001b[38;5;124m'\u001b[39m: scale,\n\u001b[1;32m      5\u001b[0m         \u001b[38;5;124m'\u001b[39m\u001b[38;5;124mregion\u001b[39m\u001b[38;5;124m'\u001b[39m: region\u001b[38;5;241m.\u001b[39mbounds()\u001b[38;5;241m.\u001b[39mgetInfo()[\u001b[38;5;124m'\u001b[39m\u001b[38;5;124mcoordinates\u001b[39m\u001b[38;5;124m'\u001b[39m],\n\u001b[1;32m      6\u001b[0m         \u001b[38;5;124m'\u001b[39m\u001b[38;5;124mformat\u001b[39m\u001b[38;5;124m'\u001b[39m: \u001b[38;5;124m'\u001b[39m\u001b[38;5;124mGeoTIFF\u001b[39m\u001b[38;5;124m'\u001b[39m,\n\u001b[1;32m      7\u001b[0m         \u001b[38;5;124m'\u001b[39m\u001b[38;5;124mcrs\u001b[39m\u001b[38;5;124m'\u001b[39m: \u001b[38;5;124m'\u001b[39m\u001b[38;5;124mEPSG:4326\u001b[39m\u001b[38;5;124m'\u001b[39m\n\u001b[1;32m      8\u001b[0m     })\n\u001b[0;32m----> 9\u001b[0m     response \u001b[38;5;241m=\u001b[39m \u001b[43mrequests\u001b[49m\u001b[38;5;241;43m.\u001b[39;49m\u001b[43mget\u001b[49m\u001b[43m(\u001b[49m\u001b[43murl\u001b[49m\u001b[43m,\u001b[49m\u001b[43m \u001b[49m\u001b[43mstream\u001b[49m\u001b[38;5;241;43m=\u001b[39;49m\u001b[38;5;28;43;01mTrue\u001b[39;49;00m\u001b[43m)\u001b[49m\n\u001b[1;32m     11\u001b[0m     \u001b[38;5;66;03m# Write to disk and crop\u001b[39;00m\n\u001b[1;32m     12\u001b[0m     \u001b[38;5;28;01mif\u001b[39;00m response\u001b[38;5;241m.\u001b[39mstatus_code \u001b[38;5;241m==\u001b[39m \u001b[38;5;241m200\u001b[39m:\n",
      "File \u001b[0;32m~/.pyenv/versions/3.10.11/lib/python3.10/site-packages/requests/api.py:73\u001b[0m, in \u001b[0;36mget\u001b[0;34m(url, params, **kwargs)\u001b[0m\n\u001b[1;32m     62\u001b[0m \u001b[38;5;28;01mdef\u001b[39;00m \u001b[38;5;21mget\u001b[39m(url, params\u001b[38;5;241m=\u001b[39m\u001b[38;5;28;01mNone\u001b[39;00m, \u001b[38;5;241m*\u001b[39m\u001b[38;5;241m*\u001b[39mkwargs):\n\u001b[1;32m     63\u001b[0m \u001b[38;5;250m    \u001b[39m\u001b[38;5;124mr\u001b[39m\u001b[38;5;124;03m\"\"\"Sends a GET request.\u001b[39;00m\n\u001b[1;32m     64\u001b[0m \n\u001b[1;32m     65\u001b[0m \u001b[38;5;124;03m    :param url: URL for the new :class:`Request` object.\u001b[39;00m\n\u001b[0;32m   (...)\u001b[0m\n\u001b[1;32m     70\u001b[0m \u001b[38;5;124;03m    :rtype: requests.Response\u001b[39;00m\n\u001b[1;32m     71\u001b[0m \u001b[38;5;124;03m    \"\"\"\u001b[39;00m\n\u001b[0;32m---> 73\u001b[0m     \u001b[38;5;28;01mreturn\u001b[39;00m \u001b[43mrequest\u001b[49m\u001b[43m(\u001b[49m\u001b[38;5;124;43m\"\u001b[39;49m\u001b[38;5;124;43mget\u001b[39;49m\u001b[38;5;124;43m\"\u001b[39;49m\u001b[43m,\u001b[49m\u001b[43m \u001b[49m\u001b[43murl\u001b[49m\u001b[43m,\u001b[49m\u001b[43m \u001b[49m\u001b[43mparams\u001b[49m\u001b[38;5;241;43m=\u001b[39;49m\u001b[43mparams\u001b[49m\u001b[43m,\u001b[49m\u001b[43m \u001b[49m\u001b[38;5;241;43m*\u001b[39;49m\u001b[38;5;241;43m*\u001b[39;49m\u001b[43mkwargs\u001b[49m\u001b[43m)\u001b[49m\n",
      "File \u001b[0;32m~/.pyenv/versions/3.10.11/lib/python3.10/site-packages/requests/api.py:59\u001b[0m, in \u001b[0;36mrequest\u001b[0;34m(method, url, **kwargs)\u001b[0m\n\u001b[1;32m     55\u001b[0m \u001b[38;5;66;03m# By using the 'with' statement we are sure the session is closed, thus we\u001b[39;00m\n\u001b[1;32m     56\u001b[0m \u001b[38;5;66;03m# avoid leaving sockets open which can trigger a ResourceWarning in some\u001b[39;00m\n\u001b[1;32m     57\u001b[0m \u001b[38;5;66;03m# cases, and look like a memory leak in others.\u001b[39;00m\n\u001b[1;32m     58\u001b[0m \u001b[38;5;28;01mwith\u001b[39;00m sessions\u001b[38;5;241m.\u001b[39mSession() \u001b[38;5;28;01mas\u001b[39;00m session:\n\u001b[0;32m---> 59\u001b[0m     \u001b[38;5;28;01mreturn\u001b[39;00m \u001b[43msession\u001b[49m\u001b[38;5;241;43m.\u001b[39;49m\u001b[43mrequest\u001b[49m\u001b[43m(\u001b[49m\u001b[43mmethod\u001b[49m\u001b[38;5;241;43m=\u001b[39;49m\u001b[43mmethod\u001b[49m\u001b[43m,\u001b[49m\u001b[43m \u001b[49m\u001b[43murl\u001b[49m\u001b[38;5;241;43m=\u001b[39;49m\u001b[43murl\u001b[49m\u001b[43m,\u001b[49m\u001b[43m \u001b[49m\u001b[38;5;241;43m*\u001b[39;49m\u001b[38;5;241;43m*\u001b[39;49m\u001b[43mkwargs\u001b[49m\u001b[43m)\u001b[49m\n",
      "File \u001b[0;32m~/.pyenv/versions/3.10.11/lib/python3.10/site-packages/requests/sessions.py:589\u001b[0m, in \u001b[0;36mSession.request\u001b[0;34m(self, method, url, params, data, headers, cookies, files, auth, timeout, allow_redirects, proxies, hooks, stream, verify, cert, json)\u001b[0m\n\u001b[1;32m    584\u001b[0m send_kwargs \u001b[38;5;241m=\u001b[39m {\n\u001b[1;32m    585\u001b[0m     \u001b[38;5;124m\"\u001b[39m\u001b[38;5;124mtimeout\u001b[39m\u001b[38;5;124m\"\u001b[39m: timeout,\n\u001b[1;32m    586\u001b[0m     \u001b[38;5;124m\"\u001b[39m\u001b[38;5;124mallow_redirects\u001b[39m\u001b[38;5;124m\"\u001b[39m: allow_redirects,\n\u001b[1;32m    587\u001b[0m }\n\u001b[1;32m    588\u001b[0m send_kwargs\u001b[38;5;241m.\u001b[39mupdate(settings)\n\u001b[0;32m--> 589\u001b[0m resp \u001b[38;5;241m=\u001b[39m \u001b[38;5;28;43mself\u001b[39;49m\u001b[38;5;241;43m.\u001b[39;49m\u001b[43msend\u001b[49m\u001b[43m(\u001b[49m\u001b[43mprep\u001b[49m\u001b[43m,\u001b[49m\u001b[43m \u001b[49m\u001b[38;5;241;43m*\u001b[39;49m\u001b[38;5;241;43m*\u001b[39;49m\u001b[43msend_kwargs\u001b[49m\u001b[43m)\u001b[49m\n\u001b[1;32m    591\u001b[0m \u001b[38;5;28;01mreturn\u001b[39;00m resp\n",
      "File \u001b[0;32m~/.pyenv/versions/3.10.11/lib/python3.10/site-packages/requests/sessions.py:703\u001b[0m, in \u001b[0;36mSession.send\u001b[0;34m(self, request, **kwargs)\u001b[0m\n\u001b[1;32m    700\u001b[0m start \u001b[38;5;241m=\u001b[39m preferred_clock()\n\u001b[1;32m    702\u001b[0m \u001b[38;5;66;03m# Send the request\u001b[39;00m\n\u001b[0;32m--> 703\u001b[0m r \u001b[38;5;241m=\u001b[39m \u001b[43madapter\u001b[49m\u001b[38;5;241;43m.\u001b[39;49m\u001b[43msend\u001b[49m\u001b[43m(\u001b[49m\u001b[43mrequest\u001b[49m\u001b[43m,\u001b[49m\u001b[43m \u001b[49m\u001b[38;5;241;43m*\u001b[39;49m\u001b[38;5;241;43m*\u001b[39;49m\u001b[43mkwargs\u001b[49m\u001b[43m)\u001b[49m\n\u001b[1;32m    705\u001b[0m \u001b[38;5;66;03m# Total elapsed time of the request (approximately)\u001b[39;00m\n\u001b[1;32m    706\u001b[0m elapsed \u001b[38;5;241m=\u001b[39m preferred_clock() \u001b[38;5;241m-\u001b[39m start\n",
      "File \u001b[0;32m~/.pyenv/versions/3.10.11/lib/python3.10/site-packages/requests/adapters.py:486\u001b[0m, in \u001b[0;36mHTTPAdapter.send\u001b[0;34m(self, request, stream, timeout, verify, cert, proxies)\u001b[0m\n\u001b[1;32m    483\u001b[0m     timeout \u001b[38;5;241m=\u001b[39m TimeoutSauce(connect\u001b[38;5;241m=\u001b[39mtimeout, read\u001b[38;5;241m=\u001b[39mtimeout)\n\u001b[1;32m    485\u001b[0m \u001b[38;5;28;01mtry\u001b[39;00m:\n\u001b[0;32m--> 486\u001b[0m     resp \u001b[38;5;241m=\u001b[39m \u001b[43mconn\u001b[49m\u001b[38;5;241;43m.\u001b[39;49m\u001b[43murlopen\u001b[49m\u001b[43m(\u001b[49m\n\u001b[1;32m    487\u001b[0m \u001b[43m        \u001b[49m\u001b[43mmethod\u001b[49m\u001b[38;5;241;43m=\u001b[39;49m\u001b[43mrequest\u001b[49m\u001b[38;5;241;43m.\u001b[39;49m\u001b[43mmethod\u001b[49m\u001b[43m,\u001b[49m\n\u001b[1;32m    488\u001b[0m \u001b[43m        \u001b[49m\u001b[43murl\u001b[49m\u001b[38;5;241;43m=\u001b[39;49m\u001b[43murl\u001b[49m\u001b[43m,\u001b[49m\n\u001b[1;32m    489\u001b[0m \u001b[43m        \u001b[49m\u001b[43mbody\u001b[49m\u001b[38;5;241;43m=\u001b[39;49m\u001b[43mrequest\u001b[49m\u001b[38;5;241;43m.\u001b[39;49m\u001b[43mbody\u001b[49m\u001b[43m,\u001b[49m\n\u001b[1;32m    490\u001b[0m \u001b[43m        \u001b[49m\u001b[43mheaders\u001b[49m\u001b[38;5;241;43m=\u001b[39;49m\u001b[43mrequest\u001b[49m\u001b[38;5;241;43m.\u001b[39;49m\u001b[43mheaders\u001b[49m\u001b[43m,\u001b[49m\n\u001b[1;32m    491\u001b[0m \u001b[43m        \u001b[49m\u001b[43mredirect\u001b[49m\u001b[38;5;241;43m=\u001b[39;49m\u001b[38;5;28;43;01mFalse\u001b[39;49;00m\u001b[43m,\u001b[49m\n\u001b[1;32m    492\u001b[0m \u001b[43m        \u001b[49m\u001b[43massert_same_host\u001b[49m\u001b[38;5;241;43m=\u001b[39;49m\u001b[38;5;28;43;01mFalse\u001b[39;49;00m\u001b[43m,\u001b[49m\n\u001b[1;32m    493\u001b[0m \u001b[43m        \u001b[49m\u001b[43mpreload_content\u001b[49m\u001b[38;5;241;43m=\u001b[39;49m\u001b[38;5;28;43;01mFalse\u001b[39;49;00m\u001b[43m,\u001b[49m\n\u001b[1;32m    494\u001b[0m \u001b[43m        \u001b[49m\u001b[43mdecode_content\u001b[49m\u001b[38;5;241;43m=\u001b[39;49m\u001b[38;5;28;43;01mFalse\u001b[39;49;00m\u001b[43m,\u001b[49m\n\u001b[1;32m    495\u001b[0m \u001b[43m        \u001b[49m\u001b[43mretries\u001b[49m\u001b[38;5;241;43m=\u001b[39;49m\u001b[38;5;28;43mself\u001b[39;49m\u001b[38;5;241;43m.\u001b[39;49m\u001b[43mmax_retries\u001b[49m\u001b[43m,\u001b[49m\n\u001b[1;32m    496\u001b[0m \u001b[43m        \u001b[49m\u001b[43mtimeout\u001b[49m\u001b[38;5;241;43m=\u001b[39;49m\u001b[43mtimeout\u001b[49m\u001b[43m,\u001b[49m\n\u001b[1;32m    497\u001b[0m \u001b[43m        \u001b[49m\u001b[43mchunked\u001b[49m\u001b[38;5;241;43m=\u001b[39;49m\u001b[43mchunked\u001b[49m\u001b[43m,\u001b[49m\n\u001b[1;32m    498\u001b[0m \u001b[43m    \u001b[49m\u001b[43m)\u001b[49m\n\u001b[1;32m    500\u001b[0m \u001b[38;5;28;01mexcept\u001b[39;00m (ProtocolError, \u001b[38;5;167;01mOSError\u001b[39;00m) \u001b[38;5;28;01mas\u001b[39;00m err:\n\u001b[1;32m    501\u001b[0m     \u001b[38;5;28;01mraise\u001b[39;00m \u001b[38;5;167;01mConnectionError\u001b[39;00m(err, request\u001b[38;5;241m=\u001b[39mrequest)\n",
      "File \u001b[0;32m~/.pyenv/versions/3.10.11/lib/python3.10/site-packages/urllib3/connectionpool.py:790\u001b[0m, in \u001b[0;36mHTTPConnectionPool.urlopen\u001b[0;34m(self, method, url, body, headers, retries, redirect, assert_same_host, timeout, pool_timeout, release_conn, chunked, body_pos, preload_content, decode_content, **response_kw)\u001b[0m\n\u001b[1;32m    787\u001b[0m response_conn \u001b[38;5;241m=\u001b[39m conn \u001b[38;5;28;01mif\u001b[39;00m \u001b[38;5;129;01mnot\u001b[39;00m release_conn \u001b[38;5;28;01melse\u001b[39;00m \u001b[38;5;28;01mNone\u001b[39;00m\n\u001b[1;32m    789\u001b[0m \u001b[38;5;66;03m# Make the request on the HTTPConnection object\u001b[39;00m\n\u001b[0;32m--> 790\u001b[0m response \u001b[38;5;241m=\u001b[39m \u001b[38;5;28;43mself\u001b[39;49m\u001b[38;5;241;43m.\u001b[39;49m\u001b[43m_make_request\u001b[49m\u001b[43m(\u001b[49m\n\u001b[1;32m    791\u001b[0m \u001b[43m    \u001b[49m\u001b[43mconn\u001b[49m\u001b[43m,\u001b[49m\n\u001b[1;32m    792\u001b[0m \u001b[43m    \u001b[49m\u001b[43mmethod\u001b[49m\u001b[43m,\u001b[49m\n\u001b[1;32m    793\u001b[0m \u001b[43m    \u001b[49m\u001b[43murl\u001b[49m\u001b[43m,\u001b[49m\n\u001b[1;32m    794\u001b[0m \u001b[43m    \u001b[49m\u001b[43mtimeout\u001b[49m\u001b[38;5;241;43m=\u001b[39;49m\u001b[43mtimeout_obj\u001b[49m\u001b[43m,\u001b[49m\n\u001b[1;32m    795\u001b[0m \u001b[43m    \u001b[49m\u001b[43mbody\u001b[49m\u001b[38;5;241;43m=\u001b[39;49m\u001b[43mbody\u001b[49m\u001b[43m,\u001b[49m\n\u001b[1;32m    796\u001b[0m \u001b[43m    \u001b[49m\u001b[43mheaders\u001b[49m\u001b[38;5;241;43m=\u001b[39;49m\u001b[43mheaders\u001b[49m\u001b[43m,\u001b[49m\n\u001b[1;32m    797\u001b[0m \u001b[43m    \u001b[49m\u001b[43mchunked\u001b[49m\u001b[38;5;241;43m=\u001b[39;49m\u001b[43mchunked\u001b[49m\u001b[43m,\u001b[49m\n\u001b[1;32m    798\u001b[0m \u001b[43m    \u001b[49m\u001b[43mretries\u001b[49m\u001b[38;5;241;43m=\u001b[39;49m\u001b[43mretries\u001b[49m\u001b[43m,\u001b[49m\n\u001b[1;32m    799\u001b[0m \u001b[43m    \u001b[49m\u001b[43mresponse_conn\u001b[49m\u001b[38;5;241;43m=\u001b[39;49m\u001b[43mresponse_conn\u001b[49m\u001b[43m,\u001b[49m\n\u001b[1;32m    800\u001b[0m \u001b[43m    \u001b[49m\u001b[43mpreload_content\u001b[49m\u001b[38;5;241;43m=\u001b[39;49m\u001b[43mpreload_content\u001b[49m\u001b[43m,\u001b[49m\n\u001b[1;32m    801\u001b[0m \u001b[43m    \u001b[49m\u001b[43mdecode_content\u001b[49m\u001b[38;5;241;43m=\u001b[39;49m\u001b[43mdecode_content\u001b[49m\u001b[43m,\u001b[49m\n\u001b[1;32m    802\u001b[0m \u001b[43m    \u001b[49m\u001b[38;5;241;43m*\u001b[39;49m\u001b[38;5;241;43m*\u001b[39;49m\u001b[43mresponse_kw\u001b[49m\u001b[43m,\u001b[49m\n\u001b[1;32m    803\u001b[0m \u001b[43m\u001b[49m\u001b[43m)\u001b[49m\n\u001b[1;32m    805\u001b[0m \u001b[38;5;66;03m# Everything went great!\u001b[39;00m\n\u001b[1;32m    806\u001b[0m clean_exit \u001b[38;5;241m=\u001b[39m \u001b[38;5;28;01mTrue\u001b[39;00m\n",
      "File \u001b[0;32m~/.pyenv/versions/3.10.11/lib/python3.10/site-packages/urllib3/connectionpool.py:536\u001b[0m, in \u001b[0;36mHTTPConnectionPool._make_request\u001b[0;34m(self, conn, method, url, body, headers, retries, timeout, chunked, response_conn, preload_content, decode_content, enforce_content_length)\u001b[0m\n\u001b[1;32m    534\u001b[0m \u001b[38;5;66;03m# Receive the response from the server\u001b[39;00m\n\u001b[1;32m    535\u001b[0m \u001b[38;5;28;01mtry\u001b[39;00m:\n\u001b[0;32m--> 536\u001b[0m     response \u001b[38;5;241m=\u001b[39m \u001b[43mconn\u001b[49m\u001b[38;5;241;43m.\u001b[39;49m\u001b[43mgetresponse\u001b[49m\u001b[43m(\u001b[49m\u001b[43m)\u001b[49m\n\u001b[1;32m    537\u001b[0m \u001b[38;5;28;01mexcept\u001b[39;00m (BaseSSLError, \u001b[38;5;167;01mOSError\u001b[39;00m) \u001b[38;5;28;01mas\u001b[39;00m e:\n\u001b[1;32m    538\u001b[0m     \u001b[38;5;28mself\u001b[39m\u001b[38;5;241m.\u001b[39m_raise_timeout(err\u001b[38;5;241m=\u001b[39me, url\u001b[38;5;241m=\u001b[39murl, timeout_value\u001b[38;5;241m=\u001b[39mread_timeout)\n",
      "File \u001b[0;32m~/.pyenv/versions/3.10.11/lib/python3.10/site-packages/urllib3/connection.py:454\u001b[0m, in \u001b[0;36mHTTPConnection.getresponse\u001b[0;34m(self)\u001b[0m\n\u001b[1;32m    451\u001b[0m \u001b[38;5;28;01mfrom\u001b[39;00m \u001b[38;5;21;01m.\u001b[39;00m\u001b[38;5;21;01mresponse\u001b[39;00m \u001b[38;5;28;01mimport\u001b[39;00m HTTPResponse\n\u001b[1;32m    453\u001b[0m \u001b[38;5;66;03m# Get the response from http.client.HTTPConnection\u001b[39;00m\n\u001b[0;32m--> 454\u001b[0m httplib_response \u001b[38;5;241m=\u001b[39m \u001b[38;5;28;43msuper\u001b[39;49m\u001b[43m(\u001b[49m\u001b[43m)\u001b[49m\u001b[38;5;241;43m.\u001b[39;49m\u001b[43mgetresponse\u001b[49m\u001b[43m(\u001b[49m\u001b[43m)\u001b[49m\n\u001b[1;32m    456\u001b[0m \u001b[38;5;28;01mtry\u001b[39;00m:\n\u001b[1;32m    457\u001b[0m     assert_header_parsing(httplib_response\u001b[38;5;241m.\u001b[39mmsg)\n",
      "File \u001b[0;32m~/.pyenv/versions/3.10.11/lib/python3.10/http/client.py:1375\u001b[0m, in \u001b[0;36mHTTPConnection.getresponse\u001b[0;34m(self)\u001b[0m\n\u001b[1;32m   1373\u001b[0m \u001b[38;5;28;01mtry\u001b[39;00m:\n\u001b[1;32m   1374\u001b[0m     \u001b[38;5;28;01mtry\u001b[39;00m:\n\u001b[0;32m-> 1375\u001b[0m         \u001b[43mresponse\u001b[49m\u001b[38;5;241;43m.\u001b[39;49m\u001b[43mbegin\u001b[49m\u001b[43m(\u001b[49m\u001b[43m)\u001b[49m\n\u001b[1;32m   1376\u001b[0m     \u001b[38;5;28;01mexcept\u001b[39;00m \u001b[38;5;167;01mConnectionError\u001b[39;00m:\n\u001b[1;32m   1377\u001b[0m         \u001b[38;5;28mself\u001b[39m\u001b[38;5;241m.\u001b[39mclose()\n",
      "File \u001b[0;32m~/.pyenv/versions/3.10.11/lib/python3.10/http/client.py:318\u001b[0m, in \u001b[0;36mHTTPResponse.begin\u001b[0;34m(self)\u001b[0m\n\u001b[1;32m    316\u001b[0m \u001b[38;5;66;03m# read until we get a non-100 response\u001b[39;00m\n\u001b[1;32m    317\u001b[0m \u001b[38;5;28;01mwhile\u001b[39;00m \u001b[38;5;28;01mTrue\u001b[39;00m:\n\u001b[0;32m--> 318\u001b[0m     version, status, reason \u001b[38;5;241m=\u001b[39m \u001b[38;5;28;43mself\u001b[39;49m\u001b[38;5;241;43m.\u001b[39;49m\u001b[43m_read_status\u001b[49m\u001b[43m(\u001b[49m\u001b[43m)\u001b[49m\n\u001b[1;32m    319\u001b[0m     \u001b[38;5;28;01mif\u001b[39;00m status \u001b[38;5;241m!=\u001b[39m CONTINUE:\n\u001b[1;32m    320\u001b[0m         \u001b[38;5;28;01mbreak\u001b[39;00m\n",
      "File \u001b[0;32m~/.pyenv/versions/3.10.11/lib/python3.10/http/client.py:279\u001b[0m, in \u001b[0;36mHTTPResponse._read_status\u001b[0;34m(self)\u001b[0m\n\u001b[1;32m    278\u001b[0m \u001b[38;5;28;01mdef\u001b[39;00m \u001b[38;5;21m_read_status\u001b[39m(\u001b[38;5;28mself\u001b[39m):\n\u001b[0;32m--> 279\u001b[0m     line \u001b[38;5;241m=\u001b[39m \u001b[38;5;28mstr\u001b[39m(\u001b[38;5;28;43mself\u001b[39;49m\u001b[38;5;241;43m.\u001b[39;49m\u001b[43mfp\u001b[49m\u001b[38;5;241;43m.\u001b[39;49m\u001b[43mreadline\u001b[49m\u001b[43m(\u001b[49m\u001b[43m_MAXLINE\u001b[49m\u001b[43m \u001b[49m\u001b[38;5;241;43m+\u001b[39;49m\u001b[43m \u001b[49m\u001b[38;5;241;43m1\u001b[39;49m\u001b[43m)\u001b[49m, \u001b[38;5;124m\"\u001b[39m\u001b[38;5;124miso-8859-1\u001b[39m\u001b[38;5;124m\"\u001b[39m)\n\u001b[1;32m    280\u001b[0m     \u001b[38;5;28;01mif\u001b[39;00m \u001b[38;5;28mlen\u001b[39m(line) \u001b[38;5;241m>\u001b[39m _MAXLINE:\n\u001b[1;32m    281\u001b[0m         \u001b[38;5;28;01mraise\u001b[39;00m LineTooLong(\u001b[38;5;124m\"\u001b[39m\u001b[38;5;124mstatus line\u001b[39m\u001b[38;5;124m\"\u001b[39m)\n",
      "File \u001b[0;32m~/.pyenv/versions/3.10.11/lib/python3.10/socket.py:705\u001b[0m, in \u001b[0;36mSocketIO.readinto\u001b[0;34m(self, b)\u001b[0m\n\u001b[1;32m    703\u001b[0m \u001b[38;5;28;01mwhile\u001b[39;00m \u001b[38;5;28;01mTrue\u001b[39;00m:\n\u001b[1;32m    704\u001b[0m     \u001b[38;5;28;01mtry\u001b[39;00m:\n\u001b[0;32m--> 705\u001b[0m         \u001b[38;5;28;01mreturn\u001b[39;00m \u001b[38;5;28;43mself\u001b[39;49m\u001b[38;5;241;43m.\u001b[39;49m\u001b[43m_sock\u001b[49m\u001b[38;5;241;43m.\u001b[39;49m\u001b[43mrecv_into\u001b[49m\u001b[43m(\u001b[49m\u001b[43mb\u001b[49m\u001b[43m)\u001b[49m\n\u001b[1;32m    706\u001b[0m     \u001b[38;5;28;01mexcept\u001b[39;00m timeout:\n\u001b[1;32m    707\u001b[0m         \u001b[38;5;28mself\u001b[39m\u001b[38;5;241m.\u001b[39m_timeout_occurred \u001b[38;5;241m=\u001b[39m \u001b[38;5;28;01mTrue\u001b[39;00m\n",
      "File \u001b[0;32m~/.pyenv/versions/3.10.11/lib/python3.10/ssl.py:1274\u001b[0m, in \u001b[0;36mSSLSocket.recv_into\u001b[0;34m(self, buffer, nbytes, flags)\u001b[0m\n\u001b[1;32m   1270\u001b[0m     \u001b[38;5;28;01mif\u001b[39;00m flags \u001b[38;5;241m!=\u001b[39m \u001b[38;5;241m0\u001b[39m:\n\u001b[1;32m   1271\u001b[0m         \u001b[38;5;28;01mraise\u001b[39;00m \u001b[38;5;167;01mValueError\u001b[39;00m(\n\u001b[1;32m   1272\u001b[0m           \u001b[38;5;124m\"\u001b[39m\u001b[38;5;124mnon-zero flags not allowed in calls to recv_into() on \u001b[39m\u001b[38;5;132;01m%s\u001b[39;00m\u001b[38;5;124m\"\u001b[39m \u001b[38;5;241m%\u001b[39m\n\u001b[1;32m   1273\u001b[0m           \u001b[38;5;28mself\u001b[39m\u001b[38;5;241m.\u001b[39m\u001b[38;5;18m__class__\u001b[39m)\n\u001b[0;32m-> 1274\u001b[0m     \u001b[38;5;28;01mreturn\u001b[39;00m \u001b[38;5;28;43mself\u001b[39;49m\u001b[38;5;241;43m.\u001b[39;49m\u001b[43mread\u001b[49m\u001b[43m(\u001b[49m\u001b[43mnbytes\u001b[49m\u001b[43m,\u001b[49m\u001b[43m \u001b[49m\u001b[43mbuffer\u001b[49m\u001b[43m)\u001b[49m\n\u001b[1;32m   1275\u001b[0m \u001b[38;5;28;01melse\u001b[39;00m:\n\u001b[1;32m   1276\u001b[0m     \u001b[38;5;28;01mreturn\u001b[39;00m \u001b[38;5;28msuper\u001b[39m()\u001b[38;5;241m.\u001b[39mrecv_into(buffer, nbytes, flags)\n",
      "File \u001b[0;32m~/.pyenv/versions/3.10.11/lib/python3.10/ssl.py:1130\u001b[0m, in \u001b[0;36mSSLSocket.read\u001b[0;34m(self, len, buffer)\u001b[0m\n\u001b[1;32m   1128\u001b[0m \u001b[38;5;28;01mtry\u001b[39;00m:\n\u001b[1;32m   1129\u001b[0m     \u001b[38;5;28;01mif\u001b[39;00m buffer \u001b[38;5;129;01mis\u001b[39;00m \u001b[38;5;129;01mnot\u001b[39;00m \u001b[38;5;28;01mNone\u001b[39;00m:\n\u001b[0;32m-> 1130\u001b[0m         \u001b[38;5;28;01mreturn\u001b[39;00m \u001b[38;5;28;43mself\u001b[39;49m\u001b[38;5;241;43m.\u001b[39;49m\u001b[43m_sslobj\u001b[49m\u001b[38;5;241;43m.\u001b[39;49m\u001b[43mread\u001b[49m\u001b[43m(\u001b[49m\u001b[38;5;28;43mlen\u001b[39;49m\u001b[43m,\u001b[49m\u001b[43m \u001b[49m\u001b[43mbuffer\u001b[49m\u001b[43m)\u001b[49m\n\u001b[1;32m   1131\u001b[0m     \u001b[38;5;28;01melse\u001b[39;00m:\n\u001b[1;32m   1132\u001b[0m         \u001b[38;5;28;01mreturn\u001b[39;00m \u001b[38;5;28mself\u001b[39m\u001b[38;5;241m.\u001b[39m_sslobj\u001b[38;5;241m.\u001b[39mread(\u001b[38;5;28mlen\u001b[39m)\n",
      "\u001b[0;31mKeyboardInterrupt\u001b[0m: "
     ]
    }
   ],
   "source": [
    "base_dir = \"../Data\"\n",
    "find_or_create_download_dirs(base_dir=base_dir)\n",
    "wildfires_sm_df.progress_apply(lambda row: retrieve_set(row, base_dir), axis=1)"
   ]
  },
  {
   "cell_type": "code",
   "execution_count": 521,
   "id": "92f52ac6",
   "metadata": {},
   "outputs": [],
   "source": [
    "wildfires_from_2017 = wildfires_sm_df[wildfires_sm_df[\"Started\"].dt.year >= 2017]"
   ]
  },
  {
   "cell_type": "code",
   "execution_count": 522,
   "id": "c6756c86",
   "metadata": {},
   "outputs": [
    {
     "name": "stderr",
     "output_type": "stream",
     "text": [
      "  0%|▏                                                                                    | 2/1006 [00:01<12:36,  1.33it/s]"
     ]
    },
    {
     "name": "stdout",
     "output_type": "stream",
     "text": [
      "EXCEPTION - Row 1053 @ (-121.55633, 39.51158)\n",
      "Image.select: Band pattern 'B4' was applied to an Image with no bands. See https://developers.google.com/earth-engine/guides/debugging#no-bands\n",
      "Image download: ../Data/exports/tc/2017-03-05-2017-04-02--121.85645-40.48712_tc.tif (512, 512)\n"
     ]
    },
    {
     "name": "stderr",
     "output_type": "stream",
     "text": [
      "\r",
      "  0%|▎                                                                                    | 3/1006 [00:05<36:20,  2.17s/it]"
     ]
    },
    {
     "name": "stdout",
     "output_type": "stream",
     "text": [
      "Image download: ../Data/exports/ndvi/2017-03-05-2017-04-02--121.85645-40.48712_ndvi_bw.tif (512, 512)\n",
      "Image download: ../Data/exports/tc/2017-03-05-2017-04-02--120.58342-41.16716_tc.tif (512, 512)\n"
     ]
    },
    {
     "name": "stderr",
     "output_type": "stream",
     "text": [
      "\r",
      "  0%|▎                                                                                    | 4/1006 [00:10<51:29,  3.08s/it]"
     ]
    },
    {
     "name": "stdout",
     "output_type": "stream",
     "text": [
      "Image download: ../Data/exports/ndvi/2017-03-05-2017-04-02--120.58342-41.16716_ndvi_bw.tif (512, 512)\n",
      "Image download: ../Data/exports/tc/2017-03-15-2017-04-12--116.08003-33.56777_tc.tif (512, 512)\n"
     ]
    },
    {
     "name": "stderr",
     "output_type": "stream",
     "text": [
      "\r",
      "  0%|▍                                                                                    | 5/1006 [00:14<59:16,  3.55s/it]"
     ]
    },
    {
     "name": "stdout",
     "output_type": "stream",
     "text": [
      "Image download: ../Data/exports/ndvi/2017-03-15-2017-04-12--116.08003-33.56777_ndvi_bw.tif (512, 512)\n"
     ]
    },
    {
     "name": "stderr",
     "output_type": "stream",
     "text": [
      "\r",
      "  1%|▌                                                                                    | 6/1006 [00:15<44:46,  2.69s/it]"
     ]
    },
    {
     "name": "stdout",
     "output_type": "stream",
     "text": [
      "EXCEPTION - Row 657 @ (-120.26561, 36.07228)\n",
      "Image.select: Band pattern 'B4' was applied to an Image with no bands. See https://developers.google.com/earth-engine/guides/debugging#no-bands\n",
      "Image download: ../Data/exports/tc/2017-03-26-2017-04-23--121.34695-36.44141_tc.tif (512, 512)\n"
     ]
    },
    {
     "name": "stderr",
     "output_type": "stream",
     "text": [
      "\r",
      "  1%|▌                                                                                    | 7/1006 [00:19<51:31,  3.09s/it]"
     ]
    },
    {
     "name": "stdout",
     "output_type": "stream",
     "text": [
      "Image download: ../Data/exports/ndvi/2017-03-26-2017-04-23--121.34695-36.44141_ndvi_bw.tif (512, 512)\n"
     ]
    },
    {
     "name": "stderr",
     "output_type": "stream",
     "text": [
      "\r",
      "  1%|▋                                                                                    | 8/1006 [00:20<39:04,  2.35s/it]"
     ]
    },
    {
     "name": "stdout",
     "output_type": "stream",
     "text": [
      "EXCEPTION - Row 699 @ (-120.206592, 36.530836)\n",
      "Image.select: Band pattern 'B4' was applied to an Image with no bands. See https://developers.google.com/earth-engine/guides/debugging#no-bands\n",
      "Image download: ../Data/exports/tc/2017-03-31-2017-04-28--120.6585-36.5355_tc.tif (512, 512)\n"
     ]
    },
    {
     "name": "stderr",
     "output_type": "stream",
     "text": [
      "\r",
      "  1%|▊                                                                                    | 9/1006 [00:24<48:57,  2.95s/it]"
     ]
    },
    {
     "name": "stdout",
     "output_type": "stream",
     "text": [
      "Image download: ../Data/exports/ndvi/2017-03-31-2017-04-28--120.6585-36.5355_ndvi_bw.tif (512, 512)\n",
      "Image download: ../Data/exports/tc/2017-04-01-2017-04-29--117.30693-34.00566_tc.tif (512, 512)\n"
     ]
    },
    {
     "name": "stderr",
     "output_type": "stream",
     "text": [
      "\r",
      "  1%|▊                                                                                   | 10/1006 [00:28<53:17,  3.21s/it]"
     ]
    },
    {
     "name": "stdout",
     "output_type": "stream",
     "text": [
      "Image download: ../Data/exports/ndvi/2017-04-01-2017-04-29--117.30693-34.00566_ndvi_bw.tif (512, 512)\n",
      "Image download: ../Data/exports/tc/2017-04-01-2017-04-29--117.45646-34.30104_tc.tif (512, 512)\n"
     ]
    },
    {
     "name": "stderr",
     "output_type": "stream",
     "text": [
      "\r",
      "  1%|▉                                                                                   | 11/1006 [00:32<58:19,  3.52s/it]"
     ]
    },
    {
     "name": "stdout",
     "output_type": "stream",
     "text": [
      "Image download: ../Data/exports/ndvi/2017-04-01-2017-04-29--117.45646-34.30104_ndvi_bw.tif (512, 512)\n",
      "Image download: ../Data/exports/tc/2017-04-01-2017-04-29--117.5048-33.7866_tc.tif (512, 512)\n"
     ]
    },
    {
     "name": "stderr",
     "output_type": "stream",
     "text": [
      "\r",
      "  1%|▉                                                                                 | 12/1006 [00:36<1:02:22,  3.77s/it]"
     ]
    },
    {
     "name": "stdout",
     "output_type": "stream",
     "text": [
      "Image download: ../Data/exports/ndvi/2017-04-01-2017-04-29--117.5048-33.7866_ndvi_bw.tif (512, 512)\n",
      "Image download: ../Data/exports/tc/2017-04-02-2017-04-30--118.30601-35.71704_tc.tif (512, 512)\n"
     ]
    },
    {
     "name": "stderr",
     "output_type": "stream",
     "text": [
      "\r",
      "  1%|█                                                                                 | 13/1006 [00:41<1:04:31,  3.90s/it]"
     ]
    },
    {
     "name": "stdout",
     "output_type": "stream",
     "text": [
      "Image download: ../Data/exports/ndvi/2017-04-02-2017-04-30--118.30601-35.71704_ndvi_bw.tif (512, 512)\n"
     ]
    },
    {
     "name": "stderr",
     "output_type": "stream",
     "text": [
      "\r",
      "  1%|█▏                                                                                  | 14/1006 [00:42<49:36,  3.00s/it]"
     ]
    },
    {
     "name": "stdout",
     "output_type": "stream",
     "text": [
      "EXCEPTION - Row 789 @ (-120.22647, 35.78286)\n",
      "Image.select: Band pattern 'B4' was applied to an Image with no bands. See https://developers.google.com/earth-engine/guides/debugging#no-bands\n"
     ]
    },
    {
     "name": "stderr",
     "output_type": "stream",
     "text": [
      "\r",
      "  1%|█▎                                                                                  | 15/1006 [00:42<38:22,  2.32s/it]"
     ]
    },
    {
     "name": "stdout",
     "output_type": "stream",
     "text": [
      "EXCEPTION - Row 1017 @ (-120.3317, 35.6879)\n",
      "Image.select: Band pattern 'B4' was applied to an Image with no bands. See https://developers.google.com/earth-engine/guides/debugging#no-bands\n"
     ]
    },
    {
     "name": "stderr",
     "output_type": "stream",
     "text": [
      "\r",
      "  2%|█▎                                                                                  | 16/1006 [00:43<30:39,  1.86s/it]"
     ]
    },
    {
     "name": "stdout",
     "output_type": "stream",
     "text": [
      "EXCEPTION - Row 729 @ (-120.2445, 36.45491)\n",
      "Image.select: Band pattern 'B4' was applied to an Image with no bands. See https://developers.google.com/earth-engine/guides/debugging#no-bands\n",
      "Image download: ../Data/exports/tc/2017-04-13-2017-05-11--118.4683-35.60001_tc.tif (512, 512)\n"
     ]
    },
    {
     "name": "stderr",
     "output_type": "stream",
     "text": [
      "\r",
      "  2%|█▍                                                                                  | 17/1006 [00:47<40:34,  2.46s/it]"
     ]
    },
    {
     "name": "stdout",
     "output_type": "stream",
     "text": [
      "Image download: ../Data/exports/ndvi/2017-04-13-2017-05-11--118.4683-35.60001_ndvi_bw.tif (512, 512)\n",
      "Image download: ../Data/exports/tc/2017-04-13-2017-05-11--120.89261-36.96655_tc.tif (512, 512)\n"
     ]
    },
    {
     "name": "stderr",
     "output_type": "stream",
     "text": [
      "\r",
      "  2%|█▌                                                                                  | 18/1006 [00:51<50:27,  3.06s/it]"
     ]
    },
    {
     "name": "stdout",
     "output_type": "stream",
     "text": [
      "Image download: ../Data/exports/ndvi/2017-04-13-2017-05-11--120.89261-36.96655_ndvi_bw.tif (512, 512)\n",
      "Image download: ../Data/exports/tc/2017-04-15-2017-05-13--120.92482-35.77082_tc.tif (512, 512)\n"
     ]
    },
    {
     "name": "stderr",
     "output_type": "stream",
     "text": [
      "\r",
      "  2%|█▌                                                                                  | 19/1006 [00:56<55:58,  3.40s/it]"
     ]
    },
    {
     "name": "stdout",
     "output_type": "stream",
     "text": [
      "Image download: ../Data/exports/ndvi/2017-04-15-2017-05-13--120.92482-35.77082_ndvi_bw.tif (512, 512)\n",
      "Image download: ../Data/exports/tc/2017-04-15-2017-05-13--116.99229-33.88466_tc.tif (512, 512)\n"
     ]
    },
    {
     "name": "stderr",
     "output_type": "stream",
     "text": [
      "\r",
      "  2%|█▋                                                                                | 20/1006 [01:00<1:00:28,  3.68s/it]"
     ]
    },
    {
     "name": "stdout",
     "output_type": "stream",
     "text": [
      "Image download: ../Data/exports/ndvi/2017-04-15-2017-05-13--116.99229-33.88466_ndvi_bw.tif (512, 512)\n",
      "Image download: ../Data/exports/tc/2017-04-15-2017-05-13--118.90004-35.05076_tc.tif (512, 512)\n"
     ]
    },
    {
     "name": "stderr",
     "output_type": "stream",
     "text": [
      "\r",
      "  2%|█▋                                                                                | 21/1006 [01:04<1:02:20,  3.80s/it]"
     ]
    },
    {
     "name": "stdout",
     "output_type": "stream",
     "text": [
      "Image download: ../Data/exports/ndvi/2017-04-15-2017-05-13--118.90004-35.05076_ndvi_bw.tif (512, 512)\n",
      "Image download: ../Data/exports/tc/2017-04-16-2017-05-14--119.87525-35.21177_tc.tif (512, 512)\n"
     ]
    },
    {
     "name": "stderr",
     "output_type": "stream",
     "text": [
      "\r",
      "  2%|█▊                                                                                | 22/1006 [01:09<1:05:30,  3.99s/it]"
     ]
    },
    {
     "name": "stdout",
     "output_type": "stream",
     "text": [
      "Image download: ../Data/exports/ndvi/2017-04-16-2017-05-14--119.87525-35.21177_ndvi_bw.tif (512, 512)\n",
      "Image download: ../Data/exports/tc/2017-04-16-2017-05-14--118.84466-35.41283_tc.tif (512, 512)\n"
     ]
    },
    {
     "name": "stderr",
     "output_type": "stream",
     "text": [
      "\r",
      "  2%|█▊                                                                                | 23/1006 [01:13<1:05:36,  4.00s/it]"
     ]
    },
    {
     "name": "stdout",
     "output_type": "stream",
     "text": [
      "Image download: ../Data/exports/ndvi/2017-04-16-2017-05-14--118.84466-35.41283_ndvi_bw.tif (512, 512)\n",
      "Image download: ../Data/exports/tc/2017-04-17-2017-05-15--120.86682-36.1727_tc.tif (512, 512)\n"
     ]
    },
    {
     "name": "stderr",
     "output_type": "stream",
     "text": [
      "\r",
      "  2%|█▉                                                                                | 24/1006 [01:17<1:05:31,  4.00s/it]"
     ]
    },
    {
     "name": "stdout",
     "output_type": "stream",
     "text": [
      "Image download: ../Data/exports/ndvi/2017-04-17-2017-05-15--120.86682-36.1727_ndvi_bw.tif (512, 512)\n",
      "Image download: ../Data/exports/tc/2017-04-18-2017-05-16--120.94328-36.2771_tc.tif (512, 512)\n"
     ]
    },
    {
     "name": "stderr",
     "output_type": "stream",
     "text": [
      "\r",
      "  2%|██                                                                                | 25/1006 [01:20<1:04:06,  3.92s/it]"
     ]
    },
    {
     "name": "stdout",
     "output_type": "stream",
     "text": [
      "Image download: ../Data/exports/ndvi/2017-04-18-2017-05-16--120.94328-36.2771_ndvi_bw.tif (512, 512)\n",
      "Image download: ../Data/exports/tc/2017-04-18-2017-05-16--119.79315-36.90967_tc.tif (512, 512)\n"
     ]
    },
    {
     "name": "stderr",
     "output_type": "stream",
     "text": [
      "\r",
      "  3%|██▏                                                                                 | 26/1006 [01:23<58:19,  3.57s/it]"
     ]
    },
    {
     "name": "stdout",
     "output_type": "stream",
     "text": [
      "Image download: ../Data/exports/ndvi/2017-04-18-2017-05-16--119.79315-36.90967_ndvi_bw.tif (512, 512)\n"
     ]
    },
    {
     "name": "stderr",
     "output_type": "stream",
     "text": [
      "\r",
      "  3%|██▎                                                                                 | 27/1006 [01:24<44:32,  2.73s/it]"
     ]
    },
    {
     "name": "stdout",
     "output_type": "stream",
     "text": [
      "EXCEPTION - Row 750 @ (-120.76464, 35.34541)\n",
      "Image.select: Band pattern 'B4' was applied to an Image with no bands. See https://developers.google.com/earth-engine/guides/debugging#no-bands\n"
     ]
    },
    {
     "name": "stderr",
     "output_type": "stream",
     "text": [
      "\r",
      "  3%|██▎                                                                                 | 28/1006 [01:25<35:02,  2.15s/it]"
     ]
    },
    {
     "name": "stdout",
     "output_type": "stream",
     "text": [
      "EXCEPTION - Row 978 @ (-119.91508, 35.983)\n",
      "Image.select: Band pattern 'B4' was applied to an Image with no bands. See https://developers.google.com/earth-engine/guides/debugging#no-bands\n"
     ]
    },
    {
     "name": "stderr",
     "output_type": "stream",
     "text": [
      "\r",
      "  3%|██▍                                                                                 | 29/1006 [01:25<27:56,  1.72s/it]"
     ]
    },
    {
     "name": "stdout",
     "output_type": "stream",
     "text": [
      "EXCEPTION - Row 643 @ (-120.37116, 36.12089)\n",
      "Image.select: Band pattern 'B4' was applied to an Image with no bands. See https://developers.google.com/earth-engine/guides/debugging#no-bands\n",
      "Image download: ../Data/exports/tc/2017-04-19-2017-05-17--117.44148-33.97155_tc.tif (512, 512)\n"
     ]
    },
    {
     "name": "stderr",
     "output_type": "stream",
     "text": [
      "\r",
      "  3%|██▌                                                                                 | 30/1006 [01:29<39:11,  2.41s/it]"
     ]
    },
    {
     "name": "stdout",
     "output_type": "stream",
     "text": [
      "Image download: ../Data/exports/ndvi/2017-04-19-2017-05-17--117.44148-33.97155_ndvi_bw.tif (512, 512)\n",
      "Image download: ../Data/exports/tc/2017-04-20-2017-05-18--120.80411-35.85253_tc.tif (512, 512)\n"
     ]
    },
    {
     "name": "stderr",
     "output_type": "stream",
     "text": [
      "\r",
      "  3%|██▌                                                                                 | 31/1006 [01:34<48:56,  3.01s/it]"
     ]
    },
    {
     "name": "stdout",
     "output_type": "stream",
     "text": [
      "Image download: ../Data/exports/ndvi/2017-04-20-2017-05-18--120.80411-35.85253_ndvi_bw.tif (512, 512)\n",
      "Image download: ../Data/exports/tc/2017-04-20-2017-05-18--117.32348-33.3906_tc.tif (512, 512)\n"
     ]
    },
    {
     "name": "stderr",
     "output_type": "stream",
     "text": [
      "\r",
      "  3%|██▋                                                                                 | 32/1006 [01:38<53:08,  3.27s/it]"
     ]
    },
    {
     "name": "stdout",
     "output_type": "stream",
     "text": [
      "Image download: ../Data/exports/ndvi/2017-04-20-2017-05-18--117.32348-33.3906_ndvi_bw.tif (512, 512)\n",
      "Image download: ../Data/exports/tc/2017-04-20-2017-05-18--120.5828-36.60736_tc.tif (512, 512)\n"
     ]
    },
    {
     "name": "stderr",
     "output_type": "stream",
     "text": [
      "\r",
      "  3%|██▊                                                                                 | 33/1006 [01:41<55:39,  3.43s/it]"
     ]
    },
    {
     "name": "stdout",
     "output_type": "stream",
     "text": [
      "Image download: ../Data/exports/ndvi/2017-04-20-2017-05-18--120.5828-36.60736_ndvi_bw.tif (512, 512)\n",
      "Image download: ../Data/exports/tc/2017-04-21-2017-05-19--120.474-35.556667_tc.tif (512, 512)\n"
     ]
    },
    {
     "name": "stderr",
     "output_type": "stream",
     "text": [
      "\r",
      "  3%|██▊                                                                                 | 34/1006 [01:46<59:45,  3.69s/it]"
     ]
    },
    {
     "name": "stdout",
     "output_type": "stream",
     "text": [
      "Image download: ../Data/exports/ndvi/2017-04-21-2017-05-19--120.474-35.556667_ndvi_bw.tif (512, 512)\n",
      "Image download: ../Data/exports/tc/2017-04-21-2017-05-19--118.85896-35.4605_tc.tif (512, 512)\n"
     ]
    },
    {
     "name": "stderr",
     "output_type": "stream",
     "text": [
      "\r",
      "  3%|██▊                                                                               | 35/1006 [01:50<1:02:23,  3.86s/it]"
     ]
    },
    {
     "name": "stdout",
     "output_type": "stream",
     "text": [
      "Image download: ../Data/exports/ndvi/2017-04-21-2017-05-19--118.85896-35.4605_ndvi_bw.tif (512, 512)\n",
      "Image download: ../Data/exports/tc/2017-04-21-2017-05-19--119.8036-34.9465_tc.tif (512, 512)\n"
     ]
    },
    {
     "name": "stderr",
     "output_type": "stream",
     "text": [
      "\r",
      "  4%|██▉                                                                               | 36/1006 [01:54<1:02:25,  3.86s/it]"
     ]
    },
    {
     "name": "stdout",
     "output_type": "stream",
     "text": [
      "Image download: ../Data/exports/ndvi/2017-04-21-2017-05-19--119.8036-34.9465_ndvi_bw.tif (512, 512)\n",
      "Image download: ../Data/exports/tc/2017-04-21-2017-05-19--116.80527-32.65597_tc.tif (512, 512)\n"
     ]
    },
    {
     "name": "stderr",
     "output_type": "stream",
     "text": [
      "\r",
      "  4%|███                                                                               | 37/1006 [01:58<1:04:25,  3.99s/it]"
     ]
    },
    {
     "name": "stdout",
     "output_type": "stream",
     "text": [
      "Image download: ../Data/exports/ndvi/2017-04-21-2017-05-19--116.80527-32.65597_ndvi_bw.tif (512, 512)\n",
      "Image download: ../Data/exports/tc/2017-04-22-2017-05-20--117.20507-33.96419_tc.tif (512, 512)\n"
     ]
    },
    {
     "name": "stderr",
     "output_type": "stream",
     "text": [
      "\r",
      "  4%|███                                                                               | 38/1006 [02:02<1:02:21,  3.87s/it]"
     ]
    },
    {
     "name": "stdout",
     "output_type": "stream",
     "text": [
      "Image download: ../Data/exports/ndvi/2017-04-22-2017-05-20--117.20507-33.96419_ndvi_bw.tif (512, 512)\n",
      "Image download: ../Data/exports/tc/2017-04-23-2017-05-21--120.99552-36.35578_tc.tif (512, 512)\n"
     ]
    },
    {
     "name": "stderr",
     "output_type": "stream",
     "text": [
      "\r",
      "  4%|███▏                                                                              | 39/1006 [02:06<1:04:47,  4.02s/it]"
     ]
    },
    {
     "name": "stdout",
     "output_type": "stream",
     "text": [
      "Image download: ../Data/exports/ndvi/2017-04-23-2017-05-21--120.99552-36.35578_ndvi_bw.tif (512, 512)\n",
      "Image download: ../Data/exports/tc/2017-04-24-2017-05-22--117.17773-33.94673_tc.tif (512, 512)\n"
     ]
    },
    {
     "name": "stderr",
     "output_type": "stream",
     "text": [
      "\r",
      "  4%|███▎                                                                              | 40/1006 [02:10<1:04:10,  3.99s/it]"
     ]
    },
    {
     "name": "stdout",
     "output_type": "stream",
     "text": [
      "Image download: ../Data/exports/ndvi/2017-04-24-2017-05-22--117.17773-33.94673_ndvi_bw.tif (512, 512)\n",
      "Image download: ../Data/exports/tc/2017-04-25-2017-05-23--116.29296-32.679_tc.tif (512, 512)\n"
     ]
    },
    {
     "name": "stderr",
     "output_type": "stream",
     "text": [
      "\r",
      "  4%|███▎                                                                              | 41/1006 [02:14<1:05:11,  4.05s/it]"
     ]
    },
    {
     "name": "stdout",
     "output_type": "stream",
     "text": [
      "Image download: ../Data/exports/ndvi/2017-04-25-2017-05-23--116.29296-32.679_ndvi_bw.tif (512, 512)\n",
      "Image download: ../Data/exports/tc/2017-04-26-2017-05-24--116.99651-33.88287_tc.tif (512, 512)\n"
     ]
    },
    {
     "name": "stderr",
     "output_type": "stream",
     "text": [
      "\r",
      "  4%|███▍                                                                              | 42/1006 [02:19<1:09:26,  4.32s/it]"
     ]
    },
    {
     "name": "stdout",
     "output_type": "stream",
     "text": [
      "Image download: ../Data/exports/ndvi/2017-04-26-2017-05-24--116.99651-33.88287_ndvi_bw.tif (512, 512)\n",
      "Image download: ../Data/exports/tc/2017-04-26-2017-05-24--117.39818-33.34988_tc.tif (512, 512)\n"
     ]
    },
    {
     "name": "stderr",
     "output_type": "stream",
     "text": [
      "\r",
      "  4%|███▌                                                                              | 43/1006 [02:23<1:07:44,  4.22s/it]"
     ]
    },
    {
     "name": "stdout",
     "output_type": "stream",
     "text": [
      "Image download: ../Data/exports/ndvi/2017-04-26-2017-05-24--117.39818-33.34988_ndvi_bw.tif (512, 512)\n",
      "Image download: ../Data/exports/tc/2017-04-29-2017-05-27--119.58292-36.96642_tc.tif (512, 512)\n"
     ]
    },
    {
     "name": "stderr",
     "output_type": "stream",
     "text": [
      "\r",
      "  4%|███▌                                                                              | 44/1006 [02:27<1:07:48,  4.23s/it]"
     ]
    },
    {
     "name": "stdout",
     "output_type": "stream",
     "text": [
      "Image download: ../Data/exports/ndvi/2017-04-29-2017-05-27--119.58292-36.96642_ndvi_bw.tif (512, 512)\n",
      "Image download: ../Data/exports/tc/2017-04-29-2017-05-27--118.35296-34.87128_tc.tif (512, 512)\n"
     ]
    },
    {
     "name": "stderr",
     "output_type": "stream",
     "text": [
      "\r",
      "  4%|███▋                                                                              | 45/1006 [02:32<1:07:29,  4.21s/it]"
     ]
    },
    {
     "name": "stdout",
     "output_type": "stream",
     "text": [
      "Image download: ../Data/exports/ndvi/2017-04-29-2017-05-27--118.35296-34.87128_ndvi_bw.tif (512, 512)\n",
      "Image download: ../Data/exports/tc/2017-04-29-2017-05-27--116.07429-33.58577_tc.tif (512, 512)\n"
     ]
    },
    {
     "name": "stderr",
     "output_type": "stream",
     "text": [
      "\r",
      "  5%|███▋                                                                              | 46/1006 [02:36<1:08:28,  4.28s/it]"
     ]
    },
    {
     "name": "stdout",
     "output_type": "stream",
     "text": [
      "Image download: ../Data/exports/ndvi/2017-04-29-2017-05-27--116.07429-33.58577_ndvi_bw.tif (512, 512)\n",
      "Image download: ../Data/exports/tc/2017-04-29-2017-05-27--120.83484-38.19906_tc.tif (512, 512)\n"
     ]
    },
    {
     "name": "stderr",
     "output_type": "stream",
     "text": [
      "\r",
      "  5%|███▊                                                                              | 47/1006 [02:40<1:05:58,  4.13s/it]"
     ]
    },
    {
     "name": "stdout",
     "output_type": "stream",
     "text": [
      "Image download: ../Data/exports/ndvi/2017-04-29-2017-05-27--120.83484-38.19906_ndvi_bw.tif (512, 512)\n",
      "Image download: ../Data/exports/tc/2017-04-29-2017-05-27--120.7109-36.61332_tc.tif (512, 512)\n"
     ]
    },
    {
     "name": "stderr",
     "output_type": "stream",
     "text": [
      "\r",
      "  5%|███▉                                                                              | 48/1006 [02:44<1:08:35,  4.30s/it]"
     ]
    },
    {
     "name": "stdout",
     "output_type": "stream",
     "text": [
      "Image download: ../Data/exports/ndvi/2017-04-29-2017-05-27--120.7109-36.61332_ndvi_bw.tif (512, 512)\n",
      "Image download: ../Data/exports/tc/2017-04-30-2017-05-28--116.55326-34.04412_tc.tif (512, 512)\n"
     ]
    },
    {
     "name": "stderr",
     "output_type": "stream",
     "text": [
      "\r",
      "  5%|███▉                                                                              | 49/1006 [02:49<1:08:14,  4.28s/it]"
     ]
    },
    {
     "name": "stdout",
     "output_type": "stream",
     "text": [
      "Image download: ../Data/exports/ndvi/2017-04-30-2017-05-28--116.55326-34.04412_ndvi_bw.tif (512, 512)\n",
      "Image download: ../Data/exports/tc/2017-04-30-2017-05-28--121.376-39.23205_tc.tif (512, 512)\n"
     ]
    },
    {
     "name": "stderr",
     "output_type": "stream",
     "text": [
      "\r",
      "  5%|████                                                                              | 50/1006 [02:52<1:05:40,  4.12s/it]"
     ]
    },
    {
     "name": "stdout",
     "output_type": "stream",
     "text": [
      "Image download: ../Data/exports/ndvi/2017-04-30-2017-05-28--121.376-39.23205_ndvi_bw.tif (512, 512)\n",
      "Image download: ../Data/exports/tc/2017-05-02-2017-05-30--119.00334-35.89423_tc.tif (512, 512)\n"
     ]
    },
    {
     "name": "stderr",
     "output_type": "stream",
     "text": [
      "\r",
      "  5%|████▏                                                                             | 51/1006 [02:56<1:04:45,  4.07s/it]"
     ]
    },
    {
     "name": "stdout",
     "output_type": "stream",
     "text": [
      "Image download: ../Data/exports/ndvi/2017-05-02-2017-05-30--119.00334-35.89423_ndvi_bw.tif (512, 512)\n",
      "Image download: ../Data/exports/tc/2017-05-03-2017-05-31--121.11113-38.33707_tc.tif (512, 512)\n"
     ]
    },
    {
     "name": "stderr",
     "output_type": "stream",
     "text": [
      "\r",
      "  5%|████▏                                                                             | 52/1006 [03:01<1:06:04,  4.16s/it]"
     ]
    },
    {
     "name": "stdout",
     "output_type": "stream",
     "text": [
      "Image download: ../Data/exports/ndvi/2017-05-03-2017-05-31--121.11113-38.33707_ndvi_bw.tif (512, 512)\n",
      "Image download: ../Data/exports/tc/2017-05-03-2017-05-31--116.59719-33.94788_tc.tif (512, 512)\n"
     ]
    },
    {
     "name": "stderr",
     "output_type": "stream",
     "text": [
      "\r",
      "  5%|████▎                                                                             | 53/1006 [03:05<1:06:06,  4.16s/it]"
     ]
    },
    {
     "name": "stdout",
     "output_type": "stream",
     "text": [
      "Image download: ../Data/exports/ndvi/2017-05-03-2017-05-31--116.59719-33.94788_ndvi_bw.tif (512, 512)\n",
      "Image download: ../Data/exports/tc/2017-05-04-2017-06-01--119.2877-35.188_tc.tif (512, 512)\n"
     ]
    },
    {
     "name": "stderr",
     "output_type": "stream",
     "text": [
      "\r",
      "  5%|████▍                                                                             | 54/1006 [03:10<1:08:13,  4.30s/it]"
     ]
    },
    {
     "name": "stdout",
     "output_type": "stream",
     "text": [
      "Image download: ../Data/exports/ndvi/2017-05-04-2017-06-01--119.2877-35.188_ndvi_bw.tif (512, 512)\n",
      "Image download: ../Data/exports/tc/2017-05-05-2017-06-02--116.96079-33.82165_tc.tif (512, 512)\n"
     ]
    },
    {
     "name": "stderr",
     "output_type": "stream",
     "text": [
      "\r",
      "  5%|████▍                                                                             | 55/1006 [03:14<1:08:56,  4.35s/it]"
     ]
    },
    {
     "name": "stdout",
     "output_type": "stream",
     "text": [
      "Image download: ../Data/exports/ndvi/2017-05-05-2017-06-02--116.96079-33.82165_ndvi_bw.tif (512, 512)\n",
      "Image download: ../Data/exports/tc/2017-05-05-2017-06-02--120.53443-41.38247_tc.tif (512, 512)\n"
     ]
    },
    {
     "name": "stderr",
     "output_type": "stream",
     "text": [
      "\r",
      "  6%|████▌                                                                             | 56/1006 [03:18<1:05:19,  4.13s/it]"
     ]
    },
    {
     "name": "stdout",
     "output_type": "stream",
     "text": [
      "Image download: ../Data/exports/ndvi/2017-05-05-2017-06-02--120.53443-41.38247_ndvi_bw.tif (512, 512)\n",
      "Image download: ../Data/exports/tc/2017-05-05-2017-06-02--118.37539-34.29931_tc.tif (512, 512)\n"
     ]
    },
    {
     "name": "stderr",
     "output_type": "stream",
     "text": [
      "\r",
      "  6%|████▋                                                                             | 57/1006 [03:22<1:05:22,  4.13s/it]"
     ]
    },
    {
     "name": "stdout",
     "output_type": "stream",
     "text": [
      "Image download: ../Data/exports/ndvi/2017-05-05-2017-06-02--118.37539-34.29931_ndvi_bw.tif (512, 512)\n",
      "Image download: ../Data/exports/tc/2017-05-06-2017-06-03--120.1064-40.03392_tc.tif (512, 512)\n"
     ]
    },
    {
     "name": "stderr",
     "output_type": "stream",
     "text": [
      "\r",
      "  6%|████▋                                                                             | 58/1006 [03:26<1:06:03,  4.18s/it]"
     ]
    },
    {
     "name": "stdout",
     "output_type": "stream",
     "text": [
      "Image download: ../Data/exports/ndvi/2017-05-06-2017-06-03--120.1064-40.03392_ndvi_bw.tif (512, 512)\n",
      "Image download: ../Data/exports/tc/2017-05-06-2017-06-03--122.13088-40.38944_tc.tif (512, 512)\n"
     ]
    },
    {
     "name": "stderr",
     "output_type": "stream",
     "text": [
      "\r",
      "  6%|████▊                                                                             | 59/1006 [03:30<1:03:51,  4.05s/it]"
     ]
    },
    {
     "name": "stdout",
     "output_type": "stream",
     "text": [
      "Image download: ../Data/exports/ndvi/2017-05-06-2017-06-03--122.13088-40.38944_ndvi_bw.tif (512, 512)\n",
      "Image download: ../Data/exports/tc/2017-05-06-2017-06-03--116.88097-33.87107_tc.tif (512, 512)\n"
     ]
    },
    {
     "name": "stderr",
     "output_type": "stream",
     "text": [
      "\r",
      "  6%|████▉                                                                             | 60/1006 [03:35<1:08:46,  4.36s/it]"
     ]
    },
    {
     "name": "stdout",
     "output_type": "stream",
     "text": [
      "Image download: ../Data/exports/ndvi/2017-05-06-2017-06-03--116.88097-33.87107_ndvi_bw.tif (512, 512)\n",
      "Image download: ../Data/exports/tc/2017-05-06-2017-06-03--118.4642-35.60633_tc.tif (512, 512)\n"
     ]
    },
    {
     "name": "stderr",
     "output_type": "stream",
     "text": [
      "\r",
      "  6%|████▉                                                                             | 61/1006 [03:40<1:12:49,  4.62s/it]"
     ]
    },
    {
     "name": "stdout",
     "output_type": "stream",
     "text": [
      "Image download: ../Data/exports/ndvi/2017-05-06-2017-06-03--118.4642-35.60633_ndvi_bw.tif (512, 512)\n",
      "Image download: ../Data/exports/tc/2017-05-07-2017-06-04--122.2102-37.86549_tc.tif (512, 512)\n"
     ]
    },
    {
     "name": "stderr",
     "output_type": "stream",
     "text": [
      "\r",
      "  6%|█████                                                                             | 62/1006 [03:44<1:08:38,  4.36s/it]"
     ]
    },
    {
     "name": "stdout",
     "output_type": "stream",
     "text": [
      "Image download: ../Data/exports/ndvi/2017-05-07-2017-06-04--122.2102-37.86549_ndvi_bw.tif (512, 512)\n",
      "Image download: ../Data/exports/tc/2017-05-07-2017-06-04--118.796513-35.564124_tc.tif (512, 512)\n"
     ]
    },
    {
     "name": "stderr",
     "output_type": "stream",
     "text": [
      "\r",
      "  6%|█████▏                                                                            | 63/1006 [03:47<1:02:04,  3.95s/it]"
     ]
    },
    {
     "name": "stdout",
     "output_type": "stream",
     "text": [
      "Image download: ../Data/exports/ndvi/2017-05-07-2017-06-04--118.796513-35.564124_ndvi_bw.tif (512, 512)\n",
      "Image download: ../Data/exports/tc/2017-05-08-2017-06-05--121.64897-39.52499_tc.tif (512, 512)\n"
     ]
    },
    {
     "name": "stderr",
     "output_type": "stream",
     "text": [
      "\r",
      "  6%|█████▏                                                                            | 64/1006 [03:51<1:02:06,  3.96s/it]"
     ]
    },
    {
     "name": "stdout",
     "output_type": "stream",
     "text": [
      "Image download: ../Data/exports/ndvi/2017-05-08-2017-06-05--121.64897-39.52499_ndvi_bw.tif (512, 512)\n",
      "Image download: ../Data/exports/tc/2017-05-08-2017-06-05--122.4571-41.8721_tc.tif (512, 512)\n"
     ]
    },
    {
     "name": "stderr",
     "output_type": "stream",
     "text": [
      "\r",
      "  6%|█████▎                                                                            | 65/1006 [03:55<1:04:44,  4.13s/it]"
     ]
    },
    {
     "name": "stdout",
     "output_type": "stream",
     "text": [
      "Image download: ../Data/exports/ndvi/2017-05-08-2017-06-05--122.4571-41.8721_ndvi_bw.tif (512, 512)\n",
      "Image download: ../Data/exports/tc/2017-05-09-2017-06-06--118.87676-36.45809_tc.tif (512, 512)\n"
     ]
    },
    {
     "name": "stderr",
     "output_type": "stream",
     "text": [
      "\r",
      "  7%|█████▍                                                                            | 66/1006 [03:59<1:03:40,  4.06s/it]"
     ]
    },
    {
     "name": "stdout",
     "output_type": "stream",
     "text": [
      "Image download: ../Data/exports/ndvi/2017-05-09-2017-06-06--118.87676-36.45809_ndvi_bw.tif (512, 512)\n",
      "Image download: ../Data/exports/tc/2017-05-09-2017-06-06--120.0193-37.12759_tc.tif (512, 512)\n"
     ]
    },
    {
     "name": "stderr",
     "output_type": "stream",
     "text": [
      "\r",
      "  7%|█████▍                                                                            | 67/1006 [04:04<1:07:17,  4.30s/it]"
     ]
    },
    {
     "name": "stdout",
     "output_type": "stream",
     "text": [
      "Image download: ../Data/exports/ndvi/2017-05-09-2017-06-06--120.0193-37.12759_ndvi_bw.tif (512, 512)\n",
      "Image download: ../Data/exports/tc/2017-05-11-2017-06-08--118.84134-35.37351_tc.tif (512, 512)\n"
     ]
    },
    {
     "name": "stderr",
     "output_type": "stream",
     "text": [
      "\r",
      "  7%|█████▌                                                                            | 68/1006 [04:08<1:07:34,  4.32s/it]"
     ]
    },
    {
     "name": "stdout",
     "output_type": "stream",
     "text": [
      "Image download: ../Data/exports/ndvi/2017-05-11-2017-06-08--118.84134-35.37351_ndvi_bw.tif (512, 512)\n",
      "Image download: ../Data/exports/tc/2017-05-11-2017-06-08--120.52508-35.80375_tc.tif (512, 512)\n"
     ]
    },
    {
     "name": "stderr",
     "output_type": "stream",
     "text": [
      "\r",
      "  7%|█████▌                                                                            | 69/1006 [04:12<1:05:58,  4.22s/it]"
     ]
    },
    {
     "name": "stdout",
     "output_type": "stream",
     "text": [
      "Image download: ../Data/exports/ndvi/2017-05-11-2017-06-08--120.52508-35.80375_ndvi_bw.tif (512, 512)\n",
      "Image download: ../Data/exports/tc/2017-05-12-2017-06-09--118.47939-35.59804_tc.tif (512, 512)\n"
     ]
    },
    {
     "name": "stderr",
     "output_type": "stream",
     "text": [
      "\r",
      "  7%|█████▋                                                                            | 70/1006 [04:17<1:05:33,  4.20s/it]"
     ]
    },
    {
     "name": "stdout",
     "output_type": "stream",
     "text": [
      "Image download: ../Data/exports/ndvi/2017-05-12-2017-06-09--118.47939-35.59804_ndvi_bw.tif (512, 512)\n",
      "Image download: ../Data/exports/tc/2017-05-12-2017-06-09--119.8011-37.0825_tc.tif (512, 512)\n"
     ]
    },
    {
     "name": "stderr",
     "output_type": "stream",
     "text": [
      "\r",
      "  7%|█████▊                                                                            | 71/1006 [04:21<1:04:59,  4.17s/it]"
     ]
    },
    {
     "name": "stdout",
     "output_type": "stream",
     "text": [
      "Image download: ../Data/exports/ndvi/2017-05-12-2017-06-09--119.8011-37.0825_ndvi_bw.tif (512, 512)\n",
      "Image download: ../Data/exports/tc/2017-05-13-2017-06-10--120.405077-36.704679_tc.tif (512, 512)\n"
     ]
    },
    {
     "name": "stderr",
     "output_type": "stream",
     "text": [
      "\r",
      "  7%|█████▊                                                                            | 72/1006 [04:25<1:06:40,  4.28s/it]"
     ]
    },
    {
     "name": "stdout",
     "output_type": "stream",
     "text": [
      "Image download: ../Data/exports/ndvi/2017-05-13-2017-06-10--120.405077-36.704679_ndvi_bw.tif (512, 512)\n",
      "Image download: ../Data/exports/tc/2017-05-13-2017-06-10--120.369347-36.616986_tc.tif (512, 512)\n"
     ]
    },
    {
     "name": "stderr",
     "output_type": "stream",
     "text": [
      "\r",
      "  7%|█████▉                                                                            | 73/1006 [04:29<1:06:12,  4.26s/it]"
     ]
    },
    {
     "name": "stdout",
     "output_type": "stream",
     "text": [
      "Image download: ../Data/exports/ndvi/2017-05-13-2017-06-10--120.369347-36.616986_ndvi_bw.tif (512, 512)\n",
      "Image download: ../Data/exports/tc/2017-05-13-2017-06-10--120.983684-35.902149_tc.tif (512, 512)\n"
     ]
    },
    {
     "name": "stderr",
     "output_type": "stream",
     "text": [
      "\r",
      "  7%|██████                                                                            | 74/1006 [04:34<1:05:22,  4.21s/it]"
     ]
    },
    {
     "name": "stdout",
     "output_type": "stream",
     "text": [
      "Image download: ../Data/exports/ndvi/2017-05-13-2017-06-10--120.983684-35.902149_ndvi_bw.tif (512, 512)\n",
      "Image download: ../Data/exports/tc/2017-05-13-2017-06-10--120.45268-37.85137_tc.tif (512, 512)\n"
     ]
    },
    {
     "name": "stderr",
     "output_type": "stream",
     "text": [
      "\r",
      "  7%|██████                                                                            | 75/1006 [04:38<1:06:31,  4.29s/it]"
     ]
    },
    {
     "name": "stdout",
     "output_type": "stream",
     "text": [
      "Image download: ../Data/exports/ndvi/2017-05-13-2017-06-10--120.45268-37.85137_ndvi_bw.tif (512, 512)\n",
      "Image download: ../Data/exports/tc/2017-05-13-2017-06-10--119.35901-36.8005_tc.tif (512, 512)\n"
     ]
    },
    {
     "name": "stderr",
     "output_type": "stream",
     "text": [
      "\r",
      "  8%|██████▏                                                                           | 76/1006 [04:42<1:04:29,  4.16s/it]"
     ]
    },
    {
     "name": "stdout",
     "output_type": "stream",
     "text": [
      "Image download: ../Data/exports/ndvi/2017-05-13-2017-06-10--119.35901-36.8005_ndvi_bw.tif (512, 512)\n"
     ]
    },
    {
     "name": "stderr",
     "output_type": "stream",
     "text": [
      "\r",
      "  8%|██████▍                                                                             | 77/1006 [04:43<48:07,  3.11s/it]"
     ]
    },
    {
     "name": "stdout",
     "output_type": "stream",
     "text": [
      "EXCEPTION - Row 963 @ (-122.2654, 38.68347)\n",
      "Image.select: Band pattern 'B4' was applied to an Image with no bands. See https://developers.google.com/earth-engine/guides/debugging#no-bands\n",
      "Image download: ../Data/exports/tc/2017-05-15-2017-06-12--116.972036-33.584036_tc.tif (512, 512)\n"
     ]
    },
    {
     "name": "stderr",
     "output_type": "stream",
     "text": [
      "\r",
      "  8%|██████▌                                                                             | 78/1006 [04:47<53:19,  3.45s/it]"
     ]
    },
    {
     "name": "stdout",
     "output_type": "stream",
     "text": [
      "Image download: ../Data/exports/ndvi/2017-05-15-2017-06-12--116.972036-33.584036_ndvi_bw.tif (512, 512)\n",
      "Image download: ../Data/exports/tc/2017-05-15-2017-06-12--117.29509-33.23281_tc.tif (512, 512)\n"
     ]
    },
    {
     "name": "stderr",
     "output_type": "stream",
     "text": [
      "\r",
      "  8%|██████▌                                                                             | 79/1006 [04:51<57:14,  3.70s/it]"
     ]
    },
    {
     "name": "stdout",
     "output_type": "stream",
     "text": [
      "Image download: ../Data/exports/ndvi/2017-05-15-2017-06-12--117.29509-33.23281_ndvi_bw.tif (512, 512)\n",
      "Image download: ../Data/exports/tc/2017-05-15-2017-06-12--118.74542-35.8556_tc.tif (512, 512)\n"
     ]
    },
    {
     "name": "stderr",
     "output_type": "stream",
     "text": [
      "\r",
      "  8%|██████▋                                                                             | 80/1006 [04:55<58:17,  3.78s/it]"
     ]
    },
    {
     "name": "stdout",
     "output_type": "stream",
     "text": [
      "Image download: ../Data/exports/ndvi/2017-05-15-2017-06-12--118.74542-35.8556_ndvi_bw.tif (512, 512)\n",
      "Image download: ../Data/exports/tc/2017-05-15-2017-06-12--116.85226-33.52584_tc.tif (512, 512)\n"
     ]
    },
    {
     "name": "stderr",
     "output_type": "stream",
     "text": [
      "\r",
      "  8%|██████▌                                                                           | 81/1006 [04:59<1:00:58,  3.95s/it]"
     ]
    },
    {
     "name": "stdout",
     "output_type": "stream",
     "text": [
      "Image download: ../Data/exports/ndvi/2017-05-15-2017-06-12--116.85226-33.52584_ndvi_bw.tif (512, 512)\n",
      "Image download: ../Data/exports/tc/2017-05-16-2017-06-13--120.3187-35.6871_tc.tif (512, 512)\n"
     ]
    },
    {
     "name": "stderr",
     "output_type": "stream",
     "text": [
      "\r",
      "  8%|██████▋                                                                           | 82/1006 [05:04<1:03:06,  4.10s/it]"
     ]
    },
    {
     "name": "stdout",
     "output_type": "stream",
     "text": [
      "Image download: ../Data/exports/ndvi/2017-05-16-2017-06-13--120.3187-35.6871_ndvi_bw.tif (512, 512)\n",
      "Image download: ../Data/exports/tc/2017-05-17-2017-06-14--120.0088-37.36914_tc.tif (512, 512)\n"
     ]
    },
    {
     "name": "stderr",
     "output_type": "stream",
     "text": [
      "\r",
      "  8%|██████▊                                                                           | 83/1006 [05:08<1:01:33,  4.00s/it]"
     ]
    },
    {
     "name": "stdout",
     "output_type": "stream",
     "text": [
      "Image download: ../Data/exports/ndvi/2017-05-17-2017-06-14--120.0088-37.36914_ndvi_bw.tif (512, 512)\n",
      "Image download: ../Data/exports/tc/2017-05-17-2017-06-14--116.884446-33.950382_tc.tif (512, 512)\n"
     ]
    },
    {
     "name": "stderr",
     "output_type": "stream",
     "text": [
      "\r",
      "  8%|██████▊                                                                           | 84/1006 [05:13<1:09:20,  4.51s/it]"
     ]
    },
    {
     "name": "stdout",
     "output_type": "stream",
     "text": [
      "Image download: ../Data/exports/ndvi/2017-05-17-2017-06-14--116.884446-33.950382_ndvi_bw.tif (512, 512)\n",
      "Image download: ../Data/exports/tc/2017-05-17-2017-06-14--117.11659-33.79925_tc.tif (512, 512)\n"
     ]
    },
    {
     "name": "stderr",
     "output_type": "stream",
     "text": [
      "\r",
      "  8%|██████▉                                                                           | 85/1006 [05:17<1:07:03,  4.37s/it]"
     ]
    },
    {
     "name": "stdout",
     "output_type": "stream",
     "text": [
      "Image download: ../Data/exports/ndvi/2017-05-17-2017-06-14--117.11659-33.79925_ndvi_bw.tif (512, 512)\n"
     ]
    },
    {
     "name": "stderr",
     "output_type": "stream",
     "text": [
      "\r",
      "  9%|███████▏                                                                            | 86/1006 [05:18<51:29,  3.36s/it]"
     ]
    },
    {
     "name": "stdout",
     "output_type": "stream",
     "text": [
      "EXCEPTION - Row 786 @ (-121.75417, 39.69717)\n",
      "Image.select: Band pattern 'B4' was applied to an Image with no bands. See https://developers.google.com/earth-engine/guides/debugging#no-bands\n",
      "Image download: ../Data/exports/tc/2017-05-18-2017-06-15-33.939428-117.138741_tc.tif (512, 512)\n"
     ]
    },
    {
     "name": "stderr",
     "output_type": "stream",
     "text": [
      "\r",
      "  9%|███████▎                                                                            | 87/1006 [05:23<59:08,  3.86s/it]"
     ]
    },
    {
     "name": "stdout",
     "output_type": "stream",
     "text": [
      "Image download: ../Data/exports/ndvi/2017-05-18-2017-06-15-33.939428-117.138741_ndvi_bw.tif (512, 512)\n",
      "Image download: ../Data/exports/tc/2017-05-18-2017-06-15--120.93371-35.90092_tc.tif (512, 512)\n"
     ]
    },
    {
     "name": "stderr",
     "output_type": "stream",
     "text": [
      "\r",
      "  9%|███████▏                                                                          | 88/1006 [05:28<1:00:45,  3.97s/it]"
     ]
    },
    {
     "name": "stdout",
     "output_type": "stream",
     "text": [
      "Image download: ../Data/exports/ndvi/2017-05-18-2017-06-15--120.93371-35.90092_ndvi_bw.tif (512, 512)\n",
      "Image download: ../Data/exports/tc/2017-05-19-2017-06-16--118.60703-34.55607_tc.tif (512, 512)\n"
     ]
    },
    {
     "name": "stderr",
     "output_type": "stream",
     "text": [
      "\r",
      "  9%|███████▎                                                                          | 89/1006 [05:32<1:00:56,  3.99s/it]"
     ]
    },
    {
     "name": "stdout",
     "output_type": "stream",
     "text": [
      "Image download: ../Data/exports/ndvi/2017-05-19-2017-06-16--118.60703-34.55607_ndvi_bw.tif (512, 512)\n",
      "Image download: ../Data/exports/tc/2017-05-20-2017-06-17--122.83208-40.32063_tc.tif (512, 512)\n"
     ]
    },
    {
     "name": "stderr",
     "output_type": "stream",
     "text": [
      "\r",
      "  9%|███████▎                                                                          | 90/1006 [05:36<1:01:41,  4.04s/it]"
     ]
    },
    {
     "name": "stdout",
     "output_type": "stream",
     "text": [
      "Image download: ../Data/exports/ndvi/2017-05-20-2017-06-17--122.83208-40.32063_ndvi_bw.tif (512, 512)\n",
      "Image download: ../Data/exports/tc/2017-05-20-2017-06-17--116.9669-33.90965_tc.tif (512, 512)\n"
     ]
    },
    {
     "name": "stderr",
     "output_type": "stream",
     "text": [
      "\r",
      "  9%|███████▍                                                                          | 91/1006 [05:41<1:05:38,  4.30s/it]"
     ]
    },
    {
     "name": "stdout",
     "output_type": "stream",
     "text": [
      "Image download: ../Data/exports/ndvi/2017-05-20-2017-06-17--116.9669-33.90965_ndvi_bw.tif (512, 512)\n",
      "Image download: ../Data/exports/tc/2017-05-20-2017-06-17--119.95136-37.02081_tc.tif (512, 512)\n"
     ]
    },
    {
     "name": "stderr",
     "output_type": "stream",
     "text": [
      "\r",
      "  9%|███████▍                                                                          | 92/1006 [05:45<1:06:59,  4.40s/it]"
     ]
    },
    {
     "name": "stdout",
     "output_type": "stream",
     "text": [
      "Image download: ../Data/exports/ndvi/2017-05-20-2017-06-17--119.95136-37.02081_ndvi_bw.tif (512, 512)\n",
      "Image download: ../Data/exports/tc/2017-05-20-2017-06-17--118.66733-35.53456_tc.tif (512, 512)\n"
     ]
    },
    {
     "name": "stderr",
     "output_type": "stream",
     "text": [
      "\r",
      "  9%|███████▌                                                                          | 93/1006 [05:50<1:07:39,  4.45s/it]"
     ]
    },
    {
     "name": "stdout",
     "output_type": "stream",
     "text": [
      "Image download: ../Data/exports/ndvi/2017-05-20-2017-06-17--118.66733-35.53456_ndvi_bw.tif (512, 512)\n",
      "Image download: ../Data/exports/tc/2017-05-20-2017-06-17--117.21314-33.98639_tc.tif (512, 512)\n"
     ]
    },
    {
     "name": "stderr",
     "output_type": "stream",
     "text": [
      "\r",
      "  9%|███████▋                                                                          | 94/1006 [05:54<1:04:15,  4.23s/it]"
     ]
    },
    {
     "name": "stdout",
     "output_type": "stream",
     "text": [
      "Image download: ../Data/exports/ndvi/2017-05-20-2017-06-17--117.21314-33.98639_ndvi_bw.tif (512, 512)\n",
      "Image download: ../Data/exports/tc/2017-05-20-2017-06-17--122.36545-41.93006_tc.tif (512, 512)\n"
     ]
    },
    {
     "name": "stderr",
     "output_type": "stream",
     "text": [
      "\r",
      "  9%|███████▋                                                                          | 95/1006 [05:58<1:03:40,  4.19s/it]"
     ]
    },
    {
     "name": "stdout",
     "output_type": "stream",
     "text": [
      "Image download: ../Data/exports/ndvi/2017-05-20-2017-06-17--122.36545-41.93006_ndvi_bw.tif (512, 512)\n",
      "Image download: ../Data/exports/tc/2017-05-20-2017-06-17--117.31924-33.71025_tc.tif (512, 512)\n"
     ]
    },
    {
     "name": "stderr",
     "output_type": "stream",
     "text": [
      "\r",
      " 10%|███████▊                                                                          | 96/1006 [06:02<1:03:36,  4.19s/it]"
     ]
    },
    {
     "name": "stdout",
     "output_type": "stream",
     "text": [
      "Image download: ../Data/exports/ndvi/2017-05-20-2017-06-17--117.31924-33.71025_ndvi_bw.tif (512, 512)\n",
      "Image download: ../Data/exports/tc/2017-05-21-2017-06-18--116.826-34.2976_tc.tif (512, 512)\n"
     ]
    },
    {
     "name": "stderr",
     "output_type": "stream",
     "text": [
      "\r",
      " 10%|███████▉                                                                          | 97/1006 [06:07<1:08:19,  4.51s/it]"
     ]
    },
    {
     "name": "stdout",
     "output_type": "stream",
     "text": [
      "Image download: ../Data/exports/ndvi/2017-05-21-2017-06-18--116.826-34.2976_ndvi_bw.tif (512, 512)\n",
      "Image download: ../Data/exports/tc/2017-05-21-2017-06-18--120.02325-39.71101_tc.tif (512, 512)\n"
     ]
    },
    {
     "name": "stderr",
     "output_type": "stream",
     "text": [
      "\r",
      " 10%|███████▉                                                                          | 98/1006 [06:12<1:07:36,  4.47s/it]"
     ]
    },
    {
     "name": "stdout",
     "output_type": "stream",
     "text": [
      "Image download: ../Data/exports/ndvi/2017-05-21-2017-06-18--120.02325-39.71101_ndvi_bw.tif (512, 512)\n",
      "Image download: ../Data/exports/tc/2017-05-23-2017-06-20--120.68992-37.82934_tc.tif (512, 512)\n"
     ]
    },
    {
     "name": "stderr",
     "output_type": "stream",
     "text": [
      "\r",
      " 10%|████████                                                                          | 99/1006 [06:16<1:08:42,  4.55s/it]"
     ]
    },
    {
     "name": "stdout",
     "output_type": "stream",
     "text": [
      "Image download: ../Data/exports/ndvi/2017-05-23-2017-06-20--120.68992-37.82934_ndvi_bw.tif (512, 512)\n",
      "Image download: ../Data/exports/tc/2017-05-23-2017-06-20--121.76323-37.33454_tc.tif (512, 512)\n"
     ]
    },
    {
     "name": "stderr",
     "output_type": "stream",
     "text": [
      "\r",
      " 10%|████████                                                                         | 100/1006 [06:20<1:06:05,  4.38s/it]"
     ]
    },
    {
     "name": "stdout",
     "output_type": "stream",
     "text": [
      "Image download: ../Data/exports/ndvi/2017-05-23-2017-06-20--121.76323-37.33454_ndvi_bw.tif (512, 512)\n",
      "Image download: ../Data/exports/tc/2017-05-24-2017-06-21--121.4143-39.364_tc.tif (512, 512)\n"
     ]
    },
    {
     "name": "stderr",
     "output_type": "stream",
     "text": [
      "\r",
      " 10%|████████▏                                                                        | 101/1006 [06:25<1:06:12,  4.39s/it]"
     ]
    },
    {
     "name": "stdout",
     "output_type": "stream",
     "text": [
      "Image download: ../Data/exports/ndvi/2017-05-24-2017-06-21--121.4143-39.364_ndvi_bw.tif (512, 512)\n",
      "Image download: ../Data/exports/tc/2017-05-24-2017-06-21--121.5786-39.38416_tc.tif (512, 512)\n"
     ]
    },
    {
     "name": "stderr",
     "output_type": "stream",
     "text": [
      "\r",
      " 10%|████████▏                                                                        | 102/1006 [06:29<1:05:24,  4.34s/it]"
     ]
    },
    {
     "name": "stdout",
     "output_type": "stream",
     "text": [
      "Image download: ../Data/exports/ndvi/2017-05-24-2017-06-21--121.5786-39.38416_ndvi_bw.tif (512, 512)\n",
      "Image download: ../Data/exports/tc/2017-05-24-2017-06-21--122.23004-38.07481_tc.tif (512, 512)\n"
     ]
    },
    {
     "name": "stderr",
     "output_type": "stream",
     "text": [
      "\r",
      " 10%|████████▎                                                                        | 103/1006 [06:33<1:05:03,  4.32s/it]"
     ]
    },
    {
     "name": "stdout",
     "output_type": "stream",
     "text": [
      "Image download: ../Data/exports/ndvi/2017-05-24-2017-06-21--122.23004-38.07481_ndvi_bw.tif (512, 512)\n",
      "Image download: ../Data/exports/tc/2017-05-25-2017-06-22--120.65185-36.27306_tc.tif (512, 512)\n"
     ]
    },
    {
     "name": "stderr",
     "output_type": "stream",
     "text": [
      "\r",
      " 10%|████████▎                                                                        | 104/1006 [06:38<1:05:39,  4.37s/it]"
     ]
    },
    {
     "name": "stdout",
     "output_type": "stream",
     "text": [
      "Image download: ../Data/exports/ndvi/2017-05-25-2017-06-22--120.65185-36.27306_ndvi_bw.tif (512, 512)\n",
      "Image download: ../Data/exports/tc/2017-05-25-2017-06-22--119.50606-36.51912_tc.tif (512, 512)\n"
     ]
    },
    {
     "name": "stderr",
     "output_type": "stream",
     "text": [
      "\r",
      " 10%|████████▍                                                                        | 105/1006 [06:42<1:05:43,  4.38s/it]"
     ]
    },
    {
     "name": "stdout",
     "output_type": "stream",
     "text": [
      "Image download: ../Data/exports/ndvi/2017-05-25-2017-06-22--119.50606-36.51912_ndvi_bw.tif (512, 512)\n",
      "Image download: ../Data/exports/tc/2017-05-26-2017-06-23--122.27379-40.10282_tc.tif (512, 512)\n"
     ]
    },
    {
     "name": "stderr",
     "output_type": "stream",
     "text": [
      "\r",
      " 11%|████████▌                                                                        | 106/1006 [06:47<1:06:05,  4.41s/it]"
     ]
    },
    {
     "name": "stdout",
     "output_type": "stream",
     "text": [
      "Image download: ../Data/exports/ndvi/2017-05-26-2017-06-23--122.27379-40.10282_ndvi_bw.tif (512, 512)\n",
      "Image download: ../Data/exports/tc/2017-05-27-2017-06-24--116.77342-33.1683_tc.tif (512, 512)\n"
     ]
    },
    {
     "name": "stderr",
     "output_type": "stream",
     "text": [
      "\r",
      " 11%|████████▌                                                                        | 107/1006 [06:51<1:06:49,  4.46s/it]"
     ]
    },
    {
     "name": "stdout",
     "output_type": "stream",
     "text": [
      "Image download: ../Data/exports/ndvi/2017-05-27-2017-06-24--116.77342-33.1683_ndvi_bw.tif (512, 512)\n",
      "Image download: ../Data/exports/tc/2017-05-27-2017-06-24--118.49343-34.37443_tc.tif (512, 512)\n"
     ]
    },
    {
     "name": "stderr",
     "output_type": "stream",
     "text": [
      "\r",
      " 11%|████████▋                                                                        | 108/1006 [06:56<1:06:21,  4.43s/it]"
     ]
    },
    {
     "name": "stdout",
     "output_type": "stream",
     "text": [
      "Image download: ../Data/exports/ndvi/2017-05-27-2017-06-24--118.49343-34.37443_ndvi_bw.tif (512, 512)\n"
     ]
    },
    {
     "name": "stderr",
     "output_type": "stream",
     "text": [
      "\r",
      " 11%|████████▉                                                                          | 109/1006 [06:56<49:29,  3.31s/it]"
     ]
    },
    {
     "name": "stdout",
     "output_type": "stream",
     "text": [
      "EXCEPTION - Row 1050 @ (-123.474, 41.841)\n",
      "Image.select: Band pattern 'B4' was applied to an Image with no bands. See https://developers.google.com/earth-engine/guides/debugging#no-bands\n",
      "Image download: ../Data/exports/tc/2017-05-28-2017-06-25--122.645079-40.703775_tc.tif (512, 512)\n"
     ]
    },
    {
     "name": "stderr",
     "output_type": "stream",
     "text": [
      "\r",
      " 11%|█████████                                                                          | 110/1006 [07:00<51:06,  3.42s/it]"
     ]
    },
    {
     "name": "stdout",
     "output_type": "stream",
     "text": [
      "Image download: ../Data/exports/ndvi/2017-05-28-2017-06-25--122.645079-40.703775_ndvi_bw.tif (512, 512)\n",
      "Image download: ../Data/exports/tc/2017-05-28-2017-06-25--116.594422-33.530045_tc.tif (512, 512)\n"
     ]
    },
    {
     "name": "stderr",
     "output_type": "stream",
     "text": [
      "\r",
      " 11%|█████████▏                                                                         | 111/1006 [07:05<59:25,  3.98s/it]"
     ]
    },
    {
     "name": "stdout",
     "output_type": "stream",
     "text": [
      "Image download: ../Data/exports/ndvi/2017-05-28-2017-06-25--116.594422-33.530045_ndvi_bw.tif (512, 512)\n",
      "Image download: ../Data/exports/tc/2017-05-28-2017-06-25--120.4992-35.4025_tc.tif (512, 512)\n"
     ]
    },
    {
     "name": "stderr",
     "output_type": "stream",
     "text": [
      "\r",
      " 11%|█████████                                                                        | 112/1006 [07:09<1:00:27,  4.06s/it]"
     ]
    },
    {
     "name": "stdout",
     "output_type": "stream",
     "text": [
      "Image download: ../Data/exports/ndvi/2017-05-28-2017-06-25--120.4992-35.4025_ndvi_bw.tif (512, 512)\n"
     ]
    },
    {
     "name": "stderr",
     "output_type": "stream",
     "text": [
      "\r",
      " 11%|█████████▎                                                                         | 113/1006 [07:10<45:26,  3.05s/it]"
     ]
    },
    {
     "name": "stdout",
     "output_type": "stream",
     "text": [
      "EXCEPTION - Row 945 @ (-124.19629, 41.93323)\n",
      "Image.select: Band pattern 'B4' was applied to an Image with no bands. See https://developers.google.com/earth-engine/guides/debugging#no-bands\n",
      "Image download: ../Data/exports/tc/2017-05-29-2017-06-26--120.92162-38.45822_tc.tif (512, 512)\n"
     ]
    },
    {
     "name": "stderr",
     "output_type": "stream",
     "text": [
      "\r",
      " 11%|█████████▍                                                                         | 114/1006 [07:15<52:08,  3.51s/it]"
     ]
    },
    {
     "name": "stdout",
     "output_type": "stream",
     "text": [
      "Image download: ../Data/exports/ndvi/2017-05-29-2017-06-26--120.92162-38.45822_ndvi_bw.tif (512, 512)\n",
      "Image download: ../Data/exports/tc/2017-05-29-2017-06-26--116.8516-32.7789_tc.tif (512, 512)\n"
     ]
    },
    {
     "name": "stderr",
     "output_type": "stream",
     "text": [
      "\r",
      " 11%|█████████▍                                                                         | 115/1006 [07:19<55:36,  3.74s/it]"
     ]
    },
    {
     "name": "stdout",
     "output_type": "stream",
     "text": [
      "Image download: ../Data/exports/ndvi/2017-05-29-2017-06-26--116.8516-32.7789_ndvi_bw.tif (512, 512)\n",
      "Image download: ../Data/exports/tc/2017-05-29-2017-06-26--122.65749-37.9775_tc.tif (512, 512)\n"
     ]
    },
    {
     "name": "stderr",
     "output_type": "stream",
     "text": [
      "\r",
      " 12%|█████████▌                                                                         | 116/1006 [07:23<58:47,  3.96s/it]"
     ]
    },
    {
     "name": "stdout",
     "output_type": "stream",
     "text": [
      "Image download: ../Data/exports/ndvi/2017-05-29-2017-06-26--122.65749-37.9775_ndvi_bw.tif (512, 512)\n",
      "Image download: ../Data/exports/tc/2017-05-29-2017-06-26--117.17813-34.14575_tc.tif (512, 512)\n"
     ]
    },
    {
     "name": "stderr",
     "output_type": "stream",
     "text": [
      "\r",
      " 12%|█████████▍                                                                       | 117/1006 [07:28<1:02:59,  4.25s/it]"
     ]
    },
    {
     "name": "stdout",
     "output_type": "stream",
     "text": [
      "Image download: ../Data/exports/ndvi/2017-05-29-2017-06-26--117.17813-34.14575_ndvi_bw.tif (512, 512)\n",
      "Image download: ../Data/exports/tc/2017-05-30-2017-06-27--120.87492-35.947_tc.tif (512, 512)\n"
     ]
    },
    {
     "name": "stderr",
     "output_type": "stream",
     "text": [
      "\r",
      " 12%|█████████▌                                                                       | 118/1006 [07:34<1:08:09,  4.60s/it]"
     ]
    },
    {
     "name": "stdout",
     "output_type": "stream",
     "text": [
      "Image download: ../Data/exports/ndvi/2017-05-30-2017-06-27--120.87492-35.947_ndvi_bw.tif (512, 512)\n",
      "Image download: ../Data/exports/tc/2017-05-30-2017-06-27--121.29581-41.85763_tc.tif (512, 512)\n"
     ]
    },
    {
     "name": "stderr",
     "output_type": "stream",
     "text": [
      "\r",
      " 12%|█████████▌                                                                       | 119/1006 [07:39<1:11:17,  4.82s/it]"
     ]
    },
    {
     "name": "stdout",
     "output_type": "stream",
     "text": [
      "Image download: ../Data/exports/ndvi/2017-05-30-2017-06-27--121.29581-41.85763_ndvi_bw.tif (512, 512)\n",
      "Image download: ../Data/exports/tc/2017-05-30-2017-06-27--119.9646-37.3762_tc.tif (512, 512)\n"
     ]
    },
    {
     "name": "stderr",
     "output_type": "stream",
     "text": [
      "\r",
      " 12%|█████████▋                                                                       | 120/1006 [07:44<1:11:14,  4.82s/it]"
     ]
    },
    {
     "name": "stdout",
     "output_type": "stream",
     "text": [
      "Image download: ../Data/exports/ndvi/2017-05-30-2017-06-27--119.9646-37.3762_ndvi_bw.tif (512, 512)\n",
      "Image download: ../Data/exports/tc/2017-05-30-2017-06-27--117.58252-33.43513_tc.tif (512, 512)\n"
     ]
    },
    {
     "name": "stderr",
     "output_type": "stream",
     "text": [
      "\r",
      " 12%|█████████▋                                                                       | 121/1006 [07:49<1:13:00,  4.95s/it]"
     ]
    },
    {
     "name": "stdout",
     "output_type": "stream",
     "text": [
      "Image download: ../Data/exports/ndvi/2017-05-30-2017-06-27--117.58252-33.43513_ndvi_bw.tif (512, 512)\n",
      "Image download: ../Data/exports/tc/2017-05-31-2017-06-28--121.71752-37.3344_tc.tif (512, 512)\n"
     ]
    },
    {
     "name": "stderr",
     "output_type": "stream",
     "text": [
      "\r",
      " 12%|█████████▊                                                                       | 122/1006 [07:54<1:11:18,  4.84s/it]"
     ]
    },
    {
     "name": "stdout",
     "output_type": "stream",
     "text": [
      "Image download: ../Data/exports/ndvi/2017-05-31-2017-06-28--121.71752-37.3344_ndvi_bw.tif (512, 512)\n",
      "Image download: ../Data/exports/tc/2017-05-31-2017-06-28--118.58624-34.03941_tc.tif (512, 512)\n"
     ]
    },
    {
     "name": "stderr",
     "output_type": "stream",
     "text": [
      "\r",
      " 12%|█████████▉                                                                       | 123/1006 [07:59<1:11:15,  4.84s/it]"
     ]
    },
    {
     "name": "stdout",
     "output_type": "stream",
     "text": [
      "Image download: ../Data/exports/ndvi/2017-05-31-2017-06-28--118.58624-34.03941_ndvi_bw.tif (512, 512)\n",
      "Image download: ../Data/exports/tc/2017-05-31-2017-06-28--118.70294-34.10446_tc.tif (512, 512)\n"
     ]
    },
    {
     "name": "stderr",
     "output_type": "stream",
     "text": [
      "\r",
      " 12%|█████████▉                                                                       | 124/1006 [08:03<1:08:53,  4.69s/it]"
     ]
    },
    {
     "name": "stdout",
     "output_type": "stream",
     "text": [
      "Image download: ../Data/exports/ndvi/2017-05-31-2017-06-28--118.70294-34.10446_ndvi_bw.tif (512, 512)\n",
      "Image download: ../Data/exports/tc/2017-05-31-2017-06-28--121.08753-35.96275_tc.tif (512, 512)\n"
     ]
    },
    {
     "name": "stderr",
     "output_type": "stream",
     "text": [
      "\r",
      " 12%|██████████                                                                       | 125/1006 [08:07<1:07:01,  4.56s/it]"
     ]
    },
    {
     "name": "stdout",
     "output_type": "stream",
     "text": [
      "Image download: ../Data/exports/ndvi/2017-05-31-2017-06-28--121.08753-35.96275_ndvi_bw.tif (512, 512)\n",
      "Image download: ../Data/exports/tc/2017-06-01-2017-06-29--118.80123-35.38298_tc.tif (512, 512)\n"
     ]
    },
    {
     "name": "stderr",
     "output_type": "stream",
     "text": [
      "\r",
      " 13%|██████████▏                                                                      | 126/1006 [08:12<1:09:05,  4.71s/it]"
     ]
    },
    {
     "name": "stdout",
     "output_type": "stream",
     "text": [
      "Image download: ../Data/exports/ndvi/2017-06-01-2017-06-29--118.80123-35.38298_ndvi_bw.tif (512, 512)\n",
      "Image download: ../Data/exports/tc/2017-06-02-2017-06-30--122.0122-40.69554_tc.tif (512, 512)\n"
     ]
    },
    {
     "name": "stderr",
     "output_type": "stream",
     "text": [
      "\r",
      " 13%|██████████▏                                                                      | 127/1006 [08:17<1:08:21,  4.67s/it]"
     ]
    },
    {
     "name": "stdout",
     "output_type": "stream",
     "text": [
      "Image download: ../Data/exports/ndvi/2017-06-02-2017-06-30--122.0122-40.69554_ndvi_bw.tif (512, 512)\n",
      "Image download: ../Data/exports/tc/2017-06-03-2017-07-01--121.06656-39.08382_tc.tif (512, 512)\n"
     ]
    },
    {
     "name": "stderr",
     "output_type": "stream",
     "text": [
      "\r",
      " 13%|██████████▎                                                                      | 128/1006 [08:22<1:08:43,  4.70s/it]"
     ]
    },
    {
     "name": "stdout",
     "output_type": "stream",
     "text": [
      "Image download: ../Data/exports/ndvi/2017-06-03-2017-07-01--121.06656-39.08382_ndvi_bw.tif (512, 512)\n",
      "Image download: ../Data/exports/tc/2017-06-03-2017-07-01--117.096233-33.913089_tc.tif (512, 512)\n"
     ]
    },
    {
     "name": "stderr",
     "output_type": "stream",
     "text": [
      "\r",
      " 13%|██████████▍                                                                      | 129/1006 [08:26<1:06:27,  4.55s/it]"
     ]
    },
    {
     "name": "stdout",
     "output_type": "stream",
     "text": [
      "Image download: ../Data/exports/ndvi/2017-06-03-2017-07-01--117.096233-33.913089_ndvi_bw.tif (512, 512)\n",
      "Image download: ../Data/exports/tc/2017-06-03-2017-07-01--119.921-37.4591_tc.tif (512, 512)\n"
     ]
    },
    {
     "name": "stderr",
     "output_type": "stream",
     "text": [
      "\r",
      " 13%|██████████▍                                                                      | 130/1006 [08:30<1:04:06,  4.39s/it]"
     ]
    },
    {
     "name": "stdout",
     "output_type": "stream",
     "text": [
      "Image download: ../Data/exports/ndvi/2017-06-03-2017-07-01--119.921-37.4591_ndvi_bw.tif (512, 512)\n",
      "Image download: ../Data/exports/tc/2017-06-03-2017-07-01--121.6268-39.8629_tc.tif (512, 512)\n"
     ]
    },
    {
     "name": "stderr",
     "output_type": "stream",
     "text": [
      "\r",
      " 13%|██████████▌                                                                      | 131/1006 [08:34<1:03:00,  4.32s/it]"
     ]
    },
    {
     "name": "stdout",
     "output_type": "stream",
     "text": [
      "Image download: ../Data/exports/ndvi/2017-06-03-2017-07-01--121.6268-39.8629_ndvi_bw.tif (512, 512)\n",
      "Image download: ../Data/exports/tc/2017-06-03-2017-07-01--120.620791-36.269125_tc.tif (512, 512)\n"
     ]
    },
    {
     "name": "stderr",
     "output_type": "stream",
     "text": [
      "\r",
      " 13%|██████████▋                                                                      | 132/1006 [08:38<1:02:34,  4.30s/it]"
     ]
    },
    {
     "name": "stdout",
     "output_type": "stream",
     "text": [
      "Image download: ../Data/exports/ndvi/2017-06-03-2017-07-01--120.620791-36.269125_ndvi_bw.tif (512, 512)\n",
      "Image download: ../Data/exports/tc/2017-06-04-2017-07-02--116.99321-33.91806_tc.tif (512, 512)\n"
     ]
    },
    {
     "name": "stderr",
     "output_type": "stream",
     "text": [
      "\r",
      " 13%|██████████▋                                                                      | 133/1006 [08:43<1:02:55,  4.32s/it]"
     ]
    },
    {
     "name": "stdout",
     "output_type": "stream",
     "text": [
      "Image download: ../Data/exports/ndvi/2017-06-04-2017-07-02--116.99321-33.91806_ndvi_bw.tif (512, 512)\n",
      "Image download: ../Data/exports/tc/2017-06-04-2017-07-02--117.16215-33.87739_tc.tif (512, 512)\n"
     ]
    },
    {
     "name": "stderr",
     "output_type": "stream",
     "text": [
      "\r",
      " 13%|██████████▊                                                                      | 134/1006 [08:46<1:00:14,  4.15s/it]"
     ]
    },
    {
     "name": "stdout",
     "output_type": "stream",
     "text": [
      "Image download: ../Data/exports/ndvi/2017-06-04-2017-07-02--117.16215-33.87739_ndvi_bw.tif (512, 512)\n",
      "Image download: ../Data/exports/tc/2017-06-04-2017-07-02--117.25411-33.96896_tc.tif (512, 512)\n"
     ]
    },
    {
     "name": "stderr",
     "output_type": "stream",
     "text": [
      "\r",
      " 13%|███████████▏                                                                       | 135/1006 [08:50<58:38,  4.04s/it]"
     ]
    },
    {
     "name": "stdout",
     "output_type": "stream",
     "text": [
      "Image download: ../Data/exports/ndvi/2017-06-04-2017-07-02--117.25411-33.96896_ndvi_bw.tif (512, 512)\n",
      "Image download: ../Data/exports/tc/2017-06-05-2017-07-03--117.3125-34.304722_tc.tif (512, 512)\n"
     ]
    },
    {
     "name": "stderr",
     "output_type": "stream",
     "text": [
      "\r",
      " 14%|███████████▏                                                                       | 136/1006 [08:54<59:41,  4.12s/it]"
     ]
    },
    {
     "name": "stdout",
     "output_type": "stream",
     "text": [
      "Image download: ../Data/exports/ndvi/2017-06-05-2017-07-03--117.3125-34.304722_ndvi_bw.tif (512, 512)\n",
      "Image download: ../Data/exports/tc/2017-06-05-2017-07-03--119.51592-36.81476_tc.tif (512, 512)\n"
     ]
    },
    {
     "name": "stderr",
     "output_type": "stream",
     "text": [
      "\r",
      " 14%|███████████                                                                      | 137/1006 [08:59<1:02:17,  4.30s/it]"
     ]
    },
    {
     "name": "stdout",
     "output_type": "stream",
     "text": [
      "Image download: ../Data/exports/ndvi/2017-06-05-2017-07-03--119.51592-36.81476_ndvi_bw.tif (512, 512)\n",
      "Image download: ../Data/exports/tc/2017-06-05-2017-07-03--121.30983-36.85596_tc.tif (512, 512)\n"
     ]
    },
    {
     "name": "stderr",
     "output_type": "stream",
     "text": [
      "\r",
      " 14%|███████████                                                                      | 138/1006 [09:04<1:02:48,  4.34s/it]"
     ]
    },
    {
     "name": "stdout",
     "output_type": "stream",
     "text": [
      "Image download: ../Data/exports/ndvi/2017-06-05-2017-07-03--121.30983-36.85596_ndvi_bw.tif (512, 512)\n",
      "Image download: ../Data/exports/tc/2017-06-05-2017-07-03--118.98603-34.20599_tc.tif (512, 512)\n"
     ]
    },
    {
     "name": "stderr",
     "output_type": "stream",
     "text": [
      "\r",
      " 14%|███████████▏                                                                     | 139/1006 [09:08<1:02:28,  4.32s/it]"
     ]
    },
    {
     "name": "stdout",
     "output_type": "stream",
     "text": [
      "Image download: ../Data/exports/ndvi/2017-06-05-2017-07-03--118.98603-34.20599_ndvi_bw.tif (512, 512)\n",
      "Image download: ../Data/exports/tc/2017-06-05-2017-07-03--117.48405-33.99316_tc.tif (512, 512)\n"
     ]
    },
    {
     "name": "stderr",
     "output_type": "stream",
     "text": [
      "\r",
      " 14%|███████████▎                                                                     | 140/1006 [09:12<1:01:42,  4.28s/it]"
     ]
    },
    {
     "name": "stdout",
     "output_type": "stream",
     "text": [
      "Image download: ../Data/exports/ndvi/2017-06-05-2017-07-03--117.48405-33.99316_ndvi_bw.tif (512, 512)\n",
      "Image download: ../Data/exports/tc/2017-06-05-2017-07-03--122.73031-41.86609_tc.tif (512, 512)\n"
     ]
    },
    {
     "name": "stderr",
     "output_type": "stream",
     "text": [
      "\r",
      " 14%|███████████▎                                                                     | 141/1006 [09:17<1:03:16,  4.39s/it]"
     ]
    },
    {
     "name": "stdout",
     "output_type": "stream",
     "text": [
      "Image download: ../Data/exports/ndvi/2017-06-05-2017-07-03--122.73031-41.86609_ndvi_bw.tif (512, 512)\n",
      "Image download: ../Data/exports/tc/2017-06-05-2017-07-03--121.54722-39.53944_tc.tif (512, 512)\n"
     ]
    },
    {
     "name": "stderr",
     "output_type": "stream",
     "text": [
      "\r",
      " 14%|███████████▍                                                                     | 142/1006 [09:21<1:03:12,  4.39s/it]"
     ]
    },
    {
     "name": "stdout",
     "output_type": "stream",
     "text": [
      "Image download: ../Data/exports/ndvi/2017-06-05-2017-07-03--121.54722-39.53944_ndvi_bw.tif (512, 512)\n",
      "Image download: ../Data/exports/tc/2017-06-05-2017-07-03--117.48195-33.85323_tc.tif (512, 512)\n"
     ]
    },
    {
     "name": "stderr",
     "output_type": "stream",
     "text": [
      "\r",
      " 14%|███████████▌                                                                     | 143/1006 [09:25<1:01:45,  4.29s/it]"
     ]
    },
    {
     "name": "stdout",
     "output_type": "stream",
     "text": [
      "Image download: ../Data/exports/ndvi/2017-06-05-2017-07-03--117.48195-33.85323_ndvi_bw.tif (512, 512)\n",
      "Image download: ../Data/exports/tc/2017-06-06-2017-07-04--118.81979-36.10858_tc.tif (512, 512)\n"
     ]
    },
    {
     "name": "stderr",
     "output_type": "stream",
     "text": [
      "\r",
      " 14%|███████████▌                                                                     | 144/1006 [09:30<1:06:04,  4.60s/it]"
     ]
    },
    {
     "name": "stdout",
     "output_type": "stream",
     "text": [
      "Image download: ../Data/exports/ndvi/2017-06-06-2017-07-04--118.81979-36.10858_ndvi_bw.tif (512, 512)\n",
      "Image download: ../Data/exports/tc/2017-06-06-2017-07-04--122.8428-41.3975_tc.tif (512, 512)\n"
     ]
    },
    {
     "name": "stderr",
     "output_type": "stream",
     "text": [
      "\r",
      " 14%|███████████▋                                                                     | 145/1006 [09:35<1:07:19,  4.69s/it]"
     ]
    },
    {
     "name": "stdout",
     "output_type": "stream",
     "text": [
      "Image download: ../Data/exports/ndvi/2017-06-06-2017-07-04--122.8428-41.3975_ndvi_bw.tif (512, 512)\n",
      "Image download: ../Data/exports/tc/2017-06-06-2017-07-04--119.65621-36.95104_tc.tif (512, 512)\n"
     ]
    },
    {
     "name": "stderr",
     "output_type": "stream",
     "text": [
      "\r",
      " 15%|███████████▊                                                                     | 146/1006 [09:41<1:10:09,  4.90s/it]"
     ]
    },
    {
     "name": "stdout",
     "output_type": "stream",
     "text": [
      "Image download: ../Data/exports/ndvi/2017-06-06-2017-07-04--119.65621-36.95104_ndvi_bw.tif (512, 512)\n",
      "Image download: ../Data/exports/tc/2017-06-06-2017-07-04--120.67848-38.20176_tc.tif (512, 512)\n"
     ]
    },
    {
     "name": "stderr",
     "output_type": "stream",
     "text": [
      "\r",
      " 15%|███████████▊                                                                     | 147/1006 [09:46<1:09:41,  4.87s/it]"
     ]
    },
    {
     "name": "stdout",
     "output_type": "stream",
     "text": [
      "Image download: ../Data/exports/ndvi/2017-06-06-2017-07-04--120.67848-38.20176_ndvi_bw.tif (512, 512)\n",
      "Image download: ../Data/exports/tc/2017-06-07-2017-07-05--119.08312-35.59904_tc.tif (512, 512)\n"
     ]
    },
    {
     "name": "stderr",
     "output_type": "stream",
     "text": [
      "\r",
      " 15%|███████████▉                                                                     | 148/1006 [09:51<1:11:16,  4.98s/it]"
     ]
    },
    {
     "name": "stdout",
     "output_type": "stream",
     "text": [
      "Image download: ../Data/exports/ndvi/2017-06-07-2017-07-05--119.08312-35.59904_ndvi_bw.tif (512, 512)\n",
      "Image download: ../Data/exports/tc/2017-06-07-2017-07-05--122.0251-38.49521_tc.tif (512, 512)\n"
     ]
    },
    {
     "name": "stderr",
     "output_type": "stream",
     "text": [
      "\r",
      " 15%|███████████▉                                                                     | 149/1006 [09:55<1:07:57,  4.76s/it]"
     ]
    },
    {
     "name": "stdout",
     "output_type": "stream",
     "text": [
      "Image download: ../Data/exports/ndvi/2017-06-07-2017-07-05--122.0251-38.49521_ndvi_bw.tif (512, 512)\n",
      "Image download: ../Data/exports/tc/2017-06-07-2017-07-05--120.9643-40.6361_tc.tif (512, 512)\n"
     ]
    },
    {
     "name": "stderr",
     "output_type": "stream",
     "text": [
      "\r",
      " 15%|████████████                                                                     | 150/1006 [09:59<1:05:28,  4.59s/it]"
     ]
    },
    {
     "name": "stdout",
     "output_type": "stream",
     "text": [
      "Image download: ../Data/exports/ndvi/2017-06-07-2017-07-05--120.9643-40.6361_ndvi_bw.tif (512, 512)\n",
      "Image download: ../Data/exports/tc/2017-06-07-2017-07-05--120.3223-35.0179_tc.tif (512, 512)\n"
     ]
    },
    {
     "name": "stderr",
     "output_type": "stream",
     "text": [
      "\r",
      " 15%|████████████▏                                                                    | 151/1006 [10:04<1:05:16,  4.58s/it]"
     ]
    },
    {
     "name": "stdout",
     "output_type": "stream",
     "text": [
      "Image download: ../Data/exports/ndvi/2017-06-07-2017-07-05--120.3223-35.0179_ndvi_bw.tif (512, 512)\n",
      "Image download: ../Data/exports/tc/2017-06-08-2017-07-06--118.89627-35.77896_tc.tif (512, 512)\n"
     ]
    },
    {
     "name": "stderr",
     "output_type": "stream",
     "text": [
      "\r",
      " 15%|████████████▏                                                                    | 152/1006 [10:09<1:06:06,  4.64s/it]"
     ]
    },
    {
     "name": "stdout",
     "output_type": "stream",
     "text": [
      "Image download: ../Data/exports/ndvi/2017-06-08-2017-07-06--118.89627-35.77896_ndvi_bw.tif (512, 512)\n",
      "Image download: ../Data/exports/tc/2017-06-08-2017-07-06--120.02027-37.09773_tc.tif (512, 512)\n"
     ]
    },
    {
     "name": "stderr",
     "output_type": "stream",
     "text": [
      "\r",
      " 15%|████████████▎                                                                    | 153/1006 [10:13<1:04:42,  4.55s/it]"
     ]
    },
    {
     "name": "stdout",
     "output_type": "stream",
     "text": [
      "Image download: ../Data/exports/ndvi/2017-06-08-2017-07-06--120.02027-37.09773_ndvi_bw.tif (512, 512)\n",
      "Image download: ../Data/exports/tc/2017-06-08-2017-07-06--117.314994-33.763304_tc.tif (512, 512)\n"
     ]
    },
    {
     "name": "stderr",
     "output_type": "stream",
     "text": [
      "\r",
      " 15%|████████████▍                                                                    | 154/1006 [10:17<1:02:08,  4.38s/it]"
     ]
    },
    {
     "name": "stdout",
     "output_type": "stream",
     "text": [
      "Image download: ../Data/exports/ndvi/2017-06-08-2017-07-06--117.314994-33.763304_ndvi_bw.tif (512, 512)\n",
      "Image download: ../Data/exports/tc/2017-06-08-2017-07-06--121.41222-39.45352_tc.tif (512, 512)\n"
     ]
    },
    {
     "name": "stderr",
     "output_type": "stream",
     "text": [
      "\r",
      " 15%|████████████▍                                                                    | 155/1006 [10:21<1:00:56,  4.30s/it]"
     ]
    },
    {
     "name": "stdout",
     "output_type": "stream",
     "text": [
      "Image download: ../Data/exports/ndvi/2017-06-08-2017-07-06--121.41222-39.45352_ndvi_bw.tif (512, 512)\n",
      "Image download: ../Data/exports/tc/2017-06-08-2017-07-06--117.06765-34.07612_tc.tif (512, 512)\n"
     ]
    },
    {
     "name": "stderr",
     "output_type": "stream",
     "text": [
      "\r",
      " 16%|████████████▌                                                                    | 156/1006 [10:25<1:00:42,  4.29s/it]"
     ]
    },
    {
     "name": "stdout",
     "output_type": "stream",
     "text": [
      "Image download: ../Data/exports/ndvi/2017-06-08-2017-07-06--117.06765-34.07612_ndvi_bw.tif (512, 512)\n",
      "Image download: ../Data/exports/tc/2017-06-08-2017-07-06--120.34802-37.65963_tc.tif (512, 512)\n"
     ]
    },
    {
     "name": "stderr",
     "output_type": "stream",
     "text": [
      "\r",
      " 16%|████████████▋                                                                    | 157/1006 [10:31<1:08:36,  4.85s/it]"
     ]
    },
    {
     "name": "stdout",
     "output_type": "stream",
     "text": [
      "Image download: ../Data/exports/ndvi/2017-06-08-2017-07-06--120.34802-37.65963_ndvi_bw.tif (512, 512)\n",
      "Image download: ../Data/exports/tc/2017-06-08-2017-07-06--120.62825-35.346_tc.tif (512, 512)\n"
     ]
    },
    {
     "name": "stderr",
     "output_type": "stream",
     "text": [
      "\r",
      " 16%|████████████▋                                                                    | 158/1006 [10:36<1:05:35,  4.64s/it]"
     ]
    },
    {
     "name": "stdout",
     "output_type": "stream",
     "text": [
      "Image download: ../Data/exports/ndvi/2017-06-08-2017-07-06--120.62825-35.346_ndvi_bw.tif (512, 512)\n",
      "Image download: ../Data/exports/tc/2017-06-09-2017-07-07--121.78677-37.87808_tc.tif (512, 512)\n"
     ]
    },
    {
     "name": "stderr",
     "output_type": "stream",
     "text": [
      "\r",
      " 16%|████████████▊                                                                    | 159/1006 [10:42<1:11:53,  5.09s/it]"
     ]
    },
    {
     "name": "stdout",
     "output_type": "stream",
     "text": [
      "Image download: ../Data/exports/ndvi/2017-06-09-2017-07-07--121.78677-37.87808_ndvi_bw.tif (512, 512)\n",
      "Image download: ../Data/exports/tc/2017-06-09-2017-07-07--120.4925-37.64898_tc.tif (512, 512)\n"
     ]
    },
    {
     "name": "stderr",
     "output_type": "stream",
     "text": [
      "\r",
      " 16%|████████████▉                                                                    | 160/1006 [10:46<1:09:11,  4.91s/it]"
     ]
    },
    {
     "name": "stdout",
     "output_type": "stream",
     "text": [
      "Image download: ../Data/exports/ndvi/2017-06-09-2017-07-07--120.4925-37.64898_ndvi_bw.tif (512, 512)\n",
      "Image download: ../Data/exports/tc/2017-06-09-2017-07-07--119.9494-34.55096_tc.tif (512, 512)\n"
     ]
    },
    {
     "name": "stderr",
     "output_type": "stream",
     "text": [
      "\r",
      " 16%|████████████▉                                                                    | 161/1006 [10:51<1:10:00,  4.97s/it]"
     ]
    },
    {
     "name": "stdout",
     "output_type": "stream",
     "text": [
      "Image download: ../Data/exports/ndvi/2017-06-09-2017-07-07--119.9494-34.55096_ndvi_bw.tif (512, 512)\n",
      "Image download: ../Data/exports/tc/2017-06-09-2017-07-07--122.25544-38.02929_tc.tif (512, 512)\n"
     ]
    },
    {
     "name": "stderr",
     "output_type": "stream",
     "text": [
      "\r",
      " 16%|█████████████                                                                    | 162/1006 [10:56<1:09:30,  4.94s/it]"
     ]
    },
    {
     "name": "stdout",
     "output_type": "stream",
     "text": [
      "Image download: ../Data/exports/ndvi/2017-06-09-2017-07-07--122.25544-38.02929_ndvi_bw.tif (512, 512)\n",
      "Image download: ../Data/exports/tc/2017-06-09-2017-07-07--120.97111-38.7803_tc.tif (512, 512)\n"
     ]
    },
    {
     "name": "stderr",
     "output_type": "stream",
     "text": [
      "\r",
      " 16%|█████████████                                                                    | 163/1006 [11:00<1:06:33,  4.74s/it]"
     ]
    },
    {
     "name": "stdout",
     "output_type": "stream",
     "text": [
      "Image download: ../Data/exports/ndvi/2017-06-09-2017-07-07--120.97111-38.7803_ndvi_bw.tif (512, 512)\n",
      "Image download: ../Data/exports/tc/2017-06-09-2017-07-07--121.303-39.06308_tc.tif (512, 512)\n"
     ]
    },
    {
     "name": "stderr",
     "output_type": "stream",
     "text": [
      "\r",
      " 16%|█████████████▏                                                                   | 164/1006 [11:05<1:03:41,  4.54s/it]"
     ]
    },
    {
     "name": "stdout",
     "output_type": "stream",
     "text": [
      "Image download: ../Data/exports/ndvi/2017-06-09-2017-07-07--121.303-39.06308_ndvi_bw.tif (512, 512)\n",
      "Image download: ../Data/exports/tc/2017-06-09-2017-07-07--120.57894-35.86949_tc.tif (512, 512)\n"
     ]
    },
    {
     "name": "stderr",
     "output_type": "stream",
     "text": [
      "\r",
      " 16%|█████████████▎                                                                   | 165/1006 [11:09<1:02:14,  4.44s/it]"
     ]
    },
    {
     "name": "stdout",
     "output_type": "stream",
     "text": [
      "Image download: ../Data/exports/ndvi/2017-06-09-2017-07-07--120.57894-35.86949_ndvi_bw.tif (512, 512)\n",
      "Image download: ../Data/exports/tc/2017-06-09-2017-07-07--120.57894-35.86949_tc.tif (512, 512)\n"
     ]
    },
    {
     "name": "stderr",
     "output_type": "stream",
     "text": [
      "\r",
      " 17%|█████████████▎                                                                   | 166/1006 [11:13<1:02:06,  4.44s/it]"
     ]
    },
    {
     "name": "stdout",
     "output_type": "stream",
     "text": [
      "Image download: ../Data/exports/ndvi/2017-06-09-2017-07-07--120.57894-35.86949_ndvi_bw.tif (512, 512)\n",
      "Image download: ../Data/exports/tc/2017-06-09-2017-07-07--122.42606-40.29118_tc.tif (512, 512)\n"
     ]
    },
    {
     "name": "stderr",
     "output_type": "stream",
     "text": [
      "\r",
      " 17%|█████████████▍                                                                   | 167/1006 [11:18<1:02:17,  4.45s/it]"
     ]
    },
    {
     "name": "stdout",
     "output_type": "stream",
     "text": [
      "Image download: ../Data/exports/ndvi/2017-06-09-2017-07-07--122.42606-40.29118_ndvi_bw.tif (512, 512)\n",
      "Image download: ../Data/exports/tc/2017-06-10-2017-07-08--120.47322-35.42433_tc.tif (512, 512)\n"
     ]
    },
    {
     "name": "stderr",
     "output_type": "stream",
     "text": [
      "\r",
      " 17%|█████████████▌                                                                   | 168/1006 [11:22<1:01:14,  4.38s/it]"
     ]
    },
    {
     "name": "stdout",
     "output_type": "stream",
     "text": [
      "Image download: ../Data/exports/ndvi/2017-06-10-2017-07-08--120.47322-35.42433_ndvi_bw.tif (512, 512)\n",
      "Image download: ../Data/exports/tc/2017-06-10-2017-07-08--120.20014-35.93273_tc.tif (512, 512)\n"
     ]
    },
    {
     "name": "stderr",
     "output_type": "stream",
     "text": [
      "\r",
      " 17%|█████████████▌                                                                   | 169/1006 [11:26<1:00:08,  4.31s/it]"
     ]
    },
    {
     "name": "stdout",
     "output_type": "stream",
     "text": [
      "Image download: ../Data/exports/ndvi/2017-06-10-2017-07-08--120.20014-35.93273_ndvi_bw.tif (512, 512)\n",
      "Image download: ../Data/exports/tc/2017-06-11-2017-07-09--120.027222-39.439722_tc.tif (512, 512)\n"
     ]
    },
    {
     "name": "stderr",
     "output_type": "stream",
     "text": [
      "\r",
      " 17%|█████████████▋                                                                   | 170/1006 [11:31<1:00:46,  4.36s/it]"
     ]
    },
    {
     "name": "stdout",
     "output_type": "stream",
     "text": [
      "Image download: ../Data/exports/ndvi/2017-06-11-2017-07-09--120.027222-39.439722_ndvi_bw.tif (512, 512)\n",
      "Image download: ../Data/exports/tc/2017-06-11-2017-07-09--121.53865-39.37192_tc.tif (512, 512)\n"
     ]
    },
    {
     "name": "stderr",
     "output_type": "stream",
     "text": [
      "\r",
      " 17%|█████████████▊                                                                   | 171/1006 [11:35<1:00:19,  4.33s/it]"
     ]
    },
    {
     "name": "stdout",
     "output_type": "stream",
     "text": [
      "Image download: ../Data/exports/ndvi/2017-06-11-2017-07-09--121.53865-39.37192_ndvi_bw.tif (512, 512)\n",
      "Image download: ../Data/exports/tc/2017-06-11-2017-07-09--121.68562-37.25014_tc.tif (512, 512)\n"
     ]
    },
    {
     "name": "stderr",
     "output_type": "stream",
     "text": [
      "\r",
      " 17%|██████████████▏                                                                    | 172/1006 [11:39<59:00,  4.25s/it]"
     ]
    },
    {
     "name": "stdout",
     "output_type": "stream",
     "text": [
      "Image download: ../Data/exports/ndvi/2017-06-11-2017-07-09--121.68562-37.25014_ndvi_bw.tif (512, 512)\n",
      "Image download: ../Data/exports/tc/2017-06-12-2017-07-10--116.85396-32.84796_tc.tif (512, 512)\n"
     ]
    },
    {
     "name": "stderr",
     "output_type": "stream",
     "text": [
      "\r",
      " 17%|██████████████▎                                                                    | 173/1006 [11:43<59:56,  4.32s/it]"
     ]
    },
    {
     "name": "stdout",
     "output_type": "stream",
     "text": [
      "Image download: ../Data/exports/ndvi/2017-06-12-2017-07-10--116.85396-32.84796_ndvi_bw.tif (512, 512)\n",
      "Image download: ../Data/exports/tc/2017-06-12-2017-07-10--120.14013-40.07045_tc.tif (512, 512)\n"
     ]
    },
    {
     "name": "stderr",
     "output_type": "stream",
     "text": [
      "\r",
      " 17%|██████████████                                                                   | 174/1006 [11:50<1:07:49,  4.89s/it]"
     ]
    },
    {
     "name": "stdout",
     "output_type": "stream",
     "text": [
      "Image download: ../Data/exports/ndvi/2017-06-12-2017-07-10--120.14013-40.07045_ndvi_bw.tif (512, 512)\n",
      "Image download: ../Data/exports/tc/2017-06-12-2017-07-10--121.8179-37.39801_tc.tif (512, 512)\n"
     ]
    },
    {
     "name": "stderr",
     "output_type": "stream",
     "text": [
      "\r",
      " 17%|██████████████                                                                   | 175/1006 [11:54<1:06:44,  4.82s/it]"
     ]
    },
    {
     "name": "stdout",
     "output_type": "stream",
     "text": [
      "Image download: ../Data/exports/ndvi/2017-06-12-2017-07-10--121.8179-37.39801_ndvi_bw.tif (512, 512)\n",
      "Image download: ../Data/exports/tc/2017-06-13-2017-07-11--120.85322-38.18303_tc.tif (512, 512)\n"
     ]
    },
    {
     "name": "stderr",
     "output_type": "stream",
     "text": [
      "\r",
      " 17%|██████████████▏                                                                  | 176/1006 [12:00<1:09:22,  5.02s/it]"
     ]
    },
    {
     "name": "stdout",
     "output_type": "stream",
     "text": [
      "Image download: ../Data/exports/ndvi/2017-06-13-2017-07-11--120.85322-38.18303_ndvi_bw.tif (512, 512)\n",
      "Image download: ../Data/exports/tc/2017-06-13-2017-07-11--121.06088-38.67474_tc.tif (512, 512)\n"
     ]
    },
    {
     "name": "stderr",
     "output_type": "stream",
     "text": [
      "\r",
      " 18%|██████████████▎                                                                  | 177/1006 [12:04<1:05:44,  4.76s/it]"
     ]
    },
    {
     "name": "stdout",
     "output_type": "stream",
     "text": [
      "Image download: ../Data/exports/ndvi/2017-06-13-2017-07-11--121.06088-38.67474_ndvi_bw.tif (512, 512)\n",
      "Image download: ../Data/exports/tc/2017-06-13-2017-07-11--121.33785-39.50475_tc.tif (512, 512)\n"
     ]
    },
    {
     "name": "stderr",
     "output_type": "stream",
     "text": [
      "\r",
      " 18%|██████████████▎                                                                  | 178/1006 [12:09<1:06:05,  4.79s/it]"
     ]
    },
    {
     "name": "stdout",
     "output_type": "stream",
     "text": [
      "Image download: ../Data/exports/ndvi/2017-06-13-2017-07-11--121.33785-39.50475_ndvi_bw.tif (512, 512)\n",
      "Image download: ../Data/exports/tc/2017-06-13-2017-07-11--117.189-34.149_tc.tif (512, 512)\n"
     ]
    },
    {
     "name": "stderr",
     "output_type": "stream",
     "text": [
      "\r",
      " 18%|██████████████▍                                                                  | 179/1006 [12:13<1:02:17,  4.52s/it]"
     ]
    },
    {
     "name": "stdout",
     "output_type": "stream",
     "text": [
      "Image download: ../Data/exports/ndvi/2017-06-13-2017-07-11--117.189-34.149_ndvi_bw.tif (512, 512)\n",
      "Image download: ../Data/exports/tc/2017-06-13-2017-07-11--122.77846-38.08055_tc.tif (512, 512)\n"
     ]
    },
    {
     "name": "stderr",
     "output_type": "stream",
     "text": [
      "\r",
      " 18%|██████████████▍                                                                  | 180/1006 [12:17<1:01:20,  4.46s/it]"
     ]
    },
    {
     "name": "stdout",
     "output_type": "stream",
     "text": [
      "Image download: ../Data/exports/ndvi/2017-06-13-2017-07-11--122.77846-38.08055_ndvi_bw.tif (512, 512)\n",
      "Image download: ../Data/exports/tc/2017-06-14-2017-07-12--117.07975-33.62613_tc.tif (512, 512)\n"
     ]
    },
    {
     "name": "stderr",
     "output_type": "stream",
     "text": [
      "\r",
      " 18%|██████████████▌                                                                  | 181/1006 [12:22<1:02:24,  4.54s/it]"
     ]
    },
    {
     "name": "stdout",
     "output_type": "stream",
     "text": [
      "Image download: ../Data/exports/ndvi/2017-06-14-2017-07-12--117.07975-33.62613_ndvi_bw.tif (512, 512)\n",
      "Image download: ../Data/exports/tc/2017-06-14-2017-07-12--117.24091-33.77896_tc.tif (512, 512)\n"
     ]
    },
    {
     "name": "stderr",
     "output_type": "stream",
     "text": [
      "\r",
      " 18%|██████████████▋                                                                  | 182/1006 [12:26<1:02:32,  4.55s/it]"
     ]
    },
    {
     "name": "stdout",
     "output_type": "stream",
     "text": [
      "Image download: ../Data/exports/ndvi/2017-06-14-2017-07-12--117.24091-33.77896_ndvi_bw.tif (512, 512)\n",
      "Image download: ../Data/exports/tc/2017-06-14-2017-07-12--121.30451-41.72163_tc.tif (512, 512)\n"
     ]
    },
    {
     "name": "stderr",
     "output_type": "stream",
     "text": [
      "\r",
      " 18%|██████████████▋                                                                  | 183/1006 [12:31<1:03:50,  4.65s/it]"
     ]
    },
    {
     "name": "stdout",
     "output_type": "stream",
     "text": [
      "Image download: ../Data/exports/ndvi/2017-06-14-2017-07-12--121.30451-41.72163_ndvi_bw.tif (512, 512)\n",
      "Image download: ../Data/exports/tc/2017-06-15-2017-07-13--117.10567-34.09773_tc.tif (512, 512)\n"
     ]
    },
    {
     "name": "stderr",
     "output_type": "stream",
     "text": [
      "\r",
      " 18%|██████████████▊                                                                  | 184/1006 [12:35<1:00:44,  4.43s/it]"
     ]
    },
    {
     "name": "stdout",
     "output_type": "stream",
     "text": [
      "Image download: ../Data/exports/ndvi/2017-06-15-2017-07-13--117.10567-34.09773_ndvi_bw.tif (512, 512)\n",
      "Image download: ../Data/exports/tc/2017-06-16-2017-07-14--122.38619-40.48972_tc.tif (512, 512)\n"
     ]
    },
    {
     "name": "stderr",
     "output_type": "stream",
     "text": [
      "\r",
      " 18%|██████████████▉                                                                  | 185/1006 [12:40<1:01:24,  4.49s/it]"
     ]
    },
    {
     "name": "stdout",
     "output_type": "stream",
     "text": [
      "Image download: ../Data/exports/ndvi/2017-06-16-2017-07-14--122.38619-40.48972_ndvi_bw.tif (512, 512)\n",
      "Image download: ../Data/exports/tc/2017-06-17-2017-07-15--121.74826-36.66684_tc.tif (512, 512)\n"
     ]
    },
    {
     "name": "stderr",
     "output_type": "stream",
     "text": [
      "\r",
      " 18%|██████████████▉                                                                  | 186/1006 [12:44<1:02:34,  4.58s/it]"
     ]
    },
    {
     "name": "stdout",
     "output_type": "stream",
     "text": [
      "Image download: ../Data/exports/ndvi/2017-06-17-2017-07-15--121.74826-36.66684_ndvi_bw.tif (512, 512)\n",
      "Image download: ../Data/exports/tc/2017-06-17-2017-07-15--123.28825-39.30125_tc.tif (512, 512)\n"
     ]
    },
    {
     "name": "stderr",
     "output_type": "stream",
     "text": [
      "\r",
      " 19%|███████████████                                                                  | 187/1006 [12:48<1:00:26,  4.43s/it]"
     ]
    },
    {
     "name": "stdout",
     "output_type": "stream",
     "text": [
      "Image download: ../Data/exports/ndvi/2017-06-17-2017-07-15--123.28825-39.30125_ndvi_bw.tif (512, 512)\n",
      "Image download: ../Data/exports/tc/2017-06-17-2017-07-15--120.21321-37.61757_tc.tif (512, 512)\n"
     ]
    },
    {
     "name": "stderr",
     "output_type": "stream",
     "text": [
      "\r",
      " 19%|███████████████▏                                                                 | 188/1006 [12:55<1:07:13,  4.93s/it]"
     ]
    },
    {
     "name": "stdout",
     "output_type": "stream",
     "text": [
      "Image download: ../Data/exports/ndvi/2017-06-17-2017-07-15--120.21321-37.61757_ndvi_bw.tif (512, 512)\n",
      "Image download: ../Data/exports/tc/2017-06-18-2017-07-16--123.10227-39.13207_tc.tif (512, 512)\n"
     ]
    },
    {
     "name": "stderr",
     "output_type": "stream",
     "text": [
      "\r",
      " 19%|███████████████▏                                                                 | 189/1006 [12:59<1:03:53,  4.69s/it]"
     ]
    },
    {
     "name": "stdout",
     "output_type": "stream",
     "text": [
      "Image download: ../Data/exports/ndvi/2017-06-18-2017-07-16--123.10227-39.13207_ndvi_bw.tif (512, 512)\n",
      "Image download: ../Data/exports/tc/2017-06-18-2017-07-16--120.62177-38.29113_tc.tif (512, 512)\n"
     ]
    },
    {
     "name": "stderr",
     "output_type": "stream",
     "text": [
      "\r",
      " 19%|███████████████▎                                                                 | 190/1006 [13:04<1:06:08,  4.86s/it]"
     ]
    },
    {
     "name": "stdout",
     "output_type": "stream",
     "text": [
      "Image download: ../Data/exports/ndvi/2017-06-18-2017-07-16--120.62177-38.29113_ndvi_bw.tif (512, 512)\n",
      "Image download: ../Data/exports/tc/2017-06-18-2017-07-16--120.55579-35.95911_tc.tif (512, 512)\n"
     ]
    },
    {
     "name": "stderr",
     "output_type": "stream",
     "text": [
      "\r",
      " 19%|███████████████▍                                                                 | 191/1006 [13:08<1:04:01,  4.71s/it]"
     ]
    },
    {
     "name": "stdout",
     "output_type": "stream",
     "text": [
      "Image download: ../Data/exports/ndvi/2017-06-18-2017-07-16--120.55579-35.95911_ndvi_bw.tif (512, 512)\n",
      "Image download: ../Data/exports/tc/2017-06-18-2017-07-16--122.20127-39.01224_tc.tif (512, 512)\n"
     ]
    },
    {
     "name": "stderr",
     "output_type": "stream",
     "text": [
      "\r",
      " 19%|███████████████▍                                                                 | 192/1006 [13:13<1:02:01,  4.57s/it]"
     ]
    },
    {
     "name": "stdout",
     "output_type": "stream",
     "text": [
      "Image download: ../Data/exports/ndvi/2017-06-18-2017-07-16--122.20127-39.01224_ndvi_bw.tif (512, 512)\n",
      "Image download: ../Data/exports/tc/2017-06-18-2017-07-16--120.56933-41.45589_tc.tif (512, 512)\n"
     ]
    },
    {
     "name": "stderr",
     "output_type": "stream",
     "text": [
      "\r",
      " 19%|███████████████▌                                                                 | 193/1006 [13:19<1:10:11,  5.18s/it]"
     ]
    },
    {
     "name": "stdout",
     "output_type": "stream",
     "text": [
      "Image download: ../Data/exports/ndvi/2017-06-18-2017-07-16--120.56933-41.45589_ndvi_bw.tif (512, 512)\n",
      "Image download: ../Data/exports/tc/2017-06-18-2017-07-16--122.62382-38.86056_tc.tif (512, 512)\n"
     ]
    },
    {
     "name": "stderr",
     "output_type": "stream",
     "text": [
      "\r",
      " 19%|███████████████▌                                                                 | 194/1006 [13:24<1:09:35,  5.14s/it]"
     ]
    },
    {
     "name": "stdout",
     "output_type": "stream",
     "text": [
      "Image download: ../Data/exports/ndvi/2017-06-18-2017-07-16--122.62382-38.86056_ndvi_bw.tif (512, 512)\n",
      "Image download: ../Data/exports/tc/2017-06-18-2017-07-16--120.13249-34.72379_tc.tif (512, 512)\n"
     ]
    },
    {
     "name": "stderr",
     "output_type": "stream",
     "text": [
      "\r",
      " 19%|███████████████▋                                                                 | 195/1006 [13:29<1:08:00,  5.03s/it]"
     ]
    },
    {
     "name": "stdout",
     "output_type": "stream",
     "text": [
      "Image download: ../Data/exports/ndvi/2017-06-18-2017-07-16--120.13249-34.72379_ndvi_bw.tif (512, 512)\n",
      "Image download: ../Data/exports/tc/2017-06-18-2017-07-16--118.78928-36.18815_tc.tif (512, 512)\n"
     ]
    },
    {
     "name": "stderr",
     "output_type": "stream",
     "text": [
      "\r",
      " 19%|███████████████▊                                                                 | 196/1006 [13:33<1:05:25,  4.85s/it]"
     ]
    },
    {
     "name": "stdout",
     "output_type": "stream",
     "text": [
      "Image download: ../Data/exports/ndvi/2017-06-18-2017-07-16--118.78928-36.18815_ndvi_bw.tif (512, 512)\n",
      "Image download: ../Data/exports/tc/2017-06-19-2017-07-17--119.44751-34.94373_tc.tif (512, 512)\n"
     ]
    },
    {
     "name": "stderr",
     "output_type": "stream",
     "text": [
      "\r",
      " 20%|███████████████▊                                                                 | 197/1006 [13:38<1:06:00,  4.90s/it]"
     ]
    },
    {
     "name": "stdout",
     "output_type": "stream",
     "text": [
      "Image download: ../Data/exports/ndvi/2017-06-19-2017-07-17--119.44751-34.94373_ndvi_bw.tif (512, 512)\n",
      "Image download: ../Data/exports/tc/2017-06-19-2017-07-17--122.43608-40.47106_tc.tif (512, 512)\n"
     ]
    },
    {
     "name": "stderr",
     "output_type": "stream",
     "text": [
      "\r",
      " 20%|███████████████▉                                                                 | 198/1006 [13:43<1:03:59,  4.75s/it]"
     ]
    },
    {
     "name": "stdout",
     "output_type": "stream",
     "text": [
      "Image download: ../Data/exports/ndvi/2017-06-19-2017-07-17--122.43608-40.47106_ndvi_bw.tif (512, 512)\n",
      "Image download: ../Data/exports/tc/2017-06-19-2017-07-17--117.25075-33.75526_tc.tif (512, 512)\n"
     ]
    },
    {
     "name": "stderr",
     "output_type": "stream",
     "text": [
      "\r",
      " 20%|████████████████                                                                 | 199/1006 [13:47<1:02:13,  4.63s/it]"
     ]
    },
    {
     "name": "stdout",
     "output_type": "stream",
     "text": [
      "Image download: ../Data/exports/ndvi/2017-06-19-2017-07-17--117.25075-33.75526_ndvi_bw.tif (512, 512)\n",
      "Image download: ../Data/exports/tc/2017-06-19-2017-07-17--118.99944-36.64404_tc.tif (512, 512)\n"
     ]
    },
    {
     "name": "stderr",
     "output_type": "stream",
     "text": [
      "\r",
      " 20%|████████████████                                                                 | 200/1006 [13:52<1:01:06,  4.55s/it]"
     ]
    },
    {
     "name": "stdout",
     "output_type": "stream",
     "text": [
      "Image download: ../Data/exports/ndvi/2017-06-19-2017-07-17--118.99944-36.64404_ndvi_bw.tif (512, 512)\n",
      "Image download: ../Data/exports/tc/2017-06-19-2017-07-17--120.65764-37.81827_tc.tif (512, 512)\n"
     ]
    },
    {
     "name": "stderr",
     "output_type": "stream",
     "text": [
      "\r",
      " 20%|████████████████▏                                                                | 201/1006 [13:59<1:11:16,  5.31s/it]"
     ]
    },
    {
     "name": "stdout",
     "output_type": "stream",
     "text": [
      "Image download: ../Data/exports/ndvi/2017-06-19-2017-07-17--120.65764-37.81827_ndvi_bw.tif (512, 512)\n",
      "Image download: ../Data/exports/tc/2017-06-20-2017-07-18--123.506-41.478_tc.tif (512, 512)\n"
     ]
    },
    {
     "name": "stderr",
     "output_type": "stream",
     "text": [
      "\r",
      " 20%|████████████████▎                                                                | 202/1006 [14:03<1:08:33,  5.12s/it]"
     ]
    },
    {
     "name": "stdout",
     "output_type": "stream",
     "text": [
      "Image download: ../Data/exports/ndvi/2017-06-20-2017-07-18--123.506-41.478_ndvi_bw.tif (512, 512)\n",
      "Image download: ../Data/exports/tc/2017-06-20-2017-07-18--121.74121-39.76243_tc.tif (512, 512)\n"
     ]
    },
    {
     "name": "stderr",
     "output_type": "stream",
     "text": [
      "\r",
      " 20%|████████████████▎                                                                | 203/1006 [14:08<1:08:02,  5.08s/it]"
     ]
    },
    {
     "name": "stdout",
     "output_type": "stream",
     "text": [
      "Image download: ../Data/exports/ndvi/2017-06-20-2017-07-18--121.74121-39.76243_ndvi_bw.tif (512, 512)\n",
      "Image download: ../Data/exports/tc/2017-06-20-2017-07-18--122.17657-39.75425_tc.tif (512, 512)\n"
     ]
    },
    {
     "name": "stderr",
     "output_type": "stream",
     "text": [
      "\r",
      " 20%|████████████████▍                                                                | 204/1006 [14:13<1:05:26,  4.90s/it]"
     ]
    },
    {
     "name": "stdout",
     "output_type": "stream",
     "text": [
      "Image download: ../Data/exports/ndvi/2017-06-20-2017-07-18--122.17657-39.75425_ndvi_bw.tif (512, 512)\n",
      "Image download: ../Data/exports/tc/2017-06-21-2017-07-19--120.5634-35.06472_tc.tif (512, 512)\n"
     ]
    },
    {
     "name": "stderr",
     "output_type": "stream",
     "text": [
      "\r",
      " 20%|████████████████▌                                                                | 205/1006 [14:17<1:04:33,  4.84s/it]"
     ]
    },
    {
     "name": "stdout",
     "output_type": "stream",
     "text": [
      "Image download: ../Data/exports/ndvi/2017-06-21-2017-07-19--120.5634-35.06472_ndvi_bw.tif (512, 512)\n",
      "Image download: ../Data/exports/tc/2017-06-21-2017-07-19--119.06598-36.22265_tc.tif (512, 512)\n"
     ]
    },
    {
     "name": "stderr",
     "output_type": "stream",
     "text": [
      "\r",
      " 20%|████████████████▌                                                                | 206/1006 [14:22<1:02:26,  4.68s/it]"
     ]
    },
    {
     "name": "stdout",
     "output_type": "stream",
     "text": [
      "Image download: ../Data/exports/ndvi/2017-06-21-2017-07-19--119.06598-36.22265_ndvi_bw.tif (512, 512)\n",
      "Image download: ../Data/exports/tc/2017-06-22-2017-07-20--120.97586-39.36902_tc.tif (512, 512)\n"
     ]
    },
    {
     "name": "stderr",
     "output_type": "stream",
     "text": [
      "\r",
      " 21%|████████████████▋                                                                | 207/1006 [14:26<1:00:20,  4.53s/it]"
     ]
    },
    {
     "name": "stdout",
     "output_type": "stream",
     "text": [
      "Image download: ../Data/exports/ndvi/2017-06-22-2017-07-20--120.97586-39.36902_ndvi_bw.tif (512, 512)\n",
      "Image download: ../Data/exports/tc/2017-06-23-2017-07-21--117.14466-34.20152_tc.tif (512, 512)\n"
     ]
    },
    {
     "name": "stderr",
     "output_type": "stream",
     "text": [
      "\r",
      " 21%|█████████████████▏                                                                 | 208/1006 [14:30<58:32,  4.40s/it]"
     ]
    },
    {
     "name": "stdout",
     "output_type": "stream",
     "text": [
      "Image download: ../Data/exports/ndvi/2017-06-23-2017-07-21--117.14466-34.20152_ndvi_bw.tif (512, 512)\n",
      "Image download: ../Data/exports/tc/2017-06-23-2017-07-21--116.66107-33.34659_tc.tif (512, 512)\n"
     ]
    },
    {
     "name": "stderr",
     "output_type": "stream",
     "text": [
      "\r",
      " 21%|█████████████████▏                                                                 | 209/1006 [14:35<59:55,  4.51s/it]"
     ]
    },
    {
     "name": "stdout",
     "output_type": "stream",
     "text": [
      "Image download: ../Data/exports/ndvi/2017-06-23-2017-07-21--116.66107-33.34659_ndvi_bw.tif (512, 512)\n",
      "Image download: ../Data/exports/tc/2017-06-23-2017-07-21--117.199-34.139_tc.tif (512, 512)\n"
     ]
    },
    {
     "name": "stderr",
     "output_type": "stream",
     "text": [
      "\r",
      " 21%|████████████████▉                                                                | 210/1006 [14:39<1:00:02,  4.53s/it]"
     ]
    },
    {
     "name": "stdout",
     "output_type": "stream",
     "text": [
      "Image download: ../Data/exports/ndvi/2017-06-23-2017-07-21--117.199-34.139_ndvi_bw.tif (512, 512)\n",
      "Image download: ../Data/exports/tc/2017-06-24-2017-07-22--120.304-41.338_tc.tif (512, 512)\n"
     ]
    },
    {
     "name": "stderr",
     "output_type": "stream",
     "text": [
      "\r",
      " 21%|████████████████▉                                                                | 211/1006 [14:44<1:00:14,  4.55s/it]"
     ]
    },
    {
     "name": "stdout",
     "output_type": "stream",
     "text": [
      "Image download: ../Data/exports/ndvi/2017-06-24-2017-07-22--120.304-41.338_ndvi_bw.tif (512, 512)\n",
      "Image download: ../Data/exports/tc/2017-06-24-2017-07-22--117.03031-34.41204_tc.tif (512, 512)\n"
     ]
    },
    {
     "name": "stderr",
     "output_type": "stream",
     "text": [
      "\r",
      " 21%|█████████████████                                                                | 212/1006 [14:49<1:01:01,  4.61s/it]"
     ]
    },
    {
     "name": "stdout",
     "output_type": "stream",
     "text": [
      "Image download: ../Data/exports/ndvi/2017-06-24-2017-07-22--117.03031-34.41204_ndvi_bw.tif (512, 512)\n",
      "Image download: ../Data/exports/tc/2017-06-24-2017-07-22--121.55552-36.96607_tc.tif (512, 512)\n"
     ]
    },
    {
     "name": "stderr",
     "output_type": "stream",
     "text": [
      "\r",
      " 21%|█████████████████▏                                                               | 213/1006 [14:53<1:01:09,  4.63s/it]"
     ]
    },
    {
     "name": "stdout",
     "output_type": "stream",
     "text": [
      "Image download: ../Data/exports/ndvi/2017-06-24-2017-07-22--121.55552-36.96607_ndvi_bw.tif (512, 512)\n",
      "Image download: ../Data/exports/tc/2017-06-25-2017-07-23--120.23656-35.7751_tc.tif (512, 512)\n"
     ]
    },
    {
     "name": "stderr",
     "output_type": "stream",
     "text": [
      "\r",
      " 21%|█████████████████▏                                                               | 214/1006 [14:59<1:03:57,  4.85s/it]"
     ]
    },
    {
     "name": "stdout",
     "output_type": "stream",
     "text": [
      "Image download: ../Data/exports/ndvi/2017-06-25-2017-07-23--120.23656-35.7751_ndvi_bw.tif (512, 512)\n",
      "Image download: ../Data/exports/tc/2017-06-25-2017-07-23--121.3519-39.06522_tc.tif (512, 512)\n"
     ]
    },
    {
     "name": "stderr",
     "output_type": "stream",
     "text": [
      "\r",
      " 21%|█████████████████▎                                                               | 215/1006 [15:03<1:02:48,  4.76s/it]"
     ]
    },
    {
     "name": "stdout",
     "output_type": "stream",
     "text": [
      "Image download: ../Data/exports/ndvi/2017-06-25-2017-07-23--121.3519-39.06522_ndvi_bw.tif (512, 512)\n",
      "Image download: ../Data/exports/tc/2017-06-26-2017-07-24--123.508-41.702_tc.tif (512, 512)\n"
     ]
    },
    {
     "name": "stderr",
     "output_type": "stream",
     "text": [
      "\r",
      " 21%|█████████████████▍                                                               | 216/1006 [15:08<1:02:49,  4.77s/it]"
     ]
    },
    {
     "name": "stdout",
     "output_type": "stream",
     "text": [
      "Image download: ../Data/exports/ndvi/2017-06-26-2017-07-24--123.508-41.702_ndvi_bw.tif (512, 512)\n",
      "Image download: ../Data/exports/tc/2017-06-26-2017-07-24--120.73757-38.69775_tc.tif (512, 512)\n"
     ]
    },
    {
     "name": "stderr",
     "output_type": "stream",
     "text": [
      "\r",
      " 22%|█████████████████▍                                                               | 217/1006 [15:13<1:03:51,  4.86s/it]"
     ]
    },
    {
     "name": "stdout",
     "output_type": "stream",
     "text": [
      "Image download: ../Data/exports/ndvi/2017-06-26-2017-07-24--120.73757-38.69775_ndvi_bw.tif (512, 512)\n",
      "Image download: ../Data/exports/tc/2017-06-27-2017-07-25--120.70013-38.559707_tc.tif (512, 512)\n"
     ]
    },
    {
     "name": "stderr",
     "output_type": "stream",
     "text": [
      "\r",
      " 22%|█████████████████▌                                                               | 218/1006 [15:18<1:04:25,  4.91s/it]"
     ]
    },
    {
     "name": "stdout",
     "output_type": "stream",
     "text": [
      "Image download: ../Data/exports/ndvi/2017-06-27-2017-07-25--120.70013-38.559707_ndvi_bw.tif (512, 512)\n",
      "Image download: ../Data/exports/tc/2017-06-27-2017-07-25--121.104-38.5181_tc.tif (512, 512)\n"
     ]
    },
    {
     "name": "stderr",
     "output_type": "stream",
     "text": [
      "\r",
      " 22%|█████████████████▋                                                               | 219/1006 [15:23<1:04:57,  4.95s/it]"
     ]
    },
    {
     "name": "stdout",
     "output_type": "stream",
     "text": [
      "Image download: ../Data/exports/ndvi/2017-06-27-2017-07-25--121.104-38.5181_ndvi_bw.tif (512, 512)\n",
      "Image download: ../Data/exports/tc/2017-06-27-2017-07-25--123.501-41.59_tc.tif (512, 512)\n"
     ]
    },
    {
     "name": "stderr",
     "output_type": "stream",
     "text": [
      "\r",
      " 22%|█████████████████▋                                                               | 220/1006 [15:28<1:02:25,  4.76s/it]"
     ]
    },
    {
     "name": "stdout",
     "output_type": "stream",
     "text": [
      "Image download: ../Data/exports/ndvi/2017-06-27-2017-07-25--123.501-41.59_ndvi_bw.tif (512, 512)\n",
      "Image download: ../Data/exports/tc/2017-06-27-2017-07-25--121.84108-37.44485_tc.tif (512, 512)\n"
     ]
    },
    {
     "name": "stderr",
     "output_type": "stream",
     "text": [
      "\r",
      " 22%|█████████████████▊                                                               | 221/1006 [15:33<1:04:06,  4.90s/it]"
     ]
    },
    {
     "name": "stdout",
     "output_type": "stream",
     "text": [
      "Image download: ../Data/exports/ndvi/2017-06-27-2017-07-25--121.84108-37.44485_ndvi_bw.tif (512, 512)\n",
      "Image download: ../Data/exports/tc/2017-06-28-2017-07-26--120.95498-39.16826_tc.tif (512, 512)\n"
     ]
    },
    {
     "name": "stderr",
     "output_type": "stream",
     "text": [
      "\r",
      " 22%|█████████████████▊                                                               | 222/1006 [15:37<1:00:58,  4.67s/it]"
     ]
    },
    {
     "name": "stdout",
     "output_type": "stream",
     "text": [
      "Image download: ../Data/exports/ndvi/2017-06-28-2017-07-26--120.95498-39.16826_ndvi_bw.tif (512, 512)\n",
      "Image download: ../Data/exports/tc/2017-06-29-2017-07-27--122.3209-40.1583_tc.tif (512, 512)\n"
     ]
    },
    {
     "name": "stderr",
     "output_type": "stream",
     "text": [
      "\r",
      " 22%|█████████████████▉                                                               | 223/1006 [15:42<1:01:06,  4.68s/it]"
     ]
    },
    {
     "name": "stdout",
     "output_type": "stream",
     "text": [
      "Image download: ../Data/exports/ndvi/2017-06-29-2017-07-27--122.3209-40.1583_ndvi_bw.tif (512, 512)\n",
      "Image download: ../Data/exports/tc/2017-06-29-2017-07-27--118.851943-34.792882_tc.tif (512, 512)\n"
     ]
    },
    {
     "name": "stderr",
     "output_type": "stream",
     "text": [
      "\r",
      " 22%|██████████████████                                                               | 224/1006 [15:47<1:03:32,  4.88s/it]"
     ]
    },
    {
     "name": "stdout",
     "output_type": "stream",
     "text": [
      "Image download: ../Data/exports/ndvi/2017-06-29-2017-07-27--118.851943-34.792882_ndvi_bw.tif (512, 512)\n",
      "Image download: ../Data/exports/tc/2017-06-29-2017-07-27--117.18552-33.81976_tc.tif (512, 512)\n"
     ]
    },
    {
     "name": "stderr",
     "output_type": "stream",
     "text": [
      "\r",
      " 22%|██████████████████                                                               | 225/1006 [15:51<1:01:34,  4.73s/it]"
     ]
    },
    {
     "name": "stdout",
     "output_type": "stream",
     "text": [
      "Image download: ../Data/exports/ndvi/2017-06-29-2017-07-27--117.18552-33.81976_ndvi_bw.tif (512, 512)\n",
      "Image download: ../Data/exports/tc/2017-06-30-2017-07-28--120.408135-37.905545_tc.tif (512, 512)\n"
     ]
    },
    {
     "name": "stderr",
     "output_type": "stream",
     "text": [
      "\r",
      " 22%|██████████████████▏                                                              | 226/1006 [16:00<1:17:26,  5.96s/it]"
     ]
    },
    {
     "name": "stdout",
     "output_type": "stream",
     "text": [
      "Image download: ../Data/exports/ndvi/2017-06-30-2017-07-28--120.408135-37.905545_ndvi_bw.tif (512, 512)\n",
      "Image download: ../Data/exports/tc/2017-06-30-2017-07-28--121.9741-41.9808_tc.tif (512, 512)\n"
     ]
    },
    {
     "name": "stderr",
     "output_type": "stream",
     "text": [
      "\r",
      " 23%|██████████████████▎                                                              | 227/1006 [16:05<1:13:22,  5.65s/it]"
     ]
    },
    {
     "name": "stdout",
     "output_type": "stream",
     "text": [
      "Image download: ../Data/exports/ndvi/2017-06-30-2017-07-28--121.9741-41.9808_ndvi_bw.tif (512, 512)\n",
      "Image download: ../Data/exports/tc/2017-06-30-2017-07-28--122.17384-40.69259_tc.tif (512, 512)\n"
     ]
    },
    {
     "name": "stderr",
     "output_type": "stream",
     "text": [
      "\r",
      " 23%|██████████████████▎                                                              | 228/1006 [16:11<1:13:40,  5.68s/it]"
     ]
    },
    {
     "name": "stdout",
     "output_type": "stream",
     "text": [
      "Image download: ../Data/exports/ndvi/2017-06-30-2017-07-28--122.17384-40.69259_ndvi_bw.tif (512, 512)\n",
      "Image download: ../Data/exports/tc/2017-06-30-2017-07-28--120.9761-39.9034_tc.tif (512, 512)\n"
     ]
    },
    {
     "name": "stderr",
     "output_type": "stream",
     "text": [
      "\r",
      " 23%|██████████████████▍                                                              | 229/1006 [16:16<1:10:39,  5.46s/it]"
     ]
    },
    {
     "name": "stdout",
     "output_type": "stream",
     "text": [
      "Image download: ../Data/exports/ndvi/2017-06-30-2017-07-28--120.9761-39.9034_ndvi_bw.tif (512, 512)\n",
      "Image download: ../Data/exports/tc/2017-07-01-2017-07-29--121.039267-38.538332_tc.tif (512, 512)\n"
     ]
    },
    {
     "name": "stderr",
     "output_type": "stream",
     "text": [
      "\r",
      " 23%|██████████████████▌                                                              | 230/1006 [16:20<1:06:48,  5.17s/it]"
     ]
    },
    {
     "name": "stdout",
     "output_type": "stream",
     "text": [
      "Image download: ../Data/exports/ndvi/2017-07-01-2017-07-29--121.039267-38.538332_ndvi_bw.tif (512, 512)\n",
      "Image download: ../Data/exports/tc/2017-07-01-2017-07-29--118.654-35.543_tc.tif (512, 512)\n"
     ]
    },
    {
     "name": "stderr",
     "output_type": "stream",
     "text": [
      "\r",
      " 23%|██████████████████▌                                                              | 231/1006 [16:26<1:07:28,  5.22s/it]"
     ]
    },
    {
     "name": "stdout",
     "output_type": "stream",
     "text": [
      "Image download: ../Data/exports/ndvi/2017-07-01-2017-07-29--118.654-35.543_ndvi_bw.tif (512, 512)\n",
      "Image download: ../Data/exports/tc/2017-07-01-2017-07-29--120.36005-37.90014_tc.tif (512, 512)\n"
     ]
    },
    {
     "name": "stderr",
     "output_type": "stream",
     "text": [
      "\r",
      " 23%|██████████████████▋                                                              | 232/1006 [16:35<1:23:52,  6.50s/it]"
     ]
    },
    {
     "name": "stdout",
     "output_type": "stream",
     "text": [
      "Image download: ../Data/exports/ndvi/2017-07-01-2017-07-29--120.36005-37.90014_ndvi_bw.tif (512, 512)\n",
      "Image download: ../Data/exports/tc/2017-07-01-2017-07-29--118.94252-36.0226_tc.tif (512, 512)\n"
     ]
    },
    {
     "name": "stderr",
     "output_type": "stream",
     "text": [
      "\r",
      " 23%|██████████████████▊                                                              | 233/1006 [16:40<1:18:44,  6.11s/it]"
     ]
    },
    {
     "name": "stdout",
     "output_type": "stream",
     "text": [
      "Image download: ../Data/exports/ndvi/2017-07-01-2017-07-29--118.94252-36.0226_ndvi_bw.tif (512, 512)\n",
      "Image download: ../Data/exports/tc/2017-07-02-2017-07-30--119.782-38.329_tc.tif (512, 512)\n"
     ]
    },
    {
     "name": "stderr",
     "output_type": "stream",
     "text": [
      "\r",
      " 23%|██████████████████▊                                                              | 234/1006 [16:45<1:11:32,  5.56s/it]"
     ]
    },
    {
     "name": "stdout",
     "output_type": "stream",
     "text": [
      "Image download: ../Data/exports/ndvi/2017-07-02-2017-07-30--119.782-38.329_ndvi_bw.tif (512, 512)\n",
      "Image download: ../Data/exports/tc/2017-07-02-2017-07-30--117.396404-33.689092_tc.tif (512, 512)\n"
     ]
    },
    {
     "name": "stderr",
     "output_type": "stream",
     "text": [
      "\r",
      " 23%|██████████████████▉                                                              | 235/1006 [16:49<1:06:52,  5.20s/it]"
     ]
    },
    {
     "name": "stdout",
     "output_type": "stream",
     "text": [
      "Image download: ../Data/exports/ndvi/2017-07-02-2017-07-30--117.396404-33.689092_ndvi_bw.tif (512, 512)\n",
      "Image download: ../Data/exports/tc/2017-07-02-2017-07-30--117.26969-34.19076_tc.tif (512, 512)\n"
     ]
    },
    {
     "name": "stderr",
     "output_type": "stream",
     "text": [
      "\r",
      " 23%|███████████████████                                                              | 236/1006 [16:54<1:04:31,  5.03s/it]"
     ]
    },
    {
     "name": "stdout",
     "output_type": "stream",
     "text": [
      "Image download: ../Data/exports/ndvi/2017-07-02-2017-07-30--117.26969-34.19076_ndvi_bw.tif (512, 512)\n",
      "Image download: ../Data/exports/tc/2017-07-02-2017-07-30--122.90217-38.70289_tc.tif (512, 512)\n"
     ]
    },
    {
     "name": "stderr",
     "output_type": "stream",
     "text": [
      "\r",
      " 24%|███████████████████                                                              | 237/1006 [17:00<1:08:05,  5.31s/it]"
     ]
    },
    {
     "name": "stdout",
     "output_type": "stream",
     "text": [
      "Image download: ../Data/exports/ndvi/2017-07-02-2017-07-30--122.90217-38.70289_ndvi_bw.tif (512, 512)\n",
      "Image download: ../Data/exports/tc/2017-07-03-2017-07-31--119.618-37.644_tc.tif (512, 512)\n"
     ]
    },
    {
     "name": "stderr",
     "output_type": "stream",
     "text": [
      "\r",
      " 24%|███████████████████▏                                                             | 238/1006 [17:04<1:04:20,  5.03s/it]"
     ]
    },
    {
     "name": "stdout",
     "output_type": "stream",
     "text": [
      "Image download: ../Data/exports/ndvi/2017-07-03-2017-07-31--119.618-37.644_ndvi_bw.tif (512, 512)\n",
      "Image download: ../Data/exports/tc/2017-07-03-2017-07-31--123.57562-40.39799_tc.tif (512, 512)\n"
     ]
    },
    {
     "name": "stderr",
     "output_type": "stream",
     "text": [
      "\r",
      " 24%|███████████████████▏                                                             | 239/1006 [17:08<1:01:34,  4.82s/it]"
     ]
    },
    {
     "name": "stdout",
     "output_type": "stream",
     "text": [
      "Image download: ../Data/exports/ndvi/2017-07-03-2017-07-31--123.57562-40.39799_ndvi_bw.tif (512, 512)\n",
      "Image download: ../Data/exports/tc/2017-07-03-2017-07-31--120.31157-37.65986_tc.tif (512, 512)\n"
     ]
    },
    {
     "name": "stderr",
     "output_type": "stream",
     "text": [
      "\r",
      " 24%|███████████████████▎                                                             | 240/1006 [17:15<1:07:13,  5.27s/it]"
     ]
    },
    {
     "name": "stdout",
     "output_type": "stream",
     "text": [
      "Image download: ../Data/exports/ndvi/2017-07-03-2017-07-31--120.31157-37.65986_ndvi_bw.tif (512, 512)\n",
      "Image download: ../Data/exports/tc/2017-07-04-2017-08-01--123.39253-40.79902_tc.tif (512, 512)\n"
     ]
    },
    {
     "name": "stderr",
     "output_type": "stream",
     "text": [
      "\r",
      " 24%|███████████████████▍                                                             | 241/1006 [17:19<1:04:34,  5.07s/it]"
     ]
    },
    {
     "name": "stdout",
     "output_type": "stream",
     "text": [
      "Image download: ../Data/exports/ndvi/2017-07-04-2017-08-01--123.39253-40.79902_ndvi_bw.tif (512, 512)\n",
      "Image download: ../Data/exports/tc/2017-07-04-2017-08-01--120.28037-35.40357_tc.tif (512, 512)\n"
     ]
    },
    {
     "name": "stderr",
     "output_type": "stream",
     "text": [
      "\r",
      " 24%|███████████████████▍                                                             | 242/1006 [17:25<1:08:08,  5.35s/it]"
     ]
    },
    {
     "name": "stdout",
     "output_type": "stream",
     "text": [
      "Image download: ../Data/exports/ndvi/2017-07-04-2017-08-01--120.28037-35.40357_ndvi_bw.tif (512, 512)\n",
      "Image download: ../Data/exports/tc/2017-07-04-2017-08-01--120.2913-35.4403_tc.tif (512, 512)\n"
     ]
    },
    {
     "name": "stderr",
     "output_type": "stream",
     "text": [
      "\r",
      " 24%|███████████████████▌                                                             | 243/1006 [17:31<1:07:53,  5.34s/it]"
     ]
    },
    {
     "name": "stdout",
     "output_type": "stream",
     "text": [
      "Image download: ../Data/exports/ndvi/2017-07-04-2017-08-01--120.2913-35.4403_ndvi_bw.tif (512, 512)\n",
      "Image download: ../Data/exports/tc/2017-07-04-2017-08-01--123.375-40.804_tc.tif (512, 512)\n"
     ]
    },
    {
     "name": "stderr",
     "output_type": "stream",
     "text": [
      "\r",
      " 24%|███████████████████▋                                                             | 244/1006 [17:35<1:04:53,  5.11s/it]"
     ]
    },
    {
     "name": "stdout",
     "output_type": "stream",
     "text": [
      "Image download: ../Data/exports/ndvi/2017-07-04-2017-08-01--123.375-40.804_ndvi_bw.tif (512, 512)\n",
      "Image download: ../Data/exports/tc/2017-07-04-2017-08-01--118.296-36.257_tc.tif (512, 512)\n"
     ]
    },
    {
     "name": "stderr",
     "output_type": "stream",
     "text": [
      "\r",
      " 24%|███████████████████▋                                                             | 245/1006 [17:40<1:02:44,  4.95s/it]"
     ]
    },
    {
     "name": "stdout",
     "output_type": "stream",
     "text": [
      "Image download: ../Data/exports/ndvi/2017-07-04-2017-08-01--118.296-36.257_ndvi_bw.tif (512, 512)\n",
      "Image download: ../Data/exports/tc/2017-07-05-2017-08-02--123.76099-40.11794_tc.tif (512, 512)\n"
     ]
    },
    {
     "name": "stderr",
     "output_type": "stream",
     "text": [
      "\r",
      " 24%|████████████████████▎                                                              | 246/1006 [17:44<59:28,  4.70s/it]"
     ]
    },
    {
     "name": "stdout",
     "output_type": "stream",
     "text": [
      "Image download: ../Data/exports/ndvi/2017-07-05-2017-08-02--123.76099-40.11794_ndvi_bw.tif (512, 512)\n",
      "Image download: ../Data/exports/tc/2017-07-05-2017-08-02--120.321-41.466_tc.tif (512, 512)\n"
     ]
    },
    {
     "name": "stderr",
     "output_type": "stream",
     "text": [
      "\r",
      " 25%|███████████████████▉                                                             | 247/1006 [17:49<1:00:44,  4.80s/it]"
     ]
    },
    {
     "name": "stdout",
     "output_type": "stream",
     "text": [
      "Image download: ../Data/exports/ndvi/2017-07-05-2017-08-02--120.321-41.466_ndvi_bw.tif (512, 512)\n",
      "Image download: ../Data/exports/tc/2017-07-05-2017-08-02--117.03826-34.08492_tc.tif (512, 512)\n"
     ]
    },
    {
     "name": "stderr",
     "output_type": "stream",
     "text": [
      "\r",
      " 25%|███████████████████▉                                                             | 248/1006 [17:53<1:00:06,  4.76s/it]"
     ]
    },
    {
     "name": "stdout",
     "output_type": "stream",
     "text": [
      "Image download: ../Data/exports/ndvi/2017-07-05-2017-08-02--117.03826-34.08492_ndvi_bw.tif (512, 512)\n",
      "Image download: ../Data/exports/tc/2017-07-05-2017-08-02--117.85182-34.23925_tc.tif (512, 512)\n"
     ]
    },
    {
     "name": "stderr",
     "output_type": "stream",
     "text": [
      "\r",
      " 25%|████████████████████▌                                                              | 249/1006 [17:57<57:07,  4.53s/it]"
     ]
    },
    {
     "name": "stdout",
     "output_type": "stream",
     "text": [
      "Image download: ../Data/exports/ndvi/2017-07-05-2017-08-02--117.85182-34.23925_ndvi_bw.tif (512, 512)\n",
      "Image download: ../Data/exports/tc/2017-07-05-2017-08-02--123.64281-40.27582_tc.tif (512, 512)\n"
     ]
    },
    {
     "name": "stderr",
     "output_type": "stream",
     "text": [
      "\r",
      " 25%|████████████████████▋                                                              | 250/1006 [18:02<56:59,  4.52s/it]"
     ]
    },
    {
     "name": "stdout",
     "output_type": "stream",
     "text": [
      "Image download: ../Data/exports/ndvi/2017-07-05-2017-08-02--123.64281-40.27582_ndvi_bw.tif (512, 512)\n",
      "Image download: ../Data/exports/tc/2017-07-06-2017-08-03--117.239099-34.009026_tc.tif (512, 512)\n"
     ]
    },
    {
     "name": "stderr",
     "output_type": "stream",
     "text": [
      "\r",
      " 25%|████████████████████▋                                                              | 251/1006 [18:07<57:01,  4.53s/it]"
     ]
    },
    {
     "name": "stdout",
     "output_type": "stream",
     "text": [
      "Image download: ../Data/exports/ndvi/2017-07-06-2017-08-03--117.239099-34.009026_ndvi_bw.tif (512, 512)\n",
      "Image download: ../Data/exports/tc/2017-07-07-2017-08-04--118.47307-35.70639_tc.tif (512, 512)\n"
     ]
    },
    {
     "name": "stderr",
     "output_type": "stream",
     "text": [
      "\r",
      " 25%|████████████████████▊                                                              | 252/1006 [18:11<58:30,  4.66s/it]"
     ]
    },
    {
     "name": "stdout",
     "output_type": "stream",
     "text": [
      "Image download: ../Data/exports/ndvi/2017-07-07-2017-08-04--118.47307-35.70639_ndvi_bw.tif (512, 512)\n",
      "Image download: ../Data/exports/tc/2017-07-08-2017-08-05--120.74968-41.11989_tc.tif (512, 512)\n"
     ]
    },
    {
     "name": "stderr",
     "output_type": "stream",
     "text": [
      "\r",
      " 25%|████████████████████▊                                                              | 253/1006 [18:16<56:39,  4.51s/it]"
     ]
    },
    {
     "name": "stdout",
     "output_type": "stream",
     "text": [
      "Image download: ../Data/exports/ndvi/2017-07-08-2017-08-05--120.74968-41.11989_ndvi_bw.tif (512, 512)\n",
      "Image download: ../Data/exports/tc/2017-07-08-2017-08-05--120.1397-39.75371_tc.tif (512, 512)\n"
     ]
    },
    {
     "name": "stderr",
     "output_type": "stream",
     "text": [
      "\r",
      " 25%|████████████████████▍                                                            | 254/1006 [18:21<1:00:40,  4.84s/it]"
     ]
    },
    {
     "name": "stdout",
     "output_type": "stream",
     "text": [
      "Image download: ../Data/exports/ndvi/2017-07-08-2017-08-05--120.1397-39.75371_ndvi_bw.tif (512, 512)\n",
      "Image download: ../Data/exports/tc/2017-07-08-2017-08-05--120.066-39.888_tc.tif (512, 512)\n"
     ]
    },
    {
     "name": "stderr",
     "output_type": "stream",
     "text": [
      "\r",
      " 25%|████████████████████▌                                                            | 255/1006 [18:27<1:03:58,  5.11s/it]"
     ]
    },
    {
     "name": "stdout",
     "output_type": "stream",
     "text": [
      "Image download: ../Data/exports/ndvi/2017-07-08-2017-08-05--120.066-39.888_ndvi_bw.tif (512, 512)\n",
      "Image download: ../Data/exports/tc/2017-07-09-2017-08-06--116.8247-33.57139_tc.tif (512, 512)\n"
     ]
    },
    {
     "name": "stderr",
     "output_type": "stream",
     "text": [
      "\r",
      " 25%|████████████████████▌                                                            | 256/1006 [18:32<1:02:24,  4.99s/it]"
     ]
    },
    {
     "name": "stdout",
     "output_type": "stream",
     "text": [
      "Image download: ../Data/exports/ndvi/2017-07-09-2017-08-06--116.8247-33.57139_ndvi_bw.tif (512, 512)\n",
      "Image download: ../Data/exports/tc/2017-07-09-2017-08-06--123.676-41.853_tc.tif (512, 512)\n"
     ]
    },
    {
     "name": "stderr",
     "output_type": "stream",
     "text": [
      "\r",
      " 26%|█████████████████████▏                                                             | 257/1006 [18:36<59:31,  4.77s/it]"
     ]
    },
    {
     "name": "stdout",
     "output_type": "stream",
     "text": [
      "Image download: ../Data/exports/ndvi/2017-07-09-2017-08-06--123.676-41.853_ndvi_bw.tif (512, 512)\n",
      "Image download: ../Data/exports/tc/2017-07-09-2017-08-06--120.64584-35.86596_tc.tif (512, 512)\n"
     ]
    },
    {
     "name": "stderr",
     "output_type": "stream",
     "text": [
      "\r",
      " 26%|█████████████████████▎                                                             | 258/1006 [18:41<59:13,  4.75s/it]"
     ]
    },
    {
     "name": "stdout",
     "output_type": "stream",
     "text": [
      "Image download: ../Data/exports/ndvi/2017-07-09-2017-08-06--120.64584-35.86596_ndvi_bw.tif (512, 512)\n",
      "Image download: ../Data/exports/tc/2017-07-09-2017-08-06--123.36882-40.17598_tc.tif (512, 512)\n"
     ]
    },
    {
     "name": "stderr",
     "output_type": "stream",
     "text": [
      "\r",
      " 26%|█████████████████████▎                                                             | 259/1006 [18:45<55:59,  4.50s/it]"
     ]
    },
    {
     "name": "stdout",
     "output_type": "stream",
     "text": [
      "Image download: ../Data/exports/ndvi/2017-07-09-2017-08-06--123.36882-40.17598_ndvi_bw.tif (512, 512)\n",
      "Image download: ../Data/exports/tc/2017-07-10-2017-08-07--122.81135-38.94599_tc.tif (512, 512)\n"
     ]
    },
    {
     "name": "stderr",
     "output_type": "stream",
     "text": [
      "\r",
      " 26%|█████████████████████▍                                                             | 260/1006 [18:49<55:15,  4.44s/it]"
     ]
    },
    {
     "name": "stdout",
     "output_type": "stream",
     "text": [
      "Image download: ../Data/exports/ndvi/2017-07-10-2017-08-07--122.81135-38.94599_ndvi_bw.tif (512, 512)\n",
      "Image download: ../Data/exports/tc/2017-07-12-2017-08-09--118.9267-34.92907_tc.tif (512, 512)\n"
     ]
    },
    {
     "name": "stderr",
     "output_type": "stream",
     "text": [
      "\r",
      " 26%|█████████████████████▌                                                             | 261/1006 [18:54<58:18,  4.70s/it]"
     ]
    },
    {
     "name": "stdout",
     "output_type": "stream",
     "text": [
      "Image download: ../Data/exports/ndvi/2017-07-12-2017-08-09--118.9267-34.92907_ndvi_bw.tif (512, 512)\n",
      "Image download: ../Data/exports/tc/2017-07-12-2017-08-09--122.5415-39.87983_tc.tif (512, 512)\n"
     ]
    },
    {
     "name": "stderr",
     "output_type": "stream",
     "text": [
      "\r",
      " 26%|█████████████████████▌                                                             | 262/1006 [18:59<57:36,  4.65s/it]"
     ]
    },
    {
     "name": "stdout",
     "output_type": "stream",
     "text": [
      "Image download: ../Data/exports/ndvi/2017-07-12-2017-08-09--122.5415-39.87983_ndvi_bw.tif (512, 512)\n",
      "Image download: ../Data/exports/tc/2017-07-13-2017-08-10--122.2483-38.49336_tc.tif (512, 512)\n"
     ]
    },
    {
     "name": "stderr",
     "output_type": "stream",
     "text": [
      "\r",
      " 26%|█████████████████████▋                                                             | 263/1006 [19:04<59:56,  4.84s/it]"
     ]
    },
    {
     "name": "stdout",
     "output_type": "stream",
     "text": [
      "Image download: ../Data/exports/ndvi/2017-07-13-2017-08-10--122.2483-38.49336_ndvi_bw.tif (512, 512)\n",
      "Image download: ../Data/exports/tc/2017-07-13-2017-08-10--121.68165-37.14653_tc.tif (512, 512)\n"
     ]
    },
    {
     "name": "stderr",
     "output_type": "stream",
     "text": [
      "\r",
      " 26%|█████████████████████▊                                                             | 264/1006 [19:09<58:40,  4.74s/it]"
     ]
    },
    {
     "name": "stdout",
     "output_type": "stream",
     "text": [
      "Image download: ../Data/exports/ndvi/2017-07-13-2017-08-10--121.68165-37.14653_ndvi_bw.tif (512, 512)\n",
      "Image download: ../Data/exports/tc/2017-07-13-2017-08-10--120.77485-35.7908_tc.tif (512, 512)\n"
     ]
    },
    {
     "name": "stderr",
     "output_type": "stream",
     "text": [
      "\r",
      " 26%|█████████████████████▊                                                             | 265/1006 [19:13<58:16,  4.72s/it]"
     ]
    },
    {
     "name": "stdout",
     "output_type": "stream",
     "text": [
      "Image download: ../Data/exports/ndvi/2017-07-13-2017-08-10--120.77485-35.7908_ndvi_bw.tif (512, 512)\n",
      "Image download: ../Data/exports/tc/2017-07-15-2017-08-12--122.9401-41.99279_tc.tif (512, 512)\n"
     ]
    },
    {
     "name": "stderr",
     "output_type": "stream",
     "text": [
      "\r",
      " 26%|█████████████████████▉                                                             | 266/1006 [19:18<59:14,  4.80s/it]"
     ]
    },
    {
     "name": "stdout",
     "output_type": "stream",
     "text": [
      "Image download: ../Data/exports/ndvi/2017-07-15-2017-08-12--122.9401-41.99279_ndvi_bw.tif (512, 512)\n",
      "Image download: ../Data/exports/tc/2017-07-15-2017-08-12--117.124538-33.797216_tc.tif (512, 512)\n"
     ]
    },
    {
     "name": "stderr",
     "output_type": "stream",
     "text": [
      "\r",
      " 27%|██████████████████████                                                             | 267/1006 [19:23<57:30,  4.67s/it]"
     ]
    },
    {
     "name": "stdout",
     "output_type": "stream",
     "text": [
      "Image download: ../Data/exports/ndvi/2017-07-15-2017-08-12--117.124538-33.797216_ndvi_bw.tif (512, 512)\n",
      "Image download: ../Data/exports/tc/2017-07-15-2017-08-12--117.30819-33.98212_tc.tif (512, 512)\n"
     ]
    },
    {
     "name": "stderr",
     "output_type": "stream",
     "text": [
      "\r",
      " 27%|██████████████████████                                                             | 268/1006 [19:27<56:18,  4.58s/it]"
     ]
    },
    {
     "name": "stdout",
     "output_type": "stream",
     "text": [
      "Image download: ../Data/exports/ndvi/2017-07-15-2017-08-12--117.30819-33.98212_ndvi_bw.tif (512, 512)\n",
      "Image download: ../Data/exports/tc/2017-07-15-2017-08-12--120.30046-37.62823_tc.tif (512, 512)\n"
     ]
    },
    {
     "name": "stderr",
     "output_type": "stream",
     "text": [
      "\r",
      " 27%|██████████████████████▏                                                            | 269/1006 [19:32<58:58,  4.80s/it]"
     ]
    },
    {
     "name": "stdout",
     "output_type": "stream",
     "text": [
      "Image download: ../Data/exports/ndvi/2017-07-15-2017-08-12--120.30046-37.62823_ndvi_bw.tif (512, 512)\n",
      "Image download: ../Data/exports/tc/2017-07-16-2017-08-13--123.218-42.039_tc.tif (512, 512)\n"
     ]
    },
    {
     "name": "stderr",
     "output_type": "stream",
     "text": [
      "\r",
      " 27%|██████████████████████▎                                                            | 270/1006 [19:37<57:51,  4.72s/it]"
     ]
    },
    {
     "name": "stdout",
     "output_type": "stream",
     "text": [
      "Image download: ../Data/exports/ndvi/2017-07-16-2017-08-13--123.218-42.039_ndvi_bw.tif (512, 512)\n",
      "Image download: ../Data/exports/tc/2017-07-16-2017-08-13--119.598-37.538_tc.tif (512, 512)\n"
     ]
    },
    {
     "name": "stderr",
     "output_type": "stream",
     "text": [
      "\r",
      " 27%|██████████████████████▎                                                            | 271/1006 [19:42<57:52,  4.72s/it]"
     ]
    },
    {
     "name": "stdout",
     "output_type": "stream",
     "text": [
      "Image download: ../Data/exports/ndvi/2017-07-16-2017-08-13--119.598-37.538_ndvi_bw.tif (512, 512)\n",
      "Image download: ../Data/exports/tc/2017-07-16-2017-08-13--116.88066-33.95036_tc.tif (512, 512)\n"
     ]
    },
    {
     "name": "stderr",
     "output_type": "stream",
     "text": [
      "\r",
      " 27%|█████████████████████▉                                                           | 272/1006 [19:47<1:02:15,  5.09s/it]"
     ]
    },
    {
     "name": "stdout",
     "output_type": "stream",
     "text": [
      "Image download: ../Data/exports/ndvi/2017-07-16-2017-08-13--116.88066-33.95036_ndvi_bw.tif (512, 512)\n",
      "Image download: ../Data/exports/tc/2017-07-17-2017-08-14--123.474-41.841_tc.tif (512, 512)\n"
     ]
    },
    {
     "name": "stderr",
     "output_type": "stream",
     "text": [
      "\r",
      " 27%|█████████████████████▉                                                           | 273/1006 [19:52<1:00:07,  4.92s/it]"
     ]
    },
    {
     "name": "stdout",
     "output_type": "stream",
     "text": [
      "Image download: ../Data/exports/ndvi/2017-07-17-2017-08-14--123.474-41.841_ndvi_bw.tif (512, 512)\n",
      "Image download: ../Data/exports/tc/2017-07-19-2017-08-16--121.5935-40.92602_tc.tif (512, 512)\n"
     ]
    },
    {
     "name": "stderr",
     "output_type": "stream",
     "text": [
      "\r",
      " 27%|██████████████████████▌                                                            | 274/1006 [19:56<57:50,  4.74s/it]"
     ]
    },
    {
     "name": "stdout",
     "output_type": "stream",
     "text": [
      "Image download: ../Data/exports/ndvi/2017-07-19-2017-08-16--121.5935-40.92602_ndvi_bw.tif (512, 512)\n",
      "Image download: ../Data/exports/tc/2017-07-21-2017-08-18--117.00258-33.87679_tc.tif (512, 512)\n"
     ]
    },
    {
     "name": "stderr",
     "output_type": "stream",
     "text": [
      "\r",
      " 27%|██████████████████████▏                                                          | 275/1006 [20:02<1:01:57,  5.08s/it]"
     ]
    },
    {
     "name": "stdout",
     "output_type": "stream",
     "text": [
      "Image download: ../Data/exports/ndvi/2017-07-21-2017-08-18--117.00258-33.87679_ndvi_bw.tif (512, 512)\n",
      "Image download: ../Data/exports/tc/2017-07-22-2017-08-19--121.32957-39.1234_tc.tif (512, 512)\n"
     ]
    },
    {
     "name": "stderr",
     "output_type": "stream",
     "text": [
      "\r",
      " 27%|██████████████████████▏                                                          | 276/1006 [20:07<1:00:04,  4.94s/it]"
     ]
    },
    {
     "name": "stdout",
     "output_type": "stream",
     "text": [
      "Image download: ../Data/exports/ndvi/2017-07-22-2017-08-19--121.32957-39.1234_ndvi_bw.tif (512, 512)\n",
      "Image download: ../Data/exports/tc/2017-07-22-2017-08-19--120.89746-39.9864_tc.tif (512, 512)\n"
     ]
    },
    {
     "name": "stderr",
     "output_type": "stream",
     "text": [
      "\r",
      " 28%|██████████████████████▊                                                            | 277/1006 [20:12<59:46,  4.92s/it]"
     ]
    },
    {
     "name": "stdout",
     "output_type": "stream",
     "text": [
      "Image download: ../Data/exports/ndvi/2017-07-22-2017-08-19--120.89746-39.9864_ndvi_bw.tif (512, 512)\n",
      "Image download: ../Data/exports/tc/2017-07-23-2017-08-20--116.42907-32.65003_tc.tif (512, 512)\n"
     ]
    },
    {
     "name": "stderr",
     "output_type": "stream",
     "text": [
      "\r",
      " 28%|██████████████████████▉                                                            | 278/1006 [20:16<58:59,  4.86s/it]"
     ]
    },
    {
     "name": "stdout",
     "output_type": "stream",
     "text": [
      "Image download: ../Data/exports/ndvi/2017-07-23-2017-08-20--116.42907-32.65003_ndvi_bw.tif (512, 512)\n",
      "Image download: ../Data/exports/tc/2017-07-24-2017-08-21--121.90516-37.72543_tc.tif (512, 512)\n"
     ]
    },
    {
     "name": "stderr",
     "output_type": "stream",
     "text": [
      "\r",
      " 28%|███████████████████████                                                            | 279/1006 [20:21<57:52,  4.78s/it]"
     ]
    },
    {
     "name": "stdout",
     "output_type": "stream",
     "text": [
      "Image download: ../Data/exports/ndvi/2017-07-24-2017-08-21--121.90516-37.72543_ndvi_bw.tif (512, 512)\n",
      "Image download: ../Data/exports/tc/2017-07-25-2017-08-22--120.443545-36.099681_tc.tif (512, 512)\n"
     ]
    },
    {
     "name": "stderr",
     "output_type": "stream",
     "text": [
      "\r",
      " 28%|███████████████████████                                                            | 280/1006 [20:26<58:26,  4.83s/it]"
     ]
    },
    {
     "name": "stdout",
     "output_type": "stream",
     "text": [
      "Image download: ../Data/exports/ndvi/2017-07-25-2017-08-22--120.443545-36.099681_ndvi_bw.tif (512, 512)\n",
      "Image download: ../Data/exports/tc/2017-07-26-2017-08-23--120.05404-36.05187_tc.tif (512, 512)\n"
     ]
    },
    {
     "name": "stderr",
     "output_type": "stream",
     "text": [
      "\r",
      " 28%|██████████████████████▋                                                          | 281/1006 [20:32<1:02:40,  5.19s/it]"
     ]
    },
    {
     "name": "stdout",
     "output_type": "stream",
     "text": [
      "Image download: ../Data/exports/ndvi/2017-07-26-2017-08-23--120.05404-36.05187_ndvi_bw.tif (512, 512)\n",
      "Image download: ../Data/exports/tc/2017-07-28-2017-08-25--116.46989-33.20988_tc.tif (512, 512)\n"
     ]
    },
    {
     "name": "stderr",
     "output_type": "stream",
     "text": [
      "\r",
      " 28%|██████████████████████▋                                                          | 282/1006 [20:37<1:00:48,  5.04s/it]"
     ]
    },
    {
     "name": "stdout",
     "output_type": "stream",
     "text": [
      "Image download: ../Data/exports/ndvi/2017-07-28-2017-08-25--116.46989-33.20988_ndvi_bw.tif (512, 512)\n",
      "Image download: ../Data/exports/tc/2017-07-28-2017-08-25--120.48641-40.80968_tc.tif (512, 512)\n"
     ]
    },
    {
     "name": "stderr",
     "output_type": "stream",
     "text": [
      "\r",
      " 28%|██████████████████████▊                                                          | 283/1006 [20:42<1:01:58,  5.14s/it]"
     ]
    },
    {
     "name": "stdout",
     "output_type": "stream",
     "text": [
      "Image download: ../Data/exports/ndvi/2017-07-28-2017-08-25--120.48641-40.80968_ndvi_bw.tif (512, 512)\n",
      "Image download: ../Data/exports/tc/2017-07-28-2017-08-25--119.43376-36.93332_tc.tif (512, 512)\n"
     ]
    },
    {
     "name": "stderr",
     "output_type": "stream",
     "text": [
      "\r",
      " 28%|██████████████████████▊                                                          | 284/1006 [20:48<1:04:40,  5.37s/it]"
     ]
    },
    {
     "name": "stdout",
     "output_type": "stream",
     "text": [
      "Image download: ../Data/exports/ndvi/2017-07-28-2017-08-25--119.43376-36.93332_ndvi_bw.tif (512, 512)\n",
      "Image download: ../Data/exports/tc/2017-07-28-2017-08-25--122.70449-40.29831_tc.tif (512, 512)\n"
     ]
    },
    {
     "name": "stderr",
     "output_type": "stream",
     "text": [
      "\r",
      " 28%|██████████████████████▉                                                          | 285/1006 [20:52<1:01:05,  5.08s/it]"
     ]
    },
    {
     "name": "stdout",
     "output_type": "stream",
     "text": [
      "Image download: ../Data/exports/ndvi/2017-07-28-2017-08-25--122.70449-40.29831_ndvi_bw.tif (512, 512)\n",
      "Image download: ../Data/exports/tc/2017-07-29-2017-08-26--122.71998-38.26294_tc.tif (512, 512)\n"
     ]
    },
    {
     "name": "stderr",
     "output_type": "stream",
     "text": [
      "\r",
      " 28%|███████████████████████                                                          | 286/1006 [20:58<1:02:03,  5.17s/it]"
     ]
    },
    {
     "name": "stdout",
     "output_type": "stream",
     "text": [
      "Image download: ../Data/exports/ndvi/2017-07-29-2017-08-26--122.71998-38.26294_ndvi_bw.tif (512, 512)\n",
      "Image download: ../Data/exports/tc/2017-07-29-2017-08-26--117.3968-33.6444_tc.tif (512, 512)\n"
     ]
    },
    {
     "name": "stderr",
     "output_type": "stream",
     "text": [
      "\r",
      " 29%|███████████████████████▋                                                           | 287/1006 [21:02<59:36,  4.97s/it]"
     ]
    },
    {
     "name": "stdout",
     "output_type": "stream",
     "text": [
      "Image download: ../Data/exports/ndvi/2017-07-29-2017-08-26--117.3968-33.6444_ndvi_bw.tif (512, 512)\n",
      "Image download: ../Data/exports/tc/2017-07-29-2017-08-26--121.56425-37.56181_tc.tif (512, 512)\n"
     ]
    },
    {
     "name": "stderr",
     "output_type": "stream",
     "text": [
      "\r",
      " 29%|███████████████████████▊                                                           | 288/1006 [21:07<58:12,  4.86s/it]"
     ]
    },
    {
     "name": "stdout",
     "output_type": "stream",
     "text": [
      "Image download: ../Data/exports/ndvi/2017-07-29-2017-08-26--121.56425-37.56181_ndvi_bw.tif (512, 512)\n",
      "Image download: ../Data/exports/tc/2017-07-29-2017-08-26--119.28241-36.7279_tc.tif (512, 512)\n"
     ]
    },
    {
     "name": "stderr",
     "output_type": "stream",
     "text": [
      "\r",
      " 29%|███████████████████████▊                                                           | 289/1006 [21:11<56:50,  4.76s/it]"
     ]
    },
    {
     "name": "stdout",
     "output_type": "stream",
     "text": [
      "Image download: ../Data/exports/ndvi/2017-07-29-2017-08-26--119.28241-36.7279_ndvi_bw.tif (512, 512)\n",
      "Image download: ../Data/exports/tc/2017-07-30-2017-08-27--123.63721-41.02705_tc.tif (512, 512)\n"
     ]
    },
    {
     "name": "stderr",
     "output_type": "stream",
     "text": [
      "\r",
      " 29%|███████████████████████▉                                                           | 290/1006 [21:16<55:36,  4.66s/it]"
     ]
    },
    {
     "name": "stdout",
     "output_type": "stream",
     "text": [
      "Image download: ../Data/exports/ndvi/2017-07-30-2017-08-27--123.63721-41.02705_ndvi_bw.tif (512, 512)\n",
      "Image download: ../Data/exports/tc/2017-07-30-2017-08-27--120.72274-38.34421_tc.tif (512, 512)\n"
     ]
    },
    {
     "name": "stderr",
     "output_type": "stream",
     "text": [
      "\r",
      " 29%|████████████████████████                                                           | 291/1006 [21:21<58:25,  4.90s/it]"
     ]
    },
    {
     "name": "stdout",
     "output_type": "stream",
     "text": [
      "Image download: ../Data/exports/ndvi/2017-07-30-2017-08-27--120.72274-38.34421_ndvi_bw.tif (512, 512)\n",
      "Image download: ../Data/exports/tc/2017-07-30-2017-08-27--122.27499-41.222_tc.tif (512, 512)\n"
     ]
    },
    {
     "name": "stderr",
     "output_type": "stream",
     "text": [
      "\r",
      " 29%|████████████████████████                                                           | 292/1006 [21:26<57:06,  4.80s/it]"
     ]
    },
    {
     "name": "stdout",
     "output_type": "stream",
     "text": [
      "Image download: ../Data/exports/ndvi/2017-07-30-2017-08-27--122.27499-41.222_ndvi_bw.tif (512, 512)\n",
      "Image download: ../Data/exports/tc/2017-07-30-2017-08-27--122.292-41.222_tc.tif (512, 512)\n"
     ]
    },
    {
     "name": "stderr",
     "output_type": "stream",
     "text": [
      "\r",
      " 29%|███████████████████████▌                                                         | 293/1006 [21:32<1:02:27,  5.26s/it]"
     ]
    },
    {
     "name": "stdout",
     "output_type": "stream",
     "text": [
      "Image download: ../Data/exports/ndvi/2017-07-30-2017-08-27--122.292-41.222_ndvi_bw.tif (512, 512)\n",
      "Image download: ../Data/exports/tc/2017-07-31-2017-08-28--118.74103-36.15356_tc.tif (512, 512)\n"
     ]
    },
    {
     "name": "stderr",
     "output_type": "stream",
     "text": [
      "\r",
      " 29%|███████████████████████▋                                                         | 294/1006 [21:37<1:02:39,  5.28s/it]"
     ]
    },
    {
     "name": "stdout",
     "output_type": "stream",
     "text": [
      "Image download: ../Data/exports/ndvi/2017-07-31-2017-08-28--118.74103-36.15356_ndvi_bw.tif (512, 512)\n",
      "Image download: ../Data/exports/tc/2017-07-31-2017-08-28--119.64622-37.44663_tc.tif (512, 512)\n"
     ]
    },
    {
     "name": "stderr",
     "output_type": "stream",
     "text": [
      "\r",
      " 29%|███████████████████████▊                                                         | 295/1006 [21:42<1:01:06,  5.16s/it]"
     ]
    },
    {
     "name": "stdout",
     "output_type": "stream",
     "text": [
      "Image download: ../Data/exports/ndvi/2017-07-31-2017-08-28--119.64622-37.44663_ndvi_bw.tif (512, 512)\n",
      "Image download: ../Data/exports/tc/2017-07-31-2017-08-28--121.30209-39.57701_tc.tif (512, 512)\n"
     ]
    },
    {
     "name": "stderr",
     "output_type": "stream",
     "text": [
      "\r",
      " 29%|███████████████████████▊                                                         | 296/1006 [21:48<1:01:53,  5.23s/it]"
     ]
    },
    {
     "name": "stdout",
     "output_type": "stream",
     "text": [
      "Image download: ../Data/exports/ndvi/2017-07-31-2017-08-28--121.30209-39.57701_ndvi_bw.tif (512, 512)\n",
      "Image download: ../Data/exports/tc/2017-07-31-2017-08-28--120.22215-40.43962_tc.tif (512, 512)\n"
     ]
    },
    {
     "name": "stderr",
     "output_type": "stream",
     "text": [
      "\r",
      " 30%|███████████████████████▉                                                         | 297/1006 [21:53<1:02:27,  5.29s/it]"
     ]
    },
    {
     "name": "stdout",
     "output_type": "stream",
     "text": [
      "Image download: ../Data/exports/ndvi/2017-07-31-2017-08-28--120.22215-40.43962_ndvi_bw.tif (512, 512)\n",
      "Image download: ../Data/exports/tc/2017-07-31-2017-08-28--119.55425-38.655_tc.tif (512, 512)\n"
     ]
    },
    {
     "name": "stderr",
     "output_type": "stream",
     "text": [
      "\r",
      " 30%|███████████████████████▉                                                         | 298/1006 [21:58<1:00:56,  5.17s/it]"
     ]
    },
    {
     "name": "stdout",
     "output_type": "stream",
     "text": [
      "Image download: ../Data/exports/ndvi/2017-07-31-2017-08-28--119.55425-38.655_ndvi_bw.tif (512, 512)\n",
      "Image download: ../Data/exports/tc/2017-07-31-2017-08-28--121.90077-41.99483_tc.tif (512, 512)\n"
     ]
    },
    {
     "name": "stderr",
     "output_type": "stream",
     "text": [
      "\r",
      " 30%|████████████████████████                                                         | 299/1006 [22:03<1:00:09,  5.11s/it]"
     ]
    },
    {
     "name": "stdout",
     "output_type": "stream",
     "text": [
      "Image download: ../Data/exports/ndvi/2017-07-31-2017-08-28--121.90077-41.99483_ndvi_bw.tif (512, 512)\n",
      "Image download: ../Data/exports/tc/2017-08-01-2017-08-29--119.93499-40.69573_tc.tif (512, 512)\n"
     ]
    },
    {
     "name": "stderr",
     "output_type": "stream",
     "text": [
      "\r",
      " 30%|████████████████████████▏                                                        | 300/1006 [22:09<1:02:15,  5.29s/it]"
     ]
    },
    {
     "name": "stdout",
     "output_type": "stream",
     "text": [
      "Image download: ../Data/exports/ndvi/2017-08-01-2017-08-29--119.93499-40.69573_ndvi_bw.tif (512, 512)\n",
      "Image download: ../Data/exports/tc/2017-08-01-2017-08-29--120.36659-41.4844_tc.tif (512, 512)\n"
     ]
    },
    {
     "name": "stderr",
     "output_type": "stream",
     "text": [
      "\r",
      " 30%|████████████████████████▏                                                        | 301/1006 [22:14<1:00:55,  5.19s/it]"
     ]
    },
    {
     "name": "stdout",
     "output_type": "stream",
     "text": [
      "Image download: ../Data/exports/ndvi/2017-08-01-2017-08-29--120.36659-41.4844_ndvi_bw.tif (512, 512)\n",
      "Image download: ../Data/exports/tc/2017-08-01-2017-08-29--120.31814-41.64469_tc.tif (512, 512)\n"
     ]
    },
    {
     "name": "stderr",
     "output_type": "stream",
     "text": [
      "\r",
      " 30%|████████████████████████▎                                                        | 302/1006 [22:19<1:01:12,  5.22s/it]"
     ]
    },
    {
     "name": "stdout",
     "output_type": "stream",
     "text": [
      "Image download: ../Data/exports/ndvi/2017-08-01-2017-08-29--120.31814-41.64469_ndvi_bw.tif (512, 512)\n",
      "Image download: ../Data/exports/tc/2017-08-01-2017-08-29--121.12004-39.34292_tc.tif (512, 512)\n"
     ]
    },
    {
     "name": "stderr",
     "output_type": "stream",
     "text": [
      "\r",
      " 30%|████████████████████████▉                                                          | 303/1006 [22:23<57:09,  4.88s/it]"
     ]
    },
    {
     "name": "stdout",
     "output_type": "stream",
     "text": [
      "Image download: ../Data/exports/ndvi/2017-08-01-2017-08-29--121.12004-39.34292_ndvi_bw.tif (512, 512)\n",
      "Image download: ../Data/exports/tc/2017-08-01-2017-08-29--120.32685-36.36113_tc.tif (512, 512)\n"
     ]
    },
    {
     "name": "stderr",
     "output_type": "stream",
     "text": [
      "\r",
      " 30%|█████████████████████████                                                          | 304/1006 [22:28<57:33,  4.92s/it]"
     ]
    },
    {
     "name": "stdout",
     "output_type": "stream",
     "text": [
      "Image download: ../Data/exports/ndvi/2017-08-01-2017-08-29--120.32685-36.36113_ndvi_bw.tif (512, 512)\n",
      "Image download: ../Data/exports/tc/2017-08-01-2017-08-29--123.10003-40.76025_tc.tif (512, 512)\n"
     ]
    },
    {
     "name": "stderr",
     "output_type": "stream",
     "text": [
      "\r",
      " 30%|█████████████████████████▏                                                         | 305/1006 [22:33<56:42,  4.85s/it]"
     ]
    },
    {
     "name": "stdout",
     "output_type": "stream",
     "text": [
      "Image download: ../Data/exports/ndvi/2017-08-01-2017-08-29--123.10003-40.76025_ndvi_bw.tif (512, 512)\n",
      "Image download: ../Data/exports/tc/2017-08-02-2017-08-30-34.015742-117.337331_tc.tif (512, 512)\n"
     ]
    },
    {
     "name": "stderr",
     "output_type": "stream",
     "text": [
      "\r",
      " 30%|█████████████████████████▏                                                         | 306/1006 [22:38<58:42,  5.03s/it]"
     ]
    },
    {
     "name": "stdout",
     "output_type": "stream",
     "text": [
      "Image download: ../Data/exports/ndvi/2017-08-02-2017-08-30-34.015742-117.337331_ndvi_bw.tif (512, 512)\n",
      "Image download: ../Data/exports/tc/2017-08-02-2017-08-30--123.64214-40.03697_tc.tif (512, 512)\n"
     ]
    },
    {
     "name": "stderr",
     "output_type": "stream",
     "text": [
      "\r",
      " 31%|█████████████████████████▎                                                         | 307/1006 [22:42<55:13,  4.74s/it]"
     ]
    },
    {
     "name": "stdout",
     "output_type": "stream",
     "text": [
      "Image download: ../Data/exports/ndvi/2017-08-02-2017-08-30--123.64214-40.03697_ndvi_bw.tif (512, 512)\n",
      "Image download: ../Data/exports/tc/2017-08-02-2017-08-30--118.62882-34.52055_tc.tif (512, 512)\n"
     ]
    },
    {
     "name": "stderr",
     "output_type": "stream",
     "text": [
      "\r",
      " 31%|█████████████████████████▍                                                         | 308/1006 [22:47<56:50,  4.89s/it]"
     ]
    },
    {
     "name": "stdout",
     "output_type": "stream",
     "text": [
      "Image download: ../Data/exports/ndvi/2017-08-02-2017-08-30--118.62882-34.52055_ndvi_bw.tif (512, 512)\n",
      "Image download: ../Data/exports/tc/2017-08-03-2017-08-31--116.76997-32.6001_tc.tif (512, 512)\n"
     ]
    },
    {
     "name": "stderr",
     "output_type": "stream",
     "text": [
      "\r",
      " 31%|████████████████████████▉                                                        | 309/1006 [22:54<1:00:48,  5.23s/it]"
     ]
    },
    {
     "name": "stdout",
     "output_type": "stream",
     "text": [
      "Image download: ../Data/exports/ndvi/2017-08-03-2017-08-31--116.76997-32.6001_ndvi_bw.tif (512, 512)\n",
      "Image download: ../Data/exports/tc/2017-08-03-2017-08-31--122.02525-40.71923_tc.tif (512, 512)\n"
     ]
    },
    {
     "name": "stderr",
     "output_type": "stream",
     "text": [
      "\r",
      " 31%|█████████████████████████▌                                                         | 310/1006 [22:58<57:43,  4.98s/it]"
     ]
    },
    {
     "name": "stdout",
     "output_type": "stream",
     "text": [
      "Image download: ../Data/exports/ndvi/2017-08-03-2017-08-31--122.02525-40.71923_ndvi_bw.tif (512, 512)\n",
      "Image download: ../Data/exports/tc/2017-08-03-2017-08-31--118.2674-34.22957_tc.tif (512, 512)\n"
     ]
    },
    {
     "name": "stderr",
     "output_type": "stream",
     "text": [
      "\r",
      " 31%|█████████████████████████▋                                                         | 311/1006 [23:02<54:45,  4.73s/it]"
     ]
    },
    {
     "name": "stdout",
     "output_type": "stream",
     "text": [
      "Image download: ../Data/exports/ndvi/2017-08-03-2017-08-31--118.2674-34.22957_ndvi_bw.tif (512, 512)\n",
      "Image download: ../Data/exports/tc/2017-08-03-2017-08-31--118.406-35.76_tc.tif (512, 512)\n"
     ]
    },
    {
     "name": "stderr",
     "output_type": "stream",
     "text": [
      "\r",
      " 31%|█████████████████████████▋                                                         | 312/1006 [23:07<55:46,  4.82s/it]"
     ]
    },
    {
     "name": "stdout",
     "output_type": "stream",
     "text": [
      "Image download: ../Data/exports/ndvi/2017-08-03-2017-08-31--118.406-35.76_ndvi_bw.tif (512, 512)\n",
      "Image download: ../Data/exports/tc/2017-08-04-2017-09-01--117.09984-33.97471_tc.tif (512, 512)\n"
     ]
    },
    {
     "name": "stderr",
     "output_type": "stream",
     "text": [
      "\r",
      " 31%|█████████████████████████▊                                                         | 313/1006 [23:11<53:49,  4.66s/it]"
     ]
    },
    {
     "name": "stdout",
     "output_type": "stream",
     "text": [
      "Image download: ../Data/exports/ndvi/2017-08-04-2017-09-01--117.09984-33.97471_ndvi_bw.tif (512, 512)\n",
      "Image download: ../Data/exports/tc/2017-08-05-2017-09-02--120.52189-36.09486_tc.tif (512, 512)\n"
     ]
    },
    {
     "name": "stderr",
     "output_type": "stream",
     "text": [
      "\r",
      " 31%|█████████████████████████▉                                                         | 314/1006 [23:16<53:49,  4.67s/it]"
     ]
    },
    {
     "name": "stdout",
     "output_type": "stream",
     "text": [
      "Image download: ../Data/exports/ndvi/2017-08-05-2017-09-02--120.52189-36.09486_ndvi_bw.tif (512, 512)\n",
      "Image download: ../Data/exports/tc/2017-08-05-2017-09-02--119.48067-37.21616_tc.tif (512, 512)\n"
     ]
    },
    {
     "name": "stderr",
     "output_type": "stream",
     "text": [
      "\r",
      " 31%|█████████████████████████▉                                                         | 315/1006 [23:20<52:10,  4.53s/it]"
     ]
    },
    {
     "name": "stdout",
     "output_type": "stream",
     "text": [
      "Image download: ../Data/exports/ndvi/2017-08-05-2017-09-02--119.48067-37.21616_ndvi_bw.tif (512, 512)\n",
      "Image download: ../Data/exports/tc/2017-08-05-2017-09-02--119.83556-37.37397_tc.tif (512, 512)\n"
     ]
    },
    {
     "name": "stderr",
     "output_type": "stream",
     "text": [
      "\r",
      " 31%|██████████████████████████                                                         | 316/1006 [23:25<51:28,  4.48s/it]"
     ]
    },
    {
     "name": "stdout",
     "output_type": "stream",
     "text": [
      "Image download: ../Data/exports/ndvi/2017-08-05-2017-09-02--119.83556-37.37397_ndvi_bw.tif (512, 512)\n",
      "Image download: ../Data/exports/tc/2017-08-05-2017-09-02--119.941-38.12_tc.tif (512, 512)\n"
     ]
    },
    {
     "name": "stderr",
     "output_type": "stream",
     "text": [
      "\r",
      " 32%|██████████████████████████▏                                                        | 317/1006 [23:29<51:34,  4.49s/it]"
     ]
    },
    {
     "name": "stdout",
     "output_type": "stream",
     "text": [
      "Image download: ../Data/exports/ndvi/2017-08-05-2017-09-02--119.941-38.12_ndvi_bw.tif (512, 512)\n",
      "Image download: ../Data/exports/tc/2017-08-05-2017-09-02--120.50886-35.31886_tc.tif (512, 512)\n"
     ]
    },
    {
     "name": "stderr",
     "output_type": "stream",
     "text": [
      "\r",
      " 32%|██████████████████████████▏                                                        | 318/1006 [23:34<54:03,  4.71s/it]"
     ]
    },
    {
     "name": "stdout",
     "output_type": "stream",
     "text": [
      "Image download: ../Data/exports/ndvi/2017-08-05-2017-09-02--120.50886-35.31886_ndvi_bw.tif (512, 512)\n",
      "Image download: ../Data/exports/tc/2017-08-05-2017-09-02--121.59899-36.99092_tc.tif (512, 512)\n"
     ]
    },
    {
     "name": "stderr",
     "output_type": "stream",
     "text": [
      "\r",
      " 32%|██████████████████████████▎                                                        | 319/1006 [23:39<54:18,  4.74s/it]"
     ]
    },
    {
     "name": "stdout",
     "output_type": "stream",
     "text": [
      "Image download: ../Data/exports/ndvi/2017-08-05-2017-09-02--121.59899-36.99092_ndvi_bw.tif (512, 512)\n",
      "Image download: ../Data/exports/tc/2017-08-05-2017-09-02--120.9204-40.13278_tc.tif (512, 512)\n"
     ]
    },
    {
     "name": "stderr",
     "output_type": "stream",
     "text": [
      "\r",
      " 32%|██████████████████████████▍                                                        | 320/1006 [23:44<55:27,  4.85s/it]"
     ]
    },
    {
     "name": "stdout",
     "output_type": "stream",
     "text": [
      "Image download: ../Data/exports/ndvi/2017-08-05-2017-09-02--120.9204-40.13278_ndvi_bw.tif (512, 512)\n",
      "Image download: ../Data/exports/tc/2017-08-07-2017-09-04--122.49327-39.01748_tc.tif (512, 512)\n"
     ]
    },
    {
     "name": "stderr",
     "output_type": "stream",
     "text": [
      "\r",
      " 32%|██████████████████████████▍                                                        | 321/1006 [23:49<55:45,  4.88s/it]"
     ]
    },
    {
     "name": "stdout",
     "output_type": "stream",
     "text": [
      "Image download: ../Data/exports/ndvi/2017-08-07-2017-09-04--122.49327-39.01748_ndvi_bw.tif (512, 512)\n",
      "Image download: ../Data/exports/tc/2017-08-07-2017-09-04--120.75485-39.75312_tc.tif (512, 512)\n"
     ]
    },
    {
     "name": "stderr",
     "output_type": "stream",
     "text": [
      "\r",
      " 32%|██████████████████████████▌                                                        | 322/1006 [23:54<54:17,  4.76s/it]"
     ]
    },
    {
     "name": "stdout",
     "output_type": "stream",
     "text": [
      "Image download: ../Data/exports/ndvi/2017-08-07-2017-09-04--120.75485-39.75312_ndvi_bw.tif (512, 512)\n",
      "Image download: ../Data/exports/tc/2017-08-09-2017-09-06--119.78256-37.73596_tc.tif (512, 512)\n"
     ]
    },
    {
     "name": "stderr",
     "output_type": "stream",
     "text": [
      "\r",
      " 32%|██████████████████████████▋                                                        | 323/1006 [23:58<53:16,  4.68s/it]"
     ]
    },
    {
     "name": "stdout",
     "output_type": "stream",
     "text": [
      "Image download: ../Data/exports/ndvi/2017-08-09-2017-09-06--119.78256-37.73596_ndvi_bw.tif (512, 512)\n",
      "Image download: ../Data/exports/tc/2017-08-09-2017-09-06--116.61609-32.59252_tc.tif (512, 512)\n"
     ]
    },
    {
     "name": "stderr",
     "output_type": "stream",
     "text": [
      "\r",
      " 32%|██████████████████████████▋                                                        | 324/1006 [24:03<52:09,  4.59s/it]"
     ]
    },
    {
     "name": "stdout",
     "output_type": "stream",
     "text": [
      "Image download: ../Data/exports/ndvi/2017-08-09-2017-09-06--116.61609-32.59252_ndvi_bw.tif (512, 512)\n",
      "Image download: ../Data/exports/tc/2017-08-12-2017-09-09--117.33364-33.73547_tc.tif (512, 512)\n"
     ]
    },
    {
     "name": "stderr",
     "output_type": "stream",
     "text": [
      "\r",
      " 32%|██████████████████████████▊                                                        | 325/1006 [24:07<51:54,  4.57s/it]"
     ]
    },
    {
     "name": "stdout",
     "output_type": "stream",
     "text": [
      "Image download: ../Data/exports/ndvi/2017-08-12-2017-09-09--117.33364-33.73547_ndvi_bw.tif (512, 512)\n",
      "Image download: ../Data/exports/tc/2017-08-13-2017-09-10--119.32109-37.10067_tc.tif (512, 512)\n"
     ]
    },
    {
     "name": "stderr",
     "output_type": "stream",
     "text": [
      "\r",
      " 32%|██████████████████████████▉                                                        | 326/1006 [24:11<50:27,  4.45s/it]"
     ]
    },
    {
     "name": "stdout",
     "output_type": "stream",
     "text": [
      "Image download: ../Data/exports/ndvi/2017-08-13-2017-09-10--119.32109-37.10067_ndvi_bw.tif (512, 512)\n",
      "Image download: ../Data/exports/tc/2017-08-13-2017-09-10--120.87609-36.17297_tc.tif (512, 512)\n"
     ]
    },
    {
     "name": "stderr",
     "output_type": "stream",
     "text": [
      "\r",
      " 33%|██████████████████████████▉                                                        | 327/1006 [24:16<51:27,  4.55s/it]"
     ]
    },
    {
     "name": "stdout",
     "output_type": "stream",
     "text": [
      "Image download: ../Data/exports/ndvi/2017-08-13-2017-09-10--120.87609-36.17297_ndvi_bw.tif (512, 512)\n",
      "Image download: ../Data/exports/tc/2017-08-13-2017-09-10--122.3001-37.41591_tc.tif (512, 512)\n"
     ]
    },
    {
     "name": "stderr",
     "output_type": "stream",
     "text": [
      "\r",
      " 33%|███████████████████████████                                                        | 328/1006 [24:20<50:30,  4.47s/it]"
     ]
    },
    {
     "name": "stdout",
     "output_type": "stream",
     "text": [
      "Image download: ../Data/exports/ndvi/2017-08-13-2017-09-10--122.3001-37.41591_ndvi_bw.tif (512, 512)\n",
      "Image download: ../Data/exports/tc/2017-08-14-2017-09-11--121.81623-40.98352_tc.tif (512, 512)\n"
     ]
    },
    {
     "name": "stderr",
     "output_type": "stream",
     "text": [
      "\r",
      " 33%|███████████████████████████▏                                                       | 329/1006 [24:25<51:55,  4.60s/it]"
     ]
    },
    {
     "name": "stdout",
     "output_type": "stream",
     "text": [
      "Image download: ../Data/exports/ndvi/2017-08-14-2017-09-11--121.81623-40.98352_ndvi_bw.tif (512, 512)\n",
      "Image download: ../Data/exports/tc/2017-08-14-2017-09-11--124.01168-41.98128_tc.tif (512, 512)\n"
     ]
    },
    {
     "name": "stderr",
     "output_type": "stream",
     "text": [
      "\r",
      " 33%|███████████████████████████▏                                                       | 330/1006 [24:30<51:59,  4.62s/it]"
     ]
    },
    {
     "name": "stdout",
     "output_type": "stream",
     "text": [
      "Image download: ../Data/exports/ndvi/2017-08-14-2017-09-11--124.01168-41.98128_ndvi_bw.tif (512, 512)\n",
      "Image download: ../Data/exports/tc/2017-08-14-2017-09-11--122.85194-39.44543_tc.tif (512, 512)\n"
     ]
    },
    {
     "name": "stderr",
     "output_type": "stream",
     "text": [
      "\r",
      " 33%|███████████████████████████▎                                                       | 331/1006 [24:34<51:19,  4.56s/it]"
     ]
    },
    {
     "name": "stdout",
     "output_type": "stream",
     "text": [
      "Image download: ../Data/exports/ndvi/2017-08-14-2017-09-11--122.85194-39.44543_ndvi_bw.tif (512, 512)\n",
      "Image download: ../Data/exports/tc/2017-08-14-2017-09-11--123.03344-39.42604_tc.tif (512, 512)\n"
     ]
    },
    {
     "name": "stderr",
     "output_type": "stream",
     "text": [
      "\r",
      " 33%|███████████████████████████▍                                                       | 332/1006 [24:39<51:43,  4.60s/it]"
     ]
    },
    {
     "name": "stdout",
     "output_type": "stream",
     "text": [
      "Image download: ../Data/exports/ndvi/2017-08-14-2017-09-11--123.03344-39.42604_ndvi_bw.tif (512, 512)\n",
      "Image download: ../Data/exports/tc/2017-08-14-2017-09-11--121.60683-39.44257_tc.tif (512, 512)\n"
     ]
    },
    {
     "name": "stderr",
     "output_type": "stream",
     "text": [
      "\r",
      " 33%|███████████████████████████▍                                                       | 333/1006 [24:44<51:21,  4.58s/it]"
     ]
    },
    {
     "name": "stdout",
     "output_type": "stream",
     "text": [
      "Image download: ../Data/exports/ndvi/2017-08-14-2017-09-11--121.60683-39.44257_ndvi_bw.tif (512, 512)\n",
      "Image download: ../Data/exports/tc/2017-08-14-2017-09-11--123.03583-40.2275_tc.tif (512, 512)\n"
     ]
    },
    {
     "name": "stderr",
     "output_type": "stream",
     "text": [
      "\r",
      " 33%|███████████████████████████▌                                                       | 334/1006 [24:48<49:25,  4.41s/it]"
     ]
    },
    {
     "name": "stdout",
     "output_type": "stream",
     "text": [
      "Image download: ../Data/exports/ndvi/2017-08-14-2017-09-11--123.03583-40.2275_ndvi_bw.tif (512, 512)\n",
      "Image download: ../Data/exports/tc/2017-08-19-2017-09-16--120.915-38.5758_tc.tif (512, 512)\n"
     ]
    },
    {
     "name": "stderr",
     "output_type": "stream",
     "text": [
      "\r",
      " 33%|███████████████████████████▋                                                       | 335/1006 [24:52<49:09,  4.40s/it]"
     ]
    },
    {
     "name": "stdout",
     "output_type": "stream",
     "text": [
      "Image download: ../Data/exports/ndvi/2017-08-19-2017-09-16--120.915-38.5758_ndvi_bw.tif (512, 512)\n",
      "Image download: ../Data/exports/tc/2017-08-20-2017-09-17--120.015509-37.14624_tc.tif (512, 512)\n"
     ]
    },
    {
     "name": "stderr",
     "output_type": "stream",
     "text": [
      "\r",
      " 33%|███████████████████████████▋                                                       | 336/1006 [24:57<51:58,  4.66s/it]"
     ]
    },
    {
     "name": "stdout",
     "output_type": "stream",
     "text": [
      "Image download: ../Data/exports/ndvi/2017-08-20-2017-09-17--120.015509-37.14624_ndvi_bw.tif (512, 512)\n",
      "Image download: ../Data/exports/tc/2017-08-21-2017-09-18--120.504134-37.896778_tc.tif (512, 512)\n"
     ]
    },
    {
     "name": "stderr",
     "output_type": "stream",
     "text": [
      "\r",
      " 33%|███████████████████████████▊                                                       | 337/1006 [25:03<57:17,  5.14s/it]"
     ]
    },
    {
     "name": "stdout",
     "output_type": "stream",
     "text": [
      "Image download: ../Data/exports/ndvi/2017-08-21-2017-09-18--120.504134-37.896778_ndvi_bw.tif (512, 512)\n",
      "Image download: ../Data/exports/tc/2017-08-21-2017-09-18--123.1362-39.02482_tc.tif (512, 512)\n"
     ]
    },
    {
     "name": "stderr",
     "output_type": "stream",
     "text": [
      "\r",
      " 34%|███████████████████████████▉                                                       | 338/1006 [25:08<54:59,  4.94s/it]"
     ]
    },
    {
     "name": "stdout",
     "output_type": "stream",
     "text": [
      "Image download: ../Data/exports/ndvi/2017-08-21-2017-09-18--123.1362-39.02482_ndvi_bw.tif (512, 512)\n",
      "Image download: ../Data/exports/tc/2017-08-21-2017-09-18--121.49925-37.63358_tc.tif (512, 512)\n"
     ]
    },
    {
     "name": "stderr",
     "output_type": "stream",
     "text": [
      "\r",
      " 34%|███████████████████████████▉                                                       | 339/1006 [25:12<53:08,  4.78s/it]"
     ]
    },
    {
     "name": "stdout",
     "output_type": "stream",
     "text": [
      "Image download: ../Data/exports/ndvi/2017-08-21-2017-09-18--121.49925-37.63358_ndvi_bw.tif (512, 512)\n",
      "Image download: ../Data/exports/tc/2017-08-21-2017-09-18--120.31598-36.24653_tc.tif (512, 512)\n"
     ]
    },
    {
     "name": "stderr",
     "output_type": "stream",
     "text": [
      "\r",
      " 34%|████████████████████████████                                                       | 340/1006 [25:18<54:27,  4.91s/it]"
     ]
    },
    {
     "name": "stdout",
     "output_type": "stream",
     "text": [
      "Image download: ../Data/exports/ndvi/2017-08-21-2017-09-18--120.31598-36.24653_ndvi_bw.tif (512, 512)\n",
      "Image download: ../Data/exports/tc/2017-08-22-2017-09-19--120.39387-35.12269_tc.tif (512, 512)\n"
     ]
    },
    {
     "name": "stderr",
     "output_type": "stream",
     "text": [
      "\r",
      " 34%|████████████████████████████▏                                                      | 341/1006 [25:22<52:42,  4.76s/it]"
     ]
    },
    {
     "name": "stdout",
     "output_type": "stream",
     "text": [
      "Image download: ../Data/exports/ndvi/2017-08-22-2017-09-19--120.39387-35.12269_ndvi_bw.tif (512, 512)\n",
      "Image download: ../Data/exports/tc/2017-08-22-2017-09-19--120.15846-37.76888_tc.tif (512, 512)\n"
     ]
    },
    {
     "name": "stderr",
     "output_type": "stream",
     "text": [
      "\r",
      " 34%|████████████████████████████▏                                                      | 342/1006 [25:28<56:08,  5.07s/it]"
     ]
    },
    {
     "name": "stdout",
     "output_type": "stream",
     "text": [
      "Image download: ../Data/exports/ndvi/2017-08-22-2017-09-19--120.15846-37.76888_ndvi_bw.tif (512, 512)\n",
      "Image download: ../Data/exports/tc/2017-08-22-2017-09-19--120.90462-36.94652_tc.tif (512, 512)\n"
     ]
    },
    {
     "name": "stderr",
     "output_type": "stream",
     "text": [
      "\r",
      " 34%|████████████████████████████▎                                                      | 343/1006 [25:34<58:24,  5.29s/it]"
     ]
    },
    {
     "name": "stdout",
     "output_type": "stream",
     "text": [
      "Image download: ../Data/exports/ndvi/2017-08-22-2017-09-19--120.90462-36.94652_ndvi_bw.tif (512, 512)\n",
      "Image download: ../Data/exports/tc/2017-08-25-2017-09-22--122.0041-38.4446_tc.tif (512, 512)\n"
     ]
    },
    {
     "name": "stderr",
     "output_type": "stream",
     "text": [
      "\r",
      " 34%|████████████████████████████▍                                                      | 344/1006 [25:38<55:41,  5.05s/it]"
     ]
    },
    {
     "name": "stdout",
     "output_type": "stream",
     "text": [
      "Image download: ../Data/exports/ndvi/2017-08-25-2017-09-22--122.0041-38.4446_ndvi_bw.tif (512, 512)\n",
      "Image download: ../Data/exports/tc/2017-08-25-2017-09-22--121.04445-35.76343_tc.tif (512, 512)\n"
     ]
    },
    {
     "name": "stderr",
     "output_type": "stream",
     "text": [
      "\r",
      " 34%|████████████████████████████▍                                                      | 345/1006 [25:42<53:05,  4.82s/it]"
     ]
    },
    {
     "name": "stdout",
     "output_type": "stream",
     "text": [
      "Image download: ../Data/exports/ndvi/2017-08-25-2017-09-22--121.04445-35.76343_ndvi_bw.tif (512, 512)\n",
      "Image download: ../Data/exports/tc/2017-08-27-2017-09-24--121.7127-39.8255_tc.tif (512, 512)\n"
     ]
    },
    {
     "name": "stderr",
     "output_type": "stream",
     "text": [
      "\r",
      " 34%|████████████████████████████▌                                                      | 346/1006 [25:47<51:36,  4.69s/it]"
     ]
    },
    {
     "name": "stdout",
     "output_type": "stream",
     "text": [
      "Image download: ../Data/exports/ndvi/2017-08-27-2017-09-24--121.7127-39.8255_ndvi_bw.tif (512, 512)\n",
      "Image download: ../Data/exports/tc/2017-08-27-2017-09-24--117.68598-33.8668_tc.tif (512, 512)\n"
     ]
    },
    {
     "name": "stderr",
     "output_type": "stream",
     "text": [
      "\r",
      " 34%|████████████████████████████▋                                                      | 347/1006 [25:51<50:07,  4.56s/it]"
     ]
    },
    {
     "name": "stdout",
     "output_type": "stream",
     "text": [
      "Image download: ../Data/exports/ndvi/2017-08-27-2017-09-24--117.68598-33.8668_ndvi_bw.tif (512, 512)\n",
      "Image download: ../Data/exports/tc/2017-08-28-2017-09-25--122.169-37.77982_tc.tif (512, 512)\n"
     ]
    },
    {
     "name": "stderr",
     "output_type": "stream",
     "text": [
      "\r",
      " 35%|████████████████████████████▋                                                      | 348/1006 [25:55<48:35,  4.43s/it]"
     ]
    },
    {
     "name": "stdout",
     "output_type": "stream",
     "text": [
      "Image download: ../Data/exports/ndvi/2017-08-28-2017-09-25--122.169-37.77982_ndvi_bw.tif (512, 512)\n",
      "Image download: ../Data/exports/tc/2017-08-28-2017-09-25--121.40947-39.03168_tc.tif (512, 512)\n"
     ]
    },
    {
     "name": "stderr",
     "output_type": "stream",
     "text": [
      "\r",
      " 35%|████████████████████████████▊                                                      | 349/1006 [25:59<47:17,  4.32s/it]"
     ]
    },
    {
     "name": "stdout",
     "output_type": "stream",
     "text": [
      "Image download: ../Data/exports/ndvi/2017-08-28-2017-09-25--121.40947-39.03168_ndvi_bw.tif (512, 512)\n",
      "Image download: ../Data/exports/tc/2017-08-28-2017-09-25--120.65279-35.3024_tc.tif (512, 512)\n"
     ]
    },
    {
     "name": "stderr",
     "output_type": "stream",
     "text": [
      "\r",
      " 35%|████████████████████████████▉                                                      | 350/1006 [26:04<47:18,  4.33s/it]"
     ]
    },
    {
     "name": "stdout",
     "output_type": "stream",
     "text": [
      "Image download: ../Data/exports/ndvi/2017-08-28-2017-09-25--120.65279-35.3024_ndvi_bw.tif (512, 512)\n",
      "Image download: ../Data/exports/tc/2017-08-28-2017-09-25--120.56068-35.5956_tc.tif (512, 512)\n"
     ]
    },
    {
     "name": "stderr",
     "output_type": "stream",
     "text": [
      "\r",
      " 35%|████████████████████████████▉                                                      | 351/1006 [26:08<48:28,  4.44s/it]"
     ]
    },
    {
     "name": "stdout",
     "output_type": "stream",
     "text": [
      "Image download: ../Data/exports/ndvi/2017-08-28-2017-09-25--120.56068-35.5956_ndvi_bw.tif (512, 512)\n",
      "Image download: ../Data/exports/tc/2017-08-29-2017-09-26--118.48555-36.27138_tc.tif (512, 512)\n"
     ]
    },
    {
     "name": "stderr",
     "output_type": "stream",
     "text": [
      "\r",
      " 35%|█████████████████████████████                                                      | 352/1006 [26:13<49:09,  4.51s/it]"
     ]
    },
    {
     "name": "stdout",
     "output_type": "stream",
     "text": [
      "Image download: ../Data/exports/ndvi/2017-08-29-2017-09-26--118.48555-36.27138_ndvi_bw.tif (512, 512)\n",
      "Image download: ../Data/exports/tc/2017-08-30-2017-09-27--121.56858-40.07613_tc.tif (512, 512)\n"
     ]
    },
    {
     "name": "stderr",
     "output_type": "stream",
     "text": [
      "\r",
      " 35%|█████████████████████████████                                                      | 353/1006 [26:18<49:54,  4.59s/it]"
     ]
    },
    {
     "name": "stdout",
     "output_type": "stream",
     "text": [
      "Image download: ../Data/exports/ndvi/2017-08-30-2017-09-27--121.56858-40.07613_ndvi_bw.tif (512, 512)\n",
      "Image download: ../Data/exports/tc/2017-08-31-2017-09-28--120.4393-34.67403_tc.tif (512, 512)\n"
     ]
    },
    {
     "name": "stderr",
     "output_type": "stream",
     "text": [
      "\r",
      " 35%|█████████████████████████████▏                                                     | 354/1006 [26:22<49:50,  4.59s/it]"
     ]
    },
    {
     "name": "stdout",
     "output_type": "stream",
     "text": [
      "Image download: ../Data/exports/ndvi/2017-08-31-2017-09-28--120.4393-34.67403_ndvi_bw.tif (512, 512)\n",
      "Image download: ../Data/exports/tc/2017-08-31-2017-09-28--118.46734-35.59302_tc.tif (512, 512)\n"
     ]
    },
    {
     "name": "stderr",
     "output_type": "stream",
     "text": [
      "\r",
      " 35%|█████████████████████████████▎                                                     | 355/1006 [26:27<51:28,  4.74s/it]"
     ]
    },
    {
     "name": "stdout",
     "output_type": "stream",
     "text": [
      "Image download: ../Data/exports/ndvi/2017-08-31-2017-09-28--118.46734-35.59302_ndvi_bw.tif (512, 512)\n",
      "Image download: ../Data/exports/tc/2017-08-31-2017-09-28--117.10301-33.74925_tc.tif (512, 512)\n"
     ]
    },
    {
     "name": "stderr",
     "output_type": "stream",
     "text": [
      "\r",
      " 35%|█████████████████████████████▎                                                     | 356/1006 [26:32<50:55,  4.70s/it]"
     ]
    },
    {
     "name": "stdout",
     "output_type": "stream",
     "text": [
      "Image download: ../Data/exports/ndvi/2017-08-31-2017-09-28--117.10301-33.74925_ndvi_bw.tif (512, 512)\n",
      "Image download: ../Data/exports/tc/2017-09-03-2017-10-01--121.97233-38.43658_tc.tif (512, 512)\n"
     ]
    },
    {
     "name": "stderr",
     "output_type": "stream",
     "text": [
      "\r",
      " 35%|█████████████████████████████▍                                                     | 357/1006 [26:36<49:23,  4.57s/it]"
     ]
    },
    {
     "name": "stdout",
     "output_type": "stream",
     "text": [
      "Image download: ../Data/exports/ndvi/2017-09-03-2017-10-01--121.97233-38.43658_ndvi_bw.tif (512, 512)\n",
      "Image download: ../Data/exports/tc/2017-09-04-2017-10-02--119.87465-37.41231_tc.tif (512, 512)\n"
     ]
    },
    {
     "name": "stderr",
     "output_type": "stream",
     "text": [
      "\r",
      " 36%|█████████████████████████████▌                                                     | 358/1006 [26:40<47:47,  4.43s/it]"
     ]
    },
    {
     "name": "stdout",
     "output_type": "stream",
     "text": [
      "Image download: ../Data/exports/ndvi/2017-09-04-2017-10-02--119.87465-37.41231_ndvi_bw.tif (512, 512)\n",
      "Image download: ../Data/exports/tc/2017-09-04-2017-10-02--122.24731-40.20077_tc.tif (512, 512)\n"
     ]
    },
    {
     "name": "stderr",
     "output_type": "stream",
     "text": [
      "\r",
      " 36%|█████████████████████████████▌                                                     | 359/1006 [26:45<47:57,  4.45s/it]"
     ]
    },
    {
     "name": "stdout",
     "output_type": "stream",
     "text": [
      "Image download: ../Data/exports/ndvi/2017-09-04-2017-10-02--122.24731-40.20077_ndvi_bw.tif (512, 512)\n",
      "Image download: ../Data/exports/tc/2017-09-07-2017-10-05--122.576-39.15016_tc.tif (512, 512)\n"
     ]
    },
    {
     "name": "stderr",
     "output_type": "stream",
     "text": [
      "\r",
      " 36%|█████████████████████████████▋                                                     | 360/1006 [26:49<47:06,  4.38s/it]"
     ]
    },
    {
     "name": "stdout",
     "output_type": "stream",
     "text": [
      "Image download: ../Data/exports/ndvi/2017-09-07-2017-10-05--122.576-39.15016_ndvi_bw.tif (512, 512)\n",
      "Image download: ../Data/exports/tc/2017-09-08-2017-10-06--123.24713-38.51937_tc.tif (512, 512)\n"
     ]
    },
    {
     "name": "stderr",
     "output_type": "stream",
     "text": [
      "\r",
      " 36%|█████████████████████████████▊                                                     | 361/1006 [26:54<49:58,  4.65s/it]"
     ]
    },
    {
     "name": "stdout",
     "output_type": "stream",
     "text": [
      "Image download: ../Data/exports/ndvi/2017-09-08-2017-10-06--123.24713-38.51937_ndvi_bw.tif (512, 512)\n",
      "Image download: ../Data/exports/tc/2017-09-09-2017-10-07--122.24199-40.70627_tc.tif (512, 512)\n"
     ]
    },
    {
     "name": "stderr",
     "output_type": "stream",
     "text": [
      "\r",
      " 36%|█████████████████████████████▊                                                     | 362/1006 [26:59<48:39,  4.53s/it]"
     ]
    },
    {
     "name": "stdout",
     "output_type": "stream",
     "text": [
      "Image download: ../Data/exports/ndvi/2017-09-09-2017-10-07--122.24199-40.70627_ndvi_bw.tif (512, 512)\n",
      "Image download: ../Data/exports/tc/2017-09-09-2017-10-07--122.255-40.24789_tc.tif (512, 512)\n"
     ]
    },
    {
     "name": "stderr",
     "output_type": "stream",
     "text": [
      "\r",
      " 36%|█████████████████████████████▉                                                     | 363/1006 [27:03<48:18,  4.51s/it]"
     ]
    },
    {
     "name": "stdout",
     "output_type": "stream",
     "text": [
      "Image download: ../Data/exports/ndvi/2017-09-09-2017-10-07--122.255-40.24789_ndvi_bw.tif (512, 512)\n",
      "Image download: ../Data/exports/tc/2017-09-09-2017-10-07--123.96844-40.88516_tc.tif (512, 512)\n"
     ]
    },
    {
     "name": "stderr",
     "output_type": "stream",
     "text": [
      "\r",
      " 36%|██████████████████████████████                                                     | 364/1006 [27:07<47:33,  4.45s/it]"
     ]
    },
    {
     "name": "stdout",
     "output_type": "stream",
     "text": [
      "Image download: ../Data/exports/ndvi/2017-09-09-2017-10-07--123.96844-40.88516_ndvi_bw.tif (512, 512)\n",
      "Image download: ../Data/exports/tc/2017-09-09-2017-10-07--121.52966-39.62496_tc.tif (512, 512)\n"
     ]
    },
    {
     "name": "stderr",
     "output_type": "stream",
     "text": [
      "\r",
      " 36%|██████████████████████████████                                                     | 365/1006 [27:12<46:38,  4.37s/it]"
     ]
    },
    {
     "name": "stdout",
     "output_type": "stream",
     "text": [
      "Image download: ../Data/exports/ndvi/2017-09-09-2017-10-07--121.52966-39.62496_ndvi_bw.tif (512, 512)\n",
      "Image download: ../Data/exports/tc/2017-09-09-2017-10-07--122.62879-38.60895_tc.tif (512, 512)\n"
     ]
    },
    {
     "name": "stderr",
     "output_type": "stream",
     "text": [
      "\r",
      " 36%|██████████████████████████████▏                                                    | 366/1006 [27:16<45:47,  4.29s/it]"
     ]
    },
    {
     "name": "stdout",
     "output_type": "stream",
     "text": [
      "Image download: ../Data/exports/ndvi/2017-09-09-2017-10-07--122.62879-38.60895_ndvi_bw.tif (512, 512)\n",
      "Image download: ../Data/exports/tc/2017-09-09-2017-10-07--122.62879-38.60895_tc.tif (512, 512)\n"
     ]
    },
    {
     "name": "stderr",
     "output_type": "stream",
     "text": [
      "\r",
      " 36%|██████████████████████████████▎                                                    | 367/1006 [27:19<43:09,  4.05s/it]"
     ]
    },
    {
     "name": "stdout",
     "output_type": "stream",
     "text": [
      "Image download: ../Data/exports/ndvi/2017-09-09-2017-10-07--122.62879-38.60895_ndvi_bw.tif (512, 512)\n",
      "Image download: ../Data/exports/tc/2017-09-09-2017-10-07--122.24367-38.39206_tc.tif (512, 512)\n"
     ]
    },
    {
     "name": "stderr",
     "output_type": "stream",
     "text": [
      "\r",
      " 37%|██████████████████████████████▎                                                    | 368/1006 [27:23<43:19,  4.07s/it]"
     ]
    },
    {
     "name": "stdout",
     "output_type": "stream",
     "text": [
      "Image download: ../Data/exports/ndvi/2017-09-09-2017-10-07--122.24367-38.39206_ndvi_bw.tif (512, 512)\n",
      "Image download: ../Data/exports/tc/2017-09-09-2017-10-07--122.24367-38.39206_tc.tif (512, 512)\n"
     ]
    },
    {
     "name": "stderr",
     "output_type": "stream",
     "text": [
      "\r",
      " 37%|██████████████████████████████▍                                                    | 369/1006 [27:27<41:02,  3.87s/it]"
     ]
    },
    {
     "name": "stdout",
     "output_type": "stream",
     "text": [
      "Image download: ../Data/exports/ndvi/2017-09-09-2017-10-07--122.24367-38.39206_ndvi_bw.tif (512, 512)\n",
      "Image download: ../Data/exports/tc/2017-09-09-2017-10-07--122.5209-38.4041_tc.tif (512, 512)\n"
     ]
    },
    {
     "name": "stderr",
     "output_type": "stream",
     "text": [
      "\r",
      " 37%|██████████████████████████████▌                                                    | 370/1006 [27:31<41:28,  3.91s/it]"
     ]
    },
    {
     "name": "stdout",
     "output_type": "stream",
     "text": [
      "Image download: ../Data/exports/ndvi/2017-09-09-2017-10-07--122.5209-38.4041_ndvi_bw.tif (512, 512)\n",
      "Image download: ../Data/exports/tc/2017-09-09-2017-10-07--122.5209-38.4041_tc.tif (512, 512)\n"
     ]
    },
    {
     "name": "stderr",
     "output_type": "stream",
     "text": [
      "\r",
      " 37%|██████████████████████████████▌                                                    | 371/1006 [27:37<48:12,  4.56s/it]"
     ]
    },
    {
     "name": "stdout",
     "output_type": "stream",
     "text": [
      "Image download: ../Data/exports/ndvi/2017-09-09-2017-10-07--122.5209-38.4041_ndvi_bw.tif (512, 512)\n",
      "Image download: ../Data/exports/tc/2017-09-09-2017-10-07--121.4021-39.32198_tc.tif (512, 512)\n"
     ]
    },
    {
     "name": "stderr",
     "output_type": "stream",
     "text": [
      "\r",
      " 37%|██████████████████████████████▋                                                    | 372/1006 [27:41<46:19,  4.38s/it]"
     ]
    },
    {
     "name": "stdout",
     "output_type": "stream",
     "text": [
      "Image download: ../Data/exports/ndvi/2017-09-09-2017-10-07--121.4021-39.32198_ndvi_bw.tif (512, 512)\n",
      "Image download: ../Data/exports/tc/2017-09-09-2017-10-07--123.16635-39.24873_tc.tif (512, 512)\n"
     ]
    },
    {
     "name": "stderr",
     "output_type": "stream",
     "text": [
      "\r",
      " 37%|██████████████████████████████▊                                                    | 373/1006 [27:45<45:45,  4.34s/it]"
     ]
    },
    {
     "name": "stdout",
     "output_type": "stream",
     "text": [
      "Image download: ../Data/exports/ndvi/2017-09-09-2017-10-07--123.16635-39.24873_ndvi_bw.tif (512, 512)\n",
      "Image download: ../Data/exports/tc/2017-09-09-2017-10-07--122.39052-38.31802_tc.tif (512, 512)\n"
     ]
    },
    {
     "name": "stderr",
     "output_type": "stream",
     "text": [
      "\r",
      " 37%|██████████████████████████████▊                                                    | 374/1006 [27:50<46:27,  4.41s/it]"
     ]
    },
    {
     "name": "stdout",
     "output_type": "stream",
     "text": [
      "Image download: ../Data/exports/ndvi/2017-09-09-2017-10-07--122.39052-38.31802_ndvi_bw.tif (512, 512)\n",
      "Image download: ../Data/exports/tc/2017-09-09-2017-10-07--122.64543-39.01387_tc.tif (512, 512)\n"
     ]
    },
    {
     "name": "stderr",
     "output_type": "stream",
     "text": [
      "\r",
      " 37%|██████████████████████████████▉                                                    | 375/1006 [27:54<46:20,  4.41s/it]"
     ]
    },
    {
     "name": "stdout",
     "output_type": "stream",
     "text": [
      "Image download: ../Data/exports/ndvi/2017-09-09-2017-10-07--122.64543-39.01387_ndvi_bw.tif (512, 512)\n",
      "Image download: ../Data/exports/tc/2017-09-10-2017-10-08--121.08406-39.19325_tc.tif (512, 512)\n"
     ]
    },
    {
     "name": "stderr",
     "output_type": "stream",
     "text": [
      "\r",
      " 37%|███████████████████████████████                                                    | 376/1006 [27:58<44:33,  4.24s/it]"
     ]
    },
    {
     "name": "stdout",
     "output_type": "stream",
     "text": [
      "Image download: ../Data/exports/ndvi/2017-09-10-2017-10-08--121.08406-39.19325_ndvi_bw.tif (512, 512)\n",
      "Image download: ../Data/exports/tc/2017-09-10-2017-10-08--121.12792-39.24549_tc.tif (512, 512)\n"
     ]
    },
    {
     "name": "stderr",
     "output_type": "stream",
     "text": [
      "\r",
      " 37%|███████████████████████████████                                                    | 377/1006 [28:02<44:44,  4.27s/it]"
     ]
    },
    {
     "name": "stdout",
     "output_type": "stream",
     "text": [
      "Image download: ../Data/exports/ndvi/2017-09-10-2017-10-08--121.12792-39.24549_ndvi_bw.tif (512, 512)\n",
      "Image download: ../Data/exports/tc/2017-09-10-2017-10-08--121.40613-39.39455_tc.tif (512, 512)\n"
     ]
    },
    {
     "name": "stderr",
     "output_type": "stream",
     "text": [
      "\r",
      " 38%|███████████████████████████████▏                                                   | 378/1006 [28:07<45:20,  4.33s/it]"
     ]
    },
    {
     "name": "stdout",
     "output_type": "stream",
     "text": [
      "Image download: ../Data/exports/ndvi/2017-09-10-2017-10-08--121.40613-39.39455_ndvi_bw.tif (512, 512)\n",
      "Image download: ../Data/exports/tc/2017-09-10-2017-10-08--120.52953-38.40234_tc.tif (512, 512)\n"
     ]
    },
    {
     "name": "stderr",
     "output_type": "stream",
     "text": [
      "\r",
      " 38%|███████████████████████████████▎                                                   | 379/1006 [28:11<44:10,  4.23s/it]"
     ]
    },
    {
     "name": "stdout",
     "output_type": "stream",
     "text": [
      "Image download: ../Data/exports/ndvi/2017-09-10-2017-10-08--120.52953-38.40234_ndvi_bw.tif (512, 512)\n",
      "Image download: ../Data/exports/tc/2017-09-10-2017-10-08--122.64001-38.36685_tc.tif (512, 512)\n"
     ]
    },
    {
     "name": "stderr",
     "output_type": "stream",
     "text": [
      "\r",
      " 38%|███████████████████████████████▎                                                   | 380/1006 [28:15<45:55,  4.40s/it]"
     ]
    },
    {
     "name": "stdout",
     "output_type": "stream",
     "text": [
      "Image download: ../Data/exports/ndvi/2017-09-10-2017-10-08--122.64001-38.36685_ndvi_bw.tif (512, 512)\n",
      "Image download: ../Data/exports/tc/2017-09-10-2017-10-08--122.90939-38.76549_tc.tif (512, 512)\n"
     ]
    },
    {
     "name": "stderr",
     "output_type": "stream",
     "text": [
      "\r",
      " 38%|███████████████████████████████▍                                                   | 381/1006 [28:22<53:16,  5.11s/it]"
     ]
    },
    {
     "name": "stdout",
     "output_type": "stream",
     "text": [
      "Image download: ../Data/exports/ndvi/2017-09-10-2017-10-08--122.90939-38.76549_ndvi_bw.tif (512, 512)\n",
      "Image download: ../Data/exports/tc/2017-09-10-2017-10-08--117.70975-33.87041_tc.tif (512, 512)\n"
     ]
    },
    {
     "name": "stderr",
     "output_type": "stream",
     "text": [
      "\r",
      " 38%|███████████████████████████████▌                                                   | 382/1006 [28:26<49:32,  4.76s/it]"
     ]
    },
    {
     "name": "stdout",
     "output_type": "stream",
     "text": [
      "Image download: ../Data/exports/ndvi/2017-09-10-2017-10-08--117.70975-33.87041_ndvi_bw.tif (512, 512)\n",
      "Image download: ../Data/exports/tc/2017-09-10-2017-10-08--122.47301-38.14242_tc.tif (512, 512)\n"
     ]
    },
    {
     "name": "stderr",
     "output_type": "stream",
     "text": [
      "\r",
      " 38%|███████████████████████████████▌                                                   | 383/1006 [28:31<48:25,  4.66s/it]"
     ]
    },
    {
     "name": "stdout",
     "output_type": "stream",
     "text": [
      "Image download: ../Data/exports/ndvi/2017-09-10-2017-10-08--122.47301-38.14242_ndvi_bw.tif (512, 512)\n",
      "Image download: ../Data/exports/tc/2017-09-10-2017-10-08--120.44448-35.28738_tc.tif (512, 512)\n"
     ]
    },
    {
     "name": "stderr",
     "output_type": "stream",
     "text": [
      "\r",
      " 38%|███████████████████████████████▋                                                   | 384/1006 [28:35<47:44,  4.60s/it]"
     ]
    },
    {
     "name": "stdout",
     "output_type": "stream",
     "text": [
      "Image download: ../Data/exports/ndvi/2017-09-10-2017-10-08--120.44448-35.28738_ndvi_bw.tif (512, 512)\n",
      "Image download: ../Data/exports/tc/2017-09-10-2017-10-08--121.67261-39.74679_tc.tif (512, 512)\n"
     ]
    },
    {
     "name": "stderr",
     "output_type": "stream",
     "text": [
      "\r",
      " 38%|███████████████████████████████▊                                                   | 385/1006 [28:39<45:50,  4.43s/it]"
     ]
    },
    {
     "name": "stdout",
     "output_type": "stream",
     "text": [
      "Image download: ../Data/exports/ndvi/2017-09-10-2017-10-08--121.67261-39.74679_ndvi_bw.tif (512, 512)\n",
      "Image download: ../Data/exports/tc/2017-09-11-2017-10-09--121.13737-39.06414_tc.tif (512, 512)\n"
     ]
    },
    {
     "name": "stderr",
     "output_type": "stream",
     "text": [
      "\r",
      " 38%|███████████████████████████████▊                                                   | 386/1006 [28:43<45:07,  4.37s/it]"
     ]
    },
    {
     "name": "stdout",
     "output_type": "stream",
     "text": [
      "Image download: ../Data/exports/ndvi/2017-09-11-2017-10-09--121.13737-39.06414_ndvi_bw.tif (512, 512)\n",
      "Image download: ../Data/exports/tc/2017-09-11-2017-10-09--117.02132-33.50488_tc.tif (512, 512)\n"
     ]
    },
    {
     "name": "stderr",
     "output_type": "stream",
     "text": [
      "\r",
      " 38%|███████████████████████████████▉                                                   | 387/1006 [28:49<49:44,  4.82s/it]"
     ]
    },
    {
     "name": "stdout",
     "output_type": "stream",
     "text": [
      "Image download: ../Data/exports/ndvi/2017-09-11-2017-10-09--117.02132-33.50488_ndvi_bw.tif (512, 512)\n",
      "Image download: ../Data/exports/tc/2017-09-11-2017-10-09--120.46234-38.77921_tc.tif (512, 512)\n"
     ]
    },
    {
     "name": "stderr",
     "output_type": "stream",
     "text": [
      "\r",
      " 39%|████████████████████████████████                                                   | 388/1006 [28:54<48:49,  4.74s/it]"
     ]
    },
    {
     "name": "stdout",
     "output_type": "stream",
     "text": [
      "Image download: ../Data/exports/ndvi/2017-09-11-2017-10-09--120.46234-38.77921_ndvi_bw.tif (512, 512)\n",
      "Image download: ../Data/exports/tc/2017-09-12-2017-10-10--119.2288-36.7528_tc.tif (512, 512)\n"
     ]
    },
    {
     "name": "stderr",
     "output_type": "stream",
     "text": [
      "\r",
      " 39%|████████████████████████████████                                                   | 389/1006 [28:58<47:57,  4.66s/it]"
     ]
    },
    {
     "name": "stdout",
     "output_type": "stream",
     "text": [
      "Image download: ../Data/exports/ndvi/2017-09-12-2017-10-10--119.2288-36.7528_ndvi_bw.tif (512, 512)\n",
      "Image download: ../Data/exports/tc/2017-09-13-2017-10-11--118.76152-35.19008_tc.tif (512, 512)\n"
     ]
    },
    {
     "name": "stderr",
     "output_type": "stream",
     "text": [
      "\r",
      " 39%|████████████████████████████████▏                                                  | 390/1006 [29:04<51:22,  5.00s/it]"
     ]
    },
    {
     "name": "stdout",
     "output_type": "stream",
     "text": [
      "Image download: ../Data/exports/ndvi/2017-09-13-2017-10-11--118.76152-35.19008_ndvi_bw.tif (512, 512)\n",
      "Image download: ../Data/exports/tc/2017-09-14-2017-10-12--120.96514-35.78616_tc.tif (512, 512)\n"
     ]
    },
    {
     "name": "stderr",
     "output_type": "stream",
     "text": [
      "\r",
      " 39%|████████████████████████████████▎                                                  | 391/1006 [29:09<50:36,  4.94s/it]"
     ]
    },
    {
     "name": "stdout",
     "output_type": "stream",
     "text": [
      "Image download: ../Data/exports/ndvi/2017-09-14-2017-10-12--120.96514-35.78616_ndvi_bw.tif (512, 512)\n",
      "Image download: ../Data/exports/tc/2017-09-14-2017-10-12--120.287-38.848_tc.tif (512, 512)\n"
     ]
    },
    {
     "name": "stderr",
     "output_type": "stream",
     "text": [
      "\r",
      " 39%|████████████████████████████████▎                                                  | 392/1006 [29:14<50:08,  4.90s/it]"
     ]
    },
    {
     "name": "stdout",
     "output_type": "stream",
     "text": [
      "Image download: ../Data/exports/ndvi/2017-09-14-2017-10-12--120.287-38.848_ndvi_bw.tif (512, 512)\n",
      "Image download: ../Data/exports/tc/2017-09-14-2017-10-12--117.46709-33.38613_tc.tif (512, 512)\n"
     ]
    },
    {
     "name": "stderr",
     "output_type": "stream",
     "text": [
      "\r",
      " 39%|████████████████████████████████▍                                                  | 393/1006 [29:18<48:49,  4.78s/it]"
     ]
    },
    {
     "name": "stdout",
     "output_type": "stream",
     "text": [
      "Image download: ../Data/exports/ndvi/2017-09-14-2017-10-12--117.46709-33.38613_ndvi_bw.tif (512, 512)\n",
      "Image download: ../Data/exports/tc/2017-09-15-2017-10-13--122.57487-39.0199_tc.tif (512, 512)\n"
     ]
    },
    {
     "name": "stderr",
     "output_type": "stream",
     "text": [
      "\r",
      " 39%|████████████████████████████████▌                                                  | 394/1006 [29:23<48:51,  4.79s/it]"
     ]
    },
    {
     "name": "stdout",
     "output_type": "stream",
     "text": [
      "Image download: ../Data/exports/ndvi/2017-09-15-2017-10-13--122.57487-39.0199_ndvi_bw.tif (512, 512)\n",
      "Image download: ../Data/exports/tc/2017-09-15-2017-10-13--123.51619-40.46836_tc.tif (512, 512)\n"
     ]
    },
    {
     "name": "stderr",
     "output_type": "stream",
     "text": [
      "\r",
      " 39%|████████████████████████████████▌                                                  | 395/1006 [29:27<47:03,  4.62s/it]"
     ]
    },
    {
     "name": "stdout",
     "output_type": "stream",
     "text": [
      "Image download: ../Data/exports/ndvi/2017-09-15-2017-10-13--123.51619-40.46836_ndvi_bw.tif (512, 512)\n",
      "Image download: ../Data/exports/tc/2017-09-15-2017-10-13--122.58152-38.46123_tc.tif (512, 512)\n"
     ]
    },
    {
     "name": "stderr",
     "output_type": "stream",
     "text": [
      "\r",
      " 39%|████████████████████████████████▋                                                  | 396/1006 [29:32<47:44,  4.70s/it]"
     ]
    },
    {
     "name": "stdout",
     "output_type": "stream",
     "text": [
      "Image download: ../Data/exports/ndvi/2017-09-15-2017-10-13--122.58152-38.46123_ndvi_bw.tif (512, 512)\n",
      "Image download: ../Data/exports/tc/2017-09-16-2017-10-14--116.50897-33.18716_tc.tif (512, 512)\n"
     ]
    },
    {
     "name": "stderr",
     "output_type": "stream",
     "text": [
      "\r",
      " 39%|████████████████████████████████▊                                                  | 397/1006 [29:39<53:20,  5.26s/it]"
     ]
    },
    {
     "name": "stdout",
     "output_type": "stream",
     "text": [
      "Image download: ../Data/exports/ndvi/2017-09-16-2017-10-14--116.50897-33.18716_ndvi_bw.tif (512, 512)\n",
      "Image download: ../Data/exports/tc/2017-09-16-2017-10-14--121.80377-36.5858_tc.tif (512, 512)\n"
     ]
    },
    {
     "name": "stderr",
     "output_type": "stream",
     "text": [
      "\r",
      " 40%|████████████████████████████████▊                                                  | 398/1006 [29:43<51:12,  5.05s/it]"
     ]
    },
    {
     "name": "stdout",
     "output_type": "stream",
     "text": [
      "Image download: ../Data/exports/ndvi/2017-09-16-2017-10-14--121.80377-36.5858_ndvi_bw.tif (512, 512)\n",
      "Image download: ../Data/exports/tc/2017-09-16-2017-10-14--118.701-35.3091_tc.tif (512, 512)\n"
     ]
    },
    {
     "name": "stderr",
     "output_type": "stream",
     "text": [
      "\r",
      " 40%|████████████████████████████████▉                                                  | 399/1006 [29:48<51:19,  5.07s/it]"
     ]
    },
    {
     "name": "stdout",
     "output_type": "stream",
     "text": [
      "Image download: ../Data/exports/ndvi/2017-09-16-2017-10-14--118.701-35.3091_ndvi_bw.tif (512, 512)\n",
      "Image download: ../Data/exports/tc/2017-09-17-2017-10-15--122.07012-37.18356_tc.tif (512, 512)\n"
     ]
    },
    {
     "name": "stderr",
     "output_type": "stream",
     "text": [
      "\r",
      " 40%|█████████████████████████████████                                                  | 400/1006 [29:53<49:22,  4.89s/it]"
     ]
    },
    {
     "name": "stdout",
     "output_type": "stream",
     "text": [
      "Image download: ../Data/exports/ndvi/2017-09-17-2017-10-15--122.07012-37.18356_ndvi_bw.tif (512, 512)\n",
      "Image download: ../Data/exports/tc/2017-09-18-2017-10-16--118.05545-34.22551_tc.tif (512, 512)\n"
     ]
    },
    {
     "name": "stderr",
     "output_type": "stream",
     "text": [
      "\r",
      " 40%|█████████████████████████████████                                                  | 401/1006 [29:58<50:28,  5.01s/it]"
     ]
    },
    {
     "name": "stdout",
     "output_type": "stream",
     "text": [
      "Image download: ../Data/exports/ndvi/2017-09-18-2017-10-16--118.05545-34.22551_ndvi_bw.tif (512, 512)\n",
      "Image download: ../Data/exports/tc/2017-09-18-2017-10-16--117.402445-33.402411_tc.tif (512, 512)\n"
     ]
    },
    {
     "name": "stderr",
     "output_type": "stream",
     "text": [
      "\r",
      " 40%|█████████████████████████████████▏                                                 | 402/1006 [30:02<49:01,  4.87s/it]"
     ]
    },
    {
     "name": "stdout",
     "output_type": "stream",
     "text": [
      "Image download: ../Data/exports/ndvi/2017-09-18-2017-10-16--117.402445-33.402411_ndvi_bw.tif (512, 512)\n",
      "Image download: ../Data/exports/tc/2017-09-18-2017-10-16--121.85663-37.7393_tc.tif (512, 512)\n"
     ]
    },
    {
     "name": "stderr",
     "output_type": "stream",
     "text": [
      "\r",
      " 40%|█████████████████████████████████▏                                                 | 403/1006 [30:08<50:15,  5.00s/it]"
     ]
    },
    {
     "name": "stdout",
     "output_type": "stream",
     "text": [
      "Image download: ../Data/exports/ndvi/2017-09-18-2017-10-16--121.85663-37.7393_ndvi_bw.tif (512, 512)\n",
      "Image download: ../Data/exports/tc/2017-09-19-2017-10-17--120.84748-37.89532_tc.tif (512, 512)\n"
     ]
    },
    {
     "name": "stderr",
     "output_type": "stream",
     "text": [
      "\r",
      " 40%|█████████████████████████████████▎                                                 | 404/1006 [30:14<53:36,  5.34s/it]"
     ]
    },
    {
     "name": "stdout",
     "output_type": "stream",
     "text": [
      "Image download: ../Data/exports/ndvi/2017-09-19-2017-10-17--120.84748-37.89532_ndvi_bw.tif (512, 512)\n",
      "Image download: ../Data/exports/tc/2017-09-21-2017-10-19--120.00353-35.41112_tc.tif (512, 512)\n"
     ]
    },
    {
     "name": "stderr",
     "output_type": "stream",
     "text": [
      "\r",
      " 40%|█████████████████████████████████▍                                                 | 405/1006 [30:20<56:23,  5.63s/it]"
     ]
    },
    {
     "name": "stdout",
     "output_type": "stream",
     "text": [
      "Image download: ../Data/exports/ndvi/2017-09-21-2017-10-19--120.00353-35.41112_ndvi_bw.tif (512, 512)\n",
      "Image download: ../Data/exports/tc/2017-09-22-2017-10-20--116.37345-32.64962_tc.tif (512, 512)\n"
     ]
    },
    {
     "name": "stderr",
     "output_type": "stream",
     "text": [
      "\r",
      " 40%|█████████████████████████████████▍                                                 | 406/1006 [30:25<53:05,  5.31s/it]"
     ]
    },
    {
     "name": "stdout",
     "output_type": "stream",
     "text": [
      "Image download: ../Data/exports/ndvi/2017-09-22-2017-10-20--116.37345-32.64962_ndvi_bw.tif (512, 512)\n",
      "Image download: ../Data/exports/tc/2017-09-24-2017-10-22--117.00589-33.8826_tc.tif (512, 512)\n"
     ]
    },
    {
     "name": "stderr",
     "output_type": "stream",
     "text": [
      "\r",
      " 40%|█████████████████████████████████▌                                                 | 407/1006 [30:31<56:23,  5.65s/it]"
     ]
    },
    {
     "name": "stdout",
     "output_type": "stream",
     "text": [
      "Image download: ../Data/exports/ndvi/2017-09-24-2017-10-22--117.00589-33.8826_ndvi_bw.tif (512, 512)\n",
      "Image download: ../Data/exports/tc/2017-09-25-2017-10-23--117.4982-34.13534_tc.tif (512, 512)\n"
     ]
    },
    {
     "name": "stderr",
     "output_type": "stream",
     "text": [
      "\r",
      " 41%|█████████████████████████████████▋                                                 | 408/1006 [30:36<54:24,  5.46s/it]"
     ]
    },
    {
     "name": "stdout",
     "output_type": "stream",
     "text": [
      "Image download: ../Data/exports/ndvi/2017-09-25-2017-10-23--117.4982-34.13534_ndvi_bw.tif (512, 512)\n",
      "Image download: ../Data/exports/tc/2017-09-25-2017-10-23--119.30918-34.34949_tc.tif (512, 512)\n"
     ]
    },
    {
     "name": "stderr",
     "output_type": "stream",
     "text": [
      "\r",
      " 41%|█████████████████████████████████▋                                                 | 409/1006 [30:42<55:42,  5.60s/it]"
     ]
    },
    {
     "name": "stdout",
     "output_type": "stream",
     "text": [
      "Image download: ../Data/exports/ndvi/2017-09-25-2017-10-23--119.30918-34.34949_ndvi_bw.tif (512, 512)\n",
      "Image download: ../Data/exports/tc/2017-09-27-2017-10-25--118.56578-35.21556_tc.tif (512, 512)\n"
     ]
    },
    {
     "name": "stderr",
     "output_type": "stream",
     "text": [
      "\r",
      " 41%|█████████████████████████████████▊                                                 | 410/1006 [30:48<56:38,  5.70s/it]"
     ]
    },
    {
     "name": "stdout",
     "output_type": "stream",
     "text": [
      "Image download: ../Data/exports/ndvi/2017-09-27-2017-10-25--118.56578-35.21556_ndvi_bw.tif (512, 512)\n",
      "Image download: ../Data/exports/tc/2017-09-27-2017-10-25--117.34192-33.60247_tc.tif (512, 512)\n"
     ]
    },
    {
     "name": "stderr",
     "output_type": "stream",
     "text": [
      "\r",
      " 41%|█████████████████████████████████▉                                                 | 411/1006 [30:52<52:31,  5.30s/it]"
     ]
    },
    {
     "name": "stdout",
     "output_type": "stream",
     "text": [
      "Image download: ../Data/exports/ndvi/2017-09-27-2017-10-25--117.34192-33.60247_ndvi_bw.tif (512, 512)\n",
      "Image download: ../Data/exports/tc/2017-09-27-2017-10-25--121.91425-40.02261_tc.tif (512, 512)\n"
     ]
    },
    {
     "name": "stderr",
     "output_type": "stream",
     "text": [
      "\r",
      " 41%|█████████████████████████████████▉                                                 | 412/1006 [30:57<49:56,  5.04s/it]"
     ]
    },
    {
     "name": "stdout",
     "output_type": "stream",
     "text": [
      "Image download: ../Data/exports/ndvi/2017-09-27-2017-10-25--121.91425-40.02261_ndvi_bw.tif (512, 512)\n",
      "Image download: ../Data/exports/tc/2017-10-02-2017-10-30--122.309-40.774_tc.tif (512, 512)\n"
     ]
    },
    {
     "name": "stderr",
     "output_type": "stream",
     "text": [
      "\r",
      " 41%|██████████████████████████████████                                                 | 413/1006 [31:02<48:57,  4.95s/it]"
     ]
    },
    {
     "name": "stdout",
     "output_type": "stream",
     "text": [
      "Image download: ../Data/exports/ndvi/2017-10-02-2017-10-30--122.309-40.774_ndvi_bw.tif (512, 512)\n",
      "Image download: ../Data/exports/tc/2017-10-04-2017-11-01--122.28165-39.81517_tc.tif (512, 512)\n"
     ]
    },
    {
     "name": "stderr",
     "output_type": "stream",
     "text": [
      "\r",
      " 41%|██████████████████████████████████▏                                                | 414/1006 [31:06<48:12,  4.89s/it]"
     ]
    },
    {
     "name": "stdout",
     "output_type": "stream",
     "text": [
      "Image download: ../Data/exports/ndvi/2017-10-04-2017-11-01--122.28165-39.81517_ndvi_bw.tif (512, 512)\n",
      "Image download: ../Data/exports/tc/2017-10-15-2017-11-12--119.48284-38.46111_tc.tif (512, 512)\n"
     ]
    },
    {
     "name": "stderr",
     "output_type": "stream",
     "text": [
      "\r",
      " 41%|██████████████████████████████████▏                                                | 415/1006 [31:11<48:38,  4.94s/it]"
     ]
    },
    {
     "name": "stdout",
     "output_type": "stream",
     "text": [
      "Image download: ../Data/exports/ndvi/2017-10-15-2017-11-12--119.48284-38.46111_ndvi_bw.tif (512, 512)\n",
      "Image download: ../Data/exports/tc/2017-10-16-2017-11-13--116.50151-33.90327_tc.tif (512, 512)\n"
     ]
    },
    {
     "name": "stderr",
     "output_type": "stream",
     "text": [
      "\r",
      " 41%|██████████████████████████████████▎                                                | 416/1006 [31:17<49:05,  4.99s/it]"
     ]
    },
    {
     "name": "stdout",
     "output_type": "stream",
     "text": [
      "Image download: ../Data/exports/ndvi/2017-10-16-2017-11-13--116.50151-33.90327_ndvi_bw.tif (512, 512)\n",
      "Image download: ../Data/exports/tc/2017-10-27-2017-11-24--121.00391-36.38109_tc.tif (512, 512)\n"
     ]
    },
    {
     "name": "stderr",
     "output_type": "stream",
     "text": [
      "\r",
      " 41%|██████████████████████████████████▍                                                | 417/1006 [31:21<48:36,  4.95s/it]"
     ]
    },
    {
     "name": "stdout",
     "output_type": "stream",
     "text": [
      "Image download: ../Data/exports/ndvi/2017-10-27-2017-11-24--121.00391-36.38109_ndvi_bw.tif (512, 512)\n",
      "Image download: ../Data/exports/tc/2017-10-31-2017-11-28--116.940661-34.035344_tc.tif (512, 512)\n"
     ]
    },
    {
     "name": "stderr",
     "output_type": "stream",
     "text": [
      "\r",
      " 42%|██████████████████████████████████▍                                                | 418/1006 [31:26<47:06,  4.81s/it]"
     ]
    },
    {
     "name": "stdout",
     "output_type": "stream",
     "text": [
      "Image download: ../Data/exports/ndvi/2017-10-31-2017-11-28--116.940661-34.035344_ndvi_bw.tif (512, 512)\n",
      "Image download: ../Data/exports/tc/2017-11-05-2017-12-03--117.4764-33.96514_tc.tif (512, 512)\n"
     ]
    },
    {
     "name": "stderr",
     "output_type": "stream",
     "text": [
      "\r",
      " 42%|██████████████████████████████████▌                                                | 419/1006 [31:30<45:46,  4.68s/it]"
     ]
    },
    {
     "name": "stdout",
     "output_type": "stream",
     "text": [
      "Image download: ../Data/exports/ndvi/2017-11-05-2017-12-03--117.4764-33.96514_ndvi_bw.tif (512, 512)\n",
      "Image download: ../Data/exports/tc/2017-11-05-2017-12-03--119.09124-34.41521_tc.tif (512, 512)\n"
     ]
    },
    {
     "name": "stderr",
     "output_type": "stream",
     "text": [
      "\r",
      " 42%|██████████████████████████████████▋                                                | 420/1006 [31:36<47:23,  4.85s/it]"
     ]
    },
    {
     "name": "stdout",
     "output_type": "stream",
     "text": [
      "Image download: ../Data/exports/ndvi/2017-11-05-2017-12-03--119.09124-34.41521_ndvi_bw.tif (512, 512)\n",
      "Image download: ../Data/exports/tc/2017-11-05-2017-12-03--119.09124-34.41521_tc.tif (512, 512)\n"
     ]
    },
    {
     "name": "stderr",
     "output_type": "stream",
     "text": [
      "\r",
      " 42%|██████████████████████████████████▋                                                | 421/1006 [31:41<48:36,  4.99s/it]"
     ]
    },
    {
     "name": "stdout",
     "output_type": "stream",
     "text": [
      "Image download: ../Data/exports/ndvi/2017-11-05-2017-12-03--119.09124-34.41521_ndvi_bw.tif (512, 512)\n",
      "Image download: ../Data/exports/tc/2017-11-06-2017-12-04--118.35863-34.31283_tc.tif (512, 512)\n"
     ]
    },
    {
     "name": "stderr",
     "output_type": "stream",
     "text": [
      "\r",
      " 42%|██████████████████████████████████▊                                                | 422/1006 [31:45<46:18,  4.76s/it]"
     ]
    },
    {
     "name": "stdout",
     "output_type": "stream",
     "text": [
      "Image download: ../Data/exports/ndvi/2017-11-06-2017-12-04--118.35863-34.31283_ndvi_bw.tif (512, 512)\n",
      "Image download: ../Data/exports/tc/2017-11-06-2017-12-04--118.58188-34.45283_tc.tif (512, 512)\n"
     ]
    },
    {
     "name": "stderr",
     "output_type": "stream",
     "text": [
      "\r",
      " 42%|██████████████████████████████████▉                                                | 423/1006 [31:49<44:17,  4.56s/it]"
     ]
    },
    {
     "name": "stdout",
     "output_type": "stream",
     "text": [
      "Image download: ../Data/exports/ndvi/2017-11-06-2017-12-04--118.58188-34.45283_ndvi_bw.tif (512, 512)\n",
      "Image download: ../Data/exports/tc/2017-11-06-2017-12-04--117.40625-34.21829_tc.tif (512, 512)\n"
     ]
    },
    {
     "name": "stderr",
     "output_type": "stream",
     "text": [
      "\r",
      " 42%|██████████████████████████████████▉                                                | 424/1006 [31:53<42:37,  4.40s/it]"
     ]
    },
    {
     "name": "stdout",
     "output_type": "stream",
     "text": [
      "Image download: ../Data/exports/ndvi/2017-11-06-2017-12-04--117.40625-34.21829_ndvi_bw.tif (512, 512)\n",
      "Image download: ../Data/exports/tc/2017-11-06-2017-12-04--117.33334-34.16564_tc.tif (512, 512)\n"
     ]
    },
    {
     "name": "stderr",
     "output_type": "stream",
     "text": [
      "\r",
      " 42%|███████████████████████████████████                                                | 425/1006 [31:57<41:29,  4.28s/it]"
     ]
    },
    {
     "name": "stdout",
     "output_type": "stream",
     "text": [
      "Image download: ../Data/exports/ndvi/2017-11-06-2017-12-04--117.33334-34.16564_ndvi_bw.tif (512, 512)\n",
      "Image download: ../Data/exports/tc/2017-11-07-2017-12-05--118.48178-34.09454_tc.tif (512, 512)\n"
     ]
    },
    {
     "name": "stderr",
     "output_type": "stream",
     "text": [
      "\r",
      " 42%|███████████████████████████████████▏                                               | 426/1006 [32:01<41:24,  4.28s/it]"
     ]
    },
    {
     "name": "stdout",
     "output_type": "stream",
     "text": [
      "Image download: ../Data/exports/ndvi/2017-11-07-2017-12-05--118.48178-34.09454_ndvi_bw.tif (512, 512)\n",
      "Image download: ../Data/exports/tc/2017-11-08-2017-12-06--117.163-33.3237_tc.tif (512, 512)\n"
     ]
    },
    {
     "name": "stderr",
     "output_type": "stream",
     "text": [
      "\r",
      " 42%|███████████████████████████████████▏                                               | 427/1006 [32:05<40:32,  4.20s/it]"
     ]
    },
    {
     "name": "stdout",
     "output_type": "stream",
     "text": [
      "Image download: ../Data/exports/ndvi/2017-11-08-2017-12-06--117.163-33.3237_ndvi_bw.tif (512, 512)\n",
      "Image download: ../Data/exports/tc/2017-11-08-2017-12-06--117.14979-33.59257_tc.tif (512, 512)\n"
     ]
    },
    {
     "name": "stderr",
     "output_type": "stream",
     "text": [
      "\r",
      " 43%|███████████████████████████████████▎                                               | 428/1006 [32:10<41:38,  4.32s/it]"
     ]
    },
    {
     "name": "stdout",
     "output_type": "stream",
     "text": [
      "Image download: ../Data/exports/ndvi/2017-11-08-2017-12-06--117.14979-33.59257_ndvi_bw.tif (512, 512)\n",
      "Image download: ../Data/exports/tc/2017-11-14-2017-12-12--116.91023-33.88994_tc.tif (512, 512)\n"
     ]
    },
    {
     "name": "stderr",
     "output_type": "stream",
     "text": [
      "\r",
      " 43%|███████████████████████████████████▍                                               | 429/1006 [32:15<44:09,  4.59s/it]"
     ]
    },
    {
     "name": "stdout",
     "output_type": "stream",
     "text": [
      "Image download: ../Data/exports/ndvi/2017-11-14-2017-12-12--116.91023-33.88994_ndvi_bw.tif (512, 512)\n",
      "Image download: ../Data/exports/tc/2017-11-15-2017-12-13--120.414875-34.605358_tc.tif (512, 512)\n"
     ]
    },
    {
     "name": "stderr",
     "output_type": "stream",
     "text": [
      "\r",
      " 43%|███████████████████████████████████▍                                               | 430/1006 [32:19<42:33,  4.43s/it]"
     ]
    },
    {
     "name": "stdout",
     "output_type": "stream",
     "text": [
      "Image download: ../Data/exports/ndvi/2017-11-15-2017-12-13--120.414875-34.605358_ndvi_bw.tif (512, 512)\n",
      "Image download: ../Data/exports/tc/2017-11-17-2017-12-15--120.27077-34.71796_tc.tif (512, 512)\n"
     ]
    },
    {
     "name": "stderr",
     "output_type": "stream",
     "text": [
      "\r",
      " 43%|███████████████████████████████████▌                                               | 431/1006 [32:24<44:06,  4.60s/it]"
     ]
    },
    {
     "name": "stdout",
     "output_type": "stream",
     "text": [
      "Image download: ../Data/exports/ndvi/2017-11-17-2017-12-15--120.27077-34.71796_ndvi_bw.tif (512, 512)\n",
      "Image download: ../Data/exports/tc/2017-11-22-2017-12-20--117.38417-33.9885_tc.tif (512, 512)\n"
     ]
    },
    {
     "name": "stderr",
     "output_type": "stream",
     "text": [
      "\r",
      " 43%|███████████████████████████████████▋                                               | 432/1006 [32:28<41:45,  4.37s/it]"
     ]
    },
    {
     "name": "stdout",
     "output_type": "stream",
     "text": [
      "Image download: ../Data/exports/ndvi/2017-11-22-2017-12-20--117.38417-33.9885_ndvi_bw.tif (512, 512)\n",
      "Image download: ../Data/exports/tc/2017-11-29-2017-12-27--119.61865-38.869036_tc.tif (512, 512)\n"
     ]
    },
    {
     "name": "stderr",
     "output_type": "stream",
     "text": [
      "\r",
      " 43%|███████████████████████████████████▋                                               | 433/1006 [32:33<41:58,  4.39s/it]"
     ]
    },
    {
     "name": "stdout",
     "output_type": "stream",
     "text": [
      "Image download: ../Data/exports/ndvi/2017-11-29-2017-12-27--119.61865-38.869036_ndvi_bw.tif (512, 512)\n",
      "Image download: ../Data/exports/tc/2018-01-09-2018-02-06--121.28185-35.96689_tc.tif (512, 512)\n"
     ]
    },
    {
     "name": "stderr",
     "output_type": "stream",
     "text": [
      "\r",
      " 43%|███████████████████████████████████▊                                               | 434/1006 [32:37<41:57,  4.40s/it]"
     ]
    },
    {
     "name": "stdout",
     "output_type": "stream",
     "text": [
      "Image download: ../Data/exports/ndvi/2018-01-09-2018-02-06--121.28185-35.96689_ndvi_bw.tif (512, 512)\n",
      "Image download: ../Data/exports/tc/2018-01-20-2018-02-17--118.50235-37.40208_tc.tif (512, 512)\n"
     ]
    },
    {
     "name": "stderr",
     "output_type": "stream",
     "text": [
      "\r",
      " 43%|███████████████████████████████████▉                                               | 435/1006 [32:41<41:52,  4.40s/it]"
     ]
    },
    {
     "name": "stdout",
     "output_type": "stream",
     "text": [
      "Image download: ../Data/exports/ndvi/2018-01-20-2018-02-17--118.50235-37.40208_ndvi_bw.tif (512, 512)\n",
      "Image download: ../Data/exports/tc/2018-02-26-2018-03-26--119.76576-34.0232_tc.tif (512, 512)\n"
     ]
    },
    {
     "name": "stderr",
     "output_type": "stream",
     "text": [
      "\r",
      " 43%|███████████████████████████████████▉                                               | 436/1006 [32:46<41:29,  4.37s/it]"
     ]
    },
    {
     "name": "stdout",
     "output_type": "stream",
     "text": [
      "Image download: ../Data/exports/ndvi/2018-02-26-2018-03-26--119.76576-34.0232_ndvi_bw.tif (512, 512)\n",
      "Image download: ../Data/exports/tc/2018-02-26-2018-03-26--121.77419-40.4635_tc.tif (512, 512)\n"
     ]
    },
    {
     "name": "stderr",
     "output_type": "stream",
     "text": [
      "\r",
      " 43%|████████████████████████████████████                                               | 437/1006 [32:51<43:38,  4.60s/it]"
     ]
    },
    {
     "name": "stdout",
     "output_type": "stream",
     "text": [
      "Image download: ../Data/exports/ndvi/2018-02-26-2018-03-26--121.77419-40.4635_ndvi_bw.tif (512, 512)\n",
      "Image download: ../Data/exports/tc/2018-03-11-2018-04-08--117.48144-33.86439_tc.tif (512, 512)\n"
     ]
    },
    {
     "name": "stderr",
     "output_type": "stream",
     "text": [
      "\r",
      " 44%|████████████████████████████████████▏                                              | 438/1006 [32:55<42:39,  4.51s/it]"
     ]
    },
    {
     "name": "stdout",
     "output_type": "stream",
     "text": [
      "Image download: ../Data/exports/ndvi/2018-03-11-2018-04-08--117.48144-33.86439_ndvi_bw.tif (512, 512)\n",
      "Image download: ../Data/exports/tc/2018-03-14-2018-04-11--119.94083-35.92436_tc.tif (512, 512)\n"
     ]
    },
    {
     "name": "stderr",
     "output_type": "stream",
     "text": [
      "\r",
      " 44%|████████████████████████████████████▏                                              | 439/1006 [33:00<42:04,  4.45s/it]"
     ]
    },
    {
     "name": "stdout",
     "output_type": "stream",
     "text": [
      "Image download: ../Data/exports/ndvi/2018-03-14-2018-04-11--119.94083-35.92436_ndvi_bw.tif (512, 512)\n",
      "Image download: ../Data/exports/tc/2018-03-17-2018-04-14--116.164058-33.711263_tc.tif (512, 512)\n"
     ]
    },
    {
     "name": "stderr",
     "output_type": "stream",
     "text": [
      "\r",
      " 44%|████████████████████████████████████▎                                              | 440/1006 [33:04<41:25,  4.39s/it]"
     ]
    },
    {
     "name": "stdout",
     "output_type": "stream",
     "text": [
      "Image download: ../Data/exports/ndvi/2018-03-17-2018-04-14--116.164058-33.711263_ndvi_bw.tif (512, 512)\n",
      "Image download: ../Data/exports/tc/2018-03-21-2018-04-18--118.08449-36.71537_tc.tif (512, 512)\n"
     ]
    },
    {
     "name": "stderr",
     "output_type": "stream",
     "text": [
      "\r",
      " 44%|████████████████████████████████████▍                                              | 441/1006 [33:09<42:31,  4.52s/it]"
     ]
    },
    {
     "name": "stdout",
     "output_type": "stream",
     "text": [
      "Image download: ../Data/exports/ndvi/2018-03-21-2018-04-18--118.08449-36.71537_ndvi_bw.tif (512, 512)\n",
      "Image download: ../Data/exports/tc/2018-03-24-2018-04-21--117.16232-33.88744_tc.tif (512, 512)\n"
     ]
    },
    {
     "name": "stderr",
     "output_type": "stream",
     "text": [
      "\r",
      " 44%|████████████████████████████████████▍                                              | 442/1006 [33:13<41:20,  4.40s/it]"
     ]
    },
    {
     "name": "stdout",
     "output_type": "stream",
     "text": [
      "Image download: ../Data/exports/ndvi/2018-03-24-2018-04-21--117.16232-33.88744_ndvi_bw.tif (512, 512)\n",
      "Image download: ../Data/exports/tc/2018-03-26-2018-04-23--123.55012-40.70258_tc.tif (512, 512)\n"
     ]
    },
    {
     "name": "stderr",
     "output_type": "stream",
     "text": [
      "\r",
      " 44%|████████████████████████████████████▌                                              | 443/1006 [33:17<40:25,  4.31s/it]"
     ]
    },
    {
     "name": "stdout",
     "output_type": "stream",
     "text": [
      "Image download: ../Data/exports/ndvi/2018-03-26-2018-04-23--123.55012-40.70258_ndvi_bw.tif (512, 512)\n",
      "Image download: ../Data/exports/tc/2018-03-28-2018-04-25--120.18499-39.89075_tc.tif (512, 512)\n"
     ]
    },
    {
     "name": "stderr",
     "output_type": "stream",
     "text": [
      "\r",
      " 44%|████████████████████████████████████▋                                              | 444/1006 [33:22<43:48,  4.68s/it]"
     ]
    },
    {
     "name": "stdout",
     "output_type": "stream",
     "text": [
      "Image download: ../Data/exports/ndvi/2018-03-28-2018-04-25--120.18499-39.89075_ndvi_bw.tif (512, 512)\n",
      "Image download: ../Data/exports/tc/2018-03-30-2018-04-27--117.32281-33.67815_tc.tif (512, 512)\n"
     ]
    },
    {
     "name": "stderr",
     "output_type": "stream",
     "text": [
      "\r",
      " 44%|████████████████████████████████████▋                                              | 445/1006 [33:27<43:16,  4.63s/it]"
     ]
    },
    {
     "name": "stdout",
     "output_type": "stream",
     "text": [
      "Image download: ../Data/exports/ndvi/2018-03-30-2018-04-27--117.32281-33.67815_ndvi_bw.tif (512, 512)\n",
      "Image download: ../Data/exports/tc/2018-04-03-2018-05-01--120.77206-36.85156_tc.tif (512, 512)\n"
     ]
    },
    {
     "name": "stderr",
     "output_type": "stream",
     "text": [
      "\r",
      " 44%|████████████████████████████████████▊                                              | 446/1006 [33:32<44:26,  4.76s/it]"
     ]
    },
    {
     "name": "stdout",
     "output_type": "stream",
     "text": [
      "Image download: ../Data/exports/ndvi/2018-04-03-2018-05-01--120.77206-36.85156_ndvi_bw.tif (512, 512)\n",
      "Image download: ../Data/exports/tc/2018-04-05-2018-05-03--117.502405-33.389425_tc.tif (512, 512)\n"
     ]
    },
    {
     "name": "stderr",
     "output_type": "stream",
     "text": [
      "\r",
      " 44%|████████████████████████████████████▉                                              | 447/1006 [33:36<42:53,  4.60s/it]"
     ]
    },
    {
     "name": "stdout",
     "output_type": "stream",
     "text": [
      "Image download: ../Data/exports/ndvi/2018-04-05-2018-05-03--117.502405-33.389425_ndvi_bw.tif (512, 512)\n",
      "Image download: ../Data/exports/tc/2018-04-05-2018-05-03--117.148204-33.504964_tc.tif (512, 512)\n"
     ]
    },
    {
     "name": "stderr",
     "output_type": "stream",
     "text": [
      "\r",
      " 45%|████████████████████████████████████▉                                              | 448/1006 [33:40<41:48,  4.50s/it]"
     ]
    },
    {
     "name": "stdout",
     "output_type": "stream",
     "text": [
      "Image download: ../Data/exports/ndvi/2018-04-05-2018-05-03--117.148204-33.504964_ndvi_bw.tif (512, 512)\n",
      "Image download: ../Data/exports/tc/2018-04-05-2018-05-03--117.003829-33.467999_tc.tif (512, 512)\n"
     ]
    },
    {
     "name": "stderr",
     "output_type": "stream",
     "text": [
      "\r",
      " 45%|█████████████████████████████████████                                              | 449/1006 [33:45<42:47,  4.61s/it]"
     ]
    },
    {
     "name": "stdout",
     "output_type": "stream",
     "text": [
      "Image download: ../Data/exports/ndvi/2018-04-05-2018-05-03--117.003829-33.467999_ndvi_bw.tif (512, 512)\n",
      "Image download: ../Data/exports/tc/2018-04-10-2018-05-08--122.48556-41.65935_tc.tif (512, 512)\n"
     ]
    },
    {
     "name": "stderr",
     "output_type": "stream",
     "text": [
      "\r",
      " 45%|█████████████████████████████████████▏                                             | 450/1006 [33:49<41:37,  4.49s/it]"
     ]
    },
    {
     "name": "stdout",
     "output_type": "stream",
     "text": [
      "Image download: ../Data/exports/ndvi/2018-04-10-2018-05-08--122.48556-41.65935_ndvi_bw.tif (512, 512)\n",
      "Image download: ../Data/exports/tc/2018-04-10-2018-05-08--117.27467-33.40178_tc.tif (512, 512)\n"
     ]
    },
    {
     "name": "stderr",
     "output_type": "stream",
     "text": [
      "\r",
      " 45%|█████████████████████████████████████▏                                             | 451/1006 [33:54<42:25,  4.59s/it]"
     ]
    },
    {
     "name": "stdout",
     "output_type": "stream",
     "text": [
      "Image download: ../Data/exports/ndvi/2018-04-10-2018-05-08--117.27467-33.40178_ndvi_bw.tif (512, 512)\n",
      "Image download: ../Data/exports/tc/2018-04-11-2018-05-09--116.58759-33.12213_tc.tif (512, 512)\n"
     ]
    },
    {
     "name": "stderr",
     "output_type": "stream",
     "text": [
      "\r",
      " 45%|█████████████████████████████████████▎                                             | 452/1006 [33:58<41:17,  4.47s/it]"
     ]
    },
    {
     "name": "stdout",
     "output_type": "stream",
     "text": [
      "Image download: ../Data/exports/ndvi/2018-04-11-2018-05-09--116.58759-33.12213_ndvi_bw.tif (512, 512)\n",
      "Image download: ../Data/exports/tc/2018-04-15-2018-05-13--121.6039-37.73835_tc.tif (512, 512)\n"
     ]
    },
    {
     "name": "stderr",
     "output_type": "stream",
     "text": [
      "\r",
      " 45%|█████████████████████████████████████▎                                             | 453/1006 [34:03<41:29,  4.50s/it]"
     ]
    },
    {
     "name": "stdout",
     "output_type": "stream",
     "text": [
      "Image download: ../Data/exports/ndvi/2018-04-15-2018-05-13--121.6039-37.73835_ndvi_bw.tif (512, 512)\n",
      "Image download: ../Data/exports/tc/2018-04-18-2018-05-16--120.18236-34.74245_tc.tif (512, 512)\n"
     ]
    },
    {
     "name": "stderr",
     "output_type": "stream",
     "text": [
      "\r",
      " 45%|█████████████████████████████████████▍                                             | 454/1006 [34:08<42:18,  4.60s/it]"
     ]
    },
    {
     "name": "stdout",
     "output_type": "stream",
     "text": [
      "Image download: ../Data/exports/ndvi/2018-04-18-2018-05-16--120.18236-34.74245_ndvi_bw.tif (512, 512)\n",
      "Image download: ../Data/exports/tc/2018-04-18-2018-05-16--117.05992-33.62924_tc.tif (512, 512)\n"
     ]
    },
    {
     "name": "stderr",
     "output_type": "stream",
     "text": [
      "\r",
      " 45%|█████████████████████████████████████▌                                             | 455/1006 [34:13<44:12,  4.81s/it]"
     ]
    },
    {
     "name": "stdout",
     "output_type": "stream",
     "text": [
      "Image download: ../Data/exports/ndvi/2018-04-18-2018-05-16--117.05992-33.62924_ndvi_bw.tif (512, 512)\n",
      "Image download: ../Data/exports/tc/2018-04-19-2018-05-17--118.9821-35.826333_tc.tif (512, 512)\n"
     ]
    },
    {
     "name": "stderr",
     "output_type": "stream",
     "text": [
      "\r",
      " 45%|█████████████████████████████████████▌                                             | 456/1006 [34:18<43:25,  4.74s/it]"
     ]
    },
    {
     "name": "stdout",
     "output_type": "stream",
     "text": [
      "Image download: ../Data/exports/ndvi/2018-04-19-2018-05-17--118.9821-35.826333_ndvi_bw.tif (512, 512)\n",
      "Image download: ../Data/exports/tc/2018-04-19-2018-05-17--122.21032-40.31759_tc.tif (512, 512)\n"
     ]
    },
    {
     "name": "stderr",
     "output_type": "stream",
     "text": [
      "\r",
      " 45%|█████████████████████████████████████▋                                             | 457/1006 [34:23<44:32,  4.87s/it]"
     ]
    },
    {
     "name": "stdout",
     "output_type": "stream",
     "text": [
      "Image download: ../Data/exports/ndvi/2018-04-19-2018-05-17--122.21032-40.31759_ndvi_bw.tif (512, 512)\n",
      "Image download: ../Data/exports/tc/2018-04-20-2018-05-18--122.513883-41.791859_tc.tif (512, 512)\n"
     ]
    },
    {
     "name": "stderr",
     "output_type": "stream",
     "text": [
      "\r",
      " 46%|█████████████████████████████████████▊                                             | 458/1006 [34:28<44:10,  4.84s/it]"
     ]
    },
    {
     "name": "stdout",
     "output_type": "stream",
     "text": [
      "Image download: ../Data/exports/ndvi/2018-04-20-2018-05-18--122.513883-41.791859_ndvi_bw.tif (512, 512)\n",
      "Image download: ../Data/exports/tc/2018-04-21-2018-05-19--121.01638-37.056944_tc.tif (512, 512)\n"
     ]
    },
    {
     "name": "stderr",
     "output_type": "stream",
     "text": [
      "\r",
      " 46%|█████████████████████████████████████▊                                             | 459/1006 [34:33<44:55,  4.93s/it]"
     ]
    },
    {
     "name": "stdout",
     "output_type": "stream",
     "text": [
      "Image download: ../Data/exports/ndvi/2018-04-21-2018-05-19--121.01638-37.056944_ndvi_bw.tif (512, 512)\n",
      "Image download: ../Data/exports/tc/2018-04-22-2018-05-20--122.23059-38.16303_tc.tif (512, 512)\n"
     ]
    },
    {
     "name": "stderr",
     "output_type": "stream",
     "text": [
      "\r",
      " 46%|█████████████████████████████████████▉                                             | 460/1006 [34:37<42:21,  4.66s/it]"
     ]
    },
    {
     "name": "stdout",
     "output_type": "stream",
     "text": [
      "Image download: ../Data/exports/ndvi/2018-04-22-2018-05-20--122.23059-38.16303_ndvi_bw.tif (512, 512)\n",
      "Image download: ../Data/exports/tc/2018-04-23-2018-05-21--117.03134-33.35505_tc.tif (512, 512)\n"
     ]
    },
    {
     "name": "stderr",
     "output_type": "stream",
     "text": [
      "\r",
      " 46%|██████████████████████████████████████                                             | 461/1006 [34:43<46:51,  5.16s/it]"
     ]
    },
    {
     "name": "stdout",
     "output_type": "stream",
     "text": [
      "Image download: ../Data/exports/ndvi/2018-04-23-2018-05-21--117.03134-33.35505_ndvi_bw.tif (512, 512)\n",
      "Image download: ../Data/exports/tc/2018-04-24-2018-05-22--119.75307-37.0979_tc.tif (512, 512)\n"
     ]
    },
    {
     "name": "stderr",
     "output_type": "stream",
     "text": [
      "\r",
      " 46%|██████████████████████████████████████                                             | 462/1006 [34:49<47:12,  5.21s/it]"
     ]
    },
    {
     "name": "stdout",
     "output_type": "stream",
     "text": [
      "Image download: ../Data/exports/ndvi/2018-04-24-2018-05-22--119.75307-37.0979_ndvi_bw.tif (512, 512)\n",
      "Image download: ../Data/exports/tc/2018-04-25-2018-05-23--120.12441-35.56922_tc.tif (512, 512)\n"
     ]
    },
    {
     "name": "stderr",
     "output_type": "stream",
     "text": [
      "\r",
      " 46%|██████████████████████████████████████▏                                            | 463/1006 [34:54<49:12,  5.44s/it]"
     ]
    },
    {
     "name": "stdout",
     "output_type": "stream",
     "text": [
      "Image download: ../Data/exports/ndvi/2018-04-25-2018-05-23--120.12441-35.56922_ndvi_bw.tif (512, 512)\n",
      "Image download: ../Data/exports/tc/2018-04-27-2018-05-25--119.42172-36.75581_tc.tif (512, 512)\n"
     ]
    },
    {
     "name": "stderr",
     "output_type": "stream",
     "text": [
      "\r",
      " 46%|██████████████████████████████████████▎                                            | 464/1006 [35:00<48:10,  5.33s/it]"
     ]
    },
    {
     "name": "stdout",
     "output_type": "stream",
     "text": [
      "Image download: ../Data/exports/ndvi/2018-04-27-2018-05-25--119.42172-36.75581_ndvi_bw.tif (512, 512)\n",
      "Image download: ../Data/exports/tc/2018-04-28-2018-05-26--121.76828-37.21803_tc.tif (512, 512)\n"
     ]
    },
    {
     "name": "stderr",
     "output_type": "stream",
     "text": [
      "\r",
      " 46%|██████████████████████████████████████▎                                            | 465/1006 [35:04<44:22,  4.92s/it]"
     ]
    },
    {
     "name": "stdout",
     "output_type": "stream",
     "text": [
      "Image download: ../Data/exports/ndvi/2018-04-28-2018-05-26--121.76828-37.21803_ndvi_bw.tif (512, 512)\n",
      "Image download: ../Data/exports/tc/2018-04-29-2018-05-27--116.10231-33.53924_tc.tif (512, 512)\n"
     ]
    },
    {
     "name": "stderr",
     "output_type": "stream",
     "text": [
      "\r",
      " 46%|██████████████████████████████████████▍                                            | 466/1006 [35:08<42:12,  4.69s/it]"
     ]
    },
    {
     "name": "stdout",
     "output_type": "stream",
     "text": [
      "Image download: ../Data/exports/ndvi/2018-04-29-2018-05-27--116.10231-33.53924_ndvi_bw.tif (512, 512)\n",
      "Image download: ../Data/exports/tc/2018-04-29-2018-05-27--122.58666-39.65578_tc.tif (512, 512)\n"
     ]
    },
    {
     "name": "stderr",
     "output_type": "stream",
     "text": [
      "\r",
      " 46%|██████████████████████████████████████▌                                            | 467/1006 [35:13<42:45,  4.76s/it]"
     ]
    },
    {
     "name": "stdout",
     "output_type": "stream",
     "text": [
      "Image download: ../Data/exports/ndvi/2018-04-29-2018-05-27--122.58666-39.65578_ndvi_bw.tif (512, 512)\n",
      "Image download: ../Data/exports/tc/2018-04-30-2018-05-28--121.10903-37.32744_tc.tif (512, 512)\n"
     ]
    },
    {
     "name": "stderr",
     "output_type": "stream",
     "text": [
      "\r",
      " 47%|██████████████████████████████████████▌                                            | 468/1006 [35:18<44:06,  4.92s/it]"
     ]
    },
    {
     "name": "stdout",
     "output_type": "stream",
     "text": [
      "Image download: ../Data/exports/ndvi/2018-04-30-2018-05-28--121.10903-37.32744_ndvi_bw.tif (512, 512)\n",
      "Image download: ../Data/exports/tc/2018-04-30-2018-05-28--120.64028-35.71859_tc.tif (512, 512)\n"
     ]
    },
    {
     "name": "stderr",
     "output_type": "stream",
     "text": [
      "\r",
      " 47%|██████████████████████████████████████▋                                            | 469/1006 [35:22<42:44,  4.78s/it]"
     ]
    },
    {
     "name": "stdout",
     "output_type": "stream",
     "text": [
      "Image download: ../Data/exports/ndvi/2018-04-30-2018-05-28--120.64028-35.71859_ndvi_bw.tif (512, 512)\n",
      "Image download: ../Data/exports/tc/2018-05-01-2018-05-29--121.57918-37.75375_tc.tif (512, 512)\n"
     ]
    },
    {
     "name": "stderr",
     "output_type": "stream",
     "text": [
      "\r",
      " 47%|██████████████████████████████████████▊                                            | 470/1006 [35:26<39:58,  4.47s/it]"
     ]
    },
    {
     "name": "stdout",
     "output_type": "stream",
     "text": [
      "Image download: ../Data/exports/ndvi/2018-05-01-2018-05-29--121.57918-37.75375_ndvi_bw.tif (512, 512)\n",
      "Image download: ../Data/exports/tc/2018-05-03-2018-05-31--122.01762-38.64953_tc.tif (512, 512)\n"
     ]
    },
    {
     "name": "stderr",
     "output_type": "stream",
     "text": [
      "\r",
      " 47%|██████████████████████████████████████▊                                            | 471/1006 [35:30<38:11,  4.28s/it]"
     ]
    },
    {
     "name": "stdout",
     "output_type": "stream",
     "text": [
      "Image download: ../Data/exports/ndvi/2018-05-03-2018-05-31--122.01762-38.64953_ndvi_bw.tif (512, 512)\n",
      "Image download: ../Data/exports/tc/2018-05-03-2018-05-31--122.65582-39.46543_tc.tif (512, 512)\n"
     ]
    },
    {
     "name": "stderr",
     "output_type": "stream",
     "text": [
      "\r",
      " 47%|██████████████████████████████████████▉                                            | 472/1006 [35:35<38:56,  4.38s/it]"
     ]
    },
    {
     "name": "stdout",
     "output_type": "stream",
     "text": [
      "Image download: ../Data/exports/ndvi/2018-05-03-2018-05-31--122.65582-39.46543_ndvi_bw.tif (512, 512)\n",
      "Image download: ../Data/exports/tc/2018-05-03-2018-05-31--122.29388-40.201826_tc.tif (512, 512)\n"
     ]
    },
    {
     "name": "stderr",
     "output_type": "stream",
     "text": [
      "\r",
      " 47%|███████████████████████████████████████                                            | 473/1006 [35:39<40:20,  4.54s/it]"
     ]
    },
    {
     "name": "stdout",
     "output_type": "stream",
     "text": [
      "Image download: ../Data/exports/ndvi/2018-05-03-2018-05-31--122.29388-40.201826_ndvi_bw.tif (512, 512)\n",
      "Image download: ../Data/exports/tc/2018-05-04-2018-06-01--120.55324-36.10499_tc.tif (512, 512)\n"
     ]
    },
    {
     "name": "stderr",
     "output_type": "stream",
     "text": [
      "\r",
      " 47%|███████████████████████████████████████                                            | 474/1006 [35:44<40:58,  4.62s/it]"
     ]
    },
    {
     "name": "stdout",
     "output_type": "stream",
     "text": [
      "Image download: ../Data/exports/ndvi/2018-05-04-2018-06-01--120.55324-36.10499_ndvi_bw.tif (512, 512)\n",
      "Image download: ../Data/exports/tc/2018-05-04-2018-06-01--121.86473-37.99113_tc.tif (512, 512)\n"
     ]
    },
    {
     "name": "stderr",
     "output_type": "stream",
     "text": [
      "\r",
      " 47%|███████████████████████████████████████▏                                           | 475/1006 [35:48<39:41,  4.48s/it]"
     ]
    },
    {
     "name": "stdout",
     "output_type": "stream",
     "text": [
      "Image download: ../Data/exports/ndvi/2018-05-04-2018-06-01--121.86473-37.99113_ndvi_bw.tif (512, 512)\n",
      "Image download: ../Data/exports/tc/2018-05-04-2018-06-01--117.72044-33.55132_tc.tif (512, 512)\n"
     ]
    },
    {
     "name": "stderr",
     "output_type": "stream",
     "text": [
      "\r",
      " 47%|███████████████████████████████████████▎                                           | 476/1006 [35:52<38:17,  4.34s/it]"
     ]
    },
    {
     "name": "stdout",
     "output_type": "stream",
     "text": [
      "Image download: ../Data/exports/ndvi/2018-05-04-2018-06-01--117.72044-33.55132_ndvi_bw.tif (512, 512)\n",
      "Image download: ../Data/exports/tc/2018-05-04-2018-06-01--117.22215-33.45014_tc.tif (512, 512)\n"
     ]
    },
    {
     "name": "stderr",
     "output_type": "stream",
     "text": [
      "\r",
      " 47%|███████████████████████████████████████▎                                           | 477/1006 [35:57<39:15,  4.45s/it]"
     ]
    },
    {
     "name": "stdout",
     "output_type": "stream",
     "text": [
      "Image download: ../Data/exports/ndvi/2018-05-04-2018-06-01--117.22215-33.45014_ndvi_bw.tif (512, 512)\n",
      "Image download: ../Data/exports/tc/2018-05-05-2018-06-02--122.3307-39.80827_tc.tif (512, 512)\n"
     ]
    },
    {
     "name": "stderr",
     "output_type": "stream",
     "text": [
      "\r",
      " 48%|███████████████████████████████████████▍                                           | 478/1006 [36:02<40:49,  4.64s/it]"
     ]
    },
    {
     "name": "stdout",
     "output_type": "stream",
     "text": [
      "Image download: ../Data/exports/ndvi/2018-05-05-2018-06-02--122.3307-39.80827_ndvi_bw.tif (512, 512)\n",
      "Image download: ../Data/exports/tc/2018-05-05-2018-06-02--117.31468-33.47413_tc.tif (512, 512)\n"
     ]
    },
    {
     "name": "stderr",
     "output_type": "stream",
     "text": [
      "\r",
      " 48%|███████████████████████████████████████▌                                           | 479/1006 [36:06<39:09,  4.46s/it]"
     ]
    },
    {
     "name": "stdout",
     "output_type": "stream",
     "text": [
      "Image download: ../Data/exports/ndvi/2018-05-05-2018-06-02--117.31468-33.47413_ndvi_bw.tif (512, 512)\n",
      "Image download: ../Data/exports/tc/2018-05-05-2018-06-02--117.28189-33.742_tc.tif (512, 512)\n"
     ]
    },
    {
     "name": "stderr",
     "output_type": "stream",
     "text": [
      "\r",
      " 48%|███████████████████████████████████████▌                                           | 480/1006 [36:10<38:15,  4.36s/it]"
     ]
    },
    {
     "name": "stdout",
     "output_type": "stream",
     "text": [
      "Image download: ../Data/exports/ndvi/2018-05-05-2018-06-02--117.28189-33.742_ndvi_bw.tif (512, 512)\n",
      "Image download: ../Data/exports/tc/2018-05-05-2018-06-02--121.36446-36.83036_tc.tif (512, 512)\n"
     ]
    },
    {
     "name": "stderr",
     "output_type": "stream",
     "text": [
      "\r",
      " 48%|███████████████████████████████████████▋                                           | 481/1006 [36:15<38:51,  4.44s/it]"
     ]
    },
    {
     "name": "stdout",
     "output_type": "stream",
     "text": [
      "Image download: ../Data/exports/ndvi/2018-05-05-2018-06-02--121.36446-36.83036_ndvi_bw.tif (512, 512)\n",
      "Image download: ../Data/exports/tc/2018-05-05-2018-06-02--120.91793-35.75737_tc.tif (512, 512)\n"
     ]
    },
    {
     "name": "stderr",
     "output_type": "stream",
     "text": [
      "\r",
      " 48%|███████████████████████████████████████▊                                           | 482/1006 [36:20<39:43,  4.55s/it]"
     ]
    },
    {
     "name": "stdout",
     "output_type": "stream",
     "text": [
      "Image download: ../Data/exports/ndvi/2018-05-05-2018-06-02--120.91793-35.75737_ndvi_bw.tif (512, 512)\n",
      "Image download: ../Data/exports/tc/2018-05-05-2018-06-02--122.33769-41.58233_tc.tif (512, 512)\n"
     ]
    },
    {
     "name": "stderr",
     "output_type": "stream",
     "text": [
      "\r",
      " 48%|███████████████████████████████████████▊                                           | 483/1006 [36:25<40:13,  4.62s/it]"
     ]
    },
    {
     "name": "stdout",
     "output_type": "stream",
     "text": [
      "Image download: ../Data/exports/ndvi/2018-05-05-2018-06-02--122.33769-41.58233_ndvi_bw.tif (512, 512)\n",
      "Image download: ../Data/exports/tc/2018-05-05-2018-06-02--117.06782-32.78031_tc.tif (512, 512)\n"
     ]
    },
    {
     "name": "stderr",
     "output_type": "stream",
     "text": [
      "\r",
      " 48%|███████████████████████████████████████▉                                           | 484/1006 [36:29<38:54,  4.47s/it]"
     ]
    },
    {
     "name": "stdout",
     "output_type": "stream",
     "text": [
      "Image download: ../Data/exports/ndvi/2018-05-05-2018-06-02--117.06782-32.78031_ndvi_bw.tif (512, 512)\n",
      "Image download: ../Data/exports/tc/2018-05-05-2018-06-02--116.92404-32.75072_tc.tif (512, 512)\n"
     ]
    },
    {
     "name": "stderr",
     "output_type": "stream",
     "text": [
      "\r",
      " 48%|████████████████████████████████████████                                           | 485/1006 [36:34<39:37,  4.56s/it]"
     ]
    },
    {
     "name": "stdout",
     "output_type": "stream",
     "text": [
      "Image download: ../Data/exports/ndvi/2018-05-05-2018-06-02--116.92404-32.75072_ndvi_bw.tif (512, 512)\n",
      "Image download: ../Data/exports/tc/2018-05-06-2018-06-03--118.31138-34.5486_tc.tif (512, 512)\n"
     ]
    },
    {
     "name": "stderr",
     "output_type": "stream",
     "text": [
      "\r",
      " 48%|████████████████████████████████████████                                           | 486/1006 [36:38<39:27,  4.55s/it]"
     ]
    },
    {
     "name": "stdout",
     "output_type": "stream",
     "text": [
      "Image download: ../Data/exports/ndvi/2018-05-06-2018-06-03--118.31138-34.5486_ndvi_bw.tif (512, 512)\n",
      "Image download: ../Data/exports/tc/2018-05-06-2018-06-03--122.98442-41.64805_tc.tif (512, 512)\n"
     ]
    },
    {
     "name": "stderr",
     "output_type": "stream",
     "text": [
      "\r",
      " 48%|████████████████████████████████████████▏                                          | 487/1006 [36:43<40:34,  4.69s/it]"
     ]
    },
    {
     "name": "stdout",
     "output_type": "stream",
     "text": [
      "Image download: ../Data/exports/ndvi/2018-05-06-2018-06-03--122.98442-41.64805_ndvi_bw.tif (512, 512)\n",
      "Image download: ../Data/exports/tc/2018-05-06-2018-06-03--120.99322-36.40755_tc.tif (512, 512)\n"
     ]
    },
    {
     "name": "stderr",
     "output_type": "stream",
     "text": [
      "\r",
      " 49%|████████████████████████████████████████▎                                          | 488/1006 [36:48<40:49,  4.73s/it]"
     ]
    },
    {
     "name": "stdout",
     "output_type": "stream",
     "text": [
      "Image download: ../Data/exports/ndvi/2018-05-06-2018-06-03--120.99322-36.40755_ndvi_bw.tif (512, 512)\n",
      "Image download: ../Data/exports/tc/2018-05-06-2018-06-03--120.901167-36.378333_tc.tif (512, 512)\n"
     ]
    },
    {
     "name": "stderr",
     "output_type": "stream",
     "text": [
      "\r",
      " 49%|████████████████████████████████████████▎                                          | 489/1006 [36:52<40:14,  4.67s/it]"
     ]
    },
    {
     "name": "stdout",
     "output_type": "stream",
     "text": [
      "Image download: ../Data/exports/ndvi/2018-05-06-2018-06-03--120.901167-36.378333_ndvi_bw.tif (512, 512)\n",
      "Image download: ../Data/exports/tc/2018-05-06-2018-06-03--119.623981-37.10181_tc.tif (512, 512)\n"
     ]
    },
    {
     "name": "stderr",
     "output_type": "stream",
     "text": [
      "\r",
      " 49%|████████████████████████████████████████▍                                          | 490/1006 [36:58<42:25,  4.93s/it]"
     ]
    },
    {
     "name": "stdout",
     "output_type": "stream",
     "text": [
      "Image download: ../Data/exports/ndvi/2018-05-06-2018-06-03--119.623981-37.10181_ndvi_bw.tif (512, 512)\n",
      "Image download: ../Data/exports/tc/2018-05-06-2018-06-03--121.03253-36.64832_tc.tif (512, 512)\n"
     ]
    },
    {
     "name": "stderr",
     "output_type": "stream",
     "text": [
      "\r",
      " 49%|████████████████████████████████████████▌                                          | 491/1006 [37:03<42:18,  4.93s/it]"
     ]
    },
    {
     "name": "stdout",
     "output_type": "stream",
     "text": [
      "Image download: ../Data/exports/ndvi/2018-05-06-2018-06-03--121.03253-36.64832_ndvi_bw.tif (512, 512)\n",
      "Image download: ../Data/exports/tc/2018-05-07-2018-06-04--122.44408-38.245151_tc.tif (512, 512)\n"
     ]
    },
    {
     "name": "stderr",
     "output_type": "stream",
     "text": [
      "\r",
      " 49%|████████████████████████████████████████▌                                          | 492/1006 [37:07<39:41,  4.63s/it]"
     ]
    },
    {
     "name": "stdout",
     "output_type": "stream",
     "text": [
      "Image download: ../Data/exports/ndvi/2018-05-07-2018-06-04--122.44408-38.245151_ndvi_bw.tif (512, 512)\n",
      "Image download: ../Data/exports/tc/2018-05-07-2018-06-04--117.22974-33.40769_tc.tif (512, 512)\n"
     ]
    },
    {
     "name": "stderr",
     "output_type": "stream",
     "text": [
      "\r",
      " 49%|████████████████████████████████████████▋                                          | 493/1006 [37:12<39:49,  4.66s/it]"
     ]
    },
    {
     "name": "stdout",
     "output_type": "stream",
     "text": [
      "Image download: ../Data/exports/ndvi/2018-05-07-2018-06-04--117.22974-33.40769_ndvi_bw.tif (512, 512)\n",
      "Image download: ../Data/exports/tc/2018-05-08-2018-06-05--116.46674-32.63046_tc.tif (512, 512)\n"
     ]
    },
    {
     "name": "stderr",
     "output_type": "stream",
     "text": [
      "\r",
      " 49%|████████████████████████████████████████▊                                          | 494/1006 [37:16<39:12,  4.59s/it]"
     ]
    },
    {
     "name": "stdout",
     "output_type": "stream",
     "text": [
      "Image download: ../Data/exports/ndvi/2018-05-08-2018-06-05--116.46674-32.63046_ndvi_bw.tif (512, 512)\n",
      "Image download: ../Data/exports/tc/2018-05-09-2018-06-06--120.24315-37.33924_tc.tif (512, 512)\n"
     ]
    },
    {
     "name": "stderr",
     "output_type": "stream",
     "text": [
      "\r",
      " 49%|████████████████████████████████████████▊                                          | 495/1006 [37:22<41:56,  4.92s/it]"
     ]
    },
    {
     "name": "stdout",
     "output_type": "stream",
     "text": [
      "Image download: ../Data/exports/ndvi/2018-05-09-2018-06-06--120.24315-37.33924_ndvi_bw.tif (512, 512)\n",
      "Image download: ../Data/exports/tc/2018-05-11-2018-06-08--122.3571-39.94355_tc.tif (512, 512)\n"
     ]
    },
    {
     "name": "stderr",
     "output_type": "stream",
     "text": [
      "\r",
      " 49%|████████████████████████████████████████▉                                          | 496/1006 [37:27<42:20,  4.98s/it]"
     ]
    },
    {
     "name": "stdout",
     "output_type": "stream",
     "text": [
      "Image download: ../Data/exports/ndvi/2018-05-11-2018-06-08--122.3571-39.94355_ndvi_bw.tif (512, 512)\n",
      "Image download: ../Data/exports/tc/2018-05-11-2018-06-08--122.5275-37.97638_tc.tif (512, 512)\n"
     ]
    },
    {
     "name": "stderr",
     "output_type": "stream",
     "text": [
      "\r",
      " 49%|█████████████████████████████████████████                                          | 497/1006 [37:31<41:18,  4.87s/it]"
     ]
    },
    {
     "name": "stdout",
     "output_type": "stream",
     "text": [
      "Image download: ../Data/exports/ndvi/2018-05-11-2018-06-08--122.5275-37.97638_ndvi_bw.tif (512, 512)\n",
      "Image download: ../Data/exports/tc/2018-05-11-2018-06-08--122.5275-37.97638_tc.tif (512, 512)\n"
     ]
    },
    {
     "name": "stderr",
     "output_type": "stream",
     "text": [
      "\r",
      " 50%|█████████████████████████████████████████                                          | 498/1006 [37:35<38:18,  4.53s/it]"
     ]
    },
    {
     "name": "stdout",
     "output_type": "stream",
     "text": [
      "Image download: ../Data/exports/ndvi/2018-05-11-2018-06-08--122.5275-37.97638_ndvi_bw.tif (512, 512)\n",
      "Image download: ../Data/exports/tc/2018-05-11-2018-06-08--121.11936-35.9352_tc.tif (512, 512)\n"
     ]
    },
    {
     "name": "stderr",
     "output_type": "stream",
     "text": [
      "\r",
      " 50%|█████████████████████████████████████████▏                                         | 499/1006 [37:41<42:01,  4.97s/it]"
     ]
    },
    {
     "name": "stdout",
     "output_type": "stream",
     "text": [
      "Image download: ../Data/exports/ndvi/2018-05-11-2018-06-08--121.11936-35.9352_ndvi_bw.tif (512, 512)\n",
      "Image download: ../Data/exports/tc/2018-05-11-2018-06-08--122.58218-39.64978_tc.tif (512, 512)\n"
     ]
    },
    {
     "name": "stderr",
     "output_type": "stream",
     "text": [
      "\r",
      " 50%|█████████████████████████████████████████▎                                         | 500/1006 [37:47<44:19,  5.26s/it]"
     ]
    },
    {
     "name": "stdout",
     "output_type": "stream",
     "text": [
      "Image download: ../Data/exports/ndvi/2018-05-11-2018-06-08--122.58218-39.64978_ndvi_bw.tif (512, 512)\n",
      "Image download: ../Data/exports/tc/2018-05-13-2018-06-10--119.118-37.571_tc.tif (512, 512)\n"
     ]
    },
    {
     "name": "stderr",
     "output_type": "stream",
     "text": [
      "\r",
      " 50%|█████████████████████████████████████████▎                                         | 501/1006 [37:51<41:13,  4.90s/it]"
     ]
    },
    {
     "name": "stdout",
     "output_type": "stream",
     "text": [
      "Image download: ../Data/exports/ndvi/2018-05-13-2018-06-10--119.118-37.571_ndvi_bw.tif (512, 512)\n",
      "Image download: ../Data/exports/tc/2018-05-13-2018-06-10--121.09199-38.24033_tc.tif (512, 512)\n"
     ]
    },
    {
     "name": "stderr",
     "output_type": "stream",
     "text": [
      "\r",
      " 50%|█████████████████████████████████████████▍                                         | 502/1006 [37:55<38:38,  4.60s/it]"
     ]
    },
    {
     "name": "stdout",
     "output_type": "stream",
     "text": [
      "Image download: ../Data/exports/ndvi/2018-05-13-2018-06-10--121.09199-38.24033_ndvi_bw.tif (512, 512)\n",
      "Image download: ../Data/exports/tc/2018-05-13-2018-06-10--117.746625-33.787838_tc.tif (512, 512)\n"
     ]
    },
    {
     "name": "stderr",
     "output_type": "stream",
     "text": [
      "\r",
      " 50%|█████████████████████████████████████████▌                                         | 503/1006 [37:59<37:27,  4.47s/it]"
     ]
    },
    {
     "name": "stdout",
     "output_type": "stream",
     "text": [
      "Image download: ../Data/exports/ndvi/2018-05-13-2018-06-10--117.746625-33.787838_ndvi_bw.tif (512, 512)\n",
      "Image download: ../Data/exports/tc/2018-05-14-2018-06-11--117.654299-33.925862_tc.tif (512, 512)\n"
     ]
    },
    {
     "name": "stderr",
     "output_type": "stream",
     "text": [
      "\r",
      " 50%|█████████████████████████████████████████▌                                         | 504/1006 [38:03<36:12,  4.33s/it]"
     ]
    },
    {
     "name": "stdout",
     "output_type": "stream",
     "text": [
      "Image download: ../Data/exports/ndvi/2018-05-14-2018-06-11--117.654299-33.925862_ndvi_bw.tif (512, 512)\n",
      "Image download: ../Data/exports/tc/2018-05-14-2018-06-11--118.427886-34.110516_tc.tif (512, 512)\n"
     ]
    },
    {
     "name": "stderr",
     "output_type": "stream",
     "text": [
      "\r",
      " 50%|█████████████████████████████████████████▋                                         | 505/1006 [38:07<35:53,  4.30s/it]"
     ]
    },
    {
     "name": "stdout",
     "output_type": "stream",
     "text": [
      "Image download: ../Data/exports/ndvi/2018-05-14-2018-06-11--118.427886-34.110516_ndvi_bw.tif (512, 512)\n",
      "Image download: ../Data/exports/tc/2018-05-14-2018-06-11--120.862579-36.37532_tc.tif (512, 512)\n"
     ]
    },
    {
     "name": "stderr",
     "output_type": "stream",
     "text": [
      "\r",
      " 50%|█████████████████████████████████████████▋                                         | 506/1006 [38:12<36:54,  4.43s/it]"
     ]
    },
    {
     "name": "stdout",
     "output_type": "stream",
     "text": [
      "Image download: ../Data/exports/ndvi/2018-05-14-2018-06-11--120.862579-36.37532_ndvi_bw.tif (512, 512)\n",
      "Image download: ../Data/exports/tc/2018-05-15-2018-06-12--120.670311-35.663607_tc.tif (512, 512)\n"
     ]
    },
    {
     "name": "stderr",
     "output_type": "stream",
     "text": [
      "\r",
      " 50%|█████████████████████████████████████████▊                                         | 507/1006 [38:17<37:36,  4.52s/it]"
     ]
    },
    {
     "name": "stdout",
     "output_type": "stream",
     "text": [
      "Image download: ../Data/exports/ndvi/2018-05-15-2018-06-12--120.670311-35.663607_ndvi_bw.tif (512, 512)\n",
      "Image download: ../Data/exports/tc/2018-05-15-2018-06-12--122.135924-40.394073_tc.tif (512, 512)\n"
     ]
    },
    {
     "name": "stderr",
     "output_type": "stream",
     "text": [
      "\r",
      " 50%|█████████████████████████████████████████▉                                         | 508/1006 [38:22<39:03,  4.71s/it]"
     ]
    },
    {
     "name": "stdout",
     "output_type": "stream",
     "text": [
      "Image download: ../Data/exports/ndvi/2018-05-15-2018-06-12--122.135924-40.394073_ndvi_bw.tif (512, 512)\n",
      "Image download: ../Data/exports/tc/2018-05-16-2018-06-13--121.617698-39.602703_tc.tif (512, 512)\n"
     ]
    },
    {
     "name": "stderr",
     "output_type": "stream",
     "text": [
      "\r",
      " 51%|█████████████████████████████████████████▉                                         | 509/1006 [38:26<37:51,  4.57s/it]"
     ]
    },
    {
     "name": "stdout",
     "output_type": "stream",
     "text": [
      "Image download: ../Data/exports/ndvi/2018-05-16-2018-06-13--121.617698-39.602703_ndvi_bw.tif (512, 512)\n",
      "Image download: ../Data/exports/tc/2018-05-16-2018-06-13--116.821724-33.524412_tc.tif (512, 512)\n"
     ]
    },
    {
     "name": "stderr",
     "output_type": "stream",
     "text": [
      "\r",
      " 51%|██████████████████████████████████████████                                         | 510/1006 [38:32<41:31,  5.02s/it]"
     ]
    },
    {
     "name": "stdout",
     "output_type": "stream",
     "text": [
      "Image download: ../Data/exports/ndvi/2018-05-16-2018-06-13--116.821724-33.524412_ndvi_bw.tif (512, 512)\n",
      "Image download: ../Data/exports/tc/2018-05-16-2018-06-13--120.624135-35.58354_tc.tif (512, 512)\n"
     ]
    },
    {
     "name": "stderr",
     "output_type": "stream",
     "text": [
      "\r",
      " 51%|██████████████████████████████████████████▏                                        | 511/1006 [38:37<39:43,  4.82s/it]"
     ]
    },
    {
     "name": "stdout",
     "output_type": "stream",
     "text": [
      "Image download: ../Data/exports/ndvi/2018-05-16-2018-06-13--120.624135-35.58354_ndvi_bw.tif (512, 512)\n",
      "Image download: ../Data/exports/tc/2018-05-16-2018-06-13--120.36403-40.3768_tc.tif (512, 512)\n"
     ]
    },
    {
     "name": "stderr",
     "output_type": "stream",
     "text": [
      "\r",
      " 51%|██████████████████████████████████████████▏                                        | 512/1006 [38:41<37:55,  4.61s/it]"
     ]
    },
    {
     "name": "stdout",
     "output_type": "stream",
     "text": [
      "Image download: ../Data/exports/ndvi/2018-05-16-2018-06-13--120.36403-40.3768_ndvi_bw.tif (512, 512)\n",
      "Image download: ../Data/exports/tc/2018-05-17-2018-06-14--120.34207-37.39339_tc.tif (512, 512)\n"
     ]
    },
    {
     "name": "stderr",
     "output_type": "stream",
     "text": [
      "\r",
      " 51%|██████████████████████████████████████████▎                                        | 513/1006 [38:47<41:39,  5.07s/it]"
     ]
    },
    {
     "name": "stdout",
     "output_type": "stream",
     "text": [
      "Image download: ../Data/exports/ndvi/2018-05-17-2018-06-14--120.34207-37.39339_ndvi_bw.tif (512, 512)\n",
      "Image download: ../Data/exports/tc/2018-05-17-2018-06-14--119.91223-37.14663_tc.tif (512, 512)\n"
     ]
    },
    {
     "name": "stderr",
     "output_type": "stream",
     "text": [
      "\r",
      " 51%|██████████████████████████████████████████▍                                        | 514/1006 [38:52<42:43,  5.21s/it]"
     ]
    },
    {
     "name": "stdout",
     "output_type": "stream",
     "text": [
      "Image download: ../Data/exports/ndvi/2018-05-17-2018-06-14--119.91223-37.14663_ndvi_bw.tif (512, 512)\n",
      "Image download: ../Data/exports/tc/2018-05-17-2018-06-14--119.84299-37.47677_tc.tif (512, 512)\n"
     ]
    },
    {
     "name": "stderr",
     "output_type": "stream",
     "text": [
      "\r",
      " 51%|██████████████████████████████████████████▍                                        | 515/1006 [38:57<40:48,  4.99s/it]"
     ]
    },
    {
     "name": "stdout",
     "output_type": "stream",
     "text": [
      "Image download: ../Data/exports/ndvi/2018-05-17-2018-06-14--119.84299-37.47677_ndvi_bw.tif (512, 512)\n",
      "Image download: ../Data/exports/tc/2018-05-18-2018-06-15--121.521111-39.549167_tc.tif (512, 512)\n"
     ]
    },
    {
     "name": "stderr",
     "output_type": "stream",
     "text": [
      "\r",
      " 51%|██████████████████████████████████████████▌                                        | 516/1006 [39:02<39:42,  4.86s/it]"
     ]
    },
    {
     "name": "stdout",
     "output_type": "stream",
     "text": [
      "Image download: ../Data/exports/ndvi/2018-05-18-2018-06-15--121.521111-39.549167_ndvi_bw.tif (512, 512)\n",
      "Image download: ../Data/exports/tc/2018-05-18-2018-06-15--122.476381-38.886518_tc.tif (512, 512)\n"
     ]
    },
    {
     "name": "stderr",
     "output_type": "stream",
     "text": [
      "\r",
      " 51%|██████████████████████████████████████████▋                                        | 517/1006 [39:06<39:29,  4.84s/it]"
     ]
    },
    {
     "name": "stdout",
     "output_type": "stream",
     "text": [
      "Image download: ../Data/exports/ndvi/2018-05-18-2018-06-15--122.476381-38.886518_ndvi_bw.tif (512, 512)\n",
      "Image download: ../Data/exports/tc/2018-05-18-2018-06-15--121.998967-38.015323_tc.tif (512, 512)\n"
     ]
    },
    {
     "name": "stderr",
     "output_type": "stream",
     "text": [
      "\r",
      " 51%|██████████████████████████████████████████▋                                        | 518/1006 [39:11<38:40,  4.75s/it]"
     ]
    },
    {
     "name": "stdout",
     "output_type": "stream",
     "text": [
      "Image download: ../Data/exports/ndvi/2018-05-18-2018-06-15--121.998967-38.015323_ndvi_bw.tif (512, 512)\n",
      "Image download: ../Data/exports/tc/2018-05-19-2018-06-16--120.892404-38.265645_tc.tif (512, 512)\n"
     ]
    },
    {
     "name": "stderr",
     "output_type": "stream",
     "text": [
      "\r",
      " 52%|██████████████████████████████████████████▊                                        | 519/1006 [39:15<37:32,  4.62s/it]"
     ]
    },
    {
     "name": "stdout",
     "output_type": "stream",
     "text": [
      "Image download: ../Data/exports/ndvi/2018-05-19-2018-06-16--120.892404-38.265645_ndvi_bw.tif (512, 512)\n",
      "Image download: ../Data/exports/tc/2018-05-19-2018-06-16--121.176354-37.05876_tc.tif (512, 512)\n"
     ]
    },
    {
     "name": "stderr",
     "output_type": "stream",
     "text": [
      "\r",
      " 52%|██████████████████████████████████████████▉                                        | 520/1006 [39:20<37:19,  4.61s/it]"
     ]
    },
    {
     "name": "stdout",
     "output_type": "stream",
     "text": [
      "Image download: ../Data/exports/ndvi/2018-05-19-2018-06-16--121.176354-37.05876_ndvi_bw.tif (512, 512)\n",
      "Image download: ../Data/exports/tc/2018-05-19-2018-06-16--121.806775-37.627119_tc.tif (512, 512)\n"
     ]
    },
    {
     "name": "stderr",
     "output_type": "stream",
     "text": [
      "\r",
      " 52%|██████████████████████████████████████████▉                                        | 521/1006 [39:24<37:14,  4.61s/it]"
     ]
    },
    {
     "name": "stdout",
     "output_type": "stream",
     "text": [
      "Image download: ../Data/exports/ndvi/2018-05-19-2018-06-16--121.806775-37.627119_ndvi_bw.tif (512, 512)\n",
      "Image download: ../Data/exports/tc/2018-05-20-2018-06-17--120.199162-37.707234_tc.tif (512, 512)\n"
     ]
    },
    {
     "name": "stderr",
     "output_type": "stream",
     "text": [
      "\r",
      " 52%|███████████████████████████████████████████                                        | 522/1006 [39:30<39:38,  4.91s/it]"
     ]
    },
    {
     "name": "stdout",
     "output_type": "stream",
     "text": [
      "Image download: ../Data/exports/ndvi/2018-05-20-2018-06-17--120.199162-37.707234_ndvi_bw.tif (512, 512)\n",
      "Image download: ../Data/exports/tc/2018-05-21-2018-06-18--121.908976-37.779209_tc.tif (512, 512)\n"
     ]
    },
    {
     "name": "stderr",
     "output_type": "stream",
     "text": [
      "\r",
      " 52%|███████████████████████████████████████████▏                                       | 523/1006 [39:34<37:13,  4.62s/it]"
     ]
    },
    {
     "name": "stdout",
     "output_type": "stream",
     "text": [
      "Image download: ../Data/exports/ndvi/2018-05-21-2018-06-18--121.908976-37.779209_ndvi_bw.tif (512, 512)\n",
      "Image download: ../Data/exports/tc/2018-05-21-2018-06-18--120.57833-35.77017_tc.tif (512, 512)\n"
     ]
    },
    {
     "name": "stderr",
     "output_type": "stream",
     "text": [
      "\r",
      " 52%|███████████████████████████████████████████▏                                       | 524/1006 [39:39<38:07,  4.75s/it]"
     ]
    },
    {
     "name": "stdout",
     "output_type": "stream",
     "text": [
      "Image download: ../Data/exports/ndvi/2018-05-21-2018-06-18--120.57833-35.77017_ndvi_bw.tif (512, 512)\n",
      "Image download: ../Data/exports/tc/2018-05-22-2018-06-19--120.75593-35.73629_tc.tif (512, 512)\n"
     ]
    },
    {
     "name": "stderr",
     "output_type": "stream",
     "text": [
      "\r",
      " 52%|███████████████████████████████████████████▎                                       | 525/1006 [39:45<40:34,  5.06s/it]"
     ]
    },
    {
     "name": "stdout",
     "output_type": "stream",
     "text": [
      "Image download: ../Data/exports/ndvi/2018-05-22-2018-06-19--120.75593-35.73629_ndvi_bw.tif (512, 512)\n",
      "Image download: ../Data/exports/tc/2018-05-23-2018-06-20--120.39295-35.05747_tc.tif (512, 512)\n"
     ]
    },
    {
     "name": "stderr",
     "output_type": "stream",
     "text": [
      "\r",
      " 52%|███████████████████████████████████████████▍                                       | 526/1006 [39:49<38:11,  4.77s/it]"
     ]
    },
    {
     "name": "stdout",
     "output_type": "stream",
     "text": [
      "Image download: ../Data/exports/ndvi/2018-05-23-2018-06-20--120.39295-35.05747_ndvi_bw.tif (512, 512)\n",
      "Image download: ../Data/exports/tc/2018-05-25-2018-06-22--121.77867-40.35068_tc.tif (512, 512)\n"
     ]
    },
    {
     "name": "stderr",
     "output_type": "stream",
     "text": [
      "\r",
      " 52%|███████████████████████████████████████████▍                                       | 527/1006 [39:55<42:01,  5.26s/it]"
     ]
    },
    {
     "name": "stdout",
     "output_type": "stream",
     "text": [
      "Image download: ../Data/exports/ndvi/2018-05-25-2018-06-22--121.77867-40.35068_ndvi_bw.tif (512, 512)\n",
      "Image download: ../Data/exports/tc/2018-05-25-2018-06-22--122.27574-40.18395_tc.tif (512, 512)\n"
     ]
    },
    {
     "name": "stderr",
     "output_type": "stream",
     "text": [
      "\r",
      " 52%|███████████████████████████████████████████▌                                       | 528/1006 [40:01<41:59,  5.27s/it]"
     ]
    },
    {
     "name": "stdout",
     "output_type": "stream",
     "text": [
      "Image download: ../Data/exports/ndvi/2018-05-25-2018-06-22--122.27574-40.18395_ndvi_bw.tif (512, 512)\n",
      "Image download: ../Data/exports/tc/2018-05-25-2018-06-22--122.17457-40.52909_tc.tif (512, 512)\n"
     ]
    },
    {
     "name": "stderr",
     "output_type": "stream",
     "text": [
      "\r",
      " 53%|███████████████████████████████████████████▋                                       | 529/1006 [40:06<42:39,  5.37s/it]"
     ]
    },
    {
     "name": "stdout",
     "output_type": "stream",
     "text": [
      "Image download: ../Data/exports/ndvi/2018-05-25-2018-06-22--122.17457-40.52909_ndvi_bw.tif (512, 512)\n",
      "Image download: ../Data/exports/tc/2018-05-25-2018-06-22--122.19792-40.12791_tc.tif (512, 512)\n"
     ]
    },
    {
     "name": "stderr",
     "output_type": "stream",
     "text": [
      "\r",
      " 53%|███████████████████████████████████████████▋                                       | 530/1006 [40:11<42:14,  5.32s/it]"
     ]
    },
    {
     "name": "stdout",
     "output_type": "stream",
     "text": [
      "Image download: ../Data/exports/ndvi/2018-05-25-2018-06-22--122.19792-40.12791_ndvi_bw.tif (512, 512)\n",
      "Image download: ../Data/exports/tc/2018-05-25-2018-06-22--122.59848-39.0674_tc.tif (512, 512)\n"
     ]
    },
    {
     "name": "stderr",
     "output_type": "stream",
     "text": [
      "\r",
      " 53%|███████████████████████████████████████████▊                                       | 531/1006 [40:16<41:18,  5.22s/it]"
     ]
    },
    {
     "name": "stdout",
     "output_type": "stream",
     "text": [
      "Image download: ../Data/exports/ndvi/2018-05-25-2018-06-22--122.59848-39.0674_ndvi_bw.tif (512, 512)\n",
      "Image download: ../Data/exports/tc/2018-05-25-2018-06-22--118.75495-34.53765_tc.tif (512, 512)\n"
     ]
    },
    {
     "name": "stderr",
     "output_type": "stream",
     "text": [
      "\r",
      " 53%|███████████████████████████████████████████▉                                       | 532/1006 [40:21<40:18,  5.10s/it]"
     ]
    },
    {
     "name": "stdout",
     "output_type": "stream",
     "text": [
      "Image download: ../Data/exports/ndvi/2018-05-25-2018-06-22--118.75495-34.53765_ndvi_bw.tif (512, 512)\n",
      "Image download: ../Data/exports/tc/2018-05-26-2018-06-23--122.42308-40.50318_tc.tif (512, 512)\n"
     ]
    },
    {
     "name": "stderr",
     "output_type": "stream",
     "text": [
      "\r",
      " 53%|███████████████████████████████████████████▉                                       | 533/1006 [40:26<39:50,  5.05s/it]"
     ]
    },
    {
     "name": "stdout",
     "output_type": "stream",
     "text": [
      "Image download: ../Data/exports/ndvi/2018-05-26-2018-06-23--122.42308-40.50318_ndvi_bw.tif (512, 512)\n",
      "Image download: ../Data/exports/tc/2018-05-26-2018-06-23--120.30187-37.80785_tc.tif (512, 512)\n"
     ]
    },
    {
     "name": "stderr",
     "output_type": "stream",
     "text": [
      "\r",
      " 53%|████████████████████████████████████████████                                       | 534/1006 [40:34<46:49,  5.95s/it]"
     ]
    },
    {
     "name": "stdout",
     "output_type": "stream",
     "text": [
      "Image download: ../Data/exports/ndvi/2018-05-26-2018-06-23--120.30187-37.80785_ndvi_bw.tif (512, 512)\n",
      "Image download: ../Data/exports/tc/2018-05-26-2018-06-23--120.68902-37.95766_tc.tif (512, 512)\n"
     ]
    },
    {
     "name": "stderr",
     "output_type": "stream",
     "text": [
      "\r",
      " 53%|████████████████████████████████████████████▏                                      | 535/1006 [40:40<47:07,  6.00s/it]"
     ]
    },
    {
     "name": "stdout",
     "output_type": "stream",
     "text": [
      "Image download: ../Data/exports/ndvi/2018-05-26-2018-06-23--120.68902-37.95766_ndvi_bw.tif (512, 512)\n",
      "Image download: ../Data/exports/tc/2018-05-26-2018-06-23--121.09354-37.08529_tc.tif (512, 512)\n"
     ]
    },
    {
     "name": "stderr",
     "output_type": "stream",
     "text": [
      "\r",
      " 53%|████████████████████████████████████████████▏                                      | 536/1006 [40:45<44:27,  5.68s/it]"
     ]
    },
    {
     "name": "stdout",
     "output_type": "stream",
     "text": [
      "Image download: ../Data/exports/ndvi/2018-05-26-2018-06-23--121.09354-37.08529_ndvi_bw.tif (512, 512)\n",
      "Image download: ../Data/exports/tc/2018-05-28-2018-06-25--120.86256-35.95515_tc.tif (512, 512)\n"
     ]
    },
    {
     "name": "stderr",
     "output_type": "stream",
     "text": [
      "\r",
      " 53%|████████████████████████████████████████████▎                                      | 537/1006 [40:51<43:38,  5.58s/it]"
     ]
    },
    {
     "name": "stdout",
     "output_type": "stream",
     "text": [
      "Image download: ../Data/exports/ndvi/2018-05-28-2018-06-25--120.86256-35.95515_ndvi_bw.tif (512, 512)\n",
      "Image download: ../Data/exports/tc/2018-05-28-2018-06-25--120.71488-35.33916_tc.tif (512, 512)\n"
     ]
    },
    {
     "name": "stderr",
     "output_type": "stream",
     "text": [
      "\r",
      " 53%|████████████████████████████████████████████▍                                      | 538/1006 [40:56<42:34,  5.46s/it]"
     ]
    },
    {
     "name": "stdout",
     "output_type": "stream",
     "text": [
      "Image download: ../Data/exports/ndvi/2018-05-28-2018-06-25--120.71488-35.33916_ndvi_bw.tif (512, 512)\n",
      "Image download: ../Data/exports/tc/2018-05-28-2018-06-25--121.78208-39.59872_tc.tif (512, 512)\n"
     ]
    },
    {
     "name": "stderr",
     "output_type": "stream",
     "text": [
      "\r",
      " 54%|████████████████████████████████████████████▍                                      | 539/1006 [41:01<41:09,  5.29s/it]"
     ]
    },
    {
     "name": "stdout",
     "output_type": "stream",
     "text": [
      "Image download: ../Data/exports/ndvi/2018-05-28-2018-06-25--121.78208-39.59872_ndvi_bw.tif (512, 512)\n",
      "Image download: ../Data/exports/tc/2018-05-29-2018-06-26--119.304499-36.696879_tc.tif (512, 512)\n"
     ]
    },
    {
     "name": "stderr",
     "output_type": "stream",
     "text": [
      "\r",
      " 54%|████████████████████████████████████████████▌                                      | 540/1006 [41:05<39:23,  5.07s/it]"
     ]
    },
    {
     "name": "stdout",
     "output_type": "stream",
     "text": [
      "Image download: ../Data/exports/ndvi/2018-05-29-2018-06-26--119.304499-36.696879_ndvi_bw.tif (512, 512)\n",
      "Image download: ../Data/exports/tc/2018-05-29-2018-06-26--120.45053-40.316137_tc.tif (512, 512)\n"
     ]
    },
    {
     "name": "stderr",
     "output_type": "stream",
     "text": [
      "\r",
      " 54%|████████████████████████████████████████████▋                                      | 541/1006 [41:10<38:33,  4.98s/it]"
     ]
    },
    {
     "name": "stdout",
     "output_type": "stream",
     "text": [
      "Image download: ../Data/exports/ndvi/2018-05-29-2018-06-26--120.45053-40.316137_ndvi_bw.tif (512, 512)\n",
      "Image download: ../Data/exports/tc/2018-05-29-2018-06-26--122.99272-41.83359_tc.tif (512, 512)\n"
     ]
    },
    {
     "name": "stderr",
     "output_type": "stream",
     "text": [
      "\r",
      " 54%|████████████████████████████████████████████▋                                      | 542/1006 [41:15<37:51,  4.89s/it]"
     ]
    },
    {
     "name": "stdout",
     "output_type": "stream",
     "text": [
      "Image download: ../Data/exports/ndvi/2018-05-29-2018-06-26--122.99272-41.83359_ndvi_bw.tif (512, 512)\n",
      "Image download: ../Data/exports/tc/2018-05-30-2018-06-27--122.9144-40.60402_tc.tif (512, 512)\n"
     ]
    },
    {
     "name": "stderr",
     "output_type": "stream",
     "text": [
      "\r",
      " 54%|████████████████████████████████████████████▊                                      | 543/1006 [41:21<39:55,  5.17s/it]"
     ]
    },
    {
     "name": "stdout",
     "output_type": "stream",
     "text": [
      "Image download: ../Data/exports/ndvi/2018-05-30-2018-06-27--122.9144-40.60402_ndvi_bw.tif (512, 512)\n",
      "Image download: ../Data/exports/tc/2018-05-31-2018-06-28--121.954098-39.6139_tc.tif (512, 512)\n"
     ]
    },
    {
     "name": "stderr",
     "output_type": "stream",
     "text": [
      "\r",
      " 54%|████████████████████████████████████████████▉                                      | 544/1006 [41:25<38:54,  5.05s/it]"
     ]
    },
    {
     "name": "stdout",
     "output_type": "stream",
     "text": [
      "Image download: ../Data/exports/ndvi/2018-05-31-2018-06-28--121.954098-39.6139_ndvi_bw.tif (512, 512)\n",
      "Image download: ../Data/exports/tc/2018-05-31-2018-06-28--120.945482-38.052055_tc.tif (512, 512)\n"
     ]
    },
    {
     "name": "stderr",
     "output_type": "stream",
     "text": [
      "\r",
      " 54%|████████████████████████████████████████████▉                                      | 545/1006 [41:30<38:45,  5.04s/it]"
     ]
    },
    {
     "name": "stdout",
     "output_type": "stream",
     "text": [
      "Image download: ../Data/exports/ndvi/2018-05-31-2018-06-28--120.945482-38.052055_ndvi_bw.tif (512, 512)\n",
      "Image download: ../Data/exports/tc/2018-05-31-2018-06-28--121.17693-38.595865_tc.tif (512, 512)\n"
     ]
    },
    {
     "name": "stderr",
     "output_type": "stream",
     "text": [
      "\r",
      " 54%|█████████████████████████████████████████████                                      | 546/1006 [41:35<37:29,  4.89s/it]"
     ]
    },
    {
     "name": "stdout",
     "output_type": "stream",
     "text": [
      "Image download: ../Data/exports/ndvi/2018-05-31-2018-06-28--121.17693-38.595865_ndvi_bw.tif (512, 512)\n",
      "Image download: ../Data/exports/tc/2018-05-31-2018-06-28--121.9921-37.94714_tc.tif (512, 512)\n"
     ]
    },
    {
     "name": "stderr",
     "output_type": "stream",
     "text": [
      "\r",
      " 54%|█████████████████████████████████████████████▏                                     | 547/1006 [41:40<37:03,  4.84s/it]"
     ]
    },
    {
     "name": "stdout",
     "output_type": "stream",
     "text": [
      "Image download: ../Data/exports/ndvi/2018-05-31-2018-06-28--121.9921-37.94714_ndvi_bw.tif (512, 512)\n",
      "Image download: ../Data/exports/tc/2018-05-31-2018-06-28--118.72905-35.1234_tc.tif (512, 512)\n"
     ]
    },
    {
     "name": "stderr",
     "output_type": "stream",
     "text": [
      "\r",
      " 54%|█████████████████████████████████████████████▏                                     | 548/1006 [41:45<39:28,  5.17s/it]"
     ]
    },
    {
     "name": "stdout",
     "output_type": "stream",
     "text": [
      "Image download: ../Data/exports/ndvi/2018-05-31-2018-06-28--118.72905-35.1234_ndvi_bw.tif (512, 512)\n",
      "Image download: ../Data/exports/tc/2018-05-31-2018-06-28--121.67144-37.66074_tc.tif (512, 512)\n"
     ]
    },
    {
     "name": "stderr",
     "output_type": "stream",
     "text": [
      "\r",
      " 55%|█████████████████████████████████████████████▎                                     | 549/1006 [41:50<37:43,  4.95s/it]"
     ]
    },
    {
     "name": "stdout",
     "output_type": "stream",
     "text": [
      "Image download: ../Data/exports/ndvi/2018-05-31-2018-06-28--121.67144-37.66074_ndvi_bw.tif (512, 512)\n",
      "Image download: ../Data/exports/tc/2018-06-01-2018-06-29--117.15381-34.17711_tc.tif (512, 512)\n"
     ]
    },
    {
     "name": "stderr",
     "output_type": "stream",
     "text": [
      "\r",
      " 55%|█████████████████████████████████████████████▍                                     | 550/1006 [41:54<36:15,  4.77s/it]"
     ]
    },
    {
     "name": "stdout",
     "output_type": "stream",
     "text": [
      "Image download: ../Data/exports/ndvi/2018-06-01-2018-06-29--117.15381-34.17711_ndvi_bw.tif (512, 512)\n",
      "Image download: ../Data/exports/tc/2018-06-01-2018-06-29--122.18183-38.80583_tc.tif (512, 512)\n"
     ]
    },
    {
     "name": "stderr",
     "output_type": "stream",
     "text": [
      "\r",
      " 55%|█████████████████████████████████████████████▍                                     | 551/1006 [41:59<36:39,  4.83s/it]"
     ]
    },
    {
     "name": "stdout",
     "output_type": "stream",
     "text": [
      "Image download: ../Data/exports/ndvi/2018-06-01-2018-06-29--122.18183-38.80583_ndvi_bw.tif (512, 512)\n",
      "Image download: ../Data/exports/tc/2018-06-01-2018-06-29--122.18183-38.80583_tc.tif (512, 512)\n"
     ]
    },
    {
     "name": "stderr",
     "output_type": "stream",
     "text": [
      "\r",
      " 55%|█████████████████████████████████████████████▌                                     | 552/1006 [42:04<37:06,  4.90s/it]"
     ]
    },
    {
     "name": "stdout",
     "output_type": "stream",
     "text": [
      "Image download: ../Data/exports/ndvi/2018-06-01-2018-06-29--122.18183-38.80583_ndvi_bw.tif (512, 512)\n",
      "Image download: ../Data/exports/tc/2018-06-02-2018-06-30--123.051-41.085_tc.tif (512, 512)\n"
     ]
    },
    {
     "name": "stderr",
     "output_type": "stream",
     "text": [
      "\r",
      " 55%|█████████████████████████████████████████████▋                                     | 553/1006 [42:09<36:36,  4.85s/it]"
     ]
    },
    {
     "name": "stdout",
     "output_type": "stream",
     "text": [
      "Image download: ../Data/exports/ndvi/2018-06-02-2018-06-30--123.051-41.085_ndvi_bw.tif (512, 512)\n",
      "Image download: ../Data/exports/tc/2018-06-03-2018-07-01--122.12351-37.86339_tc.tif (512, 512)\n"
     ]
    },
    {
     "name": "stderr",
     "output_type": "stream",
     "text": [
      "\r",
      " 55%|█████████████████████████████████████████████▋                                     | 554/1006 [42:14<36:56,  4.90s/it]"
     ]
    },
    {
     "name": "stdout",
     "output_type": "stream",
     "text": [
      "Image download: ../Data/exports/ndvi/2018-06-03-2018-07-01--122.12351-37.86339_ndvi_bw.tif (512, 512)\n",
      "Image download: ../Data/exports/tc/2018-06-05-2018-07-03--122.512012-39.2976_tc.tif (512, 512)\n"
     ]
    },
    {
     "name": "stderr",
     "output_type": "stream",
     "text": [
      "\r",
      " 55%|█████████████████████████████████████████████▊                                     | 555/1006 [42:19<37:25,  4.98s/it]"
     ]
    },
    {
     "name": "stdout",
     "output_type": "stream",
     "text": [
      "Image download: ../Data/exports/ndvi/2018-06-05-2018-07-03--122.512012-39.2976_ndvi_bw.tif (512, 512)\n",
      "Image download: ../Data/exports/tc/2018-06-05-2018-07-03--121.637759-39.491737_tc.tif (512, 512)\n"
     ]
    },
    {
     "name": "stderr",
     "output_type": "stream",
     "text": [
      "\r",
      " 55%|█████████████████████████████████████████████▊                                     | 556/1006 [42:24<35:48,  4.77s/it]"
     ]
    },
    {
     "name": "stdout",
     "output_type": "stream",
     "text": [
      "Image download: ../Data/exports/ndvi/2018-06-05-2018-07-03--121.637759-39.491737_ndvi_bw.tif (512, 512)\n",
      "Image download: ../Data/exports/tc/2018-06-05-2018-07-03--116.732032-33.56349_tc.tif (512, 512)\n"
     ]
    },
    {
     "name": "stderr",
     "output_type": "stream",
     "text": [
      "\r",
      " 55%|█████████████████████████████████████████████▉                                     | 557/1006 [42:28<35:30,  4.74s/it]"
     ]
    },
    {
     "name": "stdout",
     "output_type": "stream",
     "text": [
      "Image download: ../Data/exports/ndvi/2018-06-05-2018-07-03--116.732032-33.56349_ndvi_bw.tif (512, 512)\n",
      "Image download: ../Data/exports/tc/2018-06-05-2018-07-03--121.059979-38.539806_tc.tif (512, 512)\n"
     ]
    },
    {
     "name": "stderr",
     "output_type": "stream",
     "text": [
      "\r",
      " 55%|██████████████████████████████████████████████                                     | 558/1006 [42:33<34:34,  4.63s/it]"
     ]
    },
    {
     "name": "stdout",
     "output_type": "stream",
     "text": [
      "Image download: ../Data/exports/ndvi/2018-06-05-2018-07-03--121.059979-38.539806_ndvi_bw.tif (512, 512)\n",
      "Image download: ../Data/exports/tc/2018-06-06-2018-07-04--122.534655-41.893332_tc.tif (512, 512)\n"
     ]
    },
    {
     "name": "stderr",
     "output_type": "stream",
     "text": [
      "\r",
      " 56%|██████████████████████████████████████████████                                     | 559/1006 [42:37<34:55,  4.69s/it]"
     ]
    },
    {
     "name": "stdout",
     "output_type": "stream",
     "text": [
      "Image download: ../Data/exports/ndvi/2018-06-06-2018-07-04--122.534655-41.893332_ndvi_bw.tif (512, 512)\n",
      "Image download: ../Data/exports/tc/2018-06-06-2018-07-04--123.38493-39.038859_tc.tif (512, 512)\n"
     ]
    },
    {
     "name": "stderr",
     "output_type": "stream",
     "text": [
      "\r",
      " 56%|██████████████████████████████████████████████▏                                    | 560/1006 [42:42<34:37,  4.66s/it]"
     ]
    },
    {
     "name": "stdout",
     "output_type": "stream",
     "text": [
      "Image download: ../Data/exports/ndvi/2018-06-06-2018-07-04--123.38493-39.038859_ndvi_bw.tif (512, 512)\n",
      "Image download: ../Data/exports/tc/2018-06-07-2018-07-05--117.40967-34.22526_tc.tif (512, 512)\n"
     ]
    },
    {
     "name": "stderr",
     "output_type": "stream",
     "text": [
      "\r",
      " 56%|██████████████████████████████████████████████▎                                    | 561/1006 [42:47<35:05,  4.73s/it]"
     ]
    },
    {
     "name": "stdout",
     "output_type": "stream",
     "text": [
      "Image download: ../Data/exports/ndvi/2018-06-07-2018-07-05--117.40967-34.22526_ndvi_bw.tif (512, 512)\n",
      "Image download: ../Data/exports/tc/2018-06-07-2018-07-05--116.764733-32.619855_tc.tif (512, 512)\n"
     ]
    },
    {
     "name": "stderr",
     "output_type": "stream",
     "text": [
      "\r",
      " 56%|██████████████████████████████████████████████▎                                    | 562/1006 [42:52<35:41,  4.82s/it]"
     ]
    },
    {
     "name": "stdout",
     "output_type": "stream",
     "text": [
      "Image download: ../Data/exports/ndvi/2018-06-07-2018-07-05--116.764733-32.619855_ndvi_bw.tif (512, 512)\n",
      "Image download: ../Data/exports/tc/2018-06-07-2018-07-05--121.53586-37.06367_tc.tif (512, 512)\n"
     ]
    },
    {
     "name": "stderr",
     "output_type": "stream",
     "text": [
      "\r",
      " 56%|██████████████████████████████████████████████▍                                    | 563/1006 [42:57<36:34,  4.95s/it]"
     ]
    },
    {
     "name": "stdout",
     "output_type": "stream",
     "text": [
      "Image download: ../Data/exports/ndvi/2018-06-07-2018-07-05--121.53586-37.06367_ndvi_bw.tif (512, 512)\n",
      "Image download: ../Data/exports/tc/2018-06-07-2018-07-05--116.958806-34.095568_tc.tif (512, 512)\n"
     ]
    },
    {
     "name": "stderr",
     "output_type": "stream",
     "text": [
      "\r",
      " 56%|██████████████████████████████████████████████▌                                    | 564/1006 [43:04<39:33,  5.37s/it]"
     ]
    },
    {
     "name": "stdout",
     "output_type": "stream",
     "text": [
      "Image download: ../Data/exports/ndvi/2018-06-07-2018-07-05--116.958806-34.095568_ndvi_bw.tif (512, 512)\n",
      "Image download: ../Data/exports/tc/2018-06-07-2018-07-05--120.95408-38.42623_tc.tif (512, 512)\n"
     ]
    },
    {
     "name": "stderr",
     "output_type": "stream",
     "text": [
      "\r",
      " 56%|██████████████████████████████████████████████▌                                    | 565/1006 [43:08<38:05,  5.18s/it]"
     ]
    },
    {
     "name": "stdout",
     "output_type": "stream",
     "text": [
      "Image download: ../Data/exports/ndvi/2018-06-07-2018-07-05--120.95408-38.42623_ndvi_bw.tif (512, 512)\n",
      "Image download: ../Data/exports/tc/2018-06-07-2018-07-05--119.831389-34.463889_tc.tif (512, 512)\n"
     ]
    },
    {
     "name": "stderr",
     "output_type": "stream",
     "text": [
      "\r",
      " 56%|██████████████████████████████████████████████▋                                    | 566/1006 [43:13<36:38,  5.00s/it]"
     ]
    },
    {
     "name": "stdout",
     "output_type": "stream",
     "text": [
      "Image download: ../Data/exports/ndvi/2018-06-07-2018-07-05--119.831389-34.463889_ndvi_bw.tif (512, 512)\n",
      "Image download: ../Data/exports/tc/2018-06-07-2018-07-05--116.7311-32.833674_tc.tif (512, 512)\n"
     ]
    },
    {
     "name": "stderr",
     "output_type": "stream",
     "text": [
      "\r",
      " 56%|██████████████████████████████████████████████▊                                    | 567/1006 [43:18<36:45,  5.02s/it]"
     ]
    },
    {
     "name": "stdout",
     "output_type": "stream",
     "text": [
      "Image download: ../Data/exports/ndvi/2018-06-07-2018-07-05--116.7311-32.833674_ndvi_bw.tif (512, 512)\n",
      "Image download: ../Data/exports/tc/2018-06-09-2018-07-07--118.21881-36.6734_tc.tif (512, 512)\n"
     ]
    },
    {
     "name": "stderr",
     "output_type": "stream",
     "text": [
      "\r",
      " 56%|██████████████████████████████████████████████▊                                    | 568/1006 [43:23<36:15,  4.97s/it]"
     ]
    },
    {
     "name": "stdout",
     "output_type": "stream",
     "text": [
      "Image download: ../Data/exports/ndvi/2018-06-09-2018-07-07--118.21881-36.6734_ndvi_bw.tif (512, 512)\n",
      "Image download: ../Data/exports/tc/2018-06-09-2018-07-07--118.87881-34.86022_tc.tif (512, 512)\n"
     ]
    },
    {
     "name": "stderr",
     "output_type": "stream",
     "text": [
      "\r",
      " 57%|██████████████████████████████████████████████▉                                    | 569/1006 [43:28<36:24,  5.00s/it]"
     ]
    },
    {
     "name": "stdout",
     "output_type": "stream",
     "text": [
      "Image download: ../Data/exports/ndvi/2018-06-09-2018-07-07--118.87881-34.86022_ndvi_bw.tif (512, 512)\n",
      "Image download: ../Data/exports/tc/2018-06-09-2018-07-07--122.23449-40.62693_tc.tif (512, 512)\n"
     ]
    },
    {
     "name": "stderr",
     "output_type": "stream",
     "text": [
      "\r",
      " 57%|███████████████████████████████████████████████                                    | 570/1006 [43:34<39:16,  5.41s/it]"
     ]
    },
    {
     "name": "stdout",
     "output_type": "stream",
     "text": [
      "Image download: ../Data/exports/ndvi/2018-06-09-2018-07-07--122.23449-40.62693_ndvi_bw.tif (512, 512)\n",
      "Image download: ../Data/exports/tc/2018-06-09-2018-07-07--121.85311-37.79718_tc.tif (512, 512)\n"
     ]
    },
    {
     "name": "stderr",
     "output_type": "stream",
     "text": [
      "\r",
      " 57%|███████████████████████████████████████████████                                    | 571/1006 [43:39<37:20,  5.15s/it]"
     ]
    },
    {
     "name": "stdout",
     "output_type": "stream",
     "text": [
      "Image download: ../Data/exports/ndvi/2018-06-09-2018-07-07--121.85311-37.79718_ndvi_bw.tif (512, 512)\n",
      "Image download: ../Data/exports/tc/2018-06-09-2018-07-07--121.60646-37.75646_tc.tif (512, 512)\n"
     ]
    },
    {
     "name": "stderr",
     "output_type": "stream",
     "text": [
      "\r",
      " 57%|███████████████████████████████████████████████▏                                   | 572/1006 [43:44<37:14,  5.15s/it]"
     ]
    },
    {
     "name": "stdout",
     "output_type": "stream",
     "text": [
      "Image download: ../Data/exports/ndvi/2018-06-09-2018-07-07--121.60646-37.75646_ndvi_bw.tif (512, 512)\n",
      "Image download: ../Data/exports/tc/2018-06-10-2018-07-08--122.59789-39.06715_tc.tif (512, 512)\n"
     ]
    },
    {
     "name": "stderr",
     "output_type": "stream",
     "text": [
      "\r",
      " 57%|███████████████████████████████████████████████▎                                   | 573/1006 [43:49<38:03,  5.27s/it]"
     ]
    },
    {
     "name": "stdout",
     "output_type": "stream",
     "text": [
      "Image download: ../Data/exports/ndvi/2018-06-10-2018-07-08--122.59789-39.06715_ndvi_bw.tif (512, 512)\n",
      "Image download: ../Data/exports/tc/2018-06-10-2018-07-08--119.80414-37.19817_tc.tif (512, 512)\n"
     ]
    },
    {
     "name": "stderr",
     "output_type": "stream",
     "text": [
      "\r",
      " 57%|███████████████████████████████████████████████▎                                   | 574/1006 [43:54<37:26,  5.20s/it]"
     ]
    },
    {
     "name": "stdout",
     "output_type": "stream",
     "text": [
      "Image download: ../Data/exports/ndvi/2018-06-10-2018-07-08--119.80414-37.19817_ndvi_bw.tif (512, 512)\n",
      "Image download: ../Data/exports/tc/2018-06-10-2018-07-08--121.93908-40.33682_tc.tif (512, 512)\n"
     ]
    },
    {
     "name": "stderr",
     "output_type": "stream",
     "text": [
      "\r",
      " 57%|███████████████████████████████████████████████▍                                   | 575/1006 [44:00<38:09,  5.31s/it]"
     ]
    },
    {
     "name": "stdout",
     "output_type": "stream",
     "text": [
      "Image download: ../Data/exports/ndvi/2018-06-10-2018-07-08--121.93908-40.33682_ndvi_bw.tif (512, 512)\n",
      "Image download: ../Data/exports/tc/2018-06-11-2018-07-09--121.51772-39.66492_tc.tif (512, 512)\n"
     ]
    },
    {
     "name": "stderr",
     "output_type": "stream",
     "text": [
      "\r",
      " 57%|███████████████████████████████████████████████▌                                   | 576/1006 [44:05<37:01,  5.17s/it]"
     ]
    },
    {
     "name": "stdout",
     "output_type": "stream",
     "text": [
      "Image download: ../Data/exports/ndvi/2018-06-11-2018-07-09--121.51772-39.66492_ndvi_bw.tif (512, 512)\n",
      "Image download: ../Data/exports/tc/2018-06-11-2018-07-09--121.79189-37.22545_tc.tif (512, 512)\n"
     ]
    },
    {
     "name": "stderr",
     "output_type": "stream",
     "text": [
      "\r",
      " 57%|███████████████████████████████████████████████▌                                   | 577/1006 [44:10<35:54,  5.02s/it]"
     ]
    },
    {
     "name": "stdout",
     "output_type": "stream",
     "text": [
      "Image download: ../Data/exports/ndvi/2018-06-11-2018-07-09--121.79189-37.22545_ndvi_bw.tif (512, 512)\n",
      "Image download: ../Data/exports/tc/2018-06-11-2018-07-09--121.702547-37.163594_tc.tif (512, 512)\n"
     ]
    },
    {
     "name": "stderr",
     "output_type": "stream",
     "text": [
      "\r",
      " 57%|███████████████████████████████████████████████▋                                   | 578/1006 [44:15<35:38,  5.00s/it]"
     ]
    },
    {
     "name": "stdout",
     "output_type": "stream",
     "text": [
      "Image download: ../Data/exports/ndvi/2018-06-11-2018-07-09--121.702547-37.163594_ndvi_bw.tif (512, 512)\n",
      "Image download: ../Data/exports/tc/2018-06-11-2018-07-09--119.50461-37.22791_tc.tif (512, 512)\n"
     ]
    },
    {
     "name": "stderr",
     "output_type": "stream",
     "text": [
      "\r",
      " 58%|███████████████████████████████████████████████▊                                   | 579/1006 [44:20<35:41,  5.02s/it]"
     ]
    },
    {
     "name": "stdout",
     "output_type": "stream",
     "text": [
      "Image download: ../Data/exports/ndvi/2018-06-11-2018-07-09--119.50461-37.22791_ndvi_bw.tif (512, 512)\n",
      "Image download: ../Data/exports/tc/2018-06-12-2018-07-10--121.0454-36.65351_tc.tif (512, 512)\n"
     ]
    },
    {
     "name": "stderr",
     "output_type": "stream",
     "text": [
      "\r",
      " 58%|███████████████████████████████████████████████▊                                   | 580/1006 [44:25<35:56,  5.06s/it]"
     ]
    },
    {
     "name": "stdout",
     "output_type": "stream",
     "text": [
      "Image download: ../Data/exports/ndvi/2018-06-12-2018-07-10--121.0454-36.65351_ndvi_bw.tif (512, 512)\n",
      "Image download: ../Data/exports/tc/2018-06-13-2018-07-11--120.82355-36.59036_tc.tif (512, 512)\n"
     ]
    },
    {
     "name": "stderr",
     "output_type": "stream",
     "text": [
      "\r",
      " 58%|███████████████████████████████████████████████▉                                   | 581/1006 [44:30<36:22,  5.14s/it]"
     ]
    },
    {
     "name": "stdout",
     "output_type": "stream",
     "text": [
      "Image download: ../Data/exports/ndvi/2018-06-13-2018-07-11--120.82355-36.59036_ndvi_bw.tif (512, 512)\n",
      "Image download: ../Data/exports/tc/2018-06-13-2018-07-11--121.76859-39.77124_tc.tif (512, 512)\n"
     ]
    },
    {
     "name": "stderr",
     "output_type": "stream",
     "text": [
      "\r",
      " 58%|████████████████████████████████████████████████                                   | 582/1006 [44:36<37:31,  5.31s/it]"
     ]
    },
    {
     "name": "stdout",
     "output_type": "stream",
     "text": [
      "Image download: ../Data/exports/ndvi/2018-06-13-2018-07-11--121.76859-39.77124_ndvi_bw.tif (512, 512)\n",
      "Image download: ../Data/exports/tc/2018-06-14-2018-07-12--117.35606-34.171786_tc.tif (512, 512)\n"
     ]
    },
    {
     "name": "stderr",
     "output_type": "stream",
     "text": [
      "\r",
      " 58%|████████████████████████████████████████████████                                   | 583/1006 [44:41<36:22,  5.16s/it]"
     ]
    },
    {
     "name": "stdout",
     "output_type": "stream",
     "text": [
      "Image download: ../Data/exports/ndvi/2018-06-14-2018-07-12--117.35606-34.171786_ndvi_bw.tif (512, 512)\n",
      "Image download: ../Data/exports/tc/2018-06-14-2018-07-12--119.88581-37.6549_tc.tif (512, 512)\n"
     ]
    },
    {
     "name": "stderr",
     "output_type": "stream",
     "text": [
      "\r",
      " 58%|████████████████████████████████████████████████▏                                  | 584/1006 [44:46<36:25,  5.18s/it]"
     ]
    },
    {
     "name": "stdout",
     "output_type": "stream",
     "text": [
      "Image download: ../Data/exports/ndvi/2018-06-14-2018-07-12--119.88581-37.6549_ndvi_bw.tif (512, 512)\n",
      "Image download: ../Data/exports/tc/2018-06-14-2018-07-12--120.11461-41.29363_tc.tif (512, 512)\n"
     ]
    },
    {
     "name": "stderr",
     "output_type": "stream",
     "text": [
      "\r",
      " 58%|████████████████████████████████████████████████▎                                  | 585/1006 [44:52<38:29,  5.49s/it]"
     ]
    },
    {
     "name": "stdout",
     "output_type": "stream",
     "text": [
      "Image download: ../Data/exports/ndvi/2018-06-14-2018-07-12--120.11461-41.29363_ndvi_bw.tif (512, 512)\n",
      "Image download: ../Data/exports/tc/2018-06-15-2018-07-13--120.02137-39.99309_tc.tif (512, 512)\n"
     ]
    },
    {
     "name": "stderr",
     "output_type": "stream",
     "text": [
      "\r",
      " 58%|████████████████████████████████████████████████▎                                  | 586/1006 [44:59<42:17,  6.04s/it]"
     ]
    },
    {
     "name": "stdout",
     "output_type": "stream",
     "text": [
      "Image download: ../Data/exports/ndvi/2018-06-15-2018-07-13--120.02137-39.99309_ndvi_bw.tif (512, 512)\n",
      "Image download: ../Data/exports/tc/2018-06-15-2018-07-13--122.44008-40.00293_tc.tif (512, 512)\n"
     ]
    },
    {
     "name": "stderr",
     "output_type": "stream",
     "text": [
      "\r",
      " 58%|████████████████████████████████████████████████▍                                  | 587/1006 [45:05<40:54,  5.86s/it]"
     ]
    },
    {
     "name": "stdout",
     "output_type": "stream",
     "text": [
      "Image download: ../Data/exports/ndvi/2018-06-15-2018-07-13--122.44008-40.00293_ndvi_bw.tif (512, 512)\n",
      "Image download: ../Data/exports/tc/2018-06-15-2018-07-13--120.61108-41.50105_tc.tif (512, 512)\n"
     ]
    },
    {
     "name": "stderr",
     "output_type": "stream",
     "text": [
      "\r",
      " 58%|████████████████████████████████████████████████▌                                  | 588/1006 [45:12<42:51,  6.15s/it]"
     ]
    },
    {
     "name": "stdout",
     "output_type": "stream",
     "text": [
      "Image download: ../Data/exports/ndvi/2018-06-15-2018-07-13--120.61108-41.50105_ndvi_bw.tif (512, 512)\n",
      "Image download: ../Data/exports/tc/2018-06-16-2018-07-14--122.47293-41.70877_tc.tif (512, 512)\n"
     ]
    },
    {
     "name": "stderr",
     "output_type": "stream",
     "text": [
      "\r",
      " 59%|████████████████████████████████████████████████▌                                  | 589/1006 [45:17<40:14,  5.79s/it]"
     ]
    },
    {
     "name": "stdout",
     "output_type": "stream",
     "text": [
      "Image download: ../Data/exports/ndvi/2018-06-16-2018-07-14--122.47293-41.70877_ndvi_bw.tif (512, 512)\n",
      "Image download: ../Data/exports/tc/2018-06-16-2018-07-14--121.21597-40.95234_tc.tif (512, 512)\n"
     ]
    },
    {
     "name": "stderr",
     "output_type": "stream",
     "text": [
      "\r",
      " 59%|████████████████████████████████████████████████▋                                  | 590/1006 [45:21<37:19,  5.38s/it]"
     ]
    },
    {
     "name": "stdout",
     "output_type": "stream",
     "text": [
      "Image download: ../Data/exports/ndvi/2018-06-16-2018-07-14--121.21597-40.95234_ndvi_bw.tif (512, 512)\n",
      "Image download: ../Data/exports/tc/2018-06-16-2018-07-14--123.85404-41.34453_tc.tif (512, 512)\n"
     ]
    },
    {
     "name": "stderr",
     "output_type": "stream",
     "text": [
      "\r",
      " 59%|████████████████████████████████████████████████▊                                  | 591/1006 [45:26<35:35,  5.15s/it]"
     ]
    },
    {
     "name": "stdout",
     "output_type": "stream",
     "text": [
      "Image download: ../Data/exports/ndvi/2018-06-16-2018-07-14--123.85404-41.34453_ndvi_bw.tif (512, 512)\n",
      "Image download: ../Data/exports/tc/2018-06-16-2018-07-14--121.05722-41.08583_tc.tif (512, 512)\n"
     ]
    },
    {
     "name": "stderr",
     "output_type": "stream",
     "text": [
      "\r",
      " 59%|████████████████████████████████████████████████▊                                  | 592/1006 [45:32<38:55,  5.64s/it]"
     ]
    },
    {
     "name": "stdout",
     "output_type": "stream",
     "text": [
      "Image download: ../Data/exports/ndvi/2018-06-16-2018-07-14--121.05722-41.08583_ndvi_bw.tif (512, 512)\n",
      "Image download: ../Data/exports/tc/2018-06-16-2018-07-14--122.11375-40.27754_tc.tif (512, 512)\n"
     ]
    },
    {
     "name": "stderr",
     "output_type": "stream",
     "text": [
      "\r",
      " 59%|████████████████████████████████████████████████▉                                  | 593/1006 [45:38<38:41,  5.62s/it]"
     ]
    },
    {
     "name": "stdout",
     "output_type": "stream",
     "text": [
      "Image download: ../Data/exports/ndvi/2018-06-16-2018-07-14--122.11375-40.27754_ndvi_bw.tif (512, 512)\n",
      "Image download: ../Data/exports/tc/2018-06-16-2018-07-14--121.27049-40.94666_tc.tif (512, 512)\n"
     ]
    },
    {
     "name": "stderr",
     "output_type": "stream",
     "text": [
      "\r",
      " 59%|█████████████████████████████████████████████████                                  | 594/1006 [45:43<36:27,  5.31s/it]"
     ]
    },
    {
     "name": "stdout",
     "output_type": "stream",
     "text": [
      "Image download: ../Data/exports/ndvi/2018-06-16-2018-07-14--121.27049-40.94666_ndvi_bw.tif (512, 512)\n",
      "Image download: ../Data/exports/tc/2018-06-18-2018-07-16--120.97339-35.70086_tc.tif (512, 512)\n"
     ]
    },
    {
     "name": "stderr",
     "output_type": "stream",
     "text": [
      "\r",
      " 59%|█████████████████████████████████████████████████                                  | 595/1006 [45:47<34:20,  5.01s/it]"
     ]
    },
    {
     "name": "stdout",
     "output_type": "stream",
     "text": [
      "Image download: ../Data/exports/ndvi/2018-06-18-2018-07-16--120.97339-35.70086_ndvi_bw.tif (512, 512)\n",
      "Image download: ../Data/exports/tc/2018-06-18-2018-07-16--116.8663-32.557566_tc.tif (512, 512)\n"
     ]
    },
    {
     "name": "stderr",
     "output_type": "stream",
     "text": [
      "\r",
      " 59%|█████████████████████████████████████████████████▏                                 | 596/1006 [45:52<34:32,  5.06s/it]"
     ]
    },
    {
     "name": "stdout",
     "output_type": "stream",
     "text": [
      "Image download: ../Data/exports/ndvi/2018-06-18-2018-07-16--116.8663-32.557566_ndvi_bw.tif (512, 512)\n",
      "Image download: ../Data/exports/tc/2018-06-18-2018-07-16--122.37985-41.632373_tc.tif (512, 512)\n"
     ]
    },
    {
     "name": "stderr",
     "output_type": "stream",
     "text": [
      "\r",
      " 59%|█████████████████████████████████████████████████▎                                 | 597/1006 [45:57<34:40,  5.09s/it]"
     ]
    },
    {
     "name": "stdout",
     "output_type": "stream",
     "text": [
      "Image download: ../Data/exports/ndvi/2018-06-18-2018-07-16--122.37985-41.632373_ndvi_bw.tif (512, 512)\n",
      "Image download: ../Data/exports/tc/2018-06-19-2018-07-17--120.31805556-34.54305556_tc.tif (512, 512)\n"
     ]
    },
    {
     "name": "stderr",
     "output_type": "stream",
     "text": [
      "\r",
      " 59%|█████████████████████████████████████████████████▎                                 | 598/1006 [46:01<32:23,  4.76s/it]"
     ]
    },
    {
     "name": "stdout",
     "output_type": "stream",
     "text": [
      "Image download: ../Data/exports/ndvi/2018-06-19-2018-07-17--120.31805556-34.54305556_ndvi_bw.tif (512, 512)\n",
      "Image download: ../Data/exports/tc/2018-06-19-2018-07-17--121.99388889-38.59694444_tc.tif (512, 512)\n"
     ]
    },
    {
     "name": "stderr",
     "output_type": "stream",
     "text": [
      "\r",
      " 60%|█████████████████████████████████████████████████▍                                 | 599/1006 [46:06<32:04,  4.73s/it]"
     ]
    },
    {
     "name": "stdout",
     "output_type": "stream",
     "text": [
      "Image download: ../Data/exports/ndvi/2018-06-19-2018-07-17--121.99388889-38.59694444_ndvi_bw.tif (512, 512)\n",
      "Image download: ../Data/exports/tc/2018-06-20-2018-07-18--121.43131-39.57202_tc.tif (512, 512)\n"
     ]
    },
    {
     "name": "stderr",
     "output_type": "stream",
     "text": [
      "\r",
      " 60%|█████████████████████████████████████████████████▌                                 | 600/1006 [46:11<32:07,  4.75s/it]"
     ]
    },
    {
     "name": "stdout",
     "output_type": "stream",
     "text": [
      "Image download: ../Data/exports/ndvi/2018-06-20-2018-07-18--121.43131-39.57202_ndvi_bw.tif (512, 512)\n",
      "Image download: ../Data/exports/tc/2018-06-20-2018-07-18--119.97546-37.28365_tc.tif (512, 512)\n"
     ]
    },
    {
     "name": "stderr",
     "output_type": "stream",
     "text": [
      "\r",
      " 60%|█████████████████████████████████████████████████▌                                 | 601/1006 [46:17<34:37,  5.13s/it]"
     ]
    },
    {
     "name": "stdout",
     "output_type": "stream",
     "text": [
      "Image download: ../Data/exports/ndvi/2018-06-20-2018-07-18--119.97546-37.28365_ndvi_bw.tif (512, 512)\n",
      "Image download: ../Data/exports/tc/2018-06-20-2018-07-18--118.70443-36.42638_tc.tif (512, 512)\n"
     ]
    },
    {
     "name": "stderr",
     "output_type": "stream",
     "text": [
      "\r",
      " 60%|█████████████████████████████████████████████████▋                                 | 602/1006 [46:21<32:49,  4.88s/it]"
     ]
    },
    {
     "name": "stdout",
     "output_type": "stream",
     "text": [
      "Image download: ../Data/exports/ndvi/2018-06-20-2018-07-18--118.70443-36.42638_ndvi_bw.tif (512, 512)\n",
      "Image download: ../Data/exports/tc/2018-06-20-2018-07-18--117.607577-33.836101_tc.tif (512, 512)\n"
     ]
    },
    {
     "name": "stderr",
     "output_type": "stream",
     "text": [
      "\r",
      " 60%|█████████████████████████████████████████████████▊                                 | 603/1006 [46:25<31:34,  4.70s/it]"
     ]
    },
    {
     "name": "stdout",
     "output_type": "stream",
     "text": [
      "Image download: ../Data/exports/ndvi/2018-06-20-2018-07-18--117.607577-33.836101_ndvi_bw.tif (512, 512)\n",
      "Image download: ../Data/exports/tc/2018-06-21-2018-07-19--116.78928-33.04898_tc.tif (512, 512)\n"
     ]
    },
    {
     "name": "stderr",
     "output_type": "stream",
     "text": [
      "\r",
      " 60%|█████████████████████████████████████████████████▊                                 | 604/1006 [46:30<31:25,  4.69s/it]"
     ]
    },
    {
     "name": "stdout",
     "output_type": "stream",
     "text": [
      "Image download: ../Data/exports/ndvi/2018-06-21-2018-07-19--116.78928-33.04898_ndvi_bw.tif (512, 512)\n",
      "Image download: ../Data/exports/tc/2018-06-21-2018-07-19--122.649626-40.741186_tc.tif (512, 512)\n"
     ]
    },
    {
     "name": "stderr",
     "output_type": "stream",
     "text": [
      "\r",
      " 60%|█████████████████████████████████████████████████▉                                 | 605/1006 [46:35<31:50,  4.76s/it]"
     ]
    },
    {
     "name": "stdout",
     "output_type": "stream",
     "text": [
      "Image download: ../Data/exports/ndvi/2018-06-21-2018-07-19--122.649626-40.741186_ndvi_bw.tif (512, 512)\n",
      "Image download: ../Data/exports/tc/2018-06-21-2018-07-19--120.22298-34.62412_tc.tif (512, 512)\n"
     ]
    },
    {
     "name": "stderr",
     "output_type": "stream",
     "text": [
      "\r",
      " 60%|█████████████████████████████████████████████████▉                                 | 606/1006 [46:40<32:08,  4.82s/it]"
     ]
    },
    {
     "name": "stdout",
     "output_type": "stream",
     "text": [
      "Image download: ../Data/exports/ndvi/2018-06-21-2018-07-19--120.22298-34.62412_ndvi_bw.tif (512, 512)\n",
      "Image download: ../Data/exports/tc/2018-06-22-2018-07-20--122.86854-38.91152_tc.tif (512, 512)\n"
     ]
    },
    {
     "name": "stderr",
     "output_type": "stream",
     "text": [
      "\r",
      " 60%|██████████████████████████████████████████████████                                 | 607/1006 [46:46<34:17,  5.16s/it]"
     ]
    },
    {
     "name": "stdout",
     "output_type": "stream",
     "text": [
      "Image download: ../Data/exports/ndvi/2018-06-22-2018-07-20--122.86854-38.91152_ndvi_bw.tif (512, 512)\n",
      "Image download: ../Data/exports/tc/2018-06-22-2018-07-20--120.71907-35.64917_tc.tif (512, 512)\n"
     ]
    },
    {
     "name": "stderr",
     "output_type": "stream",
     "text": [
      "\r",
      " 60%|██████████████████████████████████████████████████▏                                | 608/1006 [46:50<33:26,  5.04s/it]"
     ]
    },
    {
     "name": "stdout",
     "output_type": "stream",
     "text": [
      "Image download: ../Data/exports/ndvi/2018-06-22-2018-07-20--120.71907-35.64917_ndvi_bw.tif (512, 512)\n",
      "Image download: ../Data/exports/tc/2018-06-22-2018-07-20--120.95157-35.68539_tc.tif (512, 512)\n"
     ]
    },
    {
     "name": "stderr",
     "output_type": "stream",
     "text": [
      "\r",
      " 61%|██████████████████████████████████████████████████▏                                | 609/1006 [46:54<31:12,  4.72s/it]"
     ]
    },
    {
     "name": "stdout",
     "output_type": "stream",
     "text": [
      "Image download: ../Data/exports/ndvi/2018-06-22-2018-07-20--120.95157-35.68539_ndvi_bw.tif (512, 512)\n",
      "Image download: ../Data/exports/tc/2018-06-22-2018-07-20--123.258319-39.279833_tc.tif (512, 512)\n"
     ]
    },
    {
     "name": "stderr",
     "output_type": "stream",
     "text": [
      "\r",
      " 61%|██████████████████████████████████████████████████▎                                | 610/1006 [46:59<29:52,  4.53s/it]"
     ]
    },
    {
     "name": "stdout",
     "output_type": "stream",
     "text": [
      "Image download: ../Data/exports/ndvi/2018-06-22-2018-07-20--123.258319-39.279833_ndvi_bw.tif (512, 512)\n",
      "Image download: ../Data/exports/tc/2018-06-23-2018-07-21--121.88807-37.449425_tc.tif (512, 512)\n"
     ]
    },
    {
     "name": "stderr",
     "output_type": "stream",
     "text": [
      "\r",
      " 61%|██████████████████████████████████████████████████▍                                | 611/1006 [47:03<30:12,  4.59s/it]"
     ]
    },
    {
     "name": "stdout",
     "output_type": "stream",
     "text": [
      "Image download: ../Data/exports/ndvi/2018-06-23-2018-07-21--121.88807-37.449425_ndvi_bw.tif (512, 512)\n",
      "Image download: ../Data/exports/tc/2018-06-24-2018-07-22--118.60441-34.38039_tc.tif (512, 512)\n"
     ]
    },
    {
     "name": "stderr",
     "output_type": "stream",
     "text": [
      "\r",
      " 61%|██████████████████████████████████████████████████▍                                | 612/1006 [47:08<29:29,  4.49s/it]"
     ]
    },
    {
     "name": "stdout",
     "output_type": "stream",
     "text": [
      "Image download: ../Data/exports/ndvi/2018-06-24-2018-07-22--118.60441-34.38039_ndvi_bw.tif (512, 512)\n",
      "Image download: ../Data/exports/tc/2018-06-24-2018-07-22--122.62357-40.65428_tc.tif (512, 512)\n"
     ]
    },
    {
     "name": "stderr",
     "output_type": "stream",
     "text": [
      "\r",
      " 61%|██████████████████████████████████████████████████▌                                | 613/1006 [47:14<33:27,  5.11s/it]"
     ]
    },
    {
     "name": "stdout",
     "output_type": "stream",
     "text": [
      "Image download: ../Data/exports/ndvi/2018-06-24-2018-07-22--122.62357-40.65428_ndvi_bw.tif (512, 512)\n",
      "Image download: ../Data/exports/tc/2018-06-24-2018-07-22--122.62357-40.65428_tc.tif (512, 512)\n"
     ]
    },
    {
     "name": "stderr",
     "output_type": "stream",
     "text": [
      "\r",
      " 61%|██████████████████████████████████████████████████▋                                | 614/1006 [47:19<33:57,  5.20s/it]"
     ]
    },
    {
     "name": "stdout",
     "output_type": "stream",
     "text": [
      "Image download: ../Data/exports/ndvi/2018-06-24-2018-07-22--122.62357-40.65428_ndvi_bw.tif (512, 512)\n",
      "Image download: ../Data/exports/tc/2018-06-24-2018-07-22--116.154398-33.56921_tc.tif (512, 512)\n"
     ]
    },
    {
     "name": "stderr",
     "output_type": "stream",
     "text": [
      "\r",
      " 61%|██████████████████████████████████████████████████▋                                | 615/1006 [47:24<32:43,  5.02s/it]"
     ]
    },
    {
     "name": "stdout",
     "output_type": "stream",
     "text": [
      "Image download: ../Data/exports/ndvi/2018-06-24-2018-07-22--116.154398-33.56921_ndvi_bw.tif (512, 512)\n",
      "Image download: ../Data/exports/tc/2018-06-25-2018-07-23--121.90215-40.824_tc.tif (512, 512)\n"
     ]
    },
    {
     "name": "stderr",
     "output_type": "stream",
     "text": [
      "\r",
      " 61%|██████████████████████████████████████████████████▊                                | 616/1006 [47:30<34:37,  5.33s/it]"
     ]
    },
    {
     "name": "stdout",
     "output_type": "stream",
     "text": [
      "Image download: ../Data/exports/ndvi/2018-06-25-2018-07-23--121.90215-40.824_ndvi_bw.tif (512, 512)\n",
      "Image download: ../Data/exports/tc/2018-06-25-2018-07-23--120.82497-40.34822_tc.tif (512, 512)\n"
     ]
    },
    {
     "name": "stderr",
     "output_type": "stream",
     "text": [
      "\r",
      " 61%|██████████████████████████████████████████████████▉                                | 617/1006 [47:35<32:53,  5.07s/it]"
     ]
    },
    {
     "name": "stdout",
     "output_type": "stream",
     "text": [
      "Image download: ../Data/exports/ndvi/2018-06-25-2018-07-23--120.82497-40.34822_ndvi_bw.tif (512, 512)\n",
      "Image download: ../Data/exports/tc/2018-06-26-2018-07-24--121.40604-36.796_tc.tif (512, 512)\n"
     ]
    },
    {
     "name": "stderr",
     "output_type": "stream",
     "text": [
      "\r",
      " 61%|██████████████████████████████████████████████████▉                                | 618/1006 [47:39<32:05,  4.96s/it]"
     ]
    },
    {
     "name": "stdout",
     "output_type": "stream",
     "text": [
      "Image download: ../Data/exports/ndvi/2018-06-26-2018-07-24--121.40604-36.796_ndvi_bw.tif (512, 512)\n",
      "Image download: ../Data/exports/tc/2018-06-26-2018-07-24--121.85847-37.89612_tc.tif (512, 512)\n"
     ]
    },
    {
     "name": "stderr",
     "output_type": "stream",
     "text": [
      "\r",
      " 62%|███████████████████████████████████████████████████                                | 619/1006 [47:45<32:49,  5.09s/it]"
     ]
    },
    {
     "name": "stdout",
     "output_type": "stream",
     "text": [
      "Image download: ../Data/exports/ndvi/2018-06-26-2018-07-24--121.85847-37.89612_ndvi_bw.tif (512, 512)\n",
      "Image download: ../Data/exports/tc/2018-06-26-2018-07-24--121.55604-37.71173_tc.tif (512, 512)\n"
     ]
    },
    {
     "name": "stderr",
     "output_type": "stream",
     "text": [
      "\r",
      " 62%|███████████████████████████████████████████████████▏                               | 620/1006 [47:50<33:00,  5.13s/it]"
     ]
    },
    {
     "name": "stdout",
     "output_type": "stream",
     "text": [
      "Image download: ../Data/exports/ndvi/2018-06-26-2018-07-24--121.55604-37.71173_ndvi_bw.tif (512, 512)\n",
      "Image download: ../Data/exports/tc/2018-06-26-2018-07-24--121.600023-37.07793_tc.tif (512, 512)\n"
     ]
    },
    {
     "name": "stderr",
     "output_type": "stream",
     "text": [
      "\r",
      " 62%|███████████████████████████████████████████████████▏                               | 621/1006 [47:55<31:55,  4.98s/it]"
     ]
    },
    {
     "name": "stdout",
     "output_type": "stream",
     "text": [
      "Image download: ../Data/exports/ndvi/2018-06-26-2018-07-24--121.600023-37.07793_ndvi_bw.tif (512, 512)\n",
      "Image download: ../Data/exports/tc/2018-06-27-2018-07-25--116.500058-33.571763_tc.tif (512, 512)\n"
     ]
    },
    {
     "name": "stderr",
     "output_type": "stream",
     "text": [
      "\r",
      " 62%|███████████████████████████████████████████████████▎                               | 622/1006 [47:59<31:25,  4.91s/it]"
     ]
    },
    {
     "name": "stdout",
     "output_type": "stream",
     "text": [
      "Image download: ../Data/exports/ndvi/2018-06-27-2018-07-25--116.500058-33.571763_ndvi_bw.tif (512, 512)\n",
      "Image download: ../Data/exports/tc/2018-06-28-2018-07-26--123.103367-39.243283_tc.tif (512, 512)\n"
     ]
    },
    {
     "name": "stderr",
     "output_type": "stream",
     "text": [
      "\r",
      " 62%|███████████████████████████████████████████████████▍                               | 623/1006 [48:04<31:30,  4.94s/it]"
     ]
    },
    {
     "name": "stdout",
     "output_type": "stream",
     "text": [
      "Image download: ../Data/exports/ndvi/2018-06-28-2018-07-26--123.103367-39.243283_ndvi_bw.tif (512, 512)\n",
      "Image download: ../Data/exports/tc/2018-06-28-2018-07-26--123.103367-39.243283_tc.tif (512, 512)\n"
     ]
    },
    {
     "name": "stderr",
     "output_type": "stream",
     "text": [
      "\r",
      " 62%|███████████████████████████████████████████████████▍                               | 624/1006 [48:09<30:06,  4.73s/it]"
     ]
    },
    {
     "name": "stdout",
     "output_type": "stream",
     "text": [
      "Image download: ../Data/exports/ndvi/2018-06-28-2018-07-26--123.103367-39.243283_ndvi_bw.tif (512, 512)\n",
      "Image download: ../Data/exports/tc/2018-06-28-2018-07-26--123.103367-39.243283_tc.tif (512, 512)\n"
     ]
    },
    {
     "name": "stderr",
     "output_type": "stream",
     "text": [
      "\r",
      " 62%|███████████████████████████████████████████████████▌                               | 625/1006 [48:12<28:32,  4.49s/it]"
     ]
    },
    {
     "name": "stdout",
     "output_type": "stream",
     "text": [
      "Image download: ../Data/exports/ndvi/2018-06-28-2018-07-26--123.103367-39.243283_ndvi_bw.tif (512, 512)\n",
      "Image download: ../Data/exports/tc/2018-06-28-2018-07-26--123.103367-39.243283_tc.tif (512, 512)\n"
     ]
    },
    {
     "name": "stderr",
     "output_type": "stream",
     "text": [
      "\r",
      " 62%|███████████████████████████████████████████████████▋                               | 626/1006 [48:16<25:50,  4.08s/it]"
     ]
    },
    {
     "name": "stdout",
     "output_type": "stream",
     "text": [
      "Image download: ../Data/exports/ndvi/2018-06-28-2018-07-26--123.103367-39.243283_ndvi_bw.tif (512, 512)\n",
      "Image download: ../Data/exports/tc/2018-06-28-2018-07-26--118.82989-36.21634_tc.tif (512, 512)\n"
     ]
    },
    {
     "name": "stderr",
     "output_type": "stream",
     "text": [
      "\r",
      " 62%|███████████████████████████████████████████████████▋                               | 627/1006 [48:20<26:29,  4.19s/it]"
     ]
    },
    {
     "name": "stdout",
     "output_type": "stream",
     "text": [
      "Image download: ../Data/exports/ndvi/2018-06-28-2018-07-26--118.82989-36.21634_ndvi_bw.tif (512, 512)\n",
      "Image download: ../Data/exports/tc/2018-06-28-2018-07-26--123.11971-39.04786_tc.tif (512, 512)\n"
     ]
    },
    {
     "name": "stderr",
     "output_type": "stream",
     "text": [
      "\r",
      " 62%|███████████████████████████████████████████████████▊                               | 628/1006 [48:25<27:00,  4.29s/it]"
     ]
    },
    {
     "name": "stdout",
     "output_type": "stream",
     "text": [
      "Image download: ../Data/exports/ndvi/2018-06-28-2018-07-26--123.11971-39.04786_ndvi_bw.tif (512, 512)\n",
      "Image download: ../Data/exports/tc/2018-06-28-2018-07-26--123.11971-39.04786_tc.tif (512, 512)\n"
     ]
    },
    {
     "name": "stderr",
     "output_type": "stream",
     "text": [
      "\r",
      " 63%|███████████████████████████████████████████████████▉                               | 629/1006 [48:29<27:59,  4.45s/it]"
     ]
    },
    {
     "name": "stdout",
     "output_type": "stream",
     "text": [
      "Image download: ../Data/exports/ndvi/2018-06-28-2018-07-26--123.11971-39.04786_ndvi_bw.tif (512, 512)\n",
      "Image download: ../Data/exports/tc/2018-06-28-2018-07-26--123.11971-39.04786_tc.tif (512, 512)\n"
     ]
    },
    {
     "name": "stderr",
     "output_type": "stream",
     "text": [
      "\r",
      " 63%|███████████████████████████████████████████████████▉                               | 630/1006 [48:32<24:27,  3.90s/it]"
     ]
    },
    {
     "name": "stdout",
     "output_type": "stream",
     "text": [
      "Image download: ../Data/exports/ndvi/2018-06-28-2018-07-26--123.11971-39.04786_ndvi_bw.tif (512, 512)\n",
      "Image download: ../Data/exports/tc/2018-06-28-2018-07-26--116.91845-33.07892_tc.tif (512, 512)\n"
     ]
    },
    {
     "name": "stderr",
     "output_type": "stream",
     "text": [
      "\r",
      " 63%|████████████████████████████████████████████████████                               | 631/1006 [48:39<30:15,  4.84s/it]"
     ]
    },
    {
     "name": "stdout",
     "output_type": "stream",
     "text": [
      "Image download: ../Data/exports/ndvi/2018-06-28-2018-07-26--116.91845-33.07892_ndvi_bw.tif (512, 512)\n",
      "Image download: ../Data/exports/tc/2018-06-28-2018-07-26--120.868091-40.633536_tc.tif (512, 512)\n"
     ]
    },
    {
     "name": "stderr",
     "output_type": "stream",
     "text": [
      "\r",
      " 63%|████████████████████████████████████████████████████▏                              | 632/1006 [48:45<31:44,  5.09s/it]"
     ]
    },
    {
     "name": "stdout",
     "output_type": "stream",
     "text": [
      "Image download: ../Data/exports/ndvi/2018-06-28-2018-07-26--120.868091-40.633536_ndvi_bw.tif (512, 512)\n",
      "Image download: ../Data/exports/tc/2018-06-28-2018-07-26--118.817934-35.387408_tc.tif (512, 512)\n"
     ]
    },
    {
     "name": "stderr",
     "output_type": "stream",
     "text": [
      "\r",
      " 63%|████████████████████████████████████████████████████▏                              | 633/1006 [48:50<32:13,  5.18s/it]"
     ]
    },
    {
     "name": "stdout",
     "output_type": "stream",
     "text": [
      "Image download: ../Data/exports/ndvi/2018-06-28-2018-07-26--118.817934-35.387408_ndvi_bw.tif (512, 512)\n",
      "Image download: ../Data/exports/tc/2018-06-29-2018-07-27--117.24044-33.41476_tc.tif (512, 512)\n"
     ]
    },
    {
     "name": "stderr",
     "output_type": "stream",
     "text": [
      "\r",
      " 63%|████████████████████████████████████████████████████▎                              | 634/1006 [48:55<31:14,  5.04s/it]"
     ]
    },
    {
     "name": "stdout",
     "output_type": "stream",
     "text": [
      "Image download: ../Data/exports/ndvi/2018-06-29-2018-07-27--117.24044-33.41476_ndvi_bw.tif (512, 512)\n",
      "Image download: ../Data/exports/tc/2018-06-29-2018-07-27--117.43521-33.85852_tc.tif (512, 512)\n"
     ]
    },
    {
     "name": "stderr",
     "output_type": "stream",
     "text": [
      "\r",
      " 63%|████████████████████████████████████████████████████▍                              | 635/1006 [49:00<30:55,  5.00s/it]"
     ]
    },
    {
     "name": "stdout",
     "output_type": "stream",
     "text": [
      "Image download: ../Data/exports/ndvi/2018-06-29-2018-07-27--117.43521-33.85852_ndvi_bw.tif (512, 512)\n",
      "Image download: ../Data/exports/tc/2018-06-29-2018-07-27--122.18353-38.51943_tc.tif (512, 512)\n"
     ]
    },
    {
     "name": "stderr",
     "output_type": "stream",
     "text": [
      "\r",
      " 63%|████████████████████████████████████████████████████▍                              | 636/1006 [49:04<29:54,  4.85s/it]"
     ]
    },
    {
     "name": "stdout",
     "output_type": "stream",
     "text": [
      "Image download: ../Data/exports/ndvi/2018-06-29-2018-07-27--122.18353-38.51943_ndvi_bw.tif (512, 512)\n",
      "Image download: ../Data/exports/tc/2018-06-30-2018-07-28--121.6002-40.95673_tc.tif (512, 512)\n"
     ]
    },
    {
     "name": "stderr",
     "output_type": "stream",
     "text": [
      "\r",
      " 63%|████████████████████████████████████████████████████▌                              | 637/1006 [49:11<33:11,  5.40s/it]"
     ]
    },
    {
     "name": "stdout",
     "output_type": "stream",
     "text": [
      "Image download: ../Data/exports/ndvi/2018-06-30-2018-07-28--121.6002-40.95673_ndvi_bw.tif (512, 512)\n",
      "Image download: ../Data/exports/tc/2018-07-02-2018-07-30--118.970443-37.735461_tc.tif (512, 512)\n"
     ]
    },
    {
     "name": "stderr",
     "output_type": "stream",
     "text": [
      "\r",
      " 63%|████████████████████████████████████████████████████▋                              | 638/1006 [49:15<31:09,  5.08s/it]"
     ]
    },
    {
     "name": "stdout",
     "output_type": "stream",
     "text": [
      "Image download: ../Data/exports/ndvi/2018-07-02-2018-07-30--118.970443-37.735461_ndvi_bw.tif (512, 512)\n",
      "Image download: ../Data/exports/tc/2018-07-02-2018-07-30--123.08489-39.82877_tc.tif (512, 512)\n"
     ]
    },
    {
     "name": "stderr",
     "output_type": "stream",
     "text": [
      "\r",
      " 64%|████████████████████████████████████████████████████▋                              | 639/1006 [49:20<30:57,  5.06s/it]"
     ]
    },
    {
     "name": "stdout",
     "output_type": "stream",
     "text": [
      "Image download: ../Data/exports/ndvi/2018-07-02-2018-07-30--123.08489-39.82877_ndvi_bw.tif (512, 512)\n",
      "Image download: ../Data/exports/tc/2018-07-02-2018-07-30--121.792885-39.186144_tc.tif (512, 512)\n"
     ]
    },
    {
     "name": "stderr",
     "output_type": "stream",
     "text": [
      "\r",
      " 64%|████████████████████████████████████████████████████▊                              | 640/1006 [49:26<32:27,  5.32s/it]"
     ]
    },
    {
     "name": "stdout",
     "output_type": "stream",
     "text": [
      "Image download: ../Data/exports/ndvi/2018-07-02-2018-07-30--121.792885-39.186144_ndvi_bw.tif (512, 512)\n",
      "Image download: ../Data/exports/tc/2018-07-03-2018-07-31--121.451307-38.82426_tc.tif (512, 512)\n"
     ]
    },
    {
     "name": "stderr",
     "output_type": "stream",
     "text": [
      "\r",
      " 64%|████████████████████████████████████████████████████▉                              | 641/1006 [49:32<33:08,  5.45s/it]"
     ]
    },
    {
     "name": "stdout",
     "output_type": "stream",
     "text": [
      "Image download: ../Data/exports/ndvi/2018-07-03-2018-07-31--121.451307-38.82426_ndvi_bw.tif (512, 512)\n",
      "Image download: ../Data/exports/tc/2018-07-03-2018-07-31--120.874167-38.645_tc.tif (512, 512)\n"
     ]
    },
    {
     "name": "stderr",
     "output_type": "stream",
     "text": [
      "\r",
      " 64%|████████████████████████████████████████████████████▉                              | 642/1006 [49:37<32:23,  5.34s/it]"
     ]
    },
    {
     "name": "stdout",
     "output_type": "stream",
     "text": [
      "Image download: ../Data/exports/ndvi/2018-07-03-2018-07-31--120.874167-38.645_ndvi_bw.tif (512, 512)\n",
      "Image download: ../Data/exports/tc/2018-07-03-2018-07-31--121.03918-38.82128_tc.tif (512, 512)\n"
     ]
    },
    {
     "name": "stderr",
     "output_type": "stream",
     "text": [
      "\r",
      " 64%|█████████████████████████████████████████████████████                              | 643/1006 [49:43<32:41,  5.40s/it]"
     ]
    },
    {
     "name": "stdout",
     "output_type": "stream",
     "text": [
      "Image download: ../Data/exports/ndvi/2018-07-03-2018-07-31--121.03918-38.82128_ndvi_bw.tif (512, 512)\n",
      "Image download: ../Data/exports/tc/2018-07-03-2018-07-31--123.0496-38.8802_tc.tif (512, 512)\n"
     ]
    },
    {
     "name": "stderr",
     "output_type": "stream",
     "text": [
      "\r",
      " 64%|█████████████████████████████████████████████████████▏                             | 644/1006 [49:47<31:20,  5.20s/it]"
     ]
    },
    {
     "name": "stdout",
     "output_type": "stream",
     "text": [
      "Image download: ../Data/exports/ndvi/2018-07-03-2018-07-31--123.0496-38.8802_ndvi_bw.tif (512, 512)\n",
      "Image download: ../Data/exports/tc/2018-07-03-2018-07-31--119.929-38.349_tc.tif (512, 512)\n"
     ]
    },
    {
     "name": "stderr",
     "output_type": "stream",
     "text": [
      "\r",
      " 64%|█████████████████████████████████████████████████████▏                             | 645/1006 [49:54<34:34,  5.75s/it]"
     ]
    },
    {
     "name": "stdout",
     "output_type": "stream",
     "text": [
      "Image download: ../Data/exports/ndvi/2018-07-03-2018-07-31--119.929-38.349_ndvi_bw.tif (512, 512)\n",
      "Image download: ../Data/exports/tc/2018-07-05-2018-08-02--118.83556-35.37444_tc.tif (512, 512)\n"
     ]
    },
    {
     "name": "stderr",
     "output_type": "stream",
     "text": [
      "\r",
      " 64%|█████████████████████████████████████████████████████▎                             | 646/1006 [50:00<34:07,  5.69s/it]"
     ]
    },
    {
     "name": "stdout",
     "output_type": "stream",
     "text": [
      "Image download: ../Data/exports/ndvi/2018-07-05-2018-08-02--118.83556-35.37444_ndvi_bw.tif (512, 512)\n",
      "Image download: ../Data/exports/tc/2018-07-06-2018-08-03--120.0545-37.69965_tc.tif (512, 512)\n"
     ]
    },
    {
     "name": "stderr",
     "output_type": "stream",
     "text": [
      "\r",
      " 64%|█████████████████████████████████████████████████████▍                             | 647/1006 [50:05<33:29,  5.60s/it]"
     ]
    },
    {
     "name": "stdout",
     "output_type": "stream",
     "text": [
      "Image download: ../Data/exports/ndvi/2018-07-06-2018-08-03--120.0545-37.69965_ndvi_bw.tif (512, 512)\n",
      "Image download: ../Data/exports/tc/2018-07-06-2018-08-03--121.79733-37.533026_tc.tif (512, 512)\n"
     ]
    },
    {
     "name": "stderr",
     "output_type": "stream",
     "text": [
      "\r",
      " 64%|█████████████████████████████████████████████████████▍                             | 648/1006 [50:10<32:07,  5.38s/it]"
     ]
    },
    {
     "name": "stdout",
     "output_type": "stream",
     "text": [
      "Image download: ../Data/exports/ndvi/2018-07-06-2018-08-03--121.79733-37.533026_ndvi_bw.tif (512, 512)\n",
      "Image download: ../Data/exports/tc/2018-07-07-2018-08-04--120.46078-38.08424_tc.tif (512, 512)\n"
     ]
    },
    {
     "name": "stderr",
     "output_type": "stream",
     "text": [
      "\r",
      " 65%|█████████████████████████████████████████████████████▌                             | 649/1006 [50:15<31:37,  5.31s/it]"
     ]
    },
    {
     "name": "stdout",
     "output_type": "stream",
     "text": [
      "Image download: ../Data/exports/ndvi/2018-07-07-2018-08-04--120.46078-38.08424_ndvi_bw.tif (512, 512)\n",
      "Image download: ../Data/exports/tc/2018-07-08-2018-08-05--116.77154-33.05737_tc.tif (512, 512)\n"
     ]
    },
    {
     "name": "stderr",
     "output_type": "stream",
     "text": [
      "\r",
      " 65%|█████████████████████████████████████████████████████▋                             | 650/1006 [50:20<31:04,  5.24s/it]"
     ]
    },
    {
     "name": "stdout",
     "output_type": "stream",
     "text": [
      "Image download: ../Data/exports/ndvi/2018-07-08-2018-08-05--116.77154-33.05737_ndvi_bw.tif (512, 512)\n",
      "Image download: ../Data/exports/tc/2018-07-08-2018-08-05--120.343056-35.847778_tc.tif (512, 512)\n"
     ]
    },
    {
     "name": "stderr",
     "output_type": "stream",
     "text": [
      "\r",
      " 65%|█████████████████████████████████████████████████████▋                             | 651/1006 [50:26<31:47,  5.37s/it]"
     ]
    },
    {
     "name": "stdout",
     "output_type": "stream",
     "text": [
      "Image download: ../Data/exports/ndvi/2018-07-08-2018-08-05--120.343056-35.847778_ndvi_bw.tif (512, 512)\n",
      "Image download: ../Data/exports/tc/2018-07-08-2018-08-05--117.52055-33.69888_tc.tif (512, 512)\n"
     ]
    },
    {
     "name": "stderr",
     "output_type": "stream",
     "text": [
      "\r",
      " 65%|█████████████████████████████████████████████████████▊                             | 652/1006 [50:30<29:40,  5.03s/it]"
     ]
    },
    {
     "name": "stdout",
     "output_type": "stream",
     "text": [
      "Image download: ../Data/exports/ndvi/2018-07-08-2018-08-05--117.52055-33.69888_ndvi_bw.tif (512, 512)\n",
      "Image download: ../Data/exports/tc/2018-07-08-2018-08-05--117.460278-33.759722_tc.tif (512, 512)\n"
     ]
    },
    {
     "name": "stderr",
     "output_type": "stream",
     "text": [
      "\r",
      " 65%|█████████████████████████████████████████████████████▉                             | 653/1006 [50:35<28:33,  4.85s/it]"
     ]
    },
    {
     "name": "stdout",
     "output_type": "stream",
     "text": [
      "Image download: ../Data/exports/ndvi/2018-07-08-2018-08-05--117.460278-33.759722_ndvi_bw.tif (512, 512)\n",
      "Image download: ../Data/exports/tc/2018-07-08-2018-08-05--120.872244-38.061298_tc.tif (512, 512)\n"
     ]
    },
    {
     "name": "stderr",
     "output_type": "stream",
     "text": [
      "\r",
      " 65%|█████████████████████████████████████████████████████▉                             | 654/1006 [50:41<30:34,  5.21s/it]"
     ]
    },
    {
     "name": "stdout",
     "output_type": "stream",
     "text": [
      "Image download: ../Data/exports/ndvi/2018-07-08-2018-08-05--120.872244-38.061298_ndvi_bw.tif (512, 512)\n",
      "Image download: ../Data/exports/tc/2018-07-08-2018-08-05--119.98329-35.97896_tc.tif (512, 512)\n"
     ]
    },
    {
     "name": "stderr",
     "output_type": "stream",
     "text": [
      "\r",
      " 65%|██████████████████████████████████████████████████████                             | 655/1006 [50:47<31:46,  5.43s/it]"
     ]
    },
    {
     "name": "stdout",
     "output_type": "stream",
     "text": [
      "Image download: ../Data/exports/ndvi/2018-07-08-2018-08-05--119.98329-35.97896_ndvi_bw.tif (512, 512)\n",
      "Image download: ../Data/exports/tc/2018-07-09-2018-08-06--121.27-39.996944_tc.tif (512, 512)\n"
     ]
    },
    {
     "name": "stderr",
     "output_type": "stream",
     "text": [
      "\r",
      " 65%|██████████████████████████████████████████████████████                             | 656/1006 [50:51<30:10,  5.17s/it]"
     ]
    },
    {
     "name": "stdout",
     "output_type": "stream",
     "text": [
      "Image download: ../Data/exports/ndvi/2018-07-09-2018-08-06--121.27-39.996944_ndvi_bw.tif (512, 512)\n",
      "Image download: ../Data/exports/tc/2018-07-11-2018-08-08--122.219-40.896_tc.tif (512, 512)\n"
     ]
    },
    {
     "name": "stderr",
     "output_type": "stream",
     "text": [
      "\r",
      " 65%|██████████████████████████████████████████████████████▏                            | 657/1006 [50:56<29:20,  5.04s/it]"
     ]
    },
    {
     "name": "stdout",
     "output_type": "stream",
     "text": [
      "Image download: ../Data/exports/ndvi/2018-07-11-2018-08-08--122.219-40.896_ndvi_bw.tif (512, 512)\n",
      "Image download: ../Data/exports/tc/2018-07-11-2018-08-08--116.902985-33.076239_tc.tif (512, 512)\n"
     ]
    },
    {
     "name": "stderr",
     "output_type": "stream",
     "text": [
      "\r",
      " 65%|██████████████████████████████████████████████████████▎                            | 658/1006 [51:02<30:19,  5.23s/it]"
     ]
    },
    {
     "name": "stdout",
     "output_type": "stream",
     "text": [
      "Image download: ../Data/exports/ndvi/2018-07-11-2018-08-08--116.902985-33.076239_ndvi_bw.tif (512, 512)\n",
      "Image download: ../Data/exports/tc/2018-07-11-2018-08-08--122.26389-38.27229_tc.tif (512, 512)\n"
     ]
    },
    {
     "name": "stderr",
     "output_type": "stream",
     "text": [
      "\r",
      " 66%|██████████████████████████████████████████████████████▎                            | 659/1006 [51:07<29:47,  5.15s/it]"
     ]
    },
    {
     "name": "stdout",
     "output_type": "stream",
     "text": [
      "Image download: ../Data/exports/ndvi/2018-07-11-2018-08-08--122.26389-38.27229_ndvi_bw.tif (512, 512)\n",
      "Image download: ../Data/exports/tc/2018-07-11-2018-08-08--121.52225-40.99344_tc.tif (512, 512)\n"
     ]
    },
    {
     "name": "stderr",
     "output_type": "stream",
     "text": [
      "\r",
      " 66%|██████████████████████████████████████████████████████▍                            | 660/1006 [51:12<30:11,  5.23s/it]"
     ]
    },
    {
     "name": "stdout",
     "output_type": "stream",
     "text": [
      "Image download: ../Data/exports/ndvi/2018-07-11-2018-08-08--121.52225-40.99344_ndvi_bw.tif (512, 512)\n",
      "Image download: ../Data/exports/tc/2018-07-12-2018-08-09--122.043747-38.431278_tc.tif (512, 512)\n"
     ]
    },
    {
     "name": "stderr",
     "output_type": "stream",
     "text": [
      "\r",
      " 66%|██████████████████████████████████████████████████████▌                            | 661/1006 [51:17<29:17,  5.10s/it]"
     ]
    },
    {
     "name": "stdout",
     "output_type": "stream",
     "text": [
      "Image download: ../Data/exports/ndvi/2018-07-12-2018-08-09--122.043747-38.431278_ndvi_bw.tif (512, 512)\n",
      "Image download: ../Data/exports/tc/2018-07-13-2018-08-10--120.82226-36.00912_tc.tif (512, 512)\n"
     ]
    },
    {
     "name": "stderr",
     "output_type": "stream",
     "text": [
      "\r",
      " 66%|██████████████████████████████████████████████████████▌                            | 662/1006 [51:22<28:47,  5.02s/it]"
     ]
    },
    {
     "name": "stdout",
     "output_type": "stream",
     "text": [
      "Image download: ../Data/exports/ndvi/2018-07-13-2018-08-10--120.82226-36.00912_ndvi_bw.tif (512, 512)\n",
      "Image download: ../Data/exports/tc/2018-07-14-2018-08-11--121.07039-39.10494_tc.tif (512, 512)\n"
     ]
    },
    {
     "name": "stderr",
     "output_type": "stream",
     "text": [
      "\r",
      " 66%|██████████████████████████████████████████████████████▋                            | 663/1006 [51:27<28:27,  4.98s/it]"
     ]
    },
    {
     "name": "stdout",
     "output_type": "stream",
     "text": [
      "Image download: ../Data/exports/ndvi/2018-07-14-2018-08-11--121.07039-39.10494_ndvi_bw.tif (512, 512)\n",
      "Image download: ../Data/exports/tc/2018-07-15-2018-08-12--117.0242529-33.0971179_tc.tif (512, 512)\n"
     ]
    },
    {
     "name": "stderr",
     "output_type": "stream",
     "text": [
      "\r",
      " 66%|██████████████████████████████████████████████████████▊                            | 664/1006 [51:32<29:02,  5.09s/it]"
     ]
    },
    {
     "name": "stdout",
     "output_type": "stream",
     "text": [
      "Image download: ../Data/exports/ndvi/2018-07-15-2018-08-12--117.0242529-33.0971179_ndvi_bw.tif (512, 512)\n",
      "Image download: ../Data/exports/tc/2018-07-17-2018-08-14--118.7393-35.79012_tc.tif (512, 512)\n"
     ]
    },
    {
     "name": "stderr",
     "output_type": "stream",
     "text": [
      "\r",
      " 66%|██████████████████████████████████████████████████████▊                            | 665/1006 [51:37<28:47,  5.06s/it]"
     ]
    },
    {
     "name": "stdout",
     "output_type": "stream",
     "text": [
      "Image download: ../Data/exports/ndvi/2018-07-17-2018-08-14--118.7393-35.79012_ndvi_bw.tif (512, 512)\n",
      "Image download: ../Data/exports/tc/2018-07-17-2018-08-14--121.04386-41.38544_tc.tif (512, 512)\n"
     ]
    },
    {
     "name": "stderr",
     "output_type": "stream",
     "text": [
      "\r",
      " 66%|██████████████████████████████████████████████████████▉                            | 666/1006 [51:42<28:54,  5.10s/it]"
     ]
    },
    {
     "name": "stdout",
     "output_type": "stream",
     "text": [
      "Image download: ../Data/exports/ndvi/2018-07-17-2018-08-14--121.04386-41.38544_ndvi_bw.tif (512, 512)\n",
      "Image download: ../Data/exports/tc/2018-07-18-2018-08-15--123.688056-41.07944_tc.tif (512, 512)\n"
     ]
    },
    {
     "name": "stderr",
     "output_type": "stream",
     "text": [
      "\r",
      " 66%|███████████████████████████████████████████████████████                            | 667/1006 [51:46<27:13,  4.82s/it]"
     ]
    },
    {
     "name": "stdout",
     "output_type": "stream",
     "text": [
      "Image download: ../Data/exports/ndvi/2018-07-18-2018-08-15--123.688056-41.07944_ndvi_bw.tif (512, 512)\n",
      "Image download: ../Data/exports/tc/2018-07-18-2018-08-15--118.80138889-35.56888889_tc.tif (512, 512)\n"
     ]
    },
    {
     "name": "stderr",
     "output_type": "stream",
     "text": [
      "\r",
      " 66%|███████████████████████████████████████████████████████                            | 668/1006 [51:52<28:28,  5.05s/it]"
     ]
    },
    {
     "name": "stdout",
     "output_type": "stream",
     "text": [
      "Image download: ../Data/exports/ndvi/2018-07-18-2018-08-15--118.80138889-35.56888889_ndvi_bw.tif (512, 512)\n",
      "Image download: ../Data/exports/tc/2018-07-19-2018-08-16--118.51651-35.17156_tc.tif (512, 512)\n"
     ]
    },
    {
     "name": "stderr",
     "output_type": "stream",
     "text": [
      "\r",
      " 67%|███████████████████████████████████████████████████████▏                           | 669/1006 [51:59<31:19,  5.58s/it]"
     ]
    },
    {
     "name": "stdout",
     "output_type": "stream",
     "text": [
      "Image download: ../Data/exports/ndvi/2018-07-19-2018-08-16--118.51651-35.17156_ndvi_bw.tif (512, 512)\n",
      "Image download: ../Data/exports/tc/2018-07-19-2018-08-16--122.14097-37.99618_tc.tif (512, 512)\n"
     ]
    },
    {
     "name": "stderr",
     "output_type": "stream",
     "text": [
      "\r",
      " 67%|███████████████████████████████████████████████████████▎                           | 670/1006 [52:03<29:22,  5.24s/it]"
     ]
    },
    {
     "name": "stdout",
     "output_type": "stream",
     "text": [
      "Image download: ../Data/exports/ndvi/2018-07-19-2018-08-16--122.14097-37.99618_ndvi_bw.tif (512, 512)\n",
      "Image download: ../Data/exports/tc/2018-07-20-2018-08-17--118.6525-35.51777778_tc.tif (512, 512)\n"
     ]
    },
    {
     "name": "stderr",
     "output_type": "stream",
     "text": [
      "\r",
      " 67%|███████████████████████████████████████████████████████▎                           | 671/1006 [52:08<29:02,  5.20s/it]"
     ]
    },
    {
     "name": "stdout",
     "output_type": "stream",
     "text": [
      "Image download: ../Data/exports/ndvi/2018-07-20-2018-08-17--118.6525-35.51777778_ndvi_bw.tif (512, 512)\n",
      "Image download: ../Data/exports/tc/2018-07-21-2018-08-18--122.89055556-40.36888889_tc.tif (512, 512)\n"
     ]
    },
    {
     "name": "stderr",
     "output_type": "stream",
     "text": [
      "\r",
      " 67%|███████████████████████████████████████████████████████▍                           | 672/1006 [52:13<28:50,  5.18s/it]"
     ]
    },
    {
     "name": "stdout",
     "output_type": "stream",
     "text": [
      "Image download: ../Data/exports/ndvi/2018-07-21-2018-08-18--122.89055556-40.36888889_ndvi_bw.tif (512, 512)\n",
      "Image download: ../Data/exports/tc/2018-07-21-2018-08-18--120.09222222-35.11416667_tc.tif (512, 512)\n"
     ]
    },
    {
     "name": "stderr",
     "output_type": "stream",
     "text": [
      "\r",
      " 67%|███████████████████████████████████████████████████████▌                           | 673/1006 [52:20<31:46,  5.72s/it]"
     ]
    },
    {
     "name": "stdout",
     "output_type": "stream",
     "text": [
      "Image download: ../Data/exports/ndvi/2018-07-21-2018-08-18--120.09222222-35.11416667_ndvi_bw.tif (512, 512)\n",
      "Image download: ../Data/exports/tc/2018-07-21-2018-08-18--117.171731-33.627006_tc.tif (512, 512)\n"
     ]
    },
    {
     "name": "stderr",
     "output_type": "stream",
     "text": [
      "\r",
      " 67%|███████████████████████████████████████████████████████▌                           | 674/1006 [52:25<30:37,  5.54s/it]"
     ]
    },
    {
     "name": "stdout",
     "output_type": "stream",
     "text": [
      "Image download: ../Data/exports/ndvi/2018-07-21-2018-08-18--117.171731-33.627006_ndvi_bw.tif (512, 512)\n",
      "Image download: ../Data/exports/tc/2018-07-24-2018-08-21--117.066643-33.946896_tc.tif (512, 512)\n"
     ]
    },
    {
     "name": "stderr",
     "output_type": "stream",
     "text": [
      "\r",
      " 67%|███████████████████████████████████████████████████████▋                           | 675/1006 [52:30<29:40,  5.38s/it]"
     ]
    },
    {
     "name": "stdout",
     "output_type": "stream",
     "text": [
      "Image download: ../Data/exports/ndvi/2018-07-24-2018-08-21--117.066643-33.946896_ndvi_bw.tif (512, 512)\n",
      "Image download: ../Data/exports/tc/2018-07-25-2018-08-22--120.002619-37.197039_tc.tif (512, 512)\n"
     ]
    },
    {
     "name": "stderr",
     "output_type": "stream",
     "text": [
      "\r",
      " 67%|███████████████████████████████████████████████████████▊                           | 676/1006 [52:37<30:41,  5.58s/it]"
     ]
    },
    {
     "name": "stdout",
     "output_type": "stream",
     "text": [
      "Image download: ../Data/exports/ndvi/2018-07-25-2018-08-22--120.002619-37.197039_ndvi_bw.tif (512, 512)\n",
      "Image download: ../Data/exports/tc/2018-07-27-2018-08-24--117.20534-33.97902_tc.tif (512, 512)\n"
     ]
    },
    {
     "name": "stderr",
     "output_type": "stream",
     "text": [
      "\r",
      " 67%|███████████████████████████████████████████████████████▊                           | 677/1006 [52:41<29:01,  5.29s/it]"
     ]
    },
    {
     "name": "stdout",
     "output_type": "stream",
     "text": [
      "Image download: ../Data/exports/ndvi/2018-07-27-2018-08-24--117.20534-33.97902_ndvi_bw.tif (512, 512)\n",
      "Image download: ../Data/exports/tc/2018-07-28-2018-08-25--122.02805-37.69926_tc.tif (512, 512)\n"
     ]
    },
    {
     "name": "stderr",
     "output_type": "stream",
     "text": [
      "\r",
      " 67%|███████████████████████████████████████████████████████▉                           | 678/1006 [52:46<27:49,  5.09s/it]"
     ]
    },
    {
     "name": "stdout",
     "output_type": "stream",
     "text": [
      "Image download: ../Data/exports/ndvi/2018-07-28-2018-08-25--122.02805-37.69926_ndvi_bw.tif (512, 512)\n",
      "Image download: ../Data/exports/tc/2018-07-28-2018-08-25--122.57496-39.02017_tc.tif (512, 512)\n"
     ]
    },
    {
     "name": "stderr",
     "output_type": "stream",
     "text": [
      "\r",
      " 67%|████████████████████████████████████████████████████████                           | 679/1006 [52:52<29:07,  5.34s/it]"
     ]
    },
    {
     "name": "stdout",
     "output_type": "stream",
     "text": [
      "Image download: ../Data/exports/ndvi/2018-07-28-2018-08-25--122.57496-39.02017_ndvi_bw.tif (512, 512)\n",
      "Image download: ../Data/exports/tc/2018-07-29-2018-08-26--117.085354-33.640051_tc.tif (512, 512)\n"
     ]
    },
    {
     "name": "stderr",
     "output_type": "stream",
     "text": [
      "\r",
      " 68%|████████████████████████████████████████████████████████                           | 680/1006 [52:57<29:10,  5.37s/it]"
     ]
    },
    {
     "name": "stdout",
     "output_type": "stream",
     "text": [
      "Image download: ../Data/exports/ndvi/2018-07-29-2018-08-26--117.085354-33.640051_ndvi_bw.tif (512, 512)\n",
      "Image download: ../Data/exports/tc/2018-07-29-2018-08-26--119.431667-37.179167_tc.tif (512, 512)\n"
     ]
    },
    {
     "name": "stderr",
     "output_type": "stream",
     "text": [
      "\r",
      " 68%|████████████████████████████████████████████████████████▏                          | 681/1006 [53:01<27:23,  5.06s/it]"
     ]
    },
    {
     "name": "stdout",
     "output_type": "stream",
     "text": [
      "Image download: ../Data/exports/ndvi/2018-07-29-2018-08-26--119.431667-37.179167_ndvi_bw.tif (512, 512)\n",
      "Image download: ../Data/exports/tc/2018-08-01-2018-08-29--122.3625-38.8275_tc.tif (512, 512)\n"
     ]
    },
    {
     "name": "stderr",
     "output_type": "stream",
     "text": [
      "\r",
      " 68%|████████████████████████████████████████████████████████▎                          | 682/1006 [53:08<30:30,  5.65s/it]"
     ]
    },
    {
     "name": "stdout",
     "output_type": "stream",
     "text": [
      "Image download: ../Data/exports/ndvi/2018-08-01-2018-08-29--122.3625-38.8275_ndvi_bw.tif (512, 512)\n",
      "Image download: ../Data/exports/tc/2018-08-02-2018-08-30--117.244366-34.15475_tc.tif (512, 512)\n"
     ]
    },
    {
     "name": "stderr",
     "output_type": "stream",
     "text": [
      "\r",
      " 68%|████████████████████████████████████████████████████████▎                          | 683/1006 [53:13<29:08,  5.41s/it]"
     ]
    },
    {
     "name": "stdout",
     "output_type": "stream",
     "text": [
      "Image download: ../Data/exports/ndvi/2018-08-02-2018-08-30--117.244366-34.15475_ndvi_bw.tif (512, 512)\n",
      "Image download: ../Data/exports/tc/2018-08-03-2018-08-31--119.61416-34.576944_tc.tif (512, 512)\n"
     ]
    },
    {
     "name": "stderr",
     "output_type": "stream",
     "text": [
      "\r",
      " 68%|████████████████████████████████████████████████████████▍                          | 684/1006 [53:18<27:47,  5.18s/it]"
     ]
    },
    {
     "name": "stdout",
     "output_type": "stream",
     "text": [
      "Image download: ../Data/exports/ndvi/2018-08-03-2018-08-31--119.61416-34.576944_ndvi_bw.tif (512, 512)\n",
      "Image download: ../Data/exports/tc/2018-08-04-2018-09-01--122.97222-38.981389_tc.tif (512, 512)\n"
     ]
    },
    {
     "name": "stderr",
     "output_type": "stream",
     "text": [
      "\r",
      " 68%|████████████████████████████████████████████████████████▌                          | 685/1006 [53:24<29:37,  5.54s/it]"
     ]
    },
    {
     "name": "stdout",
     "output_type": "stream",
     "text": [
      "Image download: ../Data/exports/ndvi/2018-08-04-2018-09-01--122.97222-38.981389_ndvi_bw.tif (512, 512)\n",
      "Image download: ../Data/exports/tc/2018-08-04-2018-09-01--120.72362-41.52123_tc.tif (512, 512)\n"
     ]
    },
    {
     "name": "stderr",
     "output_type": "stream",
     "text": [
      "\r",
      " 68%|████████████████████████████████████████████████████████▌                          | 686/1006 [53:29<28:47,  5.40s/it]"
     ]
    },
    {
     "name": "stdout",
     "output_type": "stream",
     "text": [
      "Image download: ../Data/exports/ndvi/2018-08-04-2018-09-01--120.72362-41.52123_ndvi_bw.tif (512, 512)\n",
      "Image download: ../Data/exports/tc/2018-08-05-2018-09-02--122.85276-38.91842_tc.tif (512, 512)\n"
     ]
    },
    {
     "name": "stderr",
     "output_type": "stream",
     "text": [
      "\r",
      " 68%|████████████████████████████████████████████████████████▋                          | 687/1006 [53:35<28:21,  5.33s/it]"
     ]
    },
    {
     "name": "stdout",
     "output_type": "stream",
     "text": [
      "Image download: ../Data/exports/ndvi/2018-08-05-2018-09-02--122.85276-38.91842_ndvi_bw.tif (512, 512)\n",
      "Image download: ../Data/exports/tc/2018-08-05-2018-09-02--120.658333-39.268611_tc.tif (512, 512)\n"
     ]
    },
    {
     "name": "stderr",
     "output_type": "stream",
     "text": [
      "\r",
      " 68%|████████████████████████████████████████████████████████▊                          | 688/1006 [53:40<27:38,  5.21s/it]"
     ]
    },
    {
     "name": "stdout",
     "output_type": "stream",
     "text": [
      "Image download: ../Data/exports/ndvi/2018-08-05-2018-09-02--120.658333-39.268611_ndvi_bw.tif (512, 512)\n",
      "Image download: ../Data/exports/tc/2018-08-06-2018-09-03--119.45186-38.347395_tc.tif (512, 512)\n"
     ]
    },
    {
     "name": "stderr",
     "output_type": "stream",
     "text": [
      "\r",
      " 68%|████████████████████████████████████████████████████████▊                          | 689/1006 [53:45<27:07,  5.13s/it]"
     ]
    },
    {
     "name": "stdout",
     "output_type": "stream",
     "text": [
      "Image download: ../Data/exports/ndvi/2018-08-06-2018-09-03--119.45186-38.347395_ndvi_bw.tif (512, 512)\n",
      "Image download: ../Data/exports/tc/2018-08-06-2018-09-03--122.400556-40.678889_tc.tif (512, 512)\n"
     ]
    },
    {
     "name": "stderr",
     "output_type": "stream",
     "text": [
      "\r",
      " 69%|████████████████████████████████████████████████████████▉                          | 690/1006 [53:50<28:20,  5.38s/it]"
     ]
    },
    {
     "name": "stdout",
     "output_type": "stream",
     "text": [
      "Image download: ../Data/exports/ndvi/2018-08-06-2018-09-03--122.400556-40.678889_ndvi_bw.tif (512, 512)\n",
      "Image download: ../Data/exports/tc/2018-08-06-2018-09-03--120.92611-38.94388_tc.tif (512, 512)\n"
     ]
    },
    {
     "name": "stderr",
     "output_type": "stream",
     "text": [
      "\r",
      " 69%|█████████████████████████████████████████████████████████                          | 691/1006 [53:55<27:13,  5.19s/it]"
     ]
    },
    {
     "name": "stdout",
     "output_type": "stream",
     "text": [
      "Image download: ../Data/exports/ndvi/2018-08-06-2018-09-03--120.92611-38.94388_ndvi_bw.tif (512, 512)\n",
      "Image download: ../Data/exports/tc/2018-08-06-2018-09-03--123.52019-40.616251_tc.tif (512, 512)\n"
     ]
    },
    {
     "name": "stderr",
     "output_type": "stream",
     "text": [
      "\r",
      " 69%|█████████████████████████████████████████████████████████                          | 692/1006 [54:02<29:05,  5.56s/it]"
     ]
    },
    {
     "name": "stdout",
     "output_type": "stream",
     "text": [
      "Image download: ../Data/exports/ndvi/2018-08-06-2018-09-03--123.52019-40.616251_ndvi_bw.tif (512, 512)\n",
      "Image download: ../Data/exports/tc/2018-08-07-2018-09-04--122.43-40.9425_tc.tif (512, 512)\n"
     ]
    },
    {
     "name": "stderr",
     "output_type": "stream",
     "text": [
      "\r",
      " 69%|█████████████████████████████████████████████████████████▏                         | 693/1006 [54:07<29:00,  5.56s/it]"
     ]
    },
    {
     "name": "stdout",
     "output_type": "stream",
     "text": [
      "Image download: ../Data/exports/ndvi/2018-08-07-2018-09-04--122.43-40.9425_ndvi_bw.tif (512, 512)\n",
      "Image download: ../Data/exports/tc/2018-08-07-2018-09-04--122.43-40.9425_tc.tif (512, 512)\n"
     ]
    },
    {
     "name": "stderr",
     "output_type": "stream",
     "text": [
      "\r",
      " 69%|█████████████████████████████████████████████████████████▎                         | 694/1006 [54:12<28:31,  5.49s/it]"
     ]
    },
    {
     "name": "stdout",
     "output_type": "stream",
     "text": [
      "Image download: ../Data/exports/ndvi/2018-08-07-2018-09-04--122.43-40.9425_ndvi_bw.tif (512, 512)\n",
      "Image download: ../Data/exports/tc/2018-08-10-2018-09-07--120.61746-37.83388_tc.tif (512, 512)\n"
     ]
    },
    {
     "name": "stderr",
     "output_type": "stream",
     "text": [
      "\r",
      " 69%|█████████████████████████████████████████████████████████▎                         | 695/1006 [54:20<31:44,  6.12s/it]"
     ]
    },
    {
     "name": "stdout",
     "output_type": "stream",
     "text": [
      "Image download: ../Data/exports/ndvi/2018-08-10-2018-09-07--120.61746-37.83388_ndvi_bw.tif (512, 512)\n",
      "Image download: ../Data/exports/tc/2018-08-10-2018-09-07--122.44468-38.69601_tc.tif (512, 512)\n"
     ]
    },
    {
     "name": "stderr",
     "output_type": "stream",
     "text": [
      "\r",
      " 69%|█████████████████████████████████████████████████████████▍                         | 696/1006 [54:25<29:18,  5.67s/it]"
     ]
    },
    {
     "name": "stdout",
     "output_type": "stream",
     "text": [
      "Image download: ../Data/exports/ndvi/2018-08-10-2018-09-07--122.44468-38.69601_ndvi_bw.tif (512, 512)\n",
      "Image download: ../Data/exports/tc/2018-08-11-2018-09-08--117.846111-34.2325_tc.tif (512, 512)\n"
     ]
    },
    {
     "name": "stderr",
     "output_type": "stream",
     "text": [
      "\r",
      " 69%|█████████████████████████████████████████████████████████▌                         | 697/1006 [54:30<28:35,  5.55s/it]"
     ]
    },
    {
     "name": "stdout",
     "output_type": "stream",
     "text": [
      "Image download: ../Data/exports/ndvi/2018-08-11-2018-09-08--117.846111-34.2325_ndvi_bw.tif (512, 512)\n",
      "Image download: ../Data/exports/tc/2018-08-12-2018-09-09--122.727-38.02447_tc.tif (512, 512)\n"
     ]
    },
    {
     "name": "stderr",
     "output_type": "stream",
     "text": [
      "\r",
      " 69%|█████████████████████████████████████████████████████████▌                         | 698/1006 [54:35<27:31,  5.36s/it]"
     ]
    },
    {
     "name": "stdout",
     "output_type": "stream",
     "text": [
      "Image download: ../Data/exports/ndvi/2018-08-12-2018-09-09--122.727-38.02447_ndvi_bw.tif (512, 512)\n",
      "Image download: ../Data/exports/tc/2018-08-14-2018-09-11--118.92485-34.91482_tc.tif (512, 512)\n"
     ]
    },
    {
     "name": "stderr",
     "output_type": "stream",
     "text": [
      "\r",
      " 69%|█████████████████████████████████████████████████████████▋                         | 699/1006 [54:40<27:30,  5.38s/it]"
     ]
    },
    {
     "name": "stdout",
     "output_type": "stream",
     "text": [
      "Image download: ../Data/exports/ndvi/2018-08-14-2018-09-11--118.92485-34.91482_ndvi_bw.tif (512, 512)\n",
      "Image download: ../Data/exports/tc/2018-08-15-2018-09-12--121.1563-36.35502_tc.tif (512, 512)\n"
     ]
    },
    {
     "name": "stderr",
     "output_type": "stream",
     "text": [
      "\r",
      " 70%|█████████████████████████████████████████████████████████▊                         | 700/1006 [54:47<29:47,  5.84s/it]"
     ]
    },
    {
     "name": "stdout",
     "output_type": "stream",
     "text": [
      "Image download: ../Data/exports/ndvi/2018-08-15-2018-09-12--121.1563-36.35502_ndvi_bw.tif (512, 512)\n",
      "Image download: ../Data/exports/tc/2018-08-16-2018-09-13--116.93188-33.80406_tc.tif (512, 512)\n"
     ]
    },
    {
     "name": "stderr",
     "output_type": "stream",
     "text": [
      "\r",
      " 70%|█████████████████████████████████████████████████████████▊                         | 701/1006 [54:54<30:27,  5.99s/it]"
     ]
    },
    {
     "name": "stdout",
     "output_type": "stream",
     "text": [
      "Image download: ../Data/exports/ndvi/2018-08-16-2018-09-13--116.93188-33.80406_ndvi_bw.tif (512, 512)\n",
      "Image download: ../Data/exports/tc/2018-08-18-2018-09-15--120.64398-35.30151_tc.tif (512, 512)\n"
     ]
    },
    {
     "name": "stderr",
     "output_type": "stream",
     "text": [
      "\r",
      " 70%|█████████████████████████████████████████████████████████▉                         | 702/1006 [54:58<28:17,  5.58s/it]"
     ]
    },
    {
     "name": "stdout",
     "output_type": "stream",
     "text": [
      "Image download: ../Data/exports/ndvi/2018-08-18-2018-09-15--120.64398-35.30151_ndvi_bw.tif (512, 512)\n",
      "Image download: ../Data/exports/tc/2018-08-22-2018-09-19--120.65672-38.7448_tc.tif (512, 512)\n"
     ]
    },
    {
     "name": "stderr",
     "output_type": "stream",
     "text": [
      "\r",
      " 70%|██████████████████████████████████████████████████████████                         | 703/1006 [55:06<31:41,  6.27s/it]"
     ]
    },
    {
     "name": "stdout",
     "output_type": "stream",
     "text": [
      "Image download: ../Data/exports/ndvi/2018-08-22-2018-09-19--120.65672-38.7448_ndvi_bw.tif (512, 512)\n",
      "Image download: ../Data/exports/tc/2018-08-24-2018-09-21--118.60858-34.48229_tc.tif (512, 512)\n"
     ]
    },
    {
     "name": "stderr",
     "output_type": "stream",
     "text": [
      "\r",
      " 70%|██████████████████████████████████████████████████████████                         | 704/1006 [55:11<30:01,  5.96s/it]"
     ]
    },
    {
     "name": "stdout",
     "output_type": "stream",
     "text": [
      "Image download: ../Data/exports/ndvi/2018-08-24-2018-09-21--118.60858-34.48229_ndvi_bw.tif (512, 512)\n",
      "Image download: ../Data/exports/tc/2018-08-24-2018-09-21--120.93005-40.33642_tc.tif (512, 512)\n"
     ]
    },
    {
     "name": "stderr",
     "output_type": "stream",
     "text": [
      "\r",
      " 70%|██████████████████████████████████████████████████████████▏                        | 705/1006 [55:15<27:00,  5.38s/it]"
     ]
    },
    {
     "name": "stdout",
     "output_type": "stream",
     "text": [
      "Image download: ../Data/exports/ndvi/2018-08-24-2018-09-21--120.93005-40.33642_ndvi_bw.tif (512, 512)\n",
      "Image download: ../Data/exports/tc/2018-08-24-2018-09-21--119.68912-37.38789_tc.tif (512, 512)\n"
     ]
    },
    {
     "name": "stderr",
     "output_type": "stream",
     "text": [
      "\r",
      " 70%|██████████████████████████████████████████████████████████▏                        | 706/1006 [55:21<26:33,  5.31s/it]"
     ]
    },
    {
     "name": "stdout",
     "output_type": "stream",
     "text": [
      "Image download: ../Data/exports/ndvi/2018-08-24-2018-09-21--119.68912-37.38789_ndvi_bw.tif (512, 512)\n",
      "Image download: ../Data/exports/tc/2018-08-25-2018-09-22--121.75815-37.33563_tc.tif (512, 512)\n"
     ]
    },
    {
     "name": "stderr",
     "output_type": "stream",
     "text": [
      "\r",
      " 70%|██████████████████████████████████████████████████████████▎                        | 707/1006 [55:25<25:19,  5.08s/it]"
     ]
    },
    {
     "name": "stdout",
     "output_type": "stream",
     "text": [
      "Image download: ../Data/exports/ndvi/2018-08-25-2018-09-22--121.75815-37.33563_ndvi_bw.tif (512, 512)\n",
      "Image download: ../Data/exports/tc/2018-08-26-2018-09-23--121.62168-39.84151_tc.tif (512, 512)\n"
     ]
    },
    {
     "name": "stderr",
     "output_type": "stream",
     "text": [
      "\r",
      " 70%|██████████████████████████████████████████████████████████▍                        | 708/1006 [55:29<24:09,  4.86s/it]"
     ]
    },
    {
     "name": "stdout",
     "output_type": "stream",
     "text": [
      "Image download: ../Data/exports/ndvi/2018-08-26-2018-09-23--121.62168-39.84151_ndvi_bw.tif (512, 512)\n",
      "Image download: ../Data/exports/tc/2018-08-28-2018-09-25--117.42431-34.24138_tc.tif (512, 512)\n"
     ]
    },
    {
     "name": "stderr",
     "output_type": "stream",
     "text": [
      "\r",
      " 70%|██████████████████████████████████████████████████████████▍                        | 709/1006 [55:34<24:19,  4.91s/it]"
     ]
    },
    {
     "name": "stdout",
     "output_type": "stream",
     "text": [
      "Image download: ../Data/exports/ndvi/2018-08-28-2018-09-25--117.42431-34.24138_ndvi_bw.tif (512, 512)\n",
      "Image download: ../Data/exports/tc/2018-08-30-2018-09-27--121.43025-40.34256_tc.tif (512, 512)\n"
     ]
    },
    {
     "name": "stderr",
     "output_type": "stream",
     "text": [
      "\r",
      " 71%|██████████████████████████████████████████████████████████▌                        | 710/1006 [55:39<23:42,  4.81s/it]"
     ]
    },
    {
     "name": "stdout",
     "output_type": "stream",
     "text": [
      "Image download: ../Data/exports/ndvi/2018-08-30-2018-09-27--121.43025-40.34256_ndvi_bw.tif (512, 512)\n",
      "Image download: ../Data/exports/tc/2018-08-30-2018-09-27--122.17173-40.5939_tc.tif (512, 512)\n"
     ]
    },
    {
     "name": "stderr",
     "output_type": "stream",
     "text": [
      "\r",
      " 71%|██████████████████████████████████████████████████████████▋                        | 711/1006 [55:45<25:24,  5.17s/it]"
     ]
    },
    {
     "name": "stdout",
     "output_type": "stream",
     "text": [
      "Image download: ../Data/exports/ndvi/2018-08-30-2018-09-27--122.17173-40.5939_ndvi_bw.tif (512, 512)\n"
     ]
    },
    {
     "name": "stderr",
     "output_type": "stream",
     "text": [
      "\r",
      " 71%|██████████████████████████████████████████████████████████▋                        | 712/1006 [55:46<18:39,  3.81s/it]"
     ]
    },
    {
     "name": "stdout",
     "output_type": "stream",
     "text": [
      "EXCEPTION - Row 1212 @ (-120.258, -120.258)\n",
      "Image.select: Band pattern 'B4' was applied to an Image with no bands. See https://developers.google.com/earth-engine/guides/debugging#no-bands\n",
      "Image download: ../Data/exports/tc/2018-09-03-2018-10-01--121.24898-35.97677_tc.tif (512, 512)\n"
     ]
    },
    {
     "name": "stderr",
     "output_type": "stream",
     "text": [
      "\r",
      " 71%|██████████████████████████████████████████████████████████▊                        | 713/1006 [55:51<20:09,  4.13s/it]"
     ]
    },
    {
     "name": "stdout",
     "output_type": "stream",
     "text": [
      "Image download: ../Data/exports/ndvi/2018-09-03-2018-10-01--121.24898-35.97677_ndvi_bw.tif (512, 512)\n",
      "Image download: ../Data/exports/tc/2018-09-03-2018-10-01--119.3127769-36.938674_tc.tif (512, 512)\n"
     ]
    },
    {
     "name": "stderr",
     "output_type": "stream",
     "text": [
      "\r",
      " 71%|██████████████████████████████████████████████████████████▉                        | 714/1006 [55:55<21:12,  4.36s/it]"
     ]
    },
    {
     "name": "stdout",
     "output_type": "stream",
     "text": [
      "Image download: ../Data/exports/ndvi/2018-09-03-2018-10-01--119.3127769-36.938674_ndvi_bw.tif (512, 512)\n",
      "Image download: ../Data/exports/tc/2018-09-08-2018-10-06--122.18-40.22027778_tc.tif (512, 512)\n"
     ]
    },
    {
     "name": "stderr",
     "output_type": "stream",
     "text": [
      "\r",
      " 71%|██████████████████████████████████████████████████████████▉                        | 715/1006 [56:00<21:26,  4.42s/it]"
     ]
    },
    {
     "name": "stdout",
     "output_type": "stream",
     "text": [
      "Image download: ../Data/exports/ndvi/2018-09-08-2018-10-06--122.18-40.22027778_ndvi_bw.tif (512, 512)\n",
      "Image download: ../Data/exports/tc/2018-09-08-2018-10-06--121.68694444-37.1769444_tc.tif (512, 512)\n"
     ]
    },
    {
     "name": "stderr",
     "output_type": "stream",
     "text": [
      "\r",
      " 71%|███████████████████████████████████████████████████████████                        | 716/1006 [56:04<21:23,  4.43s/it]"
     ]
    },
    {
     "name": "stdout",
     "output_type": "stream",
     "text": [
      "Image download: ../Data/exports/ndvi/2018-09-08-2018-10-06--121.68694444-37.1769444_ndvi_bw.tif (512, 512)\n",
      "Image download: ../Data/exports/tc/2018-09-11-2018-10-09--122.43933-41.94046_tc.tif (512, 512)\n"
     ]
    },
    {
     "name": "stderr",
     "output_type": "stream",
     "text": [
      "\r",
      " 71%|███████████████████████████████████████████████████████████▏                       | 717/1006 [56:09<21:10,  4.40s/it]"
     ]
    },
    {
     "name": "stdout",
     "output_type": "stream",
     "text": [
      "Image download: ../Data/exports/ndvi/2018-09-11-2018-10-09--122.43933-41.94046_ndvi_bw.tif (512, 512)\n",
      "Image download: ../Data/exports/tc/2018-09-13-2018-10-11--121.94658-38.45673_tc.tif (512, 512)\n"
     ]
    },
    {
     "name": "stderr",
     "output_type": "stream",
     "text": [
      "\r",
      " 71%|███████████████████████████████████████████████████████████▏                       | 718/1006 [56:14<22:13,  4.63s/it]"
     ]
    },
    {
     "name": "stdout",
     "output_type": "stream",
     "text": [
      "Image download: ../Data/exports/ndvi/2018-09-13-2018-10-11--121.94658-38.45673_ndvi_bw.tif (512, 512)\n",
      "Image download: ../Data/exports/tc/2018-09-14-2018-10-12--120.69955-36.18401_tc.tif (512, 512)\n"
     ]
    },
    {
     "name": "stderr",
     "output_type": "stream",
     "text": [
      "\r",
      " 71%|███████████████████████████████████████████████████████████▎                       | 719/1006 [56:21<25:30,  5.33s/it]"
     ]
    },
    {
     "name": "stdout",
     "output_type": "stream",
     "text": [
      "Image download: ../Data/exports/ndvi/2018-09-14-2018-10-12--120.69955-36.18401_ndvi_bw.tif (512, 512)\n",
      "Image download: ../Data/exports/tc/2018-09-15-2018-10-13--122.51597-40.49618_tc.tif (512, 512)\n"
     ]
    },
    {
     "name": "stderr",
     "output_type": "stream",
     "text": [
      "\r",
      " 72%|███████████████████████████████████████████████████████████▍                       | 720/1006 [56:26<24:53,  5.22s/it]"
     ]
    },
    {
     "name": "stdout",
     "output_type": "stream",
     "text": [
      "Image download: ../Data/exports/ndvi/2018-09-15-2018-10-13--122.51597-40.49618_ndvi_bw.tif (512, 512)\n",
      "Image download: ../Data/exports/tc/2018-09-15-2018-10-13--122.38366-40.60866_tc.tif (512, 512)\n"
     ]
    },
    {
     "name": "stderr",
     "output_type": "stream",
     "text": [
      "\r",
      " 72%|███████████████████████████████████████████████████████████▍                       | 721/1006 [56:32<26:45,  5.63s/it]"
     ]
    },
    {
     "name": "stdout",
     "output_type": "stream",
     "text": [
      "Image download: ../Data/exports/ndvi/2018-09-15-2018-10-13--122.38366-40.60866_ndvi_bw.tif (512, 512)\n",
      "Image download: ../Data/exports/tc/2018-09-16-2018-10-14--121.54103-39.93427_tc.tif (512, 512)\n"
     ]
    },
    {
     "name": "stderr",
     "output_type": "stream",
     "text": [
      "\r",
      " 72%|███████████████████████████████████████████████████████████▌                       | 722/1006 [56:37<25:39,  5.42s/it]"
     ]
    },
    {
     "name": "stdout",
     "output_type": "stream",
     "text": [
      "Image download: ../Data/exports/ndvi/2018-09-16-2018-10-14--121.54103-39.93427_ndvi_bw.tif (512, 512)\n",
      "Image download: ../Data/exports/tc/2018-09-20-2018-10-18--120.48861-35.17693_tc.tif (512, 512)\n"
     ]
    },
    {
     "name": "stderr",
     "output_type": "stream",
     "text": [
      "\r",
      " 72%|███████████████████████████████████████████████████████████▋                       | 723/1006 [56:42<24:56,  5.29s/it]"
     ]
    },
    {
     "name": "stdout",
     "output_type": "stream",
     "text": [
      "Image download: ../Data/exports/ndvi/2018-09-20-2018-10-18--120.48861-35.17693_ndvi_bw.tif (512, 512)\n",
      "Image download: ../Data/exports/tc/2018-09-25-2018-10-23--119.10433-36.47766_tc.tif (512, 512)\n"
     ]
    },
    {
     "name": "stderr",
     "output_type": "stream",
     "text": [
      "\r",
      " 72%|███████████████████████████████████████████████████████████▋                       | 724/1006 [56:48<25:04,  5.33s/it]"
     ]
    },
    {
     "name": "stdout",
     "output_type": "stream",
     "text": [
      "Image download: ../Data/exports/ndvi/2018-09-25-2018-10-23--119.10433-36.47766_ndvi_bw.tif (512, 512)\n",
      "Image download: ../Data/exports/tc/2018-10-01-2018-10-29--121.51707-39.36529_tc.tif (512, 512)\n"
     ]
    },
    {
     "name": "stderr",
     "output_type": "stream",
     "text": [
      "\r",
      " 72%|███████████████████████████████████████████████████████████▊                       | 725/1006 [56:53<24:09,  5.16s/it]"
     ]
    },
    {
     "name": "stdout",
     "output_type": "stream",
     "text": [
      "Image download: ../Data/exports/ndvi/2018-10-01-2018-10-29--121.51707-39.36529_ndvi_bw.tif (512, 512)\n",
      "Image download: ../Data/exports/tc/2018-10-05-2018-11-02--122.046-37.0125_tc.tif (512, 512)\n"
     ]
    },
    {
     "name": "stderr",
     "output_type": "stream",
     "text": [
      "\r",
      " 72%|███████████████████████████████████████████████████████████▉                       | 726/1006 [56:57<23:35,  5.05s/it]"
     ]
    },
    {
     "name": "stdout",
     "output_type": "stream",
     "text": [
      "Image download: ../Data/exports/ndvi/2018-10-05-2018-11-02--122.046-37.0125_ndvi_bw.tif (512, 512)\n",
      "Image download: ../Data/exports/tc/2018-10-07-2018-11-04--122.308479-40.346652_tc.tif (512, 512)\n"
     ]
    },
    {
     "name": "stderr",
     "output_type": "stream",
     "text": [
      "\r",
      " 72%|███████████████████████████████████████████████████████████▉                       | 727/1006 [57:03<24:13,  5.21s/it]"
     ]
    },
    {
     "name": "stdout",
     "output_type": "stream",
     "text": [
      "Image download: ../Data/exports/ndvi/2018-10-07-2018-11-04--122.308479-40.346652_ndvi_bw.tif (512, 512)\n",
      "Image download: ../Data/exports/tc/2018-10-10-2018-11-07--121.4347-39.8134_tc.tif (512, 512)\n"
     ]
    },
    {
     "name": "stderr",
     "output_type": "stream",
     "text": [
      "\r",
      " 72%|████████████████████████████████████████████████████████████                       | 728/1006 [57:08<23:49,  5.14s/it]"
     ]
    },
    {
     "name": "stdout",
     "output_type": "stream",
     "text": [
      "Image download: ../Data/exports/ndvi/2018-10-10-2018-11-07--121.4347-39.8134_ndvi_bw.tif (512, 512)\n",
      "Image download: ../Data/exports/tc/2018-10-10-2018-11-07--120.19336-40.83116_tc.tif (512, 512)\n"
     ]
    },
    {
     "name": "stderr",
     "output_type": "stream",
     "text": [
      "\r",
      " 72%|████████████████████████████████████████████████████████████▏                      | 729/1006 [57:14<25:04,  5.43s/it]"
     ]
    },
    {
     "name": "stdout",
     "output_type": "stream",
     "text": [
      "Image download: ../Data/exports/ndvi/2018-10-10-2018-11-07--120.19336-40.83116_ndvi_bw.tif (512, 512)\n",
      "Image download: ../Data/exports/tc/2018-10-10-2018-11-07--123.28774-39.62194_tc.tif (512, 512)\n"
     ]
    },
    {
     "name": "stderr",
     "output_type": "stream",
     "text": [
      "\r",
      " 73%|████████████████████████████████████████████████████████████▏                      | 730/1006 [57:20<25:02,  5.44s/it]"
     ]
    },
    {
     "name": "stdout",
     "output_type": "stream",
     "text": [
      "Image download: ../Data/exports/ndvi/2018-10-10-2018-11-07--123.28774-39.62194_ndvi_bw.tif (512, 512)\n",
      "Image download: ../Data/exports/tc/2018-10-10-2018-11-07--121.9424-38.21396_tc.tif (512, 512)\n"
     ]
    },
    {
     "name": "stderr",
     "output_type": "stream",
     "text": [
      "\r",
      " 73%|████████████████████████████████████████████████████████████▎                      | 731/1006 [57:24<24:06,  5.26s/it]"
     ]
    },
    {
     "name": "stdout",
     "output_type": "stream",
     "text": [
      "Image download: ../Data/exports/ndvi/2018-10-10-2018-11-07--121.9424-38.21396_ndvi_bw.tif (512, 512)\n",
      "Image download: ../Data/exports/tc/2018-10-10-2018-11-07--118.93444-34.22685_tc.tif (512, 512)\n"
     ]
    },
    {
     "name": "stderr",
     "output_type": "stream",
     "text": [
      "\r",
      " 73%|████████████████████████████████████████████████████████████▍                      | 732/1006 [57:31<25:54,  5.67s/it]"
     ]
    },
    {
     "name": "stdout",
     "output_type": "stream",
     "text": [
      "Image download: ../Data/exports/ndvi/2018-10-10-2018-11-07--118.93444-34.22685_ndvi_bw.tif (512, 512)\n",
      "Image download: ../Data/exports/tc/2018-10-10-2018-11-07--118.70128-34.235_tc.tif (512, 512)\n"
     ]
    },
    {
     "name": "stderr",
     "output_type": "stream",
     "text": [
      "\r",
      " 73%|████████████████████████████████████████████████████████████▍                      | 733/1006 [57:36<25:30,  5.60s/it]"
     ]
    },
    {
     "name": "stdout",
     "output_type": "stream",
     "text": [
      "Image download: ../Data/exports/ndvi/2018-10-10-2018-11-07--118.70128-34.235_ndvi_bw.tif (512, 512)\n",
      "Image download: ../Data/exports/tc/2018-10-10-2018-11-07--118.70128-34.235_tc.tif (512, 512)\n"
     ]
    },
    {
     "name": "stderr",
     "output_type": "stream",
     "text": [
      "\r",
      " 73%|████████████████████████████████████████████████████████████▌                      | 734/1006 [57:40<23:09,  5.11s/it]"
     ]
    },
    {
     "name": "stdout",
     "output_type": "stream",
     "text": [
      "Image download: ../Data/exports/ndvi/2018-10-10-2018-11-07--118.70128-34.235_ndvi_bw.tif (512, 512)\n",
      "Image download: ../Data/exports/tc/2018-10-14-2018-11-11--118.64381589-34.26734825_tc.tif (512, 512)\n"
     ]
    },
    {
     "name": "stderr",
     "output_type": "stream",
     "text": [
      "\r",
      " 73%|████████████████████████████████████████████████████████████▋                      | 735/1006 [57:45<22:56,  5.08s/it]"
     ]
    },
    {
     "name": "stdout",
     "output_type": "stream",
     "text": [
      "Image download: ../Data/exports/ndvi/2018-10-14-2018-11-11--118.64381589-34.26734825_ndvi_bw.tif (512, 512)\n",
      "Image download: ../Data/exports/tc/2018-10-14-2018-11-11--124.001849-40.888785_tc.tif (512, 512)\n"
     ]
    },
    {
     "name": "stderr",
     "output_type": "stream",
     "text": [
      "\r",
      " 73%|████████████████████████████████████████████████████████████▋                      | 736/1006 [57:50<22:12,  4.93s/it]"
     ]
    },
    {
     "name": "stdout",
     "output_type": "stream",
     "text": [
      "Image download: ../Data/exports/ndvi/2018-10-14-2018-11-11--124.001849-40.888785_ndvi_bw.tif (512, 512)\n",
      "Image download: ../Data/exports/tc/2018-10-15-2018-11-12--117.43184-34.18075_tc.tif (512, 512)\n"
     ]
    },
    {
     "name": "stderr",
     "output_type": "stream",
     "text": [
      "\r",
      " 73%|████████████████████████████████████████████████████████████▊                      | 737/1006 [57:54<21:20,  4.76s/it]"
     ]
    },
    {
     "name": "stdout",
     "output_type": "stream",
     "text": [
      "Image download: ../Data/exports/ndvi/2018-10-15-2018-11-12--117.43184-34.18075_ndvi_bw.tif (512, 512)\n",
      "Image download: ../Data/exports/tc/2018-10-16-2018-11-13--121.94182-37.61158_tc.tif (512, 512)\n"
     ]
    },
    {
     "name": "stderr",
     "output_type": "stream",
     "text": [
      "\r",
      " 73%|████████████████████████████████████████████████████████████▉                      | 738/1006 [57:58<20:10,  4.52s/it]"
     ]
    },
    {
     "name": "stdout",
     "output_type": "stream",
     "text": [
      "Image download: ../Data/exports/ndvi/2018-10-16-2018-11-13--121.94182-37.61158_ndvi_bw.tif (512, 512)\n",
      "Image download: ../Data/exports/tc/2018-10-17-2018-11-14--119.09916667-34.30166667_tc.tif (512, 512)\n"
     ]
    },
    {
     "name": "stderr",
     "output_type": "stream",
     "text": [
      "\r",
      " 73%|████████████████████████████████████████████████████████████▉                      | 739/1006 [58:09<28:10,  6.33s/it]"
     ]
    },
    {
     "name": "stdout",
     "output_type": "stream",
     "text": [
      "Image download: ../Data/exports/ndvi/2018-10-17-2018-11-14--119.09916667-34.30166667_ndvi_bw.tif (512, 512)\n",
      "Image download: ../Data/exports/tc/2018-10-17-2018-11-14--121.7944-37.81111_tc.tif (512, 512)\n"
     ]
    },
    {
     "name": "stderr",
     "output_type": "stream",
     "text": [
      "\r",
      " 74%|█████████████████████████████████████████████████████████████                      | 740/1006 [58:14<26:31,  5.98s/it]"
     ]
    },
    {
     "name": "stdout",
     "output_type": "stream",
     "text": [
      "Image download: ../Data/exports/ndvi/2018-10-17-2018-11-14--121.7944-37.81111_ndvi_bw.tif (512, 512)\n",
      "Image download: ../Data/exports/tc/2018-10-18-2018-11-15--122.12036-37.12857_tc.tif (512, 512)\n"
     ]
    },
    {
     "name": "stderr",
     "output_type": "stream",
     "text": [
      "\r",
      " 74%|█████████████████████████████████████████████████████████████▏                     | 741/1006 [58:18<23:44,  5.38s/it]"
     ]
    },
    {
     "name": "stdout",
     "output_type": "stream",
     "text": [
      "Image download: ../Data/exports/ndvi/2018-10-18-2018-11-15--122.12036-37.12857_ndvi_bw.tif (512, 512)\n",
      "Image download: ../Data/exports/tc/2018-10-31-2018-11-28--121.77385-39.71217_tc.tif (512, 512)\n"
     ]
    },
    {
     "name": "stderr",
     "output_type": "stream",
     "text": [
      "\r",
      " 74%|█████████████████████████████████████████████████████████████▏                     | 742/1006 [58:23<23:08,  5.26s/it]"
     ]
    },
    {
     "name": "stdout",
     "output_type": "stream",
     "text": [
      "Image download: ../Data/exports/ndvi/2018-10-31-2018-11-28--121.77385-39.71217_ndvi_bw.tif (512, 512)\n"
     ]
    },
    {
     "name": "stderr",
     "output_type": "stream",
     "text": [
      "\r",
      " 74%|█████████████████████████████████████████████████████████████▎                     | 743/1006 [58:24<17:02,  3.89s/it]"
     ]
    },
    {
     "name": "stdout",
     "output_type": "stream",
     "text": [
      "EXCEPTION - Row 1581 @ (-123.67555556, 40.61805556)\n",
      "Image.select: Band pattern 'B4' was applied to an Image with no bands. See https://developers.google.com/earth-engine/guides/debugging#no-bands\n",
      "Image download: ../Data/exports/tc/2019-03-30-2019-04-27--120.09715-35.81778_tc.tif (512, 512)\n"
     ]
    },
    {
     "name": "stderr",
     "output_type": "stream",
     "text": [
      "\r",
      " 74%|█████████████████████████████████████████████████████████████▍                     | 744/1006 [58:29<19:08,  4.38s/it]"
     ]
    },
    {
     "name": "stdout",
     "output_type": "stream",
     "text": [
      "Image download: ../Data/exports/ndvi/2019-03-30-2019-04-27--120.09715-35.81778_ndvi_bw.tif (512, 512)\n",
      "Image download: ../Data/exports/tc/2019-04-01-2019-04-29--121.957-39.83958_tc.tif (512, 512)\n"
     ]
    },
    {
     "name": "stderr",
     "output_type": "stream",
     "text": [
      "\r",
      " 74%|█████████████████████████████████████████████████████████████▍                     | 745/1006 [58:34<19:08,  4.40s/it]"
     ]
    },
    {
     "name": "stdout",
     "output_type": "stream",
     "text": [
      "Image download: ../Data/exports/ndvi/2019-04-01-2019-04-29--121.957-39.83958_ndvi_bw.tif (512, 512)\n",
      "Image download: ../Data/exports/tc/2019-04-01-2019-04-29--118.92545-35.65189_tc.tif (512, 512)\n"
     ]
    },
    {
     "name": "stderr",
     "output_type": "stream",
     "text": [
      "\r",
      " 74%|█████████████████████████████████████████████████████████████▌                     | 746/1006 [58:38<19:01,  4.39s/it]"
     ]
    },
    {
     "name": "stdout",
     "output_type": "stream",
     "text": [
      "Image download: ../Data/exports/ndvi/2019-04-01-2019-04-29--118.92545-35.65189_ndvi_bw.tif (512, 512)\n",
      "Image download: ../Data/exports/tc/2019-04-02-2019-04-30--121.905-39.85484_tc.tif (512, 512)\n"
     ]
    },
    {
     "name": "stderr",
     "output_type": "stream",
     "text": [
      "\r",
      " 74%|█████████████████████████████████████████████████████████████▋                     | 747/1006 [58:42<18:39,  4.32s/it]"
     ]
    },
    {
     "name": "stdout",
     "output_type": "stream",
     "text": [
      "Image download: ../Data/exports/ndvi/2019-04-02-2019-04-30--121.905-39.85484_ndvi_bw.tif (512, 512)\n",
      "Image download: ../Data/exports/tc/2019-04-04-2019-05-02--119.19454-35.03855_tc.tif (512, 512)\n"
     ]
    },
    {
     "name": "stderr",
     "output_type": "stream",
     "text": [
      "\r",
      " 74%|█████████████████████████████████████████████████████████████▋                     | 748/1006 [58:47<19:38,  4.57s/it]"
     ]
    },
    {
     "name": "stdout",
     "output_type": "stream",
     "text": [
      "Image download: ../Data/exports/ndvi/2019-04-04-2019-05-02--119.19454-35.03855_ndvi_bw.tif (512, 512)\n",
      "Image download: ../Data/exports/tc/2019-04-08-2019-05-06--119.62762-35.72057_tc.tif (512, 512)\n"
     ]
    },
    {
     "name": "stderr",
     "output_type": "stream",
     "text": [
      "\r",
      " 74%|█████████████████████████████████████████████████████████████▊                     | 749/1006 [58:52<20:03,  4.68s/it]"
     ]
    },
    {
     "name": "stdout",
     "output_type": "stream",
     "text": [
      "Image download: ../Data/exports/ndvi/2019-04-08-2019-05-06--119.62762-35.72057_ndvi_bw.tif (512, 512)\n",
      "Image download: ../Data/exports/tc/2019-04-11-2019-05-09--120.76088-39.11536_tc.tif (512, 512)\n"
     ]
    },
    {
     "name": "stderr",
     "output_type": "stream",
     "text": [
      "\r",
      " 75%|█████████████████████████████████████████████████████████████▉                     | 750/1006 [58:57<19:37,  4.60s/it]"
     ]
    },
    {
     "name": "stdout",
     "output_type": "stream",
     "text": [
      "Image download: ../Data/exports/ndvi/2019-04-11-2019-05-09--120.76088-39.11536_ndvi_bw.tif (512, 512)\n",
      "Image download: ../Data/exports/tc/2019-04-14-2019-05-12--116.8663-32.557566_tc.tif (512, 512)\n"
     ]
    },
    {
     "name": "stderr",
     "output_type": "stream",
     "text": [
      "\r",
      " 75%|█████████████████████████████████████████████████████████████▉                     | 751/1006 [59:02<20:02,  4.72s/it]"
     ]
    },
    {
     "name": "stdout",
     "output_type": "stream",
     "text": [
      "Image download: ../Data/exports/ndvi/2019-04-14-2019-05-12--116.8663-32.557566_ndvi_bw.tif (512, 512)\n",
      "Image download: ../Data/exports/tc/2019-04-19-2019-05-17--116.172534-33.650237_tc.tif (512, 512)\n"
     ]
    },
    {
     "name": "stderr",
     "output_type": "stream",
     "text": [
      "\r",
      " 75%|██████████████████████████████████████████████████████████████                     | 752/1006 [59:06<19:28,  4.60s/it]"
     ]
    },
    {
     "name": "stdout",
     "output_type": "stream",
     "text": [
      "Image download: ../Data/exports/ndvi/2019-04-19-2019-05-17--116.172534-33.650237_ndvi_bw.tif (512, 512)\n",
      "Image download: ../Data/exports/tc/2019-04-21-2019-05-19--122.30737-39.98097_tc.tif (512, 512)\n"
     ]
    },
    {
     "name": "stderr",
     "output_type": "stream",
     "text": [
      "\r",
      " 75%|██████████████████████████████████████████████████████████████▏                    | 753/1006 [59:11<20:14,  4.80s/it]"
     ]
    },
    {
     "name": "stdout",
     "output_type": "stream",
     "text": [
      "Image download: ../Data/exports/ndvi/2019-04-21-2019-05-19--122.30737-39.98097_ndvi_bw.tif (512, 512)\n",
      "Image download: ../Data/exports/tc/2019-04-21-2019-05-19--117.18194-33.81678_tc.tif (512, 512)\n"
     ]
    },
    {
     "name": "stderr",
     "output_type": "stream",
     "text": [
      "\r",
      " 75%|██████████████████████████████████████████████████████████████▏                    | 754/1006 [59:15<19:12,  4.57s/it]"
     ]
    },
    {
     "name": "stdout",
     "output_type": "stream",
     "text": [
      "Image download: ../Data/exports/ndvi/2019-04-21-2019-05-19--117.18194-33.81678_ndvi_bw.tif (512, 512)\n",
      "Image download: ../Data/exports/tc/2019-04-30-2019-05-28--119.96498-35.30759_tc.tif (512, 512)\n"
     ]
    },
    {
     "name": "stderr",
     "output_type": "stream",
     "text": [
      "\r",
      " 75%|██████████████████████████████████████████████████████████████▎                    | 755/1006 [59:21<20:13,  4.83s/it]"
     ]
    },
    {
     "name": "stdout",
     "output_type": "stream",
     "text": [
      "Image download: ../Data/exports/ndvi/2019-04-30-2019-05-28--119.96498-35.30759_ndvi_bw.tif (512, 512)\n",
      "Image download: ../Data/exports/tc/2019-04-30-2019-05-28--119.3046-36.66909_tc.tif (512, 512)\n"
     ]
    },
    {
     "name": "stderr",
     "output_type": "stream",
     "text": [
      "\r",
      " 75%|██████████████████████████████████████████████████████████████▎                    | 756/1006 [59:25<19:29,  4.68s/it]"
     ]
    },
    {
     "name": "stdout",
     "output_type": "stream",
     "text": [
      "Image download: ../Data/exports/ndvi/2019-04-30-2019-05-28--119.3046-36.66909_ndvi_bw.tif (512, 512)\n",
      "Image download: ../Data/exports/tc/2019-04-30-2019-05-28--116.1466-33.57039_tc.tif (512, 512)\n"
     ]
    },
    {
     "name": "stderr",
     "output_type": "stream",
     "text": [
      "\r",
      " 75%|██████████████████████████████████████████████████████████████▍                    | 757/1006 [59:30<19:23,  4.67s/it]"
     ]
    },
    {
     "name": "stdout",
     "output_type": "stream",
     "text": [
      "Image download: ../Data/exports/ndvi/2019-04-30-2019-05-28--116.1466-33.57039_ndvi_bw.tif (512, 512)\n",
      "Image download: ../Data/exports/tc/2019-05-01-2019-05-29--114.57265-33.69078_tc.tif (512, 512)\n"
     ]
    },
    {
     "name": "stderr",
     "output_type": "stream",
     "text": [
      "\r",
      " 75%|██████████████████████████████████████████████████████████████▌                    | 758/1006 [59:35<20:09,  4.88s/it]"
     ]
    },
    {
     "name": "stdout",
     "output_type": "stream",
     "text": [
      "Image download: ../Data/exports/ndvi/2019-05-01-2019-05-29--114.57265-33.69078_ndvi_bw.tif (512, 512)\n",
      "Image download: ../Data/exports/tc/2019-05-01-2019-05-29--121.22093-37.45899_tc.tif (512, 512)\n"
     ]
    },
    {
     "name": "stderr",
     "output_type": "stream",
     "text": [
      "\r",
      " 75%|██████████████████████████████████████████████████████████████▌                    | 759/1006 [59:39<18:33,  4.51s/it]"
     ]
    },
    {
     "name": "stdout",
     "output_type": "stream",
     "text": [
      "Image download: ../Data/exports/ndvi/2019-05-01-2019-05-29--121.22093-37.45899_ndvi_bw.tif (512, 512)\n",
      "Image download: ../Data/exports/tc/2019-05-03-2019-05-31--119.10974-36.28001_tc.tif (512, 512)\n"
     ]
    },
    {
     "name": "stderr",
     "output_type": "stream",
     "text": [
      "\r",
      " 76%|██████████████████████████████████████████████████████████████▋                    | 760/1006 [59:43<17:49,  4.35s/it]"
     ]
    },
    {
     "name": "stdout",
     "output_type": "stream",
     "text": [
      "Image download: ../Data/exports/ndvi/2019-05-03-2019-05-31--119.10974-36.28001_ndvi_bw.tif (512, 512)\n",
      "Image download: ../Data/exports/tc/2019-05-04-2019-06-01--118.99229-36.18479_tc.tif (512, 512)\n"
     ]
    },
    {
     "name": "stderr",
     "output_type": "stream",
     "text": [
      "\r",
      " 76%|██████████████████████████████████████████████████████████████▊                    | 761/1006 [59:47<17:52,  4.38s/it]"
     ]
    },
    {
     "name": "stdout",
     "output_type": "stream",
     "text": [
      "Image download: ../Data/exports/ndvi/2019-05-04-2019-06-01--118.99229-36.18479_ndvi_bw.tif (512, 512)\n",
      "Image download: ../Data/exports/tc/2019-05-05-2019-06-02--118.85712-36.23012_tc.tif (512, 512)\n"
     ]
    },
    {
     "name": "stderr",
     "output_type": "stream",
     "text": [
      "\r",
      " 76%|██████████████████████████████████████████████████████████████▊                    | 762/1006 [59:51<17:38,  4.34s/it]"
     ]
    },
    {
     "name": "stdout",
     "output_type": "stream",
     "text": [
      "Image download: ../Data/exports/ndvi/2019-05-05-2019-06-02--118.85712-36.23012_ndvi_bw.tif (512, 512)\n",
      "Image download: ../Data/exports/tc/2019-05-05-2019-06-02--118.80582-36.14246_tc.tif (512, 512)\n"
     ]
    },
    {
     "name": "stderr",
     "output_type": "stream",
     "text": [
      "\r",
      " 76%|██████████████████████████████████████████████████████████████▉                    | 763/1006 [59:55<17:04,  4.22s/it]"
     ]
    },
    {
     "name": "stdout",
     "output_type": "stream",
     "text": [
      "Image download: ../Data/exports/ndvi/2019-05-05-2019-06-02--118.80582-36.14246_ndvi_bw.tif (512, 512)\n",
      "Image download: ../Data/exports/tc/2019-05-07-2019-06-04--119.913717-35.343761_tc.tif (512, 512)\n"
     ]
    },
    {
     "name": "stderr",
     "output_type": "stream",
     "text": [
      "\r",
      " 76%|█████████████████████████████████████████████████████████████▌                   | 764/1006 [1:00:00<18:06,  4.49s/it]"
     ]
    },
    {
     "name": "stdout",
     "output_type": "stream",
     "text": [
      "Image download: ../Data/exports/ndvi/2019-05-07-2019-06-04--119.913717-35.343761_ndvi_bw.tif (512, 512)\n",
      "Image download: ../Data/exports/tc/2019-05-08-2019-06-05--121.9763-38.02503_tc.tif (512, 512)\n"
     ]
    },
    {
     "name": "stderr",
     "output_type": "stream",
     "text": [
      "\r",
      " 76%|█████████████████████████████████████████████████████████████▌                   | 765/1006 [1:00:05<17:35,  4.38s/it]"
     ]
    },
    {
     "name": "stdout",
     "output_type": "stream",
     "text": [
      "Image download: ../Data/exports/ndvi/2019-05-08-2019-06-05--121.9763-38.02503_ndvi_bw.tif (512, 512)\n",
      "Image download: ../Data/exports/tc/2019-05-09-2019-06-06--121.39259-38.75263_tc.tif (512, 512)\n"
     ]
    },
    {
     "name": "stderr",
     "output_type": "stream",
     "text": [
      "\r",
      " 76%|█████████████████████████████████████████████████████████████▋                   | 766/1006 [1:00:09<17:36,  4.40s/it]"
     ]
    },
    {
     "name": "stdout",
     "output_type": "stream",
     "text": [
      "Image download: ../Data/exports/ndvi/2019-05-09-2019-06-06--121.39259-38.75263_ndvi_bw.tif (512, 512)\n",
      "Image download: ../Data/exports/tc/2019-05-09-2019-06-06--122.12214-38.21416_tc.tif (512, 512)\n"
     ]
    },
    {
     "name": "stderr",
     "output_type": "stream",
     "text": [
      "\r",
      " 76%|█████████████████████████████████████████████████████████████▊                   | 767/1006 [1:00:14<17:48,  4.47s/it]"
     ]
    },
    {
     "name": "stdout",
     "output_type": "stream",
     "text": [
      "Image download: ../Data/exports/ndvi/2019-05-09-2019-06-06--122.12214-38.21416_ndvi_bw.tif (512, 512)\n",
      "Image download: ../Data/exports/tc/2019-05-09-2019-06-06--121.09375-37.25988_tc.tif (512, 512)\n"
     ]
    },
    {
     "name": "stderr",
     "output_type": "stream",
     "text": [
      "\r",
      " 76%|█████████████████████████████████████████████████████████████▊                   | 768/1006 [1:00:19<19:16,  4.86s/it]"
     ]
    },
    {
     "name": "stdout",
     "output_type": "stream",
     "text": [
      "Image download: ../Data/exports/ndvi/2019-05-09-2019-06-06--121.09375-37.25988_ndvi_bw.tif (512, 512)\n",
      "Image download: ../Data/exports/tc/2019-05-10-2019-06-07--121.56363-39.15641_tc.tif (512, 512)\n"
     ]
    },
    {
     "name": "stderr",
     "output_type": "stream",
     "text": [
      "\r",
      " 76%|█████████████████████████████████████████████████████████████▉                   | 769/1006 [1:00:24<18:19,  4.64s/it]"
     ]
    },
    {
     "name": "stdout",
     "output_type": "stream",
     "text": [
      "Image download: ../Data/exports/ndvi/2019-05-10-2019-06-07--121.56363-39.15641_ndvi_bw.tif (512, 512)\n",
      "Image download: ../Data/exports/tc/2019-05-10-2019-06-07--121.85906-39.28926_tc.tif (512, 512)\n"
     ]
    },
    {
     "name": "stderr",
     "output_type": "stream",
     "text": [
      "\r",
      " 77%|█████████████████████████████████████████████████████████████▉                   | 770/1006 [1:00:28<18:14,  4.64s/it]"
     ]
    },
    {
     "name": "stdout",
     "output_type": "stream",
     "text": [
      "Image download: ../Data/exports/ndvi/2019-05-10-2019-06-07--121.85906-39.28926_ndvi_bw.tif (512, 512)\n",
      "Image download: ../Data/exports/tc/2019-05-10-2019-06-07--122.47282-38.63047_tc.tif (512, 512)\n"
     ]
    },
    {
     "name": "stderr",
     "output_type": "stream",
     "text": [
      "\r",
      " 77%|██████████████████████████████████████████████████████████████                   | 771/1006 [1:00:33<17:49,  4.55s/it]"
     ]
    },
    {
     "name": "stdout",
     "output_type": "stream",
     "text": [
      "Image download: ../Data/exports/ndvi/2019-05-10-2019-06-07--122.47282-38.63047_ndvi_bw.tif (512, 512)\n",
      "Image download: ../Data/exports/tc/2019-05-10-2019-06-07--122.23922-38.88978_tc.tif (512, 512)\n"
     ]
    },
    {
     "name": "stderr",
     "output_type": "stream",
     "text": [
      "\r",
      " 77%|██████████████████████████████████████████████████████████████▏                  | 772/1006 [1:00:37<17:29,  4.48s/it]"
     ]
    },
    {
     "name": "stdout",
     "output_type": "stream",
     "text": [
      "Image download: ../Data/exports/ndvi/2019-05-10-2019-06-07--122.23922-38.88978_ndvi_bw.tif (512, 512)\n",
      "Image download: ../Data/exports/tc/2019-05-11-2019-06-08--121.70768-37.21638_tc.tif (512, 512)\n"
     ]
    },
    {
     "name": "stderr",
     "output_type": "stream",
     "text": [
      "\r",
      " 77%|██████████████████████████████████████████████████████████████▏                  | 773/1006 [1:00:41<17:30,  4.51s/it]"
     ]
    },
    {
     "name": "stdout",
     "output_type": "stream",
     "text": [
      "Image download: ../Data/exports/ndvi/2019-05-11-2019-06-08--121.70768-37.21638_ndvi_bw.tif (512, 512)\n",
      "Image download: ../Data/exports/tc/2019-05-12-2019-06-09--120.11738-35.57376_tc.tif (512, 512)\n"
     ]
    },
    {
     "name": "stderr",
     "output_type": "stream",
     "text": [
      "\r",
      " 77%|██████████████████████████████████████████████████████████████▎                  | 774/1006 [1:00:46<17:39,  4.57s/it]"
     ]
    },
    {
     "name": "stdout",
     "output_type": "stream",
     "text": [
      "Image download: ../Data/exports/ndvi/2019-05-12-2019-06-09--120.11738-35.57376_ndvi_bw.tif (512, 512)\n",
      "Image download: ../Data/exports/tc/2019-05-12-2019-06-09--116.97772-33.30267_tc.tif (512, 512)\n"
     ]
    },
    {
     "name": "stderr",
     "output_type": "stream",
     "text": [
      "\r",
      " 77%|██████████████████████████████████████████████████████████████▍                  | 775/1006 [1:00:52<18:37,  4.84s/it]"
     ]
    },
    {
     "name": "stdout",
     "output_type": "stream",
     "text": [
      "Image download: ../Data/exports/ndvi/2019-05-12-2019-06-09--116.97772-33.30267_ndvi_bw.tif (512, 512)\n",
      "Image download: ../Data/exports/tc/2019-05-12-2019-06-09--121.84082-37.44422_tc.tif (512, 512)\n"
     ]
    },
    {
     "name": "stderr",
     "output_type": "stream",
     "text": [
      "\r",
      " 77%|██████████████████████████████████████████████████████████████▍                  | 776/1006 [1:00:57<18:51,  4.92s/it]"
     ]
    },
    {
     "name": "stdout",
     "output_type": "stream",
     "text": [
      "Image download: ../Data/exports/ndvi/2019-05-12-2019-06-09--121.84082-37.44422_ndvi_bw.tif (512, 512)\n",
      "Image download: ../Data/exports/tc/2019-05-12-2019-06-09--118.94106-35.89593_tc.tif (512, 512)\n"
     ]
    },
    {
     "name": "stderr",
     "output_type": "stream",
     "text": [
      "\r",
      " 77%|██████████████████████████████████████████████████████████████▌                  | 777/1006 [1:01:02<19:08,  5.02s/it]"
     ]
    },
    {
     "name": "stdout",
     "output_type": "stream",
     "text": [
      "Image download: ../Data/exports/ndvi/2019-05-12-2019-06-09--118.94106-35.89593_ndvi_bw.tif (512, 512)\n",
      "Image download: ../Data/exports/tc/2019-05-14-2019-06-11--120.41128-35.66318_tc.tif (512, 512)\n"
     ]
    },
    {
     "name": "stderr",
     "output_type": "stream",
     "text": [
      "\r",
      " 77%|██████████████████████████████████████████████████████████████▋                  | 778/1006 [1:01:06<17:57,  4.73s/it]"
     ]
    },
    {
     "name": "stdout",
     "output_type": "stream",
     "text": [
      "Image download: ../Data/exports/ndvi/2019-05-14-2019-06-11--120.41128-35.66318_ndvi_bw.tif (512, 512)\n",
      "Image download: ../Data/exports/tc/2019-05-14-2019-06-11--120.88241-35.97059_tc.tif (512, 512)\n"
     ]
    },
    {
     "name": "stderr",
     "output_type": "stream",
     "text": [
      "\r",
      " 77%|██████████████████████████████████████████████████████████████▋                  | 779/1006 [1:01:10<17:22,  4.59s/it]"
     ]
    },
    {
     "name": "stdout",
     "output_type": "stream",
     "text": [
      "Image download: ../Data/exports/ndvi/2019-05-14-2019-06-11--120.88241-35.97059_ndvi_bw.tif (512, 512)\n",
      "Image download: ../Data/exports/tc/2019-05-16-2019-06-13--122.35962-41.64895_tc.tif (512, 512)\n"
     ]
    },
    {
     "name": "stderr",
     "output_type": "stream",
     "text": [
      "\r",
      " 78%|██████████████████████████████████████████████████████████████▊                  | 780/1006 [1:01:15<17:46,  4.72s/it]"
     ]
    },
    {
     "name": "stdout",
     "output_type": "stream",
     "text": [
      "Image download: ../Data/exports/ndvi/2019-05-16-2019-06-13--122.35962-41.64895_ndvi_bw.tif (512, 512)\n",
      "Image download: ../Data/exports/tc/2019-05-17-2019-06-14--121.73659-39.76242_tc.tif (512, 512)\n"
     ]
    },
    {
     "name": "stderr",
     "output_type": "stream",
     "text": [
      "\r",
      " 78%|██████████████████████████████████████████████████████████████▉                  | 781/1006 [1:01:21<19:08,  5.10s/it]"
     ]
    },
    {
     "name": "stdout",
     "output_type": "stream",
     "text": [
      "Image download: ../Data/exports/ndvi/2019-05-17-2019-06-14--121.73659-39.76242_ndvi_bw.tif (512, 512)\n",
      "Image download: ../Data/exports/tc/2019-05-18-2019-06-15--122.40157-41.94622_tc.tif (512, 512)\n"
     ]
    },
    {
     "name": "stderr",
     "output_type": "stream",
     "text": [
      "\r",
      " 78%|██████████████████████████████████████████████████████████████▉                  | 782/1006 [1:01:26<18:22,  4.92s/it]"
     ]
    },
    {
     "name": "stdout",
     "output_type": "stream",
     "text": [
      "Image download: ../Data/exports/ndvi/2019-05-18-2019-06-15--122.40157-41.94622_ndvi_bw.tif (512, 512)\n",
      "Image download: ../Data/exports/tc/2019-05-19-2019-06-16--121.85906-39.28926_tc.tif (512, 512)\n"
     ]
    },
    {
     "name": "stderr",
     "output_type": "stream",
     "text": [
      "\r",
      " 78%|███████████████████████████████████████████████████████████████                  | 783/1006 [1:01:32<19:18,  5.20s/it]"
     ]
    },
    {
     "name": "stdout",
     "output_type": "stream",
     "text": [
      "Image download: ../Data/exports/ndvi/2019-05-19-2019-06-16--121.85906-39.28926_ndvi_bw.tif (512, 512)\n",
      "Image download: ../Data/exports/tc/2019-05-22-2019-06-19--117.29665-33.39684_tc.tif (512, 512)\n"
     ]
    },
    {
     "name": "stderr",
     "output_type": "stream",
     "text": [
      "\r",
      " 78%|███████████████████████████████████████████████████████████████▏                 | 784/1006 [1:01:36<18:38,  5.04s/it]"
     ]
    },
    {
     "name": "stdout",
     "output_type": "stream",
     "text": [
      "Image download: ../Data/exports/ndvi/2019-05-22-2019-06-19--117.29665-33.39684_ndvi_bw.tif (512, 512)\n",
      "Image download: ../Data/exports/tc/2019-05-23-2019-06-20--117.103765-33.919507_tc.tif (512, 512)\n"
     ]
    },
    {
     "name": "stderr",
     "output_type": "stream",
     "text": [
      "\r",
      " 78%|███████████████████████████████████████████████████████████████▏                 | 785/1006 [1:01:41<17:42,  4.81s/it]"
     ]
    },
    {
     "name": "stdout",
     "output_type": "stream",
     "text": [
      "Image download: ../Data/exports/ndvi/2019-05-23-2019-06-20--117.103765-33.919507_ndvi_bw.tif (512, 512)\n",
      "Image download: ../Data/exports/tc/2019-05-23-2019-06-20--121.57382-37.75427_tc.tif (512, 512)\n"
     ]
    },
    {
     "name": "stderr",
     "output_type": "stream",
     "text": [
      "\r",
      " 78%|███████████████████████████████████████████████████████████████▎                 | 786/1006 [1:01:46<17:54,  4.88s/it]"
     ]
    },
    {
     "name": "stdout",
     "output_type": "stream",
     "text": [
      "Image download: ../Data/exports/ndvi/2019-05-23-2019-06-20--121.57382-37.75427_ndvi_bw.tif (512, 512)\n",
      "Image download: ../Data/exports/tc/2019-05-24-2019-06-21--122.48277-39.97083_tc.tif (512, 512)\n"
     ]
    },
    {
     "name": "stderr",
     "output_type": "stream",
     "text": [
      "\r",
      " 78%|███████████████████████████████████████████████████████████████▎                 | 787/1006 [1:01:51<18:01,  4.94s/it]"
     ]
    },
    {
     "name": "stdout",
     "output_type": "stream",
     "text": [
      "Image download: ../Data/exports/ndvi/2019-05-24-2019-06-21--122.48277-39.97083_ndvi_bw.tif (512, 512)\n",
      "Image download: ../Data/exports/tc/2019-05-26-2019-06-23--121.32399-39.24678_tc.tif (512, 512)\n"
     ]
    },
    {
     "name": "stderr",
     "output_type": "stream",
     "text": [
      "\r",
      " 78%|███████████████████████████████████████████████████████████████▍                 | 788/1006 [1:01:55<17:42,  4.88s/it]"
     ]
    },
    {
     "name": "stdout",
     "output_type": "stream",
     "text": [
      "Image download: ../Data/exports/ndvi/2019-05-26-2019-06-23--121.32399-39.24678_ndvi_bw.tif (512, 512)\n",
      "Image download: ../Data/exports/tc/2019-05-27-2019-06-24--121.32399-39.24678_tc.tif (512, 512)\n"
     ]
    },
    {
     "name": "stderr",
     "output_type": "stream",
     "text": [
      "\r",
      " 78%|███████████████████████████████████████████████████████████████▌                 | 789/1006 [1:02:00<17:19,  4.79s/it]"
     ]
    },
    {
     "name": "stdout",
     "output_type": "stream",
     "text": [
      "Image download: ../Data/exports/ndvi/2019-05-27-2019-06-24--121.32399-39.24678_ndvi_bw.tif (512, 512)\n",
      "Image download: ../Data/exports/tc/2019-05-28-2019-06-25--121.28312-37.46577_tc.tif (512, 512)\n"
     ]
    },
    {
     "name": "stderr",
     "output_type": "stream",
     "text": [
      "\r",
      " 79%|███████████████████████████████████████████████████████████████▌                 | 790/1006 [1:02:04<16:53,  4.69s/it]"
     ]
    },
    {
     "name": "stdout",
     "output_type": "stream",
     "text": [
      "Image download: ../Data/exports/ndvi/2019-05-28-2019-06-25--121.28312-37.46577_ndvi_bw.tif (512, 512)\n",
      "Image download: ../Data/exports/tc/2019-05-28-2019-06-25--120.94771-36.28426_tc.tif (512, 512)\n"
     ]
    },
    {
     "name": "stderr",
     "output_type": "stream",
     "text": [
      "\r",
      " 79%|███████████████████████████████████████████████████████████████▋                 | 791/1006 [1:02:10<17:15,  4.82s/it]"
     ]
    },
    {
     "name": "stdout",
     "output_type": "stream",
     "text": [
      "Image download: ../Data/exports/ndvi/2019-05-28-2019-06-25--120.94771-36.28426_ndvi_bw.tif (512, 512)\n",
      "Image download: ../Data/exports/tc/2019-05-28-2019-06-25--122.66779-40.41404_tc.tif (512, 512)\n"
     ]
    },
    {
     "name": "stderr",
     "output_type": "stream",
     "text": [
      "\r",
      " 79%|███████████████████████████████████████████████████████████████▊                 | 792/1006 [1:02:15<17:23,  4.88s/it]"
     ]
    },
    {
     "name": "stdout",
     "output_type": "stream",
     "text": [
      "Image download: ../Data/exports/ndvi/2019-05-28-2019-06-25--122.66779-40.41404_ndvi_bw.tif (512, 512)\n",
      "Image download: ../Data/exports/tc/2019-05-28-2019-06-25--121.534827-37.494136_tc.tif (512, 512)\n"
     ]
    },
    {
     "name": "stderr",
     "output_type": "stream",
     "text": [
      "\r",
      " 79%|███████████████████████████████████████████████████████████████▊                 | 793/1006 [1:02:19<16:24,  4.62s/it]"
     ]
    },
    {
     "name": "stdout",
     "output_type": "stream",
     "text": [
      "Image download: ../Data/exports/ndvi/2019-05-28-2019-06-25--121.534827-37.494136_ndvi_bw.tif (512, 512)\n",
      "Image download: ../Data/exports/tc/2019-05-28-2019-06-25--121.39419-38.73817_tc.tif (512, 512)\n"
     ]
    },
    {
     "name": "stderr",
     "output_type": "stream",
     "text": [
      "\r",
      " 79%|███████████████████████████████████████████████████████████████▉                 | 794/1006 [1:02:23<16:13,  4.59s/it]"
     ]
    },
    {
     "name": "stdout",
     "output_type": "stream",
     "text": [
      "Image download: ../Data/exports/ndvi/2019-05-28-2019-06-25--121.39419-38.73817_ndvi_bw.tif (512, 512)\n",
      "Image download: ../Data/exports/tc/2019-05-29-2019-06-26--117.15738-33.80493_tc.tif (512, 512)\n"
     ]
    },
    {
     "name": "stderr",
     "output_type": "stream",
     "text": [
      "\r",
      " 79%|████████████████████████████████████████████████████████████████                 | 795/1006 [1:02:28<15:58,  4.54s/it]"
     ]
    },
    {
     "name": "stdout",
     "output_type": "stream",
     "text": [
      "Image download: ../Data/exports/ndvi/2019-05-29-2019-06-26--117.15738-33.80493_ndvi_bw.tif (512, 512)\n",
      "Image download: ../Data/exports/tc/2019-05-30-2019-06-27--121.00055556-39.40972222_tc.tif (512, 512)\n"
     ]
    },
    {
     "name": "stderr",
     "output_type": "stream",
     "text": [
      "\r",
      " 79%|████████████████████████████████████████████████████████████████                 | 796/1006 [1:02:33<16:33,  4.73s/it]"
     ]
    },
    {
     "name": "stdout",
     "output_type": "stream",
     "text": [
      "Image download: ../Data/exports/ndvi/2019-05-30-2019-06-27--121.00055556-39.40972222_ndvi_bw.tif (512, 512)\n",
      "Image download: ../Data/exports/tc/2019-05-31-2019-06-28--116.91416667-32.62305556_tc.tif (512, 512)\n"
     ]
    },
    {
     "name": "stderr",
     "output_type": "stream",
     "text": [
      "\r",
      " 79%|████████████████████████████████████████████████████████████████▏                | 797/1006 [1:02:38<17:09,  4.92s/it]"
     ]
    },
    {
     "name": "stdout",
     "output_type": "stream",
     "text": [
      "Image download: ../Data/exports/ndvi/2019-05-31-2019-06-28--116.91416667-32.62305556_ndvi_bw.tif (512, 512)\n",
      "Image download: ../Data/exports/tc/2019-05-31-2019-06-28--116.980528-33.911_tc.tif (512, 512)\n"
     ]
    },
    {
     "name": "stderr",
     "output_type": "stream",
     "text": [
      "\r",
      " 79%|████████████████████████████████████████████████████████████████▎                | 798/1006 [1:02:44<17:42,  5.11s/it]"
     ]
    },
    {
     "name": "stdout",
     "output_type": "stream",
     "text": [
      "Image download: ../Data/exports/ndvi/2019-05-31-2019-06-28--116.980528-33.911_ndvi_bw.tif (512, 512)\n",
      "Image download: ../Data/exports/tc/2019-05-31-2019-06-28--120.242411-37.312877_tc.tif (512, 512)\n"
     ]
    },
    {
     "name": "stderr",
     "output_type": "stream",
     "text": [
      "\r",
      " 79%|████████████████████████████████████████████████████████████████▎                | 799/1006 [1:02:50<19:23,  5.62s/it]"
     ]
    },
    {
     "name": "stdout",
     "output_type": "stream",
     "text": [
      "Image download: ../Data/exports/ndvi/2019-05-31-2019-06-28--120.242411-37.312877_ndvi_bw.tif (512, 512)\n",
      "Image download: ../Data/exports/tc/2019-05-31-2019-06-28--121.23431-39.32889_tc.tif (512, 512)\n"
     ]
    },
    {
     "name": "stderr",
     "output_type": "stream",
     "text": [
      "\r",
      " 80%|████████████████████████████████████████████████████████████████▍                | 800/1006 [1:02:55<17:59,  5.24s/it]"
     ]
    },
    {
     "name": "stdout",
     "output_type": "stream",
     "text": [
      "Image download: ../Data/exports/ndvi/2019-05-31-2019-06-28--121.23431-39.32889_ndvi_bw.tif (512, 512)\n",
      "Image download: ../Data/exports/tc/2019-06-03-2019-07-01--121.694968-37.18904_tc.tif (512, 512)\n"
     ]
    },
    {
     "name": "stderr",
     "output_type": "stream",
     "text": [
      "\r",
      " 80%|████████████████████████████████████████████████████████████████▍                | 801/1006 [1:03:00<17:52,  5.23s/it]"
     ]
    },
    {
     "name": "stdout",
     "output_type": "stream",
     "text": [
      "Image download: ../Data/exports/ndvi/2019-06-03-2019-07-01--121.694968-37.18904_ndvi_bw.tif (512, 512)\n",
      "Image download: ../Data/exports/tc/2019-06-04-2019-07-02--121.538382-37.63206_tc.tif (512, 512)\n"
     ]
    },
    {
     "name": "stderr",
     "output_type": "stream",
     "text": [
      "\r",
      " 80%|████████████████████████████████████████████████████████████████▌                | 802/1006 [1:03:05<17:21,  5.10s/it]"
     ]
    },
    {
     "name": "stdout",
     "output_type": "stream",
     "text": [
      "Image download: ../Data/exports/ndvi/2019-06-04-2019-07-02--121.538382-37.63206_ndvi_bw.tif (512, 512)\n",
      "Image download: ../Data/exports/tc/2019-06-06-2019-07-04--121.3697-37.469_tc.tif (512, 512)\n"
     ]
    },
    {
     "name": "stderr",
     "output_type": "stream",
     "text": [
      "\r",
      " 80%|████████████████████████████████████████████████████████████████▋                | 803/1006 [1:03:09<16:39,  4.92s/it]"
     ]
    },
    {
     "name": "stdout",
     "output_type": "stream",
     "text": [
      "Image download: ../Data/exports/ndvi/2019-06-06-2019-07-04--121.3697-37.469_ndvi_bw.tif (512, 512)\n",
      "Image download: ../Data/exports/tc/2019-06-06-2019-07-04--122.16201-37.99837_tc.tif (512, 512)\n"
     ]
    },
    {
     "name": "stderr",
     "output_type": "stream",
     "text": [
      "\r",
      " 80%|████████████████████████████████████████████████████████████████▋                | 804/1006 [1:03:14<16:07,  4.79s/it]"
     ]
    },
    {
     "name": "stdout",
     "output_type": "stream",
     "text": [
      "Image download: ../Data/exports/ndvi/2019-06-06-2019-07-04--122.16201-37.99837_ndvi_bw.tif (512, 512)\n",
      "Image download: ../Data/exports/tc/2019-06-06-2019-07-04--122.767256-40.41741_tc.tif (512, 512)\n"
     ]
    },
    {
     "name": "stderr",
     "output_type": "stream",
     "text": [
      "\r",
      " 80%|████████████████████████████████████████████████████████████████▊                | 805/1006 [1:03:19<16:29,  4.92s/it]"
     ]
    },
    {
     "name": "stdout",
     "output_type": "stream",
     "text": [
      "Image download: ../Data/exports/ndvi/2019-06-06-2019-07-04--122.767256-40.41741_ndvi_bw.tif (512, 512)\n",
      "Image download: ../Data/exports/tc/2019-06-06-2019-07-04--120.392768-40.679318_tc.tif (512, 512)\n"
     ]
    },
    {
     "name": "stderr",
     "output_type": "stream",
     "text": [
      "\r",
      " 80%|████████████████████████████████████████████████████████████████▉                | 806/1006 [1:03:24<16:38,  4.99s/it]"
     ]
    },
    {
     "name": "stdout",
     "output_type": "stream",
     "text": [
      "Image download: ../Data/exports/ndvi/2019-06-06-2019-07-04--120.392768-40.679318_ndvi_bw.tif (512, 512)\n",
      "Image download: ../Data/exports/tc/2019-06-07-2019-07-05--121.35014-39.06066_tc.tif (512, 512)\n"
     ]
    },
    {
     "name": "stderr",
     "output_type": "stream",
     "text": [
      "\r",
      " 80%|████████████████████████████████████████████████████████████████▉                | 807/1006 [1:03:29<15:58,  4.82s/it]"
     ]
    },
    {
     "name": "stdout",
     "output_type": "stream",
     "text": [
      "Image download: ../Data/exports/ndvi/2019-06-07-2019-07-05--121.35014-39.06066_ndvi_bw.tif (512, 512)\n",
      "Image download: ../Data/exports/tc/2019-06-09-2019-07-07--120.296551-37.524378_tc.tif (512, 512)\n"
     ]
    },
    {
     "name": "stderr",
     "output_type": "stream",
     "text": [
      "\r",
      " 80%|█████████████████████████████████████████████████████████████████                | 808/1006 [1:03:35<17:43,  5.37s/it]"
     ]
    },
    {
     "name": "stdout",
     "output_type": "stream",
     "text": [
      "Image download: ../Data/exports/ndvi/2019-06-09-2019-07-07--120.296551-37.524378_ndvi_bw.tif (512, 512)\n",
      "Image download: ../Data/exports/tc/2019-06-09-2019-07-07--120.26916667-35.63111111_tc.tif (512, 512)\n"
     ]
    },
    {
     "name": "stderr",
     "output_type": "stream",
     "text": [
      "\r",
      " 80%|█████████████████████████████████████████████████████████████████▏               | 809/1006 [1:03:41<18:10,  5.53s/it]"
     ]
    },
    {
     "name": "stdout",
     "output_type": "stream",
     "text": [
      "Image download: ../Data/exports/ndvi/2019-06-09-2019-07-07--120.26916667-35.63111111_ndvi_bw.tif (512, 512)\n",
      "Image download: ../Data/exports/tc/2019-06-10-2019-07-08--120.8092-35.95191_tc.tif (512, 512)\n"
     ]
    },
    {
     "name": "stderr",
     "output_type": "stream",
     "text": [
      "\r",
      " 81%|█████████████████████████████████████████████████████████████████▏               | 810/1006 [1:03:46<17:44,  5.43s/it]"
     ]
    },
    {
     "name": "stdout",
     "output_type": "stream",
     "text": [
      "Image download: ../Data/exports/ndvi/2019-06-10-2019-07-08--120.8092-35.95191_ndvi_bw.tif (512, 512)\n",
      "Image download: ../Data/exports/tc/2019-06-12-2019-07-10--116.953889-33.69055556_tc.tif (512, 512)\n"
     ]
    },
    {
     "name": "stderr",
     "output_type": "stream",
     "text": [
      "\r",
      " 81%|█████████████████████████████████████████████████████████████████▎               | 811/1006 [1:03:52<18:04,  5.56s/it]"
     ]
    },
    {
     "name": "stdout",
     "output_type": "stream",
     "text": [
      "Image download: ../Data/exports/ndvi/2019-06-12-2019-07-10--116.953889-33.69055556_ndvi_bw.tif (512, 512)\n",
      "Image download: ../Data/exports/tc/2019-06-13-2019-07-11--116.7525-32.566389_tc.tif (512, 512)\n"
     ]
    },
    {
     "name": "stderr",
     "output_type": "stream",
     "text": [
      "\r",
      " 81%|█████████████████████████████████████████████████████████████████▍               | 812/1006 [1:03:57<17:36,  5.45s/it]"
     ]
    },
    {
     "name": "stdout",
     "output_type": "stream",
     "text": [
      "Image download: ../Data/exports/ndvi/2019-06-13-2019-07-11--116.7525-32.566389_ndvi_bw.tif (512, 512)\n",
      "Image download: ../Data/exports/tc/2019-06-13-2019-07-11--116.07896-33.56938_tc.tif (512, 512)\n"
     ]
    },
    {
     "name": "stderr",
     "output_type": "stream",
     "text": [
      "\r",
      " 81%|█████████████████████████████████████████████████████████████████▍               | 813/1006 [1:04:03<17:36,  5.47s/it]"
     ]
    },
    {
     "name": "stdout",
     "output_type": "stream",
     "text": [
      "Image download: ../Data/exports/ndvi/2019-06-13-2019-07-11--116.07896-33.56938_ndvi_bw.tif (512, 512)\n",
      "Image download: ../Data/exports/tc/2019-06-13-2019-07-11--121.586846-37.093243_tc.tif (512, 512)\n"
     ]
    },
    {
     "name": "stderr",
     "output_type": "stream",
     "text": [
      "\r",
      " 81%|█████████████████████████████████████████████████████████████████▌               | 814/1006 [1:04:07<16:26,  5.14s/it]"
     ]
    },
    {
     "name": "stdout",
     "output_type": "stream",
     "text": [
      "Image download: ../Data/exports/ndvi/2019-06-13-2019-07-11--121.586846-37.093243_ndvi_bw.tif (512, 512)\n",
      "Image download: ../Data/exports/tc/2019-06-13-2019-07-11--122.435492-40.463936_tc.tif (512, 512)\n"
     ]
    },
    {
     "name": "stderr",
     "output_type": "stream",
     "text": [
      "\r",
      " 81%|█████████████████████████████████████████████████████████████████▌               | 815/1006 [1:04:14<17:28,  5.49s/it]"
     ]
    },
    {
     "name": "stdout",
     "output_type": "stream",
     "text": [
      "Image download: ../Data/exports/ndvi/2019-06-13-2019-07-11--122.435492-40.463936_ndvi_bw.tif (512, 512)\n",
      "Image download: ../Data/exports/tc/2019-06-14-2019-07-12--117.1228851-33.8128372_tc.tif (512, 512)\n"
     ]
    },
    {
     "name": "stderr",
     "output_type": "stream",
     "text": [
      "\r",
      " 81%|█████████████████████████████████████████████████████████████████▋               | 816/1006 [1:04:18<16:14,  5.13s/it]"
     ]
    },
    {
     "name": "stdout",
     "output_type": "stream",
     "text": [
      "Image download: ../Data/exports/ndvi/2019-06-14-2019-07-12--117.1228851-33.8128372_ndvi_bw.tif (512, 512)\n",
      "Image download: ../Data/exports/tc/2019-06-14-2019-07-12--119.769881-39.631945_tc.tif (512, 512)\n"
     ]
    },
    {
     "name": "stderr",
     "output_type": "stream",
     "text": [
      "\r",
      " 81%|█████████████████████████████████████████████████████████████████▊               | 817/1006 [1:04:28<20:26,  6.49s/it]"
     ]
    },
    {
     "name": "stdout",
     "output_type": "stream",
     "text": [
      "Image download: ../Data/exports/ndvi/2019-06-14-2019-07-12--119.769881-39.631945_ndvi_bw.tif (512, 512)\n",
      "Image download: ../Data/exports/tc/2019-06-15-2019-07-13--118.96-34.366111_tc.tif (512, 512)\n"
     ]
    },
    {
     "name": "stderr",
     "output_type": "stream",
     "text": [
      "\r",
      " 81%|█████████████████████████████████████████████████████████████████▊               | 818/1006 [1:04:33<19:02,  6.08s/it]"
     ]
    },
    {
     "name": "stdout",
     "output_type": "stream",
     "text": [
      "Image download: ../Data/exports/ndvi/2019-06-15-2019-07-13--118.96-34.366111_ndvi_bw.tif (512, 512)\n",
      "Image download: ../Data/exports/tc/2019-06-15-2019-07-13--120.158273-40.072739_tc.tif (512, 512)\n"
     ]
    },
    {
     "name": "stderr",
     "output_type": "stream",
     "text": [
      "\r",
      " 81%|█████████████████████████████████████████████████████████████████▉               | 819/1006 [1:04:39<19:17,  6.19s/it]"
     ]
    },
    {
     "name": "stdout",
     "output_type": "stream",
     "text": [
      "Image download: ../Data/exports/ndvi/2019-06-15-2019-07-13--120.158273-40.072739_ndvi_bw.tif (512, 512)\n",
      "Image download: ../Data/exports/tc/2019-06-16-2019-07-14--120.84372-37.944751_tc.tif (512, 512)\n"
     ]
    },
    {
     "name": "stderr",
     "output_type": "stream",
     "text": [
      "\r",
      " 82%|██████████████████████████████████████████████████████████████████               | 820/1006 [1:04:45<18:53,  6.10s/it]"
     ]
    },
    {
     "name": "stdout",
     "output_type": "stream",
     "text": [
      "Image download: ../Data/exports/ndvi/2019-06-16-2019-07-14--120.84372-37.944751_ndvi_bw.tif (512, 512)\n",
      "Image download: ../Data/exports/tc/2019-06-16-2019-07-14--121.76444444-37.32555556_tc.tif (512, 512)\n"
     ]
    },
    {
     "name": "stderr",
     "output_type": "stream",
     "text": [
      "\r",
      " 82%|██████████████████████████████████████████████████████████████████               | 821/1006 [1:04:49<17:02,  5.53s/it]"
     ]
    },
    {
     "name": "stdout",
     "output_type": "stream",
     "text": [
      "Image download: ../Data/exports/ndvi/2019-06-16-2019-07-14--121.76444444-37.32555556_ndvi_bw.tif (512, 512)\n",
      "Image download: ../Data/exports/tc/2019-06-16-2019-07-14--119.934167-37.016944_tc.tif (512, 512)\n"
     ]
    },
    {
     "name": "stderr",
     "output_type": "stream",
     "text": [
      "\r",
      " 82%|██████████████████████████████████████████████████████████████████▏              | 822/1006 [1:04:56<17:48,  5.81s/it]"
     ]
    },
    {
     "name": "stdout",
     "output_type": "stream",
     "text": [
      "Image download: ../Data/exports/ndvi/2019-06-16-2019-07-14--119.934167-37.016944_ndvi_bw.tif (512, 512)\n",
      "Image download: ../Data/exports/tc/2019-06-17-2019-07-15--116.7884-33.514658_tc.tif (512, 512)\n"
     ]
    },
    {
     "name": "stderr",
     "output_type": "stream",
     "text": [
      "\r",
      " 82%|██████████████████████████████████████████████████████████████████▎              | 823/1006 [1:05:01<17:37,  5.78s/it]"
     ]
    },
    {
     "name": "stdout",
     "output_type": "stream",
     "text": [
      "Image download: ../Data/exports/ndvi/2019-06-17-2019-07-15--116.7884-33.514658_ndvi_bw.tif (512, 512)\n",
      "Image download: ../Data/exports/tc/2019-06-17-2019-07-15--121.468074-37.962557_tc.tif (512, 512)\n"
     ]
    },
    {
     "name": "stderr",
     "output_type": "stream",
     "text": [
      "\r",
      " 82%|██████████████████████████████████████████████████████████████████▎              | 824/1006 [1:05:06<16:16,  5.36s/it]"
     ]
    },
    {
     "name": "stdout",
     "output_type": "stream",
     "text": [
      "Image download: ../Data/exports/ndvi/2019-06-17-2019-07-15--121.468074-37.962557_ndvi_bw.tif (512, 512)\n",
      "Image download: ../Data/exports/tc/2019-06-18-2019-07-16--120.306-41.909_tc.tif (512, 512)\n"
     ]
    },
    {
     "name": "stderr",
     "output_type": "stream",
     "text": [
      "\r",
      " 82%|██████████████████████████████████████████████████████████████████▍              | 825/1006 [1:05:11<16:16,  5.40s/it]"
     ]
    },
    {
     "name": "stdout",
     "output_type": "stream",
     "text": [
      "Image download: ../Data/exports/ndvi/2019-06-18-2019-07-16--120.306-41.909_ndvi_bw.tif (512, 512)\n",
      "Image download: ../Data/exports/tc/2019-06-18-2019-07-16--116.839743-32.794768_tc.tif (512, 512)\n"
     ]
    },
    {
     "name": "stderr",
     "output_type": "stream",
     "text": [
      "\r",
      " 82%|██████████████████████████████████████████████████████████████████▌              | 826/1006 [1:05:17<16:25,  5.48s/it]"
     ]
    },
    {
     "name": "stdout",
     "output_type": "stream",
     "text": [
      "Image download: ../Data/exports/ndvi/2019-06-18-2019-07-16--116.839743-32.794768_ndvi_bw.tif (512, 512)\n",
      "Image download: ../Data/exports/tc/2019-06-19-2019-07-17--121.371276-37.420988_tc.tif (512, 512)\n"
     ]
    },
    {
     "name": "stderr",
     "output_type": "stream",
     "text": [
      "\r",
      " 82%|██████████████████████████████████████████████████████████████████▌              | 827/1006 [1:05:21<15:15,  5.12s/it]"
     ]
    },
    {
     "name": "stdout",
     "output_type": "stream",
     "text": [
      "Image download: ../Data/exports/ndvi/2019-06-19-2019-07-17--121.371276-37.420988_ndvi_bw.tif (512, 512)\n",
      "Image download: ../Data/exports/tc/2019-06-19-2019-07-17--120.78068-38.115224_tc.tif (512, 512)\n"
     ]
    },
    {
     "name": "stderr",
     "output_type": "stream",
     "text": [
      "\r",
      " 82%|██████████████████████████████████████████████████████████████████▋              | 828/1006 [1:05:26<15:11,  5.12s/it]"
     ]
    },
    {
     "name": "stdout",
     "output_type": "stream",
     "text": [
      "Image download: ../Data/exports/ndvi/2019-06-19-2019-07-17--120.78068-38.115224_ndvi_bw.tif (512, 512)\n",
      "Image download: ../Data/exports/tc/2019-06-22-2019-07-20--120.027731-37.241427_tc.tif (512, 512)\n"
     ]
    },
    {
     "name": "stderr",
     "output_type": "stream",
     "text": [
      "\r",
      " 82%|██████████████████████████████████████████████████████████████████▋              | 829/1006 [1:05:33<16:04,  5.45s/it]"
     ]
    },
    {
     "name": "stdout",
     "output_type": "stream",
     "text": [
      "Image download: ../Data/exports/ndvi/2019-06-22-2019-07-20--120.027731-37.241427_ndvi_bw.tif (512, 512)\n",
      "Image download: ../Data/exports/tc/2019-06-22-2019-07-20--118.9183333-34.9008333_tc.tif (512, 512)\n"
     ]
    },
    {
     "name": "stderr",
     "output_type": "stream",
     "text": [
      "\r",
      " 83%|██████████████████████████████████████████████████████████████████▊              | 830/1006 [1:05:38<15:54,  5.42s/it]"
     ]
    },
    {
     "name": "stdout",
     "output_type": "stream",
     "text": [
      "Image download: ../Data/exports/ndvi/2019-06-22-2019-07-20--118.9183333-34.9008333_ndvi_bw.tif (512, 512)\n",
      "Image download: ../Data/exports/tc/2019-06-23-2019-07-21--122.143942-38.481258_tc.tif (512, 512)\n"
     ]
    },
    {
     "name": "stderr",
     "output_type": "stream",
     "text": [
      "\r",
      " 83%|██████████████████████████████████████████████████████████████████▉              | 831/1006 [1:05:43<15:19,  5.26s/it]"
     ]
    },
    {
     "name": "stdout",
     "output_type": "stream",
     "text": [
      "Image download: ../Data/exports/ndvi/2019-06-23-2019-07-21--122.143942-38.481258_ndvi_bw.tif (512, 512)\n",
      "Image download: ../Data/exports/tc/2019-06-23-2019-07-21--117.10318-34.42386_tc.tif (512, 512)\n"
     ]
    },
    {
     "name": "stderr",
     "output_type": "stream",
     "text": [
      "\r",
      " 83%|██████████████████████████████████████████████████████████████████▉              | 832/1006 [1:05:48<15:03,  5.19s/it]"
     ]
    },
    {
     "name": "stdout",
     "output_type": "stream",
     "text": [
      "Image download: ../Data/exports/ndvi/2019-06-23-2019-07-21--117.10318-34.42386_ndvi_bw.tif (512, 512)\n",
      "Image download: ../Data/exports/tc/2019-06-24-2019-07-22--121.579738-39.423833_tc.tif (512, 512)\n"
     ]
    },
    {
     "name": "stderr",
     "output_type": "stream",
     "text": [
      "\r",
      " 83%|███████████████████████████████████████████████████████████████████              | 833/1006 [1:05:52<14:31,  5.04s/it]"
     ]
    },
    {
     "name": "stdout",
     "output_type": "stream",
     "text": [
      "Image download: ../Data/exports/ndvi/2019-06-24-2019-07-22--121.579738-39.423833_ndvi_bw.tif (512, 512)\n",
      "Image download: ../Data/exports/tc/2019-06-25-2019-07-23--122.118889-38.158333_tc.tif (512, 512)\n"
     ]
    },
    {
     "name": "stderr",
     "output_type": "stream",
     "text": [
      "\r",
      " 83%|███████████████████████████████████████████████████████████████████▏             | 834/1006 [1:05:57<13:53,  4.85s/it]"
     ]
    },
    {
     "name": "stdout",
     "output_type": "stream",
     "text": [
      "Image download: ../Data/exports/ndvi/2019-06-25-2019-07-23--122.118889-38.158333_ndvi_bw.tif (512, 512)\n",
      "Image download: ../Data/exports/tc/2019-06-25-2019-07-23--121.807258-37.433192_tc.tif (512, 512)\n"
     ]
    },
    {
     "name": "stderr",
     "output_type": "stream",
     "text": [
      "\r",
      " 83%|███████████████████████████████████████████████████████████████████▏             | 835/1006 [1:06:01<13:07,  4.61s/it]"
     ]
    },
    {
     "name": "stdout",
     "output_type": "stream",
     "text": [
      "Image download: ../Data/exports/ndvi/2019-06-25-2019-07-23--121.807258-37.433192_ndvi_bw.tif (512, 512)\n",
      "Image download: ../Data/exports/tc/2019-06-25-2019-07-23--120.435278-35.004722_tc.tif (512, 512)\n"
     ]
    },
    {
     "name": "stderr",
     "output_type": "stream",
     "text": [
      "\r",
      " 83%|███████████████████████████████████████████████████████████████████▎             | 836/1006 [1:06:05<12:37,  4.45s/it]"
     ]
    },
    {
     "name": "stdout",
     "output_type": "stream",
     "text": [
      "Image download: ../Data/exports/ndvi/2019-06-25-2019-07-23--120.435278-35.004722_ndvi_bw.tif (512, 512)\n",
      "Image download: ../Data/exports/tc/2019-06-28-2019-07-26--122.656569-41.834366_tc.tif (512, 512)\n"
     ]
    },
    {
     "name": "stderr",
     "output_type": "stream",
     "text": [
      "\r",
      " 83%|███████████████████████████████████████████████████████████████████▍             | 837/1006 [1:06:09<12:24,  4.40s/it]"
     ]
    },
    {
     "name": "stdout",
     "output_type": "stream",
     "text": [
      "Image download: ../Data/exports/ndvi/2019-06-28-2019-07-26--122.656569-41.834366_ndvi_bw.tif (512, 512)\n",
      "Image download: ../Data/exports/tc/2019-06-28-2019-07-26--122.845-41.838_tc.tif (512, 512)\n"
     ]
    },
    {
     "name": "stderr",
     "output_type": "stream",
     "text": [
      "\r",
      " 83%|███████████████████████████████████████████████████████████████████▍             | 838/1006 [1:06:13<12:06,  4.33s/it]"
     ]
    },
    {
     "name": "stdout",
     "output_type": "stream",
     "text": [
      "Image download: ../Data/exports/ndvi/2019-06-28-2019-07-26--122.845-41.838_ndvi_bw.tif (512, 512)\n",
      "Image download: ../Data/exports/tc/2019-06-28-2019-07-26--123.846013-39.831762_tc.tif (512, 512)\n"
     ]
    },
    {
     "name": "stderr",
     "output_type": "stream",
     "text": [
      "\r",
      " 83%|███████████████████████████████████████████████████████████████████▌             | 839/1006 [1:06:19<12:40,  4.55s/it]"
     ]
    },
    {
     "name": "stdout",
     "output_type": "stream",
     "text": [
      "Image download: ../Data/exports/ndvi/2019-06-28-2019-07-26--123.846013-39.831762_ndvi_bw.tif (512, 512)\n",
      "Image download: ../Data/exports/tc/2019-06-29-2019-07-27--117.769766-33.997528_tc.tif (512, 512)\n"
     ]
    },
    {
     "name": "stderr",
     "output_type": "stream",
     "text": [
      "\r",
      " 83%|███████████████████████████████████████████████████████████████████▋             | 840/1006 [1:06:23<12:18,  4.45s/it]"
     ]
    },
    {
     "name": "stdout",
     "output_type": "stream",
     "text": [
      "Image download: ../Data/exports/ndvi/2019-06-29-2019-07-27--117.769766-33.997528_ndvi_bw.tif (512, 512)\n",
      "Image download: ../Data/exports/tc/2019-06-29-2019-07-27--121.260305-41.79591_tc.tif (512, 512)\n"
     ]
    },
    {
     "name": "stderr",
     "output_type": "stream",
     "text": [
      "\r",
      " 84%|███████████████████████████████████████████████████████████████████▋             | 841/1006 [1:06:29<13:59,  5.09s/it]"
     ]
    },
    {
     "name": "stdout",
     "output_type": "stream",
     "text": [
      "Image download: ../Data/exports/ndvi/2019-06-29-2019-07-27--121.260305-41.79591_ndvi_bw.tif (512, 512)\n",
      "Image download: ../Data/exports/tc/2019-06-29-2019-07-27--116.796032-32.767649_tc.tif (512, 512)\n"
     ]
    },
    {
     "name": "stderr",
     "output_type": "stream",
     "text": [
      "\r",
      " 84%|███████████████████████████████████████████████████████████████████▊             | 842/1006 [1:06:35<14:13,  5.21s/it]"
     ]
    },
    {
     "name": "stdout",
     "output_type": "stream",
     "text": [
      "Image download: ../Data/exports/ndvi/2019-06-29-2019-07-27--116.796032-32.767649_ndvi_bw.tif (512, 512)\n",
      "Image download: ../Data/exports/tc/2019-06-29-2019-07-27--119.94974-34.665699_tc.tif (512, 512)\n"
     ]
    },
    {
     "name": "stderr",
     "output_type": "stream",
     "text": [
      "\r",
      " 84%|███████████████████████████████████████████████████████████████████▉             | 843/1006 [1:06:40<14:11,  5.23s/it]"
     ]
    },
    {
     "name": "stdout",
     "output_type": "stream",
     "text": [
      "Image download: ../Data/exports/ndvi/2019-06-29-2019-07-27--119.94974-34.665699_ndvi_bw.tif (512, 512)\n",
      "Image download: ../Data/exports/tc/2019-06-30-2019-07-28--120.984167-35.908333_tc.tif (512, 512)\n"
     ]
    },
    {
     "name": "stderr",
     "output_type": "stream",
     "text": [
      "\r",
      " 84%|███████████████████████████████████████████████████████████████████▉             | 844/1006 [1:06:44<13:07,  4.86s/it]"
     ]
    },
    {
     "name": "stdout",
     "output_type": "stream",
     "text": [
      "Image download: ../Data/exports/ndvi/2019-06-30-2019-07-28--120.984167-35.908333_ndvi_bw.tif (512, 512)\n",
      "Image download: ../Data/exports/tc/2019-07-01-2019-07-29--121.466944-36.008889_tc.tif (512, 512)\n"
     ]
    },
    {
     "name": "stderr",
     "output_type": "stream",
     "text": [
      "\r",
      " 84%|████████████████████████████████████████████████████████████████████             | 845/1006 [1:06:48<12:18,  4.59s/it]"
     ]
    },
    {
     "name": "stdout",
     "output_type": "stream",
     "text": [
      "Image download: ../Data/exports/ndvi/2019-07-01-2019-07-29--121.466944-36.008889_ndvi_bw.tif (512, 512)\n",
      "Image download: ../Data/exports/tc/2019-07-01-2019-07-29--120.75664-38.757636_tc.tif (512, 512)\n"
     ]
    },
    {
     "name": "stderr",
     "output_type": "stream",
     "text": [
      "\r",
      " 84%|████████████████████████████████████████████████████████████████████             | 846/1006 [1:06:54<13:33,  5.09s/it]"
     ]
    },
    {
     "name": "stdout",
     "output_type": "stream",
     "text": [
      "Image download: ../Data/exports/ndvi/2019-07-01-2019-07-29--120.75664-38.757636_ndvi_bw.tif (512, 512)\n",
      "Image download: ../Data/exports/tc/2019-07-02-2019-07-30--118.41204-35.60989_tc.tif (512, 512)\n"
     ]
    },
    {
     "name": "stderr",
     "output_type": "stream",
     "text": [
      "\r",
      " 84%|████████████████████████████████████████████████████████████████████▏            | 847/1006 [1:07:00<13:44,  5.18s/it]"
     ]
    },
    {
     "name": "stdout",
     "output_type": "stream",
     "text": [
      "Image download: ../Data/exports/ndvi/2019-07-02-2019-07-30--118.41204-35.60989_ndvi_bw.tif (512, 512)\n",
      "Image download: ../Data/exports/tc/2019-07-03-2019-07-31--117.026667-32.575556_tc.tif (512, 512)\n"
     ]
    },
    {
     "name": "stderr",
     "output_type": "stream",
     "text": [
      "\r",
      " 84%|████████████████████████████████████████████████████████████████████▎            | 848/1006 [1:07:04<13:15,  5.03s/it]"
     ]
    },
    {
     "name": "stdout",
     "output_type": "stream",
     "text": [
      "Image download: ../Data/exports/ndvi/2019-07-03-2019-07-31--117.026667-32.575556_ndvi_bw.tif (512, 512)\n",
      "Image download: ../Data/exports/tc/2019-07-04-2019-08-01--121.123611-38.3525_tc.tif (512, 512)\n"
     ]
    },
    {
     "name": "stderr",
     "output_type": "stream",
     "text": [
      "\r",
      " 84%|████████████████████████████████████████████████████████████████████▎            | 849/1006 [1:07:09<13:07,  5.02s/it]"
     ]
    },
    {
     "name": "stdout",
     "output_type": "stream",
     "text": [
      "Image download: ../Data/exports/ndvi/2019-07-04-2019-08-01--121.123611-38.3525_ndvi_bw.tif (512, 512)\n",
      "Image download: ../Data/exports/tc/2019-07-04-2019-08-01--121.114095-38.622058_tc.tif (512, 512)\n"
     ]
    },
    {
     "name": "stderr",
     "output_type": "stream",
     "text": [
      "\r",
      " 84%|████████████████████████████████████████████████████████████████████▍            | 850/1006 [1:07:14<12:55,  4.97s/it]"
     ]
    },
    {
     "name": "stdout",
     "output_type": "stream",
     "text": [
      "Image download: ../Data/exports/ndvi/2019-07-04-2019-08-01--121.114095-38.622058_ndvi_bw.tif (512, 512)\n",
      "Image download: ../Data/exports/tc/2019-07-04-2019-08-01--120.23976-41.43783_tc.tif (512, 512)\n"
     ]
    },
    {
     "name": "stderr",
     "output_type": "stream",
     "text": [
      "\r",
      " 85%|████████████████████████████████████████████████████████████████████▌            | 851/1006 [1:07:21<14:11,  5.49s/it]"
     ]
    },
    {
     "name": "stdout",
     "output_type": "stream",
     "text": [
      "Image download: ../Data/exports/ndvi/2019-07-04-2019-08-01--120.23976-41.43783_ndvi_bw.tif (512, 512)\n",
      "Image download: ../Data/exports/tc/2019-07-05-2019-08-02--121.872941-37.908362_tc.tif (512, 512)\n"
     ]
    },
    {
     "name": "stderr",
     "output_type": "stream",
     "text": [
      "\r",
      " 85%|████████████████████████████████████████████████████████████████████▌            | 852/1006 [1:07:27<14:26,  5.63s/it]"
     ]
    },
    {
     "name": "stdout",
     "output_type": "stream",
     "text": [
      "Image download: ../Data/exports/ndvi/2019-07-05-2019-08-02--121.872941-37.908362_ndvi_bw.tif (512, 512)\n",
      "Image download: ../Data/exports/tc/2019-07-05-2019-08-02--118.752395-34.677864_tc.tif (512, 512)\n"
     ]
    },
    {
     "name": "stderr",
     "output_type": "stream",
     "text": [
      "\r",
      " 85%|████████████████████████████████████████████████████████████████████▋            | 853/1006 [1:07:32<14:19,  5.62s/it]"
     ]
    },
    {
     "name": "stdout",
     "output_type": "stream",
     "text": [
      "Image download: ../Data/exports/ndvi/2019-07-05-2019-08-02--118.752395-34.677864_ndvi_bw.tif (512, 512)\n",
      "Image download: ../Data/exports/tc/2019-07-05-2019-08-02--116.4449-34.202883_tc.tif (512, 512)\n"
     ]
    },
    {
     "name": "stderr",
     "output_type": "stream",
     "text": [
      "\r",
      " 85%|████████████████████████████████████████████████████████████████████▊            | 854/1006 [1:07:38<13:51,  5.47s/it]"
     ]
    },
    {
     "name": "stdout",
     "output_type": "stream",
     "text": [
      "Image download: ../Data/exports/ndvi/2019-07-05-2019-08-02--116.4449-34.202883_ndvi_bw.tif (512, 512)\n",
      "Image download: ../Data/exports/tc/2019-07-06-2019-08-03--122.25409-40.55924_tc.tif (512, 512)\n"
     ]
    },
    {
     "name": "stderr",
     "output_type": "stream",
     "text": [
      "\r",
      " 85%|████████████████████████████████████████████████████████████████████▊            | 855/1006 [1:07:44<14:45,  5.87s/it]"
     ]
    },
    {
     "name": "stdout",
     "output_type": "stream",
     "text": [
      "Image download: ../Data/exports/ndvi/2019-07-06-2019-08-03--122.25409-40.55924_ndvi_bw.tif (512, 512)\n",
      "Image download: ../Data/exports/tc/2019-07-07-2019-08-04--118.623651-35.287373_tc.tif (512, 512)\n"
     ]
    },
    {
     "name": "stderr",
     "output_type": "stream",
     "text": [
      "\r",
      " 85%|████████████████████████████████████████████████████████████████████▉            | 856/1006 [1:07:51<15:16,  6.11s/it]"
     ]
    },
    {
     "name": "stdout",
     "output_type": "stream",
     "text": [
      "Image download: ../Data/exports/ndvi/2019-07-07-2019-08-04--118.623651-35.287373_ndvi_bw.tif (512, 512)\n",
      "Image download: ../Data/exports/tc/2019-07-07-2019-08-04--117.333728-33.740219_tc.tif (512, 512)\n"
     ]
    },
    {
     "name": "stderr",
     "output_type": "stream",
     "text": [
      "\r",
      " 85%|█████████████████████████████████████████████████████████████████████            | 857/1006 [1:07:56<14:10,  5.71s/it]"
     ]
    },
    {
     "name": "stdout",
     "output_type": "stream",
     "text": [
      "Image download: ../Data/exports/ndvi/2019-07-07-2019-08-04--117.333728-33.740219_ndvi_bw.tif (512, 512)\n",
      "Image download: ../Data/exports/tc/2019-07-09-2019-08-06--121.678172-37.968494_tc.tif (512, 512)\n"
     ]
    },
    {
     "name": "stderr",
     "output_type": "stream",
     "text": [
      "\r",
      " 85%|█████████████████████████████████████████████████████████████████████            | 858/1006 [1:08:01<13:18,  5.39s/it]"
     ]
    },
    {
     "name": "stdout",
     "output_type": "stream",
     "text": [
      "Image download: ../Data/exports/ndvi/2019-07-09-2019-08-06--121.678172-37.968494_ndvi_bw.tif (512, 512)\n",
      "Image download: ../Data/exports/tc/2019-07-09-2019-08-06--120.336977-40.886677_tc.tif (512, 512)\n"
     ]
    },
    {
     "name": "stderr",
     "output_type": "stream",
     "text": [
      "\r",
      " 85%|█████████████████████████████████████████████████████████████████████▏           | 859/1006 [1:08:06<13:32,  5.52s/it]"
     ]
    },
    {
     "name": "stdout",
     "output_type": "stream",
     "text": [
      "Image download: ../Data/exports/ndvi/2019-07-09-2019-08-06--120.336977-40.886677_ndvi_bw.tif (512, 512)\n",
      "Image download: ../Data/exports/tc/2019-07-09-2019-08-06--121.320838-40.900458_tc.tif (512, 512)\n"
     ]
    },
    {
     "name": "stderr",
     "output_type": "stream",
     "text": [
      "\r",
      " 85%|█████████████████████████████████████████████████████████████████████▏           | 860/1006 [1:08:11<12:37,  5.19s/it]"
     ]
    },
    {
     "name": "stdout",
     "output_type": "stream",
     "text": [
      "Image download: ../Data/exports/ndvi/2019-07-09-2019-08-06--121.320838-40.900458_ndvi_bw.tif (512, 512)\n",
      "Image download: ../Data/exports/tc/2019-07-10-2019-08-07--122.7751-38.99174_tc.tif (512, 512)\n"
     ]
    },
    {
     "name": "stderr",
     "output_type": "stream",
     "text": [
      "\r",
      " 86%|█████████████████████████████████████████████████████████████████████▎           | 861/1006 [1:08:16<12:49,  5.31s/it]"
     ]
    },
    {
     "name": "stdout",
     "output_type": "stream",
     "text": [
      "Image download: ../Data/exports/ndvi/2019-07-10-2019-08-07--122.7751-38.99174_ndvi_bw.tif (512, 512)\n",
      "Image download: ../Data/exports/tc/2019-07-10-2019-08-07--120.420058-37.949747_tc.tif (512, 512)\n"
     ]
    },
    {
     "name": "stderr",
     "output_type": "stream",
     "text": [
      "\r",
      " 86%|█████████████████████████████████████████████████████████████████████▍           | 862/1006 [1:08:23<13:36,  5.67s/it]"
     ]
    },
    {
     "name": "stdout",
     "output_type": "stream",
     "text": [
      "Image download: ../Data/exports/ndvi/2019-07-10-2019-08-07--120.420058-37.949747_ndvi_bw.tif (512, 512)\n",
      "Image download: ../Data/exports/tc/2019-07-10-2019-08-07--120.275298-40.943799_tc.tif (512, 512)\n"
     ]
    },
    {
     "name": "stderr",
     "output_type": "stream",
     "text": [
      "\r",
      " 86%|█████████████████████████████████████████████████████████████████████▍           | 863/1006 [1:08:28<13:26,  5.64s/it]"
     ]
    },
    {
     "name": "stdout",
     "output_type": "stream",
     "text": [
      "Image download: ../Data/exports/ndvi/2019-07-10-2019-08-07--120.275298-40.943799_ndvi_bw.tif (512, 512)\n",
      "Image download: ../Data/exports/tc/2019-07-11-2019-08-08--121.841879-37.708743_tc.tif (512, 512)\n"
     ]
    },
    {
     "name": "stderr",
     "output_type": "stream",
     "text": [
      "\r",
      " 86%|█████████████████████████████████████████████████████████████████████▌           | 864/1006 [1:08:33<12:39,  5.35s/it]"
     ]
    },
    {
     "name": "stdout",
     "output_type": "stream",
     "text": [
      "Image download: ../Data/exports/ndvi/2019-07-11-2019-08-08--121.841879-37.708743_ndvi_bw.tif (512, 512)\n",
      "Image download: ../Data/exports/tc/2019-07-11-2019-08-08--122.175-42.033_tc.tif (512, 512)\n"
     ]
    },
    {
     "name": "stderr",
     "output_type": "stream",
     "text": [
      "\r",
      " 86%|█████████████████████████████████████████████████████████████████████▋           | 865/1006 [1:08:39<12:55,  5.50s/it]"
     ]
    },
    {
     "name": "stdout",
     "output_type": "stream",
     "text": [
      "Image download: ../Data/exports/ndvi/2019-07-11-2019-08-08--122.175-42.033_ndvi_bw.tif (512, 512)\n",
      "Image download: ../Data/exports/tc/2019-07-12-2019-08-09--121.423281-39.171091_tc.tif (512, 512)\n"
     ]
    },
    {
     "name": "stderr",
     "output_type": "stream",
     "text": [
      "\r",
      " 86%|█████████████████████████████████████████████████████████████████████▋           | 866/1006 [1:08:44<12:14,  5.25s/it]"
     ]
    },
    {
     "name": "stdout",
     "output_type": "stream",
     "text": [
      "Image download: ../Data/exports/ndvi/2019-07-12-2019-08-09--121.423281-39.171091_ndvi_bw.tif (512, 512)\n",
      "Image download: ../Data/exports/tc/2019-07-14-2019-08-11--117.004667-33.909792_tc.tif (512, 512)\n"
     ]
    },
    {
     "name": "stderr",
     "output_type": "stream",
     "text": [
      "\r",
      " 86%|█████████████████████████████████████████████████████████████████████▊           | 867/1006 [1:08:49<12:17,  5.30s/it]"
     ]
    },
    {
     "name": "stdout",
     "output_type": "stream",
     "text": [
      "Image download: ../Data/exports/ndvi/2019-07-14-2019-08-11--117.004667-33.909792_ndvi_bw.tif (512, 512)\n",
      "Image download: ../Data/exports/tc/2019-07-14-2019-08-11--122.54364-40.46968_tc.tif (512, 512)\n"
     ]
    },
    {
     "name": "stderr",
     "output_type": "stream",
     "text": [
      "\r",
      " 86%|█████████████████████████████████████████████████████████████████████▉           | 868/1006 [1:08:54<12:17,  5.34s/it]"
     ]
    },
    {
     "name": "stdout",
     "output_type": "stream",
     "text": [
      "Image download: ../Data/exports/ndvi/2019-07-14-2019-08-11--122.54364-40.46968_ndvi_bw.tif (512, 512)\n",
      "Image download: ../Data/exports/tc/2019-07-14-2019-08-11--123.195306-39.005262_tc.tif (512, 512)\n"
     ]
    },
    {
     "name": "stderr",
     "output_type": "stream",
     "text": [
      "\r",
      " 86%|█████████████████████████████████████████████████████████████████████▉           | 869/1006 [1:09:00<12:23,  5.42s/it]"
     ]
    },
    {
     "name": "stdout",
     "output_type": "stream",
     "text": [
      "Image download: ../Data/exports/ndvi/2019-07-14-2019-08-11--123.195306-39.005262_ndvi_bw.tif (512, 512)\n",
      "Image download: ../Data/exports/tc/2019-07-15-2019-08-12--118.342239-34.675542_tc.tif (512, 512)\n"
     ]
    },
    {
     "name": "stderr",
     "output_type": "stream",
     "text": [
      "\r",
      " 86%|██████████████████████████████████████████████████████████████████████           | 870/1006 [1:09:05<11:40,  5.15s/it]"
     ]
    },
    {
     "name": "stdout",
     "output_type": "stream",
     "text": [
      "Image download: ../Data/exports/ndvi/2019-07-15-2019-08-12--118.342239-34.675542_ndvi_bw.tif (512, 512)\n",
      "Image download: ../Data/exports/tc/2019-07-15-2019-08-12--121.969167-38.455_tc.tif (512, 512)\n"
     ]
    },
    {
     "name": "stderr",
     "output_type": "stream",
     "text": [
      "\r",
      " 87%|██████████████████████████████████████████████████████████████████████▏          | 871/1006 [1:09:09<11:11,  4.98s/it]"
     ]
    },
    {
     "name": "stdout",
     "output_type": "stream",
     "text": [
      "Image download: ../Data/exports/ndvi/2019-07-15-2019-08-12--121.969167-38.455_ndvi_bw.tif (512, 512)\n",
      "Image download: ../Data/exports/tc/2019-07-16-2019-08-13--122.309167-39.088333_tc.tif (512, 512)\n"
     ]
    },
    {
     "name": "stderr",
     "output_type": "stream",
     "text": [
      "\r",
      " 87%|██████████████████████████████████████████████████████████████████████▏          | 872/1006 [1:09:16<12:05,  5.41s/it]"
     ]
    },
    {
     "name": "stdout",
     "output_type": "stream",
     "text": [
      "Image download: ../Data/exports/ndvi/2019-07-16-2019-08-13--122.309167-39.088333_ndvi_bw.tif (512, 512)\n",
      "Image download: ../Data/exports/tc/2019-07-16-2019-08-13--120.890556-38.703889_tc.tif (512, 512)\n"
     ]
    },
    {
     "name": "stderr",
     "output_type": "stream",
     "text": [
      "\r",
      " 87%|██████████████████████████████████████████████████████████████████████▎          | 873/1006 [1:09:20<11:39,  5.26s/it]"
     ]
    },
    {
     "name": "stdout",
     "output_type": "stream",
     "text": [
      "Image download: ../Data/exports/ndvi/2019-07-16-2019-08-13--120.890556-38.703889_ndvi_bw.tif (512, 512)\n",
      "Image download: ../Data/exports/tc/2019-07-17-2019-08-14--121.761974-37.219717_tc.tif (512, 512)\n"
     ]
    },
    {
     "name": "stderr",
     "output_type": "stream",
     "text": [
      "\r",
      " 87%|██████████████████████████████████████████████████████████████████████▎          | 874/1006 [1:09:27<12:05,  5.49s/it]"
     ]
    },
    {
     "name": "stdout",
     "output_type": "stream",
     "text": [
      "Image download: ../Data/exports/ndvi/2019-07-17-2019-08-14--121.761974-37.219717_ndvi_bw.tif (512, 512)\n",
      "Image download: ../Data/exports/tc/2019-07-17-2019-08-14--122.159393-40.484329_tc.tif (512, 512)\n"
     ]
    },
    {
     "name": "stderr",
     "output_type": "stream",
     "text": [
      "\r",
      " 87%|██████████████████████████████████████████████████████████████████████▍          | 875/1006 [1:09:32<12:02,  5.51s/it]"
     ]
    },
    {
     "name": "stdout",
     "output_type": "stream",
     "text": [
      "Image download: ../Data/exports/ndvi/2019-07-17-2019-08-14--122.159393-40.484329_ndvi_bw.tif (512, 512)\n",
      "Image download: ../Data/exports/tc/2019-07-17-2019-08-14--120.208019-37.532028_tc.tif (512, 512)\n"
     ]
    },
    {
     "name": "stderr",
     "output_type": "stream",
     "text": [
      "\r",
      " 87%|██████████████████████████████████████████████████████████████████████▌          | 876/1006 [1:09:40<13:37,  6.29s/it]"
     ]
    },
    {
     "name": "stdout",
     "output_type": "stream",
     "text": [
      "Image download: ../Data/exports/ndvi/2019-07-17-2019-08-14--120.208019-37.532028_ndvi_bw.tif (512, 512)\n",
      "Image download: ../Data/exports/tc/2019-07-17-2019-08-14--116.760465-32.57394_tc.tif (512, 512)\n"
     ]
    },
    {
     "name": "stderr",
     "output_type": "stream",
     "text": [
      "\r",
      " 87%|██████████████████████████████████████████████████████████████████████▌          | 877/1006 [1:09:45<12:35,  5.86s/it]"
     ]
    },
    {
     "name": "stdout",
     "output_type": "stream",
     "text": [
      "Image download: ../Data/exports/ndvi/2019-07-17-2019-08-14--116.760465-32.57394_ndvi_bw.tif (512, 512)\n",
      "Image download: ../Data/exports/tc/2019-07-17-2019-08-14--120.826165-38.652475_tc.tif (512, 512)\n"
     ]
    },
    {
     "name": "stderr",
     "output_type": "stream",
     "text": [
      "\r",
      " 87%|██████████████████████████████████████████████████████████████████████▋          | 878/1006 [1:09:50<12:00,  5.63s/it]"
     ]
    },
    {
     "name": "stdout",
     "output_type": "stream",
     "text": [
      "Image download: ../Data/exports/ndvi/2019-07-17-2019-08-14--120.826165-38.652475_ndvi_bw.tif (512, 512)\n",
      "Image download: ../Data/exports/tc/2019-07-18-2019-08-15--116.658735-32.573437_tc.tif (512, 512)\n"
     ]
    },
    {
     "name": "stderr",
     "output_type": "stream",
     "text": [
      "\r",
      " 87%|██████████████████████████████████████████████████████████████████████▊          | 879/1006 [1:09:55<11:42,  5.53s/it]"
     ]
    },
    {
     "name": "stdout",
     "output_type": "stream",
     "text": [
      "Image download: ../Data/exports/ndvi/2019-07-18-2019-08-15--116.658735-32.573437_ndvi_bw.tif (512, 512)\n",
      "Image download: ../Data/exports/tc/2019-07-18-2019-08-15--120.177018-37.536069_tc.tif (512, 512)\n"
     ]
    },
    {
     "name": "stderr",
     "output_type": "stream",
     "text": [
      "\r",
      " 87%|██████████████████████████████████████████████████████████████████████▊          | 880/1006 [1:10:02<12:05,  5.75s/it]"
     ]
    },
    {
     "name": "stdout",
     "output_type": "stream",
     "text": [
      "Image download: ../Data/exports/ndvi/2019-07-18-2019-08-15--120.177018-37.536069_ndvi_bw.tif (512, 512)\n",
      "Image download: ../Data/exports/tc/2019-07-23-2019-08-20--121.55867-37.71734_tc.tif (512, 512)\n"
     ]
    },
    {
     "name": "stderr",
     "output_type": "stream",
     "text": [
      "\r",
      " 88%|██████████████████████████████████████████████████████████████████████▉          | 881/1006 [1:10:07<11:37,  5.58s/it]"
     ]
    },
    {
     "name": "stdout",
     "output_type": "stream",
     "text": [
      "Image download: ../Data/exports/ndvi/2019-07-23-2019-08-20--121.55867-37.71734_ndvi_bw.tif (512, 512)\n",
      "Image download: ../Data/exports/tc/2019-07-24-2019-08-21--122.241944-40.715556_tc.tif (512, 512)\n"
     ]
    },
    {
     "name": "stderr",
     "output_type": "stream",
     "text": [
      "\r",
      " 88%|███████████████████████████████████████████████████████████████████████          | 882/1006 [1:10:13<11:40,  5.65s/it]"
     ]
    },
    {
     "name": "stdout",
     "output_type": "stream",
     "text": [
      "Image download: ../Data/exports/ndvi/2019-07-24-2019-08-21--122.241944-40.715556_ndvi_bw.tif (512, 512)\n",
      "Image download: ../Data/exports/tc/2019-07-24-2019-08-21--116.857817-33.4506_tc.tif (512, 512)\n"
     ]
    },
    {
     "name": "stderr",
     "output_type": "stream",
     "text": [
      "\r",
      " 88%|███████████████████████████████████████████████████████████████████████          | 883/1006 [1:10:21<13:03,  6.37s/it]"
     ]
    },
    {
     "name": "stdout",
     "output_type": "stream",
     "text": [
      "Image download: ../Data/exports/ndvi/2019-07-24-2019-08-21--116.857817-33.4506_ndvi_bw.tif (512, 512)\n",
      "Image download: ../Data/exports/tc/2019-07-26-2019-08-23--120.544-40.562_tc.tif (512, 512)\n"
     ]
    },
    {
     "name": "stderr",
     "output_type": "stream",
     "text": [
      "\r",
      " 88%|███████████████████████████████████████████████████████████████████████▏         | 884/1006 [1:10:29<13:56,  6.86s/it]"
     ]
    },
    {
     "name": "stdout",
     "output_type": "stream",
     "text": [
      "Image download: ../Data/exports/ndvi/2019-07-26-2019-08-23--120.544-40.562_ndvi_bw.tif (512, 512)\n",
      "Image download: ../Data/exports/tc/2019-07-26-2019-08-23--120.029722-39.892222_tc.tif (512, 512)\n"
     ]
    },
    {
     "name": "stderr",
     "output_type": "stream",
     "text": [
      "\r",
      " 88%|███████████████████████████████████████████████████████████████████████▎         | 885/1006 [1:10:35<13:19,  6.61s/it]"
     ]
    },
    {
     "name": "stdout",
     "output_type": "stream",
     "text": [
      "Image download: ../Data/exports/ndvi/2019-07-26-2019-08-23--120.029722-39.892222_ndvi_bw.tif (512, 512)\n",
      "Image download: ../Data/exports/tc/2019-07-27-2019-08-24--117.487578-33.77777348_tc.tif (512, 512)\n"
     ]
    },
    {
     "name": "stderr",
     "output_type": "stream",
     "text": [
      "\r",
      " 88%|███████████████████████████████████████████████████████████████████████▎         | 886/1006 [1:10:39<11:51,  5.93s/it]"
     ]
    },
    {
     "name": "stdout",
     "output_type": "stream",
     "text": [
      "Image download: ../Data/exports/ndvi/2019-07-27-2019-08-24--117.487578-33.77777348_ndvi_bw.tif (512, 512)\n",
      "Image download: ../Data/exports/tc/2019-07-27-2019-08-24--121.45597-37.034183_tc.tif (512, 512)\n"
     ]
    },
    {
     "name": "stderr",
     "output_type": "stream",
     "text": [
      "\r",
      " 88%|███████████████████████████████████████████████████████████████████████▍         | 887/1006 [1:10:44<11:22,  5.73s/it]"
     ]
    },
    {
     "name": "stdout",
     "output_type": "stream",
     "text": [
      "Image download: ../Data/exports/ndvi/2019-07-27-2019-08-24--121.45597-37.034183_ndvi_bw.tif (512, 512)\n",
      "Image download: ../Data/exports/tc/2019-07-27-2019-08-24--116.873955-32.557546_tc.tif (512, 512)\n"
     ]
    },
    {
     "name": "stderr",
     "output_type": "stream",
     "text": [
      "\r",
      " 88%|███████████████████████████████████████████████████████████████████████▍         | 888/1006 [1:10:50<10:56,  5.57s/it]"
     ]
    },
    {
     "name": "stdout",
     "output_type": "stream",
     "text": [
      "Image download: ../Data/exports/ndvi/2019-07-27-2019-08-24--116.873955-32.557546_ndvi_bw.tif (512, 512)\n",
      "Image download: ../Data/exports/tc/2019-07-27-2019-08-24--116.873955-32.557546_tc.tif (512, 512)\n"
     ]
    },
    {
     "name": "stderr",
     "output_type": "stream",
     "text": [
      "\r",
      " 88%|███████████████████████████████████████████████████████████████████████▌         | 889/1006 [1:10:54<10:03,  5.16s/it]"
     ]
    },
    {
     "name": "stdout",
     "output_type": "stream",
     "text": [
      "Image download: ../Data/exports/ndvi/2019-07-27-2019-08-24--116.873955-32.557546_ndvi_bw.tif (512, 512)\n",
      "Image download: ../Data/exports/tc/2019-07-29-2019-08-26--116.914799-33.463991_tc.tif (512, 512)\n"
     ]
    },
    {
     "name": "stderr",
     "output_type": "stream",
     "text": [
      "\r",
      " 88%|███████████████████████████████████████████████████████████████████████▋         | 890/1006 [1:11:00<10:31,  5.45s/it]"
     ]
    },
    {
     "name": "stdout",
     "output_type": "stream",
     "text": [
      "Image download: ../Data/exports/ndvi/2019-07-29-2019-08-26--116.914799-33.463991_ndvi_bw.tif (512, 512)\n",
      "Image download: ../Data/exports/tc/2019-07-30-2019-08-27--120.581-40.593_tc.tif (512, 512)\n"
     ]
    },
    {
     "name": "stderr",
     "output_type": "stream",
     "text": [
      "\r",
      " 89%|███████████████████████████████████████████████████████████████████████▋         | 891/1006 [1:11:06<10:57,  5.72s/it]"
     ]
    },
    {
     "name": "stdout",
     "output_type": "stream",
     "text": [
      "Image download: ../Data/exports/ndvi/2019-07-30-2019-08-27--120.581-40.593_ndvi_bw.tif (512, 512)\n",
      "Image download: ../Data/exports/tc/2019-08-02-2019-08-30--121.657011-37.718636_tc.tif (512, 512)\n"
     ]
    },
    {
     "name": "stderr",
     "output_type": "stream",
     "text": [
      "\r",
      " 89%|███████████████████████████████████████████████████████████████████████▊         | 892/1006 [1:11:12<10:52,  5.73s/it]"
     ]
    },
    {
     "name": "stdout",
     "output_type": "stream",
     "text": [
      "Image download: ../Data/exports/ndvi/2019-08-02-2019-08-30--121.657011-37.718636_ndvi_bw.tif (512, 512)\n",
      "Image download: ../Data/exports/tc/2019-08-02-2019-08-30--119.030621-36.40193_tc.tif (512, 512)\n"
     ]
    },
    {
     "name": "stderr",
     "output_type": "stream",
     "text": [
      "\r",
      " 89%|███████████████████████████████████████████████████████████████████████▉         | 893/1006 [1:11:17<10:08,  5.38s/it]"
     ]
    },
    {
     "name": "stdout",
     "output_type": "stream",
     "text": [
      "Image download: ../Data/exports/ndvi/2019-08-02-2019-08-30--119.030621-36.40193_ndvi_bw.tif (512, 512)\n",
      "Image download: ../Data/exports/tc/2019-08-03-2019-08-31--120.992914-35.906482_tc.tif (512, 512)\n"
     ]
    },
    {
     "name": "stderr",
     "output_type": "stream",
     "text": [
      "\r",
      " 89%|███████████████████████████████████████████████████████████████████████▉         | 894/1006 [1:11:21<09:37,  5.16s/it]"
     ]
    },
    {
     "name": "stdout",
     "output_type": "stream",
     "text": [
      "Image download: ../Data/exports/ndvi/2019-08-03-2019-08-31--120.992914-35.906482_ndvi_bw.tif (512, 512)\n",
      "Image download: ../Data/exports/tc/2019-08-03-2019-08-31--119.3547-34.71011_tc.tif (512, 512)\n"
     ]
    },
    {
     "name": "stderr",
     "output_type": "stream",
     "text": [
      "\r",
      " 89%|████████████████████████████████████████████████████████████████████████         | 895/1006 [1:11:27<09:41,  5.24s/it]"
     ]
    },
    {
     "name": "stdout",
     "output_type": "stream",
     "text": [
      "Image download: ../Data/exports/ndvi/2019-08-03-2019-08-31--119.3547-34.71011_ndvi_bw.tif (512, 512)\n",
      "Image download: ../Data/exports/tc/2019-08-04-2019-09-01--121.596667-37.545167_tc.tif (512, 512)\n"
     ]
    },
    {
     "name": "stderr",
     "output_type": "stream",
     "text": [
      "\r",
      " 89%|████████████████████████████████████████████████████████████████████████▏        | 896/1006 [1:11:32<09:51,  5.37s/it]"
     ]
    },
    {
     "name": "stdout",
     "output_type": "stream",
     "text": [
      "Image download: ../Data/exports/ndvi/2019-08-04-2019-09-01--121.596667-37.545167_ndvi_bw.tif (512, 512)\n",
      "Image download: ../Data/exports/tc/2019-08-04-2019-09-01--120.8405-36.600167_tc.tif (512, 512)\n"
     ]
    },
    {
     "name": "stderr",
     "output_type": "stream",
     "text": [
      "\r",
      " 89%|████████████████████████████████████████████████████████████████████████▏        | 897/1006 [1:11:38<10:03,  5.53s/it]"
     ]
    },
    {
     "name": "stdout",
     "output_type": "stream",
     "text": [
      "Image download: ../Data/exports/ndvi/2019-08-04-2019-09-01--120.8405-36.600167_ndvi_bw.tif (512, 512)\n",
      "Image download: ../Data/exports/tc/2019-08-04-2019-09-01--117.343833-34.353667_tc.tif (512, 512)\n"
     ]
    },
    {
     "name": "stderr",
     "output_type": "stream",
     "text": [
      "\r",
      " 89%|████████████████████████████████████████████████████████████████████████▎        | 898/1006 [1:11:43<09:30,  5.29s/it]"
     ]
    },
    {
     "name": "stdout",
     "output_type": "stream",
     "text": [
      "Image download: ../Data/exports/ndvi/2019-08-04-2019-09-01--117.343833-34.353667_ndvi_bw.tif (512, 512)\n",
      "Image download: ../Data/exports/tc/2019-08-05-2019-09-02--120.946657-38.898915_tc.tif (512, 512)\n"
     ]
    },
    {
     "name": "stderr",
     "output_type": "stream",
     "text": [
      "\r",
      " 89%|████████████████████████████████████████████████████████████████████████▍        | 899/1006 [1:11:47<09:01,  5.06s/it]"
     ]
    },
    {
     "name": "stdout",
     "output_type": "stream",
     "text": [
      "Image download: ../Data/exports/ndvi/2019-08-05-2019-09-02--120.946657-38.898915_ndvi_bw.tif (512, 512)\n",
      "Image download: ../Data/exports/tc/2019-08-05-2019-09-02--122.07743-37.178353_tc.tif (512, 512)\n"
     ]
    },
    {
     "name": "stderr",
     "output_type": "stream",
     "text": [
      "\r",
      " 89%|████████████████████████████████████████████████████████████████████████▍        | 900/1006 [1:11:52<08:23,  4.75s/it]"
     ]
    },
    {
     "name": "stdout",
     "output_type": "stream",
     "text": [
      "Image download: ../Data/exports/ndvi/2019-08-05-2019-09-02--122.07743-37.178353_ndvi_bw.tif (512, 512)\n",
      "Image download: ../Data/exports/tc/2019-08-06-2019-09-03--120.680556-40.061389_tc.tif (512, 512)\n"
     ]
    },
    {
     "name": "stderr",
     "output_type": "stream",
     "text": [
      "\r",
      " 90%|████████████████████████████████████████████████████████████████████████▌        | 901/1006 [1:11:57<08:35,  4.91s/it]"
     ]
    },
    {
     "name": "stdout",
     "output_type": "stream",
     "text": [
      "Image download: ../Data/exports/ndvi/2019-08-06-2019-09-03--120.680556-40.061389_ndvi_bw.tif (512, 512)\n",
      "Image download: ../Data/exports/tc/2019-08-06-2019-09-03--122.642572-38.910498_tc.tif (512, 512)\n"
     ]
    },
    {
     "name": "stderr",
     "output_type": "stream",
     "text": [
      "\r",
      " 90%|████████████████████████████████████████████████████████████████████████▋        | 902/1006 [1:12:03<08:59,  5.19s/it]"
     ]
    },
    {
     "name": "stdout",
     "output_type": "stream",
     "text": [
      "Image download: ../Data/exports/ndvi/2019-08-06-2019-09-03--122.642572-38.910498_ndvi_bw.tif (512, 512)\n",
      "Image download: ../Data/exports/tc/2019-08-06-2019-09-03--117.273157-33.528469_tc.tif (512, 512)\n"
     ]
    },
    {
     "name": "stderr",
     "output_type": "stream",
     "text": [
      "\r",
      " 90%|████████████████████████████████████████████████████████████████████████▋        | 903/1006 [1:12:07<08:43,  5.09s/it]"
     ]
    },
    {
     "name": "stdout",
     "output_type": "stream",
     "text": [
      "Image download: ../Data/exports/ndvi/2019-08-06-2019-09-03--117.273157-33.528469_ndvi_bw.tif (512, 512)\n",
      "Image download: ../Data/exports/tc/2019-08-06-2019-09-03--121.39478-36.732866_tc.tif (512, 512)\n"
     ]
    },
    {
     "name": "stderr",
     "output_type": "stream",
     "text": [
      "\r",
      " 90%|████████████████████████████████████████████████████████████████████████▊        | 904/1006 [1:12:12<08:28,  4.99s/it]"
     ]
    },
    {
     "name": "stdout",
     "output_type": "stream",
     "text": [
      "Image download: ../Data/exports/ndvi/2019-08-06-2019-09-03--121.39478-36.732866_ndvi_bw.tif (512, 512)\n",
      "Image download: ../Data/exports/tc/2019-08-07-2019-09-04--123.222196-40.062304_tc.tif (512, 512)\n"
     ]
    },
    {
     "name": "stderr",
     "output_type": "stream",
     "text": [
      "\r",
      " 90%|████████████████████████████████████████████████████████████████████████▊        | 905/1006 [1:12:17<08:14,  4.89s/it]"
     ]
    },
    {
     "name": "stdout",
     "output_type": "stream",
     "text": [
      "Image download: ../Data/exports/ndvi/2019-08-07-2019-09-04--123.222196-40.062304_ndvi_bw.tif (512, 512)\n",
      "Image download: ../Data/exports/tc/2019-08-07-2019-09-04--122.64-40.12_tc.tif (512, 512)\n"
     ]
    },
    {
     "name": "stderr",
     "output_type": "stream",
     "text": [
      "\r",
      " 90%|████████████████████████████████████████████████████████████████████████▉        | 906/1006 [1:12:23<08:56,  5.37s/it]"
     ]
    },
    {
     "name": "stdout",
     "output_type": "stream",
     "text": [
      "Image download: ../Data/exports/ndvi/2019-08-07-2019-09-04--122.64-40.12_ndvi_bw.tif (512, 512)\n",
      "Image download: ../Data/exports/tc/2019-08-07-2019-09-04--120.945044-38.017138_tc.tif (512, 512)\n"
     ]
    },
    {
     "name": "stderr",
     "output_type": "stream",
     "text": [
      "\r",
      " 90%|█████████████████████████████████████████████████████████████████████████        | 907/1006 [1:12:30<09:18,  5.64s/it]"
     ]
    },
    {
     "name": "stdout",
     "output_type": "stream",
     "text": [
      "Image download: ../Data/exports/ndvi/2019-08-07-2019-09-04--120.945044-38.017138_ndvi_bw.tif (512, 512)\n",
      "Image download: ../Data/exports/tc/2019-08-07-2019-09-04--122.789-40.109_tc.tif (512, 512)\n"
     ]
    },
    {
     "name": "stderr",
     "output_type": "stream",
     "text": [
      "\r",
      " 90%|█████████████████████████████████████████████████████████████████████████        | 908/1006 [1:12:35<09:01,  5.52s/it]"
     ]
    },
    {
     "name": "stdout",
     "output_type": "stream",
     "text": [
      "Image download: ../Data/exports/ndvi/2019-08-07-2019-09-04--122.789-40.109_ndvi_bw.tif (512, 512)\n",
      "Image download: ../Data/exports/tc/2019-08-08-2019-09-05--118.872-37.826_tc.tif (512, 512)\n"
     ]
    },
    {
     "name": "stderr",
     "output_type": "stream",
     "text": [
      "\r",
      " 90%|█████████████████████████████████████████████████████████████████████████▏       | 909/1006 [1:12:40<08:32,  5.28s/it]"
     ]
    },
    {
     "name": "stdout",
     "output_type": "stream",
     "text": [
      "Image download: ../Data/exports/ndvi/2019-08-08-2019-09-05--118.872-37.826_ndvi_bw.tif (512, 512)\n",
      "Image download: ../Data/exports/tc/2019-08-08-2019-09-05--121.056-41.748_tc.tif (512, 512)\n"
     ]
    },
    {
     "name": "stderr",
     "output_type": "stream",
     "text": [
      "\r",
      " 90%|█████████████████████████████████████████████████████████████████████████▎       | 910/1006 [1:12:45<08:20,  5.21s/it]"
     ]
    },
    {
     "name": "stdout",
     "output_type": "stream",
     "text": [
      "Image download: ../Data/exports/ndvi/2019-08-08-2019-09-05--121.056-41.748_ndvi_bw.tif (512, 512)\n",
      "Image download: ../Data/exports/tc/2019-08-08-2019-09-05--118.228-36.284_tc.tif (512, 512)\n"
     ]
    },
    {
     "name": "stderr",
     "output_type": "stream",
     "text": [
      "\r",
      " 91%|█████████████████████████████████████████████████████████████████████████▎       | 911/1006 [1:12:50<08:10,  5.16s/it]"
     ]
    },
    {
     "name": "stdout",
     "output_type": "stream",
     "text": [
      "Image download: ../Data/exports/ndvi/2019-08-08-2019-09-05--118.228-36.284_ndvi_bw.tif (512, 512)\n",
      "Image download: ../Data/exports/tc/2019-08-08-2019-09-05--118.185-36.151_tc.tif (512, 512)\n"
     ]
    },
    {
     "name": "stderr",
     "output_type": "stream",
     "text": [
      "\r",
      " 91%|█████████████████████████████████████████████████████████████████████████▍       | 912/1006 [1:12:55<08:14,  5.26s/it]"
     ]
    },
    {
     "name": "stdout",
     "output_type": "stream",
     "text": [
      "Image download: ../Data/exports/ndvi/2019-08-08-2019-09-05--118.185-36.151_ndvi_bw.tif (512, 512)\n",
      "Image download: ../Data/exports/tc/2019-08-08-2019-09-05--118.345-37.034_tc.tif (512, 512)\n"
     ]
    },
    {
     "name": "stderr",
     "output_type": "stream",
     "text": [
      "\r",
      " 91%|█████████████████████████████████████████████████████████████████████████▌       | 913/1006 [1:13:01<08:36,  5.56s/it]"
     ]
    },
    {
     "name": "stdout",
     "output_type": "stream",
     "text": [
      "Image download: ../Data/exports/ndvi/2019-08-08-2019-09-05--118.345-37.034_ndvi_bw.tif (512, 512)\n",
      "Image download: ../Data/exports/tc/2019-08-08-2019-09-05--120.606-44.734_tc.tif (512, 512)\n"
     ]
    },
    {
     "name": "stderr",
     "output_type": "stream",
     "text": [
      "\r",
      " 91%|█████████████████████████████████████████████████████████████████████████▌       | 914/1006 [1:13:07<08:29,  5.54s/it]"
     ]
    },
    {
     "name": "stdout",
     "output_type": "stream",
     "text": [
      "Image download: ../Data/exports/ndvi/2019-08-08-2019-09-05--120.606-44.734_ndvi_bw.tif (512, 512)\n",
      "Image download: ../Data/exports/tc/2019-08-08-2019-09-05--121.412333-39.470333_tc.tif (512, 512)\n"
     ]
    },
    {
     "name": "stderr",
     "output_type": "stream",
     "text": [
      "\r",
      " 91%|█████████████████████████████████████████████████████████████████████████▋       | 915/1006 [1:13:13<08:43,  5.75s/it]"
     ]
    },
    {
     "name": "stdout",
     "output_type": "stream",
     "text": [
      "Image download: ../Data/exports/ndvi/2019-08-08-2019-09-05--121.412333-39.470333_ndvi_bw.tif (512, 512)\n",
      "Image download: ../Data/exports/tc/2019-08-09-2019-09-06--122.662258-41.862237_tc.tif (512, 512)\n"
     ]
    },
    {
     "name": "stderr",
     "output_type": "stream",
     "text": [
      "\r",
      " 91%|█████████████████████████████████████████████████████████████████████████▊       | 916/1006 [1:13:18<08:18,  5.53s/it]"
     ]
    },
    {
     "name": "stdout",
     "output_type": "stream",
     "text": [
      "Image download: ../Data/exports/ndvi/2019-08-09-2019-09-06--122.662258-41.862237_ndvi_bw.tif (512, 512)\n",
      "Image download: ../Data/exports/tc/2019-08-09-2019-09-06--123.2129356-41.4929742_tc.tif (512, 512)\n"
     ]
    },
    {
     "name": "stderr",
     "output_type": "stream",
     "text": [
      "\r",
      " 91%|█████████████████████████████████████████████████████████████████████████▊       | 917/1006 [1:13:25<08:39,  5.83s/it]"
     ]
    },
    {
     "name": "stdout",
     "output_type": "stream",
     "text": [
      "Image download: ../Data/exports/ndvi/2019-08-09-2019-09-06--123.2129356-41.4929742_ndvi_bw.tif (512, 512)\n",
      "Image download: ../Data/exports/tc/2019-08-09-2019-09-06--122.634108-41.150392_tc.tif (512, 512)\n"
     ]
    },
    {
     "name": "stderr",
     "output_type": "stream",
     "text": [
      "\r",
      " 91%|█████████████████████████████████████████████████████████████████████████▉       | 918/1006 [1:13:29<08:00,  5.46s/it]"
     ]
    },
    {
     "name": "stdout",
     "output_type": "stream",
     "text": [
      "Image download: ../Data/exports/ndvi/2019-08-09-2019-09-06--122.634108-41.150392_ndvi_bw.tif (512, 512)\n",
      "Image download: ../Data/exports/tc/2019-08-09-2019-09-06--122.833831-38.955024_tc.tif (512, 512)\n"
     ]
    },
    {
     "name": "stderr",
     "output_type": "stream",
     "text": [
      "\r",
      " 91%|█████████████████████████████████████████████████████████████████████████▉       | 919/1006 [1:13:35<07:49,  5.40s/it]"
     ]
    },
    {
     "name": "stdout",
     "output_type": "stream",
     "text": [
      "Image download: ../Data/exports/ndvi/2019-08-09-2019-09-06--122.833831-38.955024_ndvi_bw.tif (512, 512)\n",
      "Image download: ../Data/exports/tc/2019-08-09-2019-09-06--121.412619-39.45296_tc.tif (512, 512)\n"
     ]
    },
    {
     "name": "stderr",
     "output_type": "stream",
     "text": [
      "\r",
      " 91%|██████████████████████████████████████████████████████████████████████████       | 920/1006 [1:13:39<07:12,  5.03s/it]"
     ]
    },
    {
     "name": "stdout",
     "output_type": "stream",
     "text": [
      "Image download: ../Data/exports/ndvi/2019-08-09-2019-09-06--121.412619-39.45296_ndvi_bw.tif (512, 512)\n",
      "Image download: ../Data/exports/tc/2019-08-09-2019-09-06--122.740333-41.512917_tc.tif (512, 512)\n"
     ]
    },
    {
     "name": "stderr",
     "output_type": "stream",
     "text": [
      "\r",
      " 92%|██████████████████████████████████████████████████████████████████████████▏      | 921/1006 [1:13:44<07:04,  5.00s/it]"
     ]
    },
    {
     "name": "stdout",
     "output_type": "stream",
     "text": [
      "Image download: ../Data/exports/ndvi/2019-08-09-2019-09-06--122.740333-41.512917_ndvi_bw.tif (512, 512)\n",
      "Image download: ../Data/exports/tc/2019-08-09-2019-09-06--117.3063-33.9369_tc.tif (512, 512)\n"
     ]
    },
    {
     "name": "stderr",
     "output_type": "stream",
     "text": [
      "\r",
      " 92%|██████████████████████████████████████████████████████████████████████████▏      | 922/1006 [1:13:49<06:54,  4.94s/it]"
     ]
    },
    {
     "name": "stdout",
     "output_type": "stream",
     "text": [
      "Image download: ../Data/exports/ndvi/2019-08-09-2019-09-06--117.3063-33.9369_ndvi_bw.tif (512, 512)\n",
      "Image download: ../Data/exports/tc/2019-08-11-2019-09-08--120.187368-34.630919_tc.tif (512, 512)\n"
     ]
    },
    {
     "name": "stderr",
     "output_type": "stream",
     "text": [
      "\r",
      " 92%|██████████████████████████████████████████████████████████████████████████▎      | 923/1006 [1:13:53<06:47,  4.91s/it]"
     ]
    },
    {
     "name": "stdout",
     "output_type": "stream",
     "text": [
      "Image download: ../Data/exports/ndvi/2019-08-11-2019-09-08--120.187368-34.630919_ndvi_bw.tif (512, 512)\n",
      "Image download: ../Data/exports/tc/2019-08-12-2019-09-09--116.631106-33.496633_tc.tif (512, 512)\n"
     ]
    },
    {
     "name": "stderr",
     "output_type": "stream",
     "text": [
      "\r",
      " 92%|██████████████████████████████████████████████████████████████████████████▍      | 924/1006 [1:13:59<06:56,  5.08s/it]"
     ]
    },
    {
     "name": "stdout",
     "output_type": "stream",
     "text": [
      "Image download: ../Data/exports/ndvi/2019-08-12-2019-09-09--116.631106-33.496633_ndvi_bw.tif (512, 512)\n",
      "Image download: ../Data/exports/tc/2019-08-13-2019-09-10--121.110146-37.32585_tc.tif (512, 512)\n"
     ]
    },
    {
     "name": "stderr",
     "output_type": "stream",
     "text": [
      "\r",
      " 92%|██████████████████████████████████████████████████████████████████████████▍      | 925/1006 [1:14:05<07:10,  5.32s/it]"
     ]
    },
    {
     "name": "stdout",
     "output_type": "stream",
     "text": [
      "Image download: ../Data/exports/ndvi/2019-08-13-2019-09-10--121.110146-37.32585_ndvi_bw.tif (512, 512)\n",
      "Image download: ../Data/exports/tc/2019-08-14-2019-09-11--117.270144-33.854597_tc.tif (512, 512)\n"
     ]
    },
    {
     "name": "stderr",
     "output_type": "stream",
     "text": [
      "\r",
      " 92%|██████████████████████████████████████████████████████████████████████████▌      | 926/1006 [1:14:10<06:53,  5.16s/it]"
     ]
    },
    {
     "name": "stdout",
     "output_type": "stream",
     "text": [
      "Image download: ../Data/exports/ndvi/2019-08-14-2019-09-11--117.270144-33.854597_ndvi_bw.tif (512, 512)\n",
      "Image download: ../Data/exports/tc/2019-08-15-2019-09-12--120.401028-37.492002_tc.tif (512, 512)\n"
     ]
    },
    {
     "name": "stderr",
     "output_type": "stream",
     "text": [
      "\r",
      " 92%|██████████████████████████████████████████████████████████████████████████▋      | 927/1006 [1:14:16<07:14,  5.50s/it]"
     ]
    },
    {
     "name": "stdout",
     "output_type": "stream",
     "text": [
      "Image download: ../Data/exports/ndvi/2019-08-15-2019-09-12--120.401028-37.492002_ndvi_bw.tif (512, 512)\n",
      "Image download: ../Data/exports/tc/2019-08-16-2019-09-13--117.043723-33.4853_tc.tif (512, 512)\n"
     ]
    },
    {
     "name": "stderr",
     "output_type": "stream",
     "text": [
      "\r",
      " 92%|██████████████████████████████████████████████████████████████████████████▋      | 928/1006 [1:14:22<07:14,  5.57s/it]"
     ]
    },
    {
     "name": "stdout",
     "output_type": "stream",
     "text": [
      "Image download: ../Data/exports/ndvi/2019-08-16-2019-09-13--117.043723-33.4853_ndvi_bw.tif (512, 512)\n",
      "Image download: ../Data/exports/tc/2019-08-17-2019-09-14--123.000833-41.749667_tc.tif (512, 512)\n"
     ]
    },
    {
     "name": "stderr",
     "output_type": "stream",
     "text": [
      "\r",
      " 92%|██████████████████████████████████████████████████████████████████████████▊      | 929/1006 [1:14:26<06:54,  5.38s/it]"
     ]
    },
    {
     "name": "stdout",
     "output_type": "stream",
     "text": [
      "Image download: ../Data/exports/ndvi/2019-08-17-2019-09-14--123.000833-41.749667_ndvi_bw.tif (512, 512)\n",
      "Image download: ../Data/exports/tc/2019-08-17-2019-09-14--116.801111-33.635_tc.tif (512, 512)\n"
     ]
    },
    {
     "name": "stderr",
     "output_type": "stream",
     "text": [
      "\r",
      " 92%|██████████████████████████████████████████████████████████████████████████▉      | 930/1006 [1:14:32<06:49,  5.39s/it]"
     ]
    },
    {
     "name": "stdout",
     "output_type": "stream",
     "text": [
      "Image download: ../Data/exports/ndvi/2019-08-17-2019-09-14--116.801111-33.635_ndvi_bw.tif (512, 512)\n",
      "Image download: ../Data/exports/tc/2019-08-22-2019-09-19--121.432636-38.751648_tc.tif (512, 512)\n"
     ]
    },
    {
     "name": "stderr",
     "output_type": "stream",
     "text": [
      "\r",
      " 93%|██████████████████████████████████████████████████████████████████████████▉      | 931/1006 [1:14:38<06:50,  5.48s/it]"
     ]
    },
    {
     "name": "stdout",
     "output_type": "stream",
     "text": [
      "Image download: ../Data/exports/ndvi/2019-08-22-2019-09-19--121.432636-38.751648_ndvi_bw.tif (512, 512)\n",
      "Image download: ../Data/exports/tc/2019-08-23-2019-09-20--121.842751-37.467744_tc.tif (512, 512)\n"
     ]
    },
    {
     "name": "stderr",
     "output_type": "stream",
     "text": [
      "\r",
      " 93%|███████████████████████████████████████████████████████████████████████████      | 932/1006 [1:14:42<06:28,  5.26s/it]"
     ]
    },
    {
     "name": "stdout",
     "output_type": "stream",
     "text": [
      "Image download: ../Data/exports/ndvi/2019-08-23-2019-09-20--121.842751-37.467744_ndvi_bw.tif (512, 512)\n",
      "Image download: ../Data/exports/tc/2019-08-23-2019-09-20--120.455883-35.214364_tc.tif (512, 512)\n"
     ]
    },
    {
     "name": "stderr",
     "output_type": "stream",
     "text": [
      "\r",
      " 93%|███████████████████████████████████████████████████████████████████████████      | 933/1006 [1:14:48<06:28,  5.32s/it]"
     ]
    },
    {
     "name": "stdout",
     "output_type": "stream",
     "text": [
      "Image download: ../Data/exports/ndvi/2019-08-23-2019-09-20--120.455883-35.214364_ndvi_bw.tif (512, 512)\n",
      "Image download: ../Data/exports/tc/2019-08-23-2019-09-20--117.170588-33.900994_tc.tif (512, 512)\n"
     ]
    },
    {
     "name": "stderr",
     "output_type": "stream",
     "text": [
      "\r",
      " 93%|███████████████████████████████████████████████████████████████████████████▏     | 934/1006 [1:14:52<06:05,  5.07s/it]"
     ]
    },
    {
     "name": "stdout",
     "output_type": "stream",
     "text": [
      "Image download: ../Data/exports/ndvi/2019-08-23-2019-09-20--117.170588-33.900994_ndvi_bw.tif (512, 512)\n",
      "Image download: ../Data/exports/tc/2019-08-24-2019-09-21--120.827386-38.20177_tc.tif (512, 512)\n"
     ]
    },
    {
     "name": "stderr",
     "output_type": "stream",
     "text": [
      "\r",
      " 93%|███████████████████████████████████████████████████████████████████████████▎     | 935/1006 [1:14:59<06:27,  5.45s/it]"
     ]
    },
    {
     "name": "stdout",
     "output_type": "stream",
     "text": [
      "Image download: ../Data/exports/ndvi/2019-08-24-2019-09-21--120.827386-38.20177_ndvi_bw.tif (512, 512)\n",
      "Image download: ../Data/exports/tc/2019-08-25-2019-09-22--120.625556-37.838333_tc.tif (512, 512)\n"
     ]
    },
    {
     "name": "stderr",
     "output_type": "stream",
     "text": [
      "\r",
      " 93%|███████████████████████████████████████████████████████████████████████████▎     | 936/1006 [1:15:07<07:20,  6.30s/it]"
     ]
    },
    {
     "name": "stdout",
     "output_type": "stream",
     "text": [
      "Image download: ../Data/exports/ndvi/2019-08-25-2019-09-22--120.625556-37.838333_ndvi_bw.tif (512, 512)\n",
      "Image download: ../Data/exports/tc/2019-08-26-2019-09-23--122.039167-40.612556_tc.tif (512, 512)\n"
     ]
    },
    {
     "name": "stderr",
     "output_type": "stream",
     "text": [
      "\r",
      " 93%|███████████████████████████████████████████████████████████████████████████▍     | 937/1006 [1:15:16<08:11,  7.12s/it]"
     ]
    },
    {
     "name": "stdout",
     "output_type": "stream",
     "text": [
      "Image download: ../Data/exports/ndvi/2019-08-26-2019-09-23--122.039167-40.612556_ndvi_bw.tif (512, 512)\n",
      "Image download: ../Data/exports/tc/2019-08-26-2019-09-23--116.806941-32.787656_tc.tif (512, 512)\n"
     ]
    },
    {
     "name": "stderr",
     "output_type": "stream",
     "text": [
      "\r",
      " 93%|███████████████████████████████████████████████████████████████████████████▌     | 938/1006 [1:15:21<07:29,  6.62s/it]"
     ]
    },
    {
     "name": "stdout",
     "output_type": "stream",
     "text": [
      "Image download: ../Data/exports/ndvi/2019-08-26-2019-09-23--116.806941-32.787656_ndvi_bw.tif (512, 512)\n",
      "Image download: ../Data/exports/tc/2019-08-27-2019-09-24--120.67131-38.332083_tc.tif (512, 512)\n"
     ]
    },
    {
     "name": "stderr",
     "output_type": "stream",
     "text": [
      "\r",
      " 93%|███████████████████████████████████████████████████████████████████████████▌     | 939/1006 [1:15:28<07:21,  6.59s/it]"
     ]
    },
    {
     "name": "stdout",
     "output_type": "stream",
     "text": [
      "Image download: ../Data/exports/ndvi/2019-08-27-2019-09-24--120.67131-38.332083_ndvi_bw.tif (512, 512)\n",
      "Image download: ../Data/exports/tc/2019-08-27-2019-09-24--116.88-32.87833333_tc.tif (512, 512)\n"
     ]
    },
    {
     "name": "stderr",
     "output_type": "stream",
     "text": [
      "\r",
      " 93%|███████████████████████████████████████████████████████████████████████████▋     | 940/1006 [1:15:34<07:14,  6.58s/it]"
     ]
    },
    {
     "name": "stdout",
     "output_type": "stream",
     "text": [
      "Image download: ../Data/exports/ndvi/2019-08-27-2019-09-24--116.88-32.87833333_ndvi_bw.tif (512, 512)\n",
      "Image download: ../Data/exports/tc/2019-08-28-2019-09-25--122.25611111-38.07944444_tc.tif (512, 512)\n"
     ]
    },
    {
     "name": "stderr",
     "output_type": "stream",
     "text": [
      "\r",
      " 94%|███████████████████████████████████████████████████████████████████████████▊     | 941/1006 [1:15:39<06:33,  6.05s/it]"
     ]
    },
    {
     "name": "stdout",
     "output_type": "stream",
     "text": [
      "Image download: ../Data/exports/ndvi/2019-08-28-2019-09-25--122.25611111-38.07944444_ndvi_bw.tif (512, 512)\n",
      "Image download: ../Data/exports/tc/2019-08-30-2019-09-27--121.693472-39.622137_tc.tif (512, 512)\n"
     ]
    },
    {
     "name": "stderr",
     "output_type": "stream",
     "text": [
      "\r",
      " 94%|███████████████████████████████████████████████████████████████████████████▊     | 942/1006 [1:15:44<05:59,  5.62s/it]"
     ]
    },
    {
     "name": "stdout",
     "output_type": "stream",
     "text": [
      "Image download: ../Data/exports/ndvi/2019-08-30-2019-09-27--121.693472-39.622137_ndvi_bw.tif (512, 512)\n",
      "Image download: ../Data/exports/tc/2019-08-31-2019-09-28--120.965105-38.538467_tc.tif (512, 512)\n"
     ]
    },
    {
     "name": "stderr",
     "output_type": "stream",
     "text": [
      "\r",
      " 94%|███████████████████████████████████████████████████████████████████████████▉     | 943/1006 [1:15:49<05:36,  5.35s/it]"
     ]
    },
    {
     "name": "stdout",
     "output_type": "stream",
     "text": [
      "Image download: ../Data/exports/ndvi/2019-08-31-2019-09-28--120.965105-38.538467_ndvi_bw.tif (512, 512)\n",
      "Image download: ../Data/exports/tc/2019-09-01-2019-09-29--117.033598-33.703546_tc.tif (512, 512)\n"
     ]
    },
    {
     "name": "stderr",
     "output_type": "stream",
     "text": [
      "\r",
      " 94%|████████████████████████████████████████████████████████████████████████████     | 944/1006 [1:15:54<05:36,  5.43s/it]"
     ]
    },
    {
     "name": "stdout",
     "output_type": "stream",
     "text": [
      "Image download: ../Data/exports/ndvi/2019-09-01-2019-09-29--117.033598-33.703546_ndvi_bw.tif (512, 512)\n",
      "Image download: ../Data/exports/tc/2019-09-01-2019-09-29--120.634179-36.154184_tc.tif (512, 512)\n"
     ]
    },
    {
     "name": "stderr",
     "output_type": "stream",
     "text": [
      "\r",
      " 94%|████████████████████████████████████████████████████████████████████████████     | 945/1006 [1:16:00<05:37,  5.53s/it]"
     ]
    },
    {
     "name": "stdout",
     "output_type": "stream",
     "text": [
      "Image download: ../Data/exports/ndvi/2019-09-01-2019-09-29--120.634179-36.154184_ndvi_bw.tif (512, 512)\n",
      "Image download: ../Data/exports/tc/2019-09-02-2019-09-30--120.1755-35.189783_tc.tif (512, 512)\n"
     ]
    },
    {
     "name": "stderr",
     "output_type": "stream",
     "text": [
      "\r",
      " 94%|████████████████████████████████████████████████████████████████████████████▏    | 946/1006 [1:16:07<06:00,  6.01s/it]"
     ]
    },
    {
     "name": "stdout",
     "output_type": "stream",
     "text": [
      "Image download: ../Data/exports/ndvi/2019-09-02-2019-09-30--120.1755-35.189783_ndvi_bw.tif (512, 512)\n",
      "Image download: ../Data/exports/tc/2019-09-04-2019-10-02--121.336465-37.429506_tc.tif (512, 512)\n"
     ]
    },
    {
     "name": "stderr",
     "output_type": "stream",
     "text": [
      "\r",
      " 94%|████████████████████████████████████████████████████████████████████████████▏    | 947/1006 [1:16:12<05:30,  5.60s/it]"
     ]
    },
    {
     "name": "stdout",
     "output_type": "stream",
     "text": [
      "Image download: ../Data/exports/ndvi/2019-09-04-2019-10-02--121.336465-37.429506_ndvi_bw.tif (512, 512)\n",
      "Image download: ../Data/exports/tc/2019-09-05-2019-10-03--123.4375-41.70611111_tc.tif (512, 512)\n"
     ]
    },
    {
     "name": "stderr",
     "output_type": "stream",
     "text": [
      "\r",
      " 94%|████████████████████████████████████████████████████████████████████████████▎    | 948/1006 [1:16:16<05:05,  5.27s/it]"
     ]
    },
    {
     "name": "stdout",
     "output_type": "stream",
     "text": [
      "Image download: ../Data/exports/ndvi/2019-09-05-2019-10-03--123.4375-41.70611111_ndvi_bw.tif (512, 512)\n",
      "Image download: ../Data/exports/tc/2019-09-05-2019-10-03--123.458782-39.613783_tc.tif (512, 512)\n"
     ]
    },
    {
     "name": "stderr",
     "output_type": "stream",
     "text": [
      "\r",
      " 94%|████████████████████████████████████████████████████████████████████████████▍    | 949/1006 [1:16:21<04:50,  5.09s/it]"
     ]
    },
    {
     "name": "stdout",
     "output_type": "stream",
     "text": [
      "Image download: ../Data/exports/ndvi/2019-09-05-2019-10-03--123.458782-39.613783_ndvi_bw.tif (512, 512)\n",
      "Image download: ../Data/exports/tc/2019-09-07-2019-10-05--119.96606-37.604638_tc.tif (512, 512)\n"
     ]
    },
    {
     "name": "stderr",
     "output_type": "stream",
     "text": [
      "\r",
      " 94%|████████████████████████████████████████████████████████████████████████████▍    | 950/1006 [1:16:27<05:00,  5.37s/it]"
     ]
    },
    {
     "name": "stdout",
     "output_type": "stream",
     "text": [
      "Image download: ../Data/exports/ndvi/2019-09-07-2019-10-05--119.96606-37.604638_ndvi_bw.tif (512, 512)\n",
      "Image download: ../Data/exports/tc/2019-09-07-2019-10-05--122.211671-38.165873_tc.tif (512, 512)\n"
     ]
    },
    {
     "name": "stderr",
     "output_type": "stream",
     "text": [
      "\r",
      " 95%|████████████████████████████████████████████████████████████████████████████▌    | 951/1006 [1:16:32<04:44,  5.17s/it]"
     ]
    },
    {
     "name": "stdout",
     "output_type": "stream",
     "text": [
      "Image download: ../Data/exports/ndvi/2019-09-07-2019-10-05--122.211671-38.165873_ndvi_bw.tif (512, 512)\n",
      "Image download: ../Data/exports/tc/2019-09-08-2019-10-06--121.219163-37.066483_tc.tif (512, 512)\n"
     ]
    },
    {
     "name": "stderr",
     "output_type": "stream",
     "text": [
      "\r",
      " 95%|████████████████████████████████████████████████████████████████████████████▋    | 952/1006 [1:16:37<04:35,  5.09s/it]"
     ]
    },
    {
     "name": "stdout",
     "output_type": "stream",
     "text": [
      "Image download: ../Data/exports/ndvi/2019-09-08-2019-10-06--121.219163-37.066483_ndvi_bw.tif (512, 512)\n",
      "Image download: ../Data/exports/tc/2019-09-08-2019-10-06--122.070055-40.314187_tc.tif (512, 512)\n"
     ]
    },
    {
     "name": "stderr",
     "output_type": "stream",
     "text": [
      "\r",
      " 95%|████████████████████████████████████████████████████████████████████████████▋    | 953/1006 [1:16:42<04:36,  5.21s/it]"
     ]
    },
    {
     "name": "stdout",
     "output_type": "stream",
     "text": [
      "Image download: ../Data/exports/ndvi/2019-09-08-2019-10-06--122.070055-40.314187_ndvi_bw.tif (512, 512)\n",
      "Image download: ../Data/exports/tc/2019-09-09-2019-10-07--121.853-37.606_tc.tif (512, 512)\n"
     ]
    },
    {
     "name": "stderr",
     "output_type": "stream",
     "text": [
      "\r",
      " 95%|████████████████████████████████████████████████████████████████████████████▊    | 954/1006 [1:16:48<04:36,  5.31s/it]"
     ]
    },
    {
     "name": "stdout",
     "output_type": "stream",
     "text": [
      "Image download: ../Data/exports/ndvi/2019-09-09-2019-10-07--121.853-37.606_ndvi_bw.tif (512, 512)\n",
      "Image download: ../Data/exports/tc/2019-09-10-2019-10-08--120.73102-35.79069_tc.tif (512, 512)\n"
     ]
    },
    {
     "name": "stderr",
     "output_type": "stream",
     "text": [
      "\r",
      " 95%|████████████████████████████████████████████████████████████████████████████▉    | 955/1006 [1:16:54<04:47,  5.64s/it]"
     ]
    },
    {
     "name": "stdout",
     "output_type": "stream",
     "text": [
      "Image download: ../Data/exports/ndvi/2019-09-10-2019-10-08--120.73102-35.79069_ndvi_bw.tif (512, 512)\n",
      "Image download: ../Data/exports/tc/2019-09-10-2019-10-08--120.73102-35.79069_tc.tif (512, 512)\n"
     ]
    },
    {
     "name": "stderr",
     "output_type": "stream",
     "text": [
      "\r",
      " 95%|████████████████████████████████████████████████████████████████████████████▉    | 956/1006 [1:16:59<04:39,  5.59s/it]"
     ]
    },
    {
     "name": "stdout",
     "output_type": "stream",
     "text": [
      "Image download: ../Data/exports/ndvi/2019-09-10-2019-10-08--120.73102-35.79069_ndvi_bw.tif (512, 512)\n",
      "Image download: ../Data/exports/tc/2019-09-10-2019-10-08--122.1604-39.847708_tc.tif (512, 512)\n"
     ]
    },
    {
     "name": "stderr",
     "output_type": "stream",
     "text": [
      "\r",
      " 95%|█████████████████████████████████████████████████████████████████████████████    | 957/1006 [1:17:05<04:34,  5.61s/it]"
     ]
    },
    {
     "name": "stdout",
     "output_type": "stream",
     "text": [
      "Image download: ../Data/exports/ndvi/2019-09-10-2019-10-08--122.1604-39.847708_ndvi_bw.tif (512, 512)\n",
      "Image download: ../Data/exports/tc/2019-09-10-2019-10-08--122.160416-39.847708_tc.tif (512, 512)\n"
     ]
    },
    {
     "name": "stderr",
     "output_type": "stream",
     "text": [
      "\r",
      " 95%|█████████████████████████████████████████████████████████████████████████████▏   | 958/1006 [1:17:10<04:21,  5.45s/it]"
     ]
    },
    {
     "name": "stdout",
     "output_type": "stream",
     "text": [
      "Image download: ../Data/exports/ndvi/2019-09-10-2019-10-08--122.160416-39.847708_ndvi_bw.tif (512, 512)\n",
      "Image download: ../Data/exports/tc/2019-09-11-2019-10-09--122.103867-37.828267_tc.tif (512, 512)\n"
     ]
    },
    {
     "name": "stderr",
     "output_type": "stream",
     "text": [
      "\r",
      " 95%|█████████████████████████████████████████████████████████████████████████████▏   | 959/1006 [1:17:15<04:02,  5.17s/it]"
     ]
    },
    {
     "name": "stdout",
     "output_type": "stream",
     "text": [
      "Image download: ../Data/exports/ndvi/2019-09-11-2019-10-09--122.103867-37.828267_ndvi_bw.tif (512, 512)\n",
      "Image download: ../Data/exports/tc/2019-09-11-2019-10-09--117.499619-33.827979_tc.tif (512, 512)\n"
     ]
    },
    {
     "name": "stderr",
     "output_type": "stream",
     "text": [
      "\r",
      " 95%|█████████████████████████████████████████████████████████████████████████████▎   | 960/1006 [1:17:19<03:48,  4.98s/it]"
     ]
    },
    {
     "name": "stdout",
     "output_type": "stream",
     "text": [
      "Image download: ../Data/exports/ndvi/2019-09-11-2019-10-09--117.499619-33.827979_ndvi_bw.tif (512, 512)\n",
      "Image download: ../Data/exports/tc/2019-09-11-2019-10-09--117.207068-33.975405_tc.tif (512, 512)\n"
     ]
    },
    {
     "name": "stderr",
     "output_type": "stream",
     "text": [
      "\r",
      " 96%|█████████████████████████████████████████████████████████████████████████████▍   | 961/1006 [1:17:24<03:39,  4.88s/it]"
     ]
    },
    {
     "name": "stdout",
     "output_type": "stream",
     "text": [
      "Image download: ../Data/exports/ndvi/2019-09-11-2019-10-09--117.207068-33.975405_ndvi_bw.tif (512, 512)\n",
      "Image download: ../Data/exports/tc/2019-09-11-2019-10-09--117.059167-33.9925_tc.tif (512, 512)\n"
     ]
    },
    {
     "name": "stderr",
     "output_type": "stream",
     "text": [
      "\r",
      " 96%|█████████████████████████████████████████████████████████████████████████████▍   | 962/1006 [1:17:29<03:40,  5.02s/it]"
     ]
    },
    {
     "name": "stdout",
     "output_type": "stream",
     "text": [
      "Image download: ../Data/exports/ndvi/2019-09-11-2019-10-09--117.059167-33.9925_ndvi_bw.tif (512, 512)\n",
      "Image download: ../Data/exports/tc/2019-09-11-2019-10-09--122.19911-40.4988_tc.tif (512, 512)\n"
     ]
    },
    {
     "name": "stderr",
     "output_type": "stream",
     "text": [
      "\r",
      " 96%|█████████████████████████████████████████████████████████████████████████████▌   | 963/1006 [1:17:36<03:58,  5.56s/it]"
     ]
    },
    {
     "name": "stdout",
     "output_type": "stream",
     "text": [
      "Image download: ../Data/exports/ndvi/2019-09-11-2019-10-09--122.19911-40.4988_ndvi_bw.tif (512, 512)\n",
      "Image download: ../Data/exports/tc/2019-09-11-2019-10-09--116.897333-33.8615_tc.tif (512, 512)\n"
     ]
    },
    {
     "name": "stderr",
     "output_type": "stream",
     "text": [
      "\r",
      " 96%|█████████████████████████████████████████████████████████████████████████████▌   | 964/1006 [1:17:43<04:09,  5.94s/it]"
     ]
    },
    {
     "name": "stdout",
     "output_type": "stream",
     "text": [
      "Image download: ../Data/exports/ndvi/2019-09-11-2019-10-09--116.897333-33.8615_ndvi_bw.tif (512, 512)\n",
      "Image download: ../Data/exports/tc/2019-09-11-2019-10-09--118.48161-34.32988_tc.tif (512, 512)\n"
     ]
    },
    {
     "name": "stderr",
     "output_type": "stream",
     "text": [
      "\r",
      " 96%|█████████████████████████████████████████████████████████████████████████████▋   | 965/1006 [1:17:48<03:56,  5.76s/it]"
     ]
    },
    {
     "name": "stdout",
     "output_type": "stream",
     "text": [
      "Image download: ../Data/exports/ndvi/2019-09-11-2019-10-09--118.48161-34.32988_ndvi_bw.tif (512, 512)\n",
      "Image download: ../Data/exports/tc/2019-09-11-2019-10-09--118.950833-34.156389_tc.tif (512, 512)\n"
     ]
    },
    {
     "name": "stderr",
     "output_type": "stream",
     "text": [
      "\r",
      " 96%|█████████████████████████████████████████████████████████████████████████████▊   | 966/1006 [1:17:53<03:38,  5.47s/it]"
     ]
    },
    {
     "name": "stdout",
     "output_type": "stream",
     "text": [
      "Image download: ../Data/exports/ndvi/2019-09-11-2019-10-09--118.950833-34.156389_ndvi_bw.tif (512, 512)\n",
      "Image download: ../Data/exports/tc/2019-09-12-2019-10-10--120.312856-35.709176_tc.tif (512, 512)\n"
     ]
    },
    {
     "name": "stderr",
     "output_type": "stream",
     "text": [
      "\r",
      " 96%|█████████████████████████████████████████████████████████████████████████████▊   | 967/1006 [1:17:59<03:39,  5.63s/it]"
     ]
    },
    {
     "name": "stdout",
     "output_type": "stream",
     "text": [
      "Image download: ../Data/exports/ndvi/2019-09-12-2019-10-10--120.312856-35.709176_ndvi_bw.tif (512, 512)\n",
      "Image download: ../Data/exports/tc/2019-09-12-2019-10-10--120.145-38.724_tc.tif (512, 512)\n"
     ]
    },
    {
     "name": "stderr",
     "output_type": "stream",
     "text": [
      "\r",
      " 96%|█████████████████████████████████████████████████████████████████████████████▉   | 968/1006 [1:18:07<04:03,  6.42s/it]"
     ]
    },
    {
     "name": "stdout",
     "output_type": "stream",
     "text": [
      "Image download: ../Data/exports/ndvi/2019-09-12-2019-10-10--120.145-38.724_ndvi_bw.tif (512, 512)\n",
      "Image download: ../Data/exports/tc/2019-09-12-2019-10-10--119.20187-34.23955_tc.tif (512, 512)\n"
     ]
    },
    {
     "name": "stderr",
     "output_type": "stream",
     "text": [
      "\r",
      " 96%|██████████████████████████████████████████████████████████████████████████████   | 969/1006 [1:18:14<03:59,  6.47s/it]"
     ]
    },
    {
     "name": "stdout",
     "output_type": "stream",
     "text": [
      "Image download: ../Data/exports/ndvi/2019-09-12-2019-10-10--119.20187-34.23955_ndvi_bw.tif (512, 512)\n",
      "Image download: ../Data/exports/tc/2019-09-14-2019-10-12--120.304341-40.387772_tc.tif (512, 512)\n"
     ]
    },
    {
     "name": "stderr",
     "output_type": "stream",
     "text": [
      "\r",
      " 96%|██████████████████████████████████████████████████████████████████████████████   | 970/1006 [1:18:19<03:43,  6.19s/it]"
     ]
    },
    {
     "name": "stdout",
     "output_type": "stream",
     "text": [
      "Image download: ../Data/exports/ndvi/2019-09-14-2019-10-12--120.304341-40.387772_ndvi_bw.tif (512, 512)\n",
      "Image download: ../Data/exports/tc/2019-09-15-2019-10-13--116.05898-33.45148_tc.tif (512, 512)\n"
     ]
    },
    {
     "name": "stderr",
     "output_type": "stream",
     "text": [
      "\r",
      " 97%|██████████████████████████████████████████████████████████████████████████████▏  | 971/1006 [1:18:24<03:22,  5.79s/it]"
     ]
    },
    {
     "name": "stdout",
     "output_type": "stream",
     "text": [
      "Image download: ../Data/exports/ndvi/2019-09-15-2019-10-13--116.05898-33.45148_ndvi_bw.tif (512, 512)\n",
      "Image download: ../Data/exports/tc/2019-09-16-2019-10-14--122.245186-38.045866_tc.tif (512, 512)\n"
     ]
    },
    {
     "name": "stderr",
     "output_type": "stream",
     "text": [
      "\r",
      " 97%|██████████████████████████████████████████████████████████████████████████████▎  | 972/1006 [1:18:29<03:07,  5.52s/it]"
     ]
    },
    {
     "name": "stdout",
     "output_type": "stream",
     "text": [
      "Image download: ../Data/exports/ndvi/2019-09-16-2019-10-14--122.245186-38.045866_ndvi_bw.tif (512, 512)\n",
      "Image download: ../Data/exports/tc/2019-09-16-2019-10-14--117.097441-32.762706_tc.tif (512, 512)\n"
     ]
    },
    {
     "name": "stderr",
     "output_type": "stream",
     "text": [
      "\r",
      " 97%|██████████████████████████████████████████████████████████████████████████████▎  | 973/1006 [1:18:34<02:59,  5.44s/it]"
     ]
    },
    {
     "name": "stdout",
     "output_type": "stream",
     "text": [
      "Image download: ../Data/exports/ndvi/2019-09-16-2019-10-14--117.097441-32.762706_ndvi_bw.tif (512, 512)\n",
      "Image download: ../Data/exports/tc/2019-09-18-2019-10-16--120.190833-34.484722_tc.tif (512, 512)\n"
     ]
    },
    {
     "name": "stderr",
     "output_type": "stream",
     "text": [
      "\r",
      " 97%|██████████████████████████████████████████████████████████████████████████████▍  | 974/1006 [1:18:40<02:59,  5.61s/it]"
     ]
    },
    {
     "name": "stdout",
     "output_type": "stream",
     "text": [
      "Image download: ../Data/exports/ndvi/2019-09-18-2019-10-16--120.190833-34.484722_ndvi_bw.tif (512, 512)\n",
      "Image download: ../Data/exports/tc/2019-09-18-2019-10-16--122.604425-38.88913_tc.tif (512, 512)\n"
     ]
    },
    {
     "name": "stderr",
     "output_type": "stream",
     "text": [
      "\r",
      " 97%|██████████████████████████████████████████████████████████████████████████████▌  | 975/1006 [1:18:45<02:46,  5.37s/it]"
     ]
    },
    {
     "name": "stdout",
     "output_type": "stream",
     "text": [
      "Image download: ../Data/exports/ndvi/2019-09-18-2019-10-16--122.604425-38.88913_ndvi_bw.tif (512, 512)\n",
      "Image download: ../Data/exports/tc/2019-09-19-2019-10-17--120.460189-36.319291_tc.tif (512, 512)\n"
     ]
    },
    {
     "name": "stderr",
     "output_type": "stream",
     "text": [
      "\r",
      " 97%|██████████████████████████████████████████████████████████████████████████████▌  | 976/1006 [1:18:50<02:31,  5.06s/it]"
     ]
    },
    {
     "name": "stdout",
     "output_type": "stream",
     "text": [
      "Image download: ../Data/exports/ndvi/2019-09-19-2019-10-17--120.460189-36.319291_ndvi_bw.tif (512, 512)\n",
      "Image download: ../Data/exports/tc/2019-09-22-2019-10-20--117.21545-34.033117_tc.tif (512, 512)\n"
     ]
    },
    {
     "name": "stderr",
     "output_type": "stream",
     "text": [
      "\r",
      " 97%|██████████████████████████████████████████████████████████████████████████████▋  | 977/1006 [1:18:54<02:19,  4.82s/it]"
     ]
    },
    {
     "name": "stdout",
     "output_type": "stream",
     "text": [
      "Image download: ../Data/exports/ndvi/2019-09-22-2019-10-20--117.21545-34.033117_ndvi_bw.tif (512, 512)\n",
      "Image download: ../Data/exports/tc/2019-09-22-2019-10-20--118.554091-34.055768_tc.tif (512, 512)\n"
     ]
    },
    {
     "name": "stderr",
     "output_type": "stream",
     "text": [
      "\r",
      " 97%|██████████████████████████████████████████████████████████████████████████████▋  | 978/1006 [1:18:58<02:09,  4.61s/it]"
     ]
    },
    {
     "name": "stdout",
     "output_type": "stream",
     "text": [
      "Image download: ../Data/exports/ndvi/2019-09-22-2019-10-20--118.554091-34.055768_ndvi_bw.tif (512, 512)\n",
      "Image download: ../Data/exports/tc/2019-09-23-2019-10-21--117.403719-33.351145_tc.tif (512, 512)\n"
     ]
    },
    {
     "name": "stderr",
     "output_type": "stream",
     "text": [
      "\r",
      " 97%|██████████████████████████████████████████████████████████████████████████████▊  | 979/1006 [1:19:02<02:03,  4.59s/it]"
     ]
    },
    {
     "name": "stdout",
     "output_type": "stream",
     "text": [
      "Image download: ../Data/exports/ndvi/2019-09-23-2019-10-21--117.403719-33.351145_ndvi_bw.tif (512, 512)\n",
      "Image download: ../Data/exports/tc/2019-09-24-2019-10-22--122.780053-38.792458_tc.tif (512, 512)\n"
     ]
    },
    {
     "name": "stderr",
     "output_type": "stream",
     "text": [
      "\r",
      " 97%|██████████████████████████████████████████████████████████████████████████████▉  | 980/1006 [1:19:09<02:13,  5.12s/it]"
     ]
    },
    {
     "name": "stdout",
     "output_type": "stream",
     "text": [
      "Image download: ../Data/exports/ndvi/2019-09-24-2019-10-22--122.780053-38.792458_ndvi_bw.tif (512, 512)\n",
      "Image download: ../Data/exports/tc/2019-09-25-2019-10-23--117.274276-34.183624_tc.tif (512, 512)\n"
     ]
    },
    {
     "name": "stderr",
     "output_type": "stream",
     "text": [
      "\r",
      " 98%|██████████████████████████████████████████████████████████████████████████████▉  | 981/1006 [1:19:13<02:02,  4.89s/it]"
     ]
    },
    {
     "name": "stdout",
     "output_type": "stream",
     "text": [
      "Image download: ../Data/exports/ndvi/2019-09-25-2019-10-23--117.274276-34.183624_ndvi_bw.tif (512, 512)\n",
      "Image download: ../Data/exports/tc/2019-09-25-2019-10-23--122.636471-37.896231_tc.tif (512, 512)\n"
     ]
    },
    {
     "name": "stderr",
     "output_type": "stream",
     "text": [
      "\r",
      " 98%|███████████████████████████████████████████████████████████████████████████████  | 982/1006 [1:19:21<02:16,  5.70s/it]"
     ]
    },
    {
     "name": "stdout",
     "output_type": "stream",
     "text": [
      "Image download: ../Data/exports/ndvi/2019-09-25-2019-10-23--122.636471-37.896231_ndvi_bw.tif (512, 512)\n",
      "Image download: ../Data/exports/tc/2019-09-25-2019-10-23--121.800538-39.551423_tc.tif (512, 512)\n"
     ]
    },
    {
     "name": "stderr",
     "output_type": "stream",
     "text": [
      "\r",
      " 98%|███████████████████████████████████████████████████████████████████████████████▏ | 983/1006 [1:19:26<02:07,  5.55s/it]"
     ]
    },
    {
     "name": "stdout",
     "output_type": "stream",
     "text": [
      "Image download: ../Data/exports/ndvi/2019-09-25-2019-10-23--121.800538-39.551423_ndvi_bw.tif (512, 512)\n",
      "Image download: ../Data/exports/tc/2019-09-25-2019-10-23--118.368056-34.472778_tc.tif (512, 512)\n"
     ]
    },
    {
     "name": "stderr",
     "output_type": "stream",
     "text": [
      "\r",
      " 98%|███████████████████████████████████████████████████████████████████████████████▏ | 984/1006 [1:19:30<01:54,  5.22s/it]"
     ]
    },
    {
     "name": "stdout",
     "output_type": "stream",
     "text": [
      "Image download: ../Data/exports/ndvi/2019-09-25-2019-10-23--118.368056-34.472778_ndvi_bw.tif (512, 512)\n",
      "Image download: ../Data/exports/tc/2019-09-25-2019-10-23--122.361112-37.166674_tc.tif (512, 512)\n"
     ]
    },
    {
     "name": "stderr",
     "output_type": "stream",
     "text": [
      "\r",
      " 98%|███████████████████████████████████████████████████████████████████████████████▎ | 985/1006 [1:19:36<01:50,  5.26s/it]"
     ]
    },
    {
     "name": "stdout",
     "output_type": "stream",
     "text": [
      "Image download: ../Data/exports/ndvi/2019-09-25-2019-10-23--122.361112-37.166674_ndvi_bw.tif (512, 512)\n",
      "Image download: ../Data/exports/tc/2019-09-25-2019-10-23--121.68598-37.62782_tc.tif (512, 512)\n"
     ]
    },
    {
     "name": "stderr",
     "output_type": "stream",
     "text": [
      "\r",
      " 98%|███████████████████████████████████████████████████████████████████████████████▍ | 986/1006 [1:19:41<01:46,  5.35s/it]"
     ]
    },
    {
     "name": "stdout",
     "output_type": "stream",
     "text": [
      "Image download: ../Data/exports/ndvi/2019-09-25-2019-10-23--121.68598-37.62782_ndvi_bw.tif (512, 512)\n",
      "Image download: ../Data/exports/tc/2019-09-26-2019-10-24--116.742508-33.055124_tc.tif (512, 512)\n"
     ]
    },
    {
     "name": "stderr",
     "output_type": "stream",
     "text": [
      "\r",
      " 98%|███████████████████████████████████████████████████████████████████████████████▍ | 987/1006 [1:19:47<01:42,  5.37s/it]"
     ]
    },
    {
     "name": "stdout",
     "output_type": "stream",
     "text": [
      "Image download: ../Data/exports/ndvi/2019-09-26-2019-10-24--116.742508-33.055124_ndvi_bw.tif (512, 512)\n",
      "Image download: ../Data/exports/tc/2019-09-26-2019-10-24--117.027333-33.259861_tc.tif (512, 512)\n"
     ]
    },
    {
     "name": "stderr",
     "output_type": "stream",
     "text": [
      "\r",
      " 98%|███████████████████████████████████████████████████████████████████████████████▌ | 988/1006 [1:19:53<01:41,  5.66s/it]"
     ]
    },
    {
     "name": "stdout",
     "output_type": "stream",
     "text": [
      "Image download: ../Data/exports/ndvi/2019-09-26-2019-10-24--117.027333-33.259861_ndvi_bw.tif (512, 512)\n",
      "Image download: ../Data/exports/tc/2019-09-28-2019-10-26--122.25421-40.00171_tc.tif (512, 512)\n"
     ]
    },
    {
     "name": "stderr",
     "output_type": "stream",
     "text": [
      "\r",
      " 98%|███████████████████████████████████████████████████████████████████████████████▋ | 989/1006 [1:19:59<01:35,  5.60s/it]"
     ]
    },
    {
     "name": "stdout",
     "output_type": "stream",
     "text": [
      "Image download: ../Data/exports/ndvi/2019-09-28-2019-10-26--122.25421-40.00171_ndvi_bw.tif (512, 512)\n",
      "Image download: ../Data/exports/tc/2019-09-28-2019-10-26--121.64118-37.99136_tc.tif (512, 512)\n"
     ]
    },
    {
     "name": "stderr",
     "output_type": "stream",
     "text": [
      "\r",
      " 98%|███████████████████████████████████████████████████████████████████████████████▋ | 990/1006 [1:20:03<01:25,  5.35s/it]"
     ]
    },
    {
     "name": "stdout",
     "output_type": "stream",
     "text": [
      "Image download: ../Data/exports/ndvi/2019-09-28-2019-10-26--121.64118-37.99136_ndvi_bw.tif (512, 512)\n",
      "Image download: ../Data/exports/tc/2019-09-28-2019-10-26--122.2241-38.03545_tc.tif (512, 512)\n"
     ]
    },
    {
     "name": "stderr",
     "output_type": "stream",
     "text": [
      "\r",
      " 99%|███████████████████████████████████████████████████████████████████████████████▊ | 991/1006 [1:20:08<01:17,  5.18s/it]"
     ]
    },
    {
     "name": "stdout",
     "output_type": "stream",
     "text": [
      "Image download: ../Data/exports/ndvi/2019-09-28-2019-10-26--122.2241-38.03545_ndvi_bw.tif (512, 512)\n",
      "Image download: ../Data/exports/tc/2019-09-28-2019-10-26--122.22463-38.07205_tc.tif (512, 512)\n"
     ]
    },
    {
     "name": "stderr",
     "output_type": "stream",
     "text": [
      "\r",
      " 99%|███████████████████████████████████████████████████████████████████████████████▊ | 992/1006 [1:20:13<01:11,  5.10s/it]"
     ]
    },
    {
     "name": "stdout",
     "output_type": "stream",
     "text": [
      "Image download: ../Data/exports/ndvi/2019-09-28-2019-10-26--122.22463-38.07205_ndvi_bw.tif (512, 512)\n",
      "Image download: ../Data/exports/tc/2019-09-28-2019-10-26--123.12887-39.22431_tc.tif (512, 512)\n"
     ]
    },
    {
     "name": "stderr",
     "output_type": "stream",
     "text": [
      "\r",
      " 99%|███████████████████████████████████████████████████████████████████████████████▉ | 993/1006 [1:20:19<01:07,  5.23s/it]"
     ]
    },
    {
     "name": "stdout",
     "output_type": "stream",
     "text": [
      "Image download: ../Data/exports/ndvi/2019-09-28-2019-10-26--123.12887-39.22431_ndvi_bw.tif (512, 512)\n",
      "Image download: ../Data/exports/tc/2019-09-28-2019-10-26--122.11092-37.97911_tc.tif (512, 512)\n"
     ]
    },
    {
     "name": "stderr",
     "output_type": "stream",
     "text": [
      "\r",
      " 99%|████████████████████████████████████████████████████████████████████████████████ | 994/1006 [1:20:23<00:59,  4.98s/it]"
     ]
    },
    {
     "name": "stdout",
     "output_type": "stream",
     "text": [
      "Image download: ../Data/exports/ndvi/2019-09-28-2019-10-26--122.11092-37.97911_ndvi_bw.tif (512, 512)\n",
      "Image download: ../Data/exports/tc/2019-09-29-2019-10-27--118.478717-34.098191_tc.tif (512, 512)\n"
     ]
    },
    {
     "name": "stderr",
     "output_type": "stream",
     "text": [
      "\r",
      " 99%|████████████████████████████████████████████████████████████████████████████████ | 995/1006 [1:20:27<00:53,  4.82s/it]"
     ]
    },
    {
     "name": "stdout",
     "output_type": "stream",
     "text": [
      "Image download: ../Data/exports/ndvi/2019-09-29-2019-10-27--118.478717-34.098191_ndvi_bw.tif (512, 512)\n",
      "Image download: ../Data/exports/tc/2019-10-01-2019-10-29--118.803389-34.282179_tc.tif (512, 512)\n"
     ]
    },
    {
     "name": "stderr",
     "output_type": "stream",
     "text": [
      "\r",
      " 99%|████████████████████████████████████████████████████████████████████████████████▏| 996/1006 [1:20:36<01:00,  6.01s/it]"
     ]
    },
    {
     "name": "stdout",
     "output_type": "stream",
     "text": [
      "Image download: ../Data/exports/ndvi/2019-10-01-2019-10-29--118.803389-34.282179_ndvi_bw.tif (512, 512)\n",
      "Image download: ../Data/exports/tc/2019-10-01-2019-10-29--117.4625-34.01778_tc.tif (512, 512)\n"
     ]
    },
    {
     "name": "stderr",
     "output_type": "stream",
     "text": [
      "\r",
      " 99%|████████████████████████████████████████████████████████████████████████████████▎| 997/1006 [1:20:42<00:52,  5.86s/it]"
     ]
    },
    {
     "name": "stdout",
     "output_type": "stream",
     "text": [
      "Image download: ../Data/exports/ndvi/2019-10-01-2019-10-29--117.4625-34.01778_ndvi_bw.tif (512, 512)\n",
      "Image download: ../Data/exports/tc/2019-10-02-2019-10-30--117.414111-33.985972_tc.tif (512, 512)\n"
     ]
    },
    {
     "name": "stderr",
     "output_type": "stream",
     "text": [
      "\r",
      " 99%|████████████████████████████████████████████████████████████████████████████████▎| 998/1006 [1:20:46<00:43,  5.43s/it]"
     ]
    },
    {
     "name": "stdout",
     "output_type": "stream",
     "text": [
      "Image download: ../Data/exports/ndvi/2019-10-02-2019-10-30--117.414111-33.985972_ndvi_bw.tif (512, 512)\n",
      "Image download: ../Data/exports/tc/2019-10-02-2019-10-30--116.834583-32.564583_tc.tif (512, 512)\n"
     ]
    },
    {
     "name": "stderr",
     "output_type": "stream",
     "text": [
      "\r",
      " 99%|████████████████████████████████████████████████████████████████████████████████▍| 999/1006 [1:20:53<00:40,  5.76s/it]"
     ]
    },
    {
     "name": "stdout",
     "output_type": "stream",
     "text": [
      "Image download: ../Data/exports/ndvi/2019-10-02-2019-10-30--116.834583-32.564583_ndvi_bw.tif (512, 512)\n",
      "Image download: ../Data/exports/tc/2019-10-02-2019-10-30--117.285-34.183_tc.tif (512, 512)\n"
     ]
    },
    {
     "name": "stderr",
     "output_type": "stream",
     "text": [
      "\r",
      " 99%|███████████████████████████████████████████████████████████████████████████████▌| 1000/1006 [1:20:57<00:32,  5.44s/it]"
     ]
    },
    {
     "name": "stdout",
     "output_type": "stream",
     "text": [
      "Image download: ../Data/exports/ndvi/2019-10-02-2019-10-30--117.285-34.183_ndvi_bw.tif (512, 512)\n",
      "Image download: ../Data/exports/tc/2019-10-02-2019-10-30--118.997115-34.302212_tc.tif (512, 512)\n"
     ]
    },
    {
     "name": "stderr",
     "output_type": "stream",
     "text": [
      "\r",
      "100%|███████████████████████████████████████████████████████████████████████████████▌| 1001/1006 [1:21:04<00:28,  5.79s/it]"
     ]
    },
    {
     "name": "stdout",
     "output_type": "stream",
     "text": [
      "Image download: ../Data/exports/ndvi/2019-10-02-2019-10-30--118.997115-34.302212_ndvi_bw.tif (512, 512)\n",
      "Image download: ../Data/exports/tc/2019-10-03-2019-10-31--117.461363-33.849906_tc.tif (512, 512)\n"
     ]
    },
    {
     "name": "stderr",
     "output_type": "stream",
     "text": [
      "\r",
      "100%|███████████████████████████████████████████████████████████████████████████████▋| 1002/1006 [1:21:09<00:21,  5.49s/it]"
     ]
    },
    {
     "name": "stdout",
     "output_type": "stream",
     "text": [
      "Image download: ../Data/exports/ndvi/2019-10-03-2019-10-31--117.461363-33.849906_ndvi_bw.tif (512, 512)\n",
      "Image download: ../Data/exports/tc/2019-10-05-2019-11-02--122.637837-40.036379_tc.tif (512, 512)\n"
     ]
    },
    {
     "name": "stderr",
     "output_type": "stream",
     "text": [
      "\r",
      "100%|███████████████████████████████████████████████████████████████████████████████▊| 1003/1006 [1:21:14<00:16,  5.53s/it]"
     ]
    },
    {
     "name": "stdout",
     "output_type": "stream",
     "text": [
      "Image download: ../Data/exports/ndvi/2019-10-05-2019-11-02--122.637837-40.036379_ndvi_bw.tif (512, 512)\n",
      "Image download: ../Data/exports/tc/2019-10-07-2019-11-04--122.496548-39.100408_tc.tif (512, 512)\n"
     ]
    },
    {
     "name": "stderr",
     "output_type": "stream",
     "text": [
      "\r",
      "100%|███████████████████████████████████████████████████████████████████████████████▊| 1004/1006 [1:21:20<00:10,  5.48s/it]"
     ]
    },
    {
     "name": "stdout",
     "output_type": "stream",
     "text": [
      "Image download: ../Data/exports/ndvi/2019-10-07-2019-11-04--122.496548-39.100408_ndvi_bw.tif (512, 512)\n",
      "Image download: ../Data/exports/tc/2019-10-27-2019-11-24--121.729691-38.734634_tc.tif (512, 512)\n"
     ]
    },
    {
     "name": "stderr",
     "output_type": "stream",
     "text": [
      "\r",
      "100%|███████████████████████████████████████████████████████████████████████████████▉| 1005/1006 [1:21:27<00:06,  6.13s/it]"
     ]
    },
    {
     "name": "stdout",
     "output_type": "stream",
     "text": [
      "Image download: ../Data/exports/ndvi/2019-10-27-2019-11-24--121.729691-38.734634_ndvi_bw.tif (512, 512)\n",
      "Image download: ../Data/exports/tc/2019-10-27-2019-11-24--121.325842-38.838992_tc.tif (512, 512)\n"
     ]
    },
    {
     "name": "stderr",
     "output_type": "stream",
     "text": [
      "\r",
      "100%|████████████████████████████████████████████████████████████████████████████████| 1006/1006 [1:21:34<00:00,  6.19s/it]"
     ]
    },
    {
     "name": "stdout",
     "output_type": "stream",
     "text": [
      "Image download: ../Data/exports/ndvi/2019-10-27-2019-11-24--121.325842-38.838992_ndvi_bw.tif (512, 512)\n",
      "Image download: ../Data/exports/tc/2019-10-27-2019-11-24--119.785-34.5025_tc.tif (512, 512)\n"
     ]
    },
    {
     "name": "stderr",
     "output_type": "stream",
     "text": [
      "\r",
      "100%|████████████████████████████████████████████████████████████████████████████████| 1006/1006 [1:21:42<00:00,  4.87s/it]"
     ]
    },
    {
     "name": "stdout",
     "output_type": "stream",
     "text": [
      "Image download: ../Data/exports/ndvi/2019-10-27-2019-11-24--119.785-34.5025_ndvi_bw.tif (512, 512)\n"
     ]
    },
    {
     "name": "stderr",
     "output_type": "stream",
     "text": [
      "\n"
     ]
    },
    {
     "data": {
      "text/plain": [
       "1053    None\n",
       "889     None\n",
       "732     None\n",
       "1005    None\n",
       "657     None\n",
       "        ... \n",
       "1412    None\n",
       "1532    None\n",
       "1633    None\n",
       "1375    None\n",
       "1410    None\n",
       "Length: 1006, dtype: object"
      ]
     },
     "execution_count": 522,
     "metadata": {},
     "output_type": "execute_result"
    }
   ],
   "source": [
    "base_dir = \"../Data\"\n",
    "wildfires_from_2017.progress_apply(lambda row: retrieve_set(row, base_dir), axis=1)"
   ]
  },
  {
   "cell_type": "code",
   "execution_count": null,
   "id": "ec65f964",
   "metadata": {},
   "outputs": [],
   "source": []
  }
 ],
 "metadata": {
  "kernelspec": {
   "display_name": "Python 3 (ipykernel)",
   "language": "python",
   "name": "python3"
  },
  "language_info": {
   "codemirror_mode": {
    "name": "ipython",
    "version": 3
   },
   "file_extension": ".py",
   "mimetype": "text/x-python",
   "name": "python",
   "nbconvert_exporter": "python",
   "pygments_lexer": "ipython3",
   "version": "3.10.11"
  }
 },
 "nbformat": 4,
 "nbformat_minor": 5
}
