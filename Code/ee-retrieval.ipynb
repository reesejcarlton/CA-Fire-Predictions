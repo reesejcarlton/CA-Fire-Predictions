{
 "cells": [
  {
   "cell_type": "code",
   "execution_count": null,
   "id": "b4803ad7",
   "metadata": {},
   "outputs": [],
   "source": []
  },
  {
   "cell_type": "markdown",
   "id": "b78ac25d",
   "metadata": {},
   "source": [
    "# EE Retrieval"
   ]
  },
  {
   "cell_type": "code",
   "execution_count": 113,
   "id": "4b2f31b4",
   "metadata": {},
   "outputs": [],
   "source": [
    "#### For this to work you need to replace w/ your own service account and credentials\n",
    "#### You may also need to install the earthengine-api\n",
    "#### ! pip install earthengine-api --upgrade\n",
    "\n",
    "# Service Account, eg \"[...]iam.gserviceaccount.com\"\n",
    "service_account = ''\n",
    "# Path to the service account key\n",
    "json_credentials = ''\n",
    "\n",
    "# Only need to initialize once in awhile\n",
    "auth_intialize = False"
   ]
  },
  {
   "cell_type": "code",
   "execution_count": 8,
   "id": "311ca269",
   "metadata": {},
   "outputs": [],
   "source": [
    "import ee\n",
    "import numpy as np\n",
    "import os\n",
    "import pandas as pd\n",
    "import requests\n",
    "\n",
    "from datetime import datetime\n",
    "from PIL import Image\n",
    "from tqdm import tqdm\n",
    "\n",
    "\n",
    "tqdm.pandas()"
   ]
  },
  {
   "cell_type": "code",
   "execution_count": 9,
   "id": "992d96d8",
   "metadata": {},
   "outputs": [],
   "source": [
    "if auth_intialize:\n",
    "    SCOPES = [\n",
    "        'https://www.googleapis.com/auth/earthengine',\n",
    "        'https://www.googleapis.com/auth/drive'\n",
    "    ]\n",
    "    ee.Authenticate(scopes=SCOPES)\n",
    "    credentials = ee.ServiceAccountCredentials(service_account, json_credentials)\n",
    "    ee.Initialize(credentials)"
   ]
  },
  {
   "cell_type": "markdown",
   "id": "7134b06a",
   "metadata": {},
   "source": [
    "## Check collections for images"
   ]
  },
  {
   "cell_type": "code",
   "execution_count": 12,
   "id": "81b1c370",
   "metadata": {},
   "outputs": [
    {
     "name": "stdout",
     "output_type": "stream",
     "text": [
      "COPERNICUS/S2_SR_HARMONIZED has 34 images available.\n",
      "COPERNICUS/S1_GRD has 23 images available.\n",
      "MODIS/006/MOD09GQ has no images available for the specified date range: 2024-01-01 to 2024-04-02\n",
      "MODIS/006/MOD13Q1 has no images available for the specified date range: 2024-01-01 to 2024-04-02\n",
      "NOAA/GOES/16/MCMIPF has 13203 images available.\n",
      "COPERNICUS/S5P/OFFL/L3_NO2 has 1286 images available.\n",
      "Available collections with images: ['COPERNICUS/S2_SR_HARMONIZED', 'COPERNICUS/S1_GRD', 'NOAA/GOES/16/MCMIPF', 'COPERNICUS/S5P/OFFL/L3_NO2']\n"
     ]
    }
   ],
   "source": [
    "# Example coordinates\n",
    "lat, lon = 37.868710, -122.274720\n",
    "point = ee.Geometry.Point([lon, lat])\n",
    "\n",
    "# Create a buffer around the point\n",
    "buffer_distance = 100\n",
    "roi = point.buffer(buffer_distance)\n",
    "\n",
    "# Define the date range of interest\n",
    "start_date = '2024-01-01'\n",
    "end_date = '2024-04-02'\n",
    "\n",
    "# List of image collections to check\n",
    "collections = [\n",
    "    'COPERNICUS/S2_SR_HARMONIZED',\n",
    "    'COPERNICUS/S1_GRD',\n",
    "#     'LANDSAT/LC08/C01/T1_SR',\n",
    "#     'LANDSAT/LE07/C01/T1_SR',\n",
    "#     'LANDSAT/LT05/C01/T1_SR',\n",
    "    'MODIS/006/MOD09GQ',\n",
    "    'MODIS/006/MOD13Q1',\n",
    "    'NOAA/GOES/16/MCMIPF',\n",
    "    'COPERNICUS/S5P/OFFL/L3_NO2'\n",
    "]\n",
    "\n",
    "# Check each collection for images in the specified date range\n",
    "available_collections = []\n",
    "\n",
    "for collection_id in collections:\n",
    "    collection = ee.ImageCollection(collection_id).filterDate(start_date, end_date).filterBounds(roi)\n",
    "    count = collection.size().getInfo()\n",
    "    if count > 0:\n",
    "        available_collections.append(collection_id)\n",
    "        print(f\"{collection_id} has {count} images available.\")\n",
    "    else:\n",
    "        print(f\"{collection_id} has no images available for the specified date range: {start_date} to {end_date}\")\n",
    "\n",
    "if not available_collections:\n",
    "    print(\"No collections have images available for the specified date range and region.\")\n",
    "\n",
    "print(\"Available collections with images:\", available_collections)"
   ]
  },
  {
   "cell_type": "markdown",
   "id": "03bbdfe4",
   "metadata": {},
   "source": [
    "## Retrieve images"
   ]
  },
  {
   "cell_type": "code",
   "execution_count": 13,
   "id": "9ce65fb0",
   "metadata": {},
   "outputs": [],
   "source": [
    "def process_sentinel2(date1, date2, lon, lat, export_desc, base_dir=\"../Data\", buffer=2560, cloud_percentage=20, cloud_percentage_fallback=50, export=False):    \n",
    "    # Create point geometry\n",
    "    coordinates = ee.Geometry.Point([lon, lat])\n",
    "    \n",
    "    # Define region of interest\n",
    "    region = coordinates.buffer(buffer)\n",
    "\n",
    "    # Load Sentinel-2 collection\n",
    "    # Sentinel-2 has a max resolution of 10 m/pixel\n",
    "    # Also has a 5-day revisit time\n",
    "    # https://www.esa.int/Applications/Observing_the_Earth/Copernicus/Sentinel-2\n",
    "    sentinel2 = ee.ImageCollection('COPERNICUS/S2_HARMONIZED') \\\n",
    "                    .filterBounds(region) \\\n",
    "                    .filterDate(date1, date2) \\\n",
    "                    .filter(ee.Filter.lt('CLOUDY_PIXEL_PERCENTAGE', cloud_percentage))\n",
    "\n",
    "    # If cloud_percentage threshold is too low, try again w/ a less stringent threshold\n",
    "    if (sentinel2.size().getInfo() == 0):\n",
    "        sentinel2 = ee.ImageCollection('COPERNICUS/S2_HARMONIZED') \\\n",
    "                .filterBounds(region) \\\n",
    "                .filterDate(date1, date2) \\\n",
    "                .filter(ee.Filter.lt('CLOUDY_PIXEL_PERCENTAGE', cloud_percentage_fallback))\n",
    "\n",
    "    # Create a mosaic of filtered images\n",
    "    # https://developers.google.com/earth-engine/guides/ic_composite_mosaic\n",
    "    mosaic = sentinel2.median()\n",
    " \n",
    "    # Process and download true-color and NDVI images\n",
    "\n",
    "    # true-color images\n",
    "    # cast tc bands to the same data type\n",
    "    image_uint16 = mosaic.select(['B4', 'B3', 'B2']).uint16()\n",
    "    tc_params = {\n",
    "        'bands': ['B4', 'B3', 'B2'],\n",
    "        'min': 500,\n",
    "        'max': 4000,\n",
    "        'gamma': 1.4  # adjust for contrast\n",
    "    }\n",
    "    true_color_img = image_uint16.visualize(**tc_params)    \n",
    "\n",
    "    # ndvi images\n",
    "    ndvi_raw_img = mosaic.normalizedDifference(['B8', 'B4']).rename('NDVI')\n",
    "\n",
    "    # ndvi two-tone color\n",
    "    ndvi_color_params = {\n",
    "        'min': -1,\n",
    "        'max': 1,\n",
    "        'palette': ['darkblue', 'white']\n",
    "    }\n",
    "    # ndvi_color_img = ndvi_raw_img.visualize(**ndvi_color_params)    \n",
    "    \n",
    "    # ndvi grayscale\n",
    "    ndvi_bw_params = {\n",
    "        'min': -1,\n",
    "        'max': 1,\n",
    "        'palette': ['black', 'white']\n",
    "    }\n",
    "    ndvi_bw_img = ndvi_raw_img.visualize(**ndvi_bw_params)\n",
    "\n",
    "    image_dests = []\n",
    "    image_dests.append(download_cropped_image(image=true_color_img, region=region,\n",
    "                                              dirpath=f\"{base_dir}/exports/tc/\",\n",
    "                                              export_desc=f\"{export_desc}_tc\"))\n",
    "    # image_dests.append(download_image(ndvi_color_img, region, f\"{base_dir}/exports/{export_desc}_tc_ndvi_color\"))\n",
    "    image_dests.append(download_cropped_image(image=ndvi_bw_img, region=region, \n",
    "                                              dirpath=f\"{base_dir}/exports/ndvi/\",\n",
    "                                              export_desc=f\"{export_desc}_ndvi_bw\"))\n",
    "\n",
    "    # Export image to Google Drive\n",
    "    if export:\n",
    "        raise ValueError(\"Export to drive should be configured separately\")\n",
    "        # NOTE: comment out the error above if export to drive has been configured\n",
    "        export_task = ee.batch.Export.image.toDrive(\n",
    "            image=image_uint16.visualize(**visualization),\n",
    "            description=export_desc,\n",
    "            folder='EarthEngineExports',\n",
    "            scale=10,  # in meters\n",
    "            region=region.bounds().getInfo()['coordinates'],\n",
    "            fileFormat='GeoTIFF',\n",
    "            crs='EPSG:4326',\n",
    "            maxPixels=1e9\n",
    "        )\n",
    "\n",
    "        export_task.start()\n",
    "    \n",
    "    return image_dests"
   ]
  },
  {
   "cell_type": "markdown",
   "id": "fe17cc0a",
   "metadata": {},
   "source": [
    "## Download and crop images to standard size"
   ]
  },
  {
   "cell_type": "code",
   "execution_count": 14,
   "id": "1689cd22",
   "metadata": {},
   "outputs": [],
   "source": [
    "def find_or_create_download_dirs(base_dir):\n",
    "    for dirpath in [f\"{base_dir}/exports\", f\"{base_dir}/exports/ndvi\", f\"{base_dir}/exports/tc\"]:\n",
    "        if not os.path.exists(dirpath):\n",
    "            os.makedirs(dirpath)\n",
    "            print(f\"Directory created at: {dirpath}\")"
   ]
  },
  {
   "cell_type": "code",
   "execution_count": 15,
   "id": "8d665600",
   "metadata": {},
   "outputs": [],
   "source": [
    "def download_cropped_image(image, region, dirpath, export_desc=None, scale=10, crop_size=512):\n",
    "    # Download image\n",
    "    url = image.getDownloadURL({\n",
    "        'scale': scale,\n",
    "        'region': region.bounds().getInfo()['coordinates'],\n",
    "        'format': 'GeoTIFF',\n",
    "        'crs': 'EPSG:4326'\n",
    "    })\n",
    "    response = requests.get(url, stream=True)\n",
    "\n",
    "    # Write to disk and crop\n",
    "    if response.status_code == 200:\n",
    "        export_raw_fpath = f\"{dirpath}{export_desc}.tif\"\n",
    "        # export raw image\n",
    "        with open(export_raw_fpath, 'wb') as f:\n",
    "            for chunk in response.iter_content(1024):\n",
    "                f.write(chunk)\n",
    "        # crop image to center square\n",
    "        final_image_size = crop_tif_as_center_square(export_raw_fpath)\n",
    "        print(f\"Image download: {export_raw_fpath} {final_image_size}\")\n",
    "        return export_raw_fpath\n",
    "    else:\n",
    "        print(f\"Failed to download image. HTTP status code: {response.status_code}\")\n",
    "        return None"
   ]
  },
  {
   "cell_type": "code",
   "execution_count": 16,
   "id": "d9ecc4c1",
   "metadata": {},
   "outputs": [],
   "source": [
    "def crop_center(img, crop_width, crop_height):\n",
    "    img_width, img_height = img.size\n",
    "    return img.crop((\n",
    "        (img_width - crop_width) // 2,\n",
    "        (img_height - crop_height) // 2,\n",
    "        (img_width + crop_width) // 2,\n",
    "        (img_height + crop_height) // 2\n",
    "    ))\n",
    "\n",
    "def crop_tif_as_center_square(fpath, crop_size=512):\n",
    "    img = Image.open(fpath)\n",
    "    cropped_img = crop_center(img, crop_size, crop_size)\n",
    "    cropped_img.save(fpath)\n",
    "    return cropped_img.size"
   ]
  },
  {
   "cell_type": "code",
   "execution_count": null,
   "id": "7d839c07",
   "metadata": {},
   "outputs": [],
   "source": []
  },
  {
   "cell_type": "markdown",
   "id": "ffd013bd",
   "metadata": {},
   "source": [
    "## Load wildfires dataset"
   ]
  },
  {
   "cell_type": "code",
   "execution_count": 17,
   "id": "0b0605b6",
   "metadata": {},
   "outputs": [
    {
     "data": {
      "text/html": [
       "<div>\n",
       "<style scoped>\n",
       "    .dataframe tbody tr th:only-of-type {\n",
       "        vertical-align: middle;\n",
       "    }\n",
       "\n",
       "    .dataframe tbody tr th {\n",
       "        vertical-align: top;\n",
       "    }\n",
       "\n",
       "    .dataframe thead th {\n",
       "        text-align: right;\n",
       "    }\n",
       "</style>\n",
       "<table border=\"1\" class=\"dataframe\">\n",
       "  <thead>\n",
       "    <tr style=\"text-align: right;\">\n",
       "      <th></th>\n",
       "      <th>AcresBurned</th>\n",
       "      <th>Active</th>\n",
       "      <th>AdminUnit</th>\n",
       "      <th>AirTankers</th>\n",
       "      <th>ArchiveYear</th>\n",
       "      <th>CalFireIncident</th>\n",
       "      <th>CanonicalUrl</th>\n",
       "      <th>ConditionStatement</th>\n",
       "      <th>ControlStatement</th>\n",
       "      <th>Counties</th>\n",
       "      <th>...</th>\n",
       "      <th>SearchKeywords</th>\n",
       "      <th>Started</th>\n",
       "      <th>Status</th>\n",
       "      <th>StructuresDamaged</th>\n",
       "      <th>StructuresDestroyed</th>\n",
       "      <th>StructuresEvacuated</th>\n",
       "      <th>StructuresThreatened</th>\n",
       "      <th>UniqueId</th>\n",
       "      <th>Updated</th>\n",
       "      <th>WaterTenders</th>\n",
       "    </tr>\n",
       "  </thead>\n",
       "  <tbody>\n",
       "    <tr>\n",
       "      <th>0</th>\n",
       "      <td>257314.0</td>\n",
       "      <td>False</td>\n",
       "      <td>Stanislaus National Forest/Yosemite National Park</td>\n",
       "      <td>NaN</td>\n",
       "      <td>2013</td>\n",
       "      <td>True</td>\n",
       "      <td>/incidents/2013/8/17/rim-fire/</td>\n",
       "      <td>NaN</td>\n",
       "      <td>NaN</td>\n",
       "      <td>Tuolumne</td>\n",
       "      <td>...</td>\n",
       "      <td>Rim Fire, Stanislaus National Forest, Yosemite...</td>\n",
       "      <td>2013-08-17T15:25:00Z</td>\n",
       "      <td>Finalized</td>\n",
       "      <td>NaN</td>\n",
       "      <td>NaN</td>\n",
       "      <td>NaN</td>\n",
       "      <td>NaN</td>\n",
       "      <td>5fb18d4d-213f-4d83-a179-daaf11939e78</td>\n",
       "      <td>2013-09-06T18:30:00Z</td>\n",
       "      <td>NaN</td>\n",
       "    </tr>\n",
       "    <tr>\n",
       "      <th>1</th>\n",
       "      <td>30274.0</td>\n",
       "      <td>False</td>\n",
       "      <td>USFS Angeles National Forest/Los Angeles Count...</td>\n",
       "      <td>NaN</td>\n",
       "      <td>2013</td>\n",
       "      <td>True</td>\n",
       "      <td>/incidents/2013/5/30/powerhouse-fire/</td>\n",
       "      <td>NaN</td>\n",
       "      <td>NaN</td>\n",
       "      <td>Los Angeles</td>\n",
       "      <td>...</td>\n",
       "      <td>Powerhouse Fire, May 2013, June 2013, Angeles ...</td>\n",
       "      <td>2013-05-30T15:28:00Z</td>\n",
       "      <td>Finalized</td>\n",
       "      <td>NaN</td>\n",
       "      <td>NaN</td>\n",
       "      <td>NaN</td>\n",
       "      <td>NaN</td>\n",
       "      <td>bf37805e-1cc2-4208-9972-753e47874c87</td>\n",
       "      <td>2013-06-08T18:30:00Z</td>\n",
       "      <td>NaN</td>\n",
       "    </tr>\n",
       "  </tbody>\n",
       "</table>\n",
       "<p>2 rows × 40 columns</p>\n",
       "</div>"
      ],
      "text/plain": [
       "   AcresBurned  Active                                          AdminUnit  \\\n",
       "0     257314.0   False  Stanislaus National Forest/Yosemite National Park   \n",
       "1      30274.0   False  USFS Angeles National Forest/Los Angeles Count...   \n",
       "\n",
       "   AirTankers  ArchiveYear  CalFireIncident  \\\n",
       "0         NaN         2013             True   \n",
       "1         NaN         2013             True   \n",
       "\n",
       "                            CanonicalUrl ConditionStatement ControlStatement  \\\n",
       "0         /incidents/2013/8/17/rim-fire/                NaN              NaN   \n",
       "1  /incidents/2013/5/30/powerhouse-fire/                NaN              NaN   \n",
       "\n",
       "      Counties  ...                                     SearchKeywords  \\\n",
       "0     Tuolumne  ...  Rim Fire, Stanislaus National Forest, Yosemite...   \n",
       "1  Los Angeles  ...  Powerhouse Fire, May 2013, June 2013, Angeles ...   \n",
       "\n",
       "                Started     Status  StructuresDamaged StructuresDestroyed  \\\n",
       "0  2013-08-17T15:25:00Z  Finalized                NaN                 NaN   \n",
       "1  2013-05-30T15:28:00Z  Finalized                NaN                 NaN   \n",
       "\n",
       "   StructuresEvacuated  StructuresThreatened  \\\n",
       "0                  NaN                   NaN   \n",
       "1                  NaN                   NaN   \n",
       "\n",
       "                               UniqueId               Updated  WaterTenders  \n",
       "0  5fb18d4d-213f-4d83-a179-daaf11939e78  2013-09-06T18:30:00Z           NaN  \n",
       "1  bf37805e-1cc2-4208-9972-753e47874c87  2013-06-08T18:30:00Z           NaN  \n",
       "\n",
       "[2 rows x 40 columns]"
      ]
     },
     "execution_count": 17,
     "metadata": {},
     "output_type": "execute_result"
    }
   ],
   "source": [
    "wildfires_df = pd.read_csv(\"../Data/California_Fire_Incidents.csv\")\n",
    "wildfires_df.head(2)"
   ]
  },
  {
   "cell_type": "code",
   "execution_count": 18,
   "id": "daa127c4",
   "metadata": {},
   "outputs": [
    {
     "name": "stdout",
     "output_type": "stream",
     "text": [
      "<class 'pandas.core.frame.DataFrame'>\n",
      "RangeIndex: 1636 entries, 0 to 1635\n",
      "Data columns (total 40 columns):\n",
      " #   Column                Non-Null Count  Dtype  \n",
      "---  ------                --------------  -----  \n",
      " 0   AcresBurned           1633 non-null   float64\n",
      " 1   Active                1636 non-null   bool   \n",
      " 2   AdminUnit             1636 non-null   object \n",
      " 3   AirTankers            28 non-null     float64\n",
      " 4   ArchiveYear           1636 non-null   int64  \n",
      " 5   CalFireIncident       1636 non-null   bool   \n",
      " 6   CanonicalUrl          1636 non-null   object \n",
      " 7   ConditionStatement    284 non-null    object \n",
      " 8   ControlStatement      105 non-null    object \n",
      " 9   Counties              1636 non-null   object \n",
      " 10  CountyIds             1636 non-null   object \n",
      " 11  CrewsInvolved         171 non-null    float64\n",
      " 12  Dozers                123 non-null    float64\n",
      " 13  Engines               191 non-null    float64\n",
      " 14  Extinguished          1577 non-null   object \n",
      " 15  Fatalities            21 non-null     float64\n",
      " 16  Featured              1636 non-null   bool   \n",
      " 17  Final                 1636 non-null   bool   \n",
      " 18  FuelType              12 non-null     object \n",
      " 19  Helicopters           84 non-null     float64\n",
      " 20  Injuries              120 non-null    float64\n",
      " 21  Latitude              1636 non-null   float64\n",
      " 22  Location              1636 non-null   object \n",
      " 23  Longitude             1636 non-null   float64\n",
      " 24  MajorIncident         1636 non-null   bool   \n",
      " 25  Name                  1636 non-null   object \n",
      " 26  PercentContained      1633 non-null   float64\n",
      " 27  PersonnelInvolved     204 non-null    float64\n",
      " 28  Public                1636 non-null   bool   \n",
      " 29  SearchDescription     1619 non-null   object \n",
      " 30  SearchKeywords        1433 non-null   object \n",
      " 31  Started               1636 non-null   object \n",
      " 32  Status                1636 non-null   object \n",
      " 33  StructuresDamaged     67 non-null     float64\n",
      " 34  StructuresDestroyed   175 non-null    float64\n",
      " 35  StructuresEvacuated   0 non-null      float64\n",
      " 36  StructuresThreatened  30 non-null     float64\n",
      " 37  UniqueId              1636 non-null   object \n",
      " 38  Updated               1636 non-null   object \n",
      " 39  WaterTenders          146 non-null    float64\n",
      "dtypes: bool(6), float64(17), int64(1), object(16)\n",
      "memory usage: 444.3+ KB\n"
     ]
    }
   ],
   "source": [
    "wildfires_df.info()"
   ]
  },
  {
   "cell_type": "code",
   "execution_count": 19,
   "id": "f7ab524e",
   "metadata": {},
   "outputs": [
    {
     "data": {
      "text/html": [
       "<div>\n",
       "<style scoped>\n",
       "    .dataframe tbody tr th:only-of-type {\n",
       "        vertical-align: middle;\n",
       "    }\n",
       "\n",
       "    .dataframe tbody tr th {\n",
       "        vertical-align: top;\n",
       "    }\n",
       "\n",
       "    .dataframe thead th {\n",
       "        text-align: right;\n",
       "    }\n",
       "</style>\n",
       "<table border=\"1\" class=\"dataframe\">\n",
       "  <thead>\n",
       "    <tr style=\"text-align: right;\">\n",
       "      <th></th>\n",
       "      <th>Longitude</th>\n",
       "      <th>Latitude</th>\n",
       "      <th>Counties</th>\n",
       "      <th>Location</th>\n",
       "    </tr>\n",
       "  </thead>\n",
       "  <tbody>\n",
       "    <tr>\n",
       "      <th>4</th>\n",
       "      <td>0.0</td>\n",
       "      <td>0.0</td>\n",
       "      <td>Ventura</td>\n",
       "      <td>Southbound Highway 101 at Camarillo Springs Ro...</td>\n",
       "    </tr>\n",
       "    <tr>\n",
       "      <th>27</th>\n",
       "      <td>0.0</td>\n",
       "      <td>0.0</td>\n",
       "      <td>Monterey</td>\n",
       "      <td>Pfeiffer Ridge Road and Highway 1 near Big Sur</td>\n",
       "    </tr>\n",
       "    <tr>\n",
       "      <th>44</th>\n",
       "      <td>0.0</td>\n",
       "      <td>0.0</td>\n",
       "      <td>Riverside</td>\n",
       "      <td>Rio Rancho Rd &amp; Calle Hermosa, Jurupa Valley</td>\n",
       "    </tr>\n",
       "    <tr>\n",
       "      <th>48</th>\n",
       "      <td>0.0</td>\n",
       "      <td>0.0</td>\n",
       "      <td>Lake</td>\n",
       "      <td>North of Highway 29, southeast of Kelseyville</td>\n",
       "    </tr>\n",
       "    <tr>\n",
       "      <th>56</th>\n",
       "      <td>0.0</td>\n",
       "      <td>0.0</td>\n",
       "      <td>Glenn</td>\n",
       "      <td>15 miles northwest of Elk Creek off County Roa...</td>\n",
       "    </tr>\n",
       "  </tbody>\n",
       "</table>\n",
       "</div>"
      ],
      "text/plain": [
       "    Longitude  Latitude   Counties  \\\n",
       "4         0.0       0.0    Ventura   \n",
       "27        0.0       0.0   Monterey   \n",
       "44        0.0       0.0  Riverside   \n",
       "48        0.0       0.0       Lake   \n",
       "56        0.0       0.0      Glenn   \n",
       "\n",
       "                                             Location  \n",
       "4   Southbound Highway 101 at Camarillo Springs Ro...  \n",
       "27     Pfeiffer Ridge Road and Highway 1 near Big Sur  \n",
       "44       Rio Rancho Rd & Calle Hermosa, Jurupa Valley  \n",
       "48      North of Highway 29, southeast of Kelseyville  \n",
       "56  15 miles northwest of Elk Creek off County Roa...  "
      ]
     },
     "execution_count": 19,
     "metadata": {},
     "output_type": "execute_result"
    }
   ],
   "source": [
    "# filter records w/ missing lon/lat\n",
    "missing_lonlat_df = wildfires_df[(wildfires_df[\"Longitude\"] == 0.0) | (wildfires_df[\"Latitude\"] == 0.0)]\n",
    "missing_lonlat_df.head(5)[[\"Longitude\", \"Latitude\", \"Counties\", \"Location\"]]"
   ]
  },
  {
   "cell_type": "code",
   "execution_count": 20,
   "id": "8b6e463d",
   "metadata": {},
   "outputs": [
    {
     "data": {
      "text/html": [
       "<div>\n",
       "<style scoped>\n",
       "    .dataframe tbody tr th:only-of-type {\n",
       "        vertical-align: middle;\n",
       "    }\n",
       "\n",
       "    .dataframe tbody tr th {\n",
       "        vertical-align: top;\n",
       "    }\n",
       "\n",
       "    .dataframe thead th {\n",
       "        text-align: right;\n",
       "    }\n",
       "</style>\n",
       "<table border=\"1\" class=\"dataframe\">\n",
       "  <thead>\n",
       "    <tr style=\"text-align: right;\">\n",
       "      <th></th>\n",
       "      <th>AcresBurned</th>\n",
       "      <th>Active</th>\n",
       "      <th>AdminUnit</th>\n",
       "      <th>AirTankers</th>\n",
       "      <th>ArchiveYear</th>\n",
       "      <th>CalFireIncident</th>\n",
       "      <th>CanonicalUrl</th>\n",
       "      <th>ConditionStatement</th>\n",
       "      <th>ControlStatement</th>\n",
       "      <th>Counties</th>\n",
       "      <th>...</th>\n",
       "      <th>SearchKeywords</th>\n",
       "      <th>Started</th>\n",
       "      <th>Status</th>\n",
       "      <th>StructuresDamaged</th>\n",
       "      <th>StructuresDestroyed</th>\n",
       "      <th>StructuresEvacuated</th>\n",
       "      <th>StructuresThreatened</th>\n",
       "      <th>UniqueId</th>\n",
       "      <th>Updated</th>\n",
       "      <th>WaterTenders</th>\n",
       "    </tr>\n",
       "  </thead>\n",
       "  <tbody>\n",
       "    <tr>\n",
       "      <th>0</th>\n",
       "      <td>257314.0</td>\n",
       "      <td>False</td>\n",
       "      <td>Stanislaus National Forest/Yosemite National Park</td>\n",
       "      <td>NaN</td>\n",
       "      <td>2013</td>\n",
       "      <td>True</td>\n",
       "      <td>/incidents/2013/8/17/rim-fire/</td>\n",
       "      <td>NaN</td>\n",
       "      <td>NaN</td>\n",
       "      <td>Tuolumne</td>\n",
       "      <td>...</td>\n",
       "      <td>Rim Fire, Stanislaus National Forest, Yosemite...</td>\n",
       "      <td>2013-08-17T15:25:00Z</td>\n",
       "      <td>Finalized</td>\n",
       "      <td>NaN</td>\n",
       "      <td>NaN</td>\n",
       "      <td>NaN</td>\n",
       "      <td>NaN</td>\n",
       "      <td>5fb18d4d-213f-4d83-a179-daaf11939e78</td>\n",
       "      <td>2013-09-06T18:30:00Z</td>\n",
       "      <td>NaN</td>\n",
       "    </tr>\n",
       "    <tr>\n",
       "      <th>1</th>\n",
       "      <td>30274.0</td>\n",
       "      <td>False</td>\n",
       "      <td>USFS Angeles National Forest/Los Angeles Count...</td>\n",
       "      <td>NaN</td>\n",
       "      <td>2013</td>\n",
       "      <td>True</td>\n",
       "      <td>/incidents/2013/5/30/powerhouse-fire/</td>\n",
       "      <td>NaN</td>\n",
       "      <td>NaN</td>\n",
       "      <td>Los Angeles</td>\n",
       "      <td>...</td>\n",
       "      <td>Powerhouse Fire, May 2013, June 2013, Angeles ...</td>\n",
       "      <td>2013-05-30T15:28:00Z</td>\n",
       "      <td>Finalized</td>\n",
       "      <td>NaN</td>\n",
       "      <td>NaN</td>\n",
       "      <td>NaN</td>\n",
       "      <td>NaN</td>\n",
       "      <td>bf37805e-1cc2-4208-9972-753e47874c87</td>\n",
       "      <td>2013-06-08T18:30:00Z</td>\n",
       "      <td>NaN</td>\n",
       "    </tr>\n",
       "    <tr>\n",
       "      <th>2</th>\n",
       "      <td>27531.0</td>\n",
       "      <td>False</td>\n",
       "      <td>CAL FIRE Riverside Unit / San Bernardino Natio...</td>\n",
       "      <td>NaN</td>\n",
       "      <td>2013</td>\n",
       "      <td>True</td>\n",
       "      <td>/incidents/2013/7/15/mountain-fire/</td>\n",
       "      <td>NaN</td>\n",
       "      <td>NaN</td>\n",
       "      <td>Riverside</td>\n",
       "      <td>...</td>\n",
       "      <td>Mountain Fire, July 2013, Highway 243, Highway...</td>\n",
       "      <td>2013-07-15T13:43:00Z</td>\n",
       "      <td>Finalized</td>\n",
       "      <td>NaN</td>\n",
       "      <td>NaN</td>\n",
       "      <td>NaN</td>\n",
       "      <td>NaN</td>\n",
       "      <td>a3149fec-4d48-427c-8b2c-59e8b79d59db</td>\n",
       "      <td>2013-07-30T18:00:00Z</td>\n",
       "      <td>NaN</td>\n",
       "    </tr>\n",
       "    <tr>\n",
       "      <th>3</th>\n",
       "      <td>27440.0</td>\n",
       "      <td>False</td>\n",
       "      <td>Tahoe National Forest</td>\n",
       "      <td>NaN</td>\n",
       "      <td>2013</td>\n",
       "      <td>False</td>\n",
       "      <td>/incidents/2013/8/10/american-fire/</td>\n",
       "      <td>NaN</td>\n",
       "      <td>NaN</td>\n",
       "      <td>Placer</td>\n",
       "      <td>...</td>\n",
       "      <td>American Fire, August 2013, Deadwood Ridge, Fo...</td>\n",
       "      <td>2013-08-10T16:30:00Z</td>\n",
       "      <td>Finalized</td>\n",
       "      <td>NaN</td>\n",
       "      <td>NaN</td>\n",
       "      <td>NaN</td>\n",
       "      <td>NaN</td>\n",
       "      <td>8213f5c7-34fa-403b-a4bc-da2ace6e6625</td>\n",
       "      <td>2013-08-30T08:00:00Z</td>\n",
       "      <td>NaN</td>\n",
       "    </tr>\n",
       "    <tr>\n",
       "      <th>5</th>\n",
       "      <td>22992.0</td>\n",
       "      <td>False</td>\n",
       "      <td>Sierra National Forest</td>\n",
       "      <td>NaN</td>\n",
       "      <td>2013</td>\n",
       "      <td>False</td>\n",
       "      <td>/incidents/2013/7/22/aspen-fire/</td>\n",
       "      <td>NaN</td>\n",
       "      <td>NaN</td>\n",
       "      <td>Fresno</td>\n",
       "      <td>...</td>\n",
       "      <td>217  Aspen Fire, July 2013, Big Creek, Fresno ...</td>\n",
       "      <td>2013-07-22T22:15:00Z</td>\n",
       "      <td>Finalized</td>\n",
       "      <td>NaN</td>\n",
       "      <td>NaN</td>\n",
       "      <td>NaN</td>\n",
       "      <td>NaN</td>\n",
       "      <td>bee8c339-4f26-4b78-a5b4-a8a0ebdb8786</td>\n",
       "      <td>2013-09-24T20:15:00Z</td>\n",
       "      <td>NaN</td>\n",
       "    </tr>\n",
       "    <tr>\n",
       "      <th>...</th>\n",
       "      <td>...</td>\n",
       "      <td>...</td>\n",
       "      <td>...</td>\n",
       "      <td>...</td>\n",
       "      <td>...</td>\n",
       "      <td>...</td>\n",
       "      <td>...</td>\n",
       "      <td>...</td>\n",
       "      <td>...</td>\n",
       "      <td>...</td>\n",
       "      <td>...</td>\n",
       "      <td>...</td>\n",
       "      <td>...</td>\n",
       "      <td>...</td>\n",
       "      <td>...</td>\n",
       "      <td>...</td>\n",
       "      <td>...</td>\n",
       "      <td>...</td>\n",
       "      <td>...</td>\n",
       "      <td>...</td>\n",
       "      <td>...</td>\n",
       "    </tr>\n",
       "    <tr>\n",
       "      <th>1631</th>\n",
       "      <td>9.0</td>\n",
       "      <td>False</td>\n",
       "      <td>CAL FIRE / Riverside County Fire</td>\n",
       "      <td>NaN</td>\n",
       "      <td>2019</td>\n",
       "      <td>True</td>\n",
       "      <td>/incidents/2019/10/10/eagle-fire/</td>\n",
       "      <td>NaN</td>\n",
       "      <td>NaN</td>\n",
       "      <td>Riverside</td>\n",
       "      <td>...</td>\n",
       "      <td>NaN</td>\n",
       "      <td>2019-10-10T12:08:00Z</td>\n",
       "      <td>Finalized</td>\n",
       "      <td>NaN</td>\n",
       "      <td>NaN</td>\n",
       "      <td>NaN</td>\n",
       "      <td>NaN</td>\n",
       "      <td>6e93b252-99a3-4214-9921-238373b17535</td>\n",
       "      <td>2019-10-10T18:11:59.733Z</td>\n",
       "      <td>NaN</td>\n",
       "    </tr>\n",
       "    <tr>\n",
       "      <th>1632</th>\n",
       "      <td>2.0</td>\n",
       "      <td>False</td>\n",
       "      <td>CAL FIRE Nevada-Yuba-Placer Unit</td>\n",
       "      <td>NaN</td>\n",
       "      <td>2019</td>\n",
       "      <td>True</td>\n",
       "      <td>/incidents/2019/6/28/long-fire/</td>\n",
       "      <td>NaN</td>\n",
       "      <td>NaN</td>\n",
       "      <td>Nevada</td>\n",
       "      <td>...</td>\n",
       "      <td>NaN</td>\n",
       "      <td>2019-06-28T15:03:04Z</td>\n",
       "      <td>Finalized</td>\n",
       "      <td>NaN</td>\n",
       "      <td>NaN</td>\n",
       "      <td>NaN</td>\n",
       "      <td>NaN</td>\n",
       "      <td>b38c0563-b321-431b-9174-6336c5a0d449</td>\n",
       "      <td>2019-06-30T15:52:01.023Z</td>\n",
       "      <td>NaN</td>\n",
       "    </tr>\n",
       "    <tr>\n",
       "      <th>1633</th>\n",
       "      <td>NaN</td>\n",
       "      <td>False</td>\n",
       "      <td>Yolo County Fire Protection District</td>\n",
       "      <td>NaN</td>\n",
       "      <td>2019</td>\n",
       "      <td>False</td>\n",
       "      <td>/incidents/2019/11/25/cashe-fire/</td>\n",
       "      <td>NaN</td>\n",
       "      <td>NaN</td>\n",
       "      <td>Yolo</td>\n",
       "      <td>...</td>\n",
       "      <td>NaN</td>\n",
       "      <td>2019-11-25T12:02:02Z</td>\n",
       "      <td>Finalized</td>\n",
       "      <td>NaN</td>\n",
       "      <td>NaN</td>\n",
       "      <td>NaN</td>\n",
       "      <td>NaN</td>\n",
       "      <td>9c26f915-1b33-422d-b30a-9eb4da6fd729</td>\n",
       "      <td>2019-12-03T16:35:20.93Z</td>\n",
       "      <td>NaN</td>\n",
       "    </tr>\n",
       "    <tr>\n",
       "      <th>1634</th>\n",
       "      <td>NaN</td>\n",
       "      <td>False</td>\n",
       "      <td>Camp Pendleton Marine Corps Base</td>\n",
       "      <td>NaN</td>\n",
       "      <td>2019</td>\n",
       "      <td>False</td>\n",
       "      <td>/incidents/2019/10/22/oak-fire/</td>\n",
       "      <td>NaN</td>\n",
       "      <td>NaN</td>\n",
       "      <td>San Diego</td>\n",
       "      <td>...</td>\n",
       "      <td>NaN</td>\n",
       "      <td>2019-10-22T19:20:44Z</td>\n",
       "      <td>Finalized</td>\n",
       "      <td>NaN</td>\n",
       "      <td>NaN</td>\n",
       "      <td>NaN</td>\n",
       "      <td>NaN</td>\n",
       "      <td>7264a106-e0f4-41de-8fd0-3f9110431e28</td>\n",
       "      <td>2019-11-21T12:21:28.58Z</td>\n",
       "      <td>NaN</td>\n",
       "    </tr>\n",
       "    <tr>\n",
       "      <th>1635</th>\n",
       "      <td>NaN</td>\n",
       "      <td>False</td>\n",
       "      <td>Bureau of Indian Affairs</td>\n",
       "      <td>NaN</td>\n",
       "      <td>2019</td>\n",
       "      <td>False</td>\n",
       "      <td>/incidents/2019/10/14/johnson-fire/</td>\n",
       "      <td>As of 10:00 p.m. on 10/16, the fire is 90% con...</td>\n",
       "      <td>NaN</td>\n",
       "      <td>Riverside</td>\n",
       "      <td>...</td>\n",
       "      <td>NaN</td>\n",
       "      <td>2019-10-14T15:32:20Z</td>\n",
       "      <td>Inactive</td>\n",
       "      <td>NaN</td>\n",
       "      <td>NaN</td>\n",
       "      <td>NaN</td>\n",
       "      <td>NaN</td>\n",
       "      <td>8bf75401-999f-42bd-8c0a-8db508591545</td>\n",
       "      <td>2019-10-30T10:14:19.58Z</td>\n",
       "      <td>NaN</td>\n",
       "    </tr>\n",
       "  </tbody>\n",
       "</table>\n",
       "<p>1482 rows × 40 columns</p>\n",
       "</div>"
      ],
      "text/plain": [
       "      AcresBurned  Active                                          AdminUnit  \\\n",
       "0        257314.0   False  Stanislaus National Forest/Yosemite National Park   \n",
       "1         30274.0   False  USFS Angeles National Forest/Los Angeles Count...   \n",
       "2         27531.0   False  CAL FIRE Riverside Unit / San Bernardino Natio...   \n",
       "3         27440.0   False                              Tahoe National Forest   \n",
       "5         22992.0   False                             Sierra National Forest   \n",
       "...           ...     ...                                                ...   \n",
       "1631          9.0   False                   CAL FIRE / Riverside County Fire   \n",
       "1632          2.0   False                  CAL FIRE Nevada-Yuba-Placer Unit    \n",
       "1633          NaN   False               Yolo County Fire Protection District   \n",
       "1634          NaN   False                   Camp Pendleton Marine Corps Base   \n",
       "1635          NaN   False                           Bureau of Indian Affairs   \n",
       "\n",
       "      AirTankers  ArchiveYear  CalFireIncident  \\\n",
       "0            NaN         2013             True   \n",
       "1            NaN         2013             True   \n",
       "2            NaN         2013             True   \n",
       "3            NaN         2013            False   \n",
       "5            NaN         2013            False   \n",
       "...          ...          ...              ...   \n",
       "1631         NaN         2019             True   \n",
       "1632         NaN         2019             True   \n",
       "1633         NaN         2019            False   \n",
       "1634         NaN         2019            False   \n",
       "1635         NaN         2019            False   \n",
       "\n",
       "                               CanonicalUrl  \\\n",
       "0            /incidents/2013/8/17/rim-fire/   \n",
       "1     /incidents/2013/5/30/powerhouse-fire/   \n",
       "2       /incidents/2013/7/15/mountain-fire/   \n",
       "3       /incidents/2013/8/10/american-fire/   \n",
       "5          /incidents/2013/7/22/aspen-fire/   \n",
       "...                                     ...   \n",
       "1631      /incidents/2019/10/10/eagle-fire/   \n",
       "1632        /incidents/2019/6/28/long-fire/   \n",
       "1633      /incidents/2019/11/25/cashe-fire/   \n",
       "1634        /incidents/2019/10/22/oak-fire/   \n",
       "1635    /incidents/2019/10/14/johnson-fire/   \n",
       "\n",
       "                                     ConditionStatement ControlStatement  \\\n",
       "0                                                   NaN              NaN   \n",
       "1                                                   NaN              NaN   \n",
       "2                                                   NaN              NaN   \n",
       "3                                                   NaN              NaN   \n",
       "5                                                   NaN              NaN   \n",
       "...                                                 ...              ...   \n",
       "1631                                                NaN              NaN   \n",
       "1632                                                NaN              NaN   \n",
       "1633                                                NaN              NaN   \n",
       "1634                                                NaN              NaN   \n",
       "1635  As of 10:00 p.m. on 10/16, the fire is 90% con...              NaN   \n",
       "\n",
       "         Counties  ...                                     SearchKeywords  \\\n",
       "0        Tuolumne  ...  Rim Fire, Stanislaus National Forest, Yosemite...   \n",
       "1     Los Angeles  ...  Powerhouse Fire, May 2013, June 2013, Angeles ...   \n",
       "2       Riverside  ...  Mountain Fire, July 2013, Highway 243, Highway...   \n",
       "3          Placer  ...  American Fire, August 2013, Deadwood Ridge, Fo...   \n",
       "5          Fresno  ...  217  Aspen Fire, July 2013, Big Creek, Fresno ...   \n",
       "...           ...  ...                                                ...   \n",
       "1631    Riverside  ...                                                NaN   \n",
       "1632       Nevada  ...                                                NaN   \n",
       "1633         Yolo  ...                                                NaN   \n",
       "1634    San Diego  ...                                                NaN   \n",
       "1635    Riverside  ...                                                NaN   \n",
       "\n",
       "                   Started     Status  StructuresDamaged StructuresDestroyed  \\\n",
       "0     2013-08-17T15:25:00Z  Finalized                NaN                 NaN   \n",
       "1     2013-05-30T15:28:00Z  Finalized                NaN                 NaN   \n",
       "2     2013-07-15T13:43:00Z  Finalized                NaN                 NaN   \n",
       "3     2013-08-10T16:30:00Z  Finalized                NaN                 NaN   \n",
       "5     2013-07-22T22:15:00Z  Finalized                NaN                 NaN   \n",
       "...                    ...        ...                ...                 ...   \n",
       "1631  2019-10-10T12:08:00Z  Finalized                NaN                 NaN   \n",
       "1632  2019-06-28T15:03:04Z  Finalized                NaN                 NaN   \n",
       "1633  2019-11-25T12:02:02Z  Finalized                NaN                 NaN   \n",
       "1634  2019-10-22T19:20:44Z  Finalized                NaN                 NaN   \n",
       "1635  2019-10-14T15:32:20Z   Inactive                NaN                 NaN   \n",
       "\n",
       "      StructuresEvacuated  StructuresThreatened  \\\n",
       "0                     NaN                   NaN   \n",
       "1                     NaN                   NaN   \n",
       "2                     NaN                   NaN   \n",
       "3                     NaN                   NaN   \n",
       "5                     NaN                   NaN   \n",
       "...                   ...                   ...   \n",
       "1631                  NaN                   NaN   \n",
       "1632                  NaN                   NaN   \n",
       "1633                  NaN                   NaN   \n",
       "1634                  NaN                   NaN   \n",
       "1635                  NaN                   NaN   \n",
       "\n",
       "                                  UniqueId                   Updated  \\\n",
       "0     5fb18d4d-213f-4d83-a179-daaf11939e78      2013-09-06T18:30:00Z   \n",
       "1     bf37805e-1cc2-4208-9972-753e47874c87      2013-06-08T18:30:00Z   \n",
       "2     a3149fec-4d48-427c-8b2c-59e8b79d59db      2013-07-30T18:00:00Z   \n",
       "3     8213f5c7-34fa-403b-a4bc-da2ace6e6625      2013-08-30T08:00:00Z   \n",
       "5     bee8c339-4f26-4b78-a5b4-a8a0ebdb8786      2013-09-24T20:15:00Z   \n",
       "...                                    ...                       ...   \n",
       "1631  6e93b252-99a3-4214-9921-238373b17535  2019-10-10T18:11:59.733Z   \n",
       "1632  b38c0563-b321-431b-9174-6336c5a0d449  2019-06-30T15:52:01.023Z   \n",
       "1633  9c26f915-1b33-422d-b30a-9eb4da6fd729   2019-12-03T16:35:20.93Z   \n",
       "1634  7264a106-e0f4-41de-8fd0-3f9110431e28   2019-11-21T12:21:28.58Z   \n",
       "1635  8bf75401-999f-42bd-8c0a-8db508591545   2019-10-30T10:14:19.58Z   \n",
       "\n",
       "      WaterTenders  \n",
       "0              NaN  \n",
       "1              NaN  \n",
       "2              NaN  \n",
       "3              NaN  \n",
       "5              NaN  \n",
       "...            ...  \n",
       "1631           NaN  \n",
       "1632           NaN  \n",
       "1633           NaN  \n",
       "1634           NaN  \n",
       "1635           NaN  \n",
       "\n",
       "[1482 rows x 40 columns]"
      ]
     },
     "execution_count": 20,
     "metadata": {},
     "output_type": "execute_result"
    }
   ],
   "source": [
    "wildfires_df_cleaned = wildfires_df[~wildfires_df[\"UniqueId\"].isin(missing_lonlat_df[\"UniqueId\"])]\n",
    "wildfires_df_cleaned"
   ]
  },
  {
   "cell_type": "code",
   "execution_count": 21,
   "id": "9501f201",
   "metadata": {},
   "outputs": [
    {
     "data": {
      "text/html": [
       "<div>\n",
       "<style scoped>\n",
       "    .dataframe tbody tr th:only-of-type {\n",
       "        vertical-align: middle;\n",
       "    }\n",
       "\n",
       "    .dataframe tbody tr th {\n",
       "        vertical-align: top;\n",
       "    }\n",
       "\n",
       "    .dataframe thead th {\n",
       "        text-align: right;\n",
       "    }\n",
       "</style>\n",
       "<table border=\"1\" class=\"dataframe\">\n",
       "  <thead>\n",
       "    <tr style=\"text-align: right;\">\n",
       "      <th></th>\n",
       "      <th>UniqueId</th>\n",
       "      <th>Longitude</th>\n",
       "      <th>Latitude</th>\n",
       "      <th>Started</th>\n",
       "      <th>Location</th>\n",
       "      <th>Counties</th>\n",
       "    </tr>\n",
       "  </thead>\n",
       "  <tbody>\n",
       "    <tr>\n",
       "      <th>1631</th>\n",
       "      <td>6e93b252-99a3-4214-9921-238373b17535</td>\n",
       "      <td>-117.499619</td>\n",
       "      <td>33.827979</td>\n",
       "      <td>2019-10-10T12:08:00Z</td>\n",
       "      <td>Eagle Canyon Rd. and Cajalco Rd., southwest of...</td>\n",
       "      <td>Riverside</td>\n",
       "    </tr>\n",
       "    <tr>\n",
       "      <th>1632</th>\n",
       "      <td>b38c0563-b321-431b-9174-6336c5a0d449</td>\n",
       "      <td>-121.000556</td>\n",
       "      <td>39.409722</td>\n",
       "      <td>2019-06-28T15:03:04Z</td>\n",
       "      <td>Off of  Long Point Road and Old Mill Road, Sou...</td>\n",
       "      <td>Nevada</td>\n",
       "    </tr>\n",
       "    <tr>\n",
       "      <th>1633</th>\n",
       "      <td>9c26f915-1b33-422d-b30a-9eb4da6fd729</td>\n",
       "      <td>-121.729691</td>\n",
       "      <td>38.734634</td>\n",
       "      <td>2019-11-25T12:02:02Z</td>\n",
       "      <td>County Road 102 and County Road 17, North of W...</td>\n",
       "      <td>Yolo</td>\n",
       "    </tr>\n",
       "    <tr>\n",
       "      <th>1634</th>\n",
       "      <td>7264a106-e0f4-41de-8fd0-3f9110431e28</td>\n",
       "      <td>-117.403719</td>\n",
       "      <td>33.351145</td>\n",
       "      <td>2019-10-22T19:20:44Z</td>\n",
       "      <td>Near Basilone Road and Las Pulgas Road, near C...</td>\n",
       "      <td>San Diego</td>\n",
       "    </tr>\n",
       "    <tr>\n",
       "      <th>1635</th>\n",
       "      <td>8bf75401-999f-42bd-8c0a-8db508591545</td>\n",
       "      <td>-116.058980</td>\n",
       "      <td>33.451480</td>\n",
       "      <td>2019-10-14T15:32:20Z</td>\n",
       "      <td>Johnson Street and Ave 82</td>\n",
       "      <td>Riverside</td>\n",
       "    </tr>\n",
       "  </tbody>\n",
       "</table>\n",
       "</div>"
      ],
      "text/plain": [
       "                                  UniqueId   Longitude   Latitude  \\\n",
       "1631  6e93b252-99a3-4214-9921-238373b17535 -117.499619  33.827979   \n",
       "1632  b38c0563-b321-431b-9174-6336c5a0d449 -121.000556  39.409722   \n",
       "1633  9c26f915-1b33-422d-b30a-9eb4da6fd729 -121.729691  38.734634   \n",
       "1634  7264a106-e0f4-41de-8fd0-3f9110431e28 -117.403719  33.351145   \n",
       "1635  8bf75401-999f-42bd-8c0a-8db508591545 -116.058980  33.451480   \n",
       "\n",
       "                   Started                                           Location  \\\n",
       "1631  2019-10-10T12:08:00Z  Eagle Canyon Rd. and Cajalco Rd., southwest of...   \n",
       "1632  2019-06-28T15:03:04Z  Off of  Long Point Road and Old Mill Road, Sou...   \n",
       "1633  2019-11-25T12:02:02Z  County Road 102 and County Road 17, North of W...   \n",
       "1634  2019-10-22T19:20:44Z  Near Basilone Road and Las Pulgas Road, near C...   \n",
       "1635  2019-10-14T15:32:20Z                          Johnson Street and Ave 82   \n",
       "\n",
       "       Counties  \n",
       "1631  Riverside  \n",
       "1632     Nevada  \n",
       "1633       Yolo  \n",
       "1634  San Diego  \n",
       "1635  Riverside  "
      ]
     },
     "execution_count": 21,
     "metadata": {},
     "output_type": "execute_result"
    }
   ],
   "source": [
    "wildfires_sm_df = wildfires_df_cleaned[['UniqueId', 'Longitude', 'Latitude', 'Started', 'Location', 'Counties']].copy()\n",
    "wildfires_sm_df.tail()"
   ]
  },
  {
   "cell_type": "code",
   "execution_count": 22,
   "id": "ad200d60",
   "metadata": {},
   "outputs": [],
   "source": [
    "# Convert started col to dt and sort by started\n",
    "wildfires_sm_df['Started'] = pd.to_datetime(wildfires_sm_df['Started'], format='ISO8601')\n",
    "wildfires_sm_df.sort_values(by=\"Started\", inplace=True)"
   ]
  },
  {
   "cell_type": "code",
   "execution_count": 23,
   "id": "16fdc7db",
   "metadata": {},
   "outputs": [],
   "source": [
    "# Get dt one day and one day + one week before fire started\n",
    "# This is to account for satellite revisit time and to avoid the date of the fire\n",
    "wildfires_sm_df['Day_Before_DT'] = wildfires_sm_df['Started'] - pd.Timedelta(days=1)\n",
    "wildfires_sm_df['Week_Before_DT'] = wildfires_sm_df['Day_Before_DT'] - pd.Timedelta(weeks=1)\n",
    "wildfires_sm_df['TwoWeek_Before_DT'] = wildfires_sm_df['Day_Before_DT'] - pd.Timedelta(weeks=2)\n",
    "wildfires_sm_df['FourWeek_Before_DT'] = wildfires_sm_df['Day_Before_DT'] - pd.Timedelta(weeks=4)\n",
    "\n",
    "wildfires_sm_df['Day_Before'] = wildfires_sm_df['Day_Before_DT'].dt.date.astype(str)\n",
    "wildfires_sm_df['Week_Before'] = wildfires_sm_df['Week_Before_DT'].dt.date.astype(str)\n",
    "wildfires_sm_df['TwoWeek_Before'] = wildfires_sm_df['TwoWeek_Before_DT'].dt.date.astype(str)\n",
    "wildfires_sm_df['FourWeek_Before'] = wildfires_sm_df['FourWeek_Before_DT'].dt.date.astype(str)"
   ]
  },
  {
   "cell_type": "code",
   "execution_count": 24,
   "id": "54faf5a5",
   "metadata": {},
   "outputs": [
    {
     "data": {
      "text/html": [
       "<div>\n",
       "<style scoped>\n",
       "    .dataframe tbody tr th:only-of-type {\n",
       "        vertical-align: middle;\n",
       "    }\n",
       "\n",
       "    .dataframe tbody tr th {\n",
       "        vertical-align: top;\n",
       "    }\n",
       "\n",
       "    .dataframe thead th {\n",
       "        text-align: right;\n",
       "    }\n",
       "</style>\n",
       "<table border=\"1\" class=\"dataframe\">\n",
       "  <thead>\n",
       "    <tr style=\"text-align: right;\">\n",
       "      <th></th>\n",
       "      <th>UniqueId</th>\n",
       "      <th>Longitude</th>\n",
       "      <th>Latitude</th>\n",
       "      <th>Started</th>\n",
       "      <th>Location</th>\n",
       "      <th>Counties</th>\n",
       "      <th>Day_Before_DT</th>\n",
       "      <th>Week_Before_DT</th>\n",
       "      <th>TwoWeek_Before_DT</th>\n",
       "      <th>FourWeek_Before_DT</th>\n",
       "      <th>Day_Before</th>\n",
       "      <th>Week_Before</th>\n",
       "      <th>TwoWeek_Before</th>\n",
       "      <th>FourWeek_Before</th>\n",
       "    </tr>\n",
       "  </thead>\n",
       "  <tbody>\n",
       "    <tr>\n",
       "      <th>1261</th>\n",
       "      <td>49232e73-c3ba-4dc3-b673-b973a918fa7c</td>\n",
       "      <td>-122.767510</td>\n",
       "      <td>38.071350</td>\n",
       "      <td>1969-12-31 16:00:00+00:00</td>\n",
       "      <td>Platform Bridge Rd. and Point Reyes Station, n...</td>\n",
       "      <td>Marin</td>\n",
       "      <td>1969-12-30 16:00:00+00:00</td>\n",
       "      <td>1969-12-23 16:00:00+00:00</td>\n",
       "      <td>1969-12-16 16:00:00+00:00</td>\n",
       "      <td>1969-12-02 16:00:00+00:00</td>\n",
       "      <td>1969-12-30</td>\n",
       "      <td>1969-12-23</td>\n",
       "      <td>1969-12-16</td>\n",
       "      <td>1969-12-02</td>\n",
       "    </tr>\n",
       "    <tr>\n",
       "      <th>1019</th>\n",
       "      <td>fcb8579e-7469-4c9e-9eac-527264e6f26b</td>\n",
       "      <td>-121.077610</td>\n",
       "      <td>37.218120</td>\n",
       "      <td>1969-12-31 16:00:00+00:00</td>\n",
       "      <td>Interstate 5 near Taglio Road, Gustine</td>\n",
       "      <td>Merced</td>\n",
       "      <td>1969-12-30 16:00:00+00:00</td>\n",
       "      <td>1969-12-23 16:00:00+00:00</td>\n",
       "      <td>1969-12-16 16:00:00+00:00</td>\n",
       "      <td>1969-12-02 16:00:00+00:00</td>\n",
       "      <td>1969-12-30</td>\n",
       "      <td>1969-12-23</td>\n",
       "      <td>1969-12-16</td>\n",
       "      <td>1969-12-02</td>\n",
       "    </tr>\n",
       "    <tr>\n",
       "      <th>41</th>\n",
       "      <td>094719ba-a47b-4abb-9ec5-a506b2b9fd23</td>\n",
       "      <td>-118.016510</td>\n",
       "      <td>36.602575</td>\n",
       "      <td>2013-02-24 08:16:00+00:00</td>\n",
       "      <td>south of Narrow Gauge Rd &amp; north of Hwy 136, e...</td>\n",
       "      <td>Inyo</td>\n",
       "      <td>2013-02-23 08:16:00+00:00</td>\n",
       "      <td>2013-02-16 08:16:00+00:00</td>\n",
       "      <td>2013-02-09 08:16:00+00:00</td>\n",
       "      <td>2013-01-26 08:16:00+00:00</td>\n",
       "      <td>2013-02-23</td>\n",
       "      <td>2013-02-16</td>\n",
       "      <td>2013-02-09</td>\n",
       "      <td>2013-01-26</td>\n",
       "    </tr>\n",
       "    <tr>\n",
       "      <th>147</th>\n",
       "      <td>58f89ff8-bd3e-4355-b1c0-8fa05c747d3f</td>\n",
       "      <td>-116.941311</td>\n",
       "      <td>34.288877</td>\n",
       "      <td>2013-04-20 17:30:00+00:00</td>\n",
       "      <td>west of Delamar Mountain, north of the communi...</td>\n",
       "      <td>San Bernardino</td>\n",
       "      <td>2013-04-19 17:30:00+00:00</td>\n",
       "      <td>2013-04-12 17:30:00+00:00</td>\n",
       "      <td>2013-04-05 17:30:00+00:00</td>\n",
       "      <td>2013-03-22 17:30:00+00:00</td>\n",
       "      <td>2013-04-19</td>\n",
       "      <td>2013-04-12</td>\n",
       "      <td>2013-04-05</td>\n",
       "      <td>2013-03-22</td>\n",
       "    </tr>\n",
       "    <tr>\n",
       "      <th>50</th>\n",
       "      <td>357ffc13-bef9-48eb-810f-c5de851972eb</td>\n",
       "      <td>-119.635004</td>\n",
       "      <td>37.116295</td>\n",
       "      <td>2013-04-30 12:59:00+00:00</td>\n",
       "      <td>Between Road 210 and Road 200 near Fine Gold C...</td>\n",
       "      <td>Madera</td>\n",
       "      <td>2013-04-29 12:59:00+00:00</td>\n",
       "      <td>2013-04-22 12:59:00+00:00</td>\n",
       "      <td>2013-04-15 12:59:00+00:00</td>\n",
       "      <td>2013-04-01 12:59:00+00:00</td>\n",
       "      <td>2013-04-29</td>\n",
       "      <td>2013-04-22</td>\n",
       "      <td>2013-04-15</td>\n",
       "      <td>2013-04-01</td>\n",
       "    </tr>\n",
       "  </tbody>\n",
       "</table>\n",
       "</div>"
      ],
      "text/plain": [
       "                                  UniqueId   Longitude   Latitude  \\\n",
       "1261  49232e73-c3ba-4dc3-b673-b973a918fa7c -122.767510  38.071350   \n",
       "1019  fcb8579e-7469-4c9e-9eac-527264e6f26b -121.077610  37.218120   \n",
       "41    094719ba-a47b-4abb-9ec5-a506b2b9fd23 -118.016510  36.602575   \n",
       "147   58f89ff8-bd3e-4355-b1c0-8fa05c747d3f -116.941311  34.288877   \n",
       "50    357ffc13-bef9-48eb-810f-c5de851972eb -119.635004  37.116295   \n",
       "\n",
       "                       Started  \\\n",
       "1261 1969-12-31 16:00:00+00:00   \n",
       "1019 1969-12-31 16:00:00+00:00   \n",
       "41   2013-02-24 08:16:00+00:00   \n",
       "147  2013-04-20 17:30:00+00:00   \n",
       "50   2013-04-30 12:59:00+00:00   \n",
       "\n",
       "                                               Location        Counties  \\\n",
       "1261  Platform Bridge Rd. and Point Reyes Station, n...           Marin   \n",
       "1019             Interstate 5 near Taglio Road, Gustine          Merced   \n",
       "41    south of Narrow Gauge Rd & north of Hwy 136, e...            Inyo   \n",
       "147   west of Delamar Mountain, north of the communi...  San Bernardino   \n",
       "50    Between Road 210 and Road 200 near Fine Gold C...          Madera   \n",
       "\n",
       "                 Day_Before_DT            Week_Before_DT  \\\n",
       "1261 1969-12-30 16:00:00+00:00 1969-12-23 16:00:00+00:00   \n",
       "1019 1969-12-30 16:00:00+00:00 1969-12-23 16:00:00+00:00   \n",
       "41   2013-02-23 08:16:00+00:00 2013-02-16 08:16:00+00:00   \n",
       "147  2013-04-19 17:30:00+00:00 2013-04-12 17:30:00+00:00   \n",
       "50   2013-04-29 12:59:00+00:00 2013-04-22 12:59:00+00:00   \n",
       "\n",
       "             TwoWeek_Before_DT        FourWeek_Before_DT  Day_Before  \\\n",
       "1261 1969-12-16 16:00:00+00:00 1969-12-02 16:00:00+00:00  1969-12-30   \n",
       "1019 1969-12-16 16:00:00+00:00 1969-12-02 16:00:00+00:00  1969-12-30   \n",
       "41   2013-02-09 08:16:00+00:00 2013-01-26 08:16:00+00:00  2013-02-23   \n",
       "147  2013-04-05 17:30:00+00:00 2013-03-22 17:30:00+00:00  2013-04-19   \n",
       "50   2013-04-15 12:59:00+00:00 2013-04-01 12:59:00+00:00  2013-04-29   \n",
       "\n",
       "     Week_Before TwoWeek_Before FourWeek_Before  \n",
       "1261  1969-12-23     1969-12-16      1969-12-02  \n",
       "1019  1969-12-23     1969-12-16      1969-12-02  \n",
       "41    2013-02-16     2013-02-09      2013-01-26  \n",
       "147   2013-04-12     2013-04-05      2013-03-22  \n",
       "50    2013-04-22     2013-04-15      2013-04-01  "
      ]
     },
     "execution_count": 24,
     "metadata": {},
     "output_type": "execute_result"
    }
   ],
   "source": [
    "wildfires_sm_df.head()"
   ]
  },
  {
   "cell_type": "code",
   "execution_count": 28,
   "id": "a3275591",
   "metadata": {},
   "outputs": [],
   "source": [
    "def retrieve_set(row, base_dir=\"../Datav2\"):\n",
    "    try:\n",
    "        process_sentinel2(date1=row['FourWeek_Before'], date2=row['Day_Before'], \n",
    "                          lon=row['Longitude'], lat=row['Latitude'], \n",
    "                          export_desc=f\"{row['UniqueId']}\",\n",
    "                          base_dir=base_dir)\n",
    "    except Exception as e:\n",
    "        print(f\"EXCEPTION - Row {row.name} @ ({row['Longitude']}, {row['Latitude']})\")\n",
    "        print(e)"
   ]
  },
  {
   "cell_type": "markdown",
   "id": "df1d6875",
   "metadata": {},
   "source": [
    "## Small export tests"
   ]
  },
  {
   "cell_type": "code",
   "execution_count": 29,
   "id": "8922e9e2",
   "metadata": {},
   "outputs": [
    {
     "name": "stdout",
     "output_type": "stream",
     "text": [
      "Image download: ./DebugTest2/exports/tc/0724__test_v16_t1_tc.tif (512, 512)\n",
      "Image download: ./DebugTest2/exports/ndvi/0724__test_v16_t1_ndvi_bw.tif (512, 512)\n",
      "Image download: ./DebugTest2/exports/tc/0724__test_v16_t2_tc.tif (512, 512)\n",
      "Image download: ./DebugTest2/exports/ndvi/0724__test_v16_t2_ndvi_bw.tif (512, 512)\n"
     ]
    }
   ],
   "source": [
    "def example_test(fname, base_dir):\n",
    "    find_or_create_download_dirs(base_dir=base_dir)\n",
    "\n",
    "    # Define date range\n",
    "    date1 = '2024-06-01'\n",
    "    date2 = '2024-06-30'\n",
    "\n",
    "    # Define coordinates\n",
    "\n",
    "    # Test 1\n",
    "    # Golden Gate Park, SF\n",
    "    lon1 = -122.476944\n",
    "    lat1 = 37.769722\n",
    "    \n",
    "    # Test 2\n",
    "    # Berkeley, CA\n",
    "    lon2 = -122.274720\n",
    "    lat2 = 37.868710\n",
    "\n",
    "    # Define buffer area\n",
    "    # (m around lat/lon)\n",
    "    buffer = 2560 \n",
    "\n",
    "    # Define cloud percentage\n",
    "    cloud_percentage = 20\n",
    "\n",
    "    # Specify export description\n",
    "    # related to export filename\n",
    "    export_desc = fname\n",
    "\n",
    "    process_sentinel2(date1, date2, lon1, lat1, export_desc + \"_t1\", base_dir, buffer, cloud_percentage)\n",
    "    process_sentinel2(date1, date2, lon2, lat2, export_desc + \"_t2\", base_dir, buffer, cloud_percentage)\n",
    "\n",
    "\n",
    "example_test(fname='0724__test_v16', base_dir=\"./DebugTest2\")"
   ]
  },
  {
   "cell_type": "code",
   "execution_count": 30,
   "id": "51770033",
   "metadata": {},
   "outputs": [
    {
     "name": "stdout",
     "output_type": "stream",
     "text": [
      "Directory created at: ./DebugTest3/exports\n",
      "Directory created at: ./DebugTest3/exports/ndvi\n",
      "Directory created at: ./DebugTest3/exports/tc\n",
      "Image download: ./DebugTest3/exports/tc/1d76ca50-aa10-4f90-bd99-a80bcf2eacce_tc.tif (512, 512)\n",
      "Image download: ./DebugTest3/exports/ndvi/1d76ca50-aa10-4f90-bd99-a80bcf2eacce_ndvi_bw.tif (512, 512)\n"
     ]
    }
   ],
   "source": [
    "def test_for_cloudy_row(row_idx=508, base_dir=\"./DebugTest3\"):\n",
    "    find_or_create_download_dirs(base_dir=base_dir)\n",
    "    df_one_row = wildfires_from_2016.loc[row_idx]\n",
    "    retrieve_set(df_one_row, base_dir)\n",
    "\n",
    "test_for_cloudy_row()"
   ]
  },
  {
   "cell_type": "code",
   "execution_count": 31,
   "id": "d37b6da5",
   "metadata": {},
   "outputs": [],
   "source": [
    "wildfires_from_2016 = wildfires_sm_df[wildfires_sm_df[\"Started\"].dt.year >= 2016]"
   ]
  },
  {
   "cell_type": "code",
   "execution_count": 33,
   "id": "727abb34",
   "metadata": {},
   "outputs": [
    {
     "name": "stdout",
     "output_type": "stream",
     "text": [
      "Directory created at: ./DebugTest4/exports\n",
      "Directory created at: ./DebugTest4/exports/ndvi\n",
      "Directory created at: ./DebugTest4/exports/tc\n"
     ]
    },
    {
     "name": "stderr",
     "output_type": "stream",
     "text": [
      "\r",
      "  0%|                                                                                                                       | 0/5 [00:00<?, ?it/s]"
     ]
    },
    {
     "name": "stdout",
     "output_type": "stream",
     "text": [
      "Image download: ./DebugTest4/exports/tc/2c77fa07-73e6-45fe-a527-5bd526bdef41_tc.tif (512, 512)\n"
     ]
    },
    {
     "name": "stderr",
     "output_type": "stream",
     "text": [
      "\r",
      " 40%|████████████████████████████████████████████▍                                                                  | 2/5 [00:04<00:07,  2.49s/it]"
     ]
    },
    {
     "name": "stdout",
     "output_type": "stream",
     "text": [
      "Image download: ./DebugTest4/exports/ndvi/2c77fa07-73e6-45fe-a527-5bd526bdef41_ndvi_bw.tif (512, 512)\n",
      "Image download: ./DebugTest4/exports/tc/7106ba43-100b-41f9-acbf-9fb9e9ab9ef7_tc.tif (512, 512)\n"
     ]
    },
    {
     "name": "stderr",
     "output_type": "stream",
     "text": [
      "\r",
      " 60%|██████████████████████████████████████████████████████████████████▌                                            | 3/5 [00:11<00:08,  4.11s/it]"
     ]
    },
    {
     "name": "stdout",
     "output_type": "stream",
     "text": [
      "Image download: ./DebugTest4/exports/ndvi/7106ba43-100b-41f9-acbf-9fb9e9ab9ef7_ndvi_bw.tif (512, 512)\n",
      "Image download: ./DebugTest4/exports/tc/1d76ca50-aa10-4f90-bd99-a80bcf2eacce_tc.tif (512, 512)\n"
     ]
    },
    {
     "name": "stderr",
     "output_type": "stream",
     "text": [
      "\r",
      " 80%|████████████████████████████████████████████████████████████████████████████████████████▊                      | 4/5 [00:15<00:04,  4.02s/it]"
     ]
    },
    {
     "name": "stdout",
     "output_type": "stream",
     "text": [
      "Image download: ./DebugTest4/exports/ndvi/1d76ca50-aa10-4f90-bd99-a80bcf2eacce_ndvi_bw.tif (512, 512)\n"
     ]
    },
    {
     "name": "stderr",
     "output_type": "stream",
     "text": [
      "\r",
      "100%|███████████████████████████████████████████████████████████████████████████████████████████████████████████████| 5/5 [00:16<00:00,  2.92s/it]"
     ]
    },
    {
     "name": "stdout",
     "output_type": "stream",
     "text": [
      "EXCEPTION - Row 597 @ (-121.0381507, 35.8378273)\n",
      "Image.select: Band pattern 'B4' was applied to an Image with no bands. See https://developers.google.com/earth-engine/guides/debugging#no-bands\n"
     ]
    },
    {
     "name": "stderr",
     "output_type": "stream",
     "text": [
      "\r",
      "100%|███████████████████████████████████████████████████████████████████████████████████████████████████████████████| 5/5 [00:16<00:00,  3.38s/it]"
     ]
    },
    {
     "name": "stdout",
     "output_type": "stream",
     "text": [
      "EXCEPTION - Row 514 @ (-119.38248, 36.78769)\n",
      "Image.select: Band pattern 'B4' was applied to an Image with no bands. See https://developers.google.com/earth-engine/guides/debugging#no-bands\n"
     ]
    },
    {
     "name": "stderr",
     "output_type": "stream",
     "text": [
      "\n"
     ]
    },
    {
     "data": {
      "text/plain": [
       "615    None\n",
       "587    None\n",
       "508    None\n",
       "597    None\n",
       "514    None\n",
       "dtype: object"
      ]
     },
     "execution_count": 33,
     "metadata": {},
     "output_type": "execute_result"
    }
   ],
   "source": [
    "find_or_create_download_dirs(base_dir=\"./DebugTest4\")\n",
    "wildfires_from_2016[:5].progress_apply(lambda row: retrieve_set(row, \"./DebugTest4\"), axis=1)"
   ]
  },
  {
   "cell_type": "markdown",
   "id": "ecec2966",
   "metadata": {},
   "source": [
    "## Export all"
   ]
  },
  {
   "cell_type": "code",
   "execution_count": 34,
   "id": "1891309b",
   "metadata": {},
   "outputs": [
    {
     "name": "stdout",
     "output_type": "stream",
     "text": [
      "Directory created at: ../Datav2/exports\n",
      "Directory created at: ../Datav2/exports/ndvi\n",
      "Directory created at: ../Datav2/exports/tc\n"
     ]
    },
    {
     "name": "stderr",
     "output_type": "stream",
     "text": [
      "  0%|▏                                                                                                           | 2/1482 [00:00<11:40,  2.11it/s]"
     ]
    },
    {
     "name": "stdout",
     "output_type": "stream",
     "text": [
      "EXCEPTION - Row 1261 @ (-122.76751, 38.07135)\n",
      "Image.select: Band pattern 'B4' was applied to an Image with no bands. See https://developers.google.com/earth-engine/guides/debugging#no-bands\n"
     ]
    },
    {
     "name": "stderr",
     "output_type": "stream",
     "text": [
      "\r",
      "  0%|▏                                                                                                           | 3/1482 [00:01<15:12,  1.62it/s]"
     ]
    },
    {
     "name": "stdout",
     "output_type": "stream",
     "text": [
      "EXCEPTION - Row 1019 @ (-121.07761, 37.21812)\n",
      "Image.select: Band pattern 'B4' was applied to an Image with no bands. See https://developers.google.com/earth-engine/guides/debugging#no-bands\n"
     ]
    },
    {
     "name": "stderr",
     "output_type": "stream",
     "text": [
      "\r",
      "  0%|▎                                                                                                           | 4/1482 [00:02<18:56,  1.30it/s]"
     ]
    },
    {
     "name": "stdout",
     "output_type": "stream",
     "text": [
      "EXCEPTION - Row 41 @ (-118.01651, 36.602575)\n",
      "Image.select: Band pattern 'B4' was applied to an Image with no bands. See https://developers.google.com/earth-engine/guides/debugging#no-bands\n"
     ]
    },
    {
     "name": "stderr",
     "output_type": "stream",
     "text": [
      "\r",
      "  0%|▎                                                                                                           | 5/1482 [00:03<19:21,  1.27it/s]"
     ]
    },
    {
     "name": "stdout",
     "output_type": "stream",
     "text": [
      "EXCEPTION - Row 147 @ (-116.941311, 34.288877)\n",
      "Image.select: Band pattern 'B4' was applied to an Image with no bands. See https://developers.google.com/earth-engine/guides/debugging#no-bands\n"
     ]
    },
    {
     "name": "stderr",
     "output_type": "stream",
     "text": [
      "\r",
      "  0%|▍                                                                                                           | 6/1482 [00:04<19:36,  1.25it/s]"
     ]
    },
    {
     "name": "stdout",
     "output_type": "stream",
     "text": [
      "EXCEPTION - Row 50 @ (-119.635004, 37.116295)\n",
      "Image.select: Band pattern 'B4' was applied to an Image with no bands. See https://developers.google.com/earth-engine/guides/debugging#no-bands\n"
     ]
    },
    {
     "name": "stderr",
     "output_type": "stream",
     "text": [
      "\r",
      "  0%|▌                                                                                                           | 7/1482 [00:05<20:34,  1.19it/s]"
     ]
    },
    {
     "name": "stdout",
     "output_type": "stream",
     "text": [
      "EXCEPTION - Row 106 @ (-122.350844, 38.441792)\n",
      "Image.select: Band pattern 'B4' was applied to an Image with no bands. See https://developers.google.com/earth-engine/guides/debugging#no-bands\n"
     ]
    },
    {
     "name": "stderr",
     "output_type": "stream",
     "text": [
      "\r",
      "  1%|▌                                                                                                           | 8/1482 [00:06<21:13,  1.16it/s]"
     ]
    },
    {
     "name": "stdout",
     "output_type": "stream",
     "text": [
      "EXCEPTION - Row 77 @ (-122.655616, 38.638828)\n",
      "Image.select: Band pattern 'B4' was applied to an Image with no bands. See https://developers.google.com/earth-engine/guides/debugging#no-bands\n"
     ]
    },
    {
     "name": "stderr",
     "output_type": "stream",
     "text": [
      "\r",
      "  1%|▋                                                                                                           | 9/1482 [00:06<20:05,  1.22it/s]"
     ]
    },
    {
     "name": "stdout",
     "output_type": "stream",
     "text": [
      "EXCEPTION - Row 12 @ (-121.595555, 40.190062)\n",
      "Image.select: Band pattern 'B4' was applied to an Image with no bands. See https://developers.google.com/earth-engine/guides/debugging#no-bands\n"
     ]
    },
    {
     "name": "stderr",
     "output_type": "stream",
     "text": [
      "\r",
      "  1%|▋                                                                                                          | 10/1482 [00:07<19:59,  1.23it/s]"
     ]
    },
    {
     "name": "stdout",
     "output_type": "stream",
     "text": [
      "EXCEPTION - Row 16 @ (-116.941311, 34.288877)\n",
      "Image.select: Band pattern 'B4' was applied to an Image with no bands. See https://developers.google.com/earth-engine/guides/debugging#no-bands\n"
     ]
    },
    {
     "name": "stderr",
     "output_type": "stream",
     "text": [
      "\r",
      "  1%|▊                                                                                                          | 11/1482 [00:08<20:57,  1.17it/s]"
     ]
    },
    {
     "name": "stdout",
     "output_type": "stream",
     "text": [
      "EXCEPTION - Row 57 @ (-122.560862, 39.514139)\n",
      "Image.select: Band pattern 'B4' was applied to an Image with no bands. See https://developers.google.com/earth-engine/guides/debugging#no-bands\n"
     ]
    },
    {
     "name": "stderr",
     "output_type": "stream",
     "text": [
      "\r",
      "  1%|▊                                                                                                          | 12/1482 [00:09<19:49,  1.24it/s]"
     ]
    },
    {
     "name": "stdout",
     "output_type": "stream",
     "text": [
      "EXCEPTION - Row 43 @ (-120.937494, 37.160346)\n",
      "Image.select: Band pattern 'B4' was applied to an Image with no bands. See https://developers.google.com/earth-engine/guides/debugging#no-bands\n"
     ]
    },
    {
     "name": "stderr",
     "output_type": "stream",
     "text": [
      "\r",
      "  1%|▉                                                                                                          | 13/1482 [00:10<20:39,  1.19it/s]"
     ]
    },
    {
     "name": "stdout",
     "output_type": "stream",
     "text": [
      "EXCEPTION - Row 35 @ (-116.855019, 33.894055)\n",
      "Image.select: Band pattern 'B4' was applied to an Image with no bands. See https://developers.google.com/earth-engine/guides/debugging#no-bands\n"
     ]
    },
    {
     "name": "stderr",
     "output_type": "stream",
     "text": [
      "\r",
      "  1%|█                                                                                                          | 14/1482 [00:11<20:26,  1.20it/s]"
     ]
    },
    {
     "name": "stdout",
     "output_type": "stream",
     "text": [
      "EXCEPTION - Row 105 @ (-117.4408, 34.1834)\n",
      "Image.select: Band pattern 'B4' was applied to an Image with no bands. See https://developers.google.com/earth-engine/guides/debugging#no-bands\n"
     ]
    },
    {
     "name": "stderr",
     "output_type": "stream",
     "text": [
      "\r",
      "  1%|█                                                                                                          | 15/1482 [00:12<20:24,  1.20it/s]"
     ]
    },
    {
     "name": "stdout",
     "output_type": "stream",
     "text": [
      "EXCEPTION - Row 13 @ (-118.9411, 34.7861)\n",
      "Image.select: Band pattern 'B4' was applied to an Image with no bands. See https://developers.google.com/earth-engine/guides/debugging#no-bands\n"
     ]
    },
    {
     "name": "stderr",
     "output_type": "stream",
     "text": [
      "\r",
      "  1%|█▏                                                                                                         | 16/1482 [00:12<20:11,  1.21it/s]"
     ]
    },
    {
     "name": "stdout",
     "output_type": "stream",
     "text": [
      "EXCEPTION - Row 14 @ (-118.9411, 34.7861)\n",
      "Image.select: Band pattern 'B4' was applied to an Image with no bands. See https://developers.google.com/earth-engine/guides/debugging#no-bands\n"
     ]
    },
    {
     "name": "stderr",
     "output_type": "stream",
     "text": [
      "\r",
      "  1%|█▏                                                                                                         | 17/1482 [00:13<20:03,  1.22it/s]"
     ]
    },
    {
     "name": "stdout",
     "output_type": "stream",
     "text": [
      "EXCEPTION - Row 136 @ (-116.161201, 33.655638)\n",
      "Image.select: Band pattern 'B4' was applied to an Image with no bands. See https://developers.google.com/earth-engine/guides/debugging#no-bands\n"
     ]
    },
    {
     "name": "stderr",
     "output_type": "stream",
     "text": [
      "\r",
      "  1%|█▎                                                                                                         | 18/1482 [00:14<19:21,  1.26it/s]"
     ]
    },
    {
     "name": "stdout",
     "output_type": "stream",
     "text": [
      "EXCEPTION - Row 30 @ (-118.610044, 34.49149)\n",
      "Image.select: Band pattern 'B4' was applied to an Image with no bands. See https://developers.google.com/earth-engine/guides/debugging#no-bands\n"
     ]
    },
    {
     "name": "stderr",
     "output_type": "stream",
     "text": [
      "\r",
      "  1%|█▎                                                                                                         | 19/1482 [00:15<21:11,  1.15it/s]"
     ]
    },
    {
     "name": "stdout",
     "output_type": "stream",
     "text": [
      "EXCEPTION - Row 96 @ (-119.7917, 37.1927)\n",
      "Image.select: Band pattern 'B4' was applied to an Image with no bands. See https://developers.google.com/earth-engine/guides/debugging#no-bands\n"
     ]
    },
    {
     "name": "stderr",
     "output_type": "stream",
     "text": [
      "\r",
      "  1%|█▍                                                                                                         | 20/1482 [00:16<22:35,  1.08it/s]"
     ]
    },
    {
     "name": "stdout",
     "output_type": "stream",
     "text": [
      "EXCEPTION - Row 155 @ (-116.907213, 33.96201)\n",
      "Image.select: Band pattern 'B4' was applied to an Image with no bands. See https://developers.google.com/earth-engine/guides/debugging#no-bands\n"
     ]
    },
    {
     "name": "stderr",
     "output_type": "stream",
     "text": [
      "\r",
      "  1%|█▌                                                                                                         | 21/1482 [00:17<24:24,  1.00s/it]"
     ]
    },
    {
     "name": "stdout",
     "output_type": "stream",
     "text": [
      "EXCEPTION - Row 141 @ (-120.91375, 35.49864)\n",
      "Image.select: Band pattern 'B4' was applied to an Image with no bands. See https://developers.google.com/earth-engine/guides/debugging#no-bands\n"
     ]
    },
    {
     "name": "stderr",
     "output_type": "stream",
     "text": [
      "\r",
      "  1%|█▌                                                                                                         | 22/1482 [00:18<22:15,  1.09it/s]"
     ]
    },
    {
     "name": "stdout",
     "output_type": "stream",
     "text": [
      "EXCEPTION - Row 97 @ (-116.6534, 33.9582)\n",
      "Image.select: Band pattern 'B4' was applied to an Image with no bands. See https://developers.google.com/earth-engine/guides/debugging#no-bands\n"
     ]
    },
    {
     "name": "stderr",
     "output_type": "stream",
     "text": [
      "\r",
      "  2%|█▋                                                                                                         | 23/1482 [00:19<20:45,  1.17it/s]"
     ]
    },
    {
     "name": "stdout",
     "output_type": "stream",
     "text": [
      "EXCEPTION - Row 88 @ (-116.900368, 32.564465)\n",
      "Image.select: Band pattern 'B4' was applied to an Image with no bands. See https://developers.google.com/earth-engine/guides/debugging#no-bands\n"
     ]
    },
    {
     "name": "stderr",
     "output_type": "stream",
     "text": [
      "\r",
      "  2%|█▋                                                                                                         | 24/1482 [00:20<22:42,  1.07it/s]"
     ]
    },
    {
     "name": "stdout",
     "output_type": "stream",
     "text": [
      "EXCEPTION - Row 18 @ (-116.52579, 33.12111)\n",
      "Image.select: Band pattern 'B4' was applied to an Image with no bands. See https://developers.google.com/earth-engine/guides/debugging#no-bands\n"
     ]
    },
    {
     "name": "stderr",
     "output_type": "stream",
     "text": [
      "\r",
      "  2%|█▊                                                                                                         | 25/1482 [00:20<21:09,  1.15it/s]"
     ]
    },
    {
     "name": "stdout",
     "output_type": "stream",
     "text": [
      "EXCEPTION - Row 80 @ (-117.187934, 33.963591)\n",
      "Image.select: Band pattern 'B4' was applied to an Image with no bands. See https://developers.google.com/earth-engine/guides/debugging#no-bands\n"
     ]
    },
    {
     "name": "stderr",
     "output_type": "stream",
     "text": [
      "\r",
      "  2%|█▉                                                                                                         | 26/1482 [00:21<21:38,  1.12it/s]"
     ]
    },
    {
     "name": "stdout",
     "output_type": "stream",
     "text": [
      "EXCEPTION - Row 121 @ (-120.6368, 35.5123)\n",
      "Image.select: Band pattern 'B4' was applied to an Image with no bands. See https://developers.google.com/earth-engine/guides/debugging#no-bands\n"
     ]
    },
    {
     "name": "stderr",
     "output_type": "stream",
     "text": [
      "\r",
      "  2%|█▉                                                                                                         | 27/1482 [00:22<20:15,  1.20it/s]"
     ]
    },
    {
     "name": "stdout",
     "output_type": "stream",
     "text": [
      "EXCEPTION - Row 25 @ (-116.5209, 33.04458)\n",
      "Image.select: Band pattern 'B4' was applied to an Image with no bands. See https://developers.google.com/earth-engine/guides/debugging#no-bands\n"
     ]
    },
    {
     "name": "stderr",
     "output_type": "stream",
     "text": [
      "\r",
      "  2%|██                                                                                                         | 28/1482 [00:23<20:05,  1.21it/s]"
     ]
    },
    {
     "name": "stdout",
     "output_type": "stream",
     "text": [
      "EXCEPTION - Row 22 @ (-119.82429, 34.55048)\n",
      "Image.select: Band pattern 'B4' was applied to an Image with no bands. See https://developers.google.com/earth-engine/guides/debugging#no-bands\n"
     ]
    },
    {
     "name": "stderr",
     "output_type": "stream",
     "text": [
      "\r",
      "  2%|██                                                                                                         | 29/1482 [00:24<19:59,  1.21it/s]"
     ]
    },
    {
     "name": "stdout",
     "output_type": "stream",
     "text": [
      "EXCEPTION - Row 75 @ (-118.58688, 34.419284)\n",
      "Image.select: Band pattern 'B4' was applied to an Image with no bands. See https://developers.google.com/earth-engine/guides/debugging#no-bands\n"
     ]
    },
    {
     "name": "stderr",
     "output_type": "stream",
     "text": [
      "\r",
      "  2%|██▏                                                                                                        | 30/1482 [00:24<18:59,  1.27it/s]"
     ]
    },
    {
     "name": "stdout",
     "output_type": "stream",
     "text": [
      "EXCEPTION - Row 64 @ (-120.074655, 34.611824)\n",
      "Image.select: Band pattern 'B4' was applied to an Image with no bands. See https://developers.google.com/earth-engine/guides/debugging#no-bands\n"
     ]
    },
    {
     "name": "stderr",
     "output_type": "stream",
     "text": [
      "\r",
      "  2%|██▏                                                                                                        | 31/1482 [00:25<19:54,  1.21it/s]"
     ]
    },
    {
     "name": "stdout",
     "output_type": "stream",
     "text": [
      "EXCEPTION - Row 46 @ (-120.90325, 38.04993)\n",
      "Image.select: Band pattern 'B4' was applied to an Image with no bands. See https://developers.google.com/earth-engine/guides/debugging#no-bands\n"
     ]
    },
    {
     "name": "stderr",
     "output_type": "stream",
     "text": [
      "\r",
      "  2%|██▎                                                                                                        | 32/1482 [00:26<20:07,  1.20it/s]"
     ]
    },
    {
     "name": "stdout",
     "output_type": "stream",
     "text": [
      "EXCEPTION - Row 1 @ (-118.423176, 34.585595)\n",
      "Image.select: Band pattern 'B4' was applied to an Image with no bands. See https://developers.google.com/earth-engine/guides/debugging#no-bands\n"
     ]
    },
    {
     "name": "stderr",
     "output_type": "stream",
     "text": [
      "\r",
      "  2%|██▍                                                                                                        | 33/1482 [00:27<19:15,  1.25it/s]"
     ]
    },
    {
     "name": "stdout",
     "output_type": "stream",
     "text": [
      "EXCEPTION - Row 37 @ (-120.05131, 35.15832)\n",
      "Image.select: Band pattern 'B4' was applied to an Image with no bands. See https://developers.google.com/earth-engine/guides/debugging#no-bands\n"
     ]
    },
    {
     "name": "stderr",
     "output_type": "stream",
     "text": [
      "\r",
      "  2%|██▍                                                                                                        | 34/1482 [00:28<18:42,  1.29it/s]"
     ]
    },
    {
     "name": "stdout",
     "output_type": "stream",
     "text": [
      "EXCEPTION - Row 87 @ (-120.33313, 37.91529)\n",
      "Image.select: Band pattern 'B4' was applied to an Image with no bands. See https://developers.google.com/earth-engine/guides/debugging#no-bands\n"
     ]
    },
    {
     "name": "stderr",
     "output_type": "stream",
     "text": [
      "\r",
      "  2%|██▌                                                                                                        | 35/1482 [00:28<18:15,  1.32it/s]"
     ]
    },
    {
     "name": "stdout",
     "output_type": "stream",
     "text": [
      "EXCEPTION - Row 47 @ (-121.576804, 39.434183)\n",
      "Image.select: Band pattern 'B4' was applied to an Image with no bands. See https://developers.google.com/earth-engine/guides/debugging#no-bands\n"
     ]
    },
    {
     "name": "stderr",
     "output_type": "stream",
     "text": [
      "\r",
      "  2%|██▌                                                                                                        | 36/1482 [00:29<17:56,  1.34it/s]"
     ]
    },
    {
     "name": "stdout",
     "output_type": "stream",
     "text": [
      "EXCEPTION - Row 79 @ (-121.006939, 37.03776)\n",
      "Image.select: Band pattern 'B4' was applied to an Image with no bands. See https://developers.google.com/earth-engine/guides/debugging#no-bands\n"
     ]
    },
    {
     "name": "stderr",
     "output_type": "stream",
     "text": [
      "\r",
      "  2%|██▋                                                                                                        | 37/1482 [00:30<17:43,  1.36it/s]"
     ]
    },
    {
     "name": "stdout",
     "output_type": "stream",
     "text": [
      "EXCEPTION - Row 146 @ (-122.703193, 38.99233)\n",
      "Image.select: Band pattern 'B4' was applied to an Image with no bands. See https://developers.google.com/earth-engine/guides/debugging#no-bands\n"
     ]
    },
    {
     "name": "stderr",
     "output_type": "stream",
     "text": [
      "\r",
      "  3%|██▋                                                                                                        | 38/1482 [00:31<17:58,  1.34it/s]"
     ]
    },
    {
     "name": "stdout",
     "output_type": "stream",
     "text": [
      "EXCEPTION - Row 54 @ (-121.737213, 37.775057)\n",
      "Image.select: Band pattern 'B4' was applied to an Image with no bands. See https://developers.google.com/earth-engine/guides/debugging#no-bands\n"
     ]
    },
    {
     "name": "stderr",
     "output_type": "stream",
     "text": [
      "\r",
      "  3%|██▊                                                                                                        | 39/1482 [00:31<18:49,  1.28it/s]"
     ]
    },
    {
     "name": "stdout",
     "output_type": "stream",
     "text": [
      "EXCEPTION - Row 127 @ (-117.1265, 33.96936)\n",
      "Image.select: Band pattern 'B4' was applied to an Image with no bands. See https://developers.google.com/earth-engine/guides/debugging#no-bands\n"
     ]
    },
    {
     "name": "stderr",
     "output_type": "stream",
     "text": [
      "\r",
      "  3%|██▉                                                                                                        | 40/1482 [00:32<18:04,  1.33it/s]"
     ]
    },
    {
     "name": "stdout",
     "output_type": "stream",
     "text": [
      "EXCEPTION - Row 161 @ (-116.84137, 33.99647)\n",
      "Image.select: Band pattern 'B4' was applied to an Image with no bands. See https://developers.google.com/earth-engine/guides/debugging#no-bands\n"
     ]
    },
    {
     "name": "stderr",
     "output_type": "stream",
     "text": [
      "\r",
      "  3%|██▉                                                                                                        | 41/1482 [00:33<20:16,  1.18it/s]"
     ]
    },
    {
     "name": "stdout",
     "output_type": "stream",
     "text": [
      "EXCEPTION - Row 149 @ (-122.0437, 38.4229)\n",
      "Image.select: Band pattern 'B4' was applied to an Image with no bands. See https://developers.google.com/earth-engine/guides/debugging#no-bands\n"
     ]
    },
    {
     "name": "stderr",
     "output_type": "stream",
     "text": [
      "\r",
      "  3%|███                                                                                                        | 42/1482 [00:34<19:02,  1.26it/s]"
     ]
    },
    {
     "name": "stdout",
     "output_type": "stream",
     "text": [
      "EXCEPTION - Row 150 @ (-122.0437, 38.4229)\n",
      "Image.select: Band pattern 'B4' was applied to an Image with no bands. See https://developers.google.com/earth-engine/guides/debugging#no-bands\n"
     ]
    },
    {
     "name": "stderr",
     "output_type": "stream",
     "text": [
      "\r",
      "  3%|███                                                                                                        | 43/1482 [00:35<20:22,  1.18it/s]"
     ]
    },
    {
     "name": "stdout",
     "output_type": "stream",
     "text": [
      "EXCEPTION - Row 148 @ (-122.0437, 38.4229)\n",
      "Image.select: Band pattern 'B4' was applied to an Image with no bands. See https://developers.google.com/earth-engine/guides/debugging#no-bands\n"
     ]
    },
    {
     "name": "stderr",
     "output_type": "stream",
     "text": [
      "\r",
      "  3%|███▏                                                                                                       | 44/1482 [00:36<19:54,  1.20it/s]"
     ]
    },
    {
     "name": "stdout",
     "output_type": "stream",
     "text": [
      "EXCEPTION - Row 151 @ (-122.0437, 38.4229)\n",
      "Image.select: Band pattern 'B4' was applied to an Image with no bands. See https://developers.google.com/earth-engine/guides/debugging#no-bands\n"
     ]
    },
    {
     "name": "stderr",
     "output_type": "stream",
     "text": [
      "\r",
      "  3%|███▏                                                                                                       | 45/1482 [00:36<18:30,  1.29it/s]"
     ]
    },
    {
     "name": "stdout",
     "output_type": "stream",
     "text": [
      "EXCEPTION - Row 104 @ (-119.75636, 37.169379)\n",
      "Image.select: Band pattern 'B4' was applied to an Image with no bands. See https://developers.google.com/earth-engine/guides/debugging#no-bands\n"
     ]
    },
    {
     "name": "stderr",
     "output_type": "stream",
     "text": [
      "\r",
      "  3%|███▎                                                                                                       | 46/1482 [00:37<20:14,  1.18it/s]"
     ]
    },
    {
     "name": "stdout",
     "output_type": "stream",
     "text": [
      "EXCEPTION - Row 93 @ (-120.966016, 38.27783)\n",
      "Image.select: Band pattern 'B4' was applied to an Image with no bands. See https://developers.google.com/earth-engine/guides/debugging#no-bands\n"
     ]
    },
    {
     "name": "stderr",
     "output_type": "stream",
     "text": [
      "\r",
      "  3%|███▍                                                                                                       | 47/1482 [00:38<20:46,  1.15it/s]"
     ]
    },
    {
     "name": "stdout",
     "output_type": "stream",
     "text": [
      "EXCEPTION - Row 55 @ (-121.380862, 38.729297)\n",
      "Image.select: Band pattern 'B4' was applied to an Image with no bands. See https://developers.google.com/earth-engine/guides/debugging#no-bands\n"
     ]
    },
    {
     "name": "stderr",
     "output_type": "stream",
     "text": [
      "\r",
      "  3%|███▍                                                                                                       | 48/1482 [00:39<20:25,  1.17it/s]"
     ]
    },
    {
     "name": "stdout",
     "output_type": "stream",
     "text": [
      "EXCEPTION - Row 84 @ (-119.628389, 36.772425)\n",
      "Image.select: Band pattern 'B4' was applied to an Image with no bands. See https://developers.google.com/earth-engine/guides/debugging#no-bands\n"
     ]
    },
    {
     "name": "stderr",
     "output_type": "stream",
     "text": [
      "\r",
      "  3%|███▌                                                                                                       | 49/1482 [00:40<20:08,  1.19it/s]"
     ]
    },
    {
     "name": "stdout",
     "output_type": "stream",
     "text": [
      "EXCEPTION - Row 140 @ (-119.558244, 36.763367)\n",
      "Image.select: Band pattern 'B4' was applied to an Image with no bands. See https://developers.google.com/earth-engine/guides/debugging#no-bands\n"
     ]
    },
    {
     "name": "stderr",
     "output_type": "stream",
     "text": [
      "\r",
      "  3%|███▌                                                                                                       | 50/1482 [00:40<19:13,  1.24it/s]"
     ]
    },
    {
     "name": "stdout",
     "output_type": "stream",
     "text": [
      "EXCEPTION - Row 135 @ (-117.302057, 34.001745)\n",
      "Image.select: Band pattern 'B4' was applied to an Image with no bands. See https://developers.google.com/earth-engine/guides/debugging#no-bands\n"
     ]
    },
    {
     "name": "stderr",
     "output_type": "stream",
     "text": [
      "\r",
      "  3%|███▋                                                                                                       | 51/1482 [00:41<18:48,  1.27it/s]"
     ]
    },
    {
     "name": "stdout",
     "output_type": "stream",
     "text": [
      "EXCEPTION - Row 23 @ (-119.91071, 37.58202)\n",
      "Image.select: Band pattern 'B4' was applied to an Image with no bands. See https://developers.google.com/earth-engine/guides/debugging#no-bands\n"
     ]
    },
    {
     "name": "stderr",
     "output_type": "stream",
     "text": [
      "\r",
      "  4%|███▊                                                                                                       | 52/1482 [00:42<18:58,  1.26it/s]"
     ]
    },
    {
     "name": "stdout",
     "output_type": "stream",
     "text": [
      "EXCEPTION - Row 39 @ (-119.78106, 37.015575)\n",
      "Image.select: Band pattern 'B4' was applied to an Image with no bands. See https://developers.google.com/earth-engine/guides/debugging#no-bands\n"
     ]
    },
    {
     "name": "stderr",
     "output_type": "stream",
     "text": [
      "\r",
      "  4%|███▊                                                                                                       | 53/1482 [00:43<18:11,  1.31it/s]"
     ]
    },
    {
     "name": "stdout",
     "output_type": "stream",
     "text": [
      "EXCEPTION - Row 123 @ (-119.463757, 37.03087)\n",
      "Image.select: Band pattern 'B4' was applied to an Image with no bands. See https://developers.google.com/earth-engine/guides/debugging#no-bands\n"
     ]
    },
    {
     "name": "stderr",
     "output_type": "stream",
     "text": [
      "\r",
      "  4%|███▉                                                                                                       | 54/1482 [00:44<18:34,  1.28it/s]"
     ]
    },
    {
     "name": "stdout",
     "output_type": "stream",
     "text": [
      "EXCEPTION - Row 78 @ (-122.13802, 38.08744)\n",
      "Image.select: Band pattern 'B4' was applied to an Image with no bands. See https://developers.google.com/earth-engine/guides/debugging#no-bands\n"
     ]
    },
    {
     "name": "stderr",
     "output_type": "stream",
     "text": [
      "\r",
      "  4%|███▉                                                                                                       | 55/1482 [00:44<18:20,  1.30it/s]"
     ]
    },
    {
     "name": "stdout",
     "output_type": "stream",
     "text": [
      "EXCEPTION - Row 154 @ (-122.81796, 38.98058)\n",
      "Image.select: Band pattern 'B4' was applied to an Image with no bands. See https://developers.google.com/earth-engine/guides/debugging#no-bands\n"
     ]
    },
    {
     "name": "stderr",
     "output_type": "stream",
     "text": [
      "\r",
      "  4%|████                                                                                                       | 56/1482 [00:45<19:14,  1.24it/s]"
     ]
    },
    {
     "name": "stdout",
     "output_type": "stream",
     "text": [
      "EXCEPTION - Row 73 @ (-119.2248, 36.7218)\n",
      "Image.select: Band pattern 'B4' was applied to an Image with no bands. See https://developers.google.com/earth-engine/guides/debugging#no-bands\n"
     ]
    },
    {
     "name": "stderr",
     "output_type": "stream",
     "text": [
      "\r",
      "  4%|████                                                                                                       | 57/1482 [00:46<19:13,  1.23it/s]"
     ]
    },
    {
     "name": "stdout",
     "output_type": "stream",
     "text": [
      "EXCEPTION - Row 33 @ (-117.048397, 34.071556)\n",
      "Image.select: Band pattern 'B4' was applied to an Image with no bands. See https://developers.google.com/earth-engine/guides/debugging#no-bands\n"
     ]
    },
    {
     "name": "stderr",
     "output_type": "stream",
     "text": [
      "\r",
      "  4%|████▏                                                                                                      | 58/1482 [00:47<18:13,  1.30it/s]"
     ]
    },
    {
     "name": "stdout",
     "output_type": "stream",
     "text": [
      "EXCEPTION - Row 85 @ (-120.8973, 36.1531)\n",
      "Image.select: Band pattern 'B4' was applied to an Image with no bands. See https://developers.google.com/earth-engine/guides/debugging#no-bands\n"
     ]
    },
    {
     "name": "stderr",
     "output_type": "stream",
     "text": [
      "\r",
      "  4%|████▎                                                                                                      | 59/1482 [00:47<17:42,  1.34it/s]"
     ]
    },
    {
     "name": "stdout",
     "output_type": "stream",
     "text": [
      "EXCEPTION - Row 38 @ (-121.91453, 37.96866)\n",
      "Image.select: Band pattern 'B4' was applied to an Image with no bands. See https://developers.google.com/earth-engine/guides/debugging#no-bands\n"
     ]
    },
    {
     "name": "stderr",
     "output_type": "stream",
     "text": [
      "\r",
      "  4%|████▎                                                                                                      | 60/1482 [00:48<17:13,  1.38it/s]"
     ]
    },
    {
     "name": "stdout",
     "output_type": "stream",
     "text": [
      "EXCEPTION - Row 49 @ (-121.74367, 39.90465)\n",
      "Image.select: Band pattern 'B4' was applied to an Image with no bands. See https://developers.google.com/earth-engine/guides/debugging#no-bands\n"
     ]
    },
    {
     "name": "stderr",
     "output_type": "stream",
     "text": [
      "\r",
      "  4%|████▍                                                                                                      | 61/1482 [00:49<17:52,  1.32it/s]"
     ]
    },
    {
     "name": "stdout",
     "output_type": "stream",
     "text": [
      "EXCEPTION - Row 36 @ (-121.035, 41.2415)\n",
      "Image.select: Band pattern 'B4' was applied to an Image with no bands. See https://developers.google.com/earth-engine/guides/debugging#no-bands\n"
     ]
    },
    {
     "name": "stderr",
     "output_type": "stream",
     "text": [
      "\r",
      "  4%|████▍                                                                                                      | 62/1482 [00:50<19:02,  1.24it/s]"
     ]
    },
    {
     "name": "stdout",
     "output_type": "stream",
     "text": [
      "EXCEPTION - Row 60 @ (-122.079871, 40.012398)\n",
      "Image.select: Band pattern 'B4' was applied to an Image with no bands. See https://developers.google.com/earth-engine/guides/debugging#no-bands\n"
     ]
    },
    {
     "name": "stderr",
     "output_type": "stream",
     "text": [
      "\r",
      "  4%|████▌                                                                                                      | 63/1482 [00:51<19:08,  1.24it/s]"
     ]
    },
    {
     "name": "stdout",
     "output_type": "stream",
     "text": [
      "EXCEPTION - Row 120 @ (-121.5869, 37.7393)\n",
      "Image.select: Band pattern 'B4' was applied to an Image with no bands. See https://developers.google.com/earth-engine/guides/debugging#no-bands\n"
     ]
    },
    {
     "name": "stderr",
     "output_type": "stream",
     "text": [
      "\r",
      "  4%|████▌                                                                                                      | 64/1482 [00:51<19:10,  1.23it/s]"
     ]
    },
    {
     "name": "stdout",
     "output_type": "stream",
     "text": [
      "EXCEPTION - Row 11 @ (-116.47381, 32.95435)\n",
      "Image.select: Band pattern 'B4' was applied to an Image with no bands. See https://developers.google.com/earth-engine/guides/debugging#no-bands\n"
     ]
    },
    {
     "name": "stderr",
     "output_type": "stream",
     "text": [
      "\r",
      "  4%|████▋                                                                                                      | 65/1482 [00:52<19:14,  1.23it/s]"
     ]
    },
    {
     "name": "stdout",
     "output_type": "stream",
     "text": [
      "EXCEPTION - Row 139 @ (-121.86216, 37.74241)\n",
      "Image.select: Band pattern 'B4' was applied to an Image with no bands. See https://developers.google.com/earth-engine/guides/debugging#no-bands\n"
     ]
    },
    {
     "name": "stderr",
     "output_type": "stream",
     "text": [
      "\r",
      "  4%|████▊                                                                                                      | 66/1482 [00:53<18:31,  1.27it/s]"
     ]
    },
    {
     "name": "stdout",
     "output_type": "stream",
     "text": [
      "EXCEPTION - Row 98 @ (-120.83417, 35.62743)\n",
      "Image.select: Band pattern 'B4' was applied to an Image with no bands. See https://developers.google.com/earth-engine/guides/debugging#no-bands\n"
     ]
    },
    {
     "name": "stderr",
     "output_type": "stream",
     "text": [
      "\r",
      "  5%|████▊                                                                                                      | 67/1482 [00:54<18:01,  1.31it/s]"
     ]
    },
    {
     "name": "stdout",
     "output_type": "stream",
     "text": [
      "EXCEPTION - Row 108 @ (-121.31634, 39.206)\n",
      "Image.select: Band pattern 'B4' was applied to an Image with no bands. See https://developers.google.com/earth-engine/guides/debugging#no-bands\n"
     ]
    },
    {
     "name": "stderr",
     "output_type": "stream",
     "text": [
      "\r",
      "  5%|████▉                                                                                                      | 68/1482 [00:54<17:50,  1.32it/s]"
     ]
    },
    {
     "name": "stdout",
     "output_type": "stream",
     "text": [
      "EXCEPTION - Row 32 @ (-120.298, 38.774)\n",
      "Image.select: Band pattern 'B4' was applied to an Image with no bands. See https://developers.google.com/earth-engine/guides/debugging#no-bands\n"
     ]
    },
    {
     "name": "stderr",
     "output_type": "stream",
     "text": [
      "\r",
      "  5%|████▉                                                                                                      | 69/1482 [00:55<17:22,  1.36it/s]"
     ]
    },
    {
     "name": "stdout",
     "output_type": "stream",
     "text": [
      "EXCEPTION - Row 126 @ (-122.7338, 40.373)\n",
      "Image.select: Band pattern 'B4' was applied to an Image with no bands. See https://developers.google.com/earth-engine/guides/debugging#no-bands\n"
     ]
    },
    {
     "name": "stderr",
     "output_type": "stream",
     "text": [
      "\r",
      "  5%|█████                                                                                                      | 70/1482 [00:56<16:35,  1.42it/s]"
     ]
    },
    {
     "name": "stdout",
     "output_type": "stream",
     "text": [
      "EXCEPTION - Row 119 @ (-121.7804, 37.1438)\n",
      "Image.select: Band pattern 'B4' was applied to an Image with no bands. See https://developers.google.com/earth-engine/guides/debugging#no-bands\n"
     ]
    },
    {
     "name": "stderr",
     "output_type": "stream",
     "text": [
      "\r",
      "  5%|█████▏                                                                                                     | 71/1482 [00:57<17:17,  1.36it/s]"
     ]
    },
    {
     "name": "stdout",
     "output_type": "stream",
     "text": [
      "EXCEPTION - Row 72 @ (-121.1955, 37.436)\n",
      "Image.select: Band pattern 'B4' was applied to an Image with no bands. See https://developers.google.com/earth-engine/guides/debugging#no-bands\n"
     ]
    },
    {
     "name": "stderr",
     "output_type": "stream",
     "text": [
      "\r",
      "  5%|█████▏                                                                                                     | 72/1482 [00:57<17:08,  1.37it/s]"
     ]
    },
    {
     "name": "stdout",
     "output_type": "stream",
     "text": [
      "EXCEPTION - Row 2 @ (-116.72885, 33.7095)\n",
      "Image.select: Band pattern 'B4' was applied to an Image with no bands. See https://developers.google.com/earth-engine/guides/debugging#no-bands\n"
     ]
    },
    {
     "name": "stderr",
     "output_type": "stream",
     "text": [
      "\r",
      "  5%|█████▎                                                                                                     | 73/1482 [00:58<17:45,  1.32it/s]"
     ]
    },
    {
     "name": "stdout",
     "output_type": "stream",
     "text": [
      "EXCEPTION - Row 71 @ (-117.164997, 33.990128)\n",
      "Image.select: Band pattern 'B4' was applied to an Image with no bands. See https://developers.google.com/earth-engine/guides/debugging#no-bands\n"
     ]
    },
    {
     "name": "stderr",
     "output_type": "stream",
     "text": [
      "\r",
      "  5%|█████▎                                                                                                     | 74/1482 [00:59<16:50,  1.39it/s]"
     ]
    },
    {
     "name": "stdout",
     "output_type": "stream",
     "text": [
      "EXCEPTION - Row 29 @ (-118.9194, 34.882)\n",
      "Image.select: Band pattern 'B4' was applied to an Image with no bands. See https://developers.google.com/earth-engine/guides/debugging#no-bands\n"
     ]
    },
    {
     "name": "stderr",
     "output_type": "stream",
     "text": [
      "\r",
      "  5%|█████▍                                                                                                     | 75/1482 [01:00<17:15,  1.36it/s]"
     ]
    },
    {
     "name": "stdout",
     "output_type": "stream",
     "text": [
      "EXCEPTION - Row 62 @ (-122.330879, 39.961309)\n",
      "Image.select: Band pattern 'B4' was applied to an Image with no bands. See https://developers.google.com/earth-engine/guides/debugging#no-bands\n"
     ]
    },
    {
     "name": "stderr",
     "output_type": "stream",
     "text": [
      "\r",
      "  5%|█████▍                                                                                                     | 76/1482 [01:02<29:01,  1.24s/it]"
     ]
    },
    {
     "name": "stdout",
     "output_type": "stream",
     "text": [
      "EXCEPTION - Row 67 @ (-121.08438, 38.63987)\n",
      "Image.select: Band pattern 'B4' was applied to an Image with no bands. See https://developers.google.com/earth-engine/guides/debugging#no-bands\n"
     ]
    },
    {
     "name": "stderr",
     "output_type": "stream",
     "text": [
      "\r",
      "  5%|█████▌                                                                                                     | 77/1482 [01:03<25:12,  1.08s/it]"
     ]
    },
    {
     "name": "stdout",
     "output_type": "stream",
     "text": [
      "EXCEPTION - Row 66 @ (-121.08438, 38.63987)\n",
      "Image.select: Band pattern 'B4' was applied to an Image with no bands. See https://developers.google.com/earth-engine/guides/debugging#no-bands\n"
     ]
    },
    {
     "name": "stderr",
     "output_type": "stream",
     "text": [
      "\r",
      "  5%|█████▋                                                                                                     | 78/1482 [01:03<22:37,  1.03it/s]"
     ]
    },
    {
     "name": "stdout",
     "output_type": "stream",
     "text": [
      "EXCEPTION - Row 134 @ (-117.2508, 33.9634)\n",
      "Image.select: Band pattern 'B4' was applied to an Image with no bands. See https://developers.google.com/earth-engine/guides/debugging#no-bands\n"
     ]
    },
    {
     "name": "stderr",
     "output_type": "stream",
     "text": [
      "\r",
      "  5%|█████▋                                                                                                     | 79/1482 [01:04<20:54,  1.12it/s]"
     ]
    },
    {
     "name": "stdout",
     "output_type": "stream",
     "text": [
      "EXCEPTION - Row 158 @ (-117.09306, 33.94528)\n",
      "Image.select: Band pattern 'B4' was applied to an Image with no bands. See https://developers.google.com/earth-engine/guides/debugging#no-bands\n"
     ]
    },
    {
     "name": "stderr",
     "output_type": "stream",
     "text": [
      "\r",
      "  5%|█████▊                                                                                                     | 80/1482 [01:05<20:18,  1.15it/s]"
     ]
    },
    {
     "name": "stdout",
     "output_type": "stream",
     "text": [
      "EXCEPTION - Row 144 @ (-120.696362, 37.965364)\n",
      "Image.select: Band pattern 'B4' was applied to an Image with no bands. See https://developers.google.com/earth-engine/guides/debugging#no-bands\n"
     ]
    },
    {
     "name": "stderr",
     "output_type": "stream",
     "text": [
      "\r",
      "  5%|█████▊                                                                                                     | 81/1482 [01:06<19:56,  1.17it/s]"
     ]
    },
    {
     "name": "stdout",
     "output_type": "stream",
     "text": [
      "EXCEPTION - Row 5 @ (-119.318, 37.279)\n",
      "Image.select: Band pattern 'B4' was applied to an Image with no bands. See https://developers.google.com/earth-engine/guides/debugging#no-bands\n"
     ]
    },
    {
     "name": "stderr",
     "output_type": "stream",
     "text": [
      "\r",
      "  6%|█████▉                                                                                                     | 82/1482 [01:06<19:18,  1.21it/s]"
     ]
    },
    {
     "name": "stdout",
     "output_type": "stream",
     "text": [
      "EXCEPTION - Row 31 @ (-118.93388, 34.90327)\n",
      "Image.select: Band pattern 'B4' was applied to an Image with no bands. See https://developers.google.com/earth-engine/guides/debugging#no-bands\n"
     ]
    },
    {
     "name": "stderr",
     "output_type": "stream",
     "text": [
      "\r",
      "  6%|█████▉                                                                                                     | 83/1482 [01:07<20:03,  1.16it/s]"
     ]
    },
    {
     "name": "stdout",
     "output_type": "stream",
     "text": [
      "EXCEPTION - Row 124 @ (-123.067671, 38.980846)\n",
      "Image.select: Band pattern 'B4' was applied to an Image with no bands. See https://developers.google.com/earth-engine/guides/debugging#no-bands\n"
     ]
    },
    {
     "name": "stderr",
     "output_type": "stream",
     "text": [
      "\r",
      "  6%|██████                                                                                                     | 84/1482 [01:08<20:00,  1.16it/s]"
     ]
    },
    {
     "name": "stdout",
     "output_type": "stream",
     "text": [
      "EXCEPTION - Row 103 @ (-117.352, 34.316)\n",
      "Image.select: Band pattern 'B4' was applied to an Image with no bands. See https://developers.google.com/earth-engine/guides/debugging#no-bands\n"
     ]
    },
    {
     "name": "stderr",
     "output_type": "stream",
     "text": [
      "\r",
      "  6%|██████▏                                                                                                    | 85/1482 [01:09<19:44,  1.18it/s]"
     ]
    },
    {
     "name": "stdout",
     "output_type": "stream",
     "text": [
      "EXCEPTION - Row 69 @ (-122.51253, 38.17693)\n",
      "Image.select: Band pattern 'B4' was applied to an Image with no bands. See https://developers.google.com/earth-engine/guides/debugging#no-bands\n"
     ]
    },
    {
     "name": "stderr",
     "output_type": "stream",
     "text": [
      "\r",
      "  6%|██████▏                                                                                                    | 86/1482 [01:10<19:30,  1.19it/s]"
     ]
    },
    {
     "name": "stdout",
     "output_type": "stream",
     "text": [
      "EXCEPTION - Row 153 @ (-116.707335, 32.612773)\n",
      "Image.select: Band pattern 'B4' was applied to an Image with no bands. See https://developers.google.com/earth-engine/guides/debugging#no-bands\n"
     ]
    },
    {
     "name": "stderr",
     "output_type": "stream",
     "text": [
      "\r",
      "  6%|██████▎                                                                                                    | 87/1482 [01:11<20:07,  1.16it/s]"
     ]
    },
    {
     "name": "stdout",
     "output_type": "stream",
     "text": [
      "EXCEPTION - Row 7 @ (-123.176, 41.32)\n",
      "Image.select: Band pattern 'B4' was applied to an Image with no bands. See https://developers.google.com/earth-engine/guides/debugging#no-bands\n"
     ]
    },
    {
     "name": "stderr",
     "output_type": "stream",
     "text": [
      "\r",
      "  6%|██████▎                                                                                                    | 88/1482 [01:12<19:03,  1.22it/s]"
     ]
    },
    {
     "name": "stdout",
     "output_type": "stream",
     "text": [
      "EXCEPTION - Row 95 @ (-121.50354, 39.6612)\n",
      "Image.select: Band pattern 'B4' was applied to an Image with no bands. See https://developers.google.com/earth-engine/guides/debugging#no-bands\n"
     ]
    },
    {
     "name": "stderr",
     "output_type": "stream",
     "text": [
      "\r",
      "  6%|██████▍                                                                                                    | 89/1482 [01:12<18:26,  1.26it/s]"
     ]
    },
    {
     "name": "stdout",
     "output_type": "stream",
     "text": [
      "EXCEPTION - Row 160 @ (-123.376, 41.333)\n",
      "Image.select: Band pattern 'B4' was applied to an Image with no bands. See https://developers.google.com/earth-engine/guides/debugging#no-bands\n"
     ]
    },
    {
     "name": "stderr",
     "output_type": "stream",
     "text": [
      "\r",
      "  6%|██████▍                                                                                                    | 90/1482 [01:13<18:26,  1.26it/s]"
     ]
    },
    {
     "name": "stdout",
     "output_type": "stream",
     "text": [
      "EXCEPTION - Row 114 @ (-116.99895, 33.91027)\n",
      "Image.select: Band pattern 'B4' was applied to an Image with no bands. See https://developers.google.com/earth-engine/guides/debugging#no-bands\n"
     ]
    },
    {
     "name": "stderr",
     "output_type": "stream",
     "text": [
      "\r",
      "  6%|██████▌                                                                                                    | 91/1482 [01:14<18:00,  1.29it/s]"
     ]
    },
    {
     "name": "stdout",
     "output_type": "stream",
     "text": [
      "EXCEPTION - Row 26 @ (-120.02778, 38.25108)\n",
      "Image.select: Band pattern 'B4' was applied to an Image with no bands. See https://developers.google.com/earth-engine/guides/debugging#no-bands\n"
     ]
    },
    {
     "name": "stderr",
     "output_type": "stream",
     "text": [
      "\r",
      "  6%|██████▋                                                                                                    | 92/1482 [01:14<16:54,  1.37it/s]"
     ]
    },
    {
     "name": "stdout",
     "output_type": "stream",
     "text": [
      "EXCEPTION - Row 24 @ (-117.40288, 33.62236)\n",
      "Image.select: Band pattern 'B4' was applied to an Image with no bands. See https://developers.google.com/earth-engine/guides/debugging#no-bands\n"
     ]
    },
    {
     "name": "stderr",
     "output_type": "stream",
     "text": [
      "\r",
      "  6%|██████▋                                                                                                    | 93/1482 [01:15<17:21,  1.33it/s]"
     ]
    },
    {
     "name": "stdout",
     "output_type": "stream",
     "text": [
      "EXCEPTION - Row 113 @ (-116.61, 38.838)\n",
      "Image.select: Band pattern 'B4' was applied to an Image with no bands. See https://developers.google.com/earth-engine/guides/debugging#no-bands\n"
     ]
    },
    {
     "name": "stderr",
     "output_type": "stream",
     "text": [
      "\r",
      "  6%|██████▊                                                                                                    | 94/1482 [01:16<17:10,  1.35it/s]"
     ]
    },
    {
     "name": "stdout",
     "output_type": "stream",
     "text": [
      "EXCEPTION - Row 138 @ (-122.5906, 39.1591)\n",
      "Image.select: Band pattern 'B4' was applied to an Image with no bands. See https://developers.google.com/earth-engine/guides/debugging#no-bands\n"
     ]
    },
    {
     "name": "stderr",
     "output_type": "stream",
     "text": [
      "\r",
      "  6%|██████▊                                                                                                    | 95/1482 [01:17<16:54,  1.37it/s]"
     ]
    },
    {
     "name": "stdout",
     "output_type": "stream",
     "text": [
      "EXCEPTION - Row 6 @ (-116.90427, 33.86157)\n",
      "Image.select: Band pattern 'B4' was applied to an Image with no bands. See https://developers.google.com/earth-engine/guides/debugging#no-bands\n"
     ]
    },
    {
     "name": "stderr",
     "output_type": "stream",
     "text": [
      "\r",
      "  6%|██████▉                                                                                                    | 96/1482 [01:17<16:28,  1.40it/s]"
     ]
    },
    {
     "name": "stdout",
     "output_type": "stream",
     "text": [
      "EXCEPTION - Row 53 @ (-117.62, 34.35)\n",
      "Image.select: Band pattern 'B4' was applied to an Image with no bands. See https://developers.google.com/earth-engine/guides/debugging#no-bands\n"
     ]
    },
    {
     "name": "stderr",
     "output_type": "stream",
     "text": [
      "\r",
      "  7%|███████                                                                                                    | 97/1482 [01:18<16:24,  1.41it/s]"
     ]
    },
    {
     "name": "stdout",
     "output_type": "stream",
     "text": [
      "EXCEPTION - Row 92 @ (-120.958126, 40.88886)\n",
      "Image.select: Band pattern 'B4' was applied to an Image with no bands. See https://developers.google.com/earth-engine/guides/debugging#no-bands\n"
     ]
    },
    {
     "name": "stderr",
     "output_type": "stream",
     "text": [
      "\r",
      "  7%|███████                                                                                                    | 98/1482 [01:21<29:36,  1.28s/it]"
     ]
    },
    {
     "name": "stdout",
     "output_type": "stream",
     "text": [
      "EXCEPTION - Row 8 @ (-123.488, 41.035)\n",
      "Image.select: Band pattern 'B4' was applied to an Image with no bands. See https://developers.google.com/earth-engine/guides/debugging#no-bands\n"
     ]
    },
    {
     "name": "stderr",
     "output_type": "stream",
     "text": [
      "\r",
      "  7%|███████▏                                                                                                   | 99/1482 [01:21<25:39,  1.11s/it]"
     ]
    },
    {
     "name": "stdout",
     "output_type": "stream",
     "text": [
      "EXCEPTION - Row 3 @ (-120.65, 39.12)\n",
      "Image.select: Band pattern 'B4' was applied to an Image with no bands. See https://developers.google.com/earth-engine/guides/debugging#no-bands\n"
     ]
    },
    {
     "name": "stderr",
     "output_type": "stream",
     "text": [
      "\r",
      "  7%|███████▏                                                                                                  | 100/1482 [01:22<22:55,  1.00it/s]"
     ]
    },
    {
     "name": "stdout",
     "output_type": "stream",
     "text": [
      "EXCEPTION - Row 152 @ (-122.48259, 40.473356)\n",
      "Image.select: Band pattern 'B4' was applied to an Image with no bands. See https://developers.google.com/earth-engine/guides/debugging#no-bands\n"
     ]
    },
    {
     "name": "stderr",
     "output_type": "stream",
     "text": [
      "\r",
      "  7%|███████▏                                                                                                  | 101/1482 [01:23<20:58,  1.10it/s]"
     ]
    },
    {
     "name": "stdout",
     "output_type": "stream",
     "text": [
      "EXCEPTION - Row 118 @ (-122.578393, 41.923323)\n",
      "Image.select: Band pattern 'B4' was applied to an Image with no bands. See https://developers.google.com/earth-engine/guides/debugging#no-bands\n"
     ]
    },
    {
     "name": "stderr",
     "output_type": "stream",
     "text": [
      "\r",
      "  7%|███████▎                                                                                                  | 102/1482 [01:24<20:19,  1.13it/s]"
     ]
    },
    {
     "name": "stdout",
     "output_type": "stream",
     "text": [
      "EXCEPTION - Row 132 @ (-116.10815, 33.570291)\n",
      "Image.select: Band pattern 'B4' was applied to an Image with no bands. See https://developers.google.com/earth-engine/guides/debugging#no-bands\n"
     ]
    },
    {
     "name": "stderr",
     "output_type": "stream",
     "text": [
      "\r",
      "  7%|███████▎                                                                                                  | 103/1482 [01:24<18:33,  1.24it/s]"
     ]
    },
    {
     "name": "stdout",
     "output_type": "stream",
     "text": [
      "EXCEPTION - Row 82 @ (-120.839075, 38.682378)\n",
      "Image.select: Band pattern 'B4' was applied to an Image with no bands. See https://developers.google.com/earth-engine/guides/debugging#no-bands\n"
     ]
    },
    {
     "name": "stderr",
     "output_type": "stream",
     "text": [
      "\r",
      "  7%|███████▍                                                                                                  | 104/1482 [01:25<17:38,  1.30it/s]"
     ]
    },
    {
     "name": "stdout",
     "output_type": "stream",
     "text": [
      "EXCEPTION - Row 19 @ (-121.38236, 39.446268)\n",
      "Image.select: Band pattern 'B4' was applied to an Image with no bands. See https://developers.google.com/earth-engine/guides/debugging#no-bands\n"
     ]
    },
    {
     "name": "stderr",
     "output_type": "stream",
     "text": [
      "\r",
      "  7%|███████▌                                                                                                  | 105/1482 [01:26<17:27,  1.31it/s]"
     ]
    },
    {
     "name": "stdout",
     "output_type": "stream",
     "text": [
      "EXCEPTION - Row 110 @ (-122.491894, 39.013682)\n",
      "Image.select: Band pattern 'B4' was applied to an Image with no bands. See https://developers.google.com/earth-engine/guides/debugging#no-bands\n"
     ]
    },
    {
     "name": "stderr",
     "output_type": "stream",
     "text": [
      "\r",
      "  7%|███████▌                                                                                                  | 106/1482 [01:26<16:49,  1.36it/s]"
     ]
    },
    {
     "name": "stdout",
     "output_type": "stream",
     "text": [
      "EXCEPTION - Row 122 @ (-120.45233, 38.06231)\n",
      "Image.select: Band pattern 'B4' was applied to an Image with no bands. See https://developers.google.com/earth-engine/guides/debugging#no-bands\n"
     ]
    },
    {
     "name": "stderr",
     "output_type": "stream",
     "text": [
      "\r",
      "  7%|███████▋                                                                                                  | 107/1482 [01:27<16:08,  1.42it/s]"
     ]
    },
    {
     "name": "stdout",
     "output_type": "stream",
     "text": [
      "EXCEPTION - Row 0 @ (-120.086, 37.857)\n",
      "Image.select: Band pattern 'B4' was applied to an Image with no bands. See https://developers.google.com/earth-engine/guides/debugging#no-bands\n"
     ]
    },
    {
     "name": "stderr",
     "output_type": "stream",
     "text": [
      "\r",
      "  7%|███████▋                                                                                                  | 108/1482 [01:28<16:21,  1.40it/s]"
     ]
    },
    {
     "name": "stdout",
     "output_type": "stream",
     "text": [
      "EXCEPTION - Row 83 @ (-117.451, 34.287)\n",
      "Image.select: Band pattern 'B4' was applied to an Image with no bands. See https://developers.google.com/earth-engine/guides/debugging#no-bands\n"
     ]
    },
    {
     "name": "stderr",
     "output_type": "stream",
     "text": [
      "\r",
      "  7%|███████▊                                                                                                  | 109/1482 [01:28<15:59,  1.43it/s]"
     ]
    },
    {
     "name": "stdout",
     "output_type": "stream",
     "text": [
      "EXCEPTION - Row 34 @ (-120.764666, 40.00842)\n",
      "Image.select: Band pattern 'B4' was applied to an Image with no bands. See https://developers.google.com/earth-engine/guides/debugging#no-bands\n"
     ]
    },
    {
     "name": "stderr",
     "output_type": "stream",
     "text": [
      "\r",
      "  7%|███████▊                                                                                                  | 110/1482 [01:29<17:06,  1.34it/s]"
     ]
    },
    {
     "name": "stdout",
     "output_type": "stream",
     "text": [
      "EXCEPTION - Row 28 @ (-118.588, 35.707)\n",
      "Image.select: Band pattern 'B4' was applied to an Image with no bands. See https://developers.google.com/earth-engine/guides/debugging#no-bands\n"
     ]
    },
    {
     "name": "stderr",
     "output_type": "stream",
     "text": [
      "\r",
      "  7%|███████▉                                                                                                  | 111/1482 [01:30<16:55,  1.35it/s]"
     ]
    },
    {
     "name": "stdout",
     "output_type": "stream",
     "text": [
      "EXCEPTION - Row 61 @ (-121.3754, 40.5445)\n",
      "Image.select: Band pattern 'B4' was applied to an Image with no bands. See https://developers.google.com/earth-engine/guides/debugging#no-bands\n"
     ]
    },
    {
     "name": "stderr",
     "output_type": "stream",
     "text": [
      "\r",
      "  8%|████████                                                                                                  | 112/1482 [01:32<23:36,  1.03s/it]"
     ]
    },
    {
     "name": "stdout",
     "output_type": "stream",
     "text": [
      "EXCEPTION - Row 40 @ (-117.598, 34.302)\n",
      "Image.select: Band pattern 'B4' was applied to an Image with no bands. See https://developers.google.com/earth-engine/guides/debugging#no-bands\n"
     ]
    },
    {
     "name": "stderr",
     "output_type": "stream",
     "text": [
      "\r",
      "  8%|████████                                                                                                  | 113/1482 [01:34<30:01,  1.32s/it]"
     ]
    },
    {
     "name": "stdout",
     "output_type": "stream",
     "text": [
      "EXCEPTION - Row 9 @ (-121.85397, 40.04263)\n",
      "Image.select: Band pattern 'B4' was applied to an Image with no bands. See https://developers.google.com/earth-engine/guides/debugging#no-bands\n"
     ]
    },
    {
     "name": "stderr",
     "output_type": "stream",
     "text": [
      "\r",
      "  8%|████████▏                                                                                                 | 114/1482 [01:34<26:38,  1.17s/it]"
     ]
    },
    {
     "name": "stdout",
     "output_type": "stream",
     "text": [
      "EXCEPTION - Row 21 @ (-118.444, 36.208)\n",
      "Image.select: Band pattern 'B4' was applied to an Image with no bands. See https://developers.google.com/earth-engine/guides/debugging#no-bands\n"
     ]
    },
    {
     "name": "stderr",
     "output_type": "stream",
     "text": [
      "\r",
      "  8%|████████▏                                                                                                 | 115/1482 [01:35<24:59,  1.10s/it]"
     ]
    },
    {
     "name": "stdout",
     "output_type": "stream",
     "text": [
      "EXCEPTION - Row 137 @ (-120.84716, 38.89555)\n",
      "Image.select: Band pattern 'B4' was applied to an Image with no bands. See https://developers.google.com/earth-engine/guides/debugging#no-bands\n"
     ]
    },
    {
     "name": "stderr",
     "output_type": "stream",
     "text": [
      "\r",
      "  8%|████████▎                                                                                                 | 116/1482 [01:36<21:58,  1.04it/s]"
     ]
    },
    {
     "name": "stdout",
     "output_type": "stream",
     "text": [
      "EXCEPTION - Row 91 @ (-116.706, 33.642)\n",
      "Image.select: Band pattern 'B4' was applied to an Image with no bands. See https://developers.google.com/earth-engine/guides/debugging#no-bands\n"
     ]
    },
    {
     "name": "stderr",
     "output_type": "stream",
     "text": [
      "\r",
      "  8%|████████▎                                                                                                 | 117/1482 [01:37<19:37,  1.16it/s]"
     ]
    },
    {
     "name": "stdout",
     "output_type": "stream",
     "text": [
      "EXCEPTION - Row 115 @ (-121.107022, 39.333401)\n",
      "Image.select: Band pattern 'B4' was applied to an Image with no bands. See https://developers.google.com/earth-engine/guides/debugging#no-bands\n"
     ]
    },
    {
     "name": "stderr",
     "output_type": "stream",
     "text": [
      "\r",
      "  8%|████████▍                                                                                                 | 118/1482 [01:37<18:36,  1.22it/s]"
     ]
    },
    {
     "name": "stdout",
     "output_type": "stream",
     "text": [
      "EXCEPTION - Row 100 @ (-121.713938, 39.731878)\n",
      "Image.select: Band pattern 'B4' was applied to an Image with no bands. See https://developers.google.com/earth-engine/guides/debugging#no-bands\n"
     ]
    },
    {
     "name": "stderr",
     "output_type": "stream",
     "text": [
      "\r",
      "  8%|████████▌                                                                                                 | 119/1482 [01:38<18:10,  1.25it/s]"
     ]
    },
    {
     "name": "stdout",
     "output_type": "stream",
     "text": [
      "EXCEPTION - Row 90 @ (-120.375, 41.73325)\n",
      "Image.select: Band pattern 'B4' was applied to an Image with no bands. See https://developers.google.com/earth-engine/guides/debugging#no-bands\n"
     ]
    },
    {
     "name": "stderr",
     "output_type": "stream",
     "text": [
      "\r",
      "  8%|████████▌                                                                                                 | 120/1482 [01:39<17:36,  1.29it/s]"
     ]
    },
    {
     "name": "stdout",
     "output_type": "stream",
     "text": [
      "EXCEPTION - Row 128 @ (-122.427285, 37.667295)\n",
      "Image.select: Band pattern 'B4' was applied to an Image with no bands. See https://developers.google.com/earth-engine/guides/debugging#no-bands\n"
     ]
    },
    {
     "name": "stderr",
     "output_type": "stream",
     "text": [
      "\r",
      "  8%|████████▋                                                                                                 | 121/1482 [01:40<18:12,  1.25it/s]"
     ]
    },
    {
     "name": "stdout",
     "output_type": "stream",
     "text": [
      "EXCEPTION - Row 111 @ (-120.959, 41.569)\n",
      "Image.select: Band pattern 'B4' was applied to an Image with no bands. See https://developers.google.com/earth-engine/guides/debugging#no-bands\n"
     ]
    },
    {
     "name": "stderr",
     "output_type": "stream",
     "text": [
      "\r",
      "  8%|████████▋                                                                                                 | 122/1482 [01:40<17:58,  1.26it/s]"
     ]
    },
    {
     "name": "stdout",
     "output_type": "stream",
     "text": [
      "EXCEPTION - Row 76 @ (-118.459, 36.258)\n",
      "Image.select: Band pattern 'B4' was applied to an Image with no bands. See https://developers.google.com/earth-engine/guides/debugging#no-bands\n"
     ]
    },
    {
     "name": "stderr",
     "output_type": "stream",
     "text": [
      "\r",
      "  8%|████████▊                                                                                                 | 123/1482 [01:41<17:28,  1.30it/s]"
     ]
    },
    {
     "name": "stdout",
     "output_type": "stream",
     "text": [
      "EXCEPTION - Row 17 @ (-121.882582, 37.90757)\n",
      "Image.select: Band pattern 'B4' was applied to an Image with no bands. See https://developers.google.com/earth-engine/guides/debugging#no-bands\n"
     ]
    },
    {
     "name": "stderr",
     "output_type": "stream",
     "text": [
      "\r",
      "  8%|████████▊                                                                                                 | 124/1482 [01:42<17:02,  1.33it/s]"
     ]
    },
    {
     "name": "stdout",
     "output_type": "stream",
     "text": [
      "EXCEPTION - Row 10 @ (-122.535496, 40.498332)\n",
      "Image.select: Band pattern 'B4' was applied to an Image with no bands. See https://developers.google.com/earth-engine/guides/debugging#no-bands\n"
     ]
    },
    {
     "name": "stderr",
     "output_type": "stream",
     "text": [
      "\r",
      "  8%|████████▉                                                                                                 | 125/1482 [01:43<16:47,  1.35it/s]"
     ]
    },
    {
     "name": "stdout",
     "output_type": "stream",
     "text": [
      "EXCEPTION - Row 52 @ (-116.746023, 32.710918)\n",
      "Image.select: Band pattern 'B4' was applied to an Image with no bands. See https://developers.google.com/earth-engine/guides/debugging#no-bands\n"
     ]
    },
    {
     "name": "stderr",
     "output_type": "stream",
     "text": [
      "\r",
      "  9%|█████████                                                                                                 | 126/1482 [01:43<16:36,  1.36it/s]"
     ]
    },
    {
     "name": "stdout",
     "output_type": "stream",
     "text": [
      "EXCEPTION - Row 107 @ (-117.106075, 34.003151)\n",
      "Image.select: Band pattern 'B4' was applied to an Image with no bands. See https://developers.google.com/earth-engine/guides/debugging#no-bands\n"
     ]
    },
    {
     "name": "stderr",
     "output_type": "stream",
     "text": [
      "\r",
      "  9%|█████████                                                                                                 | 127/1482 [01:44<16:27,  1.37it/s]"
     ]
    },
    {
     "name": "stdout",
     "output_type": "stream",
     "text": [
      "EXCEPTION - Row 145 @ (-122.683, 38.9777)\n",
      "Image.select: Band pattern 'B4' was applied to an Image with no bands. See https://developers.google.com/earth-engine/guides/debugging#no-bands\n"
     ]
    },
    {
     "name": "stderr",
     "output_type": "stream",
     "text": [
      "\r",
      "  9%|█████████▏                                                                                                | 128/1482 [01:45<15:57,  1.41it/s]"
     ]
    },
    {
     "name": "stdout",
     "output_type": "stream",
     "text": [
      "EXCEPTION - Row 51 @ (-117.908, 34.149)\n",
      "Image.select: Band pattern 'B4' was applied to an Image with no bands. See https://developers.google.com/earth-engine/guides/debugging#no-bands\n"
     ]
    },
    {
     "name": "stderr",
     "output_type": "stream",
     "text": [
      "\r",
      "  9%|█████████▏                                                                                                | 129/1482 [01:45<15:41,  1.44it/s]"
     ]
    },
    {
     "name": "stdout",
     "output_type": "stream",
     "text": [
      "EXCEPTION - Row 94 @ (-120.8358, 35.4393)\n",
      "Image.select: Band pattern 'B4' was applied to an Image with no bands. See https://developers.google.com/earth-engine/guides/debugging#no-bands\n"
     ]
    },
    {
     "name": "stderr",
     "output_type": "stream",
     "text": [
      "\r",
      "  9%|█████████▎                                                                                                | 130/1482 [01:46<15:51,  1.42it/s]"
     ]
    },
    {
     "name": "stdout",
     "output_type": "stream",
     "text": [
      "EXCEPTION - Row 59 @ (-117.417, 34.2)\n",
      "Image.select: Band pattern 'B4' was applied to an Image with no bands. See https://developers.google.com/earth-engine/guides/debugging#no-bands\n"
     ]
    },
    {
     "name": "stderr",
     "output_type": "stream",
     "text": [
      "\r",
      "  9%|█████████▎                                                                                                | 131/1482 [01:47<15:55,  1.41it/s]"
     ]
    },
    {
     "name": "stdout",
     "output_type": "stream",
     "text": [
      "EXCEPTION - Row 89 @ (-122.966, 38.9252)\n",
      "Image.select: Band pattern 'B4' was applied to an Image with no bands. See https://developers.google.com/earth-engine/guides/debugging#no-bands\n"
     ]
    },
    {
     "name": "stderr",
     "output_type": "stream",
     "text": [
      "\r",
      "  9%|█████████▍                                                                                                | 132/1482 [01:47<15:09,  1.48it/s]"
     ]
    },
    {
     "name": "stdout",
     "output_type": "stream",
     "text": [
      "EXCEPTION - Row 42 @ (-122.289, 38.628)\n",
      "Image.select: Band pattern 'B4' was applied to an Image with no bands. See https://developers.google.com/earth-engine/guides/debugging#no-bands\n"
     ]
    },
    {
     "name": "stderr",
     "output_type": "stream",
     "text": [
      "\r",
      "  9%|█████████▌                                                                                                | 133/1482 [01:48<15:33,  1.44it/s]"
     ]
    },
    {
     "name": "stdout",
     "output_type": "stream",
     "text": [
      "EXCEPTION - Row 68 @ (-122.6503, 38.34599)\n",
      "Image.select: Band pattern 'B4' was applied to an Image with no bands. See https://developers.google.com/earth-engine/guides/debugging#no-bands\n"
     ]
    },
    {
     "name": "stderr",
     "output_type": "stream",
     "text": [
      "\r",
      "  9%|█████████▌                                                                                                | 134/1482 [01:49<15:01,  1.49it/s]"
     ]
    },
    {
     "name": "stdout",
     "output_type": "stream",
     "text": [
      "EXCEPTION - Row 45 @ (-121.497, 39.439)\n",
      "Image.select: Band pattern 'B4' was applied to an Image with no bands. See https://developers.google.com/earth-engine/guides/debugging#no-bands\n"
     ]
    },
    {
     "name": "stderr",
     "output_type": "stream",
     "text": [
      "\r",
      "  9%|█████████▋                                                                                                | 135/1482 [01:50<16:02,  1.40it/s]"
     ]
    },
    {
     "name": "stdout",
     "output_type": "stream",
     "text": [
      "EXCEPTION - Row 20 @ (-117.3092, 33.341)\n",
      "Image.select: Band pattern 'B4' was applied to an Image with no bands. See https://developers.google.com/earth-engine/guides/debugging#no-bands\n"
     ]
    },
    {
     "name": "stderr",
     "output_type": "stream",
     "text": [
      "\r",
      "  9%|█████████▋                                                                                                | 136/1482 [01:50<16:02,  1.40it/s]"
     ]
    },
    {
     "name": "stdout",
     "output_type": "stream",
     "text": [
      "EXCEPTION - Row 130 @ (-117.6649, 33.7655)\n",
      "Image.select: Band pattern 'B4' was applied to an Image with no bands. See https://developers.google.com/earth-engine/guides/debugging#no-bands\n"
     ]
    },
    {
     "name": "stderr",
     "output_type": "stream",
     "text": [
      "\r",
      "  9%|█████████▊                                                                                                | 137/1482 [01:51<16:39,  1.35it/s]"
     ]
    },
    {
     "name": "stdout",
     "output_type": "stream",
     "text": [
      "EXCEPTION - Row 65 @ (-122.08725, 38.67479)\n",
      "Image.select: Band pattern 'B4' was applied to an Image with no bands. See https://developers.google.com/earth-engine/guides/debugging#no-bands\n"
     ]
    },
    {
     "name": "stderr",
     "output_type": "stream",
     "text": [
      "\r",
      "  9%|█████████▊                                                                                                | 138/1482 [01:52<16:33,  1.35it/s]"
     ]
    },
    {
     "name": "stdout",
     "output_type": "stream",
     "text": [
      "EXCEPTION - Row 143 @ (-122.140914, 40.483662)\n",
      "Image.select: Band pattern 'B4' was applied to an Image with no bands. See https://developers.google.com/earth-engine/guides/debugging#no-bands\n"
     ]
    },
    {
     "name": "stderr",
     "output_type": "stream",
     "text": [
      "\r",
      "  9%|█████████▉                                                                                                | 139/1482 [01:53<16:22,  1.37it/s]"
     ]
    },
    {
     "name": "stdout",
     "output_type": "stream",
     "text": [
      "EXCEPTION - Row 116 @ (-120.751555, 35.457978)\n",
      "Image.select: Band pattern 'B4' was applied to an Image with no bands. See https://developers.google.com/earth-engine/guides/debugging#no-bands\n"
     ]
    },
    {
     "name": "stderr",
     "output_type": "stream",
     "text": [
      "\r",
      "  9%|██████████                                                                                                | 140/1482 [01:53<16:24,  1.36it/s]"
     ]
    },
    {
     "name": "stdout",
     "output_type": "stream",
     "text": [
      "EXCEPTION - Row 81 @ (-122.567525, 38.882214)\n",
      "Image.select: Band pattern 'B4' was applied to an Image with no bands. See https://developers.google.com/earth-engine/guides/debugging#no-bands\n"
     ]
    },
    {
     "name": "stderr",
     "output_type": "stream",
     "text": [
      "\r",
      " 10%|██████████                                                                                                | 141/1482 [01:54<16:03,  1.39it/s]"
     ]
    },
    {
     "name": "stdout",
     "output_type": "stream",
     "text": [
      "EXCEPTION - Row 112 @ (-119.13249, 34.384)\n",
      "Image.select: Band pattern 'B4' was applied to an Image with no bands. See https://developers.google.com/earth-engine/guides/debugging#no-bands\n"
     ]
    },
    {
     "name": "stderr",
     "output_type": "stream",
     "text": [
      "\r",
      " 10%|██████████▏                                                                                               | 142/1482 [01:55<16:38,  1.34it/s]"
     ]
    },
    {
     "name": "stdout",
     "output_type": "stream",
     "text": [
      "EXCEPTION - Row 63 @ (-122.311, 38.382)\n",
      "Image.select: Band pattern 'B4' was applied to an Image with no bands. See https://developers.google.com/earth-engine/guides/debugging#no-bands\n"
     ]
    },
    {
     "name": "stderr",
     "output_type": "stream",
     "text": [
      "\r",
      " 10%|██████████▏                                                                                               | 143/1482 [01:55<15:42,  1.42it/s]"
     ]
    },
    {
     "name": "stdout",
     "output_type": "stream",
     "text": [
      "EXCEPTION - Row 15 @ (-122.8498, 38.8167)\n",
      "Image.select: Band pattern 'B4' was applied to an Image with no bands. See https://developers.google.com/earth-engine/guides/debugging#no-bands\n"
     ]
    },
    {
     "name": "stderr",
     "output_type": "stream",
     "text": [
      "\r",
      " 10%|██████████▎                                                                                               | 144/1482 [01:56<15:17,  1.46it/s]"
     ]
    },
    {
     "name": "stdout",
     "output_type": "stream",
     "text": [
      "EXCEPTION - Row 99 @ (-123.1478, 39.0442)\n",
      "Image.select: Band pattern 'B4' was applied to an Image with no bands. See https://developers.google.com/earth-engine/guides/debugging#no-bands\n"
     ]
    },
    {
     "name": "stderr",
     "output_type": "stream",
     "text": [
      "\r",
      " 10%|██████████▎                                                                                               | 145/1482 [01:57<15:29,  1.44it/s]"
     ]
    },
    {
     "name": "stdout",
     "output_type": "stream",
     "text": [
      "EXCEPTION - Row 117 @ (-122.7656, 39.0448)\n",
      "Image.select: Band pattern 'B4' was applied to an Image with no bands. See https://developers.google.com/earth-engine/guides/debugging#no-bands\n"
     ]
    },
    {
     "name": "stderr",
     "output_type": "stream",
     "text": [
      "\r",
      " 10%|██████████▍                                                                                               | 146/1482 [01:57<15:02,  1.48it/s]"
     ]
    },
    {
     "name": "stdout",
     "output_type": "stream",
     "text": [
      "EXCEPTION - Row 156 @ (-122.5818, 38.9289)\n",
      "Image.select: Band pattern 'B4' was applied to an Image with no bands. See https://developers.google.com/earth-engine/guides/debugging#no-bands\n"
     ]
    },
    {
     "name": "stderr",
     "output_type": "stream",
     "text": [
      "\r",
      " 10%|██████████▌                                                                                               | 147/1482 [01:58<15:53,  1.40it/s]"
     ]
    },
    {
     "name": "stdout",
     "output_type": "stream",
     "text": [
      "EXCEPTION - Row 129 @ (-121.717706, 37.342186)\n",
      "Image.select: Band pattern 'B4' was applied to an Image with no bands. See https://developers.google.com/earth-engine/guides/debugging#no-bands\n"
     ]
    },
    {
     "name": "stderr",
     "output_type": "stream",
     "text": [
      "\r",
      " 10%|██████████▌                                                                                               | 148/1482 [01:59<15:54,  1.40it/s]"
     ]
    },
    {
     "name": "stdout",
     "output_type": "stream",
     "text": [
      "EXCEPTION - Row 197 @ (-121.790183, 40.134597)\n",
      "Image.select: Band pattern 'B4' was applied to an Image with no bands. See https://developers.google.com/earth-engine/guides/debugging#no-bands\n"
     ]
    },
    {
     "name": "stderr",
     "output_type": "stream",
     "text": [
      "\r",
      " 10%|██████████▋                                                                                               | 149/1482 [02:00<15:53,  1.40it/s]"
     ]
    },
    {
     "name": "stdout",
     "output_type": "stream",
     "text": [
      "EXCEPTION - Row 211 @ (-123.773779, 40.884415)\n",
      "Image.select: Band pattern 'B4' was applied to an Image with no bands. See https://developers.google.com/earth-engine/guides/debugging#no-bands\n"
     ]
    },
    {
     "name": "stderr",
     "output_type": "stream",
     "text": [
      "\r",
      " 10%|██████████▋                                                                                               | 150/1482 [02:00<15:17,  1.45it/s]"
     ]
    },
    {
     "name": "stdout",
     "output_type": "stream",
     "text": [
      "EXCEPTION - Row 188 @ (-117.8816, 34.1703)\n",
      "Image.select: Band pattern 'B4' was applied to an Image with no bands. See https://developers.google.com/earth-engine/guides/debugging#no-bands\n"
     ]
    },
    {
     "name": "stderr",
     "output_type": "stream",
     "text": [
      "\r",
      " 10%|██████████▊                                                                                               | 151/1482 [02:01<15:22,  1.44it/s]"
     ]
    },
    {
     "name": "stdout",
     "output_type": "stream",
     "text": [
      "EXCEPTION - Row 231 @ (-119.3415, 36.8266)\n",
      "Image.select: Band pattern 'B4' was applied to an Image with no bands. See https://developers.google.com/earth-engine/guides/debugging#no-bands\n"
     ]
    },
    {
     "name": "stderr",
     "output_type": "stream",
     "text": [
      "\r",
      " 10%|██████████▊                                                                                               | 152/1482 [02:02<15:32,  1.43it/s]"
     ]
    },
    {
     "name": "stdout",
     "output_type": "stream",
     "text": [
      "EXCEPTION - Row 227 @ (-116.49, 32.81)\n",
      "Image.select: Band pattern 'B4' was applied to an Image with no bands. See https://developers.google.com/earth-engine/guides/debugging#no-bands\n"
     ]
    },
    {
     "name": "stderr",
     "output_type": "stream",
     "text": [
      "\r",
      " 10%|██████████▉                                                                                               | 153/1482 [02:02<15:16,  1.45it/s]"
     ]
    },
    {
     "name": "stdout",
     "output_type": "stream",
     "text": [
      "EXCEPTION - Row 207 @ (-121.4819, 36.6313)\n",
      "Image.select: Band pattern 'B4' was applied to an Image with no bands. See https://developers.google.com/earth-engine/guides/debugging#no-bands\n"
     ]
    },
    {
     "name": "stderr",
     "output_type": "stream",
     "text": [
      "\r",
      " 10%|███████████                                                                                               | 154/1482 [02:03<15:08,  1.46it/s]"
     ]
    },
    {
     "name": "stdout",
     "output_type": "stream",
     "text": [
      "EXCEPTION - Row 253 @ (-116.1985, 33.5982)\n",
      "Image.select: Band pattern 'B4' was applied to an Image with no bands. See https://developers.google.com/earth-engine/guides/debugging#no-bands\n"
     ]
    },
    {
     "name": "stderr",
     "output_type": "stream",
     "text": [
      "\r",
      " 10%|███████████                                                                                               | 155/1482 [02:04<15:19,  1.44it/s]"
     ]
    },
    {
     "name": "stdout",
     "output_type": "stream",
     "text": [
      "EXCEPTION - Row 230 @ (-118.352, 37.399)\n",
      "Image.select: Band pattern 'B4' was applied to an Image with no bands. See https://developers.google.com/earth-engine/guides/debugging#no-bands\n"
     ]
    },
    {
     "name": "stderr",
     "output_type": "stream",
     "text": [
      "\r",
      " 11%|███████████▏                                                                                              | 156/1482 [02:04<15:15,  1.45it/s]"
     ]
    },
    {
     "name": "stdout",
     "output_type": "stream",
     "text": [
      "EXCEPTION - Row 186 @ (-117.547374, 34.169346)\n",
      "Image.select: Band pattern 'B4' was applied to an Image with no bands. See https://developers.google.com/earth-engine/guides/debugging#no-bands\n"
     ]
    },
    {
     "name": "stderr",
     "output_type": "stream",
     "text": [
      "\r",
      " 11%|███████████▏                                                                                              | 157/1482 [02:05<15:38,  1.41it/s]"
     ]
    },
    {
     "name": "stdout",
     "output_type": "stream",
     "text": [
      "EXCEPTION - Row 245 @ (-121.117, 36.103)\n",
      "Image.select: Band pattern 'B4' was applied to an Image with no bands. See https://developers.google.com/earth-engine/guides/debugging#no-bands\n"
     ]
    },
    {
     "name": "stderr",
     "output_type": "stream",
     "text": [
      "\r",
      " 11%|███████████▎                                                                                              | 158/1482 [02:06<15:41,  1.41it/s]"
     ]
    },
    {
     "name": "stdout",
     "output_type": "stream",
     "text": [
      "EXCEPTION - Row 265 @ (-116.222, 32.665)\n",
      "Image.select: Band pattern 'B4' was applied to an Image with no bands. See https://developers.google.com/earth-engine/guides/debugging#no-bands\n"
     ]
    },
    {
     "name": "stderr",
     "output_type": "stream",
     "text": [
      "\r",
      " 11%|███████████▎                                                                                              | 159/1482 [02:07<15:42,  1.40it/s]"
     ]
    },
    {
     "name": "stdout",
     "output_type": "stream",
     "text": [
      "EXCEPTION - Row 191 @ (-117.133, 33.003)\n",
      "Image.select: Band pattern 'B4' was applied to an Image with no bands. See https://developers.google.com/earth-engine/guides/debugging#no-bands\n"
     ]
    },
    {
     "name": "stderr",
     "output_type": "stream",
     "text": [
      "\r",
      " 11%|███████████▍                                                                                              | 160/1482 [02:07<15:34,  1.42it/s]"
     ]
    },
    {
     "name": "stdout",
     "output_type": "stream",
     "text": [
      "EXCEPTION - Row 199 @ (-120.454, 34.609)\n",
      "Image.select: Band pattern 'B4' was applied to an Image with no bands. See https://developers.google.com/earth-engine/guides/debugging#no-bands\n"
     ]
    },
    {
     "name": "stderr",
     "output_type": "stream",
     "text": [
      "\r",
      " 11%|███████████▌                                                                                              | 161/1482 [02:08<15:46,  1.40it/s]"
     ]
    },
    {
     "name": "stdout",
     "output_type": "stream",
     "text": [
      "EXCEPTION - Row 176 @ (-117.284889, 33.3529)\n",
      "Image.select: Band pattern 'B4' was applied to an Image with no bands. See https://developers.google.com/earth-engine/guides/debugging#no-bands\n"
     ]
    },
    {
     "name": "stderr",
     "output_type": "stream",
     "text": [
      "\r",
      " 11%|███████████▌                                                                                              | 162/1482 [02:09<15:45,  1.40it/s]"
     ]
    },
    {
     "name": "stdout",
     "output_type": "stream",
     "text": [
      "EXCEPTION - Row 201 @ (-117.279, 33.1109)\n",
      "Image.select: Band pattern 'B4' was applied to an Image with no bands. See https://developers.google.com/earth-engine/guides/debugging#no-bands\n"
     ]
    },
    {
     "name": "stderr",
     "output_type": "stream",
     "text": [
      "\r",
      " 11%|███████████▋                                                                                              | 163/1482 [02:10<16:26,  1.34it/s]"
     ]
    },
    {
     "name": "stdout",
     "output_type": "stream",
     "text": [
      "EXCEPTION - Row 209 @ (-117.162, 33.312)\n",
      "Image.select: Band pattern 'B4' was applied to an Image with no bands. See https://developers.google.com/earth-engine/guides/debugging#no-bands\n"
     ]
    },
    {
     "name": "stderr",
     "output_type": "stream",
     "text": [
      "\r",
      " 11%|███████████▋                                                                                              | 164/1482 [02:10<16:14,  1.35it/s]"
     ]
    },
    {
     "name": "stdout",
     "output_type": "stream",
     "text": [
      "EXCEPTION - Row 255 @ (-122.721, 40.39)\n",
      "Image.select: Band pattern 'B4' was applied to an Image with no bands. See https://developers.google.com/earth-engine/guides/debugging#no-bands\n"
     ]
    },
    {
     "name": "stderr",
     "output_type": "stream",
     "text": [
      "\r",
      " 11%|███████████▊                                                                                              | 165/1482 [02:11<16:43,  1.31it/s]"
     ]
    },
    {
     "name": "stdout",
     "output_type": "stream",
     "text": [
      "EXCEPTION - Row 187 @ (-117.1599, 33.1137)\n",
      "Image.select: Band pattern 'B4' was applied to an Image with no bands. See https://developers.google.com/earth-engine/guides/debugging#no-bands\n"
     ]
    },
    {
     "name": "stderr",
     "output_type": "stream",
     "text": [
      "\r",
      " 11%|███████████▊                                                                                              | 166/1482 [02:12<20:28,  1.07it/s]"
     ]
    },
    {
     "name": "stdout",
     "output_type": "stream",
     "text": [
      "EXCEPTION - Row 193 @ (-117.550567, 33.417572)\n",
      "Image.select: Band pattern 'B4' was applied to an Image with no bands. See https://developers.google.com/earth-engine/guides/debugging#no-bands\n"
     ]
    },
    {
     "name": "stderr",
     "output_type": "stream",
     "text": [
      "\r",
      " 11%|███████████▉                                                                                              | 167/1482 [02:13<19:01,  1.15it/s]"
     ]
    },
    {
     "name": "stdout",
     "output_type": "stream",
     "text": [
      "EXCEPTION - Row 223 @ (-122.5983, 39.1647)\n",
      "Image.select: Band pattern 'B4' was applied to an Image with no bands. See https://developers.google.com/earth-engine/guides/debugging#no-bands\n"
     ]
    },
    {
     "name": "stderr",
     "output_type": "stream",
     "text": [
      "\r",
      " 11%|████████████                                                                                              | 168/1482 [02:14<17:20,  1.26it/s]"
     ]
    },
    {
     "name": "stdout",
     "output_type": "stream",
     "text": [
      "EXCEPTION - Row 204 @ (-120.45087, 37.76617)\n",
      "Image.select: Band pattern 'B4' was applied to an Image with no bands. See https://developers.google.com/earth-engine/guides/debugging#no-bands\n"
     ]
    },
    {
     "name": "stderr",
     "output_type": "stream",
     "text": [
      "\r",
      " 11%|████████████                                                                                              | 169/1482 [02:14<16:41,  1.31it/s]"
     ]
    },
    {
     "name": "stdout",
     "output_type": "stream",
     "text": [
      "EXCEPTION - Row 217 @ (-120.452, 37.787)\n",
      "Image.select: Band pattern 'B4' was applied to an Image with no bands. See https://developers.google.com/earth-engine/guides/debugging#no-bands\n"
     ]
    },
    {
     "name": "stderr",
     "output_type": "stream",
     "text": [
      "\r",
      " 11%|████████████▏                                                                                             | 170/1482 [02:15<17:03,  1.28it/s]"
     ]
    },
    {
     "name": "stdout",
     "output_type": "stream",
     "text": [
      "EXCEPTION - Row 258 @ (-119.525506, 36.991825)\n",
      "Image.select: Band pattern 'B4' was applied to an Image with no bands. See https://developers.google.com/earth-engine/guides/debugging#no-bands\n"
     ]
    },
    {
     "name": "stderr",
     "output_type": "stream",
     "text": [
      "\r",
      " 12%|████████████▏                                                                                             | 171/1482 [02:16<15:52,  1.38it/s]"
     ]
    },
    {
     "name": "stdout",
     "output_type": "stream",
     "text": [
      "EXCEPTION - Row 225 @ (-120.197, 37.7103)\n",
      "Image.select: Band pattern 'B4' was applied to an Image with no bands. See https://developers.google.com/earth-engine/guides/debugging#no-bands\n"
     ]
    },
    {
     "name": "stderr",
     "output_type": "stream",
     "text": [
      "\r",
      " 12%|████████████▎                                                                                             | 172/1482 [02:16<14:58,  1.46it/s]"
     ]
    },
    {
     "name": "stdout",
     "output_type": "stream",
     "text": [
      "EXCEPTION - Row 269 @ (-119.241493, 36.742747)\n",
      "Image.select: Band pattern 'B4' was applied to an Image with no bands. See https://developers.google.com/earth-engine/guides/debugging#no-bands\n"
     ]
    },
    {
     "name": "stderr",
     "output_type": "stream",
     "text": [
      "\r",
      " 12%|████████████▎                                                                                             | 173/1482 [02:17<14:37,  1.49it/s]"
     ]
    },
    {
     "name": "stdout",
     "output_type": "stream",
     "text": [
      "EXCEPTION - Row 249 @ (38.453, 121.999)\n",
      "Image.select: Band pattern 'B4' was applied to an Image with no bands. See https://developers.google.com/earth-engine/guides/debugging#no-bands\n"
     ]
    },
    {
     "name": "stderr",
     "output_type": "stream",
     "text": [
      "\r",
      " 12%|████████████▍                                                                                             | 174/1482 [02:18<14:18,  1.52it/s]"
     ]
    },
    {
     "name": "stdout",
     "output_type": "stream",
     "text": [
      "EXCEPTION - Row 219 @ (-122.345078, 40.009827)\n",
      "Image.select: Band pattern 'B4' was applied to an Image with no bands. See https://developers.google.com/earth-engine/guides/debugging#no-bands\n"
     ]
    },
    {
     "name": "stderr",
     "output_type": "stream",
     "text": [
      "\r",
      " 12%|████████████▌                                                                                             | 175/1482 [02:19<15:12,  1.43it/s]"
     ]
    },
    {
     "name": "stdout",
     "output_type": "stream",
     "text": [
      "EXCEPTION - Row 185 @ (-118.555527, 35.70683)\n",
      "Image.select: Band pattern 'B4' was applied to an Image with no bands. See https://developers.google.com/earth-engine/guides/debugging#no-bands\n"
     ]
    },
    {
     "name": "stderr",
     "output_type": "stream",
     "text": [
      "\r",
      " 12%|████████████▌                                                                                             | 176/1482 [02:19<15:00,  1.45it/s]"
     ]
    },
    {
     "name": "stdout",
     "output_type": "stream",
     "text": [
      "EXCEPTION - Row 228 @ (38.178241, 120.679019)\n",
      "Image.select: Band pattern 'B4' was applied to an Image with no bands. See https://developers.google.com/earth-engine/guides/debugging#no-bands\n"
     ]
    },
    {
     "name": "stderr",
     "output_type": "stream",
     "text": [
      "\r",
      " 12%|████████████▋                                                                                             | 177/1482 [02:20<14:20,  1.52it/s]"
     ]
    },
    {
     "name": "stdout",
     "output_type": "stream",
     "text": [
      "EXCEPTION - Row 238 @ (-120.66, 38.058)\n",
      "Image.select: Band pattern 'B4' was applied to an Image with no bands. See https://developers.google.com/earth-engine/guides/debugging#no-bands\n"
     ]
    },
    {
     "name": "stderr",
     "output_type": "stream",
     "text": [
      "\r",
      " 12%|████████████▋                                                                                             | 178/1482 [02:20<14:15,  1.52it/s]"
     ]
    },
    {
     "name": "stdout",
     "output_type": "stream",
     "text": [
      "EXCEPTION - Row 273 @ (-123.24, 40.41)\n",
      "Image.select: Band pattern 'B4' was applied to an Image with no bands. See https://developers.google.com/earth-engine/guides/debugging#no-bands\n"
     ]
    },
    {
     "name": "stderr",
     "output_type": "stream",
     "text": [
      "\r",
      " 12%|████████████▊                                                                                             | 179/1482 [02:21<14:18,  1.52it/s]"
     ]
    },
    {
     "name": "stdout",
     "output_type": "stream",
     "text": [
      "EXCEPTION - Row 180 @ (-122.454, 38.664)\n",
      "Image.select: Band pattern 'B4' was applied to an Image with no bands. See https://developers.google.com/earth-engine/guides/debugging#no-bands\n"
     ]
    },
    {
     "name": "stderr",
     "output_type": "stream",
     "text": [
      "\r",
      " 12%|████████████▊                                                                                             | 180/1482 [02:22<15:36,  1.39it/s]"
     ]
    },
    {
     "name": "stdout",
     "output_type": "stream",
     "text": [
      "EXCEPTION - Row 181 @ (-122.454, 38.664)\n",
      "Image.select: Band pattern 'B4' was applied to an Image with no bands. See https://developers.google.com/earth-engine/guides/debugging#no-bands\n"
     ]
    },
    {
     "name": "stderr",
     "output_type": "stream",
     "text": [
      "\r",
      " 12%|████████████▉                                                                                             | 181/1482 [02:23<17:34,  1.23it/s]"
     ]
    },
    {
     "name": "stdout",
     "output_type": "stream",
     "text": [
      "EXCEPTION - Row 190 @ (-120.79, 41.89)\n",
      "Image.select: Band pattern 'B4' was applied to an Image with no bands. See https://developers.google.com/earth-engine/guides/debugging#no-bands\n"
     ]
    },
    {
     "name": "stderr",
     "output_type": "stream",
     "text": [
      "\r",
      " 12%|█████████████                                                                                             | 182/1482 [02:24<17:37,  1.23it/s]"
     ]
    },
    {
     "name": "stdout",
     "output_type": "stream",
     "text": [
      "EXCEPTION - Row 220 @ (-116.576454, 33.078948)\n",
      "Image.select: Band pattern 'B4' was applied to an Image with no bands. See https://developers.google.com/earth-engine/guides/debugging#no-bands\n"
     ]
    },
    {
     "name": "stderr",
     "output_type": "stream",
     "text": [
      "\r",
      " 12%|█████████████                                                                                             | 183/1482 [02:25<16:53,  1.28it/s]"
     ]
    },
    {
     "name": "stdout",
     "output_type": "stream",
     "text": [
      "EXCEPTION - Row 192 @ (-120.904, 41.489)\n",
      "Image.select: Band pattern 'B4' was applied to an Image with no bands. See https://developers.google.com/earth-engine/guides/debugging#no-bands\n"
     ]
    },
    {
     "name": "stderr",
     "output_type": "stream",
     "text": [
      "\r",
      " 12%|█████████████▏                                                                                            | 184/1482 [02:25<16:16,  1.33it/s]"
     ]
    },
    {
     "name": "stdout",
     "output_type": "stream",
     "text": [
      "EXCEPTION - Row 173 @ (-122.104, 38.512)\n",
      "Image.select: Band pattern 'B4' was applied to an Image with no bands. See https://developers.google.com/earth-engine/guides/debugging#no-bands\n"
     ]
    },
    {
     "name": "stderr",
     "output_type": "stream",
     "text": [
      "\r",
      " 12%|█████████████▏                                                                                            | 185/1482 [02:26<15:23,  1.40it/s]"
     ]
    },
    {
     "name": "stdout",
     "output_type": "stream",
     "text": [
      "EXCEPTION - Row 244 @ (-121.3415, 40.5719)\n",
      "Image.select: Band pattern 'B4' was applied to an Image with no bands. See https://developers.google.com/earth-engine/guides/debugging#no-bands\n"
     ]
    },
    {
     "name": "stderr",
     "output_type": "stream",
     "text": [
      "\r",
      " 13%|█████████████▎                                                                                            | 186/1482 [02:26<15:08,  1.43it/s]"
     ]
    },
    {
     "name": "stdout",
     "output_type": "stream",
     "text": [
      "EXCEPTION - Row 257 @ (-121.0226, 35.8218)\n",
      "Image.select: Band pattern 'B4' was applied to an Image with no bands. See https://developers.google.com/earth-engine/guides/debugging#no-bands\n"
     ]
    },
    {
     "name": "stderr",
     "output_type": "stream",
     "text": [
      "\r",
      " 13%|█████████████▍                                                                                            | 187/1482 [02:27<15:05,  1.43it/s]"
     ]
    },
    {
     "name": "stdout",
     "output_type": "stream",
     "text": [
      "EXCEPTION - Row 259 @ (-121.2687, 39.1871)\n",
      "Image.select: Band pattern 'B4' was applied to an Image with no bands. See https://developers.google.com/earth-engine/guides/debugging#no-bands\n"
     ]
    },
    {
     "name": "stderr",
     "output_type": "stream",
     "text": [
      "\r",
      " 13%|█████████████▍                                                                                            | 188/1482 [02:28<15:11,  1.42it/s]"
     ]
    },
    {
     "name": "stdout",
     "output_type": "stream",
     "text": [
      "EXCEPTION - Row 224 @ (-122.2215, 40.6569)\n",
      "Image.select: Band pattern 'B4' was applied to an Image with no bands. See https://developers.google.com/earth-engine/guides/debugging#no-bands\n"
     ]
    },
    {
     "name": "stderr",
     "output_type": "stream",
     "text": [
      "\r",
      " 13%|█████████████▌                                                                                            | 189/1482 [02:29<15:16,  1.41it/s]"
     ]
    },
    {
     "name": "stdout",
     "output_type": "stream",
     "text": [
      "EXCEPTION - Row 264 @ (-120.703238, 38.608336)\n",
      "Image.select: Band pattern 'B4' was applied to an Image with no bands. See https://developers.google.com/earth-engine/guides/debugging#no-bands\n"
     ]
    },
    {
     "name": "stderr",
     "output_type": "stream",
     "text": [
      "\r",
      " 13%|█████████████▌                                                                                            | 190/1482 [02:29<15:00,  1.44it/s]"
     ]
    },
    {
     "name": "stdout",
     "output_type": "stream",
     "text": [
      "EXCEPTION - Row 189 @ (-118.15, 35.642)\n",
      "Image.select: Band pattern 'B4' was applied to an Image with no bands. See https://developers.google.com/earth-engine/guides/debugging#no-bands\n"
     ]
    },
    {
     "name": "stderr",
     "output_type": "stream",
     "text": [
      "\r",
      " 13%|█████████████▋                                                                                            | 191/1482 [02:30<15:25,  1.40it/s]"
     ]
    },
    {
     "name": "stdout",
     "output_type": "stream",
     "text": [
      "EXCEPTION - Row 171 @ (-122.750788, 40.4314)\n",
      "Image.select: Band pattern 'B4' was applied to an Image with no bands. See https://developers.google.com/earth-engine/guides/debugging#no-bands\n"
     ]
    },
    {
     "name": "stderr",
     "output_type": "stream",
     "text": [
      "\r",
      " 13%|█████████████▋                                                                                            | 192/1482 [02:31<16:43,  1.29it/s]"
     ]
    },
    {
     "name": "stdout",
     "output_type": "stream",
     "text": [
      "EXCEPTION - Row 241 @ (-121.5118, 37.5359)\n",
      "Image.select: Band pattern 'B4' was applied to an Image with no bands. See https://developers.google.com/earth-engine/guides/debugging#no-bands\n"
     ]
    },
    {
     "name": "stderr",
     "output_type": "stream",
     "text": [
      "\r",
      " 13%|█████████████▊                                                                                            | 193/1482 [02:32<16:38,  1.29it/s]"
     ]
    },
    {
     "name": "stdout",
     "output_type": "stream",
     "text": [
      "EXCEPTION - Row 246 @ (-121.6129, 39.4664)\n",
      "Image.select: Band pattern 'B4' was applied to an Image with no bands. See https://developers.google.com/earth-engine/guides/debugging#no-bands\n"
     ]
    },
    {
     "name": "stderr",
     "output_type": "stream",
     "text": [
      "\r",
      " 13%|█████████████▉                                                                                            | 194/1482 [02:32<15:52,  1.35it/s]"
     ]
    },
    {
     "name": "stdout",
     "output_type": "stream",
     "text": [
      "EXCEPTION - Row 183 @ (-120.7819, 38.5691)\n",
      "Image.select: Band pattern 'B4' was applied to an Image with no bands. See https://developers.google.com/earth-engine/guides/debugging#no-bands\n"
     ]
    },
    {
     "name": "stderr",
     "output_type": "stream",
     "text": [
      "\r",
      " 13%|█████████████▉                                                                                            | 195/1482 [02:34<19:04,  1.12it/s]"
     ]
    },
    {
     "name": "stdout",
     "output_type": "stream",
     "text": [
      "EXCEPTION - Row 182 @ (-120.7819, 38.5691)\n",
      "Image.select: Band pattern 'B4' was applied to an Image with no bands. See https://developers.google.com/earth-engine/guides/debugging#no-bands\n"
     ]
    },
    {
     "name": "stderr",
     "output_type": "stream",
     "text": [
      "\r",
      " 13%|██████████████                                                                                            | 196/1482 [02:34<17:32,  1.22it/s]"
     ]
    },
    {
     "name": "stdout",
     "output_type": "stream",
     "text": [
      "EXCEPTION - Row 170 @ (-121.2144, 41.1336)\n",
      "Image.select: Band pattern 'B4' was applied to an Image with no bands. See https://developers.google.com/earth-engine/guides/debugging#no-bands\n"
     ]
    },
    {
     "name": "stderr",
     "output_type": "stream",
     "text": [
      "\r",
      " 13%|██████████████                                                                                            | 197/1482 [02:35<16:38,  1.29it/s]"
     ]
    },
    {
     "name": "stdout",
     "output_type": "stream",
     "text": [
      "EXCEPTION - Row 164 @ (-121.368, 40.901)\n",
      "Image.select: Band pattern 'B4' was applied to an Image with no bands. See https://developers.google.com/earth-engine/guides/debugging#no-bands\n"
     ]
    },
    {
     "name": "stderr",
     "output_type": "stream",
     "text": [
      "\r",
      " 13%|██████████████▏                                                                                           | 198/1482 [02:36<16:01,  1.34it/s]"
     ]
    },
    {
     "name": "stdout",
     "output_type": "stream",
     "text": [
      "EXCEPTION - Row 174 @ (-122.805, 41.141)\n",
      "Image.select: Band pattern 'B4' was applied to an Image with no bands. See https://developers.google.com/earth-engine/guides/debugging#no-bands\n"
     ]
    },
    {
     "name": "stderr",
     "output_type": "stream",
     "text": [
      "\r",
      " 13%|██████████████▏                                                                                           | 199/1482 [02:36<15:53,  1.35it/s]"
     ]
    },
    {
     "name": "stdout",
     "output_type": "stream",
     "text": [
      "EXCEPTION - Row 165 @ (-122.345, 42.048)\n",
      "Image.select: Band pattern 'B4' was applied to an Image with no bands. See https://developers.google.com/earth-engine/guides/debugging#no-bands\n"
     ]
    },
    {
     "name": "stderr",
     "output_type": "stream",
     "text": [
      "\r",
      " 13%|██████████████▎                                                                                           | 200/1482 [02:37<15:30,  1.38it/s]"
     ]
    },
    {
     "name": "stdout",
     "output_type": "stream",
     "text": [
      "EXCEPTION - Row 175 @ (-122.127, 41.682)\n",
      "Image.select: Band pattern 'B4' was applied to an Image with no bands. See https://developers.google.com/earth-engine/guides/debugging#no-bands\n"
     ]
    },
    {
     "name": "stderr",
     "output_type": "stream",
     "text": [
      "\r",
      " 14%|██████████████▍                                                                                           | 201/1482 [02:38<15:06,  1.41it/s]"
     ]
    },
    {
     "name": "stdout",
     "output_type": "stream",
     "text": [
      "EXCEPTION - Row 167 @ (-121.562, 40.72)\n",
      "Image.select: Band pattern 'B4' was applied to an Image with no bands. See https://developers.google.com/earth-engine/guides/debugging#no-bands\n"
     ]
    },
    {
     "name": "stderr",
     "output_type": "stream",
     "text": [
      "\r",
      " 14%|██████████████▍                                                                                           | 202/1482 [02:38<14:46,  1.44it/s]"
     ]
    },
    {
     "name": "stdout",
     "output_type": "stream",
     "text": [
      "EXCEPTION - Row 278 @ (-123.374, 41.796)\n",
      "Image.select: Band pattern 'B4' was applied to an Image with no bands. See https://developers.google.com/earth-engine/guides/debugging#no-bands\n"
     ]
    },
    {
     "name": "stderr",
     "output_type": "stream",
     "text": [
      "\r",
      " 14%|██████████████▌                                                                                           | 203/1482 [02:39<14:38,  1.46it/s]"
     ]
    },
    {
     "name": "stdout",
     "output_type": "stream",
     "text": [
      "EXCEPTION - Row 233 @ (-121.266, 41.507)\n",
      "Image.select: Band pattern 'B4' was applied to an Image with no bands. See https://developers.google.com/earth-engine/guides/debugging#no-bands\n"
     ]
    },
    {
     "name": "stderr",
     "output_type": "stream",
     "text": [
      "\r",
      " 14%|██████████████▌                                                                                           | 204/1482 [02:40<14:49,  1.44it/s]"
     ]
    },
    {
     "name": "stdout",
     "output_type": "stream",
     "text": [
      "EXCEPTION - Row 222 @ (-117.771, 34.235)\n",
      "Image.select: Band pattern 'B4' was applied to an Image with no bands. See https://developers.google.com/earth-engine/guides/debugging#no-bands\n"
     ]
    },
    {
     "name": "stderr",
     "output_type": "stream",
     "text": [
      "\r",
      " 14%|██████████████▋                                                                                           | 205/1482 [02:41<16:15,  1.31it/s]"
     ]
    },
    {
     "name": "stdout",
     "output_type": "stream",
     "text": [
      "EXCEPTION - Row 271 @ (-116.89516, 32.59154)\n",
      "Image.select: Band pattern 'B4' was applied to an Image with no bands. See https://developers.google.com/earth-engine/guides/debugging#no-bands\n"
     ]
    },
    {
     "name": "stderr",
     "output_type": "stream",
     "text": [
      "\r",
      " 14%|██████████████▋                                                                                           | 206/1482 [02:41<15:56,  1.33it/s]"
     ]
    },
    {
     "name": "stdout",
     "output_type": "stream",
     "text": [
      "EXCEPTION - Row 216 @ (-117.867, 34.267)\n",
      "Image.select: Band pattern 'B4' was applied to an Image with no bands. See https://developers.google.com/earth-engine/guides/debugging#no-bands\n"
     ]
    },
    {
     "name": "stderr",
     "output_type": "stream",
     "text": [
      "\r",
      " 14%|██████████████▊                                                                                           | 207/1482 [02:42<15:45,  1.35it/s]"
     ]
    },
    {
     "name": "stdout",
     "output_type": "stream",
     "text": [
      "EXCEPTION - Row 239 @ (-120.0805, 39.3918)\n",
      "Image.select: Band pattern 'B4' was applied to an Image with no bands. See https://developers.google.com/earth-engine/guides/debugging#no-bands\n"
     ]
    },
    {
     "name": "stderr",
     "output_type": "stream",
     "text": [
      "\r",
      " 14%|██████████████▉                                                                                           | 208/1482 [02:43<16:11,  1.31it/s]"
     ]
    },
    {
     "name": "stdout",
     "output_type": "stream",
     "text": [
      "EXCEPTION - Row 200 @ (-119.6581, 37.3433)\n",
      "Image.select: Band pattern 'B4' was applied to an Image with no bands. See https://developers.google.com/earth-engine/guides/debugging#no-bands\n"
     ]
    },
    {
     "name": "stderr",
     "output_type": "stream",
     "text": [
      "\r",
      " 14%|██████████████▉                                                                                           | 209/1482 [02:44<15:56,  1.33it/s]"
     ]
    },
    {
     "name": "stdout",
     "output_type": "stream",
     "text": [
      "EXCEPTION - Row 184 @ (-118.4747, 35.7206)\n",
      "Image.select: Band pattern 'B4' was applied to an Image with no bands. See https://developers.google.com/earth-engine/guides/debugging#no-bands\n"
     ]
    },
    {
     "name": "stderr",
     "output_type": "stream",
     "text": [
      "\r",
      " 14%|███████████████                                                                                           | 210/1482 [02:44<15:32,  1.36it/s]"
     ]
    },
    {
     "name": "stdout",
     "output_type": "stream",
     "text": [
      "EXCEPTION - Row 202 @ (-122.946, 40.7412)\n",
      "Image.select: Band pattern 'B4' was applied to an Image with no bands. See https://developers.google.com/earth-engine/guides/debugging#no-bands\n"
     ]
    },
    {
     "name": "stderr",
     "output_type": "stream",
     "text": [
      "\r",
      " 14%|███████████████                                                                                           | 211/1482 [02:45<16:51,  1.26it/s]"
     ]
    },
    {
     "name": "stdout",
     "output_type": "stream",
     "text": [
      "EXCEPTION - Row 276 @ (18.4, 37.0)\n",
      "Image.select: Band pattern 'B4' was applied to an Image with no bands. See https://developers.google.com/earth-engine/guides/debugging#no-bands\n"
     ]
    },
    {
     "name": "stderr",
     "output_type": "stream",
     "text": [
      "\r",
      " 14%|███████████████▏                                                                                          | 212/1482 [02:46<16:21,  1.29it/s]"
     ]
    },
    {
     "name": "stdout",
     "output_type": "stream",
     "text": [
      "EXCEPTION - Row 268 @ (29.24, 40.0)\n",
      "Image.select: Band pattern 'B4' was applied to an Image with no bands. See https://developers.google.com/earth-engine/guides/debugging#no-bands\n"
     ]
    },
    {
     "name": "stderr",
     "output_type": "stream",
     "text": [
      "\r",
      " 14%|███████████████▏                                                                                          | 213/1482 [02:47<15:30,  1.36it/s]"
     ]
    },
    {
     "name": "stdout",
     "output_type": "stream",
     "text": [
      "EXCEPTION - Row 247 @ (-120.3434, 37.8316)\n",
      "Image.select: Band pattern 'B4' was applied to an Image with no bands. See https://developers.google.com/earth-engine/guides/debugging#no-bands\n"
     ]
    },
    {
     "name": "stderr",
     "output_type": "stream",
     "text": [
      "\r",
      " 14%|███████████████▎                                                                                          | 214/1482 [02:48<16:29,  1.28it/s]"
     ]
    },
    {
     "name": "stdout",
     "output_type": "stream",
     "text": [
      "EXCEPTION - Row 194 @ (-122.171, 40.7101)\n",
      "Image.select: Band pattern 'B4' was applied to an Image with no bands. See https://developers.google.com/earth-engine/guides/debugging#no-bands\n"
     ]
    },
    {
     "name": "stderr",
     "output_type": "stream",
     "text": [
      "\r",
      " 15%|███████████████▍                                                                                          | 215/1482 [02:48<16:08,  1.31it/s]"
     ]
    },
    {
     "name": "stdout",
     "output_type": "stream",
     "text": [
      "EXCEPTION - Row 266 @ (-122.384054, 38.695961)\n",
      "Image.select: Band pattern 'B4' was applied to an Image with no bands. See https://developers.google.com/earth-engine/guides/debugging#no-bands\n"
     ]
    },
    {
     "name": "stderr",
     "output_type": "stream",
     "text": [
      "\r",
      " 15%|███████████████▍                                                                                          | 216/1482 [02:49<15:22,  1.37it/s]"
     ]
    },
    {
     "name": "stdout",
     "output_type": "stream",
     "text": [
      "EXCEPTION - Row 196 @ (-117.601, 33.748)\n",
      "Image.select: Band pattern 'B4' was applied to an Image with no bands. See https://developers.google.com/earth-engine/guides/debugging#no-bands\n"
     ]
    },
    {
     "name": "stderr",
     "output_type": "stream",
     "text": [
      "\r",
      " 15%|███████████████▌                                                                                          | 217/1482 [02:50<16:58,  1.24it/s]"
     ]
    },
    {
     "name": "stdout",
     "output_type": "stream",
     "text": [
      "EXCEPTION - Row 221 @ (-123.753, 41.134)\n",
      "Image.select: Band pattern 'B4' was applied to an Image with no bands. See https://developers.google.com/earth-engine/guides/debugging#no-bands\n"
     ]
    },
    {
     "name": "stderr",
     "output_type": "stream",
     "text": [
      "\r",
      " 15%|███████████████▌                                                                                          | 218/1482 [02:51<16:49,  1.25it/s]"
     ]
    },
    {
     "name": "stdout",
     "output_type": "stream",
     "text": [
      "EXCEPTION - Row 218 @ (-120.999508, 39.113682)\n",
      "Image.select: Band pattern 'B4' was applied to an Image with no bands. See https://developers.google.com/earth-engine/guides/debugging#no-bands\n"
     ]
    },
    {
     "name": "stderr",
     "output_type": "stream",
     "text": [
      "\r",
      " 15%|███████████████▋                                                                                          | 219/1482 [02:51<16:29,  1.28it/s]"
     ]
    },
    {
     "name": "stdout",
     "output_type": "stream",
     "text": [
      "EXCEPTION - Row 162 @ (-120.629714, 38.805437)\n",
      "Image.select: Band pattern 'B4' was applied to an Image with no bands. See https://developers.google.com/earth-engine/guides/debugging#no-bands\n"
     ]
    },
    {
     "name": "stderr",
     "output_type": "stream",
     "text": [
      "\r",
      " 15%|███████████████▋                                                                                          | 220/1482 [02:52<16:06,  1.31it/s]"
     ]
    },
    {
     "name": "stdout",
     "output_type": "stream",
     "text": [
      "EXCEPTION - Row 236 @ (-120.028, 38.59)\n",
      "Image.select: Band pattern 'B4' was applied to an Image with no bands. See https://developers.google.com/earth-engine/guides/debugging#no-bands\n"
     ]
    },
    {
     "name": "stderr",
     "output_type": "stream",
     "text": [
      "\r",
      " 15%|███████████████▊                                                                                          | 221/1482 [02:53<15:47,  1.33it/s]"
     ]
    },
    {
     "name": "stdout",
     "output_type": "stream",
     "text": [
      "EXCEPTION - Row 212 @ (-119.604124, 37.311915)\n",
      "Image.select: Band pattern 'B4' was applied to an Image with no bands. See https://developers.google.com/earth-engine/guides/debugging#no-bands\n"
     ]
    },
    {
     "name": "stderr",
     "output_type": "stream",
     "text": [
      "\r",
      " 15%|███████████████▉                                                                                          | 222/1482 [02:54<15:31,  1.35it/s]"
     ]
    },
    {
     "name": "stdout",
     "output_type": "stream",
     "text": [
      "EXCEPTION - Row 203 @ (-122.37432, 41.42384)\n",
      "Image.select: Band pattern 'B4' was applied to an Image with no bands. See https://developers.google.com/earth-engine/guides/debugging#no-bands\n"
     ]
    },
    {
     "name": "stderr",
     "output_type": "stream",
     "text": [
      "\r",
      " 15%|███████████████▉                                                                                          | 223/1482 [02:54<15:13,  1.38it/s]"
     ]
    },
    {
     "name": "stdout",
     "output_type": "stream",
     "text": [
      "EXCEPTION - Row 270 @ (-120.1140659, 38.9195001)\n",
      "Image.select: Band pattern 'B4' was applied to an Image with no bands. See https://developers.google.com/earth-engine/guides/debugging#no-bands\n"
     ]
    },
    {
     "name": "stderr",
     "output_type": "stream",
     "text": [
      "\r",
      " 15%|████████████████                                                                                          | 224/1482 [02:55<14:40,  1.43it/s]"
     ]
    },
    {
     "name": "stdout",
     "output_type": "stream",
     "text": [
      "EXCEPTION - Row 213 @ (40.34, 37.0)\n",
      "Image.select: Band pattern 'B4' was applied to an Image with no bands. See https://developers.google.com/earth-engine/guides/debugging#no-bands\n"
     ]
    },
    {
     "name": "stderr",
     "output_type": "stream",
     "text": [
      "\r",
      " 15%|████████████████                                                                                          | 225/1482 [02:56<14:08,  1.48it/s]"
     ]
    },
    {
     "name": "stdout",
     "output_type": "stream",
     "text": [
      "EXCEPTION - Row 256 @ (-117.70643, 33.93869)\n",
      "Image.select: Band pattern 'B4' was applied to an Image with no bands. See https://developers.google.com/earth-engine/guides/debugging#no-bands\n"
     ]
    },
    {
     "name": "stderr",
     "output_type": "stream",
     "text": [
      "\r",
      " 15%|████████████████▏                                                                                         | 226/1482 [02:56<14:06,  1.48it/s]"
     ]
    },
    {
     "name": "stdout",
     "output_type": "stream",
     "text": [
      "EXCEPTION - Row 335 @ (-121.851, 41.485)\n",
      "Image.select: Band pattern 'B4' was applied to an Image with no bands. See https://developers.google.com/earth-engine/guides/debugging#no-bands\n"
     ]
    },
    {
     "name": "stderr",
     "output_type": "stream",
     "text": [
      "\r",
      " 15%|████████████████▏                                                                                         | 227/1482 [02:57<14:11,  1.47it/s]"
     ]
    },
    {
     "name": "stdout",
     "output_type": "stream",
     "text": [
      "EXCEPTION - Row 350 @ (-120.70166666667, 40.050833333333)\n",
      "Image.select: Band pattern 'B4' was applied to an Image with no bands. See https://developers.google.com/earth-engine/guides/debugging#no-bands\n"
     ]
    },
    {
     "name": "stderr",
     "output_type": "stream",
     "text": [
      "\r",
      " 15%|████████████████▎                                                                                         | 228/1482 [02:58<15:34,  1.34it/s]"
     ]
    },
    {
     "name": "stdout",
     "output_type": "stream",
     "text": [
      "EXCEPTION - Row 307 @ (-117.642759, 33.884313)\n",
      "Image.select: Band pattern 'B4' was applied to an Image with no bands. See https://developers.google.com/earth-engine/guides/debugging#no-bands\n"
     ]
    },
    {
     "name": "stderr",
     "output_type": "stream",
     "text": [
      "\r",
      " 15%|████████████████▍                                                                                         | 229/1482 [02:59<18:05,  1.15it/s]"
     ]
    },
    {
     "name": "stdout",
     "output_type": "stream",
     "text": [
      "EXCEPTION - Row 325 @ (-121.06963, 37.08312)\n",
      "Image.select: Band pattern 'B4' was applied to an Image with no bands. See https://developers.google.com/earth-engine/guides/debugging#no-bands\n"
     ]
    },
    {
     "name": "stderr",
     "output_type": "stream",
     "text": [
      "\r",
      " 16%|████████████████▍                                                                                         | 230/1482 [03:00<17:41,  1.18it/s]"
     ]
    },
    {
     "name": "stdout",
     "output_type": "stream",
     "text": [
      "EXCEPTION - Row 425 @ (-123.8292, 41.1513)\n",
      "Image.select: Band pattern 'B4' was applied to an Image with no bands. See https://developers.google.com/earth-engine/guides/debugging#no-bands\n"
     ]
    },
    {
     "name": "stderr",
     "output_type": "stream",
     "text": [
      "\r",
      " 16%|████████████████▌                                                                                         | 231/1482 [03:01<19:55,  1.05it/s]"
     ]
    },
    {
     "name": "stdout",
     "output_type": "stream",
     "text": [
      "EXCEPTION - Row 303 @ (-123.168, 40.924)\n",
      "Image.select: Band pattern 'B4' was applied to an Image with no bands. See https://developers.google.com/earth-engine/guides/debugging#no-bands\n"
     ]
    },
    {
     "name": "stderr",
     "output_type": "stream",
     "text": [
      "\r",
      " 16%|████████████████▌                                                                                         | 232/1482 [03:02<18:59,  1.10it/s]"
     ]
    },
    {
     "name": "stdout",
     "output_type": "stream",
     "text": [
      "EXCEPTION - Row 378 @ (-120.19482, 35.77937)\n",
      "Image.select: Band pattern 'B4' was applied to an Image with no bands. See https://developers.google.com/earth-engine/guides/debugging#no-bands\n"
     ]
    },
    {
     "name": "stderr",
     "output_type": "stream",
     "text": [
      "\r",
      " 16%|████████████████▋                                                                                         | 233/1482 [03:03<17:50,  1.17it/s]"
     ]
    },
    {
     "name": "stdout",
     "output_type": "stream",
     "text": [
      "EXCEPTION - Row 403 @ (-122.3415, 38.5287)\n",
      "Image.select: Band pattern 'B4' was applied to an Image with no bands. See https://developers.google.com/earth-engine/guides/debugging#no-bands\n"
     ]
    },
    {
     "name": "stderr",
     "output_type": "stream",
     "text": [
      "\r",
      " 16%|████████████████▋                                                                                         | 234/1482 [03:03<17:34,  1.18it/s]"
     ]
    },
    {
     "name": "stdout",
     "output_type": "stream",
     "text": [
      "EXCEPTION - Row 384 @ (-121.135426, 38.260777)\n",
      "Image.select: Band pattern 'B4' was applied to an Image with no bands. See https://developers.google.com/earth-engine/guides/debugging#no-bands\n"
     ]
    },
    {
     "name": "stderr",
     "output_type": "stream",
     "text": [
      "\r",
      " 16%|████████████████▊                                                                                         | 235/1482 [03:04<16:55,  1.23it/s]"
     ]
    },
    {
     "name": "stdout",
     "output_type": "stream",
     "text": [
      "EXCEPTION - Row 389 @ (-122.552, 40.0133)\n",
      "Image.select: Band pattern 'B4' was applied to an Image with no bands. See https://developers.google.com/earth-engine/guides/debugging#no-bands\n"
     ]
    },
    {
     "name": "stderr",
     "output_type": "stream",
     "text": [
      "\r",
      " 16%|████████████████▉                                                                                         | 236/1482 [03:05<15:53,  1.31it/s]"
     ]
    },
    {
     "name": "stdout",
     "output_type": "stream",
     "text": [
      "EXCEPTION - Row 283 @ (-116.89277777778, 34.160277777778)\n",
      "Image.select: Band pattern 'B4' was applied to an Image with no bands. See https://developers.google.com/earth-engine/guides/debugging#no-bands\n"
     ]
    },
    {
     "name": "stderr",
     "output_type": "stream",
     "text": [
      "\r",
      " 16%|████████████████▉                                                                                         | 237/1482 [03:05<15:03,  1.38it/s]"
     ]
    },
    {
     "name": "stdout",
     "output_type": "stream",
     "text": [
      "EXCEPTION - Row 339 @ (-116.8534, 32.9421)\n",
      "Image.select: Band pattern 'B4' was applied to an Image with no bands. See https://developers.google.com/earth-engine/guides/debugging#no-bands\n"
     ]
    },
    {
     "name": "stderr",
     "output_type": "stream",
     "text": [
      "\r",
      " 16%|█████████████████                                                                                         | 238/1482 [03:06<15:07,  1.37it/s]"
     ]
    },
    {
     "name": "stdout",
     "output_type": "stream",
     "text": [
      "EXCEPTION - Row 346 @ (-121.26471, 39.2688)\n",
      "Image.select: Band pattern 'B4' was applied to an Image with no bands. See https://developers.google.com/earth-engine/guides/debugging#no-bands\n"
     ]
    },
    {
     "name": "stderr",
     "output_type": "stream",
     "text": [
      "\r",
      " 16%|█████████████████                                                                                         | 239/1482 [03:07<15:06,  1.37it/s]"
     ]
    },
    {
     "name": "stdout",
     "output_type": "stream",
     "text": [
      "EXCEPTION - Row 309 @ (-119.523943, 37.165767)\n",
      "Image.select: Band pattern 'B4' was applied to an Image with no bands. See https://developers.google.com/earth-engine/guides/debugging#no-bands\n"
     ]
    },
    {
     "name": "stderr",
     "output_type": "stream",
     "text": [
      "\r",
      " 16%|█████████████████▏                                                                                        | 240/1482 [03:08<14:57,  1.38it/s]"
     ]
    },
    {
     "name": "stdout",
     "output_type": "stream",
     "text": [
      "EXCEPTION - Row 381 @ (-121.033667, 40.875667)\n",
      "Image.select: Band pattern 'B4' was applied to an Image with no bands. See https://developers.google.com/earth-engine/guides/debugging#no-bands\n"
     ]
    },
    {
     "name": "stderr",
     "output_type": "stream",
     "text": [
      "\r",
      " 16%|█████████████████▏                                                                                        | 241/1482 [03:08<15:08,  1.37it/s]"
     ]
    },
    {
     "name": "stdout",
     "output_type": "stream",
     "text": [
      "EXCEPTION - Row 430 @ (-119.751944, 38.598056)\n",
      "Image.select: Band pattern 'B4' was applied to an Image with no bands. See https://developers.google.com/earth-engine/guides/debugging#no-bands\n"
     ]
    },
    {
     "name": "stderr",
     "output_type": "stream",
     "text": [
      "\r",
      " 16%|█████████████████▎                                                                                        | 242/1482 [03:09<15:25,  1.34it/s]"
     ]
    },
    {
     "name": "stdout",
     "output_type": "stream",
     "text": [
      "EXCEPTION - Row 351 @ (-119.6958, 37.072561)\n",
      "Image.select: Band pattern 'B4' was applied to an Image with no bands. See https://developers.google.com/earth-engine/guides/debugging#no-bands\n"
     ]
    },
    {
     "name": "stderr",
     "output_type": "stream",
     "text": [
      "\r",
      " 16%|█████████████████▍                                                                                        | 243/1482 [03:10<14:34,  1.42it/s]"
     ]
    },
    {
     "name": "stdout",
     "output_type": "stream",
     "text": [
      "EXCEPTION - Row 318 @ (-118.535793, 34.361007)\n",
      "Image.select: Band pattern 'B4' was applied to an Image with no bands. See https://developers.google.com/earth-engine/guides/debugging#no-bands\n"
     ]
    },
    {
     "name": "stderr",
     "output_type": "stream",
     "text": [
      "\r",
      " 16%|█████████████████▍                                                                                        | 244/1482 [03:10<14:39,  1.41it/s]"
     ]
    },
    {
     "name": "stdout",
     "output_type": "stream",
     "text": [
      "EXCEPTION - Row 364 @ (-117.243878, 34.165974)\n",
      "Image.select: Band pattern 'B4' was applied to an Image with no bands. See https://developers.google.com/earth-engine/guides/debugging#no-bands\n"
     ]
    },
    {
     "name": "stderr",
     "output_type": "stream",
     "text": [
      "\r",
      " 17%|█████████████████▌                                                                                        | 245/1482 [03:11<15:52,  1.30it/s]"
     ]
    },
    {
     "name": "stdout",
     "output_type": "stream",
     "text": [
      "EXCEPTION - Row 369 @ (-116.9454387, 32.6449163)\n",
      "Image.select: Band pattern 'B4' was applied to an Image with no bands. See https://developers.google.com/earth-engine/guides/debugging#no-bands\n"
     ]
    },
    {
     "name": "stderr",
     "output_type": "stream",
     "text": [
      "\r",
      " 17%|█████████████████▌                                                                                        | 246/1482 [03:12<16:14,  1.27it/s]"
     ]
    },
    {
     "name": "stdout",
     "output_type": "stream",
     "text": [
      "EXCEPTION - Row 426 @ (-122.181878, 38.519132)\n",
      "Image.select: Band pattern 'B4' was applied to an Image with no bands. See https://developers.google.com/earth-engine/guides/debugging#no-bands\n"
     ]
    },
    {
     "name": "stderr",
     "output_type": "stream",
     "text": [
      "\r",
      " 17%|█████████████████▋                                                                                        | 247/1482 [03:13<17:09,  1.20it/s]"
     ]
    },
    {
     "name": "stdout",
     "output_type": "stream",
     "text": [
      "EXCEPTION - Row 407 @ (-123.248214, 39.7806004)\n",
      "Image.select: Band pattern 'B4' was applied to an Image with no bands. See https://developers.google.com/earth-engine/guides/debugging#no-bands\n"
     ]
    },
    {
     "name": "stderr",
     "output_type": "stream",
     "text": [
      "\r",
      " 17%|█████████████████▋                                                                                        | 248/1482 [03:14<16:19,  1.26it/s]"
     ]
    },
    {
     "name": "stdout",
     "output_type": "stream",
     "text": [
      "EXCEPTION - Row 421 @ (-123.303, 39.0263)\n",
      "Image.select: Band pattern 'B4' was applied to an Image with no bands. See https://developers.google.com/earth-engine/guides/debugging#no-bands\n"
     ]
    },
    {
     "name": "stderr",
     "output_type": "stream",
     "text": [
      "\r",
      " 17%|█████████████████▊                                                                                        | 249/1482 [03:14<15:36,  1.32it/s]"
     ]
    },
    {
     "name": "stdout",
     "output_type": "stream",
     "text": [
      "EXCEPTION - Row 341 @ (-122.3638, 39.8448)\n",
      "Image.select: Band pattern 'B4' was applied to an Image with no bands. See https://developers.google.com/earth-engine/guides/debugging#no-bands\n"
     ]
    },
    {
     "name": "stderr",
     "output_type": "stream",
     "text": [
      "\r",
      " 17%|█████████████████▉                                                                                        | 250/1482 [03:15<15:33,  1.32it/s]"
     ]
    },
    {
     "name": "stdout",
     "output_type": "stream",
     "text": [
      "EXCEPTION - Row 347 @ (-122.0789, 38.4113)\n",
      "Image.select: Band pattern 'B4' was applied to an Image with no bands. See https://developers.google.com/earth-engine/guides/debugging#no-bands\n"
     ]
    },
    {
     "name": "stderr",
     "output_type": "stream",
     "text": [
      "\r",
      " 17%|█████████████████▉                                                                                        | 251/1482 [03:16<15:17,  1.34it/s]"
     ]
    },
    {
     "name": "stdout",
     "output_type": "stream",
     "text": [
      "EXCEPTION - Row 427 @ (-122.4397, 40.5953)\n",
      "Image.select: Band pattern 'B4' was applied to an Image with no bands. See https://developers.google.com/earth-engine/guides/debugging#no-bands\n"
     ]
    },
    {
     "name": "stderr",
     "output_type": "stream",
     "text": [
      "\r",
      " 17%|██████████████████                                                                                        | 252/1482 [03:17<15:45,  1.30it/s]"
     ]
    },
    {
     "name": "stdout",
     "output_type": "stream",
     "text": [
      "EXCEPTION - Row 366 @ (-121.0157, 35.7183)\n",
      "Image.select: Band pattern 'B4' was applied to an Image with no bands. See https://developers.google.com/earth-engine/guides/debugging#no-bands\n"
     ]
    },
    {
     "name": "stderr",
     "output_type": "stream",
     "text": [
      "\r",
      " 17%|██████████████████                                                                                        | 253/1482 [03:17<15:14,  1.34it/s]"
     ]
    },
    {
     "name": "stdout",
     "output_type": "stream",
     "text": [
      "EXCEPTION - Row 402 @ (-122.1578, 38.1029)\n",
      "Image.select: Band pattern 'B4' was applied to an Image with no bands. See https://developers.google.com/earth-engine/guides/debugging#no-bands\n"
     ]
    },
    {
     "name": "stderr",
     "output_type": "stream",
     "text": [
      "\r",
      " 17%|██████████████████▏                                                                                       | 254/1482 [03:18<14:54,  1.37it/s]"
     ]
    },
    {
     "name": "stdout",
     "output_type": "stream",
     "text": [
      "EXCEPTION - Row 424 @ (-117.43942, 33.986204)\n",
      "Image.select: Band pattern 'B4' was applied to an Image with no bands. See https://developers.google.com/earth-engine/guides/debugging#no-bands\n"
     ]
    },
    {
     "name": "stderr",
     "output_type": "stream",
     "text": [
      "\r",
      " 17%|██████████████████▏                                                                                       | 255/1482 [03:19<16:24,  1.25it/s]"
     ]
    },
    {
     "name": "stdout",
     "output_type": "stream",
     "text": [
      "EXCEPTION - Row 390 @ (-117.0487863, 34.0783472)\n",
      "Image.select: Band pattern 'B4' was applied to an Image with no bands. See https://developers.google.com/earth-engine/guides/debugging#no-bands\n"
     ]
    },
    {
     "name": "stderr",
     "output_type": "stream",
     "text": [
      "\r",
      " 17%|██████████████████▎                                                                                       | 256/1482 [03:20<15:19,  1.33it/s]"
     ]
    },
    {
     "name": "stdout",
     "output_type": "stream",
     "text": [
      "EXCEPTION - Row 330 @ (-117.7274, 33.7626)\n",
      "Image.select: Band pattern 'B4' was applied to an Image with no bands. See https://developers.google.com/earth-engine/guides/debugging#no-bands\n"
     ]
    },
    {
     "name": "stderr",
     "output_type": "stream",
     "text": [
      "\r",
      " 17%|██████████████████▍                                                                                       | 257/1482 [03:20<14:40,  1.39it/s]"
     ]
    },
    {
     "name": "stdout",
     "output_type": "stream",
     "text": [
      "EXCEPTION - Row 338 @ (-122.5029, 41.8048)\n",
      "Image.select: Band pattern 'B4' was applied to an Image with no bands. See https://developers.google.com/earth-engine/guides/debugging#no-bands\n"
     ]
    },
    {
     "name": "stderr",
     "output_type": "stream",
     "text": [
      "\r",
      " 17%|██████████████████▍                                                                                       | 258/1482 [03:21<14:59,  1.36it/s]"
     ]
    },
    {
     "name": "stdout",
     "output_type": "stream",
     "text": [
      "EXCEPTION - Row 415 @ (-116.73472, 33.21407)\n",
      "Image.select: Band pattern 'B4' was applied to an Image with no bands. See https://developers.google.com/earth-engine/guides/debugging#no-bands\n"
     ]
    },
    {
     "name": "stderr",
     "output_type": "stream",
     "text": [
      "\r",
      " 17%|██████████████████▌                                                                                       | 259/1482 [03:22<14:10,  1.44it/s]"
     ]
    },
    {
     "name": "stdout",
     "output_type": "stream",
     "text": [
      "EXCEPTION - Row 296 @ (-117.478, 34.339)\n",
      "Image.select: Band pattern 'B4' was applied to an Image with no bands. See https://developers.google.com/earth-engine/guides/debugging#no-bands\n"
     ]
    },
    {
     "name": "stderr",
     "output_type": "stream",
     "text": [
      "\r",
      " 18%|██████████████████▌                                                                                       | 260/1482 [03:22<14:07,  1.44it/s]"
     ]
    },
    {
     "name": "stdout",
     "output_type": "stream",
     "text": [
      "EXCEPTION - Row 334 @ (-117.683, 34.367)\n",
      "Image.select: Band pattern 'B4' was applied to an Image with no bands. See https://developers.google.com/earth-engine/guides/debugging#no-bands\n"
     ]
    },
    {
     "name": "stderr",
     "output_type": "stream",
     "text": [
      "\r",
      " 18%|██████████████████▋                                                                                       | 261/1482 [03:23<13:59,  1.46it/s]"
     ]
    },
    {
     "name": "stdout",
     "output_type": "stream",
     "text": [
      "EXCEPTION - Row 292 @ (-118.54, 36.24)\n",
      "Image.select: Band pattern 'B4' was applied to an Image with no bands. See https://developers.google.com/earth-engine/guides/debugging#no-bands\n"
     ]
    },
    {
     "name": "stderr",
     "output_type": "stream",
     "text": [
      "\r",
      " 18%|██████████████████▋                                                                                       | 262/1482 [03:24<14:39,  1.39it/s]"
     ]
    },
    {
     "name": "stdout",
     "output_type": "stream",
     "text": [
      "EXCEPTION - Row 414 @ (-121.5681, 36.8727)\n",
      "Image.select: Band pattern 'B4' was applied to an Image with no bands. See https://developers.google.com/earth-engine/guides/debugging#no-bands\n"
     ]
    },
    {
     "name": "stderr",
     "output_type": "stream",
     "text": [
      "\r",
      " 18%|██████████████████▊                                                                                       | 263/1482 [03:25<14:36,  1.39it/s]"
     ]
    },
    {
     "name": "stdout",
     "output_type": "stream",
     "text": [
      "EXCEPTION - Row 316 @ (-118.824235, 36.085212)\n",
      "Image.select: Band pattern 'B4' was applied to an Image with no bands. See https://developers.google.com/earth-engine/guides/debugging#no-bands\n"
     ]
    },
    {
     "name": "stderr",
     "output_type": "stream",
     "text": [
      "\r",
      " 18%|██████████████████▉                                                                                       | 264/1482 [03:25<15:29,  1.31it/s]"
     ]
    },
    {
     "name": "stdout",
     "output_type": "stream",
     "text": [
      "EXCEPTION - Row 420 @ (-121.891226, 41.999341)\n",
      "Image.select: Band pattern 'B4' was applied to an Image with no bands. See https://developers.google.com/earth-engine/guides/debugging#no-bands\n"
     ]
    },
    {
     "name": "stderr",
     "output_type": "stream",
     "text": [
      "\r",
      " 18%|██████████████████▉                                                                                       | 265/1482 [03:26<15:32,  1.30it/s]"
     ]
    },
    {
     "name": "stdout",
     "output_type": "stream",
     "text": [
      "EXCEPTION - Row 412 @ (-121.1548, 38.9361)\n",
      "Image.select: Band pattern 'B4' was applied to an Image with no bands. See https://developers.google.com/earth-engine/guides/debugging#no-bands\n"
     ]
    },
    {
     "name": "stderr",
     "output_type": "stream",
     "text": [
      "\r",
      " 18%|███████████████████                                                                                       | 266/1482 [03:27<15:13,  1.33it/s]"
     ]
    },
    {
     "name": "stdout",
     "output_type": "stream",
     "text": [
      "EXCEPTION - Row 374 @ (-120.404, 38.776)\n",
      "Image.select: Band pattern 'B4' was applied to an Image with no bands. See https://developers.google.com/earth-engine/guides/debugging#no-bands\n"
     ]
    },
    {
     "name": "stderr",
     "output_type": "stream",
     "text": [
      "\r",
      " 18%|███████████████████                                                                                       | 267/1482 [03:28<16:15,  1.25it/s]"
     ]
    },
    {
     "name": "stdout",
     "output_type": "stream",
     "text": [
      "EXCEPTION - Row 354 @ (-121.172117, 41.29226)\n",
      "Image.select: Band pattern 'B4' was applied to an Image with no bands. See https://developers.google.com/earth-engine/guides/debugging#no-bands\n"
     ]
    },
    {
     "name": "stderr",
     "output_type": "stream",
     "text": [
      "\r",
      " 18%|███████████████████▏                                                                                      | 268/1482 [03:29<15:43,  1.29it/s]"
     ]
    },
    {
     "name": "stdout",
     "output_type": "stream",
     "text": [
      "EXCEPTION - Row 371 @ (-121.101623, 40.856422)\n",
      "Image.select: Band pattern 'B4' was applied to an Image with no bands. See https://developers.google.com/earth-engine/guides/debugging#no-bands\n"
     ]
    },
    {
     "name": "stderr",
     "output_type": "stream",
     "text": [
      "\r",
      " 18%|███████████████████▏                                                                                      | 269/1482 [03:30<16:35,  1.22it/s]"
     ]
    },
    {
     "name": "stdout",
     "output_type": "stream",
     "text": [
      "EXCEPTION - Row 413 @ (-116.51684, 32.682547)\n",
      "Image.select: Band pattern 'B4' was applied to an Image with no bands. See https://developers.google.com/earth-engine/guides/debugging#no-bands\n"
     ]
    },
    {
     "name": "stderr",
     "output_type": "stream",
     "text": [
      "\r",
      " 18%|███████████████████▎                                                                                      | 270/1482 [03:30<15:18,  1.32it/s]"
     ]
    },
    {
     "name": "stdout",
     "output_type": "stream",
     "text": [
      "EXCEPTION - Row 343 @ (-116.868611, 33.383889)\n",
      "Image.select: Band pattern 'B4' was applied to an Image with no bands. See https://developers.google.com/earth-engine/guides/debugging#no-bands\n"
     ]
    },
    {
     "name": "stderr",
     "output_type": "stream",
     "text": [
      "\r",
      " 18%|███████████████████▍                                                                                      | 271/1482 [03:31<15:07,  1.33it/s]"
     ]
    },
    {
     "name": "stdout",
     "output_type": "stream",
     "text": [
      "EXCEPTION - Row 345 @ (-123.784067, 41.295667)\n",
      "Image.select: Band pattern 'B4' was applied to an Image with no bands. See https://developers.google.com/earth-engine/guides/debugging#no-bands\n"
     ]
    },
    {
     "name": "stderr",
     "output_type": "stream",
     "text": [
      "\r",
      " 18%|███████████████████▍                                                                                      | 272/1482 [03:32<16:05,  1.25it/s]"
     ]
    },
    {
     "name": "stdout",
     "output_type": "stream",
     "text": [
      "EXCEPTION - Row 293 @ (-119.50014, 37.279722)\n",
      "Image.select: Band pattern 'B4' was applied to an Image with no bands. See https://developers.google.com/earth-engine/guides/debugging#no-bands\n"
     ]
    },
    {
     "name": "stderr",
     "output_type": "stream",
     "text": [
      "\r",
      " 18%|███████████████████▌                                                                                      | 273/1482 [03:33<15:28,  1.30it/s]"
     ]
    },
    {
     "name": "stdout",
     "output_type": "stream",
     "text": [
      "EXCEPTION - Row 300 @ (-120.882313, 39.192088)\n",
      "Image.select: Band pattern 'B4' was applied to an Image with no bands. See https://developers.google.com/earth-engine/guides/debugging#no-bands\n"
     ]
    },
    {
     "name": "stderr",
     "output_type": "stream",
     "text": [
      "\r",
      " 18%|███████████████████▌                                                                                      | 274/1482 [03:33<15:15,  1.32it/s]"
     ]
    },
    {
     "name": "stdout",
     "output_type": "stream",
     "text": [
      "EXCEPTION - Row 401 @ (-121.20324, 37.24523)\n",
      "Image.select: Band pattern 'B4' was applied to an Image with no bands. See https://developers.google.com/earth-engine/guides/debugging#no-bands\n"
     ]
    },
    {
     "name": "stderr",
     "output_type": "stream",
     "text": [
      "\r",
      " 19%|███████████████████▋                                                                                      | 275/1482 [03:34<14:57,  1.34it/s]"
     ]
    },
    {
     "name": "stdout",
     "output_type": "stream",
     "text": [
      "EXCEPTION - Row 428 @ (-123.774, 40.1093)\n",
      "Image.select: Band pattern 'B4' was applied to an Image with no bands. See https://developers.google.com/earth-engine/guides/debugging#no-bands\n"
     ]
    },
    {
     "name": "stderr",
     "output_type": "stream",
     "text": [
      "\r",
      " 19%|███████████████████▋                                                                                      | 276/1482 [03:35<14:49,  1.36it/s]"
     ]
    },
    {
     "name": "stdout",
     "output_type": "stream",
     "text": [
      "EXCEPTION - Row 319 @ (-121.38794, 39.43963)\n",
      "Image.select: Band pattern 'B4' was applied to an Image with no bands. See https://developers.google.com/earth-engine/guides/debugging#no-bands\n"
     ]
    },
    {
     "name": "stderr",
     "output_type": "stream",
     "text": [
      "\r",
      " 19%|███████████████████▊                                                                                      | 277/1482 [03:35<14:57,  1.34it/s]"
     ]
    },
    {
     "name": "stdout",
     "output_type": "stream",
     "text": [
      "EXCEPTION - Row 281 @ (-122.4762475, 38.8863538)\n",
      "Image.select: Band pattern 'B4' was applied to an Image with no bands. See https://developers.google.com/earth-engine/guides/debugging#no-bands\n"
     ]
    },
    {
     "name": "stderr",
     "output_type": "stream",
     "text": [
      "\r",
      " 19%|███████████████████▉                                                                                      | 278/1482 [03:36<15:38,  1.28it/s]"
     ]
    },
    {
     "name": "stdout",
     "output_type": "stream",
     "text": [
      "EXCEPTION - Row 333 @ (-120.15644, 37.823)\n",
      "Image.select: Band pattern 'B4' was applied to an Image with no bands. See https://developers.google.com/earth-engine/guides/debugging#no-bands\n"
     ]
    },
    {
     "name": "stderr",
     "output_type": "stream",
     "text": [
      "\r",
      " 19%|███████████████████▉                                                                                      | 279/1482 [03:37<15:02,  1.33it/s]"
     ]
    },
    {
     "name": "stdout",
     "output_type": "stream",
     "text": [
      "EXCEPTION - Row 373 @ (-122.199227, 40.509552)\n",
      "Image.select: Band pattern 'B4' was applied to an Image with no bands. See https://developers.google.com/earth-engine/guides/debugging#no-bands\n"
     ]
    },
    {
     "name": "stderr",
     "output_type": "stream",
     "text": [
      "\r",
      " 19%|████████████████████                                                                                      | 280/1482 [03:38<14:48,  1.35it/s]"
     ]
    },
    {
     "name": "stdout",
     "output_type": "stream",
     "text": [
      "EXCEPTION - Row 331 @ (-122.439939, 40.415108)\n",
      "Image.select: Band pattern 'B4' was applied to an Image with no bands. See https://developers.google.com/earth-engine/guides/debugging#no-bands\n"
     ]
    },
    {
     "name": "stderr",
     "output_type": "stream",
     "text": [
      "\r",
      " 19%|████████████████████                                                                                      | 281/1482 [03:38<14:45,  1.36it/s]"
     ]
    },
    {
     "name": "stdout",
     "output_type": "stream",
     "text": [
      "EXCEPTION - Row 336 @ (-121.68113, 37.81629)\n",
      "Image.select: Band pattern 'B4' was applied to an Image with no bands. See https://developers.google.com/earth-engine/guides/debugging#no-bands\n"
     ]
    },
    {
     "name": "stderr",
     "output_type": "stream",
     "text": [
      "\r",
      " 19%|████████████████████▏                                                                                     | 282/1482 [03:39<15:28,  1.29it/s]"
     ]
    },
    {
     "name": "stdout",
     "output_type": "stream",
     "text": [
      "EXCEPTION - Row 368 @ (-118.9009, 36.49845)\n",
      "Image.select: Band pattern 'B4' was applied to an Image with no bands. See https://developers.google.com/earth-engine/guides/debugging#no-bands\n"
     ]
    },
    {
     "name": "stderr",
     "output_type": "stream",
     "text": [
      "\r",
      " 19%|████████████████████▏                                                                                     | 283/1482 [03:40<14:50,  1.35it/s]"
     ]
    },
    {
     "name": "stdout",
     "output_type": "stream",
     "text": [
      "EXCEPTION - Row 367 @ (-122.20109, 40.49865)\n",
      "Image.select: Band pattern 'B4' was applied to an Image with no bands. See https://developers.google.com/earth-engine/guides/debugging#no-bands\n"
     ]
    },
    {
     "name": "stderr",
     "output_type": "stream",
     "text": [
      "\r",
      " 19%|████████████████████▎                                                                                     | 284/1482 [03:41<15:33,  1.28it/s]"
     ]
    },
    {
     "name": "stdout",
     "output_type": "stream",
     "text": [
      "EXCEPTION - Row 394 @ (-123.36316, 39.43301)\n",
      "Image.select: Band pattern 'B4' was applied to an Image with no bands. See https://developers.google.com/earth-engine/guides/debugging#no-bands\n"
     ]
    },
    {
     "name": "stderr",
     "output_type": "stream",
     "text": [
      "\r",
      " 19%|████████████████████▍                                                                                     | 285/1482 [03:42<15:10,  1.31it/s]"
     ]
    },
    {
     "name": "stdout",
     "output_type": "stream",
     "text": [
      "EXCEPTION - Row 295 @ (-121.392, 41.399)\n",
      "Image.select: Band pattern 'B4' was applied to an Image with no bands. See https://developers.google.com/earth-engine/guides/debugging#no-bands\n"
     ]
    },
    {
     "name": "stderr",
     "output_type": "stream",
     "text": [
      "\r",
      " 19%|████████████████████▍                                                                                     | 286/1482 [03:42<14:32,  1.37it/s]"
     ]
    },
    {
     "name": "stdout",
     "output_type": "stream",
     "text": [
      "EXCEPTION - Row 279 @ (-118.905, 36.874)\n",
      "Image.select: Band pattern 'B4' was applied to an Image with no bands. See https://developers.google.com/earth-engine/guides/debugging#no-bands\n"
     ]
    },
    {
     "name": "stderr",
     "output_type": "stream",
     "text": [
      "\r",
      " 19%|████████████████████▌                                                                                     | 287/1482 [03:43<16:05,  1.24it/s]"
     ]
    },
    {
     "name": "stdout",
     "output_type": "stream",
     "text": [
      "EXCEPTION - Row 392 @ (-120.2903, 34.9522)\n",
      "Image.select: Band pattern 'B4' was applied to an Image with no bands. See https://developers.google.com/earth-engine/guides/debugging#no-bands\n"
     ]
    },
    {
     "name": "stderr",
     "output_type": "stream",
     "text": [
      "\r",
      " 19%|████████████████████▌                                                                                     | 288/1482 [03:44<16:05,  1.24it/s]"
     ]
    },
    {
     "name": "stdout",
     "output_type": "stream",
     "text": [
      "EXCEPTION - Row 372 @ (-121.93244, 40.67868)\n",
      "Image.select: Band pattern 'B4' was applied to an Image with no bands. See https://developers.google.com/earth-engine/guides/debugging#no-bands\n"
     ]
    },
    {
     "name": "stderr",
     "output_type": "stream",
     "text": [
      "\r",
      " 20%|████████████████████▋                                                                                     | 289/1482 [03:45<16:09,  1.23it/s]"
     ]
    },
    {
     "name": "stdout",
     "output_type": "stream",
     "text": [
      "EXCEPTION - Row 288 @ (-120.105, 40.938)\n",
      "Image.select: Band pattern 'B4' was applied to an Image with no bands. See https://developers.google.com/earth-engine/guides/debugging#no-bands\n"
     ]
    },
    {
     "name": "stderr",
     "output_type": "stream",
     "text": [
      "\r",
      " 20%|████████████████████▋                                                                                     | 290/1482 [03:46<15:32,  1.28it/s]"
     ]
    },
    {
     "name": "stdout",
     "output_type": "stream",
     "text": [
      "EXCEPTION - Row 385 @ (-122.40546, 40.3929)\n",
      "Image.select: Band pattern 'B4' was applied to an Image with no bands. See https://developers.google.com/earth-engine/guides/debugging#no-bands\n"
     ]
    },
    {
     "name": "stderr",
     "output_type": "stream",
     "text": [
      "\r",
      " 20%|████████████████████▊                                                                                     | 291/1482 [03:46<15:29,  1.28it/s]"
     ]
    },
    {
     "name": "stdout",
     "output_type": "stream",
     "text": [
      "EXCEPTION - Row 410 @ (-121.18735, 39.33303)\n",
      "Image.select: Band pattern 'B4' was applied to an Image with no bands. See https://developers.google.com/earth-engine/guides/debugging#no-bands\n"
     ]
    },
    {
     "name": "stderr",
     "output_type": "stream",
     "text": [
      "\r",
      " 20%|████████████████████▉                                                                                     | 292/1482 [03:47<16:30,  1.20it/s]"
     ]
    },
    {
     "name": "stdout",
     "output_type": "stream",
     "text": [
      "EXCEPTION - Row 359 @ (-121.7786799, 40.3506868)\n",
      "Image.select: Band pattern 'B4' was applied to an Image with no bands. See https://developers.google.com/earth-engine/guides/debugging#no-bands\n",
      "Image download: ../Datav2/exports/tc/3cc1aa4c-b87d-4b4d-99b1-83dc56291b33_tc.tif (512, 512)\n"
     ]
    },
    {
     "name": "stderr",
     "output_type": "stream",
     "text": [
      "\r",
      " 20%|████████████████████▉                                                                                     | 293/1482 [03:52<37:16,  1.88s/it]"
     ]
    },
    {
     "name": "stdout",
     "output_type": "stream",
     "text": [
      "Image download: ../Datav2/exports/ndvi/3cc1aa4c-b87d-4b4d-99b1-83dc56291b33_ndvi_bw.tif (512, 512)\n"
     ]
    },
    {
     "name": "stderr",
     "output_type": "stream",
     "text": [
      "\r",
      " 20%|█████████████████████                                                                                     | 294/1482 [03:52<30:50,  1.56s/it]"
     ]
    },
    {
     "name": "stdout",
     "output_type": "stream",
     "text": [
      "EXCEPTION - Row 286 @ (-122.4867319, 38.8142503)\n",
      "Image.select: Band pattern 'B4' was applied to an Image with no bands. See https://developers.google.com/earth-engine/guides/debugging#no-bands\n"
     ]
    },
    {
     "name": "stderr",
     "output_type": "stream",
     "text": [
      "\r",
      " 20%|█████████████████████                                                                                     | 295/1482 [03:53<27:04,  1.37s/it]"
     ]
    },
    {
     "name": "stdout",
     "output_type": "stream",
     "text": [
      "EXCEPTION - Row 287 @ (-122.4867319, 38.8142503)\n",
      "Image.select: Band pattern 'B4' was applied to an Image with no bands. See https://developers.google.com/earth-engine/guides/debugging#no-bands\n",
      "Image download: ../Datav2/exports/tc/592f14da-405c-4e6d-a83b-8937322524ad_tc.tif (512, 512)\n"
     ]
    },
    {
     "name": "stderr",
     "output_type": "stream",
     "text": [
      "\r",
      " 20%|█████████████████████▏                                                                                    | 296/1482 [03:58<43:47,  2.22s/it]"
     ]
    },
    {
     "name": "stdout",
     "output_type": "stream",
     "text": [
      "Image download: ../Datav2/exports/ndvi/592f14da-405c-4e6d-a83b-8937322524ad_ndvi_bw.tif (512, 512)\n"
     ]
    },
    {
     "name": "stderr",
     "output_type": "stream",
     "text": [
      "\r",
      " 20%|█████████████████████▏                                                                                    | 297/1482 [03:58<35:18,  1.79s/it]"
     ]
    },
    {
     "name": "stdout",
     "output_type": "stream",
     "text": [
      "EXCEPTION - Row 355 @ (-120.5577, 38.052)\n",
      "Image.select: Band pattern 'B4' was applied to an Image with no bands. See https://developers.google.com/earth-engine/guides/debugging#no-bands\n"
     ]
    },
    {
     "name": "stderr",
     "output_type": "stream",
     "text": [
      "\r",
      " 20%|█████████████████████▎                                                                                    | 298/1482 [03:59<29:44,  1.51s/it]"
     ]
    },
    {
     "name": "stdout",
     "output_type": "stream",
     "text": [
      "EXCEPTION - Row 356 @ (-120.61691, 37.83618)\n",
      "Image.select: Band pattern 'B4' was applied to an Image with no bands. See https://developers.google.com/earth-engine/guides/debugging#no-bands\n"
     ]
    },
    {
     "name": "stderr",
     "output_type": "stream",
     "text": [
      "\r",
      " 20%|█████████████████████▍                                                                                    | 299/1482 [04:00<24:50,  1.26s/it]"
     ]
    },
    {
     "name": "stdout",
     "output_type": "stream",
     "text": [
      "EXCEPTION - Row 299 @ (-120.6269, 35.3477)\n",
      "Image.select: Band pattern 'B4' was applied to an Image with no bands. See https://developers.google.com/earth-engine/guides/debugging#no-bands\n"
     ]
    },
    {
     "name": "stderr",
     "output_type": "stream",
     "text": [
      "\r",
      " 20%|█████████████████████▍                                                                                    | 300/1482 [04:01<22:24,  1.14s/it]"
     ]
    },
    {
     "name": "stdout",
     "output_type": "stream",
     "text": [
      "EXCEPTION - Row 349 @ (-124.0720419, 40.1058823)\n",
      "Image.select: Band pattern 'B4' was applied to an Image with no bands. See https://developers.google.com/earth-engine/guides/debugging#no-bands\n"
     ]
    },
    {
     "name": "stderr",
     "output_type": "stream",
     "text": [
      "\r",
      " 20%|█████████████████████▌                                                                                    | 301/1482 [04:02<24:08,  1.23s/it]"
     ]
    },
    {
     "name": "stdout",
     "output_type": "stream",
     "text": [
      "EXCEPTION - Row 298 @ (-121.3732, 37.3845)\n",
      "Image.select: Band pattern 'B4' was applied to an Image with no bands. See https://developers.google.com/earth-engine/guides/debugging#no-bands\n"
     ]
    },
    {
     "name": "stderr",
     "output_type": "stream",
     "text": [
      "\r",
      " 20%|█████████████████████▌                                                                                    | 302/1482 [04:03<20:41,  1.05s/it]"
     ]
    },
    {
     "name": "stdout",
     "output_type": "stream",
     "text": [
      "EXCEPTION - Row 329 @ (-122.879272, 38.925764)\n",
      "Image.select: Band pattern 'B4' was applied to an Image with no bands. See https://developers.google.com/earth-engine/guides/debugging#no-bands\n",
      "Image download: ../Datav2/exports/tc/d0875efe-54fb-4cc2-b647-4f4d210df118_tc.tif (512, 512)\n"
     ]
    },
    {
     "name": "stderr",
     "output_type": "stream",
     "text": [
      "\r",
      " 20%|█████████████████████▋                                                                                    | 303/1482 [04:08<47:05,  2.40s/it]"
     ]
    },
    {
     "name": "stdout",
     "output_type": "stream",
     "text": [
      "Image download: ../Datav2/exports/ndvi/d0875efe-54fb-4cc2-b647-4f4d210df118_ndvi_bw.tif (512, 512)\n"
     ]
    },
    {
     "name": "stderr",
     "output_type": "stream",
     "text": [
      "\r",
      " 21%|█████████████████████▋                                                                                    | 304/1482 [04:09<37:35,  1.91s/it]"
     ]
    },
    {
     "name": "stdout",
     "output_type": "stream",
     "text": [
      "EXCEPTION - Row 422 @ (-122.53428, 38.831478)\n",
      "Image.select: Band pattern 'B4' was applied to an Image with no bands. See https://developers.google.com/earth-engine/guides/debugging#no-bands\n"
     ]
    },
    {
     "name": "stderr",
     "output_type": "stream",
     "text": [
      "\r",
      " 21%|█████████████████████▊                                                                                    | 305/1482 [04:10<30:28,  1.55s/it]"
     ]
    },
    {
     "name": "stdout",
     "output_type": "stream",
     "text": [
      "EXCEPTION - Row 352 @ (-122.96174, 40.724898)\n",
      "Image.select: Band pattern 'B4' was applied to an Image with no bands. See https://developers.google.com/earth-engine/guides/debugging#no-bands\n"
     ]
    },
    {
     "name": "stderr",
     "output_type": "stream",
     "text": [
      "\r",
      " 21%|█████████████████████▉                                                                                    | 306/1482 [04:11<26:44,  1.36s/it]"
     ]
    },
    {
     "name": "stdout",
     "output_type": "stream",
     "text": [
      "EXCEPTION - Row 409 @ (-121.194256, 41.12362)\n",
      "Image.select: Band pattern 'B4' was applied to an Image with no bands. See https://developers.google.com/earth-engine/guides/debugging#no-bands\n"
     ]
    },
    {
     "name": "stderr",
     "output_type": "stream",
     "text": [
      "\r",
      " 21%|█████████████████████▉                                                                                    | 307/1482 [04:12<23:30,  1.20s/it]"
     ]
    },
    {
     "name": "stdout",
     "output_type": "stream",
     "text": [
      "EXCEPTION - Row 376 @ (-121.0, 26.42)\n",
      "Image.select: Band pattern 'B4' was applied to an Image with no bands. See https://developers.google.com/earth-engine/guides/debugging#no-bands\n"
     ]
    },
    {
     "name": "stderr",
     "output_type": "stream",
     "text": [
      "\r",
      " 21%|██████████████████████                                                                                    | 308/1482 [04:12<21:14,  1.09s/it]"
     ]
    },
    {
     "name": "stdout",
     "output_type": "stream",
     "text": [
      "EXCEPTION - Row 311 @ (-122.0, 55.23)\n",
      "Image.select: Band pattern 'B4' was applied to an Image with no bands. See https://developers.google.com/earth-engine/guides/debugging#no-bands\n"
     ]
    },
    {
     "name": "stderr",
     "output_type": "stream",
     "text": [
      "\r",
      " 21%|██████████████████████                                                                                    | 309/1482 [04:13<19:39,  1.01s/it]"
     ]
    },
    {
     "name": "stdout",
     "output_type": "stream",
     "text": [
      "EXCEPTION - Row 362 @ (-120.30188, 38.04684)\n",
      "Image.select: Band pattern 'B4' was applied to an Image with no bands. See https://developers.google.com/earth-engine/guides/debugging#no-bands\n",
      "Image download: ../Datav2/exports/tc/5046e2ed-e2c3-4932-8f89-64dcdf19022d_tc.tif (512, 512)\n"
     ]
    },
    {
     "name": "stderr",
     "output_type": "stream",
     "text": [
      "\r",
      " 21%|█████████████████████▊                                                                                  | 310/1482 [04:24<1:14:59,  3.84s/it]"
     ]
    },
    {
     "name": "stdout",
     "output_type": "stream",
     "text": [
      "Image download: ../Datav2/exports/ndvi/5046e2ed-e2c3-4932-8f89-64dcdf19022d_ndvi_bw.tif (512, 512)\n"
     ]
    },
    {
     "name": "stderr",
     "output_type": "stream",
     "text": [
      "\r",
      " 21%|█████████████████████▊                                                                                  | 311/1482 [04:27<1:09:52,  3.58s/it]"
     ]
    },
    {
     "name": "stdout",
     "output_type": "stream",
     "text": [
      "EXCEPTION - Row 400 @ (-120.553075, 40.400196)\n",
      "Image.select: Band pattern 'B4' was applied to an Image with no bands. See https://developers.google.com/earth-engine/guides/debugging#no-bands\n"
     ]
    },
    {
     "name": "stderr",
     "output_type": "stream",
     "text": [
      "\r",
      " 21%|██████████████████████▎                                                                                   | 312/1482 [04:27<53:04,  2.72s/it]"
     ]
    },
    {
     "name": "stdout",
     "output_type": "stream",
     "text": [
      "EXCEPTION - Row 340 @ (-120.553075, 40.400196)\n",
      "Image.select: Band pattern 'B4' was applied to an Image with no bands. See https://developers.google.com/earth-engine/guides/debugging#no-bands\n"
     ]
    },
    {
     "name": "stderr",
     "output_type": "stream",
     "text": [
      "\r",
      " 21%|██████████████████████▍                                                                                   | 313/1482 [04:28<42:24,  2.18s/it]"
     ]
    },
    {
     "name": "stdout",
     "output_type": "stream",
     "text": [
      "EXCEPTION - Row 308 @ (-121.3363, 39.5218)\n",
      "Image.select: Band pattern 'B4' was applied to an Image with no bands. See https://developers.google.com/earth-engine/guides/debugging#no-bands\n"
     ]
    },
    {
     "name": "stderr",
     "output_type": "stream",
     "text": [
      "\r",
      " 21%|██████████████████████▍                                                                                   | 314/1482 [04:29<33:21,  1.71s/it]"
     ]
    },
    {
     "name": "stdout",
     "output_type": "stream",
     "text": [
      "EXCEPTION - Row 361 @ (-122.52541, 40.47512)\n",
      "Image.select: Band pattern 'B4' was applied to an Image with no bands. See https://developers.google.com/earth-engine/guides/debugging#no-bands\n"
     ]
    },
    {
     "name": "stderr",
     "output_type": "stream",
     "text": [
      "\r",
      " 21%|██████████████████████▌                                                                                   | 315/1482 [04:30<27:25,  1.41s/it]"
     ]
    },
    {
     "name": "stdout",
     "output_type": "stream",
     "text": [
      "EXCEPTION - Row 306 @ (-121.589554, 36.3699644)\n",
      "Image.select: Band pattern 'B4' was applied to an Image with no bands. See https://developers.google.com/earth-engine/guides/debugging#no-bands\n"
     ]
    },
    {
     "name": "stderr",
     "output_type": "stream",
     "text": [
      "\r",
      " 21%|██████████████████████▌                                                                                   | 316/1482 [04:30<23:21,  1.20s/it]"
     ]
    },
    {
     "name": "stdout",
     "output_type": "stream",
     "text": [
      "EXCEPTION - Row 365 @ (-121.7556029, 36.5696373)\n",
      "Image.select: Band pattern 'B4' was applied to an Image with no bands. See https://developers.google.com/earth-engine/guides/debugging#no-bands\n"
     ]
    },
    {
     "name": "stderr",
     "output_type": "stream",
     "text": [
      "\r",
      " 21%|██████████████████████▋                                                                                   | 317/1482 [04:31<21:06,  1.09s/it]"
     ]
    },
    {
     "name": "stdout",
     "output_type": "stream",
     "text": [
      "EXCEPTION - Row 408 @ (-121.194, 39.081)\n",
      "Image.select: Band pattern 'B4' was applied to an Image with no bands. See https://developers.google.com/earth-engine/guides/debugging#no-bands\n"
     ]
    },
    {
     "name": "stderr",
     "output_type": "stream",
     "text": [
      "\r",
      " 21%|██████████████████████▋                                                                                   | 318/1482 [04:32<18:36,  1.04it/s]"
     ]
    },
    {
     "name": "stdout",
     "output_type": "stream",
     "text": [
      "EXCEPTION - Row 363 @ (-121.8938, 39.8707)\n",
      "Image.select: Band pattern 'B4' was applied to an Image with no bands. See https://developers.google.com/earth-engine/guides/debugging#no-bands\n",
      "Image download: ../Datav2/exports/tc/8e71e23c-6161-480e-b8ca-f03147475e4d_tc.tif (512, 512)\n"
     ]
    },
    {
     "name": "stderr",
     "output_type": "stream",
     "text": [
      "\r",
      " 22%|██████████████████████▊                                                                                   | 319/1482 [04:36<35:26,  1.83s/it]"
     ]
    },
    {
     "name": "stdout",
     "output_type": "stream",
     "text": [
      "Image download: ../Datav2/exports/ndvi/8e71e23c-6161-480e-b8ca-f03147475e4d_ndvi_bw.tif (512, 512)\n",
      "Image download: ../Datav2/exports/tc/fbd3c0a8-7191-473c-bb05-43616711b6c5_tc.tif (512, 512)\n"
     ]
    },
    {
     "name": "stderr",
     "output_type": "stream",
     "text": [
      "\r",
      " 22%|██████████████████████▉                                                                                   | 320/1482 [04:40<48:49,  2.52s/it]"
     ]
    },
    {
     "name": "stdout",
     "output_type": "stream",
     "text": [
      "Image download: ../Datav2/exports/ndvi/fbd3c0a8-7191-473c-bb05-43616711b6c5_ndvi_bw.tif (512, 512)\n",
      "Image download: ../Datav2/exports/tc/3f31752f-4f51-4705-9fe4-50beec88a0e8_tc.tif (512, 512)\n"
     ]
    },
    {
     "name": "stderr",
     "output_type": "stream",
     "text": [
      "\r",
      " 22%|██████████████████████▉                                                                                   | 321/1482 [04:43<55:20,  2.86s/it]"
     ]
    },
    {
     "name": "stdout",
     "output_type": "stream",
     "text": [
      "Image download: ../Datav2/exports/ndvi/3f31752f-4f51-4705-9fe4-50beec88a0e8_ndvi_bw.tif (512, 512)\n",
      "Image download: ../Datav2/exports/tc/2c77fa07-73e6-45fe-a527-5bd526bdef41_tc.tif (512, 512)\n"
     ]
    },
    {
     "name": "stderr",
     "output_type": "stream",
     "text": [
      "\r",
      " 22%|██████████████████████▌                                                                                 | 322/1482 [04:48<1:04:55,  3.36s/it]"
     ]
    },
    {
     "name": "stdout",
     "output_type": "stream",
     "text": [
      "Image download: ../Datav2/exports/ndvi/2c77fa07-73e6-45fe-a527-5bd526bdef41_ndvi_bw.tif (512, 512)\n",
      "Image download: ../Datav2/exports/tc/7106ba43-100b-41f9-acbf-9fb9e9ab9ef7_tc.tif (512, 512)\n"
     ]
    },
    {
     "name": "stderr",
     "output_type": "stream",
     "text": [
      "\r",
      " 22%|██████████████████████▋                                                                                 | 323/1482 [04:53<1:14:39,  3.87s/it]"
     ]
    },
    {
     "name": "stdout",
     "output_type": "stream",
     "text": [
      "Image download: ../Datav2/exports/ndvi/7106ba43-100b-41f9-acbf-9fb9e9ab9ef7_ndvi_bw.tif (512, 512)\n",
      "Image download: ../Datav2/exports/tc/1d76ca50-aa10-4f90-bd99-a80bcf2eacce_tc.tif (512, 512)\n"
     ]
    },
    {
     "name": "stderr",
     "output_type": "stream",
     "text": [
      "\r",
      " 22%|██████████████████████▋                                                                                 | 324/1482 [04:58<1:19:23,  4.11s/it]"
     ]
    },
    {
     "name": "stdout",
     "output_type": "stream",
     "text": [
      "Image download: ../Datav2/exports/ndvi/1d76ca50-aa10-4f90-bd99-a80bcf2eacce_ndvi_bw.tif (512, 512)\n"
     ]
    },
    {
     "name": "stderr",
     "output_type": "stream",
     "text": [
      "\r",
      " 22%|███████████████████████▏                                                                                  | 325/1482 [04:58<59:40,  3.09s/it]"
     ]
    },
    {
     "name": "stdout",
     "output_type": "stream",
     "text": [
      "EXCEPTION - Row 597 @ (-121.0381507, 35.8378273)\n",
      "Image.select: Band pattern 'B4' was applied to an Image with no bands. See https://developers.google.com/earth-engine/guides/debugging#no-bands\n"
     ]
    },
    {
     "name": "stderr",
     "output_type": "stream",
     "text": [
      "\r",
      " 22%|███████████████████████▎                                                                                  | 326/1482 [04:59<46:11,  2.40s/it]"
     ]
    },
    {
     "name": "stdout",
     "output_type": "stream",
     "text": [
      "EXCEPTION - Row 514 @ (-119.38248, 36.78769)\n",
      "Image.select: Band pattern 'B4' was applied to an Image with no bands. See https://developers.google.com/earth-engine/guides/debugging#no-bands\n",
      "Image download: ../Datav2/exports/tc/e0de216a-9544-43ad-9b9f-bc05247f0550_tc.tif (512, 512)\n"
     ]
    },
    {
     "name": "stderr",
     "output_type": "stream",
     "text": [
      "\r",
      " 22%|███████████████████████▍                                                                                  | 327/1482 [05:03<55:13,  2.87s/it]"
     ]
    },
    {
     "name": "stdout",
     "output_type": "stream",
     "text": [
      "Image download: ../Datav2/exports/ndvi/e0de216a-9544-43ad-9b9f-bc05247f0550_ndvi_bw.tif (512, 512)\n",
      "Image download: ../Datav2/exports/tc/55fa95e6-f09e-42c4-889b-a4b5b63dccf2_tc.tif (512, 512)\n"
     ]
    },
    {
     "name": "stderr",
     "output_type": "stream",
     "text": [
      "\r",
      " 22%|███████████████████████                                                                                 | 328/1482 [05:08<1:03:55,  3.32s/it]"
     ]
    },
    {
     "name": "stdout",
     "output_type": "stream",
     "text": [
      "Image download: ../Datav2/exports/ndvi/55fa95e6-f09e-42c4-889b-a4b5b63dccf2_ndvi_bw.tif (512, 512)\n",
      "Image download: ../Datav2/exports/tc/ace1f464-7a70-4dcc-b8c5-d64fb1021d0e_tc.tif (512, 512)\n"
     ]
    },
    {
     "name": "stderr",
     "output_type": "stream",
     "text": [
      "\r",
      " 22%|███████████████████████                                                                                 | 329/1482 [05:12<1:12:21,  3.77s/it]"
     ]
    },
    {
     "name": "stdout",
     "output_type": "stream",
     "text": [
      "Image download: ../Datav2/exports/ndvi/ace1f464-7a70-4dcc-b8c5-d64fb1021d0e_ndvi_bw.tif (512, 512)\n",
      "Image download: ../Datav2/exports/tc/09ab0430-7679-494c-96d4-d7d938351cf4_tc.tif (512, 512)\n"
     ]
    },
    {
     "name": "stderr",
     "output_type": "stream",
     "text": [
      "\r",
      " 22%|███████████████████████▏                                                                                | 330/1482 [05:17<1:15:59,  3.96s/it]"
     ]
    },
    {
     "name": "stdout",
     "output_type": "stream",
     "text": [
      "Image download: ../Datav2/exports/ndvi/09ab0430-7679-494c-96d4-d7d938351cf4_ndvi_bw.tif (512, 512)\n",
      "Image download: ../Datav2/exports/tc/5080eb51-53e5-4338-95ec-618efe2bd7d1_tc.tif (512, 512)\n"
     ]
    },
    {
     "name": "stderr",
     "output_type": "stream",
     "text": [
      "\r",
      " 22%|███████████████████████▏                                                                                | 331/1482 [05:21<1:19:41,  4.15s/it]"
     ]
    },
    {
     "name": "stdout",
     "output_type": "stream",
     "text": [
      "Image download: ../Datav2/exports/ndvi/5080eb51-53e5-4338-95ec-618efe2bd7d1_ndvi_bw.tif (512, 512)\n",
      "Image download: ../Datav2/exports/tc/6227f4ad-3e40-4f3b-b210-3e55483e1e84_tc.tif (512, 512)\n"
     ]
    },
    {
     "name": "stderr",
     "output_type": "stream",
     "text": [
      "\r",
      " 22%|███████████████████████▎                                                                                | 332/1482 [05:25<1:19:45,  4.16s/it]"
     ]
    },
    {
     "name": "stdout",
     "output_type": "stream",
     "text": [
      "Image download: ../Datav2/exports/ndvi/6227f4ad-3e40-4f3b-b210-3e55483e1e84_ndvi_bw.tif (512, 512)\n",
      "Image download: ../Datav2/exports/tc/ffec404e-dea9-4175-8c50-8f2b0ca3efdd_tc.tif (512, 512)\n"
     ]
    },
    {
     "name": "stderr",
     "output_type": "stream",
     "text": [
      "\r",
      " 22%|███████████████████████▎                                                                                | 333/1482 [05:30<1:23:51,  4.38s/it]"
     ]
    },
    {
     "name": "stdout",
     "output_type": "stream",
     "text": [
      "Image download: ../Datav2/exports/ndvi/ffec404e-dea9-4175-8c50-8f2b0ca3efdd_ndvi_bw.tif (512, 512)\n",
      "Image download: ../Datav2/exports/tc/c88af25d-aff4-4b20-9c58-0b819c8ae99a_tc.tif (512, 512)\n"
     ]
    },
    {
     "name": "stderr",
     "output_type": "stream",
     "text": [
      "\r",
      " 23%|███████████████████████▍                                                                                | 334/1482 [05:34<1:21:02,  4.24s/it]"
     ]
    },
    {
     "name": "stdout",
     "output_type": "stream",
     "text": [
      "Image download: ../Datav2/exports/ndvi/c88af25d-aff4-4b20-9c58-0b819c8ae99a_ndvi_bw.tif (512, 512)\n",
      "Image download: ../Datav2/exports/tc/6afa1ccf-e1b6-492b-bcaa-9189cd3487aa_tc.tif (512, 512)\n"
     ]
    },
    {
     "name": "stderr",
     "output_type": "stream",
     "text": [
      "\r",
      " 23%|███████████████████████▌                                                                                | 335/1482 [05:39<1:21:23,  4.26s/it]"
     ]
    },
    {
     "name": "stdout",
     "output_type": "stream",
     "text": [
      "Image download: ../Datav2/exports/ndvi/6afa1ccf-e1b6-492b-bcaa-9189cd3487aa_ndvi_bw.tif (512, 512)\n",
      "Image download: ../Datav2/exports/tc/f2b5faf1-9ff0-48b7-8151-25880262bec1_tc.tif (512, 512)\n"
     ]
    },
    {
     "name": "stderr",
     "output_type": "stream",
     "text": [
      "\r",
      " 23%|███████████████████████▌                                                                                | 336/1482 [05:44<1:27:28,  4.58s/it]"
     ]
    },
    {
     "name": "stdout",
     "output_type": "stream",
     "text": [
      "Image download: ../Datav2/exports/ndvi/f2b5faf1-9ff0-48b7-8151-25880262bec1_ndvi_bw.tif (512, 512)\n",
      "Image download: ../Datav2/exports/tc/c5d590f0-97fe-4ac3-987d-ebceed6dbfc2_tc.tif (512, 512)\n"
     ]
    },
    {
     "name": "stderr",
     "output_type": "stream",
     "text": [
      "\r",
      " 23%|███████████████████████▋                                                                                | 337/1482 [05:48<1:24:58,  4.45s/it]"
     ]
    },
    {
     "name": "stdout",
     "output_type": "stream",
     "text": [
      "Image download: ../Datav2/exports/ndvi/c5d590f0-97fe-4ac3-987d-ebceed6dbfc2_ndvi_bw.tif (512, 512)\n",
      "Image download: ../Datav2/exports/tc/a757d4f9-2aa1-44c8-b986-ac00ca2fafdd_tc.tif (512, 512)\n"
     ]
    },
    {
     "name": "stderr",
     "output_type": "stream",
     "text": [
      "\r",
      " 23%|███████████████████████▋                                                                                | 338/1482 [05:54<1:30:35,  4.75s/it]"
     ]
    },
    {
     "name": "stdout",
     "output_type": "stream",
     "text": [
      "Image download: ../Datav2/exports/ndvi/a757d4f9-2aa1-44c8-b986-ac00ca2fafdd_ndvi_bw.tif (512, 512)\n",
      "Image download: ../Datav2/exports/tc/403e6185-c0e1-4b8f-a290-b50553a47b67_tc.tif (512, 512)\n"
     ]
    },
    {
     "name": "stderr",
     "output_type": "stream",
     "text": [
      "\r",
      " 23%|███████████████████████▊                                                                                | 339/1482 [05:58<1:27:31,  4.59s/it]"
     ]
    },
    {
     "name": "stdout",
     "output_type": "stream",
     "text": [
      "Image download: ../Datav2/exports/ndvi/403e6185-c0e1-4b8f-a290-b50553a47b67_ndvi_bw.tif (512, 512)\n",
      "Image download: ../Datav2/exports/tc/b8cf80c7-b617-4fe4-91b0-43b40d38c7f6_tc.tif (512, 512)\n"
     ]
    },
    {
     "name": "stderr",
     "output_type": "stream",
     "text": [
      "\r",
      " 23%|███████████████████████▊                                                                                | 340/1482 [06:02<1:27:22,  4.59s/it]"
     ]
    },
    {
     "name": "stdout",
     "output_type": "stream",
     "text": [
      "Image download: ../Datav2/exports/ndvi/b8cf80c7-b617-4fe4-91b0-43b40d38c7f6_ndvi_bw.tif (512, 512)\n",
      "Image download: ../Datav2/exports/tc/5c86c26b-e6c0-4e47-90b7-bc5da3885ebe_tc.tif (512, 512)\n"
     ]
    },
    {
     "name": "stderr",
     "output_type": "stream",
     "text": [
      "\r",
      " 23%|███████████████████████▉                                                                                | 341/1482 [06:07<1:29:31,  4.71s/it]"
     ]
    },
    {
     "name": "stdout",
     "output_type": "stream",
     "text": [
      "Image download: ../Datav2/exports/ndvi/5c86c26b-e6c0-4e47-90b7-bc5da3885ebe_ndvi_bw.tif (512, 512)\n",
      "Image download: ../Datav2/exports/tc/103e1cb6-0a02-4ca8-8739-4cf77b5d1c98_tc.tif (512, 512)\n"
     ]
    },
    {
     "name": "stderr",
     "output_type": "stream",
     "text": [
      "\r",
      " 23%|████████████████████████                                                                                | 342/1482 [06:12<1:27:55,  4.63s/it]"
     ]
    },
    {
     "name": "stdout",
     "output_type": "stream",
     "text": [
      "Image download: ../Datav2/exports/ndvi/103e1cb6-0a02-4ca8-8739-4cf77b5d1c98_ndvi_bw.tif (512, 512)\n",
      "Image download: ../Datav2/exports/tc/648cfdd4-f3f5-4faf-8ab1-a6f2cb5d9a6c_tc.tif (512, 512)\n"
     ]
    },
    {
     "name": "stderr",
     "output_type": "stream",
     "text": [
      "\r",
      " 23%|████████████████████████                                                                                | 343/1482 [06:17<1:28:35,  4.67s/it]"
     ]
    },
    {
     "name": "stdout",
     "output_type": "stream",
     "text": [
      "Image download: ../Datav2/exports/ndvi/648cfdd4-f3f5-4faf-8ab1-a6f2cb5d9a6c_ndvi_bw.tif (512, 512)\n",
      "Image download: ../Datav2/exports/tc/10a8344d-e2c6-4585-8094-bbb30e48db8c_tc.tif (512, 512)\n"
     ]
    },
    {
     "name": "stderr",
     "output_type": "stream",
     "text": [
      "\r",
      " 23%|████████████████████████▏                                                                               | 344/1482 [06:20<1:24:30,  4.46s/it]"
     ]
    },
    {
     "name": "stdout",
     "output_type": "stream",
     "text": [
      "Image download: ../Datav2/exports/ndvi/10a8344d-e2c6-4585-8094-bbb30e48db8c_ndvi_bw.tif (512, 512)\n",
      "Image download: ../Datav2/exports/tc/bae93037-2a91-4189-b256-3325cd2b6979_tc.tif (512, 512)\n"
     ]
    },
    {
     "name": "stderr",
     "output_type": "stream",
     "text": [
      "\r",
      " 23%|████████████████████████▏                                                                               | 345/1482 [06:26<1:28:33,  4.67s/it]"
     ]
    },
    {
     "name": "stdout",
     "output_type": "stream",
     "text": [
      "Image download: ../Datav2/exports/ndvi/bae93037-2a91-4189-b256-3325cd2b6979_ndvi_bw.tif (512, 512)\n",
      "Image download: ../Datav2/exports/tc/20e4887c-b772-460d-98be-d60f39171aeb_tc.tif (512, 512)\n"
     ]
    },
    {
     "name": "stderr",
     "output_type": "stream",
     "text": [
      "\r",
      " 23%|████████████████████████▎                                                                               | 346/1482 [06:31<1:29:25,  4.72s/it]"
     ]
    },
    {
     "name": "stdout",
     "output_type": "stream",
     "text": [
      "Image download: ../Datav2/exports/ndvi/20e4887c-b772-460d-98be-d60f39171aeb_ndvi_bw.tif (512, 512)\n",
      "Image download: ../Datav2/exports/tc/fb7d6492-444e-420c-9111-0f8999d3af04_tc.tif (512, 512)\n"
     ]
    },
    {
     "name": "stderr",
     "output_type": "stream",
     "text": [
      "\r",
      " 23%|████████████████████████▎                                                                               | 347/1482 [06:35<1:27:21,  4.62s/it]"
     ]
    },
    {
     "name": "stdout",
     "output_type": "stream",
     "text": [
      "Image download: ../Datav2/exports/ndvi/fb7d6492-444e-420c-9111-0f8999d3af04_ndvi_bw.tif (512, 512)\n",
      "Image download: ../Datav2/exports/tc/ffb3293b-3349-49c5-a7cb-c488391e8a72_tc.tif (512, 512)\n"
     ]
    },
    {
     "name": "stderr",
     "output_type": "stream",
     "text": [
      "\r",
      " 23%|████████████████████████▍                                                                               | 348/1482 [06:39<1:25:56,  4.55s/it]"
     ]
    },
    {
     "name": "stdout",
     "output_type": "stream",
     "text": [
      "Image download: ../Datav2/exports/ndvi/ffb3293b-3349-49c5-a7cb-c488391e8a72_ndvi_bw.tif (512, 512)\n",
      "Image download: ../Datav2/exports/tc/fef2ab8a-20d7-4dc3-b5c9-363aa1debef3_tc.tif (512, 512)\n"
     ]
    },
    {
     "name": "stderr",
     "output_type": "stream",
     "text": [
      "\r",
      " 24%|████████████████████████▍                                                                               | 349/1482 [06:43<1:18:58,  4.18s/it]"
     ]
    },
    {
     "name": "stdout",
     "output_type": "stream",
     "text": [
      "Image download: ../Datav2/exports/ndvi/fef2ab8a-20d7-4dc3-b5c9-363aa1debef3_ndvi_bw.tif (512, 512)\n",
      "Image download: ../Datav2/exports/tc/ae6a40fa-c0f3-460b-8e19-fbf4b5803bb8_tc.tif (512, 512)\n"
     ]
    },
    {
     "name": "stderr",
     "output_type": "stream",
     "text": [
      "\r",
      " 24%|████████████████████████▌                                                                               | 350/1482 [06:47<1:20:05,  4.25s/it]"
     ]
    },
    {
     "name": "stdout",
     "output_type": "stream",
     "text": [
      "Image download: ../Datav2/exports/ndvi/ae6a40fa-c0f3-460b-8e19-fbf4b5803bb8_ndvi_bw.tif (512, 512)\n",
      "Image download: ../Datav2/exports/tc/33099cdd-ccfc-454e-b5a3-770a69a30bd3_tc.tif (512, 512)\n"
     ]
    },
    {
     "name": "stderr",
     "output_type": "stream",
     "text": [
      "\r",
      " 24%|████████████████████████▋                                                                               | 351/1482 [06:52<1:22:21,  4.37s/it]"
     ]
    },
    {
     "name": "stdout",
     "output_type": "stream",
     "text": [
      "Image download: ../Datav2/exports/ndvi/33099cdd-ccfc-454e-b5a3-770a69a30bd3_ndvi_bw.tif (512, 512)\n"
     ]
    },
    {
     "name": "stderr",
     "output_type": "stream",
     "text": [
      "\r",
      " 24%|████████████████████████▋                                                                               | 352/1482 [06:52<1:01:23,  3.26s/it]"
     ]
    },
    {
     "name": "stdout",
     "output_type": "stream",
     "text": [
      "EXCEPTION - Row 520 @ (-121.6008, 39.595)\n",
      "Image.select: Band pattern 'B4' was applied to an Image with no bands. See https://developers.google.com/earth-engine/guides/debugging#no-bands\n",
      "Image download: ../Datav2/exports/tc/b1b2a50c-c131-4be2-9398-8adee38c1c19_tc.tif (512, 512)\n"
     ]
    },
    {
     "name": "stderr",
     "output_type": "stream",
     "text": [
      "\r",
      " 24%|████████████████████████▊                                                                               | 353/1482 [06:56<1:05:45,  3.49s/it]"
     ]
    },
    {
     "name": "stdout",
     "output_type": "stream",
     "text": [
      "Image download: ../Datav2/exports/ndvi/b1b2a50c-c131-4be2-9398-8adee38c1c19_ndvi_bw.tif (512, 512)\n"
     ]
    },
    {
     "name": "stderr",
     "output_type": "stream",
     "text": [
      "\r",
      " 24%|█████████████████████████▎                                                                                | 354/1482 [06:57<50:11,  2.67s/it]"
     ]
    },
    {
     "name": "stdout",
     "output_type": "stream",
     "text": [
      "EXCEPTION - Row 532 @ (-121.37704, 38.86804)\n",
      "Image.select: Band pattern 'B4' was applied to an Image with no bands. See https://developers.google.com/earth-engine/guides/debugging#no-bands\n"
     ]
    },
    {
     "name": "stderr",
     "output_type": "stream",
     "text": [
      "\r",
      " 24%|█████████████████████████▍                                                                                | 355/1482 [06:58<38:53,  2.07s/it]"
     ]
    },
    {
     "name": "stdout",
     "output_type": "stream",
     "text": [
      "EXCEPTION - Row 559 @ (-121.6051, 39.43351)\n",
      "Image.select: Band pattern 'B4' was applied to an Image with no bands. See https://developers.google.com/earth-engine/guides/debugging#no-bands\n",
      "Image download: ../Datav2/exports/tc/91816ff6-d4ec-4f31-8d40-bf2538aca09b_tc.tif (512, 512)\n"
     ]
    },
    {
     "name": "stderr",
     "output_type": "stream",
     "text": [
      "\r",
      " 24%|█████████████████████████▍                                                                                | 356/1482 [07:03<59:11,  3.15s/it]"
     ]
    },
    {
     "name": "stdout",
     "output_type": "stream",
     "text": [
      "Image download: ../Datav2/exports/ndvi/91816ff6-d4ec-4f31-8d40-bf2538aca09b_ndvi_bw.tif (512, 512)\n"
     ]
    },
    {
     "name": "stderr",
     "output_type": "stream",
     "text": [
      "\r",
      " 24%|█████████████████████████▌                                                                                | 357/1482 [07:05<48:19,  2.58s/it]"
     ]
    },
    {
     "name": "stdout",
     "output_type": "stream",
     "text": [
      "EXCEPTION - Row 554 @ (-120.9293, 36.1934)\n",
      "Image.select: Band pattern 'B4' was applied to an Image with no bands. See https://developers.google.com/earth-engine/guides/debugging#no-bands\n"
     ]
    },
    {
     "name": "stderr",
     "output_type": "stream",
     "text": [
      "\r",
      " 24%|█████████████████████████▌                                                                                | 358/1482 [07:05<38:00,  2.03s/it]"
     ]
    },
    {
     "name": "stdout",
     "output_type": "stream",
     "text": [
      "EXCEPTION - Row 472 @ (-119.14, 37.97)\n",
      "Image.select: Band pattern 'B4' was applied to an Image with no bands. See https://developers.google.com/earth-engine/guides/debugging#no-bands\n",
      "Image download: ../Datav2/exports/tc/3822b8a2-1a89-40e8-b239-840cfcda7a1c_tc.tif (512, 512)\n"
     ]
    },
    {
     "name": "stderr",
     "output_type": "stream",
     "text": [
      "\r",
      " 24%|█████████████████████████▋                                                                                | 359/1482 [07:10<54:29,  2.91s/it]"
     ]
    },
    {
     "name": "stdout",
     "output_type": "stream",
     "text": [
      "Image download: ../Datav2/exports/ndvi/3822b8a2-1a89-40e8-b239-840cfcda7a1c_ndvi_bw.tif (512, 512)\n",
      "Image download: ../Datav2/exports/tc/ec90eb29-e776-43da-a814-0c41463ae3c9_tc.tif (512, 512)\n"
     ]
    },
    {
     "name": "stderr",
     "output_type": "stream",
     "text": [
      "\r",
      " 24%|█████████████████████████▎                                                                              | 360/1482 [07:16<1:07:02,  3.59s/it]"
     ]
    },
    {
     "name": "stdout",
     "output_type": "stream",
     "text": [
      "Image download: ../Datav2/exports/ndvi/ec90eb29-e776-43da-a814-0c41463ae3c9_ndvi_bw.tif (512, 512)\n",
      "Image download: ../Datav2/exports/tc/c27c5212-1891-4105-86ee-9f97016ef159_tc.tif (512, 512)\n"
     ]
    },
    {
     "name": "stderr",
     "output_type": "stream",
     "text": [
      "\r",
      " 24%|█████████████████████████▎                                                                              | 361/1482 [07:20<1:10:32,  3.78s/it]"
     ]
    },
    {
     "name": "stdout",
     "output_type": "stream",
     "text": [
      "Image download: ../Datav2/exports/ndvi/c27c5212-1891-4105-86ee-9f97016ef159_ndvi_bw.tif (512, 512)\n",
      "Image download: ../Datav2/exports/tc/eb0fe9ad-f9f5-4bde-ad34-527ffd647669_tc.tif (512, 512)\n"
     ]
    },
    {
     "name": "stderr",
     "output_type": "stream",
     "text": [
      "\r",
      " 24%|█████████████████████████▍                                                                              | 362/1482 [07:24<1:14:34,  3.99s/it]"
     ]
    },
    {
     "name": "stdout",
     "output_type": "stream",
     "text": [
      "Image download: ../Datav2/exports/ndvi/eb0fe9ad-f9f5-4bde-ad34-527ffd647669_ndvi_bw.tif (512, 512)\n",
      "Image download: ../Datav2/exports/tc/489cea9f-b3cb-4615-b412-5ac5724c3976_tc.tif (512, 512)\n"
     ]
    },
    {
     "name": "stderr",
     "output_type": "stream",
     "text": [
      "\r",
      " 24%|█████████████████████████▍                                                                              | 363/1482 [07:33<1:43:38,  5.56s/it]"
     ]
    },
    {
     "name": "stdout",
     "output_type": "stream",
     "text": [
      "Image download: ../Datav2/exports/ndvi/489cea9f-b3cb-4615-b412-5ac5724c3976_ndvi_bw.tif (512, 512)\n",
      "Image download: ../Datav2/exports/tc/42fbaa73-e3c8-44ac-bf83-a576be6a804f_tc.tif (512, 512)\n"
     ]
    },
    {
     "name": "stderr",
     "output_type": "stream",
     "text": [
      "\r",
      " 25%|█████████████████████████▌                                                                              | 364/1482 [07:38<1:36:04,  5.16s/it]"
     ]
    },
    {
     "name": "stdout",
     "output_type": "stream",
     "text": [
      "Image download: ../Datav2/exports/ndvi/42fbaa73-e3c8-44ac-bf83-a576be6a804f_ndvi_bw.tif (512, 512)\n",
      "Image download: ../Datav2/exports/tc/2225d427-97d7-4d71-a83a-814f38a1c947_tc.tif (512, 512)\n"
     ]
    },
    {
     "name": "stderr",
     "output_type": "stream",
     "text": [
      "\r",
      " 25%|█████████████████████████▌                                                                              | 365/1482 [07:42<1:31:31,  4.92s/it]"
     ]
    },
    {
     "name": "stdout",
     "output_type": "stream",
     "text": [
      "Image download: ../Datav2/exports/ndvi/2225d427-97d7-4d71-a83a-814f38a1c947_ndvi_bw.tif (512, 512)\n",
      "Image download: ../Datav2/exports/tc/b604ffa7-8cee-4724-bb82-f1f4553a192f_tc.tif (512, 512)\n"
     ]
    },
    {
     "name": "stderr",
     "output_type": "stream",
     "text": [
      "\r",
      " 25%|█████████████████████████▋                                                                              | 366/1482 [07:46<1:25:43,  4.61s/it]"
     ]
    },
    {
     "name": "stdout",
     "output_type": "stream",
     "text": [
      "Image download: ../Datav2/exports/ndvi/b604ffa7-8cee-4724-bb82-f1f4553a192f_ndvi_bw.tif (512, 512)\n",
      "Image download: ../Datav2/exports/tc/b604ffa7-8cee-4724-bb82-f1f4553a192f_tc.tif (512, 512)\n"
     ]
    },
    {
     "name": "stderr",
     "output_type": "stream",
     "text": [
      "\r",
      " 25%|█████████████████████████▊                                                                              | 367/1482 [07:50<1:21:55,  4.41s/it]"
     ]
    },
    {
     "name": "stdout",
     "output_type": "stream",
     "text": [
      "Image download: ../Datav2/exports/ndvi/b604ffa7-8cee-4724-bb82-f1f4553a192f_ndvi_bw.tif (512, 512)\n",
      "Image download: ../Datav2/exports/tc/5689b708-61e8-4451-8ad6-68d9684704c6_tc.tif (512, 512)\n"
     ]
    },
    {
     "name": "stderr",
     "output_type": "stream",
     "text": [
      "\r",
      " 25%|█████████████████████████▊                                                                              | 368/1482 [07:54<1:20:55,  4.36s/it]"
     ]
    },
    {
     "name": "stdout",
     "output_type": "stream",
     "text": [
      "Image download: ../Datav2/exports/ndvi/5689b708-61e8-4451-8ad6-68d9684704c6_ndvi_bw.tif (512, 512)\n",
      "Image download: ../Datav2/exports/tc/69eaa890-889e-4be9-810d-3dcee8d55981_tc.tif (512, 512)\n"
     ]
    },
    {
     "name": "stderr",
     "output_type": "stream",
     "text": [
      "\r",
      " 25%|█████████████████████████▉                                                                              | 369/1482 [07:58<1:18:15,  4.22s/it]"
     ]
    },
    {
     "name": "stdout",
     "output_type": "stream",
     "text": [
      "Image download: ../Datav2/exports/ndvi/69eaa890-889e-4be9-810d-3dcee8d55981_ndvi_bw.tif (512, 512)\n",
      "Image download: ../Datav2/exports/tc/8653f541-d3ca-44b4-9edd-5a4a57349f2f_tc.tif (512, 512)\n"
     ]
    },
    {
     "name": "stderr",
     "output_type": "stream",
     "text": [
      "\r",
      " 25%|█████████████████████████▉                                                                              | 370/1482 [08:08<1:52:52,  6.09s/it]"
     ]
    },
    {
     "name": "stdout",
     "output_type": "stream",
     "text": [
      "Image download: ../Datav2/exports/ndvi/8653f541-d3ca-44b4-9edd-5a4a57349f2f_ndvi_bw.tif (512, 512)\n"
     ]
    },
    {
     "name": "stderr",
     "output_type": "stream",
     "text": [
      "\r",
      " 25%|██████████████████████████                                                                              | 371/1482 [08:09<1:22:53,  4.48s/it]"
     ]
    },
    {
     "name": "stdout",
     "output_type": "stream",
     "text": [
      "EXCEPTION - Row 584 @ (-118.15589, 36.58972)\n",
      "Image.select: Band pattern 'B4' was applied to an Image with no bands. See https://developers.google.com/earth-engine/guides/debugging#no-bands\n",
      "Image download: ../Datav2/exports/tc/f88a7291-9122-49fa-864d-b807fa360393_tc.tif (512, 512)\n"
     ]
    },
    {
     "name": "stderr",
     "output_type": "stream",
     "text": [
      "\r",
      " 25%|██████████████████████████                                                                              | 372/1482 [08:13<1:18:15,  4.23s/it]"
     ]
    },
    {
     "name": "stdout",
     "output_type": "stream",
     "text": [
      "Image download: ../Datav2/exports/ndvi/f88a7291-9122-49fa-864d-b807fa360393_ndvi_bw.tif (512, 512)\n",
      "Image download: ../Datav2/exports/tc/174608a2-14fd-4278-9811-cb7e5e5a3883_tc.tif (512, 512)\n"
     ]
    },
    {
     "name": "stderr",
     "output_type": "stream",
     "text": [
      "\r",
      " 25%|██████████████████████████▏                                                                             | 373/1482 [08:18<1:20:55,  4.38s/it]"
     ]
    },
    {
     "name": "stdout",
     "output_type": "stream",
     "text": [
      "Image download: ../Datav2/exports/ndvi/174608a2-14fd-4278-9811-cb7e5e5a3883_ndvi_bw.tif (512, 512)\n",
      "Image download: ../Datav2/exports/tc/140def53-175c-4f5d-b8e3-de0643781ff7_tc.tif (512, 512)\n"
     ]
    },
    {
     "name": "stderr",
     "output_type": "stream",
     "text": [
      "\r",
      " 25%|██████████████████████████▏                                                                             | 374/1482 [08:27<1:48:31,  5.88s/it]"
     ]
    },
    {
     "name": "stdout",
     "output_type": "stream",
     "text": [
      "Image download: ../Datav2/exports/ndvi/140def53-175c-4f5d-b8e3-de0643781ff7_ndvi_bw.tif (512, 512)\n",
      "Image download: ../Datav2/exports/tc/423df2bd-4464-44e0-8b8a-74f953613287_tc.tif (512, 512)\n"
     ]
    },
    {
     "name": "stderr",
     "output_type": "stream",
     "text": [
      "\r",
      " 25%|██████████████████████████▎                                                                             | 375/1482 [08:30<1:35:21,  5.17s/it]"
     ]
    },
    {
     "name": "stdout",
     "output_type": "stream",
     "text": [
      "Image download: ../Datav2/exports/ndvi/423df2bd-4464-44e0-8b8a-74f953613287_ndvi_bw.tif (512, 512)\n",
      "Image download: ../Datav2/exports/tc/902a3085-e518-4090-a2e5-20d0482b4dc2_tc.tif (512, 512)\n"
     ]
    },
    {
     "name": "stderr",
     "output_type": "stream",
     "text": [
      "\r",
      " 25%|██████████████████████████▍                                                                             | 376/1482 [08:36<1:35:04,  5.16s/it]"
     ]
    },
    {
     "name": "stdout",
     "output_type": "stream",
     "text": [
      "Image download: ../Datav2/exports/ndvi/902a3085-e518-4090-a2e5-20d0482b4dc2_ndvi_bw.tif (512, 512)\n",
      "Image download: ../Datav2/exports/tc/8e920d15-72f4-4e76-a3b4-22a364d6cf19_tc.tif (512, 512)\n"
     ]
    },
    {
     "name": "stderr",
     "output_type": "stream",
     "text": [
      "\r",
      " 25%|██████████████████████████▍                                                                             | 377/1482 [08:40<1:33:32,  5.08s/it]"
     ]
    },
    {
     "name": "stdout",
     "output_type": "stream",
     "text": [
      "Image download: ../Datav2/exports/ndvi/8e920d15-72f4-4e76-a3b4-22a364d6cf19_ndvi_bw.tif (512, 512)\n",
      "Image download: ../Datav2/exports/tc/e55dd16e-1712-4b97-a2f3-add0877b98cd_tc.tif (512, 512)\n"
     ]
    },
    {
     "name": "stderr",
     "output_type": "stream",
     "text": [
      "\r",
      " 26%|██████████████████████████▌                                                                             | 378/1482 [08:46<1:34:30,  5.14s/it]"
     ]
    },
    {
     "name": "stdout",
     "output_type": "stream",
     "text": [
      "Image download: ../Datav2/exports/ndvi/e55dd16e-1712-4b97-a2f3-add0877b98cd_ndvi_bw.tif (512, 512)\n",
      "Image download: ../Datav2/exports/tc/fe112320-013f-434e-b66c-101234292711_tc.tif (512, 512)\n"
     ]
    },
    {
     "name": "stderr",
     "output_type": "stream",
     "text": [
      "\r",
      " 26%|██████████████████████████▌                                                                             | 379/1482 [08:50<1:27:18,  4.75s/it]"
     ]
    },
    {
     "name": "stdout",
     "output_type": "stream",
     "text": [
      "Image download: ../Datav2/exports/ndvi/fe112320-013f-434e-b66c-101234292711_ndvi_bw.tif (512, 512)\n",
      "Image download: ../Datav2/exports/tc/67c0a269-05bb-4b4f-af22-68a1c5ac3adf_tc.tif (512, 512)\n"
     ]
    },
    {
     "name": "stderr",
     "output_type": "stream",
     "text": [
      "\r",
      " 26%|██████████████████████████▋                                                                             | 380/1482 [08:54<1:23:54,  4.57s/it]"
     ]
    },
    {
     "name": "stdout",
     "output_type": "stream",
     "text": [
      "Image download: ../Datav2/exports/ndvi/67c0a269-05bb-4b4f-af22-68a1c5ac3adf_ndvi_bw.tif (512, 512)\n",
      "Image download: ../Datav2/exports/tc/79b446a4-d809-4aa2-9f30-091a05ed697d_tc.tif (512, 512)\n"
     ]
    },
    {
     "name": "stderr",
     "output_type": "stream",
     "text": [
      "\r",
      " 26%|██████████████████████████▋                                                                             | 381/1482 [08:58<1:20:34,  4.39s/it]"
     ]
    },
    {
     "name": "stdout",
     "output_type": "stream",
     "text": [
      "Image download: ../Datav2/exports/ndvi/79b446a4-d809-4aa2-9f30-091a05ed697d_ndvi_bw.tif (512, 512)\n"
     ]
    },
    {
     "name": "stderr",
     "output_type": "stream",
     "text": [
      "\r",
      " 26%|██████████████████████████▊                                                                             | 382/1482 [08:58<1:00:20,  3.29s/it]"
     ]
    },
    {
     "name": "stdout",
     "output_type": "stream",
     "text": [
      "EXCEPTION - Row 528 @ (-120.841536, 5487.0)\n",
      "Image.select: Band pattern 'B4' was applied to an Image with no bands. See https://developers.google.com/earth-engine/guides/debugging#no-bands\n",
      "Image download: ../Datav2/exports/tc/fbe85bec-6399-442f-8a3f-ca4a25bb2b3b_tc.tif (512, 512)\n"
     ]
    },
    {
     "name": "stderr",
     "output_type": "stream",
     "text": [
      "\r",
      " 26%|██████████████████████████▉                                                                             | 383/1482 [09:03<1:07:29,  3.68s/it]"
     ]
    },
    {
     "name": "stdout",
     "output_type": "stream",
     "text": [
      "Image download: ../Datav2/exports/ndvi/fbe85bec-6399-442f-8a3f-ca4a25bb2b3b_ndvi_bw.tif (512, 512)\n",
      "Image download: ../Datav2/exports/tc/7ebdcc3e-f402-4ab7-88d4-82d99d59b019_tc.tif (512, 512)\n"
     ]
    },
    {
     "name": "stderr",
     "output_type": "stream",
     "text": [
      "\r",
      " 26%|██████████████████████████▉                                                                             | 384/1482 [09:08<1:16:29,  4.18s/it]"
     ]
    },
    {
     "name": "stdout",
     "output_type": "stream",
     "text": [
      "Image download: ../Datav2/exports/ndvi/7ebdcc3e-f402-4ab7-88d4-82d99d59b019_ndvi_bw.tif (512, 512)\n",
      "Image download: ../Datav2/exports/tc/4cfb8712-1b45-4a2e-b0c9-6ed6ddde5657_tc.tif (512, 512)\n"
     ]
    },
    {
     "name": "stderr",
     "output_type": "stream",
     "text": [
      "\r",
      " 26%|███████████████████████████                                                                             | 385/1482 [09:13<1:17:14,  4.23s/it]"
     ]
    },
    {
     "name": "stdout",
     "output_type": "stream",
     "text": [
      "Image download: ../Datav2/exports/ndvi/4cfb8712-1b45-4a2e-b0c9-6ed6ddde5657_ndvi_bw.tif (512, 512)\n",
      "Image download: ../Datav2/exports/tc/85832754-5848-4454-84fc-8b0a9abbff40_tc.tif (512, 512)\n"
     ]
    },
    {
     "name": "stderr",
     "output_type": "stream",
     "text": [
      "\r",
      " 26%|███████████████████████████                                                                             | 386/1482 [09:17<1:15:37,  4.14s/it]"
     ]
    },
    {
     "name": "stdout",
     "output_type": "stream",
     "text": [
      "Image download: ../Datav2/exports/ndvi/85832754-5848-4454-84fc-8b0a9abbff40_ndvi_bw.tif (512, 512)\n",
      "Image download: ../Datav2/exports/tc/eb9d05b5-7578-44bf-9eb1-3ddba425ff20_tc.tif (512, 512)\n"
     ]
    },
    {
     "name": "stderr",
     "output_type": "stream",
     "text": [
      "\r",
      " 26%|███████████████████████████▏                                                                            | 387/1482 [09:22<1:20:28,  4.41s/it]"
     ]
    },
    {
     "name": "stdout",
     "output_type": "stream",
     "text": [
      "Image download: ../Datav2/exports/ndvi/eb9d05b5-7578-44bf-9eb1-3ddba425ff20_ndvi_bw.tif (512, 512)\n",
      "Image download: ../Datav2/exports/tc/69b7a19e-7be7-43c1-8779-c7110b22f552_tc.tif (512, 512)\n"
     ]
    },
    {
     "name": "stderr",
     "output_type": "stream",
     "text": [
      "\r",
      " 26%|███████████████████████████▏                                                                            | 388/1482 [09:26<1:17:36,  4.26s/it]"
     ]
    },
    {
     "name": "stdout",
     "output_type": "stream",
     "text": [
      "Image download: ../Datav2/exports/ndvi/69b7a19e-7be7-43c1-8779-c7110b22f552_ndvi_bw.tif (512, 512)\n",
      "Image download: ../Datav2/exports/tc/0dc19167-07b3-45e6-9bad-ad070934616a_tc.tif (512, 512)\n"
     ]
    },
    {
     "name": "stderr",
     "output_type": "stream",
     "text": [
      "\r",
      " 26%|███████████████████████████▎                                                                            | 389/1482 [09:30<1:18:26,  4.31s/it]"
     ]
    },
    {
     "name": "stdout",
     "output_type": "stream",
     "text": [
      "Image download: ../Datav2/exports/ndvi/0dc19167-07b3-45e6-9bad-ad070934616a_ndvi_bw.tif (512, 512)\n",
      "Image download: ../Datav2/exports/tc/b6b6ef56-0d7f-4c97-b072-74b712aa1e65_tc.tif (512, 512)\n"
     ]
    },
    {
     "name": "stderr",
     "output_type": "stream",
     "text": [
      "\r",
      " 26%|███████████████████████████▎                                                                            | 390/1482 [09:37<1:30:10,  4.95s/it]"
     ]
    },
    {
     "name": "stdout",
     "output_type": "stream",
     "text": [
      "Image download: ../Datav2/exports/ndvi/b6b6ef56-0d7f-4c97-b072-74b712aa1e65_ndvi_bw.tif (512, 512)\n",
      "Image download: ../Datav2/exports/tc/a32de567-3d32-434a-9128-7947deaec3bb_tc.tif (512, 512)\n"
     ]
    },
    {
     "name": "stderr",
     "output_type": "stream",
     "text": [
      "\r",
      " 26%|███████████████████████████▍                                                                            | 391/1482 [09:42<1:32:40,  5.10s/it]"
     ]
    },
    {
     "name": "stdout",
     "output_type": "stream",
     "text": [
      "Image download: ../Datav2/exports/ndvi/a32de567-3d32-434a-9128-7947deaec3bb_ndvi_bw.tif (512, 512)\n",
      "Image download: ../Datav2/exports/tc/73083049-8bc2-4444-911b-f3d0812fb70c_tc.tif (512, 512)\n"
     ]
    },
    {
     "name": "stderr",
     "output_type": "stream",
     "text": [
      "\r",
      " 26%|███████████████████████████▌                                                                            | 392/1482 [09:46<1:28:20,  4.86s/it]"
     ]
    },
    {
     "name": "stdout",
     "output_type": "stream",
     "text": [
      "Image download: ../Datav2/exports/ndvi/73083049-8bc2-4444-911b-f3d0812fb70c_ndvi_bw.tif (512, 512)\n",
      "Image download: ../Datav2/exports/tc/d96a2f4f-8e4d-4534-abe2-d90530e2bbc3_tc.tif (512, 512)\n"
     ]
    },
    {
     "name": "stderr",
     "output_type": "stream",
     "text": [
      "\r",
      " 27%|███████████████████████████▌                                                                            | 393/1482 [09:53<1:36:51,  5.34s/it]"
     ]
    },
    {
     "name": "stdout",
     "output_type": "stream",
     "text": [
      "Image download: ../Datav2/exports/ndvi/d96a2f4f-8e4d-4534-abe2-d90530e2bbc3_ndvi_bw.tif (512, 512)\n",
      "Image download: ../Datav2/exports/tc/be2805af-a801-4ca9-b9e7-14f3b896097e_tc.tif (512, 512)\n"
     ]
    },
    {
     "name": "stderr",
     "output_type": "stream",
     "text": [
      "\r",
      " 27%|███████████████████████████▋                                                                            | 394/1482 [09:57<1:29:27,  4.93s/it]"
     ]
    },
    {
     "name": "stdout",
     "output_type": "stream",
     "text": [
      "Image download: ../Datav2/exports/ndvi/be2805af-a801-4ca9-b9e7-14f3b896097e_ndvi_bw.tif (512, 512)\n",
      "Image download: ../Datav2/exports/tc/6a75dc36-9f37-4c3a-870d-345f94a8104c_tc.tif (512, 512)\n"
     ]
    },
    {
     "name": "stderr",
     "output_type": "stream",
     "text": [
      "\r",
      " 27%|███████████████████████████▋                                                                            | 395/1482 [10:01<1:26:54,  4.80s/it]"
     ]
    },
    {
     "name": "stdout",
     "output_type": "stream",
     "text": [
      "Image download: ../Datav2/exports/ndvi/6a75dc36-9f37-4c3a-870d-345f94a8104c_ndvi_bw.tif (512, 512)\n",
      "Image download: ../Datav2/exports/tc/2dae3029-2d17-445a-9fac-e95345b179e0_tc.tif (512, 512)\n"
     ]
    },
    {
     "name": "stderr",
     "output_type": "stream",
     "text": [
      "\r",
      " 27%|███████████████████████████▊                                                                            | 396/1482 [10:07<1:33:55,  5.19s/it]"
     ]
    },
    {
     "name": "stdout",
     "output_type": "stream",
     "text": [
      "Image download: ../Datav2/exports/ndvi/2dae3029-2d17-445a-9fac-e95345b179e0_ndvi_bw.tif (512, 512)\n",
      "Image download: ../Datav2/exports/tc/78eccd24-9fe2-4ccd-90fa-a1e0fdc19b41_tc.tif (512, 512)\n"
     ]
    },
    {
     "name": "stderr",
     "output_type": "stream",
     "text": [
      "\r",
      " 27%|███████████████████████████▊                                                                            | 397/1482 [10:12<1:31:19,  5.05s/it]"
     ]
    },
    {
     "name": "stdout",
     "output_type": "stream",
     "text": [
      "Image download: ../Datav2/exports/ndvi/78eccd24-9fe2-4ccd-90fa-a1e0fdc19b41_ndvi_bw.tif (512, 512)\n",
      "Image download: ../Datav2/exports/tc/5d276af0-17d5-47d5-8f0e-86756d91b5c6_tc.tif (512, 512)\n"
     ]
    },
    {
     "name": "stderr",
     "output_type": "stream",
     "text": [
      "\r",
      " 27%|███████████████████████████▉                                                                            | 398/1482 [10:17<1:33:00,  5.15s/it]"
     ]
    },
    {
     "name": "stdout",
     "output_type": "stream",
     "text": [
      "Image download: ../Datav2/exports/ndvi/5d276af0-17d5-47d5-8f0e-86756d91b5c6_ndvi_bw.tif (512, 512)\n",
      "Image download: ../Datav2/exports/tc/977ac7ce-4204-4cd3-9f89-727142165261_tc.tif (512, 512)\n"
     ]
    },
    {
     "name": "stderr",
     "output_type": "stream",
     "text": [
      "\r",
      " 27%|████████████████████████████                                                                            | 399/1482 [10:23<1:35:13,  5.28s/it]"
     ]
    },
    {
     "name": "stdout",
     "output_type": "stream",
     "text": [
      "Image download: ../Datav2/exports/ndvi/977ac7ce-4204-4cd3-9f89-727142165261_ndvi_bw.tif (512, 512)\n",
      "Image download: ../Datav2/exports/tc/dc7637b2-fa97-47c7-bbce-c0fd1a015592_tc.tif (512, 512)\n"
     ]
    },
    {
     "name": "stderr",
     "output_type": "stream",
     "text": [
      "\r",
      " 27%|████████████████████████████                                                                            | 400/1482 [10:27<1:31:13,  5.06s/it]"
     ]
    },
    {
     "name": "stdout",
     "output_type": "stream",
     "text": [
      "Image download: ../Datav2/exports/ndvi/dc7637b2-fa97-47c7-bbce-c0fd1a015592_ndvi_bw.tif (512, 512)\n",
      "Image download: ../Datav2/exports/tc/f273dffb-e1eb-48dc-b0f9-908857e78095_tc.tif (512, 512)\n"
     ]
    },
    {
     "name": "stderr",
     "output_type": "stream",
     "text": [
      "\r",
      " 27%|████████████████████████████▏                                                                           | 401/1482 [10:39<2:05:46,  6.98s/it]"
     ]
    },
    {
     "name": "stdout",
     "output_type": "stream",
     "text": [
      "Image download: ../Datav2/exports/ndvi/f273dffb-e1eb-48dc-b0f9-908857e78095_ndvi_bw.tif (512, 512)\n",
      "Image download: ../Datav2/exports/tc/0b655a9d-94b3-4095-acfd-d40ac8347318_tc.tif (512, 512)\n"
     ]
    },
    {
     "name": "stderr",
     "output_type": "stream",
     "text": [
      "\r",
      " 27%|████████████████████████████▏                                                                           | 402/1482 [10:45<1:58:41,  6.59s/it]"
     ]
    },
    {
     "name": "stdout",
     "output_type": "stream",
     "text": [
      "Image download: ../Datav2/exports/ndvi/0b655a9d-94b3-4095-acfd-d40ac8347318_ndvi_bw.tif (512, 512)\n",
      "Image download: ../Datav2/exports/tc/947aab39-3d8a-4841-8fc3-d129d8bbf6a3_tc.tif (512, 512)\n"
     ]
    },
    {
     "name": "stderr",
     "output_type": "stream",
     "text": [
      "\r",
      " 27%|████████████████████████████▎                                                                           | 403/1482 [10:49<1:46:15,  5.91s/it]"
     ]
    },
    {
     "name": "stdout",
     "output_type": "stream",
     "text": [
      "Image download: ../Datav2/exports/ndvi/947aab39-3d8a-4841-8fc3-d129d8bbf6a3_ndvi_bw.tif (512, 512)\n",
      "Image download: ../Datav2/exports/tc/416155ea-f8ff-43cf-abf0-e888584bf5bc_tc.tif (512, 512)\n"
     ]
    },
    {
     "name": "stderr",
     "output_type": "stream",
     "text": [
      "\r",
      " 27%|████████████████████████████▎                                                                           | 404/1482 [10:53<1:36:13,  5.36s/it]"
     ]
    },
    {
     "name": "stdout",
     "output_type": "stream",
     "text": [
      "Image download: ../Datav2/exports/ndvi/416155ea-f8ff-43cf-abf0-e888584bf5bc_ndvi_bw.tif (512, 512)\n",
      "Image download: ../Datav2/exports/tc/7066c984-1420-4c59-b175-9536da4c5d14_tc.tif (512, 512)\n"
     ]
    },
    {
     "name": "stderr",
     "output_type": "stream",
     "text": [
      "\r",
      " 27%|████████████████████████████▍                                                                           | 405/1482 [10:58<1:32:32,  5.16s/it]"
     ]
    },
    {
     "name": "stdout",
     "output_type": "stream",
     "text": [
      "Image download: ../Datav2/exports/ndvi/7066c984-1420-4c59-b175-9536da4c5d14_ndvi_bw.tif (512, 512)\n",
      "Image download: ../Datav2/exports/tc/bd2b7bdc-0f92-451a-a3a5-03569d27c952_tc.tif (512, 512)\n"
     ]
    },
    {
     "name": "stderr",
     "output_type": "stream",
     "text": [
      "\r",
      " 27%|████████████████████████████▍                                                                           | 406/1482 [11:02<1:28:29,  4.93s/it]"
     ]
    },
    {
     "name": "stdout",
     "output_type": "stream",
     "text": [
      "Image download: ../Datav2/exports/ndvi/bd2b7bdc-0f92-451a-a3a5-03569d27c952_ndvi_bw.tif (512, 512)\n",
      "Image download: ../Datav2/exports/tc/f4026428-ad5a-42c7-b68e-959554a31343_tc.tif (512, 512)\n"
     ]
    },
    {
     "name": "stderr",
     "output_type": "stream",
     "text": [
      "\r",
      " 27%|████████████████████████████▌                                                                           | 407/1482 [11:08<1:34:00,  5.25s/it]"
     ]
    },
    {
     "name": "stdout",
     "output_type": "stream",
     "text": [
      "Image download: ../Datav2/exports/ndvi/f4026428-ad5a-42c7-b68e-959554a31343_ndvi_bw.tif (512, 512)\n",
      "Image download: ../Datav2/exports/tc/4c88252e-34a5-4912-a590-2c4539866c62_tc.tif (512, 512)\n"
     ]
    },
    {
     "name": "stderr",
     "output_type": "stream",
     "text": [
      "\r",
      " 28%|████████████████████████████▋                                                                           | 408/1482 [11:14<1:37:25,  5.44s/it]"
     ]
    },
    {
     "name": "stdout",
     "output_type": "stream",
     "text": [
      "Image download: ../Datav2/exports/ndvi/4c88252e-34a5-4912-a590-2c4539866c62_ndvi_bw.tif (512, 512)\n",
      "Image download: ../Datav2/exports/tc/e5122d1e-2bfc-4fa6-8152-da309e02c004_tc.tif (512, 512)\n"
     ]
    },
    {
     "name": "stderr",
     "output_type": "stream",
     "text": [
      "\r",
      " 28%|████████████████████████████▋                                                                           | 409/1482 [11:19<1:33:52,  5.25s/it]"
     ]
    },
    {
     "name": "stdout",
     "output_type": "stream",
     "text": [
      "Image download: ../Datav2/exports/ndvi/e5122d1e-2bfc-4fa6-8152-da309e02c004_ndvi_bw.tif (512, 512)\n",
      "Image download: ../Datav2/exports/tc/057fd4e2-7400-4fc4-9b23-3daf67fc8610_tc.tif (512, 512)\n"
     ]
    },
    {
     "name": "stderr",
     "output_type": "stream",
     "text": [
      "\r",
      " 28%|████████████████████████████▊                                                                           | 410/1482 [11:24<1:34:56,  5.31s/it]"
     ]
    },
    {
     "name": "stdout",
     "output_type": "stream",
     "text": [
      "Image download: ../Datav2/exports/ndvi/057fd4e2-7400-4fc4-9b23-3daf67fc8610_ndvi_bw.tif (512, 512)\n",
      "Image download: ../Datav2/exports/tc/140161a1-ca06-448a-87f2-27e688b2d922_tc.tif (512, 512)\n"
     ]
    },
    {
     "name": "stderr",
     "output_type": "stream",
     "text": [
      "\r",
      " 28%|████████████████████████████▊                                                                           | 411/1482 [11:33<1:51:32,  6.25s/it]"
     ]
    },
    {
     "name": "stdout",
     "output_type": "stream",
     "text": [
      "Image download: ../Datav2/exports/ndvi/140161a1-ca06-448a-87f2-27e688b2d922_ndvi_bw.tif (512, 512)\n",
      "Image download: ../Datav2/exports/tc/8505d2db-7c6f-445e-9bff-407e99cac614_tc.tif (512, 512)\n"
     ]
    },
    {
     "name": "stderr",
     "output_type": "stream",
     "text": [
      "\r",
      " 28%|████████████████████████████▉                                                                           | 412/1482 [11:38<1:45:31,  5.92s/it]"
     ]
    },
    {
     "name": "stdout",
     "output_type": "stream",
     "text": [
      "Image download: ../Datav2/exports/ndvi/8505d2db-7c6f-445e-9bff-407e99cac614_ndvi_bw.tif (512, 512)\n",
      "Image download: ../Datav2/exports/tc/f645bf93-57a3-4fdf-9544-d255f8311dc9_tc.tif (512, 512)\n"
     ]
    },
    {
     "name": "stderr",
     "output_type": "stream",
     "text": [
      "\r",
      " 28%|████████████████████████████▉                                                                           | 413/1482 [11:44<1:44:38,  5.87s/it]"
     ]
    },
    {
     "name": "stdout",
     "output_type": "stream",
     "text": [
      "Image download: ../Datav2/exports/ndvi/f645bf93-57a3-4fdf-9544-d255f8311dc9_ndvi_bw.tif (512, 512)\n",
      "Image download: ../Datav2/exports/tc/38fe21ed-2019-4be9-abdf-bf46ac5f59e3_tc.tif (512, 512)\n"
     ]
    },
    {
     "name": "stderr",
     "output_type": "stream",
     "text": [
      "\r",
      " 28%|█████████████████████████████                                                                           | 414/1482 [11:49<1:41:37,  5.71s/it]"
     ]
    },
    {
     "name": "stdout",
     "output_type": "stream",
     "text": [
      "Image download: ../Datav2/exports/ndvi/38fe21ed-2019-4be9-abdf-bf46ac5f59e3_ndvi_bw.tif (512, 512)\n",
      "Image download: ../Datav2/exports/tc/69c7b8cc-061e-4ca6-b5e8-83c6ae9d8a25_tc.tif (512, 512)\n"
     ]
    },
    {
     "name": "stderr",
     "output_type": "stream",
     "text": [
      "\r",
      " 28%|█████████████████████████████                                                                           | 415/1482 [11:54<1:38:40,  5.55s/it]"
     ]
    },
    {
     "name": "stdout",
     "output_type": "stream",
     "text": [
      "Image download: ../Datav2/exports/ndvi/69c7b8cc-061e-4ca6-b5e8-83c6ae9d8a25_ndvi_bw.tif (512, 512)\n",
      "Image download: ../Datav2/exports/tc/93995926-26b0-4158-9f93-fec263f40b47_tc.tif (512, 512)\n"
     ]
    },
    {
     "name": "stderr",
     "output_type": "stream",
     "text": [
      "\r",
      " 28%|█████████████████████████████▏                                                                          | 416/1482 [12:01<1:43:57,  5.85s/it]"
     ]
    },
    {
     "name": "stdout",
     "output_type": "stream",
     "text": [
      "Image download: ../Datav2/exports/ndvi/93995926-26b0-4158-9f93-fec263f40b47_ndvi_bw.tif (512, 512)\n",
      "Image download: ../Datav2/exports/tc/346c59b1-375e-4d42-876a-d97b769c939f_tc.tif (512, 512)\n"
     ]
    },
    {
     "name": "stderr",
     "output_type": "stream",
     "text": [
      "\r",
      " 28%|█████████████████████████████▎                                                                          | 417/1482 [12:05<1:38:05,  5.53s/it]"
     ]
    },
    {
     "name": "stdout",
     "output_type": "stream",
     "text": [
      "Image download: ../Datav2/exports/ndvi/346c59b1-375e-4d42-876a-d97b769c939f_ndvi_bw.tif (512, 512)\n",
      "Image download: ../Datav2/exports/tc/28b9dc5f-f9c0-41fb-81d6-8db562122f00_tc.tif (512, 512)\n"
     ]
    },
    {
     "name": "stderr",
     "output_type": "stream",
     "text": [
      "\r",
      " 28%|█████████████████████████████▎                                                                          | 418/1482 [12:09<1:28:21,  4.98s/it]"
     ]
    },
    {
     "name": "stdout",
     "output_type": "stream",
     "text": [
      "Image download: ../Datav2/exports/ndvi/28b9dc5f-f9c0-41fb-81d6-8db562122f00_ndvi_bw.tif (512, 512)\n",
      "Image download: ../Datav2/exports/tc/ef4185e8-9b3a-421f-9fae-a0b954b0b3c0_tc.tif (512, 512)\n"
     ]
    },
    {
     "name": "stderr",
     "output_type": "stream",
     "text": [
      "\r",
      " 28%|█████████████████████████████▍                                                                          | 419/1482 [12:14<1:25:13,  4.81s/it]"
     ]
    },
    {
     "name": "stdout",
     "output_type": "stream",
     "text": [
      "Image download: ../Datav2/exports/ndvi/ef4185e8-9b3a-421f-9fae-a0b954b0b3c0_ndvi_bw.tif (512, 512)\n",
      "Image download: ../Datav2/exports/tc/4f623d67-d74b-4e8f-92f4-ed728970e20e_tc.tif (512, 512)\n"
     ]
    },
    {
     "name": "stderr",
     "output_type": "stream",
     "text": [
      "\r",
      " 28%|█████████████████████████████▍                                                                          | 420/1482 [12:19<1:26:48,  4.90s/it]"
     ]
    },
    {
     "name": "stdout",
     "output_type": "stream",
     "text": [
      "Image download: ../Datav2/exports/ndvi/4f623d67-d74b-4e8f-92f4-ed728970e20e_ndvi_bw.tif (512, 512)\n",
      "Image download: ../Datav2/exports/tc/bc2fd9c2-da5c-4cd7-bbec-9daf2143a196_tc.tif (512, 512)\n"
     ]
    },
    {
     "name": "stderr",
     "output_type": "stream",
     "text": [
      "\r",
      " 28%|█████████████████████████████▌                                                                          | 421/1482 [12:23<1:26:04,  4.87s/it]"
     ]
    },
    {
     "name": "stdout",
     "output_type": "stream",
     "text": [
      "Image download: ../Datav2/exports/ndvi/bc2fd9c2-da5c-4cd7-bbec-9daf2143a196_ndvi_bw.tif (512, 512)\n",
      "Image download: ../Datav2/exports/tc/b82b0e22-4155-43dd-ac33-1da015b6d3d2_tc.tif (512, 512)\n"
     ]
    },
    {
     "name": "stderr",
     "output_type": "stream",
     "text": [
      "\r",
      " 28%|█████████████████████████████▌                                                                          | 422/1482 [12:28<1:22:31,  4.67s/it]"
     ]
    },
    {
     "name": "stdout",
     "output_type": "stream",
     "text": [
      "Image download: ../Datav2/exports/ndvi/b82b0e22-4155-43dd-ac33-1da015b6d3d2_ndvi_bw.tif (512, 512)\n",
      "Image download: ../Datav2/exports/tc/861bfbd3-ce1c-46bd-a32b-2848b7399119_tc.tif (512, 512)\n"
     ]
    },
    {
     "name": "stderr",
     "output_type": "stream",
     "text": [
      "\r",
      " 29%|█████████████████████████████▋                                                                          | 423/1482 [12:32<1:20:28,  4.56s/it]"
     ]
    },
    {
     "name": "stdout",
     "output_type": "stream",
     "text": [
      "Image download: ../Datav2/exports/ndvi/861bfbd3-ce1c-46bd-a32b-2848b7399119_ndvi_bw.tif (512, 512)\n",
      "Image download: ../Datav2/exports/tc/040d03d0-fbdd-438c-8174-f81e4a1bba57_tc.tif (512, 512)\n"
     ]
    },
    {
     "name": "stderr",
     "output_type": "stream",
     "text": [
      "\r",
      " 29%|█████████████████████████████▊                                                                          | 424/1482 [12:36<1:18:17,  4.44s/it]"
     ]
    },
    {
     "name": "stdout",
     "output_type": "stream",
     "text": [
      "Image download: ../Datav2/exports/ndvi/040d03d0-fbdd-438c-8174-f81e4a1bba57_ndvi_bw.tif (512, 512)\n",
      "Image download: ../Datav2/exports/tc/a0950d5e-6f35-4023-bb60-6737146ba7bd_tc.tif (512, 512)\n"
     ]
    },
    {
     "name": "stderr",
     "output_type": "stream",
     "text": [
      "\r",
      " 29%|█████████████████████████████▊                                                                          | 425/1482 [12:41<1:21:45,  4.64s/it]"
     ]
    },
    {
     "name": "stdout",
     "output_type": "stream",
     "text": [
      "Image download: ../Datav2/exports/ndvi/a0950d5e-6f35-4023-bb60-6737146ba7bd_ndvi_bw.tif (512, 512)\n",
      "Image download: ../Datav2/exports/tc/ea5193a1-69bc-4684-bfcd-235c17d36756_tc.tif (512, 512)\n"
     ]
    },
    {
     "name": "stderr",
     "output_type": "stream",
     "text": [
      "\r",
      " 29%|█████████████████████████████▉                                                                          | 426/1482 [12:48<1:32:54,  5.28s/it]"
     ]
    },
    {
     "name": "stdout",
     "output_type": "stream",
     "text": [
      "Image download: ../Datav2/exports/ndvi/ea5193a1-69bc-4684-bfcd-235c17d36756_ndvi_bw.tif (512, 512)\n",
      "Image download: ../Datav2/exports/tc/e247e423-6171-4184-9dca-b373de703885_tc.tif (512, 512)\n"
     ]
    },
    {
     "name": "stderr",
     "output_type": "stream",
     "text": [
      "\r",
      " 29%|█████████████████████████████▉                                                                          | 427/1482 [12:54<1:37:27,  5.54s/it]"
     ]
    },
    {
     "name": "stdout",
     "output_type": "stream",
     "text": [
      "Image download: ../Datav2/exports/ndvi/e247e423-6171-4184-9dca-b373de703885_ndvi_bw.tif (512, 512)\n",
      "Image download: ../Datav2/exports/tc/5823867d-c458-4673-858f-0ded99b6121f_tc.tif (512, 512)\n"
     ]
    },
    {
     "name": "stderr",
     "output_type": "stream",
     "text": [
      "\r",
      " 29%|██████████████████████████████                                                                          | 428/1482 [13:06<2:08:41,  7.33s/it]"
     ]
    },
    {
     "name": "stdout",
     "output_type": "stream",
     "text": [
      "Image download: ../Datav2/exports/ndvi/5823867d-c458-4673-858f-0ded99b6121f_ndvi_bw.tif (512, 512)\n",
      "Image download: ../Datav2/exports/tc/822c934f-11be-48a9-8e60-f3f6802ef24d_tc.tif (512, 512)\n"
     ]
    },
    {
     "name": "stderr",
     "output_type": "stream",
     "text": [
      "\r",
      " 29%|██████████████████████████████                                                                          | 429/1482 [13:11<1:55:45,  6.60s/it]"
     ]
    },
    {
     "name": "stdout",
     "output_type": "stream",
     "text": [
      "Image download: ../Datav2/exports/ndvi/822c934f-11be-48a9-8e60-f3f6802ef24d_ndvi_bw.tif (512, 512)\n",
      "Image download: ../Datav2/exports/tc/86166c24-3a85-42e3-a53a-ebb1d935fb8a_tc.tif (512, 512)\n"
     ]
    },
    {
     "name": "stderr",
     "output_type": "stream",
     "text": [
      "\r",
      " 29%|██████████████████████████████▏                                                                         | 430/1482 [13:21<2:17:38,  7.85s/it]"
     ]
    },
    {
     "name": "stdout",
     "output_type": "stream",
     "text": [
      "Image download: ../Datav2/exports/ndvi/86166c24-3a85-42e3-a53a-ebb1d935fb8a_ndvi_bw.tif (512, 512)\n",
      "Image download: ../Datav2/exports/tc/da72b0c2-835d-42a5-8fa8-4de5442610cc_tc.tif (512, 512)\n"
     ]
    },
    {
     "name": "stderr",
     "output_type": "stream",
     "text": [
      "\r",
      " 29%|██████████████████████████████▏                                                                         | 431/1482 [13:29<2:17:11,  7.83s/it]"
     ]
    },
    {
     "name": "stdout",
     "output_type": "stream",
     "text": [
      "Image download: ../Datav2/exports/ndvi/da72b0c2-835d-42a5-8fa8-4de5442610cc_ndvi_bw.tif (512, 512)\n",
      "Image download: ../Datav2/exports/tc/954fb899-decb-461b-a0dd-76442e3370d3_tc.tif (512, 512)\n"
     ]
    },
    {
     "name": "stderr",
     "output_type": "stream",
     "text": [
      "\r",
      " 29%|██████████████████████████████▎                                                                         | 432/1482 [13:34<2:03:07,  7.04s/it]"
     ]
    },
    {
     "name": "stdout",
     "output_type": "stream",
     "text": [
      "Image download: ../Datav2/exports/ndvi/954fb899-decb-461b-a0dd-76442e3370d3_ndvi_bw.tif (512, 512)\n",
      "Image download: ../Datav2/exports/tc/a2a6199c-704a-4826-a51b-23e6ee123349_tc.tif (512, 512)\n"
     ]
    },
    {
     "name": "stderr",
     "output_type": "stream",
     "text": [
      "\r",
      " 29%|██████████████████████████████▍                                                                         | 433/1482 [13:38<1:47:06,  6.13s/it]"
     ]
    },
    {
     "name": "stdout",
     "output_type": "stream",
     "text": [
      "Image download: ../Datav2/exports/ndvi/a2a6199c-704a-4826-a51b-23e6ee123349_ndvi_bw.tif (512, 512)\n",
      "Image download: ../Datav2/exports/tc/2656ad63-b3e1-467f-9982-0229fd31c0f5_tc.tif (512, 512)\n"
     ]
    },
    {
     "name": "stderr",
     "output_type": "stream",
     "text": [
      "\r",
      " 29%|██████████████████████████████▍                                                                         | 434/1482 [13:46<1:54:13,  6.54s/it]"
     ]
    },
    {
     "name": "stdout",
     "output_type": "stream",
     "text": [
      "Image download: ../Datav2/exports/ndvi/2656ad63-b3e1-467f-9982-0229fd31c0f5_ndvi_bw.tif (512, 512)\n",
      "Image download: ../Datav2/exports/tc/c55cc099-43f6-4a55-81b4-59ee03618511_tc.tif (512, 512)\n"
     ]
    },
    {
     "name": "stderr",
     "output_type": "stream",
     "text": [
      "\r",
      " 29%|██████████████████████████████▌                                                                         | 435/1482 [13:51<1:49:38,  6.28s/it]"
     ]
    },
    {
     "name": "stdout",
     "output_type": "stream",
     "text": [
      "Image download: ../Datav2/exports/ndvi/c55cc099-43f6-4a55-81b4-59ee03618511_ndvi_bw.tif (512, 512)\n",
      "Image download: ../Datav2/exports/tc/85683fd7-b507-4ec7-8bbd-fb7033a42665_tc.tif (512, 512)\n"
     ]
    },
    {
     "name": "stderr",
     "output_type": "stream",
     "text": [
      "\r",
      " 29%|██████████████████████████████▌                                                                         | 436/1482 [13:56<1:41:04,  5.80s/it]"
     ]
    },
    {
     "name": "stdout",
     "output_type": "stream",
     "text": [
      "Image download: ../Datav2/exports/ndvi/85683fd7-b507-4ec7-8bbd-fb7033a42665_ndvi_bw.tif (512, 512)\n",
      "Image download: ../Datav2/exports/tc/db833182-22df-44cc-ba10-0901e74222bc_tc.tif (512, 512)\n"
     ]
    },
    {
     "name": "stderr",
     "output_type": "stream",
     "text": [
      "\r",
      " 29%|██████████████████████████████▋                                                                         | 437/1482 [14:02<1:39:55,  5.74s/it]"
     ]
    },
    {
     "name": "stdout",
     "output_type": "stream",
     "text": [
      "Image download: ../Datav2/exports/ndvi/db833182-22df-44cc-ba10-0901e74222bc_ndvi_bw.tif (512, 512)\n",
      "Image download: ../Datav2/exports/tc/fa457abb-66d2-4f82-80fd-452e824e871f_tc.tif (512, 512)\n"
     ]
    },
    {
     "name": "stderr",
     "output_type": "stream",
     "text": [
      "\r",
      " 30%|██████████████████████████████▋                                                                         | 438/1482 [14:06<1:34:04,  5.41s/it]"
     ]
    },
    {
     "name": "stdout",
     "output_type": "stream",
     "text": [
      "Image download: ../Datav2/exports/ndvi/fa457abb-66d2-4f82-80fd-452e824e871f_ndvi_bw.tif (512, 512)\n",
      "Image download: ../Datav2/exports/tc/b44c3b1e-b243-455e-9ca9-9a1b5570e003_tc.tif (512, 512)\n"
     ]
    },
    {
     "name": "stderr",
     "output_type": "stream",
     "text": [
      "\r",
      " 30%|██████████████████████████████▊                                                                         | 439/1482 [14:10<1:26:53,  5.00s/it]"
     ]
    },
    {
     "name": "stdout",
     "output_type": "stream",
     "text": [
      "Image download: ../Datav2/exports/ndvi/b44c3b1e-b243-455e-9ca9-9a1b5570e003_ndvi_bw.tif (512, 512)\n",
      "Image download: ../Datav2/exports/tc/1780f987-76f9-4a82-81bd-6cb914758eec_tc.tif (512, 512)\n"
     ]
    },
    {
     "name": "stderr",
     "output_type": "stream",
     "text": [
      "\r",
      " 30%|██████████████████████████████▉                                                                         | 440/1482 [14:16<1:27:45,  5.05s/it]"
     ]
    },
    {
     "name": "stdout",
     "output_type": "stream",
     "text": [
      "Image download: ../Datav2/exports/ndvi/1780f987-76f9-4a82-81bd-6cb914758eec_ndvi_bw.tif (512, 512)\n",
      "Image download: ../Datav2/exports/tc/d045584a-8838-4d64-91dc-3ebfbcd8e708_tc.tif (512, 512)\n"
     ]
    },
    {
     "name": "stderr",
     "output_type": "stream",
     "text": [
      "\r",
      " 30%|██████████████████████████████▉                                                                         | 441/1482 [14:20<1:23:14,  4.80s/it]"
     ]
    },
    {
     "name": "stdout",
     "output_type": "stream",
     "text": [
      "Image download: ../Datav2/exports/ndvi/d045584a-8838-4d64-91dc-3ebfbcd8e708_ndvi_bw.tif (512, 512)\n",
      "Image download: ../Datav2/exports/tc/e935ecb3-5eba-43f8-ae02-624b3d5bc03a_tc.tif (512, 512)\n"
     ]
    },
    {
     "name": "stderr",
     "output_type": "stream",
     "text": [
      "\r",
      " 30%|███████████████████████████████                                                                         | 442/1482 [14:24<1:19:35,  4.59s/it]"
     ]
    },
    {
     "name": "stdout",
     "output_type": "stream",
     "text": [
      "Image download: ../Datav2/exports/ndvi/e935ecb3-5eba-43f8-ae02-624b3d5bc03a_ndvi_bw.tif (512, 512)\n",
      "Image download: ../Datav2/exports/tc/63643257-f082-4928-bf0e-77a0417a4613_tc.tif (512, 512)\n"
     ]
    },
    {
     "name": "stderr",
     "output_type": "stream",
     "text": [
      "\r",
      " 30%|███████████████████████████████                                                                         | 443/1482 [14:31<1:33:35,  5.41s/it]"
     ]
    },
    {
     "name": "stdout",
     "output_type": "stream",
     "text": [
      "Image download: ../Datav2/exports/ndvi/63643257-f082-4928-bf0e-77a0417a4613_ndvi_bw.tif (512, 512)\n",
      "Image download: ../Datav2/exports/tc/383c3df6-a1eb-40fd-b798-41481dff679a_tc.tif (512, 512)\n"
     ]
    },
    {
     "name": "stderr",
     "output_type": "stream",
     "text": [
      "\r",
      " 30%|███████████████████████████████▏                                                                        | 444/1482 [14:36<1:32:46,  5.36s/it]"
     ]
    },
    {
     "name": "stdout",
     "output_type": "stream",
     "text": [
      "Image download: ../Datav2/exports/ndvi/383c3df6-a1eb-40fd-b798-41481dff679a_ndvi_bw.tif (512, 512)\n",
      "Image download: ../Datav2/exports/tc/c94fda40-ab7a-42d1-bfc9-ca5f39fb6e7d_tc.tif (512, 512)\n"
     ]
    },
    {
     "name": "stderr",
     "output_type": "stream",
     "text": [
      "\r",
      " 30%|███████████████████████████████▏                                                                        | 445/1482 [14:41<1:29:32,  5.18s/it]"
     ]
    },
    {
     "name": "stdout",
     "output_type": "stream",
     "text": [
      "Image download: ../Datav2/exports/ndvi/c94fda40-ab7a-42d1-bfc9-ca5f39fb6e7d_ndvi_bw.tif (512, 512)\n",
      "Image download: ../Datav2/exports/tc/af8f8070-a3d6-4ca2-8e2b-6da1049a5bea_tc.tif (512, 512)\n"
     ]
    },
    {
     "name": "stderr",
     "output_type": "stream",
     "text": [
      "\r",
      " 30%|███████████████████████████████▎                                                                        | 446/1482 [14:46<1:26:54,  5.03s/it]"
     ]
    },
    {
     "name": "stdout",
     "output_type": "stream",
     "text": [
      "Image download: ../Datav2/exports/ndvi/af8f8070-a3d6-4ca2-8e2b-6da1049a5bea_ndvi_bw.tif (512, 512)\n",
      "Image download: ../Datav2/exports/tc/324a3c48-efcc-4385-ab87-baf0b5e29b5d_tc.tif (512, 512)\n"
     ]
    },
    {
     "name": "stderr",
     "output_type": "stream",
     "text": [
      "\r",
      " 30%|███████████████████████████████▎                                                                        | 447/1482 [14:51<1:28:18,  5.12s/it]"
     ]
    },
    {
     "name": "stdout",
     "output_type": "stream",
     "text": [
      "Image download: ../Datav2/exports/ndvi/324a3c48-efcc-4385-ab87-baf0b5e29b5d_ndvi_bw.tif (512, 512)\n",
      "Image download: ../Datav2/exports/tc/2a2e0af5-24d7-4903-bab4-3705f5d788fb_tc.tif (512, 512)\n"
     ]
    },
    {
     "name": "stderr",
     "output_type": "stream",
     "text": [
      "\r",
      " 30%|███████████████████████████████▍                                                                        | 448/1482 [14:56<1:27:52,  5.10s/it]"
     ]
    },
    {
     "name": "stdout",
     "output_type": "stream",
     "text": [
      "Image download: ../Datav2/exports/ndvi/2a2e0af5-24d7-4903-bab4-3705f5d788fb_ndvi_bw.tif (512, 512)\n",
      "Image download: ../Datav2/exports/tc/47ee7239-2bc9-4794-8582-982a92fdda9f_tc.tif (512, 512)\n"
     ]
    },
    {
     "name": "stderr",
     "output_type": "stream",
     "text": [
      "\r",
      " 30%|███████████████████████████████▌                                                                        | 449/1482 [15:01<1:24:21,  4.90s/it]"
     ]
    },
    {
     "name": "stdout",
     "output_type": "stream",
     "text": [
      "Image download: ../Datav2/exports/ndvi/47ee7239-2bc9-4794-8582-982a92fdda9f_ndvi_bw.tif (512, 512)\n",
      "Image download: ../Datav2/exports/tc/2d2aa30d-5c3f-4f46-97eb-54b63bec7f3a_tc.tif (512, 512)\n"
     ]
    },
    {
     "name": "stderr",
     "output_type": "stream",
     "text": [
      "\r",
      " 30%|███████████████████████████████▌                                                                        | 450/1482 [15:05<1:19:53,  4.65s/it]"
     ]
    },
    {
     "name": "stdout",
     "output_type": "stream",
     "text": [
      "Image download: ../Datav2/exports/ndvi/2d2aa30d-5c3f-4f46-97eb-54b63bec7f3a_ndvi_bw.tif (512, 512)\n",
      "Image download: ../Datav2/exports/tc/1243f711-c29f-4bc3-a7e7-c705a6fc40f2_tc.tif (512, 512)\n"
     ]
    },
    {
     "name": "stderr",
     "output_type": "stream",
     "text": [
      "\r",
      " 30%|███████████████████████████████▋                                                                        | 451/1482 [15:09<1:17:17,  4.50s/it]"
     ]
    },
    {
     "name": "stdout",
     "output_type": "stream",
     "text": [
      "Image download: ../Datav2/exports/ndvi/1243f711-c29f-4bc3-a7e7-c705a6fc40f2_ndvi_bw.tif (512, 512)\n",
      "Image download: ../Datav2/exports/tc/97772dc4-7fde-4412-982c-974b3316e22b_tc.tif (512, 512)\n"
     ]
    },
    {
     "name": "stderr",
     "output_type": "stream",
     "text": [
      "\r",
      " 30%|███████████████████████████████▋                                                                        | 452/1482 [15:14<1:18:24,  4.57s/it]"
     ]
    },
    {
     "name": "stdout",
     "output_type": "stream",
     "text": [
      "Image download: ../Datav2/exports/ndvi/97772dc4-7fde-4412-982c-974b3316e22b_ndvi_bw.tif (512, 512)\n",
      "Image download: ../Datav2/exports/tc/ed16bf52-f886-4384-b841-2e755234aa29_tc.tif (512, 512)\n"
     ]
    },
    {
     "name": "stderr",
     "output_type": "stream",
     "text": [
      "\r",
      " 31%|███████████████████████████████▊                                                                        | 453/1482 [15:18<1:18:04,  4.55s/it]"
     ]
    },
    {
     "name": "stdout",
     "output_type": "stream",
     "text": [
      "Image download: ../Datav2/exports/ndvi/ed16bf52-f886-4384-b841-2e755234aa29_ndvi_bw.tif (512, 512)\n",
      "Image download: ../Datav2/exports/tc/f66ae0d0-837d-4ea9-a7ed-6a78d9bde940_tc.tif (512, 512)\n"
     ]
    },
    {
     "name": "stderr",
     "output_type": "stream",
     "text": [
      "\r",
      " 31%|███████████████████████████████▊                                                                        | 454/1482 [15:22<1:15:44,  4.42s/it]"
     ]
    },
    {
     "name": "stdout",
     "output_type": "stream",
     "text": [
      "Image download: ../Datav2/exports/ndvi/f66ae0d0-837d-4ea9-a7ed-6a78d9bde940_ndvi_bw.tif (512, 512)\n",
      "Image download: ../Datav2/exports/tc/060ef833-2d3f-47d4-a1d4-146d1b9a5928_tc.tif (512, 512)\n"
     ]
    },
    {
     "name": "stderr",
     "output_type": "stream",
     "text": [
      "\r",
      " 31%|███████████████████████████████▉                                                                        | 455/1482 [15:29<1:25:21,  4.99s/it]"
     ]
    },
    {
     "name": "stdout",
     "output_type": "stream",
     "text": [
      "Image download: ../Datav2/exports/ndvi/060ef833-2d3f-47d4-a1d4-146d1b9a5928_ndvi_bw.tif (512, 512)\n",
      "Image download: ../Datav2/exports/tc/69e1a36d-21ab-4feb-b31c-dbfac4bf62d1_tc.tif (512, 512)\n"
     ]
    },
    {
     "name": "stderr",
     "output_type": "stream",
     "text": [
      "\r",
      " 31%|████████████████████████████████                                                                        | 456/1482 [15:33<1:24:10,  4.92s/it]"
     ]
    },
    {
     "name": "stdout",
     "output_type": "stream",
     "text": [
      "Image download: ../Datav2/exports/ndvi/69e1a36d-21ab-4feb-b31c-dbfac4bf62d1_ndvi_bw.tif (512, 512)\n",
      "Image download: ../Datav2/exports/tc/1f8b3267-c3bd-43f5-9733-2b30c97d45ee_tc.tif (512, 512)\n"
     ]
    },
    {
     "name": "stderr",
     "output_type": "stream",
     "text": [
      "\r",
      " 31%|████████████████████████████████                                                                        | 457/1482 [15:37<1:19:27,  4.65s/it]"
     ]
    },
    {
     "name": "stdout",
     "output_type": "stream",
     "text": [
      "Image download: ../Datav2/exports/ndvi/1f8b3267-c3bd-43f5-9733-2b30c97d45ee_ndvi_bw.tif (512, 512)\n",
      "Image download: ../Datav2/exports/tc/821c040d-a17c-4934-990f-ca7d441a303a_tc.tif (512, 512)\n"
     ]
    },
    {
     "name": "stderr",
     "output_type": "stream",
     "text": [
      "\r",
      " 31%|████████████████████████████████▏                                                                       | 458/1482 [15:41<1:16:02,  4.46s/it]"
     ]
    },
    {
     "name": "stdout",
     "output_type": "stream",
     "text": [
      "Image download: ../Datav2/exports/ndvi/821c040d-a17c-4934-990f-ca7d441a303a_ndvi_bw.tif (512, 512)\n",
      "Image download: ../Datav2/exports/tc/92c20948-6ff6-4a2c-b13f-32c75e71b16c_tc.tif (512, 512)\n"
     ]
    },
    {
     "name": "stderr",
     "output_type": "stream",
     "text": [
      "\r",
      " 31%|████████████████████████████████▏                                                                       | 459/1482 [15:46<1:16:20,  4.48s/it]"
     ]
    },
    {
     "name": "stdout",
     "output_type": "stream",
     "text": [
      "Image download: ../Datav2/exports/ndvi/92c20948-6ff6-4a2c-b13f-32c75e71b16c_ndvi_bw.tif (512, 512)\n",
      "Image download: ../Datav2/exports/tc/f6afb8c4-32dc-4e6d-8d30-e6b7ccd4a62f_tc.tif (512, 512)\n"
     ]
    },
    {
     "name": "stderr",
     "output_type": "stream",
     "text": [
      "\r",
      " 31%|████████████████████████████████▎                                                                       | 460/1482 [15:51<1:17:02,  4.52s/it]"
     ]
    },
    {
     "name": "stdout",
     "output_type": "stream",
     "text": [
      "Image download: ../Datav2/exports/ndvi/f6afb8c4-32dc-4e6d-8d30-e6b7ccd4a62f_ndvi_bw.tif (512, 512)\n",
      "Image download: ../Datav2/exports/tc/f669c502-b400-4ad9-ae95-bfd9c31f903c_tc.tif (512, 512)\n"
     ]
    },
    {
     "name": "stderr",
     "output_type": "stream",
     "text": [
      "\r",
      " 31%|████████████████████████████████▎                                                                       | 461/1482 [15:56<1:19:28,  4.67s/it]"
     ]
    },
    {
     "name": "stdout",
     "output_type": "stream",
     "text": [
      "Image download: ../Datav2/exports/ndvi/f669c502-b400-4ad9-ae95-bfd9c31f903c_ndvi_bw.tif (512, 512)\n",
      "Image download: ../Datav2/exports/tc/b4940174-75d0-4f5e-b505-4a66c17a9157_tc.tif (512, 512)\n"
     ]
    },
    {
     "name": "stderr",
     "output_type": "stream",
     "text": [
      "\r",
      " 31%|████████████████████████████████▍                                                                       | 462/1482 [16:00<1:18:05,  4.59s/it]"
     ]
    },
    {
     "name": "stdout",
     "output_type": "stream",
     "text": [
      "Image download: ../Datav2/exports/ndvi/b4940174-75d0-4f5e-b505-4a66c17a9157_ndvi_bw.tif (512, 512)\n",
      "Image download: ../Datav2/exports/tc/686e1300-65d3-4e07-8a88-e5952418649b_tc.tif (512, 512)\n"
     ]
    },
    {
     "name": "stderr",
     "output_type": "stream",
     "text": [
      "\r",
      " 31%|████████████████████████████████▍                                                                       | 463/1482 [16:04<1:13:01,  4.30s/it]"
     ]
    },
    {
     "name": "stdout",
     "output_type": "stream",
     "text": [
      "Image download: ../Datav2/exports/ndvi/686e1300-65d3-4e07-8a88-e5952418649b_ndvi_bw.tif (512, 512)\n",
      "Image download: ../Datav2/exports/tc/2e8eb057-1d9a-41a7-ab9f-9b85ce3374c4_tc.tif (512, 512)\n"
     ]
    },
    {
     "name": "stderr",
     "output_type": "stream",
     "text": [
      "\r",
      " 31%|████████████████████████████████▌                                                                       | 464/1482 [16:11<1:29:25,  5.27s/it]"
     ]
    },
    {
     "name": "stdout",
     "output_type": "stream",
     "text": [
      "Image download: ../Datav2/exports/ndvi/2e8eb057-1d9a-41a7-ab9f-9b85ce3374c4_ndvi_bw.tif (512, 512)\n",
      "Image download: ../Datav2/exports/tc/0bf08653-1441-4e73-b24b-1296afb12b45_tc.tif (512, 512)\n"
     ]
    },
    {
     "name": "stderr",
     "output_type": "stream",
     "text": [
      "\r",
      " 31%|████████████████████████████████▋                                                                       | 465/1482 [16:15<1:21:54,  4.83s/it]"
     ]
    },
    {
     "name": "stdout",
     "output_type": "stream",
     "text": [
      "Image download: ../Datav2/exports/ndvi/0bf08653-1441-4e73-b24b-1296afb12b45_ndvi_bw.tif (512, 512)\n",
      "Image download: ../Datav2/exports/tc/8a4c92b3-c1aa-41e0-aaed-999d73f0a418_tc.tif (512, 512)\n"
     ]
    },
    {
     "name": "stderr",
     "output_type": "stream",
     "text": [
      "\r",
      " 31%|████████████████████████████████▋                                                                       | 466/1482 [16:19<1:19:41,  4.71s/it]"
     ]
    },
    {
     "name": "stdout",
     "output_type": "stream",
     "text": [
      "Image download: ../Datav2/exports/ndvi/8a4c92b3-c1aa-41e0-aaed-999d73f0a418_ndvi_bw.tif (512, 512)\n",
      "Image download: ../Datav2/exports/tc/8d9b87e4-6fdb-49e4-ba6d-be85ffd6b222_tc.tif (512, 512)\n"
     ]
    },
    {
     "name": "stderr",
     "output_type": "stream",
     "text": [
      "\r",
      " 32%|████████████████████████████████▊                                                                       | 467/1482 [16:24<1:20:33,  4.76s/it]"
     ]
    },
    {
     "name": "stdout",
     "output_type": "stream",
     "text": [
      "Image download: ../Datav2/exports/ndvi/8d9b87e4-6fdb-49e4-ba6d-be85ffd6b222_ndvi_bw.tif (512, 512)\n",
      "Image download: ../Datav2/exports/tc/3a4871dc-2299-4934-8a31-b92780fe31a3_tc.tif (512, 512)\n"
     ]
    },
    {
     "name": "stderr",
     "output_type": "stream",
     "text": [
      "\r",
      " 32%|████████████████████████████████▊                                                                       | 468/1482 [16:30<1:27:54,  5.20s/it]"
     ]
    },
    {
     "name": "stdout",
     "output_type": "stream",
     "text": [
      "Image download: ../Datav2/exports/ndvi/3a4871dc-2299-4934-8a31-b92780fe31a3_ndvi_bw.tif (512, 512)\n",
      "Image download: ../Datav2/exports/tc/abd0a296-217d-4a6a-9da0-5eb05f56f863_tc.tif (512, 512)\n"
     ]
    },
    {
     "name": "stderr",
     "output_type": "stream",
     "text": [
      "\r",
      " 32%|████████████████████████████████▉                                                                       | 469/1482 [16:35<1:22:29,  4.89s/it]"
     ]
    },
    {
     "name": "stdout",
     "output_type": "stream",
     "text": [
      "Image download: ../Datav2/exports/ndvi/abd0a296-217d-4a6a-9da0-5eb05f56f863_ndvi_bw.tif (512, 512)\n",
      "Image download: ../Datav2/exports/tc/2dfac408-d2ab-4ff9-94aa-91be9d07bb59_tc.tif (512, 512)\n"
     ]
    },
    {
     "name": "stderr",
     "output_type": "stream",
     "text": [
      "\r",
      " 32%|████████████████████████████████▉                                                                       | 470/1482 [16:40<1:24:44,  5.02s/it]"
     ]
    },
    {
     "name": "stdout",
     "output_type": "stream",
     "text": [
      "Image download: ../Datav2/exports/ndvi/2dfac408-d2ab-4ff9-94aa-91be9d07bb59_ndvi_bw.tif (512, 512)\n",
      "Image download: ../Datav2/exports/tc/3135c367-1274-4cc4-9152-661f6fd7707e_tc.tif (512, 512)\n"
     ]
    },
    {
     "name": "stderr",
     "output_type": "stream",
     "text": [
      "\r",
      " 32%|█████████████████████████████████                                                                       | 471/1482 [16:45<1:26:52,  5.16s/it]"
     ]
    },
    {
     "name": "stdout",
     "output_type": "stream",
     "text": [
      "Image download: ../Datav2/exports/ndvi/3135c367-1274-4cc4-9152-661f6fd7707e_ndvi_bw.tif (512, 512)\n",
      "Image download: ../Datav2/exports/tc/59084c8f-904c-42cb-9aa8-cae4a1f8c6ef_tc.tif (512, 512)\n"
     ]
    },
    {
     "name": "stderr",
     "output_type": "stream",
     "text": [
      "\r",
      " 32%|█████████████████████████████████                                                                       | 472/1482 [16:52<1:34:25,  5.61s/it]"
     ]
    },
    {
     "name": "stdout",
     "output_type": "stream",
     "text": [
      "Image download: ../Datav2/exports/ndvi/59084c8f-904c-42cb-9aa8-cae4a1f8c6ef_ndvi_bw.tif (512, 512)\n",
      "Image download: ../Datav2/exports/tc/81ef7517-ab3c-4d1a-8ddd-b5d69404676f_tc.tif (512, 512)\n"
     ]
    },
    {
     "name": "stderr",
     "output_type": "stream",
     "text": [
      "\r",
      " 32%|█████████████████████████████████▏                                                                      | 473/1482 [16:58<1:36:56,  5.76s/it]"
     ]
    },
    {
     "name": "stdout",
     "output_type": "stream",
     "text": [
      "Image download: ../Datav2/exports/ndvi/81ef7517-ab3c-4d1a-8ddd-b5d69404676f_ndvi_bw.tif (512, 512)\n",
      "Image download: ../Datav2/exports/tc/2458cd6c-82d6-43ef-b509-706e3af69451_tc.tif (512, 512)\n"
     ]
    },
    {
     "name": "stderr",
     "output_type": "stream",
     "text": [
      "\r",
      " 32%|█████████████████████████████████▎                                                                      | 474/1482 [17:03<1:30:12,  5.37s/it]"
     ]
    },
    {
     "name": "stdout",
     "output_type": "stream",
     "text": [
      "Image download: ../Datav2/exports/ndvi/2458cd6c-82d6-43ef-b509-706e3af69451_ndvi_bw.tif (512, 512)\n",
      "Image download: ../Datav2/exports/tc/89c304db-e288-4582-90d4-884d57fd71f9_tc.tif (512, 512)\n"
     ]
    },
    {
     "name": "stderr",
     "output_type": "stream",
     "text": [
      "\r",
      " 32%|█████████████████████████████████▎                                                                      | 475/1482 [17:07<1:25:47,  5.11s/it]"
     ]
    },
    {
     "name": "stdout",
     "output_type": "stream",
     "text": [
      "Image download: ../Datav2/exports/ndvi/89c304db-e288-4582-90d4-884d57fd71f9_ndvi_bw.tif (512, 512)\n",
      "Image download: ../Datav2/exports/tc/6f600260-2bdb-4f53-9d1a-eab8afb3a11a_tc.tif (512, 512)\n"
     ]
    },
    {
     "name": "stderr",
     "output_type": "stream",
     "text": [
      "\r",
      " 32%|█████████████████████████████████▍                                                                      | 476/1482 [17:12<1:24:04,  5.01s/it]"
     ]
    },
    {
     "name": "stdout",
     "output_type": "stream",
     "text": [
      "Image download: ../Datav2/exports/ndvi/6f600260-2bdb-4f53-9d1a-eab8afb3a11a_ndvi_bw.tif (512, 512)\n",
      "Image download: ../Datav2/exports/tc/ca1227b3-1458-44c9-b32e-2994e309f940_tc.tif (512, 512)\n"
     ]
    },
    {
     "name": "stderr",
     "output_type": "stream",
     "text": [
      "\r",
      " 32%|█████████████████████████████████▍                                                                      | 477/1482 [17:16<1:18:33,  4.69s/it]"
     ]
    },
    {
     "name": "stdout",
     "output_type": "stream",
     "text": [
      "Image download: ../Datav2/exports/ndvi/ca1227b3-1458-44c9-b32e-2994e309f940_ndvi_bw.tif (512, 512)\n"
     ]
    },
    {
     "name": "stderr",
     "output_type": "stream",
     "text": [
      "\r",
      " 32%|██████████████████████████████████▏                                                                       | 478/1482 [17:17<58:09,  3.48s/it]"
     ]
    },
    {
     "name": "stdout",
     "output_type": "stream",
     "text": [
      "EXCEPTION - Row 1053 @ (-121.55633, 39.51158)\n",
      "Image.select: Band pattern 'B4' was applied to an Image with no bands. See https://developers.google.com/earth-engine/guides/debugging#no-bands\n",
      "Image download: ../Datav2/exports/tc/95960fa6-58ba-4b4e-aeb2-ada97d699908_tc.tif (512, 512)\n"
     ]
    },
    {
     "name": "stderr",
     "output_type": "stream",
     "text": [
      "\r",
      " 32%|█████████████████████████████████▌                                                                      | 479/1482 [17:21<1:02:18,  3.73s/it]"
     ]
    },
    {
     "name": "stdout",
     "output_type": "stream",
     "text": [
      "Image download: ../Datav2/exports/ndvi/95960fa6-58ba-4b4e-aeb2-ada97d699908_ndvi_bw.tif (512, 512)\n",
      "Image download: ../Datav2/exports/tc/31b0e75c-b0e2-4796-b8a7-efc49e4c59a5_tc.tif (512, 512)\n"
     ]
    },
    {
     "name": "stderr",
     "output_type": "stream",
     "text": [
      "\r",
      " 32%|█████████████████████████████████▋                                                                      | 480/1482 [17:26<1:06:48,  4.00s/it]"
     ]
    },
    {
     "name": "stdout",
     "output_type": "stream",
     "text": [
      "Image download: ../Datav2/exports/ndvi/31b0e75c-b0e2-4796-b8a7-efc49e4c59a5_ndvi_bw.tif (512, 512)\n",
      "Image download: ../Datav2/exports/tc/b12ae71e-c6c8-4eab-9aab-d17d1879a639_tc.tif (512, 512)\n"
     ]
    },
    {
     "name": "stderr",
     "output_type": "stream",
     "text": [
      "\r",
      " 32%|█████████████████████████████████▊                                                                      | 481/1482 [17:30<1:06:49,  4.01s/it]"
     ]
    },
    {
     "name": "stdout",
     "output_type": "stream",
     "text": [
      "Image download: ../Datav2/exports/ndvi/b12ae71e-c6c8-4eab-9aab-d17d1879a639_ndvi_bw.tif (512, 512)\n"
     ]
    },
    {
     "name": "stderr",
     "output_type": "stream",
     "text": [
      "\r",
      " 33%|██████████████████████████████████▍                                                                       | 482/1482 [17:30<50:55,  3.06s/it]"
     ]
    },
    {
     "name": "stdout",
     "output_type": "stream",
     "text": [
      "EXCEPTION - Row 657 @ (-120.26561, 36.07228)\n",
      "Image.select: Band pattern 'B4' was applied to an Image with no bands. See https://developers.google.com/earth-engine/guides/debugging#no-bands\n",
      "Image download: ../Datav2/exports/tc/b8bdbd12-e3a2-49e0-8d65-7c18b8d584bf_tc.tif (512, 512)\n"
     ]
    },
    {
     "name": "stderr",
     "output_type": "stream",
     "text": [
      "\r",
      " 33%|██████████████████████████████████▌                                                                       | 483/1482 [17:35<58:05,  3.49s/it]"
     ]
    },
    {
     "name": "stdout",
     "output_type": "stream",
     "text": [
      "Image download: ../Datav2/exports/ndvi/b8bdbd12-e3a2-49e0-8d65-7c18b8d584bf_ndvi_bw.tif (512, 512)\n"
     ]
    },
    {
     "name": "stderr",
     "output_type": "stream",
     "text": [
      "\r",
      " 33%|██████████████████████████████████▌                                                                       | 484/1482 [17:36<44:42,  2.69s/it]"
     ]
    },
    {
     "name": "stdout",
     "output_type": "stream",
     "text": [
      "EXCEPTION - Row 699 @ (-120.206592, 36.530836)\n",
      "Image.select: Band pattern 'B4' was applied to an Image with no bands. See https://developers.google.com/earth-engine/guides/debugging#no-bands\n",
      "Image download: ../Datav2/exports/tc/d804eebf-71de-46de-90c2-cdf0694d27e3_tc.tif (512, 512)\n"
     ]
    },
    {
     "name": "stderr",
     "output_type": "stream",
     "text": [
      "\r",
      " 33%|██████████████████████████████████▋                                                                       | 485/1482 [17:40<52:19,  3.15s/it]"
     ]
    },
    {
     "name": "stdout",
     "output_type": "stream",
     "text": [
      "Image download: ../Datav2/exports/ndvi/d804eebf-71de-46de-90c2-cdf0694d27e3_ndvi_bw.tif (512, 512)\n",
      "Image download: ../Datav2/exports/tc/c254df3f-a241-4983-a880-e12944a9f7b2_tc.tif (512, 512)\n"
     ]
    },
    {
     "name": "stderr",
     "output_type": "stream",
     "text": [
      "\r",
      " 33%|██████████████████████████████████▊                                                                       | 486/1482 [17:44<56:35,  3.41s/it]"
     ]
    },
    {
     "name": "stdout",
     "output_type": "stream",
     "text": [
      "Image download: ../Datav2/exports/ndvi/c254df3f-a241-4983-a880-e12944a9f7b2_ndvi_bw.tif (512, 512)\n",
      "Image download: ../Datav2/exports/tc/45699833-fa34-4eed-9520-8c8019426122_tc.tif (512, 512)\n"
     ]
    },
    {
     "name": "stderr",
     "output_type": "stream",
     "text": [
      "\r",
      " 33%|██████████████████████████████████▏                                                                     | 487/1482 [17:48<1:01:03,  3.68s/it]"
     ]
    },
    {
     "name": "stdout",
     "output_type": "stream",
     "text": [
      "Image download: ../Datav2/exports/ndvi/45699833-fa34-4eed-9520-8c8019426122_ndvi_bw.tif (512, 512)\n",
      "Image download: ../Datav2/exports/tc/7fc71135-ee3b-443c-a859-90672936e0c1_tc.tif (512, 512)\n"
     ]
    },
    {
     "name": "stderr",
     "output_type": "stream",
     "text": [
      "\r",
      " 33%|██████████████████████████████████▏                                                                     | 488/1482 [17:53<1:04:00,  3.86s/it]"
     ]
    },
    {
     "name": "stdout",
     "output_type": "stream",
     "text": [
      "Image download: ../Datav2/exports/ndvi/7fc71135-ee3b-443c-a859-90672936e0c1_ndvi_bw.tif (512, 512)\n",
      "Image download: ../Datav2/exports/tc/f5237d47-f15b-4f4b-8b1c-6f11235f954d_tc.tif (512, 512)\n"
     ]
    },
    {
     "name": "stderr",
     "output_type": "stream",
     "text": [
      "\r",
      " 33%|██████████████████████████████████▎                                                                     | 489/1482 [17:57<1:05:36,  3.96s/it]"
     ]
    },
    {
     "name": "stdout",
     "output_type": "stream",
     "text": [
      "Image download: ../Datav2/exports/ndvi/f5237d47-f15b-4f4b-8b1c-6f11235f954d_ndvi_bw.tif (512, 512)\n"
     ]
    },
    {
     "name": "stderr",
     "output_type": "stream",
     "text": [
      "\r",
      " 33%|███████████████████████████████████                                                                       | 490/1482 [17:57<49:03,  2.97s/it]"
     ]
    },
    {
     "name": "stdout",
     "output_type": "stream",
     "text": [
      "EXCEPTION - Row 789 @ (-120.22647, 35.78286)\n",
      "Image.select: Band pattern 'B4' was applied to an Image with no bands. See https://developers.google.com/earth-engine/guides/debugging#no-bands\n"
     ]
    },
    {
     "name": "stderr",
     "output_type": "stream",
     "text": [
      "\r",
      " 33%|███████████████████████████████████                                                                       | 491/1482 [17:58<37:57,  2.30s/it]"
     ]
    },
    {
     "name": "stdout",
     "output_type": "stream",
     "text": [
      "EXCEPTION - Row 1017 @ (-120.3317, 35.6879)\n",
      "Image.select: Band pattern 'B4' was applied to an Image with no bands. See https://developers.google.com/earth-engine/guides/debugging#no-bands\n"
     ]
    },
    {
     "name": "stderr",
     "output_type": "stream",
     "text": [
      "\r",
      " 33%|███████████████████████████████████▏                                                                      | 492/1482 [17:59<30:11,  1.83s/it]"
     ]
    },
    {
     "name": "stdout",
     "output_type": "stream",
     "text": [
      "EXCEPTION - Row 729 @ (-120.2445, 36.45491)\n",
      "Image.select: Band pattern 'B4' was applied to an Image with no bands. See https://developers.google.com/earth-engine/guides/debugging#no-bands\n",
      "Image download: ../Datav2/exports/tc/5115a26e-e8e8-42cd-9aeb-f5c41efd770a_tc.tif (512, 512)\n"
     ]
    },
    {
     "name": "stderr",
     "output_type": "stream",
     "text": [
      "\r",
      " 33%|███████████████████████████████████▎                                                                      | 493/1482 [18:03<40:51,  2.48s/it]"
     ]
    },
    {
     "name": "stdout",
     "output_type": "stream",
     "text": [
      "Image download: ../Datav2/exports/ndvi/5115a26e-e8e8-42cd-9aeb-f5c41efd770a_ndvi_bw.tif (512, 512)\n",
      "Image download: ../Datav2/exports/tc/63a81990-8521-409d-9c22-92d1c33e0353_tc.tif (512, 512)\n"
     ]
    },
    {
     "name": "stderr",
     "output_type": "stream",
     "text": [
      "\r",
      " 33%|██████████████████████████████████▋                                                                     | 494/1482 [18:11<1:06:43,  4.05s/it]"
     ]
    },
    {
     "name": "stdout",
     "output_type": "stream",
     "text": [
      "Image download: ../Datav2/exports/ndvi/63a81990-8521-409d-9c22-92d1c33e0353_ndvi_bw.tif (512, 512)\n",
      "Image download: ../Datav2/exports/tc/1423af4f-16d5-4f19-a01d-fc3ebc124201_tc.tif (512, 512)\n"
     ]
    },
    {
     "name": "stderr",
     "output_type": "stream",
     "text": [
      "\r",
      " 33%|██████████████████████████████████▋                                                                     | 495/1482 [18:15<1:07:15,  4.09s/it]"
     ]
    },
    {
     "name": "stdout",
     "output_type": "stream",
     "text": [
      "Image download: ../Datav2/exports/ndvi/1423af4f-16d5-4f19-a01d-fc3ebc124201_ndvi_bw.tif (512, 512)\n",
      "Image download: ../Datav2/exports/tc/48c4b519-eaf5-4ae8-9470-31e8770a70ac_tc.tif (512, 512)\n"
     ]
    },
    {
     "name": "stderr",
     "output_type": "stream",
     "text": [
      "\r",
      " 33%|██████████████████████████████████▊                                                                     | 496/1482 [18:19<1:08:43,  4.18s/it]"
     ]
    },
    {
     "name": "stdout",
     "output_type": "stream",
     "text": [
      "Image download: ../Datav2/exports/ndvi/48c4b519-eaf5-4ae8-9470-31e8770a70ac_ndvi_bw.tif (512, 512)\n",
      "Image download: ../Datav2/exports/tc/9f416f37-a8ca-4127-a6b7-02626fd32e06_tc.tif (512, 512)\n"
     ]
    },
    {
     "name": "stderr",
     "output_type": "stream",
     "text": [
      "\r",
      " 34%|██████████████████████████████████▉                                                                     | 497/1482 [18:27<1:27:11,  5.31s/it]"
     ]
    },
    {
     "name": "stdout",
     "output_type": "stream",
     "text": [
      "Image download: ../Datav2/exports/ndvi/9f416f37-a8ca-4127-a6b7-02626fd32e06_ndvi_bw.tif (512, 512)\n",
      "Image download: ../Datav2/exports/tc/5b3329f4-1e37-4b5a-9ed6-6f8d74f495c3_tc.tif (512, 512)\n"
     ]
    },
    {
     "name": "stderr",
     "output_type": "stream",
     "text": [
      "\r",
      " 34%|██████████████████████████████████▉                                                                     | 498/1482 [18:31<1:20:08,  4.89s/it]"
     ]
    },
    {
     "name": "stdout",
     "output_type": "stream",
     "text": [
      "Image download: ../Datav2/exports/ndvi/5b3329f4-1e37-4b5a-9ed6-6f8d74f495c3_ndvi_bw.tif (512, 512)\n",
      "Image download: ../Datav2/exports/tc/0fc2a05e-689f-4c7c-b2b4-a987840b4f2c_tc.tif (512, 512)\n"
     ]
    },
    {
     "name": "stderr",
     "output_type": "stream",
     "text": [
      "\r",
      " 34%|███████████████████████████████████                                                                     | 499/1482 [18:35<1:16:34,  4.67s/it]"
     ]
    },
    {
     "name": "stdout",
     "output_type": "stream",
     "text": [
      "Image download: ../Datav2/exports/ndvi/0fc2a05e-689f-4c7c-b2b4-a987840b4f2c_ndvi_bw.tif (512, 512)\n",
      "Image download: ../Datav2/exports/tc/75bb079a-1de8-4824-a933-e19f69948438_tc.tif (512, 512)\n"
     ]
    },
    {
     "name": "stderr",
     "output_type": "stream",
     "text": [
      "\r",
      " 34%|███████████████████████████████████                                                                     | 500/1482 [18:39<1:12:37,  4.44s/it]"
     ]
    },
    {
     "name": "stdout",
     "output_type": "stream",
     "text": [
      "Image download: ../Datav2/exports/ndvi/75bb079a-1de8-4824-a933-e19f69948438_ndvi_bw.tif (512, 512)\n",
      "Image download: ../Datav2/exports/tc/2d12b95c-3f4e-41bc-a771-8ae2cb80b99e_tc.tif (512, 512)\n"
     ]
    },
    {
     "name": "stderr",
     "output_type": "stream",
     "text": [
      "\r",
      " 34%|███████████████████████████████████▏                                                                    | 501/1482 [18:43<1:09:53,  4.27s/it]"
     ]
    },
    {
     "name": "stdout",
     "output_type": "stream",
     "text": [
      "Image download: ../Datav2/exports/ndvi/2d12b95c-3f4e-41bc-a771-8ae2cb80b99e_ndvi_bw.tif (512, 512)\n",
      "Image download: ../Datav2/exports/tc/9a555129-982b-486f-a333-c96b3f9c4d2e_tc.tif (512, 512)\n"
     ]
    },
    {
     "name": "stderr",
     "output_type": "stream",
     "text": [
      "\r",
      " 34%|███████████████████████████████████▏                                                                    | 502/1482 [18:46<1:04:23,  3.94s/it]"
     ]
    },
    {
     "name": "stdout",
     "output_type": "stream",
     "text": [
      "Image download: ../Datav2/exports/ndvi/9a555129-982b-486f-a333-c96b3f9c4d2e_ndvi_bw.tif (512, 512)\n"
     ]
    },
    {
     "name": "stderr",
     "output_type": "stream",
     "text": [
      "\r",
      " 34%|███████████████████████████████████▉                                                                      | 503/1482 [18:47<49:12,  3.02s/it]"
     ]
    },
    {
     "name": "stdout",
     "output_type": "stream",
     "text": [
      "EXCEPTION - Row 750 @ (-120.76464, 35.34541)\n",
      "Image.select: Band pattern 'B4' was applied to an Image with no bands. See https://developers.google.com/earth-engine/guides/debugging#no-bands\n"
     ]
    },
    {
     "name": "stderr",
     "output_type": "stream",
     "text": [
      "\r",
      " 34%|████████████████████████████████████                                                                      | 504/1482 [18:48<38:54,  2.39s/it]"
     ]
    },
    {
     "name": "stdout",
     "output_type": "stream",
     "text": [
      "EXCEPTION - Row 978 @ (-119.91508, 35.983)\n",
      "Image.select: Band pattern 'B4' was applied to an Image with no bands. See https://developers.google.com/earth-engine/guides/debugging#no-bands\n"
     ]
    },
    {
     "name": "stderr",
     "output_type": "stream",
     "text": [
      "\r",
      " 34%|████████████████████████████████████                                                                      | 505/1482 [18:49<31:13,  1.92s/it]"
     ]
    },
    {
     "name": "stdout",
     "output_type": "stream",
     "text": [
      "EXCEPTION - Row 643 @ (-120.37116, 36.12089)\n",
      "Image.select: Band pattern 'B4' was applied to an Image with no bands. See https://developers.google.com/earth-engine/guides/debugging#no-bands\n",
      "Image download: ../Datav2/exports/tc/9348a031-c7b3-4165-890a-37a7eb7405db_tc.tif (512, 512)\n"
     ]
    },
    {
     "name": "stderr",
     "output_type": "stream",
     "text": [
      "\r",
      " 34%|████████████████████████████████████▏                                                                     | 506/1482 [18:53<40:49,  2.51s/it]"
     ]
    },
    {
     "name": "stdout",
     "output_type": "stream",
     "text": [
      "Image download: ../Datav2/exports/ndvi/9348a031-c7b3-4165-890a-37a7eb7405db_ndvi_bw.tif (512, 512)\n",
      "Image download: ../Datav2/exports/tc/5bfc7c8f-0d7f-4b14-903b-00014014c14b_tc.tif (512, 512)\n"
     ]
    },
    {
     "name": "stderr",
     "output_type": "stream",
     "text": [
      "\r",
      " 34%|████████████████████████████████████▎                                                                     | 507/1482 [18:58<53:31,  3.29s/it]"
     ]
    },
    {
     "name": "stdout",
     "output_type": "stream",
     "text": [
      "Image download: ../Datav2/exports/ndvi/5bfc7c8f-0d7f-4b14-903b-00014014c14b_ndvi_bw.tif (512, 512)\n",
      "Image download: ../Datav2/exports/tc/3d595f75-d59e-4453-b25c-48207b02f529_tc.tif (512, 512)\n"
     ]
    },
    {
     "name": "stderr",
     "output_type": "stream",
     "text": [
      "\r",
      " 34%|████████████████████████████████████▎                                                                     | 508/1482 [19:02<57:59,  3.57s/it]"
     ]
    },
    {
     "name": "stdout",
     "output_type": "stream",
     "text": [
      "Image download: ../Datav2/exports/ndvi/3d595f75-d59e-4453-b25c-48207b02f529_ndvi_bw.tif (512, 512)\n",
      "Image download: ../Datav2/exports/tc/b3fc6dff-f13a-41c4-b7f3-e9e960a941d5_tc.tif (512, 512)\n"
     ]
    },
    {
     "name": "stderr",
     "output_type": "stream",
     "text": [
      "\r",
      " 34%|███████████████████████████████████▋                                                                    | 509/1482 [19:07<1:05:57,  4.07s/it]"
     ]
    },
    {
     "name": "stdout",
     "output_type": "stream",
     "text": [
      "Image download: ../Datav2/exports/ndvi/b3fc6dff-f13a-41c4-b7f3-e9e960a941d5_ndvi_bw.tif (512, 512)\n",
      "Image download: ../Datav2/exports/tc/fbc11fc4-573b-465f-a9ac-a879ee2cdda2_tc.tif (512, 512)\n"
     ]
    },
    {
     "name": "stderr",
     "output_type": "stream",
     "text": [
      "\r",
      " 34%|███████████████████████████████████▊                                                                    | 510/1482 [19:17<1:33:06,  5.75s/it]"
     ]
    },
    {
     "name": "stdout",
     "output_type": "stream",
     "text": [
      "Image download: ../Datav2/exports/ndvi/fbc11fc4-573b-465f-a9ac-a879ee2cdda2_ndvi_bw.tif (512, 512)\n",
      "Image download: ../Datav2/exports/tc/39967485-2cf1-4f0e-9cf1-ccfd25f6e2bf_tc.tif (512, 512)\n"
     ]
    },
    {
     "name": "stderr",
     "output_type": "stream",
     "text": [
      "\r",
      " 34%|███████████████████████████████████▊                                                                    | 511/1482 [19:21<1:26:26,  5.34s/it]"
     ]
    },
    {
     "name": "stdout",
     "output_type": "stream",
     "text": [
      "Image download: ../Datav2/exports/ndvi/39967485-2cf1-4f0e-9cf1-ccfd25f6e2bf_ndvi_bw.tif (512, 512)\n",
      "Image download: ../Datav2/exports/tc/06b43461-94d0-4379-a1d6-fd26ba93ceea_tc.tif (512, 512)\n"
     ]
    },
    {
     "name": "stderr",
     "output_type": "stream",
     "text": [
      "\r",
      " 35%|███████████████████████████████████▉                                                                    | 512/1482 [19:26<1:21:55,  5.07s/it]"
     ]
    },
    {
     "name": "stdout",
     "output_type": "stream",
     "text": [
      "Image download: ../Datav2/exports/ndvi/06b43461-94d0-4379-a1d6-fd26ba93ceea_ndvi_bw.tif (512, 512)\n",
      "Image download: ../Datav2/exports/tc/c4d0a25f-02f6-4877-a944-8f5d50bf2335_tc.tif (512, 512)\n"
     ]
    },
    {
     "name": "stderr",
     "output_type": "stream",
     "text": [
      "\r",
      " 35%|████████████████████████████████████                                                                    | 513/1482 [19:30<1:20:31,  4.99s/it]"
     ]
    },
    {
     "name": "stdout",
     "output_type": "stream",
     "text": [
      "Image download: ../Datav2/exports/ndvi/c4d0a25f-02f6-4877-a944-8f5d50bf2335_ndvi_bw.tif (512, 512)\n",
      "Image download: ../Datav2/exports/tc/54ddf2ef-28b0-4c34-bfe0-1d084f4f57e2_tc.tif (512, 512)\n"
     ]
    },
    {
     "name": "stderr",
     "output_type": "stream",
     "text": [
      "\r",
      " 35%|████████████████████████████████████                                                                    | 514/1482 [19:35<1:19:13,  4.91s/it]"
     ]
    },
    {
     "name": "stdout",
     "output_type": "stream",
     "text": [
      "Image download: ../Datav2/exports/ndvi/54ddf2ef-28b0-4c34-bfe0-1d084f4f57e2_ndvi_bw.tif (512, 512)\n",
      "Image download: ../Datav2/exports/tc/f5ef2d0f-66a7-4d75-a9e8-03c42524d723_tc.tif (512, 512)\n"
     ]
    },
    {
     "name": "stderr",
     "output_type": "stream",
     "text": [
      "\r",
      " 35%|████████████████████████████████████▏                                                                   | 515/1482 [19:40<1:16:41,  4.76s/it]"
     ]
    },
    {
     "name": "stdout",
     "output_type": "stream",
     "text": [
      "Image download: ../Datav2/exports/ndvi/f5ef2d0f-66a7-4d75-a9e8-03c42524d723_ndvi_bw.tif (512, 512)\n",
      "Image download: ../Datav2/exports/tc/fccf2545-cab8-452e-829c-8379054831f0_tc.tif (512, 512)\n"
     ]
    },
    {
     "name": "stderr",
     "output_type": "stream",
     "text": [
      "\r",
      " 35%|████████████████████████████████████▏                                                                   | 516/1482 [19:44<1:15:02,  4.66s/it]"
     ]
    },
    {
     "name": "stdout",
     "output_type": "stream",
     "text": [
      "Image download: ../Datav2/exports/ndvi/fccf2545-cab8-452e-829c-8379054831f0_ndvi_bw.tif (512, 512)\n",
      "Image download: ../Datav2/exports/tc/9b9bf8b4-8378-46e5-a760-67e89e2279e2_tc.tif (512, 512)\n"
     ]
    },
    {
     "name": "stderr",
     "output_type": "stream",
     "text": [
      "\r",
      " 35%|████████████████████████████████████▎                                                                   | 517/1482 [19:48<1:12:03,  4.48s/it]"
     ]
    },
    {
     "name": "stdout",
     "output_type": "stream",
     "text": [
      "Image download: ../Datav2/exports/ndvi/9b9bf8b4-8378-46e5-a760-67e89e2279e2_ndvi_bw.tif (512, 512)\n",
      "Image download: ../Datav2/exports/tc/45a205f4-bcd2-44bd-886b-26260c686ce7_tc.tif (512, 512)\n"
     ]
    },
    {
     "name": "stderr",
     "output_type": "stream",
     "text": [
      "\r",
      " 35%|████████████████████████████████████▎                                                                   | 518/1482 [19:54<1:17:21,  4.81s/it]"
     ]
    },
    {
     "name": "stdout",
     "output_type": "stream",
     "text": [
      "Image download: ../Datav2/exports/ndvi/45a205f4-bcd2-44bd-886b-26260c686ce7_ndvi_bw.tif (512, 512)\n",
      "Image download: ../Datav2/exports/tc/bd671dbd-dd3c-413e-b453-4002e382325d_tc.tif (512, 512)\n"
     ]
    },
    {
     "name": "stderr",
     "output_type": "stream",
     "text": [
      "\r",
      " 35%|████████████████████████████████████▍                                                                   | 519/1482 [19:58<1:13:00,  4.55s/it]"
     ]
    },
    {
     "name": "stdout",
     "output_type": "stream",
     "text": [
      "Image download: ../Datav2/exports/ndvi/bd671dbd-dd3c-413e-b453-4002e382325d_ndvi_bw.tif (512, 512)\n",
      "Image download: ../Datav2/exports/tc/7272decf-0ae8-47aa-b46c-00fc4cd04816_tc.tif (512, 512)\n"
     ]
    },
    {
     "name": "stderr",
     "output_type": "stream",
     "text": [
      "\r",
      " 35%|████████████████████████████████████▍                                                                   | 520/1482 [20:03<1:15:26,  4.71s/it]"
     ]
    },
    {
     "name": "stdout",
     "output_type": "stream",
     "text": [
      "Image download: ../Datav2/exports/ndvi/7272decf-0ae8-47aa-b46c-00fc4cd04816_ndvi_bw.tif (512, 512)\n",
      "Image download: ../Datav2/exports/tc/6fa64139-e5d1-4134-b012-5c1b272ac89a_tc.tif (512, 512)\n"
     ]
    },
    {
     "name": "stderr",
     "output_type": "stream",
     "text": [
      "\r",
      " 35%|████████████████████████████████████▌                                                                   | 521/1482 [20:08<1:16:41,  4.79s/it]"
     ]
    },
    {
     "name": "stdout",
     "output_type": "stream",
     "text": [
      "Image download: ../Datav2/exports/ndvi/6fa64139-e5d1-4134-b012-5c1b272ac89a_ndvi_bw.tif (512, 512)\n",
      "Image download: ../Datav2/exports/tc/2db503da-a7b2-47a6-92a6-697799eb63f1_tc.tif (512, 512)\n"
     ]
    },
    {
     "name": "stderr",
     "output_type": "stream",
     "text": [
      "\r",
      " 35%|████████████████████████████████████▋                                                                   | 522/1482 [20:12<1:13:31,  4.60s/it]"
     ]
    },
    {
     "name": "stdout",
     "output_type": "stream",
     "text": [
      "Image download: ../Datav2/exports/ndvi/2db503da-a7b2-47a6-92a6-697799eb63f1_ndvi_bw.tif (512, 512)\n",
      "Image download: ../Datav2/exports/tc/42f21a81-e0a3-4b4d-b837-2e6e2efd75a4_tc.tif (512, 512)\n"
     ]
    },
    {
     "name": "stderr",
     "output_type": "stream",
     "text": [
      "\r",
      " 35%|████████████████████████████████████▋                                                                   | 523/1482 [20:19<1:27:24,  5.47s/it]"
     ]
    },
    {
     "name": "stdout",
     "output_type": "stream",
     "text": [
      "Image download: ../Datav2/exports/ndvi/42f21a81-e0a3-4b4d-b837-2e6e2efd75a4_ndvi_bw.tif (512, 512)\n",
      "Image download: ../Datav2/exports/tc/21e9f99a-35a5-41cd-a44b-92363fbf5081_tc.tif (512, 512)\n"
     ]
    },
    {
     "name": "stderr",
     "output_type": "stream",
     "text": [
      "\r",
      " 35%|████████████████████████████████████▊                                                                   | 524/1482 [20:24<1:25:15,  5.34s/it]"
     ]
    },
    {
     "name": "stdout",
     "output_type": "stream",
     "text": [
      "Image download: ../Datav2/exports/ndvi/21e9f99a-35a5-41cd-a44b-92363fbf5081_ndvi_bw.tif (512, 512)\n",
      "Image download: ../Datav2/exports/tc/524b1e23-8921-4195-812d-7ec8ee5020b7_tc.tif (512, 512)\n"
     ]
    },
    {
     "name": "stderr",
     "output_type": "stream",
     "text": [
      "\r",
      " 35%|████████████████████████████████████▊                                                                   | 525/1482 [20:29<1:21:56,  5.14s/it]"
     ]
    },
    {
     "name": "stdout",
     "output_type": "stream",
     "text": [
      "Image download: ../Datav2/exports/ndvi/524b1e23-8921-4195-812d-7ec8ee5020b7_ndvi_bw.tif (512, 512)\n",
      "Image download: ../Datav2/exports/tc/67d31514-620f-49d1-b4bd-a3a92efd48ca_tc.tif (512, 512)\n"
     ]
    },
    {
     "name": "stderr",
     "output_type": "stream",
     "text": [
      "\r",
      " 35%|████████████████████████████████████▉                                                                   | 526/1482 [20:33<1:17:18,  4.85s/it]"
     ]
    },
    {
     "name": "stdout",
     "output_type": "stream",
     "text": [
      "Image download: ../Datav2/exports/ndvi/67d31514-620f-49d1-b4bd-a3a92efd48ca_ndvi_bw.tif (512, 512)\n",
      "Image download: ../Datav2/exports/tc/92d70dc0-19af-4c87-ab01-8c7051caab73_tc.tif (512, 512)\n"
     ]
    },
    {
     "name": "stderr",
     "output_type": "stream",
     "text": [
      "\r",
      " 36%|████████████████████████████████████▉                                                                   | 527/1482 [20:37<1:12:51,  4.58s/it]"
     ]
    },
    {
     "name": "stdout",
     "output_type": "stream",
     "text": [
      "Image download: ../Datav2/exports/ndvi/92d70dc0-19af-4c87-ab01-8c7051caab73_ndvi_bw.tif (512, 512)\n",
      "Image download: ../Datav2/exports/tc/bf3148c5-75dd-4f79-8b3b-c5b483065b47_tc.tif (512, 512)\n"
     ]
    },
    {
     "name": "stderr",
     "output_type": "stream",
     "text": [
      "\r",
      " 36%|█████████████████████████████████████                                                                   | 528/1482 [20:42<1:12:35,  4.57s/it]"
     ]
    },
    {
     "name": "stdout",
     "output_type": "stream",
     "text": [
      "Image download: ../Datav2/exports/ndvi/bf3148c5-75dd-4f79-8b3b-c5b483065b47_ndvi_bw.tif (512, 512)\n",
      "Image download: ../Datav2/exports/tc/663d291c-7ba8-415d-9cab-58d41a886cfd_tc.tif (512, 512)\n"
     ]
    },
    {
     "name": "stderr",
     "output_type": "stream",
     "text": [
      "\r",
      " 36%|█████████████████████████████████████                                                                   | 529/1482 [20:46<1:11:37,  4.51s/it]"
     ]
    },
    {
     "name": "stdout",
     "output_type": "stream",
     "text": [
      "Image download: ../Datav2/exports/ndvi/663d291c-7ba8-415d-9cab-58d41a886cfd_ndvi_bw.tif (512, 512)\n",
      "Image download: ../Datav2/exports/tc/adf741f6-5416-41c5-af26-01240cc361cf_tc.tif (512, 512)\n"
     ]
    },
    {
     "name": "stderr",
     "output_type": "stream",
     "text": [
      "\r",
      " 36%|█████████████████████████████████████▏                                                                  | 530/1482 [20:51<1:13:29,  4.63s/it]"
     ]
    },
    {
     "name": "stdout",
     "output_type": "stream",
     "text": [
      "Image download: ../Datav2/exports/ndvi/adf741f6-5416-41c5-af26-01240cc361cf_ndvi_bw.tif (512, 512)\n",
      "Image download: ../Datav2/exports/tc/b0ffe2e4-ae61-4ad9-b1cc-bf31ff254d8d_tc.tif (512, 512)\n"
     ]
    },
    {
     "name": "stderr",
     "output_type": "stream",
     "text": [
      "\r",
      " 36%|█████████████████████████████████████▎                                                                  | 531/1482 [20:55<1:11:24,  4.50s/it]"
     ]
    },
    {
     "name": "stdout",
     "output_type": "stream",
     "text": [
      "Image download: ../Datav2/exports/ndvi/b0ffe2e4-ae61-4ad9-b1cc-bf31ff254d8d_ndvi_bw.tif (512, 512)\n",
      "Image download: ../Datav2/exports/tc/7967c729-4693-47a1-b1bc-1d82825ca8db_tc.tif (512, 512)\n"
     ]
    },
    {
     "name": "stderr",
     "output_type": "stream",
     "text": [
      "\r",
      " 36%|█████████████████████████████████████▎                                                                  | 532/1482 [21:00<1:11:06,  4.49s/it]"
     ]
    },
    {
     "name": "stdout",
     "output_type": "stream",
     "text": [
      "Image download: ../Datav2/exports/ndvi/7967c729-4693-47a1-b1bc-1d82825ca8db_ndvi_bw.tif (512, 512)\n",
      "Image download: ../Datav2/exports/tc/14e249f0-f21c-4d2f-bc5f-68d5d177e849_tc.tif (512, 512)\n"
     ]
    },
    {
     "name": "stderr",
     "output_type": "stream",
     "text": [
      "\r",
      " 36%|█████████████████████████████████████▍                                                                  | 533/1482 [21:04<1:09:02,  4.37s/it]"
     ]
    },
    {
     "name": "stdout",
     "output_type": "stream",
     "text": [
      "Image download: ../Datav2/exports/ndvi/14e249f0-f21c-4d2f-bc5f-68d5d177e849_ndvi_bw.tif (512, 512)\n",
      "Image download: ../Datav2/exports/tc/b02f2513-9359-45e2-9971-08f7b1f0dc0f_tc.tif (512, 512)\n"
     ]
    },
    {
     "name": "stderr",
     "output_type": "stream",
     "text": [
      "\r",
      " 36%|█████████████████████████████████████▍                                                                  | 534/1482 [21:08<1:09:58,  4.43s/it]"
     ]
    },
    {
     "name": "stdout",
     "output_type": "stream",
     "text": [
      "Image download: ../Datav2/exports/ndvi/b02f2513-9359-45e2-9971-08f7b1f0dc0f_ndvi_bw.tif (512, 512)\n",
      "Image download: ../Datav2/exports/tc/80f2c7d1-d28d-43d0-97a3-ff53cc991a8c_tc.tif (512, 512)\n"
     ]
    },
    {
     "name": "stderr",
     "output_type": "stream",
     "text": [
      "\r",
      " 36%|█████████████████████████████████████▌                                                                  | 535/1482 [21:13<1:11:12,  4.51s/it]"
     ]
    },
    {
     "name": "stdout",
     "output_type": "stream",
     "text": [
      "Image download: ../Datav2/exports/ndvi/80f2c7d1-d28d-43d0-97a3-ff53cc991a8c_ndvi_bw.tif (512, 512)\n",
      "Image download: ../Datav2/exports/tc/7ea6269d-6ba3-41e1-aff6-b4da1c6611d1_tc.tif (512, 512)\n"
     ]
    },
    {
     "name": "stderr",
     "output_type": "stream",
     "text": [
      "\r",
      " 36%|█████████████████████████████████████▌                                                                  | 536/1482 [21:17<1:08:44,  4.36s/it]"
     ]
    },
    {
     "name": "stdout",
     "output_type": "stream",
     "text": [
      "Image download: ../Datav2/exports/ndvi/7ea6269d-6ba3-41e1-aff6-b4da1c6611d1_ndvi_bw.tif (512, 512)\n",
      "Image download: ../Datav2/exports/tc/46c4f0c2-6760-4e42-ac2f-ec25c2486628_tc.tif (512, 512)\n"
     ]
    },
    {
     "name": "stderr",
     "output_type": "stream",
     "text": [
      "\r",
      " 36%|█████████████████████████████████████▋                                                                  | 537/1482 [21:22<1:09:23,  4.41s/it]"
     ]
    },
    {
     "name": "stdout",
     "output_type": "stream",
     "text": [
      "Image download: ../Datav2/exports/ndvi/46c4f0c2-6760-4e42-ac2f-ec25c2486628_ndvi_bw.tif (512, 512)\n",
      "Image download: ../Datav2/exports/tc/304c7c4c-140e-40f4-ac9f-36926c07e5fc_tc.tif (512, 512)\n"
     ]
    },
    {
     "name": "stderr",
     "output_type": "stream",
     "text": [
      "\r",
      " 36%|█████████████████████████████████████▊                                                                  | 538/1482 [21:26<1:07:43,  4.30s/it]"
     ]
    },
    {
     "name": "stdout",
     "output_type": "stream",
     "text": [
      "Image download: ../Datav2/exports/ndvi/304c7c4c-140e-40f4-ac9f-36926c07e5fc_ndvi_bw.tif (512, 512)\n",
      "Image download: ../Datav2/exports/tc/8bba8daf-8d47-43e7-8593-fdfa2dea5228_tc.tif (512, 512)\n"
     ]
    },
    {
     "name": "stderr",
     "output_type": "stream",
     "text": [
      "\r",
      " 36%|█████████████████████████████████████▊                                                                  | 539/1482 [21:29<1:02:48,  4.00s/it]"
     ]
    },
    {
     "name": "stdout",
     "output_type": "stream",
     "text": [
      "Image download: ../Datav2/exports/ndvi/8bba8daf-8d47-43e7-8593-fdfa2dea5228_ndvi_bw.tif (512, 512)\n",
      "Image download: ../Datav2/exports/tc/549222c5-1be6-4453-896a-caebd19b0bee_tc.tif (512, 512)\n"
     ]
    },
    {
     "name": "stderr",
     "output_type": "stream",
     "text": [
      "\r",
      " 36%|█████████████████████████████████████▉                                                                  | 540/1482 [21:33<1:03:49,  4.07s/it]"
     ]
    },
    {
     "name": "stdout",
     "output_type": "stream",
     "text": [
      "Image download: ../Datav2/exports/ndvi/549222c5-1be6-4453-896a-caebd19b0bee_ndvi_bw.tif (512, 512)\n",
      "Image download: ../Datav2/exports/tc/f8b61fab-bd14-4e92-960a-d512693ea8e5_tc.tif (512, 512)\n"
     ]
    },
    {
     "name": "stderr",
     "output_type": "stream",
     "text": [
      "\r",
      " 37%|█████████████████████████████████████▉                                                                  | 541/1482 [21:38<1:06:03,  4.21s/it]"
     ]
    },
    {
     "name": "stdout",
     "output_type": "stream",
     "text": [
      "Image download: ../Datav2/exports/ndvi/f8b61fab-bd14-4e92-960a-d512693ea8e5_ndvi_bw.tif (512, 512)\n",
      "Image download: ../Datav2/exports/tc/6802ed2f-5a5a-4a38-a236-e5a688639b6f_tc.tif (512, 512)\n"
     ]
    },
    {
     "name": "stderr",
     "output_type": "stream",
     "text": [
      "\r",
      " 37%|██████████████████████████████████████                                                                  | 542/1482 [21:42<1:06:04,  4.22s/it]"
     ]
    },
    {
     "name": "stdout",
     "output_type": "stream",
     "text": [
      "Image download: ../Datav2/exports/ndvi/6802ed2f-5a5a-4a38-a236-e5a688639b6f_ndvi_bw.tif (512, 512)\n",
      "Image download: ../Datav2/exports/tc/f62bd692-7aae-4e46-8284-239150acced0_tc.tif (512, 512)\n"
     ]
    },
    {
     "name": "stderr",
     "output_type": "stream",
     "text": [
      "\r",
      " 37%|██████████████████████████████████████                                                                  | 543/1482 [21:46<1:05:50,  4.21s/it]"
     ]
    },
    {
     "name": "stdout",
     "output_type": "stream",
     "text": [
      "Image download: ../Datav2/exports/ndvi/f62bd692-7aae-4e46-8284-239150acced0_ndvi_bw.tif (512, 512)\n",
      "Image download: ../Datav2/exports/tc/b11adfe0-b74d-4321-b1bd-3fc0b8f0929b_tc.tif (512, 512)\n"
     ]
    },
    {
     "name": "stderr",
     "output_type": "stream",
     "text": [
      "\r",
      " 37%|██████████████████████████████████████▏                                                                 | 544/1482 [21:51<1:08:16,  4.37s/it]"
     ]
    },
    {
     "name": "stdout",
     "output_type": "stream",
     "text": [
      "Image download: ../Datav2/exports/ndvi/b11adfe0-b74d-4321-b1bd-3fc0b8f0929b_ndvi_bw.tif (512, 512)\n",
      "Image download: ../Datav2/exports/tc/b9142a59-e3dd-4797-b6ed-c5c847b16f67_tc.tif (512, 512)\n"
     ]
    },
    {
     "name": "stderr",
     "output_type": "stream",
     "text": [
      "\r",
      " 37%|██████████████████████████████████████▏                                                                 | 545/1482 [21:55<1:06:44,  4.27s/it]"
     ]
    },
    {
     "name": "stdout",
     "output_type": "stream",
     "text": [
      "Image download: ../Datav2/exports/ndvi/b9142a59-e3dd-4797-b6ed-c5c847b16f67_ndvi_bw.tif (512, 512)\n",
      "Image download: ../Datav2/exports/tc/2ef06870-3602-4f1a-878d-962f7259ad46_tc.tif (512, 512)\n"
     ]
    },
    {
     "name": "stderr",
     "output_type": "stream",
     "text": [
      "\r",
      " 37%|██████████████████████████████████████▎                                                                 | 546/1482 [21:59<1:05:35,  4.20s/it]"
     ]
    },
    {
     "name": "stdout",
     "output_type": "stream",
     "text": [
      "Image download: ../Datav2/exports/ndvi/2ef06870-3602-4f1a-878d-962f7259ad46_ndvi_bw.tif (512, 512)\n",
      "Image download: ../Datav2/exports/tc/d11a4f65-9523-40d8-989a-6603705e9638_tc.tif (512, 512)\n"
     ]
    },
    {
     "name": "stderr",
     "output_type": "stream",
     "text": [
      "\r",
      " 37%|██████████████████████████████████████▍                                                                 | 547/1482 [22:03<1:06:07,  4.24s/it]"
     ]
    },
    {
     "name": "stdout",
     "output_type": "stream",
     "text": [
      "Image download: ../Datav2/exports/ndvi/d11a4f65-9523-40d8-989a-6603705e9638_ndvi_bw.tif (512, 512)\n",
      "Image download: ../Datav2/exports/tc/a8e4aa40-5e2a-4fd8-a858-d673576cda73_tc.tif (512, 512)\n"
     ]
    },
    {
     "name": "stderr",
     "output_type": "stream",
     "text": [
      "\r",
      " 37%|██████████████████████████████████████▍                                                                 | 548/1482 [22:08<1:07:49,  4.36s/it]"
     ]
    },
    {
     "name": "stdout",
     "output_type": "stream",
     "text": [
      "Image download: ../Datav2/exports/ndvi/a8e4aa40-5e2a-4fd8-a858-d673576cda73_ndvi_bw.tif (512, 512)\n",
      "Image download: ../Datav2/exports/tc/a9d270c5-aacb-4dad-a34e-ab28a7192248_tc.tif (512, 512)\n"
     ]
    },
    {
     "name": "stderr",
     "output_type": "stream",
     "text": [
      "\r",
      " 37%|██████████████████████████████████████▌                                                                 | 549/1482 [22:12<1:08:06,  4.38s/it]"
     ]
    },
    {
     "name": "stdout",
     "output_type": "stream",
     "text": [
      "Image download: ../Datav2/exports/ndvi/a9d270c5-aacb-4dad-a34e-ab28a7192248_ndvi_bw.tif (512, 512)\n",
      "Image download: ../Datav2/exports/tc/f32d4562-5032-4645-ac8f-afb3fab4c704_tc.tif (512, 512)\n"
     ]
    },
    {
     "name": "stderr",
     "output_type": "stream",
     "text": [
      "\r",
      " 37%|██████████████████████████████████████▌                                                                 | 550/1482 [22:18<1:12:55,  4.69s/it]"
     ]
    },
    {
     "name": "stdout",
     "output_type": "stream",
     "text": [
      "Image download: ../Datav2/exports/ndvi/f32d4562-5032-4645-ac8f-afb3fab4c704_ndvi_bw.tif (512, 512)\n",
      "Image download: ../Datav2/exports/tc/5d521085-d92f-4664-b17b-732783658daa_tc.tif (512, 512)\n"
     ]
    },
    {
     "name": "stderr",
     "output_type": "stream",
     "text": [
      "\r",
      " 37%|██████████████████████████████████████▋                                                                 | 551/1482 [22:23<1:14:34,  4.81s/it]"
     ]
    },
    {
     "name": "stdout",
     "output_type": "stream",
     "text": [
      "Image download: ../Datav2/exports/ndvi/5d521085-d92f-4664-b17b-732783658daa_ndvi_bw.tif (512, 512)\n",
      "Image download: ../Datav2/exports/tc/0956bfcb-8915-4163-b4ed-4f3a6ab32895_tc.tif (512, 512)\n"
     ]
    },
    {
     "name": "stderr",
     "output_type": "stream",
     "text": [
      "\r",
      " 37%|██████████████████████████████████████▋                                                                 | 552/1482 [22:28<1:14:29,  4.81s/it]"
     ]
    },
    {
     "name": "stdout",
     "output_type": "stream",
     "text": [
      "Image download: ../Datav2/exports/ndvi/0956bfcb-8915-4163-b4ed-4f3a6ab32895_ndvi_bw.tif (512, 512)\n"
     ]
    },
    {
     "name": "stderr",
     "output_type": "stream",
     "text": [
      "\r",
      " 37%|███████████████████████████████████████▌                                                                  | 553/1482 [22:28<56:10,  3.63s/it]"
     ]
    },
    {
     "name": "stdout",
     "output_type": "stream",
     "text": [
      "EXCEPTION - Row 963 @ (-122.2654, 38.68347)\n",
      "Image.select: Band pattern 'B4' was applied to an Image with no bands. See https://developers.google.com/earth-engine/guides/debugging#no-bands\n",
      "Image download: ../Datav2/exports/tc/67ba6e61-b5ca-48f4-8e56-9cedeaeb65ea_tc.tif (512, 512)\n"
     ]
    },
    {
     "name": "stderr",
     "output_type": "stream",
     "text": [
      "\r",
      " 37%|██████████████████████████████████████▉                                                                 | 554/1482 [22:33<1:00:04,  3.88s/it]"
     ]
    },
    {
     "name": "stdout",
     "output_type": "stream",
     "text": [
      "Image download: ../Datav2/exports/ndvi/67ba6e61-b5ca-48f4-8e56-9cedeaeb65ea_ndvi_bw.tif (512, 512)\n",
      "Image download: ../Datav2/exports/tc/3fc7de4e-3a0f-45e9-be1f-801f88770883_tc.tif (512, 512)\n"
     ]
    },
    {
     "name": "stderr",
     "output_type": "stream",
     "text": [
      "\r",
      " 37%|██████████████████████████████████████▉                                                                 | 555/1482 [22:37<1:01:20,  3.97s/it]"
     ]
    },
    {
     "name": "stdout",
     "output_type": "stream",
     "text": [
      "Image download: ../Datav2/exports/ndvi/3fc7de4e-3a0f-45e9-be1f-801f88770883_ndvi_bw.tif (512, 512)\n",
      "Image download: ../Datav2/exports/tc/5f0c7697-7be3-49af-b98c-f5789e3ca6f9_tc.tif (512, 512)\n"
     ]
    },
    {
     "name": "stderr",
     "output_type": "stream",
     "text": [
      "\r",
      " 38%|███████████████████████████████████████                                                                 | 556/1482 [22:41<1:02:07,  4.02s/it]"
     ]
    },
    {
     "name": "stdout",
     "output_type": "stream",
     "text": [
      "Image download: ../Datav2/exports/ndvi/5f0c7697-7be3-49af-b98c-f5789e3ca6f9_ndvi_bw.tif (512, 512)\n",
      "Image download: ../Datav2/exports/tc/338af3e2-098b-4d1b-8f98-6020b212b68f_tc.tif (512, 512)\n"
     ]
    },
    {
     "name": "stderr",
     "output_type": "stream",
     "text": [
      "\r",
      " 38%|███████████████████████████████████████                                                                 | 557/1482 [22:46<1:04:32,  4.19s/it]"
     ]
    },
    {
     "name": "stdout",
     "output_type": "stream",
     "text": [
      "Image download: ../Datav2/exports/ndvi/338af3e2-098b-4d1b-8f98-6020b212b68f_ndvi_bw.tif (512, 512)\n",
      "Image download: ../Datav2/exports/tc/1c51deff-5b43-4f54-8acc-a682f830815a_tc.tif (512, 512)\n"
     ]
    },
    {
     "name": "stderr",
     "output_type": "stream",
     "text": [
      "\r",
      " 38%|███████████████████████████████████████▏                                                                | 558/1482 [22:51<1:09:49,  4.53s/it]"
     ]
    },
    {
     "name": "stdout",
     "output_type": "stream",
     "text": [
      "Image download: ../Datav2/exports/ndvi/1c51deff-5b43-4f54-8acc-a682f830815a_ndvi_bw.tif (512, 512)\n",
      "Image download: ../Datav2/exports/tc/1dfae538-fd95-4454-865d-3d74e4b56665_tc.tif (512, 512)\n"
     ]
    },
    {
     "name": "stderr",
     "output_type": "stream",
     "text": [
      "\r",
      " 38%|███████████████████████████████████████▏                                                                | 559/1482 [22:56<1:10:11,  4.56s/it]"
     ]
    },
    {
     "name": "stdout",
     "output_type": "stream",
     "text": [
      "Image download: ../Datav2/exports/ndvi/1dfae538-fd95-4454-865d-3d74e4b56665_ndvi_bw.tif (512, 512)\n",
      "Image download: ../Datav2/exports/tc/380df891-161a-44c7-a244-d7dda9d5fd32_tc.tif (512, 512)\n"
     ]
    },
    {
     "name": "stderr",
     "output_type": "stream",
     "text": [
      "\r",
      " 38%|███████████████████████████████████████▎                                                                | 560/1482 [23:02<1:19:16,  5.16s/it]"
     ]
    },
    {
     "name": "stdout",
     "output_type": "stream",
     "text": [
      "Image download: ../Datav2/exports/ndvi/380df891-161a-44c7-a244-d7dda9d5fd32_ndvi_bw.tif (512, 512)\n",
      "Image download: ../Datav2/exports/tc/57b7776f-bae7-4b14-b94c-65806e002a88_tc.tif (512, 512)\n"
     ]
    },
    {
     "name": "stderr",
     "output_type": "stream",
     "text": [
      "\r",
      " 38%|███████████████████████████████████████▎                                                                | 561/1482 [23:08<1:21:45,  5.33s/it]"
     ]
    },
    {
     "name": "stdout",
     "output_type": "stream",
     "text": [
      "Image download: ../Datav2/exports/ndvi/57b7776f-bae7-4b14-b94c-65806e002a88_ndvi_bw.tif (512, 512)\n"
     ]
    },
    {
     "name": "stderr",
     "output_type": "stream",
     "text": [
      "\r",
      " 38%|███████████████████████████████████████▍                                                                | 562/1482 [23:09<1:00:32,  3.95s/it]"
     ]
    },
    {
     "name": "stdout",
     "output_type": "stream",
     "text": [
      "EXCEPTION - Row 786 @ (-121.75417, 39.69717)\n",
      "Image.select: Band pattern 'B4' was applied to an Image with no bands. See https://developers.google.com/earth-engine/guides/debugging#no-bands\n",
      "Image download: ../Datav2/exports/tc/0089929d-0b52-46fe-8982-b096b7616f30_tc.tif (512, 512)\n"
     ]
    },
    {
     "name": "stderr",
     "output_type": "stream",
     "text": [
      "\r",
      " 38%|███████████████████████████████████████▌                                                                | 563/1482 [23:14<1:07:15,  4.39s/it]"
     ]
    },
    {
     "name": "stdout",
     "output_type": "stream",
     "text": [
      "Image download: ../Datav2/exports/ndvi/0089929d-0b52-46fe-8982-b096b7616f30_ndvi_bw.tif (512, 512)\n",
      "Image download: ../Datav2/exports/tc/7cae5704-9ba2-487c-a48b-bb440c95da6e_tc.tif (512, 512)\n"
     ]
    },
    {
     "name": "stderr",
     "output_type": "stream",
     "text": [
      "\r",
      " 38%|███████████████████████████████████████▌                                                                | 564/1482 [23:18<1:06:16,  4.33s/it]"
     ]
    },
    {
     "name": "stdout",
     "output_type": "stream",
     "text": [
      "Image download: ../Datav2/exports/ndvi/7cae5704-9ba2-487c-a48b-bb440c95da6e_ndvi_bw.tif (512, 512)\n",
      "Image download: ../Datav2/exports/tc/c982daaa-a785-4dfc-a366-1950974028af_tc.tif (512, 512)\n"
     ]
    },
    {
     "name": "stderr",
     "output_type": "stream",
     "text": [
      "\r",
      " 38%|███████████████████████████████████████▋                                                                | 565/1482 [23:22<1:04:29,  4.22s/it]"
     ]
    },
    {
     "name": "stdout",
     "output_type": "stream",
     "text": [
      "Image download: ../Datav2/exports/ndvi/c982daaa-a785-4dfc-a366-1950974028af_ndvi_bw.tif (512, 512)\n",
      "Image download: ../Datav2/exports/tc/ffb57bcc-80f7-4299-bfcf-c9be3b66d5ff_tc.tif (512, 512)\n"
     ]
    },
    {
     "name": "stderr",
     "output_type": "stream",
     "text": [
      "\r",
      " 38%|███████████████████████████████████████▋                                                                | 566/1482 [23:27<1:05:17,  4.28s/it]"
     ]
    },
    {
     "name": "stdout",
     "output_type": "stream",
     "text": [
      "Image download: ../Datav2/exports/ndvi/ffb57bcc-80f7-4299-bfcf-c9be3b66d5ff_ndvi_bw.tif (512, 512)\n",
      "Image download: ../Datav2/exports/tc/294c531a-3299-4038-baa8-c2a92d38d10a_tc.tif (512, 512)\n"
     ]
    },
    {
     "name": "stderr",
     "output_type": "stream",
     "text": [
      "\r",
      " 38%|███████████████████████████████████████▊                                                                | 567/1482 [23:32<1:09:44,  4.57s/it]"
     ]
    },
    {
     "name": "stdout",
     "output_type": "stream",
     "text": [
      "Image download: ../Datav2/exports/ndvi/294c531a-3299-4038-baa8-c2a92d38d10a_ndvi_bw.tif (512, 512)\n",
      "Image download: ../Datav2/exports/tc/b3695ebc-e761-4577-8439-6330bed36594_tc.tif (512, 512)\n"
     ]
    },
    {
     "name": "stderr",
     "output_type": "stream",
     "text": [
      "\r",
      " 38%|███████████████████████████████████████▊                                                                | 568/1482 [23:37<1:13:05,  4.80s/it]"
     ]
    },
    {
     "name": "stdout",
     "output_type": "stream",
     "text": [
      "Image download: ../Datav2/exports/ndvi/b3695ebc-e761-4577-8439-6330bed36594_ndvi_bw.tif (512, 512)\n",
      "Image download: ../Datav2/exports/tc/1b01181e-fbcb-4dc4-86ec-cfddc864cc34_tc.tif (512, 512)\n"
     ]
    },
    {
     "name": "stderr",
     "output_type": "stream",
     "text": [
      "\r",
      " 38%|███████████████████████████████████████▉                                                                | 569/1482 [23:46<1:30:42,  5.96s/it]"
     ]
    },
    {
     "name": "stdout",
     "output_type": "stream",
     "text": [
      "Image download: ../Datav2/exports/ndvi/1b01181e-fbcb-4dc4-86ec-cfddc864cc34_ndvi_bw.tif (512, 512)\n",
      "Image download: ../Datav2/exports/tc/54bad310-3a96-4019-b64d-61d00c559e6c_tc.tif (512, 512)\n"
     ]
    },
    {
     "name": "stderr",
     "output_type": "stream",
     "text": [
      "\r",
      " 38%|████████████████████████████████████████                                                                | 570/1482 [23:50<1:22:02,  5.40s/it]"
     ]
    },
    {
     "name": "stdout",
     "output_type": "stream",
     "text": [
      "Image download: ../Datav2/exports/ndvi/54bad310-3a96-4019-b64d-61d00c559e6c_ndvi_bw.tif (512, 512)\n",
      "Image download: ../Datav2/exports/tc/f173524a-ae01-47f5-942d-5e90c2b96469_tc.tif (512, 512)\n"
     ]
    },
    {
     "name": "stderr",
     "output_type": "stream",
     "text": [
      "\r",
      " 39%|████████████████████████████████████████                                                                | 571/1482 [23:54<1:16:43,  5.05s/it]"
     ]
    },
    {
     "name": "stdout",
     "output_type": "stream",
     "text": [
      "Image download: ../Datav2/exports/ndvi/f173524a-ae01-47f5-942d-5e90c2b96469_ndvi_bw.tif (512, 512)\n",
      "Image download: ../Datav2/exports/tc/bfa879b5-b526-4114-9137-51d3ea3ad336_tc.tif (512, 512)\n"
     ]
    },
    {
     "name": "stderr",
     "output_type": "stream",
     "text": [
      "\r",
      " 39%|████████████████████████████████████████▏                                                               | 572/1482 [23:58<1:12:01,  4.75s/it]"
     ]
    },
    {
     "name": "stdout",
     "output_type": "stream",
     "text": [
      "Image download: ../Datav2/exports/ndvi/bfa879b5-b526-4114-9137-51d3ea3ad336_ndvi_bw.tif (512, 512)\n",
      "Image download: ../Datav2/exports/tc/b5dd68e2-ec95-47cd-a126-d5f6f0f2b49a_tc.tif (512, 512)\n"
     ]
    },
    {
     "name": "stderr",
     "output_type": "stream",
     "text": [
      "\r",
      " 39%|████████████████████████████████████████▏                                                               | 573/1482 [24:16<2:08:01,  8.45s/it]"
     ]
    },
    {
     "name": "stdout",
     "output_type": "stream",
     "text": [
      "Image download: ../Datav2/exports/ndvi/b5dd68e2-ec95-47cd-a126-d5f6f0f2b49a_ndvi_bw.tif (512, 512)\n",
      "Image download: ../Datav2/exports/tc/5882937b-ffce-43af-9e0a-00dcddde214a_tc.tif (512, 512)\n"
     ]
    },
    {
     "name": "stderr",
     "output_type": "stream",
     "text": [
      "\r",
      " 39%|████████████████████████████████████████▎                                                               | 574/1482 [24:20<1:51:42,  7.38s/it]"
     ]
    },
    {
     "name": "stdout",
     "output_type": "stream",
     "text": [
      "Image download: ../Datav2/exports/ndvi/5882937b-ffce-43af-9e0a-00dcddde214a_ndvi_bw.tif (512, 512)\n",
      "Image download: ../Datav2/exports/tc/8740caa0-f86c-4103-b830-0435b9933a2b_tc.tif (512, 512)\n"
     ]
    },
    {
     "name": "stderr",
     "output_type": "stream",
     "text": [
      "\r",
      " 39%|████████████████████████████████████████▎                                                               | 575/1482 [24:25<1:39:05,  6.56s/it]"
     ]
    },
    {
     "name": "stdout",
     "output_type": "stream",
     "text": [
      "Image download: ../Datav2/exports/ndvi/8740caa0-f86c-4103-b830-0435b9933a2b_ndvi_bw.tif (512, 512)\n",
      "Image download: ../Datav2/exports/tc/d515cbcc-376e-4bc7-adea-189eff5a7735_tc.tif (512, 512)\n"
     ]
    },
    {
     "name": "stderr",
     "output_type": "stream",
     "text": [
      "\r",
      " 39%|████████████████████████████████████████▍                                                               | 576/1482 [24:29<1:26:55,  5.76s/it]"
     ]
    },
    {
     "name": "stdout",
     "output_type": "stream",
     "text": [
      "Image download: ../Datav2/exports/ndvi/d515cbcc-376e-4bc7-adea-189eff5a7735_ndvi_bw.tif (512, 512)\n",
      "Image download: ../Datav2/exports/tc/981484d0-711c-4a7b-9adc-23c9b29f9fae_tc.tif (512, 512)\n"
     ]
    },
    {
     "name": "stderr",
     "output_type": "stream",
     "text": [
      "\r",
      " 39%|████████████████████████████████████████▍                                                               | 577/1482 [24:33<1:21:19,  5.39s/it]"
     ]
    },
    {
     "name": "stdout",
     "output_type": "stream",
     "text": [
      "Image download: ../Datav2/exports/ndvi/981484d0-711c-4a7b-9adc-23c9b29f9fae_ndvi_bw.tif (512, 512)\n",
      "Image download: ../Datav2/exports/tc/1b1ba02e-9db3-4224-9d8d-06d5df529f16_tc.tif (512, 512)\n"
     ]
    },
    {
     "name": "stderr",
     "output_type": "stream",
     "text": [
      "\r",
      " 39%|████████████████████████████████████████▌                                                               | 578/1482 [24:41<1:30:45,  6.02s/it]"
     ]
    },
    {
     "name": "stdout",
     "output_type": "stream",
     "text": [
      "Image download: ../Datav2/exports/ndvi/1b1ba02e-9db3-4224-9d8d-06d5df529f16_ndvi_bw.tif (512, 512)\n",
      "Image download: ../Datav2/exports/tc/949e577d-86c2-4def-b25a-c24aa014f4d9_tc.tif (512, 512)\n"
     ]
    },
    {
     "name": "stderr",
     "output_type": "stream",
     "text": [
      "\r",
      " 39%|████████████████████████████████████████▋                                                               | 579/1482 [24:46<1:28:27,  5.88s/it]"
     ]
    },
    {
     "name": "stdout",
     "output_type": "stream",
     "text": [
      "Image download: ../Datav2/exports/ndvi/949e577d-86c2-4def-b25a-c24aa014f4d9_ndvi_bw.tif (512, 512)\n",
      "Image download: ../Datav2/exports/tc/0ed54526-1296-4863-ae40-613ee456899d_tc.tif (512, 512)\n"
     ]
    },
    {
     "name": "stderr",
     "output_type": "stream",
     "text": [
      "\r",
      " 39%|████████████████████████████████████████▋                                                               | 580/1482 [24:51<1:22:07,  5.46s/it]"
     ]
    },
    {
     "name": "stdout",
     "output_type": "stream",
     "text": [
      "Image download: ../Datav2/exports/ndvi/0ed54526-1296-4863-ae40-613ee456899d_ndvi_bw.tif (512, 512)\n",
      "Image download: ../Datav2/exports/tc/e1fdc15a-5737-4c69-ab9a-7f43d6b4aab8_tc.tif (512, 512)\n"
     ]
    },
    {
     "name": "stderr",
     "output_type": "stream",
     "text": [
      "\r",
      " 39%|████████████████████████████████████████▊                                                               | 581/1482 [24:57<1:22:35,  5.50s/it]"
     ]
    },
    {
     "name": "stdout",
     "output_type": "stream",
     "text": [
      "Image download: ../Datav2/exports/ndvi/e1fdc15a-5737-4c69-ab9a-7f43d6b4aab8_ndvi_bw.tif (512, 512)\n",
      "Image download: ../Datav2/exports/tc/982c81ca-ebe5-4591-986d-1f3e2e4cc13c_tc.tif (512, 512)\n"
     ]
    },
    {
     "name": "stderr",
     "output_type": "stream",
     "text": [
      "\r",
      " 39%|████████████████████████████████████████▊                                                               | 582/1482 [25:01<1:17:38,  5.18s/it]"
     ]
    },
    {
     "name": "stdout",
     "output_type": "stream",
     "text": [
      "Image download: ../Datav2/exports/ndvi/982c81ca-ebe5-4591-986d-1f3e2e4cc13c_ndvi_bw.tif (512, 512)\n",
      "Image download: ../Datav2/exports/tc/49a9074c-c30b-4042-9ffd-1a10f9d9bf1d_tc.tif (512, 512)\n"
     ]
    },
    {
     "name": "stderr",
     "output_type": "stream",
     "text": [
      "\r",
      " 39%|████████████████████████████████████████▉                                                               | 583/1482 [25:05<1:14:15,  4.96s/it]"
     ]
    },
    {
     "name": "stdout",
     "output_type": "stream",
     "text": [
      "Image download: ../Datav2/exports/ndvi/49a9074c-c30b-4042-9ffd-1a10f9d9bf1d_ndvi_bw.tif (512, 512)\n",
      "Image download: ../Datav2/exports/tc/c940ef85-44ce-4684-bce3-7cbbf180cefb_tc.tif (512, 512)\n"
     ]
    },
    {
     "name": "stderr",
     "output_type": "stream",
     "text": [
      "\r",
      " 39%|████████████████████████████████████████▉                                                               | 584/1482 [25:09<1:08:45,  4.59s/it]"
     ]
    },
    {
     "name": "stdout",
     "output_type": "stream",
     "text": [
      "Image download: ../Datav2/exports/ndvi/c940ef85-44ce-4684-bce3-7cbbf180cefb_ndvi_bw.tif (512, 512)\n"
     ]
    },
    {
     "name": "stderr",
     "output_type": "stream",
     "text": [
      "\r",
      " 39%|█████████████████████████████████████████▊                                                                | 585/1482 [25:10<51:18,  3.43s/it]"
     ]
    },
    {
     "name": "stdout",
     "output_type": "stream",
     "text": [
      "EXCEPTION - Row 1050 @ (-123.474, 41.841)\n",
      "Image.select: Band pattern 'B4' was applied to an Image with no bands. See https://developers.google.com/earth-engine/guides/debugging#no-bands\n",
      "Image download: ../Datav2/exports/tc/91d07ea9-cf5f-489c-aa4f-97fa6c0fb8a4_tc.tif (512, 512)\n"
     ]
    },
    {
     "name": "stderr",
     "output_type": "stream",
     "text": [
      "\r",
      " 40%|█████████████████████████████████████████▉                                                                | 586/1482 [25:14<53:00,  3.55s/it]"
     ]
    },
    {
     "name": "stdout",
     "output_type": "stream",
     "text": [
      "Image download: ../Datav2/exports/ndvi/91d07ea9-cf5f-489c-aa4f-97fa6c0fb8a4_ndvi_bw.tif (512, 512)\n",
      "Image download: ../Datav2/exports/tc/ca0c9a5f-7a1a-4903-b790-6eb3e85e7e64_tc.tif (512, 512)\n"
     ]
    },
    {
     "name": "stderr",
     "output_type": "stream",
     "text": [
      "\r",
      " 40%|█████████████████████████████████████████▏                                                              | 587/1482 [25:20<1:03:22,  4.25s/it]"
     ]
    },
    {
     "name": "stdout",
     "output_type": "stream",
     "text": [
      "Image download: ../Datav2/exports/ndvi/ca0c9a5f-7a1a-4903-b790-6eb3e85e7e64_ndvi_bw.tif (512, 512)\n",
      "Image download: ../Datav2/exports/tc/81b37451-57b5-4050-a54d-e9750f84a567_tc.tif (512, 512)\n"
     ]
    },
    {
     "name": "stderr",
     "output_type": "stream",
     "text": [
      "\r",
      " 40%|█████████████████████████████████████████▎                                                              | 588/1482 [25:24<1:03:04,  4.23s/it]"
     ]
    },
    {
     "name": "stdout",
     "output_type": "stream",
     "text": [
      "Image download: ../Datav2/exports/ndvi/81b37451-57b5-4050-a54d-e9750f84a567_ndvi_bw.tif (512, 512)\n"
     ]
    },
    {
     "name": "stderr",
     "output_type": "stream",
     "text": [
      "\r",
      " 40%|██████████████████████████████████████████▏                                                               | 589/1482 [25:25<48:03,  3.23s/it]"
     ]
    },
    {
     "name": "stdout",
     "output_type": "stream",
     "text": [
      "EXCEPTION - Row 945 @ (-124.19629, 41.93323)\n",
      "Image.select: Band pattern 'B4' was applied to an Image with no bands. See https://developers.google.com/earth-engine/guides/debugging#no-bands\n",
      "Image download: ../Datav2/exports/tc/4f0ff7c1-7c96-4f68-87e8-be4466945c2b_tc.tif (512, 512)\n"
     ]
    },
    {
     "name": "stderr",
     "output_type": "stream",
     "text": [
      "\r",
      " 40%|██████████████████████████████████████████▏                                                               | 590/1482 [25:29<51:56,  3.49s/it]"
     ]
    },
    {
     "name": "stdout",
     "output_type": "stream",
     "text": [
      "Image download: ../Datav2/exports/ndvi/4f0ff7c1-7c96-4f68-87e8-be4466945c2b_ndvi_bw.tif (512, 512)\n",
      "Image download: ../Datav2/exports/tc/7696644d-0908-4149-8d6e-aa50c1233d67_tc.tif (512, 512)\n"
     ]
    },
    {
     "name": "stderr",
     "output_type": "stream",
     "text": [
      "\r",
      " 40%|██████████████████████████████████████████▎                                                               | 591/1482 [25:33<54:41,  3.68s/it]"
     ]
    },
    {
     "name": "stdout",
     "output_type": "stream",
     "text": [
      "Image download: ../Datav2/exports/ndvi/7696644d-0908-4149-8d6e-aa50c1233d67_ndvi_bw.tif (512, 512)\n",
      "Image download: ../Datav2/exports/tc/243567d6-2692-4978-88f5-1bbfc7b818a6_tc.tif (512, 512)\n"
     ]
    },
    {
     "name": "stderr",
     "output_type": "stream",
     "text": [
      "\r",
      " 40%|██████████████████████████████████████████▎                                                               | 592/1482 [25:37<57:05,  3.85s/it]"
     ]
    },
    {
     "name": "stdout",
     "output_type": "stream",
     "text": [
      "Image download: ../Datav2/exports/ndvi/243567d6-2692-4978-88f5-1bbfc7b818a6_ndvi_bw.tif (512, 512)\n",
      "Image download: ../Datav2/exports/tc/a3159a43-d38c-4655-9acf-371bc9a6213b_tc.tif (512, 512)\n"
     ]
    },
    {
     "name": "stderr",
     "output_type": "stream",
     "text": [
      "\r",
      " 40%|██████████████████████████████████████████▍                                                               | 593/1482 [25:41<59:09,  3.99s/it]"
     ]
    },
    {
     "name": "stdout",
     "output_type": "stream",
     "text": [
      "Image download: ../Datav2/exports/ndvi/a3159a43-d38c-4655-9acf-371bc9a6213b_ndvi_bw.tif (512, 512)\n",
      "Image download: ../Datav2/exports/tc/c171dc75-9d35-4c58-b787-032067b16ae7_tc.tif (512, 512)\n"
     ]
    },
    {
     "name": "stderr",
     "output_type": "stream",
     "text": [
      "\r",
      " 40%|██████████████████████████████████████████▍                                                               | 594/1482 [25:46<59:55,  4.05s/it]"
     ]
    },
    {
     "name": "stdout",
     "output_type": "stream",
     "text": [
      "Image download: ../Datav2/exports/ndvi/c171dc75-9d35-4c58-b787-032067b16ae7_ndvi_bw.tif (512, 512)\n",
      "Image download: ../Datav2/exports/tc/a0ba8679-406a-491b-a20b-bba55d63bc5b_tc.tif (512, 512)\n"
     ]
    },
    {
     "name": "stderr",
     "output_type": "stream",
     "text": [
      "\r",
      " 40%|█████████████████████████████████████████▊                                                              | 595/1482 [25:50<1:00:57,  4.12s/it]"
     ]
    },
    {
     "name": "stdout",
     "output_type": "stream",
     "text": [
      "Image download: ../Datav2/exports/ndvi/a0ba8679-406a-491b-a20b-bba55d63bc5b_ndvi_bw.tif (512, 512)\n",
      "Image download: ../Datav2/exports/tc/d36387df-af2a-4b20-a94f-589fdccf67cd_tc.tif (512, 512)\n"
     ]
    },
    {
     "name": "stderr",
     "output_type": "stream",
     "text": [
      "\r",
      " 40%|█████████████████████████████████████████▊                                                              | 596/1482 [25:54<1:01:54,  4.19s/it]"
     ]
    },
    {
     "name": "stdout",
     "output_type": "stream",
     "text": [
      "Image download: ../Datav2/exports/ndvi/d36387df-af2a-4b20-a94f-589fdccf67cd_ndvi_bw.tif (512, 512)\n",
      "Image download: ../Datav2/exports/tc/47e76098-389e-4747-9e89-7ebdc963a485_tc.tif (512, 512)\n"
     ]
    },
    {
     "name": "stderr",
     "output_type": "stream",
     "text": [
      "\r",
      " 40%|█████████████████████████████████████████▉                                                              | 597/1482 [26:02<1:17:31,  5.26s/it]"
     ]
    },
    {
     "name": "stdout",
     "output_type": "stream",
     "text": [
      "Image download: ../Datav2/exports/ndvi/47e76098-389e-4747-9e89-7ebdc963a485_ndvi_bw.tif (512, 512)\n",
      "Image download: ../Datav2/exports/tc/5da65d7f-cc75-4c0c-b221-1a1e3000a120_tc.tif (512, 512)\n"
     ]
    },
    {
     "name": "stderr",
     "output_type": "stream",
     "text": [
      "\r",
      " 40%|█████████████████████████████████████████▉                                                              | 598/1482 [26:06<1:11:58,  4.89s/it]"
     ]
    },
    {
     "name": "stdout",
     "output_type": "stream",
     "text": [
      "Image download: ../Datav2/exports/ndvi/5da65d7f-cc75-4c0c-b221-1a1e3000a120_ndvi_bw.tif (512, 512)\n",
      "Image download: ../Datav2/exports/tc/d1ec9e43-04bd-4926-8362-5e04afe39c90_tc.tif (512, 512)\n"
     ]
    },
    {
     "name": "stderr",
     "output_type": "stream",
     "text": [
      "\r",
      " 40%|██████████████████████████████████████████                                                              | 599/1482 [26:10<1:09:42,  4.74s/it]"
     ]
    },
    {
     "name": "stdout",
     "output_type": "stream",
     "text": [
      "Image download: ../Datav2/exports/ndvi/d1ec9e43-04bd-4926-8362-5e04afe39c90_ndvi_bw.tif (512, 512)\n",
      "Image download: ../Datav2/exports/tc/6f2f8dc0-b930-435e-a622-d3585dcac067_tc.tif (512, 512)\n"
     ]
    },
    {
     "name": "stderr",
     "output_type": "stream",
     "text": [
      "\r",
      " 40%|██████████████████████████████████████████                                                              | 600/1482 [26:15<1:06:49,  4.55s/it]"
     ]
    },
    {
     "name": "stdout",
     "output_type": "stream",
     "text": [
      "Image download: ../Datav2/exports/ndvi/6f2f8dc0-b930-435e-a622-d3585dcac067_ndvi_bw.tif (512, 512)\n",
      "Image download: ../Datav2/exports/tc/abe2311a-4ce6-4300-9716-4fb3fe538c75_tc.tif (512, 512)\n"
     ]
    },
    {
     "name": "stderr",
     "output_type": "stream",
     "text": [
      "\r",
      " 41%|██████████████████████████████████████████▏                                                             | 601/1482 [26:19<1:07:00,  4.56s/it]"
     ]
    },
    {
     "name": "stdout",
     "output_type": "stream",
     "text": [
      "Image download: ../Datav2/exports/ndvi/abe2311a-4ce6-4300-9716-4fb3fe538c75_ndvi_bw.tif (512, 512)\n",
      "Image download: ../Datav2/exports/tc/4ac3161f-79e7-494f-88e4-72a69ef1d96b_tc.tif (512, 512)\n"
     ]
    },
    {
     "name": "stderr",
     "output_type": "stream",
     "text": [
      "\r",
      " 41%|██████████████████████████████████████████▏                                                             | 602/1482 [26:24<1:08:57,  4.70s/it]"
     ]
    },
    {
     "name": "stdout",
     "output_type": "stream",
     "text": [
      "Image download: ../Datav2/exports/ndvi/4ac3161f-79e7-494f-88e4-72a69ef1d96b_ndvi_bw.tif (512, 512)\n",
      "Image download: ../Datav2/exports/tc/2b043a7e-234c-43f7-852c-21fcb9ddc200_tc.tif (512, 512)\n"
     ]
    },
    {
     "name": "stderr",
     "output_type": "stream",
     "text": [
      "\r",
      " 41%|██████████████████████████████████████████▎                                                             | 603/1482 [26:29<1:07:43,  4.62s/it]"
     ]
    },
    {
     "name": "stdout",
     "output_type": "stream",
     "text": [
      "Image download: ../Datav2/exports/ndvi/2b043a7e-234c-43f7-852c-21fcb9ddc200_ndvi_bw.tif (512, 512)\n",
      "Image download: ../Datav2/exports/tc/c99fe9af-6d6b-435a-9084-2248905ad251_tc.tif (512, 512)\n"
     ]
    },
    {
     "name": "stderr",
     "output_type": "stream",
     "text": [
      "\r",
      " 41%|██████████████████████████████████████████▍                                                             | 604/1482 [26:33<1:06:05,  4.52s/it]"
     ]
    },
    {
     "name": "stdout",
     "output_type": "stream",
     "text": [
      "Image download: ../Datav2/exports/ndvi/c99fe9af-6d6b-435a-9084-2248905ad251_ndvi_bw.tif (512, 512)\n",
      "Image download: ../Datav2/exports/tc/64ef64a3-c8b0-48f1-8fec-9cacf8dfcd34_tc.tif (512, 512)\n"
     ]
    },
    {
     "name": "stderr",
     "output_type": "stream",
     "text": [
      "\r",
      " 41%|██████████████████████████████████████████▍                                                             | 605/1482 [26:37<1:05:44,  4.50s/it]"
     ]
    },
    {
     "name": "stdout",
     "output_type": "stream",
     "text": [
      "Image download: ../Datav2/exports/ndvi/64ef64a3-c8b0-48f1-8fec-9cacf8dfcd34_ndvi_bw.tif (512, 512)\n",
      "Image download: ../Datav2/exports/tc/3980fbbb-d17b-4deb-83a4-9af2290b5272_tc.tif (512, 512)\n"
     ]
    },
    {
     "name": "stderr",
     "output_type": "stream",
     "text": [
      "\r",
      " 41%|██████████████████████████████████████████▌                                                             | 606/1482 [26:42<1:07:12,  4.60s/it]"
     ]
    },
    {
     "name": "stdout",
     "output_type": "stream",
     "text": [
      "Image download: ../Datav2/exports/ndvi/3980fbbb-d17b-4deb-83a4-9af2290b5272_ndvi_bw.tif (512, 512)\n",
      "Image download: ../Datav2/exports/tc/97d63e17-e546-49ae-add6-e3b5fa71cb4c_tc.tif (512, 512)\n"
     ]
    },
    {
     "name": "stderr",
     "output_type": "stream",
     "text": [
      "\r",
      " 41%|██████████████████████████████████████████▌                                                             | 607/1482 [26:46<1:04:21,  4.41s/it]"
     ]
    },
    {
     "name": "stdout",
     "output_type": "stream",
     "text": [
      "Image download: ../Datav2/exports/ndvi/97d63e17-e546-49ae-add6-e3b5fa71cb4c_ndvi_bw.tif (512, 512)\n",
      "Image download: ../Datav2/exports/tc/e3e75be1-8dea-4022-975b-34a0f25b57c0_tc.tif (512, 512)\n"
     ]
    },
    {
     "name": "stderr",
     "output_type": "stream",
     "text": [
      "\r",
      " 41%|██████████████████████████████████████████▋                                                             | 608/1482 [26:51<1:05:12,  4.48s/it]"
     ]
    },
    {
     "name": "stdout",
     "output_type": "stream",
     "text": [
      "Image download: ../Datav2/exports/ndvi/e3e75be1-8dea-4022-975b-34a0f25b57c0_ndvi_bw.tif (512, 512)\n",
      "Image download: ../Datav2/exports/tc/d4f1fc5e-b877-41ee-b491-8e92ded4984f_tc.tif (512, 512)\n"
     ]
    },
    {
     "name": "stderr",
     "output_type": "stream",
     "text": [
      "\r",
      " 41%|██████████████████████████████████████████▋                                                             | 609/1482 [26:55<1:05:57,  4.53s/it]"
     ]
    },
    {
     "name": "stdout",
     "output_type": "stream",
     "text": [
      "Image download: ../Datav2/exports/ndvi/d4f1fc5e-b877-41ee-b491-8e92ded4984f_ndvi_bw.tif (512, 512)\n",
      "Image download: ../Datav2/exports/tc/2f97537a-1333-4dfc-b7a3-b7bf9400ffdd_tc.tif (512, 512)\n"
     ]
    },
    {
     "name": "stderr",
     "output_type": "stream",
     "text": [
      "\r",
      " 41%|██████████████████████████████████████████▊                                                             | 610/1482 [27:00<1:06:51,  4.60s/it]"
     ]
    },
    {
     "name": "stdout",
     "output_type": "stream",
     "text": [
      "Image download: ../Datav2/exports/ndvi/2f97537a-1333-4dfc-b7a3-b7bf9400ffdd_ndvi_bw.tif (512, 512)\n",
      "Image download: ../Datav2/exports/tc/b51d7a8d-f768-453e-abb4-665b74998b21_tc.tif (512, 512)\n"
     ]
    },
    {
     "name": "stderr",
     "output_type": "stream",
     "text": [
      "\r",
      " 41%|██████████████████████████████████████████▉                                                             | 611/1482 [27:05<1:05:24,  4.51s/it]"
     ]
    },
    {
     "name": "stdout",
     "output_type": "stream",
     "text": [
      "Image download: ../Datav2/exports/ndvi/b51d7a8d-f768-453e-abb4-665b74998b21_ndvi_bw.tif (512, 512)\n",
      "Image download: ../Datav2/exports/tc/ed40ce35-7338-4f8b-a5ab-e94af6fa7e55_tc.tif (512, 512)\n"
     ]
    },
    {
     "name": "stderr",
     "output_type": "stream",
     "text": [
      "\r",
      " 41%|██████████████████████████████████████████▉                                                             | 612/1482 [27:10<1:08:47,  4.74s/it]"
     ]
    },
    {
     "name": "stdout",
     "output_type": "stream",
     "text": [
      "Image download: ../Datav2/exports/ndvi/ed40ce35-7338-4f8b-a5ab-e94af6fa7e55_ndvi_bw.tif (512, 512)\n",
      "Image download: ../Datav2/exports/tc/36d953e8-265f-4b05-831e-42eb2298b208_tc.tif (512, 512)\n"
     ]
    },
    {
     "name": "stderr",
     "output_type": "stream",
     "text": [
      "\r",
      " 41%|███████████████████████████████████████████                                                             | 613/1482 [27:14<1:08:01,  4.70s/it]"
     ]
    },
    {
     "name": "stdout",
     "output_type": "stream",
     "text": [
      "Image download: ../Datav2/exports/ndvi/36d953e8-265f-4b05-831e-42eb2298b208_ndvi_bw.tif (512, 512)\n",
      "Image download: ../Datav2/exports/tc/9668cfe5-b636-4147-bce1-da8e8b3fb5c2_tc.tif (512, 512)\n"
     ]
    },
    {
     "name": "stderr",
     "output_type": "stream",
     "text": [
      "\r",
      " 41%|███████████████████████████████████████████                                                             | 614/1482 [27:19<1:08:13,  4.72s/it]"
     ]
    },
    {
     "name": "stdout",
     "output_type": "stream",
     "text": [
      "Image download: ../Datav2/exports/ndvi/9668cfe5-b636-4147-bce1-da8e8b3fb5c2_ndvi_bw.tif (512, 512)\n",
      "Image download: ../Datav2/exports/tc/f6970f10-0498-4f4c-8e0c-d4b7e4fbf888_tc.tif (512, 512)\n"
     ]
    },
    {
     "name": "stderr",
     "output_type": "stream",
     "text": [
      "\r",
      " 41%|███████████████████████████████████████████▏                                                            | 615/1482 [27:23<1:05:14,  4.51s/it]"
     ]
    },
    {
     "name": "stdout",
     "output_type": "stream",
     "text": [
      "Image download: ../Datav2/exports/ndvi/f6970f10-0498-4f4c-8e0c-d4b7e4fbf888_ndvi_bw.tif (512, 512)\n",
      "Image download: ../Datav2/exports/tc/252345dd-886b-4bd2-90b9-161727a2fc2d_tc.tif (512, 512)\n"
     ]
    },
    {
     "name": "stderr",
     "output_type": "stream",
     "text": [
      "\r",
      " 42%|███████████████████████████████████████████▏                                                            | 616/1482 [27:29<1:08:40,  4.76s/it]"
     ]
    },
    {
     "name": "stdout",
     "output_type": "stream",
     "text": [
      "Image download: ../Datav2/exports/ndvi/252345dd-886b-4bd2-90b9-161727a2fc2d_ndvi_bw.tif (512, 512)\n",
      "Image download: ../Datav2/exports/tc/1be87788-1bd9-4e97-b92a-63b41fe8abf1_tc.tif (512, 512)\n"
     ]
    },
    {
     "name": "stderr",
     "output_type": "stream",
     "text": [
      "\r",
      " 42%|███████████████████████████████████████████▎                                                            | 617/1482 [27:33<1:06:56,  4.64s/it]"
     ]
    },
    {
     "name": "stdout",
     "output_type": "stream",
     "text": [
      "Image download: ../Datav2/exports/ndvi/1be87788-1bd9-4e97-b92a-63b41fe8abf1_ndvi_bw.tif (512, 512)\n",
      "Image download: ../Datav2/exports/tc/6ae3d56e-0258-49f5-9e71-5b5abe141479_tc.tif (512, 512)\n"
     ]
    },
    {
     "name": "stderr",
     "output_type": "stream",
     "text": [
      "\r",
      " 42%|███████████████████████████████████████████▎                                                            | 618/1482 [27:38<1:08:10,  4.73s/it]"
     ]
    },
    {
     "name": "stdout",
     "output_type": "stream",
     "text": [
      "Image download: ../Datav2/exports/ndvi/6ae3d56e-0258-49f5-9e71-5b5abe141479_ndvi_bw.tif (512, 512)\n",
      "Image download: ../Datav2/exports/tc/60770d23-70db-46f1-a19a-a23eaa409125_tc.tif (512, 512)\n"
     ]
    },
    {
     "name": "stderr",
     "output_type": "stream",
     "text": [
      "\r",
      " 42%|███████████████████████████████████████████▍                                                            | 619/1482 [27:43<1:08:44,  4.78s/it]"
     ]
    },
    {
     "name": "stdout",
     "output_type": "stream",
     "text": [
      "Image download: ../Datav2/exports/ndvi/60770d23-70db-46f1-a19a-a23eaa409125_ndvi_bw.tif (512, 512)\n",
      "Image download: ../Datav2/exports/tc/0a664214-c090-4889-8439-06836f89d830_tc.tif (512, 512)\n"
     ]
    },
    {
     "name": "stderr",
     "output_type": "stream",
     "text": [
      "\r",
      " 42%|███████████████████████████████████████████▌                                                            | 620/1482 [27:49<1:13:37,  5.12s/it]"
     ]
    },
    {
     "name": "stdout",
     "output_type": "stream",
     "text": [
      "Image download: ../Datav2/exports/ndvi/0a664214-c090-4889-8439-06836f89d830_ndvi_bw.tif (512, 512)\n",
      "Image download: ../Datav2/exports/tc/b383e4bd-6815-4624-936c-be57715ce50e_tc.tif (512, 512)\n"
     ]
    },
    {
     "name": "stderr",
     "output_type": "stream",
     "text": [
      "\r",
      " 42%|███████████████████████████████████████████▌                                                            | 621/1482 [27:55<1:18:19,  5.46s/it]"
     ]
    },
    {
     "name": "stdout",
     "output_type": "stream",
     "text": [
      "Image download: ../Datav2/exports/ndvi/b383e4bd-6815-4624-936c-be57715ce50e_ndvi_bw.tif (512, 512)\n",
      "Image download: ../Datav2/exports/tc/89f34aa8-eaf3-4d19-8ef0-005102e82831_tc.tif (512, 512)\n"
     ]
    },
    {
     "name": "stderr",
     "output_type": "stream",
     "text": [
      "\r",
      " 42%|███████████████████████████████████████████▋                                                            | 622/1482 [28:02<1:24:03,  5.86s/it]"
     ]
    },
    {
     "name": "stdout",
     "output_type": "stream",
     "text": [
      "Image download: ../Datav2/exports/ndvi/89f34aa8-eaf3-4d19-8ef0-005102e82831_ndvi_bw.tif (512, 512)\n",
      "Image download: ../Datav2/exports/tc/7d77d3d1-40b5-40ab-8a53-2550f2001094_tc.tif (512, 512)\n"
     ]
    },
    {
     "name": "stderr",
     "output_type": "stream",
     "text": [
      "\r",
      " 42%|███████████████████████████████████████████▋                                                            | 623/1482 [28:07<1:19:43,  5.57s/it]"
     ]
    },
    {
     "name": "stdout",
     "output_type": "stream",
     "text": [
      "Image download: ../Datav2/exports/ndvi/7d77d3d1-40b5-40ab-8a53-2550f2001094_ndvi_bw.tif (512, 512)\n",
      "Image download: ../Datav2/exports/tc/ea019efb-52d2-4f08-8d04-20b680e2361b_tc.tif (512, 512)\n"
     ]
    },
    {
     "name": "stderr",
     "output_type": "stream",
     "text": [
      "\r",
      " 42%|███████████████████████████████████████████▊                                                            | 624/1482 [28:14<1:27:14,  6.10s/it]"
     ]
    },
    {
     "name": "stdout",
     "output_type": "stream",
     "text": [
      "Image download: ../Datav2/exports/ndvi/ea019efb-52d2-4f08-8d04-20b680e2361b_ndvi_bw.tif (512, 512)\n",
      "Image download: ../Datav2/exports/tc/a7509e35-3083-4306-bcce-ebf6d101b62a_tc.tif (512, 512)\n"
     ]
    },
    {
     "name": "stderr",
     "output_type": "stream",
     "text": [
      "\r",
      " 42%|███████████████████████████████████████████▊                                                            | 625/1482 [28:18<1:18:39,  5.51s/it]"
     ]
    },
    {
     "name": "stdout",
     "output_type": "stream",
     "text": [
      "Image download: ../Datav2/exports/ndvi/a7509e35-3083-4306-bcce-ebf6d101b62a_ndvi_bw.tif (512, 512)\n",
      "Image download: ../Datav2/exports/tc/b4eb0b95-1a93-46a5-91f4-5c2b4c7b943c_tc.tif (512, 512)\n"
     ]
    },
    {
     "name": "stderr",
     "output_type": "stream",
     "text": [
      "\r",
      " 42%|███████████████████████████████████████████▉                                                            | 626/1482 [28:23<1:14:20,  5.21s/it]"
     ]
    },
    {
     "name": "stdout",
     "output_type": "stream",
     "text": [
      "Image download: ../Datav2/exports/ndvi/b4eb0b95-1a93-46a5-91f4-5c2b4c7b943c_ndvi_bw.tif (512, 512)\n",
      "Image download: ../Datav2/exports/tc/5a43b164-04d0-46ea-992e-ea5aa283305f_tc.tif (512, 512)\n"
     ]
    },
    {
     "name": "stderr",
     "output_type": "stream",
     "text": [
      "\r",
      " 42%|████████████████████████████████████████████                                                            | 627/1482 [28:27<1:09:27,  4.87s/it]"
     ]
    },
    {
     "name": "stdout",
     "output_type": "stream",
     "text": [
      "Image download: ../Datav2/exports/ndvi/5a43b164-04d0-46ea-992e-ea5aa283305f_ndvi_bw.tif (512, 512)\n",
      "Image download: ../Datav2/exports/tc/1652d79a-f4fc-4151-a0d1-1b7366730f47_tc.tif (512, 512)\n"
     ]
    },
    {
     "name": "stderr",
     "output_type": "stream",
     "text": [
      "\r",
      " 42%|████████████████████████████████████████████                                                            | 628/1482 [28:33<1:13:27,  5.16s/it]"
     ]
    },
    {
     "name": "stdout",
     "output_type": "stream",
     "text": [
      "Image download: ../Datav2/exports/ndvi/1652d79a-f4fc-4151-a0d1-1b7366730f47_ndvi_bw.tif (512, 512)\n",
      "Image download: ../Datav2/exports/tc/eeef101a-3a50-4407-8e6d-cd80d0d07599_tc.tif (512, 512)\n"
     ]
    },
    {
     "name": "stderr",
     "output_type": "stream",
     "text": [
      "\r",
      " 42%|████████████████████████████████████████████▏                                                           | 629/1482 [28:37<1:12:19,  5.09s/it]"
     ]
    },
    {
     "name": "stdout",
     "output_type": "stream",
     "text": [
      "Image download: ../Datav2/exports/ndvi/eeef101a-3a50-4407-8e6d-cd80d0d07599_ndvi_bw.tif (512, 512)\n",
      "Image download: ../Datav2/exports/tc/bc89aab5-5f30-46a2-9881-6dbae22893b6_tc.tif (512, 512)\n"
     ]
    },
    {
     "name": "stderr",
     "output_type": "stream",
     "text": [
      "\r",
      " 43%|████████████████████████████████████████████▏                                                           | 630/1482 [28:42<1:10:37,  4.97s/it]"
     ]
    },
    {
     "name": "stdout",
     "output_type": "stream",
     "text": [
      "Image download: ../Datav2/exports/ndvi/bc89aab5-5f30-46a2-9881-6dbae22893b6_ndvi_bw.tif (512, 512)\n",
      "Image download: ../Datav2/exports/tc/8816f0da-0818-499a-9ff6-ba4fd56ca7c8_tc.tif (512, 512)\n"
     ]
    },
    {
     "name": "stderr",
     "output_type": "stream",
     "text": [
      "\r",
      " 43%|████████████████████████████████████████████▎                                                           | 631/1482 [28:47<1:09:52,  4.93s/it]"
     ]
    },
    {
     "name": "stdout",
     "output_type": "stream",
     "text": [
      "Image download: ../Datav2/exports/ndvi/8816f0da-0818-499a-9ff6-ba4fd56ca7c8_ndvi_bw.tif (512, 512)\n",
      "Image download: ../Datav2/exports/tc/67c20627-e6cb-4900-9f40-01e8da154a53_tc.tif (512, 512)\n"
     ]
    },
    {
     "name": "stderr",
     "output_type": "stream",
     "text": [
      "\r",
      " 43%|████████████████████████████████████████████▎                                                           | 632/1482 [28:51<1:05:53,  4.65s/it]"
     ]
    },
    {
     "name": "stdout",
     "output_type": "stream",
     "text": [
      "Image download: ../Datav2/exports/ndvi/67c20627-e6cb-4900-9f40-01e8da154a53_ndvi_bw.tif (512, 512)\n",
      "Image download: ../Datav2/exports/tc/932a3f2f-6c0e-42a6-b357-f333774b4ea8_tc.tif (512, 512)\n"
     ]
    },
    {
     "name": "stderr",
     "output_type": "stream",
     "text": [
      "\r",
      " 43%|████████████████████████████████████████████▍                                                           | 633/1482 [28:56<1:08:12,  4.82s/it]"
     ]
    },
    {
     "name": "stdout",
     "output_type": "stream",
     "text": [
      "Image download: ../Datav2/exports/ndvi/932a3f2f-6c0e-42a6-b357-f333774b4ea8_ndvi_bw.tif (512, 512)\n",
      "Image download: ../Datav2/exports/tc/effeee13-51d7-4cf2-a62f-93b47b34605a_tc.tif (512, 512)\n"
     ]
    },
    {
     "name": "stderr",
     "output_type": "stream",
     "text": [
      "\r",
      " 43%|████████████████████████████████████████████▍                                                           | 634/1482 [29:00<1:03:33,  4.50s/it]"
     ]
    },
    {
     "name": "stdout",
     "output_type": "stream",
     "text": [
      "Image download: ../Datav2/exports/ndvi/effeee13-51d7-4cf2-a62f-93b47b34605a_ndvi_bw.tif (512, 512)\n",
      "Image download: ../Datav2/exports/tc/248bba19-4fdf-4285-a210-1334454ad80a_tc.tif (512, 512)\n"
     ]
    },
    {
     "name": "stderr",
     "output_type": "stream",
     "text": [
      "\r",
      " 43%|████████████████████████████████████████████▌                                                           | 635/1482 [29:05<1:04:30,  4.57s/it]"
     ]
    },
    {
     "name": "stdout",
     "output_type": "stream",
     "text": [
      "Image download: ../Datav2/exports/ndvi/248bba19-4fdf-4285-a210-1334454ad80a_ndvi_bw.tif (512, 512)\n",
      "Image download: ../Datav2/exports/tc/b3a6b47f-105b-4f66-b12a-76c563457a5d_tc.tif (512, 512)\n"
     ]
    },
    {
     "name": "stderr",
     "output_type": "stream",
     "text": [
      "\r",
      " 43%|████████████████████████████████████████████▋                                                           | 636/1482 [29:10<1:05:51,  4.67s/it]"
     ]
    },
    {
     "name": "stdout",
     "output_type": "stream",
     "text": [
      "Image download: ../Datav2/exports/ndvi/b3a6b47f-105b-4f66-b12a-76c563457a5d_ndvi_bw.tif (512, 512)\n",
      "Image download: ../Datav2/exports/tc/dfd1e0d9-42b5-436a-aa83-ffcbbb7a6145_tc.tif (512, 512)\n"
     ]
    },
    {
     "name": "stderr",
     "output_type": "stream",
     "text": [
      "\r",
      " 43%|████████████████████████████████████████████▋                                                           | 637/1482 [29:25<1:50:36,  7.85s/it]"
     ]
    },
    {
     "name": "stdout",
     "output_type": "stream",
     "text": [
      "Image download: ../Datav2/exports/ndvi/dfd1e0d9-42b5-436a-aa83-ffcbbb7a6145_ndvi_bw.tif (512, 512)\n",
      "Image download: ../Datav2/exports/tc/2adaf964-e996-4e55-a616-ac42375ee156_tc.tif (512, 512)\n"
     ]
    },
    {
     "name": "stderr",
     "output_type": "stream",
     "text": [
      "\r",
      " 43%|████████████████████████████████████████████▊                                                           | 638/1482 [29:29<1:35:08,  6.76s/it]"
     ]
    },
    {
     "name": "stdout",
     "output_type": "stream",
     "text": [
      "Image download: ../Datav2/exports/ndvi/2adaf964-e996-4e55-a616-ac42375ee156_ndvi_bw.tif (512, 512)\n",
      "Image download: ../Datav2/exports/tc/f75027cb-2526-4524-989f-71d0d56353ec_tc.tif (512, 512)\n"
     ]
    },
    {
     "name": "stderr",
     "output_type": "stream",
     "text": [
      "\r",
      " 43%|████████████████████████████████████████████▊                                                           | 639/1482 [29:34<1:27:22,  6.22s/it]"
     ]
    },
    {
     "name": "stdout",
     "output_type": "stream",
     "text": [
      "Image download: ../Datav2/exports/ndvi/f75027cb-2526-4524-989f-71d0d56353ec_ndvi_bw.tif (512, 512)\n",
      "Image download: ../Datav2/exports/tc/5a52750e-30a0-4d26-a75b-58f79e1e24f4_tc.tif (512, 512)\n"
     ]
    },
    {
     "name": "stderr",
     "output_type": "stream",
     "text": [
      "\r",
      " 43%|████████████████████████████████████████████▉                                                           | 640/1482 [29:39<1:20:04,  5.71s/it]"
     ]
    },
    {
     "name": "stdout",
     "output_type": "stream",
     "text": [
      "Image download: ../Datav2/exports/ndvi/5a52750e-30a0-4d26-a75b-58f79e1e24f4_ndvi_bw.tif (512, 512)\n",
      "Image download: ../Datav2/exports/tc/a21faf4f-3628-4e24-ac64-8471d9d12560_tc.tif (512, 512)\n"
     ]
    },
    {
     "name": "stderr",
     "output_type": "stream",
     "text": [
      "\r",
      " 43%|████████████████████████████████████████████▉                                                           | 641/1482 [29:45<1:21:41,  5.83s/it]"
     ]
    },
    {
     "name": "stdout",
     "output_type": "stream",
     "text": [
      "Image download: ../Datav2/exports/ndvi/a21faf4f-3628-4e24-ac64-8471d9d12560_ndvi_bw.tif (512, 512)\n",
      "Image download: ../Datav2/exports/tc/a21faf4f-3628-4e24-ac64-8471d9d12560_tc.tif (512, 512)\n"
     ]
    },
    {
     "name": "stderr",
     "output_type": "stream",
     "text": [
      "\r",
      " 43%|█████████████████████████████████████████████                                                           | 642/1482 [29:49<1:14:34,  5.33s/it]"
     ]
    },
    {
     "name": "stdout",
     "output_type": "stream",
     "text": [
      "Image download: ../Datav2/exports/ndvi/a21faf4f-3628-4e24-ac64-8471d9d12560_ndvi_bw.tif (512, 512)\n",
      "Image download: ../Datav2/exports/tc/de1788c0-2996-40cf-9f76-2920b210d6a9_tc.tif (512, 512)\n"
     ]
    },
    {
     "name": "stderr",
     "output_type": "stream",
     "text": [
      "\r",
      " 43%|█████████████████████████████████████████████                                                           | 643/1482 [29:53<1:09:13,  4.95s/it]"
     ]
    },
    {
     "name": "stdout",
     "output_type": "stream",
     "text": [
      "Image download: ../Datav2/exports/ndvi/de1788c0-2996-40cf-9f76-2920b210d6a9_ndvi_bw.tif (512, 512)\n",
      "Image download: ../Datav2/exports/tc/743b2276-742e-4d25-be9b-60364ca880f6_tc.tif (512, 512)\n"
     ]
    },
    {
     "name": "stderr",
     "output_type": "stream",
     "text": [
      "\r",
      " 43%|█████████████████████████████████████████████▏                                                          | 644/1482 [29:58<1:07:56,  4.86s/it]"
     ]
    },
    {
     "name": "stdout",
     "output_type": "stream",
     "text": [
      "Image download: ../Datav2/exports/ndvi/743b2276-742e-4d25-be9b-60364ca880f6_ndvi_bw.tif (512, 512)\n",
      "Image download: ../Datav2/exports/tc/6ee351a7-9382-48bc-a161-b417f7560ff9_tc.tif (512, 512)\n"
     ]
    },
    {
     "name": "stderr",
     "output_type": "stream",
     "text": [
      "\r",
      " 44%|█████████████████████████████████████████████▎                                                          | 645/1482 [30:02<1:05:57,  4.73s/it]"
     ]
    },
    {
     "name": "stdout",
     "output_type": "stream",
     "text": [
      "Image download: ../Datav2/exports/ndvi/6ee351a7-9382-48bc-a161-b417f7560ff9_ndvi_bw.tif (512, 512)\n",
      "Image download: ../Datav2/exports/tc/61cc4072-7db6-4fd2-bc9a-652728780c67_tc.tif (512, 512)\n"
     ]
    },
    {
     "name": "stderr",
     "output_type": "stream",
     "text": [
      "\r",
      " 44%|█████████████████████████████████████████████▎                                                          | 646/1482 [30:08<1:11:42,  5.15s/it]"
     ]
    },
    {
     "name": "stdout",
     "output_type": "stream",
     "text": [
      "Image download: ../Datav2/exports/ndvi/61cc4072-7db6-4fd2-bc9a-652728780c67_ndvi_bw.tif (512, 512)\n",
      "Image download: ../Datav2/exports/tc/79fd7b45-381a-4819-9dc7-f80a98010809_tc.tif (512, 512)\n"
     ]
    },
    {
     "name": "stderr",
     "output_type": "stream",
     "text": [
      "\r",
      " 44%|█████████████████████████████████████████████▍                                                          | 647/1482 [30:14<1:13:45,  5.30s/it]"
     ]
    },
    {
     "name": "stdout",
     "output_type": "stream",
     "text": [
      "Image download: ../Datav2/exports/ndvi/79fd7b45-381a-4819-9dc7-f80a98010809_ndvi_bw.tif (512, 512)\n",
      "Image download: ../Datav2/exports/tc/9a1a4247-479d-46ff-99cc-4251c5e333fa_tc.tif (512, 512)\n"
     ]
    },
    {
     "name": "stderr",
     "output_type": "stream",
     "text": [
      "\r",
      " 44%|█████████████████████████████████████████████▍                                                          | 648/1482 [30:19<1:11:58,  5.18s/it]"
     ]
    },
    {
     "name": "stdout",
     "output_type": "stream",
     "text": [
      "Image download: ../Datav2/exports/ndvi/9a1a4247-479d-46ff-99cc-4251c5e333fa_ndvi_bw.tif (512, 512)\n",
      "Image download: ../Datav2/exports/tc/04b54dc3-10a2-4fdf-bfa6-60a1fe2b0f7d_tc.tif (512, 512)\n"
     ]
    },
    {
     "name": "stderr",
     "output_type": "stream",
     "text": [
      "\r",
      " 44%|█████████████████████████████████████████████▌                                                          | 649/1482 [30:24<1:10:54,  5.11s/it]"
     ]
    },
    {
     "name": "stdout",
     "output_type": "stream",
     "text": [
      "Image download: ../Datav2/exports/ndvi/04b54dc3-10a2-4fdf-bfa6-60a1fe2b0f7d_ndvi_bw.tif (512, 512)\n",
      "Image download: ../Datav2/exports/tc/f7b03fae-de58-4674-9f4f-d3e9d2762d84_tc.tif (512, 512)\n"
     ]
    },
    {
     "name": "stderr",
     "output_type": "stream",
     "text": [
      "\r",
      " 44%|█████████████████████████████████████████████▌                                                          | 650/1482 [30:29<1:11:58,  5.19s/it]"
     ]
    },
    {
     "name": "stdout",
     "output_type": "stream",
     "text": [
      "Image download: ../Datav2/exports/ndvi/f7b03fae-de58-4674-9f4f-d3e9d2762d84_ndvi_bw.tif (512, 512)\n",
      "Image download: ../Datav2/exports/tc/580ce9d9-b8dc-4dc1-9f10-11bf48df9492_tc.tif (512, 512)\n"
     ]
    },
    {
     "name": "stderr",
     "output_type": "stream",
     "text": [
      "\r",
      " 44%|█████████████████████████████████████████████▋                                                          | 651/1482 [30:34<1:12:40,  5.25s/it]"
     ]
    },
    {
     "name": "stdout",
     "output_type": "stream",
     "text": [
      "Image download: ../Datav2/exports/ndvi/580ce9d9-b8dc-4dc1-9f10-11bf48df9492_ndvi_bw.tif (512, 512)\n",
      "Image download: ../Datav2/exports/tc/6f9581fa-7c8a-45d1-988d-0a299fc15d62_tc.tif (512, 512)\n"
     ]
    },
    {
     "name": "stderr",
     "output_type": "stream",
     "text": [
      "\r",
      " 44%|█████████████████████████████████████████████▊                                                          | 652/1482 [30:39<1:11:39,  5.18s/it]"
     ]
    },
    {
     "name": "stdout",
     "output_type": "stream",
     "text": [
      "Image download: ../Datav2/exports/ndvi/6f9581fa-7c8a-45d1-988d-0a299fc15d62_ndvi_bw.tif (512, 512)\n",
      "Image download: ../Datav2/exports/tc/fd82cbd0-ec25-461c-aef1-4c0c92060348_tc.tif (512, 512)\n"
     ]
    },
    {
     "name": "stderr",
     "output_type": "stream",
     "text": [
      "\r",
      " 44%|█████████████████████████████████████████████▊                                                          | 653/1482 [30:44<1:10:42,  5.12s/it]"
     ]
    },
    {
     "name": "stdout",
     "output_type": "stream",
     "text": [
      "Image download: ../Datav2/exports/ndvi/fd82cbd0-ec25-461c-aef1-4c0c92060348_ndvi_bw.tif (512, 512)\n",
      "Image download: ../Datav2/exports/tc/1be14ce2-5e9c-4cc2-89bf-f36cb1d1ccbd_tc.tif (512, 512)\n"
     ]
    },
    {
     "name": "stderr",
     "output_type": "stream",
     "text": [
      "\r",
      " 44%|█████████████████████████████████████████████▉                                                          | 654/1482 [30:49<1:09:16,  5.02s/it]"
     ]
    },
    {
     "name": "stdout",
     "output_type": "stream",
     "text": [
      "Image download: ../Datav2/exports/ndvi/1be14ce2-5e9c-4cc2-89bf-f36cb1d1ccbd_ndvi_bw.tif (512, 512)\n",
      "Image download: ../Datav2/exports/tc/826b4661-020b-425d-84ec-9426c39839e7_tc.tif (512, 512)\n"
     ]
    },
    {
     "name": "stderr",
     "output_type": "stream",
     "text": [
      "\r",
      " 44%|█████████████████████████████████████████████▉                                                          | 655/1482 [30:55<1:10:55,  5.15s/it]"
     ]
    },
    {
     "name": "stdout",
     "output_type": "stream",
     "text": [
      "Image download: ../Datav2/exports/ndvi/826b4661-020b-425d-84ec-9426c39839e7_ndvi_bw.tif (512, 512)\n",
      "Image download: ../Datav2/exports/tc/bf2e0a34-e600-4e21-9135-168e28c2893d_tc.tif (512, 512)\n"
     ]
    },
    {
     "name": "stderr",
     "output_type": "stream",
     "text": [
      "\r",
      " 44%|██████████████████████████████████████████████                                                          | 656/1482 [31:00<1:11:32,  5.20s/it]"
     ]
    },
    {
     "name": "stdout",
     "output_type": "stream",
     "text": [
      "Image download: ../Datav2/exports/ndvi/bf2e0a34-e600-4e21-9135-168e28c2893d_ndvi_bw.tif (512, 512)\n",
      "Image download: ../Datav2/exports/tc/bfa2d3e8-2ede-423f-b7db-f8e6f44a3c82_tc.tif (512, 512)\n"
     ]
    },
    {
     "name": "stderr",
     "output_type": "stream",
     "text": [
      "\r",
      " 44%|██████████████████████████████████████████████                                                          | 657/1482 [31:05<1:09:51,  5.08s/it]"
     ]
    },
    {
     "name": "stdout",
     "output_type": "stream",
     "text": [
      "Image download: ../Datav2/exports/ndvi/bfa2d3e8-2ede-423f-b7db-f8e6f44a3c82_ndvi_bw.tif (512, 512)\n",
      "Image download: ../Datav2/exports/tc/e6626b0a-428c-442f-9ec5-591effef172d_tc.tif (512, 512)\n"
     ]
    },
    {
     "name": "stderr",
     "output_type": "stream",
     "text": [
      "\r",
      " 44%|██████████████████████████████████████████████▏                                                         | 658/1482 [31:09<1:06:27,  4.84s/it]"
     ]
    },
    {
     "name": "stdout",
     "output_type": "stream",
     "text": [
      "Image download: ../Datav2/exports/ndvi/e6626b0a-428c-442f-9ec5-591effef172d_ndvi_bw.tif (512, 512)\n",
      "Image download: ../Datav2/exports/tc/f09f75ff-d9fe-4a25-89d0-75dc98d1fe30_tc.tif (512, 512)\n"
     ]
    },
    {
     "name": "stderr",
     "output_type": "stream",
     "text": [
      "\r",
      " 44%|██████████████████████████████████████████████▏                                                         | 659/1482 [31:13<1:05:07,  4.75s/it]"
     ]
    },
    {
     "name": "stdout",
     "output_type": "stream",
     "text": [
      "Image download: ../Datav2/exports/ndvi/f09f75ff-d9fe-4a25-89d0-75dc98d1fe30_ndvi_bw.tif (512, 512)\n",
      "Image download: ../Datav2/exports/tc/1348f32a-510f-4ad3-971f-b75b9cf9f0c0_tc.tif (512, 512)\n"
     ]
    },
    {
     "name": "stderr",
     "output_type": "stream",
     "text": [
      "\r",
      " 45%|██████████████████████████████████████████████▎                                                         | 660/1482 [31:18<1:04:34,  4.71s/it]"
     ]
    },
    {
     "name": "stdout",
     "output_type": "stream",
     "text": [
      "Image download: ../Datav2/exports/ndvi/1348f32a-510f-4ad3-971f-b75b9cf9f0c0_ndvi_bw.tif (512, 512)\n",
      "Image download: ../Datav2/exports/tc/2ec4e814-477b-47e7-a36b-4da26f94e277_tc.tif (512, 512)\n"
     ]
    },
    {
     "name": "stderr",
     "output_type": "stream",
     "text": [
      "\r",
      " 45%|██████████████████████████████████████████████▍                                                         | 661/1482 [31:23<1:05:14,  4.77s/it]"
     ]
    },
    {
     "name": "stdout",
     "output_type": "stream",
     "text": [
      "Image download: ../Datav2/exports/ndvi/2ec4e814-477b-47e7-a36b-4da26f94e277_ndvi_bw.tif (512, 512)\n",
      "Image download: ../Datav2/exports/tc/13dedbc3-8b85-4f64-b3db-89ed81ed4f1d_tc.tif (512, 512)\n"
     ]
    },
    {
     "name": "stderr",
     "output_type": "stream",
     "text": [
      "\r",
      " 45%|██████████████████████████████████████████████▍                                                         | 662/1482 [31:27<1:00:56,  4.46s/it]"
     ]
    },
    {
     "name": "stdout",
     "output_type": "stream",
     "text": [
      "Image download: ../Datav2/exports/ndvi/13dedbc3-8b85-4f64-b3db-89ed81ed4f1d_ndvi_bw.tif (512, 512)\n",
      "Image download: ../Datav2/exports/tc/95cd2f17-1278-4cc9-90f4-000e4eba415a_tc.tif (512, 512)\n"
     ]
    },
    {
     "name": "stderr",
     "output_type": "stream",
     "text": [
      "\r",
      " 45%|██████████████████████████████████████████████▌                                                         | 663/1482 [31:31<1:00:12,  4.41s/it]"
     ]
    },
    {
     "name": "stdout",
     "output_type": "stream",
     "text": [
      "Image download: ../Datav2/exports/ndvi/95cd2f17-1278-4cc9-90f4-000e4eba415a_ndvi_bw.tif (512, 512)\n",
      "Image download: ../Datav2/exports/tc/9feb25c4-d3ae-4f78-9fc9-a1ad2b308e42_tc.tif (512, 512)\n"
     ]
    },
    {
     "name": "stderr",
     "output_type": "stream",
     "text": [
      "\r",
      " 45%|██████████████████████████████████████████████▌                                                         | 664/1482 [31:38<1:10:15,  5.15s/it]"
     ]
    },
    {
     "name": "stdout",
     "output_type": "stream",
     "text": [
      "Image download: ../Datav2/exports/ndvi/9feb25c4-d3ae-4f78-9fc9-a1ad2b308e42_ndvi_bw.tif (512, 512)\n",
      "Image download: ../Datav2/exports/tc/7f742021-ea49-4de5-89a2-f5b9d05d6bbb_tc.tif (512, 512)\n"
     ]
    },
    {
     "name": "stderr",
     "output_type": "stream",
     "text": [
      "\r",
      " 45%|██████████████████████████████████████████████▋                                                         | 665/1482 [31:43<1:08:29,  5.03s/it]"
     ]
    },
    {
     "name": "stdout",
     "output_type": "stream",
     "text": [
      "Image download: ../Datav2/exports/ndvi/7f742021-ea49-4de5-89a2-f5b9d05d6bbb_ndvi_bw.tif (512, 512)\n",
      "Image download: ../Datav2/exports/tc/2f9f1bf9-6188-46a2-b91f-f212cdd21528_tc.tif (512, 512)\n"
     ]
    },
    {
     "name": "stderr",
     "output_type": "stream",
     "text": [
      "\r",
      " 45%|██████████████████████████████████████████████▋                                                         | 666/1482 [31:48<1:10:21,  5.17s/it]"
     ]
    },
    {
     "name": "stdout",
     "output_type": "stream",
     "text": [
      "Image download: ../Datav2/exports/ndvi/2f9f1bf9-6188-46a2-b91f-f212cdd21528_ndvi_bw.tif (512, 512)\n",
      "Image download: ../Datav2/exports/tc/f44aec62-5d1d-422f-9ff9-dbef80e4e27f_tc.tif (512, 512)\n"
     ]
    },
    {
     "name": "stderr",
     "output_type": "stream",
     "text": [
      "\r",
      " 45%|██████████████████████████████████████████████▊                                                         | 667/1482 [31:53<1:07:47,  4.99s/it]"
     ]
    },
    {
     "name": "stdout",
     "output_type": "stream",
     "text": [
      "Image download: ../Datav2/exports/ndvi/f44aec62-5d1d-422f-9ff9-dbef80e4e27f_ndvi_bw.tif (512, 512)\n",
      "Image download: ../Datav2/exports/tc/0726d9f7-2baa-4652-b1d6-cbab45783f64_tc.tif (512, 512)\n"
     ]
    },
    {
     "name": "stderr",
     "output_type": "stream",
     "text": [
      "\r",
      " 45%|██████████████████████████████████████████████▉                                                         | 668/1482 [31:57<1:04:45,  4.77s/it]"
     ]
    },
    {
     "name": "stdout",
     "output_type": "stream",
     "text": [
      "Image download: ../Datav2/exports/ndvi/0726d9f7-2baa-4652-b1d6-cbab45783f64_ndvi_bw.tif (512, 512)\n",
      "Image download: ../Datav2/exports/tc/f568b94d-f388-4231-8aac-ac2572ca872d_tc.tif (512, 512)\n"
     ]
    },
    {
     "name": "stderr",
     "output_type": "stream",
     "text": [
      "\r",
      " 45%|██████████████████████████████████████████████▉                                                         | 669/1482 [32:04<1:11:46,  5.30s/it]"
     ]
    },
    {
     "name": "stdout",
     "output_type": "stream",
     "text": [
      "Image download: ../Datav2/exports/ndvi/f568b94d-f388-4231-8aac-ac2572ca872d_ndvi_bw.tif (512, 512)\n",
      "Image download: ../Datav2/exports/tc/1ba1f29a-5281-4f53-857d-106ae5e7db84_tc.tif (512, 512)\n"
     ]
    },
    {
     "name": "stderr",
     "output_type": "stream",
     "text": [
      "\r",
      " 45%|███████████████████████████████████████████████                                                         | 670/1482 [32:08<1:08:38,  5.07s/it]"
     ]
    },
    {
     "name": "stdout",
     "output_type": "stream",
     "text": [
      "Image download: ../Datav2/exports/ndvi/1ba1f29a-5281-4f53-857d-106ae5e7db84_ndvi_bw.tif (512, 512)\n",
      "Image download: ../Datav2/exports/tc/a26038b9-df04-4ade-b918-0c4fb9a8dbcf_tc.tif (512, 512)\n"
     ]
    },
    {
     "name": "stderr",
     "output_type": "stream",
     "text": [
      "\r",
      " 45%|███████████████████████████████████████████████                                                         | 671/1482 [32:13<1:07:14,  4.98s/it]"
     ]
    },
    {
     "name": "stdout",
     "output_type": "stream",
     "text": [
      "Image download: ../Datav2/exports/ndvi/a26038b9-df04-4ade-b918-0c4fb9a8dbcf_ndvi_bw.tif (512, 512)\n",
      "Image download: ../Datav2/exports/tc/80844950-65c8-44ec-b63a-7e51412fea0c_tc.tif (512, 512)\n"
     ]
    },
    {
     "name": "stderr",
     "output_type": "stream",
     "text": [
      "\r",
      " 45%|███████████████████████████████████████████████▏                                                        | 672/1482 [32:18<1:06:06,  4.90s/it]"
     ]
    },
    {
     "name": "stdout",
     "output_type": "stream",
     "text": [
      "Image download: ../Datav2/exports/ndvi/80844950-65c8-44ec-b63a-7e51412fea0c_ndvi_bw.tif (512, 512)\n",
      "Image download: ../Datav2/exports/tc/27759042-9df3-4d57-951e-f5727bcf013f_tc.tif (512, 512)\n"
     ]
    },
    {
     "name": "stderr",
     "output_type": "stream",
     "text": [
      "\r",
      " 45%|███████████████████████████████████████████████▏                                                        | 673/1482 [32:24<1:12:07,  5.35s/it]"
     ]
    },
    {
     "name": "stdout",
     "output_type": "stream",
     "text": [
      "Image download: ../Datav2/exports/ndvi/27759042-9df3-4d57-951e-f5727bcf013f_ndvi_bw.tif (512, 512)\n",
      "Image download: ../Datav2/exports/tc/3c61a039-cf71-40da-89e9-bcc5a62e2c1a_tc.tif (512, 512)\n"
     ]
    },
    {
     "name": "stderr",
     "output_type": "stream",
     "text": [
      "\r",
      " 45%|███████████████████████████████████████████████▎                                                        | 674/1482 [32:29<1:09:10,  5.14s/it]"
     ]
    },
    {
     "name": "stdout",
     "output_type": "stream",
     "text": [
      "Image download: ../Datav2/exports/ndvi/3c61a039-cf71-40da-89e9-bcc5a62e2c1a_ndvi_bw.tif (512, 512)\n",
      "Image download: ../Datav2/exports/tc/244961af-65d5-472b-972f-e02df96e9ccb_tc.tif (512, 512)\n"
     ]
    },
    {
     "name": "stderr",
     "output_type": "stream",
     "text": [
      "\r",
      " 46%|███████████████████████████████████████████████▎                                                        | 675/1482 [32:33<1:04:34,  4.80s/it]"
     ]
    },
    {
     "name": "stdout",
     "output_type": "stream",
     "text": [
      "Image download: ../Datav2/exports/ndvi/244961af-65d5-472b-972f-e02df96e9ccb_ndvi_bw.tif (512, 512)\n",
      "Image download: ../Datav2/exports/tc/7a317400-8838-4fd4-8c2f-b8c12add5d6a_tc.tif (512, 512)\n"
     ]
    },
    {
     "name": "stderr",
     "output_type": "stream",
     "text": [
      "\r",
      " 46%|███████████████████████████████████████████████▍                                                        | 676/1482 [32:37<1:01:50,  4.60s/it]"
     ]
    },
    {
     "name": "stdout",
     "output_type": "stream",
     "text": [
      "Image download: ../Datav2/exports/ndvi/7a317400-8838-4fd4-8c2f-b8c12add5d6a_ndvi_bw.tif (512, 512)\n",
      "Image download: ../Datav2/exports/tc/1eef0c21-122b-4522-80d1-edf08c82c777_tc.tif (512, 512)\n"
     ]
    },
    {
     "name": "stderr",
     "output_type": "stream",
     "text": [
      "\r",
      " 46%|███████████████████████████████████████████████▌                                                        | 677/1482 [32:47<1:25:55,  6.40s/it]"
     ]
    },
    {
     "name": "stdout",
     "output_type": "stream",
     "text": [
      "Image download: ../Datav2/exports/ndvi/1eef0c21-122b-4522-80d1-edf08c82c777_ndvi_bw.tif (512, 512)\n",
      "Image download: ../Datav2/exports/tc/be5275b7-1472-4423-a9c8-0f2491179150_tc.tif (512, 512)\n"
     ]
    },
    {
     "name": "stderr",
     "output_type": "stream",
     "text": [
      "\r",
      " 46%|███████████████████████████████████████████████▌                                                        | 678/1482 [32:52<1:19:40,  5.95s/it]"
     ]
    },
    {
     "name": "stdout",
     "output_type": "stream",
     "text": [
      "Image download: ../Datav2/exports/ndvi/be5275b7-1472-4423-a9c8-0f2491179150_ndvi_bw.tif (512, 512)\n",
      "Image download: ../Datav2/exports/tc/510c877d-b80b-423f-b7e0-4276ce646f4a_tc.tif (512, 512)\n"
     ]
    },
    {
     "name": "stderr",
     "output_type": "stream",
     "text": [
      "\r",
      " 46%|███████████████████████████████████████████████▋                                                        | 679/1482 [32:57<1:13:47,  5.51s/it]"
     ]
    },
    {
     "name": "stdout",
     "output_type": "stream",
     "text": [
      "Image download: ../Datav2/exports/ndvi/510c877d-b80b-423f-b7e0-4276ce646f4a_ndvi_bw.tif (512, 512)\n",
      "Image download: ../Datav2/exports/tc/47c9e99d-ad11-497f-8238-cfd815423262_tc.tif (512, 512)\n"
     ]
    },
    {
     "name": "stderr",
     "output_type": "stream",
     "text": [
      "\r",
      " 46%|███████████████████████████████████████████████▋                                                        | 680/1482 [33:01<1:10:31,  5.28s/it]"
     ]
    },
    {
     "name": "stdout",
     "output_type": "stream",
     "text": [
      "Image download: ../Datav2/exports/ndvi/47c9e99d-ad11-497f-8238-cfd815423262_ndvi_bw.tif (512, 512)\n",
      "Image download: ../Datav2/exports/tc/7dd19215-986b-4365-a40d-2267b4a05de0_tc.tif (512, 512)\n"
     ]
    },
    {
     "name": "stderr",
     "output_type": "stream",
     "text": [
      "\r",
      " 46%|███████████████████████████████████████████████▊                                                        | 681/1482 [33:06<1:06:33,  4.99s/it]"
     ]
    },
    {
     "name": "stdout",
     "output_type": "stream",
     "text": [
      "Image download: ../Datav2/exports/ndvi/7dd19215-986b-4365-a40d-2267b4a05de0_ndvi_bw.tif (512, 512)\n",
      "Image download: ../Datav2/exports/tc/0d93e84b-8460-4d5d-946c-630ade76747d_tc.tif (512, 512)\n"
     ]
    },
    {
     "name": "stderr",
     "output_type": "stream",
     "text": [
      "\r",
      " 46%|███████████████████████████████████████████████▊                                                        | 682/1482 [33:12<1:11:41,  5.38s/it]"
     ]
    },
    {
     "name": "stdout",
     "output_type": "stream",
     "text": [
      "Image download: ../Datav2/exports/ndvi/0d93e84b-8460-4d5d-946c-630ade76747d_ndvi_bw.tif (512, 512)\n",
      "Image download: ../Datav2/exports/tc/d9f83833-30c4-448d-b2ca-c5a63791b83d_tc.tif (512, 512)\n"
     ]
    },
    {
     "name": "stderr",
     "output_type": "stream",
     "text": [
      "\r",
      " 46%|███████████████████████████████████████████████▉                                                        | 683/1482 [33:16<1:07:06,  5.04s/it]"
     ]
    },
    {
     "name": "stdout",
     "output_type": "stream",
     "text": [
      "Image download: ../Datav2/exports/ndvi/d9f83833-30c4-448d-b2ca-c5a63791b83d_ndvi_bw.tif (512, 512)\n",
      "Image download: ../Datav2/exports/tc/84c8a735-9e8f-4310-84ab-39079ad1ea14_tc.tif (512, 512)\n"
     ]
    },
    {
     "name": "stderr",
     "output_type": "stream",
     "text": [
      "\r",
      " 46%|████████████████████████████████████████████████                                                        | 684/1482 [33:21<1:07:02,  5.04s/it]"
     ]
    },
    {
     "name": "stdout",
     "output_type": "stream",
     "text": [
      "Image download: ../Datav2/exports/ndvi/84c8a735-9e8f-4310-84ab-39079ad1ea14_ndvi_bw.tif (512, 512)\n",
      "Image download: ../Datav2/exports/tc/918e4e6c-7814-42ed-9cd5-aa11d29367da_tc.tif (512, 512)\n"
     ]
    },
    {
     "name": "stderr",
     "output_type": "stream",
     "text": [
      "\r",
      " 46%|████████████████████████████████████████████████                                                        | 685/1482 [33:27<1:07:27,  5.08s/it]"
     ]
    },
    {
     "name": "stdout",
     "output_type": "stream",
     "text": [
      "Image download: ../Datav2/exports/ndvi/918e4e6c-7814-42ed-9cd5-aa11d29367da_ndvi_bw.tif (512, 512)\n",
      "Image download: ../Datav2/exports/tc/a441e39a-1be1-4be5-8c07-b32bc6f07df0_tc.tif (512, 512)\n"
     ]
    },
    {
     "name": "stderr",
     "output_type": "stream",
     "text": [
      "\r",
      " 46%|████████████████████████████████████████████████▏                                                       | 686/1482 [33:31<1:04:54,  4.89s/it]"
     ]
    },
    {
     "name": "stdout",
     "output_type": "stream",
     "text": [
      "Image download: ../Datav2/exports/ndvi/a441e39a-1be1-4be5-8c07-b32bc6f07df0_ndvi_bw.tif (512, 512)\n",
      "Image download: ../Datav2/exports/tc/42f93f6b-0ada-4267-8e6e-4674055ed9c8_tc.tif (512, 512)\n"
     ]
    },
    {
     "name": "stderr",
     "output_type": "stream",
     "text": [
      "\r",
      " 46%|████████████████████████████████████████████████▏                                                       | 687/1482 [33:35<1:01:26,  4.64s/it]"
     ]
    },
    {
     "name": "stdout",
     "output_type": "stream",
     "text": [
      "Image download: ../Datav2/exports/ndvi/42f93f6b-0ada-4267-8e6e-4674055ed9c8_ndvi_bw.tif (512, 512)\n",
      "Image download: ../Datav2/exports/tc/1d8a8aaf-f294-46e1-8224-6ea3e8c39634_tc.tif (512, 512)\n"
     ]
    },
    {
     "name": "stderr",
     "output_type": "stream",
     "text": [
      "\r",
      " 46%|████████████████████████████████████████████████▎                                                       | 688/1482 [33:40<1:04:17,  4.86s/it]"
     ]
    },
    {
     "name": "stdout",
     "output_type": "stream",
     "text": [
      "Image download: ../Datav2/exports/ndvi/1d8a8aaf-f294-46e1-8224-6ea3e8c39634_ndvi_bw.tif (512, 512)\n",
      "Image download: ../Datav2/exports/tc/e8ebb6f2-16f5-4342-bce1-d36ff9c9422c_tc.tif (512, 512)\n"
     ]
    },
    {
     "name": "stderr",
     "output_type": "stream",
     "text": [
      "\r",
      " 46%|████████████████████████████████████████████████▎                                                       | 689/1482 [33:46<1:09:02,  5.22s/it]"
     ]
    },
    {
     "name": "stdout",
     "output_type": "stream",
     "text": [
      "Image download: ../Datav2/exports/ndvi/e8ebb6f2-16f5-4342-bce1-d36ff9c9422c_ndvi_bw.tif (512, 512)\n",
      "Image download: ../Datav2/exports/tc/907cd7cd-cc26-4529-a9f8-cee1e1560086_tc.tif (512, 512)\n"
     ]
    },
    {
     "name": "stderr",
     "output_type": "stream",
     "text": [
      "\r",
      " 47%|████████████████████████████████████████████████▍                                                       | 690/1482 [33:52<1:09:26,  5.26s/it]"
     ]
    },
    {
     "name": "stdout",
     "output_type": "stream",
     "text": [
      "Image download: ../Datav2/exports/ndvi/907cd7cd-cc26-4529-a9f8-cee1e1560086_ndvi_bw.tif (512, 512)\n",
      "Image download: ../Datav2/exports/tc/ebcee501-5709-4382-8eab-d8595ba6606d_tc.tif (512, 512)\n"
     ]
    },
    {
     "name": "stderr",
     "output_type": "stream",
     "text": [
      "\r",
      " 47%|████████████████████████████████████████████████▍                                                       | 691/1482 [33:56<1:06:28,  5.04s/it]"
     ]
    },
    {
     "name": "stdout",
     "output_type": "stream",
     "text": [
      "Image download: ../Datav2/exports/ndvi/ebcee501-5709-4382-8eab-d8595ba6606d_ndvi_bw.tif (512, 512)\n",
      "Image download: ../Datav2/exports/tc/5948001c-9c7b-4722-9fa4-9f0323886bc0_tc.tif (512, 512)\n"
     ]
    },
    {
     "name": "stderr",
     "output_type": "stream",
     "text": [
      "\r",
      " 47%|████████████████████████████████████████████████▌                                                       | 692/1482 [34:01<1:06:06,  5.02s/it]"
     ]
    },
    {
     "name": "stdout",
     "output_type": "stream",
     "text": [
      "Image download: ../Datav2/exports/ndvi/5948001c-9c7b-4722-9fa4-9f0323886bc0_ndvi_bw.tif (512, 512)\n",
      "Image download: ../Datav2/exports/tc/855e28e2-753b-4c36-bf39-27ace518776d_tc.tif (512, 512)\n"
     ]
    },
    {
     "name": "stderr",
     "output_type": "stream",
     "text": [
      "\r",
      " 47%|████████████████████████████████████████████████▋                                                       | 693/1482 [34:06<1:04:03,  4.87s/it]"
     ]
    },
    {
     "name": "stdout",
     "output_type": "stream",
     "text": [
      "Image download: ../Datav2/exports/ndvi/855e28e2-753b-4c36-bf39-27ace518776d_ndvi_bw.tif (512, 512)\n",
      "Image download: ../Datav2/exports/tc/2fd950a8-fadb-467c-ab59-88e7ea007738_tc.tif (512, 512)\n"
     ]
    },
    {
     "name": "stderr",
     "output_type": "stream",
     "text": [
      "\r",
      " 47%|████████████████████████████████████████████████▋                                                       | 694/1482 [34:13<1:13:57,  5.63s/it]"
     ]
    },
    {
     "name": "stdout",
     "output_type": "stream",
     "text": [
      "Image download: ../Datav2/exports/ndvi/2fd950a8-fadb-467c-ab59-88e7ea007738_ndvi_bw.tif (512, 512)\n",
      "Image download: ../Datav2/exports/tc/8cf9e7dc-74b9-4b97-9a03-f523f3eff56f_tc.tif (512, 512)\n"
     ]
    },
    {
     "name": "stderr",
     "output_type": "stream",
     "text": [
      "\r",
      " 47%|████████████████████████████████████████████████▊                                                       | 695/1482 [34:24<1:35:08,  7.25s/it]"
     ]
    },
    {
     "name": "stdout",
     "output_type": "stream",
     "text": [
      "Image download: ../Datav2/exports/ndvi/8cf9e7dc-74b9-4b97-9a03-f523f3eff56f_ndvi_bw.tif (512, 512)\n",
      "Image download: ../Datav2/exports/tc/51bf0e2a-7f1f-4fe1-aeaa-70510ad42d0e_tc.tif (512, 512)\n"
     ]
    },
    {
     "name": "stderr",
     "output_type": "stream",
     "text": [
      "\r",
      " 47%|████████████████████████████████████████████████▊                                                       | 696/1482 [34:29<1:26:23,  6.60s/it]"
     ]
    },
    {
     "name": "stdout",
     "output_type": "stream",
     "text": [
      "Image download: ../Datav2/exports/ndvi/51bf0e2a-7f1f-4fe1-aeaa-70510ad42d0e_ndvi_bw.tif (512, 512)\n",
      "Image download: ../Datav2/exports/tc/7b95ce91-9581-4fe6-887d-ab1bf6420205_tc.tif (512, 512)\n"
     ]
    },
    {
     "name": "stderr",
     "output_type": "stream",
     "text": [
      "\r",
      " 47%|████████████████████████████████████████████████▉                                                       | 697/1482 [34:35<1:21:25,  6.22s/it]"
     ]
    },
    {
     "name": "stdout",
     "output_type": "stream",
     "text": [
      "Image download: ../Datav2/exports/ndvi/7b95ce91-9581-4fe6-887d-ab1bf6420205_ndvi_bw.tif (512, 512)\n",
      "Image download: ../Datav2/exports/tc/77ab4672-c61f-488f-a165-acb40eeac713_tc.tif (512, 512)\n"
     ]
    },
    {
     "name": "stderr",
     "output_type": "stream",
     "text": [
      "\r",
      " 47%|████████████████████████████████████████████████▉                                                       | 698/1482 [34:39<1:15:43,  5.80s/it]"
     ]
    },
    {
     "name": "stdout",
     "output_type": "stream",
     "text": [
      "Image download: ../Datav2/exports/ndvi/77ab4672-c61f-488f-a165-acb40eeac713_ndvi_bw.tif (512, 512)\n",
      "Image download: ../Datav2/exports/tc/a3bd6249-555a-4ee1-99c0-69333d71bdfb_tc.tif (512, 512)\n"
     ]
    },
    {
     "name": "stderr",
     "output_type": "stream",
     "text": [
      "\r",
      " 47%|█████████████████████████████████████████████████                                                       | 699/1482 [34:44<1:11:08,  5.45s/it]"
     ]
    },
    {
     "name": "stdout",
     "output_type": "stream",
     "text": [
      "Image download: ../Datav2/exports/ndvi/a3bd6249-555a-4ee1-99c0-69333d71bdfb_ndvi_bw.tif (512, 512)\n",
      "Image download: ../Datav2/exports/tc/ce6fb2ba-9799-4b36-a64f-8bf02392d6ee_tc.tif (512, 512)\n"
     ]
    },
    {
     "name": "stderr",
     "output_type": "stream",
     "text": [
      "\r",
      " 47%|█████████████████████████████████████████████████                                                       | 700/1482 [34:50<1:11:07,  5.46s/it]"
     ]
    },
    {
     "name": "stdout",
     "output_type": "stream",
     "text": [
      "Image download: ../Datav2/exports/ndvi/ce6fb2ba-9799-4b36-a64f-8bf02392d6ee_ndvi_bw.tif (512, 512)\n",
      "Image download: ../Datav2/exports/tc/ee20b421-06cd-40d2-a22c-0f9e8ddeee71_tc.tif (512, 512)\n"
     ]
    },
    {
     "name": "stderr",
     "output_type": "stream",
     "text": [
      "\r",
      " 47%|█████████████████████████████████████████████████▏                                                      | 701/1482 [34:54<1:06:03,  5.08s/it]"
     ]
    },
    {
     "name": "stdout",
     "output_type": "stream",
     "text": [
      "Image download: ../Datav2/exports/ndvi/ee20b421-06cd-40d2-a22c-0f9e8ddeee71_ndvi_bw.tif (512, 512)\n",
      "Image download: ../Datav2/exports/tc/51e42770-97b4-4204-af57-8ab56992eb71_tc.tif (512, 512)\n"
     ]
    },
    {
     "name": "stderr",
     "output_type": "stream",
     "text": [
      "\r",
      " 47%|█████████████████████████████████████████████████▎                                                      | 702/1482 [35:01<1:15:37,  5.82s/it]"
     ]
    },
    {
     "name": "stdout",
     "output_type": "stream",
     "text": [
      "Image download: ../Datav2/exports/ndvi/51e42770-97b4-4204-af57-8ab56992eb71_ndvi_bw.tif (512, 512)\n",
      "Image download: ../Datav2/exports/tc/e9862c12-da9f-4205-9993-91a3b1437de4_tc.tif (512, 512)\n"
     ]
    },
    {
     "name": "stderr",
     "output_type": "stream",
     "text": [
      "\r",
      " 47%|█████████████████████████████████████████████████▎                                                      | 703/1482 [35:08<1:19:46,  6.14s/it]"
     ]
    },
    {
     "name": "stdout",
     "output_type": "stream",
     "text": [
      "Image download: ../Datav2/exports/ndvi/e9862c12-da9f-4205-9993-91a3b1437de4_ndvi_bw.tif (512, 512)\n",
      "Image download: ../Datav2/exports/tc/00a13d84-415e-4106-aa31-2e664ed9eabf_tc.tif (512, 512)\n"
     ]
    },
    {
     "name": "stderr",
     "output_type": "stream",
     "text": [
      "\r",
      " 48%|█████████████████████████████████████████████████▍                                                      | 704/1482 [35:13<1:14:52,  5.77s/it]"
     ]
    },
    {
     "name": "stdout",
     "output_type": "stream",
     "text": [
      "Image download: ../Datav2/exports/ndvi/00a13d84-415e-4106-aa31-2e664ed9eabf_ndvi_bw.tif (512, 512)\n",
      "Image download: ../Datav2/exports/tc/a95302d3-8574-4900-9d2a-daa33c55b70e_tc.tif (512, 512)\n"
     ]
    },
    {
     "name": "stderr",
     "output_type": "stream",
     "text": [
      "\r",
      " 48%|█████████████████████████████████████████████████▍                                                      | 705/1482 [35:21<1:21:12,  6.27s/it]"
     ]
    },
    {
     "name": "stdout",
     "output_type": "stream",
     "text": [
      "Image download: ../Datav2/exports/ndvi/a95302d3-8574-4900-9d2a-daa33c55b70e_ndvi_bw.tif (512, 512)\n",
      "Image download: ../Datav2/exports/tc/fd0a69a3-91d5-422b-bab4-dc6a4b0de134_tc.tif (512, 512)\n"
     ]
    },
    {
     "name": "stderr",
     "output_type": "stream",
     "text": [
      "\r",
      " 48%|█████████████████████████████████████████████████▌                                                      | 706/1482 [35:25<1:14:55,  5.79s/it]"
     ]
    },
    {
     "name": "stdout",
     "output_type": "stream",
     "text": [
      "Image download: ../Datav2/exports/ndvi/fd0a69a3-91d5-422b-bab4-dc6a4b0de134_ndvi_bw.tif (512, 512)\n",
      "Image download: ../Datav2/exports/tc/0f4499f5-846c-4791-994e-81df04fe691a_tc.tif (512, 512)\n"
     ]
    },
    {
     "name": "stderr",
     "output_type": "stream",
     "text": [
      "\r",
      " 48%|█████████████████████████████████████████████████▌                                                      | 707/1482 [35:33<1:23:05,  6.43s/it]"
     ]
    },
    {
     "name": "stdout",
     "output_type": "stream",
     "text": [
      "Image download: ../Datav2/exports/ndvi/0f4499f5-846c-4791-994e-81df04fe691a_ndvi_bw.tif (512, 512)\n",
      "Image download: ../Datav2/exports/tc/1f8c73d1-2cb8-4e98-bd44-d6dccd601c7e_tc.tif (512, 512)\n"
     ]
    },
    {
     "name": "stderr",
     "output_type": "stream",
     "text": [
      "\r",
      " 48%|█████████████████████████████████████████████████▋                                                      | 708/1482 [35:40<1:24:21,  6.54s/it]"
     ]
    },
    {
     "name": "stdout",
     "output_type": "stream",
     "text": [
      "Image download: ../Datav2/exports/ndvi/1f8c73d1-2cb8-4e98-bd44-d6dccd601c7e_ndvi_bw.tif (512, 512)\n",
      "Image download: ../Datav2/exports/tc/eff9d678-293f-43aa-96af-c5cf3203b31f_tc.tif (512, 512)\n"
     ]
    },
    {
     "name": "stderr",
     "output_type": "stream",
     "text": [
      "\r",
      " 48%|█████████████████████████████████████████████████▊                                                      | 709/1482 [35:46<1:21:14,  6.31s/it]"
     ]
    },
    {
     "name": "stdout",
     "output_type": "stream",
     "text": [
      "Image download: ../Datav2/exports/ndvi/eff9d678-293f-43aa-96af-c5cf3203b31f_ndvi_bw.tif (512, 512)\n",
      "Image download: ../Datav2/exports/tc/68328f20-5aed-404d-8c29-81b4b69e8439_tc.tif (512, 512)\n"
     ]
    },
    {
     "name": "stderr",
     "output_type": "stream",
     "text": [
      "\r",
      " 48%|█████████████████████████████████████████████████▊                                                      | 710/1482 [35:51<1:18:22,  6.09s/it]"
     ]
    },
    {
     "name": "stdout",
     "output_type": "stream",
     "text": [
      "Image download: ../Datav2/exports/ndvi/68328f20-5aed-404d-8c29-81b4b69e8439_ndvi_bw.tif (512, 512)\n",
      "Image download: ../Datav2/exports/tc/3dcf54bc-89f5-41b3-b797-5dcdf0e629e8_tc.tif (512, 512)\n"
     ]
    },
    {
     "name": "stderr",
     "output_type": "stream",
     "text": [
      "\r",
      " 48%|█████████████████████████████████████████████████▉                                                      | 711/1482 [35:56<1:13:03,  5.69s/it]"
     ]
    },
    {
     "name": "stdout",
     "output_type": "stream",
     "text": [
      "Image download: ../Datav2/exports/ndvi/3dcf54bc-89f5-41b3-b797-5dcdf0e629e8_ndvi_bw.tif (512, 512)\n",
      "Image download: ../Datav2/exports/tc/32a79e9b-8ce3-477e-b698-2eb16ef66aac_tc.tif (512, 512)\n"
     ]
    },
    {
     "name": "stderr",
     "output_type": "stream",
     "text": [
      "\r",
      " 48%|█████████████████████████████████████████████████▉                                                      | 712/1482 [36:00<1:07:42,  5.28s/it]"
     ]
    },
    {
     "name": "stdout",
     "output_type": "stream",
     "text": [
      "Image download: ../Datav2/exports/ndvi/32a79e9b-8ce3-477e-b698-2eb16ef66aac_ndvi_bw.tif (512, 512)\n",
      "Image download: ../Datav2/exports/tc/75fb489f-1e3e-4929-a6fb-a288416b96e0_tc.tif (512, 512)\n"
     ]
    },
    {
     "name": "stderr",
     "output_type": "stream",
     "text": [
      "\r",
      " 48%|██████████████████████████████████████████████████                                                      | 713/1482 [36:06<1:07:49,  5.29s/it]"
     ]
    },
    {
     "name": "stdout",
     "output_type": "stream",
     "text": [
      "Image download: ../Datav2/exports/ndvi/75fb489f-1e3e-4929-a6fb-a288416b96e0_ndvi_bw.tif (512, 512)\n",
      "Image download: ../Datav2/exports/tc/2995e2b3-f18d-44ec-952f-9f148b8354d9_tc.tif (512, 512)\n"
     ]
    },
    {
     "name": "stderr",
     "output_type": "stream",
     "text": [
      "\r",
      " 48%|██████████████████████████████████████████████████                                                      | 714/1482 [36:10<1:03:04,  4.93s/it]"
     ]
    },
    {
     "name": "stdout",
     "output_type": "stream",
     "text": [
      "Image download: ../Datav2/exports/ndvi/2995e2b3-f18d-44ec-952f-9f148b8354d9_ndvi_bw.tif (512, 512)\n",
      "Image download: ../Datav2/exports/tc/82689e99-9158-4403-b8c5-bababc3c81f6_tc.tif (512, 512)\n"
     ]
    },
    {
     "name": "stderr",
     "output_type": "stream",
     "text": [
      "\r",
      " 48%|██████████████████████████████████████████████████▏                                                     | 715/1482 [36:15<1:02:59,  4.93s/it]"
     ]
    },
    {
     "name": "stdout",
     "output_type": "stream",
     "text": [
      "Image download: ../Datav2/exports/ndvi/82689e99-9158-4403-b8c5-bababc3c81f6_ndvi_bw.tif (512, 512)\n",
      "Image download: ../Datav2/exports/tc/09f55a45-f261-492f-b496-8744d878ef57_tc.tif (512, 512)\n"
     ]
    },
    {
     "name": "stderr",
     "output_type": "stream",
     "text": [
      "\r",
      " 48%|██████████████████████████████████████████████████▏                                                     | 716/1482 [36:21<1:07:40,  5.30s/it]"
     ]
    },
    {
     "name": "stdout",
     "output_type": "stream",
     "text": [
      "Image download: ../Datav2/exports/ndvi/09f55a45-f261-492f-b496-8744d878ef57_ndvi_bw.tif (512, 512)\n",
      "Image download: ../Datav2/exports/tc/5367822f-b489-4da5-b90e-c5b2c8abf318_tc.tif (512, 512)\n"
     ]
    },
    {
     "name": "stderr",
     "output_type": "stream",
     "text": [
      "\r",
      " 48%|██████████████████████████████████████████████████▎                                                     | 717/1482 [36:25<1:04:35,  5.07s/it]"
     ]
    },
    {
     "name": "stdout",
     "output_type": "stream",
     "text": [
      "Image download: ../Datav2/exports/ndvi/5367822f-b489-4da5-b90e-c5b2c8abf318_ndvi_bw.tif (512, 512)\n",
      "Image download: ../Datav2/exports/tc/a1554868-0f98-41d4-9132-1f0bbf10b22c_tc.tif (512, 512)\n"
     ]
    },
    {
     "name": "stderr",
     "output_type": "stream",
     "text": [
      "\r",
      " 48%|██████████████████████████████████████████████████▍                                                     | 718/1482 [36:32<1:11:21,  5.60s/it]"
     ]
    },
    {
     "name": "stdout",
     "output_type": "stream",
     "text": [
      "Image download: ../Datav2/exports/ndvi/a1554868-0f98-41d4-9132-1f0bbf10b22c_ndvi_bw.tif (512, 512)\n",
      "Image download: ../Datav2/exports/tc/47dd7f12-4141-473e-b2c1-2e625df3b784_tc.tif (512, 512)\n"
     ]
    },
    {
     "name": "stderr",
     "output_type": "stream",
     "text": [
      "\r",
      " 49%|██████████████████████████████████████████████████▍                                                     | 719/1482 [36:38<1:12:02,  5.67s/it]"
     ]
    },
    {
     "name": "stdout",
     "output_type": "stream",
     "text": [
      "Image download: ../Datav2/exports/ndvi/47dd7f12-4141-473e-b2c1-2e625df3b784_ndvi_bw.tif (512, 512)\n",
      "Image download: ../Datav2/exports/tc/5ef75bbf-adba-424a-bef3-a5efed5b5e2c_tc.tif (512, 512)\n"
     ]
    },
    {
     "name": "stderr",
     "output_type": "stream",
     "text": [
      "\r",
      " 49%|██████████████████████████████████████████████████▌                                                     | 720/1482 [36:42<1:04:46,  5.10s/it]"
     ]
    },
    {
     "name": "stdout",
     "output_type": "stream",
     "text": [
      "Image download: ../Datav2/exports/ndvi/5ef75bbf-adba-424a-bef3-a5efed5b5e2c_ndvi_bw.tif (512, 512)\n",
      "Image download: ../Datav2/exports/tc/345f6faa-9946-418e-8a60-d5cb9efb3af4_tc.tif (512, 512)\n"
     ]
    },
    {
     "name": "stderr",
     "output_type": "stream",
     "text": [
      "\r",
      " 49%|██████████████████████████████████████████████████▌                                                     | 721/1482 [36:47<1:03:42,  5.02s/it]"
     ]
    },
    {
     "name": "stdout",
     "output_type": "stream",
     "text": [
      "Image download: ../Datav2/exports/ndvi/345f6faa-9946-418e-8a60-d5cb9efb3af4_ndvi_bw.tif (512, 512)\n",
      "Image download: ../Datav2/exports/tc/dd6c5dfb-e5f5-4c1b-ab7f-aa9f3a4f60fc_tc.tif (512, 512)\n"
     ]
    },
    {
     "name": "stderr",
     "output_type": "stream",
     "text": [
      "\r",
      " 49%|██████████████████████████████████████████████████▋                                                     | 722/1482 [36:51<1:01:04,  4.82s/it]"
     ]
    },
    {
     "name": "stdout",
     "output_type": "stream",
     "text": [
      "Image download: ../Datav2/exports/ndvi/dd6c5dfb-e5f5-4c1b-ab7f-aa9f3a4f60fc_ndvi_bw.tif (512, 512)\n",
      "Image download: ../Datav2/exports/tc/3e005fd9-11a4-4145-a71f-8a4cf9a1341a_tc.tif (512, 512)\n"
     ]
    },
    {
     "name": "stderr",
     "output_type": "stream",
     "text": [
      "\r",
      " 49%|██████████████████████████████████████████████████▋                                                     | 723/1482 [36:58<1:09:48,  5.52s/it]"
     ]
    },
    {
     "name": "stdout",
     "output_type": "stream",
     "text": [
      "Image download: ../Datav2/exports/ndvi/3e005fd9-11a4-4145-a71f-8a4cf9a1341a_ndvi_bw.tif (512, 512)\n",
      "Image download: ../Datav2/exports/tc/093bdb67-4c14-402d-a034-3714b7125c49_tc.tif (512, 512)\n"
     ]
    },
    {
     "name": "stderr",
     "output_type": "stream",
     "text": [
      "\r",
      " 49%|██████████████████████████████████████████████████▊                                                     | 724/1482 [37:04<1:11:17,  5.64s/it]"
     ]
    },
    {
     "name": "stdout",
     "output_type": "stream",
     "text": [
      "Image download: ../Datav2/exports/ndvi/093bdb67-4c14-402d-a034-3714b7125c49_ndvi_bw.tif (512, 512)\n",
      "Image download: ../Datav2/exports/tc/9705ad0d-5bf1-4221-a7c3-3af6d99be3d0_tc.tif (512, 512)\n"
     ]
    },
    {
     "name": "stderr",
     "output_type": "stream",
     "text": [
      "\r",
      " 49%|██████████████████████████████████████████████████▉                                                     | 725/1482 [37:13<1:21:48,  6.48s/it]"
     ]
    },
    {
     "name": "stdout",
     "output_type": "stream",
     "text": [
      "Image download: ../Datav2/exports/ndvi/9705ad0d-5bf1-4221-a7c3-3af6d99be3d0_ndvi_bw.tif (512, 512)\n",
      "Image download: ../Datav2/exports/tc/e1582691-805c-4627-b20b-e5e8ba110f20_tc.tif (512, 512)\n"
     ]
    },
    {
     "name": "stderr",
     "output_type": "stream",
     "text": [
      "\r",
      " 49%|██████████████████████████████████████████████████▉                                                     | 726/1482 [37:19<1:22:01,  6.51s/it]"
     ]
    },
    {
     "name": "stdout",
     "output_type": "stream",
     "text": [
      "Image download: ../Datav2/exports/ndvi/e1582691-805c-4627-b20b-e5e8ba110f20_ndvi_bw.tif (512, 512)\n",
      "Image download: ../Datav2/exports/tc/58d62aeb-29f5-45f5-93ac-a657b0708149_tc.tif (512, 512)\n"
     ]
    },
    {
     "name": "stderr",
     "output_type": "stream",
     "text": [
      "\r",
      " 49%|███████████████████████████████████████████████████                                                     | 727/1482 [37:27<1:25:21,  6.78s/it]"
     ]
    },
    {
     "name": "stdout",
     "output_type": "stream",
     "text": [
      "Image download: ../Datav2/exports/ndvi/58d62aeb-29f5-45f5-93ac-a657b0708149_ndvi_bw.tif (512, 512)\n",
      "Image download: ../Datav2/exports/tc/e4834d78-fd4a-44b4-8669-52cbdc41113d_tc.tif (512, 512)\n"
     ]
    },
    {
     "name": "stderr",
     "output_type": "stream",
     "text": [
      "\r",
      " 49%|███████████████████████████████████████████████████                                                     | 728/1482 [37:37<1:37:55,  7.79s/it]"
     ]
    },
    {
     "name": "stdout",
     "output_type": "stream",
     "text": [
      "Image download: ../Datav2/exports/ndvi/e4834d78-fd4a-44b4-8669-52cbdc41113d_ndvi_bw.tif (512, 512)\n",
      "Image download: ../Datav2/exports/tc/93fe220b-0458-4e26-827c-93883093681e_tc.tif (512, 512)\n"
     ]
    },
    {
     "name": "stderr",
     "output_type": "stream",
     "text": [
      "\r",
      " 49%|███████████████████████████████████████████████████▏                                                    | 729/1482 [37:46<1:43:56,  8.28s/it]"
     ]
    },
    {
     "name": "stdout",
     "output_type": "stream",
     "text": [
      "Image download: ../Datav2/exports/ndvi/93fe220b-0458-4e26-827c-93883093681e_ndvi_bw.tif (512, 512)\n",
      "Image download: ../Datav2/exports/tc/d3213d2a-4b10-4eef-b8df-bdebc5cd948f_tc.tif (512, 512)\n"
     ]
    },
    {
     "name": "stderr",
     "output_type": "stream",
     "text": [
      "\r",
      " 49%|███████████████████████████████████████████████████▏                                                    | 730/1482 [37:54<1:43:28,  8.26s/it]"
     ]
    },
    {
     "name": "stdout",
     "output_type": "stream",
     "text": [
      "Image download: ../Datav2/exports/ndvi/d3213d2a-4b10-4eef-b8df-bdebc5cd948f_ndvi_bw.tif (512, 512)\n",
      "Image download: ../Datav2/exports/tc/06664fe1-c56c-4a00-833c-f9f3f6d6d18f_tc.tif (512, 512)\n"
     ]
    },
    {
     "name": "stderr",
     "output_type": "stream",
     "text": [
      "\r",
      " 49%|███████████████████████████████████████████████████▎                                                    | 731/1482 [38:01<1:38:26,  7.86s/it]"
     ]
    },
    {
     "name": "stdout",
     "output_type": "stream",
     "text": [
      "Image download: ../Datav2/exports/ndvi/06664fe1-c56c-4a00-833c-f9f3f6d6d18f_ndvi_bw.tif (512, 512)\n",
      "Image download: ../Datav2/exports/tc/ab009bd1-6784-4fda-a931-532520742a8b_tc.tif (512, 512)\n"
     ]
    },
    {
     "name": "stderr",
     "output_type": "stream",
     "text": [
      "\r",
      " 49%|███████████████████████████████████████████████████▎                                                    | 732/1482 [38:06<1:27:07,  6.97s/it]"
     ]
    },
    {
     "name": "stdout",
     "output_type": "stream",
     "text": [
      "Image download: ../Datav2/exports/ndvi/ab009bd1-6784-4fda-a931-532520742a8b_ndvi_bw.tif (512, 512)\n",
      "Image download: ../Datav2/exports/tc/687e2987-2306-477b-bbaf-0d5465eb1e7c_tc.tif (512, 512)\n"
     ]
    },
    {
     "name": "stderr",
     "output_type": "stream",
     "text": [
      "\r",
      " 49%|███████████████████████████████████████████████████▍                                                    | 733/1482 [38:10<1:16:48,  6.15s/it]"
     ]
    },
    {
     "name": "stdout",
     "output_type": "stream",
     "text": [
      "Image download: ../Datav2/exports/ndvi/687e2987-2306-477b-bbaf-0d5465eb1e7c_ndvi_bw.tif (512, 512)\n",
      "Image download: ../Datav2/exports/tc/e65c3e0b-08d9-43cf-b1ac-8e57d5f407fc_tc.tif (512, 512)\n"
     ]
    },
    {
     "name": "stderr",
     "output_type": "stream",
     "text": [
      "\r",
      " 50%|███████████████████████████████████████████████████▌                                                    | 734/1482 [38:15<1:10:28,  5.65s/it]"
     ]
    },
    {
     "name": "stdout",
     "output_type": "stream",
     "text": [
      "Image download: ../Datav2/exports/ndvi/e65c3e0b-08d9-43cf-b1ac-8e57d5f407fc_ndvi_bw.tif (512, 512)\n",
      "Image download: ../Datav2/exports/tc/9eb07177-e62a-4f5a-adeb-e95508e31959_tc.tif (512, 512)\n"
     ]
    },
    {
     "name": "stderr",
     "output_type": "stream",
     "text": [
      "\r",
      " 50%|███████████████████████████████████████████████████▌                                                    | 735/1482 [38:21<1:12:05,  5.79s/it]"
     ]
    },
    {
     "name": "stdout",
     "output_type": "stream",
     "text": [
      "Image download: ../Datav2/exports/ndvi/9eb07177-e62a-4f5a-adeb-e95508e31959_ndvi_bw.tif (512, 512)\n",
      "Image download: ../Datav2/exports/tc/21714c67-dc5a-4d86-8794-79d85f87b71b_tc.tif (512, 512)\n"
     ]
    },
    {
     "name": "stderr",
     "output_type": "stream",
     "text": [
      "\r",
      " 50%|███████████████████████████████████████████████████▋                                                    | 736/1482 [38:26<1:09:39,  5.60s/it]"
     ]
    },
    {
     "name": "stdout",
     "output_type": "stream",
     "text": [
      "Image download: ../Datav2/exports/ndvi/21714c67-dc5a-4d86-8794-79d85f87b71b_ndvi_bw.tif (512, 512)\n",
      "Image download: ../Datav2/exports/tc/09e74687-85e7-488f-a5c8-8a11f75ab7d8_tc.tif (512, 512)\n"
     ]
    },
    {
     "name": "stderr",
     "output_type": "stream",
     "text": [
      "\r",
      " 50%|███████████████████████████████████████████████████▋                                                    | 737/1482 [38:31<1:07:52,  5.47s/it]"
     ]
    },
    {
     "name": "stdout",
     "output_type": "stream",
     "text": [
      "Image download: ../Datav2/exports/ndvi/09e74687-85e7-488f-a5c8-8a11f75ab7d8_ndvi_bw.tif (512, 512)\n",
      "Image download: ../Datav2/exports/tc/a43d0b54-a91e-40ba-b121-2e0f067201b6_tc.tif (512, 512)\n"
     ]
    },
    {
     "name": "stderr",
     "output_type": "stream",
     "text": [
      "\r",
      " 50%|███████████████████████████████████████████████████▊                                                    | 738/1482 [38:36<1:04:59,  5.24s/it]"
     ]
    },
    {
     "name": "stdout",
     "output_type": "stream",
     "text": [
      "Image download: ../Datav2/exports/ndvi/a43d0b54-a91e-40ba-b121-2e0f067201b6_ndvi_bw.tif (512, 512)\n",
      "Image download: ../Datav2/exports/tc/4b885d8c-8951-46c5-a3d1-520cfd0ac964_tc.tif (512, 512)\n"
     ]
    },
    {
     "name": "stderr",
     "output_type": "stream",
     "text": [
      "\r",
      " 50%|███████████████████████████████████████████████████▊                                                    | 739/1482 [38:40<1:00:44,  4.91s/it]"
     ]
    },
    {
     "name": "stdout",
     "output_type": "stream",
     "text": [
      "Image download: ../Datav2/exports/ndvi/4b885d8c-8951-46c5-a3d1-520cfd0ac964_ndvi_bw.tif (512, 512)\n",
      "Image download: ../Datav2/exports/tc/a8ab00de-6074-45a0-9e3d-f43b090e8346_tc.tif (512, 512)\n"
     ]
    },
    {
     "name": "stderr",
     "output_type": "stream",
     "text": [
      "\r",
      " 50%|███████████████████████████████████████████████████▉                                                    | 740/1482 [38:46<1:03:06,  5.10s/it]"
     ]
    },
    {
     "name": "stdout",
     "output_type": "stream",
     "text": [
      "Image download: ../Datav2/exports/ndvi/a8ab00de-6074-45a0-9e3d-f43b090e8346_ndvi_bw.tif (512, 512)\n",
      "Image download: ../Datav2/exports/tc/e6308517-0b7c-4efb-9369-b9aa3fe3ad14_tc.tif (512, 512)\n"
     ]
    },
    {
     "name": "stderr",
     "output_type": "stream",
     "text": [
      "\r",
      " 50%|████████████████████████████████████████████████████                                                    | 741/1482 [38:51<1:03:04,  5.11s/it]"
     ]
    },
    {
     "name": "stdout",
     "output_type": "stream",
     "text": [
      "Image download: ../Datav2/exports/ndvi/e6308517-0b7c-4efb-9369-b9aa3fe3ad14_ndvi_bw.tif (512, 512)\n",
      "Image download: ../Datav2/exports/tc/f0dbf1f5-9f21-4d11-a432-d32f7f18c412_tc.tif (512, 512)\n"
     ]
    },
    {
     "name": "stderr",
     "output_type": "stream",
     "text": [
      "\r",
      " 50%|████████████████████████████████████████████████████                                                    | 742/1482 [38:56<1:04:14,  5.21s/it]"
     ]
    },
    {
     "name": "stdout",
     "output_type": "stream",
     "text": [
      "Image download: ../Datav2/exports/ndvi/f0dbf1f5-9f21-4d11-a432-d32f7f18c412_ndvi_bw.tif (512, 512)\n",
      "Image download: ../Datav2/exports/tc/bae69034-3bf6-48c3-a642-d0242cf090f9_tc.tif (512, 512)\n"
     ]
    },
    {
     "name": "stderr",
     "output_type": "stream",
     "text": [
      "\r",
      " 50%|████████████████████████████████████████████████████▏                                                   | 743/1482 [39:02<1:06:12,  5.38s/it]"
     ]
    },
    {
     "name": "stdout",
     "output_type": "stream",
     "text": [
      "Image download: ../Datav2/exports/ndvi/bae69034-3bf6-48c3-a642-d0242cf090f9_ndvi_bw.tif (512, 512)\n",
      "Image download: ../Datav2/exports/tc/c57ff6c2-e5df-48c5-831c-1dbad73df5ef_tc.tif (512, 512)\n"
     ]
    },
    {
     "name": "stderr",
     "output_type": "stream",
     "text": [
      "\r",
      " 50%|████████████████████████████████████████████████████▏                                                   | 744/1482 [39:08<1:07:58,  5.53s/it]"
     ]
    },
    {
     "name": "stdout",
     "output_type": "stream",
     "text": [
      "Image download: ../Datav2/exports/ndvi/c57ff6c2-e5df-48c5-831c-1dbad73df5ef_ndvi_bw.tif (512, 512)\n",
      "Image download: ../Datav2/exports/tc/8779fe43-665b-4643-a730-6344c44018c7_tc.tif (512, 512)\n"
     ]
    },
    {
     "name": "stderr",
     "output_type": "stream",
     "text": [
      "\r",
      " 50%|████████████████████████████████████████████████████▎                                                   | 745/1482 [39:17<1:21:04,  6.60s/it]"
     ]
    },
    {
     "name": "stdout",
     "output_type": "stream",
     "text": [
      "Image download: ../Datav2/exports/ndvi/8779fe43-665b-4643-a730-6344c44018c7_ndvi_bw.tif (512, 512)\n",
      "Image download: ../Datav2/exports/tc/d43c681d-b57e-47e6-a6ad-e3ed08de9ff7_tc.tif (512, 512)\n"
     ]
    },
    {
     "name": "stderr",
     "output_type": "stream",
     "text": [
      "\r",
      " 50%|████████████████████████████████████████████████████▎                                                   | 746/1482 [39:24<1:22:31,  6.73s/it]"
     ]
    },
    {
     "name": "stdout",
     "output_type": "stream",
     "text": [
      "Image download: ../Datav2/exports/ndvi/d43c681d-b57e-47e6-a6ad-e3ed08de9ff7_ndvi_bw.tif (512, 512)\n",
      "Image download: ../Datav2/exports/tc/b02ec4f1-ac5c-4b22-b7fa-5834af16d807_tc.tif (512, 512)\n"
     ]
    },
    {
     "name": "stderr",
     "output_type": "stream",
     "text": [
      "\r",
      " 50%|████████████████████████████████████████████████████▍                                                   | 747/1482 [39:30<1:19:40,  6.50s/it]"
     ]
    },
    {
     "name": "stdout",
     "output_type": "stream",
     "text": [
      "Image download: ../Datav2/exports/ndvi/b02ec4f1-ac5c-4b22-b7fa-5834af16d807_ndvi_bw.tif (512, 512)\n",
      "Image download: ../Datav2/exports/tc/c3ad74dc-6842-463f-8808-05161a8ba570_tc.tif (512, 512)\n"
     ]
    },
    {
     "name": "stderr",
     "output_type": "stream",
     "text": [
      "\r",
      " 50%|████████████████████████████████████████████████████▍                                                   | 748/1482 [39:37<1:21:19,  6.65s/it]"
     ]
    },
    {
     "name": "stdout",
     "output_type": "stream",
     "text": [
      "Image download: ../Datav2/exports/ndvi/c3ad74dc-6842-463f-8808-05161a8ba570_ndvi_bw.tif (512, 512)\n",
      "Image download: ../Datav2/exports/tc/490ae25d-c3d8-4a90-9e75-0ad85e0f629f_tc.tif (512, 512)\n"
     ]
    },
    {
     "name": "stderr",
     "output_type": "stream",
     "text": [
      "\r",
      " 51%|████████████████████████████████████████████████████▌                                                   | 749/1482 [39:44<1:22:34,  6.76s/it]"
     ]
    },
    {
     "name": "stdout",
     "output_type": "stream",
     "text": [
      "Image download: ../Datav2/exports/ndvi/490ae25d-c3d8-4a90-9e75-0ad85e0f629f_ndvi_bw.tif (512, 512)\n",
      "Image download: ../Datav2/exports/tc/1b49e4e3-7506-4bf4-b86f-fd3ca93fd85b_tc.tif (512, 512)\n"
     ]
    },
    {
     "name": "stderr",
     "output_type": "stream",
     "text": [
      "\r",
      " 51%|████████████████████████████████████████████████████▋                                                   | 750/1482 [39:50<1:20:06,  6.57s/it]"
     ]
    },
    {
     "name": "stdout",
     "output_type": "stream",
     "text": [
      "Image download: ../Datav2/exports/ndvi/1b49e4e3-7506-4bf4-b86f-fd3ca93fd85b_ndvi_bw.tif (512, 512)\n",
      "Image download: ../Datav2/exports/tc/a1b6ff5e-0533-408c-b02a-3061f60fb263_tc.tif (512, 512)\n"
     ]
    },
    {
     "name": "stderr",
     "output_type": "stream",
     "text": [
      "\r",
      " 51%|████████████████████████████████████████████████████▋                                                   | 751/1482 [40:01<1:33:46,  7.70s/it]"
     ]
    },
    {
     "name": "stdout",
     "output_type": "stream",
     "text": [
      "Image download: ../Datav2/exports/ndvi/a1b6ff5e-0533-408c-b02a-3061f60fb263_ndvi_bw.tif (512, 512)\n",
      "Image download: ../Datav2/exports/tc/f31a117a-572a-4956-9797-ad08e3933bb7_tc.tif (512, 512)\n"
     ]
    },
    {
     "name": "stderr",
     "output_type": "stream",
     "text": [
      "\r",
      " 51%|████████████████████████████████████████████████████▊                                                   | 752/1482 [40:08<1:32:00,  7.56s/it]"
     ]
    },
    {
     "name": "stdout",
     "output_type": "stream",
     "text": [
      "Image download: ../Datav2/exports/ndvi/f31a117a-572a-4956-9797-ad08e3933bb7_ndvi_bw.tif (512, 512)\n",
      "Image download: ../Datav2/exports/tc/3becdf3e-b110-41ab-86ce-645e041d296f_tc.tif (512, 512)\n"
     ]
    },
    {
     "name": "stderr",
     "output_type": "stream",
     "text": [
      "\r",
      " 51%|████████████████████████████████████████████████████▊                                                   | 753/1482 [40:14<1:28:23,  7.28s/it]"
     ]
    },
    {
     "name": "stdout",
     "output_type": "stream",
     "text": [
      "Image download: ../Datav2/exports/ndvi/3becdf3e-b110-41ab-86ce-645e041d296f_ndvi_bw.tif (512, 512)\n",
      "Image download: ../Datav2/exports/tc/2f1b8cff-f7d6-4459-866b-7c84bd531dcc_tc.tif (512, 512)\n"
     ]
    },
    {
     "name": "stderr",
     "output_type": "stream",
     "text": [
      "\r",
      " 51%|████████████████████████████████████████████████████▉                                                   | 754/1482 [40:19<1:19:42,  6.57s/it]"
     ]
    },
    {
     "name": "stdout",
     "output_type": "stream",
     "text": [
      "Image download: ../Datav2/exports/ndvi/2f1b8cff-f7d6-4459-866b-7c84bd531dcc_ndvi_bw.tif (512, 512)\n",
      "Image download: ../Datav2/exports/tc/89b5d4db-ce4e-43b9-8618-f89088d35ee1_tc.tif (512, 512)\n"
     ]
    },
    {
     "name": "stderr",
     "output_type": "stream",
     "text": [
      "\r",
      " 51%|████████████████████████████████████████████████████▉                                                   | 755/1482 [40:26<1:18:53,  6.51s/it]"
     ]
    },
    {
     "name": "stdout",
     "output_type": "stream",
     "text": [
      "Image download: ../Datav2/exports/ndvi/89b5d4db-ce4e-43b9-8618-f89088d35ee1_ndvi_bw.tif (512, 512)\n",
      "Image download: ../Datav2/exports/tc/83d87ff0-be6c-46fa-ab96-b9845d5d4edc_tc.tif (512, 512)\n"
     ]
    },
    {
     "name": "stderr",
     "output_type": "stream",
     "text": [
      "\r",
      " 51%|█████████████████████████████████████████████████████                                                   | 756/1482 [40:34<1:24:15,  6.96s/it]"
     ]
    },
    {
     "name": "stdout",
     "output_type": "stream",
     "text": [
      "Image download: ../Datav2/exports/ndvi/83d87ff0-be6c-46fa-ab96-b9845d5d4edc_ndvi_bw.tif (512, 512)\n",
      "Image download: ../Datav2/exports/tc/2f2a4afd-06f1-4b57-b3f2-db8e3d9ac05c_tc.tif (512, 512)\n"
     ]
    },
    {
     "name": "stderr",
     "output_type": "stream",
     "text": [
      "\r",
      " 51%|█████████████████████████████████████████████████████                                                   | 757/1482 [40:41<1:25:56,  7.11s/it]"
     ]
    },
    {
     "name": "stdout",
     "output_type": "stream",
     "text": [
      "Image download: ../Datav2/exports/ndvi/2f2a4afd-06f1-4b57-b3f2-db8e3d9ac05c_ndvi_bw.tif (512, 512)\n",
      "Image download: ../Datav2/exports/tc/1f8d9fe1-e644-4f53-88ae-4418cc0b4451_tc.tif (512, 512)\n"
     ]
    },
    {
     "name": "stderr",
     "output_type": "stream",
     "text": [
      "\r",
      " 51%|█████████████████████████████████████████████████████▏                                                  | 758/1482 [40:50<1:31:01,  7.54s/it]"
     ]
    },
    {
     "name": "stdout",
     "output_type": "stream",
     "text": [
      "Image download: ../Datav2/exports/ndvi/1f8d9fe1-e644-4f53-88ae-4418cc0b4451_ndvi_bw.tif (512, 512)\n",
      "Image download: ../Datav2/exports/tc/bfc6b8e4-8021-44ca-8f92-58c724682ba1_tc.tif (512, 512)\n"
     ]
    },
    {
     "name": "stderr",
     "output_type": "stream",
     "text": [
      "\r",
      " 51%|█████████████████████████████████████████████████████▎                                                  | 759/1482 [40:58<1:34:16,  7.82s/it]"
     ]
    },
    {
     "name": "stdout",
     "output_type": "stream",
     "text": [
      "Image download: ../Datav2/exports/ndvi/bfc6b8e4-8021-44ca-8f92-58c724682ba1_ndvi_bw.tif (512, 512)\n",
      "Image download: ../Datav2/exports/tc/90473f02-6572-4a9b-9451-1a18a4bee1ed_tc.tif (512, 512)\n"
     ]
    },
    {
     "name": "stderr",
     "output_type": "stream",
     "text": [
      "\r",
      " 51%|█████████████████████████████████████████████████████▎                                                  | 760/1482 [41:04<1:27:19,  7.26s/it]"
     ]
    },
    {
     "name": "stdout",
     "output_type": "stream",
     "text": [
      "Image download: ../Datav2/exports/ndvi/90473f02-6572-4a9b-9451-1a18a4bee1ed_ndvi_bw.tif (512, 512)\n",
      "Image download: ../Datav2/exports/tc/becd0762-0e22-4c54-a1c5-3ecd3660dd70_tc.tif (512, 512)\n"
     ]
    },
    {
     "name": "stderr",
     "output_type": "stream",
     "text": [
      "\r",
      " 51%|█████████████████████████████████████████████████████▍                                                  | 761/1482 [41:11<1:25:59,  7.16s/it]"
     ]
    },
    {
     "name": "stdout",
     "output_type": "stream",
     "text": [
      "Image download: ../Datav2/exports/ndvi/becd0762-0e22-4c54-a1c5-3ecd3660dd70_ndvi_bw.tif (512, 512)\n",
      "Image download: ../Datav2/exports/tc/d83bfb8a-f1e6-4213-b514-89fc16d2eb72_tc.tif (512, 512)\n"
     ]
    },
    {
     "name": "stderr",
     "output_type": "stream",
     "text": [
      "\r",
      " 51%|█████████████████████████████████████████████████████▍                                                  | 762/1482 [41:19<1:28:01,  7.33s/it]"
     ]
    },
    {
     "name": "stdout",
     "output_type": "stream",
     "text": [
      "Image download: ../Datav2/exports/ndvi/d83bfb8a-f1e6-4213-b514-89fc16d2eb72_ndvi_bw.tif (512, 512)\n",
      "Image download: ../Datav2/exports/tc/78754c68-2800-4c5d-aff0-ab0b399ab5ce_tc.tif (512, 512)\n"
     ]
    },
    {
     "name": "stderr",
     "output_type": "stream",
     "text": [
      "\r",
      " 51%|█████████████████████████████████████████████████████▌                                                  | 763/1482 [41:25<1:25:20,  7.12s/it]"
     ]
    },
    {
     "name": "stdout",
     "output_type": "stream",
     "text": [
      "Image download: ../Datav2/exports/ndvi/78754c68-2800-4c5d-aff0-ab0b399ab5ce_ndvi_bw.tif (512, 512)\n",
      "Image download: ../Datav2/exports/tc/399dba2c-02c1-4756-a76d-1198d0e838ed_tc.tif (512, 512)\n"
     ]
    },
    {
     "name": "stderr",
     "output_type": "stream",
     "text": [
      "\r",
      " 52%|█████████████████████████████████████████████████████▌                                                  | 764/1482 [41:31<1:21:06,  6.78s/it]"
     ]
    },
    {
     "name": "stdout",
     "output_type": "stream",
     "text": [
      "Image download: ../Datav2/exports/ndvi/399dba2c-02c1-4756-a76d-1198d0e838ed_ndvi_bw.tif (512, 512)\n",
      "Image download: ../Datav2/exports/tc/386b7562-fe70-490b-a92c-a3c21eece0c2_tc.tif (512, 512)\n"
     ]
    },
    {
     "name": "stderr",
     "output_type": "stream",
     "text": [
      "\r",
      " 52%|█████████████████████████████████████████████████████▋                                                  | 765/1482 [41:38<1:18:39,  6.58s/it]"
     ]
    },
    {
     "name": "stdout",
     "output_type": "stream",
     "text": [
      "Image download: ../Datav2/exports/ndvi/386b7562-fe70-490b-a92c-a3c21eece0c2_ndvi_bw.tif (512, 512)\n",
      "Image download: ../Datav2/exports/tc/18a2b3d6-d86e-4147-ab42-d45b8792e98a_tc.tif (512, 512)\n"
     ]
    },
    {
     "name": "stderr",
     "output_type": "stream",
     "text": [
      "\r",
      " 52%|█████████████████████████████████████████████████████▊                                                  | 766/1482 [41:43<1:12:57,  6.11s/it]"
     ]
    },
    {
     "name": "stdout",
     "output_type": "stream",
     "text": [
      "Image download: ../Datav2/exports/ndvi/18a2b3d6-d86e-4147-ab42-d45b8792e98a_ndvi_bw.tif (512, 512)\n",
      "Image download: ../Datav2/exports/tc/f3c1f59e-b0d5-4c14-976f-ae6c583b2224_tc.tif (512, 512)\n"
     ]
    },
    {
     "name": "stderr",
     "output_type": "stream",
     "text": [
      "\r",
      " 52%|█████████████████████████████████████████████████████▊                                                  | 767/1482 [41:53<1:27:57,  7.38s/it]"
     ]
    },
    {
     "name": "stdout",
     "output_type": "stream",
     "text": [
      "Image download: ../Datav2/exports/ndvi/f3c1f59e-b0d5-4c14-976f-ae6c583b2224_ndvi_bw.tif (512, 512)\n",
      "Image download: ../Datav2/exports/tc/f8cd3b44-ec6b-4338-9edc-ebd879a8aafc_tc.tif (512, 512)\n"
     ]
    },
    {
     "name": "stderr",
     "output_type": "stream",
     "text": [
      "\r",
      " 52%|█████████████████████████████████████████████████████▉                                                  | 768/1482 [41:59<1:23:33,  7.02s/it]"
     ]
    },
    {
     "name": "stdout",
     "output_type": "stream",
     "text": [
      "Image download: ../Datav2/exports/ndvi/f8cd3b44-ec6b-4338-9edc-ebd879a8aafc_ndvi_bw.tif (512, 512)\n",
      "Image download: ../Datav2/exports/tc/59fae761-fd49-4f06-a2e9-1495c00eb7e9_tc.tif (512, 512)\n"
     ]
    },
    {
     "name": "stderr",
     "output_type": "stream",
     "text": [
      "\r",
      " 52%|█████████████████████████████████████████████████████▉                                                  | 769/1482 [42:05<1:19:50,  6.72s/it]"
     ]
    },
    {
     "name": "stdout",
     "output_type": "stream",
     "text": [
      "Image download: ../Datav2/exports/ndvi/59fae761-fd49-4f06-a2e9-1495c00eb7e9_ndvi_bw.tif (512, 512)\n",
      "Image download: ../Datav2/exports/tc/c8ebf0c1-e560-4e22-a946-129af8699dfb_tc.tif (512, 512)\n"
     ]
    },
    {
     "name": "stderr",
     "output_type": "stream",
     "text": [
      "\r",
      " 52%|██████████████████████████████████████████████████████                                                  | 770/1482 [42:12<1:20:03,  6.75s/it]"
     ]
    },
    {
     "name": "stdout",
     "output_type": "stream",
     "text": [
      "Image download: ../Datav2/exports/ndvi/c8ebf0c1-e560-4e22-a946-129af8699dfb_ndvi_bw.tif (512, 512)\n",
      "Image download: ../Datav2/exports/tc/9989e07d-5125-472d-9601-0d7158b13073_tc.tif (512, 512)\n"
     ]
    },
    {
     "name": "stderr",
     "output_type": "stream",
     "text": [
      "\r",
      " 52%|██████████████████████████████████████████████████████                                                  | 771/1482 [42:17<1:14:10,  6.26s/it]"
     ]
    },
    {
     "name": "stdout",
     "output_type": "stream",
     "text": [
      "Image download: ../Datav2/exports/ndvi/9989e07d-5125-472d-9601-0d7158b13073_ndvi_bw.tif (512, 512)\n",
      "Image download: ../Datav2/exports/tc/7c9253af-4c43-41bb-b1de-44af15e0d83e_tc.tif (512, 512)\n"
     ]
    },
    {
     "name": "stderr",
     "output_type": "stream",
     "text": [
      "\r",
      " 52%|██████████████████████████████████████████████████████▏                                                 | 772/1482 [42:22<1:10:52,  5.99s/it]"
     ]
    },
    {
     "name": "stdout",
     "output_type": "stream",
     "text": [
      "Image download: ../Datav2/exports/ndvi/7c9253af-4c43-41bb-b1de-44af15e0d83e_ndvi_bw.tif (512, 512)\n",
      "Image download: ../Datav2/exports/tc/b77ff66d-d8ee-49c9-bd0f-92a4350a095a_tc.tif (512, 512)\n"
     ]
    },
    {
     "name": "stderr",
     "output_type": "stream",
     "text": [
      "\r",
      " 52%|██████████████████████████████████████████████████████▏                                                 | 773/1482 [42:34<1:31:59,  7.79s/it]"
     ]
    },
    {
     "name": "stdout",
     "output_type": "stream",
     "text": [
      "Image download: ../Datav2/exports/ndvi/b77ff66d-d8ee-49c9-bd0f-92a4350a095a_ndvi_bw.tif (512, 512)\n",
      "Image download: ../Datav2/exports/tc/71ea2924-bc37-44f4-b454-47eff22e426c_tc.tif (512, 512)\n"
     ]
    },
    {
     "name": "stderr",
     "output_type": "stream",
     "text": [
      "\r",
      " 52%|██████████████████████████████████████████████████████▎                                                 | 774/1482 [42:45<1:42:20,  8.67s/it]"
     ]
    },
    {
     "name": "stdout",
     "output_type": "stream",
     "text": [
      "Image download: ../Datav2/exports/ndvi/71ea2924-bc37-44f4-b454-47eff22e426c_ndvi_bw.tif (512, 512)\n",
      "Image download: ../Datav2/exports/tc/62b8a6af-700a-4c93-85d5-a9b85a30faf5_tc.tif (512, 512)\n"
     ]
    },
    {
     "name": "stderr",
     "output_type": "stream",
     "text": [
      "\r",
      " 52%|██████████████████████████████████████████████████████▍                                                 | 775/1482 [42:52<1:37:19,  8.26s/it]"
     ]
    },
    {
     "name": "stdout",
     "output_type": "stream",
     "text": [
      "Image download: ../Datav2/exports/ndvi/62b8a6af-700a-4c93-85d5-a9b85a30faf5_ndvi_bw.tif (512, 512)\n",
      "Image download: ../Datav2/exports/tc/49757269-445f-4525-8698-858d8e0a5398_tc.tif (512, 512)\n"
     ]
    },
    {
     "name": "stderr",
     "output_type": "stream",
     "text": [
      "\r",
      " 52%|██████████████████████████████████████████████████████▍                                                 | 776/1482 [43:00<1:33:44,  7.97s/it]"
     ]
    },
    {
     "name": "stdout",
     "output_type": "stream",
     "text": [
      "Image download: ../Datav2/exports/ndvi/49757269-445f-4525-8698-858d8e0a5398_ndvi_bw.tif (512, 512)\n",
      "Image download: ../Datav2/exports/tc/5e01dba8-3d59-41a6-ba60-d78d874eba42_tc.tif (512, 512)\n"
     ]
    },
    {
     "name": "stderr",
     "output_type": "stream",
     "text": [
      "\r",
      " 52%|██████████████████████████████████████████████████████▌                                                 | 777/1482 [43:08<1:33:20,  7.94s/it]"
     ]
    },
    {
     "name": "stdout",
     "output_type": "stream",
     "text": [
      "Image download: ../Datav2/exports/ndvi/5e01dba8-3d59-41a6-ba60-d78d874eba42_ndvi_bw.tif (512, 512)\n",
      "Image download: ../Datav2/exports/tc/182f71e9-0f85-4cb0-8711-ee14c0b6b8f8_tc.tif (512, 512)\n"
     ]
    },
    {
     "name": "stderr",
     "output_type": "stream",
     "text": [
      "\r",
      " 52%|██████████████████████████████████████████████████████▌                                                 | 778/1482 [43:16<1:33:49,  8.00s/it]"
     ]
    },
    {
     "name": "stdout",
     "output_type": "stream",
     "text": [
      "Image download: ../Datav2/exports/ndvi/182f71e9-0f85-4cb0-8711-ee14c0b6b8f8_ndvi_bw.tif (512, 512)\n",
      "Image download: ../Datav2/exports/tc/f571f91e-bc07-450c-8822-3ecc61a27863_tc.tif (512, 512)\n"
     ]
    },
    {
     "name": "stderr",
     "output_type": "stream",
     "text": [
      "\r",
      " 53%|██████████████████████████████████████████████████████▋                                                 | 779/1482 [43:21<1:25:10,  7.27s/it]"
     ]
    },
    {
     "name": "stdout",
     "output_type": "stream",
     "text": [
      "Image download: ../Datav2/exports/ndvi/f571f91e-bc07-450c-8822-3ecc61a27863_ndvi_bw.tif (512, 512)\n",
      "Image download: ../Datav2/exports/tc/4adae6c4-71c9-46d1-9743-e04f186b2c3e_tc.tif (512, 512)\n"
     ]
    },
    {
     "name": "stderr",
     "output_type": "stream",
     "text": [
      "\r",
      " 53%|██████████████████████████████████████████████████████▋                                                 | 780/1482 [43:27<1:21:06,  6.93s/it]"
     ]
    },
    {
     "name": "stdout",
     "output_type": "stream",
     "text": [
      "Image download: ../Datav2/exports/ndvi/4adae6c4-71c9-46d1-9743-e04f186b2c3e_ndvi_bw.tif (512, 512)\n",
      "Image download: ../Datav2/exports/tc/220a986e-6d2c-4893-9473-232d1e1abf0c_tc.tif (512, 512)\n"
     ]
    },
    {
     "name": "stderr",
     "output_type": "stream",
     "text": [
      "\r",
      " 53%|██████████████████████████████████████████████████████▊                                                 | 781/1482 [43:34<1:21:11,  6.95s/it]"
     ]
    },
    {
     "name": "stdout",
     "output_type": "stream",
     "text": [
      "Image download: ../Datav2/exports/ndvi/220a986e-6d2c-4893-9473-232d1e1abf0c_ndvi_bw.tif (512, 512)\n",
      "Image download: ../Datav2/exports/tc/7bc10ea0-55b4-40bd-8eca-36ec10106528_tc.tif (512, 512)\n"
     ]
    },
    {
     "name": "stderr",
     "output_type": "stream",
     "text": [
      "\r",
      " 53%|██████████████████████████████████████████████████████▉                                                 | 782/1482 [43:43<1:25:50,  7.36s/it]"
     ]
    },
    {
     "name": "stdout",
     "output_type": "stream",
     "text": [
      "Image download: ../Datav2/exports/ndvi/7bc10ea0-55b4-40bd-8eca-36ec10106528_ndvi_bw.tif (512, 512)\n",
      "Image download: ../Datav2/exports/tc/62a6c794-97db-4b57-9033-958bcf2e5a99_tc.tif (512, 512)\n"
     ]
    },
    {
     "name": "stderr",
     "output_type": "stream",
     "text": [
      "\r",
      " 53%|██████████████████████████████████████████████████████▉                                                 | 783/1482 [43:48<1:19:25,  6.82s/it]"
     ]
    },
    {
     "name": "stdout",
     "output_type": "stream",
     "text": [
      "Image download: ../Datav2/exports/ndvi/62a6c794-97db-4b57-9033-958bcf2e5a99_ndvi_bw.tif (512, 512)\n",
      "Image download: ../Datav2/exports/tc/1e9d7aca-8862-4dff-a8af-5f687afdfda0_tc.tif (512, 512)\n"
     ]
    },
    {
     "name": "stderr",
     "output_type": "stream",
     "text": [
      "\r",
      " 53%|███████████████████████████████████████████████████████                                                 | 784/1482 [43:57<1:26:57,  7.47s/it]"
     ]
    },
    {
     "name": "stdout",
     "output_type": "stream",
     "text": [
      "Image download: ../Datav2/exports/ndvi/1e9d7aca-8862-4dff-a8af-5f687afdfda0_ndvi_bw.tif (512, 512)\n",
      "Image download: ../Datav2/exports/tc/10a447c8-708f-44a3-8679-251500c761d6_tc.tif (512, 512)\n"
     ]
    },
    {
     "name": "stderr",
     "output_type": "stream",
     "text": [
      "\r",
      " 53%|███████████████████████████████████████████████████████                                                 | 785/1482 [44:07<1:34:29,  8.13s/it]"
     ]
    },
    {
     "name": "stdout",
     "output_type": "stream",
     "text": [
      "Image download: ../Datav2/exports/ndvi/10a447c8-708f-44a3-8679-251500c761d6_ndvi_bw.tif (512, 512)\n",
      "Image download: ../Datav2/exports/tc/406e30d2-2ac0-4c0b-998c-761adde20177_tc.tif (512, 512)\n"
     ]
    },
    {
     "name": "stderr",
     "output_type": "stream",
     "text": [
      "\r",
      " 53%|███████████████████████████████████████████████████████▏                                                | 786/1482 [44:13<1:25:47,  7.40s/it]"
     ]
    },
    {
     "name": "stdout",
     "output_type": "stream",
     "text": [
      "Image download: ../Datav2/exports/ndvi/406e30d2-2ac0-4c0b-998c-761adde20177_ndvi_bw.tif (512, 512)\n",
      "Image download: ../Datav2/exports/tc/c2bf9820-7e90-43c4-bd3d-1b26ef7ada51_tc.tif (512, 512)\n"
     ]
    },
    {
     "name": "stderr",
     "output_type": "stream",
     "text": [
      "\r",
      " 53%|███████████████████████████████████████████████████████▏                                                | 787/1482 [44:18<1:20:18,  6.93s/it]"
     ]
    },
    {
     "name": "stdout",
     "output_type": "stream",
     "text": [
      "Image download: ../Datav2/exports/ndvi/c2bf9820-7e90-43c4-bd3d-1b26ef7ada51_ndvi_bw.tif (512, 512)\n",
      "Image download: ../Datav2/exports/tc/340e471a-a37e-47dd-90da-6c9f35b7eb3b_tc.tif (512, 512)\n"
     ]
    },
    {
     "name": "stderr",
     "output_type": "stream",
     "text": [
      "\r",
      " 53%|███████████████████████████████████████████████████████▎                                                | 788/1482 [44:25<1:20:20,  6.95s/it]"
     ]
    },
    {
     "name": "stdout",
     "output_type": "stream",
     "text": [
      "Image download: ../Datav2/exports/ndvi/340e471a-a37e-47dd-90da-6c9f35b7eb3b_ndvi_bw.tif (512, 512)\n",
      "Image download: ../Datav2/exports/tc/cfa04438-152b-4f4b-a712-4343af8c7fcf_tc.tif (512, 512)\n"
     ]
    },
    {
     "name": "stderr",
     "output_type": "stream",
     "text": [
      "\r",
      " 53%|███████████████████████████████████████████████████████▎                                                | 789/1482 [44:32<1:20:40,  6.99s/it]"
     ]
    },
    {
     "name": "stdout",
     "output_type": "stream",
     "text": [
      "Image download: ../Datav2/exports/ndvi/cfa04438-152b-4f4b-a712-4343af8c7fcf_ndvi_bw.tif (512, 512)\n",
      "Image download: ../Datav2/exports/tc/a983c540-b47c-4250-a65d-c5d3d76c9b3b_tc.tif (512, 512)\n"
     ]
    },
    {
     "name": "stderr",
     "output_type": "stream",
     "text": [
      "\r",
      " 53%|███████████████████████████████████████████████████████▍                                                | 790/1482 [44:38<1:14:02,  6.42s/it]"
     ]
    },
    {
     "name": "stdout",
     "output_type": "stream",
     "text": [
      "Image download: ../Datav2/exports/ndvi/a983c540-b47c-4250-a65d-c5d3d76c9b3b_ndvi_bw.tif (512, 512)\n",
      "Image download: ../Datav2/exports/tc/297d6516-ce4f-407d-93f8-9669dc6fd392_tc.tif (512, 512)\n"
     ]
    },
    {
     "name": "stderr",
     "output_type": "stream",
     "text": [
      "\r",
      " 53%|███████████████████████████████████████████████████████▌                                                | 791/1482 [44:42<1:07:04,  5.82s/it]"
     ]
    },
    {
     "name": "stdout",
     "output_type": "stream",
     "text": [
      "Image download: ../Datav2/exports/ndvi/297d6516-ce4f-407d-93f8-9669dc6fd392_ndvi_bw.tif (512, 512)\n",
      "Image download: ../Datav2/exports/tc/c7a0a280-17c9-409b-85f9-fdda301b6ede_tc.tif (512, 512)\n"
     ]
    },
    {
     "name": "stderr",
     "output_type": "stream",
     "text": [
      "\r",
      " 53%|███████████████████████████████████████████████████████▌                                                | 792/1482 [44:47<1:02:42,  5.45s/it]"
     ]
    },
    {
     "name": "stdout",
     "output_type": "stream",
     "text": [
      "Image download: ../Datav2/exports/ndvi/c7a0a280-17c9-409b-85f9-fdda301b6ede_ndvi_bw.tif (512, 512)\n",
      "Image download: ../Datav2/exports/tc/7f33fd28-9a93-438b-84ca-0e57e7c441f4_tc.tif (512, 512)\n"
     ]
    },
    {
     "name": "stderr",
     "output_type": "stream",
     "text": [
      "\r",
      " 54%|███████████████████████████████████████████████████████▋                                                | 793/1482 [44:52<1:03:50,  5.56s/it]"
     ]
    },
    {
     "name": "stdout",
     "output_type": "stream",
     "text": [
      "Image download: ../Datav2/exports/ndvi/7f33fd28-9a93-438b-84ca-0e57e7c441f4_ndvi_bw.tif (512, 512)\n",
      "Image download: ../Datav2/exports/tc/17cd878b-0d5d-49ff-b205-7e0203908f4c_tc.tif (512, 512)\n"
     ]
    },
    {
     "name": "stderr",
     "output_type": "stream",
     "text": [
      "\r",
      " 54%|███████████████████████████████████████████████████████▋                                                | 794/1482 [44:57<1:00:49,  5.30s/it]"
     ]
    },
    {
     "name": "stdout",
     "output_type": "stream",
     "text": [
      "Image download: ../Datav2/exports/ndvi/17cd878b-0d5d-49ff-b205-7e0203908f4c_ndvi_bw.tif (512, 512)\n",
      "Image download: ../Datav2/exports/tc/7b02d757-4f96-4616-99d5-04e4eaa34440_tc.tif (512, 512)\n"
     ]
    },
    {
     "name": "stderr",
     "output_type": "stream",
     "text": [
      "\r",
      " 54%|███████████████████████████████████████████████████████▊                                                | 795/1482 [45:05<1:10:17,  6.14s/it]"
     ]
    },
    {
     "name": "stdout",
     "output_type": "stream",
     "text": [
      "Image download: ../Datav2/exports/ndvi/7b02d757-4f96-4616-99d5-04e4eaa34440_ndvi_bw.tif (512, 512)\n",
      "Image download: ../Datav2/exports/tc/ba20d998-185c-48ac-8006-15aadf4d3106_tc.tif (512, 512)\n"
     ]
    },
    {
     "name": "stderr",
     "output_type": "stream",
     "text": [
      "\r",
      " 54%|███████████████████████████████████████████████████████▊                                                | 796/1482 [45:13<1:16:11,  6.66s/it]"
     ]
    },
    {
     "name": "stdout",
     "output_type": "stream",
     "text": [
      "Image download: ../Datav2/exports/ndvi/ba20d998-185c-48ac-8006-15aadf4d3106_ndvi_bw.tif (512, 512)\n",
      "Image download: ../Datav2/exports/tc/180ea977-b5c2-483d-b9f4-c2f8b8b05ebe_tc.tif (512, 512)\n"
     ]
    },
    {
     "name": "stderr",
     "output_type": "stream",
     "text": [
      "\r",
      " 54%|███████████████████████████████████████████████████████▉                                                | 797/1482 [45:18<1:10:35,  6.18s/it]"
     ]
    },
    {
     "name": "stdout",
     "output_type": "stream",
     "text": [
      "Image download: ../Datav2/exports/ndvi/180ea977-b5c2-483d-b9f4-c2f8b8b05ebe_ndvi_bw.tif (512, 512)\n",
      "Image download: ../Datav2/exports/tc/47988f74-d4bd-4ddd-814e-22ebc2ca5ccf_tc.tif (512, 512)\n"
     ]
    },
    {
     "name": "stderr",
     "output_type": "stream",
     "text": [
      "\r",
      " 54%|████████████████████████████████████████████████████████                                                | 798/1482 [45:25<1:11:08,  6.24s/it]"
     ]
    },
    {
     "name": "stdout",
     "output_type": "stream",
     "text": [
      "Image download: ../Datav2/exports/ndvi/47988f74-d4bd-4ddd-814e-22ebc2ca5ccf_ndvi_bw.tif (512, 512)\n",
      "Image download: ../Datav2/exports/tc/e21384c7-8060-4336-9a71-a006330d9939_tc.tif (512, 512)\n"
     ]
    },
    {
     "name": "stderr",
     "output_type": "stream",
     "text": [
      "\r",
      " 54%|████████████████████████████████████████████████████████                                                | 799/1482 [45:29<1:05:33,  5.76s/it]"
     ]
    },
    {
     "name": "stdout",
     "output_type": "stream",
     "text": [
      "Image download: ../Datav2/exports/ndvi/e21384c7-8060-4336-9a71-a006330d9939_ndvi_bw.tif (512, 512)\n",
      "Image download: ../Datav2/exports/tc/d0b51e42-5558-47c9-8617-34f6f977ab79_tc.tif (512, 512)\n"
     ]
    },
    {
     "name": "stderr",
     "output_type": "stream",
     "text": [
      "\r",
      " 54%|████████████████████████████████████████████████████████▏                                               | 800/1482 [45:33<1:00:14,  5.30s/it]"
     ]
    },
    {
     "name": "stdout",
     "output_type": "stream",
     "text": [
      "Image download: ../Datav2/exports/ndvi/d0b51e42-5558-47c9-8617-34f6f977ab79_ndvi_bw.tif (512, 512)\n",
      "Image download: ../Datav2/exports/tc/99a7ed51-e64a-4aa9-b8ba-6a9ae4752db0_tc.tif (512, 512)\n"
     ]
    },
    {
     "name": "stderr",
     "output_type": "stream",
     "text": [
      "\r",
      " 54%|█████████████████████████████████████████████████████████▎                                                | 801/1482 [45:38<58:02,  5.11s/it]"
     ]
    },
    {
     "name": "stdout",
     "output_type": "stream",
     "text": [
      "Image download: ../Datav2/exports/ndvi/99a7ed51-e64a-4aa9-b8ba-6a9ae4752db0_ndvi_bw.tif (512, 512)\n",
      "Image download: ../Datav2/exports/tc/e1a5b757-2bc1-440f-b3d1-06cd41171775_tc.tif (512, 512)\n"
     ]
    },
    {
     "name": "stderr",
     "output_type": "stream",
     "text": [
      "\r",
      " 54%|█████████████████████████████████████████████████████████▎                                                | 802/1482 [45:42<54:26,  4.80s/it]"
     ]
    },
    {
     "name": "stdout",
     "output_type": "stream",
     "text": [
      "Image download: ../Datav2/exports/ndvi/e1a5b757-2bc1-440f-b3d1-06cd41171775_ndvi_bw.tif (512, 512)\n",
      "Image download: ../Datav2/exports/tc/ed4e06ba-6d17-459a-831a-9b15a9bd116e_tc.tif (512, 512)\n"
     ]
    },
    {
     "name": "stderr",
     "output_type": "stream",
     "text": [
      "\r",
      " 54%|█████████████████████████████████████████████████████████▍                                                | 803/1482 [45:48<58:04,  5.13s/it]"
     ]
    },
    {
     "name": "stdout",
     "output_type": "stream",
     "text": [
      "Image download: ../Datav2/exports/ndvi/ed4e06ba-6d17-459a-831a-9b15a9bd116e_ndvi_bw.tif (512, 512)\n",
      "Image download: ../Datav2/exports/tc/81b26bc7-7d65-4591-9d27-4e698cab4f12_tc.tif (512, 512)\n"
     ]
    },
    {
     "name": "stderr",
     "output_type": "stream",
     "text": [
      "\r",
      " 54%|█████████████████████████████████████████████████████████▌                                                | 804/1482 [45:52<54:38,  4.84s/it]"
     ]
    },
    {
     "name": "stdout",
     "output_type": "stream",
     "text": [
      "Image download: ../Datav2/exports/ndvi/81b26bc7-7d65-4591-9d27-4e698cab4f12_ndvi_bw.tif (512, 512)\n",
      "Image download: ../Datav2/exports/tc/4a015862-8ac1-4c91-aa4c-c9831630b75a_tc.tif (512, 512)\n"
     ]
    },
    {
     "name": "stderr",
     "output_type": "stream",
     "text": [
      "\r",
      " 54%|█████████████████████████████████████████████████████████▌                                                | 805/1482 [45:57<55:56,  4.96s/it]"
     ]
    },
    {
     "name": "stdout",
     "output_type": "stream",
     "text": [
      "Image download: ../Datav2/exports/ndvi/4a015862-8ac1-4c91-aa4c-c9831630b75a_ndvi_bw.tif (512, 512)\n",
      "Image download: ../Datav2/exports/tc/59d6fc84-0d58-4e29-b910-1993dba51b3a_tc.tif (512, 512)\n"
     ]
    },
    {
     "name": "stderr",
     "output_type": "stream",
     "text": [
      "\r",
      " 54%|█████████████████████████████████████████████████████████▋                                                | 806/1482 [46:02<54:50,  4.87s/it]"
     ]
    },
    {
     "name": "stdout",
     "output_type": "stream",
     "text": [
      "Image download: ../Datav2/exports/ndvi/59d6fc84-0d58-4e29-b910-1993dba51b3a_ndvi_bw.tif (512, 512)\n",
      "Image download: ../Datav2/exports/tc/089f95f8-8834-4cc6-87c7-15cb1aeca7b8_tc.tif (512, 512)\n"
     ]
    },
    {
     "name": "stderr",
     "output_type": "stream",
     "text": [
      "\r",
      " 54%|█████████████████████████████████████████████████████████▋                                                | 807/1482 [46:06<52:32,  4.67s/it]"
     ]
    },
    {
     "name": "stdout",
     "output_type": "stream",
     "text": [
      "Image download: ../Datav2/exports/ndvi/089f95f8-8834-4cc6-87c7-15cb1aeca7b8_ndvi_bw.tif (512, 512)\n",
      "Image download: ../Datav2/exports/tc/ab08cb64-67c4-4e7d-8081-b5574131f755_tc.tif (512, 512)\n"
     ]
    },
    {
     "name": "stderr",
     "output_type": "stream",
     "text": [
      "\r",
      " 55%|█████████████████████████████████████████████████████████▊                                                | 808/1482 [46:11<52:04,  4.64s/it]"
     ]
    },
    {
     "name": "stdout",
     "output_type": "stream",
     "text": [
      "Image download: ../Datav2/exports/ndvi/ab08cb64-67c4-4e7d-8081-b5574131f755_ndvi_bw.tif (512, 512)\n",
      "Image download: ../Datav2/exports/tc/ea832344-b0c6-4443-b5f0-457c462d911c_tc.tif (512, 512)\n"
     ]
    },
    {
     "name": "stderr",
     "output_type": "stream",
     "text": [
      "\r",
      " 55%|█████████████████████████████████████████████████████████▊                                                | 809/1482 [46:15<51:29,  4.59s/it]"
     ]
    },
    {
     "name": "stdout",
     "output_type": "stream",
     "text": [
      "Image download: ../Datav2/exports/ndvi/ea832344-b0c6-4443-b5f0-457c462d911c_ndvi_bw.tif (512, 512)\n",
      "Image download: ../Datav2/exports/tc/7cc06465-bf2a-4df2-a68d-5f330e1cea42_tc.tif (512, 512)\n"
     ]
    },
    {
     "name": "stderr",
     "output_type": "stream",
     "text": [
      "\r",
      " 55%|█████████████████████████████████████████████████████████▉                                                | 810/1482 [46:20<51:34,  4.61s/it]"
     ]
    },
    {
     "name": "stdout",
     "output_type": "stream",
     "text": [
      "Image download: ../Datav2/exports/ndvi/7cc06465-bf2a-4df2-a68d-5f330e1cea42_ndvi_bw.tif (512, 512)\n",
      "Image download: ../Datav2/exports/tc/f7a51800-b219-428c-aef0-ee5fa5de4d64_tc.tif (512, 512)\n"
     ]
    },
    {
     "name": "stderr",
     "output_type": "stream",
     "text": [
      "\r",
      " 55%|██████████████████████████████████████████████████████████                                                | 811/1482 [46:24<50:00,  4.47s/it]"
     ]
    },
    {
     "name": "stdout",
     "output_type": "stream",
     "text": [
      "Image download: ../Datav2/exports/ndvi/f7a51800-b219-428c-aef0-ee5fa5de4d64_ndvi_bw.tif (512, 512)\n",
      "Image download: ../Datav2/exports/tc/32d7eab5-d948-4be0-af69-b233e311d2b9_tc.tif (512, 512)\n"
     ]
    },
    {
     "name": "stderr",
     "output_type": "stream",
     "text": [
      "\r",
      " 55%|██████████████████████████████████████████████████████████                                                | 812/1482 [46:29<50:15,  4.50s/it]"
     ]
    },
    {
     "name": "stdout",
     "output_type": "stream",
     "text": [
      "Image download: ../Datav2/exports/ndvi/32d7eab5-d948-4be0-af69-b233e311d2b9_ndvi_bw.tif (512, 512)\n",
      "Image download: ../Datav2/exports/tc/38c666cb-6545-428f-985d-a2589dfb3700_tc.tif (512, 512)\n"
     ]
    },
    {
     "name": "stderr",
     "output_type": "stream",
     "text": [
      "\r",
      " 55%|██████████████████████████████████████████████████████████▏                                               | 813/1482 [46:34<53:02,  4.76s/it]"
     ]
    },
    {
     "name": "stdout",
     "output_type": "stream",
     "text": [
      "Image download: ../Datav2/exports/ndvi/38c666cb-6545-428f-985d-a2589dfb3700_ndvi_bw.tif (512, 512)\n",
      "Image download: ../Datav2/exports/tc/efa1dc61-85e3-4fb6-b6f6-04c3845d9ca6_tc.tif (512, 512)\n"
     ]
    },
    {
     "name": "stderr",
     "output_type": "stream",
     "text": [
      "\r",
      " 55%|█████████████████████████████████████████████████████████                                               | 814/1482 [46:41<1:01:45,  5.55s/it]"
     ]
    },
    {
     "name": "stdout",
     "output_type": "stream",
     "text": [
      "Image download: ../Datav2/exports/ndvi/efa1dc61-85e3-4fb6-b6f6-04c3845d9ca6_ndvi_bw.tif (512, 512)\n",
      "Image download: ../Datav2/exports/tc/19ada70e-4932-449c-8483-d65685995487_tc.tif (512, 512)\n"
     ]
    },
    {
     "name": "stderr",
     "output_type": "stream",
     "text": [
      "\r",
      " 55%|█████████████████████████████████████████████████████████▏                                              | 815/1482 [46:47<1:01:10,  5.50s/it]"
     ]
    },
    {
     "name": "stdout",
     "output_type": "stream",
     "text": [
      "Image download: ../Datav2/exports/ndvi/19ada70e-4932-449c-8483-d65685995487_ndvi_bw.tif (512, 512)\n",
      "Image download: ../Datav2/exports/tc/a8567989-a0c5-4c31-9012-82f99d76129f_tc.tif (512, 512)\n"
     ]
    },
    {
     "name": "stderr",
     "output_type": "stream",
     "text": [
      "\r",
      " 55%|█████████████████████████████████████████████████████████▎                                              | 816/1482 [46:54<1:06:33,  6.00s/it]"
     ]
    },
    {
     "name": "stdout",
     "output_type": "stream",
     "text": [
      "Image download: ../Datav2/exports/ndvi/a8567989-a0c5-4c31-9012-82f99d76129f_ndvi_bw.tif (512, 512)\n",
      "Image download: ../Datav2/exports/tc/c64e288e-d258-45e0-8357-b7a7289c0b92_tc.tif (512, 512)\n"
     ]
    },
    {
     "name": "stderr",
     "output_type": "stream",
     "text": [
      "\r",
      " 55%|█████████████████████████████████████████████████████████▎                                              | 817/1482 [46:59<1:03:11,  5.70s/it]"
     ]
    },
    {
     "name": "stdout",
     "output_type": "stream",
     "text": [
      "Image download: ../Datav2/exports/ndvi/c64e288e-d258-45e0-8357-b7a7289c0b92_ndvi_bw.tif (512, 512)\n",
      "Image download: ../Datav2/exports/tc/04b4caff-a62d-465b-b9a7-81986f91c0c3_tc.tif (512, 512)\n"
     ]
    },
    {
     "name": "stderr",
     "output_type": "stream",
     "text": [
      "\r",
      " 55%|█████████████████████████████████████████████████████████▍                                              | 818/1482 [47:06<1:05:56,  5.96s/it]"
     ]
    },
    {
     "name": "stdout",
     "output_type": "stream",
     "text": [
      "Image download: ../Datav2/exports/ndvi/04b4caff-a62d-465b-b9a7-81986f91c0c3_ndvi_bw.tif (512, 512)\n",
      "Image download: ../Datav2/exports/tc/e7cb239e-7d9e-440d-ba5a-c6881406ce95_tc.tif (512, 512)\n"
     ]
    },
    {
     "name": "stderr",
     "output_type": "stream",
     "text": [
      "\r",
      " 55%|█████████████████████████████████████████████████████████▍                                              | 819/1482 [47:12<1:07:27,  6.11s/it]"
     ]
    },
    {
     "name": "stdout",
     "output_type": "stream",
     "text": [
      "Image download: ../Datav2/exports/ndvi/e7cb239e-7d9e-440d-ba5a-c6881406ce95_ndvi_bw.tif (512, 512)\n",
      "Image download: ../Datav2/exports/tc/c9009967-c0c1-47d3-b2eb-47b2d7a5da0e_tc.tif (512, 512)\n"
     ]
    },
    {
     "name": "stderr",
     "output_type": "stream",
     "text": [
      "\r",
      " 55%|█████████████████████████████████████████████████████████▌                                              | 820/1482 [47:16<1:01:44,  5.60s/it]"
     ]
    },
    {
     "name": "stdout",
     "output_type": "stream",
     "text": [
      "Image download: ../Datav2/exports/ndvi/c9009967-c0c1-47d3-b2eb-47b2d7a5da0e_ndvi_bw.tif (512, 512)\n",
      "Image download: ../Datav2/exports/tc/92fc9725-ac49-4632-8bbf-e299483940b8_tc.tif (512, 512)\n"
     ]
    },
    {
     "name": "stderr",
     "output_type": "stream",
     "text": [
      "\r",
      " 55%|██████████████████████████████████████████████████████████▋                                               | 821/1482 [47:20<56:25,  5.12s/it]"
     ]
    },
    {
     "name": "stdout",
     "output_type": "stream",
     "text": [
      "Image download: ../Datav2/exports/ndvi/92fc9725-ac49-4632-8bbf-e299483940b8_ndvi_bw.tif (512, 512)\n",
      "Image download: ../Datav2/exports/tc/cf38fe5e-29ca-498d-bc9c-d3f2fd8ff883_tc.tif (512, 512)\n"
     ]
    },
    {
     "name": "stderr",
     "output_type": "stream",
     "text": [
      "\r",
      " 55%|██████████████████████████████████████████████████████████▊                                               | 822/1482 [47:25<54:03,  4.91s/it]"
     ]
    },
    {
     "name": "stdout",
     "output_type": "stream",
     "text": [
      "Image download: ../Datav2/exports/ndvi/cf38fe5e-29ca-498d-bc9c-d3f2fd8ff883_ndvi_bw.tif (512, 512)\n",
      "Image download: ../Datav2/exports/tc/0176a674-c102-4854-92af-7d09aa3e1430_tc.tif (512, 512)\n"
     ]
    },
    {
     "name": "stderr",
     "output_type": "stream",
     "text": [
      "\r",
      " 56%|██████████████████████████████████████████████████████████▊                                               | 823/1482 [47:30<53:24,  4.86s/it]"
     ]
    },
    {
     "name": "stdout",
     "output_type": "stream",
     "text": [
      "Image download: ../Datav2/exports/ndvi/0176a674-c102-4854-92af-7d09aa3e1430_ndvi_bw.tif (512, 512)\n",
      "Image download: ../Datav2/exports/tc/c4f61042-d1ef-4d00-956d-785368ee34ca_tc.tif (512, 512)\n"
     ]
    },
    {
     "name": "stderr",
     "output_type": "stream",
     "text": [
      "\r",
      " 56%|██████████████████████████████████████████████████████████▉                                               | 824/1482 [47:35<54:15,  4.95s/it]"
     ]
    },
    {
     "name": "stdout",
     "output_type": "stream",
     "text": [
      "Image download: ../Datav2/exports/ndvi/c4f61042-d1ef-4d00-956d-785368ee34ca_ndvi_bw.tif (512, 512)\n",
      "Image download: ../Datav2/exports/tc/ab42234a-7930-4636-8af5-3fc11ca8b34d_tc.tif (512, 512)\n"
     ]
    },
    {
     "name": "stderr",
     "output_type": "stream",
     "text": [
      "\r",
      " 56%|███████████████████████████████████████████████████████████                                               | 825/1482 [47:39<52:12,  4.77s/it]"
     ]
    },
    {
     "name": "stdout",
     "output_type": "stream",
     "text": [
      "Image download: ../Datav2/exports/ndvi/ab42234a-7930-4636-8af5-3fc11ca8b34d_ndvi_bw.tif (512, 512)\n",
      "Image download: ../Datav2/exports/tc/cb3599f6-751d-4072-8db1-6e366ac603c9_tc.tif (512, 512)\n"
     ]
    },
    {
     "name": "stderr",
     "output_type": "stream",
     "text": [
      "\r",
      " 56%|███████████████████████████████████████████████████████████                                               | 826/1482 [47:44<52:59,  4.85s/it]"
     ]
    },
    {
     "name": "stdout",
     "output_type": "stream",
     "text": [
      "Image download: ../Datav2/exports/ndvi/cb3599f6-751d-4072-8db1-6e366ac603c9_ndvi_bw.tif (512, 512)\n",
      "Image download: ../Datav2/exports/tc/98bf51ea-bf23-40a3-b95e-4b795baced3e_tc.tif (512, 512)\n"
     ]
    },
    {
     "name": "stderr",
     "output_type": "stream",
     "text": [
      "\r",
      " 56%|███████████████████████████████████████████████████████████▏                                              | 827/1482 [47:49<51:48,  4.75s/it]"
     ]
    },
    {
     "name": "stdout",
     "output_type": "stream",
     "text": [
      "Image download: ../Datav2/exports/ndvi/98bf51ea-bf23-40a3-b95e-4b795baced3e_ndvi_bw.tif (512, 512)\n",
      "Image download: ../Datav2/exports/tc/f2e55878-e387-412b-a067-dadc649bed43_tc.tif (512, 512)\n"
     ]
    },
    {
     "name": "stderr",
     "output_type": "stream",
     "text": [
      "\r",
      " 56%|███████████████████████████████████████████████████████████▏                                              | 828/1482 [47:53<51:28,  4.72s/it]"
     ]
    },
    {
     "name": "stdout",
     "output_type": "stream",
     "text": [
      "Image download: ../Datav2/exports/ndvi/f2e55878-e387-412b-a067-dadc649bed43_ndvi_bw.tif (512, 512)\n",
      "Image download: ../Datav2/exports/tc/01202971-a157-41f8-91cc-cf7c3b8f9473_tc.tif (512, 512)\n"
     ]
    },
    {
     "name": "stderr",
     "output_type": "stream",
     "text": [
      "\r",
      " 56%|███████████████████████████████████████████████████████████▎                                              | 829/1482 [47:58<50:12,  4.61s/it]"
     ]
    },
    {
     "name": "stdout",
     "output_type": "stream",
     "text": [
      "Image download: ../Datav2/exports/ndvi/01202971-a157-41f8-91cc-cf7c3b8f9473_ndvi_bw.tif (512, 512)\n",
      "Image download: ../Datav2/exports/tc/f839c34f-de3b-4e79-9b4f-e3502557d32b_tc.tif (512, 512)\n"
     ]
    },
    {
     "name": "stderr",
     "output_type": "stream",
     "text": [
      "\r",
      " 56%|███████████████████████████████████████████████████████████▎                                              | 830/1482 [48:02<48:53,  4.50s/it]"
     ]
    },
    {
     "name": "stdout",
     "output_type": "stream",
     "text": [
      "Image download: ../Datav2/exports/ndvi/f839c34f-de3b-4e79-9b4f-e3502557d32b_ndvi_bw.tif (512, 512)\n",
      "Image download: ../Datav2/exports/tc/62a5257e-a841-4f7a-ae19-52aa89570bd9_tc.tif (512, 512)\n"
     ]
    },
    {
     "name": "stderr",
     "output_type": "stream",
     "text": [
      "\r",
      " 56%|███████████████████████████████████████████████████████████▍                                              | 831/1482 [48:08<53:57,  4.97s/it]"
     ]
    },
    {
     "name": "stdout",
     "output_type": "stream",
     "text": [
      "Image download: ../Datav2/exports/ndvi/62a5257e-a841-4f7a-ae19-52aa89570bd9_ndvi_bw.tif (512, 512)\n",
      "Image download: ../Datav2/exports/tc/58533f37-ed81-4ac4-89e9-b4088684d9e7_tc.tif (512, 512)\n"
     ]
    },
    {
     "name": "stderr",
     "output_type": "stream",
     "text": [
      "\r",
      " 56%|███████████████████████████████████████████████████████████▌                                              | 832/1482 [48:13<55:20,  5.11s/it]"
     ]
    },
    {
     "name": "stdout",
     "output_type": "stream",
     "text": [
      "Image download: ../Datav2/exports/ndvi/58533f37-ed81-4ac4-89e9-b4088684d9e7_ndvi_bw.tif (512, 512)\n",
      "Image download: ../Datav2/exports/tc/03d74bbd-627c-47af-a2e9-5351e6e16f6a_tc.tif (512, 512)\n"
     ]
    },
    {
     "name": "stderr",
     "output_type": "stream",
     "text": [
      "\r",
      " 56%|███████████████████████████████████████████████████████████▌                                              | 833/1482 [48:18<53:21,  4.93s/it]"
     ]
    },
    {
     "name": "stdout",
     "output_type": "stream",
     "text": [
      "Image download: ../Datav2/exports/ndvi/03d74bbd-627c-47af-a2e9-5351e6e16f6a_ndvi_bw.tif (512, 512)\n",
      "Image download: ../Datav2/exports/tc/273d1f78-c432-46c0-8969-26c3f936cc65_tc.tif (512, 512)\n"
     ]
    },
    {
     "name": "stderr",
     "output_type": "stream",
     "text": [
      "\r",
      " 56%|███████████████████████████████████████████████████████████▋                                              | 834/1482 [48:22<50:17,  4.66s/it]"
     ]
    },
    {
     "name": "stdout",
     "output_type": "stream",
     "text": [
      "Image download: ../Datav2/exports/ndvi/273d1f78-c432-46c0-8969-26c3f936cc65_ndvi_bw.tif (512, 512)\n",
      "Image download: ../Datav2/exports/tc/bc12dbf6-db36-4dcf-86d6-84d3beb14cad_tc.tif (512, 512)\n"
     ]
    },
    {
     "name": "stderr",
     "output_type": "stream",
     "text": [
      "\r",
      " 56%|███████████████████████████████████████████████████████████▋                                              | 835/1482 [48:27<49:58,  4.63s/it]"
     ]
    },
    {
     "name": "stdout",
     "output_type": "stream",
     "text": [
      "Image download: ../Datav2/exports/ndvi/bc12dbf6-db36-4dcf-86d6-84d3beb14cad_ndvi_bw.tif (512, 512)\n",
      "Image download: ../Datav2/exports/tc/2049dbb6-1a87-4d9d-abde-092d35072934_tc.tif (512, 512)\n"
     ]
    },
    {
     "name": "stderr",
     "output_type": "stream",
     "text": [
      "\r",
      " 56%|███████████████████████████████████████████████████████████▊                                              | 836/1482 [48:31<49:26,  4.59s/it]"
     ]
    },
    {
     "name": "stdout",
     "output_type": "stream",
     "text": [
      "Image download: ../Datav2/exports/ndvi/2049dbb6-1a87-4d9d-abde-092d35072934_ndvi_bw.tif (512, 512)\n",
      "Image download: ../Datav2/exports/tc/fc87e089-36dc-4314-8321-7d91e7eead21_tc.tif (512, 512)\n"
     ]
    },
    {
     "name": "stderr",
     "output_type": "stream",
     "text": [
      "\r",
      " 56%|███████████████████████████████████████████████████████████▊                                              | 837/1482 [48:37<52:46,  4.91s/it]"
     ]
    },
    {
     "name": "stdout",
     "output_type": "stream",
     "text": [
      "Image download: ../Datav2/exports/ndvi/fc87e089-36dc-4314-8321-7d91e7eead21_ndvi_bw.tif (512, 512)\n",
      "Image download: ../Datav2/exports/tc/6ab80358-cb3c-4e2a-85da-0cd77003fc12_tc.tif (512, 512)\n"
     ]
    },
    {
     "name": "stderr",
     "output_type": "stream",
     "text": [
      "\r",
      " 57%|███████████████████████████████████████████████████████████▉                                              | 838/1482 [48:42<54:17,  5.06s/it]"
     ]
    },
    {
     "name": "stdout",
     "output_type": "stream",
     "text": [
      "Image download: ../Datav2/exports/ndvi/6ab80358-cb3c-4e2a-85da-0cd77003fc12_ndvi_bw.tif (512, 512)\n",
      "Image download: ../Datav2/exports/tc/e3ed6829-5211-436a-8e32-ec617c3ebc83_tc.tif (512, 512)\n"
     ]
    },
    {
     "name": "stderr",
     "output_type": "stream",
     "text": [
      "\r",
      " 57%|████████████████████████████████████████████████████████████                                              | 839/1482 [48:47<53:11,  4.96s/it]"
     ]
    },
    {
     "name": "stdout",
     "output_type": "stream",
     "text": [
      "Image download: ../Datav2/exports/ndvi/e3ed6829-5211-436a-8e32-ec617c3ebc83_ndvi_bw.tif (512, 512)\n",
      "Image download: ../Datav2/exports/tc/e2c1718a-40e5-4139-a379-011c77f021bd_tc.tif (512, 512)\n"
     ]
    },
    {
     "name": "stderr",
     "output_type": "stream",
     "text": [
      "\r",
      " 57%|████████████████████████████████████████████████████████████                                              | 840/1482 [48:51<51:06,  4.78s/it]"
     ]
    },
    {
     "name": "stdout",
     "output_type": "stream",
     "text": [
      "Image download: ../Datav2/exports/ndvi/e2c1718a-40e5-4139-a379-011c77f021bd_ndvi_bw.tif (512, 512)\n",
      "Image download: ../Datav2/exports/tc/adf929a5-d508-4f69-8845-8fa1df8d4f95_tc.tif (512, 512)\n"
     ]
    },
    {
     "name": "stderr",
     "output_type": "stream",
     "text": [
      "\r",
      " 57%|████████████████████████████████████████████████████████████▏                                             | 841/1482 [48:56<50:35,  4.74s/it]"
     ]
    },
    {
     "name": "stdout",
     "output_type": "stream",
     "text": [
      "Image download: ../Datav2/exports/ndvi/adf929a5-d508-4f69-8845-8fa1df8d4f95_ndvi_bw.tif (512, 512)\n",
      "Image download: ../Datav2/exports/tc/82c2aafa-ef04-49f0-a172-0dfa8a15582e_tc.tif (512, 512)\n"
     ]
    },
    {
     "name": "stderr",
     "output_type": "stream",
     "text": [
      "\r",
      " 57%|████████████████████████████████████████████████████████████▏                                             | 842/1482 [49:01<51:04,  4.79s/it]"
     ]
    },
    {
     "name": "stdout",
     "output_type": "stream",
     "text": [
      "Image download: ../Datav2/exports/ndvi/82c2aafa-ef04-49f0-a172-0dfa8a15582e_ndvi_bw.tif (512, 512)\n",
      "Image download: ../Datav2/exports/tc/82c2aafa-ef04-49f0-a172-0dfa8a15582e_tc.tif (512, 512)\n"
     ]
    },
    {
     "name": "stderr",
     "output_type": "stream",
     "text": [
      "\r",
      " 57%|████████████████████████████████████████████████████████████▎                                             | 843/1482 [49:08<58:22,  5.48s/it]"
     ]
    },
    {
     "name": "stdout",
     "output_type": "stream",
     "text": [
      "Image download: ../Datav2/exports/ndvi/82c2aafa-ef04-49f0-a172-0dfa8a15582e_ndvi_bw.tif (512, 512)\n",
      "Image download: ../Datav2/exports/tc/676946dc-1b38-4a09-9bbe-9ce638cfed52_tc.tif (512, 512)\n"
     ]
    },
    {
     "name": "stderr",
     "output_type": "stream",
     "text": [
      "\r",
      " 57%|████████████████████████████████████████████████████████████▎                                             | 844/1482 [49:13<58:01,  5.46s/it]"
     ]
    },
    {
     "name": "stdout",
     "output_type": "stream",
     "text": [
      "Image download: ../Datav2/exports/ndvi/676946dc-1b38-4a09-9bbe-9ce638cfed52_ndvi_bw.tif (512, 512)\n",
      "Image download: ../Datav2/exports/tc/676946dc-1b38-4a09-9bbe-9ce638cfed52_tc.tif (512, 512)\n"
     ]
    },
    {
     "name": "stderr",
     "output_type": "stream",
     "text": [
      "\r",
      " 57%|████████████████████████████████████████████████████████████▍                                             | 845/1482 [49:18<56:17,  5.30s/it]"
     ]
    },
    {
     "name": "stdout",
     "output_type": "stream",
     "text": [
      "Image download: ../Datav2/exports/ndvi/676946dc-1b38-4a09-9bbe-9ce638cfed52_ndvi_bw.tif (512, 512)\n",
      "Image download: ../Datav2/exports/tc/be79d28c-767d-4a0d-b168-e86a5842004f_tc.tif (512, 512)\n"
     ]
    },
    {
     "name": "stderr",
     "output_type": "stream",
     "text": [
      "\r",
      " 57%|████████████████████████████████████████████████████████████▌                                             | 846/1482 [49:23<54:54,  5.18s/it]"
     ]
    },
    {
     "name": "stdout",
     "output_type": "stream",
     "text": [
      "Image download: ../Datav2/exports/ndvi/be79d28c-767d-4a0d-b168-e86a5842004f_ndvi_bw.tif (512, 512)\n",
      "Image download: ../Datav2/exports/tc/be79d28c-767d-4a0d-b168-e86a5842004f_tc.tif (512, 512)\n"
     ]
    },
    {
     "name": "stderr",
     "output_type": "stream",
     "text": [
      "\r",
      " 57%|████████████████████████████████████████████████████████████▌                                             | 847/1482 [49:28<53:35,  5.06s/it]"
     ]
    },
    {
     "name": "stdout",
     "output_type": "stream",
     "text": [
      "Image download: ../Datav2/exports/ndvi/be79d28c-767d-4a0d-b168-e86a5842004f_ndvi_bw.tif (512, 512)\n",
      "Image download: ../Datav2/exports/tc/608ed849-d1ec-4b0d-a477-d1b8e9c7e6dd_tc.tif (512, 512)\n"
     ]
    },
    {
     "name": "stderr",
     "output_type": "stream",
     "text": [
      "\r",
      " 57%|████████████████████████████████████████████████████████████▋                                             | 848/1482 [49:32<51:00,  4.83s/it]"
     ]
    },
    {
     "name": "stdout",
     "output_type": "stream",
     "text": [
      "Image download: ../Datav2/exports/ndvi/608ed849-d1ec-4b0d-a477-d1b8e9c7e6dd_ndvi_bw.tif (512, 512)\n",
      "Image download: ../Datav2/exports/tc/c229ea5c-2ebd-4f80-892e-fc5da8a1eeea_tc.tif (512, 512)\n"
     ]
    },
    {
     "name": "stderr",
     "output_type": "stream",
     "text": [
      "\r",
      " 57%|████████████████████████████████████████████████████████████▋                                             | 849/1482 [49:36<48:50,  4.63s/it]"
     ]
    },
    {
     "name": "stdout",
     "output_type": "stream",
     "text": [
      "Image download: ../Datav2/exports/ndvi/c229ea5c-2ebd-4f80-892e-fc5da8a1eeea_ndvi_bw.tif (512, 512)\n",
      "Image download: ../Datav2/exports/tc/36d55b1a-a2f4-4f40-b57c-48341bb2ace5_tc.tif (512, 512)\n"
     ]
    },
    {
     "name": "stderr",
     "output_type": "stream",
     "text": [
      "\r",
      " 57%|███████████████████████████████████████████████████████████▋                                            | 850/1482 [49:47<1:08:11,  6.47s/it]"
     ]
    },
    {
     "name": "stdout",
     "output_type": "stream",
     "text": [
      "Image download: ../Datav2/exports/ndvi/36d55b1a-a2f4-4f40-b57c-48341bb2ace5_ndvi_bw.tif (512, 512)\n",
      "Image download: ../Datav2/exports/tc/0f32c2db-7d28-4cf6-85b8-44b53899c8eb_tc.tif (512, 512)\n"
     ]
    },
    {
     "name": "stderr",
     "output_type": "stream",
     "text": [
      "\r",
      " 57%|███████████████████████████████████████████████████████████▋                                            | 851/1482 [49:52<1:02:55,  5.98s/it]"
     ]
    },
    {
     "name": "stdout",
     "output_type": "stream",
     "text": [
      "Image download: ../Datav2/exports/ndvi/0f32c2db-7d28-4cf6-85b8-44b53899c8eb_ndvi_bw.tif (512, 512)\n",
      "Image download: ../Datav2/exports/tc/9a2b8ac1-41f4-4f98-a4e1-9b5ddee37251_tc.tif (512, 512)\n"
     ]
    },
    {
     "name": "stderr",
     "output_type": "stream",
     "text": [
      "\r",
      " 57%|████████████████████████████████████████████████████████████▉                                             | 852/1482 [49:56<56:25,  5.37s/it]"
     ]
    },
    {
     "name": "stdout",
     "output_type": "stream",
     "text": [
      "Image download: ../Datav2/exports/ndvi/9a2b8ac1-41f4-4f98-a4e1-9b5ddee37251_ndvi_bw.tif (512, 512)\n",
      "Image download: ../Datav2/exports/tc/29c37ab7-3af9-458f-b6d3-72023a8c1046_tc.tif (512, 512)\n"
     ]
    },
    {
     "name": "stderr",
     "output_type": "stream",
     "text": [
      "\r",
      " 58%|█████████████████████████████████████████████████████████████                                             | 853/1482 [50:01<55:55,  5.34s/it]"
     ]
    },
    {
     "name": "stdout",
     "output_type": "stream",
     "text": [
      "Image download: ../Datav2/exports/ndvi/29c37ab7-3af9-458f-b6d3-72023a8c1046_ndvi_bw.tif (512, 512)\n",
      "Image download: ../Datav2/exports/tc/4ca0e06c-4e6e-4e00-a4a4-6813e3200bd5_tc.tif (512, 512)\n"
     ]
    },
    {
     "name": "stderr",
     "output_type": "stream",
     "text": [
      "\r",
      " 58%|█████████████████████████████████████████████████████████████                                             | 854/1482 [50:06<53:15,  5.09s/it]"
     ]
    },
    {
     "name": "stdout",
     "output_type": "stream",
     "text": [
      "Image download: ../Datav2/exports/ndvi/4ca0e06c-4e6e-4e00-a4a4-6813e3200bd5_ndvi_bw.tif (512, 512)\n",
      "Image download: ../Datav2/exports/tc/f30518d1-83ef-440c-8058-d4189bfedab7_tc.tif (512, 512)\n"
     ]
    },
    {
     "name": "stderr",
     "output_type": "stream",
     "text": [
      "\r",
      " 58%|█████████████████████████████████████████████████████████████▏                                            | 855/1482 [50:10<50:33,  4.84s/it]"
     ]
    },
    {
     "name": "stdout",
     "output_type": "stream",
     "text": [
      "Image download: ../Datav2/exports/ndvi/f30518d1-83ef-440c-8058-d4189bfedab7_ndvi_bw.tif (512, 512)\n",
      "Image download: ../Datav2/exports/tc/15b21d31-eadf-47bb-a030-20c531b3077b_tc.tif (512, 512)\n"
     ]
    },
    {
     "name": "stderr",
     "output_type": "stream",
     "text": [
      "\r",
      " 58%|█████████████████████████████████████████████████████████████▏                                            | 856/1482 [50:16<54:52,  5.26s/it]"
     ]
    },
    {
     "name": "stdout",
     "output_type": "stream",
     "text": [
      "Image download: ../Datav2/exports/ndvi/15b21d31-eadf-47bb-a030-20c531b3077b_ndvi_bw.tif (512, 512)\n",
      "Image download: ../Datav2/exports/tc/0de36981-b31f-45c7-befd-1596f982e7db_tc.tif (512, 512)\n"
     ]
    },
    {
     "name": "stderr",
     "output_type": "stream",
     "text": [
      "\r",
      " 58%|█████████████████████████████████████████████████████████████▎                                            | 857/1482 [50:23<58:45,  5.64s/it]"
     ]
    },
    {
     "name": "stdout",
     "output_type": "stream",
     "text": [
      "Image download: ../Datav2/exports/ndvi/0de36981-b31f-45c7-befd-1596f982e7db_ndvi_bw.tif (512, 512)\n",
      "Image download: ../Datav2/exports/tc/969c721c-5f27-41d4-9a94-ffa12e351204_tc.tif (512, 512)\n"
     ]
    },
    {
     "name": "stderr",
     "output_type": "stream",
     "text": [
      "\r",
      " 58%|█████████████████████████████████████████████████████████████▎                                            | 858/1482 [50:28<56:26,  5.43s/it]"
     ]
    },
    {
     "name": "stdout",
     "output_type": "stream",
     "text": [
      "Image download: ../Datav2/exports/ndvi/969c721c-5f27-41d4-9a94-ffa12e351204_ndvi_bw.tif (512, 512)\n",
      "Image download: ../Datav2/exports/tc/fe6e94d7-7b47-4992-9a52-787e1fad8171_tc.tif (512, 512)\n"
     ]
    },
    {
     "name": "stderr",
     "output_type": "stream",
     "text": [
      "\r",
      " 58%|████████████████████████████████████████████████████████████▎                                           | 859/1482 [50:36<1:04:09,  6.18s/it]"
     ]
    },
    {
     "name": "stdout",
     "output_type": "stream",
     "text": [
      "Image download: ../Datav2/exports/ndvi/fe6e94d7-7b47-4992-9a52-787e1fad8171_ndvi_bw.tif (512, 512)\n",
      "Image download: ../Datav2/exports/tc/f8ce12e2-e7c1-4922-b584-63e4421d0598_tc.tif (512, 512)\n"
     ]
    },
    {
     "name": "stderr",
     "output_type": "stream",
     "text": [
      "\r",
      " 58%|████████████████████████████████████████████████████████████▎                                           | 860/1482 [50:41<1:01:03,  5.89s/it]"
     ]
    },
    {
     "name": "stdout",
     "output_type": "stream",
     "text": [
      "Image download: ../Datav2/exports/ndvi/f8ce12e2-e7c1-4922-b584-63e4421d0598_ndvi_bw.tif (512, 512)\n",
      "Image download: ../Datav2/exports/tc/579d5d2a-0e51-4058-92c7-37abd7fe4aad_tc.tif (512, 512)\n"
     ]
    },
    {
     "name": "stderr",
     "output_type": "stream",
     "text": [
      "\r",
      " 58%|█████████████████████████████████████████████████████████████▌                                            | 861/1482 [50:45<55:06,  5.32s/it]"
     ]
    },
    {
     "name": "stdout",
     "output_type": "stream",
     "text": [
      "Image download: ../Datav2/exports/ndvi/579d5d2a-0e51-4058-92c7-37abd7fe4aad_ndvi_bw.tif (512, 512)\n",
      "Image download: ../Datav2/exports/tc/11392e98-1571-4405-8f9c-d347caca28ce_tc.tif (512, 512)\n"
     ]
    },
    {
     "name": "stderr",
     "output_type": "stream",
     "text": [
      "\r",
      " 58%|█████████████████████████████████████████████████████████████▋                                            | 862/1482 [50:49<51:18,  4.97s/it]"
     ]
    },
    {
     "name": "stdout",
     "output_type": "stream",
     "text": [
      "Image download: ../Datav2/exports/ndvi/11392e98-1571-4405-8f9c-d347caca28ce_ndvi_bw.tif (512, 512)\n",
      "Image download: ../Datav2/exports/tc/61e9a1f4-a263-47a0-93ee-64b52ebd92a9_tc.tif (512, 512)\n"
     ]
    },
    {
     "name": "stderr",
     "output_type": "stream",
     "text": [
      "\r",
      " 58%|████████████████████████████████████████████████████████████▌                                           | 863/1482 [50:57<1:00:01,  5.82s/it]"
     ]
    },
    {
     "name": "stdout",
     "output_type": "stream",
     "text": [
      "Image download: ../Datav2/exports/ndvi/61e9a1f4-a263-47a0-93ee-64b52ebd92a9_ndvi_bw.tif (512, 512)\n",
      "Image download: ../Datav2/exports/tc/0e9f14ae-01d5-4fbe-85a0-d0967233dc90_tc.tif (512, 512)\n"
     ]
    },
    {
     "name": "stderr",
     "output_type": "stream",
     "text": [
      "\r",
      " 58%|█████████████████████████████████████████████████████████████▊                                            | 864/1482 [51:02<58:47,  5.71s/it]"
     ]
    },
    {
     "name": "stdout",
     "output_type": "stream",
     "text": [
      "Image download: ../Datav2/exports/ndvi/0e9f14ae-01d5-4fbe-85a0-d0967233dc90_ndvi_bw.tif (512, 512)\n",
      "Image download: ../Datav2/exports/tc/46d1ec10-be8e-474a-b98f-ba7cd3521ccd_tc.tif (512, 512)\n"
     ]
    },
    {
     "name": "stderr",
     "output_type": "stream",
     "text": [
      "\r",
      " 58%|█████████████████████████████████████████████████████████████▊                                            | 865/1482 [51:07<55:13,  5.37s/it]"
     ]
    },
    {
     "name": "stdout",
     "output_type": "stream",
     "text": [
      "Image download: ../Datav2/exports/ndvi/46d1ec10-be8e-474a-b98f-ba7cd3521ccd_ndvi_bw.tif (512, 512)\n",
      "Image download: ../Datav2/exports/tc/ec27a3bd-959b-48f3-872e-2c87047dbae2_tc.tif (512, 512)\n"
     ]
    },
    {
     "name": "stderr",
     "output_type": "stream",
     "text": [
      "\r",
      " 58%|████████████████████████████████████████████████████████████▊                                           | 866/1482 [51:14<1:00:11,  5.86s/it]"
     ]
    },
    {
     "name": "stdout",
     "output_type": "stream",
     "text": [
      "Image download: ../Datav2/exports/ndvi/ec27a3bd-959b-48f3-872e-2c87047dbae2_ndvi_bw.tif (512, 512)\n",
      "Image download: ../Datav2/exports/tc/92a8a466-061b-430a-87f9-3b5192947578_tc.tif (512, 512)\n"
     ]
    },
    {
     "name": "stderr",
     "output_type": "stream",
     "text": [
      "\r",
      " 59%|████████████████████████████████████████████████████████████▊                                           | 867/1482 [51:20<1:00:14,  5.88s/it]"
     ]
    },
    {
     "name": "stdout",
     "output_type": "stream",
     "text": [
      "Image download: ../Datav2/exports/ndvi/92a8a466-061b-430a-87f9-3b5192947578_ndvi_bw.tif (512, 512)\n",
      "Image download: ../Datav2/exports/tc/2725461a-6ad1-43fd-8b83-5e219df4d558_tc.tif (512, 512)\n"
     ]
    },
    {
     "name": "stderr",
     "output_type": "stream",
     "text": [
      "\r",
      " 59%|██████████████████████████████████████████████████████████████                                            | 868/1482 [51:24<56:19,  5.50s/it]"
     ]
    },
    {
     "name": "stdout",
     "output_type": "stream",
     "text": [
      "Image download: ../Datav2/exports/ndvi/2725461a-6ad1-43fd-8b83-5e219df4d558_ndvi_bw.tif (512, 512)\n",
      "Image download: ../Datav2/exports/tc/d12bbce8-5acb-43ef-a259-4fbaf90d32ff_tc.tif (512, 512)\n"
     ]
    },
    {
     "name": "stderr",
     "output_type": "stream",
     "text": [
      "\r",
      " 59%|██████████████████████████████████████████████████████████████▏                                           | 869/1482 [51:30<55:47,  5.46s/it]"
     ]
    },
    {
     "name": "stdout",
     "output_type": "stream",
     "text": [
      "Image download: ../Datav2/exports/ndvi/d12bbce8-5acb-43ef-a259-4fbaf90d32ff_ndvi_bw.tif (512, 512)\n",
      "Image download: ../Datav2/exports/tc/a7ecc679-7fbc-4370-9a55-8e17bf262a2e_tc.tif (512, 512)\n"
     ]
    },
    {
     "name": "stderr",
     "output_type": "stream",
     "text": [
      "\r",
      " 59%|██████████████████████████████████████████████████████████████▏                                           | 870/1482 [51:36<57:29,  5.64s/it]"
     ]
    },
    {
     "name": "stdout",
     "output_type": "stream",
     "text": [
      "Image download: ../Datav2/exports/ndvi/a7ecc679-7fbc-4370-9a55-8e17bf262a2e_ndvi_bw.tif (512, 512)\n",
      "Image download: ../Datav2/exports/tc/eb8b50ba-b6bc-4668-b3f1-dcdbfbe71b17_tc.tif (512, 512)\n"
     ]
    },
    {
     "name": "stderr",
     "output_type": "stream",
     "text": [
      "\r",
      " 59%|██████████████████████████████████████████████████████████████▎                                           | 871/1482 [51:41<55:18,  5.43s/it]"
     ]
    },
    {
     "name": "stdout",
     "output_type": "stream",
     "text": [
      "Image download: ../Datav2/exports/ndvi/eb8b50ba-b6bc-4668-b3f1-dcdbfbe71b17_ndvi_bw.tif (512, 512)\n",
      "Image download: ../Datav2/exports/tc/3f481060-1106-4857-8ac3-374a68763922_tc.tif (512, 512)\n"
     ]
    },
    {
     "name": "stderr",
     "output_type": "stream",
     "text": [
      "\r",
      " 59%|██████████████████████████████████████████████████████████████▎                                           | 872/1482 [51:46<56:24,  5.55s/it]"
     ]
    },
    {
     "name": "stdout",
     "output_type": "stream",
     "text": [
      "Image download: ../Datav2/exports/ndvi/3f481060-1106-4857-8ac3-374a68763922_ndvi_bw.tif (512, 512)\n",
      "Image download: ../Datav2/exports/tc/d720af5d-af7c-4052-92b3-fced863cb675_tc.tif (512, 512)\n"
     ]
    },
    {
     "name": "stderr",
     "output_type": "stream",
     "text": [
      "\r",
      " 59%|██████████████████████████████████████████████████████████████▍                                           | 873/1482 [51:52<56:05,  5.53s/it]"
     ]
    },
    {
     "name": "stdout",
     "output_type": "stream",
     "text": [
      "Image download: ../Datav2/exports/ndvi/d720af5d-af7c-4052-92b3-fced863cb675_ndvi_bw.tif (512, 512)\n",
      "Image download: ../Datav2/exports/tc/c58da6fd-a2e2-4706-9a2e-ee03884c714d_tc.tif (512, 512)\n"
     ]
    },
    {
     "name": "stderr",
     "output_type": "stream",
     "text": [
      "\r",
      " 59%|██████████████████████████████████████████████████████████████▌                                           | 874/1482 [51:57<53:37,  5.29s/it]"
     ]
    },
    {
     "name": "stdout",
     "output_type": "stream",
     "text": [
      "Image download: ../Datav2/exports/ndvi/c58da6fd-a2e2-4706-9a2e-ee03884c714d_ndvi_bw.tif (512, 512)\n",
      "Image download: ../Datav2/exports/tc/733028fc-bf0a-4737-878b-78a29c9ee2ee_tc.tif (512, 512)\n"
     ]
    },
    {
     "name": "stderr",
     "output_type": "stream",
     "text": [
      "\r",
      " 59%|██████████████████████████████████████████████████████████████▌                                           | 875/1482 [52:02<54:39,  5.40s/it]"
     ]
    },
    {
     "name": "stdout",
     "output_type": "stream",
     "text": [
      "Image download: ../Datav2/exports/ndvi/733028fc-bf0a-4737-878b-78a29c9ee2ee_ndvi_bw.tif (512, 512)\n",
      "Image download: ../Datav2/exports/tc/b3627eac-9f2f-482a-81a6-681e60b5b24a_tc.tif (512, 512)\n"
     ]
    },
    {
     "name": "stderr",
     "output_type": "stream",
     "text": [
      "\r",
      " 59%|██████████████████████████████████████████████████████████████▋                                           | 876/1482 [52:08<56:28,  5.59s/it]"
     ]
    },
    {
     "name": "stdout",
     "output_type": "stream",
     "text": [
      "Image download: ../Datav2/exports/ndvi/b3627eac-9f2f-482a-81a6-681e60b5b24a_ndvi_bw.tif (512, 512)\n",
      "Image download: ../Datav2/exports/tc/dcd7fb2e-3a4f-427e-9b13-1d2bcb0e8ac6_tc.tif (512, 512)\n"
     ]
    },
    {
     "name": "stderr",
     "output_type": "stream",
     "text": [
      "\r",
      " 59%|██████████████████████████████████████████████████████████████▋                                           | 877/1482 [52:14<57:29,  5.70s/it]"
     ]
    },
    {
     "name": "stdout",
     "output_type": "stream",
     "text": [
      "Image download: ../Datav2/exports/ndvi/dcd7fb2e-3a4f-427e-9b13-1d2bcb0e8ac6_ndvi_bw.tif (512, 512)\n",
      "Image download: ../Datav2/exports/tc/081c7307-b328-4b64-869a-dce8718bab11_tc.tif (512, 512)\n"
     ]
    },
    {
     "name": "stderr",
     "output_type": "stream",
     "text": [
      "\r",
      " 59%|██████████████████████████████████████████████████████████████▊                                           | 878/1482 [52:20<56:45,  5.64s/it]"
     ]
    },
    {
     "name": "stdout",
     "output_type": "stream",
     "text": [
      "Image download: ../Datav2/exports/ndvi/081c7307-b328-4b64-869a-dce8718bab11_ndvi_bw.tif (512, 512)\n",
      "Image download: ../Datav2/exports/tc/e8c7f247-bc31-4e5b-bf71-fe903366d9e5_tc.tif (512, 512)\n"
     ]
    },
    {
     "name": "stderr",
     "output_type": "stream",
     "text": [
      "\r",
      " 59%|█████████████████████████████████████████████████████████████▋                                          | 879/1482 [52:30<1:11:46,  7.14s/it]"
     ]
    },
    {
     "name": "stdout",
     "output_type": "stream",
     "text": [
      "Image download: ../Datav2/exports/ndvi/e8c7f247-bc31-4e5b-bf71-fe903366d9e5_ndvi_bw.tif (512, 512)\n",
      "Image download: ../Datav2/exports/tc/6418a3f5-8f76-4b47-9a46-64af91838857_tc.tif (512, 512)\n"
     ]
    },
    {
     "name": "stderr",
     "output_type": "stream",
     "text": [
      "\r",
      " 59%|█████████████████████████████████████████████████████████████▊                                          | 880/1482 [52:36<1:07:24,  6.72s/it]"
     ]
    },
    {
     "name": "stdout",
     "output_type": "stream",
     "text": [
      "Image download: ../Datav2/exports/ndvi/6418a3f5-8f76-4b47-9a46-64af91838857_ndvi_bw.tif (512, 512)\n",
      "Image download: ../Datav2/exports/tc/494792db-3107-4323-b176-fde4c58cd647_tc.tif (512, 512)\n"
     ]
    },
    {
     "name": "stderr",
     "output_type": "stream",
     "text": [
      "\r",
      " 59%|█████████████████████████████████████████████████████████████▊                                          | 881/1482 [52:43<1:07:13,  6.71s/it]"
     ]
    },
    {
     "name": "stdout",
     "output_type": "stream",
     "text": [
      "Image download: ../Datav2/exports/ndvi/494792db-3107-4323-b176-fde4c58cd647_ndvi_bw.tif (512, 512)\n",
      "Image download: ../Datav2/exports/tc/773795d8-5801-4f7c-a2fe-3f8d0ae18f51_tc.tif (512, 512)\n"
     ]
    },
    {
     "name": "stderr",
     "output_type": "stream",
     "text": [
      "\r",
      " 60%|█████████████████████████████████████████████████████████████▉                                          | 882/1482 [52:48<1:02:45,  6.28s/it]"
     ]
    },
    {
     "name": "stdout",
     "output_type": "stream",
     "text": [
      "Image download: ../Datav2/exports/ndvi/773795d8-5801-4f7c-a2fe-3f8d0ae18f51_ndvi_bw.tif (512, 512)\n",
      "Image download: ../Datav2/exports/tc/33bf7f90-edd9-4bf7-a079-561d5dad25c9_tc.tif (512, 512)\n"
     ]
    },
    {
     "name": "stderr",
     "output_type": "stream",
     "text": [
      "\r",
      " 60%|█████████████████████████████████████████████████████████████▉                                          | 883/1482 [52:56<1:08:13,  6.83s/it]"
     ]
    },
    {
     "name": "stdout",
     "output_type": "stream",
     "text": [
      "Image download: ../Datav2/exports/ndvi/33bf7f90-edd9-4bf7-a079-561d5dad25c9_ndvi_bw.tif (512, 512)\n",
      "Image download: ../Datav2/exports/tc/50bd55cc-7c58-462d-a919-923b4bdcca15_tc.tif (512, 512)\n"
     ]
    },
    {
     "name": "stderr",
     "output_type": "stream",
     "text": [
      "\r",
      " 60%|██████████████████████████████████████████████████████████████                                          | 884/1482 [53:00<1:00:12,  6.04s/it]"
     ]
    },
    {
     "name": "stdout",
     "output_type": "stream",
     "text": [
      "Image download: ../Datav2/exports/ndvi/50bd55cc-7c58-462d-a919-923b4bdcca15_ndvi_bw.tif (512, 512)\n",
      "Image download: ../Datav2/exports/tc/fc8f89b5-988a-4a23-b9e3-333cc690363e_tc.tif (512, 512)\n"
     ]
    },
    {
     "name": "stderr",
     "output_type": "stream",
     "text": [
      "\r",
      " 60%|███████████████████████████████████████████████████████████████▎                                          | 885/1482 [53:06<58:55,  5.92s/it]"
     ]
    },
    {
     "name": "stdout",
     "output_type": "stream",
     "text": [
      "Image download: ../Datav2/exports/ndvi/fc8f89b5-988a-4a23-b9e3-333cc690363e_ndvi_bw.tif (512, 512)\n",
      "Image download: ../Datav2/exports/tc/fb042e0f-1aab-4ac4-9d09-947c9b9f14b6_tc.tif (512, 512)\n"
     ]
    },
    {
     "name": "stderr",
     "output_type": "stream",
     "text": [
      "\r",
      " 60%|██████████████████████████████████████████████████████████████▏                                         | 886/1482 [53:12<1:00:08,  6.05s/it]"
     ]
    },
    {
     "name": "stdout",
     "output_type": "stream",
     "text": [
      "Image download: ../Datav2/exports/ndvi/fb042e0f-1aab-4ac4-9d09-947c9b9f14b6_ndvi_bw.tif (512, 512)\n",
      "Image download: ../Datav2/exports/tc/561d4f1b-0827-48a9-8034-e783d2761945_tc.tif (512, 512)\n"
     ]
    },
    {
     "name": "stderr",
     "output_type": "stream",
     "text": [
      "\r",
      " 60%|███████████████████████████████████████████████████████████████▍                                          | 887/1482 [53:18<58:49,  5.93s/it]"
     ]
    },
    {
     "name": "stdout",
     "output_type": "stream",
     "text": [
      "Image download: ../Datav2/exports/ndvi/561d4f1b-0827-48a9-8034-e783d2761945_ndvi_bw.tif (512, 512)\n",
      "Image download: ../Datav2/exports/tc/09425074-8348-4fbc-b95d-4939750f9345_tc.tif (512, 512)\n"
     ]
    },
    {
     "name": "stderr",
     "output_type": "stream",
     "text": [
      "\r",
      " 60%|███████████████████████████████████████████████████████████████▌                                          | 888/1482 [53:24<58:15,  5.88s/it]"
     ]
    },
    {
     "name": "stdout",
     "output_type": "stream",
     "text": [
      "Image download: ../Datav2/exports/ndvi/09425074-8348-4fbc-b95d-4939750f9345_ndvi_bw.tif (512, 512)\n",
      "Image download: ../Datav2/exports/tc/2ca11d45-8139-4c16-8af0-880d99b21e82_tc.tif (512, 512)\n"
     ]
    },
    {
     "name": "stderr",
     "output_type": "stream",
     "text": [
      "\r",
      " 60%|███████████████████████████████████████████████████████████████▌                                          | 889/1482 [53:29<56:52,  5.75s/it]"
     ]
    },
    {
     "name": "stdout",
     "output_type": "stream",
     "text": [
      "Image download: ../Datav2/exports/ndvi/2ca11d45-8139-4c16-8af0-880d99b21e82_ndvi_bw.tif (512, 512)\n",
      "Image download: ../Datav2/exports/tc/eadd73be-51ab-4078-91cc-04784be3f17f_tc.tif (512, 512)\n"
     ]
    },
    {
     "name": "stderr",
     "output_type": "stream",
     "text": [
      "\r",
      " 60%|███████████████████████████████████████████████████████████████▋                                          | 890/1482 [53:35<55:07,  5.59s/it]"
     ]
    },
    {
     "name": "stdout",
     "output_type": "stream",
     "text": [
      "Image download: ../Datav2/exports/ndvi/eadd73be-51ab-4078-91cc-04784be3f17f_ndvi_bw.tif (512, 512)\n",
      "Image download: ../Datav2/exports/tc/23353f29-33d4-4a7b-b78e-66bc761a55c8_tc.tif (512, 512)\n"
     ]
    },
    {
     "name": "stderr",
     "output_type": "stream",
     "text": [
      "\r",
      " 60%|███████████████████████████████████████████████████████████████▋                                          | 891/1482 [53:40<54:49,  5.57s/it]"
     ]
    },
    {
     "name": "stdout",
     "output_type": "stream",
     "text": [
      "Image download: ../Datav2/exports/ndvi/23353f29-33d4-4a7b-b78e-66bc761a55c8_ndvi_bw.tif (512, 512)\n",
      "Image download: ../Datav2/exports/tc/60d9b4f4-7b48-4820-9adc-5be0b4353a5c_tc.tif (512, 512)\n"
     ]
    },
    {
     "name": "stderr",
     "output_type": "stream",
     "text": [
      "\r",
      " 60%|███████████████████████████████████████████████████████████████▊                                          | 892/1482 [53:45<53:00,  5.39s/it]"
     ]
    },
    {
     "name": "stdout",
     "output_type": "stream",
     "text": [
      "Image download: ../Datav2/exports/ndvi/60d9b4f4-7b48-4820-9adc-5be0b4353a5c_ndvi_bw.tif (512, 512)\n",
      "Image download: ../Datav2/exports/tc/c265dfe8-6217-4a0d-9ea9-37be3b38baef_tc.tif (512, 512)\n"
     ]
    },
    {
     "name": "stderr",
     "output_type": "stream",
     "text": [
      "\r",
      " 60%|███████████████████████████████████████████████████████████████▊                                          | 893/1482 [53:51<54:05,  5.51s/it]"
     ]
    },
    {
     "name": "stdout",
     "output_type": "stream",
     "text": [
      "Image download: ../Datav2/exports/ndvi/c265dfe8-6217-4a0d-9ea9-37be3b38baef_ndvi_bw.tif (512, 512)\n",
      "Image download: ../Datav2/exports/tc/666b3951-76ce-4351-abc6-3e0518d44901_tc.tif (512, 512)\n"
     ]
    },
    {
     "name": "stderr",
     "output_type": "stream",
     "text": [
      "\r",
      " 60%|███████████████████████████████████████████████████████████████▉                                          | 894/1482 [53:56<53:44,  5.48s/it]"
     ]
    },
    {
     "name": "stdout",
     "output_type": "stream",
     "text": [
      "Image download: ../Datav2/exports/ndvi/666b3951-76ce-4351-abc6-3e0518d44901_ndvi_bw.tif (512, 512)\n",
      "Image download: ../Datav2/exports/tc/c425ed8d-1aab-44c8-bc03-39675ad2b0d2_tc.tif (512, 512)\n"
     ]
    },
    {
     "name": "stderr",
     "output_type": "stream",
     "text": [
      "\r",
      " 60%|████████████████████████████████████████████████████████████████                                          | 895/1482 [54:00<49:59,  5.11s/it]"
     ]
    },
    {
     "name": "stdout",
     "output_type": "stream",
     "text": [
      "Image download: ../Datav2/exports/ndvi/c425ed8d-1aab-44c8-bc03-39675ad2b0d2_ndvi_bw.tif (512, 512)\n",
      "Image download: ../Datav2/exports/tc/d28bc34e-73a8-454d-9e55-dea7bdd40bee_tc.tif (512, 512)\n"
     ]
    },
    {
     "name": "stderr",
     "output_type": "stream",
     "text": [
      "\r",
      " 60%|████████████████████████████████████████████████████████████████                                          | 896/1482 [54:05<49:32,  5.07s/it]"
     ]
    },
    {
     "name": "stdout",
     "output_type": "stream",
     "text": [
      "Image download: ../Datav2/exports/ndvi/d28bc34e-73a8-454d-9e55-dea7bdd40bee_ndvi_bw.tif (512, 512)\n",
      "Image download: ../Datav2/exports/tc/d28bc34e-73a8-454d-9e55-dea7bdd40bee_tc.tif (512, 512)\n"
     ]
    },
    {
     "name": "stderr",
     "output_type": "stream",
     "text": [
      "\r",
      " 61%|████████████████████████████████████████████████████████████████▏                                         | 897/1482 [54:11<49:23,  5.07s/it]"
     ]
    },
    {
     "name": "stdout",
     "output_type": "stream",
     "text": [
      "Image download: ../Datav2/exports/ndvi/d28bc34e-73a8-454d-9e55-dea7bdd40bee_ndvi_bw.tif (512, 512)\n",
      "Image download: ../Datav2/exports/tc/a245b55b-3eb7-49dd-9a5e-909d53854055_tc.tif (512, 512)\n"
     ]
    },
    {
     "name": "stderr",
     "output_type": "stream",
     "text": [
      "\r",
      " 61%|████████████████████████████████████████████████████████████████▏                                         | 898/1482 [54:15<48:10,  4.95s/it]"
     ]
    },
    {
     "name": "stdout",
     "output_type": "stream",
     "text": [
      "Image download: ../Datav2/exports/ndvi/a245b55b-3eb7-49dd-9a5e-909d53854055_ndvi_bw.tif (512, 512)\n",
      "Image download: ../Datav2/exports/tc/1e11fa40-e850-45d2-b65e-05aadc9f02f1_tc.tif (512, 512)\n"
     ]
    },
    {
     "name": "stderr",
     "output_type": "stream",
     "text": [
      "\r",
      " 61%|████████████████████████████████████████████████████████████████▎                                         | 899/1482 [54:20<46:47,  4.82s/it]"
     ]
    },
    {
     "name": "stdout",
     "output_type": "stream",
     "text": [
      "Image download: ../Datav2/exports/ndvi/1e11fa40-e850-45d2-b65e-05aadc9f02f1_ndvi_bw.tif (512, 512)\n",
      "Image download: ../Datav2/exports/tc/c5783ba0-227e-4ff6-9d7d-61532ccd469b_tc.tif (512, 512)\n"
     ]
    },
    {
     "name": "stderr",
     "output_type": "stream",
     "text": [
      "\r",
      " 61%|████████████████████████████████████████████████████████████████▎                                         | 900/1482 [54:25<49:10,  5.07s/it]"
     ]
    },
    {
     "name": "stdout",
     "output_type": "stream",
     "text": [
      "Image download: ../Datav2/exports/ndvi/c5783ba0-227e-4ff6-9d7d-61532ccd469b_ndvi_bw.tif (512, 512)\n",
      "Image download: ../Datav2/exports/tc/eb87224a-f7da-4432-84ca-03a706ee3bac_tc.tif (512, 512)\n"
     ]
    },
    {
     "name": "stderr",
     "output_type": "stream",
     "text": [
      "\r",
      " 61%|████████████████████████████████████████████████████████████████▍                                         | 901/1482 [54:30<48:13,  4.98s/it]"
     ]
    },
    {
     "name": "stdout",
     "output_type": "stream",
     "text": [
      "Image download: ../Datav2/exports/ndvi/eb87224a-f7da-4432-84ca-03a706ee3bac_ndvi_bw.tif (512, 512)\n",
      "Image download: ../Datav2/exports/tc/2aad53ef-d6c3-43dc-92e6-b2f9881ff161_tc.tif (512, 512)\n"
     ]
    },
    {
     "name": "stderr",
     "output_type": "stream",
     "text": [
      "\r",
      " 61%|████████████████████████████████████████████████████████████████▌                                         | 902/1482 [54:35<47:00,  4.86s/it]"
     ]
    },
    {
     "name": "stdout",
     "output_type": "stream",
     "text": [
      "Image download: ../Datav2/exports/ndvi/2aad53ef-d6c3-43dc-92e6-b2f9881ff161_ndvi_bw.tif (512, 512)\n",
      "Image download: ../Datav2/exports/tc/fc4fcd00-8eee-43e5-b77f-bbd0c1669744_tc.tif (512, 512)\n"
     ]
    },
    {
     "name": "stderr",
     "output_type": "stream",
     "text": [
      "\r",
      " 61%|████████████████████████████████████████████████████████████████▌                                         | 903/1482 [54:39<45:02,  4.67s/it]"
     ]
    },
    {
     "name": "stdout",
     "output_type": "stream",
     "text": [
      "Image download: ../Datav2/exports/ndvi/fc4fcd00-8eee-43e5-b77f-bbd0c1669744_ndvi_bw.tif (512, 512)\n",
      "Image download: ../Datav2/exports/tc/e1a8e4f1-ba7c-431a-a8c4-069fa3d3d36c_tc.tif (512, 512)\n"
     ]
    },
    {
     "name": "stderr",
     "output_type": "stream",
     "text": [
      "\r",
      " 61%|████████████████████████████████████████████████████████████████▋                                         | 904/1482 [54:43<43:26,  4.51s/it]"
     ]
    },
    {
     "name": "stdout",
     "output_type": "stream",
     "text": [
      "Image download: ../Datav2/exports/ndvi/e1a8e4f1-ba7c-431a-a8c4-069fa3d3d36c_ndvi_bw.tif (512, 512)\n",
      "Image download: ../Datav2/exports/tc/d3f8db86-9947-4a4e-9113-0d7e4806417f_tc.tif (512, 512)\n"
     ]
    },
    {
     "name": "stderr",
     "output_type": "stream",
     "text": [
      "\r",
      " 61%|████████████████████████████████████████████████████████████████▋                                         | 905/1482 [54:48<43:51,  4.56s/it]"
     ]
    },
    {
     "name": "stdout",
     "output_type": "stream",
     "text": [
      "Image download: ../Datav2/exports/ndvi/d3f8db86-9947-4a4e-9113-0d7e4806417f_ndvi_bw.tif (512, 512)\n",
      "Image download: ../Datav2/exports/tc/2fa6f5ce-1c5b-4147-9f1f-9beb01c499af_tc.tif (512, 512)\n"
     ]
    },
    {
     "name": "stderr",
     "output_type": "stream",
     "text": [
      "\r",
      " 61%|████████████████████████████████████████████████████████████████▊                                         | 906/1482 [54:52<43:49,  4.56s/it]"
     ]
    },
    {
     "name": "stdout",
     "output_type": "stream",
     "text": [
      "Image download: ../Datav2/exports/ndvi/2fa6f5ce-1c5b-4147-9f1f-9beb01c499af_ndvi_bw.tif (512, 512)\n",
      "Image download: ../Datav2/exports/tc/64779f92-8353-4187-ae56-2b83eb66d7ca_tc.tif (512, 512)\n"
     ]
    },
    {
     "name": "stderr",
     "output_type": "stream",
     "text": [
      "\r",
      " 61%|████████████████████████████████████████████████████████████████▊                                         | 907/1482 [54:59<49:00,  5.11s/it]"
     ]
    },
    {
     "name": "stdout",
     "output_type": "stream",
     "text": [
      "Image download: ../Datav2/exports/ndvi/64779f92-8353-4187-ae56-2b83eb66d7ca_ndvi_bw.tif (512, 512)\n",
      "Image download: ../Datav2/exports/tc/e32c7957-8f4f-4ec1-a0f6-98085a2a7e89_tc.tif (512, 512)\n"
     ]
    },
    {
     "name": "stderr",
     "output_type": "stream",
     "text": [
      "\r",
      " 61%|████████████████████████████████████████████████████████████████▉                                         | 908/1482 [55:03<46:27,  4.86s/it]"
     ]
    },
    {
     "name": "stdout",
     "output_type": "stream",
     "text": [
      "Image download: ../Datav2/exports/ndvi/e32c7957-8f4f-4ec1-a0f6-98085a2a7e89_ndvi_bw.tif (512, 512)\n",
      "Image download: ../Datav2/exports/tc/d20645f2-81b9-450f-abc1-433b81bd7fea_tc.tif (512, 512)\n"
     ]
    },
    {
     "name": "stderr",
     "output_type": "stream",
     "text": [
      "\r",
      " 61%|█████████████████████████████████████████████████████████████████                                         | 909/1482 [55:09<48:32,  5.08s/it]"
     ]
    },
    {
     "name": "stdout",
     "output_type": "stream",
     "text": [
      "Image download: ../Datav2/exports/ndvi/d20645f2-81b9-450f-abc1-433b81bd7fea_ndvi_bw.tif (512, 512)\n",
      "Image download: ../Datav2/exports/tc/9d0be6f9-d61b-467d-be68-c8a48c0cf930_tc.tif (512, 512)\n"
     ]
    },
    {
     "name": "stderr",
     "output_type": "stream",
     "text": [
      "\r",
      " 61%|█████████████████████████████████████████████████████████████████                                         | 910/1482 [55:13<45:39,  4.79s/it]"
     ]
    },
    {
     "name": "stdout",
     "output_type": "stream",
     "text": [
      "Image download: ../Datav2/exports/ndvi/9d0be6f9-d61b-467d-be68-c8a48c0cf930_ndvi_bw.tif (512, 512)\n",
      "Image download: ../Datav2/exports/tc/3d866877-330a-4a14-b5bd-48675955af64_tc.tif (512, 512)\n"
     ]
    },
    {
     "name": "stderr",
     "output_type": "stream",
     "text": [
      "\r",
      " 61%|█████████████████████████████████████████████████████████████████▏                                        | 911/1482 [55:18<47:18,  4.97s/it]"
     ]
    },
    {
     "name": "stdout",
     "output_type": "stream",
     "text": [
      "Image download: ../Datav2/exports/ndvi/3d866877-330a-4a14-b5bd-48675955af64_ndvi_bw.tif (512, 512)\n",
      "Image download: ../Datav2/exports/tc/f87005f7-c31b-4135-989a-ee5611626b3c_tc.tif (512, 512)\n"
     ]
    },
    {
     "name": "stderr",
     "output_type": "stream",
     "text": [
      "\r",
      " 62%|█████████████████████████████████████████████████████████████████▏                                        | 912/1482 [55:24<48:28,  5.10s/it]"
     ]
    },
    {
     "name": "stdout",
     "output_type": "stream",
     "text": [
      "Image download: ../Datav2/exports/ndvi/f87005f7-c31b-4135-989a-ee5611626b3c_ndvi_bw.tif (512, 512)\n",
      "Image download: ../Datav2/exports/tc/958c8ac0-6111-4d29-b5ac-8ca0e7a2f484_tc.tif (512, 512)\n"
     ]
    },
    {
     "name": "stderr",
     "output_type": "stream",
     "text": [
      "\r",
      " 62%|█████████████████████████████████████████████████████████████████▎                                        | 913/1482 [55:29<50:07,  5.29s/it]"
     ]
    },
    {
     "name": "stdout",
     "output_type": "stream",
     "text": [
      "Image download: ../Datav2/exports/ndvi/958c8ac0-6111-4d29-b5ac-8ca0e7a2f484_ndvi_bw.tif (512, 512)\n",
      "Image download: ../Datav2/exports/tc/9a49cf24-0e41-4817-b0d0-966e7b5c7e77_tc.tif (512, 512)\n"
     ]
    },
    {
     "name": "stderr",
     "output_type": "stream",
     "text": [
      "\r",
      " 62%|█████████████████████████████████████████████████████████████████▎                                        | 914/1482 [55:33<46:38,  4.93s/it]"
     ]
    },
    {
     "name": "stdout",
     "output_type": "stream",
     "text": [
      "Image download: ../Datav2/exports/ndvi/9a49cf24-0e41-4817-b0d0-966e7b5c7e77_ndvi_bw.tif (512, 512)\n",
      "Image download: ../Datav2/exports/tc/a97e2077-2013-459a-baa7-276781503e3c_tc.tif (512, 512)\n"
     ]
    },
    {
     "name": "stderr",
     "output_type": "stream",
     "text": [
      "\r",
      " 62%|█████████████████████████████████████████████████████████████████▍                                        | 915/1482 [55:38<46:07,  4.88s/it]"
     ]
    },
    {
     "name": "stdout",
     "output_type": "stream",
     "text": [
      "Image download: ../Datav2/exports/ndvi/a97e2077-2013-459a-baa7-276781503e3c_ndvi_bw.tif (512, 512)\n",
      "Image download: ../Datav2/exports/tc/8b34406c-93b7-4a40-a832-2fc525876e59_tc.tif (512, 512)\n"
     ]
    },
    {
     "name": "stderr",
     "output_type": "stream",
     "text": [
      "\r",
      " 62%|█████████████████████████████████████████████████████████████████▌                                        | 916/1482 [55:42<44:00,  4.67s/it]"
     ]
    },
    {
     "name": "stdout",
     "output_type": "stream",
     "text": [
      "Image download: ../Datav2/exports/ndvi/8b34406c-93b7-4a40-a832-2fc525876e59_ndvi_bw.tif (512, 512)\n",
      "Image download: ../Datav2/exports/tc/a339b368-ec58-463e-9a26-9af37c938f49_tc.tif (512, 512)\n"
     ]
    },
    {
     "name": "stderr",
     "output_type": "stream",
     "text": [
      "\r",
      " 62%|█████████████████████████████████████████████████████████████████▌                                        | 917/1482 [55:47<44:08,  4.69s/it]"
     ]
    },
    {
     "name": "stdout",
     "output_type": "stream",
     "text": [
      "Image download: ../Datav2/exports/ndvi/a339b368-ec58-463e-9a26-9af37c938f49_ndvi_bw.tif (512, 512)\n",
      "Image download: ../Datav2/exports/tc/fb8c9354-384c-45ab-b209-4a0f6d234516_tc.tif (512, 512)\n"
     ]
    },
    {
     "name": "stderr",
     "output_type": "stream",
     "text": [
      "\r",
      " 62%|█████████████████████████████████████████████████████████████████▋                                        | 918/1482 [55:51<42:08,  4.48s/it]"
     ]
    },
    {
     "name": "stdout",
     "output_type": "stream",
     "text": [
      "Image download: ../Datav2/exports/ndvi/fb8c9354-384c-45ab-b209-4a0f6d234516_ndvi_bw.tif (512, 512)\n",
      "Image download: ../Datav2/exports/tc/d6753341-5c6f-4530-9c02-25974496ddc8_tc.tif (512, 512)\n"
     ]
    },
    {
     "name": "stderr",
     "output_type": "stream",
     "text": [
      "\r",
      " 62%|█████████████████████████████████████████████████████████████████▋                                        | 919/1482 [55:55<41:47,  4.45s/it]"
     ]
    },
    {
     "name": "stdout",
     "output_type": "stream",
     "text": [
      "Image download: ../Datav2/exports/ndvi/d6753341-5c6f-4530-9c02-25974496ddc8_ndvi_bw.tif (512, 512)\n",
      "Image download: ../Datav2/exports/tc/508b3f52-3a8e-4572-99a9-73c28bbdfbef_tc.tif (512, 512)\n"
     ]
    },
    {
     "name": "stderr",
     "output_type": "stream",
     "text": [
      "\r",
      " 62%|█████████████████████████████████████████████████████████████████▊                                        | 920/1482 [56:01<46:24,  4.95s/it]"
     ]
    },
    {
     "name": "stdout",
     "output_type": "stream",
     "text": [
      "Image download: ../Datav2/exports/ndvi/508b3f52-3a8e-4572-99a9-73c28bbdfbef_ndvi_bw.tif (512, 512)\n",
      "Image download: ../Datav2/exports/tc/8e840df1-b34b-44fd-8ade-0350a0113a81_tc.tif (512, 512)\n"
     ]
    },
    {
     "name": "stderr",
     "output_type": "stream",
     "text": [
      "\r",
      " 62%|█████████████████████████████████████████████████████████████████▊                                        | 921/1482 [56:06<44:20,  4.74s/it]"
     ]
    },
    {
     "name": "stdout",
     "output_type": "stream",
     "text": [
      "Image download: ../Datav2/exports/ndvi/8e840df1-b34b-44fd-8ade-0350a0113a81_ndvi_bw.tif (512, 512)\n",
      "Image download: ../Datav2/exports/tc/92c441f3-4729-4ba5-890f-fb7693725275_tc.tif (512, 512)\n"
     ]
    },
    {
     "name": "stderr",
     "output_type": "stream",
     "text": [
      "\r",
      " 62%|█████████████████████████████████████████████████████████████████▉                                        | 922/1482 [56:11<46:29,  4.98s/it]"
     ]
    },
    {
     "name": "stdout",
     "output_type": "stream",
     "text": [
      "Image download: ../Datav2/exports/ndvi/92c441f3-4729-4ba5-890f-fb7693725275_ndvi_bw.tif (512, 512)\n",
      "Image download: ../Datav2/exports/tc/32708961-025a-4bf7-88c1-8cd91bbc3cce_tc.tif (512, 512)\n"
     ]
    },
    {
     "name": "stderr",
     "output_type": "stream",
     "text": [
      "\r",
      " 62%|██████████████████████████████████████████████████████████████████                                        | 923/1482 [56:15<44:07,  4.74s/it]"
     ]
    },
    {
     "name": "stdout",
     "output_type": "stream",
     "text": [
      "Image download: ../Datav2/exports/ndvi/32708961-025a-4bf7-88c1-8cd91bbc3cce_ndvi_bw.tif (512, 512)\n",
      "Image download: ../Datav2/exports/tc/57ef80d4-4674-4a3a-9fd6-3f1d792a1953_tc.tif (512, 512)\n"
     ]
    },
    {
     "name": "stderr",
     "output_type": "stream",
     "text": [
      "\r",
      " 62%|██████████████████████████████████████████████████████████████████                                        | 924/1482 [56:20<44:22,  4.77s/it]"
     ]
    },
    {
     "name": "stdout",
     "output_type": "stream",
     "text": [
      "Image download: ../Datav2/exports/ndvi/57ef80d4-4674-4a3a-9fd6-3f1d792a1953_ndvi_bw.tif (512, 512)\n",
      "Image download: ../Datav2/exports/tc/08a9481d-8742-4256-a419-2a59196e0a8d_tc.tif (512, 512)\n"
     ]
    },
    {
     "name": "stderr",
     "output_type": "stream",
     "text": [
      "\r",
      " 62%|██████████████████████████████████████████████████████████████████▏                                       | 925/1482 [56:27<48:30,  5.23s/it]"
     ]
    },
    {
     "name": "stdout",
     "output_type": "stream",
     "text": [
      "Image download: ../Datav2/exports/ndvi/08a9481d-8742-4256-a419-2a59196e0a8d_ndvi_bw.tif (512, 512)\n",
      "Image download: ../Datav2/exports/tc/e84f2881-743c-4e36-863d-ddb37c2540d3_tc.tif (512, 512)\n"
     ]
    },
    {
     "name": "stderr",
     "output_type": "stream",
     "text": [
      "\r",
      " 62%|██████████████████████████████████████████████████████████████████▏                                       | 926/1482 [56:31<45:37,  4.92s/it]"
     ]
    },
    {
     "name": "stdout",
     "output_type": "stream",
     "text": [
      "Image download: ../Datav2/exports/ndvi/e84f2881-743c-4e36-863d-ddb37c2540d3_ndvi_bw.tif (512, 512)\n",
      "Image download: ../Datav2/exports/tc/f96cf1fb-78d6-4763-a754-23aac25a3b96_tc.tif (512, 512)\n"
     ]
    },
    {
     "name": "stderr",
     "output_type": "stream",
     "text": [
      "\r",
      " 63%|██████████████████████████████████████████████████████████████████▎                                       | 927/1482 [56:35<44:02,  4.76s/it]"
     ]
    },
    {
     "name": "stdout",
     "output_type": "stream",
     "text": [
      "Image download: ../Datav2/exports/ndvi/f96cf1fb-78d6-4763-a754-23aac25a3b96_ndvi_bw.tif (512, 512)\n",
      "Image download: ../Datav2/exports/tc/81cf4d22-336d-4035-b2c3-5b5a8cf2fcc2_tc.tif (512, 512)\n"
     ]
    },
    {
     "name": "stderr",
     "output_type": "stream",
     "text": [
      "\r",
      " 63%|██████████████████████████████████████████████████████████████████▍                                       | 928/1482 [56:40<43:15,  4.68s/it]"
     ]
    },
    {
     "name": "stdout",
     "output_type": "stream",
     "text": [
      "Image download: ../Datav2/exports/ndvi/81cf4d22-336d-4035-b2c3-5b5a8cf2fcc2_ndvi_bw.tif (512, 512)\n",
      "Image download: ../Datav2/exports/tc/f78b2acd-fff2-413a-93d6-8479e138120b_tc.tif (512, 512)\n"
     ]
    },
    {
     "name": "stderr",
     "output_type": "stream",
     "text": [
      "\r",
      " 63%|██████████████████████████████████████████████████████████████████▍                                       | 929/1482 [56:44<41:44,  4.53s/it]"
     ]
    },
    {
     "name": "stdout",
     "output_type": "stream",
     "text": [
      "Image download: ../Datav2/exports/ndvi/f78b2acd-fff2-413a-93d6-8479e138120b_ndvi_bw.tif (512, 512)\n",
      "Image download: ../Datav2/exports/tc/1a08a7d9-47b2-42ba-94c1-a2e15415b887_tc.tif (512, 512)\n"
     ]
    },
    {
     "name": "stderr",
     "output_type": "stream",
     "text": [
      "\r",
      " 63%|██████████████████████████████████████████████████████████████████▌                                       | 930/1482 [56:49<43:42,  4.75s/it]"
     ]
    },
    {
     "name": "stdout",
     "output_type": "stream",
     "text": [
      "Image download: ../Datav2/exports/ndvi/1a08a7d9-47b2-42ba-94c1-a2e15415b887_ndvi_bw.tif (512, 512)\n",
      "Image download: ../Datav2/exports/tc/693a86e6-8985-4e70-8ba8-869786ff538b_tc.tif (512, 512)\n"
     ]
    },
    {
     "name": "stderr",
     "output_type": "stream",
     "text": [
      "\r",
      " 63%|██████████████████████████████████████████████████████████████████▌                                       | 931/1482 [56:54<43:34,  4.75s/it]"
     ]
    },
    {
     "name": "stdout",
     "output_type": "stream",
     "text": [
      "Image download: ../Datav2/exports/ndvi/693a86e6-8985-4e70-8ba8-869786ff538b_ndvi_bw.tif (512, 512)\n",
      "Image download: ../Datav2/exports/tc/0d030a31-8531-4172-88f1-08ac34c3d805_tc.tif (512, 512)\n"
     ]
    },
    {
     "name": "stderr",
     "output_type": "stream",
     "text": [
      "\r",
      " 63%|██████████████████████████████████████████████████████████████████▋                                       | 932/1482 [57:04<58:24,  6.37s/it]"
     ]
    },
    {
     "name": "stdout",
     "output_type": "stream",
     "text": [
      "Image download: ../Datav2/exports/ndvi/0d030a31-8531-4172-88f1-08ac34c3d805_ndvi_bw.tif (512, 512)\n",
      "Image download: ../Datav2/exports/tc/e1ab6577-7ce9-4b19-bb29-68b5bdd699b6_tc.tif (512, 512)\n"
     ]
    },
    {
     "name": "stderr",
     "output_type": "stream",
     "text": [
      "\r",
      " 63%|██████████████████████████████████████████████████████████████████▋                                       | 933/1482 [57:10<56:24,  6.16s/it]"
     ]
    },
    {
     "name": "stdout",
     "output_type": "stream",
     "text": [
      "Image download: ../Datav2/exports/ndvi/e1ab6577-7ce9-4b19-bb29-68b5bdd699b6_ndvi_bw.tif (512, 512)\n",
      "Image download: ../Datav2/exports/tc/454ed7a0-3e17-47a6-9ff1-7a629471df5c_tc.tif (512, 512)\n"
     ]
    },
    {
     "name": "stderr",
     "output_type": "stream",
     "text": [
      "\r",
      " 63%|██████████████████████████████████████████████████████████████████▊                                       | 934/1482 [57:15<54:58,  6.02s/it]"
     ]
    },
    {
     "name": "stdout",
     "output_type": "stream",
     "text": [
      "Image download: ../Datav2/exports/ndvi/454ed7a0-3e17-47a6-9ff1-7a629471df5c_ndvi_bw.tif (512, 512)\n",
      "Image download: ../Datav2/exports/tc/d77a050b-9928-49bf-92de-1159edddd07c_tc.tif (512, 512)\n"
     ]
    },
    {
     "name": "stderr",
     "output_type": "stream",
     "text": [
      "\r",
      " 63%|██████████████████████████████████████████████████████████████████▉                                       | 935/1482 [57:20<52:21,  5.74s/it]"
     ]
    },
    {
     "name": "stdout",
     "output_type": "stream",
     "text": [
      "Image download: ../Datav2/exports/ndvi/d77a050b-9928-49bf-92de-1159edddd07c_ndvi_bw.tif (512, 512)\n",
      "Image download: ../Datav2/exports/tc/03b0e3c2-7b65-4a7b-b061-d297ebd267f4_tc.tif (512, 512)\n"
     ]
    },
    {
     "name": "stderr",
     "output_type": "stream",
     "text": [
      "\r",
      " 63%|██████████████████████████████████████████████████████████████████▉                                       | 936/1482 [57:26<50:41,  5.57s/it]"
     ]
    },
    {
     "name": "stdout",
     "output_type": "stream",
     "text": [
      "Image download: ../Datav2/exports/ndvi/03b0e3c2-7b65-4a7b-b061-d297ebd267f4_ndvi_bw.tif (512, 512)\n",
      "Image download: ../Datav2/exports/tc/b9cd9a90-1983-4a0a-aad4-9c286382f158_tc.tif (512, 512)\n"
     ]
    },
    {
     "name": "stderr",
     "output_type": "stream",
     "text": [
      "\r",
      " 63%|███████████████████████████████████████████████████████████████████                                       | 937/1482 [57:30<48:32,  5.34s/it]"
     ]
    },
    {
     "name": "stdout",
     "output_type": "stream",
     "text": [
      "Image download: ../Datav2/exports/ndvi/b9cd9a90-1983-4a0a-aad4-9c286382f158_ndvi_bw.tif (512, 512)\n",
      "Image download: ../Datav2/exports/tc/f163aa10-1dd9-4fd0-9e5b-fda78ef5bcc6_tc.tif (512, 512)\n"
     ]
    },
    {
     "name": "stderr",
     "output_type": "stream",
     "text": [
      "\r",
      " 63%|███████████████████████████████████████████████████████████████████                                       | 938/1482 [57:39<56:38,  6.25s/it]"
     ]
    },
    {
     "name": "stdout",
     "output_type": "stream",
     "text": [
      "Image download: ../Datav2/exports/ndvi/f163aa10-1dd9-4fd0-9e5b-fda78ef5bcc6_ndvi_bw.tif (512, 512)\n",
      "Image download: ../Datav2/exports/tc/31c47bb9-1913-463e-95e4-86e48fadfda6_tc.tif (512, 512)\n"
     ]
    },
    {
     "name": "stderr",
     "output_type": "stream",
     "text": [
      "\r",
      " 63%|███████████████████████████████████████████████████████████████████▏                                      | 939/1482 [57:45<55:16,  6.11s/it]"
     ]
    },
    {
     "name": "stdout",
     "output_type": "stream",
     "text": [
      "Image download: ../Datav2/exports/ndvi/31c47bb9-1913-463e-95e4-86e48fadfda6_ndvi_bw.tif (512, 512)\n",
      "Image download: ../Datav2/exports/tc/737f9bb2-5a43-4730-94c1-4031bce6d626_tc.tif (512, 512)\n"
     ]
    },
    {
     "name": "stderr",
     "output_type": "stream",
     "text": [
      "\r",
      " 63%|███████████████████████████████████████████████████████████████████▏                                      | 940/1482 [57:52<57:37,  6.38s/it]"
     ]
    },
    {
     "name": "stdout",
     "output_type": "stream",
     "text": [
      "Image download: ../Datav2/exports/ndvi/737f9bb2-5a43-4730-94c1-4031bce6d626_ndvi_bw.tif (512, 512)\n",
      "Image download: ../Datav2/exports/tc/7f775329-242f-4211-b564-92f90062c227_tc.tif (512, 512)\n"
     ]
    },
    {
     "name": "stderr",
     "output_type": "stream",
     "text": [
      "\r",
      " 63%|███████████████████████████████████████████████████████████████████▎                                      | 941/1482 [57:56<52:40,  5.84s/it]"
     ]
    },
    {
     "name": "stdout",
     "output_type": "stream",
     "text": [
      "Image download: ../Datav2/exports/ndvi/7f775329-242f-4211-b564-92f90062c227_ndvi_bw.tif (512, 512)\n",
      "Image download: ../Datav2/exports/tc/79dee087-3393-473f-aaa9-5d253cc5e1fa_tc.tif (512, 512)\n"
     ]
    },
    {
     "name": "stderr",
     "output_type": "stream",
     "text": [
      "\r",
      " 64%|███████████████████████████████████████████████████████████████████▍                                      | 942/1482 [58:01<48:36,  5.40s/it]"
     ]
    },
    {
     "name": "stdout",
     "output_type": "stream",
     "text": [
      "Image download: ../Datav2/exports/ndvi/79dee087-3393-473f-aaa9-5d253cc5e1fa_ndvi_bw.tif (512, 512)\n",
      "Image download: ../Datav2/exports/tc/09f22e57-6058-4a87-972a-ece08f4527d4_tc.tif (512, 512)\n"
     ]
    },
    {
     "name": "stderr",
     "output_type": "stream",
     "text": [
      "\r",
      " 64%|███████████████████████████████████████████████████████████████████▍                                      | 943/1482 [58:06<47:26,  5.28s/it]"
     ]
    },
    {
     "name": "stdout",
     "output_type": "stream",
     "text": [
      "Image download: ../Datav2/exports/ndvi/09f22e57-6058-4a87-972a-ece08f4527d4_ndvi_bw.tif (512, 512)\n",
      "Image download: ../Datav2/exports/tc/e596a67e-177f-4db9-a2d6-dda7da1678fb_tc.tif (512, 512)\n"
     ]
    },
    {
     "name": "stderr",
     "output_type": "stream",
     "text": [
      "\r",
      " 64%|███████████████████████████████████████████████████████████████████▌                                      | 944/1482 [58:11<46:52,  5.23s/it]"
     ]
    },
    {
     "name": "stdout",
     "output_type": "stream",
     "text": [
      "Image download: ../Datav2/exports/ndvi/e596a67e-177f-4db9-a2d6-dda7da1678fb_ndvi_bw.tif (512, 512)\n",
      "Image download: ../Datav2/exports/tc/4b641aa9-e8b4-492e-a181-f1bad47c4d6d_tc.tif (512, 512)\n"
     ]
    },
    {
     "name": "stderr",
     "output_type": "stream",
     "text": [
      "\r",
      " 64%|███████████████████████████████████████████████████████████████████▌                                      | 945/1482 [58:15<44:57,  5.02s/it]"
     ]
    },
    {
     "name": "stdout",
     "output_type": "stream",
     "text": [
      "Image download: ../Datav2/exports/ndvi/4b641aa9-e8b4-492e-a181-f1bad47c4d6d_ndvi_bw.tif (512, 512)\n",
      "Image download: ../Datav2/exports/tc/503cf916-4f56-4be7-8083-730122f686dc_tc.tif (512, 512)\n"
     ]
    },
    {
     "name": "stderr",
     "output_type": "stream",
     "text": [
      "\r",
      " 64%|███████████████████████████████████████████████████████████████████▋                                      | 946/1482 [58:19<42:08,  4.72s/it]"
     ]
    },
    {
     "name": "stdout",
     "output_type": "stream",
     "text": [
      "Image download: ../Datav2/exports/ndvi/503cf916-4f56-4be7-8083-730122f686dc_ndvi_bw.tif (512, 512)\n",
      "Image download: ../Datav2/exports/tc/4235f934-ed24-425d-821c-46363dcb16e8_tc.tif (512, 512)\n"
     ]
    },
    {
     "name": "stderr",
     "output_type": "stream",
     "text": [
      "\r",
      " 64%|███████████████████████████████████████████████████████████████████▋                                      | 947/1482 [58:24<41:11,  4.62s/it]"
     ]
    },
    {
     "name": "stdout",
     "output_type": "stream",
     "text": [
      "Image download: ../Datav2/exports/ndvi/4235f934-ed24-425d-821c-46363dcb16e8_ndvi_bw.tif (512, 512)\n",
      "Image download: ../Datav2/exports/tc/3db90629-694f-43d7-b46a-6378f6bc1472_tc.tif (512, 512)\n"
     ]
    },
    {
     "name": "stderr",
     "output_type": "stream",
     "text": [
      "\r",
      " 64%|███████████████████████████████████████████████████████████████████▊                                      | 948/1482 [58:28<41:43,  4.69s/it]"
     ]
    },
    {
     "name": "stdout",
     "output_type": "stream",
     "text": [
      "Image download: ../Datav2/exports/ndvi/3db90629-694f-43d7-b46a-6378f6bc1472_ndvi_bw.tif (512, 512)\n",
      "Image download: ../Datav2/exports/tc/b48e83d3-eb05-47df-a198-185912d8190e_tc.tif (512, 512)\n"
     ]
    },
    {
     "name": "stderr",
     "output_type": "stream",
     "text": [
      "\r",
      " 64%|███████████████████████████████████████████████████████████████████▉                                      | 949/1482 [58:33<41:41,  4.69s/it]"
     ]
    },
    {
     "name": "stdout",
     "output_type": "stream",
     "text": [
      "Image download: ../Datav2/exports/ndvi/b48e83d3-eb05-47df-a198-185912d8190e_ndvi_bw.tif (512, 512)\n",
      "Image download: ../Datav2/exports/tc/af8fe898-e4a6-4b9f-86a5-e6fc3226832b_tc.tif (512, 512)\n"
     ]
    },
    {
     "name": "stderr",
     "output_type": "stream",
     "text": [
      "\r",
      " 64%|███████████████████████████████████████████████████████████████████▉                                      | 950/1482 [58:40<45:58,  5.19s/it]"
     ]
    },
    {
     "name": "stdout",
     "output_type": "stream",
     "text": [
      "Image download: ../Datav2/exports/ndvi/af8fe898-e4a6-4b9f-86a5-e6fc3226832b_ndvi_bw.tif (512, 512)\n",
      "Image download: ../Datav2/exports/tc/abe0e447-8977-406f-9e13-5514f4e954bc_tc.tif (512, 512)\n"
     ]
    },
    {
     "name": "stderr",
     "output_type": "stream",
     "text": [
      "\r",
      " 64%|████████████████████████████████████████████████████████████████████                                      | 951/1482 [58:44<43:17,  4.89s/it]"
     ]
    },
    {
     "name": "stdout",
     "output_type": "stream",
     "text": [
      "Image download: ../Datav2/exports/ndvi/abe0e447-8977-406f-9e13-5514f4e954bc_ndvi_bw.tif (512, 512)\n",
      "Image download: ../Datav2/exports/tc/105b65f3-7e99-4cd6-8b0a-f78004c041eb_tc.tif (512, 512)\n"
     ]
    },
    {
     "name": "stderr",
     "output_type": "stream",
     "text": [
      "\r",
      " 64%|████████████████████████████████████████████████████████████████████                                      | 952/1482 [58:49<44:17,  5.01s/it]"
     ]
    },
    {
     "name": "stdout",
     "output_type": "stream",
     "text": [
      "Image download: ../Datav2/exports/ndvi/105b65f3-7e99-4cd6-8b0a-f78004c041eb_ndvi_bw.tif (512, 512)\n",
      "Image download: ../Datav2/exports/tc/c88bdcbd-2592-44d2-b44d-1c5a37593ffb_tc.tif (512, 512)\n"
     ]
    },
    {
     "name": "stderr",
     "output_type": "stream",
     "text": [
      "\r",
      " 64%|████████████████████████████████████████████████████████████████████▏                                     | 953/1482 [58:54<43:58,  4.99s/it]"
     ]
    },
    {
     "name": "stdout",
     "output_type": "stream",
     "text": [
      "Image download: ../Datav2/exports/ndvi/c88bdcbd-2592-44d2-b44d-1c5a37593ffb_ndvi_bw.tif (512, 512)\n",
      "Image download: ../Datav2/exports/tc/2d27a570-a8b0-4332-a40a-3afb8f2a575c_tc.tif (512, 512)\n"
     ]
    },
    {
     "name": "stderr",
     "output_type": "stream",
     "text": [
      "\r",
      " 64%|████████████████████████████████████████████████████████████████████▏                                     | 954/1482 [58:59<43:37,  4.96s/it]"
     ]
    },
    {
     "name": "stdout",
     "output_type": "stream",
     "text": [
      "Image download: ../Datav2/exports/ndvi/2d27a570-a8b0-4332-a40a-3afb8f2a575c_ndvi_bw.tif (512, 512)\n",
      "Image download: ../Datav2/exports/tc/a0b7fa30-74d0-419f-927b-de29b0d00018_tc.tif (512, 512)\n"
     ]
    },
    {
     "name": "stderr",
     "output_type": "stream",
     "text": [
      "\r",
      " 64%|████████████████████████████████████████████████████████████████████▎                                     | 955/1482 [59:03<40:48,  4.65s/it]"
     ]
    },
    {
     "name": "stdout",
     "output_type": "stream",
     "text": [
      "Image download: ../Datav2/exports/ndvi/a0b7fa30-74d0-419f-927b-de29b0d00018_ndvi_bw.tif (512, 512)\n",
      "Image download: ../Datav2/exports/tc/368fb83d-2660-4d9f-b6ad-0a2ef5de1e52_tc.tif (512, 512)\n"
     ]
    },
    {
     "name": "stderr",
     "output_type": "stream",
     "text": [
      "\r",
      " 65%|████████████████████████████████████████████████████████████████████▍                                     | 956/1482 [59:07<40:37,  4.63s/it]"
     ]
    },
    {
     "name": "stdout",
     "output_type": "stream",
     "text": [
      "Image download: ../Datav2/exports/ndvi/368fb83d-2660-4d9f-b6ad-0a2ef5de1e52_ndvi_bw.tif (512, 512)\n",
      "Image download: ../Datav2/exports/tc/39ace715-e375-4083-a05c-7fb7448e17b9_tc.tif (512, 512)\n"
     ]
    },
    {
     "name": "stderr",
     "output_type": "stream",
     "text": [
      "\r",
      " 65%|████████████████████████████████████████████████████████████████████▍                                     | 957/1482 [59:12<40:59,  4.69s/it]"
     ]
    },
    {
     "name": "stdout",
     "output_type": "stream",
     "text": [
      "Image download: ../Datav2/exports/ndvi/39ace715-e375-4083-a05c-7fb7448e17b9_ndvi_bw.tif (512, 512)\n",
      "Image download: ../Datav2/exports/tc/0fd4a4af-b243-4e88-b983-648d0c127f47_tc.tif (512, 512)\n"
     ]
    },
    {
     "name": "stderr",
     "output_type": "stream",
     "text": [
      "\r",
      " 65%|████████████████████████████████████████████████████████████████████▌                                     | 958/1482 [59:17<42:28,  4.86s/it]"
     ]
    },
    {
     "name": "stdout",
     "output_type": "stream",
     "text": [
      "Image download: ../Datav2/exports/ndvi/0fd4a4af-b243-4e88-b983-648d0c127f47_ndvi_bw.tif (512, 512)\n",
      "Image download: ../Datav2/exports/tc/a9d772ae-90d9-4f8e-9fe7-342b4266dd52_tc.tif (512, 512)\n"
     ]
    },
    {
     "name": "stderr",
     "output_type": "stream",
     "text": [
      "\r",
      " 65%|████████████████████████████████████████████████████████████████████▌                                     | 959/1482 [59:23<42:58,  4.93s/it]"
     ]
    },
    {
     "name": "stdout",
     "output_type": "stream",
     "text": [
      "Image download: ../Datav2/exports/ndvi/a9d772ae-90d9-4f8e-9fe7-342b4266dd52_ndvi_bw.tif (512, 512)\n",
      "Image download: ../Datav2/exports/tc/8efb9edc-dbe7-4824-9027-22993569f794_tc.tif (512, 512)\n"
     ]
    },
    {
     "name": "stderr",
     "output_type": "stream",
     "text": [
      "\r",
      " 65%|████████████████████████████████████████████████████████████████████▋                                     | 960/1482 [59:27<41:39,  4.79s/it]"
     ]
    },
    {
     "name": "stdout",
     "output_type": "stream",
     "text": [
      "Image download: ../Datav2/exports/ndvi/8efb9edc-dbe7-4824-9027-22993569f794_ndvi_bw.tif (512, 512)\n",
      "Image download: ../Datav2/exports/tc/60041942-db7c-4c3d-8a94-151addbd9d20_tc.tif (512, 512)\n"
     ]
    },
    {
     "name": "stderr",
     "output_type": "stream",
     "text": [
      "\r",
      " 65%|████████████████████████████████████████████████████████████████████▋                                     | 961/1482 [59:32<43:07,  4.97s/it]"
     ]
    },
    {
     "name": "stdout",
     "output_type": "stream",
     "text": [
      "Image download: ../Datav2/exports/ndvi/60041942-db7c-4c3d-8a94-151addbd9d20_ndvi_bw.tif (512, 512)\n",
      "Image download: ../Datav2/exports/tc/5340807b-1be1-4894-b446-c81c46456641_tc.tif (512, 512)\n"
     ]
    },
    {
     "name": "stderr",
     "output_type": "stream",
     "text": [
      "\r",
      " 65%|████████████████████████████████████████████████████████████████████▊                                     | 962/1482 [59:38<44:36,  5.15s/it]"
     ]
    },
    {
     "name": "stdout",
     "output_type": "stream",
     "text": [
      "Image download: ../Datav2/exports/ndvi/5340807b-1be1-4894-b446-c81c46456641_ndvi_bw.tif (512, 512)\n",
      "Image download: ../Datav2/exports/tc/c48eaae5-afb4-472c-be65-7dfbb3c82f4d_tc.tif (512, 512)\n"
     ]
    },
    {
     "name": "stderr",
     "output_type": "stream",
     "text": [
      "\r",
      " 65%|████████████████████████████████████████████████████████████████████▉                                     | 963/1482 [59:44<46:23,  5.36s/it]"
     ]
    },
    {
     "name": "stdout",
     "output_type": "stream",
     "text": [
      "Image download: ../Datav2/exports/ndvi/c48eaae5-afb4-472c-be65-7dfbb3c82f4d_ndvi_bw.tif (512, 512)\n",
      "Image download: ../Datav2/exports/tc/df2538f9-20c9-4d40-9a64-9d6334b6f7d6_tc.tif (512, 512)\n"
     ]
    },
    {
     "name": "stderr",
     "output_type": "stream",
     "text": [
      "\r",
      " 65%|████████████████████████████████████████████████████████████████████▉                                     | 964/1482 [59:49<45:07,  5.23s/it]"
     ]
    },
    {
     "name": "stdout",
     "output_type": "stream",
     "text": [
      "Image download: ../Datav2/exports/ndvi/df2538f9-20c9-4d40-9a64-9d6334b6f7d6_ndvi_bw.tif (512, 512)\n",
      "Image download: ../Datav2/exports/tc/5228fabc-64f6-4ccf-aedc-dc1e781277a6_tc.tif (512, 512)\n"
     ]
    },
    {
     "name": "stderr",
     "output_type": "stream",
     "text": [
      "\r",
      " 65%|█████████████████████████████████████████████████████████████████████                                     | 965/1482 [59:53<42:32,  4.94s/it]"
     ]
    },
    {
     "name": "stdout",
     "output_type": "stream",
     "text": [
      "Image download: ../Datav2/exports/ndvi/5228fabc-64f6-4ccf-aedc-dc1e781277a6_ndvi_bw.tif (512, 512)\n",
      "Image download: ../Datav2/exports/tc/9662b158-b17f-4386-867a-3afa5ea28929_tc.tif (512, 512)\n"
     ]
    },
    {
     "name": "stderr",
     "output_type": "stream",
     "text": [
      "\r",
      " 65%|███████████████████████████████████████████████████████████████████▊                                    | 966/1482 [1:00:00<47:22,  5.51s/it]"
     ]
    },
    {
     "name": "stdout",
     "output_type": "stream",
     "text": [
      "Image download: ../Datav2/exports/ndvi/9662b158-b17f-4386-867a-3afa5ea28929_ndvi_bw.tif (512, 512)\n",
      "Image download: ../Datav2/exports/tc/9f926d66-2cfa-4e3d-b4a3-4ea3b4b23698_tc.tif (512, 512)\n"
     ]
    },
    {
     "name": "stderr",
     "output_type": "stream",
     "text": [
      "\r",
      " 65%|███████████████████████████████████████████████████████████████████▊                                    | 967/1482 [1:00:05<46:16,  5.39s/it]"
     ]
    },
    {
     "name": "stdout",
     "output_type": "stream",
     "text": [
      "Image download: ../Datav2/exports/ndvi/9f926d66-2cfa-4e3d-b4a3-4ea3b4b23698_ndvi_bw.tif (512, 512)\n",
      "Image download: ../Datav2/exports/tc/6eed6c93-14f3-450a-80c8-65c5450a8cbd_tc.tif (512, 512)\n"
     ]
    },
    {
     "name": "stderr",
     "output_type": "stream",
     "text": [
      "\r",
      " 65%|███████████████████████████████████████████████████████████████████▉                                    | 968/1482 [1:00:09<43:12,  5.04s/it]"
     ]
    },
    {
     "name": "stdout",
     "output_type": "stream",
     "text": [
      "Image download: ../Datav2/exports/ndvi/6eed6c93-14f3-450a-80c8-65c5450a8cbd_ndvi_bw.tif (512, 512)\n",
      "Image download: ../Datav2/exports/tc/a43a2839-d85f-4152-ac07-4a29c31723cf_tc.tif (512, 512)\n"
     ]
    },
    {
     "name": "stderr",
     "output_type": "stream",
     "text": [
      "\r",
      " 65%|████████████████████████████████████████████████████████████████████                                    | 969/1482 [1:00:14<42:30,  4.97s/it]"
     ]
    },
    {
     "name": "stdout",
     "output_type": "stream",
     "text": [
      "Image download: ../Datav2/exports/ndvi/a43a2839-d85f-4152-ac07-4a29c31723cf_ndvi_bw.tif (512, 512)\n",
      "Image download: ../Datav2/exports/tc/9ededdf0-b250-49ec-999d-eb988dab08a9_tc.tif (512, 512)\n"
     ]
    },
    {
     "name": "stderr",
     "output_type": "stream",
     "text": [
      "\r",
      " 65%|████████████████████████████████████████████████████████████████████                                    | 970/1482 [1:00:18<40:39,  4.76s/it]"
     ]
    },
    {
     "name": "stdout",
     "output_type": "stream",
     "text": [
      "Image download: ../Datav2/exports/ndvi/9ededdf0-b250-49ec-999d-eb988dab08a9_ndvi_bw.tif (512, 512)\n",
      "Image download: ../Datav2/exports/tc/cdd46073-0336-4003-8a06-161947985987_tc.tif (512, 512)\n"
     ]
    },
    {
     "name": "stderr",
     "output_type": "stream",
     "text": [
      "\r",
      " 66%|████████████████████████████████████████████████████████████████████▏                                   | 971/1482 [1:00:23<41:26,  4.87s/it]"
     ]
    },
    {
     "name": "stdout",
     "output_type": "stream",
     "text": [
      "Image download: ../Datav2/exports/ndvi/cdd46073-0336-4003-8a06-161947985987_ndvi_bw.tif (512, 512)\n",
      "Image download: ../Datav2/exports/tc/22fc8e84-ae8e-4a10-a9f3-828464616253_tc.tif (512, 512)\n"
     ]
    },
    {
     "name": "stderr",
     "output_type": "stream",
     "text": [
      "\r",
      " 66%|████████████████████████████████████████████████████████████████████▏                                   | 972/1482 [1:00:29<44:28,  5.23s/it]"
     ]
    },
    {
     "name": "stdout",
     "output_type": "stream",
     "text": [
      "Image download: ../Datav2/exports/ndvi/22fc8e84-ae8e-4a10-a9f3-828464616253_ndvi_bw.tif (512, 512)\n",
      "Image download: ../Datav2/exports/tc/d6d4d085-1c3b-4ee5-bd2a-dd3779797e97_tc.tif (512, 512)\n"
     ]
    },
    {
     "name": "stderr",
     "output_type": "stream",
     "text": [
      "\r",
      " 66%|████████████████████████████████████████████████████████████████████▎                                   | 973/1482 [1:00:34<41:47,  4.93s/it]"
     ]
    },
    {
     "name": "stdout",
     "output_type": "stream",
     "text": [
      "Image download: ../Datav2/exports/ndvi/d6d4d085-1c3b-4ee5-bd2a-dd3779797e97_ndvi_bw.tif (512, 512)\n",
      "Image download: ../Datav2/exports/tc/5adaf6fa-0c4a-43e4-bd32-baa089a7f0b2_tc.tif (512, 512)\n"
     ]
    },
    {
     "name": "stderr",
     "output_type": "stream",
     "text": [
      "\r",
      " 66%|████████████████████████████████████████████████████████████████████▎                                   | 974/1482 [1:00:39<41:51,  4.94s/it]"
     ]
    },
    {
     "name": "stdout",
     "output_type": "stream",
     "text": [
      "Image download: ../Datav2/exports/ndvi/5adaf6fa-0c4a-43e4-bd32-baa089a7f0b2_ndvi_bw.tif (512, 512)\n",
      "Image download: ../Datav2/exports/tc/63e41793-2c9c-4dda-98e0-62b5069514a7_tc.tif (512, 512)\n"
     ]
    },
    {
     "name": "stderr",
     "output_type": "stream",
     "text": [
      "\r",
      " 66%|████████████████████████████████████████████████████████████████████▍                                   | 975/1482 [1:00:44<43:26,  5.14s/it]"
     ]
    },
    {
     "name": "stdout",
     "output_type": "stream",
     "text": [
      "Image download: ../Datav2/exports/ndvi/63e41793-2c9c-4dda-98e0-62b5069514a7_ndvi_bw.tif (512, 512)\n",
      "Image download: ../Datav2/exports/tc/1d926fc4-0f23-47dd-a750-5e7fac4ad416_tc.tif (512, 512)\n"
     ]
    },
    {
     "name": "stderr",
     "output_type": "stream",
     "text": [
      "\r",
      " 66%|████████████████████████████████████████████████████████████████████▍                                   | 976/1482 [1:00:50<44:42,  5.30s/it]"
     ]
    },
    {
     "name": "stdout",
     "output_type": "stream",
     "text": [
      "Image download: ../Datav2/exports/ndvi/1d926fc4-0f23-47dd-a750-5e7fac4ad416_ndvi_bw.tif (512, 512)\n",
      "Image download: ../Datav2/exports/tc/b17eb5bf-c44a-4e13-99d0-bbdf5e8f8f67_tc.tif (512, 512)\n"
     ]
    },
    {
     "name": "stderr",
     "output_type": "stream",
     "text": [
      "\r",
      " 66%|████████████████████████████████████████████████████████████████████▌                                   | 977/1482 [1:00:55<44:24,  5.28s/it]"
     ]
    },
    {
     "name": "stdout",
     "output_type": "stream",
     "text": [
      "Image download: ../Datav2/exports/ndvi/b17eb5bf-c44a-4e13-99d0-bbdf5e8f8f67_ndvi_bw.tif (512, 512)\n",
      "Image download: ../Datav2/exports/tc/7278467f-ca4a-47f1-b876-a6722b546f30_tc.tif (512, 512)\n"
     ]
    },
    {
     "name": "stderr",
     "output_type": "stream",
     "text": [
      "\r",
      " 66%|████████████████████████████████████████████████████████████████████▋                                   | 978/1482 [1:00:59<41:18,  4.92s/it]"
     ]
    },
    {
     "name": "stdout",
     "output_type": "stream",
     "text": [
      "Image download: ../Datav2/exports/ndvi/7278467f-ca4a-47f1-b876-a6722b546f30_ndvi_bw.tif (512, 512)\n",
      "Image download: ../Datav2/exports/tc/96781eb8-6146-4b96-a5cb-7457defea461_tc.tif (512, 512)\n"
     ]
    },
    {
     "name": "stderr",
     "output_type": "stream",
     "text": [
      "\r",
      " 66%|████████████████████████████████████████████████████████████████████▋                                   | 979/1482 [1:01:04<40:48,  4.87s/it]"
     ]
    },
    {
     "name": "stdout",
     "output_type": "stream",
     "text": [
      "Image download: ../Datav2/exports/ndvi/96781eb8-6146-4b96-a5cb-7457defea461_ndvi_bw.tif (512, 512)\n",
      "Image download: ../Datav2/exports/tc/e1c9dae5-a2d8-4c97-8e6d-65937ade5e79_tc.tif (512, 512)\n"
     ]
    },
    {
     "name": "stderr",
     "output_type": "stream",
     "text": [
      "\r",
      " 66%|████████████████████████████████████████████████████████████████████▊                                   | 980/1482 [1:01:08<39:33,  4.73s/it]"
     ]
    },
    {
     "name": "stdout",
     "output_type": "stream",
     "text": [
      "Image download: ../Datav2/exports/ndvi/e1c9dae5-a2d8-4c97-8e6d-65937ade5e79_ndvi_bw.tif (512, 512)\n",
      "Image download: ../Datav2/exports/tc/7307857b-b127-4b3a-bf11-ee19d07e0736_tc.tif (512, 512)\n"
     ]
    },
    {
     "name": "stderr",
     "output_type": "stream",
     "text": [
      "\r",
      " 66%|████████████████████████████████████████████████████████████████████▊                                   | 981/1482 [1:01:13<38:30,  4.61s/it]"
     ]
    },
    {
     "name": "stdout",
     "output_type": "stream",
     "text": [
      "Image download: ../Datav2/exports/ndvi/7307857b-b127-4b3a-bf11-ee19d07e0736_ndvi_bw.tif (512, 512)\n",
      "Image download: ../Datav2/exports/tc/b3ab43c4-6f73-4ccc-a3ca-f2c54959f8b1_tc.tif (512, 512)\n"
     ]
    },
    {
     "name": "stderr",
     "output_type": "stream",
     "text": [
      "\r",
      " 66%|████████████████████████████████████████████████████████████████████▉                                   | 982/1482 [1:01:18<38:53,  4.67s/it]"
     ]
    },
    {
     "name": "stdout",
     "output_type": "stream",
     "text": [
      "Image download: ../Datav2/exports/ndvi/b3ab43c4-6f73-4ccc-a3ca-f2c54959f8b1_ndvi_bw.tif (512, 512)\n",
      "Image download: ../Datav2/exports/tc/d886d8aa-00b7-41d7-b48f-665f5c6cf01e_tc.tif (512, 512)\n"
     ]
    },
    {
     "name": "stderr",
     "output_type": "stream",
     "text": [
      "\r",
      " 66%|████████████████████████████████████████████████████████████████████▉                                   | 983/1482 [1:01:22<39:08,  4.71s/it]"
     ]
    },
    {
     "name": "stdout",
     "output_type": "stream",
     "text": [
      "Image download: ../Datav2/exports/ndvi/d886d8aa-00b7-41d7-b48f-665f5c6cf01e_ndvi_bw.tif (512, 512)\n",
      "Image download: ../Datav2/exports/tc/994876ff-2369-4a13-9642-d2dfbd372ac9_tc.tif (512, 512)\n"
     ]
    },
    {
     "name": "stderr",
     "output_type": "stream",
     "text": [
      "\r",
      " 66%|█████████████████████████████████████████████████████████████████████                                   | 984/1482 [1:01:27<39:57,  4.82s/it]"
     ]
    },
    {
     "name": "stdout",
     "output_type": "stream",
     "text": [
      "Image download: ../Datav2/exports/ndvi/994876ff-2369-4a13-9642-d2dfbd372ac9_ndvi_bw.tif (512, 512)\n",
      "Image download: ../Datav2/exports/tc/59b452f4-04fe-4251-8cf9-70dfc53ada0c_tc.tif (512, 512)\n"
     ]
    },
    {
     "name": "stderr",
     "output_type": "stream",
     "text": [
      "\r",
      " 66%|█████████████████████████████████████████████████████████████████████                                   | 985/1482 [1:01:32<39:30,  4.77s/it]"
     ]
    },
    {
     "name": "stdout",
     "output_type": "stream",
     "text": [
      "Image download: ../Datav2/exports/ndvi/59b452f4-04fe-4251-8cf9-70dfc53ada0c_ndvi_bw.tif (512, 512)\n",
      "Image download: ../Datav2/exports/tc/764b9aac-411e-442d-a045-1bd02ec773c2_tc.tif (512, 512)\n"
     ]
    },
    {
     "name": "stderr",
     "output_type": "stream",
     "text": [
      "\r",
      " 67%|█████████████████████████████████████████████████████████████████████▏                                  | 986/1482 [1:01:38<41:20,  5.00s/it]"
     ]
    },
    {
     "name": "stdout",
     "output_type": "stream",
     "text": [
      "Image download: ../Datav2/exports/ndvi/764b9aac-411e-442d-a045-1bd02ec773c2_ndvi_bw.tif (512, 512)\n",
      "Image download: ../Datav2/exports/tc/f3d3e61e-4ab4-4155-a882-4e27de976659_tc.tif (512, 512)\n"
     ]
    },
    {
     "name": "stderr",
     "output_type": "stream",
     "text": [
      "\r",
      " 67%|█████████████████████████████████████████████████████████████████████▎                                  | 987/1482 [1:01:43<41:06,  4.98s/it]"
     ]
    },
    {
     "name": "stdout",
     "output_type": "stream",
     "text": [
      "Image download: ../Datav2/exports/ndvi/f3d3e61e-4ab4-4155-a882-4e27de976659_ndvi_bw.tif (512, 512)\n",
      "Image download: ../Datav2/exports/tc/b307b3b5-529a-4dd0-ad30-e678180a6174_tc.tif (512, 512)\n"
     ]
    },
    {
     "name": "stderr",
     "output_type": "stream",
     "text": [
      "\r",
      " 67%|█████████████████████████████████████████████████████████████████████▎                                  | 988/1482 [1:01:47<40:04,  4.87s/it]"
     ]
    },
    {
     "name": "stdout",
     "output_type": "stream",
     "text": [
      "Image download: ../Datav2/exports/ndvi/b307b3b5-529a-4dd0-ad30-e678180a6174_ndvi_bw.tif (512, 512)\n",
      "Image download: ../Datav2/exports/tc/3de50f18-061e-40f4-8ee4-8a3d3ef25fb1_tc.tif (512, 512)\n"
     ]
    },
    {
     "name": "stderr",
     "output_type": "stream",
     "text": [
      "\r",
      " 67%|█████████████████████████████████████████████████████████████████████▍                                  | 989/1482 [1:01:52<41:10,  5.01s/it]"
     ]
    },
    {
     "name": "stdout",
     "output_type": "stream",
     "text": [
      "Image download: ../Datav2/exports/ndvi/3de50f18-061e-40f4-8ee4-8a3d3ef25fb1_ndvi_bw.tif (512, 512)\n",
      "Image download: ../Datav2/exports/tc/06ccdd6b-fd15-4cba-a9ed-6cb7c70327d9_tc.tif (512, 512)\n"
     ]
    },
    {
     "name": "stderr",
     "output_type": "stream",
     "text": [
      "\r",
      " 67%|█████████████████████████████████████████████████████████████████████▍                                  | 990/1482 [1:01:58<43:18,  5.28s/it]"
     ]
    },
    {
     "name": "stdout",
     "output_type": "stream",
     "text": [
      "Image download: ../Datav2/exports/ndvi/06ccdd6b-fd15-4cba-a9ed-6cb7c70327d9_ndvi_bw.tif (512, 512)\n",
      "Image download: ../Datav2/exports/tc/42bd7e44-5bfa-4e25-961d-941a18bc00d0_tc.tif (512, 512)\n"
     ]
    },
    {
     "name": "stderr",
     "output_type": "stream",
     "text": [
      "\r",
      " 67%|█████████████████████████████████████████████████████████████████████▌                                  | 991/1482 [1:02:04<44:46,  5.47s/it]"
     ]
    },
    {
     "name": "stdout",
     "output_type": "stream",
     "text": [
      "Image download: ../Datav2/exports/ndvi/42bd7e44-5bfa-4e25-961d-941a18bc00d0_ndvi_bw.tif (512, 512)\n",
      "Image download: ../Datav2/exports/tc/9b6b1707-4342-4b38-b4a2-1056c202a32a_tc.tif (512, 512)\n"
     ]
    },
    {
     "name": "stderr",
     "output_type": "stream",
     "text": [
      "\r",
      " 67%|█████████████████████████████████████████████████████████████████████▌                                  | 992/1482 [1:02:08<41:01,  5.02s/it]"
     ]
    },
    {
     "name": "stdout",
     "output_type": "stream",
     "text": [
      "Image download: ../Datav2/exports/ndvi/9b6b1707-4342-4b38-b4a2-1056c202a32a_ndvi_bw.tif (512, 512)\n",
      "Image download: ../Datav2/exports/tc/af251be5-4fa6-4ced-954c-a0e0aa34a517_tc.tif (512, 512)\n"
     ]
    },
    {
     "name": "stderr",
     "output_type": "stream",
     "text": [
      "\r",
      " 67%|█████████████████████████████████████████████████████████████████████▋                                  | 993/1482 [1:02:14<41:58,  5.15s/it]"
     ]
    },
    {
     "name": "stdout",
     "output_type": "stream",
     "text": [
      "Image download: ../Datav2/exports/ndvi/af251be5-4fa6-4ced-954c-a0e0aa34a517_ndvi_bw.tif (512, 512)\n",
      "Image download: ../Datav2/exports/tc/0ffbb118-8070-4220-95a7-cdef27b0a7ae_tc.tif (512, 512)\n"
     ]
    },
    {
     "name": "stderr",
     "output_type": "stream",
     "text": [
      "\r",
      " 67%|█████████████████████████████████████████████████████████████████████▊                                  | 994/1482 [1:02:18<40:50,  5.02s/it]"
     ]
    },
    {
     "name": "stdout",
     "output_type": "stream",
     "text": [
      "Image download: ../Datav2/exports/ndvi/0ffbb118-8070-4220-95a7-cdef27b0a7ae_ndvi_bw.tif (512, 512)\n",
      "Image download: ../Datav2/exports/tc/43d24c96-7841-423f-9e14-bc9a7ff49416_tc.tif (512, 512)\n"
     ]
    },
    {
     "name": "stderr",
     "output_type": "stream",
     "text": [
      "\r",
      " 67%|█████████████████████████████████████████████████████████████████████▊                                  | 995/1482 [1:02:23<39:56,  4.92s/it]"
     ]
    },
    {
     "name": "stdout",
     "output_type": "stream",
     "text": [
      "Image download: ../Datav2/exports/ndvi/43d24c96-7841-423f-9e14-bc9a7ff49416_ndvi_bw.tif (512, 512)\n",
      "Image download: ../Datav2/exports/tc/fc911680-49a8-454b-be0f-d78cd957bd29_tc.tif (512, 512)\n"
     ]
    },
    {
     "name": "stderr",
     "output_type": "stream",
     "text": [
      "\r",
      " 67%|█████████████████████████████████████████████████████████████████████▉                                  | 996/1482 [1:02:28<40:22,  4.98s/it]"
     ]
    },
    {
     "name": "stdout",
     "output_type": "stream",
     "text": [
      "Image download: ../Datav2/exports/ndvi/fc911680-49a8-454b-be0f-d78cd957bd29_ndvi_bw.tif (512, 512)\n",
      "Image download: ../Datav2/exports/tc/1f49d4b1-f08f-4fce-8b55-48ff0e521a2f_tc.tif (512, 512)\n"
     ]
    },
    {
     "name": "stderr",
     "output_type": "stream",
     "text": [
      "\r",
      " 67%|█████████████████████████████████████████████████████████████████████▉                                  | 997/1482 [1:02:33<40:28,  5.01s/it]"
     ]
    },
    {
     "name": "stdout",
     "output_type": "stream",
     "text": [
      "Image download: ../Datav2/exports/ndvi/1f49d4b1-f08f-4fce-8b55-48ff0e521a2f_ndvi_bw.tif (512, 512)\n",
      "Image download: ../Datav2/exports/tc/8f98a50c-fac6-4dcd-844f-76c49891f0f6_tc.tif (512, 512)\n"
     ]
    },
    {
     "name": "stderr",
     "output_type": "stream",
     "text": [
      "\r",
      " 67%|██████████████████████████████████████████████████████████████████████                                  | 998/1482 [1:02:42<49:33,  6.14s/it]"
     ]
    },
    {
     "name": "stdout",
     "output_type": "stream",
     "text": [
      "Image download: ../Datav2/exports/ndvi/8f98a50c-fac6-4dcd-844f-76c49891f0f6_ndvi_bw.tif (512, 512)\n",
      "Image download: ../Datav2/exports/tc/2bee561f-fd8f-44ad-9c25-ccdc671029bc_tc.tif (512, 512)\n"
     ]
    },
    {
     "name": "stderr",
     "output_type": "stream",
     "text": [
      "\r",
      " 67%|██████████████████████████████████████████████████████████████████████                                  | 999/1482 [1:02:47<47:34,  5.91s/it]"
     ]
    },
    {
     "name": "stdout",
     "output_type": "stream",
     "text": [
      "Image download: ../Datav2/exports/ndvi/2bee561f-fd8f-44ad-9c25-ccdc671029bc_ndvi_bw.tif (512, 512)\n",
      "Image download: ../Datav2/exports/tc/b2adde70-a40e-4b81-9f5f-8f6b96042af2_tc.tif (512, 512)\n"
     ]
    },
    {
     "name": "stderr",
     "output_type": "stream",
     "text": [
      "\r",
      " 67%|█████████████████████████████████████████████████████████████████████▌                                 | 1000/1482 [1:02:53<45:42,  5.69s/it]"
     ]
    },
    {
     "name": "stdout",
     "output_type": "stream",
     "text": [
      "Image download: ../Datav2/exports/ndvi/b2adde70-a40e-4b81-9f5f-8f6b96042af2_ndvi_bw.tif (512, 512)\n",
      "Image download: ../Datav2/exports/tc/d963ff00-9c98-4bc6-a3b3-4856d8192e87_tc.tif (512, 512)\n"
     ]
    },
    {
     "name": "stderr",
     "output_type": "stream",
     "text": [
      "\r",
      " 68%|█████████████████████████████████████████████████████████████████████▌                                 | 1001/1482 [1:02:58<45:26,  5.67s/it]"
     ]
    },
    {
     "name": "stdout",
     "output_type": "stream",
     "text": [
      "Image download: ../Datav2/exports/ndvi/d963ff00-9c98-4bc6-a3b3-4856d8192e87_ndvi_bw.tif (512, 512)\n",
      "Image download: ../Datav2/exports/tc/d752892a-9bdf-4b91-83f0-2d3f94c3f370_tc.tif (512, 512)\n"
     ]
    },
    {
     "name": "stderr",
     "output_type": "stream",
     "text": [
      "\r",
      " 68%|█████████████████████████████████████████████████████████████████████▋                                 | 1002/1482 [1:03:03<42:09,  5.27s/it]"
     ]
    },
    {
     "name": "stdout",
     "output_type": "stream",
     "text": [
      "Image download: ../Datav2/exports/ndvi/d752892a-9bdf-4b91-83f0-2d3f94c3f370_ndvi_bw.tif (512, 512)\n",
      "Image download: ../Datav2/exports/tc/299d84d9-ff65-4669-bcd7-cb5abb191c75_tc.tif (512, 512)\n"
     ]
    },
    {
     "name": "stderr",
     "output_type": "stream",
     "text": [
      "\r",
      " 68%|█████████████████████████████████████████████████████████████████████▋                                 | 1003/1482 [1:03:09<45:25,  5.69s/it]"
     ]
    },
    {
     "name": "stdout",
     "output_type": "stream",
     "text": [
      "Image download: ../Datav2/exports/ndvi/299d84d9-ff65-4669-bcd7-cb5abb191c75_ndvi_bw.tif (512, 512)\n",
      "Image download: ../Datav2/exports/tc/72999057-198b-4cd2-a316-2e854ef9a7f8_tc.tif (512, 512)\n"
     ]
    },
    {
     "name": "stderr",
     "output_type": "stream",
     "text": [
      "\r",
      " 68%|█████████████████████████████████████████████████████████████████████▊                                 | 1004/1482 [1:03:15<45:23,  5.70s/it]"
     ]
    },
    {
     "name": "stdout",
     "output_type": "stream",
     "text": [
      "Image download: ../Datav2/exports/ndvi/72999057-198b-4cd2-a316-2e854ef9a7f8_ndvi_bw.tif (512, 512)\n",
      "Image download: ../Datav2/exports/tc/9fe34773-10d3-419a-a6f5-4ddb2d43a145_tc.tif (512, 512)\n"
     ]
    },
    {
     "name": "stderr",
     "output_type": "stream",
     "text": [
      "\r",
      " 68%|█████████████████████████████████████████████████████████████████████▊                                 | 1005/1482 [1:03:21<45:07,  5.68s/it]"
     ]
    },
    {
     "name": "stdout",
     "output_type": "stream",
     "text": [
      "Image download: ../Datav2/exports/ndvi/9fe34773-10d3-419a-a6f5-4ddb2d43a145_ndvi_bw.tif (512, 512)\n",
      "Image download: ../Datav2/exports/tc/75ad696c-b094-4919-89e3-f879361f5151_tc.tif (512, 512)\n"
     ]
    },
    {
     "name": "stderr",
     "output_type": "stream",
     "text": [
      "\r",
      " 68%|█████████████████████████████████████████████████████████████████████▉                                 | 1006/1482 [1:03:26<44:26,  5.60s/it]"
     ]
    },
    {
     "name": "stdout",
     "output_type": "stream",
     "text": [
      "Image download: ../Datav2/exports/ndvi/75ad696c-b094-4919-89e3-f879361f5151_ndvi_bw.tif (512, 512)\n",
      "Image download: ../Datav2/exports/tc/25574325-cf1d-4191-bc3d-c50ed0a15f9c_tc.tif (512, 512)\n"
     ]
    },
    {
     "name": "stderr",
     "output_type": "stream",
     "text": [
      "\r",
      " 68%|█████████████████████████████████████████████████████████████████████▉                                 | 1007/1482 [1:03:31<42:29,  5.37s/it]"
     ]
    },
    {
     "name": "stdout",
     "output_type": "stream",
     "text": [
      "Image download: ../Datav2/exports/ndvi/25574325-cf1d-4191-bc3d-c50ed0a15f9c_ndvi_bw.tif (512, 512)\n",
      "Image download: ../Datav2/exports/tc/c8c8905e-4ff4-4563-8ad8-3838a8d0a3bb_tc.tif (512, 512)\n"
     ]
    },
    {
     "name": "stderr",
     "output_type": "stream",
     "text": [
      "\r",
      " 68%|██████████████████████████████████████████████████████████████████████                                 | 1008/1482 [1:03:36<41:19,  5.23s/it]"
     ]
    },
    {
     "name": "stdout",
     "output_type": "stream",
     "text": [
      "Image download: ../Datav2/exports/ndvi/c8c8905e-4ff4-4563-8ad8-3838a8d0a3bb_ndvi_bw.tif (512, 512)\n",
      "Image download: ../Datav2/exports/tc/b900fe52-8900-4578-9745-58036920a1ab_tc.tif (512, 512)\n"
     ]
    },
    {
     "name": "stderr",
     "output_type": "stream",
     "text": [
      "\r",
      " 68%|██████████████████████████████████████████████████████████████████████▏                                | 1009/1482 [1:03:41<40:57,  5.20s/it]"
     ]
    },
    {
     "name": "stdout",
     "output_type": "stream",
     "text": [
      "Image download: ../Datav2/exports/ndvi/b900fe52-8900-4578-9745-58036920a1ab_ndvi_bw.tif (512, 512)\n",
      "Image download: ../Datav2/exports/tc/28d55249-7c63-4213-a7b4-c0796dbb18ca_tc.tif (512, 512)\n"
     ]
    },
    {
     "name": "stderr",
     "output_type": "stream",
     "text": [
      "\r",
      " 68%|██████████████████████████████████████████████████████████████████████▏                                | 1010/1482 [1:03:49<46:37,  5.93s/it]"
     ]
    },
    {
     "name": "stdout",
     "output_type": "stream",
     "text": [
      "Image download: ../Datav2/exports/ndvi/28d55249-7c63-4213-a7b4-c0796dbb18ca_ndvi_bw.tif (512, 512)\n",
      "Image download: ../Datav2/exports/tc/f2d02439-f682-47e7-b6e9-6e51ca068c86_tc.tif (512, 512)\n"
     ]
    },
    {
     "name": "stderr",
     "output_type": "stream",
     "text": [
      "\r",
      " 68%|██████████████████████████████████████████████████████████████████████▎                                | 1011/1482 [1:03:55<47:11,  6.01s/it]"
     ]
    },
    {
     "name": "stdout",
     "output_type": "stream",
     "text": [
      "Image download: ../Datav2/exports/ndvi/f2d02439-f682-47e7-b6e9-6e51ca068c86_ndvi_bw.tif (512, 512)\n",
      "Image download: ../Datav2/exports/tc/bda69d0e-716e-439e-9a18-49f44d449086_tc.tif (512, 512)\n"
     ]
    },
    {
     "name": "stderr",
     "output_type": "stream",
     "text": [
      "\r",
      " 68%|██████████████████████████████████████████████████████████████████████▎                                | 1012/1482 [1:04:00<45:58,  5.87s/it]"
     ]
    },
    {
     "name": "stdout",
     "output_type": "stream",
     "text": [
      "Image download: ../Datav2/exports/ndvi/bda69d0e-716e-439e-9a18-49f44d449086_ndvi_bw.tif (512, 512)\n",
      "Image download: ../Datav2/exports/tc/8811a5f8-b99a-454a-9af5-6753579c8d45_tc.tif (512, 512)\n"
     ]
    },
    {
     "name": "stderr",
     "output_type": "stream",
     "text": [
      "\r",
      " 68%|██████████████████████████████████████████████████████████████████████▍                                | 1013/1482 [1:04:05<43:55,  5.62s/it]"
     ]
    },
    {
     "name": "stdout",
     "output_type": "stream",
     "text": [
      "Image download: ../Datav2/exports/ndvi/8811a5f8-b99a-454a-9af5-6753579c8d45_ndvi_bw.tif (512, 512)\n",
      "Image download: ../Datav2/exports/tc/91b94b02-cd05-471a-a4e7-5168d56c46ba_tc.tif (512, 512)\n"
     ]
    },
    {
     "name": "stderr",
     "output_type": "stream",
     "text": [
      "\r",
      " 68%|██████████████████████████████████████████████████████████████████████▍                                | 1014/1482 [1:04:11<43:38,  5.60s/it]"
     ]
    },
    {
     "name": "stdout",
     "output_type": "stream",
     "text": [
      "Image download: ../Datav2/exports/ndvi/91b94b02-cd05-471a-a4e7-5168d56c46ba_ndvi_bw.tif (512, 512)\n",
      "Image download: ../Datav2/exports/tc/a3ba8fc0-37f7-4c1a-9386-627d3369a03e_tc.tif (512, 512)\n"
     ]
    },
    {
     "name": "stderr",
     "output_type": "stream",
     "text": [
      "\r",
      " 68%|██████████████████████████████████████████████████████████████████████▌                                | 1015/1482 [1:04:16<41:47,  5.37s/it]"
     ]
    },
    {
     "name": "stdout",
     "output_type": "stream",
     "text": [
      "Image download: ../Datav2/exports/ndvi/a3ba8fc0-37f7-4c1a-9386-627d3369a03e_ndvi_bw.tif (512, 512)\n",
      "Image download: ../Datav2/exports/tc/595f6f52-a55b-40e7-8aa6-b409ff9a7a5b_tc.tif (512, 512)\n"
     ]
    },
    {
     "name": "stderr",
     "output_type": "stream",
     "text": [
      "\r",
      " 69%|██████████████████████████████████████████████████████████████████████▌                                | 1016/1482 [1:04:21<41:21,  5.33s/it]"
     ]
    },
    {
     "name": "stdout",
     "output_type": "stream",
     "text": [
      "Image download: ../Datav2/exports/ndvi/595f6f52-a55b-40e7-8aa6-b409ff9a7a5b_ndvi_bw.tif (512, 512)\n",
      "Image download: ../Datav2/exports/tc/218619b5-ad0c-4238-8e31-ab6d98932a73_tc.tif (512, 512)\n"
     ]
    },
    {
     "name": "stderr",
     "output_type": "stream",
     "text": [
      "\r",
      " 69%|██████████████████████████████████████████████████████████████████████▋                                | 1017/1482 [1:04:26<40:38,  5.24s/it]"
     ]
    },
    {
     "name": "stdout",
     "output_type": "stream",
     "text": [
      "Image download: ../Datav2/exports/ndvi/218619b5-ad0c-4238-8e31-ab6d98932a73_ndvi_bw.tif (512, 512)\n",
      "Image download: ../Datav2/exports/tc/5aa13874-fb24-44f0-969a-d12dbc7edca8_tc.tif (512, 512)\n"
     ]
    },
    {
     "name": "stderr",
     "output_type": "stream",
     "text": [
      "\r",
      " 69%|██████████████████████████████████████████████████████████████████████▊                                | 1018/1482 [1:04:31<40:51,  5.28s/it]"
     ]
    },
    {
     "name": "stdout",
     "output_type": "stream",
     "text": [
      "Image download: ../Datav2/exports/ndvi/5aa13874-fb24-44f0-969a-d12dbc7edca8_ndvi_bw.tif (512, 512)\n",
      "Image download: ../Datav2/exports/tc/70ff3ebc-0d1f-43eb-ab56-1ff13fe9c9e3_tc.tif (512, 512)\n"
     ]
    },
    {
     "name": "stderr",
     "output_type": "stream",
     "text": [
      "\r",
      " 69%|██████████████████████████████████████████████████████████████████████▊                                | 1019/1482 [1:04:37<41:59,  5.44s/it]"
     ]
    },
    {
     "name": "stdout",
     "output_type": "stream",
     "text": [
      "Image download: ../Datav2/exports/ndvi/70ff3ebc-0d1f-43eb-ab56-1ff13fe9c9e3_ndvi_bw.tif (512, 512)\n",
      "Image download: ../Datav2/exports/tc/465ed1e1-89be-4556-b616-834b65746005_tc.tif (512, 512)\n"
     ]
    },
    {
     "name": "stderr",
     "output_type": "stream",
     "text": [
      "\r",
      " 69%|██████████████████████████████████████████████████████████████████████▉                                | 1020/1482 [1:04:42<40:42,  5.29s/it]"
     ]
    },
    {
     "name": "stdout",
     "output_type": "stream",
     "text": [
      "Image download: ../Datav2/exports/ndvi/465ed1e1-89be-4556-b616-834b65746005_ndvi_bw.tif (512, 512)\n",
      "Image download: ../Datav2/exports/tc/4efc7855-ecbf-4507-8435-399e23a91fef_tc.tif (512, 512)\n"
     ]
    },
    {
     "name": "stderr",
     "output_type": "stream",
     "text": [
      "\r",
      " 69%|██████████████████████████████████████████████████████████████████████▉                                | 1021/1482 [1:04:48<41:15,  5.37s/it]"
     ]
    },
    {
     "name": "stdout",
     "output_type": "stream",
     "text": [
      "Image download: ../Datav2/exports/ndvi/4efc7855-ecbf-4507-8435-399e23a91fef_ndvi_bw.tif (512, 512)\n",
      "Image download: ../Datav2/exports/tc/c8060137-4a83-479b-9f36-429a698aac06_tc.tif (512, 512)\n"
     ]
    },
    {
     "name": "stderr",
     "output_type": "stream",
     "text": [
      "\r",
      " 69%|███████████████████████████████████████████████████████████████████████                                | 1022/1482 [1:04:52<39:40,  5.18s/it]"
     ]
    },
    {
     "name": "stdout",
     "output_type": "stream",
     "text": [
      "Image download: ../Datav2/exports/ndvi/c8060137-4a83-479b-9f36-429a698aac06_ndvi_bw.tif (512, 512)\n",
      "Image download: ../Datav2/exports/tc/53770321-4d20-4db9-bfad-754f9eeabc2b_tc.tif (512, 512)\n"
     ]
    },
    {
     "name": "stderr",
     "output_type": "stream",
     "text": [
      "\r",
      " 69%|███████████████████████████████████████████████████████████████████████                                | 1023/1482 [1:04:57<38:26,  5.02s/it]"
     ]
    },
    {
     "name": "stdout",
     "output_type": "stream",
     "text": [
      "Image download: ../Datav2/exports/ndvi/53770321-4d20-4db9-bfad-754f9eeabc2b_ndvi_bw.tif (512, 512)\n",
      "Image download: ../Datav2/exports/tc/d7365a2a-a113-4693-92d3-152f52b0d743_tc.tif (512, 512)\n"
     ]
    },
    {
     "name": "stderr",
     "output_type": "stream",
     "text": [
      "\r",
      " 69%|███████████████████████████████████████████████████████████████████████▏                               | 1024/1482 [1:05:03<39:23,  5.16s/it]"
     ]
    },
    {
     "name": "stdout",
     "output_type": "stream",
     "text": [
      "Image download: ../Datav2/exports/ndvi/d7365a2a-a113-4693-92d3-152f52b0d743_ndvi_bw.tif (512, 512)\n",
      "Image download: ../Datav2/exports/tc/a4d4923c-cf9e-43a9-b62e-dc9c04f0ec24_tc.tif (512, 512)\n"
     ]
    },
    {
     "name": "stderr",
     "output_type": "stream",
     "text": [
      "\r",
      " 69%|███████████████████████████████████████████████████████████████████████▏                               | 1025/1482 [1:05:07<38:42,  5.08s/it]"
     ]
    },
    {
     "name": "stdout",
     "output_type": "stream",
     "text": [
      "Image download: ../Datav2/exports/ndvi/a4d4923c-cf9e-43a9-b62e-dc9c04f0ec24_ndvi_bw.tif (512, 512)\n",
      "Image download: ../Datav2/exports/tc/d4618db6-e417-4590-8c1f-9b5ace341bb3_tc.tif (512, 512)\n"
     ]
    },
    {
     "name": "stderr",
     "output_type": "stream",
     "text": [
      "\r",
      " 69%|███████████████████████████████████████████████████████████████████████▎                               | 1026/1482 [1:05:13<40:24,  5.32s/it]"
     ]
    },
    {
     "name": "stdout",
     "output_type": "stream",
     "text": [
      "Image download: ../Datav2/exports/ndvi/d4618db6-e417-4590-8c1f-9b5ace341bb3_ndvi_bw.tif (512, 512)\n",
      "Image download: ../Datav2/exports/tc/97ff14e8-6d08-4214-ad3b-847fa3a0e84a_tc.tif (512, 512)\n"
     ]
    },
    {
     "name": "stderr",
     "output_type": "stream",
     "text": [
      "\r",
      " 69%|███████████████████████████████████████████████████████████████████████▍                               | 1027/1482 [1:05:18<39:37,  5.22s/it]"
     ]
    },
    {
     "name": "stdout",
     "output_type": "stream",
     "text": [
      "Image download: ../Datav2/exports/ndvi/97ff14e8-6d08-4214-ad3b-847fa3a0e84a_ndvi_bw.tif (512, 512)\n",
      "Image download: ../Datav2/exports/tc/97ff14e8-6d08-4214-ad3b-847fa3a0e84a_tc.tif (512, 512)\n"
     ]
    },
    {
     "name": "stderr",
     "output_type": "stream",
     "text": [
      "\r",
      " 69%|███████████████████████████████████████████████████████████████████████▍                               | 1028/1482 [1:05:22<36:21,  4.81s/it]"
     ]
    },
    {
     "name": "stdout",
     "output_type": "stream",
     "text": [
      "Image download: ../Datav2/exports/ndvi/97ff14e8-6d08-4214-ad3b-847fa3a0e84a_ndvi_bw.tif (512, 512)\n",
      "Image download: ../Datav2/exports/tc/6103c099-a3eb-481e-8a76-1296f5fdb25d_tc.tif (512, 512)\n"
     ]
    },
    {
     "name": "stderr",
     "output_type": "stream",
     "text": [
      "\r",
      " 69%|███████████████████████████████████████████████████████████████████████▌                               | 1029/1482 [1:05:27<35:49,  4.75s/it]"
     ]
    },
    {
     "name": "stdout",
     "output_type": "stream",
     "text": [
      "Image download: ../Datav2/exports/ndvi/6103c099-a3eb-481e-8a76-1296f5fdb25d_ndvi_bw.tif (512, 512)\n",
      "Image download: ../Datav2/exports/tc/f7bacdf4-ba33-436a-ad94-549395286fc2_tc.tif (512, 512)\n"
     ]
    },
    {
     "name": "stderr",
     "output_type": "stream",
     "text": [
      "\r",
      " 70%|███████████████████████████████████████████████████████████████████████▌                               | 1030/1482 [1:05:31<35:35,  4.72s/it]"
     ]
    },
    {
     "name": "stdout",
     "output_type": "stream",
     "text": [
      "Image download: ../Datav2/exports/ndvi/f7bacdf4-ba33-436a-ad94-549395286fc2_ndvi_bw.tif (512, 512)\n",
      "Image download: ../Datav2/exports/tc/b4377461-c17b-41b1-8dc2-9722f8ead519_tc.tif (512, 512)\n"
     ]
    },
    {
     "name": "stderr",
     "output_type": "stream",
     "text": [
      "\r",
      " 70%|███████████████████████████████████████████████████████████████████████▋                               | 1031/1482 [1:05:38<40:36,  5.40s/it]"
     ]
    },
    {
     "name": "stdout",
     "output_type": "stream",
     "text": [
      "Image download: ../Datav2/exports/ndvi/b4377461-c17b-41b1-8dc2-9722f8ead519_ndvi_bw.tif (512, 512)\n",
      "Image download: ../Datav2/exports/tc/cbf84797-7cc2-40a4-8157-d74c89792e9e_tc.tif (512, 512)\n"
     ]
    },
    {
     "name": "stderr",
     "output_type": "stream",
     "text": [
      "\r",
      " 70%|███████████████████████████████████████████████████████████████████████▋                               | 1032/1482 [1:05:44<41:08,  5.49s/it]"
     ]
    },
    {
     "name": "stdout",
     "output_type": "stream",
     "text": [
      "Image download: ../Datav2/exports/ndvi/cbf84797-7cc2-40a4-8157-d74c89792e9e_ndvi_bw.tif (512, 512)\n",
      "Image download: ../Datav2/exports/tc/28599f05-c64d-49a5-be59-23879eecb980_tc.tif (512, 512)\n"
     ]
    },
    {
     "name": "stderr",
     "output_type": "stream",
     "text": [
      "\r",
      " 70%|███████████████████████████████████████████████████████████████████████▊                               | 1033/1482 [1:05:49<40:52,  5.46s/it]"
     ]
    },
    {
     "name": "stdout",
     "output_type": "stream",
     "text": [
      "Image download: ../Datav2/exports/ndvi/28599f05-c64d-49a5-be59-23879eecb980_ndvi_bw.tif (512, 512)\n",
      "Image download: ../Datav2/exports/tc/29a5f777-bea5-411e-9139-fe0d094616b0_tc.tif (512, 512)\n"
     ]
    },
    {
     "name": "stderr",
     "output_type": "stream",
     "text": [
      "\r",
      " 70%|███████████████████████████████████████████████████████████████████████▊                               | 1034/1482 [1:05:55<40:41,  5.45s/it]"
     ]
    },
    {
     "name": "stdout",
     "output_type": "stream",
     "text": [
      "Image download: ../Datav2/exports/ndvi/29a5f777-bea5-411e-9139-fe0d094616b0_ndvi_bw.tif (512, 512)\n",
      "Image download: ../Datav2/exports/tc/d7e7eaca-5716-48b3-bd34-37acea282634_tc.tif (512, 512)\n"
     ]
    },
    {
     "name": "stderr",
     "output_type": "stream",
     "text": [
      "\r",
      " 70%|███████████████████████████████████████████████████████████████████████▉                               | 1035/1482 [1:06:00<39:26,  5.29s/it]"
     ]
    },
    {
     "name": "stdout",
     "output_type": "stream",
     "text": [
      "Image download: ../Datav2/exports/ndvi/d7e7eaca-5716-48b3-bd34-37acea282634_ndvi_bw.tif (512, 512)\n",
      "Image download: ../Datav2/exports/tc/eabc7fc2-d02b-480a-9472-7c7677e812cb_tc.tif (512, 512)\n"
     ]
    },
    {
     "name": "stderr",
     "output_type": "stream",
     "text": [
      "\r",
      " 70%|████████████████████████████████████████████████████████████████████████                               | 1036/1482 [1:06:06<40:33,  5.46s/it]"
     ]
    },
    {
     "name": "stdout",
     "output_type": "stream",
     "text": [
      "Image download: ../Datav2/exports/ndvi/eabc7fc2-d02b-480a-9472-7c7677e812cb_ndvi_bw.tif (512, 512)\n",
      "Image download: ../Datav2/exports/tc/1a4aeaa6-7f90-420f-ad6b-6942658a7fee_tc.tif (512, 512)\n"
     ]
    },
    {
     "name": "stderr",
     "output_type": "stream",
     "text": [
      "\r",
      " 70%|████████████████████████████████████████████████████████████████████████                               | 1037/1482 [1:06:10<38:21,  5.17s/it]"
     ]
    },
    {
     "name": "stdout",
     "output_type": "stream",
     "text": [
      "Image download: ../Datav2/exports/ndvi/1a4aeaa6-7f90-420f-ad6b-6942658a7fee_ndvi_bw.tif (512, 512)\n",
      "Image download: ../Datav2/exports/tc/59c697e4-5083-4f45-b03a-ef580f6618dd_tc.tif (512, 512)\n"
     ]
    },
    {
     "name": "stderr",
     "output_type": "stream",
     "text": [
      "\r",
      " 70%|████████████████████████████████████████████████████████████████████████▏                              | 1038/1482 [1:06:15<38:18,  5.18s/it]"
     ]
    },
    {
     "name": "stdout",
     "output_type": "stream",
     "text": [
      "Image download: ../Datav2/exports/ndvi/59c697e4-5083-4f45-b03a-ef580f6618dd_ndvi_bw.tif (512, 512)\n",
      "Image download: ../Datav2/exports/tc/8d5856ff-4cd4-4b88-afb0-c6df08f548a8_tc.tif (512, 512)\n"
     ]
    },
    {
     "name": "stderr",
     "output_type": "stream",
     "text": [
      "\r",
      " 70%|████████████████████████████████████████████████████████████████████████▏                              | 1039/1482 [1:06:21<38:36,  5.23s/it]"
     ]
    },
    {
     "name": "stdout",
     "output_type": "stream",
     "text": [
      "Image download: ../Datav2/exports/ndvi/8d5856ff-4cd4-4b88-afb0-c6df08f548a8_ndvi_bw.tif (512, 512)\n",
      "Image download: ../Datav2/exports/tc/b90be7b6-e9ec-4a18-a910-957f700c6ed6_tc.tif (512, 512)\n"
     ]
    },
    {
     "name": "stderr",
     "output_type": "stream",
     "text": [
      "\r",
      " 70%|████████████████████████████████████████████████████████████████████████▎                              | 1040/1482 [1:06:27<41:17,  5.60s/it]"
     ]
    },
    {
     "name": "stdout",
     "output_type": "stream",
     "text": [
      "Image download: ../Datav2/exports/ndvi/b90be7b6-e9ec-4a18-a910-957f700c6ed6_ndvi_bw.tif (512, 512)\n",
      "Image download: ../Datav2/exports/tc/be804253-e994-4f40-9e07-5c215533231c_tc.tif (512, 512)\n"
     ]
    },
    {
     "name": "stderr",
     "output_type": "stream",
     "text": [
      "\r",
      " 70%|████████████████████████████████████████████████████████████████████████▎                              | 1041/1482 [1:06:32<39:42,  5.40s/it]"
     ]
    },
    {
     "name": "stdout",
     "output_type": "stream",
     "text": [
      "Image download: ../Datav2/exports/ndvi/be804253-e994-4f40-9e07-5c215533231c_ndvi_bw.tif (512, 512)\n",
      "Image download: ../Datav2/exports/tc/76725105-a814-4e8d-bd5b-d0f2f1879dae_tc.tif (512, 512)\n"
     ]
    },
    {
     "name": "stderr",
     "output_type": "stream",
     "text": [
      "\r",
      " 70%|████████████████████████████████████████████████████████████████████████▍                              | 1042/1482 [1:06:37<39:07,  5.33s/it]"
     ]
    },
    {
     "name": "stdout",
     "output_type": "stream",
     "text": [
      "Image download: ../Datav2/exports/ndvi/76725105-a814-4e8d-bd5b-d0f2f1879dae_ndvi_bw.tif (512, 512)\n",
      "Image download: ../Datav2/exports/tc/2a1c14d1-2a88-4564-bd09-585e09ffc9a7_tc.tif (512, 512)\n"
     ]
    },
    {
     "name": "stderr",
     "output_type": "stream",
     "text": [
      "\r",
      " 70%|████████████████████████████████████████████████████████████████████████▍                              | 1043/1482 [1:06:43<39:27,  5.39s/it]"
     ]
    },
    {
     "name": "stdout",
     "output_type": "stream",
     "text": [
      "Image download: ../Datav2/exports/ndvi/2a1c14d1-2a88-4564-bd09-585e09ffc9a7_ndvi_bw.tif (512, 512)\n",
      "Image download: ../Datav2/exports/tc/09395db0-1c76-43c3-a3db-d18081b31a35_tc.tif (512, 512)\n"
     ]
    },
    {
     "name": "stderr",
     "output_type": "stream",
     "text": [
      "\r",
      " 70%|████████████████████████████████████████████████████████████████████████▌                              | 1044/1482 [1:06:48<39:11,  5.37s/it]"
     ]
    },
    {
     "name": "stdout",
     "output_type": "stream",
     "text": [
      "Image download: ../Datav2/exports/ndvi/09395db0-1c76-43c3-a3db-d18081b31a35_ndvi_bw.tif (512, 512)\n",
      "Image download: ../Datav2/exports/tc/22171870-baaf-480f-902a-45ec9282df35_tc.tif (512, 512)\n"
     ]
    },
    {
     "name": "stderr",
     "output_type": "stream",
     "text": [
      "\r",
      " 71%|████████████████████████████████████████████████████████████████████████▋                              | 1045/1482 [1:06:54<39:52,  5.47s/it]"
     ]
    },
    {
     "name": "stdout",
     "output_type": "stream",
     "text": [
      "Image download: ../Datav2/exports/ndvi/22171870-baaf-480f-902a-45ec9282df35_ndvi_bw.tif (512, 512)\n",
      "Image download: ../Datav2/exports/tc/9636bdf4-8754-4745-80c8-90a5fcd90ec2_tc.tif (512, 512)\n"
     ]
    },
    {
     "name": "stderr",
     "output_type": "stream",
     "text": [
      "\r",
      " 71%|████████████████████████████████████████████████████████████████████████▋                              | 1046/1482 [1:07:01<44:24,  6.11s/it]"
     ]
    },
    {
     "name": "stdout",
     "output_type": "stream",
     "text": [
      "Image download: ../Datav2/exports/ndvi/9636bdf4-8754-4745-80c8-90a5fcd90ec2_ndvi_bw.tif (512, 512)\n",
      "Image download: ../Datav2/exports/tc/7e24911d-5dc9-4449-ba08-f718c094ac9e_tc.tif (512, 512)\n"
     ]
    },
    {
     "name": "stderr",
     "output_type": "stream",
     "text": [
      "\r",
      " 71%|████████████████████████████████████████████████████████████████████████▊                              | 1047/1482 [1:07:07<42:31,  5.86s/it]"
     ]
    },
    {
     "name": "stdout",
     "output_type": "stream",
     "text": [
      "Image download: ../Datav2/exports/ndvi/7e24911d-5dc9-4449-ba08-f718c094ac9e_ndvi_bw.tif (512, 512)\n",
      "Image download: ../Datav2/exports/tc/d0e1cdc0-9dea-467a-8ae8-040e0f94178d_tc.tif (512, 512)\n"
     ]
    },
    {
     "name": "stderr",
     "output_type": "stream",
     "text": [
      "\r",
      " 71%|████████████████████████████████████████████████████████████████████████▊                              | 1048/1482 [1:07:11<39:49,  5.51s/it]"
     ]
    },
    {
     "name": "stdout",
     "output_type": "stream",
     "text": [
      "Image download: ../Datav2/exports/ndvi/d0e1cdc0-9dea-467a-8ae8-040e0f94178d_ndvi_bw.tif (512, 512)\n",
      "Image download: ../Datav2/exports/tc/78eabcbb-32b9-4438-ab84-8eb65c044db7_tc.tif (512, 512)\n"
     ]
    },
    {
     "name": "stderr",
     "output_type": "stream",
     "text": [
      "\r",
      " 71%|████████████████████████████████████████████████████████████████████████▉                              | 1049/1482 [1:07:17<39:34,  5.48s/it]"
     ]
    },
    {
     "name": "stdout",
     "output_type": "stream",
     "text": [
      "Image download: ../Datav2/exports/ndvi/78eabcbb-32b9-4438-ab84-8eb65c044db7_ndvi_bw.tif (512, 512)\n",
      "Image download: ../Datav2/exports/tc/dc55524d-c29f-4990-8f73-2974348c7fc7_tc.tif (512, 512)\n"
     ]
    },
    {
     "name": "stderr",
     "output_type": "stream",
     "text": [
      "\r",
      " 71%|████████████████████████████████████████████████████████████████████████▉                              | 1050/1482 [1:07:23<40:12,  5.59s/it]"
     ]
    },
    {
     "name": "stdout",
     "output_type": "stream",
     "text": [
      "Image download: ../Datav2/exports/ndvi/dc55524d-c29f-4990-8f73-2974348c7fc7_ndvi_bw.tif (512, 512)\n",
      "Image download: ../Datav2/exports/tc/3b576efa-90b7-4b87-983d-b38630e10576_tc.tif (512, 512)\n"
     ]
    },
    {
     "name": "stderr",
     "output_type": "stream",
     "text": [
      "\r",
      " 71%|█████████████████████████████████████████████████████████████████████████                              | 1051/1482 [1:07:28<39:45,  5.53s/it]"
     ]
    },
    {
     "name": "stdout",
     "output_type": "stream",
     "text": [
      "Image download: ../Datav2/exports/ndvi/3b576efa-90b7-4b87-983d-b38630e10576_ndvi_bw.tif (512, 512)\n",
      "Image download: ../Datav2/exports/tc/c2dc8734-e165-4fa1-9a1a-f393516bd5a5_tc.tif (512, 512)\n"
     ]
    },
    {
     "name": "stderr",
     "output_type": "stream",
     "text": [
      "\r",
      " 71%|█████████████████████████████████████████████████████████████████████████                              | 1052/1482 [1:07:34<39:44,  5.55s/it]"
     ]
    },
    {
     "name": "stdout",
     "output_type": "stream",
     "text": [
      "Image download: ../Datav2/exports/ndvi/c2dc8734-e165-4fa1-9a1a-f393516bd5a5_ndvi_bw.tif (512, 512)\n",
      "Image download: ../Datav2/exports/tc/01018620-8f10-4de0-a7e6-78cc9a77cc9a_tc.tif (512, 512)\n"
     ]
    },
    {
     "name": "stderr",
     "output_type": "stream",
     "text": [
      "\r",
      " 71%|█████████████████████████████████████████████████████████████████████████▏                             | 1053/1482 [1:07:39<39:15,  5.49s/it]"
     ]
    },
    {
     "name": "stdout",
     "output_type": "stream",
     "text": [
      "Image download: ../Datav2/exports/ndvi/01018620-8f10-4de0-a7e6-78cc9a77cc9a_ndvi_bw.tif (512, 512)\n",
      "Image download: ../Datav2/exports/tc/a125058d-abfe-4593-bd53-503ceea3f4f0_tc.tif (512, 512)\n"
     ]
    },
    {
     "name": "stderr",
     "output_type": "stream",
     "text": [
      "\r",
      " 71%|█████████████████████████████████████████████████████████████████████████▎                             | 1054/1482 [1:07:44<37:34,  5.27s/it]"
     ]
    },
    {
     "name": "stdout",
     "output_type": "stream",
     "text": [
      "Image download: ../Datav2/exports/ndvi/a125058d-abfe-4593-bd53-503ceea3f4f0_ndvi_bw.tif (512, 512)\n",
      "Image download: ../Datav2/exports/tc/f5d14543-5d98-41ca-99f5-09c1197161b2_tc.tif (512, 512)\n"
     ]
    },
    {
     "name": "stderr",
     "output_type": "stream",
     "text": [
      "\r",
      " 71%|█████████████████████████████████████████████████████████████████████████▎                             | 1055/1482 [1:07:49<37:30,  5.27s/it]"
     ]
    },
    {
     "name": "stdout",
     "output_type": "stream",
     "text": [
      "Image download: ../Datav2/exports/ndvi/f5d14543-5d98-41ca-99f5-09c1197161b2_ndvi_bw.tif (512, 512)\n",
      "Image download: ../Datav2/exports/tc/68957772-711e-4874-99f2-2b9267dbe725_tc.tif (512, 512)\n"
     ]
    },
    {
     "name": "stderr",
     "output_type": "stream",
     "text": [
      "\r",
      " 71%|█████████████████████████████████████████████████████████████████████████▍                             | 1056/1482 [1:07:55<38:04,  5.36s/it]"
     ]
    },
    {
     "name": "stdout",
     "output_type": "stream",
     "text": [
      "Image download: ../Datav2/exports/ndvi/68957772-711e-4874-99f2-2b9267dbe725_ndvi_bw.tif (512, 512)\n",
      "Image download: ../Datav2/exports/tc/a0b16523-d6f9-4a21-809d-4f2bdbc2bea7_tc.tif (512, 512)\n"
     ]
    },
    {
     "name": "stderr",
     "output_type": "stream",
     "text": [
      "\r",
      " 71%|█████████████████████████████████████████████████████████████████████████▍                             | 1057/1482 [1:08:01<40:50,  5.77s/it]"
     ]
    },
    {
     "name": "stdout",
     "output_type": "stream",
     "text": [
      "Image download: ../Datav2/exports/ndvi/a0b16523-d6f9-4a21-809d-4f2bdbc2bea7_ndvi_bw.tif (512, 512)\n",
      "Image download: ../Datav2/exports/tc/3c17be70-66f8-4df2-97be-873fe924d99c_tc.tif (512, 512)\n"
     ]
    },
    {
     "name": "stderr",
     "output_type": "stream",
     "text": [
      "\r",
      " 71%|█████████████████████████████████████████████████████████████████████████▌                             | 1058/1482 [1:08:08<42:58,  6.08s/it]"
     ]
    },
    {
     "name": "stdout",
     "output_type": "stream",
     "text": [
      "Image download: ../Datav2/exports/ndvi/3c17be70-66f8-4df2-97be-873fe924d99c_ndvi_bw.tif (512, 512)\n",
      "Image download: ../Datav2/exports/tc/8ff78ab4-378d-4e1b-9ba0-b90d8be07a06_tc.tif (512, 512)\n"
     ]
    },
    {
     "name": "stderr",
     "output_type": "stream",
     "text": [
      "\r",
      " 71%|█████████████████████████████████████████████████████████████████████████▌                             | 1059/1482 [1:08:13<39:43,  5.63s/it]"
     ]
    },
    {
     "name": "stdout",
     "output_type": "stream",
     "text": [
      "Image download: ../Datav2/exports/ndvi/8ff78ab4-378d-4e1b-9ba0-b90d8be07a06_ndvi_bw.tif (512, 512)\n",
      "Image download: ../Datav2/exports/tc/29d15973-a999-409e-adf4-486854df44ed_tc.tif (512, 512)\n"
     ]
    },
    {
     "name": "stderr",
     "output_type": "stream",
     "text": [
      "\r",
      " 72%|█████████████████████████████████████████████████████████████████████████▋                             | 1060/1482 [1:08:18<39:36,  5.63s/it]"
     ]
    },
    {
     "name": "stdout",
     "output_type": "stream",
     "text": [
      "Image download: ../Datav2/exports/ndvi/29d15973-a999-409e-adf4-486854df44ed_ndvi_bw.tif (512, 512)\n",
      "Image download: ../Datav2/exports/tc/656c37d9-6876-47ba-bf8e-ec6c351c3595_tc.tif (512, 512)\n"
     ]
    },
    {
     "name": "stderr",
     "output_type": "stream",
     "text": [
      "\r",
      " 72%|█████████████████████████████████████████████████████████████████████████▋                             | 1061/1482 [1:08:26<43:23,  6.18s/it]"
     ]
    },
    {
     "name": "stdout",
     "output_type": "stream",
     "text": [
      "Image download: ../Datav2/exports/ndvi/656c37d9-6876-47ba-bf8e-ec6c351c3595_ndvi_bw.tif (512, 512)\n",
      "Image download: ../Datav2/exports/tc/b89ae0bb-4b8b-47f6-b7c6-5e689a265288_tc.tif (512, 512)\n"
     ]
    },
    {
     "name": "stderr",
     "output_type": "stream",
     "text": [
      "\r",
      " 72%|█████████████████████████████████████████████████████████████████████████▊                             | 1062/1482 [1:08:34<46:38,  6.66s/it]"
     ]
    },
    {
     "name": "stdout",
     "output_type": "stream",
     "text": [
      "Image download: ../Datav2/exports/ndvi/b89ae0bb-4b8b-47f6-b7c6-5e689a265288_ndvi_bw.tif (512, 512)\n",
      "Image download: ../Datav2/exports/tc/15d8c9e7-7029-4027-85d8-95f308f83790_tc.tif (512, 512)\n"
     ]
    },
    {
     "name": "stderr",
     "output_type": "stream",
     "text": [
      "\r",
      " 72%|█████████████████████████████████████████████████████████████████████████▉                             | 1063/1482 [1:08:38<42:20,  6.06s/it]"
     ]
    },
    {
     "name": "stdout",
     "output_type": "stream",
     "text": [
      "Image download: ../Datav2/exports/ndvi/15d8c9e7-7029-4027-85d8-95f308f83790_ndvi_bw.tif (512, 512)\n",
      "Image download: ../Datav2/exports/tc/20495cc8-cb22-4fd1-9bc3-0b9c654d12a0_tc.tif (512, 512)\n"
     ]
    },
    {
     "name": "stderr",
     "output_type": "stream",
     "text": [
      "\r",
      " 72%|█████████████████████████████████████████████████████████████████████████▉                             | 1064/1482 [1:08:49<51:47,  7.44s/it]"
     ]
    },
    {
     "name": "stdout",
     "output_type": "stream",
     "text": [
      "Image download: ../Datav2/exports/ndvi/20495cc8-cb22-4fd1-9bc3-0b9c654d12a0_ndvi_bw.tif (512, 512)\n",
      "Image download: ../Datav2/exports/tc/052acbfd-0552-47ac-8be7-6f79b4aecf0e_tc.tif (512, 512)\n"
     ]
    },
    {
     "name": "stderr",
     "output_type": "stream",
     "text": [
      "\r",
      " 72%|██████████████████████████████████████████████████████████████████████████                             | 1065/1482 [1:08:53<45:29,  6.55s/it]"
     ]
    },
    {
     "name": "stdout",
     "output_type": "stream",
     "text": [
      "Image download: ../Datav2/exports/ndvi/052acbfd-0552-47ac-8be7-6f79b4aecf0e_ndvi_bw.tif (512, 512)\n",
      "Image download: ../Datav2/exports/tc/8d7302b1-605f-404d-9641-a890720e8657_tc.tif (512, 512)\n"
     ]
    },
    {
     "name": "stderr",
     "output_type": "stream",
     "text": [
      "\r",
      " 72%|██████████████████████████████████████████████████████████████████████████                             | 1066/1482 [1:08:59<43:42,  6.30s/it]"
     ]
    },
    {
     "name": "stdout",
     "output_type": "stream",
     "text": [
      "Image download: ../Datav2/exports/ndvi/8d7302b1-605f-404d-9641-a890720e8657_ndvi_bw.tif (512, 512)\n",
      "Image download: ../Datav2/exports/tc/8c94a8f0-1d63-4ea7-88af-52fee196a9a6_tc.tif (512, 512)\n"
     ]
    },
    {
     "name": "stderr",
     "output_type": "stream",
     "text": [
      "\r",
      " 72%|██████████████████████████████████████████████████████████████████████████▏                            | 1067/1482 [1:09:04<41:26,  5.99s/it]"
     ]
    },
    {
     "name": "stdout",
     "output_type": "stream",
     "text": [
      "Image download: ../Datav2/exports/ndvi/8c94a8f0-1d63-4ea7-88af-52fee196a9a6_ndvi_bw.tif (512, 512)\n",
      "Image download: ../Datav2/exports/tc/f141dba0-ae4b-4972-b926-81d1595d0917_tc.tif (512, 512)\n"
     ]
    },
    {
     "name": "stderr",
     "output_type": "stream",
     "text": [
      "\r",
      " 72%|██████████████████████████████████████████████████████████████████████████▏                            | 1068/1482 [1:09:09<38:22,  5.56s/it]"
     ]
    },
    {
     "name": "stdout",
     "output_type": "stream",
     "text": [
      "Image download: ../Datav2/exports/ndvi/f141dba0-ae4b-4972-b926-81d1595d0917_ndvi_bw.tif (512, 512)\n",
      "Image download: ../Datav2/exports/tc/02ebd2cc-c4da-4508-92f6-30446d041ae9_tc.tif (512, 512)\n"
     ]
    },
    {
     "name": "stderr",
     "output_type": "stream",
     "text": [
      "\r",
      " 72%|██████████████████████████████████████████████████████████████████████████▎                            | 1069/1482 [1:09:14<38:00,  5.52s/it]"
     ]
    },
    {
     "name": "stdout",
     "output_type": "stream",
     "text": [
      "Image download: ../Datav2/exports/ndvi/02ebd2cc-c4da-4508-92f6-30446d041ae9_ndvi_bw.tif (512, 512)\n",
      "Image download: ../Datav2/exports/tc/62b14189-aea8-4dcb-8702-a1dfc11abda7_tc.tif (512, 512)\n"
     ]
    },
    {
     "name": "stderr",
     "output_type": "stream",
     "text": [
      "\r",
      " 72%|██████████████████████████████████████████████████████████████████████████▎                            | 1070/1482 [1:09:19<36:31,  5.32s/it]"
     ]
    },
    {
     "name": "stdout",
     "output_type": "stream",
     "text": [
      "Image download: ../Datav2/exports/ndvi/62b14189-aea8-4dcb-8702-a1dfc11abda7_ndvi_bw.tif (512, 512)\n",
      "Image download: ../Datav2/exports/tc/0194a44a-0c12-4e47-a053-f3b9b2382858_tc.tif (512, 512)\n"
     ]
    },
    {
     "name": "stderr",
     "output_type": "stream",
     "text": [
      "\r",
      " 72%|██████████████████████████████████████████████████████████████████████████▍                            | 1071/1482 [1:09:24<35:23,  5.17s/it]"
     ]
    },
    {
     "name": "stdout",
     "output_type": "stream",
     "text": [
      "Image download: ../Datav2/exports/ndvi/0194a44a-0c12-4e47-a053-f3b9b2382858_ndvi_bw.tif (512, 512)\n",
      "Image download: ../Datav2/exports/tc/1dad019f-12c1-47a0-a20c-2408d942f1c4_tc.tif (512, 512)\n"
     ]
    },
    {
     "name": "stderr",
     "output_type": "stream",
     "text": [
      "\r",
      " 72%|██████████████████████████████████████████████████████████████████████████▌                            | 1072/1482 [1:09:31<39:07,  5.72s/it]"
     ]
    },
    {
     "name": "stdout",
     "output_type": "stream",
     "text": [
      "Image download: ../Datav2/exports/ndvi/1dad019f-12c1-47a0-a20c-2408d942f1c4_ndvi_bw.tif (512, 512)\n",
      "Image download: ../Datav2/exports/tc/14207c18-f9a3-4a69-9f3a-d778d2f6960f_tc.tif (512, 512)\n"
     ]
    },
    {
     "name": "stderr",
     "output_type": "stream",
     "text": [
      "\r",
      " 72%|██████████████████████████████████████████████████████████████████████████▌                            | 1073/1482 [1:09:36<38:05,  5.59s/it]"
     ]
    },
    {
     "name": "stdout",
     "output_type": "stream",
     "text": [
      "Image download: ../Datav2/exports/ndvi/14207c18-f9a3-4a69-9f3a-d778d2f6960f_ndvi_bw.tif (512, 512)\n",
      "Image download: ../Datav2/exports/tc/756cceab-80e1-47af-8c85-9e650352b48e_tc.tif (512, 512)\n"
     ]
    },
    {
     "name": "stderr",
     "output_type": "stream",
     "text": [
      "\r",
      " 72%|██████████████████████████████████████████████████████████████████████████▋                            | 1074/1482 [1:09:42<38:07,  5.61s/it]"
     ]
    },
    {
     "name": "stdout",
     "output_type": "stream",
     "text": [
      "Image download: ../Datav2/exports/ndvi/756cceab-80e1-47af-8c85-9e650352b48e_ndvi_bw.tif (512, 512)\n",
      "Image download: ../Datav2/exports/tc/e51ff5f0-09d5-42f3-8bed-c1c6eb85d245_tc.tif (512, 512)\n"
     ]
    },
    {
     "name": "stderr",
     "output_type": "stream",
     "text": [
      "\r",
      " 73%|██████████████████████████████████████████████████████████████████████████▋                            | 1075/1482 [1:09:47<36:28,  5.38s/it]"
     ]
    },
    {
     "name": "stdout",
     "output_type": "stream",
     "text": [
      "Image download: ../Datav2/exports/ndvi/e51ff5f0-09d5-42f3-8bed-c1c6eb85d245_ndvi_bw.tif (512, 512)\n",
      "Image download: ../Datav2/exports/tc/d56aeb11-09a3-4854-b422-9a1e41f18a51_tc.tif (512, 512)\n"
     ]
    },
    {
     "name": "stderr",
     "output_type": "stream",
     "text": [
      "\r",
      " 73%|██████████████████████████████████████████████████████████████████████████▊                            | 1076/1482 [1:09:52<34:59,  5.17s/it]"
     ]
    },
    {
     "name": "stdout",
     "output_type": "stream",
     "text": [
      "Image download: ../Datav2/exports/ndvi/d56aeb11-09a3-4854-b422-9a1e41f18a51_ndvi_bw.tif (512, 512)\n",
      "Image download: ../Datav2/exports/tc/e4c8aa24-e396-46d1-ae6e-bc9c7889967a_tc.tif (512, 512)\n"
     ]
    },
    {
     "name": "stderr",
     "output_type": "stream",
     "text": [
      "\r",
      " 73%|██████████████████████████████████████████████████████████████████████████▊                            | 1077/1482 [1:09:57<34:48,  5.16s/it]"
     ]
    },
    {
     "name": "stdout",
     "output_type": "stream",
     "text": [
      "Image download: ../Datav2/exports/ndvi/e4c8aa24-e396-46d1-ae6e-bc9c7889967a_ndvi_bw.tif (512, 512)\n",
      "Image download: ../Datav2/exports/tc/f6693336-817b-4424-8aea-1c966fae5e23_tc.tif (512, 512)\n"
     ]
    },
    {
     "name": "stderr",
     "output_type": "stream",
     "text": [
      "\r",
      " 73%|██████████████████████████████████████████████████████████████████████████▉                            | 1078/1482 [1:10:01<33:46,  5.02s/it]"
     ]
    },
    {
     "name": "stdout",
     "output_type": "stream",
     "text": [
      "Image download: ../Datav2/exports/ndvi/f6693336-817b-4424-8aea-1c966fae5e23_ndvi_bw.tif (512, 512)\n",
      "Image download: ../Datav2/exports/tc/022bee6b-1559-4792-a2d2-014d3adfecad_tc.tif (512, 512)\n"
     ]
    },
    {
     "name": "stderr",
     "output_type": "stream",
     "text": [
      "\r",
      " 73%|██████████████████████████████████████████████████████████████████████████▉                            | 1079/1482 [1:10:05<31:58,  4.76s/it]"
     ]
    },
    {
     "name": "stdout",
     "output_type": "stream",
     "text": [
      "Image download: ../Datav2/exports/ndvi/022bee6b-1559-4792-a2d2-014d3adfecad_ndvi_bw.tif (512, 512)\n",
      "Image download: ../Datav2/exports/tc/05fb81ea-7e85-4d0d-9587-64c907a45561_tc.tif (512, 512)\n"
     ]
    },
    {
     "name": "stderr",
     "output_type": "stream",
     "text": [
      "\r",
      " 73%|███████████████████████████████████████████████████████████████████████████                            | 1080/1482 [1:10:11<32:42,  4.88s/it]"
     ]
    },
    {
     "name": "stdout",
     "output_type": "stream",
     "text": [
      "Image download: ../Datav2/exports/ndvi/05fb81ea-7e85-4d0d-9587-64c907a45561_ndvi_bw.tif (512, 512)\n",
      "Image download: ../Datav2/exports/tc/9626db35-9c2a-4431-8c91-00e0bba794fa_tc.tif (512, 512)\n"
     ]
    },
    {
     "name": "stderr",
     "output_type": "stream",
     "text": [
      "\r",
      " 73%|███████████████████████████████████████████████████████████████████████████▏                           | 1081/1482 [1:10:17<34:56,  5.23s/it]"
     ]
    },
    {
     "name": "stdout",
     "output_type": "stream",
     "text": [
      "Image download: ../Datav2/exports/ndvi/9626db35-9c2a-4431-8c91-00e0bba794fa_ndvi_bw.tif (512, 512)\n",
      "Image download: ../Datav2/exports/tc/389e3075-51b9-45a8-ab9a-a75b03225c8d_tc.tif (512, 512)\n"
     ]
    },
    {
     "name": "stderr",
     "output_type": "stream",
     "text": [
      "\r",
      " 73%|███████████████████████████████████████████████████████████████████████████▏                           | 1082/1482 [1:10:21<33:55,  5.09s/it]"
     ]
    },
    {
     "name": "stdout",
     "output_type": "stream",
     "text": [
      "Image download: ../Datav2/exports/ndvi/389e3075-51b9-45a8-ab9a-a75b03225c8d_ndvi_bw.tif (512, 512)\n",
      "Image download: ../Datav2/exports/tc/d7745759-07bd-40a7-a66c-003b174851b2_tc.tif (512, 512)\n"
     ]
    },
    {
     "name": "stderr",
     "output_type": "stream",
     "text": [
      "\r",
      " 73%|███████████████████████████████████████████████████████████████████████████▎                           | 1083/1482 [1:10:28<36:57,  5.56s/it]"
     ]
    },
    {
     "name": "stdout",
     "output_type": "stream",
     "text": [
      "Image download: ../Datav2/exports/ndvi/d7745759-07bd-40a7-a66c-003b174851b2_ndvi_bw.tif (512, 512)\n",
      "Image download: ../Datav2/exports/tc/a710f41c-aa03-41e1-813f-a98812aea01b_tc.tif (512, 512)\n"
     ]
    },
    {
     "name": "stderr",
     "output_type": "stream",
     "text": [
      "\r",
      " 73%|███████████████████████████████████████████████████████████████████████████▎                           | 1084/1482 [1:10:33<36:08,  5.45s/it]"
     ]
    },
    {
     "name": "stdout",
     "output_type": "stream",
     "text": [
      "Image download: ../Datav2/exports/ndvi/a710f41c-aa03-41e1-813f-a98812aea01b_ndvi_bw.tif (512, 512)\n",
      "Image download: ../Datav2/exports/tc/5b5274df-2cb7-402e-b002-778cce00ac1d_tc.tif (512, 512)\n"
     ]
    },
    {
     "name": "stderr",
     "output_type": "stream",
     "text": [
      "\r",
      " 73%|███████████████████████████████████████████████████████████████████████████▍                           | 1085/1482 [1:10:38<33:45,  5.10s/it]"
     ]
    },
    {
     "name": "stdout",
     "output_type": "stream",
     "text": [
      "Image download: ../Datav2/exports/ndvi/5b5274df-2cb7-402e-b002-778cce00ac1d_ndvi_bw.tif (512, 512)\n",
      "Image download: ../Datav2/exports/tc/fb7f7795-ede7-40cc-acf6-3ee6e761d0a9_tc.tif (512, 512)\n"
     ]
    },
    {
     "name": "stderr",
     "output_type": "stream",
     "text": [
      "\r",
      " 73%|███████████████████████████████████████████████████████████████████████████▍                           | 1086/1482 [1:10:42<32:14,  4.89s/it]"
     ]
    },
    {
     "name": "stdout",
     "output_type": "stream",
     "text": [
      "Image download: ../Datav2/exports/ndvi/fb7f7795-ede7-40cc-acf6-3ee6e761d0a9_ndvi_bw.tif (512, 512)\n",
      "Image download: ../Datav2/exports/tc/0dd9bca6-35b9-4a75-8f3b-a5e57e1b90e7_tc.tif (512, 512)\n"
     ]
    },
    {
     "name": "stderr",
     "output_type": "stream",
     "text": [
      "\r",
      " 73%|███████████████████████████████████████████████████████████████████████████▌                           | 1087/1482 [1:10:47<31:55,  4.85s/it]"
     ]
    },
    {
     "name": "stdout",
     "output_type": "stream",
     "text": [
      "Image download: ../Datav2/exports/ndvi/0dd9bca6-35b9-4a75-8f3b-a5e57e1b90e7_ndvi_bw.tif (512, 512)\n",
      "Image download: ../Datav2/exports/tc/6e0b516c-9da1-4ff7-a0ce-3251b2cbabb9_tc.tif (512, 512)\n"
     ]
    },
    {
     "name": "stderr",
     "output_type": "stream",
     "text": [
      "\r",
      " 73%|███████████████████████████████████████████████████████████████████████████▌                           | 1088/1482 [1:10:51<31:07,  4.74s/it]"
     ]
    },
    {
     "name": "stdout",
     "output_type": "stream",
     "text": [
      "Image download: ../Datav2/exports/ndvi/6e0b516c-9da1-4ff7-a0ce-3251b2cbabb9_ndvi_bw.tif (512, 512)\n",
      "Image download: ../Datav2/exports/tc/240b1f55-0f4e-448d-a4ce-3ecfec7a6c9d_tc.tif (512, 512)\n"
     ]
    },
    {
     "name": "stderr",
     "output_type": "stream",
     "text": [
      "\r",
      " 73%|███████████████████████████████████████████████████████████████████████████▋                           | 1089/1482 [1:11:00<38:07,  5.82s/it]"
     ]
    },
    {
     "name": "stdout",
     "output_type": "stream",
     "text": [
      "Image download: ../Datav2/exports/ndvi/240b1f55-0f4e-448d-a4ce-3ecfec7a6c9d_ndvi_bw.tif (512, 512)\n",
      "Image download: ../Datav2/exports/tc/240b1f55-0f4e-448d-a4ce-3ecfec7a6c9d_tc.tif (512, 512)\n"
     ]
    },
    {
     "name": "stderr",
     "output_type": "stream",
     "text": [
      "\r",
      " 74%|███████████████████████████████████████████████████████████████████████████▊                           | 1090/1482 [1:11:04<35:51,  5.49s/it]"
     ]
    },
    {
     "name": "stdout",
     "output_type": "stream",
     "text": [
      "Image download: ../Datav2/exports/ndvi/240b1f55-0f4e-448d-a4ce-3ecfec7a6c9d_ndvi_bw.tif (512, 512)\n",
      "Image download: ../Datav2/exports/tc/e18c9556-706f-4bb7-b908-e7b44293923d_tc.tif (512, 512)\n"
     ]
    },
    {
     "name": "stderr",
     "output_type": "stream",
     "text": [
      "\r",
      " 74%|███████████████████████████████████████████████████████████████████████████▊                           | 1091/1482 [1:11:09<33:59,  5.21s/it]"
     ]
    },
    {
     "name": "stdout",
     "output_type": "stream",
     "text": [
      "Image download: ../Datav2/exports/ndvi/e18c9556-706f-4bb7-b908-e7b44293923d_ndvi_bw.tif (512, 512)\n",
      "Image download: ../Datav2/exports/tc/2fdf2c14-77b4-458c-96fc-bd883dec3ad3_tc.tif (512, 512)\n"
     ]
    },
    {
     "name": "stderr",
     "output_type": "stream",
     "text": [
      "\r",
      " 74%|███████████████████████████████████████████████████████████████████████████▉                           | 1092/1482 [1:11:15<35:45,  5.50s/it]"
     ]
    },
    {
     "name": "stdout",
     "output_type": "stream",
     "text": [
      "Image download: ../Datav2/exports/ndvi/2fdf2c14-77b4-458c-96fc-bd883dec3ad3_ndvi_bw.tif (512, 512)\n",
      "Image download: ../Datav2/exports/tc/a18ed51c-1083-4f48-ab1b-6ae0c5454073_tc.tif (512, 512)\n"
     ]
    },
    {
     "name": "stderr",
     "output_type": "stream",
     "text": [
      "\r",
      " 74%|███████████████████████████████████████████████████████████████████████████▉                           | 1093/1482 [1:11:19<33:08,  5.11s/it]"
     ]
    },
    {
     "name": "stdout",
     "output_type": "stream",
     "text": [
      "Image download: ../Datav2/exports/ndvi/a18ed51c-1083-4f48-ab1b-6ae0c5454073_ndvi_bw.tif (512, 512)\n",
      "Image download: ../Datav2/exports/tc/708b3dde-3f1a-4813-8501-8a52bf3b1d9c_tc.tif (512, 512)\n"
     ]
    },
    {
     "name": "stderr",
     "output_type": "stream",
     "text": [
      "\r",
      " 74%|████████████████████████████████████████████████████████████████████████████                           | 1094/1482 [1:11:24<32:43,  5.06s/it]"
     ]
    },
    {
     "name": "stdout",
     "output_type": "stream",
     "text": [
      "Image download: ../Datav2/exports/ndvi/708b3dde-3f1a-4813-8501-8a52bf3b1d9c_ndvi_bw.tif (512, 512)\n",
      "Image download: ../Datav2/exports/tc/df681456-a50e-4400-a95a-77533a0978ba_tc.tif (512, 512)\n"
     ]
    },
    {
     "name": "stderr",
     "output_type": "stream",
     "text": [
      "\r",
      " 74%|████████████████████████████████████████████████████████████████████████████                           | 1095/1482 [1:11:31<35:42,  5.54s/it]"
     ]
    },
    {
     "name": "stdout",
     "output_type": "stream",
     "text": [
      "Image download: ../Datav2/exports/ndvi/df681456-a50e-4400-a95a-77533a0978ba_ndvi_bw.tif (512, 512)\n",
      "Image download: ../Datav2/exports/tc/f306893c-d6b5-4d68-a2a3-4a306822e041_tc.tif (512, 512)\n"
     ]
    },
    {
     "name": "stderr",
     "output_type": "stream",
     "text": [
      "\r",
      " 74%|████████████████████████████████████████████████████████████████████████████▏                          | 1096/1482 [1:11:36<35:27,  5.51s/it]"
     ]
    },
    {
     "name": "stdout",
     "output_type": "stream",
     "text": [
      "Image download: ../Datav2/exports/ndvi/f306893c-d6b5-4d68-a2a3-4a306822e041_ndvi_bw.tif (512, 512)\n",
      "Image download: ../Datav2/exports/tc/655b2bde-09c6-43b8-9cdb-43096bcf1155_tc.tif (512, 512)\n"
     ]
    },
    {
     "name": "stderr",
     "output_type": "stream",
     "text": [
      "\r",
      " 74%|████████████████████████████████████████████████████████████████████████████▏                          | 1097/1482 [1:11:41<33:31,  5.23s/it]"
     ]
    },
    {
     "name": "stdout",
     "output_type": "stream",
     "text": [
      "Image download: ../Datav2/exports/ndvi/655b2bde-09c6-43b8-9cdb-43096bcf1155_ndvi_bw.tif (512, 512)\n",
      "Image download: ../Datav2/exports/tc/1f942827-c242-49a1-bccd-f2375be91ad9_tc.tif (512, 512)\n"
     ]
    },
    {
     "name": "stderr",
     "output_type": "stream",
     "text": [
      "\r",
      " 74%|████████████████████████████████████████████████████████████████████████████▎                          | 1098/1482 [1:11:46<32:58,  5.15s/it]"
     ]
    },
    {
     "name": "stdout",
     "output_type": "stream",
     "text": [
      "Image download: ../Datav2/exports/ndvi/1f942827-c242-49a1-bccd-f2375be91ad9_ndvi_bw.tif (512, 512)\n",
      "Image download: ../Datav2/exports/tc/90b0daf7-5d84-42d9-bb35-bb78d4faf950_tc.tif (512, 512)\n"
     ]
    },
    {
     "name": "stderr",
     "output_type": "stream",
     "text": [
      "\r",
      " 74%|████████████████████████████████████████████████████████████████████████████▍                          | 1099/1482 [1:11:51<32:17,  5.06s/it]"
     ]
    },
    {
     "name": "stdout",
     "output_type": "stream",
     "text": [
      "Image download: ../Datav2/exports/ndvi/90b0daf7-5d84-42d9-bb35-bb78d4faf950_ndvi_bw.tif (512, 512)\n",
      "Image download: ../Datav2/exports/tc/90b0daf7-5d84-42d9-bb35-bb78d4faf950_tc.tif (512, 512)\n"
     ]
    },
    {
     "name": "stderr",
     "output_type": "stream",
     "text": [
      "\r",
      " 74%|████████████████████████████████████████████████████████████████████████████▍                          | 1100/1482 [1:11:55<31:40,  4.98s/it]"
     ]
    },
    {
     "name": "stdout",
     "output_type": "stream",
     "text": [
      "Image download: ../Datav2/exports/ndvi/90b0daf7-5d84-42d9-bb35-bb78d4faf950_ndvi_bw.tif (512, 512)\n",
      "Image download: ../Datav2/exports/tc/90b0daf7-5d84-42d9-bb35-bb78d4faf950_tc.tif (512, 512)\n"
     ]
    },
    {
     "name": "stderr",
     "output_type": "stream",
     "text": [
      "\r",
      " 74%|████████████████████████████████████████████████████████████████████████████▌                          | 1101/1482 [1:11:58<27:10,  4.28s/it]"
     ]
    },
    {
     "name": "stdout",
     "output_type": "stream",
     "text": [
      "Image download: ../Datav2/exports/ndvi/90b0daf7-5d84-42d9-bb35-bb78d4faf950_ndvi_bw.tif (512, 512)\n",
      "Image download: ../Datav2/exports/tc/90b0daf7-5d84-42d9-bb35-bb78d4faf950_tc.tif (512, 512)\n"
     ]
    },
    {
     "name": "stderr",
     "output_type": "stream",
     "text": [
      "\r",
      " 74%|████████████████████████████████████████████████████████████████████████████▌                          | 1102/1482 [1:12:01<24:57,  3.94s/it]"
     ]
    },
    {
     "name": "stdout",
     "output_type": "stream",
     "text": [
      "Image download: ../Datav2/exports/ndvi/90b0daf7-5d84-42d9-bb35-bb78d4faf950_ndvi_bw.tif (512, 512)\n",
      "Image download: ../Datav2/exports/tc/e775e724-0a1b-4156-a477-623031c09b0e_tc.tif (512, 512)\n"
     ]
    },
    {
     "name": "stderr",
     "output_type": "stream",
     "text": [
      "\r",
      " 74%|████████████████████████████████████████████████████████████████████████████▋                          | 1103/1482 [1:12:06<26:59,  4.27s/it]"
     ]
    },
    {
     "name": "stdout",
     "output_type": "stream",
     "text": [
      "Image download: ../Datav2/exports/ndvi/e775e724-0a1b-4156-a477-623031c09b0e_ndvi_bw.tif (512, 512)\n",
      "Image download: ../Datav2/exports/tc/af30fe23-6cfd-4fd6-b2d9-91648eeae814_tc.tif (512, 512)\n"
     ]
    },
    {
     "name": "stderr",
     "output_type": "stream",
     "text": [
      "\r",
      " 74%|████████████████████████████████████████████████████████████████████████████▋                          | 1104/1482 [1:12:11<28:06,  4.46s/it]"
     ]
    },
    {
     "name": "stdout",
     "output_type": "stream",
     "text": [
      "Image download: ../Datav2/exports/ndvi/af30fe23-6cfd-4fd6-b2d9-91648eeae814_ndvi_bw.tif (512, 512)\n",
      "Image download: ../Datav2/exports/tc/af30fe23-6cfd-4fd6-b2d9-91648eeae814_tc.tif (512, 512)\n"
     ]
    },
    {
     "name": "stderr",
     "output_type": "stream",
     "text": [
      "\r",
      " 75%|████████████████████████████████████████████████████████████████████████████▊                          | 1105/1482 [1:12:14<25:00,  3.98s/it]"
     ]
    },
    {
     "name": "stdout",
     "output_type": "stream",
     "text": [
      "Image download: ../Datav2/exports/ndvi/af30fe23-6cfd-4fd6-b2d9-91648eeae814_ndvi_bw.tif (512, 512)\n",
      "Image download: ../Datav2/exports/tc/af30fe23-6cfd-4fd6-b2d9-91648eeae814_tc.tif (512, 512)\n"
     ]
    },
    {
     "name": "stderr",
     "output_type": "stream",
     "text": [
      "\r",
      " 75%|████████████████████████████████████████████████████████████████████████████▊                          | 1106/1482 [1:12:19<25:52,  4.13s/it]"
     ]
    },
    {
     "name": "stdout",
     "output_type": "stream",
     "text": [
      "Image download: ../Datav2/exports/ndvi/af30fe23-6cfd-4fd6-b2d9-91648eeae814_ndvi_bw.tif (512, 512)\n",
      "Image download: ../Datav2/exports/tc/2b56b06d-46d6-43f2-b474-2598dd163e82_tc.tif (512, 512)\n"
     ]
    },
    {
     "name": "stderr",
     "output_type": "stream",
     "text": [
      "\r",
      " 75%|████████████████████████████████████████████████████████████████████████████▉                          | 1107/1482 [1:12:37<53:30,  8.56s/it]"
     ]
    },
    {
     "name": "stdout",
     "output_type": "stream",
     "text": [
      "Image download: ../Datav2/exports/ndvi/2b56b06d-46d6-43f2-b474-2598dd163e82_ndvi_bw.tif (512, 512)\n",
      "Image download: ../Datav2/exports/tc/684ded31-5a60-4c05-bbdb-2fb913ca0041_tc.tif (512, 512)\n"
     ]
    },
    {
     "name": "stderr",
     "output_type": "stream",
     "text": [
      "\r",
      " 75%|█████████████████████████████████████████████████████████████████████████████                          | 1108/1482 [1:12:44<49:31,  7.95s/it]"
     ]
    },
    {
     "name": "stdout",
     "output_type": "stream",
     "text": [
      "Image download: ../Datav2/exports/ndvi/684ded31-5a60-4c05-bbdb-2fb913ca0041_ndvi_bw.tif (512, 512)\n",
      "Image download: ../Datav2/exports/tc/53a9be88-6d10-483e-8dc7-59cb84326ab8_tc.tif (512, 512)\n"
     ]
    },
    {
     "name": "stderr",
     "output_type": "stream",
     "text": [
      "\r",
      " 75%|█████████████████████████████████████████████████████████████████████████████                          | 1109/1482 [1:12:50<45:49,  7.37s/it]"
     ]
    },
    {
     "name": "stdout",
     "output_type": "stream",
     "text": [
      "Image download: ../Datav2/exports/ndvi/53a9be88-6d10-483e-8dc7-59cb84326ab8_ndvi_bw.tif (512, 512)\n",
      "Image download: ../Datav2/exports/tc/e3406861-3e7f-4a4b-b16d-6004f3edc5e6_tc.tif (512, 512)\n"
     ]
    },
    {
     "name": "stderr",
     "output_type": "stream",
     "text": [
      "\r",
      " 75%|█████████████████████████████████████████████████████████████████████████████▏                         | 1110/1482 [1:12:56<42:56,  6.93s/it]"
     ]
    },
    {
     "name": "stdout",
     "output_type": "stream",
     "text": [
      "Image download: ../Datav2/exports/ndvi/e3406861-3e7f-4a4b-b16d-6004f3edc5e6_ndvi_bw.tif (512, 512)\n",
      "Image download: ../Datav2/exports/tc/45845135-0abc-4964-9038-db1e26fa9b22_tc.tif (512, 512)\n"
     ]
    },
    {
     "name": "stderr",
     "output_type": "stream",
     "text": [
      "\r",
      " 75%|█████████████████████████████████████████████████████████████████████████████▏                         | 1111/1482 [1:13:00<38:21,  6.20s/it]"
     ]
    },
    {
     "name": "stdout",
     "output_type": "stream",
     "text": [
      "Image download: ../Datav2/exports/ndvi/45845135-0abc-4964-9038-db1e26fa9b22_ndvi_bw.tif (512, 512)\n",
      "Image download: ../Datav2/exports/tc/2410754e-b988-4f4f-b7ee-21f954c2bbf2_tc.tif (512, 512)\n"
     ]
    },
    {
     "name": "stderr",
     "output_type": "stream",
     "text": [
      "\r",
      " 75%|█████████████████████████████████████████████████████████████████████████████▎                         | 1112/1482 [1:13:06<36:52,  5.98s/it]"
     ]
    },
    {
     "name": "stdout",
     "output_type": "stream",
     "text": [
      "Image download: ../Datav2/exports/ndvi/2410754e-b988-4f4f-b7ee-21f954c2bbf2_ndvi_bw.tif (512, 512)\n",
      "Image download: ../Datav2/exports/tc/46f35b6b-9c64-41e3-a7e2-f76dc6719145_tc.tif (512, 512)\n"
     ]
    },
    {
     "name": "stderr",
     "output_type": "stream",
     "text": [
      "\r",
      " 75%|█████████████████████████████████████████████████████████████████████████████▎                         | 1113/1482 [1:13:12<36:47,  5.98s/it]"
     ]
    },
    {
     "name": "stdout",
     "output_type": "stream",
     "text": [
      "Image download: ../Datav2/exports/ndvi/46f35b6b-9c64-41e3-a7e2-f76dc6719145_ndvi_bw.tif (512, 512)\n",
      "Image download: ../Datav2/exports/tc/574b0b35-4c66-44ac-8797-3eadf09e495d_tc.tif (512, 512)\n"
     ]
    },
    {
     "name": "stderr",
     "output_type": "stream",
     "text": [
      "\r",
      " 75%|█████████████████████████████████████████████████████████████████████████████▍                         | 1114/1482 [1:13:16<33:12,  5.41s/it]"
     ]
    },
    {
     "name": "stdout",
     "output_type": "stream",
     "text": [
      "Image download: ../Datav2/exports/ndvi/574b0b35-4c66-44ac-8797-3eadf09e495d_ndvi_bw.tif (512, 512)\n",
      "Image download: ../Datav2/exports/tc/fa745e18-be7a-42e0-b3c7-30333ddcf3aa_tc.tif (512, 512)\n"
     ]
    },
    {
     "name": "stderr",
     "output_type": "stream",
     "text": [
      "\r",
      " 75%|█████████████████████████████████████████████████████████████████████████████▍                         | 1115/1482 [1:13:21<32:50,  5.37s/it]"
     ]
    },
    {
     "name": "stdout",
     "output_type": "stream",
     "text": [
      "Image download: ../Datav2/exports/ndvi/fa745e18-be7a-42e0-b3c7-30333ddcf3aa_ndvi_bw.tif (512, 512)\n",
      "Image download: ../Datav2/exports/tc/ea58640a-7837-4d93-a145-96e48b7df8ee_tc.tif (512, 512)\n"
     ]
    },
    {
     "name": "stderr",
     "output_type": "stream",
     "text": [
      "\r",
      " 75%|█████████████████████████████████████████████████████████████████████████████▌                         | 1116/1482 [1:13:28<35:22,  5.80s/it]"
     ]
    },
    {
     "name": "stdout",
     "output_type": "stream",
     "text": [
      "Image download: ../Datav2/exports/ndvi/ea58640a-7837-4d93-a145-96e48b7df8ee_ndvi_bw.tif (512, 512)\n",
      "Image download: ../Datav2/exports/tc/4f3f4f66-871c-4d50-bd3f-f641210552c9_tc.tif (512, 512)\n"
     ]
    },
    {
     "name": "stderr",
     "output_type": "stream",
     "text": [
      "\r",
      " 75%|█████████████████████████████████████████████████████████████████████████████▋                         | 1117/1482 [1:13:34<35:10,  5.78s/it]"
     ]
    },
    {
     "name": "stdout",
     "output_type": "stream",
     "text": [
      "Image download: ../Datav2/exports/ndvi/4f3f4f66-871c-4d50-bd3f-f641210552c9_ndvi_bw.tif (512, 512)\n",
      "Image download: ../Datav2/exports/tc/d8de1c4a-9b2c-46ad-aab4-3b2012571e4a_tc.tif (512, 512)\n"
     ]
    },
    {
     "name": "stderr",
     "output_type": "stream",
     "text": [
      "\r",
      " 75%|█████████████████████████████████████████████████████████████████████████████▋                         | 1118/1482 [1:13:42<38:57,  6.42s/it]"
     ]
    },
    {
     "name": "stdout",
     "output_type": "stream",
     "text": [
      "Image download: ../Datav2/exports/ndvi/d8de1c4a-9b2c-46ad-aab4-3b2012571e4a_ndvi_bw.tif (512, 512)\n",
      "Image download: ../Datav2/exports/tc/6e4ecf7a-2864-4fc6-85cb-9b2a0ac324df_tc.tif (512, 512)\n"
     ]
    },
    {
     "name": "stderr",
     "output_type": "stream",
     "text": [
      "\r",
      " 76%|█████████████████████████████████████████████████████████████████████████████▊                         | 1119/1482 [1:13:48<38:12,  6.32s/it]"
     ]
    },
    {
     "name": "stdout",
     "output_type": "stream",
     "text": [
      "Image download: ../Datav2/exports/ndvi/6e4ecf7a-2864-4fc6-85cb-9b2a0ac324df_ndvi_bw.tif (512, 512)\n",
      "Image download: ../Datav2/exports/tc/9d63cbd8-7dbf-4b2d-918d-036e3a282d2d_tc.tif (512, 512)\n"
     ]
    },
    {
     "name": "stderr",
     "output_type": "stream",
     "text": [
      "\r",
      " 76%|█████████████████████████████████████████████████████████████████████████████▊                         | 1120/1482 [1:13:53<36:10,  6.00s/it]"
     ]
    },
    {
     "name": "stdout",
     "output_type": "stream",
     "text": [
      "Image download: ../Datav2/exports/ndvi/9d63cbd8-7dbf-4b2d-918d-036e3a282d2d_ndvi_bw.tif (512, 512)\n",
      "Image download: ../Datav2/exports/tc/c62fc5e2-2340-49b7-b3d8-b883a266827f_tc.tif (512, 512)\n"
     ]
    },
    {
     "name": "stderr",
     "output_type": "stream",
     "text": [
      "\r",
      " 76%|█████████████████████████████████████████████████████████████████████████████▉                         | 1121/1482 [1:14:02<42:16,  7.03s/it]"
     ]
    },
    {
     "name": "stdout",
     "output_type": "stream",
     "text": [
      "Image download: ../Datav2/exports/ndvi/c62fc5e2-2340-49b7-b3d8-b883a266827f_ndvi_bw.tif (512, 512)\n",
      "Image download: ../Datav2/exports/tc/676aa48b-d962-4026-a354-db047f14233f_tc.tif (512, 512)\n"
     ]
    },
    {
     "name": "stderr",
     "output_type": "stream",
     "text": [
      "\r",
      " 76%|█████████████████████████████████████████████████████████████████████████████▉                         | 1122/1482 [1:14:08<38:54,  6.48s/it]"
     ]
    },
    {
     "name": "stdout",
     "output_type": "stream",
     "text": [
      "Image download: ../Datav2/exports/ndvi/676aa48b-d962-4026-a354-db047f14233f_ndvi_bw.tif (512, 512)\n",
      "Image download: ../Datav2/exports/tc/deb9364c-ab73-4661-b287-2ffc1797296e_tc.tif (512, 512)\n"
     ]
    },
    {
     "name": "stderr",
     "output_type": "stream",
     "text": [
      "\r",
      " 76%|██████████████████████████████████████████████████████████████████████████████                         | 1123/1482 [1:14:14<38:03,  6.36s/it]"
     ]
    },
    {
     "name": "stdout",
     "output_type": "stream",
     "text": [
      "Image download: ../Datav2/exports/ndvi/deb9364c-ab73-4661-b287-2ffc1797296e_ndvi_bw.tif (512, 512)\n",
      "Image download: ../Datav2/exports/tc/6bc7ef6f-2d81-4bdc-ab41-9db6af9d4abb_tc.tif (512, 512)\n"
     ]
    },
    {
     "name": "stderr",
     "output_type": "stream",
     "text": [
      "\r",
      " 76%|██████████████████████████████████████████████████████████████████████████████                         | 1124/1482 [1:14:19<35:19,  5.92s/it]"
     ]
    },
    {
     "name": "stdout",
     "output_type": "stream",
     "text": [
      "Image download: ../Datav2/exports/ndvi/6bc7ef6f-2d81-4bdc-ab41-9db6af9d4abb_ndvi_bw.tif (512, 512)\n",
      "Image download: ../Datav2/exports/tc/190306eb-357b-40d2-9871-92cdd8784332_tc.tif (512, 512)\n"
     ]
    },
    {
     "name": "stderr",
     "output_type": "stream",
     "text": [
      "\r",
      " 76%|██████████████████████████████████████████████████████████████████████████████▏                        | 1125/1482 [1:14:24<33:48,  5.68s/it]"
     ]
    },
    {
     "name": "stdout",
     "output_type": "stream",
     "text": [
      "Image download: ../Datav2/exports/ndvi/190306eb-357b-40d2-9871-92cdd8784332_ndvi_bw.tif (512, 512)\n",
      "Image download: ../Datav2/exports/tc/775494c3-ae61-40aa-82b0-667a3ddcbdcc_tc.tif (512, 512)\n"
     ]
    },
    {
     "name": "stderr",
     "output_type": "stream",
     "text": [
      "\r",
      " 76%|██████████████████████████████████████████████████████████████████████████████▎                        | 1126/1482 [1:14:29<33:33,  5.66s/it]"
     ]
    },
    {
     "name": "stdout",
     "output_type": "stream",
     "text": [
      "Image download: ../Datav2/exports/ndvi/775494c3-ae61-40aa-82b0-667a3ddcbdcc_ndvi_bw.tif (512, 512)\n",
      "Image download: ../Datav2/exports/tc/c7152819-8f07-489c-a219-b58bed82733e_tc.tif (512, 512)\n"
     ]
    },
    {
     "name": "stderr",
     "output_type": "stream",
     "text": [
      "\r",
      " 76%|██████████████████████████████████████████████████████████████████████████████▎                        | 1127/1482 [1:14:35<33:00,  5.58s/it]"
     ]
    },
    {
     "name": "stdout",
     "output_type": "stream",
     "text": [
      "Image download: ../Datav2/exports/ndvi/c7152819-8f07-489c-a219-b58bed82733e_ndvi_bw.tif (512, 512)\n",
      "Image download: ../Datav2/exports/tc/5b9e5ea7-1f63-46dd-aabd-8cf407c6f4ba_tc.tif (512, 512)\n"
     ]
    },
    {
     "name": "stderr",
     "output_type": "stream",
     "text": [
      "\r",
      " 76%|██████████████████████████████████████████████████████████████████████████████▍                        | 1128/1482 [1:14:39<31:30,  5.34s/it]"
     ]
    },
    {
     "name": "stdout",
     "output_type": "stream",
     "text": [
      "Image download: ../Datav2/exports/ndvi/5b9e5ea7-1f63-46dd-aabd-8cf407c6f4ba_ndvi_bw.tif (512, 512)\n",
      "Image download: ../Datav2/exports/tc/dd114f40-6fcb-487b-931e-7a9107371daa_tc.tif (512, 512)\n"
     ]
    },
    {
     "name": "stderr",
     "output_type": "stream",
     "text": [
      "\r",
      " 76%|██████████████████████████████████████████████████████████████████████████████▍                        | 1129/1482 [1:14:44<29:46,  5.06s/it]"
     ]
    },
    {
     "name": "stdout",
     "output_type": "stream",
     "text": [
      "Image download: ../Datav2/exports/ndvi/dd114f40-6fcb-487b-931e-7a9107371daa_ndvi_bw.tif (512, 512)\n",
      "Image download: ../Datav2/exports/tc/a1e73f5c-68e2-4109-b741-046eb7349265_tc.tif (512, 512)\n"
     ]
    },
    {
     "name": "stderr",
     "output_type": "stream",
     "text": [
      "\r",
      " 76%|██████████████████████████████████████████████████████████████████████████████▌                        | 1130/1482 [1:14:50<31:06,  5.30s/it]"
     ]
    },
    {
     "name": "stdout",
     "output_type": "stream",
     "text": [
      "Image download: ../Datav2/exports/ndvi/a1e73f5c-68e2-4109-b741-046eb7349265_ndvi_bw.tif (512, 512)\n",
      "Image download: ../Datav2/exports/tc/0ba9a90d-6615-4fa8-9a10-3efb660437ca_tc.tif (512, 512)\n"
     ]
    },
    {
     "name": "stderr",
     "output_type": "stream",
     "text": [
      "\r",
      " 76%|██████████████████████████████████████████████████████████████████████████████▌                        | 1131/1482 [1:14:56<32:23,  5.54s/it]"
     ]
    },
    {
     "name": "stdout",
     "output_type": "stream",
     "text": [
      "Image download: ../Datav2/exports/ndvi/0ba9a90d-6615-4fa8-9a10-3efb660437ca_ndvi_bw.tif (512, 512)\n",
      "Image download: ../Datav2/exports/tc/b9f703f7-18bb-4845-a480-ce7d63b5f57a_tc.tif (512, 512)\n"
     ]
    },
    {
     "name": "stderr",
     "output_type": "stream",
     "text": [
      "\r",
      " 76%|██████████████████████████████████████████████████████████████████████████████▋                        | 1132/1482 [1:15:01<32:12,  5.52s/it]"
     ]
    },
    {
     "name": "stdout",
     "output_type": "stream",
     "text": [
      "Image download: ../Datav2/exports/ndvi/b9f703f7-18bb-4845-a480-ce7d63b5f57a_ndvi_bw.tif (512, 512)\n",
      "Image download: ../Datav2/exports/tc/cb647b06-1772-4d65-8087-0b841fcfb502_tc.tif (512, 512)\n"
     ]
    },
    {
     "name": "stderr",
     "output_type": "stream",
     "text": [
      "\r",
      " 76%|██████████████████████████████████████████████████████████████████████████████▋                        | 1133/1482 [1:15:07<33:05,  5.69s/it]"
     ]
    },
    {
     "name": "stdout",
     "output_type": "stream",
     "text": [
      "Image download: ../Datav2/exports/ndvi/cb647b06-1772-4d65-8087-0b841fcfb502_ndvi_bw.tif (512, 512)\n",
      "Image download: ../Datav2/exports/tc/8dddf572-84de-4b20-b740-f5c7847cec3b_tc.tif (512, 512)\n"
     ]
    },
    {
     "name": "stderr",
     "output_type": "stream",
     "text": [
      "\r",
      " 77%|██████████████████████████████████████████████████████████████████████████████▊                        | 1134/1482 [1:15:13<33:10,  5.72s/it]"
     ]
    },
    {
     "name": "stdout",
     "output_type": "stream",
     "text": [
      "Image download: ../Datav2/exports/ndvi/8dddf572-84de-4b20-b740-f5c7847cec3b_ndvi_bw.tif (512, 512)\n",
      "Image download: ../Datav2/exports/tc/1bdf7030-adc6-442f-ab31-d182e53b4a73_tc.tif (512, 512)\n"
     ]
    },
    {
     "name": "stderr",
     "output_type": "stream",
     "text": [
      "\r",
      " 77%|██████████████████████████████████████████████████████████████████████████████▉                        | 1135/1482 [1:15:18<31:17,  5.41s/it]"
     ]
    },
    {
     "name": "stdout",
     "output_type": "stream",
     "text": [
      "Image download: ../Datav2/exports/ndvi/1bdf7030-adc6-442f-ab31-d182e53b4a73_ndvi_bw.tif (512, 512)\n",
      "Image download: ../Datav2/exports/tc/ce93c72c-eb9c-4176-a2b6-7750a4a6bb20_tc.tif (512, 512)\n"
     ]
    },
    {
     "name": "stderr",
     "output_type": "stream",
     "text": [
      "\r",
      " 77%|██████████████████████████████████████████████████████████████████████████████▉                        | 1136/1482 [1:15:26<35:05,  6.08s/it]"
     ]
    },
    {
     "name": "stdout",
     "output_type": "stream",
     "text": [
      "Image download: ../Datav2/exports/ndvi/ce93c72c-eb9c-4176-a2b6-7750a4a6bb20_ndvi_bw.tif (512, 512)\n",
      "Image download: ../Datav2/exports/tc/2ce8de99-7e66-4de8-9426-48a4fc8500ac_tc.tif (512, 512)\n"
     ]
    },
    {
     "name": "stderr",
     "output_type": "stream",
     "text": [
      "\r",
      " 77%|███████████████████████████████████████████████████████████████████████████████                        | 1137/1482 [1:15:31<34:38,  6.02s/it]"
     ]
    },
    {
     "name": "stdout",
     "output_type": "stream",
     "text": [
      "Image download: ../Datav2/exports/ndvi/2ce8de99-7e66-4de8-9426-48a4fc8500ac_ndvi_bw.tif (512, 512)\n",
      "Image download: ../Datav2/exports/tc/3bb731cc-eb21-421f-b5f5-4949346dc316_tc.tif (512, 512)\n"
     ]
    },
    {
     "name": "stderr",
     "output_type": "stream",
     "text": [
      "\r",
      " 77%|███████████████████████████████████████████████████████████████████████████████                        | 1138/1482 [1:15:36<32:51,  5.73s/it]"
     ]
    },
    {
     "name": "stdout",
     "output_type": "stream",
     "text": [
      "Image download: ../Datav2/exports/ndvi/3bb731cc-eb21-421f-b5f5-4949346dc316_ndvi_bw.tif (512, 512)\n",
      "Image download: ../Datav2/exports/tc/b2695350-87ea-49f4-a579-ce0c4cf7f926_tc.tif (512, 512)\n"
     ]
    },
    {
     "name": "stderr",
     "output_type": "stream",
     "text": [
      "\r",
      " 77%|███████████████████████████████████████████████████████████████████████████████▏                       | 1139/1482 [1:15:41<30:33,  5.35s/it]"
     ]
    },
    {
     "name": "stdout",
     "output_type": "stream",
     "text": [
      "Image download: ../Datav2/exports/ndvi/b2695350-87ea-49f4-a579-ce0c4cf7f926_ndvi_bw.tif (512, 512)\n",
      "Image download: ../Datav2/exports/tc/791a3a00-2c51-4679-b4b7-27cc77ec699d_tc.tif (512, 512)\n"
     ]
    },
    {
     "name": "stderr",
     "output_type": "stream",
     "text": [
      "\r",
      " 77%|███████████████████████████████████████████████████████████████████████████████▏                       | 1140/1482 [1:15:46<29:46,  5.22s/it]"
     ]
    },
    {
     "name": "stdout",
     "output_type": "stream",
     "text": [
      "Image download: ../Datav2/exports/ndvi/791a3a00-2c51-4679-b4b7-27cc77ec699d_ndvi_bw.tif (512, 512)\n",
      "Image download: ../Datav2/exports/tc/b83feee5-a799-4481-bd25-1d4cc3befd7d_tc.tif (512, 512)\n"
     ]
    },
    {
     "name": "stderr",
     "output_type": "stream",
     "text": [
      "\r",
      " 77%|███████████████████████████████████████████████████████████████████████████████▎                       | 1141/1482 [1:15:51<30:01,  5.28s/it]"
     ]
    },
    {
     "name": "stdout",
     "output_type": "stream",
     "text": [
      "Image download: ../Datav2/exports/ndvi/b83feee5-a799-4481-bd25-1d4cc3befd7d_ndvi_bw.tif (512, 512)\n",
      "Image download: ../Datav2/exports/tc/58e6dde2-eeae-4a9e-be1e-bfd654d4405b_tc.tif (512, 512)\n"
     ]
    },
    {
     "name": "stderr",
     "output_type": "stream",
     "text": [
      "\r",
      " 77%|███████████████████████████████████████████████████████████████████████████████▎                       | 1142/1482 [1:15:56<29:19,  5.17s/it]"
     ]
    },
    {
     "name": "stdout",
     "output_type": "stream",
     "text": [
      "Image download: ../Datav2/exports/ndvi/58e6dde2-eeae-4a9e-be1e-bfd654d4405b_ndvi_bw.tif (512, 512)\n",
      "Image download: ../Datav2/exports/tc/d3ead5e1-12bb-4d27-8c1d-c723c0747265_tc.tif (512, 512)\n"
     ]
    },
    {
     "name": "stderr",
     "output_type": "stream",
     "text": [
      "\r",
      " 77%|███████████████████████████████████████████████████████████████████████████████▍                       | 1143/1482 [1:16:01<28:47,  5.09s/it]"
     ]
    },
    {
     "name": "stdout",
     "output_type": "stream",
     "text": [
      "Image download: ../Datav2/exports/ndvi/d3ead5e1-12bb-4d27-8c1d-c723c0747265_ndvi_bw.tif (512, 512)\n",
      "Image download: ../Datav2/exports/tc/471980a3-9ffb-4b1f-8e51-eabb9736b51b_tc.tif (512, 512)\n"
     ]
    },
    {
     "name": "stderr",
     "output_type": "stream",
     "text": [
      "\r",
      " 77%|███████████████████████████████████████████████████████████████████████████████▌                       | 1144/1482 [1:16:06<27:49,  4.94s/it]"
     ]
    },
    {
     "name": "stdout",
     "output_type": "stream",
     "text": [
      "Image download: ../Datav2/exports/ndvi/471980a3-9ffb-4b1f-8e51-eabb9736b51b_ndvi_bw.tif (512, 512)\n",
      "Image download: ../Datav2/exports/tc/b03ec37e-8596-4e7e-8826-729957a794f8_tc.tif (512, 512)\n"
     ]
    },
    {
     "name": "stderr",
     "output_type": "stream",
     "text": [
      "\r",
      " 77%|███████████████████████████████████████████████████████████████████████████████▌                       | 1145/1482 [1:16:12<30:02,  5.35s/it]"
     ]
    },
    {
     "name": "stdout",
     "output_type": "stream",
     "text": [
      "Image download: ../Datav2/exports/ndvi/b03ec37e-8596-4e7e-8826-729957a794f8_ndvi_bw.tif (512, 512)\n",
      "Image download: ../Datav2/exports/tc/f012f0ea-4102-47dc-9c6d-609ebac85142_tc.tif (512, 512)\n"
     ]
    },
    {
     "name": "stderr",
     "output_type": "stream",
     "text": [
      "\r",
      " 77%|███████████████████████████████████████████████████████████████████████████████▋                       | 1146/1482 [1:16:17<29:04,  5.19s/it]"
     ]
    },
    {
     "name": "stdout",
     "output_type": "stream",
     "text": [
      "Image download: ../Datav2/exports/ndvi/f012f0ea-4102-47dc-9c6d-609ebac85142_ndvi_bw.tif (512, 512)\n",
      "Image download: ../Datav2/exports/tc/5eab06a3-5deb-4934-98a7-7c42eb86cbf9_tc.tif (512, 512)\n"
     ]
    },
    {
     "name": "stderr",
     "output_type": "stream",
     "text": [
      "\r",
      " 77%|███████████████████████████████████████████████████████████████████████████████▋                       | 1147/1482 [1:16:23<30:53,  5.53s/it]"
     ]
    },
    {
     "name": "stdout",
     "output_type": "stream",
     "text": [
      "Image download: ../Datav2/exports/ndvi/5eab06a3-5deb-4934-98a7-7c42eb86cbf9_ndvi_bw.tif (512, 512)\n",
      "Image download: ../Datav2/exports/tc/5dbbbc9f-deec-4c33-a172-19614492d860_tc.tif (512, 512)\n"
     ]
    },
    {
     "name": "stderr",
     "output_type": "stream",
     "text": [
      "\r",
      " 77%|███████████████████████████████████████████████████████████████████████████████▊                       | 1148/1482 [1:16:30<33:38,  6.04s/it]"
     ]
    },
    {
     "name": "stdout",
     "output_type": "stream",
     "text": [
      "Image download: ../Datav2/exports/ndvi/5dbbbc9f-deec-4c33-a172-19614492d860_ndvi_bw.tif (512, 512)\n",
      "Image download: ../Datav2/exports/tc/8dd81979-48ba-48db-bb24-e4f1bf85d262_tc.tif (512, 512)\n"
     ]
    },
    {
     "name": "stderr",
     "output_type": "stream",
     "text": [
      "\r",
      " 78%|███████████████████████████████████████████████████████████████████████████████▊                       | 1149/1482 [1:16:36<32:53,  5.93s/it]"
     ]
    },
    {
     "name": "stdout",
     "output_type": "stream",
     "text": [
      "Image download: ../Datav2/exports/ndvi/8dd81979-48ba-48db-bb24-e4f1bf85d262_ndvi_bw.tif (512, 512)\n",
      "Image download: ../Datav2/exports/tc/23f8d2d9-0e9e-4f07-b830-8c02cf74b5d0_tc.tif (512, 512)\n"
     ]
    },
    {
     "name": "stderr",
     "output_type": "stream",
     "text": [
      "\r",
      " 78%|███████████████████████████████████████████████████████████████████████████████▉                       | 1150/1482 [1:16:40<30:18,  5.48s/it]"
     ]
    },
    {
     "name": "stdout",
     "output_type": "stream",
     "text": [
      "Image download: ../Datav2/exports/ndvi/23f8d2d9-0e9e-4f07-b830-8c02cf74b5d0_ndvi_bw.tif (512, 512)\n",
      "Image download: ../Datav2/exports/tc/f81830b2-ece2-4f59-87c7-fd43193bd996_tc.tif (512, 512)\n"
     ]
    },
    {
     "name": "stderr",
     "output_type": "stream",
     "text": [
      "\r",
      " 78%|███████████████████████████████████████████████████████████████████████████████▉                       | 1151/1482 [1:16:45<28:46,  5.21s/it]"
     ]
    },
    {
     "name": "stdout",
     "output_type": "stream",
     "text": [
      "Image download: ../Datav2/exports/ndvi/f81830b2-ece2-4f59-87c7-fd43193bd996_ndvi_bw.tif (512, 512)\n",
      "Image download: ../Datav2/exports/tc/eeb859ef-dc44-48e2-a2d7-dce44bc47d01_tc.tif (512, 512)\n"
     ]
    },
    {
     "name": "stderr",
     "output_type": "stream",
     "text": [
      "\r",
      " 78%|████████████████████████████████████████████████████████████████████████████████                       | 1152/1482 [1:16:51<30:33,  5.56s/it]"
     ]
    },
    {
     "name": "stdout",
     "output_type": "stream",
     "text": [
      "Image download: ../Datav2/exports/ndvi/eeb859ef-dc44-48e2-a2d7-dce44bc47d01_ndvi_bw.tif (512, 512)\n",
      "Image download: ../Datav2/exports/tc/2bdeaf01-fe98-4f63-b2e8-4857815bc87c_tc.tif (512, 512)\n"
     ]
    },
    {
     "name": "stderr",
     "output_type": "stream",
     "text": [
      "\r",
      " 78%|████████████████████████████████████████████████████████████████████████████████▏                      | 1153/1482 [1:16:56<29:30,  5.38s/it]"
     ]
    },
    {
     "name": "stdout",
     "output_type": "stream",
     "text": [
      "Image download: ../Datav2/exports/ndvi/2bdeaf01-fe98-4f63-b2e8-4857815bc87c_ndvi_bw.tif (512, 512)\n",
      "Image download: ../Datav2/exports/tc/a2fbfcae-d658-41f4-88c6-98239d08ff29_tc.tif (512, 512)\n"
     ]
    },
    {
     "name": "stderr",
     "output_type": "stream",
     "text": [
      "\r",
      " 78%|████████████████████████████████████████████████████████████████████████████████▏                      | 1154/1482 [1:17:01<28:20,  5.18s/it]"
     ]
    },
    {
     "name": "stdout",
     "output_type": "stream",
     "text": [
      "Image download: ../Datav2/exports/ndvi/a2fbfcae-d658-41f4-88c6-98239d08ff29_ndvi_bw.tif (512, 512)\n",
      "Image download: ../Datav2/exports/tc/ef9c8f82-8607-4c53-9bdd-5196e6a1071c_tc.tif (512, 512)\n"
     ]
    },
    {
     "name": "stderr",
     "output_type": "stream",
     "text": [
      "\r",
      " 78%|████████████████████████████████████████████████████████████████████████████████▎                      | 1155/1482 [1:17:07<29:59,  5.50s/it]"
     ]
    },
    {
     "name": "stdout",
     "output_type": "stream",
     "text": [
      "Image download: ../Datav2/exports/ndvi/ef9c8f82-8607-4c53-9bdd-5196e6a1071c_ndvi_bw.tif (512, 512)\n",
      "Image download: ../Datav2/exports/tc/e69be637-e9e9-4964-96ed-4d6a1a1c159d_tc.tif (512, 512)\n"
     ]
    },
    {
     "name": "stderr",
     "output_type": "stream",
     "text": [
      "\r",
      " 78%|████████████████████████████████████████████████████████████████████████████████▎                      | 1156/1482 [1:17:12<28:54,  5.32s/it]"
     ]
    },
    {
     "name": "stdout",
     "output_type": "stream",
     "text": [
      "Image download: ../Datav2/exports/ndvi/e69be637-e9e9-4964-96ed-4d6a1a1c159d_ndvi_bw.tif (512, 512)\n",
      "Image download: ../Datav2/exports/tc/f6555118-f01e-4524-a14d-e01303a482db_tc.tif (512, 512)\n"
     ]
    },
    {
     "name": "stderr",
     "output_type": "stream",
     "text": [
      "\r",
      " 78%|████████████████████████████████████████████████████████████████████████████████▍                      | 1157/1482 [1:17:17<28:28,  5.26s/it]"
     ]
    },
    {
     "name": "stdout",
     "output_type": "stream",
     "text": [
      "Image download: ../Datav2/exports/ndvi/f6555118-f01e-4524-a14d-e01303a482db_ndvi_bw.tif (512, 512)\n",
      "Image download: ../Datav2/exports/tc/c203606a-d2eb-4ba2-97cc-2ee7403432b1_tc.tif (512, 512)\n"
     ]
    },
    {
     "name": "stderr",
     "output_type": "stream",
     "text": [
      "\r",
      " 78%|████████████████████████████████████████████████████████████████████████████████▍                      | 1158/1482 [1:17:26<33:32,  6.21s/it]"
     ]
    },
    {
     "name": "stdout",
     "output_type": "stream",
     "text": [
      "Image download: ../Datav2/exports/ndvi/c203606a-d2eb-4ba2-97cc-2ee7403432b1_ndvi_bw.tif (512, 512)\n",
      "Image download: ../Datav2/exports/tc/0683b4a7-6a8c-4339-abc1-dfbe64dcb5a1_tc.tif (512, 512)\n"
     ]
    },
    {
     "name": "stderr",
     "output_type": "stream",
     "text": [
      "\r",
      " 78%|████████████████████████████████████████████████████████████████████████████████▌                      | 1159/1482 [1:17:30<30:50,  5.73s/it]"
     ]
    },
    {
     "name": "stdout",
     "output_type": "stream",
     "text": [
      "Image download: ../Datav2/exports/ndvi/0683b4a7-6a8c-4339-abc1-dfbe64dcb5a1_ndvi_bw.tif (512, 512)\n",
      "Image download: ../Datav2/exports/tc/c9001401-a2b0-4cae-9e03-e60509342a53_tc.tif (512, 512)\n"
     ]
    },
    {
     "name": "stderr",
     "output_type": "stream",
     "text": [
      "\r",
      " 78%|████████████████████████████████████████████████████████████████████████████████▌                      | 1160/1482 [1:17:35<29:05,  5.42s/it]"
     ]
    },
    {
     "name": "stdout",
     "output_type": "stream",
     "text": [
      "Image download: ../Datav2/exports/ndvi/c9001401-a2b0-4cae-9e03-e60509342a53_ndvi_bw.tif (512, 512)\n",
      "Image download: ../Datav2/exports/tc/9b9b6d81-9590-48a0-a750-fc7da05bfecc_tc.tif (512, 512)\n"
     ]
    },
    {
     "name": "stderr",
     "output_type": "stream",
     "text": [
      "\r",
      " 78%|████████████████████████████████████████████████████████████████████████████████▋                      | 1161/1482 [1:17:42<30:43,  5.74s/it]"
     ]
    },
    {
     "name": "stdout",
     "output_type": "stream",
     "text": [
      "Image download: ../Datav2/exports/ndvi/9b9b6d81-9590-48a0-a750-fc7da05bfecc_ndvi_bw.tif (512, 512)\n",
      "Image download: ../Datav2/exports/tc/e9d48e43-940e-4151-9ffb-20881d03c151_tc.tif (512, 512)\n"
     ]
    },
    {
     "name": "stderr",
     "output_type": "stream",
     "text": [
      "\r",
      " 78%|████████████████████████████████████████████████████████████████████████████████▊                      | 1162/1482 [1:17:51<36:42,  6.88s/it]"
     ]
    },
    {
     "name": "stdout",
     "output_type": "stream",
     "text": [
      "Image download: ../Datav2/exports/ndvi/e9d48e43-940e-4151-9ffb-20881d03c151_ndvi_bw.tif (512, 512)\n",
      "Image download: ../Datav2/exports/tc/1a3ccacd-e743-4a0b-97ab-4d99a133654e_tc.tif (512, 512)\n"
     ]
    },
    {
     "name": "stderr",
     "output_type": "stream",
     "text": [
      "\r",
      " 78%|████████████████████████████████████████████████████████████████████████████████▊                      | 1163/1482 [1:17:59<37:42,  7.09s/it]"
     ]
    },
    {
     "name": "stdout",
     "output_type": "stream",
     "text": [
      "Image download: ../Datav2/exports/ndvi/1a3ccacd-e743-4a0b-97ab-4d99a133654e_ndvi_bw.tif (512, 512)\n",
      "Image download: ../Datav2/exports/tc/d8235a76-7b43-4e23-8f60-dc308c250fab_tc.tif (512, 512)\n"
     ]
    },
    {
     "name": "stderr",
     "output_type": "stream",
     "text": [
      "\r",
      " 79%|████████████████████████████████████████████████████████████████████████████████▉                      | 1164/1482 [1:18:05<35:55,  6.78s/it]"
     ]
    },
    {
     "name": "stdout",
     "output_type": "stream",
     "text": [
      "Image download: ../Datav2/exports/ndvi/d8235a76-7b43-4e23-8f60-dc308c250fab_ndvi_bw.tif (512, 512)\n",
      "Image download: ../Datav2/exports/tc/a81f5149-5ac2-48de-a189-609e46f5fad8_tc.tif (512, 512)\n"
     ]
    },
    {
     "name": "stderr",
     "output_type": "stream",
     "text": [
      "\r",
      " 79%|████████████████████████████████████████████████████████████████████████████████▉                      | 1165/1482 [1:18:10<32:37,  6.18s/it]"
     ]
    },
    {
     "name": "stdout",
     "output_type": "stream",
     "text": [
      "Image download: ../Datav2/exports/ndvi/a81f5149-5ac2-48de-a189-609e46f5fad8_ndvi_bw.tif (512, 512)\n",
      "Image download: ../Datav2/exports/tc/20b57ee7-b0b7-47db-8a12-e5fcdb114459_tc.tif (512, 512)\n"
     ]
    },
    {
     "name": "stderr",
     "output_type": "stream",
     "text": [
      "\r",
      " 79%|█████████████████████████████████████████████████████████████████████████████████                      | 1166/1482 [1:18:15<32:11,  6.11s/it]"
     ]
    },
    {
     "name": "stdout",
     "output_type": "stream",
     "text": [
      "Image download: ../Datav2/exports/ndvi/20b57ee7-b0b7-47db-8a12-e5fcdb114459_ndvi_bw.tif (512, 512)\n",
      "Image download: ../Datav2/exports/tc/94e0a869-04f6-4265-9c1f-c53fbdde98ad_tc.tif (512, 512)\n"
     ]
    },
    {
     "name": "stderr",
     "output_type": "stream",
     "text": [
      "\r",
      " 79%|█████████████████████████████████████████████████████████████████████████████████                      | 1167/1482 [1:18:20<29:50,  5.68s/it]"
     ]
    },
    {
     "name": "stdout",
     "output_type": "stream",
     "text": [
      "Image download: ../Datav2/exports/ndvi/94e0a869-04f6-4265-9c1f-c53fbdde98ad_ndvi_bw.tif (512, 512)\n",
      "Image download: ../Datav2/exports/tc/3506eaf5-e815-4a7f-9c52-816fe5eee7d5_tc.tif (512, 512)\n"
     ]
    },
    {
     "name": "stderr",
     "output_type": "stream",
     "text": [
      "\r",
      " 79%|█████████████████████████████████████████████████████████████████████████████████▏                     | 1168/1482 [1:18:26<30:25,  5.81s/it]"
     ]
    },
    {
     "name": "stdout",
     "output_type": "stream",
     "text": [
      "Image download: ../Datav2/exports/ndvi/3506eaf5-e815-4a7f-9c52-816fe5eee7d5_ndvi_bw.tif (512, 512)\n",
      "Image download: ../Datav2/exports/tc/ba818380-4001-46a2-ac04-d5f322cdf3b9_tc.tif (512, 512)\n"
     ]
    },
    {
     "name": "stderr",
     "output_type": "stream",
     "text": [
      "\r",
      " 79%|█████████████████████████████████████████████████████████████████████████████████▏                     | 1169/1482 [1:18:32<30:53,  5.92s/it]"
     ]
    },
    {
     "name": "stdout",
     "output_type": "stream",
     "text": [
      "Image download: ../Datav2/exports/ndvi/ba818380-4001-46a2-ac04-d5f322cdf3b9_ndvi_bw.tif (512, 512)\n",
      "Image download: ../Datav2/exports/tc/ba818380-4001-46a2-ac04-d5f322cdf3b9_tc.tif (512, 512)\n"
     ]
    },
    {
     "name": "stderr",
     "output_type": "stream",
     "text": [
      "\r",
      " 79%|█████████████████████████████████████████████████████████████████████████████████▎                     | 1170/1482 [1:18:36<27:02,  5.20s/it]"
     ]
    },
    {
     "name": "stdout",
     "output_type": "stream",
     "text": [
      "Image download: ../Datav2/exports/ndvi/ba818380-4001-46a2-ac04-d5f322cdf3b9_ndvi_bw.tif (512, 512)\n",
      "Image download: ../Datav2/exports/tc/849ad1a0-472b-4cc6-a513-030491fa1ffb_tc.tif (512, 512)\n"
     ]
    },
    {
     "name": "stderr",
     "output_type": "stream",
     "text": [
      "\r",
      " 79%|█████████████████████████████████████████████████████████████████████████████████▍                     | 1171/1482 [1:18:44<30:35,  5.90s/it]"
     ]
    },
    {
     "name": "stdout",
     "output_type": "stream",
     "text": [
      "Image download: ../Datav2/exports/ndvi/849ad1a0-472b-4cc6-a513-030491fa1ffb_ndvi_bw.tif (512, 512)\n",
      "Image download: ../Datav2/exports/tc/db2344ac-f195-4f94-8999-e8c8ebb4a7a2_tc.tif (512, 512)\n"
     ]
    },
    {
     "name": "stderr",
     "output_type": "stream",
     "text": [
      "\r",
      " 79%|█████████████████████████████████████████████████████████████████████████████████▍                     | 1172/1482 [1:18:48<28:52,  5.59s/it]"
     ]
    },
    {
     "name": "stdout",
     "output_type": "stream",
     "text": [
      "Image download: ../Datav2/exports/ndvi/db2344ac-f195-4f94-8999-e8c8ebb4a7a2_ndvi_bw.tif (512, 512)\n",
      "Image download: ../Datav2/exports/tc/9bffc947-2f15-4486-98df-9a632b2038a7_tc.tif (512, 512)\n"
     ]
    },
    {
     "name": "stderr",
     "output_type": "stream",
     "text": [
      "\r",
      " 79%|█████████████████████████████████████████████████████████████████████████████████▌                     | 1173/1482 [1:18:53<27:50,  5.41s/it]"
     ]
    },
    {
     "name": "stdout",
     "output_type": "stream",
     "text": [
      "Image download: ../Datav2/exports/ndvi/9bffc947-2f15-4486-98df-9a632b2038a7_ndvi_bw.tif (512, 512)\n",
      "Image download: ../Datav2/exports/tc/65689d5f-910c-4e00-9bf3-e5626cd1361c_tc.tif (512, 512)\n"
     ]
    },
    {
     "name": "stderr",
     "output_type": "stream",
     "text": [
      "\r",
      " 79%|█████████████████████████████████████████████████████████████████████████████████▌                     | 1174/1482 [1:18:58<27:05,  5.28s/it]"
     ]
    },
    {
     "name": "stdout",
     "output_type": "stream",
     "text": [
      "Image download: ../Datav2/exports/ndvi/65689d5f-910c-4e00-9bf3-e5626cd1361c_ndvi_bw.tif (512, 512)\n",
      "Image download: ../Datav2/exports/tc/f694c74c-adad-459c-b357-4cd2f10f16df_tc.tif (512, 512)\n"
     ]
    },
    {
     "name": "stderr",
     "output_type": "stream",
     "text": [
      "\r",
      " 79%|█████████████████████████████████████████████████████████████████████████████████▋                     | 1175/1482 [1:19:04<27:42,  5.41s/it]"
     ]
    },
    {
     "name": "stdout",
     "output_type": "stream",
     "text": [
      "Image download: ../Datav2/exports/ndvi/f694c74c-adad-459c-b357-4cd2f10f16df_ndvi_bw.tif (512, 512)\n",
      "Image download: ../Datav2/exports/tc/7fc0b9c8-dec7-430d-9790-1bbebae404eb_tc.tif (512, 512)\n"
     ]
    },
    {
     "name": "stderr",
     "output_type": "stream",
     "text": [
      "\r",
      " 79%|█████████████████████████████████████████████████████████████████████████████████▋                     | 1176/1482 [1:19:10<28:23,  5.57s/it]"
     ]
    },
    {
     "name": "stdout",
     "output_type": "stream",
     "text": [
      "Image download: ../Datav2/exports/ndvi/7fc0b9c8-dec7-430d-9790-1bbebae404eb_ndvi_bw.tif (512, 512)\n",
      "Image download: ../Datav2/exports/tc/d5885e9d-1310-4f84-a658-d972d17ecad9_tc.tif (512, 512)\n"
     ]
    },
    {
     "name": "stderr",
     "output_type": "stream",
     "text": [
      "\r",
      " 79%|█████████████████████████████████████████████████████████████████████████████████▊                     | 1177/1482 [1:19:17<29:57,  5.89s/it]"
     ]
    },
    {
     "name": "stdout",
     "output_type": "stream",
     "text": [
      "Image download: ../Datav2/exports/ndvi/d5885e9d-1310-4f84-a658-d972d17ecad9_ndvi_bw.tif (512, 512)\n",
      "Image download: ../Datav2/exports/tc/6832f18a-6515-4436-bf3b-553bf6302de4_tc.tif (512, 512)\n"
     ]
    },
    {
     "name": "stderr",
     "output_type": "stream",
     "text": [
      "\r",
      " 79%|█████████████████████████████████████████████████████████████████████████████████▊                     | 1178/1482 [1:19:21<28:13,  5.57s/it]"
     ]
    },
    {
     "name": "stdout",
     "output_type": "stream",
     "text": [
      "Image download: ../Datav2/exports/ndvi/6832f18a-6515-4436-bf3b-553bf6302de4_ndvi_bw.tif (512, 512)\n",
      "Image download: ../Datav2/exports/tc/9ea41d38-ee7c-4394-9ea8-cbf33e788f13_tc.tif (512, 512)\n"
     ]
    },
    {
     "name": "stderr",
     "output_type": "stream",
     "text": [
      "\r",
      " 80%|█████████████████████████████████████████████████████████████████████████████████▉                     | 1179/1482 [1:19:32<35:36,  7.05s/it]"
     ]
    },
    {
     "name": "stdout",
     "output_type": "stream",
     "text": [
      "Image download: ../Datav2/exports/ndvi/9ea41d38-ee7c-4394-9ea8-cbf33e788f13_ndvi_bw.tif (512, 512)\n",
      "Image download: ../Datav2/exports/tc/4fa2e1e0-a920-4991-beb6-3c080b6c1500_tc.tif (512, 512)\n"
     ]
    },
    {
     "name": "stderr",
     "output_type": "stream",
     "text": [
      "\r",
      " 80%|██████████████████████████████████████████████████████████████████████████████████                     | 1180/1482 [1:19:37<31:45,  6.31s/it]"
     ]
    },
    {
     "name": "stdout",
     "output_type": "stream",
     "text": [
      "Image download: ../Datav2/exports/ndvi/4fa2e1e0-a920-4991-beb6-3c080b6c1500_ndvi_bw.tif (512, 512)\n",
      "Image download: ../Datav2/exports/tc/b9d64431-d96d-413f-84df-ef3b381d3002_tc.tif (512, 512)\n"
     ]
    },
    {
     "name": "stderr",
     "output_type": "stream",
     "text": [
      "\r",
      " 80%|██████████████████████████████████████████████████████████████████████████████████                     | 1181/1482 [1:19:41<28:32,  5.69s/it]"
     ]
    },
    {
     "name": "stdout",
     "output_type": "stream",
     "text": [
      "Image download: ../Datav2/exports/ndvi/b9d64431-d96d-413f-84df-ef3b381d3002_ndvi_bw.tif (512, 512)\n",
      "Image download: ../Datav2/exports/tc/6b6dff76-8fab-4852-a71c-e735f87bd6fa_tc.tif (512, 512)\n"
     ]
    },
    {
     "name": "stderr",
     "output_type": "stream",
     "text": [
      "\r",
      " 80%|██████████████████████████████████████████████████████████████████████████████████▏                    | 1182/1482 [1:19:46<28:21,  5.67s/it]"
     ]
    },
    {
     "name": "stdout",
     "output_type": "stream",
     "text": [
      "Image download: ../Datav2/exports/ndvi/6b6dff76-8fab-4852-a71c-e735f87bd6fa_ndvi_bw.tif (512, 512)\n",
      "Image download: ../Datav2/exports/tc/04100255-b014-4a69-92c2-5388c7f9b9d6_tc.tif (512, 512)\n"
     ]
    },
    {
     "name": "stderr",
     "output_type": "stream",
     "text": [
      "\r",
      " 80%|██████████████████████████████████████████████████████████████████████████████████▏                    | 1183/1482 [1:19:52<27:45,  5.57s/it]"
     ]
    },
    {
     "name": "stdout",
     "output_type": "stream",
     "text": [
      "Image download: ../Datav2/exports/ndvi/04100255-b014-4a69-92c2-5388c7f9b9d6_ndvi_bw.tif (512, 512)\n",
      "Image download: ../Datav2/exports/tc/9856efb8-4d41-4276-9d4e-a5b29d912996_tc.tif (512, 512)\n"
     ]
    },
    {
     "name": "stderr",
     "output_type": "stream",
     "text": [
      "\r",
      " 80%|██████████████████████████████████████████████████████████████████████████████████▎                    | 1184/1482 [1:19:56<25:42,  5.17s/it]"
     ]
    },
    {
     "name": "stdout",
     "output_type": "stream",
     "text": [
      "Image download: ../Datav2/exports/ndvi/9856efb8-4d41-4276-9d4e-a5b29d912996_ndvi_bw.tif (512, 512)\n",
      "Image download: ../Datav2/exports/tc/2c41731e-1e13-494c-b7f7-928b89bb7d32_tc.tif (512, 512)\n"
     ]
    },
    {
     "name": "stderr",
     "output_type": "stream",
     "text": [
      "\r",
      " 80%|██████████████████████████████████████████████████████████████████████████████████▎                    | 1185/1482 [1:20:02<26:51,  5.43s/it]"
     ]
    },
    {
     "name": "stdout",
     "output_type": "stream",
     "text": [
      "Image download: ../Datav2/exports/ndvi/2c41731e-1e13-494c-b7f7-928b89bb7d32_ndvi_bw.tif (512, 512)\n",
      "Image download: ../Datav2/exports/tc/d0ae0a7f-dd7b-4cb1-8f4a-2a784a17d6d4_tc.tif (512, 512)\n"
     ]
    },
    {
     "name": "stderr",
     "output_type": "stream",
     "text": [
      "\r",
      " 80%|██████████████████████████████████████████████████████████████████████████████████▍                    | 1186/1482 [1:20:07<25:22,  5.14s/it]"
     ]
    },
    {
     "name": "stdout",
     "output_type": "stream",
     "text": [
      "Image download: ../Datav2/exports/ndvi/d0ae0a7f-dd7b-4cb1-8f4a-2a784a17d6d4_ndvi_bw.tif (512, 512)\n",
      "Image download: ../Datav2/exports/tc/b181e69a-5864-44c1-b5b4-f4c5832a4539_tc.tif (512, 512)\n"
     ]
    },
    {
     "name": "stderr",
     "output_type": "stream",
     "text": [
      "\r",
      " 80%|██████████████████████████████████████████████████████████████████████████████████▍                    | 1187/1482 [1:20:13<27:01,  5.50s/it]"
     ]
    },
    {
     "name": "stdout",
     "output_type": "stream",
     "text": [
      "Image download: ../Datav2/exports/ndvi/b181e69a-5864-44c1-b5b4-f4c5832a4539_ndvi_bw.tif (512, 512)\n"
     ]
    },
    {
     "name": "stderr",
     "output_type": "stream",
     "text": [
      "\r",
      " 80%|██████████████████████████████████████████████████████████████████████████████████▌                    | 1188/1482 [1:20:14<20:01,  4.09s/it]"
     ]
    },
    {
     "name": "stdout",
     "output_type": "stream",
     "text": [
      "EXCEPTION - Row 1212 @ (-120.258, -120.258)\n",
      "Image.select: Band pattern 'B4' was applied to an Image with no bands. See https://developers.google.com/earth-engine/guides/debugging#no-bands\n",
      "Image download: ../Datav2/exports/tc/9d69b6cb-1dee-43df-83ca-b2b5485006d7_tc.tif (512, 512)\n"
     ]
    },
    {
     "name": "stderr",
     "output_type": "stream",
     "text": [
      "\r",
      " 80%|██████████████████████████████████████████████████████████████████████████████████▋                    | 1189/1482 [1:20:19<21:40,  4.44s/it]"
     ]
    },
    {
     "name": "stdout",
     "output_type": "stream",
     "text": [
      "Image download: ../Datav2/exports/ndvi/9d69b6cb-1dee-43df-83ca-b2b5485006d7_ndvi_bw.tif (512, 512)\n",
      "Image download: ../Datav2/exports/tc/8c4b830f-be4f-4469-9448-f0e98ea1d189_tc.tif (512, 512)\n"
     ]
    },
    {
     "name": "stderr",
     "output_type": "stream",
     "text": [
      "\r",
      " 80%|██████████████████████████████████████████████████████████████████████████████████▋                    | 1190/1482 [1:20:24<22:25,  4.61s/it]"
     ]
    },
    {
     "name": "stdout",
     "output_type": "stream",
     "text": [
      "Image download: ../Datav2/exports/ndvi/8c4b830f-be4f-4469-9448-f0e98ea1d189_ndvi_bw.tif (512, 512)\n",
      "Image download: ../Datav2/exports/tc/8f633ae7-b5f0-455f-a60e-13d9566e5844_tc.tif (512, 512)\n"
     ]
    },
    {
     "name": "stderr",
     "output_type": "stream",
     "text": [
      "\r",
      " 80%|██████████████████████████████████████████████████████████████████████████████████▊                    | 1191/1482 [1:20:29<23:39,  4.88s/it]"
     ]
    },
    {
     "name": "stdout",
     "output_type": "stream",
     "text": [
      "Image download: ../Datav2/exports/ndvi/8f633ae7-b5f0-455f-a60e-13d9566e5844_ndvi_bw.tif (512, 512)\n",
      "Image download: ../Datav2/exports/tc/f19a49b4-9d0f-4c61-83ea-9b4a741b0bef_tc.tif (512, 512)\n"
     ]
    },
    {
     "name": "stderr",
     "output_type": "stream",
     "text": [
      "\r",
      " 80%|██████████████████████████████████████████████████████████████████████████████████▊                    | 1192/1482 [1:20:35<24:23,  5.05s/it]"
     ]
    },
    {
     "name": "stdout",
     "output_type": "stream",
     "text": [
      "Image download: ../Datav2/exports/ndvi/f19a49b4-9d0f-4c61-83ea-9b4a741b0bef_ndvi_bw.tif (512, 512)\n",
      "Image download: ../Datav2/exports/tc/28725d54-51bc-41f9-99ed-aca0396be12a_tc.tif (512, 512)\n"
     ]
    },
    {
     "name": "stderr",
     "output_type": "stream",
     "text": [
      "\r",
      " 80%|██████████████████████████████████████████████████████████████████████████████████▉                    | 1193/1482 [1:20:40<23:47,  4.94s/it]"
     ]
    },
    {
     "name": "stdout",
     "output_type": "stream",
     "text": [
      "Image download: ../Datav2/exports/ndvi/28725d54-51bc-41f9-99ed-aca0396be12a_ndvi_bw.tif (512, 512)\n",
      "Image download: ../Datav2/exports/tc/e9c8c0aa-4d21-4f09-9858-890ea163d580_tc.tif (512, 512)\n"
     ]
    },
    {
     "name": "stderr",
     "output_type": "stream",
     "text": [
      "\r",
      " 81%|██████████████████████████████████████████████████████████████████████████████████▉                    | 1194/1482 [1:20:44<23:35,  4.92s/it]"
     ]
    },
    {
     "name": "stdout",
     "output_type": "stream",
     "text": [
      "Image download: ../Datav2/exports/ndvi/e9c8c0aa-4d21-4f09-9858-890ea163d580_ndvi_bw.tif (512, 512)\n",
      "Image download: ../Datav2/exports/tc/8a79c31d-0df0-4448-a855-b04cfc384825_tc.tif (512, 512)\n"
     ]
    },
    {
     "name": "stderr",
     "output_type": "stream",
     "text": [
      "\r",
      " 81%|███████████████████████████████████████████████████████████████████████████████████                    | 1195/1482 [1:20:52<26:57,  5.64s/it]"
     ]
    },
    {
     "name": "stdout",
     "output_type": "stream",
     "text": [
      "Image download: ../Datav2/exports/ndvi/8a79c31d-0df0-4448-a855-b04cfc384825_ndvi_bw.tif (512, 512)\n",
      "Image download: ../Datav2/exports/tc/a8f54d41-fc8c-476c-9122-f1357aa166a0_tc.tif (512, 512)\n"
     ]
    },
    {
     "name": "stderr",
     "output_type": "stream",
     "text": [
      "\r",
      " 81%|███████████████████████████████████████████████████████████████████████████████████                    | 1196/1482 [1:20:59<29:03,  6.10s/it]"
     ]
    },
    {
     "name": "stdout",
     "output_type": "stream",
     "text": [
      "Image download: ../Datav2/exports/ndvi/a8f54d41-fc8c-476c-9122-f1357aa166a0_ndvi_bw.tif (512, 512)\n",
      "Image download: ../Datav2/exports/tc/83c539f5-64c1-4156-86e5-ac6cf4c947d5_tc.tif (512, 512)\n"
     ]
    },
    {
     "name": "stderr",
     "output_type": "stream",
     "text": [
      "\r",
      " 81%|███████████████████████████████████████████████████████████████████████████████████▏                   | 1197/1482 [1:21:05<28:47,  6.06s/it]"
     ]
    },
    {
     "name": "stdout",
     "output_type": "stream",
     "text": [
      "Image download: ../Datav2/exports/ndvi/83c539f5-64c1-4156-86e5-ac6cf4c947d5_ndvi_bw.tif (512, 512)\n",
      "Image download: ../Datav2/exports/tc/b8dc21be-0807-4434-9536-45a4a660ed83_tc.tif (512, 512)\n"
     ]
    },
    {
     "name": "stderr",
     "output_type": "stream",
     "text": [
      "\r",
      " 81%|███████████████████████████████████████████████████████████████████████████████████▎                   | 1198/1482 [1:21:09<26:31,  5.60s/it]"
     ]
    },
    {
     "name": "stdout",
     "output_type": "stream",
     "text": [
      "Image download: ../Datav2/exports/ndvi/b8dc21be-0807-4434-9536-45a4a660ed83_ndvi_bw.tif (512, 512)\n",
      "Image download: ../Datav2/exports/tc/a728d915-1c00-43b6-bd5b-228be34a38fe_tc.tif (512, 512)\n"
     ]
    },
    {
     "name": "stderr",
     "output_type": "stream",
     "text": [
      "\r",
      " 81%|███████████████████████████████████████████████████████████████████████████████████▎                   | 1199/1482 [1:21:15<26:15,  5.57s/it]"
     ]
    },
    {
     "name": "stdout",
     "output_type": "stream",
     "text": [
      "Image download: ../Datav2/exports/ndvi/a728d915-1c00-43b6-bd5b-228be34a38fe_ndvi_bw.tif (512, 512)\n",
      "Image download: ../Datav2/exports/tc/87760805-5b1a-486e-91c4-590557929182_tc.tif (512, 512)\n"
     ]
    },
    {
     "name": "stderr",
     "output_type": "stream",
     "text": [
      "\r",
      " 81%|███████████████████████████████████████████████████████████████████████████████████▍                   | 1200/1482 [1:21:20<24:58,  5.32s/it]"
     ]
    },
    {
     "name": "stdout",
     "output_type": "stream",
     "text": [
      "Image download: ../Datav2/exports/ndvi/87760805-5b1a-486e-91c4-590557929182_ndvi_bw.tif (512, 512)\n",
      "Image download: ../Datav2/exports/tc/7ee82e4f-f5e8-4278-b4e7-e82c390b395e_tc.tif (512, 512)\n"
     ]
    },
    {
     "name": "stderr",
     "output_type": "stream",
     "text": [
      "\r",
      " 81%|███████████████████████████████████████████████████████████████████████████████████▍                   | 1201/1482 [1:21:25<24:22,  5.20s/it]"
     ]
    },
    {
     "name": "stdout",
     "output_type": "stream",
     "text": [
      "Image download: ../Datav2/exports/ndvi/7ee82e4f-f5e8-4278-b4e7-e82c390b395e_ndvi_bw.tif (512, 512)\n",
      "Image download: ../Datav2/exports/tc/7d1f523d-6940-4b64-bc5a-7ecb5a63538a_tc.tif (512, 512)\n"
     ]
    },
    {
     "name": "stderr",
     "output_type": "stream",
     "text": [
      "\r",
      " 81%|███████████████████████████████████████████████████████████████████████████████████▌                   | 1202/1482 [1:21:29<22:46,  4.88s/it]"
     ]
    },
    {
     "name": "stdout",
     "output_type": "stream",
     "text": [
      "Image download: ../Datav2/exports/ndvi/7d1f523d-6940-4b64-bc5a-7ecb5a63538a_ndvi_bw.tif (512, 512)\n",
      "Image download: ../Datav2/exports/tc/8030a870-0453-48e0-b243-86dbae075434_tc.tif (512, 512)\n"
     ]
    },
    {
     "name": "stderr",
     "output_type": "stream",
     "text": [
      "\r",
      " 81%|███████████████████████████████████████████████████████████████████████████████████▌                   | 1203/1482 [1:21:34<24:00,  5.16s/it]"
     ]
    },
    {
     "name": "stdout",
     "output_type": "stream",
     "text": [
      "Image download: ../Datav2/exports/ndvi/8030a870-0453-48e0-b243-86dbae075434_ndvi_bw.tif (512, 512)\n",
      "Image download: ../Datav2/exports/tc/75dafe80-f18a-4a4a-9a37-4b564c5f6014_tc.tif (512, 512)\n"
     ]
    },
    {
     "name": "stderr",
     "output_type": "stream",
     "text": [
      "\r",
      " 81%|███████████████████████████████████████████████████████████████████████████████████▋                   | 1204/1482 [1:21:40<24:07,  5.21s/it]"
     ]
    },
    {
     "name": "stdout",
     "output_type": "stream",
     "text": [
      "Image download: ../Datav2/exports/ndvi/75dafe80-f18a-4a4a-9a37-4b564c5f6014_ndvi_bw.tif (512, 512)\n",
      "Image download: ../Datav2/exports/tc/79968306-21a9-465e-acbe-4ea715c70ab5_tc.tif (512, 512)\n"
     ]
    },
    {
     "name": "stderr",
     "output_type": "stream",
     "text": [
      "\r",
      " 81%|███████████████████████████████████████████████████████████████████████████████████▋                   | 1205/1482 [1:21:46<25:44,  5.58s/it]"
     ]
    },
    {
     "name": "stdout",
     "output_type": "stream",
     "text": [
      "Image download: ../Datav2/exports/ndvi/79968306-21a9-465e-acbe-4ea715c70ab5_ndvi_bw.tif (512, 512)\n",
      "Image download: ../Datav2/exports/tc/10d67079-faa9-4034-a4d7-8346b450e7de_tc.tif (512, 512)\n"
     ]
    },
    {
     "name": "stderr",
     "output_type": "stream",
     "text": [
      "\r",
      " 81%|███████████████████████████████████████████████████████████████████████████████████▊                   | 1206/1482 [1:21:52<25:32,  5.55s/it]"
     ]
    },
    {
     "name": "stdout",
     "output_type": "stream",
     "text": [
      "Image download: ../Datav2/exports/ndvi/10d67079-faa9-4034-a4d7-8346b450e7de_ndvi_bw.tif (512, 512)\n",
      "Image download: ../Datav2/exports/tc/b8fe54be-15a8-4088-b0bb-16992df93a7e_tc.tif (512, 512)\n"
     ]
    },
    {
     "name": "stderr",
     "output_type": "stream",
     "text": [
      "\r",
      " 81%|███████████████████████████████████████████████████████████████████████████████████▉                   | 1207/1482 [1:21:57<25:22,  5.54s/it]"
     ]
    },
    {
     "name": "stdout",
     "output_type": "stream",
     "text": [
      "Image download: ../Datav2/exports/ndvi/b8fe54be-15a8-4088-b0bb-16992df93a7e_ndvi_bw.tif (512, 512)\n",
      "Image download: ../Datav2/exports/tc/bc95da49-28a0-4e56-88d9-72e7455063c0_tc.tif (512, 512)\n"
     ]
    },
    {
     "name": "stderr",
     "output_type": "stream",
     "text": [
      "\r",
      " 82%|███████████████████████████████████████████████████████████████████████████████████▉                   | 1208/1482 [1:22:05<28:11,  6.17s/it]"
     ]
    },
    {
     "name": "stdout",
     "output_type": "stream",
     "text": [
      "Image download: ../Datav2/exports/ndvi/bc95da49-28a0-4e56-88d9-72e7455063c0_ndvi_bw.tif (512, 512)\n",
      "Image download: ../Datav2/exports/tc/92d7aeea-7abf-47a4-bf76-a4fe0fac65c6_tc.tif (512, 512)\n"
     ]
    },
    {
     "name": "stderr",
     "output_type": "stream",
     "text": [
      "\r",
      " 82%|████████████████████████████████████████████████████████████████████████████████████                   | 1209/1482 [1:22:20<40:04,  8.81s/it]"
     ]
    },
    {
     "name": "stdout",
     "output_type": "stream",
     "text": [
      "Image download: ../Datav2/exports/ndvi/92d7aeea-7abf-47a4-bf76-a4fe0fac65c6_ndvi_bw.tif (512, 512)\n",
      "Image download: ../Datav2/exports/tc/92d7aeea-7abf-47a4-bf76-a4fe0fac65c6_tc.tif (512, 512)\n"
     ]
    },
    {
     "name": "stderr",
     "output_type": "stream",
     "text": [
      "\r",
      " 82%|████████████████████████████████████████████████████████████████████████████████████                   | 1210/1482 [1:22:23<31:49,  7.02s/it]"
     ]
    },
    {
     "name": "stdout",
     "output_type": "stream",
     "text": [
      "Image download: ../Datav2/exports/ndvi/92d7aeea-7abf-47a4-bf76-a4fe0fac65c6_ndvi_bw.tif (512, 512)\n",
      "Image download: ../Datav2/exports/tc/c3b66e33-ef00-4874-a29b-b36640c16122_tc.tif (512, 512)\n"
     ]
    },
    {
     "name": "stderr",
     "output_type": "stream",
     "text": [
      "\r",
      " 82%|████████████████████████████████████████████████████████████████████████████████████▏                  | 1211/1482 [1:22:28<29:07,  6.45s/it]"
     ]
    },
    {
     "name": "stdout",
     "output_type": "stream",
     "text": [
      "Image download: ../Datav2/exports/ndvi/c3b66e33-ef00-4874-a29b-b36640c16122_ndvi_bw.tif (512, 512)\n",
      "Image download: ../Datav2/exports/tc/116fabb6-7440-4d6d-aa89-668989c028db_tc.tif (512, 512)\n"
     ]
    },
    {
     "name": "stderr",
     "output_type": "stream",
     "text": [
      "\r",
      " 82%|████████████████████████████████████████████████████████████████████████████████████▏                  | 1212/1482 [1:22:33<27:29,  6.11s/it]"
     ]
    },
    {
     "name": "stdout",
     "output_type": "stream",
     "text": [
      "Image download: ../Datav2/exports/ndvi/116fabb6-7440-4d6d-aa89-668989c028db_ndvi_bw.tif (512, 512)\n",
      "Image download: ../Datav2/exports/tc/d18da394-5ed4-4004-8dea-600e15d398e4_tc.tif (512, 512)\n"
     ]
    },
    {
     "name": "stderr",
     "output_type": "stream",
     "text": [
      "\r",
      " 82%|████████████████████████████████████████████████████████████████████████████████████▎                  | 1213/1482 [1:22:38<26:00,  5.80s/it]"
     ]
    },
    {
     "name": "stdout",
     "output_type": "stream",
     "text": [
      "Image download: ../Datav2/exports/ndvi/d18da394-5ed4-4004-8dea-600e15d398e4_ndvi_bw.tif (512, 512)\n",
      "Image download: ../Datav2/exports/tc/03f49769-b928-44a5-be82-236d3d341eba_tc.tif (512, 512)\n"
     ]
    },
    {
     "name": "stderr",
     "output_type": "stream",
     "text": [
      "\r",
      " 82%|████████████████████████████████████████████████████████████████████████████████████▎                  | 1214/1482 [1:22:43<24:11,  5.42s/it]"
     ]
    },
    {
     "name": "stdout",
     "output_type": "stream",
     "text": [
      "Image download: ../Datav2/exports/ndvi/03f49769-b928-44a5-be82-236d3d341eba_ndvi_bw.tif (512, 512)\n",
      "Image download: ../Datav2/exports/tc/c003df4f-d19c-4e21-a90f-81d3f14aaf99_tc.tif (512, 512)\n"
     ]
    },
    {
     "name": "stderr",
     "output_type": "stream",
     "text": [
      "\r",
      " 82%|████████████████████████████████████████████████████████████████████████████████████▍                  | 1215/1482 [1:22:53<30:04,  6.76s/it]"
     ]
    },
    {
     "name": "stdout",
     "output_type": "stream",
     "text": [
      "Image download: ../Datav2/exports/ndvi/c003df4f-d19c-4e21-a90f-81d3f14aaf99_ndvi_bw.tif (512, 512)\n",
      "Image download: ../Datav2/exports/tc/e83e7346-5b83-4e3a-845c-867fd84d17f0_tc.tif (512, 512)\n"
     ]
    },
    {
     "name": "stderr",
     "output_type": "stream",
     "text": [
      "\r",
      " 82%|████████████████████████████████████████████████████████████████████████████████████▌                  | 1216/1482 [1:22:58<28:20,  6.39s/it]"
     ]
    },
    {
     "name": "stdout",
     "output_type": "stream",
     "text": [
      "Image download: ../Datav2/exports/ndvi/e83e7346-5b83-4e3a-845c-867fd84d17f0_ndvi_bw.tif (512, 512)\n",
      "Image download: ../Datav2/exports/tc/b6fb27e6-073c-4092-b8a8-51e96be987a4_tc.tif (512, 512)\n"
     ]
    },
    {
     "name": "stderr",
     "output_type": "stream",
     "text": [
      "\r",
      " 82%|████████████████████████████████████████████████████████████████████████████████████▌                  | 1217/1482 [1:23:02<25:08,  5.69s/it]"
     ]
    },
    {
     "name": "stdout",
     "output_type": "stream",
     "text": [
      "Image download: ../Datav2/exports/ndvi/b6fb27e6-073c-4092-b8a8-51e96be987a4_ndvi_bw.tif (512, 512)\n",
      "Image download: ../Datav2/exports/tc/e6b8af54-15fb-42bb-8be9-f323c9d5cc78_tc.tif (512, 512)\n"
     ]
    },
    {
     "name": "stderr",
     "output_type": "stream",
     "text": [
      "\r",
      " 82%|████████████████████████████████████████████████████████████████████████████████████▋                  | 1218/1482 [1:23:14<33:25,  7.60s/it]"
     ]
    },
    {
     "name": "stdout",
     "output_type": "stream",
     "text": [
      "Image download: ../Datav2/exports/ndvi/e6b8af54-15fb-42bb-8be9-f323c9d5cc78_ndvi_bw.tif (512, 512)\n"
     ]
    },
    {
     "name": "stderr",
     "output_type": "stream",
     "text": [
      "\r",
      " 82%|████████████████████████████████████████████████████████████████████████████████████▋                  | 1219/1482 [1:23:15<24:33,  5.60s/it]"
     ]
    },
    {
     "name": "stdout",
     "output_type": "stream",
     "text": [
      "EXCEPTION - Row 1581 @ (-123.67555556, 40.61805556)\n",
      "Image.select: Band pattern 'B4' was applied to an Image with no bands. See https://developers.google.com/earth-engine/guides/debugging#no-bands\n",
      "Image download: ../Datav2/exports/tc/85bdd89a-4ce5-4539-a274-23fa2b030e7d_tc.tif (512, 512)\n"
     ]
    },
    {
     "name": "stderr",
     "output_type": "stream",
     "text": [
      "\r",
      " 82%|████████████████████████████████████████████████████████████████████████████████████▊                  | 1220/1482 [1:23:21<24:41,  5.65s/it]"
     ]
    },
    {
     "name": "stdout",
     "output_type": "stream",
     "text": [
      "Image download: ../Datav2/exports/ndvi/85bdd89a-4ce5-4539-a274-23fa2b030e7d_ndvi_bw.tif (512, 512)\n",
      "Image download: ../Datav2/exports/tc/34abbc65-5bbe-474b-85c8-16d07bb5b503_tc.tif (512, 512)\n"
     ]
    },
    {
     "name": "stderr",
     "output_type": "stream",
     "text": [
      "\r",
      " 82%|████████████████████████████████████████████████████████████████████████████████████▊                  | 1221/1482 [1:23:26<23:40,  5.44s/it]"
     ]
    },
    {
     "name": "stdout",
     "output_type": "stream",
     "text": [
      "Image download: ../Datav2/exports/ndvi/34abbc65-5bbe-474b-85c8-16d07bb5b503_ndvi_bw.tif (512, 512)\n",
      "Image download: ../Datav2/exports/tc/d3beabf6-63e9-4cad-a17c-58bb36abd7ac_tc.tif (512, 512)\n"
     ]
    },
    {
     "name": "stderr",
     "output_type": "stream",
     "text": [
      "\r",
      " 82%|████████████████████████████████████████████████████████████████████████████████████▉                  | 1222/1482 [1:23:30<22:17,  5.14s/it]"
     ]
    },
    {
     "name": "stdout",
     "output_type": "stream",
     "text": [
      "Image download: ../Datav2/exports/ndvi/d3beabf6-63e9-4cad-a17c-58bb36abd7ac_ndvi_bw.tif (512, 512)\n",
      "Image download: ../Datav2/exports/tc/398bb669-190d-4dbf-9af0-6ccb27817c13_tc.tif (512, 512)\n"
     ]
    },
    {
     "name": "stderr",
     "output_type": "stream",
     "text": [
      "\r",
      " 83%|████████████████████████████████████████████████████████████████████████████████████▉                  | 1223/1482 [1:23:36<22:53,  5.30s/it]"
     ]
    },
    {
     "name": "stdout",
     "output_type": "stream",
     "text": [
      "Image download: ../Datav2/exports/ndvi/398bb669-190d-4dbf-9af0-6ccb27817c13_ndvi_bw.tif (512, 512)\n",
      "Image download: ../Datav2/exports/tc/ee290ec6-3815-4c44-a96a-edb331fcc925_tc.tif (512, 512)\n"
     ]
    },
    {
     "name": "stderr",
     "output_type": "stream",
     "text": [
      "\r",
      " 83%|█████████████████████████████████████████████████████████████████████████████████████                  | 1224/1482 [1:23:42<23:58,  5.57s/it]"
     ]
    },
    {
     "name": "stdout",
     "output_type": "stream",
     "text": [
      "Image download: ../Datav2/exports/ndvi/ee290ec6-3815-4c44-a96a-edb331fcc925_ndvi_bw.tif (512, 512)\n",
      "Image download: ../Datav2/exports/tc/6f329208-5aa0-45fc-a4ec-db9caf865ca7_tc.tif (512, 512)\n"
     ]
    },
    {
     "name": "stderr",
     "output_type": "stream",
     "text": [
      "\r",
      " 83%|█████████████████████████████████████████████████████████████████████████████████████▏                 | 1225/1482 [1:23:50<26:41,  6.23s/it]"
     ]
    },
    {
     "name": "stdout",
     "output_type": "stream",
     "text": [
      "Image download: ../Datav2/exports/ndvi/6f329208-5aa0-45fc-a4ec-db9caf865ca7_ndvi_bw.tif (512, 512)\n",
      "Image download: ../Datav2/exports/tc/0888bb9d-0d9b-4a49-bf3d-a55a7c40a707_tc.tif (512, 512)\n"
     ]
    },
    {
     "name": "stderr",
     "output_type": "stream",
     "text": [
      "\r",
      " 83%|█████████████████████████████████████████████████████████████████████████████████████▏                 | 1226/1482 [1:23:54<24:13,  5.68s/it]"
     ]
    },
    {
     "name": "stdout",
     "output_type": "stream",
     "text": [
      "Image download: ../Datav2/exports/ndvi/0888bb9d-0d9b-4a49-bf3d-a55a7c40a707_ndvi_bw.tif (512, 512)\n",
      "Image download: ../Datav2/exports/tc/a81e03a3-de18-48e4-93bf-f8da83a17927_tc.tif (512, 512)\n"
     ]
    },
    {
     "name": "stderr",
     "output_type": "stream",
     "text": [
      "\r",
      " 83%|█████████████████████████████████████████████████████████████████████████████████████▎                 | 1227/1482 [1:24:00<23:29,  5.53s/it]"
     ]
    },
    {
     "name": "stdout",
     "output_type": "stream",
     "text": [
      "Image download: ../Datav2/exports/ndvi/a81e03a3-de18-48e4-93bf-f8da83a17927_ndvi_bw.tif (512, 512)\n",
      "Image download: ../Datav2/exports/tc/e98603d2-f44e-4a9e-b83d-5e9f94766b53_tc.tif (512, 512)\n"
     ]
    },
    {
     "name": "stderr",
     "output_type": "stream",
     "text": [
      "\r",
      " 83%|█████████████████████████████████████████████████████████████████████████████████████▎                 | 1228/1482 [1:24:05<22:58,  5.43s/it]"
     ]
    },
    {
     "name": "stdout",
     "output_type": "stream",
     "text": [
      "Image download: ../Datav2/exports/ndvi/e98603d2-f44e-4a9e-b83d-5e9f94766b53_ndvi_bw.tif (512, 512)\n",
      "Image download: ../Datav2/exports/tc/aed86291-4631-4d79-ba5f-6b2c8ca399c9_tc.tif (512, 512)\n"
     ]
    },
    {
     "name": "stderr",
     "output_type": "stream",
     "text": [
      "\r",
      " 83%|█████████████████████████████████████████████████████████████████████████████████████▍                 | 1229/1482 [1:24:11<23:23,  5.55s/it]"
     ]
    },
    {
     "name": "stdout",
     "output_type": "stream",
     "text": [
      "Image download: ../Datav2/exports/ndvi/aed86291-4631-4d79-ba5f-6b2c8ca399c9_ndvi_bw.tif (512, 512)\n",
      "Image download: ../Datav2/exports/tc/9d7c5ad0-6682-430a-b4d1-d39cfea73a29_tc.tif (512, 512)\n"
     ]
    },
    {
     "name": "stderr",
     "output_type": "stream",
     "text": [
      "\r",
      " 83%|█████████████████████████████████████████████████████████████████████████████████████▍                 | 1230/1482 [1:24:15<21:43,  5.17s/it]"
     ]
    },
    {
     "name": "stdout",
     "output_type": "stream",
     "text": [
      "Image download: ../Datav2/exports/ndvi/9d7c5ad0-6682-430a-b4d1-d39cfea73a29_ndvi_bw.tif (512, 512)\n",
      "Image download: ../Datav2/exports/tc/e2d77e59-b831-4267-a50b-89ede499a885_tc.tif (512, 512)\n"
     ]
    },
    {
     "name": "stderr",
     "output_type": "stream",
     "text": [
      "\r",
      " 83%|█████████████████████████████████████████████████████████████████████████████████████▌                 | 1231/1482 [1:24:21<22:51,  5.47s/it]"
     ]
    },
    {
     "name": "stdout",
     "output_type": "stream",
     "text": [
      "Image download: ../Datav2/exports/ndvi/e2d77e59-b831-4267-a50b-89ede499a885_ndvi_bw.tif (512, 512)\n",
      "Image download: ../Datav2/exports/tc/72cb3684-c194-4180-bdfe-22775f86a594_tc.tif (512, 512)\n"
     ]
    },
    {
     "name": "stderr",
     "output_type": "stream",
     "text": [
      "\r",
      " 83%|█████████████████████████████████████████████████████████████████████████████████████▌                 | 1232/1482 [1:24:26<21:39,  5.20s/it]"
     ]
    },
    {
     "name": "stdout",
     "output_type": "stream",
     "text": [
      "Image download: ../Datav2/exports/ndvi/72cb3684-c194-4180-bdfe-22775f86a594_ndvi_bw.tif (512, 512)\n",
      "Image download: ../Datav2/exports/tc/b4616173-5807-4c04-a416-5374139f3fcc_tc.tif (512, 512)\n"
     ]
    },
    {
     "name": "stderr",
     "output_type": "stream",
     "text": [
      "\r",
      " 83%|█████████████████████████████████████████████████████████████████████████████████████▋                 | 1233/1482 [1:24:30<20:39,  4.98s/it]"
     ]
    },
    {
     "name": "stdout",
     "output_type": "stream",
     "text": [
      "Image download: ../Datav2/exports/ndvi/b4616173-5807-4c04-a416-5374139f3fcc_ndvi_bw.tif (512, 512)\n",
      "Image download: ../Datav2/exports/tc/e354cde8-d0e6-4150-9f6b-1c12045e77d0_tc.tif (512, 512)\n"
     ]
    },
    {
     "name": "stderr",
     "output_type": "stream",
     "text": [
      "\r",
      " 83%|█████████████████████████████████████████████████████████████████████████████████████▊                 | 1234/1482 [1:24:36<21:31,  5.21s/it]"
     ]
    },
    {
     "name": "stdout",
     "output_type": "stream",
     "text": [
      "Image download: ../Datav2/exports/ndvi/e354cde8-d0e6-4150-9f6b-1c12045e77d0_ndvi_bw.tif (512, 512)\n",
      "Image download: ../Datav2/exports/tc/329ac0b8-a2c1-4a72-bd09-dd86c477162b_tc.tif (512, 512)\n"
     ]
    },
    {
     "name": "stderr",
     "output_type": "stream",
     "text": [
      "\r",
      " 83%|█████████████████████████████████████████████████████████████████████████████████████▊                 | 1235/1482 [1:24:40<20:10,  4.90s/it]"
     ]
    },
    {
     "name": "stdout",
     "output_type": "stream",
     "text": [
      "Image download: ../Datav2/exports/ndvi/329ac0b8-a2c1-4a72-bd09-dd86c477162b_ndvi_bw.tif (512, 512)\n",
      "Image download: ../Datav2/exports/tc/812a492e-35cb-4bb0-9e5a-1ec181d8b97e_tc.tif (512, 512)\n"
     ]
    },
    {
     "name": "stderr",
     "output_type": "stream",
     "text": [
      "\r",
      " 83%|█████████████████████████████████████████████████████████████████████████████████████▉                 | 1236/1482 [1:24:44<19:30,  4.76s/it]"
     ]
    },
    {
     "name": "stdout",
     "output_type": "stream",
     "text": [
      "Image download: ../Datav2/exports/ndvi/812a492e-35cb-4bb0-9e5a-1ec181d8b97e_ndvi_bw.tif (512, 512)\n",
      "Image download: ../Datav2/exports/tc/11e0324e-e8ff-4591-b592-9e704ade60d6_tc.tif (512, 512)\n"
     ]
    },
    {
     "name": "stderr",
     "output_type": "stream",
     "text": [
      "\r",
      " 83%|█████████████████████████████████████████████████████████████████████████████████████▉                 | 1237/1482 [1:24:49<19:27,  4.77s/it]"
     ]
    },
    {
     "name": "stdout",
     "output_type": "stream",
     "text": [
      "Image download: ../Datav2/exports/ndvi/11e0324e-e8ff-4591-b592-9e704ade60d6_ndvi_bw.tif (512, 512)\n",
      "Image download: ../Datav2/exports/tc/db2a5b4c-260b-4888-aeb3-663b8bf41106_tc.tif (512, 512)\n"
     ]
    },
    {
     "name": "stderr",
     "output_type": "stream",
     "text": [
      "\r",
      " 84%|██████████████████████████████████████████████████████████████████████████████████████                 | 1238/1482 [1:24:53<18:11,  4.47s/it]"
     ]
    },
    {
     "name": "stdout",
     "output_type": "stream",
     "text": [
      "Image download: ../Datav2/exports/ndvi/db2a5b4c-260b-4888-aeb3-663b8bf41106_ndvi_bw.tif (512, 512)\n",
      "Image download: ../Datav2/exports/tc/e1f34f39-beea-4a6d-9ba6-64b6b55ff567_tc.tif (512, 512)\n"
     ]
    },
    {
     "name": "stderr",
     "output_type": "stream",
     "text": [
      "\r",
      " 84%|██████████████████████████████████████████████████████████████████████████████████████                 | 1239/1482 [1:24:57<18:03,  4.46s/it]"
     ]
    },
    {
     "name": "stdout",
     "output_type": "stream",
     "text": [
      "Image download: ../Datav2/exports/ndvi/e1f34f39-beea-4a6d-9ba6-64b6b55ff567_ndvi_bw.tif (512, 512)\n",
      "Image download: ../Datav2/exports/tc/107dd529-31b8-4b5f-ab09-4aa79c770d4b_tc.tif (512, 512)\n"
     ]
    },
    {
     "name": "stderr",
     "output_type": "stream",
     "text": [
      "\r",
      " 84%|██████████████████████████████████████████████████████████████████████████████████████▏                | 1240/1482 [1:25:03<19:21,  4.80s/it]"
     ]
    },
    {
     "name": "stdout",
     "output_type": "stream",
     "text": [
      "Image download: ../Datav2/exports/ndvi/107dd529-31b8-4b5f-ab09-4aa79c770d4b_ndvi_bw.tif (512, 512)\n",
      "Image download: ../Datav2/exports/tc/2e71d51a-49f1-4e86-82e2-054637efd1a5_tc.tif (512, 512)\n"
     ]
    },
    {
     "name": "stderr",
     "output_type": "stream",
     "text": [
      "\r",
      " 84%|██████████████████████████████████████████████████████████████████████████████████████▎                | 1241/1482 [1:25:07<18:27,  4.60s/it]"
     ]
    },
    {
     "name": "stdout",
     "output_type": "stream",
     "text": [
      "Image download: ../Datav2/exports/ndvi/2e71d51a-49f1-4e86-82e2-054637efd1a5_ndvi_bw.tif (512, 512)\n",
      "Image download: ../Datav2/exports/tc/24997ef5-a558-4ea6-8a96-b3cdff79fe2b_tc.tif (512, 512)\n"
     ]
    },
    {
     "name": "stderr",
     "output_type": "stream",
     "text": [
      "\r",
      " 84%|██████████████████████████████████████████████████████████████████████████████████████▎                | 1242/1482 [1:25:13<19:30,  4.88s/it]"
     ]
    },
    {
     "name": "stdout",
     "output_type": "stream",
     "text": [
      "Image download: ../Datav2/exports/ndvi/24997ef5-a558-4ea6-8a96-b3cdff79fe2b_ndvi_bw.tif (512, 512)\n",
      "Image download: ../Datav2/exports/tc/b433dceb-f5b4-4b46-8eb3-2aae9fc2d45a_tc.tif (512, 512)\n"
     ]
    },
    {
     "name": "stderr",
     "output_type": "stream",
     "text": [
      "\r",
      " 84%|██████████████████████████████████████████████████████████████████████████████████████▍                | 1243/1482 [1:25:18<19:26,  4.88s/it]"
     ]
    },
    {
     "name": "stdout",
     "output_type": "stream",
     "text": [
      "Image download: ../Datav2/exports/ndvi/b433dceb-f5b4-4b46-8eb3-2aae9fc2d45a_ndvi_bw.tif (512, 512)\n",
      "Image download: ../Datav2/exports/tc/8edf51ea-1e4f-4e73-8e04-e168417ed39b_tc.tif (512, 512)\n"
     ]
    },
    {
     "name": "stderr",
     "output_type": "stream",
     "text": [
      "\r",
      " 84%|██████████████████████████████████████████████████████████████████████████████████████▍                | 1244/1482 [1:25:23<19:31,  4.92s/it]"
     ]
    },
    {
     "name": "stdout",
     "output_type": "stream",
     "text": [
      "Image download: ../Datav2/exports/ndvi/8edf51ea-1e4f-4e73-8e04-e168417ed39b_ndvi_bw.tif (512, 512)\n",
      "Image download: ../Datav2/exports/tc/3fd43a39-4e82-4b7e-a642-be86b5c73522_tc.tif (512, 512)\n"
     ]
    },
    {
     "name": "stderr",
     "output_type": "stream",
     "text": [
      "\r",
      " 84%|██████████████████████████████████████████████████████████████████████████████████████▌                | 1245/1482 [1:25:27<18:51,  4.78s/it]"
     ]
    },
    {
     "name": "stdout",
     "output_type": "stream",
     "text": [
      "Image download: ../Datav2/exports/ndvi/3fd43a39-4e82-4b7e-a642-be86b5c73522_ndvi_bw.tif (512, 512)\n",
      "Image download: ../Datav2/exports/tc/23cee99c-662f-4409-80d0-b9eb3a6287b3_tc.tif (512, 512)\n"
     ]
    },
    {
     "name": "stderr",
     "output_type": "stream",
     "text": [
      "\r",
      " 84%|██████████████████████████████████████████████████████████████████████████████████████▌                | 1246/1482 [1:25:32<19:02,  4.84s/it]"
     ]
    },
    {
     "name": "stdout",
     "output_type": "stream",
     "text": [
      "Image download: ../Datav2/exports/ndvi/23cee99c-662f-4409-80d0-b9eb3a6287b3_ndvi_bw.tif (512, 512)\n",
      "Image download: ../Datav2/exports/tc/78c1dacb-653a-42fe-b025-ab80ec4996bd_tc.tif (512, 512)\n"
     ]
    },
    {
     "name": "stderr",
     "output_type": "stream",
     "text": [
      "\r",
      " 84%|██████████████████████████████████████████████████████████████████████████████████████▋                | 1247/1482 [1:25:37<18:50,  4.81s/it]"
     ]
    },
    {
     "name": "stdout",
     "output_type": "stream",
     "text": [
      "Image download: ../Datav2/exports/ndvi/78c1dacb-653a-42fe-b025-ab80ec4996bd_ndvi_bw.tif (512, 512)\n",
      "Image download: ../Datav2/exports/tc/1760d7f8-57a2-4a04-b7e5-0861cc0ee963_tc.tif (512, 512)\n"
     ]
    },
    {
     "name": "stderr",
     "output_type": "stream",
     "text": [
      "\r",
      " 84%|██████████████████████████████████████████████████████████████████████████████████████▋                | 1248/1482 [1:25:46<23:30,  6.03s/it]"
     ]
    },
    {
     "name": "stdout",
     "output_type": "stream",
     "text": [
      "Image download: ../Datav2/exports/ndvi/1760d7f8-57a2-4a04-b7e5-0861cc0ee963_ndvi_bw.tif (512, 512)\n",
      "Image download: ../Datav2/exports/tc/6f509c42-9d2b-45df-b705-02dcb9147dde_tc.tif (512, 512)\n"
     ]
    },
    {
     "name": "stderr",
     "output_type": "stream",
     "text": [
      "\r",
      " 84%|██████████████████████████████████████████████████████████████████████████████████████▊                | 1249/1482 [1:25:51<22:30,  5.79s/it]"
     ]
    },
    {
     "name": "stdout",
     "output_type": "stream",
     "text": [
      "Image download: ../Datav2/exports/ndvi/6f509c42-9d2b-45df-b705-02dcb9147dde_ndvi_bw.tif (512, 512)\n",
      "Image download: ../Datav2/exports/tc/e1e4dad4-7ea6-48ec-b34d-3128cf55cc43_tc.tif (512, 512)\n"
     ]
    },
    {
     "name": "stderr",
     "output_type": "stream",
     "text": [
      "\r",
      " 84%|██████████████████████████████████████████████████████████████████████████████████████▉                | 1250/1482 [1:25:59<24:55,  6.45s/it]"
     ]
    },
    {
     "name": "stdout",
     "output_type": "stream",
     "text": [
      "Image download: ../Datav2/exports/ndvi/e1e4dad4-7ea6-48ec-b34d-3128cf55cc43_ndvi_bw.tif (512, 512)\n",
      "Image download: ../Datav2/exports/tc/77671ac0-0868-4cc9-a699-26f0131cd493_tc.tif (512, 512)\n"
     ]
    },
    {
     "name": "stderr",
     "output_type": "stream",
     "text": [
      "\r",
      " 84%|██████████████████████████████████████████████████████████████████████████████████████▉                | 1251/1482 [1:26:09<28:47,  7.48s/it]"
     ]
    },
    {
     "name": "stdout",
     "output_type": "stream",
     "text": [
      "Image download: ../Datav2/exports/ndvi/77671ac0-0868-4cc9-a699-26f0131cd493_ndvi_bw.tif (512, 512)\n",
      "Image download: ../Datav2/exports/tc/0cd5a369-2f91-4786-9df1-98ece3e9e78c_tc.tif (512, 512)\n"
     ]
    },
    {
     "name": "stderr",
     "output_type": "stream",
     "text": [
      "\r",
      " 84%|███████████████████████████████████████████████████████████████████████████████████████                | 1252/1482 [1:26:13<25:18,  6.60s/it]"
     ]
    },
    {
     "name": "stdout",
     "output_type": "stream",
     "text": [
      "Image download: ../Datav2/exports/ndvi/0cd5a369-2f91-4786-9df1-98ece3e9e78c_ndvi_bw.tif (512, 512)\n",
      "Image download: ../Datav2/exports/tc/b671965d-2369-4107-98fe-432eab6ffdc0_tc.tif (512, 512)\n"
     ]
    },
    {
     "name": "stderr",
     "output_type": "stream",
     "text": [
      "\r",
      " 85%|███████████████████████████████████████████████████████████████████████████████████████                | 1253/1482 [1:26:18<22:42,  5.95s/it]"
     ]
    },
    {
     "name": "stdout",
     "output_type": "stream",
     "text": [
      "Image download: ../Datav2/exports/ndvi/b671965d-2369-4107-98fe-432eab6ffdc0_ndvi_bw.tif (512, 512)\n",
      "Image download: ../Datav2/exports/tc/88a285bc-0dc7-4c51-a35a-5026850b0a6d_tc.tif (512, 512)\n"
     ]
    },
    {
     "name": "stderr",
     "output_type": "stream",
     "text": [
      "\r",
      " 85%|███████████████████████████████████████████████████████████████████████████████████████▏               | 1254/1482 [1:26:22<21:06,  5.55s/it]"
     ]
    },
    {
     "name": "stdout",
     "output_type": "stream",
     "text": [
      "Image download: ../Datav2/exports/ndvi/88a285bc-0dc7-4c51-a35a-5026850b0a6d_ndvi_bw.tif (512, 512)\n",
      "Image download: ../Datav2/exports/tc/20ccd7ec-de69-4967-9877-db5e143fe99a_tc.tif (512, 512)\n"
     ]
    },
    {
     "name": "stderr",
     "output_type": "stream",
     "text": [
      "\r",
      " 85%|███████████████████████████████████████████████████████████████████████████████████████▏               | 1255/1482 [1:26:27<19:31,  5.16s/it]"
     ]
    },
    {
     "name": "stdout",
     "output_type": "stream",
     "text": [
      "Image download: ../Datav2/exports/ndvi/20ccd7ec-de69-4967-9877-db5e143fe99a_ndvi_bw.tif (512, 512)\n",
      "Image download: ../Datav2/exports/tc/45cad03f-97e7-4301-92e2-e63a0040913a_tc.tif (512, 512)\n"
     ]
    },
    {
     "name": "stderr",
     "output_type": "stream",
     "text": [
      "\r",
      " 85%|███████████████████████████████████████████████████████████████████████████████████████▎               | 1256/1482 [1:26:32<19:17,  5.12s/it]"
     ]
    },
    {
     "name": "stdout",
     "output_type": "stream",
     "text": [
      "Image download: ../Datav2/exports/ndvi/45cad03f-97e7-4301-92e2-e63a0040913a_ndvi_bw.tif (512, 512)\n",
      "Image download: ../Datav2/exports/tc/921a69d2-ddde-4fd8-a874-f5ba15a4edd2_tc.tif (512, 512)\n"
     ]
    },
    {
     "name": "stderr",
     "output_type": "stream",
     "text": [
      "\r",
      " 85%|███████████████████████████████████████████████████████████████████████████████████████▎               | 1257/1482 [1:26:38<20:13,  5.39s/it]"
     ]
    },
    {
     "name": "stdout",
     "output_type": "stream",
     "text": [
      "Image download: ../Datav2/exports/ndvi/921a69d2-ddde-4fd8-a874-f5ba15a4edd2_ndvi_bw.tif (512, 512)\n",
      "Image download: ../Datav2/exports/tc/fe63d965-9069-4a96-b9da-99d5fefdaa19_tc.tif (512, 512)\n"
     ]
    },
    {
     "name": "stderr",
     "output_type": "stream",
     "text": [
      "\r",
      " 85%|███████████████████████████████████████████████████████████████████████████████████████▍               | 1258/1482 [1:26:43<20:18,  5.44s/it]"
     ]
    },
    {
     "name": "stdout",
     "output_type": "stream",
     "text": [
      "Image download: ../Datav2/exports/ndvi/fe63d965-9069-4a96-b9da-99d5fefdaa19_ndvi_bw.tif (512, 512)\n",
      "Image download: ../Datav2/exports/tc/48d3b3c4-fcf5-47d9-920f-3b3c1b0f6fb1_tc.tif (512, 512)\n"
     ]
    },
    {
     "name": "stderr",
     "output_type": "stream",
     "text": [
      "\r",
      " 85%|███████████████████████████████████████████████████████████████████████████████████████▌               | 1259/1482 [1:26:48<19:25,  5.22s/it]"
     ]
    },
    {
     "name": "stdout",
     "output_type": "stream",
     "text": [
      "Image download: ../Datav2/exports/ndvi/48d3b3c4-fcf5-47d9-920f-3b3c1b0f6fb1_ndvi_bw.tif (512, 512)\n",
      "Image download: ../Datav2/exports/tc/779c4b9a-19bf-487f-ba65-6589aea27420_tc.tif (512, 512)\n"
     ]
    },
    {
     "name": "stderr",
     "output_type": "stream",
     "text": [
      "\r",
      " 85%|███████████████████████████████████████████████████████████████████████████████████████▌               | 1260/1482 [1:26:53<19:25,  5.25s/it]"
     ]
    },
    {
     "name": "stdout",
     "output_type": "stream",
     "text": [
      "Image download: ../Datav2/exports/ndvi/779c4b9a-19bf-487f-ba65-6589aea27420_ndvi_bw.tif (512, 512)\n",
      "Image download: ../Datav2/exports/tc/8c666963-1f9d-43c6-bc3a-cab623d81f27_tc.tif (512, 512)\n"
     ]
    },
    {
     "name": "stderr",
     "output_type": "stream",
     "text": [
      "\r",
      " 85%|███████████████████████████████████████████████████████████████████████████████████████▋               | 1261/1482 [1:26:58<18:19,  4.98s/it]"
     ]
    },
    {
     "name": "stdout",
     "output_type": "stream",
     "text": [
      "Image download: ../Datav2/exports/ndvi/8c666963-1f9d-43c6-bc3a-cab623d81f27_ndvi_bw.tif (512, 512)\n",
      "Image download: ../Datav2/exports/tc/bc5d73ab-3100-4117-9978-a99b8e3daf5c_tc.tif (512, 512)\n"
     ]
    },
    {
     "name": "stderr",
     "output_type": "stream",
     "text": [
      "\r",
      " 85%|███████████████████████████████████████████████████████████████████████████████████████▋               | 1262/1482 [1:27:03<18:29,  5.05s/it]"
     ]
    },
    {
     "name": "stdout",
     "output_type": "stream",
     "text": [
      "Image download: ../Datav2/exports/ndvi/bc5d73ab-3100-4117-9978-a99b8e3daf5c_ndvi_bw.tif (512, 512)\n",
      "Image download: ../Datav2/exports/tc/50328016-5e03-4e90-bff0-95d36942728f_tc.tif (512, 512)\n"
     ]
    },
    {
     "name": "stderr",
     "output_type": "stream",
     "text": [
      "\r",
      " 85%|███████████████████████████████████████████████████████████████████████████████████████▊               | 1263/1482 [1:27:09<19:39,  5.39s/it]"
     ]
    },
    {
     "name": "stdout",
     "output_type": "stream",
     "text": [
      "Image download: ../Datav2/exports/ndvi/50328016-5e03-4e90-bff0-95d36942728f_ndvi_bw.tif (512, 512)\n",
      "Image download: ../Datav2/exports/tc/937f9f26-8d23-4ee7-a0f3-61313dcc63f3_tc.tif (512, 512)\n"
     ]
    },
    {
     "name": "stderr",
     "output_type": "stream",
     "text": [
      "\r",
      " 85%|███████████████████████████████████████████████████████████████████████████████████████▊               | 1264/1482 [1:27:14<18:56,  5.21s/it]"
     ]
    },
    {
     "name": "stdout",
     "output_type": "stream",
     "text": [
      "Image download: ../Datav2/exports/ndvi/937f9f26-8d23-4ee7-a0f3-61313dcc63f3_ndvi_bw.tif (512, 512)\n",
      "Image download: ../Datav2/exports/tc/31cbc968-6d9d-412b-8bc3-6846ca398fe2_tc.tif (512, 512)\n"
     ]
    },
    {
     "name": "stderr",
     "output_type": "stream",
     "text": [
      "\r",
      " 85%|███████████████████████████████████████████████████████████████████████████████████████▉               | 1265/1482 [1:27:19<18:45,  5.18s/it]"
     ]
    },
    {
     "name": "stdout",
     "output_type": "stream",
     "text": [
      "Image download: ../Datav2/exports/ndvi/31cbc968-6d9d-412b-8bc3-6846ca398fe2_ndvi_bw.tif (512, 512)\n",
      "Image download: ../Datav2/exports/tc/4edb5c7c-08d6-4ae0-b8b3-7bb471e26d8e_tc.tif (512, 512)\n"
     ]
    },
    {
     "name": "stderr",
     "output_type": "stream",
     "text": [
      "\r",
      " 85%|███████████████████████████████████████████████████████████████████████████████████████▉               | 1266/1482 [1:27:24<18:28,  5.13s/it]"
     ]
    },
    {
     "name": "stdout",
     "output_type": "stream",
     "text": [
      "Image download: ../Datav2/exports/ndvi/4edb5c7c-08d6-4ae0-b8b3-7bb471e26d8e_ndvi_bw.tif (512, 512)\n",
      "Image download: ../Datav2/exports/tc/35ba5eb8-520f-4660-af60-9e0e00e7b42b_tc.tif (512, 512)\n"
     ]
    },
    {
     "name": "stderr",
     "output_type": "stream",
     "text": [
      "\r",
      " 85%|████████████████████████████████████████████████████████████████████████████████████████               | 1267/1482 [1:27:29<17:50,  4.98s/it]"
     ]
    },
    {
     "name": "stdout",
     "output_type": "stream",
     "text": [
      "Image download: ../Datav2/exports/ndvi/35ba5eb8-520f-4660-af60-9e0e00e7b42b_ndvi_bw.tif (512, 512)\n",
      "Image download: ../Datav2/exports/tc/2f3e47bb-8595-4c9f-bfa6-6fd76e465c12_tc.tif (512, 512)\n"
     ]
    },
    {
     "name": "stderr",
     "output_type": "stream",
     "text": [
      "\r",
      " 86%|████████████████████████████████████████████████████████████████████████████████████████▏              | 1268/1482 [1:27:38<22:13,  6.23s/it]"
     ]
    },
    {
     "name": "stdout",
     "output_type": "stream",
     "text": [
      "Image download: ../Datav2/exports/ndvi/2f3e47bb-8595-4c9f-bfa6-6fd76e465c12_ndvi_bw.tif (512, 512)\n",
      "Image download: ../Datav2/exports/tc/7a0029c7-64c8-442d-8c7a-080a553e2b8e_tc.tif (512, 512)\n"
     ]
    },
    {
     "name": "stderr",
     "output_type": "stream",
     "text": [
      "\r",
      " 86%|████████████████████████████████████████████████████████████████████████████████████████▏              | 1269/1482 [1:27:44<22:19,  6.29s/it]"
     ]
    },
    {
     "name": "stdout",
     "output_type": "stream",
     "text": [
      "Image download: ../Datav2/exports/ndvi/7a0029c7-64c8-442d-8c7a-080a553e2b8e_ndvi_bw.tif (512, 512)\n",
      "Image download: ../Datav2/exports/tc/ac723863-413e-43f8-b4b6-2311e81e36ae_tc.tif (512, 512)\n"
     ]
    },
    {
     "name": "stderr",
     "output_type": "stream",
     "text": [
      "\r",
      " 86%|████████████████████████████████████████████████████████████████████████████████████████▎              | 1270/1482 [1:27:50<21:34,  6.11s/it]"
     ]
    },
    {
     "name": "stdout",
     "output_type": "stream",
     "text": [
      "Image download: ../Datav2/exports/ndvi/ac723863-413e-43f8-b4b6-2311e81e36ae_ndvi_bw.tif (512, 512)\n",
      "Image download: ../Datav2/exports/tc/c6e38284-336a-4435-a3a1-b2b91ee84a91_tc.tif (512, 512)\n"
     ]
    },
    {
     "name": "stderr",
     "output_type": "stream",
     "text": [
      "\r",
      " 86%|████████████████████████████████████████████████████████████████████████████████████████▎              | 1271/1482 [1:27:55<20:17,  5.77s/it]"
     ]
    },
    {
     "name": "stdout",
     "output_type": "stream",
     "text": [
      "Image download: ../Datav2/exports/ndvi/c6e38284-336a-4435-a3a1-b2b91ee84a91_ndvi_bw.tif (512, 512)\n",
      "Image download: ../Datav2/exports/tc/b38c0563-b321-431b-9174-6336c5a0d449_tc.tif (512, 512)\n"
     ]
    },
    {
     "name": "stderr",
     "output_type": "stream",
     "text": [
      "\r",
      " 86%|████████████████████████████████████████████████████████████████████████████████████████▍              | 1272/1482 [1:28:00<19:31,  5.58s/it]"
     ]
    },
    {
     "name": "stdout",
     "output_type": "stream",
     "text": [
      "Image download: ../Datav2/exports/ndvi/b38c0563-b321-431b-9174-6336c5a0d449_ndvi_bw.tif (512, 512)\n",
      "Image download: ../Datav2/exports/tc/c51a2db5-6d0b-4b4a-8692-a6d73714829f_tc.tif (512, 512)\n"
     ]
    },
    {
     "name": "stderr",
     "output_type": "stream",
     "text": [
      "\r",
      " 86%|████████████████████████████████████████████████████████████████████████████████████████▍              | 1273/1482 [1:28:19<33:11,  9.53s/it]"
     ]
    },
    {
     "name": "stdout",
     "output_type": "stream",
     "text": [
      "Image download: ../Datav2/exports/ndvi/c51a2db5-6d0b-4b4a-8692-a6d73714829f_ndvi_bw.tif (512, 512)\n",
      "Image download: ../Datav2/exports/tc/24d9c2ae-8b11-4536-9b9c-5f4e0d476af0_tc.tif (512, 512)\n"
     ]
    },
    {
     "name": "stderr",
     "output_type": "stream",
     "text": [
      "\r",
      " 86%|████████████████████████████████████████████████████████████████████████████████████████▌              | 1274/1482 [1:28:25<29:40,  8.56s/it]"
     ]
    },
    {
     "name": "stdout",
     "output_type": "stream",
     "text": [
      "Image download: ../Datav2/exports/ndvi/24d9c2ae-8b11-4536-9b9c-5f4e0d476af0_ndvi_bw.tif (512, 512)\n",
      "Image download: ../Datav2/exports/tc/cc06431a-5153-4f66-8ada-07af53c175c3_tc.tif (512, 512)\n"
     ]
    },
    {
     "name": "stderr",
     "output_type": "stream",
     "text": [
      "\r",
      " 86%|████████████████████████████████████████████████████████████████████████████████████████▌              | 1275/1482 [1:28:30<26:19,  7.63s/it]"
     ]
    },
    {
     "name": "stdout",
     "output_type": "stream",
     "text": [
      "Image download: ../Datav2/exports/ndvi/cc06431a-5153-4f66-8ada-07af53c175c3_ndvi_bw.tif (512, 512)\n",
      "Image download: ../Datav2/exports/tc/42e2b6f0-2d63-4fbf-bbb4-4fc2eda4805d_tc.tif (512, 512)\n"
     ]
    },
    {
     "name": "stderr",
     "output_type": "stream",
     "text": [
      "\r",
      " 86%|████████████████████████████████████████████████████████████████████████████████████████▋              | 1276/1482 [1:28:35<23:35,  6.87s/it]"
     ]
    },
    {
     "name": "stdout",
     "output_type": "stream",
     "text": [
      "Image download: ../Datav2/exports/ndvi/42e2b6f0-2d63-4fbf-bbb4-4fc2eda4805d_ndvi_bw.tif (512, 512)\n",
      "Image download: ../Datav2/exports/tc/be4489fb-f51f-4109-8132-c7a28e0d9995_tc.tif (512, 512)\n"
     ]
    },
    {
     "name": "stderr",
     "output_type": "stream",
     "text": [
      "\r",
      " 86%|████████████████████████████████████████████████████████████████████████████████████████▊              | 1277/1482 [1:28:39<20:25,  5.98s/it]"
     ]
    },
    {
     "name": "stdout",
     "output_type": "stream",
     "text": [
      "Image download: ../Datav2/exports/ndvi/be4489fb-f51f-4109-8132-c7a28e0d9995_ndvi_bw.tif (512, 512)\n",
      "Image download: ../Datav2/exports/tc/89db8bb4-6e3b-4de7-b7d9-287c1a9032c0_tc.tif (512, 512)\n"
     ]
    },
    {
     "name": "stderr",
     "output_type": "stream",
     "text": [
      "\r",
      " 86%|████████████████████████████████████████████████████████████████████████████████████████▊              | 1278/1482 [1:28:44<19:18,  5.68s/it]"
     ]
    },
    {
     "name": "stdout",
     "output_type": "stream",
     "text": [
      "Image download: ../Datav2/exports/ndvi/89db8bb4-6e3b-4de7-b7d9-287c1a9032c0_ndvi_bw.tif (512, 512)\n",
      "Image download: ../Datav2/exports/tc/65e8fbe1-5300-4c90-9f48-0e7bfe55b1bc_tc.tif (512, 512)\n"
     ]
    },
    {
     "name": "stderr",
     "output_type": "stream",
     "text": [
      "\r",
      " 86%|████████████████████████████████████████████████████████████████████████████████████████▉              | 1279/1482 [1:28:49<18:22,  5.43s/it]"
     ]
    },
    {
     "name": "stdout",
     "output_type": "stream",
     "text": [
      "Image download: ../Datav2/exports/ndvi/65e8fbe1-5300-4c90-9f48-0e7bfe55b1bc_ndvi_bw.tif (512, 512)\n",
      "Image download: ../Datav2/exports/tc/bc3e7037-5022-4e6a-8a1f-925c7e9aafc8_tc.tif (512, 512)\n"
     ]
    },
    {
     "name": "stderr",
     "output_type": "stream",
     "text": [
      "\r",
      " 86%|████████████████████████████████████████████████████████████████████████████████████████▉              | 1280/1482 [1:28:53<17:01,  5.06s/it]"
     ]
    },
    {
     "name": "stdout",
     "output_type": "stream",
     "text": [
      "Image download: ../Datav2/exports/ndvi/bc3e7037-5022-4e6a-8a1f-925c7e9aafc8_ndvi_bw.tif (512, 512)\n",
      "Image download: ../Datav2/exports/tc/65330473-c21f-446b-a6f4-7bd76bf0ebdc_tc.tif (512, 512)\n"
     ]
    },
    {
     "name": "stderr",
     "output_type": "stream",
     "text": [
      "\r",
      " 86%|█████████████████████████████████████████████████████████████████████████████████████████              | 1281/1482 [1:28:59<17:24,  5.20s/it]"
     ]
    },
    {
     "name": "stdout",
     "output_type": "stream",
     "text": [
      "Image download: ../Datav2/exports/ndvi/65330473-c21f-446b-a6f4-7bd76bf0ebdc_ndvi_bw.tif (512, 512)\n",
      "Image download: ../Datav2/exports/tc/0f965f2f-3977-4ba5-bf7c-29feef27ee82_tc.tif (512, 512)\n"
     ]
    },
    {
     "name": "stderr",
     "output_type": "stream",
     "text": [
      "\r",
      " 87%|█████████████████████████████████████████████████████████████████████████████████████████              | 1282/1482 [1:29:04<17:27,  5.24s/it]"
     ]
    },
    {
     "name": "stdout",
     "output_type": "stream",
     "text": [
      "Image download: ../Datav2/exports/ndvi/0f965f2f-3977-4ba5-bf7c-29feef27ee82_ndvi_bw.tif (512, 512)\n",
      "Image download: ../Datav2/exports/tc/2d3b577c-7b58-4ee3-9e21-cbec5abd8ce4_tc.tif (512, 512)\n"
     ]
    },
    {
     "name": "stderr",
     "output_type": "stream",
     "text": [
      "\r",
      " 87%|█████████████████████████████████████████████████████████████████████████████████████████▏             | 1283/1482 [1:29:09<16:38,  5.02s/it]"
     ]
    },
    {
     "name": "stdout",
     "output_type": "stream",
     "text": [
      "Image download: ../Datav2/exports/ndvi/2d3b577c-7b58-4ee3-9e21-cbec5abd8ce4_ndvi_bw.tif (512, 512)\n",
      "Image download: ../Datav2/exports/tc/6be8378d-9a89-40a3-bc66-4fc0ab22ebc2_tc.tif (512, 512)\n"
     ]
    },
    {
     "name": "stderr",
     "output_type": "stream",
     "text": [
      "\r",
      " 87%|█████████████████████████████████████████████████████████████████████████████████████████▏             | 1284/1482 [1:29:15<18:00,  5.45s/it]"
     ]
    },
    {
     "name": "stdout",
     "output_type": "stream",
     "text": [
      "Image download: ../Datav2/exports/ndvi/6be8378d-9a89-40a3-bc66-4fc0ab22ebc2_ndvi_bw.tif (512, 512)\n",
      "Image download: ../Datav2/exports/tc/1fd11e53-a132-4b89-bc8f-f7061f685ad3_tc.tif (512, 512)\n"
     ]
    },
    {
     "name": "stderr",
     "output_type": "stream",
     "text": [
      "\r",
      " 87%|█████████████████████████████████████████████████████████████████████████████████████████▎             | 1285/1482 [1:29:20<17:39,  5.38s/it]"
     ]
    },
    {
     "name": "stdout",
     "output_type": "stream",
     "text": [
      "Image download: ../Datav2/exports/ndvi/1fd11e53-a132-4b89-bc8f-f7061f685ad3_ndvi_bw.tif (512, 512)\n",
      "Image download: ../Datav2/exports/tc/f32eaf92-82dc-4c31-8a05-76c21845f078_tc.tif (512, 512)\n"
     ]
    },
    {
     "name": "stderr",
     "output_type": "stream",
     "text": [
      "\r",
      " 87%|█████████████████████████████████████████████████████████████████████████████████████████▍             | 1286/1482 [1:29:26<17:27,  5.35s/it]"
     ]
    },
    {
     "name": "stdout",
     "output_type": "stream",
     "text": [
      "Image download: ../Datav2/exports/ndvi/f32eaf92-82dc-4c31-8a05-76c21845f078_ndvi_bw.tif (512, 512)\n",
      "Image download: ../Datav2/exports/tc/6564081d-5ce7-4330-8ad7-2d1d976d778a_tc.tif (512, 512)\n"
     ]
    },
    {
     "name": "stderr",
     "output_type": "stream",
     "text": [
      "\r",
      " 87%|█████████████████████████████████████████████████████████████████████████████████████████▍             | 1287/1482 [1:29:31<17:26,  5.37s/it]"
     ]
    },
    {
     "name": "stdout",
     "output_type": "stream",
     "text": [
      "Image download: ../Datav2/exports/ndvi/6564081d-5ce7-4330-8ad7-2d1d976d778a_ndvi_bw.tif (512, 512)\n",
      "Image download: ../Datav2/exports/tc/8c46fde6-7a1c-482b-97cc-afff1bc5d27c_tc.tif (512, 512)\n"
     ]
    },
    {
     "name": "stderr",
     "output_type": "stream",
     "text": [
      "\r",
      " 87%|█████████████████████████████████████████████████████████████████████████████████████████▌             | 1288/1482 [1:29:36<17:08,  5.30s/it]"
     ]
    },
    {
     "name": "stdout",
     "output_type": "stream",
     "text": [
      "Image download: ../Datav2/exports/ndvi/8c46fde6-7a1c-482b-97cc-afff1bc5d27c_ndvi_bw.tif (512, 512)\n",
      "Image download: ../Datav2/exports/tc/6311a921-f8e9-45c1-b10d-fee8be8dae29_tc.tif (512, 512)\n"
     ]
    },
    {
     "name": "stderr",
     "output_type": "stream",
     "text": [
      "\r",
      " 87%|█████████████████████████████████████████████████████████████████████████████████████████▌             | 1289/1482 [1:29:41<16:52,  5.25s/it]"
     ]
    },
    {
     "name": "stdout",
     "output_type": "stream",
     "text": [
      "Image download: ../Datav2/exports/ndvi/6311a921-f8e9-45c1-b10d-fee8be8dae29_ndvi_bw.tif (512, 512)\n",
      "Image download: ../Datav2/exports/tc/3fc9ae75-8844-43a5-8330-6956cdb6e3a7_tc.tif (512, 512)\n"
     ]
    },
    {
     "name": "stderr",
     "output_type": "stream",
     "text": [
      "\r",
      " 87%|█████████████████████████████████████████████████████████████████████████████████████████▋             | 1290/1482 [1:29:46<16:22,  5.12s/it]"
     ]
    },
    {
     "name": "stdout",
     "output_type": "stream",
     "text": [
      "Image download: ../Datav2/exports/ndvi/3fc9ae75-8844-43a5-8330-6956cdb6e3a7_ndvi_bw.tif (512, 512)\n",
      "Image download: ../Datav2/exports/tc/ab6d9c8e-5fbb-4a0d-a206-30e83ab51877_tc.tif (512, 512)\n"
     ]
    },
    {
     "name": "stderr",
     "output_type": "stream",
     "text": [
      "\r",
      " 87%|█████████████████████████████████████████████████████████████████████████████████████████▋             | 1291/1482 [1:29:52<16:59,  5.34s/it]"
     ]
    },
    {
     "name": "stdout",
     "output_type": "stream",
     "text": [
      "Image download: ../Datav2/exports/ndvi/ab6d9c8e-5fbb-4a0d-a206-30e83ab51877_ndvi_bw.tif (512, 512)\n",
      "Image download: ../Datav2/exports/tc/777caabb-3850-4db2-ba02-2d95fda38db6_tc.tif (512, 512)\n"
     ]
    },
    {
     "name": "stderr",
     "output_type": "stream",
     "text": [
      "\r",
      " 87%|█████████████████████████████████████████████████████████████████████████████████████████▊             | 1292/1482 [1:29:57<16:09,  5.10s/it]"
     ]
    },
    {
     "name": "stdout",
     "output_type": "stream",
     "text": [
      "Image download: ../Datav2/exports/ndvi/777caabb-3850-4db2-ba02-2d95fda38db6_ndvi_bw.tif (512, 512)\n",
      "Image download: ../Datav2/exports/tc/3086ac2b-bbb3-4321-81e3-3cfdb9e571e9_tc.tif (512, 512)\n"
     ]
    },
    {
     "name": "stderr",
     "output_type": "stream",
     "text": [
      "\r",
      " 87%|█████████████████████████████████████████████████████████████████████████████████████████▊             | 1293/1482 [1:30:08<21:33,  6.85s/it]"
     ]
    },
    {
     "name": "stdout",
     "output_type": "stream",
     "text": [
      "Image download: ../Datav2/exports/ndvi/3086ac2b-bbb3-4321-81e3-3cfdb9e571e9_ndvi_bw.tif (512, 512)\n",
      "Image download: ../Datav2/exports/tc/c1574fd4-92ca-400f-84cb-b10f18ebb4bd_tc.tif (512, 512)\n"
     ]
    },
    {
     "name": "stderr",
     "output_type": "stream",
     "text": [
      "\r",
      " 87%|█████████████████████████████████████████████████████████████████████████████████████████▉             | 1294/1482 [1:30:13<20:09,  6.43s/it]"
     ]
    },
    {
     "name": "stdout",
     "output_type": "stream",
     "text": [
      "Image download: ../Datav2/exports/ndvi/c1574fd4-92ca-400f-84cb-b10f18ebb4bd_ndvi_bw.tif (512, 512)\n",
      "Image download: ../Datav2/exports/tc/0ab090de-1ec9-41db-b6cf-c7acd370626a_tc.tif (512, 512)\n"
     ]
    },
    {
     "name": "stderr",
     "output_type": "stream",
     "text": [
      "\r",
      " 87%|██████████████████████████████████████████████████████████████████████████████████████████             | 1295/1482 [1:30:22<22:43,  7.29s/it]"
     ]
    },
    {
     "name": "stdout",
     "output_type": "stream",
     "text": [
      "Image download: ../Datav2/exports/ndvi/0ab090de-1ec9-41db-b6cf-c7acd370626a_ndvi_bw.tif (512, 512)\n",
      "Image download: ../Datav2/exports/tc/a03c52ec-7366-43c5-965e-52e2b73df452_tc.tif (512, 512)\n"
     ]
    },
    {
     "name": "stderr",
     "output_type": "stream",
     "text": [
      "\r",
      " 87%|██████████████████████████████████████████████████████████████████████████████████████████             | 1296/1482 [1:30:28<20:58,  6.77s/it]"
     ]
    },
    {
     "name": "stdout",
     "output_type": "stream",
     "text": [
      "Image download: ../Datav2/exports/ndvi/a03c52ec-7366-43c5-965e-52e2b73df452_ndvi_bw.tif (512, 512)\n",
      "Image download: ../Datav2/exports/tc/42dab7c3-458f-4838-b70f-d5bb3d0f0b80_tc.tif (512, 512)\n"
     ]
    },
    {
     "name": "stderr",
     "output_type": "stream",
     "text": [
      "\r",
      " 88%|██████████████████████████████████████████████████████████████████████████████████████████▏            | 1297/1482 [1:30:32<18:53,  6.13s/it]"
     ]
    },
    {
     "name": "stdout",
     "output_type": "stream",
     "text": [
      "Image download: ../Datav2/exports/ndvi/42dab7c3-458f-4838-b70f-d5bb3d0f0b80_ndvi_bw.tif (512, 512)\n",
      "Image download: ../Datav2/exports/tc/f2629bc3-1c8c-4a97-95fa-7d08566dc246_tc.tif (512, 512)\n"
     ]
    },
    {
     "name": "stderr",
     "output_type": "stream",
     "text": [
      "\r",
      " 88%|██████████████████████████████████████████████████████████████████████████████████████████▏            | 1298/1482 [1:30:40<19:38,  6.40s/it]"
     ]
    },
    {
     "name": "stdout",
     "output_type": "stream",
     "text": [
      "Image download: ../Datav2/exports/ndvi/f2629bc3-1c8c-4a97-95fa-7d08566dc246_ndvi_bw.tif (512, 512)\n",
      "Image download: ../Datav2/exports/tc/72384606-035c-4d00-8887-84a9da7d0e57_tc.tif (512, 512)\n"
     ]
    },
    {
     "name": "stderr",
     "output_type": "stream",
     "text": [
      "\r",
      " 88%|██████████████████████████████████████████████████████████████████████████████████████████▎            | 1299/1482 [1:30:45<18:38,  6.11s/it]"
     ]
    },
    {
     "name": "stdout",
     "output_type": "stream",
     "text": [
      "Image download: ../Datav2/exports/ndvi/72384606-035c-4d00-8887-84a9da7d0e57_ndvi_bw.tif (512, 512)\n",
      "Image download: ../Datav2/exports/tc/12528e0f-03e0-4598-8df0-e3017fa7382a_tc.tif (512, 512)\n"
     ]
    },
    {
     "name": "stderr",
     "output_type": "stream",
     "text": [
      "\r",
      " 88%|██████████████████████████████████████████████████████████████████████████████████████████▎            | 1300/1482 [1:30:49<17:05,  5.63s/it]"
     ]
    },
    {
     "name": "stdout",
     "output_type": "stream",
     "text": [
      "Image download: ../Datav2/exports/ndvi/12528e0f-03e0-4598-8df0-e3017fa7382a_ndvi_bw.tif (512, 512)\n",
      "Image download: ../Datav2/exports/tc/d5ebf295-49d5-4a6a-ae13-47a921355e19_tc.tif (512, 512)\n"
     ]
    },
    {
     "name": "stderr",
     "output_type": "stream",
     "text": [
      "\r",
      " 88%|██████████████████████████████████████████████████████████████████████████████████████████▍            | 1301/1482 [1:30:56<17:43,  5.88s/it]"
     ]
    },
    {
     "name": "stdout",
     "output_type": "stream",
     "text": [
      "Image download: ../Datav2/exports/ndvi/d5ebf295-49d5-4a6a-ae13-47a921355e19_ndvi_bw.tif (512, 512)\n",
      "Image download: ../Datav2/exports/tc/06fa2750-afea-4f88-b1c4-48b9bc21f4eb_tc.tif (512, 512)\n"
     ]
    },
    {
     "name": "stderr",
     "output_type": "stream",
     "text": [
      "\r",
      " 88%|██████████████████████████████████████████████████████████████████████████████████████████▍            | 1302/1482 [1:31:01<17:18,  5.77s/it]"
     ]
    },
    {
     "name": "stdout",
     "output_type": "stream",
     "text": [
      "Image download: ../Datav2/exports/ndvi/06fa2750-afea-4f88-b1c4-48b9bc21f4eb_ndvi_bw.tif (512, 512)\n",
      "Image download: ../Datav2/exports/tc/900997e0-f30a-48bf-9358-971ca2afa1d6_tc.tif (512, 512)\n"
     ]
    },
    {
     "name": "stderr",
     "output_type": "stream",
     "text": [
      "\r",
      " 88%|██████████████████████████████████████████████████████████████████████████████████████████▌            | 1303/1482 [1:31:06<16:08,  5.41s/it]"
     ]
    },
    {
     "name": "stdout",
     "output_type": "stream",
     "text": [
      "Image download: ../Datav2/exports/ndvi/900997e0-f30a-48bf-9358-971ca2afa1d6_ndvi_bw.tif (512, 512)\n",
      "Image download: ../Datav2/exports/tc/17596a7a-31fc-4270-8aaf-efe1df3ba848_tc.tif (512, 512)\n"
     ]
    },
    {
     "name": "stderr",
     "output_type": "stream",
     "text": [
      "\r",
      " 88%|██████████████████████████████████████████████████████████████████████████████████████████▋            | 1304/1482 [1:31:11<15:50,  5.34s/it]"
     ]
    },
    {
     "name": "stdout",
     "output_type": "stream",
     "text": [
      "Image download: ../Datav2/exports/ndvi/17596a7a-31fc-4270-8aaf-efe1df3ba848_ndvi_bw.tif (512, 512)\n",
      "Image download: ../Datav2/exports/tc/f8a2fd4a-286e-4688-8a5c-fa2ad98751ab_tc.tif (512, 512)\n"
     ]
    },
    {
     "name": "stderr",
     "output_type": "stream",
     "text": [
      "\r",
      " 88%|██████████████████████████████████████████████████████████████████████████████████████████▋            | 1305/1482 [1:31:18<17:08,  5.81s/it]"
     ]
    },
    {
     "name": "stdout",
     "output_type": "stream",
     "text": [
      "Image download: ../Datav2/exports/ndvi/f8a2fd4a-286e-4688-8a5c-fa2ad98751ab_ndvi_bw.tif (512, 512)\n",
      "Image download: ../Datav2/exports/tc/49dbe286-1cfe-4e03-a872-13185aae767a_tc.tif (512, 512)\n"
     ]
    },
    {
     "name": "stderr",
     "output_type": "stream",
     "text": [
      "\r",
      " 88%|██████████████████████████████████████████████████████████████████████████████████████████▊            | 1306/1482 [1:31:23<16:30,  5.63s/it]"
     ]
    },
    {
     "name": "stdout",
     "output_type": "stream",
     "text": [
      "Image download: ../Datav2/exports/ndvi/49dbe286-1cfe-4e03-a872-13185aae767a_ndvi_bw.tif (512, 512)\n",
      "Image download: ../Datav2/exports/tc/26676376-4e61-4d68-a28f-5fd8b4501acd_tc.tif (512, 512)\n"
     ]
    },
    {
     "name": "stderr",
     "output_type": "stream",
     "text": [
      "\r",
      " 88%|██████████████████████████████████████████████████████████████████████████████████████████▊            | 1307/1482 [1:31:28<15:44,  5.40s/it]"
     ]
    },
    {
     "name": "stdout",
     "output_type": "stream",
     "text": [
      "Image download: ../Datav2/exports/ndvi/26676376-4e61-4d68-a28f-5fd8b4501acd_ndvi_bw.tif (512, 512)\n",
      "Image download: ../Datav2/exports/tc/9e6b72f0-5f8a-41fe-a60d-40d7bc2f5637_tc.tif (512, 512)\n"
     ]
    },
    {
     "name": "stderr",
     "output_type": "stream",
     "text": [
      "\r",
      " 88%|██████████████████████████████████████████████████████████████████████████████████████████▉            | 1308/1482 [1:31:34<15:43,  5.42s/it]"
     ]
    },
    {
     "name": "stdout",
     "output_type": "stream",
     "text": [
      "Image download: ../Datav2/exports/ndvi/9e6b72f0-5f8a-41fe-a60d-40d7bc2f5637_ndvi_bw.tif (512, 512)\n",
      "Image download: ../Datav2/exports/tc/7955a367-99da-4047-9f69-cc60ad3208e6_tc.tif (512, 512)\n"
     ]
    },
    {
     "name": "stderr",
     "output_type": "stream",
     "text": [
      "\r",
      " 88%|██████████████████████████████████████████████████████████████████████████████████████████▉            | 1309/1482 [1:31:39<15:17,  5.30s/it]"
     ]
    },
    {
     "name": "stdout",
     "output_type": "stream",
     "text": [
      "Image download: ../Datav2/exports/ndvi/7955a367-99da-4047-9f69-cc60ad3208e6_ndvi_bw.tif (512, 512)\n",
      "Image download: ../Datav2/exports/tc/f0577ec6-5504-4460-83ce-d9bd91624e0a_tc.tif (512, 512)\n"
     ]
    },
    {
     "name": "stderr",
     "output_type": "stream",
     "text": [
      "\r",
      " 88%|███████████████████████████████████████████████████████████████████████████████████████████            | 1310/1482 [1:31:43<14:45,  5.15s/it]"
     ]
    },
    {
     "name": "stdout",
     "output_type": "stream",
     "text": [
      "Image download: ../Datav2/exports/ndvi/f0577ec6-5504-4460-83ce-d9bd91624e0a_ndvi_bw.tif (512, 512)\n",
      "Image download: ../Datav2/exports/tc/a8c2bf1e-bb0f-4eec-a435-36d7723dfda6_tc.tif (512, 512)\n"
     ]
    },
    {
     "name": "stderr",
     "output_type": "stream",
     "text": [
      "\r",
      " 88%|███████████████████████████████████████████████████████████████████████████████████████████            | 1311/1482 [1:31:48<14:02,  4.93s/it]"
     ]
    },
    {
     "name": "stdout",
     "output_type": "stream",
     "text": [
      "Image download: ../Datav2/exports/ndvi/a8c2bf1e-bb0f-4eec-a435-36d7723dfda6_ndvi_bw.tif (512, 512)\n",
      "Image download: ../Datav2/exports/tc/63b69be6-bd39-4bb4-aee1-7b59dbf7c360_tc.tif (512, 512)\n"
     ]
    },
    {
     "name": "stderr",
     "output_type": "stream",
     "text": [
      "\r",
      " 89%|███████████████████████████████████████████████████████████████████████████████████████████▏           | 1312/1482 [1:31:53<13:49,  4.88s/it]"
     ]
    },
    {
     "name": "stdout",
     "output_type": "stream",
     "text": [
      "Image download: ../Datav2/exports/ndvi/63b69be6-bd39-4bb4-aee1-7b59dbf7c360_ndvi_bw.tif (512, 512)\n",
      "Image download: ../Datav2/exports/tc/4ba68199-b45d-49da-91e8-bee9921b621b_tc.tif (512, 512)\n"
     ]
    },
    {
     "name": "stderr",
     "output_type": "stream",
     "text": [
      "\r",
      " 89%|███████████████████████████████████████████████████████████████████████████████████████████▎           | 1313/1482 [1:31:58<13:52,  4.92s/it]"
     ]
    },
    {
     "name": "stdout",
     "output_type": "stream",
     "text": [
      "Image download: ../Datav2/exports/ndvi/4ba68199-b45d-49da-91e8-bee9921b621b_ndvi_bw.tif (512, 512)\n",
      "Image download: ../Datav2/exports/tc/ee681e0b-54a3-48ad-900c-8037eeb88159_tc.tif (512, 512)\n"
     ]
    },
    {
     "name": "stderr",
     "output_type": "stream",
     "text": [
      "\r",
      " 89%|███████████████████████████████████████████████████████████████████████████████████████████▎           | 1314/1482 [1:32:02<13:13,  4.72s/it]"
     ]
    },
    {
     "name": "stdout",
     "output_type": "stream",
     "text": [
      "Image download: ../Datav2/exports/ndvi/ee681e0b-54a3-48ad-900c-8037eeb88159_ndvi_bw.tif (512, 512)\n",
      "Image download: ../Datav2/exports/tc/5edb4ec4-615c-45fb-a236-9a4225eedaff_tc.tif (512, 512)\n"
     ]
    },
    {
     "name": "stderr",
     "output_type": "stream",
     "text": [
      "\r",
      " 89%|███████████████████████████████████████████████████████████████████████████████████████████▍           | 1315/1482 [1:32:07<13:30,  4.85s/it]"
     ]
    },
    {
     "name": "stdout",
     "output_type": "stream",
     "text": [
      "Image download: ../Datav2/exports/ndvi/5edb4ec4-615c-45fb-a236-9a4225eedaff_ndvi_bw.tif (512, 512)\n",
      "Image download: ../Datav2/exports/tc/d79e71f2-d827-465d-95a8-d80b6e54456e_tc.tif (512, 512)\n"
     ]
    },
    {
     "name": "stderr",
     "output_type": "stream",
     "text": [
      "\r",
      " 89%|███████████████████████████████████████████████████████████████████████████████████████████▍           | 1316/1482 [1:32:12<13:05,  4.73s/it]"
     ]
    },
    {
     "name": "stdout",
     "output_type": "stream",
     "text": [
      "Image download: ../Datav2/exports/ndvi/d79e71f2-d827-465d-95a8-d80b6e54456e_ndvi_bw.tif (512, 512)\n",
      "Image download: ../Datav2/exports/tc/2939928b-0308-4d76-b232-246f064ddd11_tc.tif (512, 512)\n"
     ]
    },
    {
     "name": "stderr",
     "output_type": "stream",
     "text": [
      "\r",
      " 89%|███████████████████████████████████████████████████████████████████████████████████████████▌           | 1317/1482 [1:32:18<14:07,  5.14s/it]"
     ]
    },
    {
     "name": "stdout",
     "output_type": "stream",
     "text": [
      "Image download: ../Datav2/exports/ndvi/2939928b-0308-4d76-b232-246f064ddd11_ndvi_bw.tif (512, 512)\n",
      "Image download: ../Datav2/exports/tc/5a633180-7b70-4fb6-b859-b5826775b5fc_tc.tif (512, 512)\n"
     ]
    },
    {
     "name": "stderr",
     "output_type": "stream",
     "text": [
      "\r",
      " 89%|███████████████████████████████████████████████████████████████████████████████████████████▌           | 1318/1482 [1:32:23<13:56,  5.10s/it]"
     ]
    },
    {
     "name": "stdout",
     "output_type": "stream",
     "text": [
      "Image download: ../Datav2/exports/ndvi/5a633180-7b70-4fb6-b859-b5826775b5fc_ndvi_bw.tif (512, 512)\n",
      "Image download: ../Datav2/exports/tc/bc2edb86-fb4b-4dba-a9e0-5339f27d9bce_tc.tif (512, 512)\n"
     ]
    },
    {
     "name": "stderr",
     "output_type": "stream",
     "text": [
      "\r",
      " 89%|███████████████████████████████████████████████████████████████████████████████████████████▋           | 1319/1482 [1:32:28<13:54,  5.12s/it]"
     ]
    },
    {
     "name": "stdout",
     "output_type": "stream",
     "text": [
      "Image download: ../Datav2/exports/ndvi/bc2edb86-fb4b-4dba-a9e0-5339f27d9bce_ndvi_bw.tif (512, 512)\n",
      "Image download: ../Datav2/exports/tc/540b19a4-b84c-4d9c-9cb3-746b53a094b7_tc.tif (512, 512)\n"
     ]
    },
    {
     "name": "stderr",
     "output_type": "stream",
     "text": [
      "\r",
      " 89%|███████████████████████████████████████████████████████████████████████████████████████████▋           | 1320/1482 [1:32:32<13:11,  4.89s/it]"
     ]
    },
    {
     "name": "stdout",
     "output_type": "stream",
     "text": [
      "Image download: ../Datav2/exports/ndvi/540b19a4-b84c-4d9c-9cb3-746b53a094b7_ndvi_bw.tif (512, 512)\n",
      "Image download: ../Datav2/exports/tc/233708cc-ed2d-4b85-ba8c-60cf71c912c8_tc.tif (512, 512)\n"
     ]
    },
    {
     "name": "stderr",
     "output_type": "stream",
     "text": [
      "\r",
      " 89%|███████████████████████████████████████████████████████████████████████████████████████████▊           | 1321/1482 [1:32:36<12:36,  4.70s/it]"
     ]
    },
    {
     "name": "stdout",
     "output_type": "stream",
     "text": [
      "Image download: ../Datav2/exports/ndvi/233708cc-ed2d-4b85-ba8c-60cf71c912c8_ndvi_bw.tif (512, 512)\n",
      "Image download: ../Datav2/exports/tc/6ac64fee-1420-420c-bff1-1d4908b059be_tc.tif (512, 512)\n"
     ]
    },
    {
     "name": "stderr",
     "output_type": "stream",
     "text": [
      "\r",
      " 89%|███████████████████████████████████████████████████████████████████████████████████████████▉           | 1322/1482 [1:32:43<13:54,  5.21s/it]"
     ]
    },
    {
     "name": "stdout",
     "output_type": "stream",
     "text": [
      "Image download: ../Datav2/exports/ndvi/6ac64fee-1420-420c-bff1-1d4908b059be_ndvi_bw.tif (512, 512)\n",
      "Image download: ../Datav2/exports/tc/1f0d1a35-bf41-45d8-b3b8-26cca8d2d83e_tc.tif (512, 512)\n"
     ]
    },
    {
     "name": "stderr",
     "output_type": "stream",
     "text": [
      "\r",
      " 89%|███████████████████████████████████████████████████████████████████████████████████████████▉           | 1323/1482 [1:32:50<15:30,  5.85s/it]"
     ]
    },
    {
     "name": "stdout",
     "output_type": "stream",
     "text": [
      "Image download: ../Datav2/exports/ndvi/1f0d1a35-bf41-45d8-b3b8-26cca8d2d83e_ndvi_bw.tif (512, 512)\n",
      "Image download: ../Datav2/exports/tc/ca65fae0-e6d7-4600-890c-62da03753131_tc.tif (512, 512)\n"
     ]
    },
    {
     "name": "stderr",
     "output_type": "stream",
     "text": [
      "\r",
      " 89%|████████████████████████████████████████████████████████████████████████████████████████████           | 1324/1482 [1:32:55<14:29,  5.50s/it]"
     ]
    },
    {
     "name": "stdout",
     "output_type": "stream",
     "text": [
      "Image download: ../Datav2/exports/ndvi/ca65fae0-e6d7-4600-890c-62da03753131_ndvi_bw.tif (512, 512)\n",
      "Image download: ../Datav2/exports/tc/12e44df4-d425-4f09-96b9-25256ffbdcb2_tc.tif (512, 512)\n"
     ]
    },
    {
     "name": "stderr",
     "output_type": "stream",
     "text": [
      "\r",
      " 89%|████████████████████████████████████████████████████████████████████████████████████████████           | 1325/1482 [1:33:00<14:24,  5.51s/it]"
     ]
    },
    {
     "name": "stdout",
     "output_type": "stream",
     "text": [
      "Image download: ../Datav2/exports/ndvi/12e44df4-d425-4f09-96b9-25256ffbdcb2_ndvi_bw.tif (512, 512)\n",
      "Image download: ../Datav2/exports/tc/a0d95805-48db-467e-8dd5-db761eb5ae74_tc.tif (512, 512)\n"
     ]
    },
    {
     "name": "stderr",
     "output_type": "stream",
     "text": [
      "\r",
      " 89%|████████████████████████████████████████████████████████████████████████████████████████████▏          | 1326/1482 [1:33:05<13:51,  5.33s/it]"
     ]
    },
    {
     "name": "stdout",
     "output_type": "stream",
     "text": [
      "Image download: ../Datav2/exports/ndvi/a0d95805-48db-467e-8dd5-db761eb5ae74_ndvi_bw.tif (512, 512)\n",
      "Image download: ../Datav2/exports/tc/2f735b66-c275-4557-a8ad-0ff60e0552f3_tc.tif (512, 512)\n"
     ]
    },
    {
     "name": "stderr",
     "output_type": "stream",
     "text": [
      "\r",
      " 90%|████████████████████████████████████████████████████████████████████████████████████████████▏          | 1327/1482 [1:33:13<16:01,  6.20s/it]"
     ]
    },
    {
     "name": "stdout",
     "output_type": "stream",
     "text": [
      "Image download: ../Datav2/exports/ndvi/2f735b66-c275-4557-a8ad-0ff60e0552f3_ndvi_bw.tif (512, 512)\n",
      "Image download: ../Datav2/exports/tc/1f576988-2ad0-4a7b-afed-f650caafc579_tc.tif (512, 512)\n"
     ]
    },
    {
     "name": "stderr",
     "output_type": "stream",
     "text": [
      "\r",
      " 90%|████████████████████████████████████████████████████████████████████████████████████████████▎          | 1328/1482 [1:33:20<15:53,  6.19s/it]"
     ]
    },
    {
     "name": "stdout",
     "output_type": "stream",
     "text": [
      "Image download: ../Datav2/exports/ndvi/1f576988-2ad0-4a7b-afed-f650caafc579_ndvi_bw.tif (512, 512)\n",
      "Image download: ../Datav2/exports/tc/ed5e111d-e34a-42c0-9ce7-818270037c2c_tc.tif (512, 512)\n"
     ]
    },
    {
     "name": "stderr",
     "output_type": "stream",
     "text": [
      "\r",
      " 90%|████████████████████████████████████████████████████████████████████████████████████████████▎          | 1329/1482 [1:33:26<15:32,  6.10s/it]"
     ]
    },
    {
     "name": "stdout",
     "output_type": "stream",
     "text": [
      "Image download: ../Datav2/exports/ndvi/ed5e111d-e34a-42c0-9ce7-818270037c2c_ndvi_bw.tif (512, 512)\n",
      "Image download: ../Datav2/exports/tc/4433d477-a962-4ad9-a306-71f0f79fff65_tc.tif (512, 512)\n"
     ]
    },
    {
     "name": "stderr",
     "output_type": "stream",
     "text": [
      "\r",
      " 90%|████████████████████████████████████████████████████████████████████████████████████████████▍          | 1330/1482 [1:33:31<14:49,  5.85s/it]"
     ]
    },
    {
     "name": "stdout",
     "output_type": "stream",
     "text": [
      "Image download: ../Datav2/exports/ndvi/4433d477-a962-4ad9-a306-71f0f79fff65_ndvi_bw.tif (512, 512)\n",
      "Image download: ../Datav2/exports/tc/0f3326bd-4a0f-4351-b978-38eb29f4d490_tc.tif (512, 512)\n"
     ]
    },
    {
     "name": "stderr",
     "output_type": "stream",
     "text": [
      "\r",
      " 90%|████████████████████████████████████████████████████████████████████████████████████████████▌          | 1331/1482 [1:33:37<14:58,  5.95s/it]"
     ]
    },
    {
     "name": "stdout",
     "output_type": "stream",
     "text": [
      "Image download: ../Datav2/exports/ndvi/0f3326bd-4a0f-4351-b978-38eb29f4d490_ndvi_bw.tif (512, 512)\n",
      "Image download: ../Datav2/exports/tc/fbe088d0-2a17-4d04-aac7-0e32ac8a1ef7_tc.tif (512, 512)\n"
     ]
    },
    {
     "name": "stderr",
     "output_type": "stream",
     "text": [
      "\r",
      " 90%|████████████████████████████████████████████████████████████████████████████████████████████▌          | 1332/1482 [1:33:43<14:50,  5.93s/it]"
     ]
    },
    {
     "name": "stdout",
     "output_type": "stream",
     "text": [
      "Image download: ../Datav2/exports/ndvi/fbe088d0-2a17-4d04-aac7-0e32ac8a1ef7_ndvi_bw.tif (512, 512)\n",
      "Image download: ../Datav2/exports/tc/0089d3c4-c554-46e1-8eb9-af95e4dfae0c_tc.tif (512, 512)\n"
     ]
    },
    {
     "name": "stderr",
     "output_type": "stream",
     "text": [
      "\r",
      " 90%|████████████████████████████████████████████████████████████████████████████████████████████▋          | 1333/1482 [1:33:47<13:35,  5.47s/it]"
     ]
    },
    {
     "name": "stdout",
     "output_type": "stream",
     "text": [
      "Image download: ../Datav2/exports/ndvi/0089d3c4-c554-46e1-8eb9-af95e4dfae0c_ndvi_bw.tif (512, 512)\n",
      "Image download: ../Datav2/exports/tc/e338f506-b9fa-44c0-ae64-324ed0e590d4_tc.tif (512, 512)\n"
     ]
    },
    {
     "name": "stderr",
     "output_type": "stream",
     "text": [
      "\r",
      " 90%|████████████████████████████████████████████████████████████████████████████████████████████▋          | 1334/1482 [1:33:52<13:05,  5.31s/it]"
     ]
    },
    {
     "name": "stdout",
     "output_type": "stream",
     "text": [
      "Image download: ../Datav2/exports/ndvi/e338f506-b9fa-44c0-ae64-324ed0e590d4_ndvi_bw.tif (512, 512)\n",
      "Image download: ../Datav2/exports/tc/5f7b19a6-5f22-49ac-bf0e-ecef96385d37_tc.tif (512, 512)\n"
     ]
    },
    {
     "name": "stderr",
     "output_type": "stream",
     "text": [
      "\r",
      " 90%|████████████████████████████████████████████████████████████████████████████████████████████▊          | 1335/1482 [1:33:58<13:28,  5.50s/it]"
     ]
    },
    {
     "name": "stdout",
     "output_type": "stream",
     "text": [
      "Image download: ../Datav2/exports/ndvi/5f7b19a6-5f22-49ac-bf0e-ecef96385d37_ndvi_bw.tif (512, 512)\n",
      "Image download: ../Datav2/exports/tc/9a9bc21f-36f5-4092-b98e-c0d584d198db_tc.tif (512, 512)\n"
     ]
    },
    {
     "name": "stderr",
     "output_type": "stream",
     "text": [
      "\r",
      " 90%|████████████████████████████████████████████████████████████████████████████████████████████▊          | 1336/1482 [1:34:03<13:01,  5.35s/it]"
     ]
    },
    {
     "name": "stdout",
     "output_type": "stream",
     "text": [
      "Image download: ../Datav2/exports/ndvi/9a9bc21f-36f5-4092-b98e-c0d584d198db_ndvi_bw.tif (512, 512)\n",
      "Image download: ../Datav2/exports/tc/280f9652-7843-4275-9016-b95296fbf571_tc.tif (512, 512)\n"
     ]
    },
    {
     "name": "stderr",
     "output_type": "stream",
     "text": [
      "\r",
      " 90%|████████████████████████████████████████████████████████████████████████████████████████████▉          | 1337/1482 [1:34:12<15:47,  6.54s/it]"
     ]
    },
    {
     "name": "stdout",
     "output_type": "stream",
     "text": [
      "Image download: ../Datav2/exports/ndvi/280f9652-7843-4275-9016-b95296fbf571_ndvi_bw.tif (512, 512)\n",
      "Image download: ../Datav2/exports/tc/3e020c0d-e35b-4e01-96b7-a3c8e40fd281_tc.tif (512, 512)\n"
     ]
    },
    {
     "name": "stderr",
     "output_type": "stream",
     "text": [
      "\r",
      " 90%|████████████████████████████████████████████████████████████████████████████████████████████▉          | 1338/1482 [1:34:20<16:44,  6.97s/it]"
     ]
    },
    {
     "name": "stdout",
     "output_type": "stream",
     "text": [
      "Image download: ../Datav2/exports/ndvi/3e020c0d-e35b-4e01-96b7-a3c8e40fd281_ndvi_bw.tif (512, 512)\n",
      "Image download: ../Datav2/exports/tc/94cdd032-ea04-4713-b54a-dc3476635684_tc.tif (512, 512)\n"
     ]
    },
    {
     "name": "stderr",
     "output_type": "stream",
     "text": [
      "\r",
      " 90%|█████████████████████████████████████████████████████████████████████████████████████████████          | 1339/1482 [1:34:27<16:18,  6.84s/it]"
     ]
    },
    {
     "name": "stdout",
     "output_type": "stream",
     "text": [
      "Image download: ../Datav2/exports/ndvi/94cdd032-ea04-4713-b54a-dc3476635684_ndvi_bw.tif (512, 512)\n",
      "Image download: ../Datav2/exports/tc/4affde91-31a9-4588-bf14-7201fc5c548b_tc.tif (512, 512)\n"
     ]
    },
    {
     "name": "stderr",
     "output_type": "stream",
     "text": [
      "\r",
      " 90%|█████████████████████████████████████████████████████████████████████████████████████████████▏         | 1340/1482 [1:34:32<14:36,  6.18s/it]"
     ]
    },
    {
     "name": "stdout",
     "output_type": "stream",
     "text": [
      "Image download: ../Datav2/exports/ndvi/4affde91-31a9-4588-bf14-7201fc5c548b_ndvi_bw.tif (512, 512)\n",
      "Image download: ../Datav2/exports/tc/e3d66b1b-3b3b-40a3-96ec-574c1a27cbe9_tc.tif (512, 512)\n"
     ]
    },
    {
     "name": "stderr",
     "output_type": "stream",
     "text": [
      "\r",
      " 90%|█████████████████████████████████████████████████████████████████████████████████████████████▏         | 1341/1482 [1:34:39<15:12,  6.47s/it]"
     ]
    },
    {
     "name": "stdout",
     "output_type": "stream",
     "text": [
      "Image download: ../Datav2/exports/ndvi/e3d66b1b-3b3b-40a3-96ec-574c1a27cbe9_ndvi_bw.tif (512, 512)\n",
      "Image download: ../Datav2/exports/tc/f044a406-06ab-457d-8a93-c52bb1930604_tc.tif (512, 512)\n"
     ]
    },
    {
     "name": "stderr",
     "output_type": "stream",
     "text": [
      "\r",
      " 91%|█████████████████████████████████████████████████████████████████████████████████████████████▎         | 1342/1482 [1:34:44<14:26,  6.19s/it]"
     ]
    },
    {
     "name": "stdout",
     "output_type": "stream",
     "text": [
      "Image download: ../Datav2/exports/ndvi/f044a406-06ab-457d-8a93-c52bb1930604_ndvi_bw.tif (512, 512)\n",
      "Image download: ../Datav2/exports/tc/073d3328-3d8c-459a-8ac8-5dc6095511ec_tc.tif (512, 512)\n"
     ]
    },
    {
     "name": "stderr",
     "output_type": "stream",
     "text": [
      "\r",
      " 91%|█████████████████████████████████████████████████████████████████████████████████████████████▎         | 1343/1482 [1:34:50<14:08,  6.11s/it]"
     ]
    },
    {
     "name": "stdout",
     "output_type": "stream",
     "text": [
      "Image download: ../Datav2/exports/ndvi/073d3328-3d8c-459a-8ac8-5dc6095511ec_ndvi_bw.tif (512, 512)\n",
      "Image download: ../Datav2/exports/tc/618ca03c-28fd-4d66-abf3-d065d72d8cb4_tc.tif (512, 512)\n"
     ]
    },
    {
     "name": "stderr",
     "output_type": "stream",
     "text": [
      "\r",
      " 91%|█████████████████████████████████████████████████████████████████████████████████████████████▍         | 1344/1482 [1:35:00<16:19,  7.09s/it]"
     ]
    },
    {
     "name": "stdout",
     "output_type": "stream",
     "text": [
      "Image download: ../Datav2/exports/ndvi/618ca03c-28fd-4d66-abf3-d065d72d8cb4_ndvi_bw.tif (512, 512)\n",
      "Image download: ../Datav2/exports/tc/c8f94c30-d0ee-450a-8501-30678aa37c0f_tc.tif (512, 512)\n"
     ]
    },
    {
     "name": "stderr",
     "output_type": "stream",
     "text": [
      "\r",
      " 91%|█████████████████████████████████████████████████████████████████████████████████████████████▍         | 1345/1482 [1:35:05<15:00,  6.58s/it]"
     ]
    },
    {
     "name": "stdout",
     "output_type": "stream",
     "text": [
      "Image download: ../Datav2/exports/ndvi/c8f94c30-d0ee-450a-8501-30678aa37c0f_ndvi_bw.tif (512, 512)\n",
      "Image download: ../Datav2/exports/tc/eb975e90-a689-40fc-8f44-b13c774de0e8_tc.tif (512, 512)\n"
     ]
    },
    {
     "name": "stderr",
     "output_type": "stream",
     "text": [
      "\r",
      " 91%|█████████████████████████████████████████████████████████████████████████████████████████████▌         | 1346/1482 [1:35:10<13:42,  6.05s/it]"
     ]
    },
    {
     "name": "stdout",
     "output_type": "stream",
     "text": [
      "Image download: ../Datav2/exports/ndvi/eb975e90-a689-40fc-8f44-b13c774de0e8_ndvi_bw.tif (512, 512)\n",
      "Image download: ../Datav2/exports/tc/ce97fe6d-a635-45f1-bc18-cdd1698673c2_tc.tif (512, 512)\n"
     ]
    },
    {
     "name": "stderr",
     "output_type": "stream",
     "text": [
      "\r",
      " 91%|█████████████████████████████████████████████████████████████████████████████████████████████▌         | 1347/1482 [1:35:15<13:03,  5.81s/it]"
     ]
    },
    {
     "name": "stdout",
     "output_type": "stream",
     "text": [
      "Image download: ../Datav2/exports/ndvi/ce97fe6d-a635-45f1-bc18-cdd1698673c2_ndvi_bw.tif (512, 512)\n",
      "Image download: ../Datav2/exports/tc/f2a78d1c-66be-40f8-a2d8-5756eb265162_tc.tif (512, 512)\n"
     ]
    },
    {
     "name": "stderr",
     "output_type": "stream",
     "text": [
      "\r",
      " 91%|█████████████████████████████████████████████████████████████████████████████████████████████▋         | 1348/1482 [1:35:26<16:25,  7.35s/it]"
     ]
    },
    {
     "name": "stdout",
     "output_type": "stream",
     "text": [
      "Image download: ../Datav2/exports/ndvi/f2a78d1c-66be-40f8-a2d8-5756eb265162_ndvi_bw.tif (512, 512)\n",
      "Image download: ../Datav2/exports/tc/22c3cb30-55b1-4fcd-9606-6a0dcedce4ef_tc.tif (512, 512)\n"
     ]
    },
    {
     "name": "stderr",
     "output_type": "stream",
     "text": [
      "\r",
      " 91%|█████████████████████████████████████████████████████████████████████████████████████████████▊         | 1349/1482 [1:35:30<14:21,  6.48s/it]"
     ]
    },
    {
     "name": "stdout",
     "output_type": "stream",
     "text": [
      "Image download: ../Datav2/exports/ndvi/22c3cb30-55b1-4fcd-9606-6a0dcedce4ef_ndvi_bw.tif (512, 512)\n",
      "Image download: ../Datav2/exports/tc/0deca389-4481-4d91-8765-40caba3ea31c_tc.tif (512, 512)\n"
     ]
    },
    {
     "name": "stderr",
     "output_type": "stream",
     "text": [
      "\r",
      " 91%|█████████████████████████████████████████████████████████████████████████████████████████████▊         | 1350/1482 [1:35:36<13:52,  6.31s/it]"
     ]
    },
    {
     "name": "stdout",
     "output_type": "stream",
     "text": [
      "Image download: ../Datav2/exports/ndvi/0deca389-4481-4d91-8765-40caba3ea31c_ndvi_bw.tif (512, 512)\n",
      "Image download: ../Datav2/exports/tc/2443f637-15d7-4cf9-a405-133cf1748300_tc.tif (512, 512)\n"
     ]
    },
    {
     "name": "stderr",
     "output_type": "stream",
     "text": [
      "\r",
      " 91%|█████████████████████████████████████████████████████████████████████████████████████████████▉         | 1351/1482 [1:35:45<15:31,  7.11s/it]"
     ]
    },
    {
     "name": "stdout",
     "output_type": "stream",
     "text": [
      "Image download: ../Datav2/exports/ndvi/2443f637-15d7-4cf9-a405-133cf1748300_ndvi_bw.tif (512, 512)\n",
      "Image download: ../Datav2/exports/tc/852f3058-ccaa-4877-8e8e-f5b8a9649936_tc.tif (512, 512)\n"
     ]
    },
    {
     "name": "stderr",
     "output_type": "stream",
     "text": [
      "\r",
      " 91%|█████████████████████████████████████████████████████████████████████████████████████████████▉         | 1352/1482 [1:36:09<25:54, 11.96s/it]"
     ]
    },
    {
     "name": "stdout",
     "output_type": "stream",
     "text": [
      "Image download: ../Datav2/exports/ndvi/852f3058-ccaa-4877-8e8e-f5b8a9649936_ndvi_bw.tif (512, 512)\n",
      "Image download: ../Datav2/exports/tc/e094035d-ac9c-4ea9-a23b-bb55321a64d6_tc.tif (512, 512)\n"
     ]
    },
    {
     "name": "stderr",
     "output_type": "stream",
     "text": [
      "\r",
      " 91%|██████████████████████████████████████████████████████████████████████████████████████████████         | 1353/1482 [1:36:13<21:07,  9.83s/it]"
     ]
    },
    {
     "name": "stdout",
     "output_type": "stream",
     "text": [
      "Image download: ../Datav2/exports/ndvi/e094035d-ac9c-4ea9-a23b-bb55321a64d6_ndvi_bw.tif (512, 512)\n",
      "Image download: ../Datav2/exports/tc/2760040b-e17b-430f-b581-a81694b450ac_tc.tif (512, 512)\n"
     ]
    },
    {
     "name": "stderr",
     "output_type": "stream",
     "text": [
      "\r",
      " 91%|██████████████████████████████████████████████████████████████████████████████████████████████         | 1354/1482 [1:36:19<18:13,  8.54s/it]"
     ]
    },
    {
     "name": "stdout",
     "output_type": "stream",
     "text": [
      "Image download: ../Datav2/exports/ndvi/2760040b-e17b-430f-b581-a81694b450ac_ndvi_bw.tif (512, 512)\n",
      "Image download: ../Datav2/exports/tc/74b94fe9-3524-40ce-ac18-ee637bf66f15_tc.tif (512, 512)\n"
     ]
    },
    {
     "name": "stderr",
     "output_type": "stream",
     "text": [
      "\r",
      " 91%|██████████████████████████████████████████████████████████████████████████████████████████████▏        | 1355/1482 [1:36:30<19:42,  9.31s/it]"
     ]
    },
    {
     "name": "stdout",
     "output_type": "stream",
     "text": [
      "Image download: ../Datav2/exports/ndvi/74b94fe9-3524-40ce-ac18-ee637bf66f15_ndvi_bw.tif (512, 512)\n",
      "Image download: ../Datav2/exports/tc/547b7d19-9b75-4c11-8b88-56adb6460a3c_tc.tif (512, 512)\n"
     ]
    },
    {
     "name": "stderr",
     "output_type": "stream",
     "text": [
      "\r",
      " 91%|██████████████████████████████████████████████████████████████████████████████████████████████▏        | 1356/1482 [1:36:36<17:30,  8.34s/it]"
     ]
    },
    {
     "name": "stdout",
     "output_type": "stream",
     "text": [
      "Image download: ../Datav2/exports/ndvi/547b7d19-9b75-4c11-8b88-56adb6460a3c_ndvi_bw.tif (512, 512)\n",
      "Image download: ../Datav2/exports/tc/d35fa87b-0f19-4dd8-8739-4bdbc92d1361_tc.tif (512, 512)\n"
     ]
    },
    {
     "name": "stderr",
     "output_type": "stream",
     "text": [
      "\r",
      " 92%|██████████████████████████████████████████████████████████████████████████████████████████████▎        | 1357/1482 [1:36:42<15:35,  7.48s/it]"
     ]
    },
    {
     "name": "stdout",
     "output_type": "stream",
     "text": [
      "Image download: ../Datav2/exports/ndvi/d35fa87b-0f19-4dd8-8739-4bdbc92d1361_ndvi_bw.tif (512, 512)\n",
      "Image download: ../Datav2/exports/tc/1bf3e829-5fb3-43d2-9179-6c337709df19_tc.tif (512, 512)\n"
     ]
    },
    {
     "name": "stderr",
     "output_type": "stream",
     "text": [
      "\r",
      " 92%|██████████████████████████████████████████████████████████████████████████████████████████████▍        | 1358/1482 [1:36:47<14:06,  6.83s/it]"
     ]
    },
    {
     "name": "stdout",
     "output_type": "stream",
     "text": [
      "Image download: ../Datav2/exports/ndvi/1bf3e829-5fb3-43d2-9179-6c337709df19_ndvi_bw.tif (512, 512)\n",
      "Image download: ../Datav2/exports/tc/46896a04-8502-403c-b362-e4adc9e7ad4d_tc.tif (512, 512)\n"
     ]
    },
    {
     "name": "stderr",
     "output_type": "stream",
     "text": [
      "\r",
      " 92%|██████████████████████████████████████████████████████████████████████████████████████████████▍        | 1359/1482 [1:36:52<13:05,  6.39s/it]"
     ]
    },
    {
     "name": "stdout",
     "output_type": "stream",
     "text": [
      "Image download: ../Datav2/exports/ndvi/46896a04-8502-403c-b362-e4adc9e7ad4d_ndvi_bw.tif (512, 512)\n",
      "Image download: ../Datav2/exports/tc/97c4d72f-c1e9-425e-9dcf-44150047af92_tc.tif (512, 512)\n"
     ]
    },
    {
     "name": "stderr",
     "output_type": "stream",
     "text": [
      "\r",
      " 92%|██████████████████████████████████████████████████████████████████████████████████████████████▌        | 1360/1482 [1:37:03<15:24,  7.58s/it]"
     ]
    },
    {
     "name": "stdout",
     "output_type": "stream",
     "text": [
      "Image download: ../Datav2/exports/ndvi/97c4d72f-c1e9-425e-9dcf-44150047af92_ndvi_bw.tif (512, 512)\n",
      "Image download: ../Datav2/exports/tc/2ce810c9-88f1-4efe-9254-8cbd339d2397_tc.tif (512, 512)\n"
     ]
    },
    {
     "name": "stderr",
     "output_type": "stream",
     "text": [
      "\r",
      " 92%|██████████████████████████████████████████████████████████████████████████████████████████████▌        | 1361/1482 [1:37:09<14:44,  7.31s/it]"
     ]
    },
    {
     "name": "stdout",
     "output_type": "stream",
     "text": [
      "Image download: ../Datav2/exports/ndvi/2ce810c9-88f1-4efe-9254-8cbd339d2397_ndvi_bw.tif (512, 512)\n",
      "Image download: ../Datav2/exports/tc/cb87a6f4-a560-41a5-81c0-1064d0c368b6_tc.tif (512, 512)\n"
     ]
    },
    {
     "name": "stderr",
     "output_type": "stream",
     "text": [
      "\r",
      " 92%|██████████████████████████████████████████████████████████████████████████████████████████████▋        | 1362/1482 [1:37:16<14:12,  7.11s/it]"
     ]
    },
    {
     "name": "stdout",
     "output_type": "stream",
     "text": [
      "Image download: ../Datav2/exports/ndvi/cb87a6f4-a560-41a5-81c0-1064d0c368b6_ndvi_bw.tif (512, 512)\n",
      "Image download: ../Datav2/exports/tc/19343958-2921-41d2-a3f8-501badcd0bee_tc.tif (512, 512)\n"
     ]
    },
    {
     "name": "stderr",
     "output_type": "stream",
     "text": [
      "\r",
      " 92%|██████████████████████████████████████████████████████████████████████████████████████████████▋        | 1363/1482 [1:37:22<13:19,  6.72s/it]"
     ]
    },
    {
     "name": "stdout",
     "output_type": "stream",
     "text": [
      "Image download: ../Datav2/exports/ndvi/19343958-2921-41d2-a3f8-501badcd0bee_ndvi_bw.tif (512, 512)\n",
      "Image download: ../Datav2/exports/tc/808c34bb-4e64-4eb5-9c3e-2a1e58195074_tc.tif (512, 512)\n"
     ]
    },
    {
     "name": "stderr",
     "output_type": "stream",
     "text": [
      "\r",
      " 92%|██████████████████████████████████████████████████████████████████████████████████████████████▊        | 1364/1482 [1:37:27<12:29,  6.35s/it]"
     ]
    },
    {
     "name": "stdout",
     "output_type": "stream",
     "text": [
      "Image download: ../Datav2/exports/ndvi/808c34bb-4e64-4eb5-9c3e-2a1e58195074_ndvi_bw.tif (512, 512)\n",
      "Image download: ../Datav2/exports/tc/808c34bb-4e64-4eb5-9c3e-2a1e58195074_tc.tif (512, 512)\n"
     ]
    },
    {
     "name": "stderr",
     "output_type": "stream",
     "text": [
      "\r",
      " 92%|██████████████████████████████████████████████████████████████████████████████████████████████▊        | 1365/1482 [1:37:30<10:29,  5.38s/it]"
     ]
    },
    {
     "name": "stdout",
     "output_type": "stream",
     "text": [
      "Image download: ../Datav2/exports/ndvi/808c34bb-4e64-4eb5-9c3e-2a1e58195074_ndvi_bw.tif (512, 512)\n",
      "Image download: ../Datav2/exports/tc/faf6064e-fc50-4289-8486-1235f20289d7_tc.tif (512, 512)\n"
     ]
    },
    {
     "name": "stderr",
     "output_type": "stream",
     "text": [
      "\r",
      " 92%|██████████████████████████████████████████████████████████████████████████████████████████████▉        | 1366/1482 [1:37:36<10:35,  5.48s/it]"
     ]
    },
    {
     "name": "stdout",
     "output_type": "stream",
     "text": [
      "Image download: ../Datav2/exports/ndvi/faf6064e-fc50-4289-8486-1235f20289d7_ndvi_bw.tif (512, 512)\n",
      "Image download: ../Datav2/exports/tc/4ee8f023-1c92-4266-bb79-d41fdb3a5826_tc.tif (512, 512)\n"
     ]
    },
    {
     "name": "stderr",
     "output_type": "stream",
     "text": [
      "\r",
      " 92%|███████████████████████████████████████████████████████████████████████████████████████████████        | 1367/1482 [1:37:42<10:57,  5.71s/it]"
     ]
    },
    {
     "name": "stdout",
     "output_type": "stream",
     "text": [
      "Image download: ../Datav2/exports/ndvi/4ee8f023-1c92-4266-bb79-d41fdb3a5826_ndvi_bw.tif (512, 512)\n",
      "Image download: ../Datav2/exports/tc/40ce99a7-fbca-4b41-b3bf-e2f863fdcc7e_tc.tif (512, 512)\n"
     ]
    },
    {
     "name": "stderr",
     "output_type": "stream",
     "text": [
      "\r",
      " 92%|███████████████████████████████████████████████████████████████████████████████████████████████        | 1368/1482 [1:37:50<11:53,  6.26s/it]"
     ]
    },
    {
     "name": "stdout",
     "output_type": "stream",
     "text": [
      "Image download: ../Datav2/exports/ndvi/40ce99a7-fbca-4b41-b3bf-e2f863fdcc7e_ndvi_bw.tif (512, 512)\n",
      "Image download: ../Datav2/exports/tc/8faaa845-634f-4f94-b25e-f5ae78703da6_tc.tif (512, 512)\n"
     ]
    },
    {
     "name": "stderr",
     "output_type": "stream",
     "text": [
      "\r",
      " 92%|███████████████████████████████████████████████████████████████████████████████████████████████▏       | 1369/1482 [1:38:06<17:08,  9.10s/it]"
     ]
    },
    {
     "name": "stdout",
     "output_type": "stream",
     "text": [
      "Image download: ../Datav2/exports/ndvi/8faaa845-634f-4f94-b25e-f5ae78703da6_ndvi_bw.tif (512, 512)\n",
      "Image download: ../Datav2/exports/tc/954bfbe7-424c-49e0-9611-23e9f7a475a2_tc.tif (512, 512)\n"
     ]
    },
    {
     "name": "stderr",
     "output_type": "stream",
     "text": [
      "\r",
      " 92%|███████████████████████████████████████████████████████████████████████████████████████████████▏       | 1370/1482 [1:38:11<14:38,  7.84s/it]"
     ]
    },
    {
     "name": "stdout",
     "output_type": "stream",
     "text": [
      "Image download: ../Datav2/exports/ndvi/954bfbe7-424c-49e0-9611-23e9f7a475a2_ndvi_bw.tif (512, 512)\n",
      "Image download: ../Datav2/exports/tc/1b6cdbc8-4ab9-49e9-b6ed-e38d55e263cc_tc.tif (512, 512)\n"
     ]
    },
    {
     "name": "stderr",
     "output_type": "stream",
     "text": [
      "\r",
      " 93%|███████████████████████████████████████████████████████████████████████████████████████████████▎       | 1371/1482 [1:38:17<13:46,  7.45s/it]"
     ]
    },
    {
     "name": "stdout",
     "output_type": "stream",
     "text": [
      "Image download: ../Datav2/exports/ndvi/1b6cdbc8-4ab9-49e9-b6ed-e38d55e263cc_ndvi_bw.tif (512, 512)\n",
      "Image download: ../Datav2/exports/tc/de9cacb4-0be2-47d1-8cf2-7a25aabacfae_tc.tif (512, 512)\n"
     ]
    },
    {
     "name": "stderr",
     "output_type": "stream",
     "text": [
      "\r",
      " 93%|███████████████████████████████████████████████████████████████████████████████████████████████▎       | 1372/1482 [1:38:24<13:08,  7.16s/it]"
     ]
    },
    {
     "name": "stdout",
     "output_type": "stream",
     "text": [
      "Image download: ../Datav2/exports/ndvi/de9cacb4-0be2-47d1-8cf2-7a25aabacfae_ndvi_bw.tif (512, 512)\n",
      "Image download: ../Datav2/exports/tc/ebdceb89-fa30-486a-94f8-3eff8eedbd67_tc.tif (512, 512)\n"
     ]
    },
    {
     "name": "stderr",
     "output_type": "stream",
     "text": [
      "\r",
      " 93%|███████████████████████████████████████████████████████████████████████████████████████████████▍       | 1373/1482 [1:38:29<12:14,  6.74s/it]"
     ]
    },
    {
     "name": "stdout",
     "output_type": "stream",
     "text": [
      "Image download: ../Datav2/exports/ndvi/ebdceb89-fa30-486a-94f8-3eff8eedbd67_ndvi_bw.tif (512, 512)\n",
      "Image download: ../Datav2/exports/tc/a5331bf6-d695-4309-a846-96808e41d757_tc.tif (512, 512)\n"
     ]
    },
    {
     "name": "stderr",
     "output_type": "stream",
     "text": [
      "\r",
      " 93%|███████████████████████████████████████████████████████████████████████████████████████████████▍       | 1374/1482 [1:38:34<11:08,  6.19s/it]"
     ]
    },
    {
     "name": "stdout",
     "output_type": "stream",
     "text": [
      "Image download: ../Datav2/exports/ndvi/a5331bf6-d695-4309-a846-96808e41d757_ndvi_bw.tif (512, 512)\n",
      "Image download: ../Datav2/exports/tc/89008310-149d-480f-946f-4ce5a2a71c3f_tc.tif (512, 512)\n"
     ]
    },
    {
     "name": "stderr",
     "output_type": "stream",
     "text": [
      "\r",
      " 93%|███████████████████████████████████████████████████████████████████████████████████████████████▌       | 1375/1482 [1:38:44<12:45,  7.16s/it]"
     ]
    },
    {
     "name": "stdout",
     "output_type": "stream",
     "text": [
      "Image download: ../Datav2/exports/ndvi/89008310-149d-480f-946f-4ce5a2a71c3f_ndvi_bw.tif (512, 512)\n",
      "Image download: ../Datav2/exports/tc/23f65de3-bf4d-4edf-a5eb-b21299195b0f_tc.tif (512, 512)\n"
     ]
    },
    {
     "name": "stderr",
     "output_type": "stream",
     "text": [
      "\r",
      " 93%|███████████████████████████████████████████████████████████████████████████████████████████████▋       | 1376/1482 [1:38:48<11:09,  6.32s/it]"
     ]
    },
    {
     "name": "stdout",
     "output_type": "stream",
     "text": [
      "Image download: ../Datav2/exports/ndvi/23f65de3-bf4d-4edf-a5eb-b21299195b0f_ndvi_bw.tif (512, 512)\n",
      "Image download: ../Datav2/exports/tc/3a48b649-8714-433d-9952-ff2bf9e8c90a_tc.tif (512, 512)\n"
     ]
    },
    {
     "name": "stderr",
     "output_type": "stream",
     "text": [
      "\r",
      " 93%|███████████████████████████████████████████████████████████████████████████████████████████████▋       | 1377/1482 [1:38:53<10:25,  5.96s/it]"
     ]
    },
    {
     "name": "stdout",
     "output_type": "stream",
     "text": [
      "Image download: ../Datav2/exports/ndvi/3a48b649-8714-433d-9952-ff2bf9e8c90a_ndvi_bw.tif (512, 512)\n",
      "Image download: ../Datav2/exports/tc/da7fa4d6-cbf3-4cf9-babf-1cc79aa2f536_tc.tif (512, 512)\n"
     ]
    },
    {
     "name": "stderr",
     "output_type": "stream",
     "text": [
      "\r",
      " 93%|███████████████████████████████████████████████████████████████████████████████████████████████▊       | 1378/1482 [1:38:59<10:10,  5.87s/it]"
     ]
    },
    {
     "name": "stdout",
     "output_type": "stream",
     "text": [
      "Image download: ../Datav2/exports/ndvi/da7fa4d6-cbf3-4cf9-babf-1cc79aa2f536_ndvi_bw.tif (512, 512)\n",
      "Image download: ../Datav2/exports/tc/f68808fb-a705-4083-a136-1a45c61c7f74_tc.tif (512, 512)\n"
     ]
    },
    {
     "name": "stderr",
     "output_type": "stream",
     "text": [
      "\r",
      " 93%|███████████████████████████████████████████████████████████████████████████████████████████████▊       | 1379/1482 [1:39:06<10:42,  6.24s/it]"
     ]
    },
    {
     "name": "stdout",
     "output_type": "stream",
     "text": [
      "Image download: ../Datav2/exports/ndvi/f68808fb-a705-4083-a136-1a45c61c7f74_ndvi_bw.tif (512, 512)\n",
      "Image download: ../Datav2/exports/tc/d8c705d2-2820-43d2-bee4-8335354bcab0_tc.tif (512, 512)\n"
     ]
    },
    {
     "name": "stderr",
     "output_type": "stream",
     "text": [
      "\r",
      " 93%|███████████████████████████████████████████████████████████████████████████████████████████████▉       | 1380/1482 [1:39:11<09:58,  5.87s/it]"
     ]
    },
    {
     "name": "stdout",
     "output_type": "stream",
     "text": [
      "Image download: ../Datav2/exports/ndvi/d8c705d2-2820-43d2-bee4-8335354bcab0_ndvi_bw.tif (512, 512)\n",
      "Image download: ../Datav2/exports/tc/791059a2-b50f-4ab0-924a-bfdac001e4b9_tc.tif (512, 512)\n"
     ]
    },
    {
     "name": "stderr",
     "output_type": "stream",
     "text": [
      "\r",
      " 93%|███████████████████████████████████████████████████████████████████████████████████████████████▉       | 1381/1482 [1:39:19<11:10,  6.64s/it]"
     ]
    },
    {
     "name": "stdout",
     "output_type": "stream",
     "text": [
      "Image download: ../Datav2/exports/ndvi/791059a2-b50f-4ab0-924a-bfdac001e4b9_ndvi_bw.tif (512, 512)\n",
      "Image download: ../Datav2/exports/tc/14ad161c-bfc6-41ae-af84-a464084a4142_tc.tif (512, 512)\n"
     ]
    },
    {
     "name": "stderr",
     "output_type": "stream",
     "text": [
      "\r",
      " 93%|████████████████████████████████████████████████████████████████████████████████████████████████       | 1382/1482 [1:39:29<12:30,  7.50s/it]"
     ]
    },
    {
     "name": "stdout",
     "output_type": "stream",
     "text": [
      "Image download: ../Datav2/exports/ndvi/14ad161c-bfc6-41ae-af84-a464084a4142_ndvi_bw.tif (512, 512)\n",
      "Image download: ../Datav2/exports/tc/3d4c2809-cd37-4f07-b86e-68dcd52c7434_tc.tif (512, 512)\n"
     ]
    },
    {
     "name": "stderr",
     "output_type": "stream",
     "text": [
      "\r",
      " 93%|████████████████████████████████████████████████████████████████████████████████████████████████       | 1383/1482 [1:39:36<12:01,  7.28s/it]"
     ]
    },
    {
     "name": "stdout",
     "output_type": "stream",
     "text": [
      "Image download: ../Datav2/exports/ndvi/3d4c2809-cd37-4f07-b86e-68dcd52c7434_ndvi_bw.tif (512, 512)\n",
      "Image download: ../Datav2/exports/tc/38d46a2f-d1f6-4ed8-a502-e57e393844ea_tc.tif (512, 512)\n"
     ]
    },
    {
     "name": "stderr",
     "output_type": "stream",
     "text": [
      "\r",
      " 93%|████████████████████████████████████████████████████████████████████████████████████████████████▏      | 1384/1482 [1:39:41<11:02,  6.76s/it]"
     ]
    },
    {
     "name": "stdout",
     "output_type": "stream",
     "text": [
      "Image download: ../Datav2/exports/ndvi/38d46a2f-d1f6-4ed8-a502-e57e393844ea_ndvi_bw.tif (512, 512)\n",
      "Image download: ../Datav2/exports/tc/226da8c8-26c0-49d7-b5ef-952cd969f918_tc.tif (512, 512)\n"
     ]
    },
    {
     "name": "stderr",
     "output_type": "stream",
     "text": [
      "\r",
      " 93%|████████████████████████████████████████████████████████████████████████████████████████████████▎      | 1385/1482 [1:39:47<10:13,  6.33s/it]"
     ]
    },
    {
     "name": "stdout",
     "output_type": "stream",
     "text": [
      "Image download: ../Datav2/exports/ndvi/226da8c8-26c0-49d7-b5ef-952cd969f918_ndvi_bw.tif (512, 512)\n",
      "Image download: ../Datav2/exports/tc/81977367-45ad-4962-92f3-ae30f22ef723_tc.tif (512, 512)\n"
     ]
    },
    {
     "name": "stderr",
     "output_type": "stream",
     "text": [
      "\r",
      " 94%|████████████████████████████████████████████████████████████████████████████████████████████████▎      | 1386/1482 [1:39:52<09:50,  6.15s/it]"
     ]
    },
    {
     "name": "stdout",
     "output_type": "stream",
     "text": [
      "Image download: ../Datav2/exports/ndvi/81977367-45ad-4962-92f3-ae30f22ef723_ndvi_bw.tif (512, 512)\n",
      "Image download: ../Datav2/exports/tc/c3b236b9-3a1d-481d-b1eb-b0aa77c5b462_tc.tif (512, 512)\n"
     ]
    },
    {
     "name": "stderr",
     "output_type": "stream",
     "text": [
      "\r",
      " 94%|████████████████████████████████████████████████████████████████████████████████████████████████▍      | 1387/1482 [1:39:58<09:42,  6.13s/it]"
     ]
    },
    {
     "name": "stdout",
     "output_type": "stream",
     "text": [
      "Image download: ../Datav2/exports/ndvi/c3b236b9-3a1d-481d-b1eb-b0aa77c5b462_ndvi_bw.tif (512, 512)\n",
      "Image download: ../Datav2/exports/tc/737ef617-abaa-44a1-9bbc-f46240468b8f_tc.tif (512, 512)\n"
     ]
    },
    {
     "name": "stderr",
     "output_type": "stream",
     "text": [
      "\r",
      " 94%|████████████████████████████████████████████████████████████████████████████████████████████████▍      | 1388/1482 [1:40:04<09:27,  6.03s/it]"
     ]
    },
    {
     "name": "stdout",
     "output_type": "stream",
     "text": [
      "Image download: ../Datav2/exports/ndvi/737ef617-abaa-44a1-9bbc-f46240468b8f_ndvi_bw.tif (512, 512)\n",
      "Image download: ../Datav2/exports/tc/e7ea56c5-4290-4406-b0a5-c9d1718e9700_tc.tif (512, 512)\n"
     ]
    },
    {
     "name": "stderr",
     "output_type": "stream",
     "text": [
      "\r",
      " 94%|████████████████████████████████████████████████████████████████████████████████████████████████▌      | 1389/1482 [1:40:10<09:28,  6.11s/it]"
     ]
    },
    {
     "name": "stdout",
     "output_type": "stream",
     "text": [
      "Image download: ../Datav2/exports/ndvi/e7ea56c5-4290-4406-b0a5-c9d1718e9700_ndvi_bw.tif (512, 512)\n",
      "Image download: ../Datav2/exports/tc/393edada-d2bf-4a33-94f2-2d2123357015_tc.tif (512, 512)\n"
     ]
    },
    {
     "name": "stderr",
     "output_type": "stream",
     "text": [
      "\r",
      " 94%|████████████████████████████████████████████████████████████████████████████████████████████████▌      | 1390/1482 [1:40:17<09:28,  6.18s/it]"
     ]
    },
    {
     "name": "stdout",
     "output_type": "stream",
     "text": [
      "Image download: ../Datav2/exports/ndvi/393edada-d2bf-4a33-94f2-2d2123357015_ndvi_bw.tif (512, 512)\n",
      "Image download: ../Datav2/exports/tc/2de3ab6b-60c5-4400-9bff-74c79ed7d553_tc.tif (512, 512)\n"
     ]
    },
    {
     "name": "stderr",
     "output_type": "stream",
     "text": [
      "\r",
      " 94%|████████████████████████████████████████████████████████████████████████████████████████████████▋      | 1391/1482 [1:40:22<08:49,  5.82s/it]"
     ]
    },
    {
     "name": "stdout",
     "output_type": "stream",
     "text": [
      "Image download: ../Datav2/exports/ndvi/2de3ab6b-60c5-4400-9bff-74c79ed7d553_ndvi_bw.tif (512, 512)\n",
      "Image download: ../Datav2/exports/tc/5c74d3fc-eaeb-4a75-9a07-5f8af961237b_tc.tif (512, 512)\n"
     ]
    },
    {
     "name": "stderr",
     "output_type": "stream",
     "text": [
      "\r",
      " 94%|████████████████████████████████████████████████████████████████████████████████████████████████▋      | 1392/1482 [1:40:26<08:12,  5.48s/it]"
     ]
    },
    {
     "name": "stdout",
     "output_type": "stream",
     "text": [
      "Image download: ../Datav2/exports/ndvi/5c74d3fc-eaeb-4a75-9a07-5f8af961237b_ndvi_bw.tif (512, 512)\n",
      "Image download: ../Datav2/exports/tc/69b0cca6-c0c6-4a96-8f61-07ebb0ff9dc7_tc.tif (512, 512)\n"
     ]
    },
    {
     "name": "stderr",
     "output_type": "stream",
     "text": [
      "\r",
      " 94%|████████████████████████████████████████████████████████████████████████████████████████████████▊      | 1393/1482 [1:40:32<08:16,  5.57s/it]"
     ]
    },
    {
     "name": "stdout",
     "output_type": "stream",
     "text": [
      "Image download: ../Datav2/exports/ndvi/69b0cca6-c0c6-4a96-8f61-07ebb0ff9dc7_ndvi_bw.tif (512, 512)\n",
      "Image download: ../Datav2/exports/tc/b24dc89c-632d-46a1-8984-2ce037e37834_tc.tif (512, 512)\n"
     ]
    },
    {
     "name": "stderr",
     "output_type": "stream",
     "text": [
      "\r",
      " 94%|████████████████████████████████████████████████████████████████████████████████████████████████▉      | 1394/1482 [1:40:37<07:54,  5.40s/it]"
     ]
    },
    {
     "name": "stdout",
     "output_type": "stream",
     "text": [
      "Image download: ../Datav2/exports/ndvi/b24dc89c-632d-46a1-8984-2ce037e37834_ndvi_bw.tif (512, 512)\n",
      "Image download: ../Datav2/exports/tc/25e65946-2e28-453b-bcb4-617b623be750_tc.tif (512, 512)\n"
     ]
    },
    {
     "name": "stderr",
     "output_type": "stream",
     "text": [
      "\r",
      " 94%|████████████████████████████████████████████████████████████████████████████████████████████████▉      | 1395/1482 [1:40:43<07:50,  5.41s/it]"
     ]
    },
    {
     "name": "stdout",
     "output_type": "stream",
     "text": [
      "Image download: ../Datav2/exports/ndvi/25e65946-2e28-453b-bcb4-617b623be750_ndvi_bw.tif (512, 512)\n",
      "Image download: ../Datav2/exports/tc/63a43984-64ce-40aa-bbc3-98330a46353f_tc.tif (512, 512)\n"
     ]
    },
    {
     "name": "stderr",
     "output_type": "stream",
     "text": [
      "\r",
      " 94%|█████████████████████████████████████████████████████████████████████████████████████████████████      | 1396/1482 [1:40:47<07:28,  5.22s/it]"
     ]
    },
    {
     "name": "stdout",
     "output_type": "stream",
     "text": [
      "Image download: ../Datav2/exports/ndvi/63a43984-64ce-40aa-bbc3-98330a46353f_ndvi_bw.tif (512, 512)\n",
      "Image download: ../Datav2/exports/tc/efba4d61-2027-4b05-8506-04d9858154ca_tc.tif (512, 512)\n"
     ]
    },
    {
     "name": "stderr",
     "output_type": "stream",
     "text": [
      "\r",
      " 94%|█████████████████████████████████████████████████████████████████████████████████████████████████      | 1397/1482 [1:40:52<07:10,  5.06s/it]"
     ]
    },
    {
     "name": "stdout",
     "output_type": "stream",
     "text": [
      "Image download: ../Datav2/exports/ndvi/efba4d61-2027-4b05-8506-04d9858154ca_ndvi_bw.tif (512, 512)\n",
      "Image download: ../Datav2/exports/tc/a14c1f49-8e49-4709-a21b-6c06471a1002_tc.tif (512, 512)\n"
     ]
    },
    {
     "name": "stderr",
     "output_type": "stream",
     "text": [
      "\r",
      " 94%|█████████████████████████████████████████████████████████████████████████████████████████████████▏     | 1398/1482 [1:40:57<07:10,  5.13s/it]"
     ]
    },
    {
     "name": "stdout",
     "output_type": "stream",
     "text": [
      "Image download: ../Datav2/exports/ndvi/a14c1f49-8e49-4709-a21b-6c06471a1002_ndvi_bw.tif (512, 512)\n",
      "Image download: ../Datav2/exports/tc/4cebaf5a-70a7-4262-864b-fb3fe3b1d84d_tc.tif (512, 512)\n"
     ]
    },
    {
     "name": "stderr",
     "output_type": "stream",
     "text": [
      "\r",
      " 94%|█████████████████████████████████████████████████████████████████████████████████████████████████▏     | 1399/1482 [1:41:04<07:54,  5.72s/it]"
     ]
    },
    {
     "name": "stdout",
     "output_type": "stream",
     "text": [
      "Image download: ../Datav2/exports/ndvi/4cebaf5a-70a7-4262-864b-fb3fe3b1d84d_ndvi_bw.tif (512, 512)\n",
      "Image download: ../Datav2/exports/tc/5a4639e4-0d1d-4cee-8215-0aa1d53a5160_tc.tif (512, 512)\n"
     ]
    },
    {
     "name": "stderr",
     "output_type": "stream",
     "text": [
      "\r",
      " 94%|█████████████████████████████████████████████████████████████████████████████████████████████████▎     | 1400/1482 [1:41:10<07:55,  5.80s/it]"
     ]
    },
    {
     "name": "stdout",
     "output_type": "stream",
     "text": [
      "Image download: ../Datav2/exports/ndvi/5a4639e4-0d1d-4cee-8215-0aa1d53a5160_ndvi_bw.tif (512, 512)\n",
      "Image download: ../Datav2/exports/tc/8f6c8f60-1daf-4c04-8507-dcc81656b8c5_tc.tif (512, 512)\n"
     ]
    },
    {
     "name": "stderr",
     "output_type": "stream",
     "text": [
      "\r",
      " 95%|█████████████████████████████████████████████████████████████████████████████████████████████████▎     | 1401/1482 [1:41:19<09:08,  6.77s/it]"
     ]
    },
    {
     "name": "stdout",
     "output_type": "stream",
     "text": [
      "Image download: ../Datav2/exports/ndvi/8f6c8f60-1daf-4c04-8507-dcc81656b8c5_ndvi_bw.tif (512, 512)\n",
      "Image download: ../Datav2/exports/tc/b277af3b-3785-44c1-bdfb-c5a5ba766d2b_tc.tif (512, 512)\n"
     ]
    },
    {
     "name": "stderr",
     "output_type": "stream",
     "text": [
      "\r",
      " 95%|█████████████████████████████████████████████████████████████████████████████████████████████████▍     | 1402/1482 [1:41:24<08:07,  6.09s/it]"
     ]
    },
    {
     "name": "stdout",
     "output_type": "stream",
     "text": [
      "Image download: ../Datav2/exports/ndvi/b277af3b-3785-44c1-bdfb-c5a5ba766d2b_ndvi_bw.tif (512, 512)\n",
      "Image download: ../Datav2/exports/tc/a8b79d35-dab7-4513-ac65-25fd99541662_tc.tif (512, 512)\n"
     ]
    },
    {
     "name": "stderr",
     "output_type": "stream",
     "text": [
      "\r",
      " 95%|█████████████████████████████████████████████████████████████████████████████████████████████████▌     | 1403/1482 [1:41:31<08:27,  6.43s/it]"
     ]
    },
    {
     "name": "stdout",
     "output_type": "stream",
     "text": [
      "Image download: ../Datav2/exports/ndvi/a8b79d35-dab7-4513-ac65-25fd99541662_ndvi_bw.tif (512, 512)\n",
      "Image download: ../Datav2/exports/tc/c9327432-b3d3-4ea1-b810-d339dc9e25c3_tc.tif (512, 512)\n"
     ]
    },
    {
     "name": "stderr",
     "output_type": "stream",
     "text": [
      "\r",
      " 95%|█████████████████████████████████████████████████████████████████████████████████████████████████▌     | 1404/1482 [1:41:42<10:04,  7.75s/it]"
     ]
    },
    {
     "name": "stdout",
     "output_type": "stream",
     "text": [
      "Image download: ../Datav2/exports/ndvi/c9327432-b3d3-4ea1-b810-d339dc9e25c3_ndvi_bw.tif (512, 512)\n",
      "Image download: ../Datav2/exports/tc/8b4a5b95-3f51-4038-a7ea-b5ed3c73c2e5_tc.tif (512, 512)\n"
     ]
    },
    {
     "name": "stderr",
     "output_type": "stream",
     "text": [
      "\r",
      " 95%|█████████████████████████████████████████████████████████████████████████████████████████████████▋     | 1405/1482 [1:41:47<08:49,  6.87s/it]"
     ]
    },
    {
     "name": "stdout",
     "output_type": "stream",
     "text": [
      "Image download: ../Datav2/exports/ndvi/8b4a5b95-3f51-4038-a7ea-b5ed3c73c2e5_ndvi_bw.tif (512, 512)\n",
      "Image download: ../Datav2/exports/tc/980c4c7d-dcc9-45b3-b5c1-181c1cd445e9_tc.tif (512, 512)\n"
     ]
    },
    {
     "name": "stderr",
     "output_type": "stream",
     "text": [
      "\r",
      " 95%|█████████████████████████████████████████████████████████████████████████████████████████████████▋     | 1406/1482 [1:41:53<08:25,  6.66s/it]"
     ]
    },
    {
     "name": "stdout",
     "output_type": "stream",
     "text": [
      "Image download: ../Datav2/exports/ndvi/980c4c7d-dcc9-45b3-b5c1-181c1cd445e9_ndvi_bw.tif (512, 512)\n",
      "Image download: ../Datav2/exports/tc/ebc468e3-c2ec-43ff-95e9-c319a7ec3d40_tc.tif (512, 512)\n"
     ]
    },
    {
     "name": "stderr",
     "output_type": "stream",
     "text": [
      "\r",
      " 95%|█████████████████████████████████████████████████████████████████████████████████████████████████▊     | 1407/1482 [1:41:58<07:48,  6.25s/it]"
     ]
    },
    {
     "name": "stdout",
     "output_type": "stream",
     "text": [
      "Image download: ../Datav2/exports/ndvi/ebc468e3-c2ec-43ff-95e9-c319a7ec3d40_ndvi_bw.tif (512, 512)\n",
      "Image download: ../Datav2/exports/tc/3934f762-ba99-471a-b1d9-dc064276c383_tc.tif (512, 512)\n"
     ]
    },
    {
     "name": "stderr",
     "output_type": "stream",
     "text": [
      "\r",
      " 95%|█████████████████████████████████████████████████████████████████████████████████████████████████▊     | 1408/1482 [1:42:06<08:09,  6.62s/it]"
     ]
    },
    {
     "name": "stdout",
     "output_type": "stream",
     "text": [
      "Image download: ../Datav2/exports/ndvi/3934f762-ba99-471a-b1d9-dc064276c383_ndvi_bw.tif (512, 512)\n",
      "Image download: ../Datav2/exports/tc/840010ca-aef0-4f91-b771-3bf196317d03_tc.tif (512, 512)\n"
     ]
    },
    {
     "name": "stderr",
     "output_type": "stream",
     "text": [
      "\r",
      " 95%|█████████████████████████████████████████████████████████████████████████████████████████████████▉     | 1409/1482 [1:42:12<07:45,  6.37s/it]"
     ]
    },
    {
     "name": "stdout",
     "output_type": "stream",
     "text": [
      "Image download: ../Datav2/exports/ndvi/840010ca-aef0-4f91-b771-3bf196317d03_ndvi_bw.tif (512, 512)\n",
      "Image download: ../Datav2/exports/tc/7b283f4f-c613-4840-aa90-1f6e9fa1573a_tc.tif (512, 512)\n"
     ]
    },
    {
     "name": "stderr",
     "output_type": "stream",
     "text": [
      "\r",
      " 95%|█████████████████████████████████████████████████████████████████████████████████████████████████▉     | 1410/1482 [1:42:16<06:55,  5.77s/it]"
     ]
    },
    {
     "name": "stdout",
     "output_type": "stream",
     "text": [
      "Image download: ../Datav2/exports/ndvi/7b283f4f-c613-4840-aa90-1f6e9fa1573a_ndvi_bw.tif (512, 512)\n",
      "Image download: ../Datav2/exports/tc/9fc12331-47f4-4d79-bffe-914f13658993_tc.tif (512, 512)\n"
     ]
    },
    {
     "name": "stderr",
     "output_type": "stream",
     "text": [
      "\r",
      " 95%|██████████████████████████████████████████████████████████████████████████████████████████████████     | 1411/1482 [1:42:21<06:40,  5.64s/it]"
     ]
    },
    {
     "name": "stdout",
     "output_type": "stream",
     "text": [
      "Image download: ../Datav2/exports/ndvi/9fc12331-47f4-4d79-bffe-914f13658993_ndvi_bw.tif (512, 512)\n",
      "Image download: ../Datav2/exports/tc/e7910549-a5ca-4712-bd04-349c49c1ba15_tc.tif (512, 512)\n"
     ]
    },
    {
     "name": "stderr",
     "output_type": "stream",
     "text": [
      "\r",
      " 95%|██████████████████████████████████████████████████████████████████████████████████████████████████▏    | 1412/1482 [1:42:29<07:22,  6.32s/it]"
     ]
    },
    {
     "name": "stdout",
     "output_type": "stream",
     "text": [
      "Image download: ../Datav2/exports/ndvi/e7910549-a5ca-4712-bd04-349c49c1ba15_ndvi_bw.tif (512, 512)\n",
      "Image download: ../Datav2/exports/tc/f24e0e23-63ee-4038-a04d-41fe70cac747_tc.tif (512, 512)\n"
     ]
    },
    {
     "name": "stderr",
     "output_type": "stream",
     "text": [
      "\r",
      " 95%|██████████████████████████████████████████████████████████████████████████████████████████████████▏    | 1413/1482 [1:42:36<07:25,  6.45s/it]"
     ]
    },
    {
     "name": "stdout",
     "output_type": "stream",
     "text": [
      "Image download: ../Datav2/exports/ndvi/f24e0e23-63ee-4038-a04d-41fe70cac747_ndvi_bw.tif (512, 512)\n",
      "Image download: ../Datav2/exports/tc/94cd8534-defa-4a82-b1be-42a2704c13d2_tc.tif (512, 512)\n"
     ]
    },
    {
     "name": "stderr",
     "output_type": "stream",
     "text": [
      "\r",
      " 95%|██████████████████████████████████████████████████████████████████████████████████████████████████▎    | 1414/1482 [1:42:46<08:30,  7.51s/it]"
     ]
    },
    {
     "name": "stdout",
     "output_type": "stream",
     "text": [
      "Image download: ../Datav2/exports/ndvi/94cd8534-defa-4a82-b1be-42a2704c13d2_ndvi_bw.tif (512, 512)\n",
      "Image download: ../Datav2/exports/tc/755df0b3-ad02-406b-af5d-738b67d8c755_tc.tif (512, 512)\n"
     ]
    },
    {
     "name": "stderr",
     "output_type": "stream",
     "text": [
      "\r",
      " 95%|██████████████████████████████████████████████████████████████████████████████████████████████████▎    | 1415/1482 [1:42:52<08:00,  7.17s/it]"
     ]
    },
    {
     "name": "stdout",
     "output_type": "stream",
     "text": [
      "Image download: ../Datav2/exports/ndvi/755df0b3-ad02-406b-af5d-738b67d8c755_ndvi_bw.tif (512, 512)\n",
      "Image download: ../Datav2/exports/tc/abdb011f-15d8-475b-b08e-4df583700411_tc.tif (512, 512)\n"
     ]
    },
    {
     "name": "stderr",
     "output_type": "stream",
     "text": [
      "\r",
      " 96%|██████████████████████████████████████████████████████████████████████████████████████████████████▍    | 1416/1482 [1:42:58<07:30,  6.83s/it]"
     ]
    },
    {
     "name": "stdout",
     "output_type": "stream",
     "text": [
      "Image download: ../Datav2/exports/ndvi/abdb011f-15d8-475b-b08e-4df583700411_ndvi_bw.tif (512, 512)\n",
      "Image download: ../Datav2/exports/tc/178b2af3-340c-409d-80e6-21ac119969f0_tc.tif (512, 512)\n"
     ]
    },
    {
     "name": "stderr",
     "output_type": "stream",
     "text": [
      "\r",
      " 96%|██████████████████████████████████████████████████████████████████████████████████████████████████▍    | 1417/1482 [1:43:03<06:39,  6.15s/it]"
     ]
    },
    {
     "name": "stdout",
     "output_type": "stream",
     "text": [
      "Image download: ../Datav2/exports/ndvi/178b2af3-340c-409d-80e6-21ac119969f0_ndvi_bw.tif (512, 512)\n",
      "Image download: ../Datav2/exports/tc/b8e5a940-0fb5-4c63-93ab-a855cfdc4e0c_tc.tif (512, 512)\n"
     ]
    },
    {
     "name": "stderr",
     "output_type": "stream",
     "text": [
      "\r",
      " 96%|██████████████████████████████████████████████████████████████████████████████████████████████████▌    | 1418/1482 [1:43:07<06:02,  5.66s/it]"
     ]
    },
    {
     "name": "stdout",
     "output_type": "stream",
     "text": [
      "Image download: ../Datav2/exports/ndvi/b8e5a940-0fb5-4c63-93ab-a855cfdc4e0c_ndvi_bw.tif (512, 512)\n",
      "Image download: ../Datav2/exports/tc/48f89096-4641-42cc-8ec4-9cba635e79a1_tc.tif (512, 512)\n"
     ]
    },
    {
     "name": "stderr",
     "output_type": "stream",
     "text": [
      "\r",
      " 96%|██████████████████████████████████████████████████████████████████████████████████████████████████▌    | 1419/1482 [1:43:13<05:48,  5.53s/it]"
     ]
    },
    {
     "name": "stdout",
     "output_type": "stream",
     "text": [
      "Image download: ../Datav2/exports/ndvi/48f89096-4641-42cc-8ec4-9cba635e79a1_ndvi_bw.tif (512, 512)\n",
      "Image download: ../Datav2/exports/tc/1e85b2a3-0d55-4c3a-9fbb-5208d615cccd_tc.tif (512, 512)\n"
     ]
    },
    {
     "name": "stderr",
     "output_type": "stream",
     "text": [
      "\r",
      " 96%|██████████████████████████████████████████████████████████████████████████████████████████████████▋    | 1420/1482 [1:43:19<05:55,  5.73s/it]"
     ]
    },
    {
     "name": "stdout",
     "output_type": "stream",
     "text": [
      "Image download: ../Datav2/exports/ndvi/1e85b2a3-0d55-4c3a-9fbb-5208d615cccd_ndvi_bw.tif (512, 512)\n",
      "Image download: ../Datav2/exports/tc/05b9432b-a5cf-4a8f-bf0e-9b95a04bbdde_tc.tif (512, 512)\n"
     ]
    },
    {
     "name": "stderr",
     "output_type": "stream",
     "text": [
      "\r",
      " 96%|██████████████████████████████████████████████████████████████████████████████████████████████████▊    | 1421/1482 [1:43:24<05:42,  5.61s/it]"
     ]
    },
    {
     "name": "stdout",
     "output_type": "stream",
     "text": [
      "Image download: ../Datav2/exports/ndvi/05b9432b-a5cf-4a8f-bf0e-9b95a04bbdde_ndvi_bw.tif (512, 512)\n",
      "Image download: ../Datav2/exports/tc/e2a0252b-2da9-4967-ba33-7abe3ced1efa_tc.tif (512, 512)\n"
     ]
    },
    {
     "name": "stderr",
     "output_type": "stream",
     "text": [
      "\r",
      " 96%|██████████████████████████████████████████████████████████████████████████████████████████████████▊    | 1422/1482 [1:43:32<06:10,  6.18s/it]"
     ]
    },
    {
     "name": "stdout",
     "output_type": "stream",
     "text": [
      "Image download: ../Datav2/exports/ndvi/e2a0252b-2da9-4967-ba33-7abe3ced1efa_ndvi_bw.tif (512, 512)\n",
      "Image download: ../Datav2/exports/tc/2e4017ba-5c18-4de6-8098-54b2a6caf5bd_tc.tif (512, 512)\n"
     ]
    },
    {
     "name": "stderr",
     "output_type": "stream",
     "text": [
      "\r",
      " 96%|██████████████████████████████████████████████████████████████████████████████████████████████████▉    | 1423/1482 [1:43:38<06:03,  6.15s/it]"
     ]
    },
    {
     "name": "stdout",
     "output_type": "stream",
     "text": [
      "Image download: ../Datav2/exports/ndvi/2e4017ba-5c18-4de6-8098-54b2a6caf5bd_ndvi_bw.tif (512, 512)\n",
      "Image download: ../Datav2/exports/tc/082bd2d3-457b-496b-a469-0d2550aac7ef_tc.tif (512, 512)\n"
     ]
    },
    {
     "name": "stderr",
     "output_type": "stream",
     "text": [
      "\r",
      " 96%|██████████████████████████████████████████████████████████████████████████████████████████████████▉    | 1424/1482 [1:43:43<05:46,  5.98s/it]"
     ]
    },
    {
     "name": "stdout",
     "output_type": "stream",
     "text": [
      "Image download: ../Datav2/exports/ndvi/082bd2d3-457b-496b-a469-0d2550aac7ef_ndvi_bw.tif (512, 512)\n",
      "Image download: ../Datav2/exports/tc/1dd6f339-956d-4ec5-bac5-713ba3cd53d4_tc.tif (512, 512)\n"
     ]
    },
    {
     "name": "stderr",
     "output_type": "stream",
     "text": [
      "\r",
      " 96%|███████████████████████████████████████████████████████████████████████████████████████████████████    | 1425/1482 [1:43:49<05:35,  5.89s/it]"
     ]
    },
    {
     "name": "stdout",
     "output_type": "stream",
     "text": [
      "Image download: ../Datav2/exports/ndvi/1dd6f339-956d-4ec5-bac5-713ba3cd53d4_ndvi_bw.tif (512, 512)\n",
      "Image download: ../Datav2/exports/tc/e7aeb204-15af-4a2a-8f2a-bfd2c8dbe411_tc.tif (512, 512)\n"
     ]
    },
    {
     "name": "stderr",
     "output_type": "stream",
     "text": [
      "\r",
      " 96%|███████████████████████████████████████████████████████████████████████████████████████████████████    | 1426/1482 [1:43:54<05:16,  5.66s/it]"
     ]
    },
    {
     "name": "stdout",
     "output_type": "stream",
     "text": [
      "Image download: ../Datav2/exports/ndvi/e7aeb204-15af-4a2a-8f2a-bfd2c8dbe411_ndvi_bw.tif (512, 512)\n",
      "Image download: ../Datav2/exports/tc/74c3d01f-8809-40bc-a0e2-b1cc24bf1a7d_tc.tif (512, 512)\n"
     ]
    },
    {
     "name": "stderr",
     "output_type": "stream",
     "text": [
      "\r",
      " 96%|███████████████████████████████████████████████████████████████████████████████████████████████████▏   | 1427/1482 [1:43:59<04:51,  5.30s/it]"
     ]
    },
    {
     "name": "stdout",
     "output_type": "stream",
     "text": [
      "Image download: ../Datav2/exports/ndvi/74c3d01f-8809-40bc-a0e2-b1cc24bf1a7d_ndvi_bw.tif (512, 512)\n",
      "Image download: ../Datav2/exports/tc/25e80e7d-5790-4192-9cf0-a190f36158f0_tc.tif (512, 512)\n"
     ]
    },
    {
     "name": "stderr",
     "output_type": "stream",
     "text": [
      "\r",
      " 96%|███████████████████████████████████████████████████████████████████████████████████████████████████▏   | 1428/1482 [1:44:04<04:40,  5.20s/it]"
     ]
    },
    {
     "name": "stdout",
     "output_type": "stream",
     "text": [
      "Image download: ../Datav2/exports/ndvi/25e80e7d-5790-4192-9cf0-a190f36158f0_ndvi_bw.tif (512, 512)\n",
      "Image download: ../Datav2/exports/tc/a4bd4cbb-53de-47c8-972f-cca4c36aaf74_tc.tif (512, 512)\n"
     ]
    },
    {
     "name": "stderr",
     "output_type": "stream",
     "text": [
      "\r",
      " 96%|███████████████████████████████████████████████████████████████████████████████████████████████████▎   | 1429/1482 [1:44:09<04:44,  5.37s/it]"
     ]
    },
    {
     "name": "stdout",
     "output_type": "stream",
     "text": [
      "Image download: ../Datav2/exports/ndvi/a4bd4cbb-53de-47c8-972f-cca4c36aaf74_ndvi_bw.tif (512, 512)\n",
      "Image download: ../Datav2/exports/tc/a87ab8be-3da9-4cb0-a72c-5125acc001ef_tc.tif (512, 512)\n"
     ]
    },
    {
     "name": "stderr",
     "output_type": "stream",
     "text": [
      "\r",
      " 96%|███████████████████████████████████████████████████████████████████████████████████████████████████▍   | 1430/1482 [1:44:15<04:46,  5.51s/it]"
     ]
    },
    {
     "name": "stdout",
     "output_type": "stream",
     "text": [
      "Image download: ../Datav2/exports/ndvi/a87ab8be-3da9-4cb0-a72c-5125acc001ef_ndvi_bw.tif (512, 512)\n",
      "Image download: ../Datav2/exports/tc/207f72f7-1453-40dc-919e-3551f7041b22_tc.tif (512, 512)\n"
     ]
    },
    {
     "name": "stderr",
     "output_type": "stream",
     "text": [
      "\r",
      " 97%|███████████████████████████████████████████████████████████████████████████████████████████████████▍   | 1431/1482 [1:44:22<05:00,  5.89s/it]"
     ]
    },
    {
     "name": "stdout",
     "output_type": "stream",
     "text": [
      "Image download: ../Datav2/exports/ndvi/207f72f7-1453-40dc-919e-3551f7041b22_ndvi_bw.tif (512, 512)\n",
      "Image download: ../Datav2/exports/tc/207f72f7-1453-40dc-919e-3551f7041b22_tc.tif (512, 512)\n"
     ]
    },
    {
     "name": "stderr",
     "output_type": "stream",
     "text": [
      "\r",
      " 97%|███████████████████████████████████████████████████████████████████████████████████████████████████▌   | 1432/1482 [1:44:25<04:13,  5.07s/it]"
     ]
    },
    {
     "name": "stdout",
     "output_type": "stream",
     "text": [
      "Image download: ../Datav2/exports/ndvi/207f72f7-1453-40dc-919e-3551f7041b22_ndvi_bw.tif (512, 512)\n",
      "Image download: ../Datav2/exports/tc/18fe1e24-799d-4aa9-a7ec-fa8e331ae3e9_tc.tif (512, 512)\n"
     ]
    },
    {
     "name": "stderr",
     "output_type": "stream",
     "text": [
      "\r",
      " 97%|███████████████████████████████████████████████████████████████████████████████████████████████████▌   | 1433/1482 [1:44:30<04:05,  5.01s/it]"
     ]
    },
    {
     "name": "stdout",
     "output_type": "stream",
     "text": [
      "Image download: ../Datav2/exports/ndvi/18fe1e24-799d-4aa9-a7ec-fa8e331ae3e9_ndvi_bw.tif (512, 512)\n",
      "Image download: ../Datav2/exports/tc/d6114db7-8a39-4b86-92a5-5c3dea1f348f_tc.tif (512, 512)\n"
     ]
    },
    {
     "name": "stderr",
     "output_type": "stream",
     "text": [
      "\r",
      " 97%|███████████████████████████████████████████████████████████████████████████████████████████████████▋   | 1434/1482 [1:44:38<04:46,  5.96s/it]"
     ]
    },
    {
     "name": "stdout",
     "output_type": "stream",
     "text": [
      "Image download: ../Datav2/exports/ndvi/d6114db7-8a39-4b86-92a5-5c3dea1f348f_ndvi_bw.tif (512, 512)\n",
      "Image download: ../Datav2/exports/tc/19578ef2-6101-45b0-a82e-db3004c3a8a5_tc.tif (512, 512)\n"
     ]
    },
    {
     "name": "stderr",
     "output_type": "stream",
     "text": [
      "\r",
      " 97%|███████████████████████████████████████████████████████████████████████████████████████████████████▋   | 1435/1482 [1:44:43<04:22,  5.58s/it]"
     ]
    },
    {
     "name": "stdout",
     "output_type": "stream",
     "text": [
      "Image download: ../Datav2/exports/ndvi/19578ef2-6101-45b0-a82e-db3004c3a8a5_ndvi_bw.tif (512, 512)\n",
      "Image download: ../Datav2/exports/tc/6e93b252-99a3-4214-9921-238373b17535_tc.tif (512, 512)\n"
     ]
    },
    {
     "name": "stderr",
     "output_type": "stream",
     "text": [
      "\r",
      " 97%|███████████████████████████████████████████████████████████████████████████████████████████████████▊   | 1436/1482 [1:44:48<04:06,  5.35s/it]"
     ]
    },
    {
     "name": "stdout",
     "output_type": "stream",
     "text": [
      "Image download: ../Datav2/exports/ndvi/6e93b252-99a3-4214-9921-238373b17535_ndvi_bw.tif (512, 512)\n",
      "Image download: ../Datav2/exports/tc/8739a46c-9d9b-464c-87d0-31738601d96f_tc.tif (512, 512)\n"
     ]
    },
    {
     "name": "stderr",
     "output_type": "stream",
     "text": [
      "\r",
      " 97%|███████████████████████████████████████████████████████████████████████████████████████████████████▊   | 1437/1482 [1:44:52<03:43,  4.96s/it]"
     ]
    },
    {
     "name": "stdout",
     "output_type": "stream",
     "text": [
      "Image download: ../Datav2/exports/ndvi/8739a46c-9d9b-464c-87d0-31738601d96f_ndvi_bw.tif (512, 512)\n",
      "Image download: ../Datav2/exports/tc/7ff84b11-c3fb-4f5c-8a00-07243d4a4e33_tc.tif (512, 512)\n"
     ]
    },
    {
     "name": "stderr",
     "output_type": "stream",
     "text": [
      "\r",
      " 97%|███████████████████████████████████████████████████████████████████████████████████████████████████▉   | 1438/1482 [1:44:56<03:35,  4.90s/it]"
     ]
    },
    {
     "name": "stdout",
     "output_type": "stream",
     "text": [
      "Image download: ../Datav2/exports/ndvi/7ff84b11-c3fb-4f5c-8a00-07243d4a4e33_ndvi_bw.tif (512, 512)\n",
      "Image download: ../Datav2/exports/tc/f20ba27e-4c6c-4ca9-a356-ef88c4f788bb_tc.tif (512, 512)\n"
     ]
    },
    {
     "name": "stderr",
     "output_type": "stream",
     "text": [
      "\r",
      " 97%|████████████████████████████████████████████████████████████████████████████████████████████████████   | 1439/1482 [1:45:02<03:33,  4.97s/it]"
     ]
    },
    {
     "name": "stdout",
     "output_type": "stream",
     "text": [
      "Image download: ../Datav2/exports/ndvi/f20ba27e-4c6c-4ca9-a356-ef88c4f788bb_ndvi_bw.tif (512, 512)\n",
      "Image download: ../Datav2/exports/tc/d37acb3f-94c8-47ef-b3da-6eb0d7353aa7_tc.tif (512, 512)\n"
     ]
    },
    {
     "name": "stderr",
     "output_type": "stream",
     "text": [
      "\r",
      " 97%|████████████████████████████████████████████████████████████████████████████████████████████████████   | 1440/1482 [1:45:08<03:40,  5.25s/it]"
     ]
    },
    {
     "name": "stdout",
     "output_type": "stream",
     "text": [
      "Image download: ../Datav2/exports/ndvi/d37acb3f-94c8-47ef-b3da-6eb0d7353aa7_ndvi_bw.tif (512, 512)\n",
      "Image download: ../Datav2/exports/tc/c52717d6-0297-4c5b-a0f1-f17abcd7ac27_tc.tif (512, 512)\n"
     ]
    },
    {
     "name": "stderr",
     "output_type": "stream",
     "text": [
      "\r",
      " 97%|████████████████████████████████████████████████████████████████████████████████████████████████████▏  | 1441/1482 [1:45:12<03:25,  5.02s/it]"
     ]
    },
    {
     "name": "stdout",
     "output_type": "stream",
     "text": [
      "Image download: ../Datav2/exports/ndvi/c52717d6-0297-4c5b-a0f1-f17abcd7ac27_ndvi_bw.tif (512, 512)\n",
      "Image download: ../Datav2/exports/tc/fd21c9dc-a89f-4a29-990b-33b95ae2adc9_tc.tif (512, 512)\n"
     ]
    },
    {
     "name": "stderr",
     "output_type": "stream",
     "text": [
      "\r",
      " 97%|████████████████████████████████████████████████████████████████████████████████████████████████████▏  | 1442/1482 [1:45:17<03:20,  5.02s/it]"
     ]
    },
    {
     "name": "stdout",
     "output_type": "stream",
     "text": [
      "Image download: ../Datav2/exports/ndvi/fd21c9dc-a89f-4a29-990b-33b95ae2adc9_ndvi_bw.tif (512, 512)\n",
      "Image download: ../Datav2/exports/tc/fd1bc30a-4377-45f6-ba2b-b4e1c7e65ee7_tc.tif (512, 512)\n"
     ]
    },
    {
     "name": "stderr",
     "output_type": "stream",
     "text": [
      "\r",
      " 97%|████████████████████████████████████████████████████████████████████████████████████████████████████▎  | 1443/1482 [1:45:23<03:23,  5.21s/it]"
     ]
    },
    {
     "name": "stdout",
     "output_type": "stream",
     "text": [
      "Image download: ../Datav2/exports/ndvi/fd1bc30a-4377-45f6-ba2b-b4e1c7e65ee7_ndvi_bw.tif (512, 512)\n",
      "Image download: ../Datav2/exports/tc/451c3012-2831-44c1-8fc7-146fd02d2ce0_tc.tif (512, 512)\n"
     ]
    },
    {
     "name": "stderr",
     "output_type": "stream",
     "text": [
      "\r",
      " 97%|████████████████████████████████████████████████████████████████████████████████████████████████████▎  | 1444/1482 [1:45:30<03:46,  5.96s/it]"
     ]
    },
    {
     "name": "stdout",
     "output_type": "stream",
     "text": [
      "Image download: ../Datav2/exports/ndvi/451c3012-2831-44c1-8fc7-146fd02d2ce0_ndvi_bw.tif (512, 512)\n",
      "Image download: ../Datav2/exports/tc/02e6023e-d306-4a67-a09c-b9224b98661e_tc.tif (512, 512)\n"
     ]
    },
    {
     "name": "stderr",
     "output_type": "stream",
     "text": [
      "\r",
      " 98%|████████████████████████████████████████████████████████████████████████████████████████████████████▍  | 1445/1482 [1:45:37<03:43,  6.04s/it]"
     ]
    },
    {
     "name": "stdout",
     "output_type": "stream",
     "text": [
      "Image download: ../Datav2/exports/ndvi/02e6023e-d306-4a67-a09c-b9224b98661e_ndvi_bw.tif (512, 512)\n",
      "Image download: ../Datav2/exports/tc/72c6a0db-a014-4cd9-9788-926707ef839c_tc.tif (512, 512)\n"
     ]
    },
    {
     "name": "stderr",
     "output_type": "stream",
     "text": [
      "\r",
      " 98%|████████████████████████████████████████████████████████████████████████████████████████████████████▍  | 1446/1482 [1:45:42<03:34,  5.97s/it]"
     ]
    },
    {
     "name": "stdout",
     "output_type": "stream",
     "text": [
      "Image download: ../Datav2/exports/ndvi/72c6a0db-a014-4cd9-9788-926707ef839c_ndvi_bw.tif (512, 512)\n",
      "Image download: ../Datav2/exports/tc/8bf75401-999f-42bd-8c0a-8db508591545_tc.tif (512, 512)\n"
     ]
    },
    {
     "name": "stderr",
     "output_type": "stream",
     "text": [
      "\r",
      " 98%|████████████████████████████████████████████████████████████████████████████████████████████████████▌  | 1447/1482 [1:45:48<03:20,  5.72s/it]"
     ]
    },
    {
     "name": "stdout",
     "output_type": "stream",
     "text": [
      "Image download: ../Datav2/exports/ndvi/8bf75401-999f-42bd-8c0a-8db508591545_ndvi_bw.tif (512, 512)\n",
      "Image download: ../Datav2/exports/tc/0baff961-3ce3-45ec-80f1-a72957f2f3f4_tc.tif (512, 512)\n"
     ]
    },
    {
     "name": "stderr",
     "output_type": "stream",
     "text": [
      "\r",
      " 98%|████████████████████████████████████████████████████████████████████████████████████████████████████▋  | 1448/1482 [1:45:53<03:08,  5.53s/it]"
     ]
    },
    {
     "name": "stdout",
     "output_type": "stream",
     "text": [
      "Image download: ../Datav2/exports/ndvi/0baff961-3ce3-45ec-80f1-a72957f2f3f4_ndvi_bw.tif (512, 512)\n",
      "Image download: ../Datav2/exports/tc/2a516d14-36ce-43b0-b34c-7483759a9c84_tc.tif (512, 512)\n"
     ]
    },
    {
     "name": "stderr",
     "output_type": "stream",
     "text": [
      "\r",
      " 98%|████████████████████████████████████████████████████████████████████████████████████████████████████▋  | 1449/1482 [1:45:58<03:02,  5.53s/it]"
     ]
    },
    {
     "name": "stdout",
     "output_type": "stream",
     "text": [
      "Image download: ../Datav2/exports/ndvi/2a516d14-36ce-43b0-b34c-7483759a9c84_ndvi_bw.tif (512, 512)\n",
      "Image download: ../Datav2/exports/tc/baa2a51c-40bc-420c-9f88-db4783872d65_tc.tif (512, 512)\n"
     ]
    },
    {
     "name": "stderr",
     "output_type": "stream",
     "text": [
      "\r",
      " 98%|████████████████████████████████████████████████████████████████████████████████████████████████████▊  | 1450/1482 [1:46:07<03:29,  6.56s/it]"
     ]
    },
    {
     "name": "stdout",
     "output_type": "stream",
     "text": [
      "Image download: ../Datav2/exports/ndvi/baa2a51c-40bc-420c-9f88-db4783872d65_ndvi_bw.tif (512, 512)\n",
      "Image download: ../Datav2/exports/tc/df7805d1-682e-4a3d-b917-1bbab5e078ef_tc.tif (512, 512)\n"
     ]
    },
    {
     "name": "stderr",
     "output_type": "stream",
     "text": [
      "\r",
      " 98%|████████████████████████████████████████████████████████████████████████████████████████████████████▊  | 1451/1482 [1:46:12<03:06,  6.03s/it]"
     ]
    },
    {
     "name": "stdout",
     "output_type": "stream",
     "text": [
      "Image download: ../Datav2/exports/ndvi/df7805d1-682e-4a3d-b917-1bbab5e078ef_ndvi_bw.tif (512, 512)\n",
      "Image download: ../Datav2/exports/tc/ff8701f0-a12a-4b40-baa9-b58c4e2e31f3_tc.tif (512, 512)\n"
     ]
    },
    {
     "name": "stderr",
     "output_type": "stream",
     "text": [
      "\r",
      " 98%|████████████████████████████████████████████████████████████████████████████████████████████████████▉  | 1452/1482 [1:46:17<02:52,  5.74s/it]"
     ]
    },
    {
     "name": "stdout",
     "output_type": "stream",
     "text": [
      "Image download: ../Datav2/exports/ndvi/ff8701f0-a12a-4b40-baa9-b58c4e2e31f3_ndvi_bw.tif (512, 512)\n",
      "Image download: ../Datav2/exports/tc/6ad5dc4a-bd52-4cb4-9664-2ab606289d21_tc.tif (512, 512)\n"
     ]
    },
    {
     "name": "stderr",
     "output_type": "stream",
     "text": [
      "\r",
      " 98%|████████████████████████████████████████████████████████████████████████████████████████████████████▉  | 1453/1482 [1:46:23<02:51,  5.92s/it]"
     ]
    },
    {
     "name": "stdout",
     "output_type": "stream",
     "text": [
      "Image download: ../Datav2/exports/ndvi/6ad5dc4a-bd52-4cb4-9664-2ab606289d21_ndvi_bw.tif (512, 512)\n",
      "Image download: ../Datav2/exports/tc/24eb323e-b97f-4087-886b-7efae8937bae_tc.tif (512, 512)\n"
     ]
    },
    {
     "name": "stderr",
     "output_type": "stream",
     "text": [
      "\r",
      " 98%|█████████████████████████████████████████████████████████████████████████████████████████████████████  | 1454/1482 [1:46:28<02:34,  5.50s/it]"
     ]
    },
    {
     "name": "stdout",
     "output_type": "stream",
     "text": [
      "Image download: ../Datav2/exports/ndvi/24eb323e-b97f-4087-886b-7efae8937bae_ndvi_bw.tif (512, 512)\n",
      "Image download: ../Datav2/exports/tc/7264a106-e0f4-41de-8fd0-3f9110431e28_tc.tif (512, 512)\n"
     ]
    },
    {
     "name": "stderr",
     "output_type": "stream",
     "text": [
      "\r",
      " 98%|█████████████████████████████████████████████████████████████████████████████████████████████████████  | 1455/1482 [1:46:33<02:25,  5.39s/it]"
     ]
    },
    {
     "name": "stdout",
     "output_type": "stream",
     "text": [
      "Image download: ../Datav2/exports/ndvi/7264a106-e0f4-41de-8fd0-3f9110431e28_ndvi_bw.tif (512, 512)\n",
      "Image download: ../Datav2/exports/tc/809d101c-8aa3-4a53-bf20-f38ae7ec7941_tc.tif (512, 512)\n"
     ]
    },
    {
     "name": "stderr",
     "output_type": "stream",
     "text": [
      "\r",
      " 98%|█████████████████████████████████████████████████████████████████████████████████████████████████████▏ | 1456/1482 [1:46:41<02:40,  6.18s/it]"
     ]
    },
    {
     "name": "stdout",
     "output_type": "stream",
     "text": [
      "Image download: ../Datav2/exports/ndvi/809d101c-8aa3-4a53-bf20-f38ae7ec7941_ndvi_bw.tif (512, 512)\n",
      "Image download: ../Datav2/exports/tc/956f8cd5-f4fb-43d7-8a34-1bb5db551995_tc.tif (512, 512)\n"
     ]
    },
    {
     "name": "stderr",
     "output_type": "stream",
     "text": [
      "\r",
      " 98%|█████████████████████████████████████████████████████████████████████████████████████████████████████▎ | 1457/1482 [1:46:46<02:23,  5.75s/it]"
     ]
    },
    {
     "name": "stdout",
     "output_type": "stream",
     "text": [
      "Image download: ../Datav2/exports/ndvi/956f8cd5-f4fb-43d7-8a34-1bb5db551995_ndvi_bw.tif (512, 512)\n",
      "Image download: ../Datav2/exports/tc/16b1921b-f753-4a36-85bc-d903555f0af4_tc.tif (512, 512)\n"
     ]
    },
    {
     "name": "stderr",
     "output_type": "stream",
     "text": [
      "\r",
      " 98%|█████████████████████████████████████████████████████████████████████████████████████████████████████▎ | 1458/1482 [1:47:01<03:25,  8.57s/it]"
     ]
    },
    {
     "name": "stdout",
     "output_type": "stream",
     "text": [
      "Image download: ../Datav2/exports/ndvi/16b1921b-f753-4a36-85bc-d903555f0af4_ndvi_bw.tif (512, 512)\n",
      "Image download: ../Datav2/exports/tc/6890469e-78d7-4dac-b162-6c23498fabcc_tc.tif (512, 512)\n"
     ]
    },
    {
     "name": "stderr",
     "output_type": "stream",
     "text": [
      "\r",
      " 98%|█████████████████████████████████████████████████████████████████████████████████████████████████████▍ | 1459/1482 [1:47:06<02:52,  7.51s/it]"
     ]
    },
    {
     "name": "stdout",
     "output_type": "stream",
     "text": [
      "Image download: ../Datav2/exports/ndvi/6890469e-78d7-4dac-b162-6c23498fabcc_ndvi_bw.tif (512, 512)\n",
      "Image download: ../Datav2/exports/tc/020310d3-7834-4f57-a125-eff0eb3f54e5_tc.tif (512, 512)\n"
     ]
    },
    {
     "name": "stderr",
     "output_type": "stream",
     "text": [
      "\r",
      " 99%|█████████████████████████████████████████████████████████████████████████████████████████████████████▍ | 1460/1482 [1:47:10<02:24,  6.56s/it]"
     ]
    },
    {
     "name": "stdout",
     "output_type": "stream",
     "text": [
      "Image download: ../Datav2/exports/ndvi/020310d3-7834-4f57-a125-eff0eb3f54e5_ndvi_bw.tif (512, 512)\n",
      "Image download: ../Datav2/exports/tc/ab8109fd-e8eb-4690-9f5c-3a8c9c47ff48_tc.tif (512, 512)\n"
     ]
    },
    {
     "name": "stderr",
     "output_type": "stream",
     "text": [
      "\r",
      " 99%|█████████████████████████████████████████████████████████████████████████████████████████████████████▌ | 1461/1482 [1:47:15<02:05,  5.98s/it]"
     ]
    },
    {
     "name": "stdout",
     "output_type": "stream",
     "text": [
      "Image download: ../Datav2/exports/ndvi/ab8109fd-e8eb-4690-9f5c-3a8c9c47ff48_ndvi_bw.tif (512, 512)\n",
      "Image download: ../Datav2/exports/tc/87404846-bc30-41b8-82fe-31c9aedb9ef7_tc.tif (512, 512)\n"
     ]
    },
    {
     "name": "stderr",
     "output_type": "stream",
     "text": [
      "\r",
      " 99%|█████████████████████████████████████████████████████████████████████████████████████████████████████▌ | 1462/1482 [1:47:20<01:56,  5.84s/it]"
     ]
    },
    {
     "name": "stdout",
     "output_type": "stream",
     "text": [
      "Image download: ../Datav2/exports/ndvi/87404846-bc30-41b8-82fe-31c9aedb9ef7_ndvi_bw.tif (512, 512)\n",
      "Image download: ../Datav2/exports/tc/a6701bb9-7086-4dbc-ac5f-8c98eeb0279a_tc.tif (512, 512)\n"
     ]
    },
    {
     "name": "stderr",
     "output_type": "stream",
     "text": [
      "\r",
      " 99%|█████████████████████████████████████████████████████████████████████████████████████████████████████▋ | 1463/1482 [1:47:26<01:46,  5.63s/it]"
     ]
    },
    {
     "name": "stdout",
     "output_type": "stream",
     "text": [
      "Image download: ../Datav2/exports/ndvi/a6701bb9-7086-4dbc-ac5f-8c98eeb0279a_ndvi_bw.tif (512, 512)\n",
      "Image download: ../Datav2/exports/tc/7ff229e4-be94-4319-8916-19eb43753843_tc.tif (512, 512)\n"
     ]
    },
    {
     "name": "stderr",
     "output_type": "stream",
     "text": [
      "\r",
      " 99%|█████████████████████████████████████████████████████████████████████████████████████████████████████▋ | 1464/1482 [1:47:32<01:45,  5.85s/it]"
     ]
    },
    {
     "name": "stdout",
     "output_type": "stream",
     "text": [
      "Image download: ../Datav2/exports/ndvi/7ff229e4-be94-4319-8916-19eb43753843_ndvi_bw.tif (512, 512)\n",
      "Image download: ../Datav2/exports/tc/828b2492-fc44-4fc0-97fa-f0b439e6fa0d_tc.tif (512, 512)\n"
     ]
    },
    {
     "name": "stderr",
     "output_type": "stream",
     "text": [
      "\r",
      " 99%|█████████████████████████████████████████████████████████████████████████████████████████████████████▊ | 1465/1482 [1:47:39<01:45,  6.21s/it]"
     ]
    },
    {
     "name": "stdout",
     "output_type": "stream",
     "text": [
      "Image download: ../Datav2/exports/ndvi/828b2492-fc44-4fc0-97fa-f0b439e6fa0d_ndvi_bw.tif (512, 512)\n",
      "Image download: ../Datav2/exports/tc/d299dec7-b09f-47f7-80c9-859ddd1ecef3_tc.tif (512, 512)\n"
     ]
    },
    {
     "name": "stderr",
     "output_type": "stream",
     "text": [
      "\r",
      " 99%|█████████████████████████████████████████████████████████████████████████████████████████████████████▉ | 1466/1482 [1:47:46<01:41,  6.37s/it]"
     ]
    },
    {
     "name": "stdout",
     "output_type": "stream",
     "text": [
      "Image download: ../Datav2/exports/ndvi/d299dec7-b09f-47f7-80c9-859ddd1ecef3_ndvi_bw.tif (512, 512)\n",
      "Image download: ../Datav2/exports/tc/64104ca2-a187-4b11-bb43-e22253bbcb52_tc.tif (512, 512)\n"
     ]
    },
    {
     "name": "stderr",
     "output_type": "stream",
     "text": [
      "\r",
      " 99%|█████████████████████████████████████████████████████████████████████████████████████████████████████▉ | 1467/1482 [1:47:51<01:31,  6.12s/it]"
     ]
    },
    {
     "name": "stdout",
     "output_type": "stream",
     "text": [
      "Image download: ../Datav2/exports/ndvi/64104ca2-a187-4b11-bb43-e22253bbcb52_ndvi_bw.tif (512, 512)\n",
      "Image download: ../Datav2/exports/tc/c9f9ded3-170f-4b04-a50e-2c03153c663f_tc.tif (512, 512)\n"
     ]
    },
    {
     "name": "stderr",
     "output_type": "stream",
     "text": [
      "\r",
      " 99%|██████████████████████████████████████████████████████████████████████████████████████████████████████ | 1468/1482 [1:47:56<01:20,  5.72s/it]"
     ]
    },
    {
     "name": "stdout",
     "output_type": "stream",
     "text": [
      "Image download: ../Datav2/exports/ndvi/c9f9ded3-170f-4b04-a50e-2c03153c663f_ndvi_bw.tif (512, 512)\n",
      "Image download: ../Datav2/exports/tc/9cc1af36-29f2-4af5-afa7-23b9ce17630e_tc.tif (512, 512)\n"
     ]
    },
    {
     "name": "stderr",
     "output_type": "stream",
     "text": [
      "\r",
      " 99%|██████████████████████████████████████████████████████████████████████████████████████████████████████ | 1469/1482 [1:48:02<01:14,  5.73s/it]"
     ]
    },
    {
     "name": "stdout",
     "output_type": "stream",
     "text": [
      "Image download: ../Datav2/exports/ndvi/9cc1af36-29f2-4af5-afa7-23b9ce17630e_ndvi_bw.tif (512, 512)\n",
      "Image download: ../Datav2/exports/tc/b36ed23e-a3de-4aff-bdbc-d6ebf8d8f077_tc.tif (512, 512)\n"
     ]
    },
    {
     "name": "stderr",
     "output_type": "stream",
     "text": [
      "\r",
      " 99%|██████████████████████████████████████████████████████████████████████████████████████████████████████▏| 1470/1482 [1:48:07<01:05,  5.48s/it]"
     ]
    },
    {
     "name": "stdout",
     "output_type": "stream",
     "text": [
      "Image download: ../Datav2/exports/ndvi/b36ed23e-a3de-4aff-bdbc-d6ebf8d8f077_ndvi_bw.tif (512, 512)\n",
      "Image download: ../Datav2/exports/tc/e693477a-37d2-4aba-9e73-a63421a2b3a6_tc.tif (512, 512)\n"
     ]
    },
    {
     "name": "stderr",
     "output_type": "stream",
     "text": [
      "\r",
      " 99%|██████████████████████████████████████████████████████████████████████████████████████████████████████▏| 1471/1482 [1:48:12<00:59,  5.43s/it]"
     ]
    },
    {
     "name": "stdout",
     "output_type": "stream",
     "text": [
      "Image download: ../Datav2/exports/ndvi/e693477a-37d2-4aba-9e73-a63421a2b3a6_ndvi_bw.tif (512, 512)\n",
      "Image download: ../Datav2/exports/tc/00e6d6d5-f168-45fa-817a-f7758a5170b7_tc.tif (512, 512)\n"
     ]
    },
    {
     "name": "stderr",
     "output_type": "stream",
     "text": [
      "\r",
      " 99%|██████████████████████████████████████████████████████████████████████████████████████████████████████▎| 1472/1482 [1:48:21<01:06,  6.62s/it]"
     ]
    },
    {
     "name": "stdout",
     "output_type": "stream",
     "text": [
      "Image download: ../Datav2/exports/ndvi/00e6d6d5-f168-45fa-817a-f7758a5170b7_ndvi_bw.tif (512, 512)\n",
      "Image download: ../Datav2/exports/tc/8f23653c-1a4c-4609-bfb3-72b1665eab69_tc.tif (512, 512)\n"
     ]
    },
    {
     "name": "stderr",
     "output_type": "stream",
     "text": [
      "\r",
      " 99%|██████████████████████████████████████████████████████████████████████████████████████████████████████▎| 1473/1482 [1:48:26<00:55,  6.13s/it]"
     ]
    },
    {
     "name": "stdout",
     "output_type": "stream",
     "text": [
      "Image download: ../Datav2/exports/ndvi/8f23653c-1a4c-4609-bfb3-72b1665eab69_ndvi_bw.tif (512, 512)\n",
      "Image download: ../Datav2/exports/tc/e59fa47f-0f47-49a9-a2c5-092cfaf68ed5_tc.tif (512, 512)\n"
     ]
    },
    {
     "name": "stderr",
     "output_type": "stream",
     "text": [
      "\r",
      " 99%|██████████████████████████████████████████████████████████████████████████████████████████████████████▍| 1474/1482 [1:48:33<00:49,  6.18s/it]"
     ]
    },
    {
     "name": "stdout",
     "output_type": "stream",
     "text": [
      "Image download: ../Datav2/exports/ndvi/e59fa47f-0f47-49a9-a2c5-092cfaf68ed5_ndvi_bw.tif (512, 512)\n",
      "Image download: ../Datav2/exports/tc/e471b23c-f00c-44bc-afc1-6ab02b0af4c3_tc.tif (512, 512)\n"
     ]
    },
    {
     "name": "stderr",
     "output_type": "stream",
     "text": [
      "\r",
      "100%|██████████████████████████████████████████████████████████████████████████████████████████████████████▌| 1475/1482 [1:48:38<00:40,  5.79s/it]"
     ]
    },
    {
     "name": "stdout",
     "output_type": "stream",
     "text": [
      "Image download: ../Datav2/exports/ndvi/e471b23c-f00c-44bc-afc1-6ab02b0af4c3_ndvi_bw.tif (512, 512)\n",
      "Image download: ../Datav2/exports/tc/dfc32e06-b88e-4d30-ae3d-22bc18792f5e_tc.tif (512, 512)\n"
     ]
    },
    {
     "name": "stderr",
     "output_type": "stream",
     "text": [
      "\r",
      "100%|██████████████████████████████████████████████████████████████████████████████████████████████████████▌| 1476/1482 [1:48:42<00:32,  5.42s/it]"
     ]
    },
    {
     "name": "stdout",
     "output_type": "stream",
     "text": [
      "Image download: ../Datav2/exports/ndvi/dfc32e06-b88e-4d30-ae3d-22bc18792f5e_ndvi_bw.tif (512, 512)\n",
      "Image download: ../Datav2/exports/tc/31852a71-e639-496f-9e7d-0968d1c218b3_tc.tif (512, 512)\n"
     ]
    },
    {
     "name": "stderr",
     "output_type": "stream",
     "text": [
      "\r",
      "100%|██████████████████████████████████████████████████████████████████████████████████████████████████████▋| 1477/1482 [1:48:49<00:29,  5.81s/it]"
     ]
    },
    {
     "name": "stdout",
     "output_type": "stream",
     "text": [
      "Image download: ../Datav2/exports/ndvi/31852a71-e639-496f-9e7d-0968d1c218b3_ndvi_bw.tif (512, 512)\n",
      "Image download: ../Datav2/exports/tc/305f30f5-622d-4c55-8813-45ffbc15aed0_tc.tif (512, 512)\n"
     ]
    },
    {
     "name": "stderr",
     "output_type": "stream",
     "text": [
      "\r",
      "100%|██████████████████████████████████████████████████████████████████████████████████████████████████████▋| 1478/1482 [1:48:54<00:22,  5.50s/it]"
     ]
    },
    {
     "name": "stdout",
     "output_type": "stream",
     "text": [
      "Image download: ../Datav2/exports/ndvi/305f30f5-622d-4c55-8813-45ffbc15aed0_ndvi_bw.tif (512, 512)\n",
      "Image download: ../Datav2/exports/tc/69d98a94-4980-4dc0-b388-61c37c635f32_tc.tif (512, 512)\n"
     ]
    },
    {
     "name": "stderr",
     "output_type": "stream",
     "text": [
      "\r",
      "100%|██████████████████████████████████████████████████████████████████████████████████████████████████████▊| 1479/1482 [1:49:02<00:18,  6.26s/it]"
     ]
    },
    {
     "name": "stdout",
     "output_type": "stream",
     "text": [
      "Image download: ../Datav2/exports/ndvi/69d98a94-4980-4dc0-b388-61c37c635f32_ndvi_bw.tif (512, 512)\n",
      "Image download: ../Datav2/exports/tc/600d608d-6279-435d-bc9b-99aacaa5e80f_tc.tif (512, 512)\n"
     ]
    },
    {
     "name": "stderr",
     "output_type": "stream",
     "text": [
      "\r",
      "100%|██████████████████████████████████████████████████████████████████████████████████████████████████████▊| 1480/1482 [1:49:09<00:12,  6.49s/it]"
     ]
    },
    {
     "name": "stdout",
     "output_type": "stream",
     "text": [
      "Image download: ../Datav2/exports/ndvi/600d608d-6279-435d-bc9b-99aacaa5e80f_ndvi_bw.tif (512, 512)\n",
      "Image download: ../Datav2/exports/tc/9c26f915-1b33-422d-b30a-9eb4da6fd729_tc.tif (512, 512)\n"
     ]
    },
    {
     "name": "stderr",
     "output_type": "stream",
     "text": [
      "\r",
      "100%|██████████████████████████████████████████████████████████████████████████████████████████████████████▉| 1481/1482 [1:49:14<00:06,  6.18s/it]"
     ]
    },
    {
     "name": "stdout",
     "output_type": "stream",
     "text": [
      "Image download: ../Datav2/exports/ndvi/9c26f915-1b33-422d-b30a-9eb4da6fd729_ndvi_bw.tif (512, 512)\n",
      "Image download: ../Datav2/exports/tc/77d64e4c-a50f-4f4d-a750-e6a6f0ddadc9_tc.tif (512, 512)\n"
     ]
    },
    {
     "name": "stderr",
     "output_type": "stream",
     "text": [
      "\r",
      "100%|███████████████████████████████████████████████████████████████████████████████████████████████████████| 1482/1482 [1:49:20<00:00,  6.10s/it]"
     ]
    },
    {
     "name": "stdout",
     "output_type": "stream",
     "text": [
      "Image download: ../Datav2/exports/ndvi/77d64e4c-a50f-4f4d-a750-e6a6f0ddadc9_ndvi_bw.tif (512, 512)\n",
      "Image download: ../Datav2/exports/tc/7555692b-f672-4660-8f15-d0dab068a193_tc.tif (512, 512)\n"
     ]
    },
    {
     "name": "stderr",
     "output_type": "stream",
     "text": [
      "\r",
      "100%|███████████████████████████████████████████████████████████████████████████████████████████████████████| 1482/1482 [1:49:26<00:00,  4.43s/it]"
     ]
    },
    {
     "name": "stdout",
     "output_type": "stream",
     "text": [
      "Image download: ../Datav2/exports/ndvi/7555692b-f672-4660-8f15-d0dab068a193_ndvi_bw.tif (512, 512)\n"
     ]
    },
    {
     "name": "stderr",
     "output_type": "stream",
     "text": [
      "\n"
     ]
    },
    {
     "data": {
      "text/plain": [
       "1261    None\n",
       "1019    None\n",
       "41      None\n",
       "147     None\n",
       "50      None\n",
       "        ... \n",
       "1412    None\n",
       "1532    None\n",
       "1633    None\n",
       "1375    None\n",
       "1410    None\n",
       "Length: 1482, dtype: object"
      ]
     },
     "execution_count": 34,
     "metadata": {},
     "output_type": "execute_result"
    }
   ],
   "source": [
    "base_dir = \"../Datav2\"\n",
    "find_or_create_download_dirs(base_dir=base_dir)\n",
    "wildfires_sm_df.progress_apply(lambda row: retrieve_set(row, base_dir), axis=1)"
   ]
  },
  {
   "cell_type": "markdown",
   "id": "9b7acbcd",
   "metadata": {},
   "source": [
    "## Calculate NDVI Summary Stats"
   ]
  },
  {
   "cell_type": "code",
   "execution_count": 41,
   "id": "dbc10d6b",
   "metadata": {},
   "outputs": [],
   "source": [
    "import os\n",
    "import rasterio\n",
    "\n",
    "import warnings\n",
    "from rasterio.errors import NotGeoreferencedWarning\n",
    "\n",
    "\n",
    "def get_ndvi_stats(file_path):\n",
    "    with warnings.catch_warnings():\n",
    "        warnings.simplefilter(\"ignore\", NotGeoreferencedWarning)\n",
    "        with rasterio.open(file_path) as src:\n",
    "            band = src.read(1)  # Read the first band\n",
    "            # Normalize to [0, 1]\n",
    "            normalized_band = band / 255.0\n",
    "            # Scale to [-1, 1]\n",
    "            ndvi_band = normalized_band * 2 - 1\n",
    "            min_value = ndvi_band.min()\n",
    "            max_value = ndvi_band.max()\n",
    "            mean_value = ndvi_band.mean()\n",
    "    return min_value, max_value, mean_value\n",
    "\n",
    "\n",
    "\n",
    "def get_ndvi_stats_and_distribution(file_path):\n",
    "    with warnings.catch_warnings():\n",
    "        warnings.simplefilter(\"ignore\", NotGeoreferencedWarning)\n",
    "        with rasterio.open(file_path) as src:\n",
    "            band = src.read(1)  # Read the first band\n",
    "            total_pixels = band.size\n",
    "\n",
    "            # Normalize to [0, 1]\n",
    "            normalized_band = band / 255.0\n",
    "            # Scale to [-1, 1]\n",
    "            ndvi_band = normalized_band * 2 - 1\n",
    "\n",
    "            # Calculate the average NDVI value\n",
    "            mean_ndvi = ndvi_band.mean()\n",
    "            \n",
    "            # Calculate the number of pixels in each NDVI range\n",
    "            ndvi_counts = {\n",
    "                # Water, snow, non-vegetated surfaces\n",
    "                'range_-1_0': np.sum((ndvi_band >= -1) & (ndvi_band < 0)),\n",
    "                # Bare soil, sparse vegetation, or very stressed/dying vegetation\n",
    "                'range_0_0.2': np.sum((ndvi_band >= 0) & (ndvi_band < 0.2)),\n",
    "                # Moderate vegetation cover, which can include stressed or dying vegetation\n",
    "                'range_0.2_0.5': np.sum((ndvi_band >= 0.2) & (ndvi_band < 0.5)),\n",
    "                # Dense vegetation\n",
    "                'range_0.5_1': np.sum((ndvi_band >= 0.5) & (ndvi_band <= 1)),\n",
    "            }\n",
    "\n",
    "            # Calculate the percentage of pixels in each range\n",
    "            ndvi_percentages = {key: (value / total_pixels) * 100 for key, value in ndvi_counts.items()}\n",
    "            \n",
    "            # Calculate vegetated pixels statistics\n",
    "            vegetated_pixels = np.sum(ndvi_band > 0)\n",
    "            vegetated_below_0_5 = np.sum((ndvi_band > 0) & (ndvi_band < 0.5))\n",
    "            if vegetated_pixels > 0:\n",
    "                percent_vegetated_below_0_5 = (vegetated_below_0_5 / vegetated_pixels) * 100\n",
    "            else:\n",
    "                percent_vegetated_below_0_5 = 0.0\n",
    "            \n",
    "            ndvi_percentages['percent_vegetated_below_0.5'] = percent_vegetated_below_0_5\n",
    "\n",
    "    return mean_ndvi, ndvi_percentages\n",
    "\n",
    "\n",
    "def process_ndvi_files(directory):\n",
    "    data = []\n",
    "    for filename in os.listdir(directory):\n",
    "        if filename.endswith(\"_ndvi_bw.tif\"):\n",
    "            file_path = os.path.join(directory, filename)\n",
    "            mean_ndvi, ndvi_distribution = get_ndvi_stats_and_distribution(file_path)\n",
    "            ndvi_distribution['file_name'] = filename\n",
    "            ndvi_distribution['UniqueId'] = filename.split(\"_\")[0]\n",
    "            ndvi_distribution['average_ndvi'] = mean_ndvi\n",
    "            data.append(ndvi_distribution)\n",
    "    \n",
    "    df = pd.DataFrame(data)\n",
    "    return df\n",
    "\n",
    "directory_path = os.path.abspath(\"../Datav2/exports/ndvi\")\n",
    "ndvi_df = process_ndvi_files(directory_path)"
   ]
  },
  {
   "cell_type": "code",
   "execution_count": 44,
   "id": "aa321567",
   "metadata": {},
   "outputs": [
    {
     "data": {
      "text/html": [
       "<div>\n",
       "<style scoped>\n",
       "    .dataframe tbody tr th:only-of-type {\n",
       "        vertical-align: middle;\n",
       "    }\n",
       "\n",
       "    .dataframe tbody tr th {\n",
       "        vertical-align: top;\n",
       "    }\n",
       "\n",
       "    .dataframe thead th {\n",
       "        text-align: right;\n",
       "    }\n",
       "</style>\n",
       "<table border=\"1\" class=\"dataframe\">\n",
       "  <thead>\n",
       "    <tr style=\"text-align: right;\">\n",
       "      <th></th>\n",
       "      <th>range_-1_0</th>\n",
       "      <th>range_0_0.2</th>\n",
       "      <th>range_0.2_0.5</th>\n",
       "      <th>range_0.5_1</th>\n",
       "      <th>percent_vegetated_below_0.5</th>\n",
       "      <th>file_name</th>\n",
       "      <th>UniqueId</th>\n",
       "      <th>average_ndvi</th>\n",
       "    </tr>\n",
       "  </thead>\n",
       "  <tbody>\n",
       "    <tr>\n",
       "      <th>0</th>\n",
       "      <td>0.121689</td>\n",
       "      <td>67.267227</td>\n",
       "      <td>31.092072</td>\n",
       "      <td>1.519012</td>\n",
       "      <td>98.479137</td>\n",
       "      <td>79fd7b45-381a-4819-9dc7-f80a98010809_ndvi_bw.tif</td>\n",
       "      <td>79fd7b45-381a-4819-9dc7-f80a98010809</td>\n",
       "      <td>0.203354</td>\n",
       "    </tr>\n",
       "    <tr>\n",
       "      <th>1</th>\n",
       "      <td>6.356049</td>\n",
       "      <td>65.796661</td>\n",
       "      <td>21.739960</td>\n",
       "      <td>6.107330</td>\n",
       "      <td>93.478137</td>\n",
       "      <td>4affde91-31a9-4588-bf14-7201fc5c548b_ndvi_bw.tif</td>\n",
       "      <td>4affde91-31a9-4588-bf14-7201fc5c548b</td>\n",
       "      <td>0.184760</td>\n",
       "    </tr>\n",
       "    <tr>\n",
       "      <th>2</th>\n",
       "      <td>0.164032</td>\n",
       "      <td>38.648605</td>\n",
       "      <td>56.056976</td>\n",
       "      <td>5.130386</td>\n",
       "      <td>94.861184</td>\n",
       "      <td>a3bd6249-555a-4ee1-99c0-69333d71bdfb_ndvi_bw.tif</td>\n",
       "      <td>a3bd6249-555a-4ee1-99c0-69333d71bdfb</td>\n",
       "      <td>0.278554</td>\n",
       "    </tr>\n",
       "    <tr>\n",
       "      <th>3</th>\n",
       "      <td>0.006485</td>\n",
       "      <td>2.540970</td>\n",
       "      <td>71.410370</td>\n",
       "      <td>26.042175</td>\n",
       "      <td>73.956136</td>\n",
       "      <td>297d6516-ce4f-407d-93f8-9669dc6fd392_ndvi_bw.tif</td>\n",
       "      <td>297d6516-ce4f-407d-93f8-9669dc6fd392</td>\n",
       "      <td>0.425631</td>\n",
       "    </tr>\n",
       "    <tr>\n",
       "      <th>4</th>\n",
       "      <td>0.008392</td>\n",
       "      <td>76.215363</td>\n",
       "      <td>23.432541</td>\n",
       "      <td>0.343704</td>\n",
       "      <td>99.656267</td>\n",
       "      <td>947aab39-3d8a-4841-8fc3-d129d8bbf6a3_ndvi_bw.tif</td>\n",
       "      <td>947aab39-3d8a-4841-8fc3-d129d8bbf6a3</td>\n",
       "      <td>0.185119</td>\n",
       "    </tr>\n",
       "    <tr>\n",
       "      <th>...</th>\n",
       "      <td>...</td>\n",
       "      <td>...</td>\n",
       "      <td>...</td>\n",
       "      <td>...</td>\n",
       "      <td>...</td>\n",
       "      <td>...</td>\n",
       "      <td>...</td>\n",
       "      <td>...</td>\n",
       "    </tr>\n",
       "    <tr>\n",
       "      <th>1123</th>\n",
       "      <td>0.008392</td>\n",
       "      <td>30.885315</td>\n",
       "      <td>68.532944</td>\n",
       "      <td>0.573349</td>\n",
       "      <td>99.426603</td>\n",
       "      <td>54bad310-3a96-4019-b64d-61d00c559e6c_ndvi_bw.tif</td>\n",
       "      <td>54bad310-3a96-4019-b64d-61d00c559e6c</td>\n",
       "      <td>0.243718</td>\n",
       "    </tr>\n",
       "    <tr>\n",
       "      <th>1124</th>\n",
       "      <td>0.283432</td>\n",
       "      <td>52.927399</td>\n",
       "      <td>38.295746</td>\n",
       "      <td>8.493423</td>\n",
       "      <td>91.482435</td>\n",
       "      <td>bc95da49-28a0-4e56-88d9-72e7455063c0_ndvi_bw.tif</td>\n",
       "      <td>bc95da49-28a0-4e56-88d9-72e7455063c0</td>\n",
       "      <td>0.244520</td>\n",
       "    </tr>\n",
       "    <tr>\n",
       "      <th>1125</th>\n",
       "      <td>1.848984</td>\n",
       "      <td>28.989029</td>\n",
       "      <td>64.981079</td>\n",
       "      <td>4.180908</td>\n",
       "      <td>95.740331</td>\n",
       "      <td>e0de216a-9544-43ad-9b9f-bc05247f0550_ndvi_bw.tif</td>\n",
       "      <td>e0de216a-9544-43ad-9b9f-bc05247f0550</td>\n",
       "      <td>0.281137</td>\n",
       "    </tr>\n",
       "    <tr>\n",
       "      <th>1126</th>\n",
       "      <td>0.012207</td>\n",
       "      <td>66.244125</td>\n",
       "      <td>31.566620</td>\n",
       "      <td>2.177048</td>\n",
       "      <td>97.822686</td>\n",
       "      <td>02ebd2cc-c4da-4508-92f6-30446d041ae9_ndvi_bw.tif</td>\n",
       "      <td>02ebd2cc-c4da-4508-92f6-30446d041ae9</td>\n",
       "      <td>0.201187</td>\n",
       "    </tr>\n",
       "    <tr>\n",
       "      <th>1127</th>\n",
       "      <td>0.115585</td>\n",
       "      <td>31.916428</td>\n",
       "      <td>63.611221</td>\n",
       "      <td>4.356766</td>\n",
       "      <td>95.638193</td>\n",
       "      <td>45699833-fa34-4eed-9520-8c8019426122_ndvi_bw.tif</td>\n",
       "      <td>45699833-fa34-4eed-9520-8c8019426122</td>\n",
       "      <td>0.269150</td>\n",
       "    </tr>\n",
       "  </tbody>\n",
       "</table>\n",
       "<p>1128 rows × 8 columns</p>\n",
       "</div>"
      ],
      "text/plain": [
       "      range_-1_0  range_0_0.2  range_0.2_0.5  range_0.5_1  \\\n",
       "0       0.121689    67.267227      31.092072     1.519012   \n",
       "1       6.356049    65.796661      21.739960     6.107330   \n",
       "2       0.164032    38.648605      56.056976     5.130386   \n",
       "3       0.006485     2.540970      71.410370    26.042175   \n",
       "4       0.008392    76.215363      23.432541     0.343704   \n",
       "...          ...          ...            ...          ...   \n",
       "1123    0.008392    30.885315      68.532944     0.573349   \n",
       "1124    0.283432    52.927399      38.295746     8.493423   \n",
       "1125    1.848984    28.989029      64.981079     4.180908   \n",
       "1126    0.012207    66.244125      31.566620     2.177048   \n",
       "1127    0.115585    31.916428      63.611221     4.356766   \n",
       "\n",
       "      percent_vegetated_below_0.5  \\\n",
       "0                       98.479137   \n",
       "1                       93.478137   \n",
       "2                       94.861184   \n",
       "3                       73.956136   \n",
       "4                       99.656267   \n",
       "...                           ...   \n",
       "1123                    99.426603   \n",
       "1124                    91.482435   \n",
       "1125                    95.740331   \n",
       "1126                    97.822686   \n",
       "1127                    95.638193   \n",
       "\n",
       "                                             file_name  \\\n",
       "0     79fd7b45-381a-4819-9dc7-f80a98010809_ndvi_bw.tif   \n",
       "1     4affde91-31a9-4588-bf14-7201fc5c548b_ndvi_bw.tif   \n",
       "2     a3bd6249-555a-4ee1-99c0-69333d71bdfb_ndvi_bw.tif   \n",
       "3     297d6516-ce4f-407d-93f8-9669dc6fd392_ndvi_bw.tif   \n",
       "4     947aab39-3d8a-4841-8fc3-d129d8bbf6a3_ndvi_bw.tif   \n",
       "...                                                ...   \n",
       "1123  54bad310-3a96-4019-b64d-61d00c559e6c_ndvi_bw.tif   \n",
       "1124  bc95da49-28a0-4e56-88d9-72e7455063c0_ndvi_bw.tif   \n",
       "1125  e0de216a-9544-43ad-9b9f-bc05247f0550_ndvi_bw.tif   \n",
       "1126  02ebd2cc-c4da-4508-92f6-30446d041ae9_ndvi_bw.tif   \n",
       "1127  45699833-fa34-4eed-9520-8c8019426122_ndvi_bw.tif   \n",
       "\n",
       "                                  UniqueId  average_ndvi  \n",
       "0     79fd7b45-381a-4819-9dc7-f80a98010809      0.203354  \n",
       "1     4affde91-31a9-4588-bf14-7201fc5c548b      0.184760  \n",
       "2     a3bd6249-555a-4ee1-99c0-69333d71bdfb      0.278554  \n",
       "3     297d6516-ce4f-407d-93f8-9669dc6fd392      0.425631  \n",
       "4     947aab39-3d8a-4841-8fc3-d129d8bbf6a3      0.185119  \n",
       "...                                    ...           ...  \n",
       "1123  54bad310-3a96-4019-b64d-61d00c559e6c      0.243718  \n",
       "1124  bc95da49-28a0-4e56-88d9-72e7455063c0      0.244520  \n",
       "1125  e0de216a-9544-43ad-9b9f-bc05247f0550      0.281137  \n",
       "1126  02ebd2cc-c4da-4508-92f6-30446d041ae9      0.201187  \n",
       "1127  45699833-fa34-4eed-9520-8c8019426122      0.269150  \n",
       "\n",
       "[1128 rows x 8 columns]"
      ]
     },
     "execution_count": 44,
     "metadata": {},
     "output_type": "execute_result"
    }
   ],
   "source": [
    "ndvi_df"
   ]
  },
  {
   "cell_type": "code",
   "execution_count": 45,
   "id": "7ada347e",
   "metadata": {},
   "outputs": [],
   "source": [
    "ndvi_df[['UniqueId', 'average_ndvi', 'range_-1_0', 'range_0_0.2', 'range_0.2_0.5', 'range_0.5_1',\n",
    "         'percent_vegetated_below_0.5']].to_csv(os.path.join(\n",
    "    directory_path, \"ndvi_summary_stats.csv\"), index=False)"
   ]
  },
  {
   "cell_type": "code",
   "execution_count": null,
   "id": "e2cc1dcc",
   "metadata": {},
   "outputs": [],
   "source": []
  }
 ],
 "metadata": {
  "kernelspec": {
   "display_name": "Python 3 (ipykernel)",
   "language": "python",
   "name": "python3"
  },
  "language_info": {
   "codemirror_mode": {
    "name": "ipython",
    "version": 3
   },
   "file_extension": ".py",
   "mimetype": "text/x-python",
   "name": "python",
   "nbconvert_exporter": "python",
   "pygments_lexer": "ipython3",
   "version": "3.10.11"
  }
 },
 "nbformat": 4,
 "nbformat_minor": 5
}
